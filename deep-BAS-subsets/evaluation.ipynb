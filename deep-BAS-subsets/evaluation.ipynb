{
 "cells": [
  {
   "cell_type": "code",
   "execution_count": 1,
   "id": "fa04a1bf-b947-42fd-b5d9-2aa719197e00",
   "metadata": {},
   "outputs": [],
   "source": [
    "import numpy as np\n",
    "\n",
    "from dmipy.core.acquisition_scheme import acquisition_scheme_from_bvalues\n",
    "from dmipy.signal_models import cylinder_models, gaussian_models\n",
    "from dmipy.core.modeling_framework import MultiCompartmentModel\n",
    "\n",
    "import matplotlib.pyplot as plt\n",
    "import matplotlib\n",
    "\n",
    "import torch\n",
    "import torch.nn as nn\n",
    "import torch.optim as optim\n",
    "import torch.utils.data as utils\n",
    "from tqdm import tqdm\n",
    "\n",
    "import process_data\n",
    "import config\n",
    "import network"
   ]
  },
  {
   "cell_type": "code",
   "execution_count": 2,
   "id": "8d27968f-183c-48b5-982b-d137f62bc4df",
   "metadata": {
    "tags": []
   },
   "outputs": [],
   "source": [
    "scan_100307 = process_data.get_nifti_data(config.data_folder2 + '/100307/data.nii.gz')\n",
    "mask_100307 = process_data.get_nifti_data(config.data_folder2 + '/100307/nodif_brain_mask.nii.gz')\n",
    "mask_100307_long_pro = process_data.get_mask_pro(scan_100307, mask_100307)"
   ]
  },
  {
   "cell_type": "code",
   "execution_count": 3,
   "id": "88b05ca6-e5b9-4190-bd88-bf79a110cf2a",
   "metadata": {},
   "outputs": [],
   "source": [
    "normalized_scan_100307_full = np.load(config.norm_data_path + '/normalized_scan_100307_full.npy')"
   ]
  },
  {
   "cell_type": "code",
   "execution_count": 4,
   "id": "2f2b96f5-2890-4bd2-85d0-5e5f7fdbd366",
   "metadata": {},
   "outputs": [],
   "source": [
    "bvals_all_100307 = np.loadtxt(config.data_folder2 + '/100307/bvals')"
   ]
  },
  {
   "cell_type": "code",
   "execution_count": 212,
   "id": "33509016-c6e9-44e1-b782-f6f31b25226e",
   "metadata": {
    "tags": []
   },
   "outputs": [],
   "source": [
    "selected_indice = [  0,   1,   2,   3,   4,   5,   6,   7,   8,   9,  10,  11,  12,\n",
    "        13,  14,  15,  16,  17,  18,  19,  20,  21,  22,  23,  24,  25,\n",
    "        26,  27,  28,  29,  30,  31,  48,  49,  50,  51,  52,  53,  54,\n",
    "        55,  56,  57,  58,  59,  60,  61,  62,  63,  64,  65,  66,  67,\n",
    "        68,  69,  70,  71,  72,  73,  74,  75,  76,  77,  78,  79,  80,\n",
    "        81,  82,  83,  84,  85,  86,  87,  88,  89,  90,  91,  92,  93,\n",
    "        94,  95,  96,  97,  98,  99, 100, 101, 102, 103, 104, 105, 106,\n",
    "       107, 108, 109, 110, 111, 112, 113, 114, 115, 116, 117, 118, 119,\n",
    "       120, 121, 122, 123, 124, 125, 126, 127, 128, 129, 130, 131, 132,\n",
    "       133, 134, 135, 136, 137, 138, 139, 140, 141, 142, 143, 160, 161,\n",
    "       162, 163, 164, 165, 166, 167, 168, 169, 170, 171, 172, 173, 174,\n",
    "       175, 176, 177, 178, 179, 180, 181, 182, 183, 184, 185, 186, 187,\n",
    "       188, 189, 190, 208, 209, 210, 211, 212, 213, 214, 215, 216, 217,\n",
    "       218, 219, 220, 221, 222, 223, 224, 225, 226, 227, 228, 229, 230,\n",
    "       231, 232, 233, 234, 235, 236, 237, 238, 239, 256, 257, 258, 259,\n",
    "       260, 261, 262, 263, 264, 265, 266, 267, 268, 269, 270, 271]"
   ]
  },
  {
   "cell_type": "code",
   "execution_count": 213,
   "id": "fb01656b-8781-4630-a747-db47b8a7c888",
   "metadata": {},
   "outputs": [],
   "source": [
    "bvals_100307_selected = bvals_all_100307[selected_indice]*1e-3"
   ]
  },
  {
   "cell_type": "code",
   "execution_count": 214,
   "id": "3e1b16d3-8fee-4092-b975-93697e67ee37",
   "metadata": {},
   "outputs": [],
   "source": [
    "normalized_scan_100307_sub = normalized_scan_100307_full[:,selected_indice]"
   ]
  },
  {
   "cell_type": "code",
   "execution_count": 215,
   "id": "161ef3e4-0130-404d-8ede-055e1f3d9005",
   "metadata": {},
   "outputs": [],
   "source": [
    "big_b_bvals_100307_selected = np.where(bvals_100307_selected != 0.005)[0]"
   ]
  },
  {
   "cell_type": "code",
   "execution_count": 216,
   "id": "1e09f2d4-e134-41b6-8e26-29f5f1318272",
   "metadata": {},
   "outputs": [],
   "source": [
    "normalized_scan_100307_sub_no_b5 = normalized_scan_100307_sub[:, big_b_bvals_100307_selected]\n",
    "bvals_100307_selected_no_5 = bvals_100307_selected[big_b_bvals_100307_selected]"
   ]
  },
  {
   "cell_type": "code",
   "execution_count": 217,
   "id": "c1a50880-7ee1-44de-bcbc-30d95936187b",
   "metadata": {},
   "outputs": [
    {
     "name": "stdout",
     "output_type": "stream",
     "text": [
      "(194, 3)\n"
     ]
    }
   ],
   "source": [
    "n_all_100307 = np.loadtxt(config.data_folder2 + '/100307/bvecs')\n",
    "n_100307_sub = n_all_100307[:,selected_indice]\n",
    "n_100307_sub_no_b5 = n_100307_sub[:,big_b_bvals_100307_selected].T\n",
    "print(n_100307_sub_no_b5.shape)\n",
    "\n",
    "b_values_100307_sub = torch.FloatTensor(bvals_100307_selected_no_5)\n",
    "gradient_directions_100307_sub = torch.FloatTensor(n_100307_sub_no_b5)"
   ]
  },
  {
   "cell_type": "code",
   "execution_count": 218,
   "id": "8d627dc6-c1a9-478d-8725-f5213910b88b",
   "metadata": {},
   "outputs": [
    {
     "data": {
      "text/plain": [
       "BallStickNet(\n",
       "  (fc_layers): ModuleList(\n",
       "    (0): Linear(in_features=194, out_features=194, bias=True)\n",
       "    (1): ELU(alpha=1.0)\n",
       "    (2): Linear(in_features=194, out_features=194, bias=True)\n",
       "    (3): ELU(alpha=1.0)\n",
       "    (4): Linear(in_features=194, out_features=194, bias=True)\n",
       "    (5): ELU(alpha=1.0)\n",
       "  )\n",
       "  (encoder): Sequential(\n",
       "    (0): Linear(in_features=194, out_features=194, bias=True)\n",
       "    (1): ELU(alpha=1.0)\n",
       "    (2): Linear(in_features=194, out_features=194, bias=True)\n",
       "    (3): ELU(alpha=1.0)\n",
       "    (4): Linear(in_features=194, out_features=194, bias=True)\n",
       "    (5): ELU(alpha=1.0)\n",
       "    (6): Linear(in_features=194, out_features=5, bias=True)\n",
       "  )\n",
       ")"
      ]
     },
     "execution_count": 218,
     "metadata": {},
     "output_type": "execute_result"
    }
   ],
   "source": [
    "net = network.BallStickNet(gradient_directions_100307_sub, b_values_100307_sub)\n",
    "net.load_state_dict(torch.load(\"/Users/weiwenhua/UGY4/COMP0029/COMP0029-Project/deep-BAS-subsets/Models/model_100206_13g_06.pt\"))\n",
    "net.eval()"
   ]
  },
  {
   "cell_type": "code",
   "execution_count": 219,
   "id": "0e04aeb0-0f86-4a18-8dd6-368de3344bf4",
   "metadata": {},
   "outputs": [],
   "source": [
    "X_100307_pred, theta_100307_pred, phi_100307_pred, mu_cart_100307_pred, lambda_par_100307_pred, lambda_iso_100307_pred,  volume_0_100307_pred, volume_1_100307_pred = net(torch.from_numpy(normalized_scan_100307_sub_no_b5.astype(np.float32)))"
   ]
  },
  {
   "cell_type": "code",
   "execution_count": 220,
   "id": "a33a96db-7949-4ffb-9fac-bd86866a0325",
   "metadata": {},
   "outputs": [
    {
     "data": {
      "text/plain": [
       "<matplotlib.colorbar.Colorbar at 0x1d124f9a0>"
      ]
     },
     "execution_count": 220,
     "metadata": {},
     "output_type": "execute_result"
    },
    {
     "data": {
      "image/png": "[encoded data removed]",
      "text/plain": [
       "<Figure size 640x480 with 2 Axes>"
      ]
     },
     "metadata": {},
     "output_type": "display_data"
    }
   ],
   "source": [
    "lambda_par_100307_pred_3d = process_data.back_to_3D(mask_100307_long_pro, lambda_par_100307_pred, (145, 174, 145))\n",
    "im = plt.imshow(lambda_par_100307_pred_3d[:,:,70].squeeze().T, origin='lower', interpolation='nearest', cmap=matplotlib.colormaps[\"hot\"], vmin = 0, vmax = 3)\n",
    "plt.colorbar(im)"
   ]
  },
  {
   "cell_type": "code",
   "execution_count": 221,
   "id": "2996d75a-688d-4f9d-a08c-4473025cd5e9",
   "metadata": {},
   "outputs": [
    {
     "data": {
      "text/plain": [
       "<matplotlib.colorbar.Colorbar at 0x1d1323df0>"
      ]
     },
     "execution_count": 221,
     "metadata": {},
     "output_type": "execute_result"
    },
    {
     "data": {
      "image/png": "[encoded data removed]",
      "text/plain": [
       "<Figure size 640x480 with 2 Axes>"
      ]
     },
     "metadata": {},
     "output_type": "display_data"
    }
   ],
   "source": [
    "lambda_iso_100307_pred_3d = process_data.back_to_3D(mask_100307_long_pro, lambda_iso_100307_pred, (145, 174, 145))\n",
    "im = plt.imshow(lambda_iso_100307_pred_3d[:,:,70].squeeze().T, origin='lower', interpolation='nearest', cmap=matplotlib.colormaps[\"hot\"], vmin = 0, vmax = 3)\n",
    "plt.colorbar(im)"
   ]
  },
  {
   "cell_type": "markdown",
   "id": "4e65f946-6fbe-462b-9419-d0b45ecd5f7c",
   "metadata": {},
   "source": [
    "Golden standard"
   ]
  },
  {
   "cell_type": "code",
   "execution_count": 16,
   "id": "6e386f2b-2cef-4d6a-98eb-e28a70bda07d",
   "metadata": {},
   "outputs": [],
   "source": [
    "big_b_indices_100307 = np.where(bvals_all_100307 != 5.)[0]"
   ]
  },
  {
   "cell_type": "code",
   "execution_count": 17,
   "id": "1ad90c98-ddaf-4821-901a-32863e069272",
   "metadata": {},
   "outputs": [],
   "source": [
    "bvals_100307_no_b5 = bvals_all_100307[big_b_indices_100307]*1e-3"
   ]
  },
  {
   "cell_type": "code",
   "execution_count": 18,
   "id": "f71ae0e8-5d2d-4112-8286-bd0d2c554e7c",
   "metadata": {},
   "outputs": [],
   "source": [
    "normalized_scan_100307_no_b5 = normalized_scan_100307_full[:, big_b_indices_100307]"
   ]
  },
  {
   "cell_type": "code",
   "execution_count": 19,
   "id": "05b0976b-8609-4558-a261-bd054a7cb320",
   "metadata": {},
   "outputs": [],
   "source": [
    "n_100307_no_b5 = n_all_100307[:,big_b_indices_100307].T"
   ]
  },
  {
   "cell_type": "code",
   "execution_count": 20,
   "id": "209f20ed-e816-40dd-8c35-1edcc403edcb",
   "metadata": {},
   "outputs": [],
   "source": [
    "b_values_100307 = torch.FloatTensor(bvals_100307_no_b5)\n",
    "gradient_directions_100307 = torch.FloatTensor(n_100307_no_b5)"
   ]
  },
  {
   "cell_type": "code",
   "execution_count": 21,
   "id": "ab9f20fc-497e-40ed-85d1-49a40b5f2e2a",
   "metadata": {},
   "outputs": [
    {
     "data": {
      "text/plain": [
       "BallStickNet(\n",
       "  (fc_layers): ModuleList(\n",
       "    (0): Linear(in_features=270, out_features=270, bias=True)\n",
       "    (1): ELU(alpha=1.0)\n",
       "    (2): Linear(in_features=270, out_features=270, bias=True)\n",
       "    (3): ELU(alpha=1.0)\n",
       "    (4): Linear(in_features=270, out_features=270, bias=True)\n",
       "    (5): ELU(alpha=1.0)\n",
       "  )\n",
       "  (encoder): Sequential(\n",
       "    (0): Linear(in_features=270, out_features=270, bias=True)\n",
       "    (1): ELU(alpha=1.0)\n",
       "    (2): Linear(in_features=270, out_features=270, bias=True)\n",
       "    (3): ELU(alpha=1.0)\n",
       "    (4): Linear(in_features=270, out_features=270, bias=True)\n",
       "    (5): ELU(alpha=1.0)\n",
       "    (6): Linear(in_features=270, out_features=5, bias=True)\n",
       "  )\n",
       ")"
      ]
     },
     "execution_count": 21,
     "metadata": {},
     "output_type": "execute_result"
    }
   ],
   "source": [
    "net_golden_std = network.BallStickNet(gradient_directions_100307, b_values_100307)\n",
    "net_golden_std.load_state_dict(torch.load(\"/Users/weiwenhua/UGY4/COMP0029/COMP0029-Project/deep-ball-stick/model_100206_norm_01_Feb_182e.pt\"))\n",
    "net_golden_std.eval()"
   ]
  },
  {
   "cell_type": "code",
   "execution_count": 22,
   "id": "c284964f-f434-4f2c-95cd-8da475b009a0",
   "metadata": {},
   "outputs": [],
   "source": [
    "X_100307_pred_gstd,theta_100307_pred_gstd, phi_100307_pred_gstd, mu_cart_100307_pred_gstd, lambda_par_100307_pred_gstd, lambda_iso_100307_pred_gstd, volume_0_100307_pred_gstd, volume_1_100307_pred_gstd = net_golden_std(torch.from_numpy(normalized_scan_100307_no_b5.astype(np.float32)))"
   ]
  },
  {
   "cell_type": "code",
   "execution_count": 23,
   "id": "d93ebb8f-a2c0-48f2-8c38-fb189b1c1f13",
   "metadata": {},
   "outputs": [
    {
     "data": {
      "text/plain": [
       "tensor([[ 0.1888,  0.5349,  0.6016,  ...,  0.5509, -0.5324, -0.4095],\n",
       "        [ 0.9579,  0.4682,  0.4306,  ...,  0.8208,  0.6866,  0.8606],\n",
       "        [ 0.2162, -0.7034, -0.6728,  ...,  0.1508, -0.4952, -0.3029]],\n",
       "       grad_fn=<CopySlices>)"
      ]
     },
     "execution_count": 23,
     "metadata": {},
     "output_type": "execute_result"
    }
   ],
   "source": [
    "mu_cart_100307_pred_gstd"
   ]
  },
  {
   "cell_type": "code",
   "execution_count": 24,
   "id": "4c27a455-69af-4472-8fe6-05fafc292a9d",
   "metadata": {},
   "outputs": [
    {
     "data": {
      "text/plain": [
       "tensor([[ 0.2312,  0.5892,  0.6408,  ...,  0.6622, -0.4965, -0.2689],\n",
       "        [ 0.9655,  0.5044,  0.3519,  ...,  0.7448,  0.7196,  0.8891],\n",
       "        [ 0.1197, -0.6312, -0.6822,  ...,  0.0828, -0.4854, -0.3703]],\n",
       "       grad_fn=<CopySlices>)"
      ]
     },
     "execution_count": 24,
     "metadata": {},
     "output_type": "execute_result"
    }
   ],
   "source": [
    "mu_cart_100307_pred"
   ]
  },
  {
   "cell_type": "code",
   "execution_count": null,
   "id": "f1553896-7db4-40a5-adfa-5f7407a2ed25",
   "metadata": {},
   "outputs": [],
   "source": [
    "mse (golden_std(a,b,c) - (a',b',c')"
   ]
  },
  {
   "cell_type": "markdown",
   "id": "4f0cae42-a786-455d-8eb6-0973bd57382f",
   "metadata": {},
   "source": [
    "Mean square error"
   ]
  },
  {
   "cell_type": "code",
   "execution_count": null,
   "id": "4b1e06f1-140c-404a-a8cb-56335017ad56",
   "metadata": {},
   "outputs": [],
   "source": [
    "mse = torch.nn.MSELoss(reduction='mean')"
   ]
  },
  {
   "cell_type": "markdown",
   "id": "759c466c-4eae-41d9-925b-9c6b85cc5738",
   "metadata": {},
   "source": [
    "cosine similarity"
   ]
  },
  {
   "cell_type": "code",
   "execution_count": 155,
   "id": "d6bda7de-8cfa-4d4c-824b-bb734e445402",
   "metadata": {},
   "outputs": [
    {
     "data": {
      "text/plain": [
       "tensor([[ 0.1888,  0.5349,  0.6016,  ...,  0.5509, -0.5324, -0.4095],\n",
       "        [ 0.9579,  0.4682,  0.4306,  ...,  0.8208,  0.6866,  0.8606],\n",
       "        [ 0.2162, -0.7034, -0.6728,  ...,  0.1508, -0.4952, -0.3029]],\n",
       "       grad_fn=<CopySlices>)"
      ]
     },
     "execution_count": 155,
     "metadata": {},
     "output_type": "execute_result"
    }
   ],
   "source": [
    "mu_cart_100307_pred_gstd"
   ]
  },
  {
   "cell_type": "code",
   "execution_count": 160,
   "id": "016d7b8c-b618-4af1-8b25-3352b7fe52e2",
   "metadata": {},
   "outputs": [
    {
     "data": {
      "text/plain": [
       "tensor([[ 0.3104,  0.4235,  0.4541,  ...,  0.7356, -0.3347, -0.1553],\n",
       "        [ 0.9365,  0.4040,  0.3809,  ...,  0.6438,  0.4466,  0.9743],\n",
       "        [-0.1632, -0.8108, -0.8054,  ...,  0.2108, -0.8298, -0.1632]],\n",
       "       grad_fn=<CopySlices>)"
      ]
     },
     "execution_count": 160,
     "metadata": {},
     "output_type": "execute_result"
    }
   ],
   "source": [
    "mu_cart_100307_pred"
   ]
  },
  {
   "cell_type": "code",
   "execution_count": 156,
   "id": "ce131198-a0a9-42fa-a438-140416a3e900",
   "metadata": {},
   "outputs": [
    {
     "name": "stdout",
     "output_type": "stream",
     "text": [
      "tensor([0.9204, 0.9860, 0.9791,  ..., 0.9655, 0.8957, 0.9515],\n",
      "       grad_fn=<SumBackward1>)\n"
     ]
    }
   ],
   "source": [
    "cos = torch.nn.CosineSimilarity(dim=0, eps=1e-6)\n",
    "output = cos(mu_cart_100307_pred_gstd, mu_cart_100307_pred)\n",
    "print(output)"
   ]
  },
  {
   "cell_type": "code",
   "execution_count": 158,
   "id": "4b9aab39-8c1c-4c65-867f-80ab2e834498",
   "metadata": {},
   "outputs": [
    {
     "data": {
      "text/plain": [
       "torch.Size([740145])"
      ]
     },
     "execution_count": 158,
     "metadata": {},
     "output_type": "execute_result"
    }
   ],
   "source": [
    "output.shape"
   ]
  },
  {
   "cell_type": "code",
   "execution_count": 164,
   "id": "a7da5163-1722-4dce-8cfe-7b7aa9202887",
   "metadata": {},
   "outputs": [
    {
     "name": "stdout",
     "output_type": "stream",
     "text": [
      "tensor(-1.0000, grad_fn=<MinBackward1>)\n"
     ]
    }
   ],
   "source": [
    "print(torch.min(output))"
   ]
  },
  {
   "cell_type": "code",
   "execution_count": 165,
   "id": "5e98127d-d414-4fed-a97e-bca6ae9de25c",
   "metadata": {},
   "outputs": [
    {
     "name": "stdout",
     "output_type": "stream",
     "text": [
      "tensor(1.0000, grad_fn=<MaxBackward1>)\n"
     ]
    }
   ],
   "source": [
    "print(torch.max(output))"
   ]
  },
  {
   "cell_type": "code",
   "execution_count": 168,
   "id": "6d76f13e-6a63-48a0-8682-50156de0945a",
   "metadata": {},
   "outputs": [
    {
     "data": {
      "text/plain": [
       "(array([  5053.,   2846.,   3003.,   3795.,   5145.,   7647.,  12362.,\n",
       "         22634.,  54071., 623589.]),\n",
       " array([-9.99996841e-01, -7.99997151e-01, -5.99997520e-01, -3.99997830e-01,\n",
       "        -1.99998155e-01,  1.51991844e-06,  2.00001195e-01,  4.00000870e-01,\n",
       "         6.00000560e-01,  8.00000191e-01,  9.99999881e-01]),\n",
       " <BarContainer object of 10 artists>)"
      ]
     },
     "execution_count": 168,
     "metadata": {},
     "output_type": "execute_result"
    },
    {
     "data": {
      "image/png": "[encoded data removed]",
      "text/plain": [
       "<Figure size 640x480 with 1 Axes>"
      ]
     },
     "metadata": {},
     "output_type": "display_data"
    }
   ],
   "source": [
    "plt.hist(output.detach().numpy())"
   ]
  },
  {
   "cell_type": "markdown",
   "id": "23c190f7-01aa-4a02-bd97-911e96cfab20",
   "metadata": {},
   "source": [
    "Euclidean distance"
   ]
  },
  {
   "cell_type": "code",
   "execution_count": 41,
   "id": "e66fcdae-9255-40e4-ba88-c861f74266d8",
   "metadata": {},
   "outputs": [],
   "source": [
    "# def get_mean_euclidean_distance(mu_cart1, mu_cart2):\n",
    "#     norm = torch.norm(mu_cart1-mu_cart2, dim=0)\n",
    "#     mean_distance = torch.mean(norm)\n",
    "#     return mean_distance\n",
    "\n",
    "\n",
    "# absoult(dot product) 1 0 -1\n",
    "# cosine similarity"
   ]
  },
  {
   "cell_type": "markdown",
   "id": "cb6467d6-1717-4339-afdd-3e59e790baa7",
   "metadata": {},
   "source": [
    "When using half measurements"
   ]
  },
  {
   "cell_type": "markdown",
   "id": "e42c3eea-36f8-4455-9306-44d7f3bc43f5",
   "metadata": {},
   "source": [
    "Apply model_100206_11_01.pt"
   ]
  },
  {
   "cell_type": "code",
   "execution_count": 85,
   "id": "8a51e7f4-98ad-410f-856e-4a2f4523c504",
   "metadata": {},
   "outputs": [
    {
     "name": "stdout",
     "output_type": "stream",
     "text": [
      "tensor(0.0017, grad_fn=<MseLossBackward0>)\n",
      "tensor(0.0058, grad_fn=<MseLossBackward0>)\n",
      "tensor(0.0001, grad_fn=<MseLossBackward0>)\n",
      "tensor(0.0001, grad_fn=<MseLossBackward0>)\n"
     ]
    }
   ],
   "source": [
    "lambda_par_mse = mse(lambda_par_100307_pred_gstd,lambda_par_100307_pred)\n",
    "lambda_iso_mse = mse(lambda_iso_100307_pred_gstd,lambda_iso_100307_pred)\n",
    "volume_0_mse = mse(volume_0_100307_pred_gstd,volume_0_100307_pred)\n",
    "volume_1_mse = mse(volume_1_100307_pred_gstd,volume_1_100307_pred)\n",
    "print(lambda_par_mse)\n",
    "print(lambda_iso_mse)\n",
    "print(volume_0_mse)\n",
    "print(volume_1_mse)"
   ]
  },
  {
   "cell_type": "markdown",
   "id": "36859b4b-0f80-4c99-92eb-9dde4ba78047",
   "metadata": {},
   "source": [
    "Apply model_100206_11_02.pt"
   ]
  },
  {
   "cell_type": "code",
   "execution_count": 106,
   "id": "69b088b3-e563-4325-ba78-0482087d902e",
   "metadata": {},
   "outputs": [
    {
     "name": "stdout",
     "output_type": "stream",
     "text": [
      "tensor(0.0045, grad_fn=<MseLossBackward0>)\n",
      "tensor(0.0056, grad_fn=<MseLossBackward0>)\n",
      "tensor(0.0002, grad_fn=<MseLossBackward0>)\n",
      "tensor(0.0002, grad_fn=<MseLossBackward0>)\n"
     ]
    }
   ],
   "source": [
    "lambda_par_mse = mse(lambda_par_100307_pred_gstd,lambda_par_100307_pred)\n",
    "lambda_iso_mse = mse(lambda_iso_100307_pred_gstd,lambda_iso_100307_pred)\n",
    "volume_0_mse = mse(volume_0_100307_pred_gstd,volume_0_100307_pred)\n",
    "volume_1_mse = mse(volume_1_100307_pred_gstd,volume_1_100307_pred)\n",
    "print(lambda_par_mse)\n",
    "print(lambda_iso_mse)\n",
    "print(volume_0_mse)\n",
    "print(volume_1_mse)"
   ]
  },
  {
   "cell_type": "markdown",
   "id": "eed89353-a7b3-488d-b0aa-7b68ba2181fc",
   "metadata": {},
   "source": [
    "Apply model_100206_13_01.pt"
   ]
  },
  {
   "cell_type": "code",
   "execution_count": 56,
   "id": "a4b39c44-dcb0-4173-8708-0d6d18d760b0",
   "metadata": {},
   "outputs": [
    {
     "name": "stdout",
     "output_type": "stream",
     "text": [
      "tensor(0.0147, grad_fn=<MseLossBackward0>)\n",
      "tensor(0.0370, grad_fn=<MseLossBackward0>)\n",
      "tensor(0.0026, grad_fn=<MseLossBackward0>)\n",
      "tensor(0.0026, grad_fn=<MseLossBackward0>)\n"
     ]
    }
   ],
   "source": [
    "lambda_par_mse = mse(lambda_par_100307_pred_gstd,lambda_par_100307_pred)\n",
    "lambda_iso_mse = mse(lambda_iso_100307_pred_gstd,lambda_iso_100307_pred)\n",
    "volume_0_mse = mse(volume_0_100307_pred_gstd,volume_0_100307_pred)\n",
    "volume_1_mse = mse(volume_1_100307_pred_gstd,volume_1_100307_pred)\n",
    "print(lambda_par_mse)\n",
    "print(lambda_iso_mse)\n",
    "print(volume_0_mse)\n",
    "print(volume_1_mse)"
   ]
  },
  {
   "cell_type": "markdown",
   "id": "0f7747d2-0396-4188-b517-ac35a0d1a2ba",
   "metadata": {},
   "source": [
    "Apply model_100206_13_02.pt"
   ]
  },
  {
   "cell_type": "code",
   "execution_count": 71,
   "id": "542120cb-32e1-4824-81f3-f158cdad2d9e",
   "metadata": {},
   "outputs": [
    {
     "name": "stdout",
     "output_type": "stream",
     "text": [
      "tensor(0.0046, grad_fn=<MseLossBackward0>)\n",
      "tensor(0.0312, grad_fn=<MseLossBackward0>)\n",
      "tensor(0.0023, grad_fn=<MseLossBackward0>)\n",
      "tensor(0.0023, grad_fn=<MseLossBackward0>)\n"
     ]
    }
   ],
   "source": [
    "lambda_par_mse = mse(lambda_par_100307_pred_gstd,lambda_par_100307_pred)\n",
    "lambda_iso_mse = mse(lambda_iso_100307_pred_gstd,lambda_iso_100307_pred)\n",
    "volume_0_mse = mse(volume_0_100307_pred_gstd,volume_0_100307_pred)\n",
    "volume_1_mse = mse(volume_1_100307_pred_gstd,volume_1_100307_pred)\n",
    "print(lambda_par_mse)\n",
    "print(lambda_iso_mse)\n",
    "print(volume_0_mse)\n",
    "print(volume_1_mse)"
   ]
  },
  {
   "cell_type": "markdown",
   "id": "e1e12a25-848b-4fc0-bd59-ec8386cf7425",
   "metadata": {},
   "source": [
    "Apply model_100206_13_03.pt"
   ]
  },
  {
   "cell_type": "code",
   "execution_count": 179,
   "id": "6d73d5e4-8735-44d4-97a6-46b63939bed6",
   "metadata": {},
   "outputs": [
    {
     "name": "stdout",
     "output_type": "stream",
     "text": [
      "tensor(0.0038, grad_fn=<MseLossBackward0>)\n",
      "tensor(0.0046, grad_fn=<MseLossBackward0>)\n",
      "tensor(0.0002, grad_fn=<MseLossBackward0>)\n",
      "tensor(0.0002, grad_fn=<MseLossBackward0>)\n"
     ]
    }
   ],
   "source": [
    "lambda_par_mse = mse(lambda_par_100307_pred_gstd,lambda_par_100307_pred)\n",
    "lambda_iso_mse = mse(lambda_iso_100307_pred_gstd,lambda_iso_100307_pred)\n",
    "volume_0_mse = mse(volume_0_100307_pred_gstd,volume_0_100307_pred)\n",
    "volume_1_mse = mse(volume_1_100307_pred_gstd,volume_1_100307_pred)\n",
    "print(lambda_par_mse)\n",
    "print(lambda_iso_mse)\n",
    "print(volume_0_mse)\n",
    "print(volume_1_mse)"
   ]
  },
  {
   "cell_type": "markdown",
   "id": "c4590dac-e49d-4148-b327-b5942c40a335",
   "metadata": {},
   "source": [
    "Apply model_100206_13_04.pt"
   ]
  },
  {
   "cell_type": "code",
   "execution_count": 197,
   "id": "db7ad8a1-c02b-4b6e-b821-223f41259a5f",
   "metadata": {},
   "outputs": [
    {
     "name": "stdout",
     "output_type": "stream",
     "text": [
      "tensor(0.0038, grad_fn=<MseLossBackward0>)\n",
      "tensor(0.0051, grad_fn=<MseLossBackward0>)\n",
      "tensor(0.0002, grad_fn=<MseLossBackward0>)\n",
      "tensor(0.0002, grad_fn=<MseLossBackward0>)\n"
     ]
    }
   ],
   "source": [
    "lambda_par_mse = mse(lambda_par_100307_pred_gstd,lambda_par_100307_pred)\n",
    "lambda_iso_mse = mse(lambda_iso_100307_pred_gstd,lambda_iso_100307_pred)\n",
    "volume_0_mse = mse(volume_0_100307_pred_gstd,volume_0_100307_pred)\n",
    "volume_1_mse = mse(volume_1_100307_pred_gstd,volume_1_100307_pred)\n",
    "print(lambda_par_mse)\n",
    "print(lambda_iso_mse)\n",
    "print(volume_0_mse)\n",
    "print(volume_1_mse)"
   ]
  },
  {
   "cell_type": "markdown",
   "id": "a6b3e081-95eb-445d-ab7d-fbd3470a4e54",
   "metadata": {},
   "source": [
    "Apply model_100206_13_05.pt"
   ]
  },
  {
   "cell_type": "code",
   "execution_count": 208,
   "id": "998b42f2-7cf1-43f4-ac94-02e97e5470d3",
   "metadata": {},
   "outputs": [
    {
     "name": "stdout",
     "output_type": "stream",
     "text": [
      "tensor(0.0044, grad_fn=<MseLossBackward0>)\n",
      "tensor(0.0039, grad_fn=<MseLossBackward0>)\n",
      "tensor(0.0002, grad_fn=<MseLossBackward0>)\n",
      "tensor(0.0002, grad_fn=<MseLossBackward0>)\n"
     ]
    }
   ],
   "source": [
    "lambda_par_mse = mse(lambda_par_100307_pred_gstd,lambda_par_100307_pred)\n",
    "lambda_iso_mse = mse(lambda_iso_100307_pred_gstd,lambda_iso_100307_pred)\n",
    "volume_0_mse = mse(volume_0_100307_pred_gstd,volume_0_100307_pred)\n",
    "volume_1_mse = mse(volume_1_100307_pred_gstd,volume_1_100307_pred)\n",
    "print(lambda_par_mse)\n",
    "print(lambda_iso_mse)\n",
    "print(volume_0_mse)\n",
    "print(volume_1_mse)"
   ]
  },
  {
   "cell_type": "markdown",
   "id": "13626c5a-e329-478b-870f-b4f07f999dc3",
   "metadata": {},
   "source": [
    "Apply model_100206_13_06.pt"
   ]
  },
  {
   "cell_type": "code",
   "execution_count": 222,
   "id": "b25b1779-3ff8-43b0-938d-3b99398742d5",
   "metadata": {},
   "outputs": [
    {
     "name": "stdout",
     "output_type": "stream",
     "text": [
      "tensor(0.0020, grad_fn=<MseLossBackward0>)\n",
      "tensor(0.0040, grad_fn=<MseLossBackward0>)\n",
      "tensor(0.0001, grad_fn=<MseLossBackward0>)\n",
      "tensor(0.0001, grad_fn=<MseLossBackward0>)\n"
     ]
    }
   ],
   "source": [
    "lambda_par_mse = mse(lambda_par_100307_pred_gstd,lambda_par_100307_pred)\n",
    "lambda_iso_mse = mse(lambda_iso_100307_pred_gstd,lambda_iso_100307_pred)\n",
    "volume_0_mse = mse(volume_0_100307_pred_gstd,volume_0_100307_pred)\n",
    "volume_1_mse = mse(volume_1_100307_pred_gstd,volume_1_100307_pred)\n",
    "print(lambda_par_mse)\n",
    "print(lambda_iso_mse)\n",
    "print(volume_0_mse)\n",
    "print(volume_1_mse)"
   ]
  },
  {
   "cell_type": "markdown",
   "id": "41bb3913-411d-48a7-907f-c65157cabd41",
   "metadata": {},
   "source": [
    "Apply model_100206_15_01.pt"
   ]
  },
  {
   "cell_type": "code",
   "execution_count": 43,
   "id": "7af0a80b-1021-489e-9cd3-55ff52b53795",
   "metadata": {},
   "outputs": [
    {
     "name": "stdout",
     "output_type": "stream",
     "text": [
      "tensor(0.0032, grad_fn=<MseLossBackward0>)\n",
      "tensor(0.0029, grad_fn=<MseLossBackward0>)\n",
      "tensor(0.0001, grad_fn=<MseLossBackward0>)\n",
      "tensor(0.0001, grad_fn=<MseLossBackward0>)\n"
     ]
    }
   ],
   "source": [
    "lambda_par_mse = mse(lambda_par_100307_pred_gstd,lambda_par_100307_pred)\n",
    "lambda_iso_mse = mse(lambda_iso_100307_pred_gstd,lambda_iso_100307_pred)\n",
    "volume_0_mse = mse(volume_0_100307_pred_gstd,volume_0_100307_pred)\n",
    "volume_1_mse = mse(volume_1_100307_pred_gstd,volume_1_100307_pred)\n",
    "print(lambda_par_mse)\n",
    "print(lambda_iso_mse)\n",
    "print(volume_0_mse)\n",
    "print(volume_1_mse)"
   ]
  },
  {
   "cell_type": "markdown",
   "id": "b132c5c7-e4b6-4cc5-8be3-fb3e229b380b",
   "metadata": {},
   "source": [
    "Apply model_100206_15_02.pt"
   ]
  },
  {
   "cell_type": "code",
   "execution_count": 29,
   "id": "5198b4c1-678b-44d6-85f2-48c2d46f8ad0",
   "metadata": {},
   "outputs": [
    {
     "name": "stdout",
     "output_type": "stream",
     "text": [
      "tensor(0.0033, grad_fn=<MseLossBackward0>)\n",
      "tensor(0.0057, grad_fn=<MseLossBackward0>)\n",
      "tensor(0.0001, grad_fn=<MseLossBackward0>)\n",
      "tensor(0.0001, grad_fn=<MseLossBackward0>)\n"
     ]
    }
   ],
   "source": [
    "lambda_par_mse = mse(lambda_par_100307_pred_gstd,lambda_par_100307_pred)\n",
    "lambda_iso_mse = mse(lambda_iso_100307_pred_gstd,lambda_iso_100307_pred)\n",
    "volume_0_mse = mse(volume_0_100307_pred_gstd,volume_0_100307_pred)\n",
    "volume_1_mse = mse(volume_1_100307_pred_gstd,volume_1_100307_pred)\n",
    "print(lambda_par_mse)\n",
    "print(lambda_iso_mse)\n",
    "print(volume_0_mse)\n",
    "print(volume_1_mse)"
   ]
  },
  {
   "cell_type": "markdown",
   "id": "ab0d6e72-af36-4e39-94ff-051a026c6796",
   "metadata": {},
   "source": [
    "Apply model_100206_half_01.pt"
   ]
  },
  {
   "cell_type": "code",
   "execution_count": 26,
   "id": "f8a7c37d-e08c-4671-bbd0-df32ac22b73b",
   "metadata": {},
   "outputs": [
    {
     "name": "stdout",
     "output_type": "stream",
     "text": [
      "tensor(0.0033, grad_fn=<MseLossBackward0>)\n",
      "tensor(0.0057, grad_fn=<MseLossBackward0>)\n",
      "tensor(0.0001, grad_fn=<MseLossBackward0>)\n",
      "tensor(0.0001, grad_fn=<MseLossBackward0>)\n"
     ]
    }
   ],
   "source": [
    "lambda_par_mse = mse(lambda_par_100307_pred_gstd,lambda_par_100307_pred)\n",
    "lambda_iso_mse = mse(lambda_iso_100307_pred_gstd,lambda_iso_100307_pred)\n",
    "volume_0_mse = mse(volume_0_100307_pred_gstd,volume_0_100307_pred)\n",
    "volume_1_mse = mse(volume_1_100307_pred_gstd,volume_1_100307_pred)\n",
    "print(lambda_par_mse)\n",
    "print(lambda_iso_mse)\n",
    "print(volume_0_mse)\n",
    "print(volume_1_mse)"
   ]
  },
  {
   "cell_type": "markdown",
   "id": "d52d7460-8f00-4c14-bc7a-ff796fd2689a",
   "metadata": {},
   "source": [
    "Apply model_100206_half_02.pt"
   ]
  },
  {
   "cell_type": "code",
   "execution_count": 45,
   "id": "b58fee9c-081a-4b23-8151-389f5e7b8afd",
   "metadata": {},
   "outputs": [],
   "source": [
    "lambda_par_mse = mse(lambda_par_100307_pred_gstd,lambda_par_100307_pred)\n",
    "lambda_iso_mse = mse(lambda_iso_100307_pred_gstd,lambda_iso_100307_pred)\n",
    "volume_0_mse = mse(volume_0_100307_pred_gstd,volume_0_100307_pred)\n",
    "volume_1_mse = mse(volume_1_100307_pred_gstd,volume_1_100307_pred)"
   ]
  },
  {
   "cell_type": "code",
   "execution_count": 46,
   "id": "91e9b82a-66f9-4c44-9358-5f90c0667bb1",
   "metadata": {},
   "outputs": [
    {
     "name": "stdout",
     "output_type": "stream",
     "text": [
      "tensor(0.0046, grad_fn=<MseLossBackward0>)\n",
      "tensor(0.0088, grad_fn=<MseLossBackward0>)\n",
      "tensor(0.0003, grad_fn=<MseLossBackward0>)\n",
      "tensor(0.0003, grad_fn=<MseLossBackward0>)\n"
     ]
    }
   ],
   "source": [
    "print(lambda_par_mse)\n",
    "print(lambda_iso_mse)\n",
    "print(volume_0_mse)\n",
    "print(volume_1_mse)"
   ]
  },
  {
   "cell_type": "markdown",
   "id": "5f64c4d4-c6e8-462f-abaa-ad3176a67c04",
   "metadata": {},
   "source": [
    "Apply model_100206_half_03.pt"
   ]
  },
  {
   "cell_type": "code",
   "execution_count": 128,
   "id": "612ef900-249c-4835-b4f1-eb3ab24ae1a7",
   "metadata": {},
   "outputs": [
    {
     "name": "stdout",
     "output_type": "stream",
     "text": [
      "tensor(0.0034, grad_fn=<MseLossBackward0>)\n",
      "tensor(0.0080, grad_fn=<MseLossBackward0>)\n",
      "tensor(0.0002, grad_fn=<MseLossBackward0>)\n",
      "tensor(0.0002, grad_fn=<MseLossBackward0>)\n"
     ]
    }
   ],
   "source": [
    "lambda_par_mse = mse(lambda_par_100307_pred_gstd,lambda_par_100307_pred)\n",
    "lambda_iso_mse = mse(lambda_iso_100307_pred_gstd,lambda_iso_100307_pred)\n",
    "volume_0_mse = mse(volume_0_100307_pred_gstd,volume_0_100307_pred)\n",
    "volume_1_mse = mse(volume_1_100307_pred_gstd,volume_1_100307_pred)\n",
    "print(lambda_par_mse)\n",
    "print(lambda_iso_mse)\n",
    "print(volume_0_mse)\n",
    "print(volume_1_mse)"
   ]
  },
  {
   "cell_type": "markdown",
   "id": "ceb84a13-7555-432f-ad83-eb0e849e8c9b",
   "metadata": {},
   "source": [
    "Apply model_100206_half_04.pt"
   ]
  },
  {
   "cell_type": "code",
   "execution_count": 167,
   "id": "86316dfc-9111-4722-a395-afd21c45e2d4",
   "metadata": {},
   "outputs": [
    {
     "name": "stdout",
     "output_type": "stream",
     "text": [
      "tensor(0.0027, grad_fn=<MseLossBackward0>)\n",
      "tensor(0.0069, grad_fn=<MseLossBackward0>)\n",
      "tensor(0.0002, grad_fn=<MseLossBackward0>)\n",
      "tensor(0.0002, grad_fn=<MseLossBackward0>)\n"
     ]
    }
   ],
   "source": [
    "lambda_par_mse = mse(lambda_par_100307_pred_gstd,lambda_par_100307_pred)\n",
    "lambda_iso_mse = mse(lambda_iso_100307_pred_gstd,lambda_iso_100307_pred)\n",
    "volume_0_mse = mse(volume_0_100307_pred_gstd,volume_0_100307_pred)\n",
    "volume_1_mse = mse(volume_1_100307_pred_gstd,volume_1_100307_pred)\n",
    "print(lambda_par_mse)\n",
    "print(lambda_iso_mse)\n",
    "print(volume_0_mse)\n",
    "print(volume_1_mse)"
   ]
  },
  {
   "cell_type": "markdown",
   "id": "d92e1a9f-ade5-4642-a2ca-38d8adee2564",
   "metadata": {},
   "source": [
    "Apply model_100206_half_05.pt"
   ]
  },
  {
   "cell_type": "code",
   "execution_count": 179,
   "id": "15724f0d-9eab-4272-a729-9a997e13b1e0",
   "metadata": {},
   "outputs": [
    {
     "name": "stdout",
     "output_type": "stream",
     "text": [
      "tensor(0.0092, grad_fn=<MseLossBackward0>)\n",
      "tensor(0.0077, grad_fn=<MseLossBackward0>)\n",
      "tensor(0.0003, grad_fn=<MseLossBackward0>)\n",
      "tensor(0.0003, grad_fn=<MseLossBackward0>)\n"
     ]
    }
   ],
   "source": [
    "lambda_par_mse = mse(lambda_par_100307_pred_gstd,lambda_par_100307_pred)\n",
    "lambda_iso_mse = mse(lambda_iso_100307_pred_gstd,lambda_iso_100307_pred)\n",
    "volume_0_mse = mse(volume_0_100307_pred_gstd,volume_0_100307_pred)\n",
    "volume_1_mse = mse(volume_1_100307_pred_gstd,volume_1_100307_pred)\n",
    "print(lambda_par_mse)\n",
    "print(lambda_iso_mse)\n",
    "print(volume_0_mse)\n",
    "print(volume_1_mse)"
   ]
  },
  {
   "cell_type": "markdown",
   "id": "692e5269-7b73-4fe4-a7f3-9c161cc667b1",
   "metadata": {},
   "source": [
    "Apply model_100206_half_06.pt"
   ]
  },
  {
   "cell_type": "code",
   "execution_count": 195,
   "id": "d4a7f93f-4e9f-4c27-9b72-4399d76a66b0",
   "metadata": {},
   "outputs": [
    {
     "name": "stdout",
     "output_type": "stream",
     "text": [
      "tensor(0.0086, grad_fn=<MseLossBackward0>)\n",
      "tensor(0.0081, grad_fn=<MseLossBackward0>)\n",
      "tensor(0.0003, grad_fn=<MseLossBackward0>)\n",
      "tensor(0.0003, grad_fn=<MseLossBackward0>)\n"
     ]
    }
   ],
   "source": [
    "lambda_par_mse = mse(lambda_par_100307_pred_gstd,lambda_par_100307_pred)\n",
    "lambda_iso_mse = mse(lambda_iso_100307_pred_gstd,lambda_iso_100307_pred)\n",
    "volume_0_mse = mse(volume_0_100307_pred_gstd,volume_0_100307_pred)\n",
    "volume_1_mse = mse(volume_1_100307_pred_gstd,volume_1_100307_pred)\n",
    "print(lambda_par_mse)\n",
    "print(lambda_iso_mse)\n",
    "print(volume_0_mse)\n",
    "print(volume_1_mse)"
   ]
  },
  {
   "cell_type": "markdown",
   "id": "1ac81a15-0708-45cd-8e5b-6a80e03dcaa8",
   "metadata": {},
   "source": [
    "When using 8 groups of measurements"
   ]
  },
  {
   "cell_type": "markdown",
   "id": "3ef1794f-ba62-4efc-b768-00f0f5a2cca3",
   "metadata": {},
   "source": [
    "Apply model_100206_8g_01.pt"
   ]
  },
  {
   "cell_type": "code",
   "execution_count": 86,
   "id": "6cbd8764-ecf4-446f-bcd5-c21caadf4e7c",
   "metadata": {},
   "outputs": [
    {
     "name": "stdout",
     "output_type": "stream",
     "text": [
      "tensor(0.0059, grad_fn=<MseLossBackward0>)\n",
      "tensor(0.0348, grad_fn=<MseLossBackward0>)\n",
      "tensor(0.0024, grad_fn=<MseLossBackward0>)\n",
      "tensor(0.0024, grad_fn=<MseLossBackward0>)\n"
     ]
    }
   ],
   "source": [
    "lambda_par_mse = mse(lambda_par_100307_pred_gstd,lambda_par_100307_pred)\n",
    "lambda_iso_mse = mse(lambda_iso_100307_pred_gstd,lambda_iso_100307_pred)\n",
    "volume_0_mse = mse(volume_0_100307_pred_gstd,volume_0_100307_pred)\n",
    "volume_1_mse = mse(volume_1_100307_pred_gstd,volume_1_100307_pred)\n",
    "print(lambda_par_mse)\n",
    "print(lambda_iso_mse)\n",
    "print(volume_0_mse)\n",
    "print(volume_1_mse)"
   ]
  },
  {
   "cell_type": "markdown",
   "id": "be0f9404-583c-48f0-80e0-0f454174c401",
   "metadata": {},
   "source": [
    "Apply model_100206_8g_02.pt"
   ]
  },
  {
   "cell_type": "code",
   "execution_count": 74,
   "id": "4b13dd02-74c8-4804-9701-22cbee02dd51",
   "metadata": {},
   "outputs": [],
   "source": [
    "lambda_par_mse = mse(lambda_par_100307_pred_gstd,lambda_par_100307_pred)\n",
    "lambda_iso_mse = mse(lambda_iso_100307_pred_gstd,lambda_iso_100307_pred)\n",
    "volume_0_mse = mse(volume_0_100307_pred_gstd,volume_0_100307_pred)\n",
    "volume_1_mse = mse(volume_1_100307_pred_gstd,volume_1_100307_pred)"
   ]
  },
  {
   "cell_type": "code",
   "execution_count": 75,
   "id": "937f13a9-9bba-40af-8571-0ba1720890db",
   "metadata": {},
   "outputs": [
    {
     "name": "stdout",
     "output_type": "stream",
     "text": [
      "tensor(0.0043, grad_fn=<MseLossBackward0>)\n",
      "tensor(0.0108, grad_fn=<MseLossBackward0>)\n",
      "tensor(0.0003, grad_fn=<MseLossBackward0>)\n",
      "tensor(0.0003, grad_fn=<MseLossBackward0>)\n"
     ]
    }
   ],
   "source": [
    "print(lambda_par_mse)\n",
    "print(lambda_iso_mse)\n",
    "print(volume_0_mse)\n",
    "print(volume_1_mse)"
   ]
  },
  {
   "cell_type": "markdown",
   "id": "064a6e74-c8be-4737-a6f9-adf6bfb8b0f4",
   "metadata": {},
   "source": [
    "Apply model_100206_8g_03.pt"
   ]
  },
  {
   "cell_type": "code",
   "execution_count": 23,
   "id": "d58c8fc3-34f4-4981-a95d-1e59ff731135",
   "metadata": {},
   "outputs": [
    {
     "name": "stdout",
     "output_type": "stream",
     "text": [
      "tensor(0.0058, grad_fn=<MseLossBackward0>)\n",
      "tensor(0.0098, grad_fn=<MseLossBackward0>)\n",
      "tensor(0.0003, grad_fn=<MseLossBackward0>)\n",
      "tensor(0.0003, grad_fn=<MseLossBackward0>)\n"
     ]
    }
   ],
   "source": [
    "lambda_par_mse = mse(lambda_par_100307_pred_gstd,lambda_par_100307_pred)\n",
    "lambda_iso_mse = mse(lambda_iso_100307_pred_gstd,lambda_iso_100307_pred)\n",
    "volume_0_mse = mse(volume_0_100307_pred_gstd,volume_0_100307_pred)\n",
    "volume_1_mse = mse(volume_1_100307_pred_gstd,volume_1_100307_pred)\n",
    "print(lambda_par_mse)\n",
    "print(lambda_iso_mse)\n",
    "print(volume_0_mse)\n",
    "print(volume_1_mse)"
   ]
  },
  {
   "cell_type": "markdown",
   "id": "018bec57-e664-45e4-b244-88c8f2ac8a56",
   "metadata": {},
   "source": [
    "When using 7 groups of measurements"
   ]
  },
  {
   "cell_type": "markdown",
   "id": "837311c6-a8dd-4888-b317-5f3a6123791e",
   "metadata": {},
   "source": [
    "Apply model_100206_7g_02.pt"
   ]
  },
  {
   "cell_type": "code",
   "execution_count": 283,
   "id": "f83f2ccd-2a46-4aa7-aa41-3c7303b617a6",
   "metadata": {},
   "outputs": [
    {
     "name": "stdout",
     "output_type": "stream",
     "text": [
      "tensor(0.0051, grad_fn=<MseLossBackward0>)\n",
      "tensor(0.0118, grad_fn=<MseLossBackward0>)\n",
      "tensor(0.0003, grad_fn=<MseLossBackward0>)\n",
      "tensor(0.0003, grad_fn=<MseLossBackward0>)\n"
     ]
    }
   ],
   "source": [
    "lambda_par_mse = mse(lambda_par_100307_pred_gstd,lambda_par_100307_pred)\n",
    "lambda_iso_mse = mse(lambda_iso_100307_pred_gstd,lambda_iso_100307_pred)\n",
    "volume_0_mse = mse(volume_0_100307_pred_gstd,volume_0_100307_pred)\n",
    "volume_1_mse = mse(volume_1_100307_pred_gstd,volume_1_100307_pred)\n",
    "print(lambda_par_mse)\n",
    "print(lambda_iso_mse)\n",
    "print(volume_0_mse)\n",
    "print(volume_1_mse)"
   ]
  },
  {
   "cell_type": "markdown",
   "id": "ac14ef0b-f707-416d-a4fb-1a4544f8fafd",
   "metadata": {},
   "source": [
    "Apply model_100206_7g_03.pt"
   ]
  },
  {
   "cell_type": "code",
   "execution_count": 60,
   "id": "52bca9c4-a63a-4e20-9e0a-4ee0d5dacd40",
   "metadata": {},
   "outputs": [],
   "source": [
    "lambda_par_mse = mse(lambda_par_100307_pred_gstd,lambda_par_100307_pred)\n",
    "lambda_iso_mse = mse(lambda_iso_100307_pred_gstd,lambda_iso_100307_pred)\n",
    "volume_0_mse = mse(volume_0_100307_pred_gstd,volume_0_100307_pred)\n",
    "volume_1_mse = mse(volume_1_100307_pred_gstd,volume_1_100307_pred)"
   ]
  },
  {
   "cell_type": "code",
   "execution_count": 61,
   "id": "0a931393-f4a5-4c7a-b89f-f0749c105097",
   "metadata": {},
   "outputs": [
    {
     "name": "stdout",
     "output_type": "stream",
     "text": [
      "tensor(0.0094, grad_fn=<MseLossBackward0>)\n",
      "tensor(0.0110, grad_fn=<MseLossBackward0>)\n",
      "tensor(0.0004, grad_fn=<MseLossBackward0>)\n",
      "tensor(0.0004, grad_fn=<MseLossBackward0>)\n"
     ]
    }
   ],
   "source": [
    "print(lambda_par_mse)\n",
    "print(lambda_iso_mse)\n",
    "print(volume_0_mse)\n",
    "print(volume_1_mse)"
   ]
  },
  {
   "cell_type": "markdown",
   "id": "c4e05cd6-3466-42d3-a6ce-9755b3f0941b",
   "metadata": {},
   "source": [
    "Apply model_100206_7g_04.pt"
   ]
  },
  {
   "cell_type": "code",
   "execution_count": 37,
   "id": "3b2a2f7f-03ea-4f58-9fd1-ed40f86b25f4",
   "metadata": {},
   "outputs": [
    {
     "name": "stdout",
     "output_type": "stream",
     "text": [
      "tensor(0.0064, grad_fn=<MseLossBackward0>)\n",
      "tensor(0.0266, grad_fn=<MseLossBackward0>)\n",
      "tensor(0.0018, grad_fn=<MseLossBackward0>)\n",
      "tensor(0.0018, grad_fn=<MseLossBackward0>)\n"
     ]
    }
   ],
   "source": [
    "lambda_par_mse = mse(lambda_par_100307_pred_gstd,lambda_par_100307_pred)\n",
    "lambda_iso_mse = mse(lambda_iso_100307_pred_gstd,lambda_iso_100307_pred)\n",
    "volume_0_mse = mse(volume_0_100307_pred_gstd,volume_0_100307_pred)\n",
    "volume_1_mse = mse(volume_1_100307_pred_gstd,volume_1_100307_pred)\n",
    "print(lambda_par_mse)\n",
    "print(lambda_iso_mse)\n",
    "print(volume_0_mse)\n",
    "print(volume_1_mse)"
   ]
  },
  {
   "cell_type": "code",
   "execution_count": 42,
   "id": "bde6579f-b197-4997-8062-857c4e8fd5c2",
   "metadata": {},
   "outputs": [],
   "source": [
    "distance = get_mean_euclidean_distance(mu_cart_100307_pred_gstd, mu_cart_100307_pred)"
   ]
  },
  {
   "cell_type": "code",
   "execution_count": 43,
   "id": "34245e75-a2ca-4253-8466-2f9c59e738a3",
   "metadata": {},
   "outputs": [
    {
     "data": {
      "text/plain": [
       "tensor(1.8668, grad_fn=<MeanBackward0>)"
      ]
     },
     "execution_count": 43,
     "metadata": {},
     "output_type": "execute_result"
    }
   ],
   "source": [
    "distance"
   ]
  },
  {
   "cell_type": "code",
   "execution_count": 34,
   "id": "293bd0f0-adef-45a8-8328-7d02f0c272ac",
   "metadata": {
    "collapsed": true,
    "jupyter": {
     "outputs_hidden": true
    },
    "tags": []
   },
   "outputs": [
    {
     "data": {
      "text/plain": [
       "tensor([[ 0.1888,  0.5349,  0.6016,  ...,  0.5509, -0.5324, -0.4095],\n",
       "        [ 0.9579,  0.4682,  0.4306,  ...,  0.8208,  0.6866,  0.8606],\n",
       "        [ 0.2162, -0.7034, -0.6728,  ...,  0.1508, -0.4952, -0.3029]],\n",
       "       grad_fn=<CopySlices>)"
      ]
     },
     "execution_count": 34,
     "metadata": {},
     "output_type": "execute_result"
    }
   ],
   "source": [
    "mu_cart_100307_pred_gstd"
   ]
  },
  {
   "cell_type": "code",
   "execution_count": 35,
   "id": "88f701f1-4799-40f2-9cd3-100e3ad1e518",
   "metadata": {
    "collapsed": true,
    "jupyter": {
     "outputs_hidden": true
    },
    "tags": []
   },
   "outputs": [
    {
     "data": {
      "text/plain": [
       "tensor([[-0.3860, -0.5575, -0.5352,  ..., -0.6136,  0.1787,  0.1740],\n",
       "        [-0.9059, -0.5200, -0.6355,  ..., -0.7601, -0.6667, -0.7992],\n",
       "        [-0.1741,  0.6471,  0.5566,  ..., -0.2138,  0.7236,  0.5753]],\n",
       "       grad_fn=<CopySlices>)"
      ]
     },
     "execution_count": 35,
     "metadata": {},
     "output_type": "execute_result"
    }
   ],
   "source": [
    "mu_cart_100307_pred"
   ]
  },
  {
   "cell_type": "markdown",
   "id": "b76fb7f0-16cd-4c7f-b526-1901b6154c25",
   "metadata": {},
   "source": [
    "When using 6 groups of measurements"
   ]
  },
  {
   "cell_type": "code",
   "execution_count": 102,
   "id": "3f44af84-e7b2-472f-8b1c-61f2133ab1a0",
   "metadata": {},
   "outputs": [
    {
     "name": "stdout",
     "output_type": "stream",
     "text": [
      "tensor(0.0059, grad_fn=<MseLossBackward0>)\n",
      "tensor(0.0142, grad_fn=<MseLossBackward0>)\n",
      "tensor(0.0004, grad_fn=<MseLossBackward0>)\n",
      "tensor(0.0004, grad_fn=<MseLossBackward0>)\n"
     ]
    }
   ],
   "source": [
    "lambda_par_mse = mse(lambda_par_100307_pred_gstd,lambda_par_100307_pred)\n",
    "lambda_iso_mse = mse(lambda_iso_100307_pred_gstd,lambda_iso_100307_pred)\n",
    "volume_0_mse = mse(volume_0_100307_pred_gstd,volume_0_100307_pred)\n",
    "volume_1_mse = mse(volume_1_100307_pred_gstd,volume_1_100307_pred)\n",
    "print(lambda_par_mse)\n",
    "print(lambda_iso_mse)\n",
    "print(volume_0_mse)\n",
    "print(volume_1_mse)"
   ]
  },
  {
   "cell_type": "markdown",
   "id": "302c2e0c-6876-4f21-8cdd-e188e3e96bf8",
   "metadata": {},
   "source": [
    "Apply model_100206_6g_02.pt"
   ]
  },
  {
   "cell_type": "code",
   "execution_count": 121,
   "id": "a98b9d54-6c80-46af-b06c-780c40dfbdea",
   "metadata": {},
   "outputs": [
    {
     "name": "stdout",
     "output_type": "stream",
     "text": [
      "tensor(0.0052, grad_fn=<MseLossBackward0>)\n",
      "tensor(0.0135, grad_fn=<MseLossBackward0>)\n",
      "tensor(0.0004, grad_fn=<MseLossBackward0>)\n",
      "tensor(0.0004, grad_fn=<MseLossBackward0>)\n"
     ]
    }
   ],
   "source": [
    "lambda_par_mse = mse(lambda_par_100307_pred_gstd,lambda_par_100307_pred)\n",
    "lambda_iso_mse = mse(lambda_iso_100307_pred_gstd,lambda_iso_100307_pred)\n",
    "volume_0_mse = mse(volume_0_100307_pred_gstd,volume_0_100307_pred)\n",
    "volume_1_mse = mse(volume_1_100307_pred_gstd,volume_1_100307_pred)\n",
    "print(lambda_par_mse)\n",
    "print(lambda_iso_mse)\n",
    "print(volume_0_mse)\n",
    "print(volume_1_mse)"
   ]
  },
  {
   "cell_type": "markdown",
   "id": "e407818d-0430-408b-ad8c-71a8adf8d86c",
   "metadata": {},
   "source": [
    "When using 5 groups of measurements"
   ]
  },
  {
   "cell_type": "markdown",
   "id": "fabe2494-452b-4a3f-b8fa-e439f4f30e09",
   "metadata": {},
   "source": [
    "Apply model_100206_quarter_01.pt"
   ]
  },
  {
   "cell_type": "code",
   "execution_count": 255,
   "id": "70662637-38ae-4b1d-87a5-4ee11248cc51",
   "metadata": {},
   "outputs": [
    {
     "name": "stdout",
     "output_type": "stream",
     "text": [
      "tensor(0.0060, grad_fn=<MseLossBackward0>)\n",
      "tensor(0.0184, grad_fn=<MseLossBackward0>)\n",
      "tensor(0.0004, grad_fn=<MseLossBackward0>)\n",
      "tensor(0.0004, grad_fn=<MseLossBackward0>)\n"
     ]
    }
   ],
   "source": [
    "lambda_par_mse = mse(lambda_par_100307_pred_gstd,lambda_par_100307_pred)\n",
    "lambda_iso_mse = mse(lambda_iso_100307_pred_gstd,lambda_iso_100307_pred)\n",
    "volume_0_mse = mse(volume_0_100307_pred_gstd,volume_0_100307_pred)\n",
    "volume_1_mse = mse(volume_1_100307_pred_gstd,volume_1_100307_pred)\n",
    "print(lambda_par_mse)\n",
    "print(lambda_iso_mse)\n",
    "print(volume_0_mse)\n",
    "print(volume_1_mse)"
   ]
  },
  {
   "cell_type": "markdown",
   "id": "fb3dc5a0-d7d0-468a-8379-6c2fd66a0ea8",
   "metadata": {},
   "source": [
    "Apply model_100206_5g_02.pt"
   ]
  },
  {
   "cell_type": "code",
   "execution_count": 136,
   "id": "05c11d4f-8134-4cc7-9396-0e8a3bb6f038",
   "metadata": {},
   "outputs": [
    {
     "name": "stdout",
     "output_type": "stream",
     "text": [
      "tensor(0.0136, grad_fn=<MseLossBackward0>)\n",
      "tensor(0.0438, grad_fn=<MseLossBackward0>)\n",
      "tensor(0.0032, grad_fn=<MseLossBackward0>)\n",
      "tensor(0.0032, grad_fn=<MseLossBackward0>)\n"
     ]
    }
   ],
   "source": [
    "lambda_par_mse = mse(lambda_par_100307_pred_gstd,lambda_par_100307_pred)\n",
    "lambda_iso_mse = mse(lambda_iso_100307_pred_gstd,lambda_iso_100307_pred)\n",
    "volume_0_mse = mse(volume_0_100307_pred_gstd,volume_0_100307_pred)\n",
    "volume_1_mse = mse(volume_1_100307_pred_gstd,volume_1_100307_pred)\n",
    "print(lambda_par_mse)\n",
    "print(lambda_iso_mse)\n",
    "print(volume_0_mse)\n",
    "print(volume_1_mse)"
   ]
  },
  {
   "cell_type": "markdown",
   "id": "b5e37885-981d-402f-a8bf-e2248ce724fd",
   "metadata": {},
   "source": [
    "Apply model_100206_5g_03.pt"
   ]
  },
  {
   "cell_type": "code",
   "execution_count": 151,
   "id": "2d41e54e-20cc-4e44-84a2-a60377e9ccb6",
   "metadata": {},
   "outputs": [
    {
     "name": "stdout",
     "output_type": "stream",
     "text": [
      "tensor(0.0087, grad_fn=<MseLossBackward0>)\n",
      "tensor(0.0155, grad_fn=<MseLossBackward0>)\n",
      "tensor(0.0005, grad_fn=<MseLossBackward0>)\n",
      "tensor(0.0005, grad_fn=<MseLossBackward0>)\n"
     ]
    }
   ],
   "source": [
    "lambda_par_mse = mse(lambda_par_100307_pred_gstd,lambda_par_100307_pred)\n",
    "lambda_iso_mse = mse(lambda_iso_100307_pred_gstd,lambda_iso_100307_pred)\n",
    "volume_0_mse = mse(volume_0_100307_pred_gstd,volume_0_100307_pred)\n",
    "volume_1_mse = mse(volume_1_100307_pred_gstd,volume_1_100307_pred)\n",
    "print(lambda_par_mse)\n",
    "print(lambda_iso_mse)\n",
    "print(volume_0_mse)\n",
    "print(volume_1_mse)"
   ]
  },
  {
   "cell_type": "markdown",
   "id": "e7ce9d15-afcf-4e17-b5c7-7f83a23a45d7",
   "metadata": {},
   "source": [
    "When using 1 groups of measurements"
   ]
  },
  {
   "cell_type": "markdown",
   "id": "815f7787-6ba7-4b12-8781-7c1bed7d4b77",
   "metadata": {},
   "source": [
    "Apply model_100206_single_01.pt"
   ]
  },
  {
   "cell_type": "code",
   "execution_count": 269,
   "id": "a85537ff-ac95-4aa7-bf98-8e1284cc4151",
   "metadata": {},
   "outputs": [
    {
     "name": "stdout",
     "output_type": "stream",
     "text": [
      "tensor(0.0357, grad_fn=<MseLossBackward0>)\n",
      "tensor(0.0783, grad_fn=<MseLossBackward0>)\n",
      "tensor(0.0029, grad_fn=<MseLossBackward0>)\n",
      "tensor(0.0029, grad_fn=<MseLossBackward0>)\n"
     ]
    }
   ],
   "source": [
    "lambda_par_mse = mse(lambda_par_100307_pred_gstd,lambda_par_100307_pred)\n",
    "lambda_iso_mse = mse(lambda_iso_100307_pred_gstd,lambda_iso_100307_pred)\n",
    "volume_0_mse = mse(volume_0_100307_pred_gstd,volume_0_100307_pred)\n",
    "volume_1_mse = mse(volume_1_100307_pred_gstd,volume_1_100307_pred)\n",
    "print(lambda_par_mse)\n",
    "print(lambda_iso_mse)\n",
    "print(volume_0_mse)\n",
    "print(volume_1_mse)"
   ]
  },
  {
   "cell_type": "code",
   "execution_count": null,
   "id": "80deb473-8a39-42a7-9a44-7f74254e4990",
   "metadata": {},
   "outputs": [],
   "source": [
    "tensor(0.0020, grad_fn=<MseLossBackward0>)\n",
    "tensor(0.0040, grad_fn=<MseLossBackward0>)\n",
    "tensor(0.0001, grad_fn=<MseLossBackward0>)\n",
    "tensor(0.0001, grad_fn=<MseLossBackward0>)"
   ]
  },
  {
   "cell_type": "code",
   "execution_count": 223,
   "id": "b84943d3-919f-4759-b3fe-0b596aaf2217",
   "metadata": {},
   "outputs": [
    {
     "data": {
      "text/plain": [
       "[<matplotlib.axis.XTick at 0x1d13fd6c0>,\n",
       " <matplotlib.axis.XTick at 0x1d13fd690>,\n",
       " <matplotlib.axis.XTick at 0x1d1383af0>,\n",
       " <matplotlib.axis.XTick at 0x1d142f190>,\n",
       " <matplotlib.axis.XTick at 0x1d142faf0>,\n",
       " <matplotlib.axis.XTick at 0x1d142e110>,\n",
       " <matplotlib.axis.XTick at 0x1d1464310>,\n",
       " <matplotlib.axis.XTick at 0x1d1464af0>]"
      ]
     },
     "execution_count": 223,
     "metadata": {},
     "output_type": "execute_result"
    },
    {
     "data": {
      "image/png": "[encoded data removed]",
      "text/plain": [
       "<Figure size 640x480 with 1 Axes>"
      ]
     },
     "metadata": {},
     "output_type": "display_data"
    }
   ],
   "source": [
    "# x_values = [1, 5, 6, 7, 8, 9]\n",
    "# y_values = [[0.0357], [0.0060], [0.0059], [0.0051, 0.0094], [0.0059, 0.0043], [0.0030, 0.0046, 0.0034, 0.0027, 0.0092, 0.0086]]\n",
    "x_values = [5, 6, 7, 8, 9, 11, 13, 15]\n",
    "y_values = [[0.0060, 0.0136,0.0087], [0.0059,0.0052], [0.0051, 0.0094, 0.0064], [0.0059, 0.0043, 0.0058], [0.0030, 0.0046, 0.0034, 0.0027, 0.0092, 0.0086],[0.0017, 0.0045], [0.0147,0.0046,0.0038,0.0038,0.0044,0.0020],[0.0032,0.0033]]\n",
    "\n",
    "fig, ax = plt.subplots()\n",
    "for i in range(len(x_values)):\n",
    "    ax.scatter([x_values[i]] * len(y_values[i]), y_values[i])\n",
    "    \n",
    "ax.set_xlabel('Number of groups of measurements')\n",
    "ax.set_ylabel('MSE between the lambda_par_golden_std and lambda_par_pred')\n",
    "\n",
    "ax.set_xticks(x_values)\n",
    "\n",
    "# best pred using 9 gropus of measurements\n",
    "# -> b values /  * gradient direction arr in shape of (3, 288)\n",
    "#                 scoring 统计差不多的方向（a,b,c）的数量，展现方向的distribution (histgram)\n",
    "    \n",
    "# mean((pred-mean(ground_truth))^2)\n",
    "# avg_acc variance \n",
    "# simulated signals\n",
    "\n",
    "# 蒙特卡洛采样\n"
   ]
  },
  {
   "cell_type": "code",
   "execution_count": 224,
   "id": "488cd309-bbef-4ca0-a38d-70efe6cb4ed6",
   "metadata": {},
   "outputs": [
    {
     "data": {
      "text/plain": [
       "[<matplotlib.axis.XTick at 0x1d1494e80>,\n",
       " <matplotlib.axis.XTick at 0x1d1494eb0>,\n",
       " <matplotlib.axis.XTick at 0x1d1467c40>,\n",
       " <matplotlib.axis.XTick at 0x1d14e8af0>,\n",
       " <matplotlib.axis.XTick at 0x1d14e91b0>,\n",
       " <matplotlib.axis.XTick at 0x1d14e9600>,\n",
       " <matplotlib.axis.XTick at 0x1d14e9de0>,\n",
       " <matplotlib.axis.XTick at 0x1d14ea5c0>]"
      ]
     },
     "execution_count": 224,
     "metadata": {},
     "output_type": "execute_result"
    },
    {
     "data": {
      "image/png": "[encoded data removed]",
      "text/plain": [
       "<Figure size 640x480 with 1 Axes>"
      ]
     },
     "metadata": {},
     "output_type": "display_data"
    }
   ],
   "source": [
    "# x_values = [1, 5, 6, 7, 8, 9]\n",
    "# y_values = [[0.0783], [0.0184], [0.0142], [0.0118, 0.0110], [0.0348, 0.0108], [0.0089, 0.0088, 0.0080, 0.0069, 0.0077, 0.0081]]\n",
    "x_values = [5, 6, 7, 8, 9,11, 13,15]\n",
    "y_values = [[0.0184, 0.0438,0.0155], [0.0142,0.0135], [0.0118, 0.0110, 0.0266], [0.0348, 0.0108, 0.0098], [0.0089, 0.0088, 0.0080, 0.0069, 0.0077, 0.0081], [0.0058, 0.0056], [0.0370, 0.0312, 0.0046,0.0051,0.0039,0.0040],[0.0029,0.0057]]\n",
    "\n",
    "fig, ax = plt.subplots()\n",
    "for i in range(len(x_values)):\n",
    "    ax.scatter([x_values[i]] * len(y_values[i]), y_values[i])\n",
    "    \n",
    "ax.set_xlabel('Number of groups of measurements')\n",
    "ax.set_ylabel('MSE between the lambda_iso_golden_std and lambda_iso_pred')\n",
    "\n",
    "ax.set_xticks(x_values)"
   ]
  },
  {
   "cell_type": "code",
   "execution_count": 225,
   "id": "cedcd348-231b-49a7-b282-231e451674a2",
   "metadata": {},
   "outputs": [
    {
     "data": {
      "text/plain": [
       "[<matplotlib.axis.XTick at 0x1d153ca90>,\n",
       " <matplotlib.axis.XTick at 0x1d153cbb0>,\n",
       " <matplotlib.axis.XTick at 0x1d153c310>,\n",
       " <matplotlib.axis.XTick at 0x1d151a290>,\n",
       " <matplotlib.axis.XTick at 0x1d156f2b0>,\n",
       " <matplotlib.axis.XTick at 0x1d156fa90>,\n",
       " <matplotlib.axis.XTick at 0x1d156ff70>,\n",
       " <matplotlib.axis.XTick at 0x1d156f640>]"
      ]
     },
     "execution_count": 225,
     "metadata": {},
     "output_type": "execute_result"
    },
    {
     "data": {
      "image/png": "[encoded data removed]",
      "text/plain": [
       "<Figure size 640x480 with 1 Axes>"
      ]
     },
     "metadata": {},
     "output_type": "display_data"
    }
   ],
   "source": [
    "# x_values = [1, 5, 6, 7, 8, 9]\n",
    "# y_values = [[0.0029], [0.0004], [0.0004], [0.0003, 0.0004], [0.0024, 0.0003], [0.0002, 0.0003, 0.0002, 0.0002, 0.0003, 0.0003]]\n",
    "x_values = [5, 6, 7, 8, 9, 11, 13, 15]\n",
    "y_values = [[0.0004,0.0032,0.0005], [0.0004,0.0004], [0.0003, 0.0004, 0.0018], [0.0024, 0.0003, 0.0003], [0.0002, 0.0003, 0.0002, 0.0002, 0.0003, 0.0003],[0.0001, 0.0002], [0.0026, 0.0023, 0.0002,0.0002,0.0002,0.0001,],[0.0001,0.0001]]\n",
    "\n",
    "fig, ax = plt.subplots()\n",
    "for i in range(len(x_values)):\n",
    "    ax.scatter([x_values[i]] * len(y_values[i]), y_values[i])\n",
    "    \n",
    "ax.set_xlabel('Number of groups of measurements')\n",
    "ax.set_ylabel('MSE between the fraction_values_golden_std and fraction_values_pred')\n",
    "\n",
    "ax.set_xticks(x_values)"
   ]
  },
  {
   "cell_type": "code",
   "execution_count": null,
   "id": "c63fe4e6-97ff-451f-bf3b-de9b001ed8dc",
   "metadata": {},
   "outputs": [],
   "source": []
  },
  {
   "cell_type": "code",
   "execution_count": null,
   "id": "287018bb-fe2b-47aa-aa4a-96f5dd27cda8",
   "metadata": {},
   "outputs": [],
   "source": []
  },
  {
   "cell_type": "code",
   "execution_count": null,
   "id": "d3b886ff-7d82-4460-82f1-baae8b0a03a2",
   "metadata": {},
   "outputs": [],
   "source": []
  },
  {
   "cell_type": "code",
   "execution_count": null,
   "id": "46a21dcd-06e7-4d3f-9763-a8b56ce3ab78",
   "metadata": {},
   "outputs": [],
   "source": [
    "# mean((p - mean(gtd))^2) "
   ]
  },
  {
   "cell_type": "code",
   "execution_count": null,
   "id": "6c3466e4-5fb6-4050-82c7-b2969c1cf76f",
   "metadata": {},
   "outputs": [],
   "source": []
  },
  {
   "cell_type": "code",
   "execution_count": null,
   "id": "dc3584cb-a891-40bb-822d-fead7e39a326",
   "metadata": {},
   "outputs": [],
   "source": []
  },
  {
   "cell_type": "code",
   "execution_count": 112,
   "id": "1cc36331-c1ab-4471-9485-f84e8ca7d754",
   "metadata": {},
   "outputs": [
    {
     "name": "stdout",
     "output_type": "stream",
     "text": [
      "\n"
     ]
    }
   ],
   "source": [
    "rand_sub_bval_indice_100307 = np.array(process_data.get_rand_selected_bval_indice(bvals_all_100307, 9))"
   ]
  },
  {
   "cell_type": "code",
   "execution_count": 111,
   "id": "146040f7-afe6-4cc3-9754-af131776e824",
   "metadata": {},
   "outputs": [
    {
     "data": {
      "text/plain": [
       "array([   5.,  990.,  995., 1000., 1005., 1985., 1990., 1995., 2000.,\n",
       "       2005., 2010., 2980., 2985., 2990., 2994., 2995., 3000., 3005.,\n",
       "       3010.])"
      ]
     },
     "execution_count": 111,
     "metadata": {},
     "output_type": "execute_result"
    }
   ],
   "source": [
    "np.unique(bvals_all_100307[rand_sub_bval_indice_100307])"
   ]
  },
  {
   "cell_type": "code",
   "execution_count": 113,
   "id": "3113ca77-f6fc-4cde-99ad-63b4979ae427",
   "metadata": {},
   "outputs": [
    {
     "data": {
      "text/plain": [
       "array([   5.,  990.,  995., 1000., 1005., 1985., 1990., 1995., 2000.,\n",
       "       2005., 2010., 2980., 2985., 2990., 2995., 3000., 3005., 3010.])"
      ]
     },
     "execution_count": 113,
     "metadata": {},
     "output_type": "execute_result"
    }
   ],
   "source": [
    "np.unique(bvals_all_100307[rand_sub_bval_indice_100307])"
   ]
  },
  {
   "cell_type": "code",
   "execution_count": null,
   "id": "25fee634-e321-42e8-a240-92f41e653365",
   "metadata": {},
   "outputs": [],
   "source": [
    "# Training data 1000 2000 3000\n",
    "\n",
    "# Testing data 3000 2000 1000"
   ]
  }
 ],
 "metadata": {
  "kernelspec": {
   "display_name": "Python 3 (ipykernel)",
   "language": "python",
   "name": "python3"
  },
  "language_info": {
   "codemirror_mode": {
    "name": "ipython",
    "version": 3
   },
   "file_extension": ".py",
   "mimetype": "text/x-python",
   "name": "python",
   "nbconvert_exporter": "python",
   "pygments_lexer": "ipython3",
   "version": "3.10.8"
  }
 },
 "nbformat": 4,
 "nbformat_minor": 5
}
