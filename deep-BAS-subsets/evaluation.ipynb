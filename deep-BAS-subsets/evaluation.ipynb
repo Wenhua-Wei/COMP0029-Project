{
 "cells": [
  {
   "cell_type": "code",
   "execution_count": 1,
   "id": "fa04a1bf-b947-42fd-b5d9-2aa719197e00",
   "metadata": {},
   "outputs": [],
   "source": [
    "import numpy as np\n",
    "\n",
    "from dmipy.core.acquisition_scheme import acquisition_scheme_from_bvalues\n",
    "from dmipy.signal_models import cylinder_models, gaussian_models\n",
    "from dmipy.core.modeling_framework import MultiCompartmentModel\n",
    "\n",
    "import matplotlib.pyplot as plt\n",
    "import matplotlib\n",
    "\n",
    "import torch\n",
    "import torch.nn as nn\n",
    "import torch.optim as optim\n",
    "import torch.utils.data as utils\n",
    "from tqdm import tqdm\n",
    "\n",
    "import process_data\n",
    "import config\n",
    "import network"
   ]
  },
  {
   "cell_type": "code",
   "execution_count": 2,
   "id": "8d27968f-183c-48b5-982b-d137f62bc4df",
   "metadata": {
    "tags": []
   },
   "outputs": [],
   "source": [
    "scan_100307 = process_data.get_nifti_data(config.data_folder2 + '/100307/data.nii.gz')\n",
    "mask_100307 = process_data.get_nifti_data(config.data_folder2 + '/100307/nodif_brain_mask.nii.gz')\n",
    "mask_100307_long_pro = process_data.get_mask_pro(scan_100307, mask_100307)"
   ]
  },
  {
   "cell_type": "code",
   "execution_count": 3,
   "id": "88b05ca6-e5b9-4190-bd88-bf79a110cf2a",
   "metadata": {},
   "outputs": [],
   "source": [
    "normalized_scan_100307_full = np.load(config.norm_data_path + '/normalized_scan_100307_full.npy')\n",
    "# normalized_scan_100307_full = np.load('normalized_scan_100610_full.npy')"
   ]
  },
  {
   "cell_type": "code",
   "execution_count": 4,
   "id": "2f2b96f5-2890-4bd2-85d0-5e5f7fdbd366",
   "metadata": {},
   "outputs": [],
   "source": [
    "bvals_all_100307 = np.loadtxt(config.data_folder2 + '/100307/bvals')"
   ]
  },
  {
   "cell_type": "code",
   "execution_count": 5,
   "id": "33509016-c6e9-44e1-b782-f6f31b25226e",
   "metadata": {
    "tags": []
   },
   "outputs": [],
   "source": [
    "selected_indice = [  0,   1,   2,   3,   4,   5,   6,   7,   8,   9,  10,  11,  12,\n",
    "        13,  14,  15,  16,  17,  18,  19,  20,  21,  22,  23,  24,  25,\n",
    "        26,  27,  28,  29,  30,  31,  32,  33,  34,  35,  36,  37,  38,\n",
    "        39,  40,  41,  42,  43,  44,  45,  46,  47,  48,  49,  50,  51,\n",
    "        52,  53,  54,  55,  56,  57,  58,  59,  60,  61,  62,  63, 112,\n",
    "       113, 114, 115, 116, 117, 118, 119, 120, 121, 122, 123, 124, 125,\n",
    "       126, 127, 144, 145, 146, 147, 148, 149, 150, 151, 152, 153, 154,\n",
    "       155, 156, 157, 158, 159, 160, 161, 162, 163, 164, 165, 166, 167,\n",
    "       168, 169, 170, 171, 172, 173, 174, 175, 176, 177, 178, 179, 180,\n",
    "       181, 182, 183, 184, 185, 186, 187, 188, 189, 190, 191, 192, 193,\n",
    "       194, 195, 196, 197, 198, 199, 200, 201, 202, 203, 204, 205, 206,\n",
    "       207, 208, 209, 210, 211, 212, 213, 214, 215, 216, 217, 218, 219,\n",
    "       220, 221, 222, 223, 224, 225, 226, 227, 228, 229, 230, 231, 232,\n",
    "       233, 234, 235, 236, 237, 238, 239, 240, 241, 242, 243, 244, 245,\n",
    "       246, 247, 248, 249, 250, 251, 252, 253, 254, 255, 256, 257, 258,\n",
    "       259, 260, 261, 262, 263, 264, 265, 266, 267, 268, 269, 270, 271]"
   ]
  },
  {
   "cell_type": "code",
   "execution_count": 6,
   "id": "fb01656b-8781-4630-a747-db47b8a7c888",
   "metadata": {},
   "outputs": [],
   "source": [
    "bvals_100307_selected = bvals_all_100307[selected_indice]*1e-3"
   ]
  },
  {
   "cell_type": "code",
   "execution_count": 7,
   "id": "3e1b16d3-8fee-4092-b975-93697e67ee37",
   "metadata": {
    "tags": []
   },
   "outputs": [],
   "source": [
    "normalized_scan_100307_sub = normalized_scan_100307_full[:,selected_indice]"
   ]
  },
  {
   "cell_type": "code",
   "execution_count": 8,
   "id": "161ef3e4-0130-404d-8ede-055e1f3d9005",
   "metadata": {},
   "outputs": [],
   "source": [
    "big_b_bvals_100307_selected = np.where(bvals_100307_selected != 0.005)[0]"
   ]
  },
  {
   "cell_type": "code",
   "execution_count": 9,
   "id": "1e09f2d4-e134-41b6-8e26-29f5f1318272",
   "metadata": {},
   "outputs": [],
   "source": [
    "normalized_scan_100307_sub_no_b5 = normalized_scan_100307_sub[:, big_b_bvals_100307_selected]\n",
    "bvals_100307_selected_no_5 = bvals_100307_selected[big_b_bvals_100307_selected]"
   ]
  },
  {
   "cell_type": "code",
   "execution_count": 10,
   "id": "c1a50880-7ee1-44de-bcbc-30d95936187b",
   "metadata": {},
   "outputs": [
    {
     "name": "stdout",
     "output_type": "stream",
     "text": [
      "(195, 3)\n"
     ]
    }
   ],
   "source": [
    "n_all_100307 = np.loadtxt(config.data_folder2 + '/100307/bvecs')\n",
    "n_100307_sub = n_all_100307[:,selected_indice]\n",
    "n_100307_sub_no_b5 = n_100307_sub[:,big_b_bvals_100307_selected].T\n",
    "print(n_100307_sub_no_b5.shape)\n",
    "\n",
    "b_values_100307_sub = torch.FloatTensor(bvals_100307_selected_no_5)\n",
    "gradient_directions_100307_sub = torch.FloatTensor(n_100307_sub_no_b5)"
   ]
  },
  {
   "cell_type": "code",
   "execution_count": 12,
   "id": "8d627dc6-c1a9-478d-8725-f5213910b88b",
   "metadata": {},
   "outputs": [
    {
     "data": {
      "text/plain": [
       "BallStickNet(\n",
       "  (fc_layers): ModuleList(\n",
       "    (0): Linear(in_features=195, out_features=195, bias=True)\n",
       "    (1): ELU(alpha=1.0)\n",
       "    (2): Linear(in_features=195, out_features=195, bias=True)\n",
       "    (3): ELU(alpha=1.0)\n",
       "    (4): Linear(in_features=195, out_features=195, bias=True)\n",
       "    (5): ELU(alpha=1.0)\n",
       "  )\n",
       "  (encoder): Sequential(\n",
       "    (0): Linear(in_features=195, out_features=195, bias=True)\n",
       "    (1): ELU(alpha=1.0)\n",
       "    (2): Linear(in_features=195, out_features=195, bias=True)\n",
       "    (3): ELU(alpha=1.0)\n",
       "    (4): Linear(in_features=195, out_features=195, bias=True)\n",
       "    (5): ELU(alpha=1.0)\n",
       "    (6): Linear(in_features=195, out_features=5, bias=True)\n",
       "  )\n",
       ")"
      ]
     },
     "execution_count": 12,
     "metadata": {},
     "output_type": "execute_result"
    }
   ],
   "source": [
    "net = network.BallStickNet(gradient_directions_100307_sub, b_values_100307_sub)\n",
    "net.load_state_dict(torch.load(\"/Users/weiwenhua/UGY4/COMP0029/COMP0029-Project/deep-BAS-subsets/Models/model_100206_13g_01_retrain2.pt\"))\n",
    "net.eval()\n",
    "\n",
    "\n",
    "# net = network.BallStickNet(len(b_values_100307_sub))\n",
    "# net.load_state_dict(torch.load(\"/Users/weiwenhua/UGY4/COMP0029/COMP0029-Project/deep-BAS-subsets/Models/model_100206_13g_01_retrain.pt\"))\n",
    "# net.eval()"
   ]
  },
  {
   "cell_type": "code",
   "execution_count": 14,
   "id": "0e04aeb0-0f86-4a18-8dd6-368de3344bf4",
   "metadata": {},
   "outputs": [],
   "source": [
    "X_100307_pred, theta_100307_pred, phi_100307_pred, mu_cart_100307_pred, lambda_par_100307_pred, lambda_iso_100307_pred,  volume_0_100307_pred, volume_1_100307_pred = net(torch.from_numpy(normalized_scan_100307_sub_no_b5.astype(np.float32)))"
   ]
  },
  {
   "cell_type": "code",
   "execution_count": 15,
   "id": "a33a96db-7949-4ffb-9fac-bd86866a0325",
   "metadata": {},
   "outputs": [
    {
     "data": {
      "text/plain": [
       "<matplotlib.colorbar.Colorbar at 0x1b3c6f4c0>"
      ]
     },
     "execution_count": 15,
     "metadata": {},
     "output_type": "execute_result"
    },
    {
     "data": {
      "image/png": "[encoded data removed]",
      "text/plain": [
       "<Figure size 640x480 with 2 Axes>"
      ]
     },
     "metadata": {},
     "output_type": "display_data"
    }
   ],
   "source": [
    "lambda_par_100307_pred_3d = process_data.back_to_3D(mask_100307_long_pro, lambda_par_100307_pred, (145, 174, 145))\n",
    "im = plt.imshow(lambda_par_100307_pred_3d[:,:,70].squeeze().T, origin='lower', interpolation='nearest', cmap=matplotlib.colormaps[\"hot\"], vmin = 0, vmax = 3)\n",
    "plt.colorbar(im)"
   ]
  },
  {
   "cell_type": "code",
   "execution_count": 16,
   "id": "2996d75a-688d-4f9d-a08c-4473025cd5e9",
   "metadata": {},
   "outputs": [
    {
     "data": {
      "text/plain": [
       "<matplotlib.colorbar.Colorbar at 0x1b3ee6410>"
      ]
     },
     "execution_count": 16,
     "metadata": {},
     "output_type": "execute_result"
    },
    {
     "data": {
      "image/png": "[encoded data removed]",
      "text/plain": [
       "<Figure size 640x480 with 2 Axes>"
      ]
     },
     "metadata": {},
     "output_type": "display_data"
    }
   ],
   "source": [
    "lambda_iso_100307_pred_3d = process_data.back_to_3D(mask_100307_long_pro, lambda_iso_100307_pred, (145, 174, 145))\n",
    "im = plt.imshow(lambda_iso_100307_pred_3d[:,:,70].squeeze().T, origin='lower', interpolation='nearest', cmap=matplotlib.colormaps[\"hot\"], vmin = 0, vmax = 3)\n",
    "plt.colorbar(im)"
   ]
  },
  {
   "cell_type": "markdown",
   "id": "4e65f946-6fbe-462b-9419-d0b45ecd5f7c",
   "metadata": {},
   "source": [
    "Golden standard"
   ]
  },
  {
   "cell_type": "code",
   "execution_count": 17,
   "id": "6e386f2b-2cef-4d6a-98eb-e28a70bda07d",
   "metadata": {},
   "outputs": [],
   "source": [
    "big_b_indices_100307 = np.where(bvals_all_100307 != 5.)[0]"
   ]
  },
  {
   "cell_type": "code",
   "execution_count": 18,
   "id": "1ad90c98-ddaf-4821-901a-32863e069272",
   "metadata": {},
   "outputs": [],
   "source": [
    "bvals_100307_no_b5 = bvals_all_100307[big_b_indices_100307]*1e-3"
   ]
  },
  {
   "cell_type": "code",
   "execution_count": 19,
   "id": "f71ae0e8-5d2d-4112-8286-bd0d2c554e7c",
   "metadata": {},
   "outputs": [],
   "source": [
    "normalized_scan_100307_no_b5 = normalized_scan_100307_full[:, big_b_indices_100307]"
   ]
  },
  {
   "cell_type": "code",
   "execution_count": 20,
   "id": "05b0976b-8609-4558-a261-bd054a7cb320",
   "metadata": {},
   "outputs": [],
   "source": [
    "n_100307_no_b5 = n_all_100307[:,big_b_indices_100307].T"
   ]
  },
  {
   "cell_type": "code",
   "execution_count": 21,
   "id": "209f20ed-e816-40dd-8c35-1edcc403edcb",
   "metadata": {},
   "outputs": [],
   "source": [
    "b_values_100307 = torch.FloatTensor(bvals_100307_no_b5)\n",
    "gradient_directions_100307 = torch.FloatTensor(n_100307_no_b5)"
   ]
  },
  {
   "cell_type": "code",
   "execution_count": 24,
   "id": "ab9f20fc-497e-40ed-85d1-49a40b5f2e2a",
   "metadata": {},
   "outputs": [
    {
     "data": {
      "text/plain": [
       "BallStickNet(\n",
       "  (fc_layers): ModuleList(\n",
       "    (0): Linear(in_features=270, out_features=270, bias=True)\n",
       "    (1): ELU(alpha=1.0)\n",
       "    (2): Linear(in_features=270, out_features=270, bias=True)\n",
       "    (3): ELU(alpha=1.0)\n",
       "    (4): Linear(in_features=270, out_features=270, bias=True)\n",
       "    (5): ELU(alpha=1.0)\n",
       "  )\n",
       "  (encoder): Sequential(\n",
       "    (0): Linear(in_features=270, out_features=270, bias=True)\n",
       "    (1): ELU(alpha=1.0)\n",
       "    (2): Linear(in_features=270, out_features=270, bias=True)\n",
       "    (3): ELU(alpha=1.0)\n",
       "    (4): Linear(in_features=270, out_features=270, bias=True)\n",
       "    (5): ELU(alpha=1.0)\n",
       "    (6): Linear(in_features=270, out_features=5, bias=True)\n",
       "  )\n",
       ")"
      ]
     },
     "execution_count": 24,
     "metadata": {},
     "output_type": "execute_result"
    }
   ],
   "source": [
    "net_golden_std = network.BallStickNet(gradient_directions_100307, b_values_100307)\n",
    "net_golden_std.load_state_dict(torch.load(\"/Users/weiwenhua/UGY4/COMP0029/COMP0029-Project/deep-ball-stick/model_100206_norm_01_Feb_182e.pt\"))\n",
    "net_golden_std.eval()\n",
    "\n",
    "# net_golden_std = network.BallStickNet(len(b_values_100307))\n",
    "# net_golden_std.load_state_dict(torch.load(\"/Users/weiwenhua/UGY4/COMP0029/COMP0029-Project/deep-ball-stick/model_100206_norm_01_Feb_182e.pt\"))\n",
    "# net_golden_std.eval()"
   ]
  },
  {
   "cell_type": "code",
   "execution_count": 26,
   "id": "c284964f-f434-4f2c-95cd-8da475b009a0",
   "metadata": {},
   "outputs": [],
   "source": [
    "with torch.no_grad():\n",
    "    X_100307_pred_gstd,theta_100307_pred_gstd, phi_100307_pred_gstd, mu_cart_100307_pred_gstd, lambda_par_100307_pred_gstd, lambda_iso_100307_pred_gstd, volume_0_100307_pred_gstd, volume_1_100307_pred_gstd = net_golden_std(torch.from_numpy(normalized_scan_100307_no_b5.astype(np.float32)))"
   ]
  },
  {
   "cell_type": "code",
   "execution_count": 23,
   "id": "d93ebb8f-a2c0-48f2-8c38-fb189b1c1f13",
   "metadata": {},
   "outputs": [
    {
     "data": {
      "text/plain": [
       "tensor([[ 0.1888,  0.5349,  0.6016,  ...,  0.5509, -0.5324, -0.4095],\n",
       "        [ 0.9579,  0.4682,  0.4306,  ...,  0.8208,  0.6866,  0.8606],\n",
       "        [ 0.2162, -0.7034, -0.6728,  ...,  0.1508, -0.4952, -0.3029]],\n",
       "       grad_fn=<CopySlices>)"
      ]
     },
     "execution_count": 23,
     "metadata": {},
     "output_type": "execute_result"
    }
   ],
   "source": [
    "mu_cart_100307_pred_gstd"
   ]
  },
  {
   "cell_type": "code",
   "execution_count": 24,
   "id": "4c27a455-69af-4472-8fe6-05fafc292a9d",
   "metadata": {},
   "outputs": [
    {
     "data": {
      "text/plain": [
       "tensor([[ 0.2312,  0.5892,  0.6408,  ...,  0.6622, -0.4965, -0.2689],\n",
       "        [ 0.9655,  0.5044,  0.3519,  ...,  0.7448,  0.7196,  0.8891],\n",
       "        [ 0.1197, -0.6312, -0.6822,  ...,  0.0828, -0.4854, -0.3703]],\n",
       "       grad_fn=<CopySlices>)"
      ]
     },
     "execution_count": 24,
     "metadata": {},
     "output_type": "execute_result"
    }
   ],
   "source": [
    "mu_cart_100307_pred"
   ]
  },
  {
   "cell_type": "code",
   "execution_count": 66,
   "id": "3049dbb5-a317-4e17-838f-2e0c15e2e43d",
   "metadata": {
    "collapsed": true,
    "jupyter": {
     "outputs_hidden": true
    },
    "tags": []
   },
   "outputs": [
    {
     "data": {
      "text/plain": [
       "array([[ 0.519218,  0.940461,  0.33274 ,  0.062696,  0.195299,  0.469331,\n",
       "         0.702082,  0.277576, -0.636052,  0.882737,  0.224295,  0.201882,\n",
       "         0.843525, -0.448841,  0.972035,  0.273082, -0.517173,  0.874913,\n",
       "        -0.462356, -0.041258, -0.785634,  0.527427, -0.197852,  0.790547,\n",
       "        -0.364541,  0.65342 , -0.494403,  0.753075, -0.312991,  0.443738,\n",
       "        -0.892087,  0.533812, -0.517056, -0.248187, -0.610885,  0.610531,\n",
       "        -0.176929,  0.202136, -0.873268,  0.883453, -0.337405, -0.047389,\n",
       "         0.542681,  0.858772,  0.188905,  0.021357,  0.812345,  0.999012,\n",
       "         0.518146,  0.016815,  0.939281,  0.10938 ,  0.615123,  0.079717,\n",
       "         0.21232 ,  0.624695,  0.500341,  0.445286,  0.686432,  0.719825,\n",
       "        -0.065414,  0.565775,  0.540141,  0.722051,  0.518917,  0.184341,\n",
       "         0.56399 ,  0.694944,  0.991421,  0.115499,  0.842074,  0.259957,\n",
       "         0.436452,  0.892304,  0.568993,  0.772571, -0.220232,  0.587616,\n",
       "         0.18296 ,  0.323551,  0.520495,  0.854642,  0.371254,  0.538408,\n",
       "         0.702676,  0.948588,  0.132933,  0.121979,  0.488116,  0.553169,\n",
       "        -0.497797, -0.172196,  0.737917,  0.376446,  0.805909, -0.520521,\n",
       "        -0.780935,  0.386031,  0.926135, -0.564459, -0.142456, -0.826658,\n",
       "         0.256432,  0.391468, -0.113237,  0.943966,  0.463608, -0.005268,\n",
       "        -0.068822,  0.979087, -0.505575,  0.951492, -0.520483, -0.131377,\n",
       "        -0.236425, -0.785328,  0.264608, -0.51434 , -0.359242, -0.704025,\n",
       "        -0.480265, -0.026496, -0.824452, -0.456828, -0.745657, -0.218313,\n",
       "         0.98339 , -0.264213, -0.519299, -0.682882,  0.717775, -0.091946,\n",
       "        -0.281998,  0.917867,  0.149751, -0.65024 , -0.365209,  0.761782,\n",
       "        -0.223425,  0.817886, -0.241638,  0.481658, -0.204746, -0.189117,\n",
       "        -0.516888, -0.165799,  0.721927, -0.454583,  0.720483, -0.472616,\n",
       "         0.953967, -0.347548, -0.560805, -0.582642,  0.787448, -0.077355,\n",
       "        -0.161407,  0.857569,  0.668823,  0.666488, -0.515112, -0.712988,\n",
       "        -0.544972, -0.652451, -0.327054,  0.935934,  0.870531,  0.013765,\n",
       "        -0.34434 , -0.658604, -0.103994, -0.386291, -0.392791, -0.502505,\n",
       "        -0.11155 ,  0.947432, -0.514872,  0.017248, -0.032719, -0.166909,\n",
       "         0.969066, -0.414331,  0.936287,  0.911232, -0.298545,  0.946168,\n",
       "        -0.140565, -0.641361,  0.908228, -0.466275, -0.352509,  0.513377,\n",
       "         0.839413, -0.11931 , -0.533734, -0.779008,  0.498713, -0.058889,\n",
       "         0.789475, -0.495657, -0.721104, -0.182134, -0.64553 , -0.224974,\n",
       "        -0.328408, -0.271444,  0.702799,  0.672319,  0.511064, -0.186662,\n",
       "         0.800379,  0.001927, -0.650776, -0.54513 ,  0.713111,  0.367854,\n",
       "         0.99079 , -0.089457,  0.920987,  0.415538,  0.343342,  0.844231,\n",
       "        -0.359298,  0.619814,  0.512989,  0.027353,  0.536639,  0.12633 ,\n",
       "         0.774545,  0.232923,  0.753398,  0.446619,  0.793645,  0.332561,\n",
       "         0.488898,  0.087379,  0.592308, -0.37292 ,  0.892518,  0.47934 ,\n",
       "        -0.514791,  0.981463,  0.645848, -0.668317,  0.862318,  0.296024,\n",
       "         0.114594,  0.61291 ,  0.733136, -0.010551,  0.306779,  0.376234,\n",
       "         0.83858 ,  0.740604,  0.06774 ,  0.791308,  0.517415, -0.015461,\n",
       "         0.911314,  0.348687, -0.192147,  0.302856,  0.334978,  0.956332,\n",
       "         0.527459,  0.670109,  0.66855 ,  0.335616,  0.422611,  0.267859,\n",
       "         0.425162,  0.517904,  0.518177,  0.262474,  0.122423,  0.868995,\n",
       "         0.255862,  0.421217,  0.717308,  0.175622,  0.844941,  0.317477,\n",
       "         0.837465,  0.780839, -0.351432,  0.62915 ,  0.992406, -0.409707],\n",
       "       [-0.678098, -0.284911,  0.874787, -0.395116,  0.895544, -0.795541,\n",
       "        -0.474367,  0.337181, -0.084263,  0.450147, -0.886244,  0.12566 ,\n",
       "        -0.420447, -0.255421,  0.234314,  0.950462,  0.683569,  0.329195,\n",
       "         0.875544, -0.42121 , -0.078043, -0.569808, -0.778943,  0.555951,\n",
       "         0.562521,  0.150615,  0.405765,  0.294596,  0.87311 ,  0.832442,\n",
       "         0.411227,  0.59621 ,  0.68763 , -0.817088,  0.783998,  0.764556,\n",
       "         0.260081, -0.498691,  0.362527, -0.188046,  0.043314,  0.99335 ,\n",
       "        -0.403207,  0.114012,  0.572174, -0.999389,  0.363525,  0.014877,\n",
       "        -0.701086, -0.600329, -0.17066 , -0.974666,  0.767602,  0.653623,\n",
       "         0.176041,  0.021276, -0.473089, -0.820485, -0.619474, -0.351397,\n",
       "        -0.781946,  0.82371 ,  0.491791,  0.625686, -0.702772, -0.062688,\n",
       "        -0.142913, -0.718904,  0.129374, -0.865806,  0.442611, -0.872081,\n",
       "         0.538674, -0.003223,  0.537767, -0.630213,  0.043339,  0.559459,\n",
       "        -0.242908,  0.946185, -0.704838, -0.492509,  0.372463, -0.68911 ,\n",
       "        -0.122481, -0.014624, -0.709578,  0.836913,  0.347919,  0.794031,\n",
       "         0.315759,  0.797058, -0.22289 , -0.92642 ,  0.569661,  0.691601,\n",
       "        -0.430024, -0.917046,  0.214861,  0.694516, -0.330126, -0.551037,\n",
       "         0.941895, -0.660165,  0.223835, -0.329845,  0.781496, -0.980013,\n",
       "        -0.088801, -0.14071 ,  0.173958,  0.105368,  0.691396, -0.082129,\n",
       "         0.646342,  0.152998,  0.962177, -0.706632, -0.29471 , -0.273401,\n",
       "        -0.65855 , -0.944992,  0.328605,  0.578192,  0.206969,  0.689446,\n",
       "        -0.180963,  0.392379,  0.692389,  0.627883, -0.627113,  0.683522,\n",
       "        -0.614315,  0.289771,  0.525091, -0.339238,  0.92341 ,  0.644152,\n",
       "         0.957706, -0.03298 , -0.605238, -0.034037, -0.932096, -0.64206 ,\n",
       "         0.694295,  0.392461, -0.662452,  0.144921, -0.303037, -0.113438,\n",
       "         0.189828, -0.63062 , -0.815343,  0.043436, -0.606828, -0.350742,\n",
       "         0.889148, -0.44072 ,  0.653876, -0.69282 ,  0.695602, -0.273269,\n",
       "        -0.7113  , -0.391499, -0.835134,  0.080769,  0.444348,  0.954462,\n",
       "         0.787583,  0.535852,  0.99126 ,  0.006566,  0.326656,  0.802232,\n",
       "         0.918843, -0.205514,  0.695073,  0.843342,  0.171584, -0.794768,\n",
       "        -0.030973, -0.08004 ,  0.230244,  0.411859,  0.40039 ,  0.306733,\n",
       "         0.493441,  0.694828, -0.129038, -0.884335, -0.920982, -0.689764,\n",
       "         0.074946,  0.771359,  0.834077,  0.477922,  0.324969,  0.036153,\n",
       "         0.217859,  0.79675 , -0.589311,  0.81637 ,  0.477577,  0.960469,\n",
       "         0.64758 , -0.124813,  0.552356,  0.519659, -0.695675, -0.287565,\n",
       "        -0.002104,  0.678379, -0.707021,  0.398455, -0.447204,  0.749834,\n",
       "         0.013454, -0.911219, -0.38956 ,  0.871516,  0.485975, -0.534799,\n",
       "         0.259207, -0.355307, -0.697165,  0.975979,  0.16887 , -0.485785,\n",
       "         0.427537,  0.952757,  0.585171,  0.069551, -0.4317  ,  0.376414,\n",
       "        -0.846988,  0.417288, -0.804673,  0.505816, -0.223718, -0.260518,\n",
       "         0.698453, -0.116518,  0.750325, -0.086178, -0.104172,  0.387453,\n",
       "         0.993081, -0.780686,  0.678546, -0.601455,  0.46672 , -0.738604,\n",
       "         0.276416,  0.45116 , -0.567824,  0.182419, -0.694947,  0.117187,\n",
       "        -0.409246,  0.723403,  0.959704, -0.118349, -0.901646,  0.241659,\n",
       "         0.754666, -0.085045,  0.085299,  0.689447,  0.843996, -0.550738,\n",
       "        -0.617776, -0.583088, -0.702588,  0.793946,  0.991105, -0.236045,\n",
       "         0.909411, -0.750473,  0.656558,  0.179937, -0.311695, -0.0976  ,\n",
       "        -0.457002, -0.368393,  0.870153, -0.170306,  0.046962, -0.656819],\n",
       "       [ 0.520187, -0.185364,  0.352182,  0.916489, -0.399822, -0.383201,\n",
       "         0.531089,  0.899589,  0.767032,  0.134699, -0.405294,  0.971315,\n",
       "         0.334199,  0.85633 , -0.015665, -0.148486, -0.515039,  0.355188,\n",
       "         0.140178, -0.906024,  0.613749,  0.630189,  0.595065, -0.256816,\n",
       "         0.742078,  0.741861,  0.768713,  0.588295, -0.373785,  0.331869,\n",
       "         0.187279, -0.599648, -0.509723, -0.520356, -0.110305, -0.206656,\n",
       "        -0.949238,  0.84288 ,  0.325542,  0.429126,  0.940362, -0.104931,\n",
       "         0.736832, -0.499511,  0.79808 , -0.027657, -0.456011,  0.041875,\n",
       "         0.489901, -0.799576,  0.297702, -0.195094,  0.18003 , -0.75261 ,\n",
       "        -0.961212,  0.780579, -0.725152,  0.358502, -0.38087 , -0.598641,\n",
       "         0.619903, -0.037419,  0.682926,  0.295229,  0.486657, -0.980861,\n",
       "         0.813321,  0.015151, -0.018612, -0.486868, -0.308233,  0.414603,\n",
       "        -0.720652,  0.451424,  0.622136,  0.077234, -0.974484, -0.584561,\n",
       "        -0.952639,  0.00699 ,  0.481963,  0.164387, -0.850553,  0.48502 ,\n",
       "        -0.700888, -0.316175, -0.691973,  0.53357 ,  0.800434, -0.252031,\n",
       "        -0.807771, -0.578831, -0.637023, -0.005861,  0.161235, -0.500744,\n",
       "        -0.453013, -0.100039,  0.310014,  0.446131,  0.933125,  0.113994,\n",
       "         0.216972, -0.641042, -0.968026, -0.011442, -0.41753 , -0.198864,\n",
       "         0.993668,  0.146932,  0.845063, -0.289069, -0.501067, -0.987924,\n",
       "        -0.725495, -0.599877,  0.064784,  0.485927, -0.885489, -0.65544 ,\n",
       "        -0.57936 ,  0.326017,  0.460759, -0.676019, -0.633371, -0.690654,\n",
       "        -0.014023,  0.881039, -0.500925, -0.37341 , -0.302537,  0.724116,\n",
       "        -0.736949, -0.271208, -0.837766,  0.679783, -0.118051, -0.068966,\n",
       "        -0.18133 , -0.574435,  0.758483, -0.875698,  0.298789, -0.742963,\n",
       "        -0.500781,  0.904702, -0.199948, -0.878836,  0.623757, -0.873937,\n",
       "         0.232193,  0.693922, -0.143918,  0.811567, -0.108104, -0.933272,\n",
       "         0.428209,  0.265221,  0.353726,  0.275306, -0.500797,  0.645734,\n",
       "        -0.443912,  0.648872,  0.442251,  0.342789,  0.211497,  0.298016,\n",
       "         0.511022,  0.528303, -0.081175, -0.922353, -0.859657,  0.322355,\n",
       "        -0.378529,  0.245227, -0.501776, -0.537099,  0.984626, -0.583511,\n",
       "        -0.244852,  0.906599, -0.265244,  0.005323, -0.866348, -0.103347,\n",
       "        -0.858345, -0.325377, -0.398085, -0.023241,  0.16592 ,  0.510557,\n",
       "         0.538302,  0.625117,  0.139441,  0.405879,  0.803542,  0.997609,\n",
       "         0.573818, -0.345707,  0.36431 , -0.548057,  0.595996,  0.163967,\n",
       "         0.687596,  0.954326, -0.448304,  0.527202,  0.504825,  0.939395,\n",
       "         0.599491, -0.734709,  0.276787,  0.737609,  0.539889,  0.549938,\n",
       "         0.134737, -0.40209 ,  0.005055, -0.260361,  0.803706, -0.035557,\n",
       "         0.896502,  0.699705,  0.500801, -0.216141, -0.826741, -0.864901,\n",
       "        -0.466146,  0.194941,  0.299943,  0.892017,  0.428676, -0.864705,\n",
       "         0.208782,  0.904564,  0.04089 , -0.777869, -0.391614, -0.838071,\n",
       "        -0.497145, -0.152162,  0.14104 , -0.738868, -0.495535,  0.873069,\n",
       "         0.025656, -0.121946,  0.045684,  0.798836, -0.829493,  0.559385,\n",
       "        -0.469444,  0.497957, -0.820358, -0.58357 ,  0.499329, -0.992989,\n",
       "         0.044987, -0.595907,  0.205057,  0.945659, -0.273541,  0.164409,\n",
       "         0.390214,  0.737374, -0.738759, -0.641891,  0.330258, -0.790531,\n",
       "         0.661505, -0.625926,  0.487711, -0.548412, -0.052177,  0.434891,\n",
       "         0.327882,  0.509279, -0.233237,  0.967873,  0.43465 , -0.94323 ,\n",
       "        -0.29967 , -0.504556,  0.345442,  0.758396, -0.113686, -0.633032]])"
      ]
     },
     "execution_count": 66,
     "metadata": {},
     "output_type": "execute_result"
    }
   ],
   "source": [
    "n_all_100307"
   ]
  },
  {
   "cell_type": "markdown",
   "id": "4f0cae42-a786-455d-8eb6-0973bd57382f",
   "metadata": {},
   "source": [
    "Mean square error"
   ]
  },
  {
   "cell_type": "code",
   "execution_count": 27,
   "id": "4b1e06f1-140c-404a-a8cb-56335017ad56",
   "metadata": {},
   "outputs": [],
   "source": [
    "mse = torch.nn.MSELoss(reduction='mean')"
   ]
  },
  {
   "cell_type": "code",
   "execution_count": 28,
   "id": "fae384d9-256e-4de6-b47b-4cd5ff932e96",
   "metadata": {},
   "outputs": [
    {
     "name": "stdout",
     "output_type": "stream",
     "text": [
      "tensor(0.0049, grad_fn=<MseLossBackward0>)\n",
      "tensor(0.0042, grad_fn=<MseLossBackward0>)\n",
      "tensor(0.0002, grad_fn=<MseLossBackward0>)\n",
      "tensor(0.0002, grad_fn=<MseLossBackward0>)\n"
     ]
    }
   ],
   "source": [
    "lambda_par_mse = mse(lambda_par_100307_pred_gstd,lambda_par_100307_pred)\n",
    "lambda_iso_mse = mse(lambda_iso_100307_pred_gstd,lambda_iso_100307_pred)\n",
    "volume_0_mse = mse(volume_0_100307_pred_gstd,volume_0_100307_pred)\n",
    "volume_1_mse = mse(volume_1_100307_pred_gstd,volume_1_100307_pred)\n",
    "print(lambda_par_mse)\n",
    "print(lambda_iso_mse)\n",
    "print(volume_0_mse)\n",
    "print(volume_1_mse)"
   ]
  },
  {
   "cell_type": "markdown",
   "id": "759c466c-4eae-41d9-925b-9c6b85cc5738",
   "metadata": {},
   "source": [
    "cosine similarity"
   ]
  },
  {
   "cell_type": "code",
   "execution_count": 29,
   "id": "ce131198-a0a9-42fa-a438-140416a3e900",
   "metadata": {},
   "outputs": [
    {
     "name": "stdout",
     "output_type": "stream",
     "text": [
      "tensor([0.8710, 0.9743, 0.9650,  ..., 0.9991, 0.7693, 0.9251],\n",
      "       grad_fn=<SumBackward1>)\n"
     ]
    }
   ],
   "source": [
    "cos = torch.nn.CosineSimilarity(dim=0, eps=1e-6)\n",
    "output = cos(mu_cart_100307_pred_gstd, mu_cart_100307_pred)\n",
    "print(output)"
   ]
  },
  {
   "cell_type": "code",
   "execution_count": 30,
   "id": "6d76f13e-6a63-48a0-8682-50156de0945a",
   "metadata": {},
   "outputs": [
    {
     "data": {
      "text/plain": [
       "(array([ 11270.,   3135.,   2869.,   3171.,   3669.,   4766.,   7141.,\n",
       "         13617.,  39011., 651496.]),\n",
       " array([-9.99986708e-01, -7.99988031e-01, -5.99989355e-01, -3.99990708e-01,\n",
       "        -1.99992031e-01,  6.64591789e-06,  2.00005323e-01,  4.00003999e-01,\n",
       "         6.00002646e-01,  8.00001323e-01,  1.00000000e+00]),\n",
       " <BarContainer object of 10 artists>)"
      ]
     },
     "execution_count": 30,
     "metadata": {},
     "output_type": "execute_result"
    },
    {
     "data": {
      "image/png": "[encoded data removed]",
      "text/plain": [
       "<Figure size 640x480 with 1 Axes>"
      ]
     },
     "metadata": {},
     "output_type": "display_data"
    }
   ],
   "source": [
    "plt.hist(output.detach().numpy())"
   ]
  },
  {
   "cell_type": "code",
   "execution_count": 26,
   "id": "0844b612-01a7-4e05-8eb8-3efbf7273fce",
   "metadata": {},
   "outputs": [
    {
     "data": {
      "text/plain": [
       "<mpl_toolkits.mplot3d.art3d.Line3DCollection at 0x1b4f22c80>"
      ]
     },
     "execution_count": 26,
     "metadata": {},
     "output_type": "execute_result"
    },
    {
     "data": {
      "image/png": "[encoded data removed]",
      "text/plain": [
       "<Figure size 640x480 with 1 Axes>"
      ]
     },
     "metadata": {},
     "output_type": "display_data"
    }
   ],
   "source": [
    "\n",
    "# Create a 3D plot\n",
    "fig = plt.figure()\n",
    "ax = fig.add_subplot(111, projection='3d')\n",
    "\n",
    "# Plot the normalized gradient directions\n",
    "ax.scatter(n_100307_sub_no_b5[:, 0], n_100307_sub_no_b5[:, 1], n_100307_sub_no_b5[:, 2], c='b', marker='o')\n",
    "# ax.scatter(-n_100307_sub_no_b5[:, 0], -n_100307_sub_no_b5[:, 1], -n_100307_sub_no_b5[:, 2], c='b', marker='o')\n",
    "\n",
    "# # Set limits of the plot to fit the sphere\n",
    "# ax.set_xlim([-1, 1])\n",
    "# ax.set_ylim([-1, 1])\n",
    "# ax.set_zlim([-1, 1])\n",
    "\n",
    "# # Set equal aspect ratio for all three axes\n",
    "# ax.set_box_aspect([1, 1, 1])\n",
    "\n",
    "# Add a sphere to the plot\n",
    "u, v = np.mgrid[0:2*np.pi:20j, 0:np.pi:10j]\n",
    "x = np.cos(u)*np.sin(v)\n",
    "y = np.sin(u)*np.sin(v)\n",
    "z = np.cos(v)\n",
    "ax.plot_wireframe(x, y, z, color='gray', alpha=0.2)\n",
    "\n",
    "# # Show the plot\n",
    "# plt.show()\n",
    "# plot \n",
    "# Check the "
   ]
  },
  {
   "cell_type": "code",
   "execution_count": 41,
   "id": "e762f881-d02c-42b0-b1c1-994334e42b12",
   "metadata": {},
   "outputs": [
    {
     "data": {
      "image/png": "[encoded data removed]",
      "text/plain": [
       "<Figure size 1000x300 with 3 Axes>"
      ]
     },
     "metadata": {},
     "output_type": "display_data"
    }
   ],
   "source": [
    "# Create histograms of the gradient directions along each axis\n",
    "fig, axs = plt.subplots(1, 3, figsize=(10, 3))\n",
    "axs[0].hist(n_100307_sub_no_b5[:, 0], bins=50)\n",
    "axs[0].set_xlabel('x')\n",
    "axs[0].set_ylabel('Frequency')\n",
    "axs[1].hist(n_100307_sub_no_b5[:, 1], bins=50)\n",
    "axs[1].set_xlabel('y')\n",
    "axs[2].hist(n_100307_sub_no_b5[:, 2], bins=50)\n",
    "axs[2].set_xlabel('z')\n",
    "plt.show()"
   ]
  },
  {
   "cell_type": "code",
   "execution_count": 27,
   "id": "00a6675f-f38d-420a-a915-a9a1e497a2a8",
   "metadata": {},
   "outputs": [],
   "source": [
    "dot_product = 1/91 * np.dot (n_100307_sub_no_b5.T, n_100307_sub_no_b5)"
   ]
  },
  {
   "cell_type": "code",
   "execution_count": 28,
   "id": "06fdf575-c78d-48e7-bb61-83be9b8fbddc",
   "metadata": {},
   "outputs": [
    {
     "data": {
      "text/plain": [
       "array([[0.57721836, 0.00477519, 0.00484623],\n",
       "       [0.00477519, 0.60665553, 0.00524032],\n",
       "       [0.00484623, 0.00524032, 0.64030138]])"
      ]
     },
     "execution_count": 28,
     "metadata": {},
     "output_type": "execute_result"
    }
   ],
   "source": [
    "dot_product"
   ]
  },
  {
   "cell_type": "code",
   "execution_count": 72,
   "id": "dcdfd6ec-4a24-468e-b06e-474a7b692f79",
   "metadata": {
    "collapsed": true,
    "jupyter": {
     "outputs_hidden": true
    },
    "tags": []
   },
   "outputs": [
    {
     "data": {
      "image/png": "[encoded data removed]",
      "text/plain": [
       "<Figure size 640x480 with 1 Axes>"
      ]
     },
     "metadata": {},
     "output_type": "display_data"
    }
   ],
   "source": [
    "hist, edges = np.histogram(dot_product, bins=10)\n",
    "\n",
    "plt.hist(dot_product, bins=10)\n",
    "plt.show()"
   ]
  },
  {
   "cell_type": "code",
   "execution_count": 74,
   "id": "d311310e-a2b1-4d77-b2d5-3f157964296a",
   "metadata": {},
   "outputs": [],
   "source": [
    "dot_product_all = np.dot (n_100307_no_b5, n_100307_no_b5.T)"
   ]
  },
  {
   "cell_type": "code",
   "execution_count": 83,
   "id": "434b24d9-20e8-46d7-aa06-15855fee56f8",
   "metadata": {},
   "outputs": [
    {
     "data": {
      "text/plain": [
       "array([-0.00176859,  0.70414125,  0.70864072, -0.00350474, -0.48268969,\n",
       "        0.5126954 ,  0.99999983,  0.4850489 ,  0.51798136, -0.60116375])"
      ]
     },
     "execution_count": 83,
     "metadata": {},
     "output_type": "execute_result"
    }
   ],
   "source": [
    "dot_product_all[6,0:10]"
   ]
  },
  {
   "cell_type": "code",
   "execution_count": 90,
   "id": "a81e5035-6f60-4b65-a34b-0185b71cd212",
   "metadata": {},
   "outputs": [
    {
     "data": {
      "text/plain": [
       "0.999998387021"
      ]
     },
     "execution_count": 90,
     "metadata": {},
     "output_type": "execute_result"
    }
   ],
   "source": [
    "np.dot(n_100307_no_b5[3,:], n_100307_no_b5[3,:])"
   ]
  },
  {
   "cell_type": "code",
   "execution_count": 75,
   "id": "55e2cf07-734b-4bae-971e-71adace2183c",
   "metadata": {
    "collapsed": true,
    "jupyter": {
     "outputs_hidden": true
    },
    "tags": []
   },
   "outputs": [
    {
     "data": {
      "image/png": "[encoded data removed]",
      "text/plain": [
       "<Figure size 640x480 with 1 Axes>"
      ]
     },
     "metadata": {},
     "output_type": "display_data"
    }
   ],
   "source": [
    "hist, edges = np.histogram(dot_product_all, bins=10)\n",
    "\n",
    "plt.hist(dot_product_all, bins=10)\n",
    "plt.show()"
   ]
  },
  {
   "cell_type": "code",
   "execution_count": 91,
   "id": "2720bbe1-bac7-42c2-ac6d-e7714c913e4c",
   "metadata": {},
   "outputs": [
    {
     "name": "stdout",
     "output_type": "stream",
     "text": [
      "0.3333472526322432\n"
     ]
    }
   ],
   "source": [
    "dot_product_2nd_moment = np.mean(np.square(dot_product_all))\n",
    "print(dot_product_2nd_moment)"
   ]
  },
  {
   "cell_type": "markdown",
   "id": "cb6467d6-1717-4339-afdd-3e59e790baa7",
   "metadata": {},
   "source": [
    "When using half measurements"
   ]
  },
  {
   "cell_type": "markdown",
   "id": "e42c3eea-36f8-4455-9306-44d7f3bc43f5",
   "metadata": {},
   "source": [
    "Apply model_100206_11_01.pt"
   ]
  },
  {
   "cell_type": "code",
   "execution_count": 85,
   "id": "8a51e7f4-98ad-410f-856e-4a2f4523c504",
   "metadata": {},
   "outputs": [
    {
     "name": "stdout",
     "output_type": "stream",
     "text": [
      "tensor(0.0017, grad_fn=<MseLossBackward0>)\n",
      "tensor(0.0058, grad_fn=<MseLossBackward0>)\n",
      "tensor(0.0001, grad_fn=<MseLossBackward0>)\n",
      "tensor(0.0001, grad_fn=<MseLossBackward0>)\n"
     ]
    }
   ],
   "source": [
    "lambda_par_mse = mse(lambda_par_100307_pred_gstd,lambda_par_100307_pred)\n",
    "lambda_iso_mse = mse(lambda_iso_100307_pred_gstd,lambda_iso_100307_pred)\n",
    "volume_0_mse = mse(volume_0_100307_pred_gstd,volume_0_100307_pred)\n",
    "volume_1_mse = mse(volume_1_100307_pred_gstd,volume_1_100307_pred)\n",
    "print(lambda_par_mse)\n",
    "print(lambda_iso_mse)\n",
    "print(volume_0_mse)\n",
    "print(volume_1_mse)"
   ]
  },
  {
   "cell_type": "markdown",
   "id": "36859b4b-0f80-4c99-92eb-9dde4ba78047",
   "metadata": {},
   "source": [
    "Apply model_100206_11_02.pt"
   ]
  },
  {
   "cell_type": "code",
   "execution_count": 106,
   "id": "69b088b3-e563-4325-ba78-0482087d902e",
   "metadata": {},
   "outputs": [
    {
     "name": "stdout",
     "output_type": "stream",
     "text": [
      "tensor(0.0045, grad_fn=<MseLossBackward0>)\n",
      "tensor(0.0056, grad_fn=<MseLossBackward0>)\n",
      "tensor(0.0002, grad_fn=<MseLossBackward0>)\n",
      "tensor(0.0002, grad_fn=<MseLossBackward0>)\n"
     ]
    }
   ],
   "source": [
    "lambda_par_mse = mse(lambda_par_100307_pred_gstd,lambda_par_100307_pred)\n",
    "lambda_iso_mse = mse(lambda_iso_100307_pred_gstd,lambda_iso_100307_pred)\n",
    "volume_0_mse = mse(volume_0_100307_pred_gstd,volume_0_100307_pred)\n",
    "volume_1_mse = mse(volume_1_100307_pred_gstd,volume_1_100307_pred)\n",
    "print(lambda_par_mse)\n",
    "print(lambda_iso_mse)\n",
    "print(volume_0_mse)\n",
    "print(volume_1_mse)"
   ]
  },
  {
   "cell_type": "markdown",
   "id": "ff5917aa-2969-49aa-a895-9e936c9b6fb6",
   "metadata": {},
   "source": [
    "Apply model_100206_11_03.pt"
   ]
  },
  {
   "cell_type": "code",
   "execution_count": 236,
   "id": "8363d6bb-57a6-4a01-ba69-faad841e9901",
   "metadata": {},
   "outputs": [
    {
     "name": "stdout",
     "output_type": "stream",
     "text": [
      "tensor(0.0061, grad_fn=<MseLossBackward0>)\n",
      "tensor(0.0060, grad_fn=<MseLossBackward0>)\n",
      "tensor(0.0003, grad_fn=<MseLossBackward0>)\n",
      "tensor(0.0003, grad_fn=<MseLossBackward0>)\n"
     ]
    }
   ],
   "source": [
    "lambda_par_mse = mse(lambda_par_100307_pred_gstd,lambda_par_100307_pred)\n",
    "lambda_iso_mse = mse(lambda_iso_100307_pred_gstd,lambda_iso_100307_pred)\n",
    "volume_0_mse = mse(volume_0_100307_pred_gstd,volume_0_100307_pred)\n",
    "volume_1_mse = mse(volume_1_100307_pred_gstd,volume_1_100307_pred)\n",
    "print(lambda_par_mse)\n",
    "print(lambda_iso_mse)\n",
    "print(volume_0_mse)\n",
    "print(volume_1_mse)"
   ]
  },
  {
   "cell_type": "code",
   "execution_count": 40,
   "id": "f5c6974d-0004-4b1b-8b16-ce7f115a0c1a",
   "metadata": {},
   "outputs": [
    {
     "name": "stdout",
     "output_type": "stream",
     "text": [
      "tensor(0.0157, grad_fn=<MseLossBackward0>)\n",
      "tensor(0.0070, grad_fn=<MseLossBackward0>)\n",
      "tensor(0.0005, grad_fn=<MseLossBackward0>)\n",
      "tensor(0.0005, grad_fn=<MseLossBackward0>)\n"
     ]
    }
   ],
   "source": [
    "lambda_par_mse = mse(lambda_par_100307_pred_gstd,lambda_par_100307_pred)\n",
    "lambda_iso_mse = mse(lambda_iso_100307_pred_gstd,lambda_iso_100307_pred)\n",
    "volume_0_mse = mse(volume_0_100307_pred_gstd,volume_0_100307_pred)\n",
    "volume_1_mse = mse(volume_1_100307_pred_gstd,volume_1_100307_pred)\n",
    "print(lambda_par_mse)\n",
    "print(lambda_iso_mse)\n",
    "print(volume_0_mse)\n",
    "print(volume_1_mse)"
   ]
  },
  {
   "cell_type": "code",
   "execution_count": 264,
   "id": "df658c77-6ab6-45b3-bea1-57cb9e613c8d",
   "metadata": {},
   "outputs": [
    {
     "name": "stdout",
     "output_type": "stream",
     "text": [
      "tensor(0.0039, grad_fn=<MseLossBackward0>)\n",
      "tensor(0.0080, grad_fn=<MseLossBackward0>)\n",
      "tensor(0.0002, grad_fn=<MseLossBackward0>)\n",
      "tensor(0.0002, grad_fn=<MseLossBackward0>)\n"
     ]
    }
   ],
   "source": [
    "lambda_par_mse = mse(lambda_par_100307_pred_gstd,lambda_par_100307_pred)\n",
    "lambda_iso_mse = mse(lambda_iso_100307_pred_gstd,lambda_iso_100307_pred)\n",
    "volume_0_mse = mse(volume_0_100307_pred_gstd,volume_0_100307_pred)\n",
    "volume_1_mse = mse(volume_1_100307_pred_gstd,volume_1_100307_pred)\n",
    "print(lambda_par_mse)\n",
    "print(lambda_iso_mse)\n",
    "print(volume_0_mse)\n",
    "print(volume_1_mse)"
   ]
  },
  {
   "cell_type": "code",
   "execution_count": 27,
   "id": "df903f2b-cd47-4f82-bde8-2a43bcdcc3e6",
   "metadata": {},
   "outputs": [
    {
     "name": "stdout",
     "output_type": "stream",
     "text": [
      "tensor(0.0025, grad_fn=<MseLossBackward0>)\n",
      "tensor(0.0056, grad_fn=<MseLossBackward0>)\n",
      "tensor(0.0002, grad_fn=<MseLossBackward0>)\n",
      "tensor(0.0002, grad_fn=<MseLossBackward0>)\n"
     ]
    }
   ],
   "source": [
    "lambda_par_mse = mse(lambda_par_100307_pred_gstd,lambda_par_100307_pred)\n",
    "lambda_iso_mse = mse(lambda_iso_100307_pred_gstd,lambda_iso_100307_pred)\n",
    "volume_0_mse = mse(volume_0_100307_pred_gstd,volume_0_100307_pred)\n",
    "volume_1_mse = mse(volume_1_100307_pred_gstd,volume_1_100307_pred)\n",
    "print(lambda_par_mse)\n",
    "print(lambda_iso_mse)\n",
    "print(volume_0_mse)\n",
    "print(volume_1_mse)"
   ]
  },
  {
   "cell_type": "markdown",
   "id": "af6e6797-8c35-47f1-b768-05d31b3efaf6",
   "metadata": {},
   "source": [
    "04_retrain"
   ]
  },
  {
   "cell_type": "code",
   "execution_count": 29,
   "id": "ffa7b818-1d73-4484-889d-636394d82ed2",
   "metadata": {},
   "outputs": [
    {
     "name": "stdout",
     "output_type": "stream",
     "text": [
      "tensor(0.0060, grad_fn=<MseLossBackward0>)\n",
      "tensor(0.0088, grad_fn=<MseLossBackward0>)\n",
      "tensor(0.0002, grad_fn=<MseLossBackward0>)\n",
      "tensor(0.0002, grad_fn=<MseLossBackward0>)\n"
     ]
    }
   ],
   "source": [
    "lambda_par_mse = mse(lambda_par_100307_pred_gstd,lambda_par_100307_pred)\n",
    "lambda_iso_mse = mse(lambda_iso_100307_pred_gstd,lambda_iso_100307_pred)\n",
    "volume_0_mse = mse(volume_0_100307_pred_gstd,volume_0_100307_pred)\n",
    "volume_1_mse = mse(volume_1_100307_pred_gstd,volume_1_100307_pred)\n",
    "print(lambda_par_mse)\n",
    "print(lambda_iso_mse)\n",
    "print(volume_0_mse)\n",
    "print(volume_1_mse)"
   ]
  },
  {
   "cell_type": "markdown",
   "id": "eed89353-a7b3-488d-b0aa-7b68ba2181fc",
   "metadata": {},
   "source": [
    "Apply model_100206_13_01.pt"
   ]
  },
  {
   "cell_type": "code",
   "execution_count": 56,
   "id": "a4b39c44-dcb0-4173-8708-0d6d18d760b0",
   "metadata": {},
   "outputs": [
    {
     "name": "stdout",
     "output_type": "stream",
     "text": [
      "tensor(0.0147, grad_fn=<MseLossBackward0>)\n",
      "tensor(0.0370, grad_fn=<MseLossBackward0>)\n",
      "tensor(0.0026, grad_fn=<MseLossBackward0>)\n",
      "tensor(0.0026, grad_fn=<MseLossBackward0>)\n"
     ]
    }
   ],
   "source": [
    "lambda_par_mse = mse(lambda_par_100307_pred_gstd,lambda_par_100307_pred)\n",
    "lambda_iso_mse = mse(lambda_iso_100307_pred_gstd,lambda_iso_100307_pred)\n",
    "volume_0_mse = mse(volume_0_100307_pred_gstd,volume_0_100307_pred)\n",
    "volume_1_mse = mse(volume_1_100307_pred_gstd,volume_1_100307_pred)\n",
    "print(lambda_par_mse)\n",
    "print(lambda_iso_mse)\n",
    "print(volume_0_mse)\n",
    "print(volume_1_mse)"
   ]
  },
  {
   "cell_type": "markdown",
   "id": "0f7747d2-0396-4188-b517-ac35a0d1a2ba",
   "metadata": {},
   "source": [
    "Apply model_100206_13_02.pt"
   ]
  },
  {
   "cell_type": "code",
   "execution_count": 71,
   "id": "542120cb-32e1-4824-81f3-f158cdad2d9e",
   "metadata": {},
   "outputs": [
    {
     "name": "stdout",
     "output_type": "stream",
     "text": [
      "tensor(0.0046, grad_fn=<MseLossBackward0>)\n",
      "tensor(0.0312, grad_fn=<MseLossBackward0>)\n",
      "tensor(0.0023, grad_fn=<MseLossBackward0>)\n",
      "tensor(0.0023, grad_fn=<MseLossBackward0>)\n"
     ]
    }
   ],
   "source": [
    "lambda_par_mse = mse(lambda_par_100307_pred_gstd,lambda_par_100307_pred)\n",
    "lambda_iso_mse = mse(lambda_iso_100307_pred_gstd,lambda_iso_100307_pred)\n",
    "volume_0_mse = mse(volume_0_100307_pred_gstd,volume_0_100307_pred)\n",
    "volume_1_mse = mse(volume_1_100307_pred_gstd,volume_1_100307_pred)\n",
    "print(lambda_par_mse)\n",
    "print(lambda_iso_mse)\n",
    "print(volume_0_mse)\n",
    "print(volume_1_mse)"
   ]
  },
  {
   "cell_type": "markdown",
   "id": "e1e12a25-848b-4fc0-bd59-ec8386cf7425",
   "metadata": {},
   "source": [
    "Apply model_100206_13_03.pt"
   ]
  },
  {
   "cell_type": "code",
   "execution_count": 179,
   "id": "6d73d5e4-8735-44d4-97a6-46b63939bed6",
   "metadata": {},
   "outputs": [
    {
     "name": "stdout",
     "output_type": "stream",
     "text": [
      "tensor(0.0038, grad_fn=<MseLossBackward0>)\n",
      "tensor(0.0046, grad_fn=<MseLossBackward0>)\n",
      "tensor(0.0002, grad_fn=<MseLossBackward0>)\n",
      "tensor(0.0002, grad_fn=<MseLossBackward0>)\n"
     ]
    }
   ],
   "source": [
    "lambda_par_mse = mse(lambda_par_100307_pred_gstd,lambda_par_100307_pred)\n",
    "lambda_iso_mse = mse(lambda_iso_100307_pred_gstd,lambda_iso_100307_pred)\n",
    "volume_0_mse = mse(volume_0_100307_pred_gstd,volume_0_100307_pred)\n",
    "volume_1_mse = mse(volume_1_100307_pred_gstd,volume_1_100307_pred)\n",
    "print(lambda_par_mse)\n",
    "print(lambda_iso_mse)\n",
    "print(volume_0_mse)\n",
    "print(volume_1_mse)"
   ]
  },
  {
   "cell_type": "markdown",
   "id": "c4590dac-e49d-4148-b327-b5942c40a335",
   "metadata": {},
   "source": [
    "Apply model_100206_13_04.pt"
   ]
  },
  {
   "cell_type": "code",
   "execution_count": 197,
   "id": "db7ad8a1-c02b-4b6e-b821-223f41259a5f",
   "metadata": {},
   "outputs": [
    {
     "name": "stdout",
     "output_type": "stream",
     "text": [
      "tensor(0.0038, grad_fn=<MseLossBackward0>)\n",
      "tensor(0.0051, grad_fn=<MseLossBackward0>)\n",
      "tensor(0.0002, grad_fn=<MseLossBackward0>)\n",
      "tensor(0.0002, grad_fn=<MseLossBackward0>)\n"
     ]
    }
   ],
   "source": [
    "lambda_par_mse = mse(lambda_par_100307_pred_gstd,lambda_par_100307_pred)\n",
    "lambda_iso_mse = mse(lambda_iso_100307_pred_gstd,lambda_iso_100307_pred)\n",
    "volume_0_mse = mse(volume_0_100307_pred_gstd,volume_0_100307_pred)\n",
    "volume_1_mse = mse(volume_1_100307_pred_gstd,volume_1_100307_pred)\n",
    "print(lambda_par_mse)\n",
    "print(lambda_iso_mse)\n",
    "print(volume_0_mse)\n",
    "print(volume_1_mse)"
   ]
  },
  {
   "cell_type": "markdown",
   "id": "a6b3e081-95eb-445d-ab7d-fbd3470a4e54",
   "metadata": {},
   "source": [
    "Apply model_100206_13_05.pt"
   ]
  },
  {
   "cell_type": "code",
   "execution_count": 208,
   "id": "998b42f2-7cf1-43f4-ac94-02e97e5470d3",
   "metadata": {},
   "outputs": [
    {
     "name": "stdout",
     "output_type": "stream",
     "text": [
      "tensor(0.0044, grad_fn=<MseLossBackward0>)\n",
      "tensor(0.0039, grad_fn=<MseLossBackward0>)\n",
      "tensor(0.0002, grad_fn=<MseLossBackward0>)\n",
      "tensor(0.0002, grad_fn=<MseLossBackward0>)\n"
     ]
    }
   ],
   "source": [
    "lambda_par_mse = mse(lambda_par_100307_pred_gstd,lambda_par_100307_pred)\n",
    "lambda_iso_mse = mse(lambda_iso_100307_pred_gstd,lambda_iso_100307_pred)\n",
    "volume_0_mse = mse(volume_0_100307_pred_gstd,volume_0_100307_pred)\n",
    "volume_1_mse = mse(volume_1_100307_pred_gstd,volume_1_100307_pred)\n",
    "print(lambda_par_mse)\n",
    "print(lambda_iso_mse)\n",
    "print(volume_0_mse)\n",
    "print(volume_1_mse)"
   ]
  },
  {
   "cell_type": "markdown",
   "id": "13626c5a-e329-478b-870f-b4f07f999dc3",
   "metadata": {},
   "source": [
    "Apply model_100206_13_06.pt"
   ]
  },
  {
   "cell_type": "code",
   "execution_count": 222,
   "id": "b25b1779-3ff8-43b0-938d-3b99398742d5",
   "metadata": {},
   "outputs": [
    {
     "name": "stdout",
     "output_type": "stream",
     "text": [
      "tensor(0.0020, grad_fn=<MseLossBackward0>)\n",
      "tensor(0.0040, grad_fn=<MseLossBackward0>)\n",
      "tensor(0.0001, grad_fn=<MseLossBackward0>)\n",
      "tensor(0.0001, grad_fn=<MseLossBackward0>)\n"
     ]
    }
   ],
   "source": [
    "lambda_par_mse = mse(lambda_par_100307_pred_gstd,lambda_par_100307_pred)\n",
    "lambda_iso_mse = mse(lambda_iso_100307_pred_gstd,lambda_iso_100307_pred)\n",
    "volume_0_mse = mse(volume_0_100307_pred_gstd,volume_0_100307_pred)\n",
    "volume_1_mse = mse(volume_1_100307_pred_gstd,volume_1_100307_pred)\n",
    "print(lambda_par_mse)\n",
    "print(lambda_iso_mse)\n",
    "print(volume_0_mse)\n",
    "print(volume_1_mse)"
   ]
  },
  {
   "cell_type": "code",
   "execution_count": 46,
   "id": "4b9aed70-c355-4260-935e-bfa4e880dec7",
   "metadata": {},
   "outputs": [
    {
     "name": "stdout",
     "output_type": "stream",
     "text": [
      "tensor(0.0018, grad_fn=<MseLossBackward0>)\n",
      "tensor(0.0038, grad_fn=<MseLossBackward0>)\n",
      "tensor(9.9272e-05, grad_fn=<MseLossBackward0>)\n",
      "tensor(9.9272e-05, grad_fn=<MseLossBackward0>)\n"
     ]
    }
   ],
   "source": [
    "lambda_par_mse = mse(lambda_par_100307_pred_gstd,lambda_par_100307_pred)\n",
    "lambda_iso_mse = mse(lambda_iso_100307_pred_gstd,lambda_iso_100307_pred)\n",
    "volume_0_mse = mse(volume_0_100307_pred_gstd,volume_0_100307_pred)\n",
    "volume_1_mse = mse(volume_1_100307_pred_gstd,volume_1_100307_pred)\n",
    "print(lambda_par_mse)\n",
    "print(lambda_iso_mse)\n",
    "print(volume_0_mse)\n",
    "print(volume_1_mse)"
   ]
  },
  {
   "cell_type": "markdown",
   "id": "41bb3913-411d-48a7-907f-c65157cabd41",
   "metadata": {},
   "source": [
    "Apply model_100206_15_01.pt"
   ]
  },
  {
   "cell_type": "code",
   "execution_count": 43,
   "id": "7af0a80b-1021-489e-9cd3-55ff52b53795",
   "metadata": {},
   "outputs": [
    {
     "name": "stdout",
     "output_type": "stream",
     "text": [
      "tensor(0.0032, grad_fn=<MseLossBackward0>)\n",
      "tensor(0.0029, grad_fn=<MseLossBackward0>)\n",
      "tensor(0.0001, grad_fn=<MseLossBackward0>)\n",
      "tensor(0.0001, grad_fn=<MseLossBackward0>)\n"
     ]
    }
   ],
   "source": [
    "lambda_par_mse = mse(lambda_par_100307_pred_gstd,lambda_par_100307_pred)\n",
    "lambda_iso_mse = mse(lambda_iso_100307_pred_gstd,lambda_iso_100307_pred)\n",
    "volume_0_mse = mse(volume_0_100307_pred_gstd,volume_0_100307_pred)\n",
    "volume_1_mse = mse(volume_1_100307_pred_gstd,volume_1_100307_pred)\n",
    "print(lambda_par_mse)\n",
    "print(lambda_iso_mse)\n",
    "print(volume_0_mse)\n",
    "print(volume_1_mse)"
   ]
  },
  {
   "cell_type": "markdown",
   "id": "b132c5c7-e4b6-4cc5-8be3-fb3e229b380b",
   "metadata": {},
   "source": [
    "Apply model_100206_15_02.pt"
   ]
  },
  {
   "cell_type": "code",
   "execution_count": 29,
   "id": "5198b4c1-678b-44d6-85f2-48c2d46f8ad0",
   "metadata": {},
   "outputs": [
    {
     "name": "stdout",
     "output_type": "stream",
     "text": [
      "tensor(0.0033, grad_fn=<MseLossBackward0>)\n",
      "tensor(0.0057, grad_fn=<MseLossBackward0>)\n",
      "tensor(0.0001, grad_fn=<MseLossBackward0>)\n",
      "tensor(0.0001, grad_fn=<MseLossBackward0>)\n"
     ]
    }
   ],
   "source": [
    "lambda_par_mse = mse(lambda_par_100307_pred_gstd,lambda_par_100307_pred)\n",
    "lambda_iso_mse = mse(lambda_iso_100307_pred_gstd,lambda_iso_100307_pred)\n",
    "volume_0_mse = mse(volume_0_100307_pred_gstd,volume_0_100307_pred)\n",
    "volume_1_mse = mse(volume_1_100307_pred_gstd,volume_1_100307_pred)\n",
    "print(lambda_par_mse)\n",
    "print(lambda_iso_mse)\n",
    "print(volume_0_mse)\n",
    "print(volume_1_mse)"
   ]
  },
  {
   "cell_type": "markdown",
   "id": "d6e26130-9a0c-47f0-8196-6e928d6bd084",
   "metadata": {},
   "source": [
    "Apply model_100206_15_04.pt"
   ]
  },
  {
   "cell_type": "code",
   "execution_count": 26,
   "id": "ffa51cee-1dd3-4eee-8fb6-22bbd8577193",
   "metadata": {},
   "outputs": [
    {
     "name": "stdout",
     "output_type": "stream",
     "text": [
      "tensor(0.0018, grad_fn=<MseLossBackward0>)\n",
      "tensor(0.0032, grad_fn=<MseLossBackward0>)\n",
      "tensor(9.1013e-05, grad_fn=<MseLossBackward0>)\n",
      "tensor(9.1013e-05, grad_fn=<MseLossBackward0>)\n"
     ]
    }
   ],
   "source": [
    "lambda_par_mse = mse(lambda_par_100307_pred_gstd,lambda_par_100307_pred)\n",
    "lambda_iso_mse = mse(lambda_iso_100307_pred_gstd,lambda_iso_100307_pred)\n",
    "volume_0_mse = mse(volume_0_100307_pred_gstd,volume_0_100307_pred)\n",
    "volume_1_mse = mse(volume_1_100307_pred_gstd,volume_1_100307_pred)\n",
    "print(lambda_par_mse)\n",
    "print(lambda_iso_mse)\n",
    "print(volume_0_mse)\n",
    "print(volume_1_mse)"
   ]
  },
  {
   "cell_type": "markdown",
   "id": "ffbf2cd7-6c89-4ef4-842e-b089c931ca3e",
   "metadata": {},
   "source": [
    "Apply model_100206_15_05.pt"
   ]
  },
  {
   "cell_type": "code",
   "execution_count": 40,
   "id": "523643a8-cdd5-44e4-b212-a4c0d3bc6ebd",
   "metadata": {},
   "outputs": [
    {
     "name": "stdout",
     "output_type": "stream",
     "text": [
      "tensor(0.0027, grad_fn=<MseLossBackward0>)\n",
      "tensor(0.0029, grad_fn=<MseLossBackward0>)\n",
      "tensor(0.0002, grad_fn=<MseLossBackward0>)\n",
      "tensor(0.0002, grad_fn=<MseLossBackward0>)\n"
     ]
    }
   ],
   "source": [
    "lambda_par_mse = mse(lambda_par_100307_pred_gstd,lambda_par_100307_pred)\n",
    "lambda_iso_mse = mse(lambda_iso_100307_pred_gstd,lambda_iso_100307_pred)\n",
    "volume_0_mse = mse(volume_0_100307_pred_gstd,volume_0_100307_pred)\n",
    "volume_1_mse = mse(volume_1_100307_pred_gstd,volume_1_100307_pred)\n",
    "print(lambda_par_mse)\n",
    "print(lambda_iso_mse)\n",
    "print(volume_0_mse)\n",
    "print(volume_1_mse)"
   ]
  },
  {
   "cell_type": "markdown",
   "id": "ab0d6e72-af36-4e39-94ff-051a026c6796",
   "metadata": {},
   "source": [
    "Apply model_100206_half_01.pt"
   ]
  },
  {
   "cell_type": "code",
   "execution_count": 26,
   "id": "f8a7c37d-e08c-4671-bbd0-df32ac22b73b",
   "metadata": {},
   "outputs": [
    {
     "name": "stdout",
     "output_type": "stream",
     "text": [
      "tensor(0.0033, grad_fn=<MseLossBackward0>)\n",
      "tensor(0.0057, grad_fn=<MseLossBackward0>)\n",
      "tensor(0.0001, grad_fn=<MseLossBackward0>)\n",
      "tensor(0.0001, grad_fn=<MseLossBackward0>)\n"
     ]
    }
   ],
   "source": [
    "lambda_par_mse = mse(lambda_par_100307_pred_gstd,lambda_par_100307_pred)\n",
    "lambda_iso_mse = mse(lambda_iso_100307_pred_gstd,lambda_iso_100307_pred)\n",
    "volume_0_mse = mse(volume_0_100307_pred_gstd,volume_0_100307_pred)\n",
    "volume_1_mse = mse(volume_1_100307_pred_gstd,volume_1_100307_pred)\n",
    "print(lambda_par_mse)\n",
    "print(lambda_iso_mse)\n",
    "print(volume_0_mse)\n",
    "print(volume_1_mse)"
   ]
  },
  {
   "cell_type": "markdown",
   "id": "d52d7460-8f00-4c14-bc7a-ff796fd2689a",
   "metadata": {},
   "source": [
    "Apply model_100206_half_02.pt"
   ]
  },
  {
   "cell_type": "code",
   "execution_count": 45,
   "id": "b58fee9c-081a-4b23-8151-389f5e7b8afd",
   "metadata": {},
   "outputs": [],
   "source": [
    "lambda_par_mse = mse(lambda_par_100307_pred_gstd,lambda_par_100307_pred)\n",
    "lambda_iso_mse = mse(lambda_iso_100307_pred_gstd,lambda_iso_100307_pred)\n",
    "volume_0_mse = mse(volume_0_100307_pred_gstd,volume_0_100307_pred)\n",
    "volume_1_mse = mse(volume_1_100307_pred_gstd,volume_1_100307_pred)"
   ]
  },
  {
   "cell_type": "code",
   "execution_count": 46,
   "id": "91e9b82a-66f9-4c44-9358-5f90c0667bb1",
   "metadata": {},
   "outputs": [
    {
     "name": "stdout",
     "output_type": "stream",
     "text": [
      "tensor(0.0046, grad_fn=<MseLossBackward0>)\n",
      "tensor(0.0088, grad_fn=<MseLossBackward0>)\n",
      "tensor(0.0003, grad_fn=<MseLossBackward0>)\n",
      "tensor(0.0003, grad_fn=<MseLossBackward0>)\n"
     ]
    }
   ],
   "source": [
    "print(lambda_par_mse)\n",
    "print(lambda_iso_mse)\n",
    "print(volume_0_mse)\n",
    "print(volume_1_mse)"
   ]
  },
  {
   "cell_type": "markdown",
   "id": "5f64c4d4-c6e8-462f-abaa-ad3176a67c04",
   "metadata": {},
   "source": [
    "Apply model_100206_half_03.pt"
   ]
  },
  {
   "cell_type": "code",
   "execution_count": 128,
   "id": "612ef900-249c-4835-b4f1-eb3ab24ae1a7",
   "metadata": {},
   "outputs": [
    {
     "name": "stdout",
     "output_type": "stream",
     "text": [
      "tensor(0.0034, grad_fn=<MseLossBackward0>)\n",
      "tensor(0.0080, grad_fn=<MseLossBackward0>)\n",
      "tensor(0.0002, grad_fn=<MseLossBackward0>)\n",
      "tensor(0.0002, grad_fn=<MseLossBackward0>)\n"
     ]
    }
   ],
   "source": [
    "lambda_par_mse = mse(lambda_par_100307_pred_gstd,lambda_par_100307_pred)\n",
    "lambda_iso_mse = mse(lambda_iso_100307_pred_gstd,lambda_iso_100307_pred)\n",
    "volume_0_mse = mse(volume_0_100307_pred_gstd,volume_0_100307_pred)\n",
    "volume_1_mse = mse(volume_1_100307_pred_gstd,volume_1_100307_pred)\n",
    "print(lambda_par_mse)\n",
    "print(lambda_iso_mse)\n",
    "print(volume_0_mse)\n",
    "print(volume_1_mse)"
   ]
  },
  {
   "cell_type": "markdown",
   "id": "ceb84a13-7555-432f-ad83-eb0e849e8c9b",
   "metadata": {},
   "source": [
    "Apply model_100206_half_04.pt"
   ]
  },
  {
   "cell_type": "code",
   "execution_count": 167,
   "id": "86316dfc-9111-4722-a395-afd21c45e2d4",
   "metadata": {},
   "outputs": [
    {
     "name": "stdout",
     "output_type": "stream",
     "text": [
      "tensor(0.0027, grad_fn=<MseLossBackward0>)\n",
      "tensor(0.0069, grad_fn=<MseLossBackward0>)\n",
      "tensor(0.0002, grad_fn=<MseLossBackward0>)\n",
      "tensor(0.0002, grad_fn=<MseLossBackward0>)\n"
     ]
    }
   ],
   "source": [
    "lambda_par_mse = mse(lambda_par_100307_pred_gstd,lambda_par_100307_pred)\n",
    "lambda_iso_mse = mse(lambda_iso_100307_pred_gstd,lambda_iso_100307_pred)\n",
    "volume_0_mse = mse(volume_0_100307_pred_gstd,volume_0_100307_pred)\n",
    "volume_1_mse = mse(volume_1_100307_pred_gstd,volume_1_100307_pred)\n",
    "print(lambda_par_mse)\n",
    "print(lambda_iso_mse)\n",
    "print(volume_0_mse)\n",
    "print(volume_1_mse)"
   ]
  },
  {
   "cell_type": "markdown",
   "id": "d92e1a9f-ade5-4642-a2ca-38d8adee2564",
   "metadata": {},
   "source": [
    "Apply model_100206_half_05.pt"
   ]
  },
  {
   "cell_type": "code",
   "execution_count": 179,
   "id": "15724f0d-9eab-4272-a729-9a997e13b1e0",
   "metadata": {},
   "outputs": [
    {
     "name": "stdout",
     "output_type": "stream",
     "text": [
      "tensor(0.0092, grad_fn=<MseLossBackward0>)\n",
      "tensor(0.0077, grad_fn=<MseLossBackward0>)\n",
      "tensor(0.0003, grad_fn=<MseLossBackward0>)\n",
      "tensor(0.0003, grad_fn=<MseLossBackward0>)\n"
     ]
    }
   ],
   "source": [
    "lambda_par_mse = mse(lambda_par_100307_pred_gstd,lambda_par_100307_pred)\n",
    "lambda_iso_mse = mse(lambda_iso_100307_pred_gstd,lambda_iso_100307_pred)\n",
    "volume_0_mse = mse(volume_0_100307_pred_gstd,volume_0_100307_pred)\n",
    "volume_1_mse = mse(volume_1_100307_pred_gstd,volume_1_100307_pred)\n",
    "print(lambda_par_mse)\n",
    "print(lambda_iso_mse)\n",
    "print(volume_0_mse)\n",
    "print(volume_1_mse)"
   ]
  },
  {
   "cell_type": "markdown",
   "id": "692e5269-7b73-4fe4-a7f3-9c161cc667b1",
   "metadata": {},
   "source": [
    "Apply model_100206_half_06.pt"
   ]
  },
  {
   "cell_type": "code",
   "execution_count": 195,
   "id": "d4a7f93f-4e9f-4c27-9b72-4399d76a66b0",
   "metadata": {},
   "outputs": [
    {
     "name": "stdout",
     "output_type": "stream",
     "text": [
      "tensor(0.0086, grad_fn=<MseLossBackward0>)\n",
      "tensor(0.0081, grad_fn=<MseLossBackward0>)\n",
      "tensor(0.0003, grad_fn=<MseLossBackward0>)\n",
      "tensor(0.0003, grad_fn=<MseLossBackward0>)\n"
     ]
    }
   ],
   "source": [
    "lambda_par_mse = mse(lambda_par_100307_pred_gstd,lambda_par_100307_pred)\n",
    "lambda_iso_mse = mse(lambda_iso_100307_pred_gstd,lambda_iso_100307_pred)\n",
    "volume_0_mse = mse(volume_0_100307_pred_gstd,volume_0_100307_pred)\n",
    "volume_1_mse = mse(volume_1_100307_pred_gstd,volume_1_100307_pred)\n",
    "print(lambda_par_mse)\n",
    "print(lambda_iso_mse)\n",
    "print(volume_0_mse)\n",
    "print(volume_1_mse)"
   ]
  },
  {
   "cell_type": "markdown",
   "id": "1ac81a15-0708-45cd-8e5b-6a80e03dcaa8",
   "metadata": {},
   "source": [
    "When using 8 groups of measurements"
   ]
  },
  {
   "cell_type": "markdown",
   "id": "3ef1794f-ba62-4efc-b768-00f0f5a2cca3",
   "metadata": {},
   "source": [
    "Apply model_100206_8g_01.pt"
   ]
  },
  {
   "cell_type": "code",
   "execution_count": 86,
   "id": "6cbd8764-ecf4-446f-bcd5-c21caadf4e7c",
   "metadata": {},
   "outputs": [
    {
     "name": "stdout",
     "output_type": "stream",
     "text": [
      "tensor(0.0059, grad_fn=<MseLossBackward0>)\n",
      "tensor(0.0348, grad_fn=<MseLossBackward0>)\n",
      "tensor(0.0024, grad_fn=<MseLossBackward0>)\n",
      "tensor(0.0024, grad_fn=<MseLossBackward0>)\n"
     ]
    }
   ],
   "source": [
    "lambda_par_mse = mse(lambda_par_100307_pred_gstd,lambda_par_100307_pred)\n",
    "lambda_iso_mse = mse(lambda_iso_100307_pred_gstd,lambda_iso_100307_pred)\n",
    "volume_0_mse = mse(volume_0_100307_pred_gstd,volume_0_100307_pred)\n",
    "volume_1_mse = mse(volume_1_100307_pred_gstd,volume_1_100307_pred)\n",
    "print(lambda_par_mse)\n",
    "print(lambda_iso_mse)\n",
    "print(volume_0_mse)\n",
    "print(volume_1_mse)"
   ]
  },
  {
   "cell_type": "markdown",
   "id": "be0f9404-583c-48f0-80e0-0f454174c401",
   "metadata": {},
   "source": [
    "Apply model_100206_8g_02.pt"
   ]
  },
  {
   "cell_type": "code",
   "execution_count": 74,
   "id": "4b13dd02-74c8-4804-9701-22cbee02dd51",
   "metadata": {},
   "outputs": [],
   "source": [
    "lambda_par_mse = mse(lambda_par_100307_pred_gstd,lambda_par_100307_pred)\n",
    "lambda_iso_mse = mse(lambda_iso_100307_pred_gstd,lambda_iso_100307_pred)\n",
    "volume_0_mse = mse(volume_0_100307_pred_gstd,volume_0_100307_pred)\n",
    "volume_1_mse = mse(volume_1_100307_pred_gstd,volume_1_100307_pred)"
   ]
  },
  {
   "cell_type": "code",
   "execution_count": 75,
   "id": "937f13a9-9bba-40af-8571-0ba1720890db",
   "metadata": {},
   "outputs": [
    {
     "name": "stdout",
     "output_type": "stream",
     "text": [
      "tensor(0.0043, grad_fn=<MseLossBackward0>)\n",
      "tensor(0.0108, grad_fn=<MseLossBackward0>)\n",
      "tensor(0.0003, grad_fn=<MseLossBackward0>)\n",
      "tensor(0.0003, grad_fn=<MseLossBackward0>)\n"
     ]
    }
   ],
   "source": [
    "print(lambda_par_mse)\n",
    "print(lambda_iso_mse)\n",
    "print(volume_0_mse)\n",
    "print(volume_1_mse)"
   ]
  },
  {
   "cell_type": "markdown",
   "id": "064a6e74-c8be-4737-a6f9-adf6bfb8b0f4",
   "metadata": {},
   "source": [
    "Apply model_100206_8g_03.pt"
   ]
  },
  {
   "cell_type": "code",
   "execution_count": 23,
   "id": "d58c8fc3-34f4-4981-a95d-1e59ff731135",
   "metadata": {},
   "outputs": [
    {
     "name": "stdout",
     "output_type": "stream",
     "text": [
      "tensor(0.0058, grad_fn=<MseLossBackward0>)\n",
      "tensor(0.0098, grad_fn=<MseLossBackward0>)\n",
      "tensor(0.0003, grad_fn=<MseLossBackward0>)\n",
      "tensor(0.0003, grad_fn=<MseLossBackward0>)\n"
     ]
    }
   ],
   "source": [
    "lambda_par_mse = mse(lambda_par_100307_pred_gstd,lambda_par_100307_pred)\n",
    "lambda_iso_mse = mse(lambda_iso_100307_pred_gstd,lambda_iso_100307_pred)\n",
    "volume_0_mse = mse(volume_0_100307_pred_gstd,volume_0_100307_pred)\n",
    "volume_1_mse = mse(volume_1_100307_pred_gstd,volume_1_100307_pred)\n",
    "print(lambda_par_mse)\n",
    "print(lambda_iso_mse)\n",
    "print(volume_0_mse)\n",
    "print(volume_1_mse)"
   ]
  },
  {
   "cell_type": "markdown",
   "id": "018bec57-e664-45e4-b244-88c8f2ac8a56",
   "metadata": {},
   "source": [
    "When using 7 groups of measurements"
   ]
  },
  {
   "cell_type": "markdown",
   "id": "837311c6-a8dd-4888-b317-5f3a6123791e",
   "metadata": {},
   "source": [
    "Apply model_100206_7g_02.pt"
   ]
  },
  {
   "cell_type": "code",
   "execution_count": 283,
   "id": "f83f2ccd-2a46-4aa7-aa41-3c7303b617a6",
   "metadata": {},
   "outputs": [
    {
     "name": "stdout",
     "output_type": "stream",
     "text": [
      "tensor(0.0051, grad_fn=<MseLossBackward0>)\n",
      "tensor(0.0118, grad_fn=<MseLossBackward0>)\n",
      "tensor(0.0003, grad_fn=<MseLossBackward0>)\n",
      "tensor(0.0003, grad_fn=<MseLossBackward0>)\n"
     ]
    }
   ],
   "source": [
    "lambda_par_mse = mse(lambda_par_100307_pred_gstd,lambda_par_100307_pred)\n",
    "lambda_iso_mse = mse(lambda_iso_100307_pred_gstd,lambda_iso_100307_pred)\n",
    "volume_0_mse = mse(volume_0_100307_pred_gstd,volume_0_100307_pred)\n",
    "volume_1_mse = mse(volume_1_100307_pred_gstd,volume_1_100307_pred)\n",
    "print(lambda_par_mse)\n",
    "print(lambda_iso_mse)\n",
    "print(volume_0_mse)\n",
    "print(volume_1_mse)"
   ]
  },
  {
   "cell_type": "markdown",
   "id": "ac14ef0b-f707-416d-a4fb-1a4544f8fafd",
   "metadata": {},
   "source": [
    "Apply model_100206_7g_03.pt"
   ]
  },
  {
   "cell_type": "code",
   "execution_count": 60,
   "id": "52bca9c4-a63a-4e20-9e0a-4ee0d5dacd40",
   "metadata": {},
   "outputs": [],
   "source": [
    "lambda_par_mse = mse(lambda_par_100307_pred_gstd,lambda_par_100307_pred)\n",
    "lambda_iso_mse = mse(lambda_iso_100307_pred_gstd,lambda_iso_100307_pred)\n",
    "volume_0_mse = mse(volume_0_100307_pred_gstd,volume_0_100307_pred)\n",
    "volume_1_mse = mse(volume_1_100307_pred_gstd,volume_1_100307_pred)"
   ]
  },
  {
   "cell_type": "code",
   "execution_count": 61,
   "id": "0a931393-f4a5-4c7a-b89f-f0749c105097",
   "metadata": {},
   "outputs": [
    {
     "name": "stdout",
     "output_type": "stream",
     "text": [
      "tensor(0.0094, grad_fn=<MseLossBackward0>)\n",
      "tensor(0.0110, grad_fn=<MseLossBackward0>)\n",
      "tensor(0.0004, grad_fn=<MseLossBackward0>)\n",
      "tensor(0.0004, grad_fn=<MseLossBackward0>)\n"
     ]
    }
   ],
   "source": [
    "print(lambda_par_mse)\n",
    "print(lambda_iso_mse)\n",
    "print(volume_0_mse)\n",
    "print(volume_1_mse)"
   ]
  },
  {
   "cell_type": "markdown",
   "id": "c4e05cd6-3466-42d3-a6ce-9755b3f0941b",
   "metadata": {},
   "source": [
    "Apply model_100206_7g_04.pt"
   ]
  },
  {
   "cell_type": "code",
   "execution_count": 37,
   "id": "3b2a2f7f-03ea-4f58-9fd1-ed40f86b25f4",
   "metadata": {},
   "outputs": [
    {
     "name": "stdout",
     "output_type": "stream",
     "text": [
      "tensor(0.0064, grad_fn=<MseLossBackward0>)\n",
      "tensor(0.0266, grad_fn=<MseLossBackward0>)\n",
      "tensor(0.0018, grad_fn=<MseLossBackward0>)\n",
      "tensor(0.0018, grad_fn=<MseLossBackward0>)\n"
     ]
    }
   ],
   "source": [
    "lambda_par_mse = mse(lambda_par_100307_pred_gstd,lambda_par_100307_pred)\n",
    "lambda_iso_mse = mse(lambda_iso_100307_pred_gstd,lambda_iso_100307_pred)\n",
    "volume_0_mse = mse(volume_0_100307_pred_gstd,volume_0_100307_pred)\n",
    "volume_1_mse = mse(volume_1_100307_pred_gstd,volume_1_100307_pred)\n",
    "print(lambda_par_mse)\n",
    "print(lambda_iso_mse)\n",
    "print(volume_0_mse)\n",
    "print(volume_1_mse)"
   ]
  },
  {
   "cell_type": "code",
   "execution_count": 42,
   "id": "bde6579f-b197-4997-8062-857c4e8fd5c2",
   "metadata": {},
   "outputs": [],
   "source": [
    "distance = get_mean_euclidean_distance(mu_cart_100307_pred_gstd, mu_cart_100307_pred)"
   ]
  },
  {
   "cell_type": "code",
   "execution_count": 43,
   "id": "34245e75-a2ca-4253-8466-2f9c59e738a3",
   "metadata": {},
   "outputs": [
    {
     "data": {
      "text/plain": [
       "tensor(1.8668, grad_fn=<MeanBackward0>)"
      ]
     },
     "execution_count": 43,
     "metadata": {},
     "output_type": "execute_result"
    }
   ],
   "source": [
    "distance"
   ]
  },
  {
   "cell_type": "code",
   "execution_count": 34,
   "id": "293bd0f0-adef-45a8-8328-7d02f0c272ac",
   "metadata": {
    "collapsed": true,
    "jupyter": {
     "outputs_hidden": true
    },
    "tags": []
   },
   "outputs": [
    {
     "data": {
      "text/plain": [
       "tensor([[ 0.1888,  0.5349,  0.6016,  ...,  0.5509, -0.5324, -0.4095],\n",
       "        [ 0.9579,  0.4682,  0.4306,  ...,  0.8208,  0.6866,  0.8606],\n",
       "        [ 0.2162, -0.7034, -0.6728,  ...,  0.1508, -0.4952, -0.3029]],\n",
       "       grad_fn=<CopySlices>)"
      ]
     },
     "execution_count": 34,
     "metadata": {},
     "output_type": "execute_result"
    }
   ],
   "source": [
    "mu_cart_100307_pred_gstd"
   ]
  },
  {
   "cell_type": "code",
   "execution_count": 35,
   "id": "88f701f1-4799-40f2-9cd3-100e3ad1e518",
   "metadata": {
    "collapsed": true,
    "jupyter": {
     "outputs_hidden": true
    },
    "tags": []
   },
   "outputs": [
    {
     "data": {
      "text/plain": [
       "tensor([[-0.3860, -0.5575, -0.5352,  ..., -0.6136,  0.1787,  0.1740],\n",
       "        [-0.9059, -0.5200, -0.6355,  ..., -0.7601, -0.6667, -0.7992],\n",
       "        [-0.1741,  0.6471,  0.5566,  ..., -0.2138,  0.7236,  0.5753]],\n",
       "       grad_fn=<CopySlices>)"
      ]
     },
     "execution_count": 35,
     "metadata": {},
     "output_type": "execute_result"
    }
   ],
   "source": [
    "mu_cart_100307_pred"
   ]
  },
  {
   "cell_type": "markdown",
   "id": "b76fb7f0-16cd-4c7f-b526-1901b6154c25",
   "metadata": {},
   "source": [
    "When using 6 groups of measurements"
   ]
  },
  {
   "cell_type": "code",
   "execution_count": 102,
   "id": "3f44af84-e7b2-472f-8b1c-61f2133ab1a0",
   "metadata": {},
   "outputs": [
    {
     "name": "stdout",
     "output_type": "stream",
     "text": [
      "tensor(0.0059, grad_fn=<MseLossBackward0>)\n",
      "tensor(0.0142, grad_fn=<MseLossBackward0>)\n",
      "tensor(0.0004, grad_fn=<MseLossBackward0>)\n",
      "tensor(0.0004, grad_fn=<MseLossBackward0>)\n"
     ]
    }
   ],
   "source": [
    "lambda_par_mse = mse(lambda_par_100307_pred_gstd,lambda_par_100307_pred)\n",
    "lambda_iso_mse = mse(lambda_iso_100307_pred_gstd,lambda_iso_100307_pred)\n",
    "volume_0_mse = mse(volume_0_100307_pred_gstd,volume_0_100307_pred)\n",
    "volume_1_mse = mse(volume_1_100307_pred_gstd,volume_1_100307_pred)\n",
    "print(lambda_par_mse)\n",
    "print(lambda_iso_mse)\n",
    "print(volume_0_mse)\n",
    "print(volume_1_mse)"
   ]
  },
  {
   "cell_type": "markdown",
   "id": "302c2e0c-6876-4f21-8cdd-e188e3e96bf8",
   "metadata": {},
   "source": [
    "Apply model_100206_6g_02.pt"
   ]
  },
  {
   "cell_type": "code",
   "execution_count": 121,
   "id": "a98b9d54-6c80-46af-b06c-780c40dfbdea",
   "metadata": {},
   "outputs": [
    {
     "name": "stdout",
     "output_type": "stream",
     "text": [
      "tensor(0.0052, grad_fn=<MseLossBackward0>)\n",
      "tensor(0.0135, grad_fn=<MseLossBackward0>)\n",
      "tensor(0.0004, grad_fn=<MseLossBackward0>)\n",
      "tensor(0.0004, grad_fn=<MseLossBackward0>)\n"
     ]
    }
   ],
   "source": [
    "lambda_par_mse = mse(lambda_par_100307_pred_gstd,lambda_par_100307_pred)\n",
    "lambda_iso_mse = mse(lambda_iso_100307_pred_gstd,lambda_iso_100307_pred)\n",
    "volume_0_mse = mse(volume_0_100307_pred_gstd,volume_0_100307_pred)\n",
    "volume_1_mse = mse(volume_1_100307_pred_gstd,volume_1_100307_pred)\n",
    "print(lambda_par_mse)\n",
    "print(lambda_iso_mse)\n",
    "print(volume_0_mse)\n",
    "print(volume_1_mse)"
   ]
  },
  {
   "cell_type": "code",
   "execution_count": 66,
   "id": "a3aef269-616c-4a69-b854-088d365c6653",
   "metadata": {},
   "outputs": [
    {
     "name": "stdout",
     "output_type": "stream",
     "text": [
      "tensor(0.0084, grad_fn=<MseLossBackward0>)\n",
      "tensor(0.0126, grad_fn=<MseLossBackward0>)\n",
      "tensor(0.0005, grad_fn=<MseLossBackward0>)\n",
      "tensor(0.0005, grad_fn=<MseLossBackward0>)\n"
     ]
    }
   ],
   "source": [
    "lambda_par_mse = mse(lambda_par_100307_pred_gstd,lambda_par_100307_pred)\n",
    "lambda_iso_mse = mse(lambda_iso_100307_pred_gstd,lambda_iso_100307_pred)\n",
    "volume_0_mse = mse(volume_0_100307_pred_gstd,volume_0_100307_pred)\n",
    "volume_1_mse = mse(volume_1_100307_pred_gstd,volume_1_100307_pred)\n",
    "print(lambda_par_mse)\n",
    "print(lambda_iso_mse)\n",
    "print(volume_0_mse)\n",
    "print(volume_1_mse)"
   ]
  },
  {
   "cell_type": "markdown",
   "id": "e407818d-0430-408b-ad8c-71a8adf8d86c",
   "metadata": {},
   "source": [
    "When using 5 groups of measurements"
   ]
  },
  {
   "cell_type": "markdown",
   "id": "fabe2494-452b-4a3f-b8fa-e439f4f30e09",
   "metadata": {},
   "source": [
    "Apply model_100206_quarter_01.pt"
   ]
  },
  {
   "cell_type": "code",
   "execution_count": 255,
   "id": "70662637-38ae-4b1d-87a5-4ee11248cc51",
   "metadata": {},
   "outputs": [
    {
     "name": "stdout",
     "output_type": "stream",
     "text": [
      "tensor(0.0060, grad_fn=<MseLossBackward0>)\n",
      "tensor(0.0184, grad_fn=<MseLossBackward0>)\n",
      "tensor(0.0004, grad_fn=<MseLossBackward0>)\n",
      "tensor(0.0004, grad_fn=<MseLossBackward0>)\n"
     ]
    }
   ],
   "source": [
    "lambda_par_mse = mse(lambda_par_100307_pred_gstd,lambda_par_100307_pred)\n",
    "lambda_iso_mse = mse(lambda_iso_100307_pred_gstd,lambda_iso_100307_pred)\n",
    "volume_0_mse = mse(volume_0_100307_pred_gstd,volume_0_100307_pred)\n",
    "volume_1_mse = mse(volume_1_100307_pred_gstd,volume_1_100307_pred)\n",
    "print(lambda_par_mse)\n",
    "print(lambda_iso_mse)\n",
    "print(volume_0_mse)\n",
    "print(volume_1_mse)"
   ]
  },
  {
   "cell_type": "markdown",
   "id": "fb3dc5a0-d7d0-468a-8379-6c2fd66a0ea8",
   "metadata": {},
   "source": [
    "Apply model_100206_5g_02.pt"
   ]
  },
  {
   "cell_type": "code",
   "execution_count": 136,
   "id": "05c11d4f-8134-4cc7-9396-0e8a3bb6f038",
   "metadata": {},
   "outputs": [
    {
     "name": "stdout",
     "output_type": "stream",
     "text": [
      "tensor(0.0136, grad_fn=<MseLossBackward0>)\n",
      "tensor(0.0438, grad_fn=<MseLossBackward0>)\n",
      "tensor(0.0032, grad_fn=<MseLossBackward0>)\n",
      "tensor(0.0032, grad_fn=<MseLossBackward0>)\n"
     ]
    }
   ],
   "source": [
    "lambda_par_mse = mse(lambda_par_100307_pred_gstd,lambda_par_100307_pred)\n",
    "lambda_iso_mse = mse(lambda_iso_100307_pred_gstd,lambda_iso_100307_pred)\n",
    "volume_0_mse = mse(volume_0_100307_pred_gstd,volume_0_100307_pred)\n",
    "volume_1_mse = mse(volume_1_100307_pred_gstd,volume_1_100307_pred)\n",
    "print(lambda_par_mse)\n",
    "print(lambda_iso_mse)\n",
    "print(volume_0_mse)\n",
    "print(volume_1_mse)"
   ]
  },
  {
   "cell_type": "markdown",
   "id": "b5e37885-981d-402f-a8bf-e2248ce724fd",
   "metadata": {},
   "source": [
    "Apply model_100206_5g_03.pt"
   ]
  },
  {
   "cell_type": "code",
   "execution_count": 151,
   "id": "2d41e54e-20cc-4e44-84a2-a60377e9ccb6",
   "metadata": {},
   "outputs": [
    {
     "name": "stdout",
     "output_type": "stream",
     "text": [
      "tensor(0.0087, grad_fn=<MseLossBackward0>)\n",
      "tensor(0.0155, grad_fn=<MseLossBackward0>)\n",
      "tensor(0.0005, grad_fn=<MseLossBackward0>)\n",
      "tensor(0.0005, grad_fn=<MseLossBackward0>)\n"
     ]
    }
   ],
   "source": [
    "lambda_par_mse = mse(lambda_par_100307_pred_gstd,lambda_par_100307_pred)\n",
    "lambda_iso_mse = mse(lambda_iso_100307_pred_gstd,lambda_iso_100307_pred)\n",
    "volume_0_mse = mse(volume_0_100307_pred_gstd,volume_0_100307_pred)\n",
    "volume_1_mse = mse(volume_1_100307_pred_gstd,volume_1_100307_pred)\n",
    "print(lambda_par_mse)\n",
    "print(lambda_iso_mse)\n",
    "print(volume_0_mse)\n",
    "print(volume_1_mse)"
   ]
  },
  {
   "cell_type": "markdown",
   "id": "e7ce9d15-afcf-4e17-b5c7-7f83a23a45d7",
   "metadata": {},
   "source": [
    "When using 1 groups of measurements"
   ]
  },
  {
   "cell_type": "markdown",
   "id": "815f7787-6ba7-4b12-8781-7c1bed7d4b77",
   "metadata": {},
   "source": [
    "Apply model_100206_single_01.pt"
   ]
  },
  {
   "cell_type": "code",
   "execution_count": 269,
   "id": "a85537ff-ac95-4aa7-bf98-8e1284cc4151",
   "metadata": {},
   "outputs": [
    {
     "name": "stdout",
     "output_type": "stream",
     "text": [
      "tensor(0.0357, grad_fn=<MseLossBackward0>)\n",
      "tensor(0.0783, grad_fn=<MseLossBackward0>)\n",
      "tensor(0.0029, grad_fn=<MseLossBackward0>)\n",
      "tensor(0.0029, grad_fn=<MseLossBackward0>)\n"
     ]
    }
   ],
   "source": [
    "lambda_par_mse = mse(lambda_par_100307_pred_gstd,lambda_par_100307_pred)\n",
    "lambda_iso_mse = mse(lambda_iso_100307_pred_gstd,lambda_iso_100307_pred)\n",
    "volume_0_mse = mse(volume_0_100307_pred_gstd,volume_0_100307_pred)\n",
    "volume_1_mse = mse(volume_1_100307_pred_gstd,volume_1_100307_pred)\n",
    "print(lambda_par_mse)\n",
    "print(lambda_iso_mse)\n",
    "print(volume_0_mse)\n",
    "print(volume_1_mse)"
   ]
  },
  {
   "cell_type": "code",
   "execution_count": null,
   "id": "80deb473-8a39-42a7-9a44-7f74254e4990",
   "metadata": {},
   "outputs": [],
   "source": [
    "tensor(0.0049, grad_fn=<MseLossBackward0>)\n",
    "tensor(0.0042, grad_fn=<MseLossBackward0>)\n",
    "tensor(0.0002, grad_fn=<MseLossBackward0>)\n",
    "tensor(0.0002, grad_fn=<MseLossBackward0>)"
   ]
  },
  {
   "cell_type": "code",
   "execution_count": 31,
   "id": "b84943d3-919f-4759-b3fe-0b596aaf2217",
   "metadata": {},
   "outputs": [
    {
     "data": {
      "text/plain": [
       "[<matplotlib.axis.XTick at 0x1b40c46a0>,\n",
       " <matplotlib.axis.XTick at 0x1b40c4670>,\n",
       " <matplotlib.axis.XTick at 0x1b3fa7220>,\n",
       " <matplotlib.axis.XTick at 0x1b40e6830>,\n",
       " <matplotlib.axis.XTick at 0x1b40e72e0>,\n",
       " <matplotlib.axis.XTick at 0x1b40e7d90>,\n",
       " <matplotlib.axis.XTick at 0x1b4110880>,\n",
       " <matplotlib.axis.XTick at 0x1b40e6470>]"
      ]
     },
     "execution_count": 31,
     "metadata": {},
     "output_type": "execute_result"
    },
    {
     "data": {
      "image/png": "[encoded data removed]",
      "text/plain": [
       "<Figure size 640x480 with 1 Axes>"
      ]
     },
     "metadata": {},
     "output_type": "display_data"
    }
   ],
   "source": [
    "x_values = [5, 6, 7, 8, 9, 11, 13, 15]\n",
    "y_values = [[0.0060, 0.0136,0.0087], [0.0059,0.0052,0.0084], [0.0051, 0.0094, 0.0064], [0.0059, 0.0043, 0.0058], [0.0030, 0.0046, 0.0034, 0.0027, 0.0092, 0.0086],[0.0017, 0.0045,0.0061,0.0060,0.0039,0.0025], [0.0049,0.0046,0.0038,0.0038,0.0044,0.0020,0.0018],[0.0032,0.0033,0.0018,0.0027]]\n",
    "\n",
    "fig, ax = plt.subplots()\n",
    "for i in range(len(x_values)):\n",
    "    ax.scatter([x_values[i]] * len(y_values[i]), y_values[i])\n",
    "    \n",
    "ax.set_xlabel('Number of groups of measurements')\n",
    "ax.set_ylabel('MSE between the lambda_par_golden_std and lambda_par_pred')\n",
    "\n",
    "ax.set_xticks(x_values)\n",
    "\n",
    "# best pred using 9 gropus of measurements\n",
    "# -> b values /  * gradient direction arr in shape of (3, 288)\n",
    "#                 scoring 统计差不多的方向（a,b,c）的数量，展现方向的distribution (histgram)\n",
    "    \n",
    "# mean((pred-mean(ground_truth))^2)\n",
    "# avg_acc variance \n",
    "# simulated signals\n",
    "\n",
    "# 蒙特卡洛采样\n"
   ]
  },
  {
   "cell_type": "code",
   "execution_count": 32,
   "id": "488cd309-bbef-4ca0-a38d-70efe6cb4ed6",
   "metadata": {},
   "outputs": [
    {
     "data": {
      "text/plain": [
       "[<matplotlib.axis.XTick at 0x1b4148970>,\n",
       " <matplotlib.axis.XTick at 0x1b4148940>,\n",
       " <matplotlib.axis.XTick at 0x1b4148610>,\n",
       " <matplotlib.axis.XTick at 0x1b4179480>,\n",
       " <matplotlib.axis.XTick at 0x1b417ac50>,\n",
       " <matplotlib.axis.XTick at 0x1b417b700>,\n",
       " <matplotlib.axis.XTick at 0x1b41a81f0>,\n",
       " <matplotlib.axis.XTick at 0x1b41a8ca0>]"
      ]
     },
     "execution_count": 32,
     "metadata": {},
     "output_type": "execute_result"
    },
    {
     "data": {
      "image/png": "[encoded data removed]",
      "text/plain": [
       "<Figure size 640x480 with 1 Axes>"
      ]
     },
     "metadata": {},
     "output_type": "display_data"
    }
   ],
   "source": [
    "# x_values = [1, 5, 6, 7, 8, 9]\n",
    "# y_values = [[0.0783], [0.0184], [0.0142], [0.0118, 0.0110], [0.0348, 0.0108], [0.0089, 0.0088, 0.0080, 0.0069, 0.0077, 0.0081]]\n",
    "x_values = [5, 6, 7, 8, 9,11, 13,15]\n",
    "y_values = [[0.0184, 0.0438,0.0155], [0.0142,0.0135,0.0126], [0.0118, 0.0110, 0.0266], [0.0348, 0.0108, 0.0098], [0.0089, 0.0088, 0.0080, 0.0069, 0.0077, 0.0081], [0.0058, 0.0056,0.0060,0.0088,0.0080,0.0056], [0.0042, 0.0312, 0.0046,0.0051,0.0039,0.0040,0.0038],[0.0029,0.0057,0.0032,0.0029]]\n",
    "\n",
    "fig, ax = plt.subplots()\n",
    "for i in range(len(x_values)):\n",
    "    ax.scatter([x_values[i]] * len(y_values[i]), y_values[i])\n",
    "    \n",
    "ax.set_xlabel('Number of groups of measurements')\n",
    "ax.set_ylabel('MSE between the lambda_iso_golden_std and lambda_iso_pred')\n",
    "\n",
    "ax.set_xticks(x_values)"
   ]
  },
  {
   "cell_type": "code",
   "execution_count": 33,
   "id": "cedcd348-231b-49a7-b282-231e451674a2",
   "metadata": {},
   "outputs": [
    {
     "data": {
      "text/plain": [
       "[<matplotlib.axis.XTick at 0x1b41e95a0>,\n",
       " <matplotlib.axis.XTick at 0x1b41e9780>,\n",
       " <matplotlib.axis.XTick at 0x1b41e9150>,\n",
       " <matplotlib.axis.XTick at 0x1b420ba00>,\n",
       " <matplotlib.axis.XTick at 0x1b42404f0>,\n",
       " <matplotlib.axis.XTick at 0x1b420ad70>,\n",
       " <matplotlib.axis.XTick at 0x1b4241300>,\n",
       " <matplotlib.axis.XTick at 0x1b4241db0>]"
      ]
     },
     "execution_count": 33,
     "metadata": {},
     "output_type": "execute_result"
    },
    {
     "data": {
      "image/png": "[encoded data removed]",
      "text/plain": [
       "<Figure size 640x480 with 1 Axes>"
      ]
     },
     "metadata": {},
     "output_type": "display_data"
    }
   ],
   "source": [
    "# x_values = [1, 5, 6, 7, 8, 9]\n",
    "# y_values = [[0.0029], [0.0004], [0.0004], [0.0003, 0.0004], [0.0024, 0.0003], [0.0002, 0.0003, 0.0002, 0.0002, 0.0003, 0.0003]]\n",
    "x_values = [5, 6, 7, 8, 9, 11, 13, 15]\n",
    "y_values = [[0.0004,0.0032,0.0005], [0.0004,0.0004,0.0005], [0.0003, 0.0004, 0.0018], [0.0024, 0.0003, 0.0003], [0.0002, 0.0003, 0.0002, 0.0002, 0.0003, 0.0003],[0.0001, 0.0002,0.0003,0.0002,0.0002,0.0002], [0.0002, 0.0023, 0.0002,0.0002,0.0002,0.0001,9.9272e-05],[0.0001,0.0001,9.1013e-05,0.0002]]\n",
    "\n",
    "fig, ax = plt.subplots()\n",
    "for i in range(len(x_values)):\n",
    "    ax.scatter([x_values[i]] * len(y_values[i]), y_values[i])\n",
    "    \n",
    "ax.set_xlabel('Number of groups of measurements')\n",
    "ax.set_ylabel('MSE between the fraction_values_golden_std and fraction_values_pred')\n",
    "\n",
    "ax.set_xticks(x_values)"
   ]
  },
  {
   "cell_type": "code",
   "execution_count": null,
   "id": "c63fe4e6-97ff-451f-bf3b-de9b001ed8dc",
   "metadata": {},
   "outputs": [],
   "source": []
  },
  {
   "cell_type": "code",
   "execution_count": null,
   "id": "287018bb-fe2b-47aa-aa4a-96f5dd27cda8",
   "metadata": {},
   "outputs": [],
   "source": []
  },
  {
   "cell_type": "code",
   "execution_count": null,
   "id": "d3b886ff-7d82-4460-82f1-baae8b0a03a2",
   "metadata": {},
   "outputs": [],
   "source": []
  },
  {
   "cell_type": "code",
   "execution_count": null,
   "id": "46a21dcd-06e7-4d3f-9763-a8b56ce3ab78",
   "metadata": {},
   "outputs": [],
   "source": [
    "# mean((p - mean(gtd))^2) "
   ]
  },
  {
   "cell_type": "code",
   "execution_count": null,
   "id": "6c3466e4-5fb6-4050-82c7-b2969c1cf76f",
   "metadata": {},
   "outputs": [],
   "source": []
  },
  {
   "cell_type": "code",
   "execution_count": null,
   "id": "dc3584cb-a891-40bb-822d-fead7e39a326",
   "metadata": {},
   "outputs": [],
   "source": []
  },
  {
   "cell_type": "code",
   "execution_count": 112,
   "id": "1cc36331-c1ab-4471-9485-f84e8ca7d754",
   "metadata": {},
   "outputs": [
    {
     "name": "stdout",
     "output_type": "stream",
     "text": [
      "\n"
     ]
    }
   ],
   "source": [
    "rand_sub_bval_indice_100307 = np.array(process_data.get_rand_selected_bval_indice(bvals_all_100307, 9))"
   ]
  },
  {
   "cell_type": "code",
   "execution_count": 111,
   "id": "146040f7-afe6-4cc3-9754-af131776e824",
   "metadata": {},
   "outputs": [
    {
     "data": {
      "text/plain": [
       "array([   5.,  990.,  995., 1000., 1005., 1985., 1990., 1995., 2000.,\n",
       "       2005., 2010., 2980., 2985., 2990., 2994., 2995., 3000., 3005.,\n",
       "       3010.])"
      ]
     },
     "execution_count": 111,
     "metadata": {},
     "output_type": "execute_result"
    }
   ],
   "source": [
    "np.unique(bvals_all_100307[rand_sub_bval_indice_100307])"
   ]
  },
  {
   "cell_type": "code",
   "execution_count": 113,
   "id": "3113ca77-f6fc-4cde-99ad-63b4979ae427",
   "metadata": {},
   "outputs": [
    {
     "data": {
      "text/plain": [
       "array([   5.,  990.,  995., 1000., 1005., 1985., 1990., 1995., 2000.,\n",
       "       2005., 2010., 2980., 2985., 2990., 2995., 3000., 3005., 3010.])"
      ]
     },
     "execution_count": 113,
     "metadata": {},
     "output_type": "execute_result"
    }
   ],
   "source": [
    "np.unique(bvals_all_100307[rand_sub_bval_indice_100307])"
   ]
  },
  {
   "cell_type": "code",
   "execution_count": null,
   "id": "25fee634-e321-42e8-a240-92f41e653365",
   "metadata": {},
   "outputs": [],
   "source": [
    "# Training data 1000 2000 3000\n",
    "\n",
    "# Testing data 3000 2000 1000"
   ]
  }
 ],
 "metadata": {
  "kernelspec": {
   "display_name": "Python 3 (ipykernel)",
   "language": "python",
   "name": "python3"
  },
  "language_info": {
   "codemirror_mode": {
    "name": "ipython",
    "version": 3
   },
   "file_extension": ".py",
   "mimetype": "text/x-python",
   "name": "python",
   "nbconvert_exporter": "python",
   "pygments_lexer": "ipython3",
   "version": "3.10.8"
  }
 },
 "nbformat": 4,
 "nbformat_minor": 5
}
