{
 "cells": [
  {
   "cell_type": "code",
   "execution_count": 1,
   "id": "fa04a1bf-b947-42fd-b5d9-2aa719197e00",
   "metadata": {},
   "outputs": [],
   "source": [
    "import numpy as np\n",
    "\n",
    "from dmipy.core.acquisition_scheme import acquisition_scheme_from_bvalues\n",
    "from dmipy.signal_models import cylinder_models, gaussian_models\n",
    "from dmipy.core.modeling_framework import MultiCompartmentModel\n",
    "\n",
    "import matplotlib.pyplot as plt\n",
    "import matplotlib\n",
    "\n",
    "import torch\n",
    "import torch.nn as nn\n",
    "import torch.optim as optim\n",
    "import torch.utils.data as utils\n",
    "from tqdm import tqdm\n",
    "\n",
    "import process_data\n",
    "import config\n",
    "import network"
   ]
  },
  {
   "cell_type": "code",
   "execution_count": 2,
   "id": "8d27968f-183c-48b5-982b-d137f62bc4df",
   "metadata": {
    "tags": []
   },
   "outputs": [],
   "source": [
    "scan_100307 = process_data.get_nifti_data(config.data_folder2 + '/100307/data.nii.gz')\n",
    "mask_100307 = process_data.get_nifti_data(config.data_folder2 + '/100307/nodif_brain_mask.nii.gz')\n",
    "mask_100307_long_pro = process_data.get_mask_pro(scan_100307, mask_100307)"
   ]
  },
  {
   "cell_type": "code",
   "execution_count": 3,
   "id": "88b05ca6-e5b9-4190-bd88-bf79a110cf2a",
   "metadata": {},
   "outputs": [],
   "source": [
    "normalized_scan_100307_full = np.load(config.norm_data_path + '/normalized_scan_100307_full.npy')"
   ]
  },
  {
   "cell_type": "code",
   "execution_count": 4,
   "id": "2f2b96f5-2890-4bd2-85d0-5e5f7fdbd366",
   "metadata": {},
   "outputs": [],
   "source": [
    "bvals_all_100307 = np.loadtxt(config.data_folder2 + '/100307/bvals')"
   ]
  },
  {
   "cell_type": "code",
   "execution_count": 168,
   "id": "33509016-c6e9-44e1-b782-f6f31b25226e",
   "metadata": {
    "tags": []
   },
   "outputs": [],
   "source": [
    "selected_indice = [ 32,  33,  34,  35,  36,  37,  38,  39,  40,  41,  42,  43,  44,\n",
    "        45,  46,  47,  48,  49,  50,  51,  52,  53,  54,  55,  56,  57,\n",
    "        58,  59,  60,  61,  62,  63,  64,  65,  66,  67,  68,  69,  70,\n",
    "        71,  72,  73,  74,  75,  76,  77,  78,  79, 112, 113, 114, 115,\n",
    "       116, 117, 118, 119, 120, 121, 122, 123, 124, 125, 126, 127, 160,\n",
    "       161, 162, 163, 164, 165, 166, 167, 168, 169, 170, 171, 172, 173,\n",
    "       174, 175, 176, 177, 178, 179, 180, 181, 182, 183, 184, 185, 186,\n",
    "       187, 188, 189, 190, 208, 209, 210, 211, 212, 213, 214, 215, 216,\n",
    "       217, 218, 219, 220, 221, 222, 223, 256, 257, 258, 259, 260, 261,\n",
    "       262, 263, 264, 265, 266, 267, 268, 269, 270, 271, 272, 273, 274,\n",
    "       275, 276, 277, 278, 279, 280, 281, 282, 283, 284, 285, 286, 287]"
   ]
  },
  {
   "cell_type": "code",
   "execution_count": 169,
   "id": "fb01656b-8781-4630-a747-db47b8a7c888",
   "metadata": {},
   "outputs": [],
   "source": [
    "bvals_100307_selected = bvals_all_100307[selected_indice]*1e-3"
   ]
  },
  {
   "cell_type": "code",
   "execution_count": 170,
   "id": "3e1b16d3-8fee-4092-b975-93697e67ee37",
   "metadata": {},
   "outputs": [],
   "source": [
    "normalized_scan_100307_sub = normalized_scan_100307_full[:,selected_indice]"
   ]
  },
  {
   "cell_type": "code",
   "execution_count": 171,
   "id": "161ef3e4-0130-404d-8ede-055e1f3d9005",
   "metadata": {},
   "outputs": [],
   "source": [
    "big_b_bvals_100307_selected = np.where(bvals_100307_selected != 0.005)[0]"
   ]
  },
  {
   "cell_type": "code",
   "execution_count": 172,
   "id": "1e09f2d4-e134-41b6-8e26-29f5f1318272",
   "metadata": {},
   "outputs": [],
   "source": [
    "normalized_scan_100307_sub_no_b5 = normalized_scan_100307_sub[:, big_b_bvals_100307_selected]\n",
    "bvals_100307_selected_no_5 = bvals_100307_selected[big_b_bvals_100307_selected]"
   ]
  },
  {
   "cell_type": "code",
   "execution_count": 173,
   "id": "c1a50880-7ee1-44de-bcbc-30d95936187b",
   "metadata": {},
   "outputs": [
    {
     "name": "stdout",
     "output_type": "stream",
     "text": [
      "(134, 3)\n"
     ]
    }
   ],
   "source": [
    "n_all_100307 = np.loadtxt(config.data_folder2 + '/100307/bvecs')\n",
    "n_100307_sub = n_all_100307[:,selected_indice]\n",
    "n_100307_sub_no_b5 = n_100307_sub[:,big_b_bvals_100307_selected].T\n",
    "print(n_100307_sub_no_b5.shape)\n",
    "\n",
    "b_values_100307_sub = torch.FloatTensor(bvals_100307_selected_no_5)\n",
    "gradient_directions_100307_sub = torch.FloatTensor(n_100307_sub_no_b5)"
   ]
  },
  {
   "cell_type": "code",
   "execution_count": 175,
   "id": "8d627dc6-c1a9-478d-8725-f5213910b88b",
   "metadata": {},
   "outputs": [
    {
     "data": {
      "text/plain": [
       "BallStickNet(\n",
       "  (fc_layers): ModuleList(\n",
       "    (0): Linear(in_features=134, out_features=134, bias=True)\n",
       "    (1): ELU(alpha=1.0)\n",
       "    (2): Linear(in_features=134, out_features=134, bias=True)\n",
       "    (3): ELU(alpha=1.0)\n",
       "    (4): Linear(in_features=134, out_features=134, bias=True)\n",
       "    (5): ELU(alpha=1.0)\n",
       "  )\n",
       "  (encoder): Sequential(\n",
       "    (0): Linear(in_features=134, out_features=134, bias=True)\n",
       "    (1): ELU(alpha=1.0)\n",
       "    (2): Linear(in_features=134, out_features=134, bias=True)\n",
       "    (3): ELU(alpha=1.0)\n",
       "    (4): Linear(in_features=134, out_features=134, bias=True)\n",
       "    (5): ELU(alpha=1.0)\n",
       "    (6): Linear(in_features=134, out_features=5, bias=True)\n",
       "  )\n",
       ")"
      ]
     },
     "execution_count": 175,
     "metadata": {},
     "output_type": "execute_result"
    }
   ],
   "source": [
    "net = network.BallStickNet(gradient_directions_100307_sub, b_values_100307_sub)\n",
    "net.load_state_dict(torch.load(\"/Users/weiwenhua/UGY4/COMP0029/COMP0029-Project/deep-BAS-subsets/Models/model_100206_half_05.pt\"))\n",
    "net.eval()"
   ]
  },
  {
   "cell_type": "code",
   "execution_count": 176,
   "id": "0e04aeb0-0f86-4a18-8dd6-368de3344bf4",
   "metadata": {},
   "outputs": [],
   "source": [
    "X_100307_pred, theta_100307_pred, phi_100307_pred, mu_cart_100307_pred, lambda_par_100307_pred, lambda_iso_100307_pred,  volume_0_100307_pred, volume_1_100307_pred = net(torch.from_numpy(normalized_scan_100307_sub_no_b5.astype(np.float32)))"
   ]
  },
  {
   "cell_type": "code",
   "execution_count": 177,
   "id": "a33a96db-7949-4ffb-9fac-bd86866a0325",
   "metadata": {},
   "outputs": [
    {
     "data": {
      "text/plain": [
       "<matplotlib.colorbar.Colorbar at 0x1ccc72b90>"
      ]
     },
     "execution_count": 177,
     "metadata": {},
     "output_type": "execute_result"
    },
    {
     "data": {
      "image/png": "[encoded data removed]",
      "text/plain": [
       "<Figure size 640x480 with 2 Axes>"
      ]
     },
     "metadata": {},
     "output_type": "display_data"
    }
   ],
   "source": [
    "lambda_par_100307_pred_3d = process_data.back_to_3D(mask_100307_long_pro, lambda_par_100307_pred, (145, 174, 145))\n",
    "im = plt.imshow(lambda_par_100307_pred_3d[:,:,70].squeeze().T, origin='lower', interpolation='nearest', cmap=matplotlib.colormaps[\"hot\"], vmin = 0, vmax = 3)\n",
    "plt.colorbar(im)"
   ]
  },
  {
   "cell_type": "code",
   "execution_count": 178,
   "id": "2996d75a-688d-4f9d-a08c-4473025cd5e9",
   "metadata": {},
   "outputs": [
    {
     "data": {
      "text/plain": [
       "<matplotlib.colorbar.Colorbar at 0x1ccd1ead0>"
      ]
     },
     "execution_count": 178,
     "metadata": {},
     "output_type": "execute_result"
    },
    {
     "data": {
      "image/png": "[encoded data removed]",
      "text/plain": [
       "<Figure size 640x480 with 2 Axes>"
      ]
     },
     "metadata": {},
     "output_type": "display_data"
    }
   ],
   "source": [
    "lambda_iso_100307_pred_3d = process_data.back_to_3D(mask_100307_long_pro, lambda_iso_100307_pred, (145, 174, 145))\n",
    "im = plt.imshow(lambda_iso_100307_pred_3d[:,:,70].squeeze().T, origin='lower', interpolation='nearest', cmap=matplotlib.colormaps[\"hot\"], vmin = 0, vmax = 3)\n",
    "plt.colorbar(im)"
   ]
  },
  {
   "cell_type": "markdown",
   "id": "4e65f946-6fbe-462b-9419-d0b45ecd5f7c",
   "metadata": {},
   "source": [
    "Golden standard"
   ]
  },
  {
   "cell_type": "code",
   "execution_count": 27,
   "id": "6e386f2b-2cef-4d6a-98eb-e28a70bda07d",
   "metadata": {},
   "outputs": [],
   "source": [
    "big_b_indices_100307 = np.where(bvals_all_100307 != 5.)[0]"
   ]
  },
  {
   "cell_type": "code",
   "execution_count": 36,
   "id": "1ad90c98-ddaf-4821-901a-32863e069272",
   "metadata": {},
   "outputs": [],
   "source": [
    "bvals_100307_no_b5 = bvals_all_100307[big_b_indices_100307]*1e-3"
   ]
  },
  {
   "cell_type": "code",
   "execution_count": 30,
   "id": "f71ae0e8-5d2d-4112-8286-bd0d2c554e7c",
   "metadata": {},
   "outputs": [],
   "source": [
    "normalized_scan_100307_no_b5 = normalized_scan_100307_full[:, big_b_indices_100307]"
   ]
  },
  {
   "cell_type": "code",
   "execution_count": 35,
   "id": "05b0976b-8609-4558-a261-bd054a7cb320",
   "metadata": {},
   "outputs": [],
   "source": [
    "n_100307_no_b5 = n_all_100307[:,big_b_indices_100307].T"
   ]
  },
  {
   "cell_type": "code",
   "execution_count": 39,
   "id": "209f20ed-e816-40dd-8c35-1edcc403edcb",
   "metadata": {},
   "outputs": [],
   "source": [
    "b_values_100307 = torch.FloatTensor(bvals_100307_no_b5)\n",
    "gradient_directions_100307 = torch.FloatTensor(n_100307_no_b5)"
   ]
  },
  {
   "cell_type": "code",
   "execution_count": 40,
   "id": "ab9f20fc-497e-40ed-85d1-49a40b5f2e2a",
   "metadata": {},
   "outputs": [
    {
     "data": {
      "text/plain": [
       "BallStickNet(\n",
       "  (fc_layers): ModuleList(\n",
       "    (0): Linear(in_features=270, out_features=270, bias=True)\n",
       "    (1): ELU(alpha=1.0)\n",
       "    (2): Linear(in_features=270, out_features=270, bias=True)\n",
       "    (3): ELU(alpha=1.0)\n",
       "    (4): Linear(in_features=270, out_features=270, bias=True)\n",
       "    (5): ELU(alpha=1.0)\n",
       "  )\n",
       "  (encoder): Sequential(\n",
       "    (0): Linear(in_features=270, out_features=270, bias=True)\n",
       "    (1): ELU(alpha=1.0)\n",
       "    (2): Linear(in_features=270, out_features=270, bias=True)\n",
       "    (3): ELU(alpha=1.0)\n",
       "    (4): Linear(in_features=270, out_features=270, bias=True)\n",
       "    (5): ELU(alpha=1.0)\n",
       "    (6): Linear(in_features=270, out_features=5, bias=True)\n",
       "  )\n",
       ")"
      ]
     },
     "execution_count": 40,
     "metadata": {},
     "output_type": "execute_result"
    }
   ],
   "source": [
    "net_golden_std = network.BallStickNet(gradient_directions_100307, b_values_100307)\n",
    "net_golden_std.load_state_dict(torch.load(\"/Users/weiwenhua/UGY4/COMP0029/COMP0029-Project/deep-ball-stick/model_100206_norm_01_Feb_182e.pt\"))\n",
    "net_golden_std.eval()"
   ]
  },
  {
   "cell_type": "code",
   "execution_count": 41,
   "id": "c284964f-f434-4f2c-95cd-8da475b009a0",
   "metadata": {},
   "outputs": [],
   "source": [
    "X_100307_pred_gstd,theta_100307_pred_gstd, phi_100307_pred_gstd, mu_cart_100307_pred_gstd, lambda_par_100307_pred_gstd, lambda_iso_100307_pred_gstd, volume_0_100307_pred_gstd, volume_1_100307_pred_gstd = net_golden_std(torch.from_numpy(normalized_scan_100307_no_b5.astype(np.float32)))"
   ]
  },
  {
   "cell_type": "code",
   "execution_count": 114,
   "id": "d93ebb8f-a2c0-48f2-8c38-fb189b1c1f13",
   "metadata": {},
   "outputs": [
    {
     "data": {
      "text/plain": [
       "tensor([[ 0.1888,  0.5349,  0.6016,  ...,  0.5509, -0.5324, -0.4095],\n",
       "        [ 0.9579,  0.4682,  0.4306,  ...,  0.8208,  0.6866,  0.8606],\n",
       "        [ 0.2162, -0.7034, -0.6728,  ...,  0.1508, -0.4952, -0.3029]],\n",
       "       grad_fn=<CopySlices>)"
      ]
     },
     "execution_count": 114,
     "metadata": {},
     "output_type": "execute_result"
    }
   ],
   "source": [
    "mu_cart_100307_pred_gstd"
   ]
  },
  {
   "cell_type": "code",
   "execution_count": 115,
   "id": "4c27a455-69af-4472-8fe6-05fafc292a9d",
   "metadata": {},
   "outputs": [
    {
     "data": {
      "text/plain": [
       "tensor([[-0.1650,  0.4887,  0.8054,  ...,  0.5339, -0.3313, -0.3546],\n",
       "        [ 0.9636,  0.7028,  0.3473,  ...,  0.7767,  0.5606,  0.5441],\n",
       "        [-0.2105, -0.5169, -0.4803,  ...,  0.3341, -0.7589, -0.7604]],\n",
       "       grad_fn=<CopySlices>)"
      ]
     },
     "execution_count": 115,
     "metadata": {},
     "output_type": "execute_result"
    }
   ],
   "source": [
    "mu_cart_100307_pred"
   ]
  },
  {
   "cell_type": "code",
   "execution_count": null,
   "id": "f1553896-7db4-40a5-adfa-5f7407a2ed25",
   "metadata": {},
   "outputs": [],
   "source": [
    "mse (golden_std(a,b,c) - (a',b',c')"
   ]
  },
  {
   "cell_type": "markdown",
   "id": "4f0cae42-a786-455d-8eb6-0973bd57382f",
   "metadata": {},
   "source": [
    "Mean square error"
   ]
  },
  {
   "cell_type": "markdown",
   "id": "cb6467d6-1717-4339-afdd-3e59e790baa7",
   "metadata": {},
   "source": [
    "When using half measurements"
   ]
  },
  {
   "cell_type": "markdown",
   "id": "d52d7460-8f00-4c14-bc7a-ff796fd2689a",
   "metadata": {},
   "source": [
    "Apply model_100206_half_02.pt"
   ]
  },
  {
   "cell_type": "code",
   "execution_count": 42,
   "id": "4b1e06f1-140c-404a-a8cb-56335017ad56",
   "metadata": {},
   "outputs": [],
   "source": [
    "mse = torch.nn.MSELoss(reduction='mean')"
   ]
  },
  {
   "cell_type": "code",
   "execution_count": 45,
   "id": "b58fee9c-081a-4b23-8151-389f5e7b8afd",
   "metadata": {},
   "outputs": [],
   "source": [
    "lambda_par_mse = mse(lambda_par_100307_pred_gstd,lambda_par_100307_pred)\n",
    "lambda_iso_mse = mse(lambda_iso_100307_pred_gstd,lambda_iso_100307_pred)\n",
    "volume_0_mse = mse(volume_0_100307_pred_gstd,volume_0_100307_pred)\n",
    "volume_1_mse = mse(volume_1_100307_pred_gstd,volume_1_100307_pred)"
   ]
  },
  {
   "cell_type": "code",
   "execution_count": 46,
   "id": "91e9b82a-66f9-4c44-9358-5f90c0667bb1",
   "metadata": {},
   "outputs": [
    {
     "name": "stdout",
     "output_type": "stream",
     "text": [
      "tensor(0.0046, grad_fn=<MseLossBackward0>)\n",
      "tensor(0.0088, grad_fn=<MseLossBackward0>)\n",
      "tensor(0.0003, grad_fn=<MseLossBackward0>)\n",
      "tensor(0.0003, grad_fn=<MseLossBackward0>)\n"
     ]
    }
   ],
   "source": [
    "print(lambda_par_mse)\n",
    "print(lambda_iso_mse)\n",
    "print(volume_0_mse)\n",
    "print(volume_1_mse)"
   ]
  },
  {
   "cell_type": "markdown",
   "id": "5f64c4d4-c6e8-462f-abaa-ad3176a67c04",
   "metadata": {},
   "source": [
    "Apply model_100206_half_03.pt"
   ]
  },
  {
   "cell_type": "code",
   "execution_count": 128,
   "id": "612ef900-249c-4835-b4f1-eb3ab24ae1a7",
   "metadata": {},
   "outputs": [
    {
     "name": "stdout",
     "output_type": "stream",
     "text": [
      "tensor(0.0034, grad_fn=<MseLossBackward0>)\n",
      "tensor(0.0080, grad_fn=<MseLossBackward0>)\n",
      "tensor(0.0002, grad_fn=<MseLossBackward0>)\n",
      "tensor(0.0002, grad_fn=<MseLossBackward0>)\n"
     ]
    }
   ],
   "source": [
    "lambda_par_mse = mse(lambda_par_100307_pred_gstd,lambda_par_100307_pred)\n",
    "lambda_iso_mse = mse(lambda_iso_100307_pred_gstd,lambda_iso_100307_pred)\n",
    "volume_0_mse = mse(volume_0_100307_pred_gstd,volume_0_100307_pred)\n",
    "volume_1_mse = mse(volume_1_100307_pred_gstd,volume_1_100307_pred)\n",
    "print(lambda_par_mse)\n",
    "print(lambda_iso_mse)\n",
    "print(volume_0_mse)\n",
    "print(volume_1_mse)"
   ]
  },
  {
   "cell_type": "markdown",
   "id": "ceb84a13-7555-432f-ad83-eb0e849e8c9b",
   "metadata": {},
   "source": [
    "Apply model_100206_half_04.pt"
   ]
  },
  {
   "cell_type": "code",
   "execution_count": 167,
   "id": "86316dfc-9111-4722-a395-afd21c45e2d4",
   "metadata": {},
   "outputs": [
    {
     "name": "stdout",
     "output_type": "stream",
     "text": [
      "tensor(0.0027, grad_fn=<MseLossBackward0>)\n",
      "tensor(0.0069, grad_fn=<MseLossBackward0>)\n",
      "tensor(0.0002, grad_fn=<MseLossBackward0>)\n",
      "tensor(0.0002, grad_fn=<MseLossBackward0>)\n"
     ]
    }
   ],
   "source": [
    "lambda_par_mse = mse(lambda_par_100307_pred_gstd,lambda_par_100307_pred)\n",
    "lambda_iso_mse = mse(lambda_iso_100307_pred_gstd,lambda_iso_100307_pred)\n",
    "volume_0_mse = mse(volume_0_100307_pred_gstd,volume_0_100307_pred)\n",
    "volume_1_mse = mse(volume_1_100307_pred_gstd,volume_1_100307_pred)\n",
    "print(lambda_par_mse)\n",
    "print(lambda_iso_mse)\n",
    "print(volume_0_mse)\n",
    "print(volume_1_mse)"
   ]
  },
  {
   "cell_type": "code",
   "execution_count": null,
   "id": "ebb98768-9607-4fc1-90de-9a81180fe0a1",
   "metadata": {},
   "outputs": [],
   "source": [
    "Apply model_100206_half_05.pt"
   ]
  },
  {
   "cell_type": "code",
   "execution_count": 179,
   "id": "15724f0d-9eab-4272-a729-9a997e13b1e0",
   "metadata": {},
   "outputs": [
    {
     "name": "stdout",
     "output_type": "stream",
     "text": [
      "tensor(0.0092, grad_fn=<MseLossBackward0>)\n",
      "tensor(0.0077, grad_fn=<MseLossBackward0>)\n",
      "tensor(0.0003, grad_fn=<MseLossBackward0>)\n",
      "tensor(0.0003, grad_fn=<MseLossBackward0>)\n"
     ]
    }
   ],
   "source": [
    "lambda_par_mse = mse(lambda_par_100307_pred_gstd,lambda_par_100307_pred)\n",
    "lambda_iso_mse = mse(lambda_iso_100307_pred_gstd,lambda_iso_100307_pred)\n",
    "volume_0_mse = mse(volume_0_100307_pred_gstd,volume_0_100307_pred)\n",
    "volume_1_mse = mse(volume_1_100307_pred_gstd,volume_1_100307_pred)\n",
    "print(lambda_par_mse)\n",
    "print(lambda_iso_mse)\n",
    "print(volume_0_mse)\n",
    "print(volume_1_mse)"
   ]
  },
  {
   "cell_type": "markdown",
   "id": "1ac81a15-0708-45cd-8e5b-6a80e03dcaa8",
   "metadata": {},
   "source": [
    "When using 8 groups of measurements"
   ]
  },
  {
   "cell_type": "markdown",
   "id": "3ef1794f-ba62-4efc-b768-00f0f5a2cca3",
   "metadata": {},
   "source": [
    "Apply model_100206_8g_01.pt"
   ]
  },
  {
   "cell_type": "code",
   "execution_count": 86,
   "id": "6cbd8764-ecf4-446f-bcd5-c21caadf4e7c",
   "metadata": {},
   "outputs": [
    {
     "name": "stdout",
     "output_type": "stream",
     "text": [
      "tensor(0.0059, grad_fn=<MseLossBackward0>)\n",
      "tensor(0.0348, grad_fn=<MseLossBackward0>)\n",
      "tensor(0.0024, grad_fn=<MseLossBackward0>)\n",
      "tensor(0.0024, grad_fn=<MseLossBackward0>)\n"
     ]
    }
   ],
   "source": [
    "lambda_par_mse = mse(lambda_par_100307_pred_gstd,lambda_par_100307_pred)\n",
    "lambda_iso_mse = mse(lambda_iso_100307_pred_gstd,lambda_iso_100307_pred)\n",
    "volume_0_mse = mse(volume_0_100307_pred_gstd,volume_0_100307_pred)\n",
    "volume_1_mse = mse(volume_1_100307_pred_gstd,volume_1_100307_pred)\n",
    "print(lambda_par_mse)\n",
    "print(lambda_iso_mse)\n",
    "print(volume_0_mse)\n",
    "print(volume_1_mse)"
   ]
  },
  {
   "cell_type": "markdown",
   "id": "be0f9404-583c-48f0-80e0-0f454174c401",
   "metadata": {},
   "source": [
    "Apply model_100206_8g_02.pt"
   ]
  },
  {
   "cell_type": "code",
   "execution_count": 74,
   "id": "4b13dd02-74c8-4804-9701-22cbee02dd51",
   "metadata": {},
   "outputs": [],
   "source": [
    "lambda_par_mse = mse(lambda_par_100307_pred_gstd,lambda_par_100307_pred)\n",
    "lambda_iso_mse = mse(lambda_iso_100307_pred_gstd,lambda_iso_100307_pred)\n",
    "volume_0_mse = mse(volume_0_100307_pred_gstd,volume_0_100307_pred)\n",
    "volume_1_mse = mse(volume_1_100307_pred_gstd,volume_1_100307_pred)"
   ]
  },
  {
   "cell_type": "code",
   "execution_count": 75,
   "id": "937f13a9-9bba-40af-8571-0ba1720890db",
   "metadata": {},
   "outputs": [
    {
     "name": "stdout",
     "output_type": "stream",
     "text": [
      "tensor(0.0043, grad_fn=<MseLossBackward0>)\n",
      "tensor(0.0108, grad_fn=<MseLossBackward0>)\n",
      "tensor(0.0003, grad_fn=<MseLossBackward0>)\n",
      "tensor(0.0003, grad_fn=<MseLossBackward0>)\n"
     ]
    }
   ],
   "source": [
    "print(lambda_par_mse)\n",
    "print(lambda_iso_mse)\n",
    "print(volume_0_mse)\n",
    "print(volume_1_mse)"
   ]
  },
  {
   "cell_type": "markdown",
   "id": "018bec57-e664-45e4-b244-88c8f2ac8a56",
   "metadata": {},
   "source": [
    "When using 7 groups of measurements"
   ]
  },
  {
   "cell_type": "code",
   "execution_count": 60,
   "id": "52bca9c4-a63a-4e20-9e0a-4ee0d5dacd40",
   "metadata": {},
   "outputs": [],
   "source": [
    "lambda_par_mse = mse(lambda_par_100307_pred_gstd,lambda_par_100307_pred)\n",
    "lambda_iso_mse = mse(lambda_iso_100307_pred_gstd,lambda_iso_100307_pred)\n",
    "volume_0_mse = mse(volume_0_100307_pred_gstd,volume_0_100307_pred)\n",
    "volume_1_mse = mse(volume_1_100307_pred_gstd,volume_1_100307_pred)"
   ]
  },
  {
   "cell_type": "code",
   "execution_count": 61,
   "id": "0a931393-f4a5-4c7a-b89f-f0749c105097",
   "metadata": {},
   "outputs": [
    {
     "name": "stdout",
     "output_type": "stream",
     "text": [
      "tensor(0.0094, grad_fn=<MseLossBackward0>)\n",
      "tensor(0.0110, grad_fn=<MseLossBackward0>)\n",
      "tensor(0.0004, grad_fn=<MseLossBackward0>)\n",
      "tensor(0.0004, grad_fn=<MseLossBackward0>)\n"
     ]
    }
   ],
   "source": [
    "print(lambda_par_mse)\n",
    "print(lambda_iso_mse)\n",
    "print(volume_0_mse)\n",
    "print(volume_1_mse)"
   ]
  },
  {
   "cell_type": "markdown",
   "id": "b76fb7f0-16cd-4c7f-b526-1901b6154c25",
   "metadata": {},
   "source": [
    "When using 6 groups of measurements"
   ]
  },
  {
   "cell_type": "code",
   "execution_count": 102,
   "id": "3f44af84-e7b2-472f-8b1c-61f2133ab1a0",
   "metadata": {},
   "outputs": [
    {
     "name": "stdout",
     "output_type": "stream",
     "text": [
      "tensor(0.0059, grad_fn=<MseLossBackward0>)\n",
      "tensor(0.0142, grad_fn=<MseLossBackward0>)\n",
      "tensor(0.0004, grad_fn=<MseLossBackward0>)\n",
      "tensor(0.0004, grad_fn=<MseLossBackward0>)\n"
     ]
    }
   ],
   "source": [
    "lambda_par_mse = mse(lambda_par_100307_pred_gstd,lambda_par_100307_pred)\n",
    "lambda_iso_mse = mse(lambda_iso_100307_pred_gstd,lambda_iso_100307_pred)\n",
    "volume_0_mse = mse(volume_0_100307_pred_gstd,volume_0_100307_pred)\n",
    "volume_1_mse = mse(volume_1_100307_pred_gstd,volume_1_100307_pred)\n",
    "print(lambda_par_mse)\n",
    "print(lambda_iso_mse)\n",
    "print(volume_0_mse)\n",
    "print(volume_1_mse)"
   ]
  },
  {
   "cell_type": "code",
   "execution_count": null,
   "id": "70662637-38ae-4b1d-87a5-4ee11248cc51",
   "metadata": {},
   "outputs": [],
   "source": []
  },
  {
   "cell_type": "code",
   "execution_count": 180,
   "id": "b84943d3-919f-4759-b3fe-0b596aaf2217",
   "metadata": {},
   "outputs": [
    {
     "data": {
      "text/plain": [
       "[<matplotlib.axis.XTick at 0x1ccd8e020>,\n",
       " <matplotlib.axis.XTick at 0x1ccd8d810>,\n",
       " <matplotlib.axis.XTick at 0x1ccd1e920>,\n",
       " <matplotlib.axis.XTick at 0x1ccdfbfa0>]"
      ]
     },
     "execution_count": 180,
     "metadata": {},
     "output_type": "execute_result"
    },
    {
     "data": {
      "image/png": "[encoded data removed]",
      "text/plain": [
       "<Figure size 640x480 with 1 Axes>"
      ]
     },
     "metadata": {},
     "output_type": "display_data"
    }
   ],
   "source": [
    "x_values = [6, 7, 8, 9]\n",
    "y_values = [[0.0059], [0.0094], [0.0059, 0.0043], [0.0046, 0.0034, 0.0027, 0.0092]]\n",
    "\n",
    "fig, ax = plt.subplots()\n",
    "for i in range(len(x_values)):\n",
    "    ax.scatter([x_values[i]] * len(y_values[i]), y_values[i])\n",
    "    \n",
    "ax.set_xlabel('Number of groups of b values')\n",
    "ax.set_ylabel('MSE of lambda_par')\n",
    "\n",
    "ax.set_xticks(x_values)"
   ]
  },
  {
   "cell_type": "code",
   "execution_count": 181,
   "id": "488cd309-bbef-4ca0-a38d-70efe6cb4ed6",
   "metadata": {},
   "outputs": [
    {
     "data": {
      "text/plain": [
       "[<matplotlib.axis.XTick at 0x1cce5d510>,\n",
       " <matplotlib.axis.XTick at 0x1cce5d7e0>,\n",
       " <matplotlib.axis.XTick at 0x1ccdd67d0>,\n",
       " <matplotlib.axis.XTick at 0x1ccdfae60>]"
      ]
     },
     "execution_count": 181,
     "metadata": {},
     "output_type": "execute_result"
    },
    {
     "data": {
      "image/png": "[encoded data removed]",
      "text/plain": [
       "<Figure size 640x480 with 1 Axes>"
      ]
     },
     "metadata": {},
     "output_type": "display_data"
    }
   ],
   "source": [
    "x_values = [6, 7, 8, 9]\n",
    "y_values = [[0.0142], [0.0110], [0.0348, 0.0108], [0.0088, 0.0080, 0.0069, 0.0077]]\n",
    "\n",
    "fig, ax = plt.subplots()\n",
    "for i in range(len(x_values)):\n",
    "    ax.scatter([x_values[i]] * len(y_values[i]), y_values[i])\n",
    "    \n",
    "ax.set_xlabel('Number of groups of b values')\n",
    "ax.set_ylabel('MSE of lambda_iso')\n",
    "\n",
    "ax.set_xticks(x_values)"
   ]
  },
  {
   "cell_type": "code",
   "execution_count": 184,
   "id": "cedcd348-231b-49a7-b282-231e451674a2",
   "metadata": {},
   "outputs": [
    {
     "data": {
      "text/plain": [
       "[<matplotlib.axis.XTick at 0x1d1048640>,\n",
       " <matplotlib.axis.XTick at 0x1d1048610>,\n",
       " <matplotlib.axis.XTick at 0x1cce5c5b0>,\n",
       " <matplotlib.axis.XTick at 0x1cce2d8d0>]"
      ]
     },
     "execution_count": 184,
     "metadata": {},
     "output_type": "execute_result"
    },
    {
     "data": {
      "image/png": "[encoded data removed]",
      "text/plain": [
       "<Figure size 640x480 with 1 Axes>"
      ]
     },
     "metadata": {},
     "output_type": "display_data"
    }
   ],
   "source": [
    "x_values = [6, 7, 8, 9]\n",
    "y_values = [[0.0004], [0.0004], [0.0024, 0.0003], [0.0003, 0.0002, 0.0002, 0.0003]]\n",
    "\n",
    "fig, ax = plt.subplots()\n",
    "for i in range(len(x_values)):\n",
    "    ax.scatter([x_values[i]] * len(y_values[i]), y_values[i])\n",
    "    \n",
    "ax.set_xlabel('Number of groups of b values')\n",
    "ax.set_ylabel('MSE of fraction values')\n",
    "\n",
    "ax.set_xticks(x_values)"
   ]
  },
  {
   "cell_type": "code",
   "execution_count": null,
   "id": "c63fe4e6-97ff-451f-bf3b-de9b001ed8dc",
   "metadata": {},
   "outputs": [],
   "source": []
  },
  {
   "cell_type": "code",
   "execution_count": null,
   "id": "287018bb-fe2b-47aa-aa4a-96f5dd27cda8",
   "metadata": {},
   "outputs": [],
   "source": []
  },
  {
   "cell_type": "code",
   "execution_count": null,
   "id": "d3b886ff-7d82-4460-82f1-baae8b0a03a2",
   "metadata": {},
   "outputs": [],
   "source": []
  },
  {
   "cell_type": "code",
   "execution_count": null,
   "id": "46a21dcd-06e7-4d3f-9763-a8b56ce3ab78",
   "metadata": {},
   "outputs": [],
   "source": [
    "# mean((p - mean(gtd))^2) "
   ]
  },
  {
   "cell_type": "code",
   "execution_count": null,
   "id": "6c3466e4-5fb6-4050-82c7-b2969c1cf76f",
   "metadata": {},
   "outputs": [],
   "source": []
  },
  {
   "cell_type": "code",
   "execution_count": null,
   "id": "dc3584cb-a891-40bb-822d-fead7e39a326",
   "metadata": {},
   "outputs": [],
   "source": []
  },
  {
   "cell_type": "code",
   "execution_count": 112,
   "id": "1cc36331-c1ab-4471-9485-f84e8ca7d754",
   "metadata": {},
   "outputs": [
    {
     "name": "stdout",
     "output_type": "stream",
     "text": [
      "\n"
     ]
    }
   ],
   "source": [
    "rand_sub_bval_indice_100307 = np.array(process_data.get_rand_selected_bval_indice(bvals_all_100307, 9))"
   ]
  },
  {
   "cell_type": "code",
   "execution_count": 111,
   "id": "146040f7-afe6-4cc3-9754-af131776e824",
   "metadata": {},
   "outputs": [
    {
     "data": {
      "text/plain": [
       "array([   5.,  990.,  995., 1000., 1005., 1985., 1990., 1995., 2000.,\n",
       "       2005., 2010., 2980., 2985., 2990., 2994., 2995., 3000., 3005.,\n",
       "       3010.])"
      ]
     },
     "execution_count": 111,
     "metadata": {},
     "output_type": "execute_result"
    }
   ],
   "source": [
    "np.unique(bvals_all_100307[rand_sub_bval_indice_100307])"
   ]
  },
  {
   "cell_type": "code",
   "execution_count": 113,
   "id": "3113ca77-f6fc-4cde-99ad-63b4979ae427",
   "metadata": {},
   "outputs": [
    {
     "data": {
      "text/plain": [
       "array([   5.,  990.,  995., 1000., 1005., 1985., 1990., 1995., 2000.,\n",
       "       2005., 2010., 2980., 2985., 2990., 2995., 3000., 3005., 3010.])"
      ]
     },
     "execution_count": 113,
     "metadata": {},
     "output_type": "execute_result"
    }
   ],
   "source": [
    "np.unique(bvals_all_100307[rand_sub_bval_indice_100307])"
   ]
  },
  {
   "cell_type": "code",
   "execution_count": null,
   "id": "25fee634-e321-42e8-a240-92f41e653365",
   "metadata": {},
   "outputs": [],
   "source": [
    "# Training data 1000 2000 3000\n",
    "\n",
    "# Testing data 3000 2000 1000"
   ]
  }
 ],
 "metadata": {
  "kernelspec": {
   "display_name": "Python 3 (ipykernel)",
   "language": "python",
   "name": "python3"
  },
  "language_info": {
   "codemirror_mode": {
    "name": "ipython",
    "version": 3
   },
   "file_extension": ".py",
   "mimetype": "text/x-python",
   "name": "python",
   "nbconvert_exporter": "python",
   "pygments_lexer": "ipython3",
   "version": "3.10.8"
  }
 },
 "nbformat": 4,
 "nbformat_minor": 5
}
