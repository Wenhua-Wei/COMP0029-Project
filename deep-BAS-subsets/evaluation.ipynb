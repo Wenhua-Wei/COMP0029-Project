{
 "cells": [
  {
   "cell_type": "code",
   "execution_count": 1,
   "id": "fa04a1bf-b947-42fd-b5d9-2aa719197e00",
   "metadata": {},
   "outputs": [],
   "source": [
    "import numpy as np\n",
    "\n",
    "from dmipy.core.acquisition_scheme import acquisition_scheme_from_bvalues\n",
    "from dmipy.signal_models import cylinder_models, gaussian_models\n",
    "from dmipy.core.modeling_framework import MultiCompartmentModel\n",
    "\n",
    "import matplotlib.pyplot as plt\n",
    "import matplotlib\n",
    "\n",
    "import torch\n",
    "import torch.nn as nn\n",
    "import torch.optim as optim\n",
    "import torch.utils.data as utils\n",
    "from tqdm import tqdm\n",
    "\n",
    "import process_data\n",
    "import config\n",
    "import network"
   ]
  },
  {
   "cell_type": "code",
   "execution_count": 2,
   "id": "8d27968f-183c-48b5-982b-d137f62bc4df",
   "metadata": {
    "tags": []
   },
   "outputs": [],
   "source": [
    "scan_100307 = process_data.get_nifti_data(config.data_folder2 + '/100307/data.nii.gz')\n",
    "mask_100307 = process_data.get_nifti_data(config.data_folder2 + '/100307/nodif_brain_mask.nii.gz')\n",
    "mask_100307_long_pro = process_data.get_mask_pro(scan_100307, mask_100307)"
   ]
  },
  {
   "cell_type": "code",
   "execution_count": 3,
   "id": "88b05ca6-e5b9-4190-bd88-bf79a110cf2a",
   "metadata": {},
   "outputs": [],
   "source": [
    "normalized_scan_100307_full = np.load(config.norm_data_path + '/normalized_scan_100307_full.npy')"
   ]
  },
  {
   "cell_type": "code",
   "execution_count": 4,
   "id": "2f2b96f5-2890-4bd2-85d0-5e5f7fdbd366",
   "metadata": {},
   "outputs": [],
   "source": [
    "bvals_all_100307 = np.loadtxt(config.data_folder2 + '/100307/bvals')"
   ]
  },
  {
   "cell_type": "code",
   "execution_count": 76,
   "id": "33509016-c6e9-44e1-b782-f6f31b25226e",
   "metadata": {
    "tags": []
   },
   "outputs": [],
   "source": [
    "selected_indice = [ 0,   1,   2,   3,   4,   5,   6,   7,   8,   9,  10,  11,  12,\n",
    "        13,  14,  15,  16,  17,  18,  19,  20,  21,  22,  23,  24,  25,\n",
    "        26,  27,  28,  29,  30,  31,  32,  33,  34,  35,  36,  37,  38,\n",
    "        39,  40,  41,  42,  43,  44,  45,  46,  47,  48,  49,  50,  51,\n",
    "        52,  53,  54,  55,  56,  57,  58,  59,  60,  61,  62,  63,  64,\n",
    "        65,  66,  67,  68,  69,  70,  71,  72,  73,  74,  75,  76,  77,\n",
    "        78,  79, 160, 161, 162, 163, 164, 165, 166, 167, 168, 169, 170,\n",
    "       171, 172, 173, 174, 175, 176, 177, 178, 179, 180, 181, 182, 183,\n",
    "       184, 185, 186, 187, 188, 189, 190, 224, 225, 226, 227, 228, 229,\n",
    "       230, 231, 232, 233, 234, 235, 236, 237, 238, 239]"
   ]
  },
  {
   "cell_type": "code",
   "execution_count": 77,
   "id": "fb01656b-8781-4630-a747-db47b8a7c888",
   "metadata": {},
   "outputs": [],
   "source": [
    "bvals_100307_selected = bvals_all_100307[selected_indice]*1e-3"
   ]
  },
  {
   "cell_type": "code",
   "execution_count": 78,
   "id": "3e1b16d3-8fee-4092-b975-93697e67ee37",
   "metadata": {},
   "outputs": [],
   "source": [
    "normalized_scan_100307_sub = normalized_scan_100307_full[:,selected_indice]"
   ]
  },
  {
   "cell_type": "code",
   "execution_count": 79,
   "id": "161ef3e4-0130-404d-8ede-055e1f3d9005",
   "metadata": {},
   "outputs": [],
   "source": [
    "big_b_bvals_100307_selected = np.where(bvals_100307_selected != 0.005)[0]"
   ]
  },
  {
   "cell_type": "code",
   "execution_count": 80,
   "id": "1e09f2d4-e134-41b6-8e26-29f5f1318272",
   "metadata": {},
   "outputs": [],
   "source": [
    "normalized_scan_100307_sub_no_b5 = normalized_scan_100307_sub[:, big_b_bvals_100307_selected]\n",
    "bvals_100307_selected_no_5 = bvals_100307_selected[big_b_bvals_100307_selected]"
   ]
  },
  {
   "cell_type": "code",
   "execution_count": 81,
   "id": "c1a50880-7ee1-44de-bcbc-30d95936187b",
   "metadata": {},
   "outputs": [
    {
     "name": "stdout",
     "output_type": "stream",
     "text": [
      "(119, 3)\n"
     ]
    }
   ],
   "source": [
    "n_all_100307 = np.loadtxt(config.data_folder2 + '/100307/bvecs')\n",
    "n_100307_sub = n_all_100307[:,selected_indice]\n",
    "n_100307_sub_no_b5 = n_100307_sub[:,big_b_bvals_100307_selected].T\n",
    "print(n_100307_sub_no_b5.shape)\n",
    "\n",
    "b_values_100307_sub = torch.FloatTensor(bvals_100307_selected_no_5)\n",
    "gradient_directions_100307_sub = torch.FloatTensor(n_100307_sub_no_b5)"
   ]
  },
  {
   "cell_type": "code",
   "execution_count": 82,
   "id": "8d627dc6-c1a9-478d-8725-f5213910b88b",
   "metadata": {},
   "outputs": [
    {
     "data": {
      "text/plain": [
       "BallStickNet(\n",
       "  (fc_layers): ModuleList(\n",
       "    (0): Linear(in_features=119, out_features=119, bias=True)\n",
       "    (1): ELU(alpha=1.0)\n",
       "    (2): Linear(in_features=119, out_features=119, bias=True)\n",
       "    (3): ELU(alpha=1.0)\n",
       "    (4): Linear(in_features=119, out_features=119, bias=True)\n",
       "    (5): ELU(alpha=1.0)\n",
       "  )\n",
       "  (encoder): Sequential(\n",
       "    (0): Linear(in_features=119, out_features=119, bias=True)\n",
       "    (1): ELU(alpha=1.0)\n",
       "    (2): Linear(in_features=119, out_features=119, bias=True)\n",
       "    (3): ELU(alpha=1.0)\n",
       "    (4): Linear(in_features=119, out_features=119, bias=True)\n",
       "    (5): ELU(alpha=1.0)\n",
       "    (6): Linear(in_features=119, out_features=5, bias=True)\n",
       "  )\n",
       ")"
      ]
     },
     "execution_count": 82,
     "metadata": {},
     "output_type": "execute_result"
    }
   ],
   "source": [
    "net = network.BallStickNet(gradient_directions_100307_sub, b_values_100307_sub)\n",
    "net.load_state_dict(torch.load(\"/Users/weiwenhua/UGY4/COMP0029/COMP0029-Project/deep-BAS-subsets/Models/model_100206_8g_01.pt\"))\n",
    "net.eval()"
   ]
  },
  {
   "cell_type": "code",
   "execution_count": 83,
   "id": "0e04aeb0-0f86-4a18-8dd6-368de3344bf4",
   "metadata": {},
   "outputs": [],
   "source": [
    "X_100307_pred, theta_100307_pred, phi_100307_pred, mu_cart_100307_pred, lambda_par_100307_pred, lambda_iso_100307_pred,  volume_0_100307_pred, volume_1_100307_pred = net(torch.from_numpy(normalized_scan_100307_sub_no_b5.astype(np.float32)))"
   ]
  },
  {
   "cell_type": "code",
   "execution_count": 84,
   "id": "a33a96db-7949-4ffb-9fac-bd86866a0325",
   "metadata": {},
   "outputs": [
    {
     "data": {
      "text/plain": [
       "<matplotlib.colorbar.Colorbar at 0x1caaf1360>"
      ]
     },
     "execution_count": 84,
     "metadata": {},
     "output_type": "execute_result"
    },
    {
     "data": {
      "image/png": "[encoded data removed]",
      "text/plain": [
       "<Figure size 640x480 with 2 Axes>"
      ]
     },
     "metadata": {},
     "output_type": "display_data"
    }
   ],
   "source": [
    "lambda_par_100307_pred_3d = process_data.back_to_3D(mask_100307_long_pro, lambda_par_100307_pred, (145, 174, 145))\n",
    "im = plt.imshow(lambda_par_100307_pred_3d[:,:,70].squeeze().T, origin='lower', interpolation='nearest', cmap=matplotlib.colormaps[\"hot\"], vmin = 0, vmax = 3)\n",
    "plt.colorbar(im)"
   ]
  },
  {
   "cell_type": "code",
   "execution_count": 85,
   "id": "2996d75a-688d-4f9d-a08c-4473025cd5e9",
   "metadata": {},
   "outputs": [
    {
     "data": {
      "text/plain": [
       "<matplotlib.colorbar.Colorbar at 0x1cabb0d90>"
      ]
     },
     "execution_count": 85,
     "metadata": {},
     "output_type": "execute_result"
    },
    {
     "data": {
      "image/png": "[encoded data removed]",
      "text/plain": [
       "<Figure size 640x480 with 2 Axes>"
      ]
     },
     "metadata": {},
     "output_type": "display_data"
    }
   ],
   "source": [
    "lambda_iso_100307_pred_3d = process_data.back_to_3D(mask_100307_long_pro, lambda_iso_100307_pred, (145, 174, 145))\n",
    "im = plt.imshow(lambda_iso_100307_pred_3d[:,:,70].squeeze().T, origin='lower', interpolation='nearest', cmap=matplotlib.colormaps[\"hot\"], vmin = 0, vmax = 3)\n",
    "plt.colorbar(im)"
   ]
  },
  {
   "cell_type": "markdown",
   "id": "4e65f946-6fbe-462b-9419-d0b45ecd5f7c",
   "metadata": {},
   "source": [
    "Golden standard"
   ]
  },
  {
   "cell_type": "code",
   "execution_count": 27,
   "id": "6e386f2b-2cef-4d6a-98eb-e28a70bda07d",
   "metadata": {},
   "outputs": [],
   "source": [
    "big_b_indices_100307 = np.where(bvals_all_100307 != 5.)[0]"
   ]
  },
  {
   "cell_type": "code",
   "execution_count": 36,
   "id": "1ad90c98-ddaf-4821-901a-32863e069272",
   "metadata": {},
   "outputs": [],
   "source": [
    "bvals_100307_no_b5 = bvals_all_100307[big_b_indices_100307]*1e-3"
   ]
  },
  {
   "cell_type": "code",
   "execution_count": 30,
   "id": "f71ae0e8-5d2d-4112-8286-bd0d2c554e7c",
   "metadata": {},
   "outputs": [],
   "source": [
    "normalized_scan_100307_no_b5 = normalized_scan_100307_full[:, big_b_indices_100307]"
   ]
  },
  {
   "cell_type": "code",
   "execution_count": 35,
   "id": "05b0976b-8609-4558-a261-bd054a7cb320",
   "metadata": {},
   "outputs": [],
   "source": [
    "n_100307_no_b5 = n_all_100307[:,big_b_indices_100307].T"
   ]
  },
  {
   "cell_type": "code",
   "execution_count": 39,
   "id": "209f20ed-e816-40dd-8c35-1edcc403edcb",
   "metadata": {},
   "outputs": [],
   "source": [
    "b_values_100307 = torch.FloatTensor(bvals_100307_no_b5)\n",
    "gradient_directions_100307 = torch.FloatTensor(n_100307_no_b5)"
   ]
  },
  {
   "cell_type": "code",
   "execution_count": 40,
   "id": "ab9f20fc-497e-40ed-85d1-49a40b5f2e2a",
   "metadata": {},
   "outputs": [
    {
     "data": {
      "text/plain": [
       "BallStickNet(\n",
       "  (fc_layers): ModuleList(\n",
       "    (0): Linear(in_features=270, out_features=270, bias=True)\n",
       "    (1): ELU(alpha=1.0)\n",
       "    (2): Linear(in_features=270, out_features=270, bias=True)\n",
       "    (3): ELU(alpha=1.0)\n",
       "    (4): Linear(in_features=270, out_features=270, bias=True)\n",
       "    (5): ELU(alpha=1.0)\n",
       "  )\n",
       "  (encoder): Sequential(\n",
       "    (0): Linear(in_features=270, out_features=270, bias=True)\n",
       "    (1): ELU(alpha=1.0)\n",
       "    (2): Linear(in_features=270, out_features=270, bias=True)\n",
       "    (3): ELU(alpha=1.0)\n",
       "    (4): Linear(in_features=270, out_features=270, bias=True)\n",
       "    (5): ELU(alpha=1.0)\n",
       "    (6): Linear(in_features=270, out_features=5, bias=True)\n",
       "  )\n",
       ")"
      ]
     },
     "execution_count": 40,
     "metadata": {},
     "output_type": "execute_result"
    }
   ],
   "source": [
    "net_golden_std = network.BallStickNet(gradient_directions_100307, b_values_100307)\n",
    "net_golden_std.load_state_dict(torch.load(\"/Users/weiwenhua/UGY4/COMP0029/COMP0029-Project/deep-ball-stick/model_100206_norm_01_Feb_182e.pt\"))\n",
    "net_golden_std.eval()"
   ]
  },
  {
   "cell_type": "code",
   "execution_count": 41,
   "id": "c284964f-f434-4f2c-95cd-8da475b009a0",
   "metadata": {},
   "outputs": [],
   "source": [
    "X_100307_pred_gstd,theta_100307_pred_gstd, phi_100307_pred_gstd, mu_cart_100307_pred_gstd, lambda_par_100307_pred_gstd, lambda_iso_100307_pred_gstd, volume_0_100307_pred_gstd, volume_1_100307_pred_gstd = net_golden_std(torch.from_numpy(normalized_scan_100307_no_b5.astype(np.float32)))"
   ]
  },
  {
   "cell_type": "code",
   "execution_count": null,
   "id": "f1553896-7db4-40a5-adfa-5f7407a2ed25",
   "metadata": {},
   "outputs": [],
   "source": []
  },
  {
   "cell_type": "markdown",
   "id": "4f0cae42-a786-455d-8eb6-0973bd57382f",
   "metadata": {},
   "source": [
    "Mean square error"
   ]
  },
  {
   "cell_type": "markdown",
   "id": "cb6467d6-1717-4339-afdd-3e59e790baa7",
   "metadata": {},
   "source": [
    "When using half measurements"
   ]
  },
  {
   "cell_type": "code",
   "execution_count": 42,
   "id": "4b1e06f1-140c-404a-a8cb-56335017ad56",
   "metadata": {},
   "outputs": [],
   "source": [
    "mse = torch.nn.MSELoss(reduction='mean')"
   ]
  },
  {
   "cell_type": "code",
   "execution_count": 45,
   "id": "b58fee9c-081a-4b23-8151-389f5e7b8afd",
   "metadata": {},
   "outputs": [],
   "source": [
    "lambda_par_mse = mse(lambda_par_100307_pred_gstd,lambda_par_100307_pred)\n",
    "lambda_iso_mse = mse(lambda_iso_100307_pred_gstd,lambda_iso_100307_pred)\n",
    "volume_0_mse = mse(volume_0_100307_pred_gstd,volume_0_100307_pred)\n",
    "volume_1_mse = mse(volume_1_100307_pred_gstd,volume_1_100307_pred)"
   ]
  },
  {
   "cell_type": "code",
   "execution_count": 46,
   "id": "91e9b82a-66f9-4c44-9358-5f90c0667bb1",
   "metadata": {},
   "outputs": [
    {
     "name": "stdout",
     "output_type": "stream",
     "text": [
      "tensor(0.0046, grad_fn=<MseLossBackward0>)\n",
      "tensor(0.0088, grad_fn=<MseLossBackward0>)\n",
      "tensor(0.0003, grad_fn=<MseLossBackward0>)\n",
      "tensor(0.0003, grad_fn=<MseLossBackward0>)\n"
     ]
    }
   ],
   "source": [
    "print(lambda_par_mse)\n",
    "print(lambda_iso_mse)\n",
    "print(volume_0_mse)\n",
    "print(volume_1_mse)"
   ]
  },
  {
   "cell_type": "markdown",
   "id": "1ac81a15-0708-45cd-8e5b-6a80e03dcaa8",
   "metadata": {},
   "source": [
    "When using 8 groups of measurements"
   ]
  },
  {
   "cell_type": "markdown",
   "id": "3ef1794f-ba62-4efc-b768-00f0f5a2cca3",
   "metadata": {},
   "source": [
    "Apply model_100206_8g_01.pt"
   ]
  },
  {
   "cell_type": "code",
   "execution_count": 86,
   "id": "6cbd8764-ecf4-446f-bcd5-c21caadf4e7c",
   "metadata": {},
   "outputs": [
    {
     "name": "stdout",
     "output_type": "stream",
     "text": [
      "tensor(0.0059, grad_fn=<MseLossBackward0>)\n",
      "tensor(0.0348, grad_fn=<MseLossBackward0>)\n",
      "tensor(0.0024, grad_fn=<MseLossBackward0>)\n",
      "tensor(0.0024, grad_fn=<MseLossBackward0>)\n"
     ]
    }
   ],
   "source": [
    "lambda_par_mse = mse(lambda_par_100307_pred_gstd,lambda_par_100307_pred)\n",
    "lambda_iso_mse = mse(lambda_iso_100307_pred_gstd,lambda_iso_100307_pred)\n",
    "volume_0_mse = mse(volume_0_100307_pred_gstd,volume_0_100307_pred)\n",
    "volume_1_mse = mse(volume_1_100307_pred_gstd,volume_1_100307_pred)\n",
    "print(lambda_par_mse)\n",
    "print(lambda_iso_mse)\n",
    "print(volume_0_mse)\n",
    "print(volume_1_mse)"
   ]
  },
  {
   "cell_type": "markdown",
   "id": "be0f9404-583c-48f0-80e0-0f454174c401",
   "metadata": {},
   "source": [
    "Apply model_100206_8g_02.pt"
   ]
  },
  {
   "cell_type": "code",
   "execution_count": 74,
   "id": "4b13dd02-74c8-4804-9701-22cbee02dd51",
   "metadata": {},
   "outputs": [],
   "source": [
    "lambda_par_mse = mse(lambda_par_100307_pred_gstd,lambda_par_100307_pred)\n",
    "lambda_iso_mse = mse(lambda_iso_100307_pred_gstd,lambda_iso_100307_pred)\n",
    "volume_0_mse = mse(volume_0_100307_pred_gstd,volume_0_100307_pred)\n",
    "volume_1_mse = mse(volume_1_100307_pred_gstd,volume_1_100307_pred)"
   ]
  },
  {
   "cell_type": "code",
   "execution_count": 75,
   "id": "937f13a9-9bba-40af-8571-0ba1720890db",
   "metadata": {},
   "outputs": [
    {
     "name": "stdout",
     "output_type": "stream",
     "text": [
      "tensor(0.0043, grad_fn=<MseLossBackward0>)\n",
      "tensor(0.0108, grad_fn=<MseLossBackward0>)\n",
      "tensor(0.0003, grad_fn=<MseLossBackward0>)\n",
      "tensor(0.0003, grad_fn=<MseLossBackward0>)\n"
     ]
    }
   ],
   "source": [
    "print(lambda_par_mse)\n",
    "print(lambda_iso_mse)\n",
    "print(volume_0_mse)\n",
    "print(volume_1_mse)"
   ]
  },
  {
   "cell_type": "markdown",
   "id": "018bec57-e664-45e4-b244-88c8f2ac8a56",
   "metadata": {},
   "source": [
    "When using 7 groups of measurements"
   ]
  },
  {
   "cell_type": "code",
   "execution_count": 60,
   "id": "52bca9c4-a63a-4e20-9e0a-4ee0d5dacd40",
   "metadata": {},
   "outputs": [],
   "source": [
    "lambda_par_mse = mse(lambda_par_100307_pred_gstd,lambda_par_100307_pred)\n",
    "lambda_iso_mse = mse(lambda_iso_100307_pred_gstd,lambda_iso_100307_pred)\n",
    "volume_0_mse = mse(volume_0_100307_pred_gstd,volume_0_100307_pred)\n",
    "volume_1_mse = mse(volume_1_100307_pred_gstd,volume_1_100307_pred)"
   ]
  },
  {
   "cell_type": "code",
   "execution_count": 61,
   "id": "0a931393-f4a5-4c7a-b89f-f0749c105097",
   "metadata": {},
   "outputs": [
    {
     "name": "stdout",
     "output_type": "stream",
     "text": [
      "tensor(0.0094, grad_fn=<MseLossBackward0>)\n",
      "tensor(0.0110, grad_fn=<MseLossBackward0>)\n",
      "tensor(0.0004, grad_fn=<MseLossBackward0>)\n",
      "tensor(0.0004, grad_fn=<MseLossBackward0>)\n"
     ]
    }
   ],
   "source": [
    "print(lambda_par_mse)\n",
    "print(lambda_iso_mse)\n",
    "print(volume_0_mse)\n",
    "print(volume_1_mse)"
   ]
  },
  {
   "cell_type": "code",
   "execution_count": null,
   "id": "b3983b33-85f5-4356-b696-8fe1e091e4e9",
   "metadata": {},
   "outputs": [],
   "source": []
  }
 ],
 "metadata": {
  "kernelspec": {
   "display_name": "Python 3 (ipykernel)",
   "language": "python",
   "name": "python3"
  },
  "language_info": {
   "codemirror_mode": {
    "name": "ipython",
    "version": 3
   },
   "file_extension": ".py",
   "mimetype": "text/x-python",
   "name": "python",
   "nbconvert_exporter": "python",
   "pygments_lexer": "ipython3",
   "version": "3.10.8"
  }
 },
 "nbformat": 4,
 "nbformat_minor": 5
}
