{
 "cells": [
  {
   "cell_type": "code",
   "execution_count": 1,
   "id": "5ce2b97b-4915-4ca4-826b-1d1665ebb5c5",
   "metadata": {},
   "outputs": [],
   "source": [
    "import numpy as np\n",
    "\n",
    "from dmipy.core.acquisition_scheme import acquisition_scheme_from_bvalues\n",
    "from dmipy.signal_models import cylinder_models, gaussian_models\n",
    "from dmipy.core.modeling_framework import MultiCompartmentModel\n",
    "\n",
    "import matplotlib.pyplot as plt\n",
    "\n",
    "import torch\n",
    "import torch.nn as nn\n",
    "import torch.optim as optim\n",
    "import torch.utils.data as utils\n",
    "from tqdm import tqdm\n",
    "\n",
    "import process_data\n",
    "import config\n",
    "import network"
   ]
  },
  {
   "cell_type": "code",
   "execution_count": 2,
   "id": "ec575494-56f3-4b4b-b7ef-bafe74eaf4e4",
   "metadata": {},
   "outputs": [],
   "source": [
    "scan_100206 = process_data.get_nifti_data(config.data_folder2 + '/100206/data.nii.gz')\n",
    "mask_100206 = process_data.get_nifti_data(config.data_folder2 + '/100206/nodif_brain_mask.nii.gz')"
   ]
  },
  {
   "cell_type": "code",
   "execution_count": 3,
   "id": "51e58c1c-f3c4-44e7-8279-bacdaa390861",
   "metadata": {},
   "outputs": [],
   "source": [
    "mask_100206_long_pro = process_data.get_mask_pro(scan_100206, mask_100206)"
   ]
  },
  {
   "cell_type": "code",
   "execution_count": 4,
   "id": "d0d8c900-35d6-4036-a26d-7652e4e88989",
   "metadata": {},
   "outputs": [],
   "source": [
    "normalized_scan_100206_full = np.load(config.norm_data_path + '/normalized_scan_100206_full.npy')"
   ]
  },
  {
   "cell_type": "code",
   "execution_count": 5,
   "id": "76605315-6429-4d86-8011-72f1b6b00b7d",
   "metadata": {},
   "outputs": [],
   "source": [
    "bvals_all_100206 = np.loadtxt(config.data_folder2 + '/100206/bvals')"
   ]
  },
  {
   "cell_type": "code",
   "execution_count": 127,
   "id": "c69d1fd2-6671-4dae-927a-cc85db0f31c9",
   "metadata": {},
   "outputs": [
    {
     "name": "stdout",
     "output_type": "stream",
     "text": [
      "\n"
     ]
    }
   ],
   "source": [
    "rand_sub_bval_indice_100206 = np.array(process_data.get_rand_selected_bval_indice(bvals_all_100206, 13))"
   ]
  },
  {
   "cell_type": "code",
   "execution_count": 128,
   "id": "17714fc4-4c0e-4cbb-81c2-a762dda3fb89",
   "metadata": {
    "tags": []
   },
   "outputs": [
    {
     "data": {
      "text/plain": [
       "array([  0,   1,   2,   3,   4,   5,   6,   7,   8,   9,  10,  11,  12,\n",
       "        13,  14,  15,  16,  17,  18,  19,  20,  21,  22,  23,  24,  25,\n",
       "        26,  27,  28,  29,  30,  31,  64,  65,  66,  67,  68,  69,  70,\n",
       "        71,  72,  73,  74,  75,  76,  77,  78,  79,  80,  81,  82,  83,\n",
       "        84,  85,  86,  87,  88,  89,  90,  91,  92,  93,  94,  95,  96,\n",
       "        97,  98,  99, 100, 101, 102, 103, 104, 105, 106, 107, 108, 109,\n",
       "       110, 111, 112, 113, 114, 115, 116, 117, 118, 119, 120, 121, 122,\n",
       "       123, 124, 125, 126, 127, 128, 129, 130, 131, 132, 133, 134, 135,\n",
       "       136, 137, 138, 139, 140, 141, 142, 143, 160, 161, 162, 163, 164,\n",
       "       165, 166, 167, 168, 169, 170, 171, 172, 173, 174, 175, 191, 192,\n",
       "       193, 194, 195, 196, 197, 198, 199, 200, 201, 202, 203, 204, 205,\n",
       "       206, 207, 208, 209, 210, 211, 212, 213, 214, 215, 216, 217, 218,\n",
       "       219, 220, 221, 222, 223, 224, 225, 226, 227, 228, 229, 230, 231,\n",
       "       232, 233, 234, 235, 236, 237, 238, 239, 256, 257, 258, 259, 260,\n",
       "       261, 262, 263, 264, 265, 266, 267, 268, 269, 270, 271, 272, 273,\n",
       "       274, 275, 276, 277, 278, 279, 280, 281, 282, 283, 284, 285, 286,\n",
       "       287])"
      ]
     },
     "execution_count": 128,
     "metadata": {},
     "output_type": "execute_result"
    }
   ],
   "source": [
    "rand_sub_bval_indice_100206"
   ]
  },
  {
   "cell_type": "code",
   "execution_count": 129,
   "id": "144a16c9-621e-4266-a399-0f47306f9390",
   "metadata": {},
   "outputs": [],
   "source": [
    "bvals_100206_sub = bvals_all_100206[rand_sub_bval_indice_100206]*1e-3"
   ]
  },
  {
   "cell_type": "code",
   "execution_count": 130,
   "id": "d0d179b5-bba4-46af-8149-fffc961635f0",
   "metadata": {},
   "outputs": [],
   "source": [
    "normalized_scan_100206_sub = normalized_scan_100206_full[:, rand_sub_bval_indice_100206]"
   ]
  },
  {
   "cell_type": "code",
   "execution_count": 131,
   "id": "50d01ed1-ba53-4704-afdd-8da2dbeccfa6",
   "metadata": {},
   "outputs": [],
   "source": [
    "big_b_indice_100206_sub = np.where(bvals_100206_sub != 0.005)[0]"
   ]
  },
  {
   "cell_type": "code",
   "execution_count": 132,
   "id": "a72f85b2-a103-4313-9de3-ea758ecd555b",
   "metadata": {},
   "outputs": [],
   "source": [
    "bvals_100206_sub_no_b5 = bvals_100206_sub[big_b_indice_100206_sub]"
   ]
  },
  {
   "cell_type": "code",
   "execution_count": 133,
   "id": "ece704d4-2c2e-4fc6-83cb-c80481b0b90b",
   "metadata": {},
   "outputs": [],
   "source": [
    "normalized_scan_100206_sub_no_b5 = normalized_scan_100206_sub[:, big_b_indice_100206_sub]"
   ]
  },
  {
   "cell_type": "code",
   "execution_count": 134,
   "id": "c596d614-8884-44e2-b661-246ac1efeac4",
   "metadata": {},
   "outputs": [
    {
     "data": {
      "text/plain": [
       "[<matplotlib.lines.Line2D at 0x1c3715ff0>]"
      ]
     },
     "execution_count": 134,
     "metadata": {},
     "output_type": "execute_result"
    },
    {
     "data": {
      "image/png": "[encoded data removed]",
      "text/plain": [
       "<Figure size 640x480 with 1 Axes>"
      ]
     },
     "metadata": {},
     "output_type": "display_data"
    }
   ],
   "source": [
    "plt.plot(bvals_100206_sub_no_b5, normalized_scan_100206_sub_no_b5[42,:], \"o\", markersize = 1)"
   ]
  },
  {
   "cell_type": "markdown",
   "id": "26ad57bb-d18c-489b-87b1-97a41298c52c",
   "metadata": {},
   "source": [
    "ANN"
   ]
  },
  {
   "cell_type": "code",
   "execution_count": 49,
   "id": "16cfcc88-8849-4c75-8dc1-e9bf94025459",
   "metadata": {},
   "outputs": [],
   "source": [
    "def squash(param, p_min, p_max):\n",
    "    squashed_param_tensor =torch.clamp(param, min=p_min, max=p_max)\n",
    "    unsqueezed_param = squashed_param_tensor.unsqueeze(1)\n",
    "    return unsqueezed_param"
   ]
  },
  {
   "cell_type": "code",
   "execution_count": 50,
   "id": "5c7c69d6-5f6b-4282-8b52-4a5f4118dc67",
   "metadata": {},
   "outputs": [],
   "source": [
    "def unitsphere2cart(theta, phi, X):\n",
    "    mu_cart = torch.zeros(3,X.size()[0])\n",
    "    sintheta = torch.sin(theta)\n",
    "    mu_cart[0,:] = torch.squeeze(sintheta * torch.cos(phi))\n",
    "    mu_cart[1,:] = torch.squeeze(sintheta * torch.sin(phi))\n",
    "    mu_cart[2,:] = torch.squeeze(torch.cos(theta))\n",
    "    return mu_cart"
   ]
  },
  {
   "cell_type": "code",
   "execution_count": 51,
   "id": "ee823c00-1b0b-4c6b-9ef1-f6d8c2537577",
   "metadata": {},
   "outputs": [],
   "source": [
    "class BallStickNet(nn.Module):\n",
    "    \n",
    "    def __init__(self, gradient_directions, b_values):\n",
    "        super(BallStickNet, self).__init__()\n",
    "        self.gradient_directions = gradient_directions\n",
    "        self.b_values = b_values\n",
    "        self.fc_layers = nn.ModuleList()\n",
    "        for i in range(3): \n",
    "            self.fc_layers.extend([nn.Linear(len(b_values), len(b_values)), nn.ELU()])\n",
    "        self.encoder = nn.Sequential(*self.fc_layers, nn.Linear(len(b_values), 5))\n",
    "        # if args.dropout != 0:\n",
    "        #     self.dropout = nn.Dropout(args.dropout)\n",
    "            \n",
    "    def forward(self, X):\n",
    "        # if args.dropout != 0:\n",
    "        #     X = self.dropout(X)\n",
    "        params = torch.abs(self.encoder(X))\n",
    "        theta_uns = params[:, 0]\n",
    "        theta = theta_uns.unsqueeze(1)\n",
    "        phi_uns = params[:, 1]\n",
    "        phi = phi_uns.unsqueeze(1)\n",
    "        mu_cart = unitsphere2cart(theta, phi, X)\n",
    "        mm_prod =  torch.einsum(\"ij,jk->ki\",self.gradient_directions, mu_cart)\n",
    "        lambda_par_uns = params[:, 2]\n",
    "        lambda_par = squash(lambda_par_uns, 0.1, 3.0)\n",
    "        lambda_iso_uns = params[:, 3]\n",
    "        lambda_iso = squash(lambda_iso_uns, 0.1, 3.0)\n",
    "        volume_0_uns = params[:, 4]\n",
    "        volume_0 = squash(volume_0_uns, 0.01, 0.99)\n",
    "        volume_1 = 1-volume_0\n",
    "        X = volume_0 * torch.exp(-self.b_values * lambda_par * mm_prod ** 2) + volume_1 * torch.exp(-self.b_values * lambda_iso)\n",
    "        return X, theta, phi, mu_cart, lambda_par, lambda_iso, volume_0, volume_1"
   ]
  },
  {
   "cell_type": "code",
   "execution_count": 135,
   "id": "941b3c47-9b6a-43dc-8315-162dea6ca3bf",
   "metadata": {},
   "outputs": [],
   "source": [
    "n_100206_all = np.loadtxt(config.data_folder2 + '/100206/bvecs')"
   ]
  },
  {
   "cell_type": "code",
   "execution_count": 136,
   "id": "75bba1e7-205c-481b-846e-1acf458adab2",
   "metadata": {},
   "outputs": [
    {
     "name": "stdout",
     "output_type": "stream",
     "text": [
      "(196, 3)\n"
     ]
    }
   ],
   "source": [
    "n_100206_sub = n_100206_all[:, rand_sub_bval_indice_100206]\n",
    "n_100206_sub_no_b5 = n_100206_sub[:,big_b_indice_100206_sub].T\n",
    "print(n_100206_sub_no_b5.shape)\n",
    "\n",
    "b_values_100206_sub_no_b5 = torch.FloatTensor(bvals_100206_sub_no_b5)\n",
    "gradient_directions_100206_sub_no_b5 = torch.FloatTensor(n_100206_sub_no_b5)"
   ]
  },
  {
   "cell_type": "code",
   "execution_count": 137,
   "id": "f73b8716-ce67-4a97-9223-574afa1e68c6",
   "metadata": {},
   "outputs": [],
   "source": [
    "net = network.BallStickNet(gradient_directions_100206_sub_no_b5, b_values_100206_sub_no_b5)\n",
    "\n",
    "criterion = nn.MSELoss()\n",
    "optimizer = optim.Adam(net.parameters(), lr = 0.00001)"
   ]
  },
  {
   "cell_type": "code",
   "execution_count": 138,
   "id": "a6273e86-2704-4c77-ade5-7e41254f37b3",
   "metadata": {},
   "outputs": [],
   "source": [
    "batch_size = 128\n",
    "num_batches = len(normalized_scan_100206_sub_no_b5) // batch_size\n",
    "trainloader = utils.DataLoader(torch.from_numpy(normalized_scan_100206_sub_no_b5.astype(np.float32)),\n",
    "                            batch_size = batch_size, \n",
    "                            shuffle = True,\n",
    "                            num_workers = 2,\n",
    "                            drop_last = True)"
   ]
  },
  {
   "cell_type": "code",
   "execution_count": 139,
   "id": "1183802a-cea7-42f6-acc5-5d3ba74cb096",
   "metadata": {
    "tags": []
   },
   "outputs": [
    {
     "name": "stdout",
     "output_type": "stream",
     "text": [
      "-----------------------------------------------------------------\n",
      "Epoch: 0; Bad epochs: 0\n"
     ]
    },
    {
     "name": "stderr",
     "output_type": "stream",
     "text": [
      "100%|█████████████████████████████████████████████████████████████████████████████████████████████████████████████████████████████████████████████████████████████| 7308/7308 [00:34<00:00, 214.86it/s]\n"
     ]
    },
    {
     "name": "stdout",
     "output_type": "stream",
     "text": [
      "Loss: 2602.8732576668262\n",
      "Average Loss: 0.3561676597792592\n",
      "############### Saving good model ###############################\n",
      "-----------------------------------------------------------------\n",
      "Epoch: 1; Bad epochs: 0\n"
     ]
    },
    {
     "name": "stderr",
     "output_type": "stream",
     "text": [
      "100%|█████████████████████████████████████████████████████████████████████████████████████████████████████████████████████████████████████████████████████████████| 7308/7308 [00:33<00:00, 218.19it/s]\n"
     ]
    },
    {
     "name": "stdout",
     "output_type": "stream",
     "text": [
      "Loss: 2599.787985175848\n",
      "Average Loss: 0.35574548237217407\n",
      "############### Saving good model ###############################\n",
      "-----------------------------------------------------------------\n",
      "Epoch: 2; Bad epochs: 0\n"
     ]
    },
    {
     "name": "stderr",
     "output_type": "stream",
     "text": [
      "100%|█████████████████████████████████████████████████████████████████████████████████████████████████████████████████████████████████████████████████████████████| 7308/7308 [00:34<00:00, 209.55it/s]\n"
     ]
    },
    {
     "name": "stdout",
     "output_type": "stream",
     "text": [
      "Loss: 2599.458492934704\n",
      "Average Loss: 0.3557003958586075\n",
      "############### Saving good model ###############################\n",
      "-----------------------------------------------------------------\n",
      "Epoch: 3; Bad epochs: 0\n"
     ]
    },
    {
     "name": "stderr",
     "output_type": "stream",
     "text": [
      "100%|█████████████████████████████████████████████████████████████████████████████████████████████████████████████████████████████████████████████████████████████| 7308/7308 [00:34<00:00, 208.88it/s]\n"
     ]
    },
    {
     "name": "stdout",
     "output_type": "stream",
     "text": [
      "Loss: 2598.5771854519844\n",
      "Average Loss: 0.3555798009649678\n",
      "############### Saving good model ###############################\n",
      "-----------------------------------------------------------------\n",
      "Epoch: 4; Bad epochs: 0\n"
     ]
    },
    {
     "name": "stderr",
     "output_type": "stream",
     "text": [
      "100%|█████████████████████████████████████████████████████████████████████████████████████████████████████████████████████████████████████████████████████████████| 7308/7308 [00:33<00:00, 217.61it/s]\n"
     ]
    },
    {
     "name": "stdout",
     "output_type": "stream",
     "text": [
      "Loss: 2597.871873766184\n",
      "Average Loss: 0.35548328869269075\n",
      "############### Saving good model ###############################\n",
      "-----------------------------------------------------------------\n",
      "Epoch: 5; Bad epochs: 0\n"
     ]
    },
    {
     "name": "stderr",
     "output_type": "stream",
     "text": [
      "100%|█████████████████████████████████████████████████████████████████████████████████████████████████████████████████████████████████████████████████████████████| 7308/7308 [00:33<00:00, 215.94it/s]\n"
     ]
    },
    {
     "name": "stdout",
     "output_type": "stream",
     "text": [
      "Loss: 2597.894895464182\n",
      "Average Loss: 0.3554864388976713\n",
      "-----------------------------------------------------------------\n",
      "Epoch: 6; Bad epochs: 1\n"
     ]
    },
    {
     "name": "stderr",
     "output_type": "stream",
     "text": [
      "100%|█████████████████████████████████████████████████████████████████████████████████████████████████████████████████████████████████████████████████████████████| 7308/7308 [00:35<00:00, 207.05it/s]\n"
     ]
    },
    {
     "name": "stdout",
     "output_type": "stream",
     "text": [
      "Loss: 2597.6677821576595\n",
      "Average Loss: 0.3554553615431937\n",
      "############### Saving good model ###############################\n",
      "-----------------------------------------------------------------\n",
      "Epoch: 7; Bad epochs: 0\n"
     ]
    },
    {
     "name": "stderr",
     "output_type": "stream",
     "text": [
      "100%|█████████████████████████████████████████████████████████████████████████████████████████████████████████████████████████████████████████████████████████████| 7308/7308 [00:35<00:00, 206.38it/s]\n"
     ]
    },
    {
     "name": "stdout",
     "output_type": "stream",
     "text": [
      "Loss: 2597.677303612232\n",
      "Average Loss: 0.35545666442422447\n",
      "-----------------------------------------------------------------\n",
      "Epoch: 8; Bad epochs: 1\n"
     ]
    },
    {
     "name": "stderr",
     "output_type": "stream",
     "text": [
      "100%|█████████████████████████████████████████████████████████████████████████████████████████████████████████████████████████████████████████████████████████████| 7308/7308 [00:35<00:00, 203.24it/s]\n"
     ]
    },
    {
     "name": "stdout",
     "output_type": "stream",
     "text": [
      "Loss: 2596.9804953336716\n",
      "Average Loss: 0.3553613157271034\n",
      "############### Saving good model ###############################\n",
      "-----------------------------------------------------------------\n",
      "Epoch: 9; Bad epochs: 0\n"
     ]
    },
    {
     "name": "stderr",
     "output_type": "stream",
     "text": [
      "100%|█████████████████████████████████████████████████████████████████████████████████████████████████████████████████████████████████████████████████████████████| 7308/7308 [00:36<00:00, 202.53it/s]\n"
     ]
    },
    {
     "name": "stdout",
     "output_type": "stream",
     "text": [
      "Loss: 2597.147994220257\n",
      "Average Loss: 0.355384235662323\n",
      "-----------------------------------------------------------------\n",
      "Epoch: 10; Bad epochs: 1\n"
     ]
    },
    {
     "name": "stderr",
     "output_type": "stream",
     "text": [
      "  2%|██▋                                                                                                                                                           | 127/7308 [00:02<00:51, 139.26it/s]"
     ]
    },
    {
     "name": "stdout",
     "output_type": "stream",
     "text": [
      "X_batch: \n",
      "torch.Size([128, 196])\n",
      "tensor([[0.4267, 0.2897, 0.1806,  ..., 0.4025, 0.2541, 0.1543],\n",
      "        [0.4560, 0.2145, 0.1645,  ..., 0.5117, 0.1931, 0.1874],\n",
      "        [0.6177, 0.3424, 0.2584,  ..., 0.6112, 0.2076, 0.1737],\n",
      "        ...,\n",
      "        [0.4994, 0.5331, 0.2383,  ..., 0.4193, 0.4169, 0.3449],\n",
      "        [0.4781, 0.2409, 0.2119,  ..., 0.3898, 0.3011, 0.2208],\n",
      "        [1.0402, 0.9887, 0.6650,  ..., 0.4570, 1.0700, 1.0890]])\n",
      "X_pred: \n",
      "torch.Size([128, 196])\n",
      "tensor([[0.9058, 0.8206, 0.7409,  ..., 0.9047, 0.8209, 0.7422],\n",
      "        [0.9058, 0.8206, 0.7409,  ..., 0.9047, 0.8209, 0.7421],\n",
      "        [0.9058, 0.8206, 0.7409,  ..., 0.9047, 0.8209, 0.7422],\n",
      "        ...,\n",
      "        [0.9058, 0.8206, 0.7409,  ..., 0.9047, 0.8209, 0.7422],\n",
      "        [0.9058, 0.8206, 0.7409,  ..., 0.9047, 0.8209, 0.7422],\n",
      "        [0.9232, 0.8504, 0.7500,  ..., 0.9131, 0.8555, 0.7707]],\n",
      "       grad_fn=<AddBackward0>)\n"
     ]
    },
    {
     "name": "stderr",
     "output_type": "stream",
     "text": [
      "100%|█████████████████████████████████████████████████████████████████████████████████████████████████████████████████████████████████████████████████████████████| 7308/7308 [00:35<00:00, 205.29it/s]\n"
     ]
    },
    {
     "name": "stdout",
     "output_type": "stream",
     "text": [
      "Loss: 2597.2465186417103\n",
      "Average Loss: 0.3553977173839231\n",
      "-----------------------------------------------------------------\n",
      "Epoch: 11; Bad epochs: 2\n"
     ]
    },
    {
     "name": "stderr",
     "output_type": "stream",
     "text": [
      "100%|█████████████████████████████████████████████████████████████████████████████████████████████████████████████████████████████████████████████████████████████| 7308/7308 [00:35<00:00, 204.24it/s]\n"
     ]
    },
    {
     "name": "stdout",
     "output_type": "stream",
     "text": [
      "Loss: 2596.8400741517544\n",
      "Average Loss: 0.3553421010059872\n",
      "############### Saving good model ###############################\n",
      "-----------------------------------------------------------------\n",
      "Epoch: 12; Bad epochs: 0\n"
     ]
    },
    {
     "name": "stderr",
     "output_type": "stream",
     "text": [
      "100%|█████████████████████████████████████████████████████████████████████████████████████████████████████████████████████████████████████████████████████████████| 7308/7308 [00:36<00:00, 201.02it/s]\n"
     ]
    },
    {
     "name": "stdout",
     "output_type": "stream",
     "text": [
      "Loss: 2597.024397164583\n",
      "Average Loss: 0.3553673230931285\n",
      "-----------------------------------------------------------------\n",
      "Epoch: 13; Bad epochs: 1\n"
     ]
    },
    {
     "name": "stderr",
     "output_type": "stream",
     "text": [
      "100%|█████████████████████████████████████████████████████████████████████████████████████████████████████████████████████████████████████████████████████████████| 7308/7308 [00:36<00:00, 200.91it/s]\n"
     ]
    },
    {
     "name": "stdout",
     "output_type": "stream",
     "text": [
      "Loss: 2596.59736007452\n",
      "Average Loss: 0.35530888889908596\n",
      "############### Saving good model ###############################\n",
      "-----------------------------------------------------------------\n",
      "Epoch: 14; Bad epochs: 0\n"
     ]
    },
    {
     "name": "stderr",
     "output_type": "stream",
     "text": [
      "100%|█████████████████████████████████████████████████████████████████████████████████████████████████████████████████████████████████████████████████████████████| 7308/7308 [00:35<00:00, 203.44it/s]\n"
     ]
    },
    {
     "name": "stdout",
     "output_type": "stream",
     "text": [
      "Loss: 2596.847755789757\n",
      "Average Loss: 0.3553431521332453\n",
      "-----------------------------------------------------------------\n",
      "Epoch: 15; Bad epochs: 1\n"
     ]
    },
    {
     "name": "stderr",
     "output_type": "stream",
     "text": [
      "100%|█████████████████████████████████████████████████████████████████████████████████████████████████████████████████████████████████████████████████████████████| 7308/7308 [00:36<00:00, 201.87it/s]\n"
     ]
    },
    {
     "name": "stdout",
     "output_type": "stream",
     "text": [
      "Loss: 2596.59014326334\n",
      "Average Loss: 0.35530790137703067\n",
      "############### Saving good model ###############################\n",
      "-----------------------------------------------------------------\n",
      "Epoch: 16; Bad epochs: 0\n"
     ]
    },
    {
     "name": "stderr",
     "output_type": "stream",
     "text": [
      "100%|█████████████████████████████████████████████████████████████████████████████████████████████████████████████████████████████████████████████████████████████| 7308/7308 [00:35<00:00, 203.03it/s]\n"
     ]
    },
    {
     "name": "stdout",
     "output_type": "stream",
     "text": [
      "Loss: 2596.6425641179085\n",
      "Average Loss: 0.35531507445510513\n",
      "-----------------------------------------------------------------\n",
      "Epoch: 17; Bad epochs: 1\n"
     ]
    },
    {
     "name": "stderr",
     "output_type": "stream",
     "text": [
      "100%|█████████████████████████████████████████████████████████████████████████████████████████████████████████████████████████████████████████████████████████████| 7308/7308 [00:38<00:00, 190.24it/s]\n"
     ]
    },
    {
     "name": "stdout",
     "output_type": "stream",
     "text": [
      "Loss: 2596.198283344507\n",
      "Average Loss: 0.3552542806984821\n",
      "############### Saving good model ###############################\n",
      "-----------------------------------------------------------------\n",
      "Epoch: 18; Bad epochs: 0\n"
     ]
    },
    {
     "name": "stderr",
     "output_type": "stream",
     "text": [
      "100%|█████████████████████████████████████████████████████████████████████████████████████████████████████████████████████████████████████████████████████████████| 7308/7308 [00:36<00:00, 198.27it/s]\n"
     ]
    },
    {
     "name": "stdout",
     "output_type": "stream",
     "text": [
      "Loss: 2596.193837583065\n",
      "Average Loss: 0.35525367235674127\n",
      "############### Saving good model ###############################\n",
      "-----------------------------------------------------------------\n",
      "Epoch: 19; Bad epochs: 0\n"
     ]
    },
    {
     "name": "stderr",
     "output_type": "stream",
     "text": [
      "100%|█████████████████████████████████████████████████████████████████████████████████████████████████████████████████████████████████████████████████████████████| 7308/7308 [00:36<00:00, 200.10it/s]\n"
     ]
    },
    {
     "name": "stdout",
     "output_type": "stream",
     "text": [
      "Loss: 2596.670119404793\n",
      "Average Loss: 0.3553188450198129\n",
      "-----------------------------------------------------------------\n",
      "Epoch: 20; Bad epochs: 1\n"
     ]
    },
    {
     "name": "stderr",
     "output_type": "stream",
     "text": [
      "100%|█████████████████████████████████████████████████████████████████████████████████████████████████████████████████████████████████████████████████████████████| 7308/7308 [00:36<00:00, 198.30it/s]\n"
     ]
    },
    {
     "name": "stdout",
     "output_type": "stream",
     "text": [
      "Loss: 2596.5565480291843\n",
      "Average Loss: 0.35530330432802193\n",
      "-----------------------------------------------------------------\n",
      "Epoch: 21; Bad epochs: 2\n"
     ]
    },
    {
     "name": "stderr",
     "output_type": "stream",
     "text": [
      "100%|█████████████████████████████████████████████████████████████████████████████████████████████████████████████████████████████████████████████████████████████| 7308/7308 [00:37<00:00, 196.47it/s]\n"
     ]
    },
    {
     "name": "stdout",
     "output_type": "stream",
     "text": [
      "Loss: 2596.3375314176083\n",
      "Average Loss: 0.3552733348956771\n",
      "-----------------------------------------------------------------\n",
      "Epoch: 22; Bad epochs: 3\n"
     ]
    },
    {
     "name": "stderr",
     "output_type": "stream",
     "text": [
      "100%|█████████████████████████████████████████████████████████████████████████████████████████████████████████████████████████████████████████████████████████████| 7308/7308 [00:36<00:00, 198.97it/s]\n"
     ]
    },
    {
     "name": "stdout",
     "output_type": "stream",
     "text": [
      "Loss: 2596.101089954376\n",
      "Average Loss: 0.3552409811103416\n",
      "############### Saving good model ###############################\n",
      "-----------------------------------------------------------------\n",
      "Epoch: 23; Bad epochs: 0\n"
     ]
    },
    {
     "name": "stderr",
     "output_type": "stream",
     "text": [
      "100%|█████████████████████████████████████████████████████████████████████████████████████████████████████████████████████████████████████████████████████████████| 7308/7308 [00:36<00:00, 198.63it/s]\n"
     ]
    },
    {
     "name": "stdout",
     "output_type": "stream",
     "text": [
      "Loss: 2596.0805870890617\n",
      "Average Loss: 0.3552381755732159\n",
      "############### Saving good model ###############################\n",
      "-----------------------------------------------------------------\n",
      "Epoch: 24; Bad epochs: 0\n"
     ]
    },
    {
     "name": "stderr",
     "output_type": "stream",
     "text": [
      "100%|█████████████████████████████████████████████████████████████████████████████████████████████████████████████████████████████████████████████████████████████| 7308/7308 [00:36<00:00, 198.77it/s]\n"
     ]
    },
    {
     "name": "stdout",
     "output_type": "stream",
     "text": [
      "Loss: 2595.638694703579\n",
      "Average Loss: 0.35517770863486303\n",
      "############### Saving good model ###############################\n",
      "-----------------------------------------------------------------\n",
      "Epoch: 25; Bad epochs: 0\n"
     ]
    },
    {
     "name": "stderr",
     "output_type": "stream",
     "text": [
      "100%|█████████████████████████████████████████████████████████████████████████████████████████████████████████████████████████████████████████████████████████████| 7308/7308 [00:36<00:00, 199.42it/s]\n"
     ]
    },
    {
     "name": "stdout",
     "output_type": "stream",
     "text": [
      "Loss: 2595.720771610737\n",
      "Average Loss: 0.35518893973874344\n",
      "-----------------------------------------------------------------\n",
      "Epoch: 26; Bad epochs: 1\n"
     ]
    },
    {
     "name": "stderr",
     "output_type": "stream",
     "text": [
      "100%|█████████████████████████████████████████████████████████████████████████████████████████████████████████████████████████████████████████████████████████████| 7308/7308 [00:37<00:00, 195.00it/s]\n"
     ]
    },
    {
     "name": "stdout",
     "output_type": "stream",
     "text": [
      "Loss: 2595.8620642125607\n",
      "Average Loss: 0.3552082737017735\n",
      "-----------------------------------------------------------------\n",
      "Epoch: 27; Bad epochs: 2\n"
     ]
    },
    {
     "name": "stderr",
     "output_type": "stream",
     "text": [
      "100%|█████████████████████████████████████████████████████████████████████████████████████████████████████████████████████████████████████████████████████████████| 7308/7308 [00:36<00:00, 199.72it/s]\n"
     ]
    },
    {
     "name": "stdout",
     "output_type": "stream",
     "text": [
      "Loss: 2596.059911608696\n",
      "Average Loss: 0.35523534641607774\n",
      "-----------------------------------------------------------------\n",
      "Epoch: 28; Bad epochs: 3\n"
     ]
    },
    {
     "name": "stderr",
     "output_type": "stream",
     "text": [
      "100%|█████████████████████████████████████████████████████████████████████████████████████████████████████████████████████████████████████████████████████████████| 7308/7308 [00:36<00:00, 198.96it/s]\n"
     ]
    },
    {
     "name": "stdout",
     "output_type": "stream",
     "text": [
      "Loss: 2595.9606892466545\n",
      "Average Loss: 0.3552217691908394\n",
      "-----------------------------------------------------------------\n",
      "Epoch: 29; Bad epochs: 4\n"
     ]
    },
    {
     "name": "stderr",
     "output_type": "stream",
     "text": [
      "100%|█████████████████████████████████████████████████████████████████████████████████████████████████████████████████████████████████████████████████████████████| 7308/7308 [00:37<00:00, 192.76it/s]\n"
     ]
    },
    {
     "name": "stdout",
     "output_type": "stream",
     "text": [
      "Loss: 2596.0441186130047\n",
      "Average Loss: 0.35523318536029075\n",
      "-----------------------------------------------------------------\n",
      "Epoch: 30; Bad epochs: 5\n"
     ]
    },
    {
     "name": "stderr",
     "output_type": "stream",
     "text": [
      "100%|█████████████████████████████████████████████████████████████████████████████████████████████████████████████████████████████████████████████████████████████| 7308/7308 [00:36<00:00, 201.81it/s]\n"
     ]
    },
    {
     "name": "stdout",
     "output_type": "stream",
     "text": [
      "Loss: 2595.728269726038\n",
      "Average Loss: 0.3551899657534261\n",
      "-----------------------------------------------------------------\n",
      "Epoch: 31; Bad epochs: 6\n"
     ]
    },
    {
     "name": "stderr",
     "output_type": "stream",
     "text": [
      "100%|█████████████████████████████████████████████████████████████████████████████████████████████████████████████████████████████████████████████████████████████| 7308/7308 [00:36<00:00, 199.18it/s]\n"
     ]
    },
    {
     "name": "stdout",
     "output_type": "stream",
     "text": [
      "Loss: 2595.9857351481915\n",
      "Average Loss: 0.3552251963804312\n",
      "-----------------------------------------------------------------\n",
      "Epoch: 32; Bad epochs: 7\n"
     ]
    },
    {
     "name": "stderr",
     "output_type": "stream",
     "text": [
      "100%|█████████████████████████████████████████████████████████████████████████████████████████████████████████████████████████████████████████████████████████████| 7308/7308 [00:36<00:00, 198.12it/s]\n"
     ]
    },
    {
     "name": "stdout",
     "output_type": "stream",
     "text": [
      "Loss: 2595.629993468523\n",
      "Average Loss: 0.355176517989672\n",
      "############### Saving good model ###############################\n",
      "-----------------------------------------------------------------\n",
      "Epoch: 33; Bad epochs: 0\n"
     ]
    },
    {
     "name": "stderr",
     "output_type": "stream",
     "text": [
      "100%|█████████████████████████████████████████████████████████████████████████████████████████████████████████████████████████████████████████████████████████████| 7308/7308 [00:36<00:00, 199.55it/s]\n"
     ]
    },
    {
     "name": "stdout",
     "output_type": "stream",
     "text": [
      "Loss: 2595.701507985592\n",
      "Average Loss: 0.35518630377471155\n",
      "-----------------------------------------------------------------\n",
      "Epoch: 34; Bad epochs: 1\n"
     ]
    },
    {
     "name": "stderr",
     "output_type": "stream",
     "text": [
      "100%|█████████████████████████████████████████████████████████████████████████████████████████████████████████████████████████████████████████████████████████████| 7308/7308 [00:36<00:00, 198.95it/s]\n"
     ]
    },
    {
     "name": "stdout",
     "output_type": "stream",
     "text": [
      "Loss: 2595.8070854246616\n",
      "Average Loss: 0.35520075060545453\n",
      "-----------------------------------------------------------------\n",
      "Epoch: 35; Bad epochs: 2\n"
     ]
    },
    {
     "name": "stderr",
     "output_type": "stream",
     "text": [
      "100%|█████████████████████████████████████████████████████████████████████████████████████████████████████████████████████████████████████████████████████████████| 7308/7308 [00:36<00:00, 199.78it/s]\n"
     ]
    },
    {
     "name": "stdout",
     "output_type": "stream",
     "text": [
      "Loss: 2595.770632237196\n",
      "Average Loss: 0.3551957624845643\n",
      "-----------------------------------------------------------------\n",
      "Epoch: 36; Bad epochs: 3\n"
     ]
    },
    {
     "name": "stderr",
     "output_type": "stream",
     "text": [
      "100%|█████████████████████████████████████████████████████████████████████████████████████████████████████████████████████████████████████████████████████████████| 7308/7308 [00:37<00:00, 195.12it/s]\n"
     ]
    },
    {
     "name": "stdout",
     "output_type": "stream",
     "text": [
      "Loss: 2595.795206308365\n",
      "Average Loss: 0.3551991251106137\n",
      "-----------------------------------------------------------------\n",
      "Epoch: 37; Bad epochs: 4\n"
     ]
    },
    {
     "name": "stderr",
     "output_type": "stream",
     "text": [
      "100%|█████████████████████████████████████████████████████████████████████████████████████████████████████████████████████████████████████████████████████████████| 7308/7308 [00:36<00:00, 198.62it/s]\n"
     ]
    },
    {
     "name": "stdout",
     "output_type": "stream",
     "text": [
      "Loss: 2595.7564182579517\n",
      "Average Loss: 0.3551938174956146\n",
      "-----------------------------------------------------------------\n",
      "Epoch: 38; Bad epochs: 5\n"
     ]
    },
    {
     "name": "stderr",
     "output_type": "stream",
     "text": [
      "100%|█████████████████████████████████████████████████████████████████████████████████████████████████████████████████████████████████████████████████████████████| 7308/7308 [00:36<00:00, 199.70it/s]\n"
     ]
    },
    {
     "name": "stdout",
     "output_type": "stream",
     "text": [
      "Loss: 2595.5150325000286\n",
      "Average Loss: 0.35516078715107124\n",
      "############### Saving good model ###############################\n",
      "-----------------------------------------------------------------\n",
      "Epoch: 39; Bad epochs: 0\n"
     ]
    },
    {
     "name": "stderr",
     "output_type": "stream",
     "text": [
      "100%|█████████████████████████████████████████████████████████████████████████████████████████████████████████████████████████████████████████████████████████████| 7308/7308 [00:37<00:00, 197.30it/s]\n"
     ]
    },
    {
     "name": "stdout",
     "output_type": "stream",
     "text": [
      "Loss: 2595.8323776721954\n",
      "Average Loss: 0.35520421150413184\n",
      "-----------------------------------------------------------------\n",
      "Epoch: 40; Bad epochs: 1\n"
     ]
    },
    {
     "name": "stderr",
     "output_type": "stream",
     "text": [
      "100%|█████████████████████████████████████████████████████████████████████████████████████████████████████████████████████████████████████████████████████████████| 7308/7308 [00:36<00:00, 200.80it/s]\n"
     ]
    },
    {
     "name": "stdout",
     "output_type": "stream",
     "text": [
      "Loss: 2595.72032558918\n",
      "Average Loss: 0.35518887870678434\n",
      "-----------------------------------------------------------------\n",
      "Epoch: 41; Bad epochs: 2\n"
     ]
    },
    {
     "name": "stderr",
     "output_type": "stream",
     "text": [
      "100%|█████████████████████████████████████████████████████████████████████████████████████████████████████████████████████████████████████████████████████████████| 7308/7308 [00:36<00:00, 197.63it/s]\n"
     ]
    },
    {
     "name": "stdout",
     "output_type": "stream",
     "text": [
      "Loss: 2595.7333746254444\n",
      "Average Loss: 0.355190664289196\n",
      "-----------------------------------------------------------------\n",
      "Epoch: 42; Bad epochs: 3\n"
     ]
    },
    {
     "name": "stderr",
     "output_type": "stream",
     "text": [
      "100%|█████████████████████████████████████████████████████████████████████████████████████████████████████████████████████████████████████████████████████████████| 7308/7308 [00:37<00:00, 196.64it/s]\n"
     ]
    },
    {
     "name": "stdout",
     "output_type": "stream",
     "text": [
      "Loss: 2595.4007038772106\n",
      "Average Loss: 0.3551451428403408\n",
      "############### Saving good model ###############################\n",
      "-----------------------------------------------------------------\n",
      "Epoch: 43; Bad epochs: 0\n"
     ]
    },
    {
     "name": "stderr",
     "output_type": "stream",
     "text": [
      "100%|█████████████████████████████████████████████████████████████████████████████████████████████████████████████████████████████████████████████████████████████| 7308/7308 [00:37<00:00, 193.29it/s]\n"
     ]
    },
    {
     "name": "stdout",
     "output_type": "stream",
     "text": [
      "Loss: 2595.652546197176\n",
      "Average Loss: 0.35517960402260207\n",
      "-----------------------------------------------------------------\n",
      "Epoch: 44; Bad epochs: 1\n"
     ]
    },
    {
     "name": "stderr",
     "output_type": "stream",
     "text": [
      "100%|█████████████████████████████████████████████████████████████████████████████████████████████████████████████████████████████████████████████████████████████| 7308/7308 [00:36<00:00, 197.60it/s]\n"
     ]
    },
    {
     "name": "stdout",
     "output_type": "stream",
     "text": [
      "Loss: 2105.808396741748\n",
      "Average Loss: 0.2881511216121713\n",
      "############### Saving good model ###############################\n",
      "-----------------------------------------------------------------\n",
      "Epoch: 45; Bad epochs: 0\n"
     ]
    },
    {
     "name": "stderr",
     "output_type": "stream",
     "text": [
      "100%|█████████████████████████████████████████████████████████████████████████████████████████████████████████████████████████████████████████████████████████████| 7308/7308 [00:36<00:00, 197.61it/s]\n"
     ]
    },
    {
     "name": "stdout",
     "output_type": "stream",
     "text": [
      "Loss: 1219.6892578601837\n",
      "Average Loss: 0.16689781853587626\n",
      "############### Saving good model ###############################\n",
      "-----------------------------------------------------------------\n",
      "Epoch: 46; Bad epochs: 0\n"
     ]
    },
    {
     "name": "stderr",
     "output_type": "stream",
     "text": [
      "100%|█████████████████████████████████████████████████████████████████████████████████████████████████████████████████████████████████████████████████████████████| 7308/7308 [00:36<00:00, 198.36it/s]\n"
     ]
    },
    {
     "name": "stdout",
     "output_type": "stream",
     "text": [
      "Loss: 1202.0321796759963\n",
      "Average Loss: 0.1644816885161462\n",
      "############### Saving good model ###############################\n",
      "-----------------------------------------------------------------\n",
      "Epoch: 47; Bad epochs: 0\n"
     ]
    },
    {
     "name": "stderr",
     "output_type": "stream",
     "text": [
      "100%|█████████████████████████████████████████████████████████████████████████████████████████████████████████████████████████████████████████████████████████████| 7308/7308 [00:36<00:00, 199.42it/s]\n"
     ]
    },
    {
     "name": "stdout",
     "output_type": "stream",
     "text": [
      "Loss: 1200.5953395068645\n",
      "Average Loss: 0.16428507656087363\n",
      "############### Saving good model ###############################\n",
      "-----------------------------------------------------------------\n",
      "Epoch: 48; Bad epochs: 0\n"
     ]
    },
    {
     "name": "stderr",
     "output_type": "stream",
     "text": [
      "100%|█████████████████████████████████████████████████████████████████████████████████████████████████████████████████████████████████████████████████████████████| 7308/7308 [00:37<00:00, 196.96it/s]\n"
     ]
    },
    {
     "name": "stdout",
     "output_type": "stream",
     "text": [
      "Loss: 1199.495776310563\n",
      "Average Loss: 0.1641346163533885\n",
      "############### Saving good model ###############################\n",
      "-----------------------------------------------------------------\n",
      "Epoch: 49; Bad epochs: 0\n"
     ]
    },
    {
     "name": "stderr",
     "output_type": "stream",
     "text": [
      "100%|█████████████████████████████████████████████████████████████████████████████████████████████████████████████████████████████████████████████████████████████| 7308/7308 [00:36<00:00, 199.08it/s]\n"
     ]
    },
    {
     "name": "stdout",
     "output_type": "stream",
     "text": [
      "Loss: 1199.3868511244655\n",
      "Average Loss: 0.16411971142918247\n",
      "############### Saving good model ###############################\n",
      "-----------------------------------------------------------------\n",
      "Epoch: 50; Bad epochs: 0\n"
     ]
    },
    {
     "name": "stderr",
     "output_type": "stream",
     "text": [
      "100%|█████████████████████████████████████████████████████████████████████████████████████████████████████████████████████████████████████████████████████████████| 7308/7308 [00:36<00:00, 199.28it/s]\n"
     ]
    },
    {
     "name": "stdout",
     "output_type": "stream",
     "text": [
      "Loss: 1198.1563852280378\n",
      "Average Loss: 0.16395133897482728\n",
      "############### Saving good model ###############################\n",
      "-----------------------------------------------------------------\n",
      "Epoch: 51; Bad epochs: 0\n"
     ]
    },
    {
     "name": "stderr",
     "output_type": "stream",
     "text": [
      "100%|█████████████████████████████████████████████████████████████████████████████████████████████████████████████████████████████████████████████████████████████| 7308/7308 [00:36<00:00, 198.75it/s]\n"
     ]
    },
    {
     "name": "stdout",
     "output_type": "stream",
     "text": [
      "Loss: 1198.0244248732924\n",
      "Average Loss: 0.16393328200236623\n",
      "############### Saving good model ###############################\n",
      "-----------------------------------------------------------------\n",
      "Epoch: 52; Bad epochs: 0\n"
     ]
    },
    {
     "name": "stderr",
     "output_type": "stream",
     "text": [
      "100%|█████████████████████████████████████████████████████████████████████████████████████████████████████████████████████████████████████████████████████████████| 7308/7308 [00:36<00:00, 199.13it/s]\n"
     ]
    },
    {
     "name": "stdout",
     "output_type": "stream",
     "text": [
      "Loss: 1197.6940555870533\n",
      "Average Loss: 0.16388807547715561\n",
      "############### Saving good model ###############################\n",
      "-----------------------------------------------------------------\n",
      "Epoch: 53; Bad epochs: 0\n"
     ]
    },
    {
     "name": "stderr",
     "output_type": "stream",
     "text": [
      "100%|█████████████████████████████████████████████████████████████████████████████████████████████████████████████████████████████████████████████████████████████| 7308/7308 [00:36<00:00, 198.15it/s]\n"
     ]
    },
    {
     "name": "stdout",
     "output_type": "stream",
     "text": [
      "Loss: 1197.235002323985\n",
      "Average Loss: 0.1638252603070587\n",
      "############### Saving good model ###############################\n",
      "-----------------------------------------------------------------\n",
      "Epoch: 54; Bad epochs: 0\n"
     ]
    },
    {
     "name": "stderr",
     "output_type": "stream",
     "text": [
      "100%|█████████████████████████████████████████████████████████████████████████████████████████████████████████████████████████████████████████████████████████████| 7308/7308 [00:36<00:00, 200.97it/s]\n"
     ]
    },
    {
     "name": "stdout",
     "output_type": "stream",
     "text": [
      "Loss: 1196.4446450546384\n",
      "Average Loss: 0.1637171107080786\n",
      "############### Saving good model ###############################\n",
      "-----------------------------------------------------------------\n",
      "Epoch: 55; Bad epochs: 0\n"
     ]
    },
    {
     "name": "stderr",
     "output_type": "stream",
     "text": [
      "100%|█████████████████████████████████████████████████████████████████████████████████████████████████████████████████████████████████████████████████████████████| 7308/7308 [00:37<00:00, 196.64it/s]\n"
     ]
    },
    {
     "name": "stdout",
     "output_type": "stream",
     "text": [
      "Loss: 1195.570768326521\n",
      "Average Loss: 0.16359753261172974\n",
      "############### Saving good model ###############################\n",
      "-----------------------------------------------------------------\n",
      "Epoch: 56; Bad epochs: 0\n"
     ]
    },
    {
     "name": "stderr",
     "output_type": "stream",
     "text": [
      "100%|█████████████████████████████████████████████████████████████████████████████████████████████████████████████████████████████████████████████████████████████| 7308/7308 [00:37<00:00, 196.29it/s]\n"
     ]
    },
    {
     "name": "stdout",
     "output_type": "stream",
     "text": [
      "Loss: 1194.4720217511058\n",
      "Average Loss: 0.16344718414766088\n",
      "############### Saving good model ###############################\n",
      "-----------------------------------------------------------------\n",
      "Epoch: 57; Bad epochs: 0\n"
     ]
    },
    {
     "name": "stderr",
     "output_type": "stream",
     "text": [
      "100%|█████████████████████████████████████████████████████████████████████████████████████████████████████████████████████████████████████████████████████████████| 7308/7308 [00:36<00:00, 198.35it/s]\n"
     ]
    },
    {
     "name": "stdout",
     "output_type": "stream",
     "text": [
      "Loss: 1193.7113546431065\n",
      "Average Loss: 0.16334309724180437\n",
      "############### Saving good model ###############################\n",
      "-----------------------------------------------------------------\n",
      "Epoch: 58; Bad epochs: 0\n"
     ]
    },
    {
     "name": "stderr",
     "output_type": "stream",
     "text": [
      "100%|█████████████████████████████████████████████████████████████████████████████████████████████████████████████████████████████████████████████████████████████| 7308/7308 [00:37<00:00, 195.69it/s]\n"
     ]
    },
    {
     "name": "stdout",
     "output_type": "stream",
     "text": [
      "Loss: 1193.2152800932527\n",
      "Average Loss: 0.16327521621418345\n",
      "############### Saving good model ###############################\n",
      "-----------------------------------------------------------------\n",
      "Epoch: 59; Bad epochs: 0\n"
     ]
    },
    {
     "name": "stderr",
     "output_type": "stream",
     "text": [
      "100%|█████████████████████████████████████████████████████████████████████████████████████████████████████████████████████████████████████████████████████████████| 7308/7308 [00:37<00:00, 192.50it/s]\n"
     ]
    },
    {
     "name": "stdout",
     "output_type": "stream",
     "text": [
      "Loss: 1192.7512842193246\n",
      "Average Loss: 0.163211724715288\n",
      "############### Saving good model ###############################\n",
      "-----------------------------------------------------------------\n",
      "Epoch: 60; Bad epochs: 0\n"
     ]
    },
    {
     "name": "stderr",
     "output_type": "stream",
     "text": [
      "100%|█████████████████████████████████████████████████████████████████████████████████████████████████████████████████████████████████████████████████████████████| 7308/7308 [00:36<00:00, 198.93it/s]\n"
     ]
    },
    {
     "name": "stdout",
     "output_type": "stream",
     "text": [
      "Loss: 1192.869618140161\n",
      "Average Loss: 0.1632279170963548\n",
      "-----------------------------------------------------------------\n",
      "Epoch: 61; Bad epochs: 1\n"
     ]
    },
    {
     "name": "stderr",
     "output_type": "stream",
     "text": [
      "100%|█████████████████████████████████████████████████████████████████████████████████████████████████████████████████████████████████████████████████████████████| 7308/7308 [00:37<00:00, 195.42it/s]\n"
     ]
    },
    {
     "name": "stdout",
     "output_type": "stream",
     "text": [
      "Loss: 1192.3736005872488\n",
      "Average Loss: 0.16316004386798696\n",
      "############### Saving good model ###############################\n",
      "-----------------------------------------------------------------\n",
      "Epoch: 62; Bad epochs: 0\n"
     ]
    },
    {
     "name": "stderr",
     "output_type": "stream",
     "text": [
      "100%|█████████████████████████████████████████████████████████████████████████████████████████████████████████████████████████████████████████████████████████████| 7308/7308 [00:36<00:00, 197.58it/s]\n"
     ]
    },
    {
     "name": "stdout",
     "output_type": "stream",
     "text": [
      "Loss: 1192.2977508753538\n",
      "Average Loss: 0.16314966487073806\n",
      "############### Saving good model ###############################\n",
      "-----------------------------------------------------------------\n",
      "Epoch: 63; Bad epochs: 0\n"
     ]
    },
    {
     "name": "stderr",
     "output_type": "stream",
     "text": [
      "100%|█████████████████████████████████████████████████████████████████████████████████████████████████████████████████████████████████████████████████████████████| 7308/7308 [00:36<00:00, 200.02it/s]\n"
     ]
    },
    {
     "name": "stdout",
     "output_type": "stream",
     "text": [
      "Loss: 1192.2185006141663\n",
      "Average Loss: 0.16313882055475729\n",
      "############### Saving good model ###############################\n",
      "-----------------------------------------------------------------\n",
      "Epoch: 64; Bad epochs: 0\n"
     ]
    },
    {
     "name": "stderr",
     "output_type": "stream",
     "text": [
      "100%|█████████████████████████████████████████████████████████████████████████████████████████████████████████████████████████████████████████████████████████████| 7308/7308 [00:37<00:00, 196.28it/s]\n"
     ]
    },
    {
     "name": "stdout",
     "output_type": "stream",
     "text": [
      "Loss: 1192.0852705165744\n",
      "Average Loss: 0.16312058983532765\n",
      "############### Saving good model ###############################\n",
      "-----------------------------------------------------------------\n",
      "Epoch: 65; Bad epochs: 0\n"
     ]
    },
    {
     "name": "stderr",
     "output_type": "stream",
     "text": [
      "100%|█████████████████████████████████████████████████████████████████████████████████████████████████████████████████████████████████████████████████████████████| 7308/7308 [00:37<00:00, 196.30it/s]\n"
     ]
    },
    {
     "name": "stdout",
     "output_type": "stream",
     "text": [
      "Loss: 1191.7593323290348\n",
      "Average Loss: 0.1630759896454618\n",
      "############### Saving good model ###############################\n",
      "-----------------------------------------------------------------\n",
      "Epoch: 66; Bad epochs: 0\n"
     ]
    },
    {
     "name": "stderr",
     "output_type": "stream",
     "text": [
      "100%|█████████████████████████████████████████████████████████████████████████████████████████████████████████████████████████████████████████████████████████████| 7308/7308 [00:36<00:00, 200.25it/s]\n"
     ]
    },
    {
     "name": "stdout",
     "output_type": "stream",
     "text": [
      "Loss: 1192.0051330700517\n",
      "Average Loss: 0.16310962412014937\n",
      "-----------------------------------------------------------------\n",
      "Epoch: 67; Bad epochs: 1\n"
     ]
    },
    {
     "name": "stderr",
     "output_type": "stream",
     "text": [
      "100%|█████████████████████████████████████████████████████████████████████████████████████████████████████████████████████████████████████████████████████████████| 7308/7308 [00:36<00:00, 199.12it/s]\n"
     ]
    },
    {
     "name": "stdout",
     "output_type": "stream",
     "text": [
      "Loss: 1191.6842392012477\n",
      "Average Loss: 0.16306571417641594\n",
      "############### Saving good model ###############################\n",
      "-----------------------------------------------------------------\n",
      "Epoch: 68; Bad epochs: 0\n"
     ]
    },
    {
     "name": "stderr",
     "output_type": "stream",
     "text": [
      "100%|█████████████████████████████████████████████████████████████████████████████████████████████████████████████████████████████████████████████████████████████| 7308/7308 [00:36<00:00, 198.49it/s]\n"
     ]
    },
    {
     "name": "stdout",
     "output_type": "stream",
     "text": [
      "Loss: 1114.4337022965774\n",
      "Average Loss: 0.15249503315497775\n",
      "############### Saving good model ###############################\n",
      "-----------------------------------------------------------------\n",
      "Epoch: 69; Bad epochs: 0\n"
     ]
    },
    {
     "name": "stderr",
     "output_type": "stream",
     "text": [
      "100%|█████████████████████████████████████████████████████████████████████████████████████████████████████████████████████████████████████████████████████████████| 7308/7308 [00:36<00:00, 199.56it/s]\n"
     ]
    },
    {
     "name": "stdout",
     "output_type": "stream",
     "text": [
      "Loss: 442.3576666833833\n",
      "Average Loss: 0.06053060573116903\n",
      "############### Saving good model ###############################\n",
      "-----------------------------------------------------------------\n",
      "Epoch: 70; Bad epochs: 0\n"
     ]
    },
    {
     "name": "stderr",
     "output_type": "stream",
     "text": [
      "100%|█████████████████████████████████████████████████████████████████████████████████████████████████████████████████████████████████████████████████████████████| 7308/7308 [00:36<00:00, 197.85it/s]\n"
     ]
    },
    {
     "name": "stdout",
     "output_type": "stream",
     "text": [
      "Loss: 437.7141157267615\n",
      "Average Loss: 0.05989519919632752\n",
      "############### Saving good model ###############################\n",
      "-----------------------------------------------------------------\n",
      "Epoch: 71; Bad epochs: 0\n"
     ]
    },
    {
     "name": "stderr",
     "output_type": "stream",
     "text": [
      "100%|█████████████████████████████████████████████████████████████████████████████████████████████████████████████████████████████████████████████████████████████| 7308/7308 [00:36<00:00, 199.33it/s]\n"
     ]
    },
    {
     "name": "stdout",
     "output_type": "stream",
     "text": [
      "Loss: 437.0254901847802\n",
      "Average Loss: 0.059800970194961715\n",
      "############### Saving good model ###############################\n",
      "-----------------------------------------------------------------\n",
      "Epoch: 72; Bad epochs: 0\n"
     ]
    },
    {
     "name": "stderr",
     "output_type": "stream",
     "text": [
      "100%|█████████████████████████████████████████████████████████████████████████████████████████████████████████████████████████████████████████████████████████████| 7308/7308 [00:37<00:00, 195.88it/s]\n"
     ]
    },
    {
     "name": "stdout",
     "output_type": "stream",
     "text": [
      "Loss: 435.3549230620265\n",
      "Average Loss: 0.05957237589792371\n",
      "############### Saving good model ###############################\n",
      "-----------------------------------------------------------------\n",
      "Epoch: 73; Bad epochs: 0\n"
     ]
    },
    {
     "name": "stderr",
     "output_type": "stream",
     "text": [
      "100%|█████████████████████████████████████████████████████████████████████████████████████████████████████████████████████████████████████████████████████████████| 7308/7308 [00:37<00:00, 197.42it/s]\n"
     ]
    },
    {
     "name": "stdout",
     "output_type": "stream",
     "text": [
      "Loss: 434.01851359801367\n",
      "Average Loss: 0.05938950651313816\n",
      "############### Saving good model ###############################\n",
      "-----------------------------------------------------------------\n",
      "Epoch: 74; Bad epochs: 0\n"
     ]
    },
    {
     "name": "stderr",
     "output_type": "stream",
     "text": [
      "100%|█████████████████████████████████████████████████████████████████████████████████████████████████████████████████████████████████████████████████████████████| 7308/7308 [00:36<00:00, 199.33it/s]\n"
     ]
    },
    {
     "name": "stdout",
     "output_type": "stream",
     "text": [
      "Loss: 432.9859929406084\n",
      "Average Loss: 0.05924822016155014\n",
      "############### Saving good model ###############################\n",
      "-----------------------------------------------------------------\n",
      "Epoch: 75; Bad epochs: 0\n"
     ]
    },
    {
     "name": "stderr",
     "output_type": "stream",
     "text": [
      "100%|█████████████████████████████████████████████████████████████████████████████████████████████████████████████████████████████████████████████████████████████| 7308/7308 [00:36<00:00, 199.01it/s]\n"
     ]
    },
    {
     "name": "stdout",
     "output_type": "stream",
     "text": [
      "Loss: 432.44139820849523\n",
      "Average Loss: 0.05917369980959158\n",
      "############### Saving good model ###############################\n",
      "-----------------------------------------------------------------\n",
      "Epoch: 76; Bad epochs: 0\n"
     ]
    },
    {
     "name": "stderr",
     "output_type": "stream",
     "text": [
      "100%|█████████████████████████████████████████████████████████████████████████████████████████████████████████████████████████████████████████████████████████████| 7308/7308 [00:36<00:00, 197.75it/s]\n"
     ]
    },
    {
     "name": "stdout",
     "output_type": "stream",
     "text": [
      "Loss: 431.76045896857977\n",
      "Average Loss: 0.05908052257369729\n",
      "############### Saving good model ###############################\n",
      "-----------------------------------------------------------------\n",
      "Epoch: 77; Bad epochs: 0\n"
     ]
    },
    {
     "name": "stderr",
     "output_type": "stream",
     "text": [
      "100%|█████████████████████████████████████████████████████████████████████████████████████████████████████████████████████████████████████████████████████████████| 7308/7308 [00:36<00:00, 197.99it/s]\n"
     ]
    },
    {
     "name": "stdout",
     "output_type": "stream",
     "text": [
      "Loss: 431.47130408138037\n",
      "Average Loss: 0.059040955676160425\n",
      "############### Saving good model ###############################\n",
      "-----------------------------------------------------------------\n",
      "Epoch: 78; Bad epochs: 0\n"
     ]
    },
    {
     "name": "stderr",
     "output_type": "stream",
     "text": [
      "100%|█████████████████████████████████████████████████████████████████████████████████████████████████████████████████████████████████████████████████████████████| 7308/7308 [00:37<00:00, 197.25it/s]\n"
     ]
    },
    {
     "name": "stdout",
     "output_type": "stream",
     "text": [
      "Loss: 430.9278255100362\n",
      "Average Loss: 0.05896658805556051\n",
      "############### Saving good model ###############################\n",
      "-----------------------------------------------------------------\n",
      "Epoch: 79; Bad epochs: 0\n"
     ]
    },
    {
     "name": "stderr",
     "output_type": "stream",
     "text": [
      "100%|█████████████████████████████████████████████████████████████████████████████████████████████████████████████████████████████████████████████████████████████| 7308/7308 [00:36<00:00, 197.58it/s]\n"
     ]
    },
    {
     "name": "stdout",
     "output_type": "stream",
     "text": [
      "Loss: 430.52740397304296\n",
      "Average Loss: 0.058911795836486446\n",
      "############### Saving good model ###############################\n",
      "-----------------------------------------------------------------\n",
      "Epoch: 80; Bad epochs: 0\n"
     ]
    },
    {
     "name": "stderr",
     "output_type": "stream",
     "text": [
      "100%|█████████████████████████████████████████████████████████████████████████████████████████████████████████████████████████████████████████████████████████████| 7308/7308 [00:36<00:00, 198.57it/s]\n"
     ]
    },
    {
     "name": "stdout",
     "output_type": "stream",
     "text": [
      "Loss: 430.23470644513145\n",
      "Average Loss: 0.05887174417694738\n",
      "############### Saving good model ###############################\n",
      "-----------------------------------------------------------------\n",
      "Epoch: 81; Bad epochs: 0\n"
     ]
    },
    {
     "name": "stderr",
     "output_type": "stream",
     "text": [
      "100%|█████████████████████████████████████████████████████████████████████████████████████████████████████████████████████████████████████████████████████████████| 7308/7308 [00:37<00:00, 192.97it/s]\n"
     ]
    },
    {
     "name": "stdout",
     "output_type": "stream",
     "text": [
      "Loss: 430.049182606861\n",
      "Average Loss: 0.05884635777324316\n",
      "############### Saving good model ###############################\n",
      "-----------------------------------------------------------------\n",
      "Epoch: 82; Bad epochs: 0\n"
     ]
    },
    {
     "name": "stderr",
     "output_type": "stream",
     "text": [
      "100%|█████████████████████████████████████████████████████████████████████████████████████████████████████████████████████████████████████████████████████████████| 7308/7308 [00:36<00:00, 197.95it/s]\n"
     ]
    },
    {
     "name": "stdout",
     "output_type": "stream",
     "text": [
      "Loss: 429.68534277705476\n",
      "Average Loss: 0.05879657126122807\n",
      "############### Saving good model ###############################\n",
      "-----------------------------------------------------------------\n",
      "Epoch: 83; Bad epochs: 0\n"
     ]
    },
    {
     "name": "stderr",
     "output_type": "stream",
     "text": [
      "100%|█████████████████████████████████████████████████████████████████████████████████████████████████████████████████████████████████████████████████████████████| 7308/7308 [00:37<00:00, 197.30it/s]\n"
     ]
    },
    {
     "name": "stdout",
     "output_type": "stream",
     "text": [
      "Loss: 429.4101116149686\n",
      "Average Loss: 0.05875890963532685\n",
      "############### Saving good model ###############################\n",
      "-----------------------------------------------------------------\n",
      "Epoch: 84; Bad epochs: 0\n"
     ]
    },
    {
     "name": "stderr",
     "output_type": "stream",
     "text": [
      "100%|█████████████████████████████████████████████████████████████████████████████████████████████████████████████████████████████████████████████████████████████| 7308/7308 [00:36<00:00, 197.67it/s]\n"
     ]
    },
    {
     "name": "stdout",
     "output_type": "stream",
     "text": [
      "Loss: 429.0160492374562\n",
      "Average Loss: 0.05870498758038536\n",
      "############### Saving good model ###############################\n",
      "-----------------------------------------------------------------\n",
      "Epoch: 85; Bad epochs: 0\n"
     ]
    },
    {
     "name": "stderr",
     "output_type": "stream",
     "text": [
      "100%|█████████████████████████████████████████████████████████████████████████████████████████████████████████████████████████████████████████████████████████████| 7308/7308 [00:36<00:00, 198.39it/s]\n"
     ]
    },
    {
     "name": "stdout",
     "output_type": "stream",
     "text": [
      "Loss: 428.65555777261034\n",
      "Average Loss: 0.058655659246388936\n",
      "############### Saving good model ###############################\n",
      "-----------------------------------------------------------------\n",
      "Epoch: 86; Bad epochs: 0\n"
     ]
    },
    {
     "name": "stderr",
     "output_type": "stream",
     "text": [
      "100%|█████████████████████████████████████████████████████████████████████████████████████████████████████████████████████████████████████████████████████████████| 7308/7308 [00:36<00:00, 200.27it/s]\n"
     ]
    },
    {
     "name": "stdout",
     "output_type": "stream",
     "text": [
      "Loss: 428.3087934916839\n",
      "Average Loss: 0.0586082092900498\n",
      "############### Saving good model ###############################\n",
      "-----------------------------------------------------------------\n",
      "Epoch: 87; Bad epochs: 0\n"
     ]
    },
    {
     "name": "stderr",
     "output_type": "stream",
     "text": [
      "100%|█████████████████████████████████████████████████████████████████████████████████████████████████████████████████████████████████████████████████████████████| 7308/7308 [00:37<00:00, 196.64it/s]\n"
     ]
    },
    {
     "name": "stdout",
     "output_type": "stream",
     "text": [
      "Loss: 428.0687930160202\n",
      "Average Loss: 0.05857536850246582\n",
      "############### Saving good model ###############################\n",
      "-----------------------------------------------------------------\n",
      "Epoch: 88; Bad epochs: 0\n"
     ]
    },
    {
     "name": "stderr",
     "output_type": "stream",
     "text": [
      "100%|█████████████████████████████████████████████████████████████████████████████████████████████████████████████████████████████████████████████████████████████| 7308/7308 [00:37<00:00, 197.44it/s]\n"
     ]
    },
    {
     "name": "stdout",
     "output_type": "stream",
     "text": [
      "Loss: 427.4447646830231\n",
      "Average Loss: 0.05848997874699276\n",
      "############### Saving good model ###############################\n",
      "-----------------------------------------------------------------\n",
      "Epoch: 89; Bad epochs: 0\n"
     ]
    },
    {
     "name": "stderr",
     "output_type": "stream",
     "text": [
      "100%|█████████████████████████████████████████████████████████████████████████████████████████████████████████████████████████████████████████████████████████████| 7308/7308 [00:36<00:00, 201.90it/s]\n"
     ]
    },
    {
     "name": "stdout",
     "output_type": "stream",
     "text": [
      "Loss: 427.2503645461984\n",
      "Average Loss: 0.058463377743048495\n",
      "############### Saving good model ###############################\n",
      "-----------------------------------------------------------------\n",
      "Epoch: 90; Bad epochs: 0\n"
     ]
    },
    {
     "name": "stderr",
     "output_type": "stream",
     "text": [
      "100%|█████████████████████████████████████████████████████████████████████████████████████████████████████████████████████████████████████████████████████████████| 7308/7308 [00:36<00:00, 200.88it/s]\n"
     ]
    },
    {
     "name": "stdout",
     "output_type": "stream",
     "text": [
      "Loss: 426.6922952462919\n",
      "Average Loss: 0.05838701358049971\n",
      "############### Saving good model ###############################\n",
      "-----------------------------------------------------------------\n",
      "Epoch: 91; Bad epochs: 0\n"
     ]
    },
    {
     "name": "stderr",
     "output_type": "stream",
     "text": [
      "100%|█████████████████████████████████████████████████████████████████████████████████████████████████████████████████████████████████████████████████████████████| 7308/7308 [00:36<00:00, 200.39it/s]\n"
     ]
    },
    {
     "name": "stdout",
     "output_type": "stream",
     "text": [
      "Loss: 426.31899077491835\n",
      "Average Loss: 0.058335931961537815\n",
      "############### Saving good model ###############################\n",
      "-----------------------------------------------------------------\n",
      "Epoch: 92; Bad epochs: 0\n"
     ]
    },
    {
     "name": "stderr",
     "output_type": "stream",
     "text": [
      "100%|█████████████████████████████████████████████████████████████████████████████████████████████████████████████████████████████████████████████████████████████| 7308/7308 [00:36<00:00, 200.36it/s]\n"
     ]
    },
    {
     "name": "stdout",
     "output_type": "stream",
     "text": [
      "Loss: 426.04440948180854\n",
      "Average Loss: 0.05829835926133122\n",
      "############### Saving good model ###############################\n",
      "-----------------------------------------------------------------\n",
      "Epoch: 93; Bad epochs: 0\n"
     ]
    },
    {
     "name": "stderr",
     "output_type": "stream",
     "text": [
      "100%|█████████████████████████████████████████████████████████████████████████████████████████████████████████████████████████████████████████████████████████████| 7308/7308 [00:37<00:00, 193.73it/s]\n"
     ]
    },
    {
     "name": "stdout",
     "output_type": "stream",
     "text": [
      "Loss: 425.7352397921495\n",
      "Average Loss: 0.05825605361140524\n",
      "############### Saving good model ###############################\n",
      "-----------------------------------------------------------------\n",
      "Epoch: 94; Bad epochs: 0\n"
     ]
    },
    {
     "name": "stderr",
     "output_type": "stream",
     "text": [
      "100%|█████████████████████████████████████████████████████████████████████████████████████████████████████████████████████████████████████████████████████████████| 7308/7308 [00:38<00:00, 192.09it/s]\n"
     ]
    },
    {
     "name": "stdout",
     "output_type": "stream",
     "text": [
      "Loss: 425.39577989745885\n",
      "Average Loss: 0.05820960316057182\n",
      "############### Saving good model ###############################\n",
      "-----------------------------------------------------------------\n",
      "Epoch: 95; Bad epochs: 0\n"
     ]
    },
    {
     "name": "stderr",
     "output_type": "stream",
     "text": [
      "100%|█████████████████████████████████████████████████████████████████████████████████████████████████████████████████████████████████████████████████████████████| 7308/7308 [00:37<00:00, 196.90it/s]\n"
     ]
    },
    {
     "name": "stdout",
     "output_type": "stream",
     "text": [
      "Loss: 425.05382073903456\n",
      "Average Loss: 0.05816281071962706\n",
      "############### Saving good model ###############################\n",
      "-----------------------------------------------------------------\n",
      "Epoch: 96; Bad epochs: 0\n"
     ]
    },
    {
     "name": "stderr",
     "output_type": "stream",
     "text": [
      "100%|█████████████████████████████████████████████████████████████████████████████████████████████████████████████████████████████████████████████████████████████| 7308/7308 [00:36<00:00, 199.58it/s]\n"
     ]
    },
    {
     "name": "stdout",
     "output_type": "stream",
     "text": [
      "Loss: 419.1775488492567\n",
      "Average Loss: 0.05735872315944947\n",
      "############### Saving good model ###############################\n",
      "-----------------------------------------------------------------\n",
      "Epoch: 97; Bad epochs: 0\n"
     ]
    },
    {
     "name": "stderr",
     "output_type": "stream",
     "text": [
      "100%|█████████████████████████████████████████████████████████████████████████████████████████████████████████████████████████████████████████████████████████████| 7308/7308 [00:36<00:00, 198.89it/s]\n"
     ]
    },
    {
     "name": "stdout",
     "output_type": "stream",
     "text": [
      "Loss: 412.03947743726894\n",
      "Average Loss: 0.056381975566128756\n",
      "############### Saving good model ###############################\n",
      "-----------------------------------------------------------------\n",
      "Epoch: 98; Bad epochs: 0\n"
     ]
    },
    {
     "name": "stderr",
     "output_type": "stream",
     "text": [
      "100%|█████████████████████████████████████████████████████████████████████████████████████████████████████████████████████████████████████████████████████████████| 7308/7308 [00:36<00:00, 200.54it/s]\n"
     ]
    },
    {
     "name": "stdout",
     "output_type": "stream",
     "text": [
      "Loss: 411.04541825549677\n",
      "Average Loss: 0.056245952142240936\n",
      "############### Saving good model ###############################\n",
      "-----------------------------------------------------------------\n",
      "Epoch: 99; Bad epochs: 0\n"
     ]
    },
    {
     "name": "stderr",
     "output_type": "stream",
     "text": [
      "100%|█████████████████████████████████████████████████████████████████████████████████████████████████████████████████████████████████████████████████████████████| 7308/7308 [00:36<00:00, 198.67it/s]\n"
     ]
    },
    {
     "name": "stdout",
     "output_type": "stream",
     "text": [
      "Loss: 410.4684808503371\n",
      "Average Loss: 0.05616700613715614\n",
      "############### Saving good model ###############################\n",
      "-----------------------------------------------------------------\n",
      "Epoch: 100; Bad epochs: 0\n"
     ]
    },
    {
     "name": "stderr",
     "output_type": "stream",
     "text": [
      "100%|█████████████████████████████████████████████████████████████████████████████████████████████████████████████████████████████████████████████████████████████| 7308/7308 [00:41<00:00, 174.81it/s]\n"
     ]
    },
    {
     "name": "stdout",
     "output_type": "stream",
     "text": [
      "Loss: 410.1322673710529\n",
      "Average Loss: 0.056120999913937174\n",
      "############### Saving good model ###############################\n",
      "-----------------------------------------------------------------\n",
      "Epoch: 101; Bad epochs: 0\n"
     ]
    },
    {
     "name": "stderr",
     "output_type": "stream",
     "text": [
      "100%|█████████████████████████████████████████████████████████████████████████████████████████████████████████████████████████████████████████████████████████████| 7308/7308 [00:37<00:00, 194.46it/s]\n"
     ]
    },
    {
     "name": "stdout",
     "output_type": "stream",
     "text": [
      "Loss: 410.0373555563856\n",
      "Average Loss: 0.05610801252824105\n",
      "############### Saving good model ###############################\n",
      "-----------------------------------------------------------------\n",
      "Epoch: 102; Bad epochs: 0\n"
     ]
    },
    {
     "name": "stderr",
     "output_type": "stream",
     "text": [
      "100%|█████████████████████████████████████████████████████████████████████████████████████████████████████████████████████████████████████████████████████████████| 7308/7308 [00:36<00:00, 201.42it/s]\n"
     ]
    },
    {
     "name": "stdout",
     "output_type": "stream",
     "text": [
      "Loss: 409.7313231646549\n",
      "Average Loss: 0.05606613617469279\n",
      "############### Saving good model ###############################\n",
      "-----------------------------------------------------------------\n",
      "Epoch: 103; Bad epochs: 0\n"
     ]
    },
    {
     "name": "stderr",
     "output_type": "stream",
     "text": [
      "100%|█████████████████████████████████████████████████████████████████████████████████████████████████████████████████████████████████████████████████████████████| 7308/7308 [00:36<00:00, 198.34it/s]\n"
     ]
    },
    {
     "name": "stdout",
     "output_type": "stream",
     "text": [
      "Loss: 409.6143005047925\n",
      "Average Loss: 0.056050123221783314\n",
      "############### Saving good model ###############################\n",
      "-----------------------------------------------------------------\n",
      "Epoch: 104; Bad epochs: 0\n"
     ]
    },
    {
     "name": "stderr",
     "output_type": "stream",
     "text": [
      "100%|█████████████████████████████████████████████████████████████████████████████████████████████████████████████████████████████████████████████████████████████| 7308/7308 [00:37<00:00, 196.88it/s]\n"
     ]
    },
    {
     "name": "stdout",
     "output_type": "stream",
     "text": [
      "Loss: 409.32406430202536\n",
      "Average Loss: 0.056010408360977745\n",
      "############### Saving good model ###############################\n",
      "-----------------------------------------------------------------\n",
      "Epoch: 105; Bad epochs: 0\n"
     ]
    },
    {
     "name": "stderr",
     "output_type": "stream",
     "text": [
      "100%|█████████████████████████████████████████████████████████████████████████████████████████████████████████████████████████████████████████████████████████████| 7308/7308 [00:36<00:00, 199.51it/s]\n"
     ]
    },
    {
     "name": "stdout",
     "output_type": "stream",
     "text": [
      "Loss: 409.3811273621395\n",
      "Average Loss: 0.05601821666148598\n",
      "-----------------------------------------------------------------\n",
      "Epoch: 106; Bad epochs: 1\n"
     ]
    },
    {
     "name": "stderr",
     "output_type": "stream",
     "text": [
      "100%|█████████████████████████████████████████████████████████████████████████████████████████████████████████████████████████████████████████████████████████████| 7308/7308 [00:36<00:00, 199.06it/s]\n"
     ]
    },
    {
     "name": "stdout",
     "output_type": "stream",
     "text": [
      "Loss: 409.21830251510255\n",
      "Average Loss: 0.05599593630474857\n",
      "############### Saving good model ###############################\n",
      "-----------------------------------------------------------------\n",
      "Epoch: 107; Bad epochs: 0\n"
     ]
    },
    {
     "name": "stderr",
     "output_type": "stream",
     "text": [
      "100%|█████████████████████████████████████████████████████████████████████████████████████████████████████████████████████████████████████████████████████████████| 7308/7308 [00:36<00:00, 202.65it/s]\n"
     ]
    },
    {
     "name": "stdout",
     "output_type": "stream",
     "text": [
      "Loss: 408.9557385854423\n",
      "Average Loss: 0.05596000801661772\n",
      "############### Saving good model ###############################\n",
      "-----------------------------------------------------------------\n",
      "Epoch: 108; Bad epochs: 0\n"
     ]
    },
    {
     "name": "stderr",
     "output_type": "stream",
     "text": [
      "100%|█████████████████████████████████████████████████████████████████████████████████████████████████████████████████████████████████████████████████████████████| 7308/7308 [00:35<00:00, 204.10it/s]\n"
     ]
    },
    {
     "name": "stdout",
     "output_type": "stream",
     "text": [
      "Loss: 408.8660175250843\n",
      "Average Loss: 0.055947730914762496\n",
      "############### Saving good model ###############################\n",
      "-----------------------------------------------------------------\n",
      "Epoch: 109; Bad epochs: 0\n"
     ]
    },
    {
     "name": "stderr",
     "output_type": "stream",
     "text": [
      "100%|█████████████████████████████████████████████████████████████████████████████████████████████████████████████████████████████████████████████████████████████| 7308/7308 [00:37<00:00, 192.92it/s]\n"
     ]
    },
    {
     "name": "stdout",
     "output_type": "stream",
     "text": [
      "Loss: 408.7933665208984\n",
      "Average Loss: 0.055937789616981176\n",
      "############### Saving good model ###############################\n",
      "-----------------------------------------------------------------\n",
      "Epoch: 110; Bad epochs: 0\n"
     ]
    },
    {
     "name": "stderr",
     "output_type": "stream",
     "text": [
      "100%|█████████████████████████████████████████████████████████████████████████████████████████████████████████████████████████████████████████████████████████████| 7308/7308 [00:35<00:00, 205.58it/s]\n"
     ]
    },
    {
     "name": "stdout",
     "output_type": "stream",
     "text": [
      "Loss: 408.9083210870158\n",
      "Average Loss: 0.05595351957950408\n",
      "-----------------------------------------------------------------\n",
      "Epoch: 111; Bad epochs: 1\n"
     ]
    },
    {
     "name": "stderr",
     "output_type": "stream",
     "text": [
      "100%|█████████████████████████████████████████████████████████████████████████████████████████████████████████████████████████████████████████████████████████████| 7308/7308 [00:35<00:00, 203.75it/s]\n"
     ]
    },
    {
     "name": "stdout",
     "output_type": "stream",
     "text": [
      "Loss: 408.6509281808976\n",
      "Average Loss: 0.05591829887532808\n",
      "############### Saving good model ###############################\n",
      "-----------------------------------------------------------------\n",
      "Epoch: 112; Bad epochs: 0\n"
     ]
    },
    {
     "name": "stderr",
     "output_type": "stream",
     "text": [
      "100%|█████████████████████████████████████████████████████████████████████████████████████████████████████████████████████████████████████████████████████████████| 7308/7308 [00:35<00:00, 203.55it/s]\n"
     ]
    },
    {
     "name": "stdout",
     "output_type": "stream",
     "text": [
      "Loss: 408.62047046842054\n",
      "Average Loss: 0.05591413115331425\n",
      "############### Saving good model ###############################\n",
      "-----------------------------------------------------------------\n",
      "Epoch: 113; Bad epochs: 0\n"
     ]
    },
    {
     "name": "stderr",
     "output_type": "stream",
     "text": [
      "100%|█████████████████████████████████████████████████████████████████████████████████████████████████████████████████████████████████████████████████████████████| 7308/7308 [00:36<00:00, 199.51it/s]\n"
     ]
    },
    {
     "name": "stdout",
     "output_type": "stream",
     "text": [
      "Loss: 408.44320162339136\n",
      "Average Loss: 0.055889874332702705\n",
      "############### Saving good model ###############################\n",
      "-----------------------------------------------------------------\n",
      "Epoch: 114; Bad epochs: 0\n"
     ]
    },
    {
     "name": "stderr",
     "output_type": "stream",
     "text": [
      "100%|█████████████████████████████████████████████████████████████████████████████████████████████████████████████████████████████████████████████████████████████| 7308/7308 [00:35<00:00, 207.44it/s]\n"
     ]
    },
    {
     "name": "stdout",
     "output_type": "stream",
     "text": [
      "Loss: 408.37395749939606\n",
      "Average Loss: 0.0558803992199502\n",
      "############### Saving good model ###############################\n",
      "-----------------------------------------------------------------\n",
      "Epoch: 115; Bad epochs: 0\n"
     ]
    },
    {
     "name": "stderr",
     "output_type": "stream",
     "text": [
      "100%|█████████████████████████████████████████████████████████████████████████████████████████████████████████████████████████████████████████████████████████████| 7308/7308 [00:35<00:00, 206.62it/s]\n"
     ]
    },
    {
     "name": "stdout",
     "output_type": "stream",
     "text": [
      "Loss: 408.43115725391544\n",
      "Average Loss: 0.05588822622522105\n",
      "-----------------------------------------------------------------\n",
      "Epoch: 116; Bad epochs: 1\n"
     ]
    },
    {
     "name": "stderr",
     "output_type": "stream",
     "text": [
      "100%|█████████████████████████████████████████████████████████████████████████████████████████████████████████████████████████████████████████████████████████████| 7308/7308 [00:36<00:00, 202.39it/s]\n"
     ]
    },
    {
     "name": "stdout",
     "output_type": "stream",
     "text": [
      "Loss: 408.1231414342765\n",
      "Average Loss: 0.05584607846664976\n",
      "############### Saving good model ###############################\n",
      "-----------------------------------------------------------------\n",
      "Epoch: 117; Bad epochs: 0\n"
     ]
    },
    {
     "name": "stderr",
     "output_type": "stream",
     "text": [
      "100%|█████████████████████████████████████████████████████████████████████████████████████████████████████████████████████████████████████████████████████████████| 7308/7308 [00:36<00:00, 200.90it/s]\n"
     ]
    },
    {
     "name": "stdout",
     "output_type": "stream",
     "text": [
      "Loss: 408.15329385432415\n",
      "Average Loss: 0.05585020441356379\n",
      "-----------------------------------------------------------------\n",
      "Epoch: 118; Bad epochs: 1\n"
     ]
    },
    {
     "name": "stderr",
     "output_type": "stream",
     "text": [
      "100%|█████████████████████████████████████████████████████████████████████████████████████████████████████████████████████████████████████████████████████████████| 7308/7308 [00:36<00:00, 201.13it/s]\n"
     ]
    },
    {
     "name": "stdout",
     "output_type": "stream",
     "text": [
      "Loss: 408.12083241553046\n",
      "Average Loss: 0.055845762508966945\n",
      "############### Saving good model ###############################\n",
      "-----------------------------------------------------------------\n",
      "Epoch: 119; Bad epochs: 0\n"
     ]
    },
    {
     "name": "stderr",
     "output_type": "stream",
     "text": [
      "100%|█████████████████████████████████████████████████████████████████████████████████████████████████████████████████████████████████████████████████████████████| 7308/7308 [00:35<00:00, 204.87it/s]\n"
     ]
    },
    {
     "name": "stdout",
     "output_type": "stream",
     "text": [
      "Loss: 408.00497172027826\n",
      "Average Loss: 0.055829908555046284\n",
      "############### Saving good model ###############################\n",
      "-----------------------------------------------------------------\n",
      "Epoch: 120; Bad epochs: 0\n"
     ]
    },
    {
     "name": "stderr",
     "output_type": "stream",
     "text": [
      "100%|█████████████████████████████████████████████████████████████████████████████████████████████████████████████████████████████████████████████████████████████| 7308/7308 [00:36<00:00, 201.82it/s]\n"
     ]
    },
    {
     "name": "stdout",
     "output_type": "stream",
     "text": [
      "Loss: 408.00628740154207\n",
      "Average Loss: 0.05583008858805994\n",
      "-----------------------------------------------------------------\n",
      "Epoch: 121; Bad epochs: 1\n"
     ]
    },
    {
     "name": "stderr",
     "output_type": "stream",
     "text": [
      "100%|█████████████████████████████████████████████████████████████████████████████████████████████████████████████████████████████████████████████████████████████| 7308/7308 [00:38<00:00, 192.03it/s]\n"
     ]
    },
    {
     "name": "stdout",
     "output_type": "stream",
     "text": [
      "Loss: 408.03747730655596\n",
      "Average Loss: 0.05583435650062342\n",
      "-----------------------------------------------------------------\n",
      "Epoch: 122; Bad epochs: 2\n"
     ]
    },
    {
     "name": "stderr",
     "output_type": "stream",
     "text": [
      "100%|█████████████████████████████████████████████████████████████████████████████████████████████████████████████████████████████████████████████████████████████| 7308/7308 [00:35<00:00, 203.53it/s]\n"
     ]
    },
    {
     "name": "stdout",
     "output_type": "stream",
     "text": [
      "Loss: 408.1245994309429\n",
      "Average Loss: 0.05584627797358278\n",
      "-----------------------------------------------------------------\n",
      "Epoch: 123; Bad epochs: 3\n"
     ]
    },
    {
     "name": "stderr",
     "output_type": "stream",
     "text": [
      "100%|█████████████████████████████████████████████████████████████████████████████████████████████████████████████████████████████████████████████████████████████| 7308/7308 [00:35<00:00, 205.51it/s]\n"
     ]
    },
    {
     "name": "stdout",
     "output_type": "stream",
     "text": [
      "Loss: 407.68933788500726\n",
      "Average Loss: 0.05578671837506941\n",
      "############### Saving good model ###############################\n",
      "-----------------------------------------------------------------\n",
      "Epoch: 124; Bad epochs: 0\n"
     ]
    },
    {
     "name": "stderr",
     "output_type": "stream",
     "text": [
      "100%|█████████████████████████████████████████████████████████████████████████████████████████████████████████████████████████████████████████████████████████████| 7308/7308 [00:36<00:00, 201.76it/s]\n"
     ]
    },
    {
     "name": "stdout",
     "output_type": "stream",
     "text": [
      "Loss: 407.7622372491751\n",
      "Average Loss: 0.05579669365752259\n",
      "-----------------------------------------------------------------\n",
      "Epoch: 125; Bad epochs: 1\n"
     ]
    },
    {
     "name": "stderr",
     "output_type": "stream",
     "text": [
      "100%|█████████████████████████████████████████████████████████████████████████████████████████████████████████████████████████████████████████████████████████████| 7308/7308 [00:37<00:00, 195.74it/s]\n"
     ]
    },
    {
     "name": "stdout",
     "output_type": "stream",
     "text": [
      "Loss: 407.6072838383261\n",
      "Average Loss: 0.05577549039933308\n",
      "############### Saving good model ###############################\n",
      "-----------------------------------------------------------------\n",
      "Epoch: 126; Bad epochs: 0\n"
     ]
    },
    {
     "name": "stderr",
     "output_type": "stream",
     "text": [
      "100%|█████████████████████████████████████████████████████████████████████████████████████████████████████████████████████████████████████████████████████████████| 7308/7308 [00:37<00:00, 194.56it/s]\n"
     ]
    },
    {
     "name": "stdout",
     "output_type": "stream",
     "text": [
      "Loss: 407.630121584516\n",
      "Average Loss: 0.0557786154330208\n",
      "-----------------------------------------------------------------\n",
      "Epoch: 127; Bad epochs: 1\n"
     ]
    },
    {
     "name": "stderr",
     "output_type": "stream",
     "text": [
      "100%|█████████████████████████████████████████████████████████████████████████████████████████████████████████████████████████████████████████████████████████████| 7308/7308 [00:34<00:00, 209.27it/s]\n"
     ]
    },
    {
     "name": "stdout",
     "output_type": "stream",
     "text": [
      "Loss: 407.76299805450253\n",
      "Average Loss: 0.05579679776334189\n",
      "-----------------------------------------------------------------\n",
      "Epoch: 128; Bad epochs: 2\n"
     ]
    },
    {
     "name": "stderr",
     "output_type": "stream",
     "text": [
      "100%|█████████████████████████████████████████████████████████████████████████████████████████████████████████████████████████████████████████████████████████████| 7308/7308 [00:36<00:00, 202.57it/s]\n"
     ]
    },
    {
     "name": "stdout",
     "output_type": "stream",
     "text": [
      "Loss: 407.51754889194854\n",
      "Average Loss: 0.0557632113973657\n",
      "############### Saving good model ###############################\n",
      "-----------------------------------------------------------------\n",
      "Epoch: 129; Bad epochs: 0\n"
     ]
    },
    {
     "name": "stderr",
     "output_type": "stream",
     "text": [
      "100%|█████████████████████████████████████████████████████████████████████████████████████████████████████████████████████████████████████████████████████████████| 7308/7308 [00:36<00:00, 201.51it/s]\n"
     ]
    },
    {
     "name": "stdout",
     "output_type": "stream",
     "text": [
      "Loss: 407.7113596063573\n",
      "Average Loss: 0.055789731746901654\n",
      "-----------------------------------------------------------------\n",
      "Epoch: 130; Bad epochs: 1\n"
     ]
    },
    {
     "name": "stderr",
     "output_type": "stream",
     "text": [
      "100%|█████████████████████████████████████████████████████████████████████████████████████████████████████████████████████████████████████████████████████████████| 7308/7308 [00:35<00:00, 207.61it/s]\n"
     ]
    },
    {
     "name": "stdout",
     "output_type": "stream",
     "text": [
      "Loss: 407.49171976791695\n",
      "Average Loss: 0.05575967703447139\n",
      "############### Saving good model ###############################\n",
      "-----------------------------------------------------------------\n",
      "Epoch: 131; Bad epochs: 0\n"
     ]
    },
    {
     "name": "stderr",
     "output_type": "stream",
     "text": [
      "100%|█████████████████████████████████████████████████████████████████████████████████████████████████████████████████████████████████████████████████████████████| 7308/7308 [00:36<00:00, 199.17it/s]\n"
     ]
    },
    {
     "name": "stdout",
     "output_type": "stream",
     "text": [
      "Loss: 407.4829782578163\n",
      "Average Loss: 0.05575848087819051\n",
      "############### Saving good model ###############################\n",
      "-----------------------------------------------------------------\n",
      "Epoch: 132; Bad epochs: 0\n"
     ]
    },
    {
     "name": "stderr",
     "output_type": "stream",
     "text": [
      "100%|█████████████████████████████████████████████████████████████████████████████████████████████████████████████████████████████████████████████████████████████| 7308/7308 [00:36<00:00, 202.90it/s]\n"
     ]
    },
    {
     "name": "stdout",
     "output_type": "stream",
     "text": [
      "Loss: 407.39221466029994\n",
      "Average Loss: 0.05574606111936233\n",
      "############### Saving good model ###############################\n",
      "-----------------------------------------------------------------\n",
      "Epoch: 133; Bad epochs: 0\n"
     ]
    },
    {
     "name": "stderr",
     "output_type": "stream",
     "text": [
      "100%|█████████████████████████████████████████████████████████████████████████████████████████████████████████████████████████████████████████████████████████████| 7308/7308 [00:36<00:00, 200.59it/s]\n"
     ]
    },
    {
     "name": "stdout",
     "output_type": "stream",
     "text": [
      "Loss: 407.4147870077286\n",
      "Average Loss: 0.05574914983685394\n",
      "-----------------------------------------------------------------\n",
      "Epoch: 134; Bad epochs: 1\n"
     ]
    },
    {
     "name": "stderr",
     "output_type": "stream",
     "text": [
      "100%|█████████████████████████████████████████████████████████████████████████████████████████████████████████████████████████████████████████████████████████████| 7308/7308 [00:36<00:00, 199.42it/s]\n"
     ]
    },
    {
     "name": "stdout",
     "output_type": "stream",
     "text": [
      "Loss: 407.28452831786126\n",
      "Average Loss: 0.05573132571399306\n",
      "############### Saving good model ###############################\n",
      "-----------------------------------------------------------------\n",
      "Epoch: 135; Bad epochs: 0\n"
     ]
    },
    {
     "name": "stderr",
     "output_type": "stream",
     "text": [
      "100%|█████████████████████████████████████████████████████████████████████████████████████████████████████████████████████████████████████████████████████████████| 7308/7308 [00:34<00:00, 210.57it/s]\n"
     ]
    },
    {
     "name": "stdout",
     "output_type": "stream",
     "text": [
      "Loss: 407.2666094242595\n",
      "Average Loss: 0.05572887375810886\n",
      "############### Saving good model ###############################\n",
      "-----------------------------------------------------------------\n",
      "Epoch: 136; Bad epochs: 0\n"
     ]
    },
    {
     "name": "stderr",
     "output_type": "stream",
     "text": [
      "100%|█████████████████████████████████████████████████████████████████████████████████████████████████████████████████████████████████████████████████████████████| 7308/7308 [00:36<00:00, 202.03it/s]\n"
     ]
    },
    {
     "name": "stdout",
     "output_type": "stream",
     "text": [
      "Loss: 407.2561011170037\n",
      "Average Loss: 0.05572743583976515\n",
      "############### Saving good model ###############################\n",
      "-----------------------------------------------------------------\n",
      "Epoch: 137; Bad epochs: 0\n"
     ]
    },
    {
     "name": "stderr",
     "output_type": "stream",
     "text": [
      "100%|█████████████████████████████████████████████████████████████████████████████████████████████████████████████████████████████████████████████████████████████| 7308/7308 [00:35<00:00, 206.34it/s]\n"
     ]
    },
    {
     "name": "stdout",
     "output_type": "stream",
     "text": [
      "Loss: 407.12313713040203\n",
      "Average Loss: 0.05570924153399043\n",
      "############### Saving good model ###############################\n",
      "-----------------------------------------------------------------\n",
      "Epoch: 138; Bad epochs: 0\n"
     ]
    },
    {
     "name": "stderr",
     "output_type": "stream",
     "text": [
      "100%|█████████████████████████████████████████████████████████████████████████████████████████████████████████████████████████████████████████████████████████████| 7308/7308 [00:35<00:00, 208.71it/s]\n"
     ]
    },
    {
     "name": "stdout",
     "output_type": "stream",
     "text": [
      "Loss: 407.173510695342\n",
      "Average Loss: 0.0557161344684376\n",
      "-----------------------------------------------------------------\n",
      "Epoch: 139; Bad epochs: 1\n"
     ]
    },
    {
     "name": "stderr",
     "output_type": "stream",
     "text": [
      "100%|█████████████████████████████████████████████████████████████████████████████████████████████████████████████████████████████████████████████████████████████| 7308/7308 [00:36<00:00, 198.98it/s]\n"
     ]
    },
    {
     "name": "stdout",
     "output_type": "stream",
     "text": [
      "Loss: 407.1166157994885\n",
      "Average Loss: 0.055708349178911945\n",
      "############### Saving good model ###############################\n",
      "-----------------------------------------------------------------\n",
      "Epoch: 140; Bad epochs: 0\n"
     ]
    },
    {
     "name": "stderr",
     "output_type": "stream",
     "text": [
      "100%|█████████████████████████████████████████████████████████████████████████████████████████████████████████████████████████████████████████████████████████████| 7308/7308 [00:38<00:00, 189.50it/s]\n"
     ]
    },
    {
     "name": "stdout",
     "output_type": "stream",
     "text": [
      "Loss: 407.18494209391065\n",
      "Average Loss: 0.05571769869922149\n",
      "-----------------------------------------------------------------\n",
      "Epoch: 141; Bad epochs: 1\n"
     ]
    },
    {
     "name": "stderr",
     "output_type": "stream",
     "text": [
      "100%|█████████████████████████████████████████████████████████████████████████████████████████████████████████████████████████████████████████████████████████████| 7308/7308 [00:36<00:00, 202.88it/s]\n"
     ]
    },
    {
     "name": "stdout",
     "output_type": "stream",
     "text": [
      "Loss: 407.01856151083484\n",
      "Average Loss: 0.05569493178856525\n",
      "############### Saving good model ###############################\n",
      "-----------------------------------------------------------------\n",
      "Epoch: 142; Bad epochs: 0\n"
     ]
    },
    {
     "name": "stderr",
     "output_type": "stream",
     "text": [
      "100%|█████████████████████████████████████████████████████████████████████████████████████████████████████████████████████████████████████████████████████████████| 7308/7308 [00:34<00:00, 211.07it/s]\n"
     ]
    },
    {
     "name": "stdout",
     "output_type": "stream",
     "text": [
      "Loss: 407.0086379533168\n",
      "Average Loss: 0.05569357388523766\n",
      "############### Saving good model ###############################\n",
      "-----------------------------------------------------------------\n",
      "Epoch: 143; Bad epochs: 0\n"
     ]
    },
    {
     "name": "stderr",
     "output_type": "stream",
     "text": [
      "100%|█████████████████████████████████████████████████████████████████████████████████████████████████████████████████████████████████████████████████████████████| 7308/7308 [00:35<00:00, 206.66it/s]\n"
     ]
    },
    {
     "name": "stdout",
     "output_type": "stream",
     "text": [
      "Loss: 407.04248934751377\n",
      "Average Loss: 0.05569820598624983\n",
      "-----------------------------------------------------------------\n",
      "Epoch: 144; Bad epochs: 1\n"
     ]
    },
    {
     "name": "stderr",
     "output_type": "stream",
     "text": [
      "100%|█████████████████████████████████████████████████████████████████████████████████████████████████████████████████████████████████████████████████████████████| 7308/7308 [00:34<00:00, 209.71it/s]\n"
     ]
    },
    {
     "name": "stdout",
     "output_type": "stream",
     "text": [
      "Loss: 406.8859092539642\n",
      "Average Loss: 0.055676780138747155\n",
      "############### Saving good model ###############################\n",
      "-----------------------------------------------------------------\n",
      "Epoch: 145; Bad epochs: 0\n"
     ]
    },
    {
     "name": "stderr",
     "output_type": "stream",
     "text": [
      "100%|█████████████████████████████████████████████████████████████████████████████████████████████████████████████████████████████████████████████████████████████| 7308/7308 [00:34<00:00, 209.55it/s]\n"
     ]
    },
    {
     "name": "stdout",
     "output_type": "stream",
     "text": [
      "Loss: 406.8462271876633\n",
      "Average Loss: 0.05567135018988278\n",
      "############### Saving good model ###############################\n",
      "-----------------------------------------------------------------\n",
      "Epoch: 146; Bad epochs: 0\n"
     ]
    },
    {
     "name": "stderr",
     "output_type": "stream",
     "text": [
      "100%|█████████████████████████████████████████████████████████████████████████████████████████████████████████████████████████████████████████████████████████████| 7308/7308 [00:35<00:00, 207.93it/s]\n"
     ]
    },
    {
     "name": "stdout",
     "output_type": "stream",
     "text": [
      "Loss: 406.8141442495398\n",
      "Average Loss: 0.055666960077933744\n",
      "############### Saving good model ###############################\n",
      "-----------------------------------------------------------------\n",
      "Epoch: 147; Bad epochs: 0\n"
     ]
    },
    {
     "name": "stderr",
     "output_type": "stream",
     "text": [
      "100%|█████████████████████████████████████████████████████████████████████████████████████████████████████████████████████████████████████████████████████████████| 7308/7308 [00:36<00:00, 201.77it/s]\n"
     ]
    },
    {
     "name": "stdout",
     "output_type": "stream",
     "text": [
      "Loss: 406.99280870798975\n",
      "Average Loss: 0.05569140786918305\n",
      "-----------------------------------------------------------------\n",
      "Epoch: 148; Bad epochs: 1\n"
     ]
    },
    {
     "name": "stderr",
     "output_type": "stream",
     "text": [
      "100%|█████████████████████████████████████████████████████████████████████████████████████████████████████████████████████████████████████████████████████████████| 7308/7308 [00:35<00:00, 206.26it/s]\n"
     ]
    },
    {
     "name": "stdout",
     "output_type": "stream",
     "text": [
      "Loss: 407.04349787556566\n",
      "Average Loss: 0.055698343989541\n",
      "-----------------------------------------------------------------\n",
      "Epoch: 149; Bad epochs: 2\n"
     ]
    },
    {
     "name": "stderr",
     "output_type": "stream",
     "text": [
      "100%|█████████████████████████████████████████████████████████████████████████████████████████████████████████████████████████████████████████████████████████████| 7308/7308 [00:35<00:00, 208.12it/s]\n"
     ]
    },
    {
     "name": "stdout",
     "output_type": "stream",
     "text": [
      "Loss: 406.89509572531097\n",
      "Average Loss: 0.05567803718189805\n",
      "-----------------------------------------------------------------\n",
      "Epoch: 150; Bad epochs: 3\n"
     ]
    },
    {
     "name": "stderr",
     "output_type": "stream",
     "text": [
      "100%|█████████████████████████████████████████████████████████████████████████████████████████████████████████████████████████████████████████████████████████████| 7308/7308 [00:34<00:00, 209.32it/s]\n"
     ]
    },
    {
     "name": "stdout",
     "output_type": "stream",
     "text": [
      "Loss: 406.88287943135947\n",
      "Average Loss: 0.055676365548899764\n",
      "-----------------------------------------------------------------\n",
      "Epoch: 151; Bad epochs: 4\n"
     ]
    },
    {
     "name": "stderr",
     "output_type": "stream",
     "text": [
      "100%|█████████████████████████████████████████████████████████████████████████████████████████████████████████████████████████████████████████████████████████████| 7308/7308 [00:37<00:00, 194.27it/s]\n"
     ]
    },
    {
     "name": "stdout",
     "output_type": "stream",
     "text": [
      "Loss: 406.89154279371724\n",
      "Average Loss: 0.055677551011729234\n",
      "-----------------------------------------------------------------\n",
      "Epoch: 152; Bad epochs: 5\n"
     ]
    },
    {
     "name": "stderr",
     "output_type": "stream",
     "text": [
      "100%|█████████████████████████████████████████████████████████████████████████████████████████████████████████████████████████████████████████████████████████████| 7308/7308 [00:36<00:00, 198.39it/s]\n"
     ]
    },
    {
     "name": "stdout",
     "output_type": "stream",
     "text": [
      "Loss: 407.092012059642\n",
      "Average Loss: 0.05570498249310919\n",
      "-----------------------------------------------------------------\n",
      "Epoch: 153; Bad epochs: 6\n"
     ]
    },
    {
     "name": "stderr",
     "output_type": "stream",
     "text": [
      "100%|█████████████████████████████████████████████████████████████████████████████████████████████████████████████████████████████████████████████████████████████| 7308/7308 [00:35<00:00, 208.67it/s]\n"
     ]
    },
    {
     "name": "stdout",
     "output_type": "stream",
     "text": [
      "Loss: 406.83087150915526\n",
      "Average Loss: 0.05566924897498019\n",
      "-----------------------------------------------------------------\n",
      "Epoch: 154; Bad epochs: 7\n"
     ]
    },
    {
     "name": "stderr",
     "output_type": "stream",
     "text": [
      "100%|█████████████████████████████████████████████████████████████████████████████████████████████████████████████████████████████████████████████████████████████| 7308/7308 [00:35<00:00, 207.09it/s]\n"
     ]
    },
    {
     "name": "stdout",
     "output_type": "stream",
     "text": [
      "Loss: 406.9109925166704\n",
      "Average Loss: 0.05568021244070476\n",
      "-----------------------------------------------------------------\n",
      "Epoch: 155; Bad epochs: 8\n"
     ]
    },
    {
     "name": "stderr",
     "output_type": "stream",
     "text": [
      "100%|█████████████████████████████████████████████████████████████████████████████████████████████████████████████████████████████████████████████████████████████| 7308/7308 [00:34<00:00, 210.89it/s]\n"
     ]
    },
    {
     "name": "stdout",
     "output_type": "stream",
     "text": [
      "Loss: 406.7290175559465\n",
      "Average Loss: 0.05565531165242837\n",
      "############### Saving good model ###############################\n",
      "-----------------------------------------------------------------\n",
      "Epoch: 156; Bad epochs: 0\n"
     ]
    },
    {
     "name": "stderr",
     "output_type": "stream",
     "text": [
      "100%|█████████████████████████████████████████████████████████████████████████████████████████████████████████████████████████████████████████████████████████████| 7308/7308 [00:35<00:00, 205.84it/s]\n"
     ]
    },
    {
     "name": "stdout",
     "output_type": "stream",
     "text": [
      "Loss: 406.8176951573696\n",
      "Average Loss: 0.055667445971178106\n",
      "-----------------------------------------------------------------\n",
      "Epoch: 157; Bad epochs: 1\n"
     ]
    },
    {
     "name": "stderr",
     "output_type": "stream",
     "text": [
      "100%|█████████████████████████████████████████████████████████████████████████████████████████████████████████████████████████████████████████████████████████████| 7308/7308 [00:35<00:00, 206.05it/s]\n"
     ]
    },
    {
     "name": "stdout",
     "output_type": "stream",
     "text": [
      "Loss: 406.75022388156503\n",
      "Average Loss: 0.055658213448490014\n",
      "-----------------------------------------------------------------\n",
      "Epoch: 158; Bad epochs: 2\n"
     ]
    },
    {
     "name": "stderr",
     "output_type": "stream",
     "text": [
      "100%|█████████████████████████████████████████████████████████████████████████████████████████████████████████████████████████████████████████████████████████████| 7308/7308 [00:35<00:00, 204.26it/s]\n"
     ]
    },
    {
     "name": "stdout",
     "output_type": "stream",
     "text": [
      "Loss: 406.6866938609164\n",
      "Average Loss: 0.055649520232747184\n",
      "############### Saving good model ###############################\n",
      "-----------------------------------------------------------------\n",
      "Epoch: 159; Bad epochs: 0\n"
     ]
    },
    {
     "name": "stderr",
     "output_type": "stream",
     "text": [
      "100%|█████████████████████████████████████████████████████████████████████████████████████████████████████████████████████████████████████████████████████████████| 7308/7308 [00:35<00:00, 203.83it/s]\n"
     ]
    },
    {
     "name": "stdout",
     "output_type": "stream",
     "text": [
      "Loss: 406.7237910006661\n",
      "Average Loss: 0.05565459646971348\n",
      "-----------------------------------------------------------------\n",
      "Epoch: 160; Bad epochs: 1\n"
     ]
    },
    {
     "name": "stderr",
     "output_type": "stream",
     "text": [
      "100%|█████████████████████████████████████████████████████████████████████████████████████████████████████████████████████████████████████████████████████████████| 7308/7308 [00:38<00:00, 190.78it/s]\n"
     ]
    },
    {
     "name": "stdout",
     "output_type": "stream",
     "text": [
      "Loss: 384.216310528107\n",
      "Average Loss: 0.05257475513520895\n",
      "############### Saving good model ###############################\n",
      "-----------------------------------------------------------------\n",
      "Epoch: 161; Bad epochs: 0\n"
     ]
    },
    {
     "name": "stderr",
     "output_type": "stream",
     "text": [
      "100%|█████████████████████████████████████████████████████████████████████████████████████████████████████████████████████████████████████████████████████████████| 7308/7308 [00:34<00:00, 212.27it/s]\n"
     ]
    },
    {
     "name": "stdout",
     "output_type": "stream",
     "text": [
      "Loss: 406.5795291408431\n",
      "Average Loss: 0.05563485620427519\n",
      "-----------------------------------------------------------------\n",
      "Epoch: 162; Bad epochs: 1\n"
     ]
    },
    {
     "name": "stderr",
     "output_type": "stream",
     "text": [
      "100%|█████████████████████████████████████████████████████████████████████████████████████████████████████████████████████████████████████████████████████████████| 7308/7308 [00:34<00:00, 212.39it/s]\n"
     ]
    },
    {
     "name": "stdout",
     "output_type": "stream",
     "text": [
      "Loss: 406.57580215111375\n",
      "Average Loss: 0.055634346216627495\n",
      "-----------------------------------------------------------------\n",
      "Epoch: 163; Bad epochs: 2\n"
     ]
    },
    {
     "name": "stderr",
     "output_type": "stream",
     "text": [
      "100%|█████████████████████████████████████████████████████████████████████████████████████████████████████████████████████████████████████████████████████████████| 7308/7308 [00:34<00:00, 210.19it/s]\n"
     ]
    },
    {
     "name": "stdout",
     "output_type": "stream",
     "text": [
      "Loss: 406.55843591084704\n",
      "Average Loss: 0.05563196988380501\n",
      "-----------------------------------------------------------------\n",
      "Epoch: 164; Bad epochs: 3\n"
     ]
    },
    {
     "name": "stderr",
     "output_type": "stream",
     "text": [
      "100%|█████████████████████████████████████████████████████████████████████████████████████████████████████████████████████████████████████████████████████████████| 7308/7308 [00:34<00:00, 210.50it/s]\n"
     ]
    },
    {
     "name": "stdout",
     "output_type": "stream",
     "text": [
      "Loss: 406.6087302020751\n",
      "Average Loss: 0.0556388519707273\n",
      "-----------------------------------------------------------------\n",
      "Epoch: 165; Bad epochs: 4\n"
     ]
    },
    {
     "name": "stderr",
     "output_type": "stream",
     "text": [
      "100%|█████████████████████████████████████████████████████████████████████████████████████████████████████████████████████████████████████████████████████████████| 7308/7308 [00:35<00:00, 205.32it/s]\n"
     ]
    },
    {
     "name": "stdout",
     "output_type": "stream",
     "text": [
      "Loss: 406.70559849683195\n",
      "Average Loss: 0.05565210707400547\n",
      "-----------------------------------------------------------------\n",
      "Epoch: 166; Bad epochs: 5\n"
     ]
    },
    {
     "name": "stderr",
     "output_type": "stream",
     "text": [
      "100%|█████████████████████████████████████████████████████████████████████████████████████████████████████████████████████████████████████████████████████████████| 7308/7308 [00:35<00:00, 207.06it/s]\n"
     ]
    },
    {
     "name": "stdout",
     "output_type": "stream",
     "text": [
      "Loss: 406.5556766791269\n",
      "Average Loss: 0.05563159232062492\n",
      "-----------------------------------------------------------------\n",
      "Epoch: 167; Bad epochs: 6\n"
     ]
    },
    {
     "name": "stderr",
     "output_type": "stream",
     "text": [
      "100%|█████████████████████████████████████████████████████████████████████████████████████████████████████████████████████████████████████████████████████████████| 7308/7308 [00:34<00:00, 211.60it/s]\n"
     ]
    },
    {
     "name": "stdout",
     "output_type": "stream",
     "text": [
      "Loss: 406.49748919857666\n",
      "Average Loss: 0.05562363015853539\n",
      "-----------------------------------------------------------------\n",
      "Epoch: 168; Bad epochs: 7\n"
     ]
    },
    {
     "name": "stderr",
     "output_type": "stream",
     "text": [
      "100%|█████████████████████████████████████████████████████████████████████████████████████████████████████████████████████████████████████████████████████████████| 7308/7308 [00:37<00:00, 195.47it/s]\n"
     ]
    },
    {
     "name": "stdout",
     "output_type": "stream",
     "text": [
      "Loss: 406.465305670863\n",
      "Average Loss: 0.055619226282274635\n",
      "-----------------------------------------------------------------\n",
      "Epoch: 169; Bad epochs: 8\n"
     ]
    },
    {
     "name": "stderr",
     "output_type": "stream",
     "text": [
      "100%|█████████████████████████████████████████████████████████████████████████████████████████████████████████████████████████████████████████████████████████████| 7308/7308 [00:35<00:00, 204.88it/s]\n"
     ]
    },
    {
     "name": "stdout",
     "output_type": "stream",
     "text": [
      "Loss: 406.45790246571414\n",
      "Average Loss: 0.05561821325475016\n",
      "-----------------------------------------------------------------\n",
      "Epoch: 170; Bad epochs: 9\n"
     ]
    },
    {
     "name": "stderr",
     "output_type": "stream",
     "text": [
      "100%|█████████████████████████████████████████████████████████████████████████████████████████████████████████████████████████████████████████████████████████████| 7308/7308 [00:36<00:00, 199.46it/s]"
     ]
    },
    {
     "name": "stdout",
     "output_type": "stream",
     "text": [
      "Loss: 406.57265255367383\n",
      "Average Loss: 0.05563391523722959\n",
      "Done, best loss: 384.216310528107\n",
      "Done\n"
     ]
    },
    {
     "name": "stderr",
     "output_type": "stream",
     "text": [
      "\n"
     ]
    },
    {
     "data": {
      "text/plain": [
       "<All keys matched successfully>"
      ]
     },
     "execution_count": 139,
     "metadata": {},
     "output_type": "execute_result"
    }
   ],
   "source": [
    "loss_list=[]\n",
    "avg_loss_list=[]\n",
    "\n",
    "counter = 0\n",
    "\n",
    "# Best loss\n",
    "best = 1e16\n",
    "num_bad_epochs = 0\n",
    "patience = 10\n",
    "\n",
    "for epoch in range(1000):\n",
    "    print(\"-----------------------------------------------------------------\")\n",
    "    print(\"Epoch: {}; Bad epochs: {}\".format(epoch, num_bad_epochs))\n",
    "    net.train()\n",
    "    running_loss = 0.\n",
    "\n",
    "    for i, X_batch in enumerate(tqdm(trainloader), 0):\n",
    "        optimizer.zero_grad()\n",
    "        X_pred, theta, phi, mu_cart_pred, lambda_par_pred, lambda_iso_pred, volume_0_pred, volume_1_pred = net(X_batch)\n",
    "        if i == 100 and counter == 10:\n",
    "            print(\"X_batch: \")\n",
    "            print(X_batch.shape)\n",
    "            print(X_batch)\n",
    "            print(\"X_pred: \")\n",
    "            print(X_pred.shape)\n",
    "            print(X_pred)\n",
    "        loss = criterion(X_pred.type(torch.FloatTensor), X_batch.type(torch.FloatTensor))\n",
    "        loss.backward()\n",
    "        optimizer.step()\n",
    "        running_loss += loss.item()\n",
    "        \n",
    "    loss_list.append(running_loss)\n",
    "    avg_loss_list.append(running_loss/num_batches)\n",
    "    print(\"Loss: {}\".format(running_loss))\n",
    "    print(\"Average Loss: {}\".format(running_loss/num_batches))\n",
    "    \n",
    "\n",
    "    if running_loss < best:\n",
    "        print(\"############### Saving good model ###############################\")\n",
    "        final_model = net.state_dict()\n",
    "        best = running_loss\n",
    "        num_bad_epochs = 0\n",
    "    else:\n",
    "        num_bad_epochs = num_bad_epochs + 1\n",
    "        if num_bad_epochs == patience:\n",
    "            print(\"Done, best loss: {}\".format(best))\n",
    "            break\n",
    "    counter += 1\n",
    "\n",
    "print(\"Done\") \n",
    "net.load_state_dict(final_model)"
   ]
  },
  {
   "cell_type": "code",
   "execution_count": 125,
   "id": "5d050e2b-76e2-4b2d-97ea-989d1c140c2e",
   "metadata": {},
   "outputs": [
    {
     "data": {
      "image/png": "[encoded data removed]",
      "text/plain": [
       "<Figure size 640x480 with 1 Axes>"
      ]
     },
     "metadata": {},
     "output_type": "display_data"
    }
   ],
   "source": [
    "epoch_arr = np.arange(0, len(avg_loss_list))\n",
    "loss_arr = np.array(avg_loss_list)\n",
    "plt.plot(avg_loss_list)\n",
    "plt.xlabel(\"Epochs\")\n",
    "plt.ylabel(\"Average Runing Loss per batch\")\n",
    "plt.show()"
   ]
  },
  {
   "cell_type": "code",
   "execution_count": 126,
   "id": "4a3949da-83b9-444d-85ca-2d74a8494d95",
   "metadata": {},
   "outputs": [],
   "source": [
    "torch.save(final_model, 'model_100206_13g_01.pt')"
   ]
  },
  {
   "cell_type": "code",
   "execution_count": null,
   "id": "52f9c8ca-a416-4c4d-baec-2eb8104a29ea",
   "metadata": {},
   "outputs": [],
   "source": []
  }
 ],
 "metadata": {
  "kernelspec": {
   "display_name": "Python 3 (ipykernel)",
   "language": "python",
   "name": "python3"
  },
  "language_info": {
   "codemirror_mode": {
    "name": "ipython",
    "version": 3
   },
   "file_extension": ".py",
   "mimetype": "text/x-python",
   "name": "python",
   "nbconvert_exporter": "python",
   "pygments_lexer": "ipython3",
   "version": "3.10.8"
  }
 },
 "nbformat": 4,
 "nbformat_minor": 5
}
