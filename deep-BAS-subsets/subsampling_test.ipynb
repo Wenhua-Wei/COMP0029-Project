{
 "cells": [
  {
   "cell_type": "code",
   "execution_count": 1,
   "id": "e91934e6-5055-4ec5-a1cb-a511c3ea8b72",
   "metadata": {},
   "outputs": [],
   "source": [
    "import numpy as np\n",
    "\n",
    "from dmipy.core.acquisition_scheme import acquisition_scheme_from_bvalues\n",
    "from dmipy.signal_models import cylinder_models, gaussian_models\n",
    "from dmipy.core.modeling_framework import MultiCompartmentModel\n",
    "\n",
    "import matplotlib.pyplot as plt\n",
    "\n",
    "import config\n",
    "import torch\n",
    "import torch.nn as nn\n",
    "import torch.optim as optim\n",
    "import torch.utils.data as utils\n",
    "from tqdm import tqdm\n",
    "\n",
    "import process_data"
   ]
  },
  {
   "cell_type": "code",
   "execution_count": 2,
   "id": "3021c201-97c6-4596-9af3-b0f09e9023b0",
   "metadata": {},
   "outputs": [],
   "source": [
    "normalized_scan_100307_full = np.load(config.test_norm_data)"
   ]
  },
  {
   "cell_type": "code",
   "execution_count": 6,
   "id": "a6107f6e-b8c9-42d3-9ce1-189a420e9284",
   "metadata": {},
   "outputs": [],
   "source": [
    "bvals_all_100307 = np.loadtxt(config.data_folder2 + '/100307/bvals')"
   ]
  },
  {
   "cell_type": "code",
   "execution_count": 134,
   "id": "83036b60-8bb2-418e-b2a3-ed6bb1a89305",
   "metadata": {},
   "outputs": [
    {
     "name": "stdout",
     "output_type": "stream",
     "text": [
      "\n"
     ]
    }
   ],
   "source": [
    "rand_sub_bval_indice_100307 = np.array(process_data.get_rand_selected_bval_indice(bvals_all_100307, 7))"
   ]
  },
  {
   "cell_type": "code",
   "execution_count": 135,
   "id": "d2d50b33-1d31-411d-aa52-f311778ea57a",
   "metadata": {},
   "outputs": [
    {
     "data": {
      "text/plain": [
       "111"
      ]
     },
     "execution_count": 135,
     "metadata": {},
     "output_type": "execute_result"
    }
   ],
   "source": [
    "len(rand_sub_bval_indice_100307)"
   ]
  },
  {
   "cell_type": "code",
   "execution_count": 136,
   "id": "5b859333-de84-43e5-97e0-7a597c0375c2",
   "metadata": {},
   "outputs": [],
   "source": [
    "bvals_100307_sub = bvals_all_100307[rand_sub_bval_indice_100307]*1e-3"
   ]
  },
  {
   "cell_type": "code",
   "execution_count": 137,
   "id": "ac7fc398-fc01-451b-b787-1cd172428621",
   "metadata": {},
   "outputs": [],
   "source": [
    "normalized_scan_100307_sub = normalized_scan_100307_full[:, rand_sub_bval_indice_100307]"
   ]
  },
  {
   "cell_type": "code",
   "execution_count": 138,
   "id": "e8c2ed95-940a-4e31-86d1-fa8a272beb9d",
   "metadata": {},
   "outputs": [],
   "source": [
    "big_b_indice_100307_sub = np.where(bvals_100307_sub != 0.005)[0]"
   ]
  },
  {
   "cell_type": "code",
   "execution_count": 139,
   "id": "9a07a722-7fef-4ce8-aaef-dcaca49e4425",
   "metadata": {},
   "outputs": [],
   "source": [
    "bvals_100307_sub_no_b5 = bvals_100307_sub[big_b_indice_100307_sub]"
   ]
  },
  {
   "cell_type": "code",
   "execution_count": 140,
   "id": "8209f08a-6dd1-4a83-bf0c-c08f278ad4ee",
   "metadata": {},
   "outputs": [],
   "source": [
    "normalized_scan_100307_sub_no_b5 = normalized_scan_100307_sub[:, big_b_indice_100307_sub]"
   ]
  },
  {
   "cell_type": "code",
   "execution_count": 141,
   "id": "4d112261-4e1c-41bd-b560-2af8c9d8623d",
   "metadata": {},
   "outputs": [
    {
     "data": {
      "text/plain": [
       "[<matplotlib.lines.Line2D at 0x1cc3340a0>]"
      ]
     },
     "execution_count": 141,
     "metadata": {},
     "output_type": "execute_result"
    },
    {
     "data": {
      "image/png": "[encoded data removed]",
      "text/plain": [
       "<Figure size 640x480 with 1 Axes>"
      ]
     },
     "metadata": {},
     "output_type": "display_data"
    }
   ],
   "source": [
    "plt.plot(bvals_100307_sub_no_b5, normalized_scan_100307_sub_no_b5[42,:], \"o\", markersize = 1)"
   ]
  },
  {
   "cell_type": "code",
   "execution_count": null,
   "id": "7b453e0a-647f-4414-ada6-709239174e12",
   "metadata": {},
   "outputs": [],
   "source": []
  },
  {
   "cell_type": "code",
   "execution_count": 31,
   "id": "5e4c05f1-381c-4018-8e8e-a67259483010",
   "metadata": {},
   "outputs": [],
   "source": [
    "big_b_indices_100307 = np.where(bvals_all_100307 != 5.)[0]"
   ]
  },
  {
   "cell_type": "code",
   "execution_count": 33,
   "id": "d7319ca5-3b63-407b-9e23-96951c0dad3b",
   "metadata": {},
   "outputs": [],
   "source": [
    "bvals_100307 = bvals_all_100307[big_b_indices_100307]*1e-3"
   ]
  },
  {
   "cell_type": "code",
   "execution_count": 40,
   "id": "8957eb7f-3472-4043-a99b-90d0bb49ab70",
   "metadata": {},
   "outputs": [],
   "source": [
    "normalized_scan_100307_full_no_b5 = normalized_scan_100307_full[:, big_b_indices_100307]"
   ]
  },
  {
   "cell_type": "code",
   "execution_count": 42,
   "id": "4dd8a280-6522-43a9-942d-38b98f4d8b65",
   "metadata": {},
   "outputs": [
    {
     "data": {
      "text/plain": [
       "(740145, 270)"
      ]
     },
     "execution_count": 42,
     "metadata": {},
     "output_type": "execute_result"
    }
   ],
   "source": [
    "normalized_scan_100307_full_no_b5.shape"
   ]
  },
  {
   "cell_type": "code",
   "execution_count": null,
   "id": "91966abf-eccd-4acd-b881-43baf991cf1b",
   "metadata": {},
   "outputs": [],
   "source": []
  },
  {
   "cell_type": "code",
   "execution_count": 15,
   "id": "a68084b2-d922-4c25-a381-09cb0e503703",
   "metadata": {},
   "outputs": [],
   "source": [
    "def squash(param, p_min, p_max):\n",
    "    squashed_param_tensor =torch.clamp(param, min=p_min, max=p_max)\n",
    "    unsqueezed_param = squashed_param_tensor.unsqueeze(1)\n",
    "    return unsqueezed_param"
   ]
  },
  {
   "cell_type": "code",
   "execution_count": 16,
   "id": "9ceeb198-236d-41e6-b10b-7ee593ef0c9f",
   "metadata": {},
   "outputs": [],
   "source": [
    "def unitsphere2cart(theta, phi, X):\n",
    "    mu_cart = torch.zeros(3,X.size()[0])\n",
    "    sintheta = torch.sin(theta)\n",
    "    mu_cart[0,:] = torch.squeeze(sintheta * torch.cos(phi))\n",
    "    mu_cart[1,:] = torch.squeeze(sintheta * torch.sin(phi))\n",
    "    mu_cart[2,:] = torch.squeeze(torch.cos(theta))\n",
    "    return mu_cart"
   ]
  },
  {
   "cell_type": "code",
   "execution_count": 17,
   "id": "9c8c0111-1a35-4742-92db-50cc89dbc6ca",
   "metadata": {},
   "outputs": [],
   "source": [
    "class BallStickNet(nn.Module):\n",
    "    \n",
    "    def __init__(self, gradient_directions, b_values):\n",
    "        super(BallStickNet, self).__init__()\n",
    "        self.gradient_directions = gradient_directions\n",
    "        self.b_values = b_values\n",
    "        self.fc_layers = nn.ModuleList()\n",
    "        for i in range(3): \n",
    "            self.fc_layers.extend([nn.Linear(len(b_values), len(b_values)), nn.ELU()])\n",
    "        self.encoder = nn.Sequential(*self.fc_layers, nn.Linear(len(b_values), 5))\n",
    "        # if args.dropout != 0:\n",
    "        #     self.dropout = nn.Dropout(args.dropout)\n",
    "            \n",
    "    def forward(self, X):\n",
    "        # if args.dropout != 0:\n",
    "        #     X = self.dropout(X)\n",
    "        params = torch.abs(self.encoder(X))\n",
    "        theta_uns = params[:, 0]\n",
    "        theta = theta_uns.unsqueeze(1)\n",
    "        phi_uns = params[:, 1]\n",
    "        phi = phi_uns.unsqueeze(1)\n",
    "        mu_cart = unitsphere2cart(theta, phi, X)\n",
    "        mm_prod =  torch.einsum(\"ij,jk->ki\",self.gradient_directions, mu_cart)\n",
    "        lambda_par_uns = params[:, 2]\n",
    "        lambda_par = squash(lambda_par_uns, 0.1, 3.0)\n",
    "        lambda_iso_uns = params[:, 3]\n",
    "        lambda_iso = squash(lambda_iso_uns, 0.1, 3.0)\n",
    "        volume_0_uns = params[:, 4]\n",
    "        volume_0 = squash(volume_0_uns, 0.01, 0.99)\n",
    "        volume_1 = 1-volume_0\n",
    "        X = volume_0 * torch.exp(-self.b_values * lambda_par * mm_prod ** 2) + volume_1 * torch.exp(-self.b_values * lambda_iso)\n",
    "        return X, theta, phi, mu_cart, lambda_par, lambda_iso, volume_0, volume_1"
   ]
  },
  {
   "cell_type": "code",
   "execution_count": 145,
   "id": "96dd04b1-74eb-4b73-a540-771eeebca00a",
   "metadata": {},
   "outputs": [
    {
     "name": "stdout",
     "output_type": "stream",
     "text": [
      "(104, 3)\n"
     ]
    }
   ],
   "source": [
    "n_100307_all = np.loadtxt(config.data_folder2 + '/100307/bvecs')\n",
    "n_100307_sub = n_100307_all[:, rand_sub_bval_indice_100307]\n",
    "n_100307_sub_no_b5 = n_100307_sub[:,big_b_indice_100307_sub].T\n",
    "print(n_100307_sub_no_b5.shape)\n",
    "\n",
    "b_values_100307_sub_no_b5 = torch.FloatTensor(bvals_100307_sub_no_b5)\n",
    "gradient_directions_100307_sub_no_b5 = torch.FloatTensor(n_100307_sub_no_b5)"
   ]
  },
  {
   "cell_type": "code",
   "execution_count": 146,
   "id": "314931e7-c3c1-4585-8a75-55b28f39c82b",
   "metadata": {},
   "outputs": [
    {
     "data": {
      "text/plain": [
       "BallStickNet(\n",
       "  (fc_layers): ModuleList(\n",
       "    (0): Linear(in_features=104, out_features=104, bias=True)\n",
       "    (1): ELU(alpha=1.0)\n",
       "    (2): Linear(in_features=104, out_features=104, bias=True)\n",
       "    (3): ELU(alpha=1.0)\n",
       "    (4): Linear(in_features=104, out_features=104, bias=True)\n",
       "    (5): ELU(alpha=1.0)\n",
       "  )\n",
       "  (encoder): Sequential(\n",
       "    (0): Linear(in_features=104, out_features=104, bias=True)\n",
       "    (1): ELU(alpha=1.0)\n",
       "    (2): Linear(in_features=104, out_features=104, bias=True)\n",
       "    (3): ELU(alpha=1.0)\n",
       "    (4): Linear(in_features=104, out_features=104, bias=True)\n",
       "    (5): ELU(alpha=1.0)\n",
       "    (6): Linear(in_features=104, out_features=5, bias=True)\n",
       "  )\n",
       ")"
      ]
     },
     "execution_count": 146,
     "metadata": {},
     "output_type": "execute_result"
    }
   ],
   "source": [
    "net_100307 = BallStickNet(gradient_directions_100307_sub_no_b5 , b_values_100307_sub_no_b5)\n",
    "net_100307.load_state_dict(torch.load(\"/Users/weiwenhua/UGY4/COMP0029/COMP0029-Project/deep-BAS-subsets/model_100206_7g_02.pt\"))\n",
    "net_100307.eval()"
   ]
  },
  {
   "cell_type": "code",
   "execution_count": 147,
   "id": "852fc680-11f2-4263-aa46-7c6a42fa148d",
   "metadata": {},
   "outputs": [],
   "source": [
    "X_100307_pred, theta_100307_pred, phi_100307_pred, mu_cart_100307_pred, lambda_par_100307_pred, lambda_iso_100307_pred,  volume_0_100307_pred, volume_1_100307_pred = net_100307(torch.from_numpy(normalized_scan_100307_sub_no_b5.astype(np.float32)))"
   ]
  },
  {
   "cell_type": "code",
   "execution_count": 148,
   "id": "a23274ce-0ccc-4f1c-98fb-c33e1fd5adf1",
   "metadata": {},
   "outputs": [
    {
     "data": {
      "text/plain": [
       "torch.Size([740145, 1])"
      ]
     },
     "execution_count": 148,
     "metadata": {},
     "output_type": "execute_result"
    }
   ],
   "source": [
    "lambda_par_100307_pred.shape"
   ]
  },
  {
   "cell_type": "code",
   "execution_count": 149,
   "id": "b950b056-c518-4e87-ae0e-f7c521348603",
   "metadata": {},
   "outputs": [
    {
     "data": {
      "text/plain": [
       "torch.Size([740145, 104])"
      ]
     },
     "execution_count": 149,
     "metadata": {},
     "output_type": "execute_result"
    }
   ],
   "source": [
    "X_100307_pred.shape"
   ]
  },
  {
   "cell_type": "code",
   "execution_count": null,
   "id": "e6273e61-8796-4c03-911a-5b21db1f5694",
   "metadata": {},
   "outputs": [],
   "source": []
  },
  {
   "cell_type": "code",
   "execution_count": 36,
   "id": "33858d14-9885-4251-ae9a-4088ddcaa18c",
   "metadata": {},
   "outputs": [
    {
     "name": "stdout",
     "output_type": "stream",
     "text": [
      "(270, 3)\n"
     ]
    }
   ],
   "source": [
    "n_100307 = n_100307_all[:,big_b_indices_100307].T\n",
    "print(n_100307.shape)"
   ]
  },
  {
   "cell_type": "code",
   "execution_count": 37,
   "id": "23dbf467-d9ec-47ff-80e7-c45166c3f9a1",
   "metadata": {},
   "outputs": [],
   "source": [
    "b_values_100307 = torch.FloatTensor(bvals_100307)\n",
    "gradient_directions_100307 = torch.FloatTensor(n_100307)"
   ]
  },
  {
   "cell_type": "code",
   "execution_count": 38,
   "id": "e480c841-9bf3-4b04-91c8-0f126922d9df",
   "metadata": {},
   "outputs": [
    {
     "data": {
      "text/plain": [
       "BallStickNet(\n",
       "  (fc_layers): ModuleList(\n",
       "    (0): Linear(in_features=270, out_features=270, bias=True)\n",
       "    (1): ELU(alpha=1.0)\n",
       "    (2): Linear(in_features=270, out_features=270, bias=True)\n",
       "    (3): ELU(alpha=1.0)\n",
       "    (4): Linear(in_features=270, out_features=270, bias=True)\n",
       "    (5): ELU(alpha=1.0)\n",
       "  )\n",
       "  (encoder): Sequential(\n",
       "    (0): Linear(in_features=270, out_features=270, bias=True)\n",
       "    (1): ELU(alpha=1.0)\n",
       "    (2): Linear(in_features=270, out_features=270, bias=True)\n",
       "    (3): ELU(alpha=1.0)\n",
       "    (4): Linear(in_features=270, out_features=270, bias=True)\n",
       "    (5): ELU(alpha=1.0)\n",
       "    (6): Linear(in_features=270, out_features=5, bias=True)\n",
       "  )\n",
       ")"
      ]
     },
     "execution_count": 38,
     "metadata": {},
     "output_type": "execute_result"
    }
   ],
   "source": [
    "net_100307_golden_std = BallStickNet(gradient_directions_100307, b_values_100307)\n",
    "net_100307_golden_std.load_state_dict(torch.load(\"/Users/weiwenhua/UGY4/COMP0029/COMP0029-Project/deep-ball-stick/model_100206_norm_01_Feb_182e.pt\"))\n",
    "net_100307_golden_std.eval()"
   ]
  },
  {
   "cell_type": "code",
   "execution_count": 43,
   "id": "4afb67af-7ee3-4ded-994c-0a8f81f1a5b7",
   "metadata": {},
   "outputs": [],
   "source": [
    "X_100307_pred_golden_std,theta_100307_pred_golden_std, phi_100307_pred_golden_std, mu_cart_100307_pred_golden_std, lambda_par_100307_pred_golden_std, lambda_iso_100307_pred_golden_stdn,  volume_0_100307_pred_golden_std, volume_1_100307_pred_golden_std = net_100307_golden_std(torch.from_numpy(normalized_scan_100307_full_no_b5.astype(np.float32)))"
   ]
  },
  {
   "cell_type": "code",
   "execution_count": 44,
   "id": "e85b126b-9e4e-4bf5-a323-918c445c67cc",
   "metadata": {},
   "outputs": [
    {
     "data": {
      "text/plain": [
       "torch.Size([740145, 1])"
      ]
     },
     "execution_count": 44,
     "metadata": {},
     "output_type": "execute_result"
    }
   ],
   "source": [
    "lambda_par_100307_pred_golden_std.shape"
   ]
  },
  {
   "cell_type": "code",
   "execution_count": 47,
   "id": "4446223b-2bf1-4b70-8842-b3940a4a29b6",
   "metadata": {},
   "outputs": [
    {
     "data": {
      "text/plain": [
       "torch.Tensor"
      ]
     },
     "execution_count": 47,
     "metadata": {},
     "output_type": "execute_result"
    }
   ],
   "source": [
    "type(X_100307_pred_golden_std)"
   ]
  },
  {
   "cell_type": "code",
   "execution_count": 49,
   "id": "4be37eb7-b6ae-4774-96ad-144ac8f78095",
   "metadata": {},
   "outputs": [],
   "source": [
    "mse_loss = torch.nn.MSELoss(reduction='mean')"
   ]
  },
  {
   "cell_type": "code",
   "execution_count": 55,
   "id": "e2a1df9c-8740-4542-b6af-17825186d03a",
   "metadata": {},
   "outputs": [
    {
     "name": "stdout",
     "output_type": "stream",
     "text": [
      "tensor(0.1010, grad_fn=<MseLossBackward0>)\n"
     ]
    }
   ],
   "source": [
    "mse_9g_1 = mse_loss(lambda_par_100307_pred_golden_std,lambda_par_100307_pred)\n",
    "print(mse_9g_1)"
   ]
  },
  {
   "cell_type": "code",
   "execution_count": 64,
   "id": "32445097-3909-4c4a-89fa-149cb1815651",
   "metadata": {},
   "outputs": [
    {
     "name": "stdout",
     "output_type": "stream",
     "text": [
      "tensor(0.1019, grad_fn=<MseLossBackward0>)\n"
     ]
    }
   ],
   "source": [
    "mse_9g_2 = mse_loss(lambda_par_100307_pred_golden_std,lambda_par_100307_pred)\n",
    "print(mse_9g_2)"
   ]
  },
  {
   "cell_type": "code",
   "execution_count": 95,
   "id": "a40c7277-ca22-4365-ad56-f2b8ddcaef81",
   "metadata": {},
   "outputs": [
    {
     "name": "stdout",
     "output_type": "stream",
     "text": [
      "tensor(0.1048, grad_fn=<MseLossBackward0>)\n"
     ]
    }
   ],
   "source": [
    "mse_9g_3 = mse_loss(lambda_par_100307_pred_golden_std,lambda_par_100307_pred)\n",
    "print(mse_9g_3)"
   ]
  },
  {
   "cell_type": "code",
   "execution_count": 122,
   "id": "2d3a6fea-a182-4c5d-8973-d5199d6700d9",
   "metadata": {},
   "outputs": [
    {
     "name": "stdout",
     "output_type": "stream",
     "text": [
      "tensor(0.0978, grad_fn=<MseLossBackward0>)\n"
     ]
    }
   ],
   "source": [
    "mse_9g_4 = mse_loss(lambda_par_100307_pred_golden_std,lambda_par_100307_pred)\n",
    "print(mse_9g_4)"
   ]
  },
  {
   "cell_type": "code",
   "execution_count": 131,
   "id": "bc341bf3-0f9e-4b78-a50c-f67796940a84",
   "metadata": {},
   "outputs": [
    {
     "name": "stdout",
     "output_type": "stream",
     "text": [
      "tensor(0.1033, grad_fn=<MseLossBackward0>)\n"
     ]
    }
   ],
   "source": [
    "mse_9g_5 = mse_loss(lambda_par_100307_pred_golden_std,lambda_par_100307_pred)\n",
    "print(mse_9g_5)"
   ]
  },
  {
   "cell_type": "code",
   "execution_count": null,
   "id": "4ab299df-5630-4e9a-85a6-d097b923d9d6",
   "metadata": {},
   "outputs": [],
   "source": []
  },
  {
   "cell_type": "code",
   "execution_count": 150,
   "id": "e3de6cfa-aace-49dd-a3c9-fbf05553e6b6",
   "metadata": {},
   "outputs": [
    {
     "name": "stdout",
     "output_type": "stream",
     "text": [
      "tensor(0.1010, grad_fn=<MseLossBackward0>)\n"
     ]
    }
   ],
   "source": [
    "mse_7g_1 = mse_loss(lambda_par_100307_pred_golden_std,lambda_par_100307_pred)\n",
    "print(mse_9g_1)"
   ]
  },
  {
   "cell_type": "code",
   "execution_count": null,
   "id": "561a4f87-300c-46df-b5ea-704121407769",
   "metadata": {},
   "outputs": [],
   "source": []
  }
 ],
 "metadata": {
  "kernelspec": {
   "display_name": "Python 3 (ipykernel)",
   "language": "python",
   "name": "python3"
  },
  "language_info": {
   "codemirror_mode": {
    "name": "ipython",
    "version": 3
   },
   "file_extension": ".py",
   "mimetype": "text/x-python",
   "name": "python",
   "nbconvert_exporter": "python",
   "pygments_lexer": "ipython3",
   "version": "3.10.8"
  }
 },
 "nbformat": 4,
 "nbformat_minor": 5
}
