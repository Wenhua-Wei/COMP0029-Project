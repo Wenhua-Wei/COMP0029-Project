{
 "cells": [
  {
   "cell_type": "code",
   "execution_count": 1,
   "id": "b52efadc-434a-4ad0-a08f-beb35ba84a2c",
   "metadata": {},
   "outputs": [],
   "source": [
    "import numpy as np\n",
    "\n",
    "import matplotlib.pyplot as plt\n",
    "\n",
    "import torch\n",
    "import torch.nn as nn\n",
    "import torch.optim as optim\n",
    "import torch.utils.data as utils\n",
    "from torch.optim.lr_scheduler import ReduceLROnPlateau\n",
    "from tqdm import tqdm\n",
    "\n",
    "import process_data\n",
    "import network\n",
    "import config"
   ]
  },
  {
   "cell_type": "code",
   "execution_count": 2,
   "id": "f25ec28b-6c7d-4f6e-bef3-a1e6867106cd",
   "metadata": {},
   "outputs": [],
   "source": [
    "normalized_scan_100206_full = np.load(config.norm_data_path + '/normalized_scan_100206_full.npy')\n",
    "\n",
    "normalized_scan_val_set_full = np.load('normalized_scan_100610_full.npy')"
   ]
  },
  {
   "cell_type": "code",
   "execution_count": 3,
   "id": "59490c30-1819-491c-8887-94332f2eacbd",
   "metadata": {},
   "outputs": [],
   "source": [
    "bvals_all_100206 = np.loadtxt(config.data_folder2 + '/100206/bvals') * 1e-3\n",
    "bvals_all_val_set = np.loadtxt(config.data_folder2 + '/100610/bvals') * 1e-3"
   ]
  },
  {
   "cell_type": "code",
   "execution_count": 4,
   "id": "52a205a3-ed25-4cbb-be87-df4098884128",
   "metadata": {},
   "outputs": [],
   "source": [
    "big_b_indices_100206 = np.where(bvals_all_100206 != 0.005)[0]\n",
    "big_b_indices_val_set = np.where(bvals_all_val_set != 0.005)[0]"
   ]
  },
  {
   "cell_type": "code",
   "execution_count": 5,
   "id": "79ce7546-cecd-4565-9372-7f973440b7fd",
   "metadata": {},
   "outputs": [],
   "source": [
    "bvals_100206 = bvals_all_100206[big_b_indices_100206]\n",
    "bvals_val_set = bvals_all_100206[big_b_indices_val_set]"
   ]
  },
  {
   "cell_type": "code",
   "execution_count": 6,
   "id": "2d6ac2bd-110c-4022-8c10-259202eeeac2",
   "metadata": {},
   "outputs": [],
   "source": [
    "normalized_scan_100206_no_b5 = normalized_scan_100206_full[:, big_b_indices_100206]\n",
    "normalized_scan_val_set_no_b5 = normalized_scan_val_set_full[:, big_b_indices_val_set]"
   ]
  },
  {
   "cell_type": "code",
   "execution_count": 7,
   "id": "5cc97662-331e-4e2e-969c-8afd5d071322",
   "metadata": {},
   "outputs": [
    {
     "data": {
      "text/plain": [
       "[<matplotlib.lines.Line2D at 0x183ecb9a0>]"
      ]
     },
     "execution_count": 7,
     "metadata": {},
     "output_type": "execute_result"
    },
    {
     "data": {
      "image/png": "[encoded data removed]",
      "text/plain": [
       "<Figure size 640x480 with 1 Axes>"
      ]
     },
     "metadata": {},
     "output_type": "display_data"
    }
   ],
   "source": [
    "plt.plot(bvals_100206, normalized_scan_100206_no_b5[42,:], \"o\", markersize = 1)\n",
    "plt.plot(bvals_val_set, normalized_scan_val_set_no_b5[42,:], \"o\", markersize = 1)"
   ]
  },
  {
   "cell_type": "code",
   "execution_count": 8,
   "id": "33a76939-f823-4fb1-bdc3-d362e97665e8",
   "metadata": {},
   "outputs": [],
   "source": [
    "n_100206_all = np.loadtxt(config.data_folder2 + '/100206/bvecs')\n",
    "\n",
    "n_val_set_all = np.loadtxt(config.data_folder2 + '/100610/bvecs')"
   ]
  },
  {
   "cell_type": "code",
   "execution_count": 9,
   "id": "5cea21f4-0307-4fff-a0e6-916742652eaf",
   "metadata": {},
   "outputs": [
    {
     "name": "stdout",
     "output_type": "stream",
     "text": [
      "(270, 3)\n",
      "(270, 3)\n"
     ]
    }
   ],
   "source": [
    "n_100206 = n_100206_all[:,big_b_indices_100206].T\n",
    "print(n_100206.shape)\n",
    "\n",
    "b_values_100206 = torch.FloatTensor(bvals_100206)\n",
    "gradient_directions_100206 = torch.FloatTensor(n_100206)\n",
    "\n",
    "n_val_set = n_val_set_all[:,big_b_indices_val_set].T\n",
    "print(n_val_set.shape)\n",
    "\n",
    "b_values_val_set = torch.FloatTensor(bvals_val_set)\n",
    "gradient_directions_val_set = torch.FloatTensor(n_val_set)"
   ]
  },
  {
   "cell_type": "code",
   "execution_count": 10,
   "id": "3bb36450-0595-4add-926d-76b05a0a0d1e",
   "metadata": {},
   "outputs": [],
   "source": [
    "batch_size = 128\n",
    "num_batches = len(normalized_scan_100206_no_b5) // batch_size\n",
    "trainloader = utils.DataLoader(torch.from_numpy(normalized_scan_100206_no_b5.astype(np.float32)),\n",
    "                            batch_size = batch_size, \n",
    "                            shuffle = True,\n",
    "                            num_workers = 2,\n",
    "                            drop_last = True)"
   ]
  },
  {
   "cell_type": "code",
   "execution_count": 11,
   "id": "f984fe02-47c9-472a-9ad0-f132e52d3e86",
   "metadata": {},
   "outputs": [
    {
     "name": "stdout",
     "output_type": "stream",
     "text": [
      "torch.Size([880154, 270])\n",
      "<class 'torch.Tensor'>\n"
     ]
    }
   ],
   "source": [
    "val_set = torch.from_numpy(normalized_scan_val_set_no_b5.astype(np.float32))\n",
    "print(val_set.shape)\n",
    "print(type(val_set))"
   ]
  },
  {
   "cell_type": "code",
   "execution_count": 18,
   "id": "518dd8cb-cd42-4bad-821e-c76869d5b054",
   "metadata": {},
   "outputs": [],
   "source": [
    "# net_golden_std = network.BallStickNet(gradient_directions_100206, b_values_100206)\n",
    "# net_golden_std.load_state_dict(torch.load(\"/Users/weiwenhua/UGY4/COMP0029/COMP0029-Project/deep-ball-stick/model_100206_norm_01_Feb_182e.pt\"))\n",
    "# criterion = nn.MSELoss()\n",
    "# optimizer = optim.Adam(net_golden_std.parameters(), lr = 0.00001)\n",
    "\n",
    "net = network.BallStickNet(gradient_directions_100206, b_values_100206)\n",
    "\n",
    "criterion = nn.MSELoss()\n",
    "optimizer = optim.Adam(net.parameters(), lr = 0.00001)\n",
    "# optimizer = optim.Adam(net.parameters(), lr = 0.0001)\n",
    "scheduler = ReduceLROnPlateau(optimizer, mode='min', factor=0.1, patience=10, verbose=True)"
   ]
  },
  {
   "cell_type": "code",
   "execution_count": 19,
   "id": "50c6c40d-70a1-4f42-8b6c-e4bc8fdd27f1",
   "metadata": {
    "collapsed": true,
    "jupyter": {
     "outputs_hidden": true
    },
    "tags": []
   },
   "outputs": [
    {
     "name": "stdout",
     "output_type": "stream",
     "text": [
      "-----------------------------------------------------------------\n",
      "Epoch: 0; Bad training epochs: 0; Bad validation epochs: 0\n"
     ]
    },
    {
     "name": "stderr",
     "output_type": "stream",
     "text": [
      "100%|█████████████████████████████████████████████████████████████████████████████████████████████████████████████████████████████████████████████████████████████| 7308/7308 [00:43<00:00, 166.43it/s]\n"
     ]
    },
    {
     "name": "stdout",
     "output_type": "stream",
     "text": [
      "Loss: 2359.9929651729763; Average Loss: 0.32293280858962453\n",
      "Validation Loss: 0.13606327772140503\n",
      "############### Saving good model for validation set ###############################\n",
      "-----------------------------------------------------------------\n",
      "Epoch: 1; Bad training epochs: 0; Bad validation epochs: 0\n"
     ]
    },
    {
     "name": "stderr",
     "output_type": "stream",
     "text": [
      "100%|█████████████████████████████████████████████████████████████████████████████████████████████████████████████████████████████████████████████████████████████| 7308/7308 [00:36<00:00, 198.17it/s]\n"
     ]
    },
    {
     "name": "stdout",
     "output_type": "stream",
     "text": [
      "Loss: 437.2037100540474; Average Loss: 0.05982535715025279\n",
      "Validation Loss: 0.1297132521867752\n",
      "############### Saving good model for validation set ###############################\n",
      "-----------------------------------------------------------------\n",
      "Epoch: 2; Bad training epochs: 0; Bad validation epochs: 0\n"
     ]
    },
    {
     "name": "stderr",
     "output_type": "stream",
     "text": [
      "100%|█████████████████████████████████████████████████████████████████████████████████████████████████████████████████████████████████████████████████████████████| 7308/7308 [00:40<00:00, 182.40it/s]\n"
     ]
    },
    {
     "name": "stdout",
     "output_type": "stream",
     "text": [
      "Loss: 425.3617706964724; Average Loss: 0.058204949465855554\n",
      "Validation Loss: 0.12951946258544922\n",
      "############### Saving good model for validation set ###############################\n",
      "-----------------------------------------------------------------\n",
      "Epoch: 3; Bad training epochs: 0; Bad validation epochs: 0\n"
     ]
    },
    {
     "name": "stderr",
     "output_type": "stream",
     "text": [
      "100%|█████████████████████████████████████████████████████████████████████████████████████████████████████████████████████████████████████████████████████████████| 7308/7308 [00:40<00:00, 180.26it/s]\n"
     ]
    },
    {
     "name": "stdout",
     "output_type": "stream",
     "text": [
      "Loss: 423.91432130197063; Average Loss: 0.05800688578297354\n",
      "Validation Loss: 0.12951314449310303\n",
      "############### Saving good model for validation set ###############################\n",
      "-----------------------------------------------------------------\n",
      "Epoch: 4; Bad training epochs: 0; Bad validation epochs: 0\n"
     ]
    },
    {
     "name": "stderr",
     "output_type": "stream",
     "text": [
      "100%|█████████████████████████████████████████████████████████████████████████████████████████████████████████████████████████████████████████████████████████████| 7308/7308 [00:42<00:00, 170.83it/s]\n"
     ]
    },
    {
     "name": "stdout",
     "output_type": "stream",
     "text": [
      "Loss: 423.0522626314778; Average Loss: 0.05788892482642006\n",
      "Validation Loss: 0.12933970987796783\n",
      "############### Saving good model for validation set ###############################\n",
      "-----------------------------------------------------------------\n",
      "Epoch: 5; Bad training epochs: 0; Bad validation epochs: 0\n"
     ]
    },
    {
     "name": "stderr",
     "output_type": "stream",
     "text": [
      "100%|█████████████████████████████████████████████████████████████████████████████████████████████████████████████████████████████████████████████████████████████| 7308/7308 [00:40<00:00, 178.62it/s]\n"
     ]
    },
    {
     "name": "stdout",
     "output_type": "stream",
     "text": [
      "Loss: 422.0250147697516; Average Loss: 0.05774835998491401\n",
      "Validation Loss: 0.1294081211090088\n",
      "-----------------------------------------------------------------\n",
      "Epoch: 6; Bad training epochs: 0; Bad validation epochs: 1\n"
     ]
    },
    {
     "name": "stderr",
     "output_type": "stream",
     "text": [
      "100%|█████████████████████████████████████████████████████████████████████████████████████████████████████████████████████████████████████████████████████████████| 7308/7308 [00:40<00:00, 180.09it/s]\n"
     ]
    },
    {
     "name": "stdout",
     "output_type": "stream",
     "text": [
      "Loss: 421.8486288180575; Average Loss: 0.05772422397619834\n",
      "Validation Loss: 0.12931279838085175\n",
      "############### Saving good model for validation set ###############################\n",
      "-----------------------------------------------------------------\n",
      "Epoch: 7; Bad training epochs: 0; Bad validation epochs: 0\n"
     ]
    },
    {
     "name": "stderr",
     "output_type": "stream",
     "text": [
      "100%|█████████████████████████████████████████████████████████████████████████████████████████████████████████████████████████████████████████████████████████████| 7308/7308 [00:44<00:00, 164.26it/s]\n"
     ]
    },
    {
     "name": "stdout",
     "output_type": "stream",
     "text": [
      "Loss: 420.27831610594876; Average Loss: 0.057509348126156094\n",
      "Validation Loss: 0.12958067655563354\n",
      "-----------------------------------------------------------------\n",
      "Epoch: 8; Bad training epochs: 0; Bad validation epochs: 1\n"
     ]
    },
    {
     "name": "stderr",
     "output_type": "stream",
     "text": [
      "100%|█████████████████████████████████████████████████████████████████████████████████████████████████████████████████████████████████████████████████████████████| 7308/7308 [00:41<00:00, 174.45it/s]\n"
     ]
    },
    {
     "name": "stdout",
     "output_type": "stream",
     "text": [
      "Loss: 420.5337203158997; Average Loss: 0.057544296704419774\n",
      "Validation Loss: 0.12947525084018707\n",
      "-----------------------------------------------------------------\n",
      "Epoch: 9; Bad training epochs: 1; Bad validation epochs: 2\n"
     ]
    },
    {
     "name": "stderr",
     "output_type": "stream",
     "text": [
      "100%|█████████████████████████████████████████████████████████████████████████████████████████████████████████████████████████████████████████████████████████████| 7308/7308 [00:42<00:00, 170.95it/s]\n"
     ]
    },
    {
     "name": "stdout",
     "output_type": "stream",
     "text": [
      "Loss: 419.37665903312154; Average Loss: 0.05738596866900952\n",
      "Validation Loss: 0.12921270728111267\n",
      "############### Saving good model for validation set ###############################\n",
      "-----------------------------------------------------------------\n",
      "Epoch: 10; Bad training epochs: 0; Bad validation epochs: 0\n"
     ]
    },
    {
     "name": "stderr",
     "output_type": "stream",
     "text": [
      "100%|█████████████████████████████████████████████████████████████████████████████████████████████████████████████████████████████████████████████████████████████| 7308/7308 [00:42<00:00, 170.64it/s]\n"
     ]
    },
    {
     "name": "stdout",
     "output_type": "stream",
     "text": [
      "Loss: 418.8713113197591; Average Loss: 0.05731681873559922\n",
      "Validation Loss: 0.12944921851158142\n",
      "-----------------------------------------------------------------\n",
      "Epoch: 11; Bad training epochs: 0; Bad validation epochs: 1\n"
     ]
    },
    {
     "name": "stderr",
     "output_type": "stream",
     "text": [
      "100%|█████████████████████████████████████████████████████████████████████████████████████████████████████████████████████████████████████████████████████████████| 7308/7308 [00:41<00:00, 175.24it/s]\n"
     ]
    },
    {
     "name": "stdout",
     "output_type": "stream",
     "text": [
      "Loss: 418.9596486813389; Average Loss: 0.05732890649717281\n",
      "Validation Loss: 0.12889108061790466\n",
      "############### Saving good model for validation set ###############################\n",
      "-----------------------------------------------------------------\n",
      "Epoch: 12; Bad training epochs: 1; Bad validation epochs: 0\n"
     ]
    },
    {
     "name": "stderr",
     "output_type": "stream",
     "text": [
      "100%|█████████████████████████████████████████████████████████████████████████████████████████████████████████████████████████████████████████████████████████████| 7308/7308 [00:42<00:00, 171.97it/s]\n"
     ]
    },
    {
     "name": "stdout",
     "output_type": "stream",
     "text": [
      "Loss: 418.7616714898031; Average Loss: 0.057301816022140545\n",
      "Validation Loss: 0.12903954088687897\n",
      "-----------------------------------------------------------------\n",
      "Epoch: 13; Bad training epochs: 0; Bad validation epochs: 1\n"
     ]
    },
    {
     "name": "stderr",
     "output_type": "stream",
     "text": [
      "100%|█████████████████████████████████████████████████████████████████████████████████████████████████████████████████████████████████████████████████████████████| 7308/7308 [00:46<00:00, 158.55it/s]\n"
     ]
    },
    {
     "name": "stdout",
     "output_type": "stream",
     "text": [
      "Loss: 418.07589771132916; Average Loss: 0.05720797724566628\n",
      "Validation Loss: 0.12892292439937592\n",
      "-----------------------------------------------------------------\n",
      "Epoch: 14; Bad training epochs: 0; Bad validation epochs: 2\n"
     ]
    },
    {
     "name": "stderr",
     "output_type": "stream",
     "text": [
      "100%|█████████████████████████████████████████████████████████████████████████████████████████████████████████████████████████████████████████████████████████████| 7308/7308 [00:42<00:00, 170.41it/s]\n"
     ]
    },
    {
     "name": "stdout",
     "output_type": "stream",
     "text": [
      "Loss: 417.481876433827; Average Loss: 0.05712669354595334\n",
      "Validation Loss: 0.12896615266799927\n",
      "-----------------------------------------------------------------\n",
      "Epoch: 15; Bad training epochs: 0; Bad validation epochs: 3\n"
     ]
    },
    {
     "name": "stderr",
     "output_type": "stream",
     "text": [
      "100%|█████████████████████████████████████████████████████████████████████████████████████████████████████████████████████████████████████████████████████████████| 7308/7308 [01:05<00:00, 111.33it/s]\n"
     ]
    },
    {
     "name": "stdout",
     "output_type": "stream",
     "text": [
      "Loss: 417.17436736961827; Average Loss: 0.05708461512994229\n",
      "Validation Loss: 0.1288428157567978\n",
      "############### Saving good model for validation set ###############################\n",
      "-----------------------------------------------------------------\n",
      "Epoch: 16; Bad training epochs: 0; Bad validation epochs: 0\n"
     ]
    },
    {
     "name": "stderr",
     "output_type": "stream",
     "text": [
      "100%|█████████████████████████████████████████████████████████████████████████████████████████████████████████████████████████████████████████████████████████████| 7308/7308 [00:44<00:00, 163.73it/s]\n"
     ]
    },
    {
     "name": "stdout",
     "output_type": "stream",
     "text": [
      "Loss: 416.8795876877848; Average Loss: 0.057044278556073455\n",
      "Validation Loss: 0.12896887958049774\n",
      "-----------------------------------------------------------------\n",
      "Epoch: 17; Bad training epochs: 0; Bad validation epochs: 1\n"
     ]
    },
    {
     "name": "stderr",
     "output_type": "stream",
     "text": [
      "100%|█████████████████████████████████████████████████████████████████████████████████████████████████████████████████████████████████████████████████████████████| 7308/7308 [00:45<00:00, 160.27it/s]\n"
     ]
    },
    {
     "name": "stdout",
     "output_type": "stream",
     "text": [
      "Loss: 416.4225325617008; Average Loss: 0.05698173680373574\n",
      "Validation Loss: 0.1285870224237442\n",
      "############### Saving good model for validation set ###############################\n",
      "-----------------------------------------------------------------\n",
      "Epoch: 18; Bad training epochs: 0; Bad validation epochs: 0\n"
     ]
    },
    {
     "name": "stderr",
     "output_type": "stream",
     "text": [
      "100%|█████████████████████████████████████████████████████████████████████████████████████████████████████████████████████████████████████████████████████████████| 7308/7308 [00:45<00:00, 159.87it/s]\n"
     ]
    },
    {
     "name": "stdout",
     "output_type": "stream",
     "text": [
      "Loss: 415.672822359018; Average Loss: 0.056879149200741386\n",
      "Validation Loss: 0.12860801815986633\n",
      "-----------------------------------------------------------------\n",
      "Epoch: 19; Bad training epochs: 0; Bad validation epochs: 1\n"
     ]
    },
    {
     "name": "stderr",
     "output_type": "stream",
     "text": [
      "100%|█████████████████████████████████████████████████████████████████████████████████████████████████████████████████████████████████████████████████████████████| 7308/7308 [00:44<00:00, 163.61it/s]\n"
     ]
    },
    {
     "name": "stdout",
     "output_type": "stream",
     "text": [
      "Loss: 415.10843571810983; Average Loss: 0.05680192059634782\n",
      "Validation Loss: 0.12846268713474274\n",
      "############### Saving good model for validation set ###############################\n",
      "-----------------------------------------------------------------\n",
      "Epoch: 20; Bad training epochs: 0; Bad validation epochs: 0\n"
     ]
    },
    {
     "name": "stderr",
     "output_type": "stream",
     "text": [
      "100%|█████████████████████████████████████████████████████████████████████████████████████████████████████████████████████████████████████████████████████████████| 7308/7308 [00:44<00:00, 164.60it/s]\n"
     ]
    },
    {
     "name": "stdout",
     "output_type": "stream",
     "text": [
      "Loss: 414.7101617578883; Average Loss: 0.056747422243827075\n",
      "Validation Loss: 0.1288078874349594\n",
      "-----------------------------------------------------------------\n",
      "Epoch: 21; Bad training epochs: 0; Bad validation epochs: 1\n"
     ]
    },
    {
     "name": "stderr",
     "output_type": "stream",
     "text": [
      "100%|█████████████████████████████████████████████████████████████████████████████████████████████████████████████████████████████████████████████████████████████| 7308/7308 [00:45<00:00, 161.20it/s]\n"
     ]
    },
    {
     "name": "stdout",
     "output_type": "stream",
     "text": [
      "Loss: 414.9965597037226; Average Loss: 0.05678661189158766\n",
      "Validation Loss: 0.12842698395252228\n",
      "############### Saving good model for validation set ###############################\n",
      "-----------------------------------------------------------------\n",
      "Epoch: 22; Bad training epochs: 1; Bad validation epochs: 0\n"
     ]
    },
    {
     "name": "stderr",
     "output_type": "stream",
     "text": [
      "100%|█████████████████████████████████████████████████████████████████████████████████████████████████████████████████████████████████████████████████████████████| 7308/7308 [00:45<00:00, 161.44it/s]\n"
     ]
    },
    {
     "name": "stdout",
     "output_type": "stream",
     "text": [
      "Loss: 414.9118338355329; Average Loss: 0.05677501831356498\n",
      "Validation Loss: 0.12863408029079437\n",
      "-----------------------------------------------------------------\n",
      "Epoch: 23; Bad training epochs: 2; Bad validation epochs: 1\n"
     ]
    },
    {
     "name": "stderr",
     "output_type": "stream",
     "text": [
      "100%|█████████████████████████████████████████████████████████████████████████████████████████████████████████████████████████████████████████████████████████████| 7308/7308 [00:45<00:00, 158.93it/s]\n"
     ]
    },
    {
     "name": "stdout",
     "output_type": "stream",
     "text": [
      "Loss: 414.11955566564575; Average Loss: 0.056666605865578236\n",
      "Validation Loss: 0.12863069772720337\n",
      "-----------------------------------------------------------------\n",
      "Epoch: 24; Bad training epochs: 0; Bad validation epochs: 2\n"
     ]
    },
    {
     "name": "stderr",
     "output_type": "stream",
     "text": [
      "100%|█████████████████████████████████████████████████████████████████████████████████████████████████████████████████████████████████████████████████████████████| 7308/7308 [00:47<00:00, 154.86it/s]\n"
     ]
    },
    {
     "name": "stdout",
     "output_type": "stream",
     "text": [
      "Loss: 414.12746589817107; Average Loss: 0.05666768827287508\n",
      "Validation Loss: 0.12847508490085602\n",
      "-----------------------------------------------------------------\n",
      "Epoch: 25; Bad training epochs: 1; Bad validation epochs: 3\n"
     ]
    },
    {
     "name": "stderr",
     "output_type": "stream",
     "text": [
      "100%|█████████████████████████████████████████████████████████████████████████████████████████████████████████████████████████████████████████████████████████████| 7308/7308 [00:45<00:00, 160.93it/s]\n"
     ]
    },
    {
     "name": "stdout",
     "output_type": "stream",
     "text": [
      "Loss: 413.79255154402927; Average Loss: 0.05662185981719065\n",
      "Validation Loss: 0.12861154973506927\n",
      "-----------------------------------------------------------------\n",
      "Epoch: 26; Bad training epochs: 0; Bad validation epochs: 4\n"
     ]
    },
    {
     "name": "stderr",
     "output_type": "stream",
     "text": [
      "100%|█████████████████████████████████████████████████████████████████████████████████████████████████████████████████████████████████████████████████████████████| 7308/7308 [00:44<00:00, 162.47it/s]\n"
     ]
    },
    {
     "name": "stdout",
     "output_type": "stream",
     "text": [
      "Loss: 413.15819508349523; Average Loss: 0.05653505679850783\n",
      "Validation Loss: 0.12855644524097443\n",
      "-----------------------------------------------------------------\n",
      "Epoch: 27; Bad training epochs: 0; Bad validation epochs: 5\n"
     ]
    },
    {
     "name": "stderr",
     "output_type": "stream",
     "text": [
      "100%|█████████████████████████████████████████████████████████████████████████████████████████████████████████████████████████████████████████████████████████████| 7308/7308 [00:46<00:00, 158.80it/s]\n"
     ]
    },
    {
     "name": "stdout",
     "output_type": "stream",
     "text": [
      "Loss: 412.6760151728522; Average Loss: 0.056469077062513987\n",
      "Validation Loss: 0.1284942477941513\n",
      "-----------------------------------------------------------------\n",
      "Epoch: 28; Bad training epochs: 0; Bad validation epochs: 6\n"
     ]
    },
    {
     "name": "stderr",
     "output_type": "stream",
     "text": [
      "100%|█████████████████████████████████████████████████████████████████████████████████████████████████████████████████████████████████████████████████████████████| 7308/7308 [00:41<00:00, 176.64it/s]\n"
     ]
    },
    {
     "name": "stdout",
     "output_type": "stream",
     "text": [
      "Loss: 412.28857397451065; Average Loss: 0.056416061025521436\n",
      "Validation Loss: 0.12828731536865234\n",
      "############### Saving good model for validation set ###############################\n",
      "-----------------------------------------------------------------\n",
      "Epoch: 29; Bad training epochs: 0; Bad validation epochs: 0\n"
     ]
    },
    {
     "name": "stderr",
     "output_type": "stream",
     "text": [
      "100%|█████████████████████████████████████████████████████████████████████████████████████████████████████████████████████████████████████████████████████████████| 7308/7308 [00:41<00:00, 174.98it/s]\n"
     ]
    },
    {
     "name": "stdout",
     "output_type": "stream",
     "text": [
      "Loss: 411.58257727813907; Average Loss: 0.056319455018902446\n",
      "Validation Loss: 0.12840116024017334\n",
      "-----------------------------------------------------------------\n",
      "Epoch: 30; Bad training epochs: 0; Bad validation epochs: 1\n"
     ]
    },
    {
     "name": "stderr",
     "output_type": "stream",
     "text": [
      "100%|█████████████████████████████████████████████████████████████████████████████████████████████████████████████████████████████████████████████████████████████| 7308/7308 [00:42<00:00, 173.96it/s]\n"
     ]
    },
    {
     "name": "stdout",
     "output_type": "stream",
     "text": [
      "Loss: 411.2150955174584; Average Loss: 0.05626917015838238\n",
      "Validation Loss: 0.12848228216171265\n",
      "-----------------------------------------------------------------\n",
      "Epoch: 31; Bad training epochs: 0; Bad validation epochs: 2\n"
     ]
    },
    {
     "name": "stderr",
     "output_type": "stream",
     "text": [
      "100%|█████████████████████████████████████████████████████████████████████████████████████████████████████████████████████████████████████████████████████████████| 7308/7308 [00:41<00:00, 176.92it/s]\n"
     ]
    },
    {
     "name": "stdout",
     "output_type": "stream",
     "text": [
      "Loss: 411.40092671266757; Average Loss: 0.05629459861968631\n",
      "Validation Loss: 0.12859177589416504\n",
      "-----------------------------------------------------------------\n",
      "Epoch: 32; Bad training epochs: 1; Bad validation epochs: 3\n"
     ]
    },
    {
     "name": "stderr",
     "output_type": "stream",
     "text": [
      "100%|█████████████████████████████████████████████████████████████████████████████████████████████████████████████████████████████████████████████████████████████| 7308/7308 [00:41<00:00, 174.35it/s]\n"
     ]
    },
    {
     "name": "stdout",
     "output_type": "stream",
     "text": [
      "Loss: 411.3014933883678; Average Loss: 0.05628099252714393\n",
      "Validation Loss: 0.12848615646362305\n",
      "-----------------------------------------------------------------\n",
      "Epoch: 33; Bad training epochs: 2; Bad validation epochs: 4\n"
     ]
    },
    {
     "name": "stderr",
     "output_type": "stream",
     "text": [
      "100%|█████████████████████████████████████████████████████████████████████████████████████████████████████████████████████████████████████████████████████████████| 7308/7308 [00:42<00:00, 172.78it/s]\n"
     ]
    },
    {
     "name": "stdout",
     "output_type": "stream",
     "text": [
      "Loss: 410.90249044890516; Average Loss: 0.05622639442376918\n",
      "Validation Loss: 0.1281355917453766\n",
      "############### Saving good model for validation set ###############################\n",
      "-----------------------------------------------------------------\n",
      "Epoch: 34; Bad training epochs: 0; Bad validation epochs: 0\n"
     ]
    },
    {
     "name": "stderr",
     "output_type": "stream",
     "text": [
      "100%|█████████████████████████████████████████████████████████████████████████████████████████████████████████████████████████████████████████████████████████████| 7308/7308 [00:41<00:00, 174.56it/s]\n"
     ]
    },
    {
     "name": "stdout",
     "output_type": "stream",
     "text": [
      "Loss: 410.8659932927694; Average Loss: 0.056221400286366914\n",
      "Validation Loss: 0.1283336877822876\n",
      "-----------------------------------------------------------------\n",
      "Epoch: 35; Bad training epochs: 0; Bad validation epochs: 1\n"
     ]
    },
    {
     "name": "stderr",
     "output_type": "stream",
     "text": [
      "100%|█████████████████████████████████████████████████████████████████████████████████████████████████████████████████████████████████████████████████████████████| 7308/7308 [00:42<00:00, 171.28it/s]\n"
     ]
    },
    {
     "name": "stdout",
     "output_type": "stream",
     "text": [
      "Loss: 410.1144671025686; Average Loss: 0.05611856419028032\n",
      "Validation Loss: 0.1281638741493225\n",
      "-----------------------------------------------------------------\n",
      "Epoch: 36; Bad training epochs: 0; Bad validation epochs: 2\n"
     ]
    },
    {
     "name": "stderr",
     "output_type": "stream",
     "text": [
      "100%|█████████████████████████████████████████████████████████████████████████████████████████████████████████████████████████████████████████████████████████████| 7308/7308 [00:41<00:00, 174.52it/s]\n"
     ]
    },
    {
     "name": "stdout",
     "output_type": "stream",
     "text": [
      "Loss: 410.5282922848128; Average Loss: 0.05617519051516322\n",
      "Validation Loss: 0.12814463675022125\n",
      "-----------------------------------------------------------------\n",
      "Epoch: 37; Bad training epochs: 1; Bad validation epochs: 3\n"
     ]
    },
    {
     "name": "stderr",
     "output_type": "stream",
     "text": [
      "100%|█████████████████████████████████████████████████████████████████████████████████████████████████████████████████████████████████████████████████████████████| 7308/7308 [00:42<00:00, 173.12it/s]\n"
     ]
    },
    {
     "name": "stdout",
     "output_type": "stream",
     "text": [
      "Loss: 409.86252027889714; Average Loss: 0.056084088708114\n",
      "Validation Loss: 0.1281469464302063\n",
      "-----------------------------------------------------------------\n",
      "Epoch: 38; Bad training epochs: 0; Bad validation epochs: 4\n"
     ]
    },
    {
     "name": "stderr",
     "output_type": "stream",
     "text": [
      "100%|█████████████████████████████████████████████████████████████████████████████████████████████████████████████████████████████████████████████████████████████| 7308/7308 [00:42<00:00, 173.06it/s]\n"
     ]
    },
    {
     "name": "stdout",
     "output_type": "stream",
     "text": [
      "Loss: 409.74402104783803; Average Loss: 0.05606787370660071\n",
      "Validation Loss: 0.12819960713386536\n",
      "-----------------------------------------------------------------\n",
      "Epoch: 39; Bad training epochs: 0; Bad validation epochs: 5\n"
     ]
    },
    {
     "name": "stderr",
     "output_type": "stream",
     "text": [
      "100%|█████████████████████████████████████████████████████████████████████████████████████████████████████████████████████████████████████████████████████████████| 7308/7308 [00:42<00:00, 173.92it/s]\n"
     ]
    },
    {
     "name": "stdout",
     "output_type": "stream",
     "text": [
      "Loss: 410.04078549332917; Average Loss: 0.056108481868271644\n",
      "Validation Loss: 0.12825757265090942\n",
      "-----------------------------------------------------------------\n",
      "Epoch: 40; Bad training epochs: 1; Bad validation epochs: 6\n"
     ]
    },
    {
     "name": "stderr",
     "output_type": "stream",
     "text": [
      "100%|█████████████████████████████████████████████████████████████████████████████████████████████████████████████████████████████████████████████████████████████| 7308/7308 [00:43<00:00, 169.95it/s]\n"
     ]
    },
    {
     "name": "stdout",
     "output_type": "stream",
     "text": [
      "Loss: 409.3987671388313; Average Loss: 0.05602063042403275\n",
      "Validation Loss: 0.12810660898685455\n",
      "############### Saving good model for validation set ###############################\n",
      "-----------------------------------------------------------------\n",
      "Epoch: 41; Bad training epochs: 0; Bad validation epochs: 0\n"
     ]
    },
    {
     "name": "stderr",
     "output_type": "stream",
     "text": [
      "100%|█████████████████████████████████████████████████████████████████████████████████████████████████████████████████████████████████████████████████████████████| 7308/7308 [00:42<00:00, 173.11it/s]\n"
     ]
    },
    {
     "name": "stdout",
     "output_type": "stream",
     "text": [
      "Loss: 409.57400726736523; Average Loss: 0.056044609642496614\n",
      "Validation Loss: 0.12815189361572266\n",
      "-----------------------------------------------------------------\n",
      "Epoch: 42; Bad training epochs: 1; Bad validation epochs: 1\n"
     ]
    },
    {
     "name": "stderr",
     "output_type": "stream",
     "text": [
      "100%|█████████████████████████████████████████████████████████████████████████████████████████████████████████████████████████████████████████████████████████████| 7308/7308 [00:42<00:00, 170.29it/s]\n"
     ]
    },
    {
     "name": "stdout",
     "output_type": "stream",
     "text": [
      "Loss: 409.23196610668674; Average Loss: 0.05599780598066321\n",
      "Validation Loss: 0.12799857556819916\n",
      "############### Saving good model for validation set ###############################\n",
      "-----------------------------------------------------------------\n",
      "Epoch: 43; Bad training epochs: 0; Bad validation epochs: 0\n"
     ]
    },
    {
     "name": "stderr",
     "output_type": "stream",
     "text": [
      "100%|█████████████████████████████████████████████████████████████████████████████████████████████████████████████████████████████████████████████████████████████| 7308/7308 [00:42<00:00, 173.54it/s]\n"
     ]
    },
    {
     "name": "stdout",
     "output_type": "stream",
     "text": [
      "Loss: 408.8640042664483; Average Loss: 0.05594745542781176\n",
      "Validation Loss: 0.12816208600997925\n",
      "-----------------------------------------------------------------\n",
      "Epoch: 44; Bad training epochs: 0; Bad validation epochs: 1\n"
     ]
    },
    {
     "name": "stderr",
     "output_type": "stream",
     "text": [
      "100%|█████████████████████████████████████████████████████████████████████████████████████████████████████████████████████████████████████████████████████████████| 7308/7308 [00:42<00:00, 170.57it/s]\n"
     ]
    },
    {
     "name": "stdout",
     "output_type": "stream",
     "text": [
      "Loss: 408.7690514368005; Average Loss: 0.05593446242977566\n",
      "Validation Loss: 0.12802603840827942\n",
      "-----------------------------------------------------------------\n",
      "Epoch: 45; Bad training epochs: 0; Bad validation epochs: 2\n"
     ]
    },
    {
     "name": "stderr",
     "output_type": "stream",
     "text": [
      "100%|█████████████████████████████████████████████████████████████████████████████████████████████████████████████████████████████████████████████████████████████| 7308/7308 [00:44<00:00, 164.23it/s]\n"
     ]
    },
    {
     "name": "stdout",
     "output_type": "stream",
     "text": [
      "Loss: 408.3884582684841; Average Loss: 0.05588238345217352\n",
      "Validation Loss: 0.1281185895204544\n",
      "-----------------------------------------------------------------\n",
      "Epoch: 46; Bad training epochs: 0; Bad validation epochs: 3\n"
     ]
    },
    {
     "name": "stderr",
     "output_type": "stream",
     "text": [
      "100%|█████████████████████████████████████████████████████████████████████████████████████████████████████████████████████████████████████████████████████████████| 7308/7308 [00:42<00:00, 172.72it/s]\n"
     ]
    },
    {
     "name": "stdout",
     "output_type": "stream",
     "text": [
      "Loss: 408.3209154494107; Average Loss: 0.0558731411397661\n",
      "Validation Loss: 0.12817922234535217\n",
      "-----------------------------------------------------------------\n",
      "Epoch: 47; Bad training epochs: 0; Bad validation epochs: 4\n"
     ]
    },
    {
     "name": "stderr",
     "output_type": "stream",
     "text": [
      "100%|█████████████████████████████████████████████████████████████████████████████████████████████████████████████████████████████████████████████████████████████| 7308/7308 [00:43<00:00, 167.09it/s]\n"
     ]
    },
    {
     "name": "stdout",
     "output_type": "stream",
     "text": [
      "Loss: 408.82257032883354; Average Loss: 0.055941785759282096\n",
      "Validation Loss: 0.1280779242515564\n",
      "-----------------------------------------------------------------\n",
      "Epoch: 48; Bad training epochs: 1; Bad validation epochs: 5\n"
     ]
    },
    {
     "name": "stderr",
     "output_type": "stream",
     "text": [
      "100%|█████████████████████████████████████████████████████████████████████████████████████████████████████████████████████████████████████████████████████████████| 7308/7308 [00:43<00:00, 166.76it/s]\n"
     ]
    },
    {
     "name": "stdout",
     "output_type": "stream",
     "text": [
      "Loss: 408.3117853200529; Average Loss: 0.05587189180624697\n",
      "Validation Loss: 0.1279822289943695\n",
      "############### Saving good model for validation set ###############################\n",
      "-----------------------------------------------------------------\n",
      "Epoch: 49; Bad training epochs: 0; Bad validation epochs: 0\n"
     ]
    },
    {
     "name": "stderr",
     "output_type": "stream",
     "text": [
      "100%|█████████████████████████████████████████████████████████████████████████████████████████████████████████████████████████████████████████████████████████████| 7308/7308 [00:44<00:00, 163.90it/s]\n"
     ]
    },
    {
     "name": "stdout",
     "output_type": "stream",
     "text": [
      "Loss: 408.0716171229724; Average Loss: 0.055839028068277556\n",
      "Validation Loss: 0.12806947529315948\n",
      "-----------------------------------------------------------------\n",
      "Epoch: 50; Bad training epochs: 0; Bad validation epochs: 1\n"
     ]
    },
    {
     "name": "stderr",
     "output_type": "stream",
     "text": [
      "100%|█████████████████████████████████████████████████████████████████████████████████████████████████████████████████████████████████████████████████████████████| 7308/7308 [00:44<00:00, 166.00it/s]\n"
     ]
    },
    {
     "name": "stdout",
     "output_type": "stream",
     "text": [
      "Loss: 408.2175715418998; Average Loss: 0.055858999937315246\n",
      "Validation Loss: 0.12785866856575012\n",
      "############### Saving good model for validation set ###############################\n",
      "-----------------------------------------------------------------\n",
      "Epoch: 51; Bad training epochs: 1; Bad validation epochs: 0\n"
     ]
    },
    {
     "name": "stderr",
     "output_type": "stream",
     "text": [
      "100%|█████████████████████████████████████████████████████████████████████████████████████████████████████████████████████████████████████████████████████████████| 7308/7308 [00:42<00:00, 172.92it/s]\n"
     ]
    },
    {
     "name": "stdout",
     "output_type": "stream",
     "text": [
      "Loss: 407.7903037520591; Average Loss: 0.05580053417515861\n",
      "Validation Loss: 0.12807391583919525\n",
      "-----------------------------------------------------------------\n",
      "Epoch: 52; Bad training epochs: 0; Bad validation epochs: 1\n"
     ]
    },
    {
     "name": "stderr",
     "output_type": "stream",
     "text": [
      "100%|█████████████████████████████████████████████████████████████████████████████████████████████████████████████████████████████████████████████████████████████| 7308/7308 [00:42<00:00, 170.90it/s]\n"
     ]
    },
    {
     "name": "stdout",
     "output_type": "stream",
     "text": [
      "Loss: 408.042137675453; Average Loss: 0.05583499420846374\n",
      "Validation Loss: 0.12794815003871918\n",
      "-----------------------------------------------------------------\n",
      "Epoch: 53; Bad training epochs: 1; Bad validation epochs: 2\n"
     ]
    },
    {
     "name": "stderr",
     "output_type": "stream",
     "text": [
      "100%|█████████████████████████████████████████████████████████████████████████████████████████████████████████████████████████████████████████████████████████████| 7308/7308 [00:42<00:00, 171.76it/s]\n"
     ]
    },
    {
     "name": "stdout",
     "output_type": "stream",
     "text": [
      "Loss: 407.794247465441; Average Loss: 0.055801073818478514\n",
      "Validation Loss: 0.12791162729263306\n",
      "-----------------------------------------------------------------\n",
      "Epoch: 54; Bad training epochs: 2; Bad validation epochs: 3\n"
     ]
    },
    {
     "name": "stderr",
     "output_type": "stream",
     "text": [
      "100%|█████████████████████████████████████████████████████████████████████████████████████████████████████████████████████████████████████████████████████████████| 7308/7308 [00:45<00:00, 161.68it/s]\n"
     ]
    },
    {
     "name": "stdout",
     "output_type": "stream",
     "text": [
      "Loss: 407.4063231877517; Average Loss: 0.05574799167867429\n",
      "Validation Loss: 0.12786079943180084\n",
      "-----------------------------------------------------------------\n",
      "Epoch: 55; Bad training epochs: 0; Bad validation epochs: 4\n"
     ]
    },
    {
     "name": "stderr",
     "output_type": "stream",
     "text": [
      "100%|█████████████████████████████████████████████████████████████████████████████████████████████████████████████████████████████████████████████████████████████| 7308/7308 [00:43<00:00, 167.86it/s]\n"
     ]
    },
    {
     "name": "stdout",
     "output_type": "stream",
     "text": [
      "Loss: 407.552874927409; Average Loss: 0.05576804528289669\n",
      "Validation Loss: 0.12793263792991638\n",
      "-----------------------------------------------------------------\n",
      "Epoch: 56; Bad training epochs: 1; Bad validation epochs: 5\n"
     ]
    },
    {
     "name": "stderr",
     "output_type": "stream",
     "text": [
      "100%|█████████████████████████████████████████████████████████████████████████████████████████████████████████████████████████████████████████████████████████████| 7308/7308 [00:43<00:00, 169.95it/s]\n"
     ]
    },
    {
     "name": "stdout",
     "output_type": "stream",
     "text": [
      "Loss: 407.05822811531834; Average Loss: 0.05570035962169107\n",
      "Validation Loss: 0.1279958188533783\n",
      "-----------------------------------------------------------------\n",
      "Epoch: 57; Bad training epochs: 0; Bad validation epochs: 6\n"
     ]
    },
    {
     "name": "stderr",
     "output_type": "stream",
     "text": [
      "100%|█████████████████████████████████████████████████████████████████████████████████████████████████████████████████████████████████████████████████████████████| 7308/7308 [00:43<00:00, 167.19it/s]\n"
     ]
    },
    {
     "name": "stdout",
     "output_type": "stream",
     "text": [
      "Loss: 407.1892588434275; Average Loss: 0.05571828938744219\n",
      "Validation Loss: 0.1279873102903366\n",
      "-----------------------------------------------------------------\n",
      "Epoch: 58; Bad training epochs: 1; Bad validation epochs: 7\n"
     ]
    },
    {
     "name": "stderr",
     "output_type": "stream",
     "text": [
      "100%|█████████████████████████████████████████████████████████████████████████████████████████████████████████████████████████████████████████████████████████████| 7308/7308 [00:43<00:00, 168.08it/s]\n"
     ]
    },
    {
     "name": "stdout",
     "output_type": "stream",
     "text": [
      "Loss: 406.7145024156198; Average Loss: 0.05565332545369729\n",
      "Validation Loss: 0.12781184911727905\n",
      "############### Saving good model for validation set ###############################\n",
      "-----------------------------------------------------------------\n",
      "Epoch: 59; Bad training epochs: 0; Bad validation epochs: 0\n"
     ]
    },
    {
     "name": "stderr",
     "output_type": "stream",
     "text": [
      "100%|█████████████████████████████████████████████████████████████████████████████████████████████████████████████████████████████████████████████████████████████| 7308/7308 [00:44<00:00, 165.50it/s]\n"
     ]
    },
    {
     "name": "stdout",
     "output_type": "stream",
     "text": [
      "Loss: 406.9032422758173; Average Loss: 0.05567915192608338\n",
      "Validation Loss: 0.12784487009048462\n",
      "-----------------------------------------------------------------\n",
      "Epoch: 60; Bad training epochs: 1; Bad validation epochs: 1\n"
     ]
    },
    {
     "name": "stderr",
     "output_type": "stream",
     "text": [
      "100%|█████████████████████████████████████████████████████████████████████████████████████████████████████████████████████████████████████████████████████████████| 7308/7308 [00:43<00:00, 167.61it/s]\n"
     ]
    },
    {
     "name": "stdout",
     "output_type": "stream",
     "text": [
      "Loss: 407.05025066272356; Average Loss: 0.055699268016245695\n",
      "Validation Loss: 0.12793368101119995\n",
      "-----------------------------------------------------------------\n",
      "Epoch: 61; Bad training epochs: 2; Bad validation epochs: 2\n"
     ]
    },
    {
     "name": "stderr",
     "output_type": "stream",
     "text": [
      "100%|█████████████████████████████████████████████████████████████████████████████████████████████████████████████████████████████████████████████████████████████| 7308/7308 [00:43<00:00, 167.31it/s]\n"
     ]
    },
    {
     "name": "stdout",
     "output_type": "stream",
     "text": [
      "Loss: 406.31777754216455; Average Loss: 0.05559903907254578\n",
      "Validation Loss: 0.12783551216125488\n",
      "-----------------------------------------------------------------\n",
      "Epoch: 62; Bad training epochs: 0; Bad validation epochs: 3\n"
     ]
    },
    {
     "name": "stderr",
     "output_type": "stream",
     "text": [
      "100%|█████████████████████████████████████████████████████████████████████████████████████████████████████████████████████████████████████████████████████████████| 7308/7308 [00:43<00:00, 168.42it/s]\n"
     ]
    },
    {
     "name": "stdout",
     "output_type": "stream",
     "text": [
      "Loss: 406.7885203915648; Average Loss: 0.05566345380289612\n",
      "Validation Loss: 0.12768112123012543\n",
      "############### Saving good model for validation set ###############################\n",
      "-----------------------------------------------------------------\n",
      "Epoch: 63; Bad training epochs: 1; Bad validation epochs: 0\n"
     ]
    },
    {
     "name": "stderr",
     "output_type": "stream",
     "text": [
      "100%|█████████████████████████████████████████████████████████████████████████████████████████████████████████████████████████████████████████████████████████████| 7308/7308 [00:43<00:00, 166.38it/s]\n"
     ]
    },
    {
     "name": "stdout",
     "output_type": "stream",
     "text": [
      "Loss: 406.1160873195622; Average Loss: 0.0555714405199182\n",
      "Validation Loss: 0.12795691192150116\n",
      "-----------------------------------------------------------------\n",
      "Epoch: 64; Bad training epochs: 0; Bad validation epochs: 1\n"
     ]
    },
    {
     "name": "stderr",
     "output_type": "stream",
     "text": [
      "100%|█████████████████████████████████████████████████████████████████████████████████████████████████████████████████████████████████████████████████████████████| 7308/7308 [00:43<00:00, 169.32it/s]\n"
     ]
    },
    {
     "name": "stdout",
     "output_type": "stream",
     "text": [
      "Loss: 406.28909389674664; Average Loss: 0.05559511410738186\n",
      "Validation Loss: 0.1279173195362091\n",
      "-----------------------------------------------------------------\n",
      "Epoch: 65; Bad training epochs: 1; Bad validation epochs: 2\n"
     ]
    },
    {
     "name": "stderr",
     "output_type": "stream",
     "text": [
      "100%|█████████████████████████████████████████████████████████████████████████████████████████████████████████████████████████████████████████████████████████████| 7308/7308 [00:43<00:00, 166.52it/s]\n"
     ]
    },
    {
     "name": "stdout",
     "output_type": "stream",
     "text": [
      "Loss: 406.240654830588; Average Loss: 0.05558848588267488\n",
      "Validation Loss: 0.12793084979057312\n",
      "-----------------------------------------------------------------\n",
      "Epoch: 66; Bad training epochs: 2; Bad validation epochs: 3\n"
     ]
    },
    {
     "name": "stderr",
     "output_type": "stream",
     "text": [
      "100%|█████████████████████████████████████████████████████████████████████████████████████████████████████████████████████████████████████████████████████████████| 7308/7308 [00:43<00:00, 167.54it/s]\n"
     ]
    },
    {
     "name": "stdout",
     "output_type": "stream",
     "text": [
      "Loss: 406.5421443565283; Average Loss: 0.05562974060707831\n",
      "Validation Loss: 0.12777875363826752\n",
      "-----------------------------------------------------------------\n",
      "Epoch: 67; Bad training epochs: 3; Bad validation epochs: 4\n"
     ]
    },
    {
     "name": "stderr",
     "output_type": "stream",
     "text": [
      "100%|█████████████████████████████████████████████████████████████████████████████████████████████████████████████████████████████████████████████████████████████| 7308/7308 [00:44<00:00, 165.39it/s]\n"
     ]
    },
    {
     "name": "stdout",
     "output_type": "stream",
     "text": [
      "Loss: 405.6510877243709; Average Loss: 0.055507811675474944\n",
      "Validation Loss: 0.12774601578712463\n",
      "-----------------------------------------------------------------\n",
      "Epoch: 68; Bad training epochs: 0; Bad validation epochs: 5\n"
     ]
    },
    {
     "name": "stderr",
     "output_type": "stream",
     "text": [
      "100%|█████████████████████████████████████████████████████████████████████████████████████████████████████████████████████████████████████████████████████████████| 7308/7308 [00:43<00:00, 169.59it/s]\n"
     ]
    },
    {
     "name": "stdout",
     "output_type": "stream",
     "text": [
      "Loss: 406.03721529827453; Average Loss: 0.05556064796090237\n",
      "Validation Loss: 0.12771211564540863\n",
      "-----------------------------------------------------------------\n",
      "Epoch: 69; Bad training epochs: 1; Bad validation epochs: 6\n"
     ]
    },
    {
     "name": "stderr",
     "output_type": "stream",
     "text": [
      "100%|█████████████████████████████████████████████████████████████████████████████████████████████████████████████████████████████████████████████████████████████| 7308/7308 [00:44<00:00, 164.04it/s]\n"
     ]
    },
    {
     "name": "stdout",
     "output_type": "stream",
     "text": [
      "Loss: 406.09300305275247; Average Loss: 0.0555682817532502\n",
      "Validation Loss: 0.1278078705072403\n",
      "-----------------------------------------------------------------\n",
      "Epoch: 70; Bad training epochs: 2; Bad validation epochs: 7\n"
     ]
    },
    {
     "name": "stderr",
     "output_type": "stream",
     "text": [
      "100%|█████████████████████████████████████████████████████████████████████████████████████████████████████████████████████████████████████████████████████████████| 7308/7308 [00:46<00:00, 156.29it/s]\n"
     ]
    },
    {
     "name": "stdout",
     "output_type": "stream",
     "text": [
      "Loss: 406.48439355404116; Average Loss: 0.05562183819841833\n",
      "Validation Loss: 0.12775683403015137\n",
      "-----------------------------------------------------------------\n",
      "Epoch: 71; Bad training epochs: 3; Bad validation epochs: 8\n"
     ]
    },
    {
     "name": "stderr",
     "output_type": "stream",
     "text": [
      "100%|█████████████████████████████████████████████████████████████████████████████████████████████████████████████████████████████████████████████████████████████| 7308/7308 [00:47<00:00, 153.91it/s]\n"
     ]
    },
    {
     "name": "stdout",
     "output_type": "stream",
     "text": [
      "Loss: 405.7297058601398; Average Loss: 0.055518569493724655\n",
      "Validation Loss: 0.1277626007795334\n",
      "-----------------------------------------------------------------\n",
      "Epoch: 72; Bad training epochs: 4; Bad validation epochs: 9\n"
     ]
    },
    {
     "name": "stderr",
     "output_type": "stream",
     "text": [
      "100%|█████████████████████████████████████████████████████████████████████████████████████████████████████████████████████████████████████████████████████████████| 7308/7308 [00:44<00:00, 163.07it/s]\n"
     ]
    },
    {
     "name": "stdout",
     "output_type": "stream",
     "text": [
      "Loss: 405.76195593131706; Average Loss: 0.05552298247554968\n",
      "Validation Loss: 0.12785540521144867\n",
      "-----------------------------------------------------------------\n",
      "Epoch: 73; Bad training epochs: 5; Bad validation epochs: 10\n"
     ]
    },
    {
     "name": "stderr",
     "output_type": "stream",
     "text": [
      "100%|█████████████████████████████████████████████████████████████████████████████████████████████████████████████████████████████████████████████████████████████| 7308/7308 [00:47<00:00, 152.60it/s]\n"
     ]
    },
    {
     "name": "stdout",
     "output_type": "stream",
     "text": [
      "Loss: 405.7170867943205; Average Loss: 0.05551684274689662\n",
      "Validation Loss: 0.1276402324438095\n",
      "############### Saving good model for validation set ###############################\n",
      "-----------------------------------------------------------------\n",
      "Epoch: 74; Bad training epochs: 6; Bad validation epochs: 0\n"
     ]
    },
    {
     "name": "stderr",
     "output_type": "stream",
     "text": [
      "100%|█████████████████████████████████████████████████████████████████████████████████████████████████████████████████████████████████████████████████████████████| 7308/7308 [00:46<00:00, 157.20it/s]\n"
     ]
    },
    {
     "name": "stdout",
     "output_type": "stream",
     "text": [
      "Loss: 405.63664664211683; Average Loss: 0.05550583561057975\n",
      "Validation Loss: 0.12770041823387146\n",
      "-----------------------------------------------------------------\n",
      "Epoch: 75; Bad training epochs: 0; Bad validation epochs: 1\n"
     ]
    },
    {
     "name": "stderr",
     "output_type": "stream",
     "text": [
      "100%|█████████████████████████████████████████████████████████████████████████████████████████████████████████████████████████████████████████████████████████████| 7308/7308 [00:43<00:00, 168.37it/s]\n"
     ]
    },
    {
     "name": "stdout",
     "output_type": "stream",
     "text": [
      "Loss: 405.68003290495835; Average Loss: 0.05551177242815522\n",
      "Validation Loss: 0.1277102530002594\n",
      "-----------------------------------------------------------------\n",
      "Epoch: 76; Bad training epochs: 1; Bad validation epochs: 2\n"
     ]
    },
    {
     "name": "stderr",
     "output_type": "stream",
     "text": [
      "100%|█████████████████████████████████████████████████████████████████████████████████████████████████████████████████████████████████████████████████████████████| 7308/7308 [00:48<00:00, 152.18it/s]\n"
     ]
    },
    {
     "name": "stdout",
     "output_type": "stream",
     "text": [
      "Loss: 405.6489157252945; Average Loss: 0.05550751446706274\n",
      "Validation Loss: 0.12770837545394897\n",
      "-----------------------------------------------------------------\n",
      "Epoch: 77; Bad training epochs: 2; Bad validation epochs: 3\n"
     ]
    },
    {
     "name": "stderr",
     "output_type": "stream",
     "text": [
      "100%|█████████████████████████████████████████████████████████████████████████████████████████████████████████████████████████████████████████████████████████████| 7308/7308 [00:47<00:00, 154.10it/s]\n"
     ]
    },
    {
     "name": "stdout",
     "output_type": "stream",
     "text": [
      "Loss: 405.5335377785377; Average Loss: 0.05549172657068113\n",
      "Validation Loss: 0.12783323228359222\n",
      "-----------------------------------------------------------------\n",
      "Epoch: 78; Bad training epochs: 0; Bad validation epochs: 4\n"
     ]
    },
    {
     "name": "stderr",
     "output_type": "stream",
     "text": [
      "100%|█████████████████████████████████████████████████████████████████████████████████████████████████████████████████████████████████████████████████████████████| 7308/7308 [00:45<00:00, 161.09it/s]\n"
     ]
    },
    {
     "name": "stdout",
     "output_type": "stream",
     "text": [
      "Loss: 405.5403019366786; Average Loss: 0.05549265215334956\n",
      "Validation Loss: 0.12770864367485046\n",
      "-----------------------------------------------------------------\n",
      "Epoch: 79; Bad training epochs: 1; Bad validation epochs: 5\n"
     ]
    },
    {
     "name": "stderr",
     "output_type": "stream",
     "text": [
      "100%|█████████████████████████████████████████████████████████████████████████████████████████████████████████████████████████████████████████████████████████████| 7308/7308 [00:44<00:00, 163.14it/s]\n"
     ]
    },
    {
     "name": "stdout",
     "output_type": "stream",
     "text": [
      "Loss: 405.58383606164716; Average Loss: 0.055498609203837874\n",
      "Validation Loss: 0.12772400677204132\n",
      "-----------------------------------------------------------------\n",
      "Epoch: 80; Bad training epochs: 2; Bad validation epochs: 6\n"
     ]
    },
    {
     "name": "stderr",
     "output_type": "stream",
     "text": [
      "100%|█████████████████████████████████████████████████████████████████████████████████████████████████████████████████████████████████████████████████████████████| 7308/7308 [00:44<00:00, 165.61it/s]\n"
     ]
    },
    {
     "name": "stdout",
     "output_type": "stream",
     "text": [
      "Loss: 405.26693142508157; Average Loss: 0.05545524513205823\n",
      "Validation Loss: 0.12779401242733002\n",
      "-----------------------------------------------------------------\n",
      "Epoch: 81; Bad training epochs: 0; Bad validation epochs: 7\n"
     ]
    },
    {
     "name": "stderr",
     "output_type": "stream",
     "text": [
      "100%|█████████████████████████████████████████████████████████████████████████████████████████████████████████████████████████████████████████████████████████████| 7308/7308 [00:44<00:00, 165.78it/s]\n"
     ]
    },
    {
     "name": "stdout",
     "output_type": "stream",
     "text": [
      "Loss: 405.6081886459142; Average Loss: 0.05550194152242942\n",
      "Validation Loss: 0.12767308950424194\n",
      "-----------------------------------------------------------------\n",
      "Epoch: 82; Bad training epochs: 1; Bad validation epochs: 8\n"
     ]
    },
    {
     "name": "stderr",
     "output_type": "stream",
     "text": [
      "100%|█████████████████████████████████████████████████████████████████████████████████████████████████████████████████████████████████████████████████████████████| 7308/7308 [00:44<00:00, 165.96it/s]\n"
     ]
    },
    {
     "name": "stdout",
     "output_type": "stream",
     "text": [
      "Loss: 405.3514167126268; Average Loss: 0.05546680578990515\n",
      "Validation Loss: 0.12772652506828308\n",
      "-----------------------------------------------------------------\n",
      "Epoch: 83; Bad training epochs: 2; Bad validation epochs: 9\n"
     ]
    },
    {
     "name": "stderr",
     "output_type": "stream",
     "text": [
      "100%|█████████████████████████████████████████████████████████████████████████████████████████████████████████████████████████████████████████████████████████████| 7308/7308 [00:44<00:00, 165.24it/s]\n"
     ]
    },
    {
     "name": "stdout",
     "output_type": "stream",
     "text": [
      "Loss: 405.15990273701027; Average Loss: 0.055440599717708025\n",
      "Validation Loss: 0.1277308464050293\n",
      "-----------------------------------------------------------------\n",
      "Epoch: 84; Bad training epochs: 0; Bad validation epochs: 10\n"
     ]
    },
    {
     "name": "stderr",
     "output_type": "stream",
     "text": [
      "100%|█████████████████████████████████████████████████████████████████████████████████████████████████████████████████████████████████████████████████████████████| 7308/7308 [00:43<00:00, 166.24it/s]\n"
     ]
    },
    {
     "name": "stdout",
     "output_type": "stream",
     "text": [
      "Loss: 405.44681146461517; Average Loss: 0.05547985925897854\n",
      "Validation Loss: 0.1275922954082489\n",
      "############### Saving good model for validation set ###############################\n",
      "-----------------------------------------------------------------\n",
      "Epoch: 85; Bad training epochs: 1; Bad validation epochs: 0\n"
     ]
    },
    {
     "name": "stderr",
     "output_type": "stream",
     "text": [
      "100%|█████████████████████████████████████████████████████████████████████████████████████████████████████████████████████████████████████████████████████████████| 7308/7308 [00:44<00:00, 163.93it/s]\n"
     ]
    },
    {
     "name": "stdout",
     "output_type": "stream",
     "text": [
      "Loss: 405.33556484035216; Average Loss: 0.055464636677661765\n",
      "Validation Loss: 0.12759318947792053\n",
      "-----------------------------------------------------------------\n",
      "Epoch: 86; Bad training epochs: 2; Bad validation epochs: 1\n"
     ]
    },
    {
     "name": "stderr",
     "output_type": "stream",
     "text": [
      "100%|█████████████████████████████████████████████████████████████████████████████████████████████████████████████████████████████████████████████████████████████| 7308/7308 [00:44<00:00, 163.05it/s]\n"
     ]
    },
    {
     "name": "stdout",
     "output_type": "stream",
     "text": [
      "Loss: 405.27943353448063; Average Loss: 0.05545695587499735\n",
      "Validation Loss: 0.1276334822177887\n",
      "-----------------------------------------------------------------\n",
      "Epoch: 87; Bad training epochs: 3; Bad validation epochs: 2\n"
     ]
    },
    {
     "name": "stderr",
     "output_type": "stream",
     "text": [
      "100%|█████████████████████████████████████████████████████████████████████████████████████████████████████████████████████████████████████████████████████████████| 7308/7308 [00:43<00:00, 166.12it/s]\n"
     ]
    },
    {
     "name": "stdout",
     "output_type": "stream",
     "text": [
      "Loss: 405.2145967206452; Average Loss: 0.05544808384245282\n",
      "Validation Loss: 0.1275559663772583\n",
      "############### Saving good model for validation set ###############################\n",
      "-----------------------------------------------------------------\n",
      "Epoch: 88; Bad training epochs: 4; Bad validation epochs: 0\n"
     ]
    },
    {
     "name": "stderr",
     "output_type": "stream",
     "text": [
      "100%|█████████████████████████████████████████████████████████████████████████████████████████████████████████████████████████████████████████████████████████████| 7308/7308 [00:44<00:00, 162.49it/s]\n"
     ]
    },
    {
     "name": "stdout",
     "output_type": "stream",
     "text": [
      "Loss: 405.37463891343214; Average Loss: 0.05546998343095678\n",
      "Validation Loss: 0.1277570128440857\n",
      "-----------------------------------------------------------------\n",
      "Epoch: 89; Bad training epochs: 5; Bad validation epochs: 1\n"
     ]
    },
    {
     "name": "stderr",
     "output_type": "stream",
     "text": [
      "100%|█████████████████████████████████████████████████████████████████████████████████████████████████████████████████████████████████████████████████████████████| 7308/7308 [00:44<00:00, 164.62it/s]\n"
     ]
    },
    {
     "name": "stdout",
     "output_type": "stream",
     "text": [
      "Loss: 404.7945544589311; Average Loss: 0.05539060679514656\n",
      "Validation Loss: 0.12770837545394897\n",
      "-----------------------------------------------------------------\n",
      "Epoch: 90; Bad training epochs: 0; Bad validation epochs: 2\n"
     ]
    },
    {
     "name": "stderr",
     "output_type": "stream",
     "text": [
      "100%|█████████████████████████████████████████████████████████████████████████████████████████████████████████████████████████████████████████████████████████████| 7308/7308 [00:44<00:00, 165.20it/s]\n"
     ]
    },
    {
     "name": "stdout",
     "output_type": "stream",
     "text": [
      "Loss: 404.9579009760637; Average Loss: 0.055412958535312494\n",
      "Validation Loss: 0.12767218053340912\n",
      "-----------------------------------------------------------------\n",
      "Epoch: 91; Bad training epochs: 1; Bad validation epochs: 3\n"
     ]
    },
    {
     "name": "stderr",
     "output_type": "stream",
     "text": [
      "100%|█████████████████████████████████████████████████████████████████████████████████████████████████████████████████████████████████████████████████████████████| 7308/7308 [00:46<00:00, 156.13it/s]\n"
     ]
    },
    {
     "name": "stdout",
     "output_type": "stream",
     "text": [
      "Loss: 404.6861414522864; Average Loss: 0.055375771955704214\n",
      "Validation Loss: 0.1276538074016571\n",
      "-----------------------------------------------------------------\n",
      "Epoch: 92; Bad training epochs: 0; Bad validation epochs: 4\n"
     ]
    },
    {
     "name": "stderr",
     "output_type": "stream",
     "text": [
      "100%|█████████████████████████████████████████████████████████████████████████████████████████████████████████████████████████████████████████████████████████████| 7308/7308 [00:44<00:00, 164.59it/s]\n"
     ]
    },
    {
     "name": "stdout",
     "output_type": "stream",
     "text": [
      "Loss: 404.7279300028458; Average Loss: 0.05538149014817266\n",
      "Validation Loss: 0.12760956585407257\n",
      "-----------------------------------------------------------------\n",
      "Epoch: 93; Bad training epochs: 1; Bad validation epochs: 5\n"
     ]
    },
    {
     "name": "stderr",
     "output_type": "stream",
     "text": [
      "100%|█████████████████████████████████████████████████████████████████████████████████████████████████████████████████████████████████████████████████████████████| 7308/7308 [00:44<00:00, 164.63it/s]\n"
     ]
    },
    {
     "name": "stdout",
     "output_type": "stream",
     "text": [
      "Loss: 404.6240898396354; Average Loss: 0.055367281039906326\n",
      "Validation Loss: 0.1276882439851761\n",
      "-----------------------------------------------------------------\n",
      "Epoch: 94; Bad training epochs: 0; Bad validation epochs: 6\n"
     ]
    },
    {
     "name": "stderr",
     "output_type": "stream",
     "text": [
      "100%|█████████████████████████████████████████████████████████████████████████████████████████████████████████████████████████████████████████████████████████████| 7308/7308 [00:46<00:00, 158.76it/s]\n"
     ]
    },
    {
     "name": "stdout",
     "output_type": "stream",
     "text": [
      "Loss: 404.4248322758358; Average Loss: 0.05534001536341486\n",
      "Validation Loss: 0.12786434590816498\n",
      "-----------------------------------------------------------------\n",
      "Epoch: 95; Bad training epochs: 0; Bad validation epochs: 7\n"
     ]
    },
    {
     "name": "stderr",
     "output_type": "stream",
     "text": [
      "100%|█████████████████████████████████████████████████████████████████████████████████████████████████████████████████████████████████████████████████████████████| 7308/7308 [00:46<00:00, 156.16it/s]\n"
     ]
    },
    {
     "name": "stdout",
     "output_type": "stream",
     "text": [
      "Loss: 404.53389175236225; Average Loss: 0.05535493866343216\n",
      "Validation Loss: 0.12759478390216827\n",
      "-----------------------------------------------------------------\n",
      "Epoch: 96; Bad training epochs: 1; Bad validation epochs: 8\n"
     ]
    },
    {
     "name": "stderr",
     "output_type": "stream",
     "text": [
      "100%|█████████████████████████████████████████████████████████████████████████████████████████████████████████████████████████████████████████████████████████████| 7308/7308 [00:44<00:00, 165.00it/s]\n"
     ]
    },
    {
     "name": "stdout",
     "output_type": "stream",
     "text": [
      "Loss: 404.57604538160376; Average Loss: 0.05536070681193264\n",
      "Validation Loss: 0.12759841978549957\n",
      "-----------------------------------------------------------------\n",
      "Epoch: 97; Bad training epochs: 2; Bad validation epochs: 9\n"
     ]
    },
    {
     "name": "stderr",
     "output_type": "stream",
     "text": [
      "100%|█████████████████████████████████████████████████████████████████████████████████████████████████████████████████████████████████████████████████████████████| 7308/7308 [00:44<00:00, 162.88it/s]\n"
     ]
    },
    {
     "name": "stdout",
     "output_type": "stream",
     "text": [
      "Loss: 404.57047104788944; Average Loss: 0.055359944040488426\n",
      "Validation Loss: 0.12761834263801575\n",
      "-----------------------------------------------------------------\n",
      "Epoch: 98; Bad training epochs: 3; Bad validation epochs: 10\n"
     ]
    },
    {
     "name": "stderr",
     "output_type": "stream",
     "text": [
      "100%|█████████████████████████████████████████████████████████████████████████████████████████████████████████████████████████████████████████████████████████████| 7308/7308 [00:44<00:00, 165.12it/s]\n"
     ]
    },
    {
     "name": "stdout",
     "output_type": "stream",
     "text": [
      "Loss: 404.6823293340858; Average Loss: 0.05537525031938777\n",
      "Validation Loss: 0.1276094615459442\n",
      "Epoch 00099: reducing learning rate of group 0 to 1.0000e-06.\n",
      "-----------------------------------------------------------------\n",
      "Epoch: 99; Bad training epochs: 4; Bad validation epochs: 11\n"
     ]
    },
    {
     "name": "stderr",
     "output_type": "stream",
     "text": [
      "100%|█████████████████████████████████████████████████████████████████████████████████████████████████████████████████████████████████████████████████████████████| 7308/7308 [00:49<00:00, 147.12it/s]\n"
     ]
    },
    {
     "name": "stdout",
     "output_type": "stream",
     "text": [
      "Loss: 404.42209286266007; Average Loss: 0.055339640512131916\n",
      "Validation Loss: 0.12767602503299713\n",
      "-----------------------------------------------------------------\n",
      "Epoch: 100; Bad training epochs: 0; Bad validation epochs: 12\n"
     ]
    },
    {
     "name": "stderr",
     "output_type": "stream",
     "text": [
      "100%|█████████████████████████████████████████████████████████████████████████████████████████████████████████████████████████████████████████████████████████████| 7308/7308 [00:44<00:00, 163.88it/s]\n"
     ]
    },
    {
     "name": "stdout",
     "output_type": "stream",
     "text": [
      "Loss: 404.24339258717373; Average Loss: 0.055315187819810305\n",
      "Validation Loss: 0.12766973674297333\n",
      "-----------------------------------------------------------------\n",
      "Epoch: 101; Bad training epochs: 0; Bad validation epochs: 13\n"
     ]
    },
    {
     "name": "stderr",
     "output_type": "stream",
     "text": [
      "100%|█████████████████████████████████████████████████████████████████████████████████████████████████████████████████████████████████████████████████████████████| 7308/7308 [00:45<00:00, 161.57it/s]\n"
     ]
    },
    {
     "name": "stdout",
     "output_type": "stream",
     "text": [
      "Loss: 404.1479934870731; Average Loss: 0.055302133755757134\n",
      "Validation Loss: 0.12768979370594025\n",
      "-----------------------------------------------------------------\n",
      "Epoch: 102; Bad training epochs: 0; Bad validation epochs: 14\n"
     ]
    },
    {
     "name": "stderr",
     "output_type": "stream",
     "text": [
      "100%|█████████████████████████████████████████████████████████████████████████████████████████████████████████████████████████████████████████████████████████████| 7308/7308 [00:46<00:00, 158.30it/s]\n"
     ]
    },
    {
     "name": "stdout",
     "output_type": "stream",
     "text": [
      "Loss: 404.09231403144076; Average Loss: 0.05529451478262736\n",
      "Validation Loss: 0.12765811383724213\n",
      "-----------------------------------------------------------------\n",
      "Epoch: 103; Bad training epochs: 0; Bad validation epochs: 15\n"
     ]
    },
    {
     "name": "stderr",
     "output_type": "stream",
     "text": [
      "100%|█████████████████████████████████████████████████████████████████████████████████████████████████████████████████████████████████████████████████████████████| 7308/7308 [00:46<00:00, 157.76it/s]\n"
     ]
    },
    {
     "name": "stdout",
     "output_type": "stream",
     "text": [
      "Loss: 403.9869518671185; Average Loss: 0.05528009740929372\n",
      "Validation Loss: 0.12764589488506317\n",
      "-----------------------------------------------------------------\n",
      "Epoch: 104; Bad training epochs: 0; Bad validation epochs: 16\n"
     ]
    },
    {
     "name": "stderr",
     "output_type": "stream",
     "text": [
      "100%|█████████████████████████████████████████████████████████████████████████████████████████████████████████████████████████████████████████████████████████████| 7308/7308 [00:46<00:00, 158.77it/s]\n"
     ]
    },
    {
     "name": "stdout",
     "output_type": "stream",
     "text": [
      "Loss: 403.9940416023601; Average Loss: 0.05528106754274221\n",
      "Validation Loss: 0.127643421292305\n",
      "-----------------------------------------------------------------\n",
      "Epoch: 105; Bad training epochs: 1; Bad validation epochs: 17\n"
     ]
    },
    {
     "name": "stderr",
     "output_type": "stream",
     "text": [
      "100%|█████████████████████████████████████████████████████████████████████████████████████████████████████████████████████████████████████████████████████████████| 7308/7308 [00:46<00:00, 156.84it/s]\n"
     ]
    },
    {
     "name": "stdout",
     "output_type": "stream",
     "text": [
      "Loss: 403.94463262544014; Average Loss: 0.055274306598992906\n",
      "Validation Loss: 0.12764737010002136\n",
      "-----------------------------------------------------------------\n",
      "Epoch: 106; Bad training epochs: 0; Bad validation epochs: 18\n"
     ]
    },
    {
     "name": "stderr",
     "output_type": "stream",
     "text": [
      "100%|█████████████████████████████████████████████████████████████████████████████████████████████████████████████████████████████████████████████████████████████| 7308/7308 [00:47<00:00, 153.09it/s]\n"
     ]
    },
    {
     "name": "stdout",
     "output_type": "stream",
     "text": [
      "Loss: 403.8890296595637; Average Loss: 0.05526669809244166\n",
      "Validation Loss: 0.1276375651359558\n",
      "-----------------------------------------------------------------\n",
      "Epoch: 107; Bad training epochs: 0; Bad validation epochs: 19\n"
     ]
    },
    {
     "name": "stderr",
     "output_type": "stream",
     "text": [
      "100%|█████████████████████████████████████████████████████████████████████████████████████████████████████████████████████████████████████████████████████████████| 7308/7308 [00:50<00:00, 145.50it/s]\n"
     ]
    },
    {
     "name": "stdout",
     "output_type": "stream",
     "text": [
      "Loss: 403.8627452556975; Average Loss: 0.05526310143071942\n",
      "Validation Loss: 0.12763595581054688\n",
      "Done, best training loss per epoch: 403.8627452556975; best validation loss: 0.1275559663772583\n",
      "Done\n"
     ]
    },
    {
     "data": {
      "text/plain": [
       "<All keys matched successfully>"
      ]
     },
     "execution_count": 19,
     "metadata": {},
     "output_type": "execute_result"
    }
   ],
   "source": [
    "train_loss_list=[]\n",
    "avg_train_loss_list=[]\n",
    "\n",
    "val_loss_list = []\n",
    "avg_val_loss_list=[]\n",
    "\n",
    "\n",
    "# Best loss\n",
    "best_train_loss = 1e16\n",
    "best_val_loss = 1e16\n",
    "num_bad_epochs_train = 0\n",
    "num_bad_epochs_val = 0\n",
    "patience = 20\n",
    "\n",
    "for epoch in range(1000):\n",
    "    print(\"-----------------------------------------------------------------\")\n",
    "    print(\"Epoch: {}; Bad training epochs: {}; Bad validation epochs: {}\".format(epoch, num_bad_epochs_train, num_bad_epochs_val))\n",
    "    net.train()\n",
    "    running_train_loss = 0.\n",
    "    \n",
    "#     Training\n",
    "    for i, X_batch in enumerate(tqdm(trainloader), 0):\n",
    "        optimizer.zero_grad()\n",
    "        X_pred, theta, phi, mu_cart_pred, lambda_par_pred, lambda_iso_pred, volume_0_pred, volume_1_pred = net(X_batch)\n",
    "        # if i == 1:\n",
    "        #     print(\"Prediction:\")\n",
    "        #     print(X_pred)\n",
    "        #     print(\"Real:\")\n",
    "        #     print(X_batch)\n",
    "        loss = criterion(X_pred.type(torch.FloatTensor), X_batch.type(torch.FloatTensor))\n",
    "        loss.backward()\n",
    "        optimizer.step()\n",
    "        running_train_loss += loss.item()\n",
    "        \n",
    "    train_loss_list.append(running_train_loss)\n",
    "    avg_train_loss_list.append(running_train_loss/num_batches)\n",
    "    print(\"Loss: {}; Average Loss: {}\".format(running_train_loss, running_train_loss/num_batches))\n",
    "    \n",
    "#     Validation\n",
    "    temp_model = net.state_dict()\n",
    "    val_net = network.BallStickNet(gradient_directions_val_set, b_values_val_set)\n",
    "    val_net.load_state_dict(temp_model)\n",
    "    val_net.eval()\n",
    "    with torch.no_grad():\n",
    "        val_pred, _, _, _, _, _, _, _ = val_net(val_set)\n",
    "        # print(\"Val Prediction:\")\n",
    "        # print(val_pred)\n",
    "        # print(\"Val Real:\")\n",
    "        # print(val_set)\n",
    "        val_loss = criterion(val_pred.type(torch.FloatTensor), val_set.type(torch.FloatTensor))\n",
    "        running_val_loss = val_loss.item()\n",
    "        val_loss_list.append(running_val_loss)\n",
    "        print(\"Validation Loss: {}\".format(running_val_loss))\n",
    "        \n",
    "    scheduler.step(running_val_loss)\n",
    "    \n",
    "    if running_train_loss < best_train_loss:\n",
    "        best_train_loss = running_train_loss\n",
    "        num_bad_epochs_train = 0\n",
    "        \n",
    "    elif running_train_loss >= best_train_loss:\n",
    "        num_bad_epochs_train = num_bad_epochs_train + 1\n",
    "\n",
    "    if running_val_loss < best_val_loss:\n",
    "        print(\"############### Saving good model for validation set ###############################\")\n",
    "        final_model_valset = net.state_dict()\n",
    "        best_val_loss = running_val_loss\n",
    "        num_bad_epochs_val = 0\n",
    "    elif running_val_loss >= best_val_loss:\n",
    "        num_bad_epochs_val += 1\n",
    "        if num_bad_epochs_val == patience:\n",
    "            print(\"Done, best training loss per epoch: {}; best validation loss: {}\".format(best_train_loss, best_val_loss))\n",
    "            break\n",
    "\n",
    "print(\"Done\") \n",
    "net.load_state_dict(final_model_valset)"
   ]
  },
  {
   "cell_type": "code",
   "execution_count": 20,
   "id": "4cb00feb-fbed-47d0-9ad8-f685e5679991",
   "metadata": {
    "collapsed": true,
    "jupyter": {
     "outputs_hidden": true,
     "source_hidden": true
    },
    "tags": []
   },
   "outputs": [
    {
     "name": "stdout",
     "output_type": "stream",
     "text": [
      "-----------------------------------------------------------------\n",
      "Epoch: 0; Bad training epochs: 0; Bad validation epochs: 0\n"
     ]
    },
    {
     "name": "stderr",
     "output_type": "stream",
     "text": [
      "100%|██████████████████████████████████████████████████████████████████████████████████████████████████████████████████████████████████████████████████████████████| 7308/7308 [01:16<00:00, 95.13it/s]\n"
     ]
    },
    {
     "name": "stdout",
     "output_type": "stream",
     "text": [
      "Loss: 511.8854932896793; Average Loss: 0.0700445393116693\n",
      "Validation Loss: 0.1299947053194046\n",
      "############### Saving good model for training set ###############################\n",
      "############### Saving good model for validation set ###############################\n",
      "-----------------------------------------------------------------\n",
      "Epoch: 1; Bad training epochs: 0; Bad validation epochs: 0\n"
     ]
    },
    {
     "name": "stderr",
     "output_type": "stream",
     "text": [
      "100%|██████████████████████████████████████████████████████████████████████████████████████████████████████████████████████████████████████████████████████████████| 7308/7308 [01:21<00:00, 89.97it/s]\n"
     ]
    },
    {
     "name": "stdout",
     "output_type": "stream",
     "text": [
      "Loss: 427.40542918257415; Average Loss: 0.058484596220932425\n",
      "Validation Loss: 0.1299065202474594\n",
      "############### Saving good model for training set ###############################\n",
      "############### Saving good model for validation set ###############################\n",
      "-----------------------------------------------------------------\n",
      "Epoch: 2; Bad training epochs: 0; Bad validation epochs: 0\n"
     ]
    },
    {
     "name": "stderr",
     "output_type": "stream",
     "text": [
      "100%|█████████████████████████████████████████████████████████████████████████████████████████████████████████████████████████████████████████████████████████████| 7308/7308 [01:07<00:00, 109.01it/s]\n"
     ]
    },
    {
     "name": "stdout",
     "output_type": "stream",
     "text": [
      "Loss: 425.4831663335208; Average Loss: 0.05822156080097438\n",
      "Validation Loss: 0.12955674529075623\n",
      "############### Saving good model for training set ###############################\n",
      "############### Saving good model for validation set ###############################\n",
      "-----------------------------------------------------------------\n",
      "Epoch: 3; Bad training epochs: 0; Bad validation epochs: 0\n"
     ]
    },
    {
     "name": "stderr",
     "output_type": "stream",
     "text": [
      "100%|█████████████████████████████████████████████████████████████████████████████████████████████████████████████████████████████████████████████████████████████| 7308/7308 [01:07<00:00, 107.92it/s]\n"
     ]
    },
    {
     "name": "stdout",
     "output_type": "stream",
     "text": [
      "Loss: 424.690059609944; Average Loss: 0.058113034976730156\n",
      "Validation Loss: 0.1294330209493637\n",
      "############### Saving good model for training set ###############################\n",
      "############### Saving good model for validation set ###############################\n",
      "-----------------------------------------------------------------\n",
      "Epoch: 4; Bad training epochs: 0; Bad validation epochs: 0\n"
     ]
    },
    {
     "name": "stderr",
     "output_type": "stream",
     "text": [
      "100%|█████████████████████████████████████████████████████████████████████████████████████████████████████████████████████████████████████████████████████████████| 7308/7308 [00:53<00:00, 136.51it/s]\n"
     ]
    },
    {
     "name": "stdout",
     "output_type": "stream",
     "text": [
      "Loss: 423.2703521531075; Average Loss: 0.05791876739916633\n",
      "Validation Loss: 0.12943217158317566\n",
      "############### Saving good model for training set ###############################\n",
      "############### Saving good model for validation set ###############################\n",
      "-----------------------------------------------------------------\n",
      "Epoch: 5; Bad training epochs: 0; Bad validation epochs: 0\n"
     ]
    },
    {
     "name": "stderr",
     "output_type": "stream",
     "text": [
      "100%|██████████████████████████████████████████████████████████████████████████████████████████████████████████████████████████████████████████████████████████████| 7308/7308 [01:19<00:00, 91.94it/s]\n"
     ]
    },
    {
     "name": "stdout",
     "output_type": "stream",
     "text": [
      "Loss: 422.9477045806125; Average Loss: 0.05787461748503181\n",
      "Validation Loss: 0.1295289397239685\n",
      "############### Saving good model for training set ###############################\n",
      "-----------------------------------------------------------------\n",
      "Epoch: 6; Bad training epochs: 0; Bad validation epochs: 1\n"
     ]
    },
    {
     "name": "stderr",
     "output_type": "stream",
     "text": [
      "100%|█████████████████████████████████████████████████████████████████████████████████████████████████████████████████████████████████████████████████████████████| 7308/7308 [01:10<00:00, 102.94it/s]\n"
     ]
    },
    {
     "name": "stdout",
     "output_type": "stream",
     "text": [
      "Loss: 422.34796363138594; Average Loss: 0.05779255112635275\n",
      "Validation Loss: 0.12918882071971893\n",
      "############### Saving good model for training set ###############################\n",
      "############### Saving good model for validation set ###############################\n",
      "-----------------------------------------------------------------\n",
      "Epoch: 7; Bad training epochs: 0; Bad validation epochs: 0\n"
     ]
    },
    {
     "name": "stderr",
     "output_type": "stream",
     "text": [
      "100%|█████████████████████████████████████████████████████████████████████████████████████████████████████████████████████████████████████████████████████████████| 7308/7308 [01:00<00:00, 121.51it/s]\n"
     ]
    },
    {
     "name": "stdout",
     "output_type": "stream",
     "text": [
      "Loss: 421.71211389964446; Average Loss: 0.05770554377389771\n",
      "Validation Loss: 0.1297616809606552\n",
      "############### Saving good model for training set ###############################\n",
      "-----------------------------------------------------------------\n",
      "Epoch: 8; Bad training epochs: 0; Bad validation epochs: 1\n"
     ]
    },
    {
     "name": "stderr",
     "output_type": "stream",
     "text": [
      "100%|█████████████████████████████████████████████████████████████████████████████████████████████████████████████████████████████████████████████████████████████| 7308/7308 [01:08<00:00, 107.47it/s]\n"
     ]
    },
    {
     "name": "stdout",
     "output_type": "stream",
     "text": [
      "Loss: 420.79544188501313; Average Loss: 0.057580109727013294\n",
      "Validation Loss: 0.1293657273054123\n",
      "############### Saving good model for training set ###############################\n",
      "-----------------------------------------------------------------\n",
      "Epoch: 9; Bad training epochs: 0; Bad validation epochs: 2\n"
     ]
    },
    {
     "name": "stderr",
     "output_type": "stream",
     "text": [
      "100%|█████████████████████████████████████████████████████████████████████████████████████████████████████████████████████████████████████████████████████████████| 7308/7308 [00:59<00:00, 123.45it/s]\n"
     ]
    },
    {
     "name": "stdout",
     "output_type": "stream",
     "text": [
      "Loss: 420.6230219716672; Average Loss: 0.05755651641648429\n",
      "Validation Loss: 0.12930254638195038\n",
      "############### Saving good model for training set ###############################\n",
      "-----------------------------------------------------------------\n",
      "Epoch: 10; Bad training epochs: 0; Bad validation epochs: 3\n"
     ]
    },
    {
     "name": "stderr",
     "output_type": "stream",
     "text": [
      "100%|█████████████████████████████████████████████████████████████████████████████████████████████████████████████████████████████████████████████████████████████| 7308/7308 [00:47<00:00, 154.05it/s]\n"
     ]
    },
    {
     "name": "stdout",
     "output_type": "stream",
     "text": [
      "Loss: 420.5262333438732; Average Loss: 0.05754327221454203\n",
      "Validation Loss: 0.12927980720996857\n",
      "############### Saving good model for training set ###############################\n",
      "-----------------------------------------------------------------\n",
      "Epoch: 11; Bad training epochs: 0; Bad validation epochs: 4\n"
     ]
    },
    {
     "name": "stderr",
     "output_type": "stream",
     "text": [
      "100%|█████████████████████████████████████████████████████████████████████████████████████████████████████████████████████████████████████████████████████████████| 7308/7308 [00:47<00:00, 152.68it/s]\n"
     ]
    },
    {
     "name": "stdout",
     "output_type": "stream",
     "text": [
      "Loss: 420.2259995173663; Average Loss: 0.05750218931545789\n",
      "Validation Loss: 0.1294548660516739\n",
      "############### Saving good model for training set ###############################\n",
      "-----------------------------------------------------------------\n",
      "Epoch: 12; Bad training epochs: 0; Bad validation epochs: 5\n"
     ]
    },
    {
     "name": "stderr",
     "output_type": "stream",
     "text": [
      "100%|█████████████████████████████████████████████████████████████████████████████████████████████████████████████████████████████████████████████████████████████| 7308/7308 [00:55<00:00, 131.55it/s]\n"
     ]
    },
    {
     "name": "stdout",
     "output_type": "stream",
     "text": [
      "Loss: 420.13495861086994; Average Loss: 0.057489731610682805\n",
      "Validation Loss: 0.1292850524187088\n",
      "############### Saving good model for training set ###############################\n",
      "-----------------------------------------------------------------\n",
      "Epoch: 13; Bad training epochs: 0; Bad validation epochs: 6\n"
     ]
    },
    {
     "name": "stderr",
     "output_type": "stream",
     "text": [
      "100%|█████████████████████████████████████████████████████████████████████████████████████████████████████████████████████████████████████████████████████████████| 7308/7308 [01:05<00:00, 110.90it/s]\n"
     ]
    },
    {
     "name": "stdout",
     "output_type": "stream",
     "text": [
      "Loss: 419.2094090040773; Average Loss: 0.05736308278654589\n",
      "Validation Loss: 0.12904180586338043\n",
      "############### Saving good model for training set ###############################\n",
      "############### Saving good model for validation set ###############################\n",
      "-----------------------------------------------------------------\n",
      "Epoch: 14; Bad training epochs: 0; Bad validation epochs: 0\n"
     ]
    },
    {
     "name": "stderr",
     "output_type": "stream",
     "text": [
      "100%|██████████████████████████████████████████████████████████████████████████████████████████████████████████████████████████████████████████████████████████████| 7308/7308 [01:21<00:00, 90.13it/s]\n"
     ]
    },
    {
     "name": "stdout",
     "output_type": "stream",
     "text": [
      "Loss: 419.85248839715496; Average Loss: 0.057451079419424594\n",
      "Validation Loss: 0.12920905649662018\n",
      "-----------------------------------------------------------------\n",
      "Epoch: 15; Bad training epochs: 1; Bad validation epochs: 1\n"
     ]
    },
    {
     "name": "stderr",
     "output_type": "stream",
     "text": [
      "100%|█████████████████████████████████████████████████████████████████████████████████████████████████████████████████████████████████████████████████████████████| 7308/7308 [01:06<00:00, 109.75it/s]\n"
     ]
    },
    {
     "name": "stdout",
     "output_type": "stream",
     "text": [
      "Loss: 419.451611018274; Average Loss: 0.0573962248246133\n",
      "Validation Loss: 0.1292712539434433\n",
      "-----------------------------------------------------------------\n",
      "Epoch: 16; Bad training epochs: 2; Bad validation epochs: 2\n"
     ]
    },
    {
     "name": "stderr",
     "output_type": "stream",
     "text": [
      "100%|█████████████████████████████████████████████████████████████████████████████████████████████████████████████████████████████████████████████████████████████| 7308/7308 [01:08<00:00, 106.61it/s]\n"
     ]
    },
    {
     "name": "stdout",
     "output_type": "stream",
     "text": [
      "Loss: 419.1725282149855; Average Loss: 0.057358036154212574\n",
      "Validation Loss: 0.12904468178749084\n",
      "############### Saving good model for training set ###############################\n",
      "-----------------------------------------------------------------\n",
      "Epoch: 17; Bad training epochs: 0; Bad validation epochs: 3\n"
     ]
    },
    {
     "name": "stderr",
     "output_type": "stream",
     "text": [
      "100%|█████████████████████████████████████████████████████████████████████████████████████████████████████████████████████████████████████████████████████████████| 7308/7308 [01:05<00:00, 111.37it/s]\n"
     ]
    },
    {
     "name": "stdout",
     "output_type": "stream",
     "text": [
      "Loss: 419.2594358418137; Average Loss: 0.057369928276110246\n",
      "Validation Loss: 0.1288200318813324\n",
      "ATTENTION: the loss on the train set is increasing while the loss on the validation set is decreasing. \n",
      "-----------------------------------------------------------------\n",
      "Epoch: 18; Bad training epochs: 1; Bad validation epochs: 0\n"
     ]
    },
    {
     "name": "stderr",
     "output_type": "stream",
     "text": [
      "100%|█████████████████████████████████████████████████████████████████████████████████████████████████████████████████████████████████████████████████████████████| 7308/7308 [01:07<00:00, 108.66it/s]\n"
     ]
    },
    {
     "name": "stdout",
     "output_type": "stream",
     "text": [
      "Loss: 418.05214946507476; Average Loss: 0.05720472762247876\n",
      "Validation Loss: 0.12903809547424316\n",
      "############### Saving good model for training set ###############################\n",
      "-----------------------------------------------------------------\n",
      "Epoch: 19; Bad training epochs: 0; Bad validation epochs: 1\n"
     ]
    },
    {
     "name": "stderr",
     "output_type": "stream",
     "text": [
      "100%|█████████████████████████████████████████████████████████████████████████████████████████████████████████████████████████████████████████████████████████████| 7308/7308 [01:02<00:00, 116.50it/s]\n"
     ]
    },
    {
     "name": "stdout",
     "output_type": "stream",
     "text": [
      "Loss: 418.6750833662227; Average Loss: 0.05728996761989911\n",
      "Validation Loss: 0.12899525463581085\n",
      "-----------------------------------------------------------------\n",
      "Epoch: 20; Bad training epochs: 1; Bad validation epochs: 2\n"
     ]
    },
    {
     "name": "stderr",
     "output_type": "stream",
     "text": [
      "100%|█████████████████████████████████████████████████████████████████████████████████████████████████████████████████████████████████████████████████████████████| 7308/7308 [00:48<00:00, 149.79it/s]\n"
     ]
    },
    {
     "name": "stdout",
     "output_type": "stream",
     "text": [
      "Loss: 417.52194156777114; Average Loss: 0.057132175912393425\n",
      "Validation Loss: 0.12899154424667358\n",
      "############### Saving good model for training set ###############################\n",
      "-----------------------------------------------------------------\n",
      "Epoch: 21; Bad training epochs: 0; Bad validation epochs: 3\n"
     ]
    },
    {
     "name": "stderr",
     "output_type": "stream",
     "text": [
      "100%|█████████████████████████████████████████████████████████████████████████████████████████████████████████████████████████████████████████████████████████████| 7308/7308 [00:46<00:00, 155.50it/s]\n"
     ]
    },
    {
     "name": "stdout",
     "output_type": "stream",
     "text": [
      "Loss: 417.5707724841777; Average Loss: 0.05713885775645563\n",
      "Validation Loss: 0.12911760807037354\n",
      "-----------------------------------------------------------------\n",
      "Epoch: 22; Bad training epochs: 1; Bad validation epochs: 4\n"
     ]
    },
    {
     "name": "stderr",
     "output_type": "stream",
     "text": [
      "100%|█████████████████████████████████████████████████████████████████████████████████████████████████████████████████████████████████████████████████████████████| 7308/7308 [00:45<00:00, 159.59it/s]\n"
     ]
    },
    {
     "name": "stdout",
     "output_type": "stream",
     "text": [
      "Loss: 417.52027529478073; Average Loss: 0.057131947905689755\n",
      "Validation Loss: 0.12871740758419037\n",
      "############### Saving good model for training set ###############################\n",
      "############### Saving good model for validation set ###############################\n",
      "-----------------------------------------------------------------\n",
      "Epoch: 23; Bad training epochs: 0; Bad validation epochs: 0\n"
     ]
    },
    {
     "name": "stderr",
     "output_type": "stream",
     "text": [
      "100%|█████████████████████████████████████████████████████████████████████████████████████████████████████████████████████████████████████████████████████████████| 7308/7308 [00:46<00:00, 156.17it/s]\n"
     ]
    },
    {
     "name": "stdout",
     "output_type": "stream",
     "text": [
      "Loss: 417.1194430689793; Average Loss: 0.05707709948946077\n",
      "Validation Loss: 0.12889082729816437\n",
      "############### Saving good model for training set ###############################\n",
      "-----------------------------------------------------------------\n",
      "Epoch: 24; Bad training epochs: 0; Bad validation epochs: 1\n"
     ]
    },
    {
     "name": "stderr",
     "output_type": "stream",
     "text": [
      "100%|█████████████████████████████████████████████████████████████████████████████████████████████████████████████████████████████████████████████████████████████| 7308/7308 [01:05<00:00, 111.80it/s]\n"
     ]
    },
    {
     "name": "stdout",
     "output_type": "stream",
     "text": [
      "Loss: 416.9677470617462; Average Loss: 0.05705634196247211\n",
      "Validation Loss: 0.12885822355747223\n",
      "############### Saving good model for training set ###############################\n",
      "-----------------------------------------------------------------\n",
      "Epoch: 25; Bad training epochs: 0; Bad validation epochs: 2\n"
     ]
    },
    {
     "name": "stderr",
     "output_type": "stream",
     "text": [
      "100%|█████████████████████████████████████████████████████████████████████████████████████████████████████████████████████████████████████████████████████████████| 7308/7308 [00:44<00:00, 164.88it/s]\n"
     ]
    },
    {
     "name": "stdout",
     "output_type": "stream",
     "text": [
      "Loss: 417.39468135661446; Average Loss: 0.057114762090396065\n",
      "Validation Loss: 0.12879729270935059\n",
      "-----------------------------------------------------------------\n",
      "Epoch: 26; Bad training epochs: 1; Bad validation epochs: 3\n"
     ]
    },
    {
     "name": "stderr",
     "output_type": "stream",
     "text": [
      "100%|█████████████████████████████████████████████████████████████████████████████████████████████████████████████████████████████████████████████████████████████| 7308/7308 [00:46<00:00, 155.63it/s]\n"
     ]
    },
    {
     "name": "stdout",
     "output_type": "stream",
     "text": [
      "Loss: 416.3707834985107; Average Loss: 0.056974655651137206\n",
      "Validation Loss: 0.1287968009710312\n",
      "############### Saving good model for training set ###############################\n",
      "-----------------------------------------------------------------\n",
      "Epoch: 27; Bad training epochs: 0; Bad validation epochs: 4\n"
     ]
    },
    {
     "name": "stderr",
     "output_type": "stream",
     "text": [
      "100%|█████████████████████████████████████████████████████████████████████████████████████████████████████████████████████████████████████████████████████████████| 7308/7308 [01:02<00:00, 116.98it/s]\n"
     ]
    },
    {
     "name": "stdout",
     "output_type": "stream",
     "text": [
      "Loss: 415.46330519369803; Average Loss: 0.056850479637889716\n",
      "Validation Loss: 0.12890468537807465\n",
      "############### Saving good model for training set ###############################\n",
      "-----------------------------------------------------------------\n",
      "Epoch: 28; Bad training epochs: 0; Bad validation epochs: 5\n"
     ]
    },
    {
     "name": "stderr",
     "output_type": "stream",
     "text": [
      "100%|█████████████████████████████████████████████████████████████████████████████████████████████████████████████████████████████████████████████████████████████| 7308/7308 [01:01<00:00, 119.53it/s]\n"
     ]
    },
    {
     "name": "stdout",
     "output_type": "stream",
     "text": [
      "Loss: 415.5876192394644; Average Loss: 0.056867490317387026\n",
      "Validation Loss: 0.1285337507724762\n",
      "ATTENTION: the loss on the train set is increasing while the loss on the validation set is decreasing. \n",
      "-----------------------------------------------------------------\n",
      "Epoch: 29; Bad training epochs: 1; Bad validation epochs: 0\n"
     ]
    },
    {
     "name": "stderr",
     "output_type": "stream",
     "text": [
      "100%|█████████████████████████████████████████████████████████████████████████████████████████████████████████████████████████████████████████████████████████████| 7308/7308 [01:01<00:00, 118.99it/s]\n"
     ]
    },
    {
     "name": "stdout",
     "output_type": "stream",
     "text": [
      "Loss: 414.0793320930097; Average Loss: 0.05666110181896685\n",
      "Validation Loss: 0.1284753829240799\n",
      "############### Saving good model for training set ###############################\n",
      "############### Saving good model for validation set ###############################\n",
      "-----------------------------------------------------------------\n",
      "Epoch: 30; Bad training epochs: 0; Bad validation epochs: 0\n"
     ]
    },
    {
     "name": "stderr",
     "output_type": "stream",
     "text": [
      "100%|█████████████████████████████████████████████████████████████████████████████████████████████████████████████████████████████████████████████████████████████| 7308/7308 [00:55<00:00, 131.66it/s]\n"
     ]
    },
    {
     "name": "stdout",
     "output_type": "stream",
     "text": [
      "Loss: 413.58647022536024; Average Loss: 0.05659366040303233\n",
      "Validation Loss: 0.12825153768062592\n",
      "############### Saving good model for training set ###############################\n",
      "############### Saving good model for validation set ###############################\n",
      "-----------------------------------------------------------------\n",
      "Epoch: 31; Bad training epochs: 0; Bad validation epochs: 0\n"
     ]
    },
    {
     "name": "stderr",
     "output_type": "stream",
     "text": [
      "100%|█████████████████████████████████████████████████████████████████████████████████████████████████████████████████████████████████████████████████████████████| 7308/7308 [00:47<00:00, 154.34it/s]\n"
     ]
    },
    {
     "name": "stdout",
     "output_type": "stream",
     "text": [
      "Loss: 413.0350500792265; Average Loss: 0.05651820608637473\n",
      "Validation Loss: 0.12817518413066864\n",
      "############### Saving good model for training set ###############################\n",
      "############### Saving good model for validation set ###############################\n",
      "-----------------------------------------------------------------\n",
      "Epoch: 32; Bad training epochs: 0; Bad validation epochs: 0\n"
     ]
    },
    {
     "name": "stderr",
     "output_type": "stream",
     "text": [
      "100%|█████████████████████████████████████████████████████████████████████████████████████████████████████████████████████████████████████████████████████████████| 7308/7308 [00:48<00:00, 151.91it/s]\n"
     ]
    },
    {
     "name": "stdout",
     "output_type": "stream",
     "text": [
      "Loss: 413.01478138612583; Average Loss: 0.05651543259251859\n",
      "Validation Loss: 0.12834736704826355\n",
      "############### Saving good model for training set ###############################\n",
      "-----------------------------------------------------------------\n",
      "Epoch: 33; Bad training epochs: 0; Bad validation epochs: 1\n"
     ]
    },
    {
     "name": "stderr",
     "output_type": "stream",
     "text": [
      "100%|█████████████████████████████████████████████████████████████████████████████████████████████████████████████████████████████████████████████████████████████| 7308/7308 [00:49<00:00, 148.43it/s]\n"
     ]
    },
    {
     "name": "stdout",
     "output_type": "stream",
     "text": [
      "Loss: 412.58481763582677; Average Loss: 0.05645659792498998\n",
      "Validation Loss: 0.12826217710971832\n",
      "############### Saving good model for training set ###############################\n",
      "-----------------------------------------------------------------\n",
      "Epoch: 34; Bad training epochs: 0; Bad validation epochs: 2\n"
     ]
    },
    {
     "name": "stderr",
     "output_type": "stream",
     "text": [
      "100%|█████████████████████████████████████████████████████████████████████████████████████████████████████████████████████████████████████████████████████████████| 7308/7308 [00:52<00:00, 138.96it/s]\n"
     ]
    },
    {
     "name": "stdout",
     "output_type": "stream",
     "text": [
      "Loss: 412.93402657541446; Average Loss: 0.056504382399482\n",
      "Validation Loss: 0.12814687192440033\n",
      "ATTENTION: the loss on the train set is increasing while the loss on the validation set is decreasing. \n",
      "-----------------------------------------------------------------\n",
      "Epoch: 35; Bad training epochs: 1; Bad validation epochs: 0\n"
     ]
    },
    {
     "name": "stderr",
     "output_type": "stream",
     "text": [
      "100%|█████████████████████████████████████████████████████████████████████████████████████████████████████████████████████████████████████████████████████████████| 7308/7308 [01:04<00:00, 112.98it/s]\n"
     ]
    },
    {
     "name": "stdout",
     "output_type": "stream",
     "text": [
      "Loss: 411.8114175214432; Average Loss: 0.056350768681095134\n",
      "Validation Loss: 0.12835603952407837\n",
      "############### Saving good model for training set ###############################\n",
      "-----------------------------------------------------------------\n",
      "Epoch: 36; Bad training epochs: 0; Bad validation epochs: 1\n"
     ]
    },
    {
     "name": "stderr",
     "output_type": "stream",
     "text": [
      "100%|█████████████████████████████████████████████████████████████████████████████████████████████████████████████████████████████████████████████████████████████| 7308/7308 [01:08<00:00, 107.11it/s]\n"
     ]
    },
    {
     "name": "stdout",
     "output_type": "stream",
     "text": [
      "Loss: 412.1197038749233; Average Loss: 0.05639295345852809\n",
      "Validation Loss: 0.12824735045433044\n",
      "-----------------------------------------------------------------\n",
      "Epoch: 37; Bad training epochs: 1; Bad validation epochs: 2\n"
     ]
    },
    {
     "name": "stderr",
     "output_type": "stream",
     "text": [
      "100%|█████████████████████████████████████████████████████████████████████████████████████████████████████████████████████████████████████████████████████████████| 7308/7308 [00:52<00:00, 138.00it/s]\n"
     ]
    },
    {
     "name": "stdout",
     "output_type": "stream",
     "text": [
      "Loss: 412.1020040255971; Average Loss: 0.05639053147586168\n",
      "Validation Loss: 0.12826114892959595\n",
      "-----------------------------------------------------------------\n",
      "Epoch: 38; Bad training epochs: 2; Bad validation epochs: 3\n"
     ]
    },
    {
     "name": "stderr",
     "output_type": "stream",
     "text": [
      "100%|█████████████████████████████████████████████████████████████████████████████████████████████████████████████████████████████████████████████████████████████| 7308/7308 [01:05<00:00, 111.70it/s]\n"
     ]
    },
    {
     "name": "stdout",
     "output_type": "stream",
     "text": [
      "Loss: 411.73927597375587; Average Loss: 0.05634089709547836\n",
      "Validation Loss: 0.12818679213523865\n",
      "############### Saving good model for training set ###############################\n",
      "-----------------------------------------------------------------\n",
      "Epoch: 39; Bad training epochs: 0; Bad validation epochs: 4\n"
     ]
    },
    {
     "name": "stderr",
     "output_type": "stream",
     "text": [
      "100%|█████████████████████████████████████████████████████████████████████████████████████████████████████████████████████████████████████████████████████████████| 7308/7308 [00:56<00:00, 128.60it/s]\n"
     ]
    },
    {
     "name": "stdout",
     "output_type": "stream",
     "text": [
      "Loss: 411.34377617784776; Average Loss: 0.056286778349459186\n",
      "Validation Loss: 0.1284637153148651\n",
      "############### Saving good model for training set ###############################\n",
      "-----------------------------------------------------------------\n",
      "Epoch: 40; Bad training epochs: 0; Bad validation epochs: 5\n"
     ]
    },
    {
     "name": "stderr",
     "output_type": "stream",
     "text": [
      "100%|█████████████████████████████████████████████████████████████████████████████████████████████████████████████████████████████████████████████████████████████| 7308/7308 [00:58<00:00, 124.53it/s]\n"
     ]
    },
    {
     "name": "stdout",
     "output_type": "stream",
     "text": [
      "Loss: 411.67414245195687; Average Loss: 0.05633198446250094\n",
      "Validation Loss: 0.12819285690784454\n",
      "-----------------------------------------------------------------\n",
      "Epoch: 41; Bad training epochs: 1; Bad validation epochs: 6\n"
     ]
    },
    {
     "name": "stderr",
     "output_type": "stream",
     "text": [
      "100%|█████████████████████████████████████████████████████████████████████████████████████████████████████████████████████████████████████████████████████████████| 7308/7308 [01:02<00:00, 116.25it/s]\n"
     ]
    },
    {
     "name": "stdout",
     "output_type": "stream",
     "text": [
      "Loss: 411.39953499566764; Average Loss: 0.05629440818222053\n",
      "Validation Loss: 0.12822885811328888\n",
      "-----------------------------------------------------------------\n",
      "Epoch: 42; Bad training epochs: 2; Bad validation epochs: 7\n"
     ]
    },
    {
     "name": "stderr",
     "output_type": "stream",
     "text": [
      "100%|█████████████████████████████████████████████████████████████████████████████████████████████████████████████████████████████████████████████████████████████| 7308/7308 [00:53<00:00, 136.66it/s]\n"
     ]
    },
    {
     "name": "stdout",
     "output_type": "stream",
     "text": [
      "Loss: 411.31691498332657; Average Loss: 0.056283102761812615\n",
      "Validation Loss: 0.12806685268878937\n",
      "############### Saving good model for training set ###############################\n",
      "############### Saving good model for validation set ###############################\n",
      "-----------------------------------------------------------------\n",
      "Epoch: 43; Bad training epochs: 0; Bad validation epochs: 0\n"
     ]
    },
    {
     "name": "stderr",
     "output_type": "stream",
     "text": [
      "100%|█████████████████████████████████████████████████████████████████████████████████████████████████████████████████████████████████████████████████████████████| 7308/7308 [00:47<00:00, 153.29it/s]\n"
     ]
    },
    {
     "name": "stdout",
     "output_type": "stream",
     "text": [
      "Loss: 410.6069466685876; Average Loss: 0.05618595329345753\n",
      "Validation Loss: 0.12826476991176605\n",
      "############### Saving good model for training set ###############################\n",
      "-----------------------------------------------------------------\n",
      "Epoch: 44; Bad training epochs: 0; Bad validation epochs: 1\n"
     ]
    },
    {
     "name": "stderr",
     "output_type": "stream",
     "text": [
      "100%|█████████████████████████████████████████████████████████████████████████████████████████████████████████████████████████████████████████████████████████████| 7308/7308 [01:04<00:00, 112.68it/s]\n"
     ]
    },
    {
     "name": "stdout",
     "output_type": "stream",
     "text": [
      "Loss: 410.6965879073832; Average Loss: 0.056198219472822004\n",
      "Validation Loss: 0.12827330827713013\n",
      "-----------------------------------------------------------------\n",
      "Epoch: 45; Bad training epochs: 1; Bad validation epochs: 2\n"
     ]
    },
    {
     "name": "stderr",
     "output_type": "stream",
     "text": [
      "100%|█████████████████████████████████████████████████████████████████████████████████████████████████████████████████████████████████████████████████████████████| 7308/7308 [00:59<00:00, 122.42it/s]\n"
     ]
    },
    {
     "name": "stdout",
     "output_type": "stream",
     "text": [
      "Loss: 410.46927247243; Average Loss: 0.05616711445982896\n",
      "Validation Loss: 0.12828734517097473\n",
      "############### Saving good model for training set ###############################\n",
      "-----------------------------------------------------------------\n",
      "Epoch: 46; Bad training epochs: 0; Bad validation epochs: 3\n"
     ]
    },
    {
     "name": "stderr",
     "output_type": "stream",
     "text": [
      "100%|█████████████████████████████████████████████████████████████████████████████████████████████████████████████████████████████████████████████████████████████| 7308/7308 [00:57<00:00, 126.24it/s]\n"
     ]
    },
    {
     "name": "stdout",
     "output_type": "stream",
     "text": [
      "Loss: 410.45006780000404; Average Loss: 0.056164486562671596\n",
      "Validation Loss: 0.1281602680683136\n",
      "############### Saving good model for training set ###############################\n",
      "-----------------------------------------------------------------\n",
      "Epoch: 47; Bad training epochs: 0; Bad validation epochs: 4\n"
     ]
    },
    {
     "name": "stderr",
     "output_type": "stream",
     "text": [
      "100%|█████████████████████████████████████████████████████████████████████████████████████████████████████████████████████████████████████████████████████████████| 7308/7308 [00:49<00:00, 147.89it/s]\n"
     ]
    },
    {
     "name": "stdout",
     "output_type": "stream",
     "text": [
      "Loss: 409.6451113859657; Average Loss: 0.05605433927011025\n",
      "Validation Loss: 0.12803198397159576\n",
      "############### Saving good model for training set ###############################\n",
      "############### Saving good model for validation set ###############################\n",
      "-----------------------------------------------------------------\n",
      "Epoch: 48; Bad training epochs: 0; Bad validation epochs: 0\n"
     ]
    },
    {
     "name": "stderr",
     "output_type": "stream",
     "text": [
      "100%|█████████████████████████████████████████████████████████████████████████████████████████████████████████████████████████████████████████████████████████████| 7308/7308 [00:44<00:00, 163.85it/s]\n"
     ]
    },
    {
     "name": "stdout",
     "output_type": "stream",
     "text": [
      "Loss: 409.83143649599515; Average Loss: 0.05607983531691231\n",
      "Validation Loss: 0.12833087146282196\n",
      "-----------------------------------------------------------------\n",
      "Epoch: 49; Bad training epochs: 1; Bad validation epochs: 1\n"
     ]
    },
    {
     "name": "stderr",
     "output_type": "stream",
     "text": [
      "100%|█████████████████████████████████████████████████████████████████████████████████████████████████████████████████████████████████████████████████████████████| 7308/7308 [00:47<00:00, 155.02it/s]\n"
     ]
    },
    {
     "name": "stdout",
     "output_type": "stream",
     "text": [
      "Loss: 409.4385782869067; Average Loss: 0.056026078035975195\n",
      "Validation Loss: 0.1280675232410431\n",
      "############### Saving good model for training set ###############################\n",
      "-----------------------------------------------------------------\n",
      "Epoch: 50; Bad training epochs: 0; Bad validation epochs: 2\n"
     ]
    },
    {
     "name": "stderr",
     "output_type": "stream",
     "text": [
      "100%|█████████████████████████████████████████████████████████████████████████████████████████████████████████████████████████████████████████████████████████████| 7308/7308 [00:48<00:00, 149.75it/s]\n"
     ]
    },
    {
     "name": "stdout",
     "output_type": "stream",
     "text": [
      "Loss: 409.17144425818697; Average Loss: 0.05598952439219854\n",
      "Validation Loss: 0.12794451415538788\n",
      "############### Saving good model for training set ###############################\n",
      "############### Saving good model for validation set ###############################\n",
      "-----------------------------------------------------------------\n",
      "Epoch: 51; Bad training epochs: 0; Bad validation epochs: 0\n"
     ]
    },
    {
     "name": "stderr",
     "output_type": "stream",
     "text": [
      "100%|█████████████████████████████████████████████████████████████████████████████████████████████████████████████████████████████████████████████████████████████| 7308/7308 [00:48<00:00, 150.80it/s]\n"
     ]
    },
    {
     "name": "stdout",
     "output_type": "stream",
     "text": [
      "Loss: 408.6378682672512; Average Loss: 0.055916511804495236\n",
      "Validation Loss: 0.12811985611915588\n",
      "############### Saving good model for training set ###############################\n",
      "-----------------------------------------------------------------\n",
      "Epoch: 52; Bad training epochs: 0; Bad validation epochs: 1\n"
     ]
    },
    {
     "name": "stderr",
     "output_type": "stream",
     "text": [
      "100%|█████████████████████████████████████████████████████████████████████████████████████████████████████████████████████████████████████████████████████████████| 7308/7308 [00:44<00:00, 165.37it/s]\n"
     ]
    },
    {
     "name": "stdout",
     "output_type": "stream",
     "text": [
      "Loss: 408.5888898698613; Average Loss: 0.05590980977967451\n",
      "Validation Loss: 0.1281295120716095\n",
      "############### Saving good model for training set ###############################\n",
      "-----------------------------------------------------------------\n",
      "Epoch: 53; Bad training epochs: 0; Bad validation epochs: 2\n"
     ]
    },
    {
     "name": "stderr",
     "output_type": "stream",
     "text": [
      "100%|█████████████████████████████████████████████████████████████████████████████████████████████████████████████████████████████████████████████████████████████| 7308/7308 [00:48<00:00, 150.79it/s]\n"
     ]
    },
    {
     "name": "stdout",
     "output_type": "stream",
     "text": [
      "Loss: 408.528109642677; Average Loss: 0.05590149283561535\n",
      "Validation Loss: 0.12800639867782593\n",
      "############### Saving good model for training set ###############################\n",
      "-----------------------------------------------------------------\n",
      "Epoch: 54; Bad training epochs: 0; Bad validation epochs: 3\n"
     ]
    },
    {
     "name": "stderr",
     "output_type": "stream",
     "text": [
      "100%|█████████████████████████████████████████████████████████████████████████████████████████████████████████████████████████████████████████████████████████████| 7308/7308 [00:45<00:00, 162.11it/s]\n"
     ]
    },
    {
     "name": "stdout",
     "output_type": "stream",
     "text": [
      "Loss: 407.8704163527582; Average Loss: 0.055811496490525206\n",
      "Validation Loss: 0.12804678082466125\n",
      "############### Saving good model for training set ###############################\n",
      "-----------------------------------------------------------------\n",
      "Epoch: 55; Bad training epochs: 0; Bad validation epochs: 4\n"
     ]
    },
    {
     "name": "stderr",
     "output_type": "stream",
     "text": [
      "100%|█████████████████████████████████████████████████████████████████████████████████████████████████████████████████████████████████████████████████████████████| 7308/7308 [00:44<00:00, 164.98it/s]\n"
     ]
    },
    {
     "name": "stdout",
     "output_type": "stream",
     "text": [
      "Loss: 408.2107381634414; Average Loss: 0.05585806488279166\n",
      "Validation Loss: 0.12805546820163727\n",
      "-----------------------------------------------------------------\n",
      "Epoch: 56; Bad training epochs: 1; Bad validation epochs: 5\n"
     ]
    },
    {
     "name": "stderr",
     "output_type": "stream",
     "text": [
      "100%|█████████████████████████████████████████████████████████████████████████████████████████████████████████████████████████████████████████████████████████████| 7308/7308 [00:46<00:00, 158.39it/s]\n"
     ]
    },
    {
     "name": "stdout",
     "output_type": "stream",
     "text": [
      "Loss: 407.8049762302544; Average Loss: 0.05580254190342835\n",
      "Validation Loss: 0.12795323133468628\n",
      "############### Saving good model for training set ###############################\n",
      "-----------------------------------------------------------------\n",
      "Epoch: 57; Bad training epochs: 0; Bad validation epochs: 6\n"
     ]
    },
    {
     "name": "stderr",
     "output_type": "stream",
     "text": [
      "100%|█████████████████████████████████████████████████████████████████████████████████████████████████████████████████████████████████████████████████████████████| 7308/7308 [00:55<00:00, 131.08it/s]\n"
     ]
    },
    {
     "name": "stdout",
     "output_type": "stream",
     "text": [
      "Loss: 407.55290332832374; Average Loss: 0.05576804916917402\n",
      "Validation Loss: 0.1277538388967514\n",
      "############### Saving good model for training set ###############################\n",
      "############### Saving good model for validation set ###############################\n",
      "-----------------------------------------------------------------\n",
      "Epoch: 58; Bad training epochs: 0; Bad validation epochs: 0\n"
     ]
    },
    {
     "name": "stderr",
     "output_type": "stream",
     "text": [
      "100%|█████████████████████████████████████████████████████████████████████████████████████████████████████████████████████████████████████████████████████████████| 7308/7308 [00:51<00:00, 142.79it/s]\n"
     ]
    },
    {
     "name": "stdout",
     "output_type": "stream",
     "text": [
      "Loss: 407.3631618376821; Average Loss: 0.05574208563734019\n",
      "Validation Loss: 0.12795676290988922\n",
      "############### Saving good model for training set ###############################\n",
      "-----------------------------------------------------------------\n",
      "Epoch: 59; Bad training epochs: 0; Bad validation epochs: 1\n"
     ]
    },
    {
     "name": "stderr",
     "output_type": "stream",
     "text": [
      "100%|█████████████████████████████████████████████████████████████████████████████████████████████████████████████████████████████████████████████████████████████| 7308/7308 [00:49<00:00, 146.50it/s]\n"
     ]
    },
    {
     "name": "stdout",
     "output_type": "stream",
     "text": [
      "Loss: 406.94077898189425; Average Loss: 0.05568428831169872\n",
      "Validation Loss: 0.12767015397548676\n",
      "############### Saving good model for training set ###############################\n",
      "############### Saving good model for validation set ###############################\n",
      "-----------------------------------------------------------------\n",
      "Epoch: 60; Bad training epochs: 0; Bad validation epochs: 0\n"
     ]
    },
    {
     "name": "stderr",
     "output_type": "stream",
     "text": [
      "100%|█████████████████████████████████████████████████████████████████████████████████████████████████████████████████████████████████████████████████████████████| 7308/7308 [00:45<00:00, 161.85it/s]\n"
     ]
    },
    {
     "name": "stdout",
     "output_type": "stream",
     "text": [
      "Loss: 406.67989235324785; Average Loss: 0.055648589539305945\n",
      "Validation Loss: 0.12808656692504883\n",
      "############### Saving good model for training set ###############################\n",
      "-----------------------------------------------------------------\n",
      "Epoch: 61; Bad training epochs: 0; Bad validation epochs: 1\n"
     ]
    },
    {
     "name": "stderr",
     "output_type": "stream",
     "text": [
      "100%|█████████████████████████████████████████████████████████████████████████████████████████████████████████████████████████████████████████████████████████████| 7308/7308 [00:47<00:00, 154.64it/s]\n"
     ]
    },
    {
     "name": "stdout",
     "output_type": "stream",
     "text": [
      "Loss: 407.146949992748; Average Loss: 0.05571249999900766\n",
      "Validation Loss: 0.12792949378490448\n",
      "-----------------------------------------------------------------\n",
      "Epoch: 62; Bad training epochs: 1; Bad validation epochs: 2\n"
     ]
    },
    {
     "name": "stderr",
     "output_type": "stream",
     "text": [
      "100%|█████████████████████████████████████████████████████████████████████████████████████████████████████████████████████████████████████████████████████████████| 7308/7308 [00:47<00:00, 152.64it/s]\n"
     ]
    },
    {
     "name": "stdout",
     "output_type": "stream",
     "text": [
      "Loss: 406.9380593181122; Average Loss: 0.0556839161628506\n",
      "Validation Loss: 0.12767039239406586\n",
      "-----------------------------------------------------------------\n",
      "Epoch: 63; Bad training epochs: 2; Bad validation epochs: 3\n"
     ]
    },
    {
     "name": "stderr",
     "output_type": "stream",
     "text": [
      "100%|█████████████████████████████████████████████████████████████████████████████████████████████████████████████████████████████████████████████████████████████| 7308/7308 [00:49<00:00, 146.68it/s]\n"
     ]
    },
    {
     "name": "stdout",
     "output_type": "stream",
     "text": [
      "Loss: 406.6532251466997; Average Loss: 0.055644940496264325\n",
      "Validation Loss: 0.12779046595096588\n",
      "############### Saving good model for training set ###############################\n",
      "-----------------------------------------------------------------\n",
      "Epoch: 64; Bad training epochs: 0; Bad validation epochs: 4\n"
     ]
    },
    {
     "name": "stderr",
     "output_type": "stream",
     "text": [
      "100%|█████████████████████████████████████████████████████████████████████████████████████████████████████████████████████████████████████████████████████████████| 7308/7308 [00:48<00:00, 150.40it/s]\n"
     ]
    },
    {
     "name": "stdout",
     "output_type": "stream",
     "text": [
      "Loss: 406.5375815057196; Average Loss: 0.05562911624325664\n",
      "Validation Loss: 0.12815317511558533\n",
      "############### Saving good model for training set ###############################\n",
      "-----------------------------------------------------------------\n",
      "Epoch: 65; Bad training epochs: 0; Bad validation epochs: 5\n"
     ]
    },
    {
     "name": "stderr",
     "output_type": "stream",
     "text": [
      "100%|█████████████████████████████████████████████████████████████████████████████████████████████████████████████████████████████████████████████████████████████| 7308/7308 [00:52<00:00, 139.59it/s]\n"
     ]
    },
    {
     "name": "stdout",
     "output_type": "stream",
     "text": [
      "Loss: 406.3895981123205; Average Loss: 0.055608866736770735\n",
      "Validation Loss: 0.1278059184551239\n",
      "############### Saving good model for training set ###############################\n",
      "-----------------------------------------------------------------\n",
      "Epoch: 66; Bad training epochs: 0; Bad validation epochs: 6\n"
     ]
    },
    {
     "name": "stderr",
     "output_type": "stream",
     "text": [
      "100%|█████████████████████████████████████████████████████████████████████████████████████████████████████████████████████████████████████████████████████████████| 7308/7308 [00:54<00:00, 134.03it/s]\n"
     ]
    },
    {
     "name": "stdout",
     "output_type": "stream",
     "text": [
      "Loss: 406.49565096455626; Average Loss: 0.05562337862131312\n",
      "Validation Loss: 0.1276899129152298\n",
      "-----------------------------------------------------------------\n",
      "Epoch: 67; Bad training epochs: 1; Bad validation epochs: 7\n"
     ]
    },
    {
     "name": "stderr",
     "output_type": "stream",
     "text": [
      "100%|█████████████████████████████████████████████████████████████████████████████████████████████████████████████████████████████████████████████████████████████| 7308/7308 [00:50<00:00, 144.90it/s]\n"
     ]
    },
    {
     "name": "stdout",
     "output_type": "stream",
     "text": [
      "Loss: 406.25583457923494; Average Loss: 0.05559056302397851\n",
      "Validation Loss: 0.12770983576774597\n",
      "############### Saving good model for training set ###############################\n",
      "-----------------------------------------------------------------\n",
      "Epoch: 68; Bad training epochs: 0; Bad validation epochs: 8\n"
     ]
    },
    {
     "name": "stderr",
     "output_type": "stream",
     "text": [
      "100%|█████████████████████████████████████████████████████████████████████████████████████████████████████████████████████████████████████████████████████████████| 7308/7308 [00:49<00:00, 147.72it/s]\n"
     ]
    },
    {
     "name": "stdout",
     "output_type": "stream",
     "text": [
      "Loss: 406.18979593599215; Average Loss: 0.055581526537492085\n",
      "Validation Loss: 0.1275002509355545\n",
      "############### Saving good model for training set ###############################\n",
      "############### Saving good model for validation set ###############################\n",
      "-----------------------------------------------------------------\n",
      "Epoch: 69; Bad training epochs: 0; Bad validation epochs: 0\n"
     ]
    },
    {
     "name": "stderr",
     "output_type": "stream",
     "text": [
      "100%|█████████████████████████████████████████████████████████████████████████████████████████████████████████████████████████████████████████████████████████████| 7308/7308 [00:51<00:00, 142.87it/s]\n"
     ]
    },
    {
     "name": "stdout",
     "output_type": "stream",
     "text": [
      "Loss: 406.14039812702686; Average Loss: 0.055574767121924856\n",
      "Validation Loss: 0.12755228579044342\n",
      "############### Saving good model for training set ###############################\n",
      "-----------------------------------------------------------------\n",
      "Epoch: 70; Bad training epochs: 0; Bad validation epochs: 1\n"
     ]
    },
    {
     "name": "stderr",
     "output_type": "stream",
     "text": [
      "100%|█████████████████████████████████████████████████████████████████████████████████████████████████████████████████████████████████████████████████████████████| 7308/7308 [00:53<00:00, 137.84it/s]\n"
     ]
    },
    {
     "name": "stdout",
     "output_type": "stream",
     "text": [
      "Loss: 405.93849854543805; Average Loss: 0.055547139921379045\n",
      "Validation Loss: 0.1276663839817047\n",
      "############### Saving good model for training set ###############################\n",
      "-----------------------------------------------------------------\n",
      "Epoch: 71; Bad training epochs: 0; Bad validation epochs: 2\n"
     ]
    },
    {
     "name": "stderr",
     "output_type": "stream",
     "text": [
      "100%|█████████████████████████████████████████████████████████████████████████████████████████████████████████████████████████████████████████████████████████████| 7308/7308 [01:07<00:00, 108.98it/s]\n"
     ]
    },
    {
     "name": "stdout",
     "output_type": "stream",
     "text": [
      "Loss: 405.91039374191314; Average Loss: 0.055543294162823366\n",
      "Validation Loss: 0.12766872346401215\n",
      "############### Saving good model for training set ###############################\n",
      "-----------------------------------------------------------------\n",
      "Epoch: 72; Bad training epochs: 0; Bad validation epochs: 3\n"
     ]
    },
    {
     "name": "stderr",
     "output_type": "stream",
     "text": [
      "100%|█████████████████████████████████████████████████████████████████████████████████████████████████████████████████████████████████████████████████████████████| 7308/7308 [00:49<00:00, 148.40it/s]\n"
     ]
    },
    {
     "name": "stdout",
     "output_type": "stream",
     "text": [
      "Loss: 405.8374137196224; Average Loss: 0.055533307843407556\n",
      "Validation Loss: 0.12758098542690277\n",
      "############### Saving good model for training set ###############################\n",
      "-----------------------------------------------------------------\n",
      "Epoch: 73; Bad training epochs: 0; Bad validation epochs: 4\n"
     ]
    },
    {
     "name": "stderr",
     "output_type": "stream",
     "text": [
      "100%|█████████████████████████████████████████████████████████████████████████████████████████████████████████████████████████████████████████████████████████████| 7308/7308 [01:02<00:00, 117.59it/s]\n"
     ]
    },
    {
     "name": "stdout",
     "output_type": "stream",
     "text": [
      "Loss: 405.8324440836441; Average Loss: 0.055532627816590595\n",
      "Validation Loss: 0.12775039672851562\n",
      "############### Saving good model for training set ###############################\n",
      "-----------------------------------------------------------------\n",
      "Epoch: 74; Bad training epochs: 0; Bad validation epochs: 5\n"
     ]
    },
    {
     "name": "stderr",
     "output_type": "stream",
     "text": [
      "100%|█████████████████████████████████████████████████████████████████████████████████████████████████████████████████████████████████████████████████████████████| 7308/7308 [00:56<00:00, 128.61it/s]\n"
     ]
    },
    {
     "name": "stdout",
     "output_type": "stream",
     "text": [
      "Loss: 405.4283784199506; Average Loss: 0.055477336948542774\n",
      "Validation Loss: 0.12778909504413605\n",
      "############### Saving good model for training set ###############################\n",
      "-----------------------------------------------------------------\n",
      "Epoch: 75; Bad training epochs: 0; Bad validation epochs: 6\n"
     ]
    },
    {
     "name": "stderr",
     "output_type": "stream",
     "text": [
      "100%|█████████████████████████████████████████████████████████████████████████████████████████████████████████████████████████████████████████████████████████████| 7308/7308 [00:48<00:00, 149.15it/s]\n"
     ]
    },
    {
     "name": "stdout",
     "output_type": "stream",
     "text": [
      "Loss: 405.127849627519; Average Loss: 0.055436213687399975\n",
      "Validation Loss: 0.1275804191827774\n",
      "############### Saving good model for training set ###############################\n",
      "-----------------------------------------------------------------\n",
      "Epoch: 76; Bad training epochs: 0; Bad validation epochs: 7\n"
     ]
    },
    {
     "name": "stderr",
     "output_type": "stream",
     "text": [
      "100%|█████████████████████████████████████████████████████████████████████████████████████████████████████████████████████████████████████████████████████████████| 7308/7308 [00:59<00:00, 123.23it/s]\n"
     ]
    },
    {
     "name": "stdout",
     "output_type": "stream",
     "text": [
      "Loss: 405.1564562607091; Average Loss: 0.05544012811449221\n",
      "Validation Loss: 0.12751242518424988\n",
      "-----------------------------------------------------------------\n",
      "Epoch: 77; Bad training epochs: 1; Bad validation epochs: 8\n"
     ]
    },
    {
     "name": "stderr",
     "output_type": "stream",
     "text": [
      "100%|█████████████████████████████████████████████████████████████████████████████████████████████████████████████████████████████████████████████████████████████| 7308/7308 [00:53<00:00, 136.99it/s]\n"
     ]
    },
    {
     "name": "stdout",
     "output_type": "stream",
     "text": [
      "Loss: 405.3529359388631; Average Loss: 0.05546701367526862\n",
      "Validation Loss: 0.12770257890224457\n",
      "-----------------------------------------------------------------\n",
      "Epoch: 78; Bad training epochs: 2; Bad validation epochs: 9\n"
     ]
    },
    {
     "name": "stderr",
     "output_type": "stream",
     "text": [
      "100%|█████████████████████████████████████████████████████████████████████████████████████████████████████████████████████████████████████████████████████████████| 7308/7308 [00:53<00:00, 136.79it/s]\n"
     ]
    },
    {
     "name": "stdout",
     "output_type": "stream",
     "text": [
      "Loss: 405.4542976845987; Average Loss: 0.05548088364594947\n",
      "Validation Loss: 0.1276295781135559\n",
      "-----------------------------------------------------------------\n",
      "Epoch: 79; Bad training epochs: 3; Bad validation epochs: 10\n"
     ]
    },
    {
     "name": "stderr",
     "output_type": "stream",
     "text": [
      "100%|█████████████████████████████████████████████████████████████████████████████████████████████████████████████████████████████████████████████████████████████| 7308/7308 [00:58<00:00, 124.23it/s]\n"
     ]
    },
    {
     "name": "stdout",
     "output_type": "stream",
     "text": [
      "Loss: 405.3275956849102; Average Loss: 0.055463546207568444\n",
      "Validation Loss: 0.12743397057056427\n",
      "ATTENTION: the loss on the train set is increasing while the loss on the validation set is decreasing. \n",
      "-----------------------------------------------------------------\n",
      "Epoch: 80; Bad training epochs: 4; Bad validation epochs: 0\n"
     ]
    },
    {
     "name": "stderr",
     "output_type": "stream",
     "text": [
      "100%|█████████████████████████████████████████████████████████████████████████████████████████████████████████████████████████████████████████████████████████████| 7308/7308 [00:54<00:00, 133.87it/s]\n"
     ]
    },
    {
     "name": "stdout",
     "output_type": "stream",
     "text": [
      "Loss: 405.2160234679468; Average Loss: 0.055448279073337\n",
      "Validation Loss: 0.12753383815288544\n",
      "-----------------------------------------------------------------\n",
      "Epoch: 81; Bad training epochs: 5; Bad validation epochs: 1\n"
     ]
    },
    {
     "name": "stderr",
     "output_type": "stream",
     "text": [
      "100%|█████████████████████████████████████████████████████████████████████████████████████████████████████████████████████████████████████████████████████████████| 7308/7308 [00:53<00:00, 137.38it/s]\n"
     ]
    },
    {
     "name": "stdout",
     "output_type": "stream",
     "text": [
      "Loss: 405.15710862656124; Average Loss: 0.0554402173818502\n",
      "Validation Loss: 0.12758071720600128\n",
      "-----------------------------------------------------------------\n",
      "Epoch: 82; Bad training epochs: 6; Bad validation epochs: 2\n"
     ]
    },
    {
     "name": "stderr",
     "output_type": "stream",
     "text": [
      "100%|█████████████████████████████████████████████████████████████████████████████████████████████████████████████████████████████████████████████████████████████| 7308/7308 [00:49<00:00, 147.10it/s]\n"
     ]
    },
    {
     "name": "stdout",
     "output_type": "stream",
     "text": [
      "Loss: 404.59341858373955; Average Loss: 0.05536308409739184\n",
      "Validation Loss: 0.12748320400714874\n",
      "############### Saving good model for training set ###############################\n",
      "-----------------------------------------------------------------\n",
      "Epoch: 83; Bad training epochs: 0; Bad validation epochs: 3\n"
     ]
    },
    {
     "name": "stderr",
     "output_type": "stream",
     "text": [
      "100%|█████████████████████████████████████████████████████████████████████████████████████████████████████████████████████████████████████████████████████████████| 7308/7308 [00:49<00:00, 146.19it/s]\n"
     ]
    },
    {
     "name": "stdout",
     "output_type": "stream",
     "text": [
      "Loss: 404.6419845134951; Average Loss: 0.05536972968164958\n",
      "Validation Loss: 0.12762409448623657\n",
      "-----------------------------------------------------------------\n",
      "Epoch: 84; Bad training epochs: 1; Bad validation epochs: 4\n"
     ]
    },
    {
     "name": "stderr",
     "output_type": "stream",
     "text": [
      "100%|█████████████████████████████████████████████████████████████████████████████████████████████████████████████████████████████████████████████████████████████| 7308/7308 [01:06<00:00, 110.21it/s]\n"
     ]
    },
    {
     "name": "stdout",
     "output_type": "stream",
     "text": [
      "Loss: 404.9203763466794; Average Loss: 0.05540782380222761\n",
      "Validation Loss: 0.12762100994586945\n",
      "-----------------------------------------------------------------\n",
      "Epoch: 85; Bad training epochs: 2; Bad validation epochs: 5\n"
     ]
    },
    {
     "name": "stderr",
     "output_type": "stream",
     "text": [
      "100%|█████████████████████████████████████████████████████████████████████████████████████████████████████████████████████████████████████████████████████████████| 7308/7308 [00:59<00:00, 122.63it/s]\n"
     ]
    },
    {
     "name": "stdout",
     "output_type": "stream",
     "text": [
      "Loss: 404.7997469881084; Average Loss: 0.055391317321853914\n",
      "Validation Loss: 0.12750104069709778\n",
      "-----------------------------------------------------------------\n",
      "Epoch: 86; Bad training epochs: 3; Bad validation epochs: 6\n"
     ]
    },
    {
     "name": "stderr",
     "output_type": "stream",
     "text": [
      "100%|█████████████████████████████████████████████████████████████████████████████████████████████████████████████████████████████████████████████████████████████| 7308/7308 [01:05<00:00, 111.40it/s]\n"
     ]
    },
    {
     "name": "stdout",
     "output_type": "stream",
     "text": [
      "Loss: 404.99797048885375; Average Loss: 0.055418441500937846\n",
      "Validation Loss: 0.12751035392284393\n",
      "-----------------------------------------------------------------\n",
      "Epoch: 87; Bad training epochs: 4; Bad validation epochs: 7\n"
     ]
    },
    {
     "name": "stderr",
     "output_type": "stream",
     "text": [
      "100%|█████████████████████████████████████████████████████████████████████████████████████████████████████████████████████████████████████████████████████████████| 7308/7308 [00:47<00:00, 155.33it/s]\n"
     ]
    },
    {
     "name": "stdout",
     "output_type": "stream",
     "text": [
      "Loss: 404.8600198987406; Average Loss: 0.05539956484657096\n",
      "Validation Loss: 0.12734319269657135\n",
      "ATTENTION: the loss on the train set is increasing while the loss on the validation set is decreasing. \n",
      "-----------------------------------------------------------------\n",
      "Epoch: 88; Bad training epochs: 5; Bad validation epochs: 0\n"
     ]
    },
    {
     "name": "stderr",
     "output_type": "stream",
     "text": [
      "100%|█████████████████████████████████████████████████████████████████████████████████████████████████████████████████████████████████████████████████████████████| 7308/7308 [00:48<00:00, 152.25it/s]\n"
     ]
    },
    {
     "name": "stdout",
     "output_type": "stream",
     "text": [
      "Loss: 404.69068885128945; Average Loss: 0.05537639420515729\n",
      "Validation Loss: 0.1276133954524994\n",
      "-----------------------------------------------------------------\n",
      "Epoch: 89; Bad training epochs: 6; Bad validation epochs: 1\n"
     ]
    },
    {
     "name": "stderr",
     "output_type": "stream",
     "text": [
      "100%|█████████████████████████████████████████████████████████████████████████████████████████████████████████████████████████████████████████████████████████████| 7308/7308 [00:55<00:00, 130.67it/s]\n"
     ]
    },
    {
     "name": "stdout",
     "output_type": "stream",
     "text": [
      "Loss: 404.81082035717554; Average Loss: 0.05539283256118987\n",
      "Validation Loss: 0.12759023904800415\n",
      "-----------------------------------------------------------------\n",
      "Epoch: 90; Bad training epochs: 7; Bad validation epochs: 2\n"
     ]
    },
    {
     "name": "stderr",
     "output_type": "stream",
     "text": [
      "100%|█████████████████████████████████████████████████████████████████████████████████████████████████████████████████████████████████████████████████████████████| 7308/7308 [00:48<00:00, 151.39it/s]\n"
     ]
    },
    {
     "name": "stdout",
     "output_type": "stream",
     "text": [
      "Loss: 404.31786696007475; Average Loss: 0.05532537862069988\n",
      "Validation Loss: 0.12733620405197144\n",
      "############### Saving good model for training set ###############################\n",
      "############### Saving good model for validation set ###############################\n",
      "-----------------------------------------------------------------\n",
      "Epoch: 91; Bad training epochs: 0; Bad validation epochs: 0\n"
     ]
    },
    {
     "name": "stderr",
     "output_type": "stream",
     "text": [
      "100%|█████████████████████████████████████████████████████████████████████████████████████████████████████████████████████████████████████████████████████████████| 7308/7308 [00:45<00:00, 159.11it/s]\n"
     ]
    },
    {
     "name": "stdout",
     "output_type": "stream",
     "text": [
      "Loss: 404.59965150570497; Average Loss: 0.05536393698764436\n",
      "Validation Loss: 0.12749065458774567\n",
      "-----------------------------------------------------------------\n",
      "Epoch: 92; Bad training epochs: 1; Bad validation epochs: 1\n"
     ]
    },
    {
     "name": "stderr",
     "output_type": "stream",
     "text": [
      "100%|█████████████████████████████████████████████████████████████████████████████████████████████████████████████████████████████████████████████████████████████| 7308/7308 [00:55<00:00, 131.26it/s]\n"
     ]
    },
    {
     "name": "stdout",
     "output_type": "stream",
     "text": [
      "Loss: 404.2913515162654; Average Loss: 0.05532175034431656\n",
      "Validation Loss: 0.1273018717765808\n",
      "############### Saving good model for training set ###############################\n",
      "############### Saving good model for validation set ###############################\n",
      "-----------------------------------------------------------------\n",
      "Epoch: 93; Bad training epochs: 0; Bad validation epochs: 0\n"
     ]
    },
    {
     "name": "stderr",
     "output_type": "stream",
     "text": [
      "100%|█████████████████████████████████████████████████████████████████████████████████████████████████████████████████████████████████████████████████████████████| 7308/7308 [00:49<00:00, 147.81it/s]\n"
     ]
    },
    {
     "name": "stdout",
     "output_type": "stream",
     "text": [
      "Loss: 404.3243837368209; Average Loss: 0.05532627035260275\n",
      "Validation Loss: 0.12755084037780762\n",
      "-----------------------------------------------------------------\n",
      "Epoch: 94; Bad training epochs: 1; Bad validation epochs: 1\n"
     ]
    },
    {
     "name": "stderr",
     "output_type": "stream",
     "text": [
      "100%|█████████████████████████████████████████████████████████████████████████████████████████████████████████████████████████████████████████████████████████████| 7308/7308 [00:52<00:00, 138.95it/s]\n"
     ]
    },
    {
     "name": "stdout",
     "output_type": "stream",
     "text": [
      "Loss: 404.5963318061549; Average Loss: 0.05536348273209564\n",
      "Validation Loss: 0.12756390869617462\n",
      "-----------------------------------------------------------------\n",
      "Epoch: 95; Bad training epochs: 2; Bad validation epochs: 2\n"
     ]
    },
    {
     "name": "stderr",
     "output_type": "stream",
     "text": [
      "100%|█████████████████████████████████████████████████████████████████████████████████████████████████████████████████████████████████████████████████████████████| 7308/7308 [00:51<00:00, 142.74it/s]\n"
     ]
    },
    {
     "name": "stdout",
     "output_type": "stream",
     "text": [
      "Loss: 404.28210660628974; Average Loss: 0.055320485304637346\n",
      "Validation Loss: 0.12758788466453552\n",
      "############### Saving good model for training set ###############################\n",
      "-----------------------------------------------------------------\n",
      "Epoch: 96; Bad training epochs: 0; Bad validation epochs: 3\n"
     ]
    },
    {
     "name": "stderr",
     "output_type": "stream",
     "text": [
      "100%|█████████████████████████████████████████████████████████████████████████████████████████████████████████████████████████████████████████████████████████████| 7308/7308 [00:58<00:00, 125.09it/s]\n"
     ]
    },
    {
     "name": "stdout",
     "output_type": "stream",
     "text": [
      "Loss: 404.21321816998534; Average Loss: 0.05531105886288798\n",
      "Validation Loss: 0.12735220789909363\n",
      "############### Saving good model for training set ###############################\n",
      "-----------------------------------------------------------------\n",
      "Epoch: 97; Bad training epochs: 0; Bad validation epochs: 4\n"
     ]
    },
    {
     "name": "stderr",
     "output_type": "stream",
     "text": [
      "100%|█████████████████████████████████████████████████████████████████████████████████████████████████████████████████████████████████████████████████████████████| 7308/7308 [00:53<00:00, 135.34it/s]\n"
     ]
    },
    {
     "name": "stdout",
     "output_type": "stream",
     "text": [
      "Loss: 404.45007509714924; Average Loss: 0.05534346949878889\n",
      "Validation Loss: 0.12749886512756348\n",
      "-----------------------------------------------------------------\n",
      "Epoch: 98; Bad training epochs: 1; Bad validation epochs: 5\n"
     ]
    },
    {
     "name": "stderr",
     "output_type": "stream",
     "text": [
      "100%|█████████████████████████████████████████████████████████████████████████████████████████████████████████████████████████████████████████████████████████████| 7308/7308 [00:46<00:00, 157.46it/s]\n"
     ]
    },
    {
     "name": "stdout",
     "output_type": "stream",
     "text": [
      "Loss: 404.2004716473166; Average Loss: 0.05530931467533068\n",
      "Validation Loss: 0.1273786723613739\n",
      "############### Saving good model for training set ###############################\n",
      "-----------------------------------------------------------------\n",
      "Epoch: 99; Bad training epochs: 0; Bad validation epochs: 6\n"
     ]
    },
    {
     "name": "stderr",
     "output_type": "stream",
     "text": [
      "100%|█████████████████████████████████████████████████████████████████████████████████████████████████████████████████████████████████████████████████████████████| 7308/7308 [00:50<00:00, 143.91it/s]\n"
     ]
    },
    {
     "name": "stdout",
     "output_type": "stream",
     "text": [
      "Loss: 404.05256988480687; Average Loss: 0.0552890763389172\n",
      "Validation Loss: 0.12761278450489044\n",
      "############### Saving good model for training set ###############################\n",
      "-----------------------------------------------------------------\n",
      "Epoch: 100; Bad training epochs: 0; Bad validation epochs: 7\n"
     ]
    },
    {
     "name": "stderr",
     "output_type": "stream",
     "text": [
      "100%|█████████████████████████████████████████████████████████████████████████████████████████████████████████████████████████████████████████████████████████████| 7308/7308 [00:48<00:00, 150.96it/s]\n"
     ]
    },
    {
     "name": "stdout",
     "output_type": "stream",
     "text": [
      "Loss: 404.45133774378337; Average Loss: 0.05534364227473774\n",
      "Validation Loss: 0.1275242418050766\n",
      "-----------------------------------------------------------------\n",
      "Epoch: 101; Bad training epochs: 1; Bad validation epochs: 8\n"
     ]
    },
    {
     "name": "stderr",
     "output_type": "stream",
     "text": [
      "100%|█████████████████████████████████████████████████████████████████████████████████████████████████████████████████████████████████████████████████████████████| 7308/7308 [00:42<00:00, 172.38it/s]\n"
     ]
    },
    {
     "name": "stdout",
     "output_type": "stream",
     "text": [
      "Loss: 404.0023025099654; Average Loss: 0.055282197935134836\n",
      "Validation Loss: 0.12747272849082947\n",
      "############### Saving good model for training set ###############################\n",
      "-----------------------------------------------------------------\n",
      "Epoch: 102; Bad training epochs: 0; Bad validation epochs: 9\n"
     ]
    },
    {
     "name": "stderr",
     "output_type": "stream",
     "text": [
      "100%|█████████████████████████████████████████████████████████████████████████████████████████████████████████████████████████████████████████████████████████████| 7308/7308 [00:52<00:00, 140.18it/s]\n"
     ]
    },
    {
     "name": "stdout",
     "output_type": "stream",
     "text": [
      "Loss: 403.8855075610336; Average Loss: 0.05526621614135654\n",
      "Validation Loss: 0.12745819985866547\n",
      "############### Saving good model for training set ###############################\n",
      "-----------------------------------------------------------------\n",
      "Epoch: 103; Bad training epochs: 0; Bad validation epochs: 10\n"
     ]
    },
    {
     "name": "stderr",
     "output_type": "stream",
     "text": [
      "100%|█████████████████████████████████████████████████████████████████████████████████████████████████████████████████████████████████████████████████████████████| 7308/7308 [00:52<00:00, 137.98it/s]\n"
     ]
    },
    {
     "name": "stdout",
     "output_type": "stream",
     "text": [
      "Loss: 403.7129651217256; Average Loss: 0.055242606064822876\n",
      "Validation Loss: 0.1273345649242401\n",
      "############### Saving good model for training set ###############################\n",
      "-----------------------------------------------------------------\n",
      "Epoch: 104; Bad training epochs: 0; Bad validation epochs: 11\n"
     ]
    },
    {
     "name": "stderr",
     "output_type": "stream",
     "text": [
      "100%|█████████████████████████████████████████████████████████████████████████████████████████████████████████████████████████████████████████████████████████████| 7308/7308 [00:50<00:00, 143.86it/s]\n"
     ]
    },
    {
     "name": "stdout",
     "output_type": "stream",
     "text": [
      "Loss: 404.0853192883078; Average Loss: 0.0552935576475517\n",
      "Validation Loss: 0.12742722034454346\n",
      "-----------------------------------------------------------------\n",
      "Epoch: 105; Bad training epochs: 1; Bad validation epochs: 12\n"
     ]
    },
    {
     "name": "stderr",
     "output_type": "stream",
     "text": [
      "100%|█████████████████████████████████████████████████████████████████████████████████████████████████████████████████████████████████████████████████████████████| 7308/7308 [00:48<00:00, 150.52it/s]\n"
     ]
    },
    {
     "name": "stdout",
     "output_type": "stream",
     "text": [
      "Loss: 403.83488950459287; Average Loss: 0.055259289751586324\n",
      "Validation Loss: 0.12749409675598145\n",
      "-----------------------------------------------------------------\n",
      "Epoch: 106; Bad training epochs: 2; Bad validation epochs: 13\n"
     ]
    },
    {
     "name": "stderr",
     "output_type": "stream",
     "text": [
      "100%|█████████████████████████████████████████████████████████████████████████████████████████████████████████████████████████████████████████████████████████████| 7308/7308 [00:55<00:00, 130.87it/s]\n"
     ]
    },
    {
     "name": "stdout",
     "output_type": "stream",
     "text": [
      "Loss: 403.9403247523587; Average Loss: 0.05527371712539118\n",
      "Validation Loss: 0.12727898359298706\n",
      "ATTENTION: the loss on the train set is increasing while the loss on the validation set is decreasing. \n",
      "-----------------------------------------------------------------\n",
      "Epoch: 107; Bad training epochs: 3; Bad validation epochs: 0\n"
     ]
    },
    {
     "name": "stderr",
     "output_type": "stream",
     "text": [
      "100%|█████████████████████████████████████████████████████████████████████████████████████████████████████████████████████████████████████████████████████████████| 7308/7308 [00:55<00:00, 131.93it/s]\n"
     ]
    },
    {
     "name": "stdout",
     "output_type": "stream",
     "text": [
      "Loss: 403.68981713731773; Average Loss: 0.05523943857927172\n",
      "Validation Loss: 0.12732234597206116\n",
      "############### Saving good model for training set ###############################\n",
      "-----------------------------------------------------------------\n",
      "Epoch: 108; Bad training epochs: 0; Bad validation epochs: 1\n"
     ]
    },
    {
     "name": "stderr",
     "output_type": "stream",
     "text": [
      "100%|█████████████████████████████████████████████████████████████████████████████████████████████████████████████████████████████████████████████████████████████| 7308/7308 [00:57<00:00, 126.46it/s]\n"
     ]
    },
    {
     "name": "stdout",
     "output_type": "stream",
     "text": [
      "Loss: 403.8399424208328; Average Loss: 0.05525998117416979\n",
      "Validation Loss: 0.1274334043264389\n",
      "-----------------------------------------------------------------\n",
      "Epoch: 109; Bad training epochs: 1; Bad validation epochs: 2\n"
     ]
    },
    {
     "name": "stderr",
     "output_type": "stream",
     "text": [
      "100%|█████████████████████████████████████████████████████████████████████████████████████████████████████████████████████████████████████████████████████████████| 7308/7308 [00:50<00:00, 145.03it/s]\n"
     ]
    },
    {
     "name": "stdout",
     "output_type": "stream",
     "text": [
      "Loss: 404.1035445125308; Average Loss: 0.055296051520598084\n",
      "Validation Loss: 0.12763316929340363\n",
      "-----------------------------------------------------------------\n",
      "Epoch: 110; Bad training epochs: 2; Bad validation epochs: 3\n"
     ]
    },
    {
     "name": "stderr",
     "output_type": "stream",
     "text": [
      "100%|█████████████████████████████████████████████████████████████████████████████████████████████████████████████████████████████████████████████████████████████| 7308/7308 [00:47<00:00, 155.41it/s]\n"
     ]
    },
    {
     "name": "stdout",
     "output_type": "stream",
     "text": [
      "Loss: 403.9740271824412; Average Loss: 0.05527832884269858\n",
      "Validation Loss: 0.12753437459468842\n",
      "-----------------------------------------------------------------\n",
      "Epoch: 111; Bad training epochs: 3; Bad validation epochs: 4\n"
     ]
    },
    {
     "name": "stderr",
     "output_type": "stream",
     "text": [
      "100%|█████████████████████████████████████████████████████████████████████████████████████████████████████████████████████████████████████████████████████████████| 7308/7308 [00:46<00:00, 155.99it/s]\n"
     ]
    },
    {
     "name": "stdout",
     "output_type": "stream",
     "text": [
      "Loss: 403.86605926207267; Average Loss: 0.055263554907234905\n",
      "Validation Loss: 0.12736693024635315\n",
      "-----------------------------------------------------------------\n",
      "Epoch: 112; Bad training epochs: 4; Bad validation epochs: 5\n"
     ]
    },
    {
     "name": "stderr",
     "output_type": "stream",
     "text": [
      "100%|█████████████████████████████████████████████████████████████████████████████████████████████████████████████████████████████████████████████████████████████| 7308/7308 [00:50<00:00, 145.73it/s]\n"
     ]
    },
    {
     "name": "stdout",
     "output_type": "stream",
     "text": [
      "Loss: 403.82907468732446; Average Loss: 0.05525849407325184\n",
      "Validation Loss: 0.12733949720859528\n",
      "-----------------------------------------------------------------\n",
      "Epoch: 113; Bad training epochs: 5; Bad validation epochs: 6\n"
     ]
    },
    {
     "name": "stderr",
     "output_type": "stream",
     "text": [
      "100%|█████████████████████████████████████████████████████████████████████████████████████████████████████████████████████████████████████████████████████████████| 7308/7308 [00:46<00:00, 156.99it/s]\n"
     ]
    },
    {
     "name": "stdout",
     "output_type": "stream",
     "text": [
      "Loss: 403.834885887336; Average Loss: 0.05525928925661412\n",
      "Validation Loss: 0.12759341299533844\n",
      "-----------------------------------------------------------------\n",
      "Epoch: 114; Bad training epochs: 6; Bad validation epochs: 7\n"
     ]
    },
    {
     "name": "stderr",
     "output_type": "stream",
     "text": [
      "100%|█████████████████████████████████████████████████████████████████████████████████████████████████████████████████████████████████████████████████████████████| 7308/7308 [00:49<00:00, 146.90it/s]\n"
     ]
    },
    {
     "name": "stdout",
     "output_type": "stream",
     "text": [
      "Loss: 403.81641651620157; Average Loss: 0.05525676197539704\n",
      "Validation Loss: 0.1275656521320343\n",
      "-----------------------------------------------------------------\n",
      "Epoch: 115; Bad training epochs: 7; Bad validation epochs: 8\n"
     ]
    },
    {
     "name": "stderr",
     "output_type": "stream",
     "text": [
      "100%|█████████████████████████████████████████████████████████████████████████████████████████████████████████████████████████████████████████████████████████████| 7308/7308 [00:48<00:00, 150.68it/s]\n"
     ]
    },
    {
     "name": "stdout",
     "output_type": "stream",
     "text": [
      "Loss: 403.6893493917305; Average Loss: 0.055239374574675766\n",
      "Validation Loss: 0.12746766209602356\n",
      "############### Saving good model for training set ###############################\n",
      "-----------------------------------------------------------------\n",
      "Epoch: 116; Bad training epochs: 0; Bad validation epochs: 9\n"
     ]
    },
    {
     "name": "stderr",
     "output_type": "stream",
     "text": [
      "100%|█████████████████████████████████████████████████████████████████████████████████████████████████████████████████████████████████████████████████████████████| 7308/7308 [00:48<00:00, 151.73it/s]\n"
     ]
    },
    {
     "name": "stdout",
     "output_type": "stream",
     "text": [
      "Loss: 403.9419177910313; Average Loss: 0.055273935110978556\n",
      "Validation Loss: 0.1275274157524109\n",
      "-----------------------------------------------------------------\n",
      "Epoch: 117; Bad training epochs: 1; Bad validation epochs: 10\n"
     ]
    },
    {
     "name": "stderr",
     "output_type": "stream",
     "text": [
      "100%|█████████████████████████████████████████████████████████████████████████████████████████████████████████████████████████████████████████████████████████████| 7308/7308 [00:50<00:00, 144.67it/s]\n"
     ]
    },
    {
     "name": "stdout",
     "output_type": "stream",
     "text": [
      "Loss: 403.86309734289534; Average Loss: 0.05526314960904424\n",
      "Validation Loss: 0.1274399310350418\n",
      "-----------------------------------------------------------------\n",
      "Epoch: 118; Bad training epochs: 2; Bad validation epochs: 11\n"
     ]
    },
    {
     "name": "stderr",
     "output_type": "stream",
     "text": [
      "100%|█████████████████████████████████████████████████████████████████████████████████████████████████████████████████████████████████████████████████████████████| 7308/7308 [00:47<00:00, 153.42it/s]\n"
     ]
    },
    {
     "name": "stdout",
     "output_type": "stream",
     "text": [
      "Loss: 403.85040186392143; Average Loss: 0.055261412406119516\n",
      "Validation Loss: 0.1273934543132782\n",
      "-----------------------------------------------------------------\n",
      "Epoch: 119; Bad training epochs: 3; Bad validation epochs: 12\n"
     ]
    },
    {
     "name": "stderr",
     "output_type": "stream",
     "text": [
      "100%|█████████████████████████████████████████████████████████████████████████████████████████████████████████████████████████████████████████████████████████████| 7308/7308 [00:50<00:00, 145.78it/s]\n"
     ]
    },
    {
     "name": "stdout",
     "output_type": "stream",
     "text": [
      "Loss: 403.7210418195464; Average Loss: 0.05524371125062211\n",
      "Validation Loss: 0.12737548351287842\n",
      "-----------------------------------------------------------------\n",
      "Epoch: 120; Bad training epochs: 4; Bad validation epochs: 13\n"
     ]
    },
    {
     "name": "stderr",
     "output_type": "stream",
     "text": [
      "100%|█████████████████████████████████████████████████████████████████████████████████████████████████████████████████████████████████████████████████████████████| 7308/7308 [01:03<00:00, 115.55it/s]\n"
     ]
    },
    {
     "name": "stdout",
     "output_type": "stream",
     "text": [
      "Loss: 403.68504919623956; Average Loss: 0.05523878615164745\n",
      "Validation Loss: 0.12747007608413696\n",
      "############### Saving good model for training set ###############################\n",
      "-----------------------------------------------------------------\n",
      "Epoch: 121; Bad training epochs: 0; Bad validation epochs: 14\n"
     ]
    },
    {
     "name": "stderr",
     "output_type": "stream",
     "text": [
      "100%|█████████████████████████████████████████████████████████████████████████████████████████████████████████████████████████████████████████████████████████████| 7308/7308 [01:04<00:00, 112.86it/s]\n"
     ]
    },
    {
     "name": "stdout",
     "output_type": "stream",
     "text": [
      "Loss: 403.83824202930555; Average Loss: 0.05525974849881028\n",
      "Validation Loss: 0.12727199494838715\n",
      "ATTENTION: the loss on the train set is increasing while the loss on the validation set is decreasing. \n",
      "-----------------------------------------------------------------\n",
      "Epoch: 122; Bad training epochs: 1; Bad validation epochs: 0\n"
     ]
    },
    {
     "name": "stderr",
     "output_type": "stream",
     "text": [
      "100%|█████████████████████████████████████████████████████████████████████████████████████████████████████████████████████████████████████████████████████████████| 7308/7308 [00:56<00:00, 130.15it/s]\n"
     ]
    },
    {
     "name": "stdout",
     "output_type": "stream",
     "text": [
      "Loss: 403.7360634373035; Average Loss: 0.05524576675387295\n",
      "Validation Loss: 0.12743951380252838\n",
      "-----------------------------------------------------------------\n",
      "Epoch: 123; Bad training epochs: 2; Bad validation epochs: 1\n"
     ]
    },
    {
     "name": "stderr",
     "output_type": "stream",
     "text": [
      "100%|█████████████████████████████████████████████████████████████████████████████████████████████████████████████████████████████████████████████████████████████| 7308/7308 [00:49<00:00, 146.92it/s]\n"
     ]
    },
    {
     "name": "stdout",
     "output_type": "stream",
     "text": [
      "Loss: 403.5072204733733; Average Loss: 0.05521445271939974\n",
      "Validation Loss: 0.12729975581169128\n",
      "############### Saving good model for training set ###############################\n",
      "-----------------------------------------------------------------\n",
      "Epoch: 124; Bad training epochs: 0; Bad validation epochs: 2\n"
     ]
    },
    {
     "name": "stderr",
     "output_type": "stream",
     "text": [
      "100%|█████████████████████████████████████████████████████████████████████████████████████████████████████████████████████████████████████████████████████████████| 7308/7308 [00:45<00:00, 159.29it/s]\n"
     ]
    },
    {
     "name": "stdout",
     "output_type": "stream",
     "text": [
      "Loss: 403.6458147452213; Average Loss: 0.05523341745282174\n",
      "Validation Loss: 0.1273559331893921\n",
      "-----------------------------------------------------------------\n",
      "Epoch: 125; Bad training epochs: 1; Bad validation epochs: 3\n"
     ]
    },
    {
     "name": "stderr",
     "output_type": "stream",
     "text": [
      "100%|██████████████████████████████████████████████████████████████████████████████████████████████████████████████████████████████████████████████████████████████| 7308/7308 [01:17<00:00, 94.24it/s]\n"
     ]
    },
    {
     "name": "stdout",
     "output_type": "stream",
     "text": [
      "Loss: 403.51651897723787; Average Loss: 0.05521572509267075\n",
      "Validation Loss: 0.12740759551525116\n",
      "-----------------------------------------------------------------\n",
      "Epoch: 126; Bad training epochs: 2; Bad validation epochs: 4\n"
     ]
    },
    {
     "name": "stderr",
     "output_type": "stream",
     "text": [
      "100%|█████████████████████████████████████████████████████████████████████████████████████████████████████████████████████████████████████████████████████████████| 7308/7308 [00:55<00:00, 130.89it/s]\n"
     ]
    },
    {
     "name": "stdout",
     "output_type": "stream",
     "text": [
      "Loss: 403.71955121844076; Average Loss: 0.05524350728221685\n",
      "Validation Loss: 0.12726442515850067\n",
      "ATTENTION: the loss on the train set is increasing while the loss on the validation set is decreasing. \n",
      "-----------------------------------------------------------------\n",
      "Epoch: 127; Bad training epochs: 3; Bad validation epochs: 0\n"
     ]
    },
    {
     "name": "stderr",
     "output_type": "stream",
     "text": [
      "100%|█████████████████████████████████████████████████████████████████████████████████████████████████████████████████████████████████████████████████████████████| 7308/7308 [00:55<00:00, 130.56it/s]\n"
     ]
    },
    {
     "name": "stdout",
     "output_type": "stream",
     "text": [
      "Loss: 403.5424775800202; Average Loss: 0.055219277172963904\n",
      "Validation Loss: 0.12729322910308838\n",
      "-----------------------------------------------------------------\n",
      "Epoch: 128; Bad training epochs: 4; Bad validation epochs: 1\n"
     ]
    },
    {
     "name": "stderr",
     "output_type": "stream",
     "text": [
      "100%|█████████████████████████████████████████████████████████████████████████████████████████████████████████████████████████████████████████████████████████████| 7308/7308 [01:10<00:00, 103.70it/s]\n"
     ]
    },
    {
     "name": "stdout",
     "output_type": "stream",
     "text": [
      "Loss: 403.52033030590974; Average Loss: 0.055216246620950975\n",
      "Validation Loss: 0.12734554708003998\n",
      "-----------------------------------------------------------------\n",
      "Epoch: 129; Bad training epochs: 5; Bad validation epochs: 2\n"
     ]
    },
    {
     "name": "stderr",
     "output_type": "stream",
     "text": [
      "100%|█████████████████████████████████████████████████████████████████████████████████████████████████████████████████████████████████████████████████████████████| 7308/7308 [01:01<00:00, 119.38it/s]\n"
     ]
    },
    {
     "name": "stdout",
     "output_type": "stream",
     "text": [
      "Loss: 403.8417719840072; Average Loss: 0.0552602315249052\n",
      "Validation Loss: 0.1273379772901535\n",
      "-----------------------------------------------------------------\n",
      "Epoch: 130; Bad training epochs: 6; Bad validation epochs: 3\n"
     ]
    },
    {
     "name": "stderr",
     "output_type": "stream",
     "text": [
      "100%|█████████████████████████████████████████████████████████████████████████████████████████████████████████████████████████████████████████████████████████████| 7308/7308 [00:52<00:00, 138.26it/s]\n"
     ]
    },
    {
     "name": "stdout",
     "output_type": "stream",
     "text": [
      "Loss: 403.44329425576143; Average Loss: 0.05520570528951306\n",
      "Validation Loss: 0.12732739746570587\n",
      "############### Saving good model for training set ###############################\n",
      "-----------------------------------------------------------------\n",
      "Epoch: 131; Bad training epochs: 0; Bad validation epochs: 4\n"
     ]
    },
    {
     "name": "stderr",
     "output_type": "stream",
     "text": [
      "100%|█████████████████████████████████████████████████████████████████████████████████████████████████████████████████████████████████████████████████████████████| 7308/7308 [00:59<00:00, 123.79it/s]\n"
     ]
    },
    {
     "name": "stdout",
     "output_type": "stream",
     "text": [
      "Loss: 403.4535523697268; Average Loss: 0.05520710897232168\n",
      "Validation Loss: 0.12748456001281738\n",
      "-----------------------------------------------------------------\n",
      "Epoch: 132; Bad training epochs: 1; Bad validation epochs: 5\n"
     ]
    },
    {
     "name": "stderr",
     "output_type": "stream",
     "text": [
      "100%|█████████████████████████████████████████████████████████████████████████████████████████████████████████████████████████████████████████████████████████████| 7308/7308 [00:56<00:00, 129.33it/s]\n"
     ]
    },
    {
     "name": "stdout",
     "output_type": "stream",
     "text": [
      "Loss: 403.6188017653767; Average Loss: 0.055229721095426475\n",
      "Validation Loss: 0.12740232050418854\n",
      "-----------------------------------------------------------------\n",
      "Epoch: 133; Bad training epochs: 2; Bad validation epochs: 6\n"
     ]
    },
    {
     "name": "stderr",
     "output_type": "stream",
     "text": [
      "100%|█████████████████████████████████████████████████████████████████████████████████████████████████████████████████████████████████████████████████████████████| 7308/7308 [00:44<00:00, 164.30it/s]\n"
     ]
    },
    {
     "name": "stdout",
     "output_type": "stream",
     "text": [
      "Loss: 403.4386300300248; Average Loss: 0.05520506705391691\n",
      "Validation Loss: 0.12757688760757446\n",
      "############### Saving good model for training set ###############################\n",
      "-----------------------------------------------------------------\n",
      "Epoch: 134; Bad training epochs: 0; Bad validation epochs: 7\n"
     ]
    },
    {
     "name": "stderr",
     "output_type": "stream",
     "text": [
      "100%|█████████████████████████████████████████████████████████████████████████████████████████████████████████████████████████████████████████████████████████████| 7308/7308 [00:45<00:00, 162.24it/s]\n"
     ]
    },
    {
     "name": "stdout",
     "output_type": "stream",
     "text": [
      "Loss: 403.457529818872; Average Loss: 0.05520765323192008\n",
      "Validation Loss: 0.12737926840782166\n",
      "-----------------------------------------------------------------\n",
      "Epoch: 135; Bad training epochs: 1; Bad validation epochs: 8\n"
     ]
    },
    {
     "name": "stderr",
     "output_type": "stream",
     "text": [
      "100%|██████████████████████████████████████████████████████████████████████████████████████████████████████████████████████████████████████████████████████████████| 7308/7308 [01:15<00:00, 96.20it/s]\n"
     ]
    },
    {
     "name": "stdout",
     "output_type": "stream",
     "text": [
      "Loss: 403.5737578193657; Average Loss: 0.055223557446547035\n",
      "Validation Loss: 0.12739849090576172\n",
      "-----------------------------------------------------------------\n",
      "Epoch: 136; Bad training epochs: 2; Bad validation epochs: 9\n"
     ]
    },
    {
     "name": "stderr",
     "output_type": "stream",
     "text": [
      "100%|█████████████████████████████████████████████████████████████████████████████████████████████████████████████████████████████████████████████████████████████| 7308/7308 [00:51<00:00, 142.21it/s]\n"
     ]
    },
    {
     "name": "stdout",
     "output_type": "stream",
     "text": [
      "Loss: 403.0434941898566; Average Loss: 0.055150998110270466\n",
      "Validation Loss: 0.12722614407539368\n",
      "############### Saving good model for training set ###############################\n",
      "############### Saving good model for validation set ###############################\n",
      "-----------------------------------------------------------------\n",
      "Epoch: 137; Bad training epochs: 0; Bad validation epochs: 0\n"
     ]
    },
    {
     "name": "stderr",
     "output_type": "stream",
     "text": [
      "100%|█████████████████████████████████████████████████████████████████████████████████████████████████████████████████████████████████████████████████████████████| 7308/7308 [00:46<00:00, 158.28it/s]\n"
     ]
    },
    {
     "name": "stdout",
     "output_type": "stream",
     "text": [
      "Loss: 403.1945844772272; Average Loss: 0.05517167275276781\n",
      "Validation Loss: 0.12751029431819916\n",
      "-----------------------------------------------------------------\n",
      "Epoch: 138; Bad training epochs: 1; Bad validation epochs: 1\n"
     ]
    },
    {
     "name": "stderr",
     "output_type": "stream",
     "text": [
      "100%|█████████████████████████████████████████████████████████████████████████████████████████████████████████████████████████████████████████████████████████████| 7308/7308 [00:45<00:00, 160.82it/s]\n"
     ]
    },
    {
     "name": "stdout",
     "output_type": "stream",
     "text": [
      "Loss: 403.2610840864945; Average Loss: 0.05518077231615962\n",
      "Validation Loss: 0.12732906639575958\n",
      "-----------------------------------------------------------------\n",
      "Epoch: 139; Bad training epochs: 2; Bad validation epochs: 2\n"
     ]
    },
    {
     "name": "stderr",
     "output_type": "stream",
     "text": [
      "100%|█████████████████████████████████████████████████████████████████████████████████████████████████████████████████████████████████████████████████████████████| 7308/7308 [00:45<00:00, 159.96it/s]\n"
     ]
    },
    {
     "name": "stdout",
     "output_type": "stream",
     "text": [
      "Loss: 403.3620747041423; Average Loss: 0.05519459150302987\n",
      "Validation Loss: 0.12741635739803314\n",
      "-----------------------------------------------------------------\n",
      "Epoch: 140; Bad training epochs: 3; Bad validation epochs: 3\n"
     ]
    },
    {
     "name": "stderr",
     "output_type": "stream",
     "text": [
      "100%|█████████████████████████████████████████████████████████████████████████████████████████████████████████████████████████████████████████████████████████████| 7308/7308 [00:43<00:00, 166.72it/s]\n"
     ]
    },
    {
     "name": "stdout",
     "output_type": "stream",
     "text": [
      "Loss: 403.3330786868464; Average Loss: 0.055190623794040286\n",
      "Validation Loss: 0.1274614781141281\n",
      "-----------------------------------------------------------------\n",
      "Epoch: 141; Bad training epochs: 4; Bad validation epochs: 4\n"
     ]
    },
    {
     "name": "stderr",
     "output_type": "stream",
     "text": [
      "100%|█████████████████████████████████████████████████████████████████████████████████████████████████████████████████████████████████████████████████████████████| 7308/7308 [00:51<00:00, 143.21it/s]\n"
     ]
    },
    {
     "name": "stdout",
     "output_type": "stream",
     "text": [
      "Loss: 403.44012196408585; Average Loss: 0.055205271204718916\n",
      "Validation Loss: 0.12736061215400696\n",
      "-----------------------------------------------------------------\n",
      "Epoch: 142; Bad training epochs: 5; Bad validation epochs: 5\n"
     ]
    },
    {
     "name": "stderr",
     "output_type": "stream",
     "text": [
      "100%|█████████████████████████████████████████████████████████████████████████████████████████████████████████████████████████████████████████████████████████████| 7308/7308 [00:54<00:00, 135.31it/s]\n"
     ]
    },
    {
     "name": "stdout",
     "output_type": "stream",
     "text": [
      "Loss: 403.4996628270019; Average Loss: 0.05521341855870305\n",
      "Validation Loss: 0.12746626138687134\n",
      "-----------------------------------------------------------------\n",
      "Epoch: 143; Bad training epochs: 6; Bad validation epochs: 6\n"
     ]
    },
    {
     "name": "stderr",
     "output_type": "stream",
     "text": [
      "100%|█████████████████████████████████████████████████████████████████████████████████████████████████████████████████████████████████████████████████████████████| 7308/7308 [00:48<00:00, 151.29it/s]\n"
     ]
    },
    {
     "name": "stdout",
     "output_type": "stream",
     "text": [
      "Loss: 402.9472091658972; Average Loss: 0.05513782281963563\n",
      "Validation Loss: 0.12723790109157562\n",
      "############### Saving good model for training set ###############################\n",
      "-----------------------------------------------------------------\n",
      "Epoch: 144; Bad training epochs: 0; Bad validation epochs: 7\n"
     ]
    },
    {
     "name": "stderr",
     "output_type": "stream",
     "text": [
      "100%|█████████████████████████████████████████████████████████████████████████████████████████████████████████████████████████████████████████████████████████████| 7308/7308 [00:41<00:00, 174.65it/s]\n"
     ]
    },
    {
     "name": "stdout",
     "output_type": "stream",
     "text": [
      "Loss: 403.2948268991895; Average Loss: 0.055185389559276064\n",
      "Validation Loss: 0.12724994122982025\n",
      "-----------------------------------------------------------------\n",
      "Epoch: 145; Bad training epochs: 1; Bad validation epochs: 8\n"
     ]
    },
    {
     "name": "stderr",
     "output_type": "stream",
     "text": [
      "100%|█████████████████████████████████████████████████████████████████████████████████████████████████████████████████████████████████████████████████████████████| 7308/7308 [00:43<00:00, 169.09it/s]\n"
     ]
    },
    {
     "name": "stdout",
     "output_type": "stream",
     "text": [
      "Loss: 403.3766256957315; Average Loss: 0.05519658260751662\n",
      "Validation Loss: 0.12740567326545715\n",
      "-----------------------------------------------------------------\n",
      "Epoch: 146; Bad training epochs: 2; Bad validation epochs: 9\n"
     ]
    },
    {
     "name": "stderr",
     "output_type": "stream",
     "text": [
      "100%|█████████████████████████████████████████████████████████████████████████████████████████████████████████████████████████████████████████████████████████████| 7308/7308 [01:05<00:00, 112.32it/s]\n"
     ]
    },
    {
     "name": "stdout",
     "output_type": "stream",
     "text": [
      "Loss: 403.0672409860417; Average Loss: 0.05515424753503581\n",
      "Validation Loss: 0.12742449343204498\n",
      "-----------------------------------------------------------------\n",
      "Epoch: 147; Bad training epochs: 3; Bad validation epochs: 10\n"
     ]
    },
    {
     "name": "stderr",
     "output_type": "stream",
     "text": [
      "100%|█████████████████████████████████████████████████████████████████████████████████████████████████████████████████████████████████████████████████████████████| 7308/7308 [00:57<00:00, 127.09it/s]\n"
     ]
    },
    {
     "name": "stdout",
     "output_type": "stream",
     "text": [
      "Loss: 403.17117623751983; Average Loss: 0.05516846965483304\n",
      "Validation Loss: 0.12735161185264587\n",
      "-----------------------------------------------------------------\n",
      "Epoch: 148; Bad training epochs: 4; Bad validation epochs: 11\n"
     ]
    },
    {
     "name": "stderr",
     "output_type": "stream",
     "text": [
      "100%|█████████████████████████████████████████████████████████████████████████████████████████████████████████████████████████████████████████████████████████████| 7308/7308 [00:48<00:00, 149.71it/s]\n"
     ]
    },
    {
     "name": "stdout",
     "output_type": "stream",
     "text": [
      "Loss: 403.1686150804162; Average Loss: 0.05516811919545925\n",
      "Validation Loss: 0.12756600975990295\n",
      "-----------------------------------------------------------------\n",
      "Epoch: 149; Bad training epochs: 5; Bad validation epochs: 12\n"
     ]
    },
    {
     "name": "stderr",
     "output_type": "stream",
     "text": [
      "100%|█████████████████████████████████████████████████████████████████████████████████████████████████████████████████████████████████████████████████████████████| 7308/7308 [00:51<00:00, 142.88it/s]\n"
     ]
    },
    {
     "name": "stdout",
     "output_type": "stream",
     "text": [
      "Loss: 403.21550508844666; Average Loss: 0.055174535452715744\n",
      "Validation Loss: 0.12726430594921112\n",
      "-----------------------------------------------------------------\n",
      "Epoch: 150; Bad training epochs: 6; Bad validation epochs: 13\n"
     ]
    },
    {
     "name": "stderr",
     "output_type": "stream",
     "text": [
      "100%|█████████████████████████████████████████████████████████████████████████████████████████████████████████████████████████████████████████████████████████████| 7308/7308 [00:50<00:00, 145.73it/s]\n"
     ]
    },
    {
     "name": "stdout",
     "output_type": "stream",
     "text": [
      "Loss: 402.96062873187475; Average Loss: 0.05513965910397848\n",
      "Validation Loss: 0.12740185856819153\n",
      "-----------------------------------------------------------------\n",
      "Epoch: 151; Bad training epochs: 7; Bad validation epochs: 14\n"
     ]
    },
    {
     "name": "stderr",
     "output_type": "stream",
     "text": [
      "100%|█████████████████████████████████████████████████████████████████████████████████████████████████████████████████████████████████████████████████████████████| 7308/7308 [01:12<00:00, 101.00it/s]\n"
     ]
    },
    {
     "name": "stdout",
     "output_type": "stream",
     "text": [
      "Loss: 403.07341301767156; Average Loss: 0.055155092093277444\n",
      "Validation Loss: 0.1271904706954956\n",
      "ATTENTION: the loss on the train set is increasing while the loss on the validation set is decreasing. \n",
      "-----------------------------------------------------------------\n",
      "Epoch: 152; Bad training epochs: 8; Bad validation epochs: 0\n"
     ]
    },
    {
     "name": "stderr",
     "output_type": "stream",
     "text": [
      "100%|█████████████████████████████████████████████████████████████████████████████████████████████████████████████████████████████████████████████████████████████| 7308/7308 [00:51<00:00, 142.06it/s]\n"
     ]
    },
    {
     "name": "stdout",
     "output_type": "stream",
     "text": [
      "Loss: 403.1960091397632; Average Loss: 0.0551718676983803\n",
      "Validation Loss: 0.12767232954502106\n",
      "-----------------------------------------------------------------\n",
      "Epoch: 153; Bad training epochs: 9; Bad validation epochs: 1\n"
     ]
    },
    {
     "name": "stderr",
     "output_type": "stream",
     "text": [
      "100%|█████████████████████████████████████████████████████████████████████████████████████████████████████████████████████████████████████████████████████████████| 7308/7308 [00:48<00:00, 150.75it/s]\n"
     ]
    },
    {
     "name": "stdout",
     "output_type": "stream",
     "text": [
      "Loss: 403.19676854484715; Average Loss: 0.0551719716125954\n",
      "Validation Loss: 0.1273280829191208\n",
      "-----------------------------------------------------------------\n",
      "Epoch: 154; Bad training epochs: 10; Bad validation epochs: 2\n"
     ]
    },
    {
     "name": "stderr",
     "output_type": "stream",
     "text": [
      "100%|█████████████████████████████████████████████████████████████████████████████████████████████████████████████████████████████████████████████████████████████| 7308/7308 [00:45<00:00, 159.51it/s]\n"
     ]
    },
    {
     "name": "stdout",
     "output_type": "stream",
     "text": [
      "Loss: 403.01202467200346; Average Loss: 0.05514669193650841\n",
      "Validation Loss: 0.12733282148838043\n",
      "-----------------------------------------------------------------\n",
      "Epoch: 155; Bad training epochs: 11; Bad validation epochs: 3\n"
     ]
    },
    {
     "name": "stderr",
     "output_type": "stream",
     "text": [
      "100%|█████████████████████████████████████████████████████████████████████████████████████████████████████████████████████████████████████████████████████████████| 7308/7308 [00:46<00:00, 156.26it/s]\n"
     ]
    },
    {
     "name": "stdout",
     "output_type": "stream",
     "text": [
      "Loss: 403.0971197481267; Average Loss: 0.055158336035594786\n",
      "Validation Loss: 0.1273547261953354\n",
      "-----------------------------------------------------------------\n",
      "Epoch: 156; Bad training epochs: 12; Bad validation epochs: 4\n"
     ]
    },
    {
     "name": "stderr",
     "output_type": "stream",
     "text": [
      "100%|█████████████████████████████████████████████████████████████████████████████████████████████████████████████████████████████████████████████████████████████| 7308/7308 [00:44<00:00, 163.22it/s]\n"
     ]
    },
    {
     "name": "stdout",
     "output_type": "stream",
     "text": [
      "Loss: 402.8532311115414; Average Loss: 0.05512496320628645\n",
      "Validation Loss: 0.12729910016059875\n",
      "############### Saving good model for training set ###############################\n",
      "-----------------------------------------------------------------\n",
      "Epoch: 157; Bad training epochs: 0; Bad validation epochs: 5\n"
     ]
    },
    {
     "name": "stderr",
     "output_type": "stream",
     "text": [
      "100%|█████████████████████████████████████████████████████████████████████████████████████████████████████████████████████████████████████████████████████████████| 7308/7308 [00:48<00:00, 149.16it/s]\n"
     ]
    },
    {
     "name": "stdout",
     "output_type": "stream",
     "text": [
      "Loss: 403.1212100102566; Average Loss: 0.055161632458984214\n",
      "Validation Loss: 0.12719106674194336\n",
      "-----------------------------------------------------------------\n",
      "Epoch: 158; Bad training epochs: 1; Bad validation epochs: 6\n"
     ]
    },
    {
     "name": "stderr",
     "output_type": "stream",
     "text": [
      "100%|█████████████████████████████████████████████████████████████████████████████████████████████████████████████████████████████████████████████████████████████| 7308/7308 [00:43<00:00, 169.13it/s]\n"
     ]
    },
    {
     "name": "stdout",
     "output_type": "stream",
     "text": [
      "Loss: 402.991070774151; Average Loss: 0.055143824681739326\n",
      "Validation Loss: 0.1273704320192337\n",
      "-----------------------------------------------------------------\n",
      "Epoch: 159; Bad training epochs: 2; Bad validation epochs: 7\n"
     ]
    },
    {
     "name": "stderr",
     "output_type": "stream",
     "text": [
      "100%|█████████████████████████████████████████████████████████████████████████████████████████████████████████████████████████████████████████████████████████████| 7308/7308 [00:46<00:00, 158.77it/s]\n"
     ]
    },
    {
     "name": "stdout",
     "output_type": "stream",
     "text": [
      "Loss: 402.8748948688153; Average Loss: 0.055127927595623336\n",
      "Validation Loss: 0.12726658582687378\n",
      "-----------------------------------------------------------------\n",
      "Epoch: 160; Bad training epochs: 3; Bad validation epochs: 8\n"
     ]
    },
    {
     "name": "stderr",
     "output_type": "stream",
     "text": [
      "100%|█████████████████████████████████████████████████████████████████████████████████████████████████████████████████████████████████████████████████████████████| 7308/7308 [00:49<00:00, 148.58it/s]\n"
     ]
    },
    {
     "name": "stdout",
     "output_type": "stream",
     "text": [
      "Loss: 402.92090550484136; Average Loss: 0.05513422352282996\n",
      "Validation Loss: 0.1274452805519104\n",
      "-----------------------------------------------------------------\n",
      "Epoch: 161; Bad training epochs: 4; Bad validation epochs: 9\n"
     ]
    },
    {
     "name": "stderr",
     "output_type": "stream",
     "text": [
      "100%|█████████████████████████████████████████████████████████████████████████████████████████████████████████████████████████████████████████████████████████████| 7308/7308 [00:59<00:00, 123.04it/s]\n"
     ]
    },
    {
     "name": "stdout",
     "output_type": "stream",
     "text": [
      "Loss: 403.16361379926093; Average Loss: 0.055167434838431985\n",
      "Validation Loss: 0.12747471034526825\n",
      "-----------------------------------------------------------------\n",
      "Epoch: 162; Bad training epochs: 5; Bad validation epochs: 10\n"
     ]
    },
    {
     "name": "stderr",
     "output_type": "stream",
     "text": [
      "100%|█████████████████████████████████████████████████████████████████████████████████████████████████████████████████████████████████████████████████████████████| 7308/7308 [00:55<00:00, 131.62it/s]\n"
     ]
    },
    {
     "name": "stdout",
     "output_type": "stream",
     "text": [
      "Loss: 403.0630802346859; Average Loss: 0.0551536781930331\n",
      "Validation Loss: 0.1271892488002777\n",
      "ATTENTION: the loss on the train set is increasing while the loss on the validation set is decreasing. \n",
      "-----------------------------------------------------------------\n",
      "Epoch: 163; Bad training epochs: 6; Bad validation epochs: 0\n"
     ]
    },
    {
     "name": "stderr",
     "output_type": "stream",
     "text": [
      "100%|█████████████████████████████████████████████████████████████████████████████████████████████████████████████████████████████████████████████████████████████| 7308/7308 [00:49<00:00, 146.56it/s]\n"
     ]
    },
    {
     "name": "stdout",
     "output_type": "stream",
     "text": [
      "Loss: 402.9343592347577; Average Loss: 0.05513606448204129\n",
      "Validation Loss: 0.12725390493869781\n",
      "-----------------------------------------------------------------\n",
      "Epoch: 164; Bad training epochs: 7; Bad validation epochs: 1\n"
     ]
    },
    {
     "name": "stderr",
     "output_type": "stream",
     "text": [
      "100%|█████████████████████████████████████████████████████████████████████████████████████████████████████████████████████████████████████████████████████████████| 7308/7308 [00:47<00:00, 152.49it/s]\n"
     ]
    },
    {
     "name": "stdout",
     "output_type": "stream",
     "text": [
      "Loss: 403.0679019340314; Average Loss: 0.055154337976742115\n",
      "Validation Loss: 0.12727579474449158\n",
      "-----------------------------------------------------------------\n",
      "Epoch: 165; Bad training epochs: 8; Bad validation epochs: 2\n"
     ]
    },
    {
     "name": "stderr",
     "output_type": "stream",
     "text": [
      "100%|█████████████████████████████████████████████████████████████████████████████████████████████████████████████████████████████████████████████████████████████| 7308/7308 [00:43<00:00, 169.11it/s]\n"
     ]
    },
    {
     "name": "stdout",
     "output_type": "stream",
     "text": [
      "Loss: 403.0317456785124; Average Loss: 0.055149390486933826\n",
      "Validation Loss: 0.12740162014961243\n",
      "-----------------------------------------------------------------\n",
      "Epoch: 166; Bad training epochs: 9; Bad validation epochs: 3\n"
     ]
    },
    {
     "name": "stderr",
     "output_type": "stream",
     "text": [
      "100%|█████████████████████████████████████████████████████████████████████████████████████████████████████████████████████████████████████████████████████████████| 7308/7308 [00:42<00:00, 170.97it/s]\n"
     ]
    },
    {
     "name": "stdout",
     "output_type": "stream",
     "text": [
      "Loss: 402.9374994263053; Average Loss: 0.055136494174371276\n",
      "Validation Loss: 0.12740151584148407\n",
      "-----------------------------------------------------------------\n",
      "Epoch: 167; Bad training epochs: 10; Bad validation epochs: 4\n"
     ]
    },
    {
     "name": "stderr",
     "output_type": "stream",
     "text": [
      "100%|█████████████████████████████████████████████████████████████████████████████████████████████████████████████████████████████████████████████████████████████| 7308/7308 [00:43<00:00, 167.84it/s]\n"
     ]
    },
    {
     "name": "stdout",
     "output_type": "stream",
     "text": [
      "Loss: 403.03843089938164; Average Loss: 0.05515030526811462\n",
      "Validation Loss: 0.12734298408031464\n",
      "-----------------------------------------------------------------\n",
      "Epoch: 168; Bad training epochs: 11; Bad validation epochs: 5\n"
     ]
    },
    {
     "name": "stderr",
     "output_type": "stream",
     "text": [
      "100%|█████████████████████████████████████████████████████████████████████████████████████████████████████████████████████████████████████████████████████████████| 7308/7308 [00:49<00:00, 148.47it/s]\n"
     ]
    },
    {
     "name": "stdout",
     "output_type": "stream",
     "text": [
      "Loss: 402.91988845099695; Average Loss: 0.055134084352900514\n",
      "Validation Loss: 0.12748052179813385\n",
      "-----------------------------------------------------------------\n",
      "Epoch: 169; Bad training epochs: 12; Bad validation epochs: 6\n"
     ]
    },
    {
     "name": "stderr",
     "output_type": "stream",
     "text": [
      "100%|█████████████████████████████████████████████████████████████████████████████████████████████████████████████████████████████████████████████████████████████| 7308/7308 [00:56<00:00, 129.00it/s]\n"
     ]
    },
    {
     "name": "stdout",
     "output_type": "stream",
     "text": [
      "Loss: 403.0142435100861; Average Loss: 0.055146995554198976\n",
      "Validation Loss: 0.12732692062854767\n",
      "-----------------------------------------------------------------\n",
      "Epoch: 170; Bad training epochs: 13; Bad validation epochs: 7\n"
     ]
    },
    {
     "name": "stderr",
     "output_type": "stream",
     "text": [
      "100%|█████████████████████████████████████████████████████████████████████████████████████████████████████████████████████████████████████████████████████████████| 7308/7308 [01:09<00:00, 105.84it/s]\n"
     ]
    },
    {
     "name": "stdout",
     "output_type": "stream",
     "text": [
      "Loss: 402.9169813368935; Average Loss: 0.055133686554035784\n",
      "Validation Loss: 0.12733867764472961\n",
      "-----------------------------------------------------------------\n",
      "Epoch: 171; Bad training epochs: 14; Bad validation epochs: 8\n"
     ]
    },
    {
     "name": "stderr",
     "output_type": "stream",
     "text": [
      "100%|█████████████████████████████████████████████████████████████████████████████████████████████████████████████████████████████████████████████████████████████| 7308/7308 [00:48<00:00, 150.55it/s]\n"
     ]
    },
    {
     "name": "stdout",
     "output_type": "stream",
     "text": [
      "Loss: 402.8835196199361; Average Loss: 0.05512910777503231\n",
      "Validation Loss: 0.12733973562717438\n",
      "-----------------------------------------------------------------\n",
      "Epoch: 172; Bad training epochs: 15; Bad validation epochs: 9\n"
     ]
    },
    {
     "name": "stderr",
     "output_type": "stream",
     "text": [
      "100%|█████████████████████████████████████████████████████████████████████████████████████████████████████████████████████████████████████████████████████████████| 7308/7308 [00:44<00:00, 162.93it/s]\n"
     ]
    },
    {
     "name": "stdout",
     "output_type": "stream",
     "text": [
      "Loss: 402.5924704482313; Average Loss: 0.05508928167052974\n",
      "Validation Loss: 0.1273983269929886\n",
      "############### Saving good model for training set ###############################\n",
      "-----------------------------------------------------------------\n",
      "Epoch: 173; Bad training epochs: 0; Bad validation epochs: 10\n"
     ]
    },
    {
     "name": "stderr",
     "output_type": "stream",
     "text": [
      "100%|█████████████████████████████████████████████████████████████████████████████████████████████████████████████████████████████████████████████████████████████| 7308/7308 [01:03<00:00, 115.75it/s]\n"
     ]
    },
    {
     "name": "stdout",
     "output_type": "stream",
     "text": [
      "Loss: 402.8815036879387; Average Loss: 0.05512883192226856\n",
      "Validation Loss: 0.127625972032547\n",
      "-----------------------------------------------------------------\n",
      "Epoch: 174; Bad training epochs: 1; Bad validation epochs: 11\n"
     ]
    },
    {
     "name": "stderr",
     "output_type": "stream",
     "text": [
      "100%|█████████████████████████████████████████████████████████████████████████████████████████████████████████████████████████████████████████████████████████████| 7308/7308 [01:07<00:00, 109.00it/s]\n"
     ]
    },
    {
     "name": "stdout",
     "output_type": "stream",
     "text": [
      "Loss: 402.89606040809304; Average Loss: 0.05513082381063123\n",
      "Validation Loss: 0.12728969752788544\n",
      "-----------------------------------------------------------------\n",
      "Epoch: 175; Bad training epochs: 2; Bad validation epochs: 12\n"
     ]
    },
    {
     "name": "stderr",
     "output_type": "stream",
     "text": [
      "100%|█████████████████████████████████████████████████████████████████████████████████████████████████████████████████████████████████████████████████████████████| 7308/7308 [00:56<00:00, 129.91it/s]\n"
     ]
    },
    {
     "name": "stdout",
     "output_type": "stream",
     "text": [
      "Loss: 402.6366913279053; Average Loss: 0.055095332694020976\n",
      "Validation Loss: 0.12720701098442078\n",
      "-----------------------------------------------------------------\n",
      "Epoch: 176; Bad training epochs: 3; Bad validation epochs: 13\n"
     ]
    },
    {
     "name": "stderr",
     "output_type": "stream",
     "text": [
      "100%|█████████████████████████████████████████████████████████████████████████████████████████████████████████████████████████████████████████████████████████████| 7308/7308 [00:51<00:00, 141.02it/s]\n"
     ]
    },
    {
     "name": "stdout",
     "output_type": "stream",
     "text": [
      "Loss: 402.777216368122; Average Loss: 0.05511456162672715\n",
      "Validation Loss: 0.1273408979177475\n",
      "-----------------------------------------------------------------\n",
      "Epoch: 177; Bad training epochs: 4; Bad validation epochs: 14\n"
     ]
    },
    {
     "name": "stderr",
     "output_type": "stream",
     "text": [
      "100%|█████████████████████████████████████████████████████████████████████████████████████████████████████████████████████████████████████████████████████████████| 7308/7308 [00:45<00:00, 160.94it/s]\n"
     ]
    },
    {
     "name": "stdout",
     "output_type": "stream",
     "text": [
      "Loss: 402.80227094353177; Average Loss: 0.05511799000322\n",
      "Validation Loss: 0.1274871975183487\n",
      "-----------------------------------------------------------------\n",
      "Epoch: 178; Bad training epochs: 5; Bad validation epochs: 15\n"
     ]
    },
    {
     "name": "stderr",
     "output_type": "stream",
     "text": [
      "100%|█████████████████████████████████████████████████████████████████████████████████████████████████████████████████████████████████████████████████████████████| 7308/7308 [00:44<00:00, 163.56it/s]\n"
     ]
    },
    {
     "name": "stdout",
     "output_type": "stream",
     "text": [
      "Loss: 402.6942760795355; Average Loss: 0.05510321238088882\n",
      "Validation Loss: 0.12736926972866058\n",
      "-----------------------------------------------------------------\n",
      "Epoch: 179; Bad training epochs: 6; Bad validation epochs: 16\n"
     ]
    },
    {
     "name": "stderr",
     "output_type": "stream",
     "text": [
      "100%|█████████████████████████████████████████████████████████████████████████████████████████████████████████████████████████████████████████████████████████████| 7308/7308 [00:47<00:00, 155.25it/s]\n"
     ]
    },
    {
     "name": "stdout",
     "output_type": "stream",
     "text": [
      "Loss: 402.9259073501453; Average Loss: 0.05513490795705327\n",
      "Validation Loss: 0.12736661732196808\n",
      "-----------------------------------------------------------------\n",
      "Epoch: 180; Bad training epochs: 7; Bad validation epochs: 17\n"
     ]
    },
    {
     "name": "stderr",
     "output_type": "stream",
     "text": [
      "100%|█████████████████████████████████████████████████████████████████████████████████████████████████████████████████████████████████████████████████████████████| 7308/7308 [00:44<00:00, 164.49it/s]\n"
     ]
    },
    {
     "name": "stdout",
     "output_type": "stream",
     "text": [
      "Loss: 402.69012179854326; Average Loss: 0.055102643924267\n",
      "Validation Loss: 0.12722636759281158\n",
      "-----------------------------------------------------------------\n",
      "Epoch: 181; Bad training epochs: 8; Bad validation epochs: 18\n"
     ]
    },
    {
     "name": "stderr",
     "output_type": "stream",
     "text": [
      "100%|█████████████████████████████████████████████████████████████████████████████████████████████████████████████████████████████████████████████████████████████| 7308/7308 [00:47<00:00, 154.10it/s]\n"
     ]
    },
    {
     "name": "stdout",
     "output_type": "stream",
     "text": [
      "Loss: 402.8135656353552; Average Loss: 0.05511953552755271\n",
      "Validation Loss: 0.12724612653255463\n",
      "-----------------------------------------------------------------\n",
      "Epoch: 182; Bad training epochs: 9; Bad validation epochs: 19\n"
     ]
    },
    {
     "name": "stderr",
     "output_type": "stream",
     "text": [
      "100%|█████████████████████████████████████████████████████████████████████████████████████████████████████████████████████████████████████████████████████████████| 7308/7308 [00:47<00:00, 153.48it/s]\n"
     ]
    },
    {
     "name": "stdout",
     "output_type": "stream",
     "text": [
      "Loss: 402.8096755144652; Average Loss: 0.055119003217633446\n",
      "Validation Loss: 0.12735265493392944\n",
      "-----------------------------------------------------------------\n",
      "Epoch: 183; Bad training epochs: 10; Bad validation epochs: 20\n"
     ]
    },
    {
     "name": "stderr",
     "output_type": "stream",
     "text": [
      "100%|█████████████████████████████████████████████████████████████████████████████████████████████████████████████████████████████████████████████████████████████| 7308/7308 [00:45<00:00, 159.37it/s]\n"
     ]
    },
    {
     "name": "stdout",
     "output_type": "stream",
     "text": [
      "Loss: 402.5606507891789; Average Loss: 0.055084927584726176\n",
      "Validation Loss: 0.12714777886867523\n",
      "############### Saving good model for training set ###############################\n",
      "############### Saving good model for validation set ###############################\n",
      "-----------------------------------------------------------------\n",
      "Epoch: 184; Bad training epochs: 0; Bad validation epochs: 0\n"
     ]
    },
    {
     "name": "stderr",
     "output_type": "stream",
     "text": [
      "100%|█████████████████████████████████████████████████████████████████████████████████████████████████████████████████████████████████████████████████████████████| 7308/7308 [00:43<00:00, 167.79it/s]\n"
     ]
    },
    {
     "name": "stdout",
     "output_type": "stream",
     "text": [
      "Loss: 402.5727825325448; Average Loss: 0.05508658764813147\n",
      "Validation Loss: 0.12725578248500824\n",
      "-----------------------------------------------------------------\n",
      "Epoch: 185; Bad training epochs: 1; Bad validation epochs: 1\n"
     ]
    },
    {
     "name": "stderr",
     "output_type": "stream",
     "text": [
      "100%|█████████████████████████████████████████████████████████████████████████████████████████████████████████████████████████████████████████████████████████████| 7308/7308 [00:43<00:00, 166.66it/s]\n"
     ]
    },
    {
     "name": "stdout",
     "output_type": "stream",
     "text": [
      "Loss: 402.655299434904; Average Loss: 0.05509787895934647\n",
      "Validation Loss: 0.12727731466293335\n",
      "-----------------------------------------------------------------\n",
      "Epoch: 186; Bad training epochs: 2; Bad validation epochs: 2\n"
     ]
    },
    {
     "name": "stderr",
     "output_type": "stream",
     "text": [
      "100%|█████████████████████████████████████████████████████████████████████████████████████████████████████████████████████████████████████████████████████████████| 7308/7308 [00:53<00:00, 136.09it/s]\n"
     ]
    },
    {
     "name": "stdout",
     "output_type": "stream",
     "text": [
      "Loss: 402.58978458400816; Average Loss: 0.05508891414668968\n",
      "Validation Loss: 0.12723061442375183\n",
      "-----------------------------------------------------------------\n",
      "Epoch: 187; Bad training epochs: 3; Bad validation epochs: 3\n"
     ]
    },
    {
     "name": "stderr",
     "output_type": "stream",
     "text": [
      "100%|█████████████████████████████████████████████████████████████████████████████████████████████████████████████████████████████████████████████████████████████| 7308/7308 [00:54<00:00, 134.92it/s]\n"
     ]
    },
    {
     "name": "stdout",
     "output_type": "stream",
     "text": [
      "Loss: 402.7235659130383; Average Loss: 0.055107220294613894\n",
      "Validation Loss: 0.12746286392211914\n",
      "-----------------------------------------------------------------\n",
      "Epoch: 188; Bad training epochs: 4; Bad validation epochs: 4\n"
     ]
    },
    {
     "name": "stderr",
     "output_type": "stream",
     "text": [
      "100%|█████████████████████████████████████████████████████████████████████████████████████████████████████████████████████████████████████████████████████████████| 7308/7308 [00:54<00:00, 134.15it/s]\n"
     ]
    },
    {
     "name": "stdout",
     "output_type": "stream",
     "text": [
      "Loss: 402.71724116266705; Average Loss: 0.055106354838898065\n",
      "Validation Loss: 0.12728868424892426\n",
      "-----------------------------------------------------------------\n",
      "Epoch: 189; Bad training epochs: 5; Bad validation epochs: 5\n"
     ]
    },
    {
     "name": "stderr",
     "output_type": "stream",
     "text": [
      "100%|█████████████████████████████████████████████████████████████████████████████████████████████████████████████████████████████████████████████████████████████| 7308/7308 [00:47<00:00, 152.55it/s]\n"
     ]
    },
    {
     "name": "stdout",
     "output_type": "stream",
     "text": [
      "Loss: 402.804438008694; Average Loss: 0.05511828653649343\n",
      "Validation Loss: 0.12729930877685547\n",
      "-----------------------------------------------------------------\n",
      "Epoch: 190; Bad training epochs: 6; Bad validation epochs: 6\n"
     ]
    },
    {
     "name": "stderr",
     "output_type": "stream",
     "text": [
      "100%|█████████████████████████████████████████████████████████████████████████████████████████████████████████████████████████████████████████████████████████████| 7308/7308 [00:46<00:00, 158.04it/s]\n"
     ]
    },
    {
     "name": "stdout",
     "output_type": "stream",
     "text": [
      "Loss: 402.45802422822453; Average Loss: 0.0550708845413553\n",
      "Validation Loss: 0.12731648981571198\n",
      "############### Saving good model for training set ###############################\n",
      "-----------------------------------------------------------------\n",
      "Epoch: 191; Bad training epochs: 0; Bad validation epochs: 7\n"
     ]
    },
    {
     "name": "stderr",
     "output_type": "stream",
     "text": [
      "100%|█████████████████████████████████████████████████████████████████████████████████████████████████████████████████████████████████████████████████████████████| 7308/7308 [00:51<00:00, 141.45it/s]\n"
     ]
    },
    {
     "name": "stdout",
     "output_type": "stream",
     "text": [
      "Loss: 402.6509124550503; Average Loss: 0.05509727866106326\n",
      "Validation Loss: 0.12718696892261505\n",
      "-----------------------------------------------------------------\n",
      "Epoch: 192; Bad training epochs: 1; Bad validation epochs: 8\n"
     ]
    },
    {
     "name": "stderr",
     "output_type": "stream",
     "text": [
      "100%|█████████████████████████████████████████████████████████████████████████████████████████████████████████████████████████████████████████████████████████████| 7308/7308 [00:44<00:00, 163.29it/s]\n"
     ]
    },
    {
     "name": "stdout",
     "output_type": "stream",
     "text": [
      "Loss: 402.71672859508544; Average Loss: 0.05510628470102428\n",
      "Validation Loss: 0.12727989256381989\n",
      "-----------------------------------------------------------------\n",
      "Epoch: 193; Bad training epochs: 2; Bad validation epochs: 9\n"
     ]
    },
    {
     "name": "stderr",
     "output_type": "stream",
     "text": [
      "100%|█████████████████████████████████████████████████████████████████████████████████████████████████████████████████████████████████████████████████████████████| 7308/7308 [00:45<00:00, 159.02it/s]\n"
     ]
    },
    {
     "name": "stdout",
     "output_type": "stream",
     "text": [
      "Loss: 402.5535220738966; Average Loss: 0.055083952117391435\n",
      "Validation Loss: 0.1273009181022644\n",
      "-----------------------------------------------------------------\n",
      "Epoch: 194; Bad training epochs: 3; Bad validation epochs: 10\n"
     ]
    },
    {
     "name": "stderr",
     "output_type": "stream",
     "text": [
      "100%|█████████████████████████████████████████████████████████████████████████████████████████████████████████████████████████████████████████████████████████████| 7308/7308 [00:48<00:00, 152.21it/s]\n"
     ]
    },
    {
     "name": "stdout",
     "output_type": "stream",
     "text": [
      "Loss: 402.7457290450111; Average Loss: 0.05511025301655872\n",
      "Validation Loss: 0.1274084448814392\n",
      "-----------------------------------------------------------------\n",
      "Epoch: 195; Bad training epochs: 4; Bad validation epochs: 11\n"
     ]
    },
    {
     "name": "stderr",
     "output_type": "stream",
     "text": [
      "100%|█████████████████████████████████████████████████████████████████████████████████████████████████████████████████████████████████████████████████████████████| 7308/7308 [00:46<00:00, 156.79it/s]\n"
     ]
    },
    {
     "name": "stdout",
     "output_type": "stream",
     "text": [
      "Loss: 402.7476656155195; Average Loss: 0.05511051800978647\n",
      "Validation Loss: 0.12722080945968628\n",
      "-----------------------------------------------------------------\n",
      "Epoch: 196; Bad training epochs: 5; Bad validation epochs: 12\n"
     ]
    },
    {
     "name": "stderr",
     "output_type": "stream",
     "text": [
      "100%|█████████████████████████████████████████████████████████████████████████████████████████████████████████████████████████████████████████████████████████████| 7308/7308 [00:48<00:00, 151.82it/s]\n"
     ]
    },
    {
     "name": "stdout",
     "output_type": "stream",
     "text": [
      "Loss: 402.4430965145584; Average Loss: 0.05506884188759694\n",
      "Validation Loss: 0.1272750198841095\n",
      "############### Saving good model for training set ###############################\n",
      "-----------------------------------------------------------------\n",
      "Epoch: 197; Bad training epochs: 0; Bad validation epochs: 13\n"
     ]
    },
    {
     "name": "stderr",
     "output_type": "stream",
     "text": [
      "100%|█████████████████████████████████████████████████████████████████████████████████████████████████████████████████████████████████████████████████████████████| 7308/7308 [01:05<00:00, 112.14it/s]\n"
     ]
    },
    {
     "name": "stdout",
     "output_type": "stream",
     "text": [
      "Loss: 402.35818777093664; Average Loss: 0.05505722328556878\n",
      "Validation Loss: 0.12715546786785126\n",
      "############### Saving good model for training set ###############################\n",
      "-----------------------------------------------------------------\n",
      "Epoch: 198; Bad training epochs: 0; Bad validation epochs: 14\n"
     ]
    },
    {
     "name": "stderr",
     "output_type": "stream",
     "text": [
      "100%|█████████████████████████████████████████████████████████████████████████████████████████████████████████████████████████████████████████████████████████████| 7308/7308 [01:02<00:00, 116.01it/s]\n"
     ]
    },
    {
     "name": "stdout",
     "output_type": "stream",
     "text": [
      "Loss: 402.62168965279125; Average Loss: 0.0550932799196485\n",
      "Validation Loss: 0.12738284468650818\n",
      "-----------------------------------------------------------------\n",
      "Epoch: 199; Bad training epochs: 1; Bad validation epochs: 15\n"
     ]
    },
    {
     "name": "stderr",
     "output_type": "stream",
     "text": [
      "100%|█████████████████████████████████████████████████████████████████████████████████████████████████████████████████████████████████████████████████████████████| 7308/7308 [00:52<00:00, 138.30it/s]\n"
     ]
    },
    {
     "name": "stdout",
     "output_type": "stream",
     "text": [
      "Loss: 402.5919290969614; Average Loss: 0.05508920759400129\n",
      "Validation Loss: 0.12727713584899902\n",
      "-----------------------------------------------------------------\n",
      "Epoch: 200; Bad training epochs: 2; Bad validation epochs: 16\n"
     ]
    },
    {
     "name": "stderr",
     "output_type": "stream",
     "text": [
      "100%|█████████████████████████████████████████████████████████████████████████████████████████████████████████████████████████████████████████████████████████████| 7308/7308 [00:59<00:00, 123.27it/s]\n"
     ]
    },
    {
     "name": "stdout",
     "output_type": "stream",
     "text": [
      "Loss: 402.88643516507; Average Loss: 0.05512950672756842\n",
      "Validation Loss: 0.12732385098934174\n",
      "-----------------------------------------------------------------\n",
      "Epoch: 201; Bad training epochs: 3; Bad validation epochs: 17\n"
     ]
    },
    {
     "name": "stderr",
     "output_type": "stream",
     "text": [
      "100%|█████████████████████████████████████████████████████████████████████████████████████████████████████████████████████████████████████████████████████████████| 7308/7308 [00:54<00:00, 133.63it/s]\n"
     ]
    },
    {
     "name": "stdout",
     "output_type": "stream",
     "text": [
      "Loss: 402.37413861532696; Average Loss: 0.0550594059407946\n",
      "Validation Loss: 0.1273229718208313\n",
      "-----------------------------------------------------------------\n",
      "Epoch: 202; Bad training epochs: 4; Bad validation epochs: 18\n"
     ]
    },
    {
     "name": "stderr",
     "output_type": "stream",
     "text": [
      "100%|█████████████████████████████████████████████████████████████████████████████████████████████████████████████████████████████████████████████████████████████| 7308/7308 [00:53<00:00, 136.71it/s]\n"
     ]
    },
    {
     "name": "stdout",
     "output_type": "stream",
     "text": [
      "Loss: 402.6095111044124; Average Loss: 0.05509161345161636\n",
      "Validation Loss: 0.12731918692588806\n",
      "-----------------------------------------------------------------\n",
      "Epoch: 203; Bad training epochs: 5; Bad validation epochs: 19\n"
     ]
    },
    {
     "name": "stderr",
     "output_type": "stream",
     "text": [
      "100%|█████████████████████████████████████████████████████████████████████████████████████████████████████████████████████████████████████████████████████████████| 7308/7308 [00:47<00:00, 152.28it/s]\n"
     ]
    },
    {
     "name": "stdout",
     "output_type": "stream",
     "text": [
      "Loss: 402.74771212018095; Average Loss: 0.055110524373314304\n",
      "Validation Loss: 0.12736642360687256\n",
      "-----------------------------------------------------------------\n",
      "Epoch: 204; Bad training epochs: 6; Bad validation epochs: 20\n"
     ]
    },
    {
     "name": "stderr",
     "output_type": "stream",
     "text": [
      "100%|█████████████████████████████████████████████████████████████████████████████████████████████████████████████████████████████████████████████████████████████| 7308/7308 [01:00<00:00, 121.77it/s]\n"
     ]
    },
    {
     "name": "stdout",
     "output_type": "stream",
     "text": [
      "Loss: 402.54901775717735; Average Loss: 0.05508333576316056\n",
      "Validation Loss: 0.1272815465927124\n",
      "-----------------------------------------------------------------\n",
      "Epoch: 205; Bad training epochs: 7; Bad validation epochs: 21\n"
     ]
    },
    {
     "name": "stderr",
     "output_type": "stream",
     "text": [
      "100%|█████████████████████████████████████████████████████████████████████████████████████████████████████████████████████████████████████████████████████████████| 7308/7308 [00:49<00:00, 147.16it/s]\n"
     ]
    },
    {
     "name": "stdout",
     "output_type": "stream",
     "text": [
      "Loss: 402.5988752692938; Average Loss: 0.05509015808282619\n",
      "Validation Loss: 0.12735632061958313\n",
      "-----------------------------------------------------------------\n",
      "Epoch: 206; Bad training epochs: 8; Bad validation epochs: 22\n"
     ]
    },
    {
     "name": "stderr",
     "output_type": "stream",
     "text": [
      "100%|█████████████████████████████████████████████████████████████████████████████████████████████████████████████████████████████████████████████████████████████| 7308/7308 [00:55<00:00, 131.01it/s]\n"
     ]
    },
    {
     "name": "stdout",
     "output_type": "stream",
     "text": [
      "Loss: 402.43143069860525; Average Loss: 0.05506724557999525\n",
      "Validation Loss: 0.12729410827159882\n",
      "-----------------------------------------------------------------\n",
      "Epoch: 207; Bad training epochs: 9; Bad validation epochs: 23\n"
     ]
    },
    {
     "name": "stderr",
     "output_type": "stream",
     "text": [
      "100%|█████████████████████████████████████████████████████████████████████████████████████████████████████████████████████████████████████████████████████████████| 7308/7308 [00:48<00:00, 149.17it/s]\n"
     ]
    },
    {
     "name": "stdout",
     "output_type": "stream",
     "text": [
      "Loss: 402.4493047648575; Average Loss: 0.05506969140186885\n",
      "Validation Loss: 0.1272594928741455\n",
      "-----------------------------------------------------------------\n",
      "Epoch: 208; Bad training epochs: 10; Bad validation epochs: 24\n"
     ]
    },
    {
     "name": "stderr",
     "output_type": "stream",
     "text": [
      "100%|█████████████████████████████████████████████████████████████████████████████████████████████████████████████████████████████████████████████████████████████| 7308/7308 [00:53<00:00, 136.49it/s]\n"
     ]
    },
    {
     "name": "stdout",
     "output_type": "stream",
     "text": [
      "Loss: 402.3871107751038; Average Loss: 0.055061181003708784\n",
      "Validation Loss: 0.12728308141231537\n",
      "-----------------------------------------------------------------\n",
      "Epoch: 209; Bad training epochs: 11; Bad validation epochs: 25\n"
     ]
    },
    {
     "name": "stderr",
     "output_type": "stream",
     "text": [
      "100%|█████████████████████████████████████████████████████████████████████████████████████████████████████████████████████████████████████████████████████████████| 7308/7308 [00:51<00:00, 143.21it/s]\n"
     ]
    },
    {
     "name": "stdout",
     "output_type": "stream",
     "text": [
      "Loss: 402.84219038067386; Average Loss: 0.0551234524330424\n",
      "Validation Loss: 0.12733818590641022\n",
      "-----------------------------------------------------------------\n",
      "Epoch: 210; Bad training epochs: 12; Bad validation epochs: 26\n"
     ]
    },
    {
     "name": "stderr",
     "output_type": "stream",
     "text": [
      "100%|█████████████████████████████████████████████████████████████████████████████████████████████████████████████████████████████████████████████████████████████| 7308/7308 [00:53<00:00, 137.28it/s]\n"
     ]
    },
    {
     "name": "stdout",
     "output_type": "stream",
     "text": [
      "Loss: 402.54943032050505; Average Loss: 0.05508339221681788\n",
      "Validation Loss: 0.1272004097700119\n",
      "-----------------------------------------------------------------\n",
      "Epoch: 211; Bad training epochs: 13; Bad validation epochs: 27\n"
     ]
    },
    {
     "name": "stderr",
     "output_type": "stream",
     "text": [
      "100%|█████████████████████████████████████████████████████████████████████████████████████████████████████████████████████████████████████████████████████████████| 7308/7308 [00:50<00:00, 144.34it/s]\n"
     ]
    },
    {
     "name": "stdout",
     "output_type": "stream",
     "text": [
      "Loss: 402.6690007173456; Average Loss: 0.055099753792740236\n",
      "Validation Loss: 0.12724466621875763\n",
      "-----------------------------------------------------------------\n",
      "Epoch: 212; Bad training epochs: 14; Bad validation epochs: 28\n"
     ]
    },
    {
     "name": "stderr",
     "output_type": "stream",
     "text": [
      "100%|█████████████████████████████████████████████████████████████████████████████████████████████████████████████████████████████████████████████████████████████| 7308/7308 [00:54<00:00, 133.89it/s]\n"
     ]
    },
    {
     "name": "stdout",
     "output_type": "stream",
     "text": [
      "Loss: 402.65549977566116; Average Loss: 0.05509790637324318\n",
      "Validation Loss: 0.12729321420192719\n",
      "-----------------------------------------------------------------\n",
      "Epoch: 213; Bad training epochs: 15; Bad validation epochs: 29\n"
     ]
    },
    {
     "name": "stderr",
     "output_type": "stream",
     "text": [
      "100%|█████████████████████████████████████████████████████████████████████████████████████████████████████████████████████████████████████████████████████████████| 7308/7308 [00:46<00:00, 156.92it/s]\n"
     ]
    },
    {
     "name": "stdout",
     "output_type": "stream",
     "text": [
      "Loss: 402.5843663515989; Average Loss: 0.0550881727355773\n",
      "Validation Loss: 0.12716227769851685\n",
      "-----------------------------------------------------------------\n",
      "Epoch: 214; Bad training epochs: 16; Bad validation epochs: 30\n"
     ]
    },
    {
     "name": "stderr",
     "output_type": "stream",
     "text": [
      "100%|█████████████████████████████████████████████████████████████████████████████████████████████████████████████████████████████████████████████████████████████| 7308/7308 [00:50<00:00, 145.76it/s]\n"
     ]
    },
    {
     "name": "stdout",
     "output_type": "stream",
     "text": [
      "Loss: 402.4462489944417; Average Loss: 0.055069273261417855\n",
      "Validation Loss: 0.12718434631824493\n",
      "-----------------------------------------------------------------\n",
      "Epoch: 215; Bad training epochs: 17; Bad validation epochs: 31\n"
     ]
    },
    {
     "name": "stderr",
     "output_type": "stream",
     "text": [
      "100%|█████████████████████████████████████████████████████████████████████████████████████████████████████████████████████████████████████████████████████████████| 7308/7308 [00:45<00:00, 159.85it/s]\n"
     ]
    },
    {
     "name": "stdout",
     "output_type": "stream",
     "text": [
      "Loss: 402.5883778987918; Average Loss: 0.055088721661027885\n",
      "Validation Loss: 0.1271762251853943\n",
      "-----------------------------------------------------------------\n",
      "Epoch: 216; Bad training epochs: 18; Bad validation epochs: 32\n"
     ]
    },
    {
     "name": "stderr",
     "output_type": "stream",
     "text": [
      "100%|█████████████████████████████████████████████████████████████████████████████████████████████████████████████████████████████████████████████████████████████| 7308/7308 [00:53<00:00, 137.33it/s]\n"
     ]
    },
    {
     "name": "stdout",
     "output_type": "stream",
     "text": [
      "Loss: 402.51360205188394; Average Loss: 0.05507848960753749\n",
      "Validation Loss: 0.12729834020137787\n",
      "-----------------------------------------------------------------\n",
      "Epoch: 217; Bad training epochs: 19; Bad validation epochs: 33\n"
     ]
    },
    {
     "name": "stderr",
     "output_type": "stream",
     "text": [
      "100%|█████████████████████████████████████████████████████████████████████████████████████████████████████████████████████████████████████████████████████████████| 7308/7308 [00:49<00:00, 146.77it/s]\n"
     ]
    },
    {
     "name": "stdout",
     "output_type": "stream",
     "text": [
      "Loss: 402.5270986163523; Average Loss: 0.05508033642807229\n",
      "Validation Loss: 0.12725365161895752\n",
      "Done, best training loss per epoch: 402.35818777093664; best validation loss: 0.12714777886867523\n",
      "Done\n"
     ]
    },
    {
     "data": {
      "text/plain": [
       "<All keys matched successfully>"
      ]
     },
     "execution_count": 20,
     "metadata": {},
     "output_type": "execute_result"
    }
   ],
   "source": [
    "# train_loss_list=[]\n",
    "# avg_train_loss_list=[]\n",
    "\n",
    "# val_loss_list = []\n",
    "# avg_val_loss_list=[]\n",
    "\n",
    "\n",
    "# # Best loss\n",
    "# best_train_loss = 1e16\n",
    "# best_val_loss = 1e16\n",
    "# num_bad_epochs_train = 0\n",
    "# num_bad_epochs_val = 0\n",
    "# patience = 20\n",
    "\n",
    "# for epoch in range(1000):\n",
    "#     print(\"-----------------------------------------------------------------\")\n",
    "#     print(\"Epoch: {}; Bad training epochs: {}; Bad validation epochs: {}\".format(epoch, num_bad_epochs_train, num_bad_epochs_val))\n",
    "#     net.train()\n",
    "#     running_train_loss = 0.\n",
    "    \n",
    "# #     Training\n",
    "#     for i, X_batch in enumerate(tqdm(trainloader), 0):\n",
    "#         optimizer.zero_grad()\n",
    "#         X_pred, theta, phi, mu_cart_pred, lambda_par_pred, lambda_iso_pred, volume_0_pred, volume_1_pred = net(X_batch)\n",
    "#         loss = criterion(X_pred.type(torch.FloatTensor), X_batch.type(torch.FloatTensor))\n",
    "#         loss.backward()\n",
    "#         optimizer.step()\n",
    "#         running_train_loss += loss.item()\n",
    "        \n",
    "#     train_loss_list.append(running_train_loss)\n",
    "#     avg_train_loss_list.append(running_train_loss/num_batches)\n",
    "#     print(\"Loss: {}; Average Loss: {}\".format(running_train_loss, running_train_loss/num_batches))\n",
    "    \n",
    "# #     Validation\n",
    "#     temp_model = net.state_dict()\n",
    "#     val_net = network.BallStickNet(gradient_directions_val_set, b_values_val_set)\n",
    "#     val_net.load_state_dict(temp_model)\n",
    "#     val_net.eval()\n",
    "#     with torch.no_grad():\n",
    "#         val_pred, _, _, _, _, _, _, _ = val_net(val_set)\n",
    "#         val_loss = criterion(val_pred.type(torch.FloatTensor), val_set.type(torch.FloatTensor))\n",
    "#         running_val_loss = val_loss.item()\n",
    "#         val_loss_list.append(running_val_loss)\n",
    "#         print(\"Validation Loss: {}\".format(running_val_loss))\n",
    "\n",
    "#     if running_train_loss < best_train_loss:\n",
    "#         print(\"############### Saving good model for training set ###############################\")\n",
    "#         final_model_trainset = net.state_dict()\n",
    "#         best_train_loss = running_train_loss\n",
    "#         num_bad_epochs_train = 0\n",
    "        \n",
    "#         if running_val_loss < best_val_loss:\n",
    "#             print(\"############### Saving good model for validation set ###############################\")\n",
    "#             final_model_valset = net.state_dict()\n",
    "#             best_val_loss = running_val_loss\n",
    "#             num_bad_epochs_val = 0\n",
    "#         else:\n",
    "#             if running_val_loss >= best_val_loss:\n",
    "#                 num_bad_epochs_val += 1\n",
    "#     else:\n",
    "        \n",
    "        # if running_train_loss >= best_train_loss:\n",
    "        #     num_bad_epochs_train = num_bad_epochs_train + 1\n",
    "        #     if num_bad_epochs_train == patience:\n",
    "        #         print(\"Done, best training loss per epoch: {}; best validation loss: {}\".format(best_train_loss, best_val_loss))\n",
    "        #         break\n",
    "#         if running_val_loss >= best_val_loss:\n",
    "#             num_bad_epochs_val = num_bad_epochs_val + 1\n",
    "            \n",
    "#         if running_val_loss < best_val_loss:\n",
    "#             best_val_loss = running_val_loss\n",
    "#             num_bad_epochs_val = 0\n",
    "#             print(\"ATTENTION: the loss on the train set is increasing while the loss on the validation set is decreasing. \")\n",
    "\n",
    "            \n",
    "# print(\"Done\") \n",
    "# net.load_state_dict(final_model_trainset)\n",
    "# net.load_state_dict(final_model_valset)"
   ]
  },
  {
   "cell_type": "code",
   "execution_count": 20,
   "id": "b3700961-1915-499e-95c3-41c5ff1d0637",
   "metadata": {},
   "outputs": [
    {
     "data": {
      "image/png": "[encoded data removed]",
      "text/plain": [
       "<Figure size 640x480 with 1 Axes>"
      ]
     },
     "metadata": {},
     "output_type": "display_data"
    }
   ],
   "source": [
    "\n",
    "plt.plot(avg_train_loss_list)\n",
    "plt.xlabel(\"Epochs\")\n",
    "plt.ylabel(\"Average Runing Loss per batch\")\n",
    "plt.show()"
   ]
  },
  {
   "cell_type": "code",
   "execution_count": 21,
   "id": "8a78acab-2a6e-4dae-8744-037a765cbebc",
   "metadata": {},
   "outputs": [
    {
     "data": {
      "image/png": "[encoded data removed]",
      "text/plain": [
       "<Figure size 640x480 with 1 Axes>"
      ]
     },
     "metadata": {},
     "output_type": "display_data"
    }
   ],
   "source": [
    "plt.plot(val_loss_list)\n",
    "plt.xlabel(\"Epochs\")\n",
    "plt.ylabel(\"Average Runing Loss per batch\")\n",
    "plt.show()"
   ]
  },
  {
   "cell_type": "code",
   "execution_count": 22,
   "id": "b2b006cd-2786-4f24-9fde-4648f7ac2390",
   "metadata": {},
   "outputs": [],
   "source": [
    "with open('loss_golden_std_retrain02.txt', 'w') as f:\n",
    "    f.write('train_loss_per_epoch_list: ' + str(train_loss_list) + '\\n')\n",
    "    f.write('\\n')\n",
    "    f.write('avg_train_loss_list: ' + str(avg_train_loss_list) + '\\n')\n",
    "    f.write('\\n')\n",
    "    f.write('val_loss_list: ' + str(val_loss_list) + '\\n')"
   ]
  },
  {
   "cell_type": "code",
   "execution_count": 23,
   "id": "a06252a5-b09a-43bc-ae2c-ca3369429363",
   "metadata": {},
   "outputs": [],
   "source": [
    "# torch.save(final_model_trainset, 'model_100206_golden_std_retrain_trainset.pt')\n",
    "torch.save(final_model_valset, 'model_100206_golden_std_retrain02.pt')"
   ]
  },
  {
   "cell_type": "code",
   "execution_count": null,
   "id": "4a3ee28e-0313-4314-9ce4-5edcded39737",
   "metadata": {},
   "outputs": [],
   "source": []
  }
 ],
 "metadata": {
  "kernelspec": {
   "display_name": "Python 3 (ipykernel)",
   "language": "python",
   "name": "python3"
  },
  "language_info": {
   "codemirror_mode": {
    "name": "ipython",
    "version": 3
   },
   "file_extension": ".py",
   "mimetype": "text/x-python",
   "name": "python",
   "nbconvert_exporter": "python",
   "pygments_lexer": "ipython3",
   "version": "3.10.8"
  }
 },
 "nbformat": 4,
 "nbformat_minor": 5
}
