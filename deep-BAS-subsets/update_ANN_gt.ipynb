{
 "cells": [
  {
   "cell_type": "code",
   "execution_count": 1,
   "id": "b52efadc-434a-4ad0-a08f-beb35ba84a2c",
   "metadata": {},
   "outputs": [],
   "source": [
    "import numpy as np\n",
    "\n",
    "import matplotlib.pyplot as plt\n",
    "\n",
    "import torch\n",
    "import torch.nn as nn\n",
    "import torch.optim as optim\n",
    "import torch.utils.data as utils\n",
    "from torch.optim.lr_scheduler import ReduceLROnPlateau\n",
    "from tqdm import tqdm\n",
    "\n",
    "import process_data\n",
    "import network\n",
    "import config"
   ]
  },
  {
   "cell_type": "code",
   "execution_count": 2,
   "id": "f25ec28b-6c7d-4f6e-bef3-a1e6867106cd",
   "metadata": {},
   "outputs": [],
   "source": [
    "normalized_scan_100206_full = np.load(config.norm_data_path + '/normalized_scan_100206_full.npy')\n",
    "\n",
    "normalized_scan_val_set_full = np.load('normalized_scan_100610_full.npy')"
   ]
  },
  {
   "cell_type": "code",
   "execution_count": 3,
   "id": "59490c30-1819-491c-8887-94332f2eacbd",
   "metadata": {},
   "outputs": [],
   "source": [
    "bvals_all_100206 = np.loadtxt(config.data_folder2 + '/100206/bvals') * 1e-3\n",
    "bvals_all_val_set = np.loadtxt(config.data_folder2 + '/100610/bvals') * 1e-3"
   ]
  },
  {
   "cell_type": "code",
   "execution_count": 4,
   "id": "52a205a3-ed25-4cbb-be87-df4098884128",
   "metadata": {},
   "outputs": [],
   "source": [
    "big_b_indices_100206 = np.where(bvals_all_100206 != 0.005)[0]\n",
    "big_b_indices_val_set = np.where(bvals_all_val_set != 0.005)[0]"
   ]
  },
  {
   "cell_type": "code",
   "execution_count": 5,
   "id": "79ce7546-cecd-4565-9372-7f973440b7fd",
   "metadata": {},
   "outputs": [],
   "source": [
    "bvals_100206 = bvals_all_100206[big_b_indices_100206]\n",
    "bvals_val_set = bvals_all_100206[big_b_indices_val_set]"
   ]
  },
  {
   "cell_type": "code",
   "execution_count": 6,
   "id": "2d6ac2bd-110c-4022-8c10-259202eeeac2",
   "metadata": {},
   "outputs": [],
   "source": [
    "normalized_scan_100206_no_b5 = normalized_scan_100206_full[:, big_b_indices_100206]\n",
    "normalized_scan_val_set_no_b5 = normalized_scan_val_set_full[:, big_b_indices_val_set]"
   ]
  },
  {
   "cell_type": "code",
   "execution_count": 7,
   "id": "5cc97662-331e-4e2e-969c-8afd5d071322",
   "metadata": {},
   "outputs": [
    {
     "data": {
      "text/plain": [
       "[<matplotlib.lines.Line2D at 0x183ecb9a0>]"
      ]
     },
     "execution_count": 7,
     "metadata": {},
     "output_type": "execute_result"
    },
    {
     "data": {
      "image/png": "[encoded data removed]",
      "text/plain": [
       "<Figure size 640x480 with 1 Axes>"
      ]
     },
     "metadata": {},
     "output_type": "display_data"
    }
   ],
   "source": [
    "plt.plot(bvals_100206, normalized_scan_100206_no_b5[42,:], \"o\", markersize = 1)\n",
    "plt.plot(bvals_val_set, normalized_scan_val_set_no_b5[42,:], \"o\", markersize = 1)"
   ]
  },
  {
   "cell_type": "code",
   "execution_count": 8,
   "id": "33a76939-f823-4fb1-bdc3-d362e97665e8",
   "metadata": {},
   "outputs": [],
   "source": [
    "n_100206_all = np.loadtxt(config.data_folder2 + '/100206/bvecs')\n",
    "\n",
    "n_val_set_all = np.loadtxt(config.data_folder2 + '/100610/bvecs')"
   ]
  },
  {
   "cell_type": "code",
   "execution_count": 9,
   "id": "5cea21f4-0307-4fff-a0e6-916742652eaf",
   "metadata": {},
   "outputs": [
    {
     "name": "stdout",
     "output_type": "stream",
     "text": [
      "(270, 3)\n",
      "(270, 3)\n"
     ]
    }
   ],
   "source": [
    "n_100206 = n_100206_all[:,big_b_indices_100206].T\n",
    "print(n_100206.shape)\n",
    "\n",
    "b_values_100206 = torch.FloatTensor(bvals_100206)\n",
    "gradient_directions_100206 = torch.FloatTensor(n_100206)\n",
    "\n",
    "n_val_set = n_val_set_all[:,big_b_indices_val_set].T\n",
    "print(n_val_set.shape)\n",
    "\n",
    "b_values_val_set = torch.FloatTensor(bvals_val_set)\n",
    "gradient_directions_val_set = torch.FloatTensor(n_val_set)"
   ]
  },
  {
   "cell_type": "code",
   "execution_count": 10,
   "id": "3bb36450-0595-4add-926d-76b05a0a0d1e",
   "metadata": {},
   "outputs": [],
   "source": [
    "batch_size = 128\n",
    "num_batches = len(normalized_scan_100206_no_b5) // batch_size\n",
    "trainloader = utils.DataLoader(torch.from_numpy(normalized_scan_100206_no_b5.astype(np.float32)),\n",
    "                            batch_size = batch_size, \n",
    "                            shuffle = True,\n",
    "                            num_workers = 2,\n",
    "                            drop_last = True)"
   ]
  },
  {
   "cell_type": "code",
   "execution_count": 11,
   "id": "f984fe02-47c9-472a-9ad0-f132e52d3e86",
   "metadata": {},
   "outputs": [
    {
     "name": "stdout",
     "output_type": "stream",
     "text": [
      "torch.Size([880154, 270])\n",
      "<class 'torch.Tensor'>\n"
     ]
    }
   ],
   "source": [
    "val_set = torch.from_numpy(normalized_scan_val_set_no_b5.astype(np.float32))\n",
    "print(val_set.shape)\n",
    "print(type(val_set))"
   ]
  },
  {
   "cell_type": "code",
   "execution_count": 38,
   "id": "518dd8cb-cd42-4bad-821e-c76869d5b054",
   "metadata": {},
   "outputs": [],
   "source": [
    "# net_golden_std = network.BallStickNet(gradient_directions_100206, b_values_100206)\n",
    "# net_golden_std.load_state_dict(torch.load(\"/Users/weiwenhua/UGY4/COMP0029/COMP0029-Project/deep-ball-stick/model_100206_norm_01_Feb_182e.pt\"))\n",
    "# criterion = nn.MSELoss()\n",
    "# optimizer = optim.Adam(net_golden_std.parameters(), lr = 0.00001)\n",
    "\n",
    "net = network.BallStickNet(gradient_directions_100206, b_values_100206)\n",
    "\n",
    "# criterion = nn.MSELoss()\n",
    "criterion = nn.L1Loss()\n",
    "optimizer = optim.Adam(net.parameters(), lr = 0.0001)\n",
    "scheduler = ReduceLROnPlateau(optimizer, mode='min', factor=0.1, patience=10, verbose=True)"
   ]
  },
  {
   "cell_type": "code",
   "execution_count": 39,
   "id": "50c6c40d-70a1-4f42-8b6c-e4bc8fdd27f1",
   "metadata": {
    "tags": []
   },
   "outputs": [
    {
     "name": "stdout",
     "output_type": "stream",
     "text": [
      "-----------------------------------------------------------------\n",
      "Epoch: 0; Bad training epochs: 0; Bad validation epochs: 0\n",
      "Current learning rate: 0.0001\n"
     ]
    },
    {
     "name": "stderr",
     "output_type": "stream",
     "text": [
      "100%|█████████████████████████████████████████████████████████████████████████████████████████████████████████████████████████████████████████████████████████████| 7308/7308 [00:42<00:00, 170.15it/s]\n"
     ]
    },
    {
     "name": "stdout",
     "output_type": "stream",
     "text": [
      "Loss: 459.5175788924098; Average Loss: 0.06287870537662969\n",
      "Validation Loss: 0.05589739605784416\n",
      "############### Saving good model for validation set ###############################\n",
      "-----------------------------------------------------------------\n",
      "Epoch: 1; Bad training epochs: 0; Bad validation epochs: 0\n",
      "Current learning rate: 0.0001\n"
     ]
    },
    {
     "name": "stderr",
     "output_type": "stream",
     "text": [
      "100%|█████████████████████████████████████████████████████████████████████████████████████████████████████████████████████████████████████████████████████████████| 7308/7308 [00:44<00:00, 164.88it/s]\n"
     ]
    },
    {
     "name": "stdout",
     "output_type": "stream",
     "text": [
      "Loss: 381.8490004166961; Average Loss: 0.05225082107508156\n",
      "Validation Loss: 0.05292742699384689\n",
      "############### Saving good model for validation set ###############################\n",
      "-----------------------------------------------------------------\n",
      "Epoch: 2; Bad training epochs: 0; Bad validation epochs: 0\n",
      "Current learning rate: 0.0001\n"
     ]
    },
    {
     "name": "stderr",
     "output_type": "stream",
     "text": [
      "100%|█████████████████████████████████████████████████████████████████████████████████████████████████████████████████████████████████████████████████████████████| 7308/7308 [00:45<00:00, 161.83it/s]\n"
     ]
    },
    {
     "name": "stdout",
     "output_type": "stream",
     "text": [
      "Loss: 365.73529513552785; Average Loss: 0.050045880560417054\n",
      "Validation Loss: 0.05179036036133766\n",
      "############### Saving good model for validation set ###############################\n",
      "-----------------------------------------------------------------\n",
      "Epoch: 3; Bad training epochs: 0; Bad validation epochs: 0\n",
      "Current learning rate: 0.0001\n"
     ]
    },
    {
     "name": "stderr",
     "output_type": "stream",
     "text": [
      "100%|█████████████████████████████████████████████████████████████████████████████████████████████████████████████████████████████████████████████████████████████| 7308/7308 [00:50<00:00, 145.80it/s]\n"
     ]
    },
    {
     "name": "stdout",
     "output_type": "stream",
     "text": [
      "Loss: 358.15413596481085; Average Loss: 0.04900850245823903\n",
      "Validation Loss: 0.05130650848150253\n",
      "############### Saving good model for validation set ###############################\n",
      "-----------------------------------------------------------------\n",
      "Epoch: 4; Bad training epochs: 0; Bad validation epochs: 0\n",
      "Current learning rate: 0.0001\n"
     ]
    },
    {
     "name": "stderr",
     "output_type": "stream",
     "text": [
      "100%|█████████████████████████████████████████████████████████████████████████████████████████████████████████████████████████████████████████████████████████████| 7308/7308 [00:47<00:00, 152.64it/s]\n"
     ]
    },
    {
     "name": "stdout",
     "output_type": "stream",
     "text": [
      "Loss: 354.42271752282977; Average Loss: 0.048497908801700844\n",
      "Validation Loss: 0.05077904090285301\n",
      "############### Saving good model for validation set ###############################\n",
      "-----------------------------------------------------------------\n",
      "Epoch: 5; Bad training epochs: 0; Bad validation epochs: 0\n",
      "Current learning rate: 0.0001\n"
     ]
    },
    {
     "name": "stderr",
     "output_type": "stream",
     "text": [
      "100%|█████████████████████████████████████████████████████████████████████████████████████████████████████████████████████████████████████████████████████████████| 7308/7308 [00:52<00:00, 138.51it/s]\n"
     ]
    },
    {
     "name": "stdout",
     "output_type": "stream",
     "text": [
      "Loss: 352.38260060176253; Average Loss: 0.04821874666143439\n",
      "Validation Loss: 0.05076049640774727\n",
      "############### Saving good model for validation set ###############################\n",
      "-----------------------------------------------------------------\n",
      "Epoch: 6; Bad training epochs: 0; Bad validation epochs: 0\n",
      "Current learning rate: 0.0001\n"
     ]
    },
    {
     "name": "stderr",
     "output_type": "stream",
     "text": [
      "100%|█████████████████████████████████████████████████████████████████████████████████████████████████████████████████████████████████████████████████████████████| 7308/7308 [00:54<00:00, 133.54it/s]\n"
     ]
    },
    {
     "name": "stdout",
     "output_type": "stream",
     "text": [
      "Loss: 350.9449496604502; Average Loss: 0.048022023763061056\n",
      "Validation Loss: 0.050590090453624725\n",
      "############### Saving good model for validation set ###############################\n",
      "-----------------------------------------------------------------\n",
      "Epoch: 7; Bad training epochs: 0; Bad validation epochs: 0\n",
      "Current learning rate: 0.0001\n"
     ]
    },
    {
     "name": "stderr",
     "output_type": "stream",
     "text": [
      "100%|█████████████████████████████████████████████████████████████████████████████████████████████████████████████████████████████████████████████████████████████| 7308/7308 [00:55<00:00, 131.16it/s]\n"
     ]
    },
    {
     "name": "stdout",
     "output_type": "stream",
     "text": [
      "Loss: 349.87425984069705; Average Loss: 0.047875514482854\n",
      "Validation Loss: 0.05045368894934654\n",
      "############### Saving good model for validation set ###############################\n",
      "-----------------------------------------------------------------\n",
      "Epoch: 8; Bad training epochs: 0; Bad validation epochs: 0\n",
      "Current learning rate: 0.0001\n"
     ]
    },
    {
     "name": "stderr",
     "output_type": "stream",
     "text": [
      "100%|█████████████████████████████████████████████████████████████████████████████████████████████████████████████████████████████████████████████████████████████| 7308/7308 [00:48<00:00, 150.88it/s]\n"
     ]
    },
    {
     "name": "stdout",
     "output_type": "stream",
     "text": [
      "Loss: 349.06132684648037; Average Loss: 0.047764275704225555\n",
      "Validation Loss: 0.050399359315633774\n",
      "############### Saving good model for validation set ###############################\n",
      "-----------------------------------------------------------------\n",
      "Epoch: 9; Bad training epochs: 0; Bad validation epochs: 0\n",
      "Current learning rate: 0.0001\n"
     ]
    },
    {
     "name": "stderr",
     "output_type": "stream",
     "text": [
      "100%|█████████████████████████████████████████████████████████████████████████████████████████████████████████████████████████████████████████████████████████████| 7308/7308 [00:57<00:00, 126.06it/s]\n"
     ]
    },
    {
     "name": "stdout",
     "output_type": "stream",
     "text": [
      "Loss: 348.33138247951865; Average Loss: 0.04766439278592209\n",
      "Validation Loss: 0.05024944618344307\n",
      "############### Saving good model for validation set ###############################\n",
      "-----------------------------------------------------------------\n",
      "Epoch: 10; Bad training epochs: 0; Bad validation epochs: 0\n",
      "Current learning rate: 0.0001\n"
     ]
    },
    {
     "name": "stderr",
     "output_type": "stream",
     "text": [
      "100%|██████████████████████████████████████████████████████████████████████████████████████████████████████████████████████████████████████████████████████████████| 7308/7308 [01:20<00:00, 90.39it/s]\n"
     ]
    },
    {
     "name": "stdout",
     "output_type": "stream",
     "text": [
      "Loss: 347.7621428593993; Average Loss: 0.04758650011759706\n",
      "Validation Loss: 0.05026322230696678\n",
      "-----------------------------------------------------------------\n",
      "Epoch: 11; Bad training epochs: 0; Bad validation epochs: 1\n",
      "Current learning rate: 0.0001\n"
     ]
    },
    {
     "name": "stderr",
     "output_type": "stream",
     "text": [
      "100%|█████████████████████████████████████████████████████████████████████████████████████████████████████████████████████████████████████████████████████████████| 7308/7308 [01:07<00:00, 108.48it/s]\n"
     ]
    },
    {
     "name": "stdout",
     "output_type": "stream",
     "text": [
      "Loss: 347.23733603581786; Average Loss: 0.047514687470692096\n",
      "Validation Loss: 0.05018148198723793\n",
      "############### Saving good model for validation set ###############################\n",
      "-----------------------------------------------------------------\n",
      "Epoch: 12; Bad training epochs: 0; Bad validation epochs: 0\n",
      "Current learning rate: 0.0001\n"
     ]
    },
    {
     "name": "stderr",
     "output_type": "stream",
     "text": [
      "100%|█████████████████████████████████████████████████████████████████████████████████████████████████████████████████████████████████████████████████████████████| 7308/7308 [01:01<00:00, 117.88it/s]\n"
     ]
    },
    {
     "name": "stdout",
     "output_type": "stream",
     "text": [
      "Loss: 346.7708919234574; Average Loss: 0.04745086096380095\n",
      "Validation Loss: 0.050178613513708115\n",
      "############### Saving good model for validation set ###############################\n",
      "-----------------------------------------------------------------\n",
      "Epoch: 13; Bad training epochs: 0; Bad validation epochs: 0\n",
      "Current learning rate: 0.0001\n"
     ]
    },
    {
     "name": "stderr",
     "output_type": "stream",
     "text": [
      "100%|██████████████████████████████████████████████████████████████████████████████████████████████████████████████████████████████████████████████████████████████| 7308/7308 [01:13<00:00, 99.62it/s]\n"
     ]
    },
    {
     "name": "stdout",
     "output_type": "stream",
     "text": [
      "Loss: 346.3799128718674; Average Loss: 0.04739736081990523\n",
      "Validation Loss: 0.050102055072784424\n",
      "############### Saving good model for validation set ###############################\n",
      "-----------------------------------------------------------------\n",
      "Epoch: 14; Bad training epochs: 0; Bad validation epochs: 0\n",
      "Current learning rate: 0.0001\n"
     ]
    },
    {
     "name": "stderr",
     "output_type": "stream",
     "text": [
      "100%|█████████████████████████████████████████████████████████████████████████████████████████████████████████████████████████████████████████████████████████████| 7308/7308 [01:12<00:00, 100.49it/s]\n"
     ]
    },
    {
     "name": "stdout",
     "output_type": "stream",
     "text": [
      "Loss: 346.00984048098326; Average Loss: 0.04734672146702015\n",
      "Validation Loss: 0.050050489604473114\n",
      "############### Saving good model for validation set ###############################\n",
      "-----------------------------------------------------------------\n",
      "Epoch: 15; Bad training epochs: 0; Bad validation epochs: 0\n",
      "Current learning rate: 0.0001\n"
     ]
    },
    {
     "name": "stderr",
     "output_type": "stream",
     "text": [
      "100%|█████████████████████████████████████████████████████████████████████████████████████████████████████████████████████████████████████████████████████████████| 7308/7308 [00:54<00:00, 134.71it/s]\n"
     ]
    },
    {
     "name": "stdout",
     "output_type": "stream",
     "text": [
      "Loss: 345.7242737002671; Average Loss: 0.047307645552855375\n",
      "Validation Loss: 0.0499994158744812\n",
      "############### Saving good model for validation set ###############################\n",
      "-----------------------------------------------------------------\n",
      "Epoch: 16; Bad training epochs: 0; Bad validation epochs: 0\n",
      "Current learning rate: 0.0001\n"
     ]
    },
    {
     "name": "stderr",
     "output_type": "stream",
     "text": [
      "100%|█████████████████████████████████████████████████████████████████████████████████████████████████████████████████████████████████████████████████████████████| 7308/7308 [01:01<00:00, 118.81it/s]\n"
     ]
    },
    {
     "name": "stdout",
     "output_type": "stream",
     "text": [
      "Loss: 345.40479078143835; Average Loss: 0.047263928678357735\n",
      "Validation Loss: 0.050084128975868225\n",
      "-----------------------------------------------------------------\n",
      "Epoch: 17; Bad training epochs: 0; Bad validation epochs: 1\n",
      "Current learning rate: 0.0001\n"
     ]
    },
    {
     "name": "stderr",
     "output_type": "stream",
     "text": [
      "100%|█████████████████████████████████████████████████████████████████████████████████████████████████████████████████████████████████████████████████████████████| 7308/7308 [00:57<00:00, 126.75it/s]\n"
     ]
    },
    {
     "name": "stdout",
     "output_type": "stream",
     "text": [
      "Loss: 345.15335100516677; Average Loss: 0.04722952257870372\n",
      "Validation Loss: 0.0499936118721962\n",
      "############### Saving good model for validation set ###############################\n",
      "-----------------------------------------------------------------\n",
      "Epoch: 18; Bad training epochs: 0; Bad validation epochs: 0\n",
      "Current learning rate: 0.0001\n"
     ]
    },
    {
     "name": "stderr",
     "output_type": "stream",
     "text": [
      "100%|█████████████████████████████████████████████████████████████████████████████████████████████████████████████████████████████████████████████████████████████| 7308/7308 [00:50<00:00, 145.99it/s]\n"
     ]
    },
    {
     "name": "stdout",
     "output_type": "stream",
     "text": [
      "Loss: 344.86159379407763; Average Loss: 0.047189599588680575\n",
      "Validation Loss: 0.0499645471572876\n",
      "############### Saving good model for validation set ###############################\n",
      "-----------------------------------------------------------------\n",
      "Epoch: 19; Bad training epochs: 0; Bad validation epochs: 0\n",
      "Current learning rate: 0.0001\n"
     ]
    },
    {
     "name": "stderr",
     "output_type": "stream",
     "text": [
      "100%|█████████████████████████████████████████████████████████████████████████████████████████████████████████████████████████████████████████████████████████████| 7308/7308 [01:05<00:00, 111.91it/s]\n"
     ]
    },
    {
     "name": "stdout",
     "output_type": "stream",
     "text": [
      "Loss: 344.62309239432216; Average Loss: 0.047156963929162854\n",
      "Validation Loss: 0.05006551370024681\n",
      "-----------------------------------------------------------------\n",
      "Epoch: 20; Bad training epochs: 0; Bad validation epochs: 1\n",
      "Current learning rate: 0.0001\n"
     ]
    },
    {
     "name": "stderr",
     "output_type": "stream",
     "text": [
      "100%|█████████████████████████████████████████████████████████████████████████████████████████████████████████████████████████████████████████████████████████████| 7308/7308 [01:12<00:00, 100.22it/s]\n"
     ]
    },
    {
     "name": "stdout",
     "output_type": "stream",
     "text": [
      "Loss: 344.4673150703311; Average Loss: 0.04713564792971143\n",
      "Validation Loss: 0.049860935658216476\n",
      "############### Saving good model for validation set ###############################\n",
      "-----------------------------------------------------------------\n",
      "Epoch: 21; Bad training epochs: 0; Bad validation epochs: 0\n",
      "Current learning rate: 0.0001\n"
     ]
    },
    {
     "name": "stderr",
     "output_type": "stream",
     "text": [
      "100%|█████████████████████████████████████████████████████████████████████████████████████████████████████████████████████████████████████████████████████████████| 7308/7308 [00:57<00:00, 126.65it/s]\n"
     ]
    },
    {
     "name": "stdout",
     "output_type": "stream",
     "text": [
      "Loss: 344.2594205774367; Average Loss: 0.04710720040742155\n",
      "Validation Loss: 0.04987237975001335\n",
      "-----------------------------------------------------------------\n",
      "Epoch: 22; Bad training epochs: 0; Bad validation epochs: 1\n",
      "Current learning rate: 0.0001\n"
     ]
    },
    {
     "name": "stderr",
     "output_type": "stream",
     "text": [
      "100%|█████████████████████████████████████████████████████████████████████████████████████████████████████████████████████████████████████████████████████████████| 7308/7308 [00:48<00:00, 150.38it/s]\n"
     ]
    },
    {
     "name": "stdout",
     "output_type": "stream",
     "text": [
      "Loss: 344.1110824495554; Average Loss: 0.04708690236036609\n",
      "Validation Loss: 0.049852315336465836\n",
      "############### Saving good model for validation set ###############################\n",
      "-----------------------------------------------------------------\n",
      "Epoch: 23; Bad training epochs: 0; Bad validation epochs: 0\n",
      "Current learning rate: 0.0001\n"
     ]
    },
    {
     "name": "stderr",
     "output_type": "stream",
     "text": [
      "100%|█████████████████████████████████████████████████████████████████████████████████████████████████████████████████████████████████████████████████████████████| 7308/7308 [00:51<00:00, 142.76it/s]\n"
     ]
    },
    {
     "name": "stdout",
     "output_type": "stream",
     "text": [
      "Loss: 343.9279908388853; Average Loss: 0.04706184877379383\n",
      "Validation Loss: 0.049833033233881\n",
      "############### Saving good model for validation set ###############################\n",
      "-----------------------------------------------------------------\n",
      "Epoch: 24; Bad training epochs: 0; Bad validation epochs: 0\n",
      "Current learning rate: 0.0001\n"
     ]
    },
    {
     "name": "stderr",
     "output_type": "stream",
     "text": [
      "100%|█████████████████████████████████████████████████████████████████████████████████████████████████████████████████████████████████████████████████████████████| 7308/7308 [01:01<00:00, 118.60it/s]\n"
     ]
    },
    {
     "name": "stdout",
     "output_type": "stream",
     "text": [
      "Loss: 343.7993241623044; Average Loss: 0.04704424249621023\n",
      "Validation Loss: 0.04981611296534538\n",
      "############### Saving good model for validation set ###############################\n",
      "-----------------------------------------------------------------\n",
      "Epoch: 25; Bad training epochs: 0; Bad validation epochs: 0\n",
      "Current learning rate: 0.0001\n"
     ]
    },
    {
     "name": "stderr",
     "output_type": "stream",
     "text": [
      "100%|█████████████████████████████████████████████████████████████████████████████████████████████████████████████████████████████████████████████████████████████| 7308/7308 [01:00<00:00, 120.86it/s]\n"
     ]
    },
    {
     "name": "stdout",
     "output_type": "stream",
     "text": [
      "Loss: 343.64898520335555; Average Loss: 0.04702367066274706\n",
      "Validation Loss: 0.04980248212814331\n",
      "############### Saving good model for validation set ###############################\n",
      "-----------------------------------------------------------------\n",
      "Epoch: 26; Bad training epochs: 0; Bad validation epochs: 0\n",
      "Current learning rate: 0.0001\n"
     ]
    },
    {
     "name": "stderr",
     "output_type": "stream",
     "text": [
      "100%|█████████████████████████████████████████████████████████████████████████████████████████████████████████████████████████████████████████████████████████████| 7308/7308 [00:46<00:00, 156.21it/s]\n"
     ]
    },
    {
     "name": "stdout",
     "output_type": "stream",
     "text": [
      "Loss: 343.50241389498115; Average Loss: 0.047003614380812964\n",
      "Validation Loss: 0.049843866378068924\n",
      "-----------------------------------------------------------------\n",
      "Epoch: 27; Bad training epochs: 0; Bad validation epochs: 1\n",
      "Current learning rate: 0.0001\n"
     ]
    },
    {
     "name": "stderr",
     "output_type": "stream",
     "text": [
      "100%|█████████████████████████████████████████████████████████████████████████████████████████████████████████████████████████████████████████████████████████████| 7308/7308 [00:53<00:00, 136.10it/s]\n"
     ]
    },
    {
     "name": "stdout",
     "output_type": "stream",
     "text": [
      "Loss: 343.45559637248516; Average Loss: 0.04699720804221198\n",
      "Validation Loss: 0.04980049282312393\n",
      "############### Saving good model for validation set ###############################\n",
      "-----------------------------------------------------------------\n",
      "Epoch: 28; Bad training epochs: 0; Bad validation epochs: 0\n",
      "Current learning rate: 0.0001\n"
     ]
    },
    {
     "name": "stderr",
     "output_type": "stream",
     "text": [
      "100%|█████████████████████████████████████████████████████████████████████████████████████████████████████████████████████████████████████████████████████████████| 7308/7308 [00:54<00:00, 133.09it/s]\n"
     ]
    },
    {
     "name": "stdout",
     "output_type": "stream",
     "text": [
      "Loss: 343.2464275807142; Average Loss: 0.04696858614952302\n",
      "Validation Loss: 0.04977986961603165\n",
      "############### Saving good model for validation set ###############################\n",
      "-----------------------------------------------------------------\n",
      "Epoch: 29; Bad training epochs: 0; Bad validation epochs: 0\n",
      "Current learning rate: 0.0001\n"
     ]
    },
    {
     "name": "stderr",
     "output_type": "stream",
     "text": [
      "100%|█████████████████████████████████████████████████████████████████████████████████████████████████████████████████████████████████████████████████████████████| 7308/7308 [00:52<00:00, 139.01it/s]\n"
     ]
    },
    {
     "name": "stdout",
     "output_type": "stream",
     "text": [
      "Loss: 343.17758755758405; Average Loss: 0.0469591663324554\n",
      "Validation Loss: 0.04973600432276726\n",
      "############### Saving good model for validation set ###############################\n",
      "-----------------------------------------------------------------\n",
      "Epoch: 30; Bad training epochs: 0; Bad validation epochs: 0\n",
      "Current learning rate: 0.0001\n"
     ]
    },
    {
     "name": "stderr",
     "output_type": "stream",
     "text": [
      "100%|█████████████████████████████████████████████████████████████████████████████████████████████████████████████████████████████████████████████████████████████| 7308/7308 [00:46<00:00, 156.49it/s]\n"
     ]
    },
    {
     "name": "stdout",
     "output_type": "stream",
     "text": [
      "Loss: 343.07021824270487; Average Loss: 0.046944474307978226\n",
      "Validation Loss: 0.04977845028042793\n",
      "-----------------------------------------------------------------\n",
      "Epoch: 31; Bad training epochs: 0; Bad validation epochs: 1\n",
      "Current learning rate: 0.0001\n"
     ]
    },
    {
     "name": "stderr",
     "output_type": "stream",
     "text": [
      "100%|█████████████████████████████████████████████████████████████████████████████████████████████████████████████████████████████████████████████████████████████| 7308/7308 [00:52<00:00, 140.40it/s]\n"
     ]
    },
    {
     "name": "stdout",
     "output_type": "stream",
     "text": [
      "Loss: 343.0132538676262; Average Loss: 0.04693667951116943\n",
      "Validation Loss: 0.04970235750079155\n",
      "############### Saving good model for validation set ###############################\n",
      "-----------------------------------------------------------------\n",
      "Epoch: 32; Bad training epochs: 0; Bad validation epochs: 0\n",
      "Current learning rate: 0.0001\n"
     ]
    },
    {
     "name": "stderr",
     "output_type": "stream",
     "text": [
      "100%|█████████████████████████████████████████████████████████████████████████████████████████████████████████████████████████████████████████████████████████████| 7308/7308 [00:51<00:00, 141.19it/s]\n"
     ]
    },
    {
     "name": "stdout",
     "output_type": "stream",
     "text": [
      "Loss: 342.9280779771507; Average Loss: 0.046925024353742566\n",
      "Validation Loss: 0.04979933053255081\n",
      "-----------------------------------------------------------------\n",
      "Epoch: 33; Bad training epochs: 0; Bad validation epochs: 1\n",
      "Current learning rate: 0.0001\n"
     ]
    },
    {
     "name": "stderr",
     "output_type": "stream",
     "text": [
      "100%|█████████████████████████████████████████████████████████████████████████████████████████████████████████████████████████████████████████████████████████████| 7308/7308 [00:50<00:00, 145.37it/s]\n"
     ]
    },
    {
     "name": "stdout",
     "output_type": "stream",
     "text": [
      "Loss: 342.81306979060173; Average Loss: 0.04690928705399586\n",
      "Validation Loss: 0.04965704306960106\n",
      "############### Saving good model for validation set ###############################\n",
      "-----------------------------------------------------------------\n",
      "Epoch: 34; Bad training epochs: 0; Bad validation epochs: 0\n",
      "Current learning rate: 0.0001\n"
     ]
    },
    {
     "name": "stderr",
     "output_type": "stream",
     "text": [
      "100%|█████████████████████████████████████████████████████████████████████████████████████████████████████████████████████████████████████████████████████████████| 7308/7308 [00:52<00:00, 138.48it/s]\n"
     ]
    },
    {
     "name": "stdout",
     "output_type": "stream",
     "text": [
      "Loss: 342.7343452088535; Average Loss: 0.046898514670067525\n",
      "Validation Loss: 0.04978584870696068\n",
      "-----------------------------------------------------------------\n",
      "Epoch: 35; Bad training epochs: 0; Bad validation epochs: 1\n",
      "Current learning rate: 0.0001\n"
     ]
    },
    {
     "name": "stderr",
     "output_type": "stream",
     "text": [
      "100%|█████████████████████████████████████████████████████████████████████████████████████████████████████████████████████████████████████████████████████████████| 7308/7308 [00:51<00:00, 142.09it/s]\n"
     ]
    },
    {
     "name": "stdout",
     "output_type": "stream",
     "text": [
      "Loss: 342.6682858876884; Average Loss: 0.04688947535408982\n",
      "Validation Loss: 0.04974042624235153\n",
      "-----------------------------------------------------------------\n",
      "Epoch: 36; Bad training epochs: 0; Bad validation epochs: 2\n",
      "Current learning rate: 0.0001\n"
     ]
    },
    {
     "name": "stderr",
     "output_type": "stream",
     "text": [
      "100%|█████████████████████████████████████████████████████████████████████████████████████████████████████████████████████████████████████████████████████████████| 7308/7308 [00:56<00:00, 129.52it/s]\n"
     ]
    },
    {
     "name": "stdout",
     "output_type": "stream",
     "text": [
      "Loss: 342.60261084139347; Average Loss: 0.04688048862088033\n",
      "Validation Loss: 0.04964664950966835\n",
      "############### Saving good model for validation set ###############################\n",
      "-----------------------------------------------------------------\n",
      "Epoch: 37; Bad training epochs: 0; Bad validation epochs: 0\n",
      "Current learning rate: 0.0001\n"
     ]
    },
    {
     "name": "stderr",
     "output_type": "stream",
     "text": [
      "100%|█████████████████████████████████████████████████████████████████████████████████████████████████████████████████████████████████████████████████████████████| 7308/7308 [00:48<00:00, 149.55it/s]\n"
     ]
    },
    {
     "name": "stdout",
     "output_type": "stream",
     "text": [
      "Loss: 342.4921160414815; Average Loss: 0.04686536891645888\n",
      "Validation Loss: 0.04974767938256264\n",
      "-----------------------------------------------------------------\n",
      "Epoch: 38; Bad training epochs: 0; Bad validation epochs: 1\n",
      "Current learning rate: 0.0001\n"
     ]
    },
    {
     "name": "stderr",
     "output_type": "stream",
     "text": [
      "100%|█████████████████████████████████████████████████████████████████████████████████████████████████████████████████████████████████████████████████████████████| 7308/7308 [00:51<00:00, 141.10it/s]\n"
     ]
    },
    {
     "name": "stdout",
     "output_type": "stream",
     "text": [
      "Loss: 342.4014416076243; Average Loss: 0.04685296135845981\n",
      "Validation Loss: 0.04960193857550621\n",
      "############### Saving good model for validation set ###############################\n",
      "-----------------------------------------------------------------\n",
      "Epoch: 39; Bad training epochs: 0; Bad validation epochs: 0\n",
      "Current learning rate: 0.0001\n"
     ]
    },
    {
     "name": "stderr",
     "output_type": "stream",
     "text": [
      "100%|█████████████████████████████████████████████████████████████████████████████████████████████████████████████████████████████████████████████████████████████| 7308/7308 [01:00<00:00, 120.10it/s]\n"
     ]
    },
    {
     "name": "stdout",
     "output_type": "stream",
     "text": [
      "Loss: 342.4073158055544; Average Loss: 0.046853765162226925\n",
      "Validation Loss: 0.049636323004961014\n",
      "-----------------------------------------------------------------\n",
      "Epoch: 40; Bad training epochs: 1; Bad validation epochs: 1\n",
      "Current learning rate: 0.0001\n"
     ]
    },
    {
     "name": "stderr",
     "output_type": "stream",
     "text": [
      "100%|█████████████████████████████████████████████████████████████████████████████████████████████████████████████████████████████████████████████████████████████| 7308/7308 [01:03<00:00, 115.57it/s]\n"
     ]
    },
    {
     "name": "stdout",
     "output_type": "stream",
     "text": [
      "Loss: 342.2887692190707; Average Loss: 0.046837543680770484\n",
      "Validation Loss: 0.049734875559806824\n",
      "-----------------------------------------------------------------\n",
      "Epoch: 41; Bad training epochs: 0; Bad validation epochs: 2\n",
      "Current learning rate: 0.0001\n"
     ]
    },
    {
     "name": "stderr",
     "output_type": "stream",
     "text": [
      "100%|█████████████████████████████████████████████████████████████████████████████████████████████████████████████████████████████████████████████████████████████| 7308/7308 [00:53<00:00, 137.59it/s]\n"
     ]
    },
    {
     "name": "stdout",
     "output_type": "stream",
     "text": [
      "Loss: 342.2242531441152; Average Loss: 0.04682871553696158\n",
      "Validation Loss: 0.04962117597460747\n",
      "-----------------------------------------------------------------\n",
      "Epoch: 42; Bad training epochs: 0; Bad validation epochs: 3\n",
      "Current learning rate: 0.0001\n"
     ]
    },
    {
     "name": "stderr",
     "output_type": "stream",
     "text": [
      "100%|█████████████████████████████████████████████████████████████████████████████████████████████████████████████████████████████████████████████████████████████| 7308/7308 [00:56<00:00, 128.80it/s]\n"
     ]
    },
    {
     "name": "stdout",
     "output_type": "stream",
     "text": [
      "Loss: 342.13417292013764; Average Loss: 0.046816389288469845\n",
      "Validation Loss: 0.04964883252978325\n",
      "-----------------------------------------------------------------\n",
      "Epoch: 43; Bad training epochs: 0; Bad validation epochs: 4\n",
      "Current learning rate: 0.0001\n"
     ]
    },
    {
     "name": "stderr",
     "output_type": "stream",
     "text": [
      "100%|█████████████████████████████████████████████████████████████████████████████████████████████████████████████████████████████████████████████████████████████| 7308/7308 [00:54<00:00, 135.05it/s]\n"
     ]
    },
    {
     "name": "stdout",
     "output_type": "stream",
     "text": [
      "Loss: 342.11006055399776; Average Loss: 0.04681308984044852\n",
      "Validation Loss: 0.04964987188577652\n",
      "-----------------------------------------------------------------\n",
      "Epoch: 44; Bad training epochs: 0; Bad validation epochs: 5\n",
      "Current learning rate: 0.0001\n"
     ]
    },
    {
     "name": "stderr",
     "output_type": "stream",
     "text": [
      "100%|█████████████████████████████████████████████████████████████████████████████████████████████████████████████████████████████████████████████████████████████| 7308/7308 [00:52<00:00, 138.19it/s]\n"
     ]
    },
    {
     "name": "stdout",
     "output_type": "stream",
     "text": [
      "Loss: 342.0247275047004; Average Loss: 0.04680141317798309\n",
      "Validation Loss: 0.04965180531144142\n",
      "-----------------------------------------------------------------\n",
      "Epoch: 45; Bad training epochs: 0; Bad validation epochs: 6\n",
      "Current learning rate: 0.0001\n"
     ]
    },
    {
     "name": "stderr",
     "output_type": "stream",
     "text": [
      "100%|█████████████████████████████████████████████████████████████████████████████████████████████████████████████████████████████████████████████████████████████| 7308/7308 [00:52<00:00, 139.17it/s]\n"
     ]
    },
    {
     "name": "stdout",
     "output_type": "stream",
     "text": [
      "Loss: 342.0371034294367; Average Loss: 0.04680310665427431\n",
      "Validation Loss: 0.04963891580700874\n",
      "-----------------------------------------------------------------\n",
      "Epoch: 46; Bad training epochs: 1; Bad validation epochs: 7\n",
      "Current learning rate: 0.0001\n"
     ]
    },
    {
     "name": "stderr",
     "output_type": "stream",
     "text": [
      "100%|█████████████████████████████████████████████████████████████████████████████████████████████████████████████████████████████████████████████████████████████| 7308/7308 [00:49<00:00, 148.67it/s]\n"
     ]
    },
    {
     "name": "stdout",
     "output_type": "stream",
     "text": [
      "Loss: 341.9340106062591; Average Loss: 0.046788999809285595\n",
      "Validation Loss: 0.049577564001083374\n",
      "############### Saving good model for validation set ###############################\n",
      "-----------------------------------------------------------------\n",
      "Epoch: 47; Bad training epochs: 0; Bad validation epochs: 0\n",
      "Current learning rate: 0.0001\n"
     ]
    },
    {
     "name": "stderr",
     "output_type": "stream",
     "text": [
      "100%|█████████████████████████████████████████████████████████████████████████████████████████████████████████████████████████████████████████████████████████████| 7308/7308 [00:47<00:00, 153.12it/s]\n"
     ]
    },
    {
     "name": "stdout",
     "output_type": "stream",
     "text": [
      "Loss: 341.883172031492; Average Loss: 0.04678204324459387\n",
      "Validation Loss: 0.04966243356466293\n",
      "-----------------------------------------------------------------\n",
      "Epoch: 48; Bad training epochs: 0; Bad validation epochs: 1\n",
      "Current learning rate: 0.0001\n"
     ]
    },
    {
     "name": "stderr",
     "output_type": "stream",
     "text": [
      "100%|█████████████████████████████████████████████████████████████████████████████████████████████████████████████████████████████████████████████████████████████| 7308/7308 [00:59<00:00, 122.51it/s]\n"
     ]
    },
    {
     "name": "stdout",
     "output_type": "stream",
     "text": [
      "Loss: 341.82121009007096; Average Loss: 0.04677356459907922\n",
      "Validation Loss: 0.04967978969216347\n",
      "-----------------------------------------------------------------\n",
      "Epoch: 49; Bad training epochs: 0; Bad validation epochs: 2\n",
      "Current learning rate: 0.0001\n"
     ]
    },
    {
     "name": "stderr",
     "output_type": "stream",
     "text": [
      "100%|█████████████████████████████████████████████████████████████████████████████████████████████████████████████████████████████████████████████████████████████| 7308/7308 [00:55<00:00, 132.75it/s]\n"
     ]
    },
    {
     "name": "stdout",
     "output_type": "stream",
     "text": [
      "Loss: 341.7716924250126; Average Loss: 0.04676678878284245\n",
      "Validation Loss: 0.04958190396428108\n",
      "-----------------------------------------------------------------\n",
      "Epoch: 50; Bad training epochs: 0; Bad validation epochs: 3\n",
      "Current learning rate: 0.0001\n"
     ]
    },
    {
     "name": "stderr",
     "output_type": "stream",
     "text": [
      "100%|█████████████████████████████████████████████████████████████████████████████████████████████████████████████████████████████████████████████████████████████| 7308/7308 [00:51<00:00, 142.36it/s]\n"
     ]
    },
    {
     "name": "stdout",
     "output_type": "stream",
     "text": [
      "Loss: 341.7653839215636; Average Loss: 0.046765925550296066\n",
      "Validation Loss: 0.0495777353644371\n",
      "-----------------------------------------------------------------\n",
      "Epoch: 51; Bad training epochs: 0; Bad validation epochs: 4\n",
      "Current learning rate: 0.0001\n"
     ]
    },
    {
     "name": "stderr",
     "output_type": "stream",
     "text": [
      "100%|█████████████████████████████████████████████████████████████████████████████████████████████████████████████████████████████████████████████████████████████| 7308/7308 [00:54<00:00, 135.14it/s]\n"
     ]
    },
    {
     "name": "stdout",
     "output_type": "stream",
     "text": [
      "Loss: 341.6469468548894; Average Loss: 0.04674971905512991\n",
      "Validation Loss: 0.04954509809613228\n",
      "############### Saving good model for validation set ###############################\n",
      "-----------------------------------------------------------------\n",
      "Epoch: 52; Bad training epochs: 0; Bad validation epochs: 0\n",
      "Current learning rate: 0.0001\n"
     ]
    },
    {
     "name": "stderr",
     "output_type": "stream",
     "text": [
      "100%|█████████████████████████████████████████████████████████████████████████████████████████████████████████████████████████████████████████████████████████████| 7308/7308 [01:01<00:00, 118.45it/s]\n"
     ]
    },
    {
     "name": "stdout",
     "output_type": "stream",
     "text": [
      "Loss: 341.66524017974734; Average Loss: 0.046752222246818194\n",
      "Validation Loss: 0.049588918685913086\n",
      "-----------------------------------------------------------------\n",
      "Epoch: 53; Bad training epochs: 1; Bad validation epochs: 1\n",
      "Current learning rate: 0.0001\n"
     ]
    },
    {
     "name": "stderr",
     "output_type": "stream",
     "text": [
      "100%|█████████████████████████████████████████████████████████████████████████████████████████████████████████████████████████████████████████████████████████████| 7308/7308 [00:50<00:00, 146.01it/s]\n"
     ]
    },
    {
     "name": "stdout",
     "output_type": "stream",
     "text": [
      "Loss: 341.6108520999551; Average Loss: 0.046744779980836766\n",
      "Validation Loss: 0.04967930167913437\n",
      "-----------------------------------------------------------------\n",
      "Epoch: 54; Bad training epochs: 0; Bad validation epochs: 2\n",
      "Current learning rate: 0.0001\n"
     ]
    },
    {
     "name": "stderr",
     "output_type": "stream",
     "text": [
      "100%|█████████████████████████████████████████████████████████████████████████████████████████████████████████████████████████████████████████████████████████████| 7308/7308 [00:48<00:00, 149.24it/s]\n"
     ]
    },
    {
     "name": "stdout",
     "output_type": "stream",
     "text": [
      "Loss: 341.56268559768796; Average Loss: 0.04673818905277613\n",
      "Validation Loss: 0.049595195800065994\n",
      "-----------------------------------------------------------------\n",
      "Epoch: 55; Bad training epochs: 0; Bad validation epochs: 3\n",
      "Current learning rate: 0.0001\n"
     ]
    },
    {
     "name": "stderr",
     "output_type": "stream",
     "text": [
      "100%|█████████████████████████████████████████████████████████████████████████████████████████████████████████████████████████████████████████████████████████████| 7308/7308 [00:44<00:00, 164.86it/s]\n"
     ]
    },
    {
     "name": "stdout",
     "output_type": "stream",
     "text": [
      "Loss: 341.4915307164192; Average Loss: 0.04672845247898457\n",
      "Validation Loss: 0.04953166842460632\n",
      "############### Saving good model for validation set ###############################\n",
      "-----------------------------------------------------------------\n",
      "Epoch: 56; Bad training epochs: 0; Bad validation epochs: 0\n",
      "Current learning rate: 0.0001\n"
     ]
    },
    {
     "name": "stderr",
     "output_type": "stream",
     "text": [
      "100%|█████████████████████████████████████████████████████████████████████████████████████████████████████████████████████████████████████████████████████████████| 7308/7308 [01:11<00:00, 102.44it/s]\n"
     ]
    },
    {
     "name": "stdout",
     "output_type": "stream",
     "text": [
      "Loss: 341.46796606481075; Average Loss: 0.046725227978217126\n",
      "Validation Loss: 0.04959625378251076\n",
      "-----------------------------------------------------------------\n",
      "Epoch: 57; Bad training epochs: 0; Bad validation epochs: 1\n",
      "Current learning rate: 0.0001\n"
     ]
    },
    {
     "name": "stderr",
     "output_type": "stream",
     "text": [
      "100%|█████████████████████████████████████████████████████████████████████████████████████████████████████████████████████████████████████████████████████████████| 7308/7308 [00:57<00:00, 127.39it/s]\n"
     ]
    },
    {
     "name": "stdout",
     "output_type": "stream",
     "text": [
      "Loss: 341.43885431066155; Average Loss: 0.0467212444322197\n",
      "Validation Loss: 0.049713850021362305\n",
      "-----------------------------------------------------------------\n",
      "Epoch: 58; Bad training epochs: 0; Bad validation epochs: 2\n",
      "Current learning rate: 0.0001\n"
     ]
    },
    {
     "name": "stderr",
     "output_type": "stream",
     "text": [
      "100%|█████████████████████████████████████████████████████████████████████████████████████████████████████████████████████████████████████████████████████████████| 7308/7308 [00:50<00:00, 143.54it/s]\n"
     ]
    },
    {
     "name": "stdout",
     "output_type": "stream",
     "text": [
      "Loss: 341.40714398398995; Average Loss: 0.04671690530705938\n",
      "Validation Loss: 0.04950878769159317\n",
      "############### Saving good model for validation set ###############################\n",
      "-----------------------------------------------------------------\n",
      "Epoch: 59; Bad training epochs: 0; Bad validation epochs: 0\n",
      "Current learning rate: 0.0001\n"
     ]
    },
    {
     "name": "stderr",
     "output_type": "stream",
     "text": [
      "100%|█████████████████████████████████████████████████████████████████████████████████████████████████████████████████████████████████████████████████████████████| 7308/7308 [00:49<00:00, 147.85it/s]\n"
     ]
    },
    {
     "name": "stdout",
     "output_type": "stream",
     "text": [
      "Loss: 341.3856961019337; Average Loss: 0.04671397045729799\n",
      "Validation Loss: 0.04953325167298317\n",
      "-----------------------------------------------------------------\n",
      "Epoch: 60; Bad training epochs: 0; Bad validation epochs: 1\n",
      "Current learning rate: 0.0001\n"
     ]
    },
    {
     "name": "stderr",
     "output_type": "stream",
     "text": [
      "100%|█████████████████████████████████████████████████████████████████████████████████████████████████████████████████████████████████████████████████████████████| 7308/7308 [00:51<00:00, 142.89it/s]\n"
     ]
    },
    {
     "name": "stdout",
     "output_type": "stream",
     "text": [
      "Loss: 341.3454353399575; Average Loss: 0.04670846132183326\n",
      "Validation Loss: 0.04956376180052757\n",
      "-----------------------------------------------------------------\n",
      "Epoch: 61; Bad training epochs: 0; Bad validation epochs: 2\n",
      "Current learning rate: 0.0001\n"
     ]
    },
    {
     "name": "stderr",
     "output_type": "stream",
     "text": [
      "100%|█████████████████████████████████████████████████████████████████████████████████████████████████████████████████████████████████████████████████████████████| 7308/7308 [00:55<00:00, 132.36it/s]\n"
     ]
    },
    {
     "name": "stdout",
     "output_type": "stream",
     "text": [
      "Loss: 341.2968297712505; Average Loss: 0.04670181031352634\n",
      "Validation Loss: 0.04947604611515999\n",
      "############### Saving good model for validation set ###############################\n",
      "-----------------------------------------------------------------\n",
      "Epoch: 62; Bad training epochs: 0; Bad validation epochs: 0\n",
      "Current learning rate: 0.0001\n"
     ]
    },
    {
     "name": "stderr",
     "output_type": "stream",
     "text": [
      "100%|█████████████████████████████████████████████████████████████████████████████████████████████████████████████████████████████████████████████████████████████| 7308/7308 [00:50<00:00, 144.26it/s]\n"
     ]
    },
    {
     "name": "stdout",
     "output_type": "stream",
     "text": [
      "Loss: 341.2588001228869; Average Loss: 0.046696606475490815\n",
      "Validation Loss: 0.049512170255184174\n",
      "-----------------------------------------------------------------\n",
      "Epoch: 63; Bad training epochs: 0; Bad validation epochs: 1\n",
      "Current learning rate: 0.0001\n"
     ]
    },
    {
     "name": "stderr",
     "output_type": "stream",
     "text": [
      "100%|█████████████████████████████████████████████████████████████████████████████████████████████████████████████████████████████████████████████████████████████| 7308/7308 [00:47<00:00, 153.96it/s]\n"
     ]
    },
    {
     "name": "stdout",
     "output_type": "stream",
     "text": [
      "Loss: 341.25297855585814; Average Loss: 0.046695809873543805\n",
      "Validation Loss: 0.049542587250471115\n",
      "-----------------------------------------------------------------\n",
      "Epoch: 64; Bad training epochs: 0; Bad validation epochs: 2\n",
      "Current learning rate: 0.0001\n"
     ]
    },
    {
     "name": "stderr",
     "output_type": "stream",
     "text": [
      "100%|█████████████████████████████████████████████████████████████████████████████████████████████████████████████████████████████████████████████████████████████| 7308/7308 [00:50<00:00, 144.58it/s]\n"
     ]
    },
    {
     "name": "stdout",
     "output_type": "stream",
     "text": [
      "Loss: 341.20611054077744; Average Loss: 0.04668939662572215\n",
      "Validation Loss: 0.04954952001571655\n",
      "-----------------------------------------------------------------\n",
      "Epoch: 65; Bad training epochs: 0; Bad validation epochs: 3\n",
      "Current learning rate: 0.0001\n"
     ]
    },
    {
     "name": "stderr",
     "output_type": "stream",
     "text": [
      "100%|█████████████████████████████████████████████████████████████████████████████████████████████████████████████████████████████████████████████████████████████| 7308/7308 [00:58<00:00, 125.85it/s]\n"
     ]
    },
    {
     "name": "stdout",
     "output_type": "stream",
     "text": [
      "Loss: 341.2396847233176; Average Loss: 0.046693990794104766\n",
      "Validation Loss: 0.04954836517572403\n",
      "-----------------------------------------------------------------\n",
      "Epoch: 66; Bad training epochs: 1; Bad validation epochs: 4\n",
      "Current learning rate: 0.0001\n"
     ]
    },
    {
     "name": "stderr",
     "output_type": "stream",
     "text": [
      "100%|█████████████████████████████████████████████████████████████████████████████████████████████████████████████████████████████████████████████████████████████| 7308/7308 [00:51<00:00, 141.79it/s]\n"
     ]
    },
    {
     "name": "stdout",
     "output_type": "stream",
     "text": [
      "Loss: 341.1094484962523; Average Loss: 0.04667616974497158\n",
      "Validation Loss: 0.04967627301812172\n",
      "-----------------------------------------------------------------\n",
      "Epoch: 67; Bad training epochs: 0; Bad validation epochs: 5\n",
      "Current learning rate: 0.0001\n"
     ]
    },
    {
     "name": "stderr",
     "output_type": "stream",
     "text": [
      "100%|█████████████████████████████████████████████████████████████████████████████████████████████████████████████████████████████████████████████████████████████| 7308/7308 [00:58<00:00, 125.11it/s]\n"
     ]
    },
    {
     "name": "stdout",
     "output_type": "stream",
     "text": [
      "Loss: 341.0848518125713; Average Loss: 0.04667280402470871\n",
      "Validation Loss: 0.04949256032705307\n",
      "-----------------------------------------------------------------\n",
      "Epoch: 68; Bad training epochs: 0; Bad validation epochs: 6\n",
      "Current learning rate: 0.0001\n"
     ]
    },
    {
     "name": "stderr",
     "output_type": "stream",
     "text": [
      "100%|█████████████████████████████████████████████████████████████████████████████████████████████████████████████████████████████████████████████████████████████| 7308/7308 [00:58<00:00, 124.19it/s]\n"
     ]
    },
    {
     "name": "stdout",
     "output_type": "stream",
     "text": [
      "Loss: 341.04198978096247; Average Loss: 0.0466669389410184\n",
      "Validation Loss: 0.04950718581676483\n",
      "-----------------------------------------------------------------\n",
      "Epoch: 69; Bad training epochs: 0; Bad validation epochs: 7\n",
      "Current learning rate: 0.0001\n"
     ]
    },
    {
     "name": "stderr",
     "output_type": "stream",
     "text": [
      "100%|█████████████████████████████████████████████████████████████████████████████████████████████████████████████████████████████████████████████████████████████| 7308/7308 [00:40<00:00, 179.53it/s]\n"
     ]
    },
    {
     "name": "stdout",
     "output_type": "stream",
     "text": [
      "Loss: 341.03243470191956; Average Loss: 0.04666563145893809\n",
      "Validation Loss: 0.04950568825006485\n",
      "-----------------------------------------------------------------\n",
      "Epoch: 70; Bad training epochs: 0; Bad validation epochs: 8\n",
      "Current learning rate: 0.0001\n"
     ]
    },
    {
     "name": "stderr",
     "output_type": "stream",
     "text": [
      "100%|█████████████████████████████████████████████████████████████████████████████████████████████████████████████████████████████████████████████████████████████| 7308/7308 [00:45<00:00, 159.79it/s]\n"
     ]
    },
    {
     "name": "stdout",
     "output_type": "stream",
     "text": [
      "Loss: 340.9755734242499; Average Loss: 0.04665785076960179\n",
      "Validation Loss: 0.04955098778009415\n",
      "-----------------------------------------------------------------\n",
      "Epoch: 71; Bad training epochs: 0; Bad validation epochs: 9\n",
      "Current learning rate: 0.0001\n"
     ]
    },
    {
     "name": "stderr",
     "output_type": "stream",
     "text": [
      "100%|█████████████████████████████████████████████████████████████████████████████████████████████████████████████████████████████████████████████████████████████| 7308/7308 [00:50<00:00, 145.76it/s]\n"
     ]
    },
    {
     "name": "stdout",
     "output_type": "stream",
     "text": [
      "Loss: 341.0096198655665; Average Loss: 0.04666250956014867\n",
      "Validation Loss: 0.04951271414756775\n",
      "-----------------------------------------------------------------\n",
      "Epoch: 72; Bad training epochs: 1; Bad validation epochs: 10\n",
      "Current learning rate: 0.0001\n"
     ]
    },
    {
     "name": "stderr",
     "output_type": "stream",
     "text": [
      "100%|█████████████████████████████████████████████████████████████████████████████████████████████████████████████████████████████████████████████████████████████| 7308/7308 [00:44<00:00, 164.20it/s]\n"
     ]
    },
    {
     "name": "stdout",
     "output_type": "stream",
     "text": [
      "Loss: 340.9628581441939; Average Loss: 0.046656110857169385\n",
      "Validation Loss: 0.049549564719200134\n",
      "Epoch 00073: reducing learning rate of group 0 to 1.0000e-05.\n",
      "-----------------------------------------------------------------\n",
      "Epoch: 73; Bad training epochs: 0; Bad validation epochs: 11\n"
     ]
    },
    {
     "name": "stderr",
     "output_type": "stream",
     "text": [
      "100%|█████████████████████████████████████████████████████████████████████████████████████████████████████████████████████████████████████████████████████████████| 7308/7308 [00:45<00:00, 160.85it/s]\n"
     ]
    },
    {
     "name": "stdout",
     "output_type": "stream",
     "text": [
      "Loss: 340.52454132959247; Average Loss: 0.04659613318686268\n",
      "Validation Loss: 0.049468718469142914\n",
      "############### Saving good model for validation set ###############################\n",
      "-----------------------------------------------------------------\n",
      "Epoch: 74; Bad training epochs: 0; Bad validation epochs: 0\n"
     ]
    },
    {
     "name": "stderr",
     "output_type": "stream",
     "text": [
      "100%|█████████████████████████████████████████████████████████████████████████████████████████████████████████████████████████████████████████████████████████████| 7308/7308 [00:47<00:00, 155.38it/s]\n"
     ]
    },
    {
     "name": "stdout",
     "output_type": "stream",
     "text": [
      "Loss: 340.40710889548063; Average Loss: 0.046580064161943165\n",
      "Validation Loss: 0.049453966319561005\n",
      "############### Saving good model for validation set ###############################\n",
      "-----------------------------------------------------------------\n",
      "Epoch: 75; Bad training epochs: 0; Bad validation epochs: 0\n"
     ]
    },
    {
     "name": "stderr",
     "output_type": "stream",
     "text": [
      "100%|█████████████████████████████████████████████████████████████████████████████████████████████████████████████████████████████████████████████████████████████| 7308/7308 [00:47<00:00, 154.53it/s]\n"
     ]
    },
    {
     "name": "stdout",
     "output_type": "stream",
     "text": [
      "Loss: 340.34415056183934; Average Loss: 0.046571449173760174\n",
      "Validation Loss: 0.04945642128586769\n",
      "-----------------------------------------------------------------\n",
      "Epoch: 76; Bad training epochs: 0; Bad validation epochs: 1\n"
     ]
    },
    {
     "name": "stderr",
     "output_type": "stream",
     "text": [
      "100%|█████████████████████████████████████████████████████████████████████████████████████████████████████████████████████████████████████████████████████████████| 7308/7308 [00:47<00:00, 154.84it/s]\n"
     ]
    },
    {
     "name": "stdout",
     "output_type": "stream",
     "text": [
      "Loss: 340.31070844084024; Average Loss: 0.04656687307619598\n",
      "Validation Loss: 0.04945703595876694\n",
      "-----------------------------------------------------------------\n",
      "Epoch: 77; Bad training epochs: 0; Bad validation epochs: 2\n"
     ]
    },
    {
     "name": "stderr",
     "output_type": "stream",
     "text": [
      "100%|█████████████████████████████████████████████████████████████████████████████████████████████████████████████████████████████████████████████████████████████| 7308/7308 [00:55<00:00, 132.52it/s]\n"
     ]
    },
    {
     "name": "stdout",
     "output_type": "stream",
     "text": [
      "Loss: 340.2916457504034; Average Loss: 0.04656426460733489\n",
      "Validation Loss: 0.049446526914834976\n",
      "############### Saving good model for validation set ###############################\n",
      "-----------------------------------------------------------------\n",
      "Epoch: 78; Bad training epochs: 0; Bad validation epochs: 0\n"
     ]
    },
    {
     "name": "stderr",
     "output_type": "stream",
     "text": [
      "100%|█████████████████████████████████████████████████████████████████████████████████████████████████████████████████████████████████████████████████████████████| 7308/7308 [01:01<00:00, 118.25it/s]\n"
     ]
    },
    {
     "name": "stdout",
     "output_type": "stream",
     "text": [
      "Loss: 340.2884082496166; Average Loss: 0.046563821599564396\n",
      "Validation Loss: 0.04944753274321556\n",
      "-----------------------------------------------------------------\n",
      "Epoch: 79; Bad training epochs: 0; Bad validation epochs: 1\n"
     ]
    },
    {
     "name": "stderr",
     "output_type": "stream",
     "text": [
      "100%|█████████████████████████████████████████████████████████████████████████████████████████████████████████████████████████████████████████████████████████████| 7308/7308 [00:53<00:00, 136.54it/s]\n"
     ]
    },
    {
     "name": "stdout",
     "output_type": "stream",
     "text": [
      "Loss: 340.27497670426965; Average Loss: 0.04656198367600844\n",
      "Validation Loss: 0.0494549386203289\n",
      "-----------------------------------------------------------------\n",
      "Epoch: 80; Bad training epochs: 0; Bad validation epochs: 2\n"
     ]
    },
    {
     "name": "stderr",
     "output_type": "stream",
     "text": [
      "100%|█████████████████████████████████████████████████████████████████████████████████████████████████████████████████████████████████████████████████████████████| 7308/7308 [00:45<00:00, 162.39it/s]\n"
     ]
    },
    {
     "name": "stdout",
     "output_type": "stream",
     "text": [
      "Loss: 340.25260469689965; Average Loss: 0.04655892237231796\n",
      "Validation Loss: 0.049446143209934235\n",
      "############### Saving good model for validation set ###############################\n",
      "-----------------------------------------------------------------\n",
      "Epoch: 81; Bad training epochs: 0; Bad validation epochs: 0\n"
     ]
    },
    {
     "name": "stderr",
     "output_type": "stream",
     "text": [
      "100%|█████████████████████████████████████████████████████████████████████████████████████████████████████████████████████████████████████████████████████████████| 7308/7308 [00:51<00:00, 142.35it/s]\n"
     ]
    },
    {
     "name": "stdout",
     "output_type": "stream",
     "text": [
      "Loss: 340.24617018178105; Average Loss: 0.04655804189679544\n",
      "Validation Loss: 0.04946400225162506\n",
      "-----------------------------------------------------------------\n",
      "Epoch: 82; Bad training epochs: 0; Bad validation epochs: 1\n"
     ]
    },
    {
     "name": "stderr",
     "output_type": "stream",
     "text": [
      "100%|█████████████████████████████████████████████████████████████████████████████████████████████████████████████████████████████████████████████████████████████| 7308/7308 [00:44<00:00, 164.62it/s]\n"
     ]
    },
    {
     "name": "stdout",
     "output_type": "stream",
     "text": [
      "Loss: 340.2488542534411; Average Loss: 0.04655840917534772\n",
      "Validation Loss: 0.04944349825382233\n",
      "############### Saving good model for validation set ###############################\n",
      "-----------------------------------------------------------------\n",
      "Epoch: 83; Bad training epochs: 1; Bad validation epochs: 0\n"
     ]
    },
    {
     "name": "stderr",
     "output_type": "stream",
     "text": [
      "100%|█████████████████████████████████████████████████████████████████████████████████████████████████████████████████████████████████████████████████████████████| 7308/7308 [00:41<00:00, 175.80it/s]\n"
     ]
    },
    {
     "name": "stdout",
     "output_type": "stream",
     "text": [
      "Loss: 340.25541069731116; Average Loss: 0.04655930633515479\n",
      "Validation Loss: 0.049442462623119354\n",
      "############### Saving good model for validation set ###############################\n",
      "-----------------------------------------------------------------\n",
      "Epoch: 84; Bad training epochs: 2; Bad validation epochs: 0\n"
     ]
    },
    {
     "name": "stderr",
     "output_type": "stream",
     "text": [
      "100%|█████████████████████████████████████████████████████████████████████████████████████████████████████████████████████████████████████████████████████████████| 7308/7308 [00:54<00:00, 133.88it/s]\n"
     ]
    },
    {
     "name": "stdout",
     "output_type": "stream",
     "text": [
      "Loss: 340.23270592838526; Average Loss: 0.04655619949758966\n",
      "Validation Loss: 0.04944518208503723\n",
      "-----------------------------------------------------------------\n",
      "Epoch: 85; Bad training epochs: 0; Bad validation epochs: 1\n"
     ]
    },
    {
     "name": "stderr",
     "output_type": "stream",
     "text": [
      "100%|█████████████████████████████████████████████████████████████████████████████████████████████████████████████████████████████████████████████████████████████| 7308/7308 [00:44<00:00, 164.50it/s]\n"
     ]
    },
    {
     "name": "stdout",
     "output_type": "stream",
     "text": [
      "Loss: 340.22440300509334; Average Loss: 0.0465550633559241\n",
      "Validation Loss: 0.04944978654384613\n",
      "-----------------------------------------------------------------\n",
      "Epoch: 86; Bad training epochs: 0; Bad validation epochs: 2\n"
     ]
    },
    {
     "name": "stderr",
     "output_type": "stream",
     "text": [
      "100%|█████████████████████████████████████████████████████████████████████████████████████████████████████████████████████████████████████████████████████████████| 7308/7308 [00:41<00:00, 176.58it/s]\n"
     ]
    },
    {
     "name": "stdout",
     "output_type": "stream",
     "text": [
      "Loss: 340.19975874200463; Average Loss: 0.04655169112506905\n",
      "Validation Loss: 0.04942674934864044\n",
      "############### Saving good model for validation set ###############################\n",
      "-----------------------------------------------------------------\n",
      "Epoch: 87; Bad training epochs: 0; Bad validation epochs: 0\n"
     ]
    },
    {
     "name": "stderr",
     "output_type": "stream",
     "text": [
      "100%|█████████████████████████████████████████████████████████████████████████████████████████████████████████████████████████████████████████████████████████████| 7308/7308 [00:43<00:00, 167.40it/s]\n"
     ]
    },
    {
     "name": "stdout",
     "output_type": "stream",
     "text": [
      "Loss: 340.20223565772176; Average Loss: 0.04655203005715952\n",
      "Validation Loss: 0.04943646863102913\n",
      "-----------------------------------------------------------------\n",
      "Epoch: 88; Bad training epochs: 1; Bad validation epochs: 1\n"
     ]
    },
    {
     "name": "stderr",
     "output_type": "stream",
     "text": [
      "100%|█████████████████████████████████████████████████████████████████████████████████████████████████████████████████████████████████████████████████████████████| 7308/7308 [00:40<00:00, 178.64it/s]\n"
     ]
    },
    {
     "name": "stdout",
     "output_type": "stream",
     "text": [
      "Loss: 340.2005106136203; Average Loss: 0.046551794008431895\n",
      "Validation Loss: 0.04945124313235283\n",
      "-----------------------------------------------------------------\n",
      "Epoch: 89; Bad training epochs: 2; Bad validation epochs: 2\n"
     ]
    },
    {
     "name": "stderr",
     "output_type": "stream",
     "text": [
      "100%|█████████████████████████████████████████████████████████████████████████████████████████████████████████████████████████████████████████████████████████████| 7308/7308 [00:42<00:00, 171.36it/s]\n"
     ]
    },
    {
     "name": "stdout",
     "output_type": "stream",
     "text": [
      "Loss: 340.19000685587525; Average Loss: 0.04655035671262661\n",
      "Validation Loss: 0.04943712800741196\n",
      "-----------------------------------------------------------------\n",
      "Epoch: 90; Bad training epochs: 0; Bad validation epochs: 3\n"
     ]
    },
    {
     "name": "stderr",
     "output_type": "stream",
     "text": [
      "100%|█████████████████████████████████████████████████████████████████████████████████████████████████████████████████████████████████████████████████████████████| 7308/7308 [00:46<00:00, 156.13it/s]\n"
     ]
    },
    {
     "name": "stdout",
     "output_type": "stream",
     "text": [
      "Loss: 340.1743106804788; Average Loss: 0.04654820890537477\n",
      "Validation Loss: 0.049451794475317\n",
      "-----------------------------------------------------------------\n",
      "Epoch: 91; Bad training epochs: 0; Bad validation epochs: 4\n"
     ]
    },
    {
     "name": "stderr",
     "output_type": "stream",
     "text": [
      "100%|█████████████████████████████████████████████████████████████████████████████████████████████████████████████████████████████████████████████████████████████| 7308/7308 [00:48<00:00, 150.37it/s]\n"
     ]
    },
    {
     "name": "stdout",
     "output_type": "stream",
     "text": [
      "Loss: 340.17886724695563; Average Loss: 0.046548832409271435\n",
      "Validation Loss: 0.04943973943591118\n",
      "-----------------------------------------------------------------\n",
      "Epoch: 92; Bad training epochs: 1; Bad validation epochs: 5\n"
     ]
    },
    {
     "name": "stderr",
     "output_type": "stream",
     "text": [
      "100%|█████████████████████████████████████████████████████████████████████████████████████████████████████████████████████████████████████████████████████████████| 7308/7308 [00:47<00:00, 154.12it/s]\n"
     ]
    },
    {
     "name": "stdout",
     "output_type": "stream",
     "text": [
      "Loss: 340.1624762304127; Average Loss: 0.046546589522497635\n",
      "Validation Loss: 0.04943707212805748\n",
      "-----------------------------------------------------------------\n",
      "Epoch: 93; Bad training epochs: 0; Bad validation epochs: 6\n"
     ]
    },
    {
     "name": "stderr",
     "output_type": "stream",
     "text": [
      "100%|█████████████████████████████████████████████████████████████████████████████████████████████████████████████████████████████████████████████████████████████| 7308/7308 [00:46<00:00, 155.91it/s]\n"
     ]
    },
    {
     "name": "stdout",
     "output_type": "stream",
     "text": [
      "Loss: 340.161458786577; Average Loss: 0.0465464502992032\n",
      "Validation Loss: 0.049429453909397125\n",
      "-----------------------------------------------------------------\n",
      "Epoch: 94; Bad training epochs: 0; Bad validation epochs: 7\n"
     ]
    },
    {
     "name": "stderr",
     "output_type": "stream",
     "text": [
      "100%|█████████████████████████████████████████████████████████████████████████████████████████████████████████████████████████████████████████████████████████████| 7308/7308 [00:40<00:00, 180.27it/s]\n"
     ]
    },
    {
     "name": "stdout",
     "output_type": "stream",
     "text": [
      "Loss: 340.1567638106644; Average Loss: 0.04654580785586541\n",
      "Validation Loss: 0.04945876821875572\n",
      "-----------------------------------------------------------------\n",
      "Epoch: 95; Bad training epochs: 0; Bad validation epochs: 8\n"
     ]
    },
    {
     "name": "stderr",
     "output_type": "stream",
     "text": [
      "100%|█████████████████████████████████████████████████████████████████████████████████████████████████████████████████████████████████████████████████████████████| 7308/7308 [00:43<00:00, 169.21it/s]\n"
     ]
    },
    {
     "name": "stdout",
     "output_type": "stream",
     "text": [
      "Loss: 340.14989203959703; Average Loss: 0.04654486754783758\n",
      "Validation Loss: 0.04943900555372238\n",
      "-----------------------------------------------------------------\n",
      "Epoch: 96; Bad training epochs: 0; Bad validation epochs: 9\n"
     ]
    },
    {
     "name": "stderr",
     "output_type": "stream",
     "text": [
      "100%|█████████████████████████████████████████████████████████████████████████████████████████████████████████████████████████████████████████████████████████████| 7308/7308 [00:43<00:00, 166.10it/s]\n"
     ]
    },
    {
     "name": "stdout",
     "output_type": "stream",
     "text": [
      "Loss: 340.1413534283638; Average Loss: 0.04654369915549587\n",
      "Validation Loss: 0.049434758722782135\n",
      "-----------------------------------------------------------------\n",
      "Epoch: 97; Bad training epochs: 0; Bad validation epochs: 10\n"
     ]
    },
    {
     "name": "stderr",
     "output_type": "stream",
     "text": [
      "100%|█████████████████████████████████████████████████████████████████████████████████████████████████████████████████████████████████████████████████████████████| 7308/7308 [00:48<00:00, 151.07it/s]\n"
     ]
    },
    {
     "name": "stdout",
     "output_type": "stream",
     "text": [
      "Loss: 340.1447393745184; Average Loss: 0.046544162475987735\n",
      "Validation Loss: 0.04945187270641327\n",
      "Epoch 00098: reducing learning rate of group 0 to 1.0000e-06.\n",
      "-----------------------------------------------------------------\n",
      "Epoch: 98; Bad training epochs: 1; Bad validation epochs: 11\n",
      "Current learning rate: 1.0000000000000002e-06\n"
     ]
    },
    {
     "name": "stderr",
     "output_type": "stream",
     "text": [
      "100%|█████████████████████████████████████████████████████████████████████████████████████████████████████████████████████████████████████████████████████████████| 7308/7308 [00:49<00:00, 147.05it/s]\n"
     ]
    },
    {
     "name": "stdout",
     "output_type": "stream",
     "text": [
      "Loss: 340.0748958028853; Average Loss: 0.046534605337012216\n",
      "Validation Loss: 0.0494341216981411\n",
      "-----------------------------------------------------------------\n",
      "Epoch: 99; Bad training epochs: 0; Bad validation epochs: 12\n",
      "Current learning rate: 1.0000000000000002e-06\n"
     ]
    },
    {
     "name": "stderr",
     "output_type": "stream",
     "text": [
      "100%|█████████████████████████████████████████████████████████████████████████████████████████████████████████████████████████████████████████████████████████████| 7308/7308 [00:40<00:00, 179.71it/s]\n"
     ]
    },
    {
     "name": "stdout",
     "output_type": "stream",
     "text": [
      "Loss: 340.06599889695644; Average Loss: 0.04653338791693438\n",
      "Validation Loss: 0.04943476617336273\n",
      "-----------------------------------------------------------------\n",
      "Epoch: 100; Bad training epochs: 0; Bad validation epochs: 13\n",
      "Current learning rate: 1.0000000000000002e-06\n"
     ]
    },
    {
     "name": "stderr",
     "output_type": "stream",
     "text": [
      "100%|█████████████████████████████████████████████████████████████████████████████████████████████████████████████████████████████████████████████████████████████| 7308/7308 [00:47<00:00, 152.47it/s]\n"
     ]
    },
    {
     "name": "stdout",
     "output_type": "stream",
     "text": [
      "Loss: 340.0675253458321; Average Loss: 0.04653359679061742\n",
      "Validation Loss: 0.049440234899520874\n",
      "-----------------------------------------------------------------\n",
      "Epoch: 101; Bad training epochs: 1; Bad validation epochs: 14\n",
      "Current learning rate: 1.0000000000000002e-06\n"
     ]
    },
    {
     "name": "stderr",
     "output_type": "stream",
     "text": [
      "100%|█████████████████████████████████████████████████████████████████████████████████████████████████████████████████████████████████████████████████████████████| 7308/7308 [00:41<00:00, 176.47it/s]\n"
     ]
    },
    {
     "name": "stdout",
     "output_type": "stream",
     "text": [
      "Loss: 340.0646852143109; Average Loss: 0.04653320815740433\n",
      "Validation Loss: 0.04943707585334778\n",
      "-----------------------------------------------------------------\n",
      "Epoch: 102; Bad training epochs: 0; Bad validation epochs: 15\n",
      "Current learning rate: 1.0000000000000002e-06\n"
     ]
    },
    {
     "name": "stderr",
     "output_type": "stream",
     "text": [
      "100%|█████████████████████████████████████████████████████████████████████████████████████████████████████████████████████████████████████████████████████████████| 7308/7308 [00:47<00:00, 153.90it/s]\n"
     ]
    },
    {
     "name": "stdout",
     "output_type": "stream",
     "text": [
      "Loss: 340.0646643526852; Average Loss: 0.04653320530277576\n",
      "Validation Loss: 0.049433641135692596\n",
      "-----------------------------------------------------------------\n",
      "Epoch: 103; Bad training epochs: 0; Bad validation epochs: 16\n",
      "Current learning rate: 1.0000000000000002e-06\n"
     ]
    },
    {
     "name": "stderr",
     "output_type": "stream",
     "text": [
      "100%|█████████████████████████████████████████████████████████████████████████████████████████████████████████████████████████████████████████████████████████████| 7308/7308 [00:47<00:00, 153.59it/s]\n"
     ]
    },
    {
     "name": "stdout",
     "output_type": "stream",
     "text": [
      "Loss: 340.0553121827543; Average Loss: 0.046531925586036436\n",
      "Validation Loss: 0.04943591728806496\n",
      "-----------------------------------------------------------------\n",
      "Epoch: 104; Bad training epochs: 0; Bad validation epochs: 17\n",
      "Current learning rate: 1.0000000000000002e-06\n"
     ]
    },
    {
     "name": "stderr",
     "output_type": "stream",
     "text": [
      "100%|█████████████████████████████████████████████████████████████████████████████████████████████████████████████████████████████████████████████████████████████| 7308/7308 [00:50<00:00, 143.75it/s]\n"
     ]
    },
    {
     "name": "stdout",
     "output_type": "stream",
     "text": [
      "Loss: 340.0629395246506; Average Loss: 0.046532969283613924\n",
      "Validation Loss: 0.049437928944826126\n",
      "-----------------------------------------------------------------\n",
      "Epoch: 105; Bad training epochs: 1; Bad validation epochs: 18\n",
      "Current learning rate: 1.0000000000000002e-06\n"
     ]
    },
    {
     "name": "stderr",
     "output_type": "stream",
     "text": [
      "100%|█████████████████████████████████████████████████████████████████████████████████████████████████████████████████████████████████████████████████████████████| 7308/7308 [00:49<00:00, 148.01it/s]\n"
     ]
    },
    {
     "name": "stdout",
     "output_type": "stream",
     "text": [
      "Loss: 340.06182749941945; Average Loss: 0.04653281711814716\n",
      "Validation Loss: 0.04943890497088432\n",
      "-----------------------------------------------------------------\n",
      "Epoch: 106; Bad training epochs: 2; Bad validation epochs: 19\n",
      "Current learning rate: 1.0000000000000002e-06\n"
     ]
    },
    {
     "name": "stderr",
     "output_type": "stream",
     "text": [
      "100%|█████████████████████████████████████████████████████████████████████████████████████████████████████████████████████████████████████████████████████████████| 7308/7308 [00:42<00:00, 172.77it/s]\n"
     ]
    },
    {
     "name": "stdout",
     "output_type": "stream",
     "text": [
      "Loss: 340.06114706769586; Average Loss: 0.04653272401035794\n",
      "Validation Loss: 0.04943068325519562\n",
      "Done, best training loss per epoch: 340.0553121827543; best validation loss: 0.04942674934864044\n",
      "Done\n"
     ]
    },
    {
     "data": {
      "text/plain": [
       "<All keys matched successfully>"
      ]
     },
     "execution_count": 39,
     "metadata": {},
     "output_type": "execute_result"
    }
   ],
   "source": [
    "train_loss_list=[]\n",
    "avg_train_loss_list=[]\n",
    "\n",
    "val_loss_list = []\n",
    "avg_val_loss_list=[]\n",
    "\n",
    "\n",
    "# Best loss\n",
    "best_train_loss = 1e16\n",
    "best_val_loss = 1e16\n",
    "num_bad_epochs_train = 0\n",
    "num_bad_epochs_val = 0\n",
    "patience = 20\n",
    "\n",
    "for epoch in range(1000):\n",
    "    print(\"-----------------------------------------------------------------\")\n",
    "    print(\"Epoch: {}; Bad training epochs: {}; Bad validation epochs: {}\".format(epoch, num_bad_epochs_train, num_bad_epochs_val))\n",
    "    current_learning_rate = optimizer.param_groups[0]['lr']\n",
    "    if current_learning_rate != 0.00001:\n",
    "        print(\"Current learning rate: {}\".format(current_learning_rate))\n",
    "    \n",
    "    net.train()\n",
    "    running_train_loss = 0.\n",
    "    \n",
    "#     Training\n",
    "    for i, X_batch in enumerate(tqdm(trainloader), 0):\n",
    "        optimizer.zero_grad()\n",
    "        X_pred, theta, phi, mu_cart_pred, lambda_par_pred, lambda_iso_pred, volume_0_pred, volume_1_pred = net(X_batch)\n",
    "        # if i == 1:\n",
    "        #     print(\"Prediction:\")\n",
    "        #     print(X_pred)\n",
    "        #     print(\"Real:\")\n",
    "        #     print(X_batch)\n",
    "        loss = criterion(X_pred.type(torch.FloatTensor), X_batch.type(torch.FloatTensor))\n",
    "        loss.backward()\n",
    "        optimizer.step()\n",
    "        running_train_loss += loss.item()\n",
    "        \n",
    "    train_loss_list.append(running_train_loss)\n",
    "    avg_train_loss_list.append(running_train_loss/num_batches)\n",
    "    print(\"Loss: {}; Average Loss: {}\".format(running_train_loss, running_train_loss/num_batches))\n",
    "    \n",
    "#     Validation\n",
    "    temp_model = net.state_dict()\n",
    "    val_net = network.BallStickNet(gradient_directions_val_set, b_values_val_set)\n",
    "    val_net.load_state_dict(temp_model)\n",
    "    val_net.eval()\n",
    "    with torch.no_grad():\n",
    "        val_pred, _, _, _, _, _, _, _ = val_net(val_set)\n",
    "        # print(\"Val Prediction:\")\n",
    "        # print(val_pred)\n",
    "        # print(\"Val Real:\")\n",
    "        # print(val_set)\n",
    "        val_loss = criterion(val_pred.type(torch.FloatTensor), val_set.type(torch.FloatTensor))\n",
    "        running_val_loss = val_loss.item()\n",
    "        val_loss_list.append(running_val_loss)\n",
    "        print(\"Validation Loss: {}\".format(running_val_loss))\n",
    "        \n",
    "    scheduler.step(running_val_loss)\n",
    "    \n",
    "    if running_train_loss < best_train_loss:\n",
    "        best_train_loss = running_train_loss\n",
    "        num_bad_epochs_train = 0\n",
    "        \n",
    "    elif running_train_loss >= best_train_loss:\n",
    "        num_bad_epochs_train = num_bad_epochs_train + 1\n",
    "\n",
    "    if running_val_loss < best_val_loss:\n",
    "        print(\"############### Saving good model for validation set ###############################\")\n",
    "        final_model_valset = net.state_dict()\n",
    "        best_val_loss = running_val_loss\n",
    "        num_bad_epochs_val = 0\n",
    "    elif running_val_loss >= best_val_loss:\n",
    "        num_bad_epochs_val += 1\n",
    "        if num_bad_epochs_val == patience:\n",
    "            print(\"Done, best training loss per epoch: {}; best validation loss: {}\".format(best_train_loss, best_val_loss))\n",
    "            break\n",
    "\n",
    "print(\"Done\") \n",
    "net.load_state_dict(final_model_valset)"
   ]
  },
  {
   "cell_type": "code",
   "execution_count": 40,
   "id": "b3700961-1915-499e-95c3-41c5ff1d0637",
   "metadata": {},
   "outputs": [
    {
     "data": {
      "image/png": "[encoded data removed]",
      "text/plain": [
       "<Figure size 640x480 with 1 Axes>"
      ]
     },
     "metadata": {},
     "output_type": "display_data"
    }
   ],
   "source": [
    "plt.plot(avg_train_loss_list)\n",
    "plt.plot(val_loss_list)\n",
    "plt.xlabel(\"Epochs\")\n",
    "plt.ylabel(\"Running loss\")\n",
    "plt.show()"
   ]
  },
  {
   "cell_type": "code",
   "execution_count": 41,
   "id": "b2b006cd-2786-4f24-9fde-4648f7ac2390",
   "metadata": {},
   "outputs": [],
   "source": [
    "with open('loss_golden_std_retrain04.txt', 'w') as f:\n",
    "    f.write('train_loss_per_epoch_list: ' + str(train_loss_list) + '\\n')\n",
    "    f.write('\\n')\n",
    "    f.write('avg_train_loss_list: ' + str(avg_train_loss_list) + '\\n')\n",
    "    f.write('\\n')\n",
    "    f.write('val_loss_list: ' + str(val_loss_list) + '\\n')"
   ]
  },
  {
   "cell_type": "code",
   "execution_count": 42,
   "id": "a06252a5-b09a-43bc-ae2c-ca3369429363",
   "metadata": {},
   "outputs": [],
   "source": [
    "# torch.save(final_model_trainset, 'model_100206_golden_std_retrain_trainset.pt')\n",
    "torch.save(final_model_valset, 'model_100206_golden_std_retrain04.pt')"
   ]
  },
  {
   "cell_type": "code",
   "execution_count": null,
   "id": "4a3ee28e-0313-4314-9ce4-5edcded39737",
   "metadata": {},
   "outputs": [],
   "source": []
  }
 ],
 "metadata": {
  "kernelspec": {
   "display_name": "Python 3 (ipykernel)",
   "language": "python",
   "name": "python3"
  },
  "language_info": {
   "codemirror_mode": {
    "name": "ipython",
    "version": 3
   },
   "file_extension": ".py",
   "mimetype": "text/x-python",
   "name": "python",
   "nbconvert_exporter": "python",
   "pygments_lexer": "ipython3",
   "version": "3.10.8"
  }
 },
 "nbformat": 4,
 "nbformat_minor": 5
}
