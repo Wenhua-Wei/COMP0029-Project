{
 "cells": [
  {
   "cell_type": "code",
   "execution_count": 1,
   "id": "5ce2b97b-4915-4ca4-826b-1d1665ebb5c5",
   "metadata": {},
   "outputs": [],
   "source": [
    "import numpy as np\n",
    "\n",
    "from dmipy.core.acquisition_scheme import acquisition_scheme_from_bvalues\n",
    "from dmipy.signal_models import cylinder_models, gaussian_models\n",
    "from dmipy.core.modeling_framework import MultiCompartmentModel\n",
    "\n",
    "import matplotlib.pyplot as plt\n",
    "\n",
    "import config\n",
    "import torch\n",
    "import torch.nn as nn\n",
    "import torch.optim as optim\n",
    "import torch.utils.data as utils\n",
    "from tqdm import tqdm\n",
    "\n",
    "import process_data"
   ]
  },
  {
   "cell_type": "code",
   "execution_count": 2,
   "id": "ec575494-56f3-4b4b-b7ef-bafe74eaf4e4",
   "metadata": {},
   "outputs": [],
   "source": [
    "scan_100206 = process_data.get_nifti_data(config.data_folder2 + '/100206/data.nii.gz')\n",
    "mask_100206 = process_data.get_nifti_data(config.data_folder2 + '/100206/nodif_brain_mask.nii.gz')"
   ]
  },
  {
   "cell_type": "code",
   "execution_count": 3,
   "id": "34e1821c-0a51-4ca3-b72c-34a4030d730e",
   "metadata": {},
   "outputs": [],
   "source": [
    "scan_dimension = scan_100206.shape\n",
    "x = scan_dimension[0]\n",
    "y = scan_dimension[1]\n",
    "z = scan_dimension[2]\n",
    "b = scan_dimension[3]"
   ]
  },
  {
   "cell_type": "code",
   "execution_count": 4,
   "id": "864ba08b-bd10-4271-ab43-75193d35b6be",
   "metadata": {},
   "outputs": [],
   "source": [
    "scan_100206_long = np.reshape(scan_100206, (x*y*z, b))\n",
    "\n",
    "mask_100206_long = np.reshape(mask_100206, (x*y*z, 1))"
   ]
  },
  {
   "cell_type": "code",
   "execution_count": 5,
   "id": "04f50b81-37f3-4b26-b99a-d75c33593f4c",
   "metadata": {},
   "outputs": [],
   "source": [
    "# Error indice\n",
    "indice_beginning_0_all = np.where(scan_100206_long[:, 0] == 0)[0]"
   ]
  },
  {
   "cell_type": "code",
   "execution_count": 6,
   "id": "51e58c1c-f3c4-44e7-8279-bacdaa390861",
   "metadata": {},
   "outputs": [],
   "source": [
    "mask_100206_long_pro = np.copy(mask_100206_long)\n",
    "mask_100206_long_pro[indice_beginning_0_all] = 0"
   ]
  },
  {
   "cell_type": "code",
   "execution_count": 7,
   "id": "0aeecac7-f60e-4b36-a1df-030a0affa252",
   "metadata": {},
   "outputs": [],
   "source": [
    "scan_100206_long_no_background = process_data.remove_background(scan_100206_long, mask_100206_long_pro)"
   ]
  },
  {
   "cell_type": "code",
   "execution_count": 8,
   "id": "76605315-6429-4d86-8011-72f1b6b00b7d",
   "metadata": {},
   "outputs": [],
   "source": [
    "bvals_all_100206 = np.loadtxt(config.data_folder2 + '/100206/bvals')"
   ]
  },
  {
   "cell_type": "code",
   "execution_count": 9,
   "id": "b6d3c6e7-3e82-49cc-aafc-03a06921b765",
   "metadata": {},
   "outputs": [],
   "source": [
    "S0_100206 = process_data.get_S0(scan_100206_long_no_background, bvals_all_100206*1e-3)"
   ]
  },
  {
   "cell_type": "code",
   "execution_count": 10,
   "id": "3e8bc720-9e04-4c18-a50d-1ba09b816fa8",
   "metadata": {},
   "outputs": [],
   "source": [
    "normalized_scan_100206_full = scan_100206_long_no_background / S0_100206"
   ]
  },
  {
   "cell_type": "code",
   "execution_count": 11,
   "id": "bef49211-cc25-4905-937a-f64cdab66ada",
   "metadata": {},
   "outputs": [
    {
     "data": {
      "text/plain": [
       "(935442, 288)"
      ]
     },
     "execution_count": 11,
     "metadata": {},
     "output_type": "execute_result"
    }
   ],
   "source": [
    "normalized_scan_100206_full.shape"
   ]
  },
  {
   "cell_type": "code",
   "execution_count": 32,
   "id": "c69d1fd2-6671-4dae-927a-cc85db0f31c9",
   "metadata": {},
   "outputs": [
    {
     "name": "stdout",
     "output_type": "stream",
     "text": [
      "\n"
     ]
    }
   ],
   "source": [
    "rand_half_bval_indice_100206 = np.array(process_data.get_rand_selected_bval_indice(bvals_all_100206, 9))"
   ]
  },
  {
   "cell_type": "code",
   "execution_count": 33,
   "id": "17714fc4-4c0e-4cbb-81c2-a762dda3fb89",
   "metadata": {
    "tags": []
   },
   "outputs": [
    {
     "data": {
      "text/plain": [
       "array([ 32,  33,  34,  35,  36,  37,  38,  39,  40,  41,  42,  43,  44,\n",
       "        45,  46,  47,  48,  49,  50,  51,  52,  53,  54,  55,  56,  57,\n",
       "        58,  59,  60,  61,  62,  63,  64,  65,  66,  67,  68,  69,  70,\n",
       "        71,  72,  73,  74,  75,  76,  77,  78,  79, 112, 113, 114, 115,\n",
       "       116, 117, 118, 119, 120, 121, 122, 123, 124, 125, 126, 127, 160,\n",
       "       161, 162, 163, 164, 165, 166, 167, 168, 169, 170, 171, 172, 173,\n",
       "       174, 175, 176, 177, 178, 179, 180, 181, 182, 183, 184, 185, 186,\n",
       "       187, 188, 189, 190, 208, 209, 210, 211, 212, 213, 214, 215, 216,\n",
       "       217, 218, 219, 220, 221, 222, 223, 256, 257, 258, 259, 260, 261,\n",
       "       262, 263, 264, 265, 266, 267, 268, 269, 270, 271, 272, 273, 274,\n",
       "       275, 276, 277, 278, 279, 280, 281, 282, 283, 284, 285, 286, 287])"
      ]
     },
     "execution_count": 33,
     "metadata": {},
     "output_type": "execute_result"
    }
   ],
   "source": [
    "rand_half_bval_indice_100206"
   ]
  },
  {
   "cell_type": "code",
   "execution_count": 34,
   "id": "144a16c9-621e-4266-a399-0f47306f9390",
   "metadata": {},
   "outputs": [],
   "source": [
    "bvals_100206_half = bvals_all_100206[rand_half_bval_indice_100206]*1e-3"
   ]
  },
  {
   "cell_type": "code",
   "execution_count": 35,
   "id": "d0d179b5-bba4-46af-8149-fffc961635f0",
   "metadata": {},
   "outputs": [],
   "source": [
    "normalized_scan_100206_half = normalized_scan_100206_full[:, rand_half_bval_indice_100206]"
   ]
  },
  {
   "cell_type": "code",
   "execution_count": 36,
   "id": "50d01ed1-ba53-4704-afdd-8da2dbeccfa6",
   "metadata": {},
   "outputs": [],
   "source": [
    "big_b_indice_100206_half = np.where(bvals_100206_half != 0.005)[0]"
   ]
  },
  {
   "cell_type": "code",
   "execution_count": 37,
   "id": "89e34c93-5618-4f8c-b903-8337cea5ffd8",
   "metadata": {
    "tags": []
   },
   "outputs": [
    {
     "data": {
      "text/plain": [
       "array([  1,   2,   3,   4,   5,   6,   7,   8,   9,  10,  11,  12,  13,\n",
       "        14,  15,  17,  18,  19,  20,  21,  22,  23,  24,  25,  26,  27,\n",
       "        28,  29,  30,  31,  33,  34,  35,  36,  37,  38,  39,  40,  41,\n",
       "        42,  43,  44,  45,  46,  47,  49,  50,  51,  52,  53,  54,  55,\n",
       "        56,  57,  58,  59,  60,  61,  62,  63,  65,  66,  67,  68,  69,\n",
       "        70,  71,  72,  73,  74,  75,  76,  77,  78,  79,  81,  82,  83,\n",
       "        84,  85,  86,  87,  88,  89,  90,  91,  92,  93,  94,  96,  97,\n",
       "        98,  99, 100, 101, 102, 103, 104, 105, 106, 107, 108, 109, 110,\n",
       "       112, 113, 114, 115, 116, 117, 118, 119, 120, 121, 122, 123, 124,\n",
       "       125, 126, 128, 129, 130, 131, 132, 133, 134, 135, 136, 137, 138,\n",
       "       139, 140, 141, 142])"
      ]
     },
     "execution_count": 37,
     "metadata": {},
     "output_type": "execute_result"
    }
   ],
   "source": [
    "big_b_indice_100206_half"
   ]
  },
  {
   "cell_type": "code",
   "execution_count": 38,
   "id": "a72f85b2-a103-4313-9de3-ea758ecd555b",
   "metadata": {},
   "outputs": [],
   "source": [
    "bvals_100206_half_no_b5 = bvals_100206_half[big_b_indice_100206_half]"
   ]
  },
  {
   "cell_type": "code",
   "execution_count": 39,
   "id": "ece704d4-2c2e-4fc6-83cb-c80481b0b90b",
   "metadata": {},
   "outputs": [],
   "source": [
    "normalized_scan_100206_half_no_b5 = normalized_scan_100206_half[:, big_b_indice_100206_half]"
   ]
  },
  {
   "cell_type": "code",
   "execution_count": 40,
   "id": "c596d614-8884-44e2-b661-246ac1efeac4",
   "metadata": {},
   "outputs": [
    {
     "data": {
      "text/plain": [
       "[<matplotlib.lines.Line2D at 0x18ce45900>]"
      ]
     },
     "execution_count": 40,
     "metadata": {},
     "output_type": "execute_result"
    },
    {
     "data": {
      "image/png": "[encoded data removed]",
      "text/plain": [
       "<Figure size 640x480 with 1 Axes>"
      ]
     },
     "metadata": {},
     "output_type": "display_data"
    }
   ],
   "source": [
    "plt.plot(bvals_100206_half_no_b5, normalized_scan_100206_half_no_b5[42,:], \"o\", markersize = 1)"
   ]
  },
  {
   "cell_type": "markdown",
   "id": "26ad57bb-d18c-489b-87b1-97a41298c52c",
   "metadata": {},
   "source": [
    "ANN"
   ]
  },
  {
   "cell_type": "code",
   "execution_count": 41,
   "id": "16cfcc88-8849-4c75-8dc1-e9bf94025459",
   "metadata": {},
   "outputs": [],
   "source": [
    "def squash(param, p_min, p_max):\n",
    "    squashed_param_tensor =torch.clamp(param, min=p_min, max=p_max)\n",
    "    unsqueezed_param = squashed_param_tensor.unsqueeze(1)\n",
    "    return unsqueezed_param"
   ]
  },
  {
   "cell_type": "code",
   "execution_count": 42,
   "id": "5c7c69d6-5f6b-4282-8b52-4a5f4118dc67",
   "metadata": {},
   "outputs": [],
   "source": [
    "def unitsphere2cart(theta, phi, X):\n",
    "    mu_cart = torch.zeros(3,X.size()[0])\n",
    "    sintheta = torch.sin(theta)\n",
    "    mu_cart[0,:] = torch.squeeze(sintheta * torch.cos(phi))\n",
    "    mu_cart[1,:] = torch.squeeze(sintheta * torch.sin(phi))\n",
    "    mu_cart[2,:] = torch.squeeze(torch.cos(theta))\n",
    "    return mu_cart"
   ]
  },
  {
   "cell_type": "code",
   "execution_count": 43,
   "id": "ee823c00-1b0b-4c6b-9ef1-f6d8c2537577",
   "metadata": {},
   "outputs": [],
   "source": [
    "class BallStickNet(nn.Module):\n",
    "    \n",
    "    def __init__(self, gradient_directions, b_values):\n",
    "        super(BallStickNet, self).__init__()\n",
    "        self.gradient_directions = gradient_directions\n",
    "        self.b_values = b_values\n",
    "        self.fc_layers = nn.ModuleList()\n",
    "        for i in range(3): \n",
    "            self.fc_layers.extend([nn.Linear(len(b_values), len(b_values)), nn.ELU()])\n",
    "        self.encoder = nn.Sequential(*self.fc_layers, nn.Linear(len(b_values), 5))\n",
    "        # if args.dropout != 0:\n",
    "        #     self.dropout = nn.Dropout(args.dropout)\n",
    "            \n",
    "    def forward(self, X):\n",
    "        # if args.dropout != 0:\n",
    "        #     X = self.dropout(X)\n",
    "        params = torch.abs(self.encoder(X))\n",
    "        theta_uns = params[:, 0]\n",
    "        theta = theta_uns.unsqueeze(1)\n",
    "        phi_uns = params[:, 1]\n",
    "        phi = phi_uns.unsqueeze(1)\n",
    "        mu_cart = unitsphere2cart(theta, phi, X)\n",
    "        mm_prod =  torch.einsum(\"ij,jk->ki\",self.gradient_directions, mu_cart)\n",
    "        lambda_par_uns = params[:, 2]\n",
    "        lambda_par = squash(lambda_par_uns, 0.1, 3.0)\n",
    "        lambda_iso_uns = params[:, 3]\n",
    "        lambda_iso = squash(lambda_iso_uns, 0.1, 3.0)\n",
    "        volume_0_uns = params[:, 4]\n",
    "        volume_0 = squash(volume_0_uns, 0.01, 0.99)\n",
    "        volume_1 = 1-volume_0\n",
    "        X = volume_0 * torch.exp(-self.b_values * lambda_par * mm_prod ** 2) + volume_1 * torch.exp(-self.b_values * lambda_iso)\n",
    "        return X, theta, phi, mu_cart, lambda_par, lambda_iso, volume_0, volume_1"
   ]
  },
  {
   "cell_type": "code",
   "execution_count": 44,
   "id": "75bba1e7-205c-481b-846e-1acf458adab2",
   "metadata": {},
   "outputs": [],
   "source": [
    "n_100206_all = np.loadtxt(config.data_folder2 + '/100206/bvecs')\n",
    "n_100206_half = n_100206_all[:, rand_half_bval_indice_100206]"
   ]
  },
  {
   "cell_type": "code",
   "execution_count": 45,
   "id": "aed55283-e2cf-4cd9-9d3c-f61a14ddc645",
   "metadata": {},
   "outputs": [
    {
     "name": "stdout",
     "output_type": "stream",
     "text": [
      "(3, 143)\n",
      "[  1   2   3   4   5   6   7   8   9  10  11  12  13  14  15  17  18  19\n",
      "  20  21  22  23  24  25  26  27  28  29  30  31  33  34  35  36  37  38\n",
      "  39  40  41  42  43  44  45  46  47  49  50  51  52  53  54  55  56  57\n",
      "  58  59  60  61  62  63  65  66  67  68  69  70  71  72  73  74  75  76\n",
      "  77  78  79  81  82  83  84  85  86  87  88  89  90  91  92  93  94  96\n",
      "  97  98  99 100 101 102 103 104 105 106 107 108 109 110 112 113 114 115\n",
      " 116 117 118 119 120 121 122 123 124 125 126 128 129 130 131 132 133 134\n",
      " 135 136 137 138 139 140 141 142]\n"
     ]
    }
   ],
   "source": [
    "print(n_100206_half.shape)\n",
    "print(big_b_indice_100206_half)"
   ]
  },
  {
   "cell_type": "code",
   "execution_count": 46,
   "id": "f73b8716-ce67-4a97-9223-574afa1e68c6",
   "metadata": {},
   "outputs": [
    {
     "name": "stdout",
     "output_type": "stream",
     "text": [
      "(134, 3)\n"
     ]
    }
   ],
   "source": [
    "n_100206_half_no_b5 = n_100206_half[:,big_b_indice_100206_half].T\n",
    "print(n_100206_half_no_b5.shape)\n",
    "\n",
    "b_values_100206_half_no_b5 = torch.FloatTensor(bvals_100206_half_no_b5)\n",
    "gradient_directions_100206_half_no_b5 = torch.FloatTensor(n_100206_half_no_b5)\n",
    "\n",
    "net = BallStickNet(gradient_directions_100206_half_no_b5, b_values_100206_half_no_b5)\n",
    "\n",
    "criterion = nn.MSELoss()\n",
    "optimizer = optim.Adam(net.parameters(), lr = 0.00001)"
   ]
  },
  {
   "cell_type": "code",
   "execution_count": 47,
   "id": "a6273e86-2704-4c77-ade5-7e41254f37b3",
   "metadata": {},
   "outputs": [],
   "source": [
    "batch_size = 128\n",
    "num_batches = len(normalized_scan_100206_half_no_b5) // batch_size\n",
    "trainloader = utils.DataLoader(torch.from_numpy(normalized_scan_100206_half_no_b5.astype(np.float32)),\n",
    "                            batch_size = batch_size, \n",
    "                            shuffle = True,\n",
    "                            num_workers = 2,\n",
    "                            drop_last = True)"
   ]
  },
  {
   "cell_type": "code",
   "execution_count": 49,
   "id": "1183802a-cea7-42f6-acc5-5d3ba74cb096",
   "metadata": {
    "tags": []
   },
   "outputs": [
    {
     "name": "stdout",
     "output_type": "stream",
     "text": [
      "-----------------------------------------------------------------\n",
      "Epoch: 0; Bad epochs: 0\n"
     ]
    },
    {
     "name": "stderr",
     "output_type": "stream",
     "text": [
      "100%|█████████████████████████████████████████████████████████████████████████████████████████████████████████████████████████████████████████████████████████████| 7308/7308 [00:29<00:00, 249.92it/s]\n"
     ]
    },
    {
     "name": "stdout",
     "output_type": "stream",
     "text": [
      "Loss: 397.18317478802055\n",
      "Average Loss: 0.05434909343021627\n",
      "############### Saving good model ###############################\n",
      "-----------------------------------------------------------------\n",
      "Epoch: 1; Bad epochs: 0\n"
     ]
    },
    {
     "name": "stderr",
     "output_type": "stream",
     "text": [
      "100%|█████████████████████████████████████████████████████████████████████████████████████████████████████████████████████████████████████████████████████████████| 7308/7308 [00:28<00:00, 259.61it/s]\n"
     ]
    },
    {
     "name": "stdout",
     "output_type": "stream",
     "text": [
      "Loss: 397.14957744954154\n",
      "Average Loss: 0.05434449609325965\n",
      "############### Saving good model ###############################\n",
      "-----------------------------------------------------------------\n",
      "Epoch: 2; Bad epochs: 0\n"
     ]
    },
    {
     "name": "stderr",
     "output_type": "stream",
     "text": [
      "100%|█████████████████████████████████████████████████████████████████████████████████████████████████████████████████████████████████████████████████████████████| 7308/7308 [00:29<00:00, 245.60it/s]\n"
     ]
    },
    {
     "name": "stdout",
     "output_type": "stream",
     "text": [
      "Loss: 397.08646588237025\n",
      "Average Loss: 0.05433586013716068\n",
      "############### Saving good model ###############################\n",
      "-----------------------------------------------------------------\n",
      "Epoch: 3; Bad epochs: 0\n"
     ]
    },
    {
     "name": "stderr",
     "output_type": "stream",
     "text": [
      "100%|█████████████████████████████████████████████████████████████████████████████████████████████████████████████████████████████████████████████████████████████| 7308/7308 [00:31<00:00, 230.98it/s]\n"
     ]
    },
    {
     "name": "stdout",
     "output_type": "stream",
     "text": [
      "Loss: 397.0615483119618\n",
      "Average Loss: 0.054332450507931285\n",
      "############### Saving good model ###############################\n",
      "-----------------------------------------------------------------\n",
      "Epoch: 4; Bad epochs: 0\n"
     ]
    },
    {
     "name": "stderr",
     "output_type": "stream",
     "text": [
      "100%|█████████████████████████████████████████████████████████████████████████████████████████████████████████████████████████████████████████████████████████████| 7308/7308 [00:30<00:00, 240.76it/s]\n"
     ]
    },
    {
     "name": "stdout",
     "output_type": "stream",
     "text": [
      "Loss: 397.099308881443\n",
      "Average Loss: 0.05433761752619636\n",
      "-----------------------------------------------------------------\n",
      "Epoch: 5; Bad epochs: 1\n"
     ]
    },
    {
     "name": "stderr",
     "output_type": "stream",
     "text": [
      "100%|█████████████████████████████████████████████████████████████████████████████████████████████████████████████████████████████████████████████████████████████| 7308/7308 [00:28<00:00, 253.98it/s]\n"
     ]
    },
    {
     "name": "stdout",
     "output_type": "stream",
     "text": [
      "Loss: 397.1120214101393\n",
      "Average Loss: 0.05433935706214276\n",
      "-----------------------------------------------------------------\n",
      "Epoch: 6; Bad epochs: 2\n"
     ]
    },
    {
     "name": "stderr",
     "output_type": "stream",
     "text": [
      "100%|█████████████████████████████████████████████████████████████████████████████████████████████████████████████████████████████████████████████████████████████| 7308/7308 [00:28<00:00, 252.79it/s]\n"
     ]
    },
    {
     "name": "stdout",
     "output_type": "stream",
     "text": [
      "Loss: 397.1300071571022\n",
      "Average Loss: 0.054341818165996474\n",
      "-----------------------------------------------------------------\n",
      "Epoch: 7; Bad epochs: 3\n"
     ]
    },
    {
     "name": "stderr",
     "output_type": "stream",
     "text": [
      "100%|█████████████████████████████████████████████████████████████████████████████████████████████████████████████████████████████████████████████████████████████| 7308/7308 [00:29<00:00, 244.03it/s]\n"
     ]
    },
    {
     "name": "stdout",
     "output_type": "stream",
     "text": [
      "Loss: 397.06668121623807\n",
      "Average Loss: 0.054333152875785176\n",
      "-----------------------------------------------------------------\n",
      "Epoch: 8; Bad epochs: 4\n"
     ]
    },
    {
     "name": "stderr",
     "output_type": "stream",
     "text": [
      "100%|█████████████████████████████████████████████████████████████████████████████████████████████████████████████████████████████████████████████████████████████| 7308/7308 [00:28<00:00, 252.60it/s]\n"
     ]
    },
    {
     "name": "stdout",
     "output_type": "stream",
     "text": [
      "Loss: 397.0063709113747\n",
      "Average Loss: 0.054324900234178256\n",
      "############### Saving good model ###############################\n",
      "-----------------------------------------------------------------\n",
      "Epoch: 9; Bad epochs: 0\n"
     ]
    },
    {
     "name": "stderr",
     "output_type": "stream",
     "text": [
      "100%|█████████████████████████████████████████████████████████████████████████████████████████████████████████████████████████████████████████████████████████████| 7308/7308 [00:29<00:00, 249.47it/s]\n"
     ]
    },
    {
     "name": "stdout",
     "output_type": "stream",
     "text": [
      "Loss: 397.0571894447785\n",
      "Average Loss: 0.0543318540564831\n",
      "-----------------------------------------------------------------\n",
      "Epoch: 10; Bad epochs: 1\n"
     ]
    },
    {
     "name": "stderr",
     "output_type": "stream",
     "text": [
      "  2%|███▎                                                                                                                                                          | 155/7308 [00:02<00:41, 172.52it/s]"
     ]
    },
    {
     "name": "stdout",
     "output_type": "stream",
     "text": [
      "X_batch: \n",
      "torch.Size([128, 134])\n",
      "tensor([[0.1194, 0.3545, 0.2365,  ..., 0.5061, 0.1942, 0.1670],\n",
      "        [0.0852, 0.0915, 0.1179,  ..., 0.1146, 0.1494, 0.0766],\n",
      "        [0.3291, 0.4460, 0.2528,  ..., 0.4148, 0.2390, 0.3362],\n",
      "        ...,\n",
      "        [0.1474, 0.2901, 0.1500,  ..., 0.2683, 0.1982, 0.1354],\n",
      "        [0.1931, 0.4617, 0.3445,  ..., 0.4799, 0.2135, 0.1213],\n",
      "        [0.0708, 0.1874, 0.0764,  ..., 0.1806, 0.0799, 0.0510]])\n",
      "X_pred: \n",
      "torch.Size([128, 134])\n",
      "tensor([[0.1068, 0.4026, 0.2158,  ..., 0.4203, 0.2248, 0.1213],\n",
      "        [0.1119, 0.1470, 0.1031,  ..., 0.1430, 0.1142, 0.1116],\n",
      "        [0.2622, 0.4498, 0.2765,  ..., 0.4282, 0.3139, 0.2522],\n",
      "        ...,\n",
      "        [0.1437, 0.2894, 0.1598,  ..., 0.2916, 0.1753, 0.1504],\n",
      "        [0.1673, 0.4424, 0.2573,  ..., 0.4548, 0.2457, 0.1794],\n",
      "        [0.0536, 0.1903, 0.0675,  ..., 0.1859, 0.0700, 0.0521]],\n",
      "       grad_fn=<AddBackward0>)\n"
     ]
    },
    {
     "name": "stderr",
     "output_type": "stream",
     "text": [
      "100%|█████████████████████████████████████████████████████████████████████████████████████████████████████████████████████████████████████████████████████████████| 7308/7308 [00:32<00:00, 226.84it/s]\n"
     ]
    },
    {
     "name": "stdout",
     "output_type": "stream",
     "text": [
      "Loss: 397.0381440613419\n",
      "Average Loss: 0.05432924795584864\n",
      "-----------------------------------------------------------------\n",
      "Epoch: 11; Bad epochs: 2\n"
     ]
    },
    {
     "name": "stderr",
     "output_type": "stream",
     "text": [
      "100%|█████████████████████████████████████████████████████████████████████████████████████████████████████████████████████████████████████████████████████████████| 7308/7308 [00:30<00:00, 239.94it/s]\n"
     ]
    },
    {
     "name": "stdout",
     "output_type": "stream",
     "text": [
      "Loss: 396.9892881703563\n",
      "Average Loss: 0.05432256269435636\n",
      "############### Saving good model ###############################\n",
      "-----------------------------------------------------------------\n",
      "Epoch: 12; Bad epochs: 0\n"
     ]
    },
    {
     "name": "stderr",
     "output_type": "stream",
     "text": [
      "100%|█████████████████████████████████████████████████████████████████████████████████████████████████████████████████████████████████████████████████████████████| 7308/7308 [00:29<00:00, 249.19it/s]\n"
     ]
    },
    {
     "name": "stdout",
     "output_type": "stream",
     "text": [
      "Loss: 396.9847415036056\n",
      "Average Loss: 0.054321940545102025\n",
      "############### Saving good model ###############################\n",
      "-----------------------------------------------------------------\n",
      "Epoch: 13; Bad epochs: 0\n"
     ]
    },
    {
     "name": "stderr",
     "output_type": "stream",
     "text": [
      "100%|█████████████████████████████████████████████████████████████████████████████████████████████████████████████████████████████████████████████████████████████| 7308/7308 [00:28<00:00, 256.23it/s]\n"
     ]
    },
    {
     "name": "stdout",
     "output_type": "stream",
     "text": [
      "Loss: 397.0329624917358\n",
      "Average Loss: 0.05432853892880895\n",
      "-----------------------------------------------------------------\n",
      "Epoch: 14; Bad epochs: 1\n"
     ]
    },
    {
     "name": "stderr",
     "output_type": "stream",
     "text": [
      "100%|█████████████████████████████████████████████████████████████████████████████████████████████████████████████████████████████████████████████████████████████| 7308/7308 [00:29<00:00, 250.64it/s]\n"
     ]
    },
    {
     "name": "stdout",
     "output_type": "stream",
     "text": [
      "Loss: 396.95031782612205\n",
      "Average Loss: 0.05431723013493733\n",
      "############### Saving good model ###############################\n",
      "-----------------------------------------------------------------\n",
      "Epoch: 15; Bad epochs: 0\n"
     ]
    },
    {
     "name": "stderr",
     "output_type": "stream",
     "text": [
      "100%|█████████████████████████████████████████████████████████████████████████████████████████████████████████████████████████████████████████████████████████████| 7308/7308 [00:28<00:00, 252.80it/s]\n"
     ]
    },
    {
     "name": "stdout",
     "output_type": "stream",
     "text": [
      "Loss: 397.0637512165122\n",
      "Average Loss: 0.054332751945335545\n",
      "-----------------------------------------------------------------\n",
      "Epoch: 16; Bad epochs: 1\n"
     ]
    },
    {
     "name": "stderr",
     "output_type": "stream",
     "text": [
      "100%|█████████████████████████████████████████████████████████████████████████████████████████████████████████████████████████████████████████████████████████████| 7308/7308 [00:33<00:00, 217.30it/s]\n"
     ]
    },
    {
     "name": "stdout",
     "output_type": "stream",
     "text": [
      "Loss: 397.05972243566066\n",
      "Average Loss: 0.05433220066169413\n",
      "-----------------------------------------------------------------\n",
      "Epoch: 17; Bad epochs: 2\n"
     ]
    },
    {
     "name": "stderr",
     "output_type": "stream",
     "text": [
      "100%|█████████████████████████████████████████████████████████████████████████████████████████████████████████████████████████████████████████████████████████████| 7308/7308 [00:29<00:00, 247.35it/s]\n"
     ]
    },
    {
     "name": "stdout",
     "output_type": "stream",
     "text": [
      "Loss: 396.9539308375679\n",
      "Average Loss: 0.05431772452621345\n",
      "-----------------------------------------------------------------\n",
      "Epoch: 18; Bad epochs: 3\n"
     ]
    },
    {
     "name": "stderr",
     "output_type": "stream",
     "text": [
      "100%|█████████████████████████████████████████████████████████████████████████████████████████████████████████████████████████████████████████████████████████████| 7308/7308 [00:30<00:00, 242.11it/s]\n"
     ]
    },
    {
     "name": "stdout",
     "output_type": "stream",
     "text": [
      "Loss: 397.00656174472533\n",
      "Average Loss: 0.05432492634711622\n",
      "-----------------------------------------------------------------\n",
      "Epoch: 19; Bad epochs: 4\n"
     ]
    },
    {
     "name": "stderr",
     "output_type": "stream",
     "text": [
      "100%|█████████████████████████████████████████████████████████████████████████████████████████████████████████████████████████████████████████████████████████████| 7308/7308 [00:29<00:00, 250.97it/s]\n"
     ]
    },
    {
     "name": "stdout",
     "output_type": "stream",
     "text": [
      "Loss: 396.9695216033142\n",
      "Average Loss: 0.05431985790959417\n",
      "-----------------------------------------------------------------\n",
      "Epoch: 20; Bad epochs: 5\n"
     ]
    },
    {
     "name": "stderr",
     "output_type": "stream",
     "text": [
      "100%|█████████████████████████████████████████████████████████████████████████████████████████████████████████████████████████████████████████████████████████████| 7308/7308 [00:29<00:00, 246.24it/s]\n"
     ]
    },
    {
     "name": "stdout",
     "output_type": "stream",
     "text": [
      "Loss: 396.9550768358167\n",
      "Average Loss: 0.05431788134042374\n",
      "-----------------------------------------------------------------\n",
      "Epoch: 21; Bad epochs: 6\n"
     ]
    },
    {
     "name": "stderr",
     "output_type": "stream",
     "text": [
      "100%|█████████████████████████████████████████████████████████████████████████████████████████████████████████████████████████████████████████████████████████████| 7308/7308 [00:29<00:00, 249.29it/s]\n"
     ]
    },
    {
     "name": "stdout",
     "output_type": "stream",
     "text": [
      "Loss: 396.90540669020265\n",
      "Average Loss: 0.05431108465930523\n",
      "############### Saving good model ###############################\n",
      "-----------------------------------------------------------------\n",
      "Epoch: 22; Bad epochs: 0\n"
     ]
    },
    {
     "name": "stderr",
     "output_type": "stream",
     "text": [
      "100%|█████████████████████████████████████████████████████████████████████████████████████████████████████████████████████████████████████████████████████████████| 7308/7308 [00:33<00:00, 220.47it/s]\n"
     ]
    },
    {
     "name": "stdout",
     "output_type": "stream",
     "text": [
      "Loss: 396.8793521686457\n",
      "Average Loss: 0.054307519453837674\n",
      "############### Saving good model ###############################\n",
      "-----------------------------------------------------------------\n",
      "Epoch: 23; Bad epochs: 0\n"
     ]
    },
    {
     "name": "stderr",
     "output_type": "stream",
     "text": [
      "100%|█████████████████████████████████████████████████████████████████████████████████████████████████████████████████████████████████████████████████████████████| 7308/7308 [00:30<00:00, 237.89it/s]\n"
     ]
    },
    {
     "name": "stdout",
     "output_type": "stream",
     "text": [
      "Loss: 396.8734616669826\n",
      "Average Loss: 0.05430671341912734\n",
      "############### Saving good model ###############################\n",
      "-----------------------------------------------------------------\n",
      "Epoch: 24; Bad epochs: 0\n"
     ]
    },
    {
     "name": "stderr",
     "output_type": "stream",
     "text": [
      "100%|█████████████████████████████████████████████████████████████████████████████████████████████████████████████████████████████████████████████████████████████| 7308/7308 [00:29<00:00, 251.52it/s]\n"
     ]
    },
    {
     "name": "stdout",
     "output_type": "stream",
     "text": [
      "Loss: 396.87007799884304\n",
      "Average Loss: 0.05430625041035072\n",
      "############### Saving good model ###############################\n",
      "-----------------------------------------------------------------\n",
      "Epoch: 25; Bad epochs: 0\n"
     ]
    },
    {
     "name": "stderr",
     "output_type": "stream",
     "text": [
      "100%|█████████████████████████████████████████████████████████████████████████████████████████████████████████████████████████████████████████████████████████████| 7308/7308 [00:28<00:00, 252.01it/s]\n"
     ]
    },
    {
     "name": "stdout",
     "output_type": "stream",
     "text": [
      "Loss: 396.8502415716648\n",
      "Average Loss: 0.05430353606618293\n",
      "############### Saving good model ###############################\n",
      "-----------------------------------------------------------------\n",
      "Epoch: 26; Bad epochs: 0\n"
     ]
    },
    {
     "name": "stderr",
     "output_type": "stream",
     "text": [
      "100%|█████████████████████████████████████████████████████████████████████████████████████████████████████████████████████████████████████████████████████████████| 7308/7308 [00:29<00:00, 250.71it/s]\n"
     ]
    },
    {
     "name": "stdout",
     "output_type": "stream",
     "text": [
      "Loss: 396.91995481867343\n",
      "Average Loss: 0.05431307537201333\n",
      "-----------------------------------------------------------------\n",
      "Epoch: 27; Bad epochs: 1\n"
     ]
    },
    {
     "name": "stderr",
     "output_type": "stream",
     "text": [
      "100%|█████████████████████████████████████████████████████████████████████████████████████████████████████████████████████████████████████████████████████████████| 7308/7308 [00:29<00:00, 246.00it/s]\n"
     ]
    },
    {
     "name": "stdout",
     "output_type": "stream",
     "text": [
      "Loss: 397.00840923702344\n",
      "Average Loss: 0.05432517915120737\n",
      "-----------------------------------------------------------------\n",
      "Epoch: 28; Bad epochs: 2\n"
     ]
    },
    {
     "name": "stderr",
     "output_type": "stream",
     "text": [
      "100%|█████████████████████████████████████████████████████████████████████████████████████████████████████████████████████████████████████████████████████████████| 7308/7308 [00:29<00:00, 247.69it/s]\n"
     ]
    },
    {
     "name": "stdout",
     "output_type": "stream",
     "text": [
      "Loss: 396.91230054572225\n",
      "Average Loss: 0.05431202798928876\n",
      "-----------------------------------------------------------------\n",
      "Epoch: 29; Bad epochs: 3\n"
     ]
    },
    {
     "name": "stderr",
     "output_type": "stream",
     "text": [
      "100%|█████████████████████████████████████████████████████████████████████████████████████████████████████████████████████████████████████████████████████████████| 7308/7308 [00:32<00:00, 227.31it/s]\n"
     ]
    },
    {
     "name": "stdout",
     "output_type": "stream",
     "text": [
      "Loss: 396.91138846823014\n",
      "Average Loss: 0.05431190318393954\n",
      "-----------------------------------------------------------------\n",
      "Epoch: 30; Bad epochs: 4\n"
     ]
    },
    {
     "name": "stderr",
     "output_type": "stream",
     "text": [
      "100%|█████████████████████████████████████████████████████████████████████████████████████████████████████████████████████████████████████████████████████████████| 7308/7308 [00:30<00:00, 239.63it/s]\n"
     ]
    },
    {
     "name": "stdout",
     "output_type": "stream",
     "text": [
      "Loss: 396.8674412406981\n",
      "Average Loss: 0.05430588960600686\n",
      "-----------------------------------------------------------------\n",
      "Epoch: 31; Bad epochs: 5\n"
     ]
    },
    {
     "name": "stderr",
     "output_type": "stream",
     "text": [
      "100%|█████████████████████████████████████████████████████████████████████████████████████████████████████████████████████████████████████████████████████████████| 7308/7308 [00:28<00:00, 258.14it/s]\n"
     ]
    },
    {
     "name": "stdout",
     "output_type": "stream",
     "text": [
      "Loss: 396.9312271580566\n",
      "Average Loss: 0.05431461783771984\n",
      "-----------------------------------------------------------------\n",
      "Epoch: 32; Bad epochs: 6\n"
     ]
    },
    {
     "name": "stderr",
     "output_type": "stream",
     "text": [
      "100%|█████████████████████████████████████████████████████████████████████████████████████████████████████████████████████████████████████████████████████████████| 7308/7308 [00:28<00:00, 253.46it/s]\n"
     ]
    },
    {
     "name": "stdout",
     "output_type": "stream",
     "text": [
      "Loss: 396.90536518301815\n",
      "Average Loss: 0.05431107897961387\n",
      "-----------------------------------------------------------------\n",
      "Epoch: 33; Bad epochs: 7\n"
     ]
    },
    {
     "name": "stderr",
     "output_type": "stream",
     "text": [
      "100%|█████████████████████████████████████████████████████████████████████████████████████████████████████████████████████████████████████████████████████████████| 7308/7308 [00:29<00:00, 245.96it/s]\n"
     ]
    },
    {
     "name": "stdout",
     "output_type": "stream",
     "text": [
      "Loss: 396.8271683822386\n",
      "Average Loss: 0.054300378815303585\n",
      "############### Saving good model ###############################\n",
      "-----------------------------------------------------------------\n",
      "Epoch: 34; Bad epochs: 0\n"
     ]
    },
    {
     "name": "stderr",
     "output_type": "stream",
     "text": [
      "100%|█████████████████████████████████████████████████████████████████████████████████████████████████████████████████████████████████████████████████████████████| 7308/7308 [00:30<00:00, 243.14it/s]\n"
     ]
    },
    {
     "name": "stdout",
     "output_type": "stream",
     "text": [
      "Loss: 396.85535043338314\n",
      "Average Loss: 0.054304235144141094\n",
      "-----------------------------------------------------------------\n",
      "Epoch: 35; Bad epochs: 1\n"
     ]
    },
    {
     "name": "stderr",
     "output_type": "stream",
     "text": [
      "100%|█████████████████████████████████████████████████████████████████████████████████████████████████████████████████████████████████████████████████████████████| 7308/7308 [00:30<00:00, 241.83it/s]\n"
     ]
    },
    {
     "name": "stdout",
     "output_type": "stream",
     "text": [
      "Loss: 396.80275314091705\n",
      "Average Loss: 0.054297037922949785\n",
      "############### Saving good model ###############################\n",
      "-----------------------------------------------------------------\n",
      "Epoch: 36; Bad epochs: 0\n"
     ]
    },
    {
     "name": "stderr",
     "output_type": "stream",
     "text": [
      "100%|█████████████████████████████████████████████████████████████████████████████████████████████████████████████████████████████████████████████████████████████| 7308/7308 [00:37<00:00, 193.90it/s]\n"
     ]
    },
    {
     "name": "stdout",
     "output_type": "stream",
     "text": [
      "Loss: 396.77744585392065\n",
      "Average Loss: 0.054293574966327404\n",
      "############### Saving good model ###############################\n",
      "-----------------------------------------------------------------\n",
      "Epoch: 37; Bad epochs: 0\n"
     ]
    },
    {
     "name": "stderr",
     "output_type": "stream",
     "text": [
      "100%|█████████████████████████████████████████████████████████████████████████████████████████████████████████████████████████████████████████████████████████████| 7308/7308 [00:31<00:00, 231.26it/s]\n"
     ]
    },
    {
     "name": "stdout",
     "output_type": "stream",
     "text": [
      "Loss: 396.8875456764363\n",
      "Average Loss: 0.05430864062348608\n",
      "-----------------------------------------------------------------\n",
      "Epoch: 38; Bad epochs: 1\n"
     ]
    },
    {
     "name": "stderr",
     "output_type": "stream",
     "text": [
      "100%|█████████████████████████████████████████████████████████████████████████████████████████████████████████████████████████████████████████████████████████████| 7308/7308 [00:29<00:00, 251.22it/s]\n"
     ]
    },
    {
     "name": "stdout",
     "output_type": "stream",
     "text": [
      "Loss: 396.9513359803241\n",
      "Average Loss: 0.0543173694554357\n",
      "-----------------------------------------------------------------\n",
      "Epoch: 39; Bad epochs: 2\n"
     ]
    },
    {
     "name": "stderr",
     "output_type": "stream",
     "text": [
      "100%|█████████████████████████████████████████████████████████████████████████████████████████████████████████████████████████████████████████████████████████████| 7308/7308 [00:29<00:00, 249.57it/s]\n"
     ]
    },
    {
     "name": "stdout",
     "output_type": "stream",
     "text": [
      "Loss: 396.8869613308925\n",
      "Average Loss: 0.0543085606637784\n",
      "-----------------------------------------------------------------\n",
      "Epoch: 40; Bad epochs: 3\n"
     ]
    },
    {
     "name": "stderr",
     "output_type": "stream",
     "text": [
      "100%|█████████████████████████████████████████████████████████████████████████████████████████████████████████████████████████████████████████████████████████████| 7308/7308 [00:29<00:00, 243.93it/s]\n"
     ]
    },
    {
     "name": "stdout",
     "output_type": "stream",
     "text": [
      "Loss: 396.8018901962787\n",
      "Average Loss: 0.054296919840760634\n",
      "-----------------------------------------------------------------\n",
      "Epoch: 41; Bad epochs: 4\n"
     ]
    },
    {
     "name": "stderr",
     "output_type": "stream",
     "text": [
      "100%|█████████████████████████████████████████████████████████████████████████████████████████████████████████████████████████████████████████████████████████████| 7308/7308 [00:31<00:00, 232.71it/s]\n"
     ]
    },
    {
     "name": "stdout",
     "output_type": "stream",
     "text": [
      "Loss: 396.8475515774917\n",
      "Average Loss: 0.05430316797721561\n",
      "-----------------------------------------------------------------\n",
      "Epoch: 42; Bad epochs: 5\n"
     ]
    },
    {
     "name": "stderr",
     "output_type": "stream",
     "text": [
      "100%|█████████████████████████████████████████████████████████████████████████████████████████████████████████████████████████████████████████████████████████████| 7308/7308 [00:33<00:00, 219.55it/s]\n"
     ]
    },
    {
     "name": "stdout",
     "output_type": "stream",
     "text": [
      "Loss: 396.8453539472539\n",
      "Average Loss: 0.054302867261529\n",
      "-----------------------------------------------------------------\n",
      "Epoch: 43; Bad epochs: 6\n"
     ]
    },
    {
     "name": "stderr",
     "output_type": "stream",
     "text": [
      "100%|█████████████████████████████████████████████████████████████████████████████████████████████████████████████████████████████████████████████████████████████| 7308/7308 [00:30<00:00, 239.28it/s]\n"
     ]
    },
    {
     "name": "stdout",
     "output_type": "stream",
     "text": [
      "Loss: 396.78866447880864\n",
      "Average Loss: 0.05429511008193878\n",
      "-----------------------------------------------------------------\n",
      "Epoch: 44; Bad epochs: 7\n"
     ]
    },
    {
     "name": "stderr",
     "output_type": "stream",
     "text": [
      "100%|█████████████████████████████████████████████████████████████████████████████████████████████████████████████████████████████████████████████████████████████| 7308/7308 [00:29<00:00, 244.62it/s]\n"
     ]
    },
    {
     "name": "stdout",
     "output_type": "stream",
     "text": [
      "Loss: 396.74106122669764\n",
      "Average Loss: 0.05428859622697012\n",
      "############### Saving good model ###############################\n",
      "-----------------------------------------------------------------\n",
      "Epoch: 45; Bad epochs: 0\n"
     ]
    },
    {
     "name": "stderr",
     "output_type": "stream",
     "text": [
      "100%|█████████████████████████████████████████████████████████████████████████████████████████████████████████████████████████████████████████████████████████████| 7308/7308 [00:30<00:00, 241.52it/s]\n"
     ]
    },
    {
     "name": "stdout",
     "output_type": "stream",
     "text": [
      "Loss: 396.8642071450595\n",
      "Average Loss: 0.05430544706418439\n",
      "-----------------------------------------------------------------\n",
      "Epoch: 46; Bad epochs: 1\n"
     ]
    },
    {
     "name": "stderr",
     "output_type": "stream",
     "text": [
      "100%|█████████████████████████████████████████████████████████████████████████████████████████████████████████████████████████████████████████████████████████████| 7308/7308 [00:29<00:00, 247.83it/s]\n"
     ]
    },
    {
     "name": "stdout",
     "output_type": "stream",
     "text": [
      "Loss: 396.7314179725945\n",
      "Average Loss: 0.05428727667933696\n",
      "############### Saving good model ###############################\n",
      "-----------------------------------------------------------------\n",
      "Epoch: 47; Bad epochs: 0\n"
     ]
    },
    {
     "name": "stderr",
     "output_type": "stream",
     "text": [
      "100%|█████████████████████████████████████████████████████████████████████████████████████████████████████████████████████████████████████████████████████████████| 7308/7308 [00:28<00:00, 252.12it/s]\n"
     ]
    },
    {
     "name": "stdout",
     "output_type": "stream",
     "text": [
      "Loss: 396.81132639665157\n",
      "Average Loss: 0.05429821105591839\n",
      "-----------------------------------------------------------------\n",
      "Epoch: 48; Bad epochs: 1\n"
     ]
    },
    {
     "name": "stderr",
     "output_type": "stream",
     "text": [
      "100%|█████████████████████████████████████████████████████████████████████████████████████████████████████████████████████████████████████████████████████████████| 7308/7308 [00:34<00:00, 214.39it/s]\n"
     ]
    },
    {
     "name": "stdout",
     "output_type": "stream",
     "text": [
      "Loss: 396.7249684189446\n",
      "Average Loss: 0.0542863941459968\n",
      "############### Saving good model ###############################\n",
      "-----------------------------------------------------------------\n",
      "Epoch: 49; Bad epochs: 0\n"
     ]
    },
    {
     "name": "stderr",
     "output_type": "stream",
     "text": [
      "100%|█████████████████████████████████████████████████████████████████████████████████████████████████████████████████████████████████████████████████████████████| 7308/7308 [00:36<00:00, 198.77it/s]\n"
     ]
    },
    {
     "name": "stdout",
     "output_type": "stream",
     "text": [
      "Loss: 396.6786879254505\n",
      "Average Loss: 0.05428006129248091\n",
      "############### Saving good model ###############################\n",
      "-----------------------------------------------------------------\n",
      "Epoch: 50; Bad epochs: 0\n"
     ]
    },
    {
     "name": "stderr",
     "output_type": "stream",
     "text": [
      "100%|█████████████████████████████████████████████████████████████████████████████████████████████████████████████████████████████████████████████████████████████| 7308/7308 [00:30<00:00, 241.98it/s]\n"
     ]
    },
    {
     "name": "stdout",
     "output_type": "stream",
     "text": [
      "Loss: 396.69375988887623\n",
      "Average Loss: 0.054282123684848964\n",
      "-----------------------------------------------------------------\n",
      "Epoch: 51; Bad epochs: 1\n"
     ]
    },
    {
     "name": "stderr",
     "output_type": "stream",
     "text": [
      "100%|█████████████████████████████████████████████████████████████████████████████████████████████████████████████████████████████████████████████████████████████| 7308/7308 [00:29<00:00, 243.94it/s]\n"
     ]
    },
    {
     "name": "stdout",
     "output_type": "stream",
     "text": [
      "Loss: 396.78879134566523\n",
      "Average Loss: 0.054295127441935584\n",
      "-----------------------------------------------------------------\n",
      "Epoch: 52; Bad epochs: 2\n"
     ]
    },
    {
     "name": "stderr",
     "output_type": "stream",
     "text": [
      "100%|█████████████████████████████████████████████████████████████████████████████████████████████████████████████████████████████████████████████████████████████| 7308/7308 [00:38<00:00, 191.84it/s]\n"
     ]
    },
    {
     "name": "stdout",
     "output_type": "stream",
     "text": [
      "Loss: 396.8079033631366\n",
      "Average Loss: 0.05429774266052772\n",
      "-----------------------------------------------------------------\n",
      "Epoch: 53; Bad epochs: 3\n"
     ]
    },
    {
     "name": "stderr",
     "output_type": "stream",
     "text": [
      "100%|█████████████████████████████████████████████████████████████████████████████████████████████████████████████████████████████████████████████████████████████| 7308/7308 [00:33<00:00, 219.80it/s]\n"
     ]
    },
    {
     "name": "stdout",
     "output_type": "stream",
     "text": [
      "Loss: 396.6971582870465\n",
      "Average Loss: 0.054282588709229126\n",
      "-----------------------------------------------------------------\n",
      "Epoch: 54; Bad epochs: 4\n"
     ]
    },
    {
     "name": "stderr",
     "output_type": "stream",
     "text": [
      "100%|█████████████████████████████████████████████████████████████████████████████████████████████████████████████████████████████████████████████████████████████| 7308/7308 [00:29<00:00, 250.54it/s]\n"
     ]
    },
    {
     "name": "stdout",
     "output_type": "stream",
     "text": [
      "Loss: 396.73158875852823\n",
      "Average Loss: 0.05428730004905969\n",
      "-----------------------------------------------------------------\n",
      "Epoch: 55; Bad epochs: 5\n"
     ]
    },
    {
     "name": "stderr",
     "output_type": "stream",
     "text": [
      "100%|█████████████████████████████████████████████████████████████████████████████████████████████████████████████████████████████████████████████████████████████| 7308/7308 [00:29<00:00, 251.11it/s]\n"
     ]
    },
    {
     "name": "stdout",
     "output_type": "stream",
     "text": [
      "Loss: 396.77094433410093\n",
      "Average Loss: 0.05429268532212656\n",
      "-----------------------------------------------------------------\n",
      "Epoch: 56; Bad epochs: 6\n"
     ]
    },
    {
     "name": "stderr",
     "output_type": "stream",
     "text": [
      "100%|█████████████████████████████████████████████████████████████████████████████████████████████████████████████████████████████████████████████████████████████| 7308/7308 [00:32<00:00, 228.00it/s]\n"
     ]
    },
    {
     "name": "stdout",
     "output_type": "stream",
     "text": [
      "Loss: 396.7081456289161\n",
      "Average Loss: 0.05428409217691791\n",
      "-----------------------------------------------------------------\n",
      "Epoch: 57; Bad epochs: 7\n"
     ]
    },
    {
     "name": "stderr",
     "output_type": "stream",
     "text": [
      "100%|█████████████████████████████████████████████████████████████████████████████████████████████████████████████████████████████████████████████████████████████| 7308/7308 [00:29<00:00, 244.25it/s]\n"
     ]
    },
    {
     "name": "stdout",
     "output_type": "stream",
     "text": [
      "Loss: 396.6582774708513\n",
      "Average Loss: 0.05427726840049963\n",
      "############### Saving good model ###############################\n",
      "-----------------------------------------------------------------\n",
      "Epoch: 58; Bad epochs: 0\n"
     ]
    },
    {
     "name": "stderr",
     "output_type": "stream",
     "text": [
      "100%|█████████████████████████████████████████████████████████████████████████████████████████████████████████████████████████████████████████████████████████████| 7308/7308 [00:29<00:00, 246.76it/s]\n"
     ]
    },
    {
     "name": "stdout",
     "output_type": "stream",
     "text": [
      "Loss: 396.71075881947763\n",
      "Average Loss: 0.05428444975635983\n",
      "-----------------------------------------------------------------\n",
      "Epoch: 59; Bad epochs: 1\n"
     ]
    },
    {
     "name": "stderr",
     "output_type": "stream",
     "text": [
      "100%|█████████████████████████████████████████████████████████████████████████████████████████████████████████████████████████████████████████████████████████████| 7308/7308 [00:29<00:00, 244.05it/s]\n"
     ]
    },
    {
     "name": "stdout",
     "output_type": "stream",
     "text": [
      "Loss: 396.65534120076336\n",
      "Average Loss: 0.05427686661203658\n",
      "############### Saving good model ###############################\n",
      "-----------------------------------------------------------------\n",
      "Epoch: 60; Bad epochs: 0\n"
     ]
    },
    {
     "name": "stderr",
     "output_type": "stream",
     "text": [
      "100%|█████████████████████████████████████████████████████████████████████████████████████████████████████████████████████████████████████████████████████████████| 7308/7308 [00:30<00:00, 242.71it/s]\n"
     ]
    },
    {
     "name": "stdout",
     "output_type": "stream",
     "text": [
      "Loss: 396.62002750486135\n",
      "Average Loss: 0.05427203441500566\n",
      "############### Saving good model ###############################\n",
      "-----------------------------------------------------------------\n",
      "Epoch: 61; Bad epochs: 0\n"
     ]
    },
    {
     "name": "stderr",
     "output_type": "stream",
     "text": [
      "100%|█████████████████████████████████████████████████████████████████████████████████████████████████████████████████████████████████████████████████████████████| 7308/7308 [00:29<00:00, 248.24it/s]\n"
     ]
    },
    {
     "name": "stdout",
     "output_type": "stream",
     "text": [
      "Loss: 396.6105902453419\n",
      "Average Loss: 0.05427074305491816\n",
      "############### Saving good model ###############################\n",
      "-----------------------------------------------------------------\n",
      "Epoch: 62; Bad epochs: 0\n"
     ]
    },
    {
     "name": "stderr",
     "output_type": "stream",
     "text": [
      "100%|█████████████████████████████████████████████████████████████████████████████████████████████████████████████████████████████████████████████████████████████| 7308/7308 [00:29<00:00, 247.23it/s]\n"
     ]
    },
    {
     "name": "stdout",
     "output_type": "stream",
     "text": [
      "Loss: 396.63154410594143\n",
      "Average Loss: 0.05427361030458969\n",
      "-----------------------------------------------------------------\n",
      "Epoch: 63; Bad epochs: 1\n"
     ]
    },
    {
     "name": "stderr",
     "output_type": "stream",
     "text": [
      "100%|█████████████████████████████████████████████████████████████████████████████████████████████████████████████████████████████████████████████████████████████| 7308/7308 [00:29<00:00, 250.59it/s]\n"
     ]
    },
    {
     "name": "stdout",
     "output_type": "stream",
     "text": [
      "Loss: 396.736212588381\n",
      "Average Loss: 0.05428793275703079\n",
      "-----------------------------------------------------------------\n",
      "Epoch: 64; Bad epochs: 2\n"
     ]
    },
    {
     "name": "stderr",
     "output_type": "stream",
     "text": [
      "100%|█████████████████████████████████████████████████████████████████████████████████████████████████████████████████████████████████████████████████████████████| 7308/7308 [00:30<00:00, 235.95it/s]\n"
     ]
    },
    {
     "name": "stdout",
     "output_type": "stream",
     "text": [
      "Loss: 396.6620694103185\n",
      "Average Loss: 0.054277787275631977\n",
      "-----------------------------------------------------------------\n",
      "Epoch: 65; Bad epochs: 3\n"
     ]
    },
    {
     "name": "stderr",
     "output_type": "stream",
     "text": [
      "100%|█████████████████████████████████████████████████████████████████████████████████████████████████████████████████████████████████████████████████████████████| 7308/7308 [00:32<00:00, 226.25it/s]\n"
     ]
    },
    {
     "name": "stdout",
     "output_type": "stream",
     "text": [
      "Loss: 396.5621321860235\n",
      "Average Loss: 0.05426411223125664\n",
      "############### Saving good model ###############################\n",
      "-----------------------------------------------------------------\n",
      "Epoch: 66; Bad epochs: 0\n"
     ]
    },
    {
     "name": "stderr",
     "output_type": "stream",
     "text": [
      "100%|█████████████████████████████████████████████████████████████████████████████████████████████████████████████████████████████████████████████████████████████| 7308/7308 [00:30<00:00, 236.57it/s]\n"
     ]
    },
    {
     "name": "stdout",
     "output_type": "stream",
     "text": [
      "Loss: 396.5807271981612\n",
      "Average Loss: 0.05426665670472922\n",
      "-----------------------------------------------------------------\n",
      "Epoch: 67; Bad epochs: 1\n"
     ]
    },
    {
     "name": "stderr",
     "output_type": "stream",
     "text": [
      "100%|█████████████████████████████████████████████████████████████████████████████████████████████████████████████████████████████████████████████████████████████| 7308/7308 [00:28<00:00, 254.24it/s]\n"
     ]
    },
    {
     "name": "stdout",
     "output_type": "stream",
     "text": [
      "Loss: 396.58887076121755\n",
      "Average Loss: 0.054267771040122814\n",
      "-----------------------------------------------------------------\n",
      "Epoch: 68; Bad epochs: 2\n"
     ]
    },
    {
     "name": "stderr",
     "output_type": "stream",
     "text": [
      "100%|█████████████████████████████████████████████████████████████████████████████████████████████████████████████████████████████████████████████████████████████| 7308/7308 [00:29<00:00, 246.97it/s]\n"
     ]
    },
    {
     "name": "stdout",
     "output_type": "stream",
     "text": [
      "Loss: 396.64541555498727\n",
      "Average Loss: 0.0542755084229594\n",
      "-----------------------------------------------------------------\n",
      "Epoch: 69; Bad epochs: 3\n"
     ]
    },
    {
     "name": "stderr",
     "output_type": "stream",
     "text": [
      "100%|█████████████████████████████████████████████████████████████████████████████████████████████████████████████████████████████████████████████████████████████| 7308/7308 [00:30<00:00, 243.41it/s]\n"
     ]
    },
    {
     "name": "stdout",
     "output_type": "stream",
     "text": [
      "Loss: 396.5934042248409\n",
      "Average Loss: 0.05426839138270949\n",
      "-----------------------------------------------------------------\n",
      "Epoch: 70; Bad epochs: 4\n"
     ]
    },
    {
     "name": "stderr",
     "output_type": "stream",
     "text": [
      "100%|█████████████████████████████████████████████████████████████████████████████████████████████████████████████████████████████████████████████████████████████| 7308/7308 [00:30<00:00, 236.46it/s]\n"
     ]
    },
    {
     "name": "stdout",
     "output_type": "stream",
     "text": [
      "Loss: 396.6168088039849\n",
      "Average Loss: 0.05427159397974615\n",
      "-----------------------------------------------------------------\n",
      "Epoch: 71; Bad epochs: 5\n"
     ]
    },
    {
     "name": "stderr",
     "output_type": "stream",
     "text": [
      "100%|█████████████████████████████████████████████████████████████████████████████████████████████████████████████████████████████████████████████████████████████| 7308/7308 [00:33<00:00, 220.47it/s]\n"
     ]
    },
    {
     "name": "stdout",
     "output_type": "stream",
     "text": [
      "Loss: 396.6107707740739\n",
      "Average Loss: 0.054270767757809785\n",
      "-----------------------------------------------------------------\n",
      "Epoch: 72; Bad epochs: 6\n"
     ]
    },
    {
     "name": "stderr",
     "output_type": "stream",
     "text": [
      "100%|█████████████████████████████████████████████████████████████████████████████████████████████████████████████████████████████████████████████████████████████| 7308/7308 [00:30<00:00, 241.77it/s]\n"
     ]
    },
    {
     "name": "stdout",
     "output_type": "stream",
     "text": [
      "Loss: 396.613606672734\n",
      "Average Loss: 0.05427115581181363\n",
      "-----------------------------------------------------------------\n",
      "Epoch: 73; Bad epochs: 7\n"
     ]
    },
    {
     "name": "stderr",
     "output_type": "stream",
     "text": [
      "100%|█████████████████████████████████████████████████████████████████████████████████████████████████████████████████████████████████████████████████████████████| 7308/7308 [00:29<00:00, 248.90it/s]\n"
     ]
    },
    {
     "name": "stdout",
     "output_type": "stream",
     "text": [
      "Loss: 396.6175677506253\n",
      "Average Loss: 0.054271697831229516\n",
      "-----------------------------------------------------------------\n",
      "Epoch: 74; Bad epochs: 8\n"
     ]
    },
    {
     "name": "stderr",
     "output_type": "stream",
     "text": [
      "100%|█████████████████████████████████████████████████████████████████████████████████████████████████████████████████████████████████████████████████████████████| 7308/7308 [00:29<00:00, 246.95it/s]\n"
     ]
    },
    {
     "name": "stdout",
     "output_type": "stream",
     "text": [
      "Loss: 396.57806724030524\n",
      "Average Loss: 0.05426629272582174\n",
      "-----------------------------------------------------------------\n",
      "Epoch: 75; Bad epochs: 9\n"
     ]
    },
    {
     "name": "stderr",
     "output_type": "stream",
     "text": [
      "100%|█████████████████████████████████████████████████████████████████████████████████████████████████████████████████████████████████████████████████████████████| 7308/7308 [00:30<00:00, 242.52it/s]"
     ]
    },
    {
     "name": "stdout",
     "output_type": "stream",
     "text": [
      "Loss: 396.59769342374057\n",
      "Average Loss: 0.05426897830100445\n",
      "Done, best loss: 396.5621321860235\n",
      "Done\n"
     ]
    },
    {
     "name": "stderr",
     "output_type": "stream",
     "text": [
      "\n"
     ]
    },
    {
     "data": {
      "text/plain": [
       "<All keys matched successfully>"
      ]
     },
     "execution_count": 49,
     "metadata": {},
     "output_type": "execute_result"
    }
   ],
   "source": [
    "loss_list=[]\n",
    "avg_loss_list=[]\n",
    "\n",
    "counter = 0\n",
    "\n",
    "# Best loss\n",
    "best = 1e16\n",
    "num_bad_epochs = 0\n",
    "patience = 10\n",
    "\n",
    "for epoch in range(1000):\n",
    "    print(\"-----------------------------------------------------------------\")\n",
    "    print(\"Epoch: {}; Bad epochs: {}\".format(epoch, num_bad_epochs))\n",
    "    net.train()\n",
    "    running_loss = 0.\n",
    "\n",
    "    for i, X_batch in enumerate(tqdm(trainloader), 0):\n",
    "        optimizer.zero_grad()\n",
    "        X_pred, theta, phi, mu_cart_pred, lambda_par_pred, lambda_iso_pred, volume_0_pred, volume_1_pred = net(X_batch)\n",
    "        if i == 100 and counter == 10:\n",
    "            print(\"X_batch: \")\n",
    "            print(X_batch.shape)\n",
    "            print(X_batch)\n",
    "            print(\"X_pred: \")\n",
    "            print(X_pred.shape)\n",
    "            print(X_pred)\n",
    "        loss = criterion(X_pred.type(torch.FloatTensor), X_batch.type(torch.FloatTensor))\n",
    "        loss.backward()\n",
    "        optimizer.step()\n",
    "        running_loss += loss.item()\n",
    "        \n",
    "    loss_list.append(running_loss)\n",
    "    avg_loss_list.append(running_loss/num_batches)\n",
    "    print(\"Loss: {}\".format(running_loss))\n",
    "    print(\"Average Loss: {}\".format(running_loss/num_batches))\n",
    "    \n",
    "\n",
    "    if running_loss < best:\n",
    "        print(\"############### Saving good model ###############################\")\n",
    "        final_model = net.state_dict()\n",
    "        best = running_loss\n",
    "        num_bad_epochs = 0\n",
    "    else:\n",
    "        num_bad_epochs = num_bad_epochs + 1\n",
    "        if num_bad_epochs == patience:\n",
    "            print(\"Done, best loss: {}\".format(best))\n",
    "            break\n",
    "    counter += 1\n",
    "\n",
    "print(\"Done\") \n",
    "net.load_state_dict(final_model)"
   ]
  },
  {
   "cell_type": "code",
   "execution_count": 29,
   "id": "5d050e2b-76e2-4b2d-97ea-989d1c140c2e",
   "metadata": {},
   "outputs": [
    {
     "data": {
      "image/png": "[encoded data removed]",
      "text/plain": [
       "<Figure size 640x480 with 1 Axes>"
      ]
     },
     "metadata": {},
     "output_type": "display_data"
    }
   ],
   "source": [
    "epoch_arr = np.arange(0, len(avg_loss_list))\n",
    "loss_arr = np.array(avg_loss_list)\n",
    "plt.plot(avg_loss_list)\n",
    "plt.xlabel(\"Epochs\")\n",
    "plt.ylabel(\"Average Runing Loss per batch\")\n",
    "plt.show()"
   ]
  },
  {
   "cell_type": "code",
   "execution_count": 30,
   "id": "4a3949da-83b9-444d-85ca-2d74a8494d95",
   "metadata": {},
   "outputs": [],
   "source": [
    "torch.save(final_model, 'model_100206_half_04.pt')"
   ]
  },
  {
   "cell_type": "code",
   "execution_count": null,
   "id": "52f9c8ca-a416-4c4d-baec-2eb8104a29ea",
   "metadata": {},
   "outputs": [],
   "source": []
  }
 ],
 "metadata": {
  "kernelspec": {
   "display_name": "Python 3 (ipykernel)",
   "language": "python",
   "name": "python3"
  },
  "language_info": {
   "codemirror_mode": {
    "name": "ipython",
    "version": 3
   },
   "file_extension": ".py",
   "mimetype": "text/x-python",
   "name": "python",
   "nbconvert_exporter": "python",
   "pygments_lexer": "ipython3",
   "version": "3.10.8"
  }
 },
 "nbformat": 4,
 "nbformat_minor": 5
}
