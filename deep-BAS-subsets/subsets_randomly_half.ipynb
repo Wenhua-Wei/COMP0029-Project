{
 "cells": [
  {
   "cell_type": "code",
   "execution_count": 1,
   "id": "5ce2b97b-4915-4ca4-826b-1d1665ebb5c5",
   "metadata": {},
   "outputs": [],
   "source": [
    "import numpy as np\n",
    "\n",
    "from dmipy.core.acquisition_scheme import acquisition_scheme_from_bvalues\n",
    "from dmipy.signal_models import cylinder_models, gaussian_models\n",
    "from dmipy.core.modeling_framework import MultiCompartmentModel\n",
    "\n",
    "import matplotlib.pyplot as plt\n",
    "\n",
    "import config\n",
    "import torch\n",
    "import torch.nn as nn\n",
    "import torch.optim as optim\n",
    "import torch.utils.data as utils\n",
    "from tqdm import tqdm\n",
    "\n",
    "import process_data"
   ]
  },
  {
   "cell_type": "code",
   "execution_count": 38,
   "id": "3badb4d9-3429-4d2e-a3e0-df377122d2b4",
   "metadata": {},
   "outputs": [],
   "source": [
    "bvals_all_100206 = np.loadtxt(config.data_folder2 + '/100206/bvals')"
   ]
  },
  {
   "cell_type": "code",
   "execution_count": 60,
   "id": "e90a733b-6600-4cb6-83a7-40f5acdcfaf4",
   "metadata": {},
   "outputs": [
    {
     "name": "stdout",
     "output_type": "stream",
     "text": [
      "\n"
     ]
    }
   ],
   "source": [
    "rand_half_bval_indice_100206 = np.array(process_data.get_rand_selected_bval_indice(bvals_all_100206, 9))"
   ]
  },
  {
   "cell_type": "code",
   "execution_count": 61,
   "id": "3bf6feb8-73f5-4a4a-8f83-d2c2864d765d",
   "metadata": {},
   "outputs": [
    {
     "data": {
      "text/plain": [
       "array([ 16,  17,  18,  19,  20,  21,  22,  23,  24,  25,  26,  27,  28,\n",
       "        29,  30,  31,  32,  33,  34,  35,  36,  37,  38,  39,  40,  41,\n",
       "        42,  43,  44,  45,  46,  47,  48,  49,  50,  51,  52,  53,  54,\n",
       "        55,  56,  57,  58,  59,  60,  61,  62,  63,  80,  81,  82,  83,\n",
       "        84,  85,  86,  87,  88,  89,  90,  91,  92,  93,  94, 128, 129,\n",
       "       130, 131, 132, 133, 134, 135, 136, 137, 138, 139, 140, 141, 142,\n",
       "       143, 160, 161, 162, 163, 164, 165, 166, 167, 168, 169, 170, 171,\n",
       "       172, 173, 174, 175, 191, 192, 193, 194, 195, 196, 197, 198, 199,\n",
       "       200, 201, 202, 203, 204, 205, 206, 207, 256, 257, 258, 259, 260,\n",
       "       261, 262, 263, 264, 265, 266, 267, 268, 269, 270, 271, 272, 273,\n",
       "       274, 275, 276, 277, 278, 279, 280, 281, 282, 283, 284, 285, 286,\n",
       "       287])"
      ]
     },
     "execution_count": 61,
     "metadata": {},
     "output_type": "execute_result"
    }
   ],
   "source": [
    "rand_half_bval_indice_100206"
   ]
  },
  {
   "cell_type": "code",
   "execution_count": 62,
   "id": "1060ffcd-ed48-48ee-8543-cfb636766f29",
   "metadata": {},
   "outputs": [],
   "source": [
    "bvals_100206_half = bvals_all_100206[rand_half_bval_indice_100206]*1e-3"
   ]
  },
  {
   "cell_type": "code",
   "execution_count": 63,
   "id": "faba0f19-7dc2-4339-9859-7431028b8d4e",
   "metadata": {},
   "outputs": [
    {
     "data": {
      "text/plain": [
       "144"
      ]
     },
     "execution_count": 63,
     "metadata": {},
     "output_type": "execute_result"
    }
   ],
   "source": [
    "len(bvals_100206_half)\n"
   ]
  },
  {
   "cell_type": "code",
   "execution_count": 43,
   "id": "9e274622-47a4-4c13-93df-861bf2330df5",
   "metadata": {},
   "outputs": [
    {
     "data": {
      "text/plain": [
       "array([  0,   1,   2,   3,   4,   5,   6,   7,   8,   9,  10,  11,  12,\n",
       "        13,  14,  15,  16,  17,  18,  19,  20,  21,  22,  23,  24,  25,\n",
       "        26,  27,  28,  29,  30,  31,  32,  33,  34,  35,  36,  37,  38,\n",
       "        39,  40,  41,  42,  43,  44,  45,  46,  47,  80,  81,  82,  83,\n",
       "        84,  85,  86,  87,  88,  89,  90,  91,  92,  93,  94,  95,  96,\n",
       "        97,  98,  99, 100, 101, 102, 103, 104, 105, 106, 107, 108, 109,\n",
       "       110, 111, 144, 145, 146, 147, 148, 149, 150, 151, 152, 153, 154,\n",
       "       155, 156, 157, 158, 159, 176, 177, 178, 179, 180, 181, 182, 183,\n",
       "       184, 185, 186, 187, 188, 189, 190, 224, 225, 226, 227, 228, 229,\n",
       "       230, 231, 232, 233, 234, 235, 236, 237, 238, 239, 240, 241, 242,\n",
       "       243, 244, 245, 246, 247, 248, 249, 250, 251, 252, 253, 254, 255])"
      ]
     },
     "execution_count": 43,
     "metadata": {},
     "output_type": "execute_result"
    }
   ],
   "source": [
    "rand_half_bval_indice_100206"
   ]
  },
  {
   "cell_type": "code",
   "execution_count": 7,
   "id": "95250405-6d0d-400e-9688-62548cc873a7",
   "metadata": {},
   "outputs": [],
   "source": [
    "scan_100206 = process_data.get_nifti_data(config.data_folder2 + '/100206/data.nii.gz')\n",
    "mask_100206 = process_data.get_nifti_data(config.data_folder2 + '/100206/nodif_brain_mask.nii.gz')\n",
    "\n",
    "scan_dimension = scan_100206.shape\n",
    "x = scan_dimension[0]\n",
    "y = scan_dimension[1]\n",
    "z = scan_dimension[2]\n",
    "b = scan_dimension[3]"
   ]
  },
  {
   "cell_type": "code",
   "execution_count": 9,
   "id": "015fd892-087d-486b-9acd-06f81028641f",
   "metadata": {},
   "outputs": [],
   "source": [
    "scan_100206_long = np.reshape(scan_100206, (x*y*z, b))\n",
    "\n",
    "mask_100206_long = np.reshape(mask_100206, (x*y*z, 1))"
   ]
  },
  {
   "cell_type": "code",
   "execution_count": 64,
   "id": "007f8a4b-6d13-439f-b11d-020cf7a84618",
   "metadata": {},
   "outputs": [],
   "source": [
    "scan_100206_long_half = scan_100206_long[:, rand_half_bval_indice_100206]"
   ]
  },
  {
   "cell_type": "code",
   "execution_count": 65,
   "id": "38489334-68e3-4f46-a31f-e07563e9ecdc",
   "metadata": {},
   "outputs": [
    {
     "data": {
      "text/plain": [
       "(3658350, 144)"
      ]
     },
     "execution_count": 65,
     "metadata": {},
     "output_type": "execute_result"
    }
   ],
   "source": [
    "scan_100206_long_half.shape"
   ]
  },
  {
   "cell_type": "code",
   "execution_count": 66,
   "id": "419c937e-5e1f-4de9-b1b8-1f272d5d36f3",
   "metadata": {},
   "outputs": [],
   "source": [
    "indices_beginning_0 = np.where(scan_100206_long_half[:, 0] == 0)[0] # 2234485 before subsampling"
   ]
  },
  {
   "cell_type": "code",
   "execution_count": 67,
   "id": "c10c2a38-8b28-469b-9dd2-2cf5c0efc144",
   "metadata": {},
   "outputs": [],
   "source": [
    "indices_beginning_0_all = np.where(scan_100206_long[:, 0] == 0)[0]  # 2234299"
   ]
  },
  {
   "cell_type": "code",
   "execution_count": 18,
   "id": "a8d66595-9006-40a6-80d7-7623e024bf6c",
   "metadata": {},
   "outputs": [
    {
     "name": "stdout",
     "output_type": "stream",
     "text": [
      "[ 262497  263516  339198 ... 3265319 3266020 3268361]\n"
     ]
    }
   ],
   "source": [
    "diff = np.setdiff1d(indices_beginning_0, indices_beginning_0_all)\n",
    "print(diff)"
   ]
  },
  {
   "cell_type": "code",
   "execution_count": 19,
   "id": "10d794f4-1336-45d2-84b7-63a67609ea08",
   "metadata": {},
   "outputs": [
    {
     "name": "stdout",
     "output_type": "stream",
     "text": [
      "[      0       1       2 ... 3658347 3658348 3658349]\n",
      "[      0       1       2 ... 3658347 3658348 3658349]\n"
     ]
    }
   ],
   "source": [
    "print(indices_beginning_0)\n",
    "print(indices_beginning_0_all)"
   ]
  },
  {
   "cell_type": "code",
   "execution_count": 68,
   "id": "10b10507-9d11-4d4b-a858-54655f274d2d",
   "metadata": {},
   "outputs": [
    {
     "data": {
      "text/plain": [
       "2234485"
      ]
     },
     "execution_count": 68,
     "metadata": {},
     "output_type": "execute_result"
    }
   ],
   "source": [
    "len(indices_beginning_0)\n",
    "# 2234299"
   ]
  },
  {
   "cell_type": "code",
   "execution_count": 69,
   "id": "c7faa884-a99c-4881-b245-977e33102be6",
   "metadata": {},
   "outputs": [],
   "source": [
    "mask_100206_long_pro = np.copy(mask_100206_long)\n",
    "mask_100206_long_pro[indices_beginning_0] = 0"
   ]
  },
  {
   "cell_type": "code",
   "execution_count": 70,
   "id": "365ce3b9-8b62-45e2-8fc4-17a223cff290",
   "metadata": {},
   "outputs": [],
   "source": [
    "scan_100206_long_half_no_background = process_data.remove_background(scan_100206_long_half, mask_100206_long_pro)"
   ]
  },
  {
   "cell_type": "code",
   "execution_count": 71,
   "id": "19d24581-c1bd-44dc-b7d1-d4c1c55b5e73",
   "metadata": {},
   "outputs": [],
   "source": [
    "S0_100206_half = process_data.get_S0(scan_100206_long_half_no_background, bvals_100206_half)"
   ]
  },
  {
   "cell_type": "code",
   "execution_count": 72,
   "id": "ddb41ca7-400f-422e-b7f6-5d2dfe6e8689",
   "metadata": {},
   "outputs": [],
   "source": [
    "normalized_scan_100206_half = scan_100206_long_half_no_background / S0_100206_half"
   ]
  },
  {
   "cell_type": "code",
   "execution_count": 73,
   "id": "4451a250-f2b9-47d1-9117-c060e865c33c",
   "metadata": {},
   "outputs": [],
   "source": [
    "big_b_indices_100206_half = np.where(bvals_100206_half != 0.005)[0]"
   ]
  },
  {
   "cell_type": "code",
   "execution_count": 74,
   "id": "52a4da83-333e-4597-92fe-40d677b1edcd",
   "metadata": {},
   "outputs": [],
   "source": [
    "bvals_100206_half_no_b5 = bvals_100206_half[big_b_indices_100206_half]"
   ]
  },
  {
   "cell_type": "code",
   "execution_count": 75,
   "id": "119675fd-5f25-4572-aeeb-d3324b10ad5c",
   "metadata": {},
   "outputs": [],
   "source": [
    "normalized_scan_100206_half_no_b5 = normalized_scan_100206_half[:, big_b_indices_100206_half]"
   ]
  },
  {
   "cell_type": "code",
   "execution_count": 76,
   "id": "c596d614-8884-44e2-b661-246ac1efeac4",
   "metadata": {},
   "outputs": [
    {
     "data": {
      "text/plain": [
       "[<matplotlib.lines.Line2D at 0x1c065df90>]"
      ]
     },
     "execution_count": 76,
     "metadata": {},
     "output_type": "execute_result"
    },
    {
     "data": {
      "image/png": "[encoded data removed]",
      "text/plain": [
       "<Figure size 640x480 with 1 Axes>"
      ]
     },
     "metadata": {},
     "output_type": "display_data"
    }
   ],
   "source": [
    "plt.plot(bvals_100206_half_no_b5, normalized_scan_100206_half_no_b5[42,:], \"o\", markersize = 1)"
   ]
  },
  {
   "cell_type": "markdown",
   "id": "26ad57bb-d18c-489b-87b1-97a41298c52c",
   "metadata": {},
   "source": []
  },
  {
   "cell_type": "code",
   "execution_count": 29,
   "id": "16cfcc88-8849-4c75-8dc1-e9bf94025459",
   "metadata": {},
   "outputs": [],
   "source": [
    "def squash(param, p_min, p_max):\n",
    "    squashed_param_tensor =torch.clamp(param, min=p_min, max=p_max)\n",
    "    unsqueezed_param = squashed_param_tensor.unsqueeze(1)\n",
    "    return unsqueezed_param"
   ]
  },
  {
   "cell_type": "code",
   "execution_count": 30,
   "id": "5c7c69d6-5f6b-4282-8b52-4a5f4118dc67",
   "metadata": {},
   "outputs": [],
   "source": [
    "def unitsphere2cart(theta, phi, X):\n",
    "    mu_cart = torch.zeros(3,X.size()[0])\n",
    "    sintheta = torch.sin(theta)\n",
    "    mu_cart[0,:] = torch.squeeze(sintheta * torch.cos(phi))\n",
    "    mu_cart[1,:] = torch.squeeze(sintheta * torch.sin(phi))\n",
    "    mu_cart[2,:] = torch.squeeze(torch.cos(theta))\n",
    "    return mu_cart"
   ]
  },
  {
   "cell_type": "code",
   "execution_count": 31,
   "id": "ee823c00-1b0b-4c6b-9ef1-f6d8c2537577",
   "metadata": {},
   "outputs": [],
   "source": [
    "class BallStickNet(nn.Module):\n",
    "    \n",
    "    def __init__(self, gradient_directions, b_values):\n",
    "        super(BallStickNet, self).__init__()\n",
    "        self.gradient_directions = gradient_directions\n",
    "        self.b_values = b_values\n",
    "        self.fc_layers = nn.ModuleList()\n",
    "        for i in range(3): \n",
    "            self.fc_layers.extend([nn.Linear(len(b_values), len(b_values)), nn.ELU()])\n",
    "        self.encoder = nn.Sequential(*self.fc_layers, nn.Linear(len(b_values), 5))\n",
    "        # if args.dropout != 0:\n",
    "        #     self.dropout = nn.Dropout(args.dropout)\n",
    "            \n",
    "    def forward(self, X):\n",
    "        # if args.dropout != 0:\n",
    "        #     X = self.dropout(X)\n",
    "        params = torch.abs(self.encoder(X))\n",
    "        theta_uns = params[:, 0]\n",
    "        theta = theta_uns.unsqueeze(1)\n",
    "        phi_uns = params[:, 1]\n",
    "        phi = phi_uns.unsqueeze(1)\n",
    "        mu_cart = unitsphere2cart(theta, phi, X)\n",
    "        mm_prod =  torch.einsum(\"ij,jk->ki\",self.gradient_directions, mu_cart)\n",
    "        lambda_par_uns = params[:, 2]\n",
    "        lambda_par = squash(lambda_par_uns, 0.1, 3.0)\n",
    "        lambda_iso_uns = params[:, 3]\n",
    "        lambda_iso = squash(lambda_iso_uns, 0.1, 3.0)\n",
    "        volume_0_uns = params[:, 4]\n",
    "        volume_0 = squash(volume_0_uns, 0.01, 0.99)\n",
    "        volume_1 = 1-volume_0\n",
    "        X = volume_0 * torch.exp(-self.b_values * lambda_par * mm_prod ** 2) + volume_1 * torch.exp(-self.b_values * lambda_iso)\n",
    "        return X, theta, phi, mu_cart, lambda_par, lambda_iso, volume_0, volume_1"
   ]
  },
  {
   "cell_type": "code",
   "execution_count": 77,
   "id": "75bba1e7-205c-481b-846e-1acf458adab2",
   "metadata": {},
   "outputs": [],
   "source": [
    "n_100206_all = np.loadtxt(config.data_folder2 + '/100206/bvecs')\n",
    "n_100206_half = n_100206_all[:, rand_half_bval_indice_100206]"
   ]
  },
  {
   "cell_type": "code",
   "execution_count": 78,
   "id": "3f7c3de2-a791-4ae7-b6f2-8bf1c9a0fcc8",
   "metadata": {
    "collapsed": true,
    "jupyter": {
     "outputs_hidden": true
    },
    "tags": []
   },
   "outputs": [
    {
     "data": {
      "text/plain": [
       "array([[-0.542186,  0.918106, -0.382921,  0.097977,  0.20441 , -0.420482,\n",
       "        -0.713198,  0.337916,  0.595529,  0.902882,  0.17268 ,  0.258874,\n",
       "         0.84558 ,  0.409899,  0.976789,  0.293249, -0.542752,  0.9029  ,\n",
       "         0.424887,  0.104118,  0.754053,  0.542995,  0.188334,  0.791947,\n",
       "         0.304834,  0.697999,  0.438156,  0.793026,  0.307747,  0.486607,\n",
       "         0.86747 ,  0.516189,  0.543239,  0.299074,  0.593076,  0.6197  ,\n",
       "         0.220479,  0.235762,  0.844673,  0.900421,  0.28442 ,  0.03179 ,\n",
       "         0.571379,  0.83342 ,  0.244202, -0.003766,  0.795861,  0.999893,\n",
       "         0.543458,  0.040432,  0.948777,  0.074647,  0.643578,  0.058086,\n",
       "         0.166397,  0.665435,  0.448909,  0.442191,  0.649559,  0.678402,\n",
       "         0.051182,  0.582544,  0.585146,  0.750801,  0.543328,  0.131552,\n",
       "         0.601377,  0.676446,  0.992241,  0.069078,  0.835667,  0.258221,\n",
       "         0.412554,  0.913091,  0.614133, -0.757527,  0.267939,  0.572262,\n",
       "         0.128238,  0.34743 ,  0.541318,  0.847558,  0.337305,  0.542391,\n",
       "         0.66311 ,  0.930699,  0.078221,  0.172307,  0.53662 ,  0.560125,\n",
       "         0.526839,  0.177254,  0.700596,  0.348817,  0.828381,  0.532177,\n",
       "         0.814988,  0.346746,  0.94618 ,  0.517322,  0.112762,  0.840123,\n",
       "         0.298144,  0.337642,  0.148814,  0.930078,  0.472352,  0.049598,\n",
       "         0.027389,  0.979064,  0.459848,  0.94023 ,  0.53388 ,  0.180477,\n",
       "         0.246591,  0.806299,  0.300615,  0.514723,  0.409931,  0.742665,\n",
       "         0.529634,  0.042235,  0.790286,  0.468778,  0.767805,  0.227243,\n",
       "         0.975122,  0.208906,  0.535606,  0.678534,  0.682611,  0.036473,\n",
       "         0.336122,  0.912497,  0.125563,  0.625957,  0.342902,  0.774936,\n",
       "         0.202806,  0.788489,  0.221658,  0.437429,  0.217475,  0.243177,\n",
       "         0.535443,  0.109931,  0.690661,  0.491969,  0.740173,  0.517601,\n",
       "         0.968944,  0.332028,  0.59035 ,  0.543119,  0.762914,  0.132806,\n",
       "         0.115331,  0.856434,  0.704297,  0.659114,  0.536418,  0.68715 ,\n",
       "         0.584832,  0.630792,  0.326996,  0.953234,  0.891991,  0.056535,\n",
       "         0.295192,  0.616057,  0.080487,  0.430746,  0.424362,  0.461756,\n",
       "         0.103807,  0.95177 ,  0.535279, -0.016391,  0.018723,  0.218272,\n",
       "         0.954695,  0.373026,  0.928781,  0.921936,  0.329746,  0.948229,\n",
       "         0.165879,  0.634706,  0.884911,  0.49145 ,  0.372169,  0.532328,\n",
       "         0.865439,  0.064461,  0.499489,  0.743362,  0.545651, -0.011505,\n",
       "         0.821346,  0.485191,  0.721736,  0.183108,  0.601801,  0.186655,\n",
       "         0.275144,  0.229626,  0.696849,  0.712007,  0.531759,  0.149391,\n",
       "         0.827654, -0.013433,  0.658153,  0.496586,  0.724302,  0.416511,\n",
       "         0.996057,  0.134867,  0.907888,  0.428624,  0.395567,  0.824913,\n",
       "         0.309442,  0.640239,  0.531366,  0.047631,  0.504097,  0.070615,\n",
       "         0.765971,  0.270784,  0.783813,  0.489253,  0.798514,  0.303403,\n",
       "         0.472938,  0.14439 ,  0.567747,  0.393168,  0.864794,  0.431671,\n",
       "         0.530897,  0.968537,  0.677159,  0.703782,  0.834408,  0.349045,\n",
       "         0.149398,  0.577188,  0.758778,  0.003896,  0.285735,  0.374027,\n",
       "         0.825887,  0.779067,  0.008418,  0.770621,  0.530227,  0.055909,\n",
       "         0.896095,  0.347689,  0.145146,  0.33988 ,  0.289949,  0.970957,\n",
       "         0.570856,  0.696159,  0.639837,  0.333102,  0.465678,  0.214556,\n",
       "         0.428309,  0.469145,  0.529874,  0.269314,  0.156433,  0.87632 ,\n",
       "         0.302263,  0.412825,  0.730055,  0.221879,  0.848303,  0.274947,\n",
       "         0.803744,  0.742515,  0.299006,  0.651566,  0.987863,  0.462363],\n",
       "       [ 0.672049, -0.306174, -0.843687, -0.442573,  0.907238,  0.790796,\n",
       "         0.520708,  0.287233,  0.098477,  0.417035, -0.874402,  0.07737 ,\n",
       "        -0.460928,  0.277682,  0.205442,  0.947821,  0.670248,  0.288458,\n",
       "        -0.882829,  0.382693,  0.081218, -0.609858,  0.796174,  0.542407,\n",
       "        -0.544403,  0.103199, -0.391789,  0.251161, -0.894383,  0.807463,\n",
       "        -0.429637,  0.601352, -0.66856 ,  0.79332 , -0.803392,  0.753802,\n",
       "        -0.289159, -0.520906, -0.377372, -0.214814, -0.038244, -0.995056,\n",
       "        -0.422917,  0.097428,  0.562211, -0.999348,  0.347206, -0.009909,\n",
       "        -0.668341,  0.596294, -0.197271, -0.975369,  0.749578,  0.661451,\n",
       "         0.183086, -0.005058, -0.477354, -0.834387, -0.635016, -0.366665,\n",
       "         0.783971,  0.810136,  0.476837,  0.607893, -0.667284, -0.065438,\n",
       "        -0.157044, -0.736237,  0.104312, -0.870552,  0.422089, -0.876172,\n",
       "         0.523576, -0.027051,  0.523252,  0.651709, -0.050847,  0.542237,\n",
       "        -0.252472,  0.937583, -0.668358, -0.515673,  0.357488, -0.700061,\n",
       "        -0.149312, -0.044633, -0.720002,  0.839073,  0.343118,  0.778428,\n",
       "        -0.325222, -0.799087, -0.245111, -0.936939,  0.547281, -0.677373,\n",
       "         0.389781, -0.927152,  0.17332 , -0.70134 ,  0.35153 ,  0.52517 ,\n",
       "         0.926328, -0.655882, -0.255703, -0.361759,  0.776553,  0.973122,\n",
       "         0.113894, -0.178595, -0.167778,  0.082437, -0.676014,  0.049691,\n",
       "        -0.674366, -0.196798,  0.950508,  0.703482,  0.258913,  0.230998,\n",
       "         0.625928,  0.952386, -0.341599, -0.61119 , -0.246475, -0.713119,\n",
       "        -0.211698, -0.380788, -0.673278, -0.658244, -0.641642, -0.668434,\n",
       "         0.588045,  0.268853,  0.540663,  0.33712 , -0.93612 ,  0.625351,\n",
       "        -0.967807, -0.043055,  0.616475, -0.025172,  0.933837,  0.615362,\n",
       "        -0.675215, -0.373968, -0.678676, -0.181523, -0.339992,  0.077026,\n",
       "         0.156768,  0.638833,  0.795578, -0.038415, -0.625884,  0.323149,\n",
       "        -0.881882, -0.470951,  0.624523, -0.717668, -0.67453 ,  0.271184,\n",
       "         0.685443,  0.391778,  0.838801,  0.045028,  0.414531,  0.944877,\n",
       "        -0.782252, -0.53881 , -0.995467, -0.042342, -0.361697, -0.807025,\n",
       "        -0.931956, -0.238695, -0.676437, -0.857938,  0.14427 ,  0.772561,\n",
       "        -0.050296,  0.094319,  0.2126  ,  0.386457, -0.433583,  0.285062,\n",
       "        -0.523905, -0.722912, -0.141315,  0.870418,  0.915764, -0.676463,\n",
       "         0.027548, -0.750342, -0.844067, -0.486362,  0.279128,  0.00191 ,\n",
       "         0.173852, -0.823235,  0.580299, -0.84014 , -0.475599, -0.960631,\n",
       "        -0.634137,  0.147136,  0.546618,  0.482381, -0.678061,  0.311409,\n",
       "        -0.043732,  0.699289,  0.69582 , -0.391076, -0.484491,  0.721621,\n",
       "        -0.018958,  0.895558, -0.416075,  0.866071,  0.453314, -0.557735,\n",
       "        -0.242589, -0.394739, -0.67947 ,  0.980997,  0.175789, -0.465479,\n",
       "         0.416705,  0.940153,  0.554824,  0.034184, -0.466324,  0.387049,\n",
       "        -0.865574,  0.393224, -0.823179, -0.535974, -0.242045, -0.25437 ,\n",
       "        -0.67979 , -0.145106,  0.724827,  0.047029, -0.121585,  0.351375,\n",
       "         0.987396, -0.797104,  0.650348, -0.629139,  0.486046, -0.771789,\n",
       "         0.263203,  0.406558, -0.542351,  0.172471, -0.681431, -0.148206,\n",
       "        -0.4438  ,  0.72706 , -0.960087, -0.156524, -0.904984,  0.202495,\n",
       "         0.726668, -0.125274,  0.075063,  0.689642,  0.821653, -0.544083,\n",
       "        -0.648099, -0.588413, -0.682837,  0.794952,  0.986892, -0.276221,\n",
       "         0.894873, -0.771916,  0.633929,  0.163463, -0.348764, -0.093233,\n",
       "        -0.486236, -0.388279, -0.877101, -0.211416,  0.008873,  0.626741],\n",
       "       [-0.504365, -0.251672, -0.376249,  0.891363, -0.367606,  0.444788,\n",
       "        -0.469267,  0.896275, -0.797274,  0.104333, -0.453434,  0.962807,\n",
       "         0.269331, -0.868835, -0.060642, -0.125054, -0.506149,  0.318691,\n",
       "        -0.200209,  0.91799 , -0.651772,  0.57726 , -0.57501 , -0.280381,\n",
       "        -0.781474,  0.708623, -0.809024,  0.555003,  0.324607,  0.333492,\n",
       "        -0.250814, -0.609855,  0.507857,  0.530282,  0.053116, -0.218525,\n",
       "         0.931544,  0.820409, -0.379628,  0.378282, -0.957936,  0.094084,\n",
       "         0.703325, -0.543984,  0.790117, -0.035905, -0.496037, -0.010733,\n",
       "         0.50791 ,  0.801747,  0.246791, -0.207562,  0.154727, -0.747735,\n",
       "        -0.968912,  0.746438, -0.75539 ,  0.329035, -0.418124, -0.636654,\n",
       "        -0.618683, -0.065743,  0.65592 ,  0.258386,  0.509436, -0.989147,\n",
       "         0.783379, -0.019359, -0.067658, -0.487203, -0.351427,  0.406993,\n",
       "        -0.74543 ,  0.406857,  0.590803, -0.03778 ,  0.962093, -0.615219,\n",
       "        -0.959068, -0.015156,  0.510168,  0.125403, -0.870877,  0.464462,\n",
       "        -0.733479, -0.363053, -0.68955 ,  0.51601 ,  0.770914, -0.28339 ,\n",
       "         0.785284,  0.574491, -0.670139, -0.021728,  0.11945 ,  0.50789 ,\n",
       "         0.428795, -0.141968,  0.27332 , -0.490409, -0.92936 , -0.135605,\n",
       "         0.230273, -0.675142,  0.955233, -0.063918, -0.416952,  0.224884,\n",
       "        -0.993115,  0.097663, -0.872003, -0.330412,  0.507914,  0.982323,\n",
       "         0.696005,  0.55781 ,  0.078509, -0.490074,  0.874597,  0.62856 ,\n",
       "         0.572453, -0.301954, -0.508682,  0.637725,  0.591376,  0.66319 ,\n",
       "        -0.065729, -0.900754,  0.509727,  0.326046, -0.349768, -0.742877,\n",
       "         0.73568 , -0.308329, -0.831815, -0.703226,  0.078087, -0.0917  ,\n",
       "         0.14906 , -0.61354 , -0.75553 , -0.8989  , -0.283993,  0.749796,\n",
       "         0.507331, -0.920903, -0.249772,  0.851478,  0.580129,  0.852148,\n",
       "         0.191235, -0.694009,  0.136167, -0.838776, -0.161961,  0.936983,\n",
       "        -0.457145,  0.211485,  0.337544,  0.224769,  0.507211, -0.674006,\n",
       "         0.433751, -0.669784, -0.435299,  0.298861,  0.18032 ,  0.322507,\n",
       "        -0.548583, -0.574593,  0.050667,  0.901479,  0.830115, -0.368092,\n",
       "         0.347392,  0.192764,  0.505874,  0.51349 ,  0.989361,  0.596244,\n",
       "        -0.293305, -0.923014, -0.303591, -0.026159,  0.838613, -0.140002,\n",
       "         0.835468,  0.273031, -0.443804,  0.029138, -0.151214,  0.508944,\n",
       "         0.500256, -0.657899, -0.195093, -0.4592  ,  0.79016 ,  0.999932,\n",
       "         0.543292,  0.294743, -0.377291,  0.510525, -0.641592, -0.205785,\n",
       "        -0.722611, -0.962092, -0.464337,  0.510249,  0.50741 , -0.938459,\n",
       "         0.559532, -0.714712, -0.287519, -0.774895,  0.490565,  0.552975,\n",
       "         0.086665,  0.424013, -0.051208, -0.257296,  0.79877 , -0.091929,\n",
       "        -0.919454,  0.658995,  0.505934, -0.188081, -0.845567, -0.882237,\n",
       "        -0.489536,  0.206851,  0.27894 ,  0.871472,  0.380679, -0.870712,\n",
       "         0.164653,  0.908034, -0.006296,  0.747095, -0.439938, -0.865422,\n",
       "         0.505998, -0.202187,  0.126813,  0.708857, -0.537568,  0.868736,\n",
       "         0.052245, -0.177425,  0.036088,  0.777282, -0.825902,  0.514242,\n",
       "        -0.498633,  0.477248, -0.84011 , -0.613512,  0.504491,  0.987374,\n",
       "        -0.007525, -0.592027, -0.239093,  0.927352, -0.311342,  0.12743 ,\n",
       "         0.382201,  0.706873, -0.764836, -0.64299 ,  0.32868 , -0.811135,\n",
       "         0.629697, -0.658538,  0.502958, -0.543617, -0.03964 ,  0.394672,\n",
       "         0.328387,  0.483445, -0.255251,  0.961275,  0.398429, -0.956928,\n",
       "        -0.342886, -0.545812, -0.375885,  0.728536, -0.155074,  0.627228]])"
      ]
     },
     "execution_count": 78,
     "metadata": {},
     "output_type": "execute_result"
    }
   ],
   "source": [
    "n_100206_all"
   ]
  },
  {
   "cell_type": "code",
   "execution_count": 36,
   "id": "c342f5b6-48cd-4080-970d-3910e93a60cb",
   "metadata": {
    "collapsed": true,
    "jupyter": {
     "outputs_hidden": true
    },
    "tags": []
   },
   "outputs": [
    {
     "data": {
      "text/plain": [
       "array([[-0.542752,  0.9029  ,  0.424887,  0.104118,  0.754053,  0.542995,\n",
       "         0.188334,  0.791947,  0.304834,  0.697999,  0.438156,  0.793026,\n",
       "         0.307747,  0.486607,  0.86747 ,  0.516189,  0.543239,  0.299074,\n",
       "         0.593076,  0.6197  ,  0.220479,  0.235762,  0.844673,  0.900421,\n",
       "         0.28442 ,  0.03179 ,  0.571379,  0.83342 ,  0.244202, -0.003766,\n",
       "         0.795861,  0.999893,  0.543458,  0.040432,  0.948777,  0.074647,\n",
       "         0.643578,  0.058086,  0.166397,  0.665435,  0.448909,  0.442191,\n",
       "         0.649559,  0.678402,  0.051182,  0.582544,  0.585146,  0.750801,\n",
       "         0.543328,  0.131552,  0.601377,  0.676446,  0.992241,  0.069078,\n",
       "         0.835667,  0.258221,  0.412554,  0.913091,  0.614133, -0.757527,\n",
       "         0.267939,  0.572262,  0.128238,  0.34743 ,  0.541318,  0.847558,\n",
       "         0.337305,  0.542391,  0.66311 ,  0.930699,  0.078221,  0.172307,\n",
       "         0.53662 ,  0.560125,  0.526839,  0.177254,  0.700596,  0.348817,\n",
       "         0.828381,  0.53388 ,  0.180477,  0.246591,  0.806299,  0.300615,\n",
       "         0.514723,  0.409931,  0.742665,  0.529634,  0.042235,  0.790286,\n",
       "         0.468778,  0.767805,  0.227243,  0.975122,  0.208906,  0.535606,\n",
       "         0.678534,  0.682611,  0.036473,  0.336122,  0.912497,  0.125563,\n",
       "         0.625957,  0.342902,  0.774936,  0.202806,  0.788489,  0.221658,\n",
       "         0.437429,  0.217475,  0.243177,  0.531366,  0.047631,  0.504097,\n",
       "         0.070615,  0.765971,  0.270784,  0.783813,  0.489253,  0.798514,\n",
       "         0.303403,  0.472938,  0.14439 ,  0.567747,  0.393168,  0.864794,\n",
       "         0.431671,  0.530227,  0.055909,  0.896095,  0.347689,  0.145146,\n",
       "         0.33988 ,  0.289949,  0.970957,  0.570856,  0.696159,  0.639837,\n",
       "         0.333102,  0.465678,  0.214556,  0.428309,  0.469145],\n",
       "       [ 0.670248,  0.288458, -0.882829,  0.382693,  0.081218, -0.609858,\n",
       "         0.796174,  0.542407, -0.544403,  0.103199, -0.391789,  0.251161,\n",
       "        -0.894383,  0.807463, -0.429637,  0.601352, -0.66856 ,  0.79332 ,\n",
       "        -0.803392,  0.753802, -0.289159, -0.520906, -0.377372, -0.214814,\n",
       "        -0.038244, -0.995056, -0.422917,  0.097428,  0.562211, -0.999348,\n",
       "         0.347206, -0.009909, -0.668341,  0.596294, -0.197271, -0.975369,\n",
       "         0.749578,  0.661451,  0.183086, -0.005058, -0.477354, -0.834387,\n",
       "        -0.635016, -0.366665,  0.783971,  0.810136,  0.476837,  0.607893,\n",
       "        -0.667284, -0.065438, -0.157044, -0.736237,  0.104312, -0.870552,\n",
       "         0.422089, -0.876172,  0.523576, -0.027051,  0.523252,  0.651709,\n",
       "        -0.050847,  0.542237, -0.252472,  0.937583, -0.668358, -0.515673,\n",
       "         0.357488, -0.700061, -0.149312, -0.044633, -0.720002,  0.839073,\n",
       "         0.343118,  0.778428, -0.325222, -0.799087, -0.245111, -0.936939,\n",
       "         0.547281, -0.676014,  0.049691, -0.674366, -0.196798,  0.950508,\n",
       "         0.703482,  0.258913,  0.230998,  0.625928,  0.952386, -0.341599,\n",
       "        -0.61119 , -0.246475, -0.713119, -0.211698, -0.380788, -0.673278,\n",
       "        -0.658244, -0.641642, -0.668434,  0.588045,  0.268853,  0.540663,\n",
       "         0.33712 , -0.93612 ,  0.625351, -0.967807, -0.043055,  0.616475,\n",
       "        -0.025172,  0.933837,  0.615362, -0.67947 ,  0.980997,  0.175789,\n",
       "        -0.465479,  0.416705,  0.940153,  0.554824,  0.034184, -0.466324,\n",
       "         0.387049, -0.865574,  0.393224, -0.823179, -0.535974, -0.242045,\n",
       "        -0.25437 , -0.681431, -0.148206, -0.4438  ,  0.72706 , -0.960087,\n",
       "        -0.156524, -0.904984,  0.202495,  0.726668, -0.125274,  0.075063,\n",
       "         0.689642,  0.821653, -0.544083, -0.648099, -0.588413],\n",
       "       [-0.506149,  0.318691, -0.200209,  0.91799 , -0.651772,  0.57726 ,\n",
       "        -0.57501 , -0.280381, -0.781474,  0.708623, -0.809024,  0.555003,\n",
       "         0.324607,  0.333492, -0.250814, -0.609855,  0.507857,  0.530282,\n",
       "         0.053116, -0.218525,  0.931544,  0.820409, -0.379628,  0.378282,\n",
       "        -0.957936,  0.094084,  0.703325, -0.543984,  0.790117, -0.035905,\n",
       "        -0.496037, -0.010733,  0.50791 ,  0.801747,  0.246791, -0.207562,\n",
       "         0.154727, -0.747735, -0.968912,  0.746438, -0.75539 ,  0.329035,\n",
       "        -0.418124, -0.636654, -0.618683, -0.065743,  0.65592 ,  0.258386,\n",
       "         0.509436, -0.989147,  0.783379, -0.019359, -0.067658, -0.487203,\n",
       "        -0.351427,  0.406993, -0.74543 ,  0.406857,  0.590803, -0.03778 ,\n",
       "         0.962093, -0.615219, -0.959068, -0.015156,  0.510168,  0.125403,\n",
       "        -0.870877,  0.464462, -0.733479, -0.363053, -0.68955 ,  0.51601 ,\n",
       "         0.770914, -0.28339 ,  0.785284,  0.574491, -0.670139, -0.021728,\n",
       "         0.11945 ,  0.507914,  0.982323,  0.696005,  0.55781 ,  0.078509,\n",
       "        -0.490074,  0.874597,  0.62856 ,  0.572453, -0.301954, -0.508682,\n",
       "         0.637725,  0.591376,  0.66319 , -0.065729, -0.900754,  0.509727,\n",
       "         0.326046, -0.349768, -0.742877,  0.73568 , -0.308329, -0.831815,\n",
       "        -0.703226,  0.078087, -0.0917  ,  0.14906 , -0.61354 , -0.75553 ,\n",
       "        -0.8989  , -0.283993,  0.749796,  0.505934, -0.188081, -0.845567,\n",
       "        -0.882237, -0.489536,  0.206851,  0.27894 ,  0.871472,  0.380679,\n",
       "        -0.870712,  0.164653,  0.908034, -0.006296,  0.747095, -0.439938,\n",
       "        -0.865422,  0.504491,  0.987374, -0.007525, -0.592027, -0.239093,\n",
       "         0.927352, -0.311342,  0.12743 ,  0.382201,  0.706873, -0.764836,\n",
       "        -0.64299 ,  0.32868 , -0.811135,  0.629697, -0.658538]])"
      ]
     },
     "execution_count": 36,
     "metadata": {},
     "output_type": "execute_result"
    }
   ],
   "source": [
    "n_100206_half"
   ]
  },
  {
   "cell_type": "code",
   "execution_count": 79,
   "id": "f73b8716-ce67-4a97-9223-574afa1e68c6",
   "metadata": {},
   "outputs": [
    {
     "name": "stdout",
     "output_type": "stream",
     "text": [
      "(135, 3)\n"
     ]
    }
   ],
   "source": [
    "n_100206_half_no_b5 = n_100206_half[:,big_b_indices_100206_half].T\n",
    "print(n_100206_half_no_b5.shape)\n",
    "\n",
    "b_values_100206_half_no_b5 = torch.FloatTensor(bvals_100206_half_no_b5)\n",
    "gradient_directions_100206_half_no_b5 = torch.FloatTensor(n_100206_half_no_b5)\n",
    "\n",
    "net = BallStickNet(gradient_directions_100206_half_no_b5, b_values_100206_half_no_b5)\n",
    "\n",
    "criterion = nn.MSELoss()\n",
    "optimizer = optim.Adam(net.parameters(), lr = 0.00001)"
   ]
  },
  {
   "cell_type": "code",
   "execution_count": 80,
   "id": "a6273e86-2704-4c77-ade5-7e41254f37b3",
   "metadata": {},
   "outputs": [],
   "source": [
    "batch_size = 128\n",
    "num_batches = len(normalized_scan_100206_half_no_b5) // batch_size\n",
    "trainloader = utils.DataLoader(torch.from_numpy(normalized_scan_100206_half_no_b5.astype(np.float32)),\n",
    "                            batch_size = batch_size, \n",
    "                            shuffle = True,\n",
    "                            num_workers = 2,\n",
    "                            drop_last = True)"
   ]
  },
  {
   "cell_type": "code",
   "execution_count": null,
   "id": "1183802a-cea7-42f6-acc5-5d3ba74cb096",
   "metadata": {
    "tags": []
   },
   "outputs": [
    {
     "name": "stdout",
     "output_type": "stream",
     "text": [
      "-----------------------------------------------------------------\n",
      "Epoch: 0; Bad epochs: 0\n"
     ]
    },
    {
     "name": "stderr",
     "output_type": "stream",
     "text": [
      "100%|█████████████████████████████████████████████████████████████████████████████████████████████████████████████████████████████████████████████████████████████| 7307/7307 [00:36<00:00, 199.93it/s]\n"
     ]
    },
    {
     "name": "stdout",
     "output_type": "stream",
     "text": [
      "Loss: 325393.6607032716\n",
      "Average Loss: 44.53177236940901\n",
      "############### Saving good model ###############################\n",
      "-----------------------------------------------------------------\n",
      "Epoch: 1; Bad epochs: 0\n"
     ]
    },
    {
     "name": "stderr",
     "output_type": "stream",
     "text": [
      "100%|█████████████████████████████████████████████████████████████████████████████████████████████████████████████████████████████████████████████████████████████| 7307/7307 [00:43<00:00, 167.37it/s]\n"
     ]
    },
    {
     "name": "stdout",
     "output_type": "stream",
     "text": [
      "Loss: 324398.26676074415\n",
      "Average Loss: 44.395547661248685\n",
      "############### Saving good model ###############################\n",
      "-----------------------------------------------------------------\n",
      "Epoch: 2; Bad epochs: 0\n"
     ]
    },
    {
     "name": "stderr",
     "output_type": "stream",
     "text": [
      "100%|█████████████████████████████████████████████████████████████████████████████████████████████████████████████████████████████████████████████████████████████| 7307/7307 [00:37<00:00, 194.71it/s]\n"
     ]
    },
    {
     "name": "stdout",
     "output_type": "stream",
     "text": [
      "Loss: 324160.6664533019\n",
      "Average Loss: 44.36303085442752\n",
      "############### Saving good model ###############################\n",
      "-----------------------------------------------------------------\n",
      "Epoch: 3; Bad epochs: 0\n"
     ]
    },
    {
     "name": "stderr",
     "output_type": "stream",
     "text": [
      "100%|█████████████████████████████████████████████████████████████████████████████████████████████████████████████████████████████████████████████████████████████| 7307/7307 [00:33<00:00, 215.41it/s]\n"
     ]
    },
    {
     "name": "stdout",
     "output_type": "stream",
     "text": [
      "Loss: 324150.5673895851\n",
      "Average Loss: 44.36164874635077\n",
      "############### Saving good model ###############################\n",
      "-----------------------------------------------------------------\n",
      "Epoch: 4; Bad epochs: 0\n"
     ]
    },
    {
     "name": "stderr",
     "output_type": "stream",
     "text": [
      "100%|█████████████████████████████████████████████████████████████████████████████████████████████████████████████████████████████████████████████████████████████| 7307/7307 [00:33<00:00, 216.46it/s]\n"
     ]
    },
    {
     "name": "stdout",
     "output_type": "stream",
     "text": [
      "Loss: 324141.3444099277\n",
      "Average Loss: 44.360386534819725\n",
      "############### Saving good model ###############################\n",
      "-----------------------------------------------------------------\n",
      "Epoch: 5; Bad epochs: 0\n"
     ]
    },
    {
     "name": "stderr",
     "output_type": "stream",
     "text": [
      "100%|█████████████████████████████████████████████████████████████████████████████████████████████████████████████████████████████████████████████████████████████| 7307/7307 [00:53<00:00, 137.56it/s]\n"
     ]
    },
    {
     "name": "stdout",
     "output_type": "stream",
     "text": [
      "Loss: 324138.64596477896\n",
      "Average Loss: 44.3600172389187\n",
      "############### Saving good model ###############################\n",
      "-----------------------------------------------------------------\n",
      "Epoch: 6; Bad epochs: 0\n"
     ]
    },
    {
     "name": "stderr",
     "output_type": "stream",
     "text": [
      "100%|█████████████████████████████████████████████████████████████████████████████████████████████████████████████████████████████████████████████████████████████| 7307/7307 [00:47<00:00, 153.98it/s]\n"
     ]
    },
    {
     "name": "stdout",
     "output_type": "stream",
     "text": [
      "Loss: 324136.65210630745\n",
      "Average Loss: 44.35974436927705\n",
      "############### Saving good model ###############################\n",
      "-----------------------------------------------------------------\n",
      "Epoch: 7; Bad epochs: 0\n"
     ]
    },
    {
     "name": "stderr",
     "output_type": "stream",
     "text": [
      "100%|█████████████████████████████████████████████████████████████████████████████████████████████████████████████████████████████████████████████████████████████| 7307/7307 [00:46<00:00, 155.93it/s]\n"
     ]
    },
    {
     "name": "stdout",
     "output_type": "stream",
     "text": [
      "Loss: 324133.7430034429\n",
      "Average Loss: 44.35934624379949\n",
      "############### Saving good model ###############################\n",
      "-----------------------------------------------------------------\n",
      "Epoch: 8; Bad epochs: 0\n"
     ]
    },
    {
     "name": "stderr",
     "output_type": "stream",
     "text": [
      "100%|█████████████████████████████████████████████████████████████████████████████████████████████████████████████████████████████████████████████████████████████| 7307/7307 [00:38<00:00, 190.62it/s]\n"
     ]
    },
    {
     "name": "stdout",
     "output_type": "stream",
     "text": [
      "Loss: 324134.7565064877\n",
      "Average Loss: 44.35948494683012\n",
      "-----------------------------------------------------------------\n",
      "Epoch: 9; Bad epochs: 1\n"
     ]
    },
    {
     "name": "stderr",
     "output_type": "stream",
     "text": [
      "100%|█████████████████████████████████████████████████████████████████████████████████████████████████████████████████████████████████████████████████████████████| 7307/7307 [00:38<00:00, 187.66it/s]\n"
     ]
    },
    {
     "name": "stdout",
     "output_type": "stream",
     "text": [
      "Loss: 324131.03735306114\n",
      "Average Loss: 44.358975961825806\n",
      "############### Saving good model ###############################\n",
      "-----------------------------------------------------------------\n",
      "Epoch: 10; Bad epochs: 0\n"
     ]
    },
    {
     "name": "stderr",
     "output_type": "stream",
     "text": [
      "  2%|███                                                                                                                                                           | 143/7307 [00:03<00:51, 138.41it/s]"
     ]
    },
    {
     "name": "stdout",
     "output_type": "stream",
     "text": [
      "X_batch: \n",
      "torch.Size([128, 135])\n",
      "tensor([[0.5028, 0.2746, 0.1948,  ..., 0.5177, 0.2713, 0.1380],\n",
      "        [0.1193, 0.1306, 0.0875,  ..., 0.1065, 0.0822, 0.1308],\n",
      "        [0.3550, 0.2073, 0.1561,  ..., 0.4132, 0.2306, 0.1472],\n",
      "        ...,\n",
      "        [0.5026, 0.2786, 0.3600,  ..., 0.4287, 0.3524, 0.1712],\n",
      "        [0.4553, 0.3153, 0.2588,  ..., 0.4262, 0.2271, 0.3311],\n",
      "        [0.5454, 0.3189, 0.3434,  ..., 0.5566, 0.3270, 0.2784]])\n",
      "X_pred: \n",
      "torch.Size([128, 135])\n",
      "tensor([[6.0645e-01, 4.3219e-01, 1.6412e-04,  ..., 2.3807e-01, 9.1561e-01,\n",
      "         5.1618e-03],\n",
      "        [6.3418e-01, 5.6448e-01, 2.2084e-04,  ..., 2.1318e-01, 9.1067e-01,\n",
      "         8.8810e-03],\n",
      "        [6.8993e-01, 5.9135e-01, 2.6975e-04,  ..., 2.2439e-01, 8.6109e-01,\n",
      "         1.3502e-02],\n",
      "        ...,\n",
      "        [5.7635e-01, 6.2560e-01, 2.2181e-04,  ..., 1.8521e-01, 9.6047e-01,\n",
      "         7.3215e-03],\n",
      "        [7.2862e-01, 6.7916e-01, 3.7147e-04,  ..., 2.1890e-01, 8.3671e-01,\n",
      "         2.1558e-02],\n",
      "        [5.8884e-01, 6.0212e-01, 2.1621e-04,  ..., 1.9295e-01, 9.5037e-01,\n",
      "         7.4147e-03]], grad_fn=<AddBackward0>)\n"
     ]
    },
    {
     "name": "stderr",
     "output_type": "stream",
     "text": [
      "100%|█████████████████████████████████████████████████████████████████████████████████████████████████████████████████████████████████████████████████████████████| 7307/7307 [00:33<00:00, 215.44it/s]\n"
     ]
    },
    {
     "name": "stdout",
     "output_type": "stream",
     "text": [
      "Loss: 324133.69341958314\n",
      "Average Loss: 44.359339457996875\n",
      "-----------------------------------------------------------------\n",
      "Epoch: 11; Bad epochs: 1\n"
     ]
    },
    {
     "name": "stderr",
     "output_type": "stream",
     "text": [
      "100%|█████████████████████████████████████████████████████████████████████████████████████████████████████████████████████████████████████████████████████████████| 7307/7307 [00:34<00:00, 213.64it/s]\n"
     ]
    },
    {
     "name": "stdout",
     "output_type": "stream",
     "text": [
      "Loss: 324130.3153180331\n",
      "Average Loss: 44.35887714767115\n",
      "############### Saving good model ###############################\n",
      "-----------------------------------------------------------------\n",
      "Epoch: 12; Bad epochs: 0\n"
     ]
    },
    {
     "name": "stderr",
     "output_type": "stream",
     "text": [
      "100%|█████████████████████████████████████████████████████████████████████████████████████████████████████████████████████████████████████████████████████████████| 7307/7307 [00:32<00:00, 221.60it/s]\n"
     ]
    },
    {
     "name": "stdout",
     "output_type": "stream",
     "text": [
      "Loss: 324131.9293021932\n",
      "Average Loss: 44.35909802958714\n",
      "-----------------------------------------------------------------\n",
      "Epoch: 13; Bad epochs: 1\n"
     ]
    },
    {
     "name": "stderr",
     "output_type": "stream",
     "text": [
      "100%|█████████████████████████████████████████████████████████████████████████████████████████████████████████████████████████████████████████████████████████████| 7307/7307 [00:33<00:00, 220.07it/s]\n"
     ]
    },
    {
     "name": "stdout",
     "output_type": "stream",
     "text": [
      "Loss: 324130.7710960433\n",
      "Average Loss: 44.35893952320286\n",
      "-----------------------------------------------------------------\n",
      "Epoch: 14; Bad epochs: 2\n"
     ]
    },
    {
     "name": "stderr",
     "output_type": "stream",
     "text": [
      "100%|█████████████████████████████████████████████████████████████████████████████████████████████████████████████████████████████████████████████████████████████| 7307/7307 [00:33<00:00, 219.22it/s]\n"
     ]
    },
    {
     "name": "stdout",
     "output_type": "stream",
     "text": [
      "Loss: 324126.718454808\n",
      "Average Loss: 44.35838489870097\n",
      "############### Saving good model ###############################\n",
      "-----------------------------------------------------------------\n",
      "Epoch: 15; Bad epochs: 0\n"
     ]
    },
    {
     "name": "stderr",
     "output_type": "stream",
     "text": [
      "100%|█████████████████████████████████████████████████████████████████████████████████████████████████████████████████████████████████████████████████████████████| 7307/7307 [00:33<00:00, 218.12it/s]\n"
     ]
    },
    {
     "name": "stdout",
     "output_type": "stream",
     "text": [
      "Loss: 324125.96678330004\n",
      "Average Loss: 44.35828202864377\n",
      "############### Saving good model ###############################\n",
      "-----------------------------------------------------------------\n",
      "Epoch: 16; Bad epochs: 0\n"
     ]
    },
    {
     "name": "stderr",
     "output_type": "stream",
     "text": [
      "100%|█████████████████████████████████████████████████████████████████████████████████████████████████████████████████████████████████████████████████████████████| 7307/7307 [00:33<00:00, 215.22it/s]\n"
     ]
    },
    {
     "name": "stdout",
     "output_type": "stream",
     "text": [
      "Loss: 324122.9507879615\n",
      "Average Loss: 44.357869274389145\n",
      "############### Saving good model ###############################\n",
      "-----------------------------------------------------------------\n",
      "Epoch: 17; Bad epochs: 0\n"
     ]
    },
    {
     "name": "stderr",
     "output_type": "stream",
     "text": [
      "100%|█████████████████████████████████████████████████████████████████████████████████████████████████████████████████████████████████████████████████████████████| 7307/7307 [00:46<00:00, 157.82it/s]\n"
     ]
    },
    {
     "name": "stdout",
     "output_type": "stream",
     "text": [
      "Loss: 324121.2359092012\n",
      "Average Loss: 44.35763458453554\n",
      "############### Saving good model ###############################\n",
      "-----------------------------------------------------------------\n",
      "Epoch: 18; Bad epochs: 0\n"
     ]
    },
    {
     "name": "stderr",
     "output_type": "stream",
     "text": [
      "100%|█████████████████████████████████████████████████████████████████████████████████████████████████████████████████████████████████████████████████████████████| 7307/7307 [00:42<00:00, 172.74it/s]\n"
     ]
    },
    {
     "name": "stdout",
     "output_type": "stream",
     "text": [
      "Loss: 324123.8491723612\n",
      "Average Loss: 44.35799222284949\n",
      "-----------------------------------------------------------------\n",
      "Epoch: 19; Bad epochs: 1\n"
     ]
    },
    {
     "name": "stderr",
     "output_type": "stream",
     "text": [
      "100%|█████████████████████████████████████████████████████████████████████████████████████████████████████████████████████████████████████████████████████████████| 7307/7307 [00:43<00:00, 168.11it/s]\n"
     ]
    },
    {
     "name": "stdout",
     "output_type": "stream",
     "text": [
      "Loss: 324123.0074363351\n",
      "Average Loss: 44.35787702700631\n",
      "-----------------------------------------------------------------\n",
      "Epoch: 20; Bad epochs: 2\n"
     ]
    },
    {
     "name": "stderr",
     "output_type": "stream",
     "text": [
      "100%|█████████████████████████████████████████████████████████████████████████████████████████████████████████████████████████████████████████████████████████████| 7307/7307 [00:36<00:00, 200.62it/s]\n"
     ]
    },
    {
     "name": "stdout",
     "output_type": "stream",
     "text": [
      "Loss: 324122.90205204487\n",
      "Average Loss: 44.35786260463184\n",
      "-----------------------------------------------------------------\n",
      "Epoch: 21; Bad epochs: 3\n"
     ]
    },
    {
     "name": "stderr",
     "output_type": "stream",
     "text": [
      "100%|█████████████████████████████████████████████████████████████████████████████████████████████████████████████████████████████████████████████████████████████| 7307/7307 [00:43<00:00, 167.07it/s]\n"
     ]
    },
    {
     "name": "stdout",
     "output_type": "stream",
     "text": [
      "Loss: 323514.8001222755\n",
      "Average Loss: 44.27464077217401\n",
      "############### Saving good model ###############################\n",
      "-----------------------------------------------------------------\n",
      "Epoch: 22; Bad epochs: 0\n"
     ]
    },
    {
     "name": "stderr",
     "output_type": "stream",
     "text": [
      "100%|█████████████████████████████████████████████████████████████████████████████████████████████████████████████████████████████████████████████████████████████| 7307/7307 [00:44<00:00, 163.12it/s]\n"
     ]
    },
    {
     "name": "stdout",
     "output_type": "stream",
     "text": [
      "Loss: 323251.68246264616\n",
      "Average Loss: 44.23863178632081\n",
      "############### Saving good model ###############################\n",
      "-----------------------------------------------------------------\n",
      "Epoch: 23; Bad epochs: 0\n"
     ]
    },
    {
     "name": "stderr",
     "output_type": "stream",
     "text": [
      "100%|█████████████████████████████████████████████████████████████████████████████████████████████████████████████████████████████████████████████████████████████| 7307/7307 [00:40<00:00, 181.54it/s]\n"
     ]
    },
    {
     "name": "stdout",
     "output_type": "stream",
     "text": [
      "Loss: 323245.38513113745\n",
      "Average Loss: 44.237769964573346\n",
      "############### Saving good model ###############################\n",
      "-----------------------------------------------------------------\n",
      "Epoch: 24; Bad epochs: 0\n"
     ]
    },
    {
     "name": "stderr",
     "output_type": "stream",
     "text": [
      "100%|█████████████████████████████████████████████████████████████████████████████████████████████████████████████████████████████████████████████████████████████| 7307/7307 [00:42<00:00, 171.48it/s]\n"
     ]
    },
    {
     "name": "stdout",
     "output_type": "stream",
     "text": [
      "Loss: 323246.32951202244\n",
      "Average Loss: 44.237899207885924\n",
      "-----------------------------------------------------------------\n",
      "Epoch: 25; Bad epochs: 1\n"
     ]
    },
    {
     "name": "stderr",
     "output_type": "stream",
     "text": [
      "100%|█████████████████████████████████████████████████████████████████████████████████████████████████████████████████████████████████████████████████████████████| 7307/7307 [00:40<00:00, 181.83it/s]\n"
     ]
    },
    {
     "name": "stdout",
     "output_type": "stream",
     "text": [
      "Loss: 323242.3745959732\n",
      "Average Loss: 44.237357957571255\n",
      "############### Saving good model ###############################\n",
      "-----------------------------------------------------------------\n",
      "Epoch: 26; Bad epochs: 0\n"
     ]
    },
    {
     "name": "stderr",
     "output_type": "stream",
     "text": [
      "100%|█████████████████████████████████████████████████████████████████████████████████████████████████████████████████████████████████████████████████████████████| 7307/7307 [00:38<00:00, 188.33it/s]\n"
     ]
    },
    {
     "name": "stdout",
     "output_type": "stream",
     "text": [
      "Loss: 323239.536289311\n",
      "Average Loss: 44.236969520912965\n",
      "############### Saving good model ###############################\n",
      "-----------------------------------------------------------------\n",
      "Epoch: 27; Bad epochs: 0\n"
     ]
    },
    {
     "name": "stderr",
     "output_type": "stream",
     "text": [
      "100%|█████████████████████████████████████████████████████████████████████████████████████████████████████████████████████████████████████████████████████████████| 7307/7307 [00:39<00:00, 184.16it/s]\n"
     ]
    },
    {
     "name": "stdout",
     "output_type": "stream",
     "text": [
      "Loss: 323235.19197831396\n",
      "Average Loss: 44.23637497992527\n",
      "############### Saving good model ###############################\n",
      "-----------------------------------------------------------------\n",
      "Epoch: 28; Bad epochs: 0\n"
     ]
    },
    {
     "name": "stderr",
     "output_type": "stream",
     "text": [
      "100%|█████████████████████████████████████████████████████████████████████████████████████████████████████████████████████████████████████████████████████████████| 7307/7307 [00:39<00:00, 184.52it/s]\n"
     ]
    },
    {
     "name": "stdout",
     "output_type": "stream",
     "text": [
      "Loss: 323220.9532648879\n",
      "Average Loss: 44.2344263397958\n",
      "############### Saving good model ###############################\n",
      "-----------------------------------------------------------------\n",
      "Epoch: 29; Bad epochs: 0\n"
     ]
    },
    {
     "name": "stderr",
     "output_type": "stream",
     "text": [
      "100%|█████████████████████████████████████████████████████████████████████████████████████████████████████████████████████████████████████████████████████████████| 7307/7307 [00:38<00:00, 188.60it/s]\n"
     ]
    },
    {
     "name": "stdout",
     "output_type": "stream",
     "text": [
      "Loss: 323216.4704739782\n",
      "Average Loss: 44.233812847129904\n",
      "############### Saving good model ###############################\n",
      "-----------------------------------------------------------------\n",
      "Epoch: 30; Bad epochs: 0\n"
     ]
    },
    {
     "name": "stderr",
     "output_type": "stream",
     "text": [
      "100%|█████████████████████████████████████████████████████████████████████████████████████████████████████████████████████████████████████████████████████████████| 7307/7307 [00:37<00:00, 193.11it/s]\n"
     ]
    },
    {
     "name": "stdout",
     "output_type": "stream",
     "text": [
      "Loss: 323221.59255313687\n",
      "Average Loss: 44.23451382963417\n",
      "-----------------------------------------------------------------\n",
      "Epoch: 31; Bad epochs: 1\n"
     ]
    },
    {
     "name": "stderr",
     "output_type": "stream",
     "text": [
      "100%|█████████████████████████████████████████████████████████████████████████████████████████████████████████████████████████████████████████████████████████████| 7307/7307 [00:38<00:00, 189.54it/s]\n"
     ]
    },
    {
     "name": "stdout",
     "output_type": "stream",
     "text": [
      "Loss: 323215.3243308051\n",
      "Average Loss: 44.23365599162517\n",
      "############### Saving good model ###############################\n",
      "-----------------------------------------------------------------\n",
      "Epoch: 32; Bad epochs: 0\n"
     ]
    },
    {
     "name": "stderr",
     "output_type": "stream",
     "text": [
      "100%|█████████████████████████████████████████████████████████████████████████████████████████████████████████████████████████████████████████████████████████████| 7307/7307 [00:38<00:00, 190.38it/s]\n"
     ]
    },
    {
     "name": "stdout",
     "output_type": "stream",
     "text": [
      "Loss: 323216.2413471397\n",
      "Average Loss: 44.23378148996027\n",
      "-----------------------------------------------------------------\n",
      "Epoch: 33; Bad epochs: 1\n"
     ]
    },
    {
     "name": "stderr",
     "output_type": "stream",
     "text": [
      "100%|█████████████████████████████████████████████████████████████████████████████████████████████████████████████████████████████████████████████████████████████| 7307/7307 [00:59<00:00, 123.22it/s]\n"
     ]
    },
    {
     "name": "stdout",
     "output_type": "stream",
     "text": [
      "Loss: 323213.8380296889\n",
      "Average Loss: 44.23345258378116\n",
      "############### Saving good model ###############################\n",
      "-----------------------------------------------------------------\n",
      "Epoch: 34; Bad epochs: 0\n"
     ]
    },
    {
     "name": "stderr",
     "output_type": "stream",
     "text": [
      "100%|█████████████████████████████████████████████████████████████████████████████████████████████████████████████████████████████████████████████████████████████| 7307/7307 [00:35<00:00, 205.14it/s]\n"
     ]
    },
    {
     "name": "stdout",
     "output_type": "stream",
     "text": [
      "Loss: 323213.97126984876\n",
      "Average Loss: 44.23347081837262\n",
      "-----------------------------------------------------------------\n",
      "Epoch: 35; Bad epochs: 1\n"
     ]
    },
    {
     "name": "stderr",
     "output_type": "stream",
     "text": [
      " 33%|████████████████████████████████████████████████████                                                                                                         | 2424/7307 [00:17<00:26, 182.74it/s]"
     ]
    }
   ],
   "source": [
    "loss_list=[]\n",
    "avg_loss_list=[]\n",
    "\n",
    "counter = 0\n",
    "\n",
    "# Best loss\n",
    "best = 1e16\n",
    "num_bad_epochs = 0\n",
    "patience = 10\n",
    "\n",
    "for epoch in range(1000):\n",
    "    print(\"-----------------------------------------------------------------\")\n",
    "    print(\"Epoch: {}; Bad epochs: {}\".format(epoch, num_bad_epochs))\n",
    "    net.train()\n",
    "    running_loss = 0.\n",
    "\n",
    "    for i, X_batch in enumerate(tqdm(trainloader), 0):\n",
    "        optimizer.zero_grad()\n",
    "        X_pred, theta, phi, mu_cart_pred, lambda_par_pred, lambda_iso_pred, volume_0_pred, volume_1_pred = net(X_batch)\n",
    "        if i == 100 and counter == 10:\n",
    "            print(\"X_batch: \")\n",
    "            print(X_batch.shape)\n",
    "            print(X_batch)\n",
    "            print(\"X_pred: \")\n",
    "            print(X_pred.shape)\n",
    "            print(X_pred)\n",
    "        loss = criterion(X_pred.type(torch.FloatTensor), X_batch.type(torch.FloatTensor))\n",
    "        loss.backward()\n",
    "        optimizer.step()\n",
    "        running_loss += loss.item()\n",
    "        \n",
    "    loss_list.append(running_loss)\n",
    "    avg_loss_list.append(running_loss/num_batches)\n",
    "    print(\"Loss: {}\".format(running_loss))\n",
    "    print(\"Average Loss: {}\".format(running_loss/num_batches))\n",
    "    \n",
    "\n",
    "    if running_loss < best:\n",
    "        print(\"############### Saving good model ###############################\")\n",
    "        final_model = net.state_dict()\n",
    "        best = running_loss\n",
    "        num_bad_epochs = 0\n",
    "    else:\n",
    "        num_bad_epochs = num_bad_epochs + 1\n",
    "        if num_bad_epochs == patience:\n",
    "            print(\"Done, best loss: {}\".format(best))\n",
    "            break\n",
    "    counter += 1\n",
    "\n",
    "print(\"Done\") \n",
    "net.load_state_dict(final_model)"
   ]
  },
  {
   "cell_type": "code",
   "execution_count": null,
   "id": "5d050e2b-76e2-4b2d-97ea-989d1c140c2e",
   "metadata": {},
   "outputs": [],
   "source": []
  }
 ],
 "metadata": {
  "kernelspec": {
   "display_name": "Python 3 (ipykernel)",
   "language": "python",
   "name": "python3"
  },
  "language_info": {
   "codemirror_mode": {
    "name": "ipython",
    "version": 3
   },
   "file_extension": ".py",
   "mimetype": "text/x-python",
   "name": "python",
   "nbconvert_exporter": "python",
   "pygments_lexer": "ipython3",
   "version": "3.10.8"
  }
 },
 "nbformat": 4,
 "nbformat_minor": 5
}
