{
 "cells": [
  {
   "cell_type": "code",
   "execution_count": 1,
   "id": "0a966c15-8408-406a-a78a-35196f3e3abb",
   "metadata": {},
   "outputs": [],
   "source": [
    "import nibabel as nib\n",
    "import numpy as np\n",
    "\n",
    "from dmipy.core.acquisition_scheme import acquisition_scheme_from_bvalues\n",
    "from dmipy.signal_models import cylinder_models, gaussian_models\n",
    "from dmipy.core.modeling_framework import MultiCompartmentModel\n",
    "\n",
    "import matplotlib.pyplot as plt\n",
    "\n",
    "import config\n",
    "import torch\n",
    "import torch.nn as nn\n",
    "import torch.optim as optim\n",
    "import torch.utils.data as utils\n",
    "from tqdm import tqdm\n",
    "\n",
    "import process_data"
   ]
  },
  {
   "cell_type": "code",
   "execution_count": 2,
   "id": "58942b20-1f2b-4ec0-b514-c571aeeee4fd",
   "metadata": {},
   "outputs": [],
   "source": [
    "def squash(param, p_min, p_max):\n",
    "    squashed_param_tensor =torch.clamp(param, min=p_min, max=p_max)\n",
    "    unsqueezed_param = squashed_param_tensor.unsqueeze(1)\n",
    "    return unsqueezed_param"
   ]
  },
  {
   "cell_type": "code",
   "execution_count": 3,
   "id": "23b72927-83a5-41ce-9203-af1b9ecf2f53",
   "metadata": {},
   "outputs": [],
   "source": [
    "def unitsphere2cart(theta, phi, X):\n",
    "    mu_cart = torch.zeros(3,X.size()[0])\n",
    "    sintheta = torch.sin(theta)\n",
    "    mu_cart[0,:] = torch.squeeze(sintheta * torch.cos(phi))\n",
    "    mu_cart[1,:] = torch.squeeze(sintheta * torch.sin(phi))\n",
    "    mu_cart[2,:] = torch.squeeze(torch.cos(theta))\n",
    "    return mu_cart"
   ]
  },
  {
   "cell_type": "code",
   "execution_count": 4,
   "id": "a7b280b7-00e0-4fc6-90a4-d0e1c6783b7c",
   "metadata": {},
   "outputs": [],
   "source": [
    "def get_acquisition_scheme():\n",
    "    bvals = np.loadtxt(\n",
    "        config.data_folder2 + '/100206/bvals'\n",
    "    ) * 1e-3\n",
    "    # s/m^2\n",
    "    gradient_directions = np.loadtxt(\n",
    "        config.data_folder2 + '/100206/bvecs'\n",
    "    ).T\n",
    "\n",
    "    delta = 0.0106\n",
    "    Delta = 0.0431\n",
    "    return acquisition_scheme_from_bvalues(bvals, gradient_directions, delta, Delta)"
   ]
  },
  {
   "cell_type": "code",
   "execution_count": null,
   "id": "97c8213e-a4f7-4f9f-b504-1d2f6b9e170d",
   "metadata": {},
   "outputs": [],
   "source": []
  },
  {
   "cell_type": "code",
   "execution_count": 16,
   "id": "3fedcdfb-cc27-48da-bd2e-70afd722e5ca",
   "metadata": {},
   "outputs": [],
   "source": [
    "class BallStickNet(nn.Module):\n",
    "    \n",
    "    def __init__(self, gradient_directions, b_values):\n",
    "        super(BallStickNet, self).__init__()\n",
    "        self.gradient_directions = gradient_directions\n",
    "        self.b_values = b_values\n",
    "        self.fc_layers = nn.ModuleList()\n",
    "        for i in range(3): \n",
    "            self.fc_layers.extend([nn.Linear(len(b_values), len(b_values)), nn.ELU()])\n",
    "        self.encoder = nn.Sequential(*self.fc_layers, nn.Linear(len(b_values), 6))\n",
    "        # if args.dropout != 0:\n",
    "        #     self.dropout = nn.Dropout(args.dropout)\n",
    "            \n",
    "    def forward(self, X):\n",
    "        # if args.dropout != 0:\n",
    "        #     X = self.dropout(X)\n",
    "        params = torch.abs(self.encoder(X))\n",
    "        theta_uns = params[:, 0]\n",
    "        # theta = squash(theta_uns, 0, np.pi)\n",
    "        theta = theta_uns.unsqueeze(1)\n",
    "        phi_uns = params[:, 1]\n",
    "        # phi = squash(phi_uns, -np.pi, np.pi)\n",
    "        phi = phi_uns.unsqueeze(1)\n",
    "        mu_cart = unitsphere2cart(theta, phi, X)\n",
    "        mm_prod =  torch.einsum(\"ij,jk->ki\",self.gradient_directions, mu_cart)\n",
    "        lambda_par_uns = params[:, 2]\n",
    "        lambda_par = squash(lambda_par_uns, 0.1, 3.0)\n",
    "        lambda_iso_uns = params[:, 3]\n",
    "        lambda_iso = squash(lambda_iso_uns, 0.1, 3.0)\n",
    "        volume_0_uns = params[:, 4]\n",
    "        volume_0 = squash(volume_0_uns, 0.01, 0.99)\n",
    "        volume_1 = 1-volume_0\n",
    "        s0 = params[:, 5].unsqueeze(1)\n",
    "        X = (volume_0 * torch.exp(-self.b_values * lambda_par * mm_prod ** 2) + volume_1 * torch.exp(-self.b_values * lambda_iso))*s0\n",
    "        return X, mu_cart, lambda_par, lambda_iso, volume_0, volume_1, s0"
   ]
  },
  {
   "cell_type": "code",
   "execution_count": 6,
   "id": "c7d48a55-c113-4959-8811-b39a6e9de676",
   "metadata": {
    "tags": []
   },
   "outputs": [],
   "source": [
    "# normalized_scan_long_no_background_100206 = np.load('/Users/weiwenhua/UGY4/COMP0029/COMP0029-Project/deep-ivim/normalized_scan_long_1.npy')"
   ]
  },
  {
   "cell_type": "code",
   "execution_count": 26,
   "id": "7bad7d6b-5483-4079-9ecb-945c5437d0aa",
   "metadata": {
    "tags": []
   },
   "outputs": [
    {
     "data": {
      "text/plain": [
       "(935439, 288)"
      ]
     },
     "execution_count": 26,
     "metadata": {},
     "output_type": "execute_result"
    }
   ],
   "source": [
    "normalized_scan_100206.shape"
   ]
  },
  {
   "cell_type": "code",
   "execution_count": 20,
   "id": "fdb3608a-9fac-4338-9393-74a3093128c4",
   "metadata": {
    "tags": []
   },
   "outputs": [
    {
     "data": {
      "text/plain": [
       "(935442, 288)"
      ]
     },
     "execution_count": 20,
     "metadata": {},
     "output_type": "execute_result"
    }
   ],
   "source": [
    "scan_100206_long_no_bg.shape"
   ]
  },
  {
   "cell_type": "code",
   "execution_count": 21,
   "id": "88e1b11b-a78e-48d5-9a3a-ae978899b0e5",
   "metadata": {},
   "outputs": [],
   "source": [
    "bvals = np.loadtxt(config.data_folder2 + '/100206/bvals') * 1e-3"
   ]
  },
  {
   "cell_type": "code",
   "execution_count": 22,
   "id": "e707a55d-c71b-45a9-8541-da4d8d937e12",
   "metadata": {},
   "outputs": [],
   "source": [
    "n = np.loadtxt(config.data_folder2 + '/100206/bvecs').T\n",
    "b_values = torch.FloatTensor(bvals)\n",
    "gradient_directions = torch.FloatTensor(n)\n",
    "\n",
    "net = BallStickNet(gradient_directions, b_values)"
   ]
  },
  {
   "cell_type": "code",
   "execution_count": 23,
   "id": "008a9b51-5336-4d13-93b6-0a5804d23466",
   "metadata": {},
   "outputs": [],
   "source": [
    "criterion = nn.MSELoss()\n",
    "optimizer = optim.Adam(net.parameters(), lr = 0.0001)"
   ]
  },
  {
   "cell_type": "code",
   "execution_count": 24,
   "id": "f2a561e8-5d5b-44c1-9850-297b93d268a2",
   "metadata": {},
   "outputs": [],
   "source": [
    "batch_size = 128\n",
    "num_batches = len(scan_100206_long_no_bg) // batch_size\n",
    "trainloader = utils.DataLoader(torch.from_numpy(scan_100206_long_no_bg.astype(np.float32)),\n",
    "                               batch_size = batch_size, \n",
    "                               shuffle = True,\n",
    "                               num_workers = 2,\n",
    "                               drop_last = True)"
   ]
  },
  {
   "cell_type": "code",
   "execution_count": null,
   "id": "1b0a411f-4ff9-4371-af96-f6eac35c0be6",
   "metadata": {
    "tags": []
   },
   "outputs": [
    {
     "name": "stdout",
     "output_type": "stream",
     "text": [
      "-----------------------------------------------------------------\n",
      "Epoch: 0; Bad epochs: 0\n"
     ]
    },
    {
     "name": "stderr",
     "output_type": "stream",
     "text": [
      "100%|█████████████████████████████████████████████████████████| 7308/7308 [00:59<00:00, 122.00it/s]\n"
     ]
    },
    {
     "name": "stdout",
     "output_type": "stream",
     "text": [
      "Loss: 9703261486.625\n",
      "Average Loss: 1327758.8241139846\n",
      "############### Saving good model ###############################\n",
      "-----------------------------------------------------------------\n",
      "Epoch: 1; Bad epochs: 0\n"
     ]
    },
    {
     "name": "stderr",
     "output_type": "stream",
     "text": [
      "100%|█████████████████████████████████████████████████████████| 7308/7308 [00:46<00:00, 156.03it/s]\n"
     ]
    },
    {
     "name": "stdout",
     "output_type": "stream",
     "text": [
      "Loss: 9549607079.8125\n",
      "Average Loss: 1306733.3168873154\n",
      "############### Saving good model ###############################\n",
      "-----------------------------------------------------------------\n",
      "Epoch: 2; Bad epochs: 0\n"
     ]
    },
    {
     "name": "stderr",
     "output_type": "stream",
     "text": [
      "100%|█████████████████████████████████████████████████████████| 7308/7308 [00:47<00:00, 153.02it/s]\n"
     ]
    },
    {
     "name": "stdout",
     "output_type": "stream",
     "text": [
      "Loss: 9562901736.125\n",
      "Average Loss: 1308552.5090483031\n",
      "-----------------------------------------------------------------\n",
      "Epoch: 3; Bad epochs: 1\n"
     ]
    },
    {
     "name": "stderr",
     "output_type": "stream",
     "text": [
      "100%|█████████████████████████████████████████████████████████| 7308/7308 [00:53<00:00, 136.92it/s]\n"
     ]
    },
    {
     "name": "stdout",
     "output_type": "stream",
     "text": [
      "Loss: 9566121217.1875\n",
      "Average Loss: 1308993.051065613\n",
      "-----------------------------------------------------------------\n",
      "Epoch: 4; Bad epochs: 2\n"
     ]
    },
    {
     "name": "stderr",
     "output_type": "stream",
     "text": [
      "100%|█████████████████████████████████████████████████████████| 7308/7308 [01:03<00:00, 114.51it/s]\n"
     ]
    },
    {
     "name": "stdout",
     "output_type": "stream",
     "text": [
      "Loss: 9658649571.125\n",
      "Average Loss: 1321654.2927100437\n",
      "-----------------------------------------------------------------\n",
      "Epoch: 5; Bad epochs: 3\n"
     ]
    },
    {
     "name": "stderr",
     "output_type": "stream",
     "text": [
      "100%|█████████████████████████████████████████████████████████| 7308/7308 [01:10<00:00, 104.00it/s]\n"
     ]
    },
    {
     "name": "stdout",
     "output_type": "stream",
     "text": [
      "Loss: 9600447114.4375\n",
      "Average Loss: 1313690.081340654\n",
      "-----------------------------------------------------------------\n",
      "Epoch: 6; Bad epochs: 4\n"
     ]
    },
    {
     "name": "stderr",
     "output_type": "stream",
     "text": [
      "100%|█████████████████████████████████████████████████████████| 7308/7308 [00:59<00:00, 121.99it/s]\n"
     ]
    },
    {
     "name": "stdout",
     "output_type": "stream",
     "text": [
      "Loss: 9580478119.0625\n",
      "Average Loss: 1310957.59702552\n",
      "-----------------------------------------------------------------\n",
      "Epoch: 7; Bad epochs: 5\n"
     ]
    },
    {
     "name": "stderr",
     "output_type": "stream",
     "text": [
      "100%|█████████████████████████████████████████████████████████| 7308/7308 [01:00<00:00, 121.02it/s]\n"
     ]
    },
    {
     "name": "stdout",
     "output_type": "stream",
     "text": [
      "Loss: 9558396067.75\n",
      "Average Loss: 1307935.9698617952\n",
      "-----------------------------------------------------------------\n",
      "Epoch: 8; Bad epochs: 6\n"
     ]
    },
    {
     "name": "stderr",
     "output_type": "stream",
     "text": [
      "100%|█████████████████████████████████████████████████████████| 7308/7308 [00:58<00:00, 125.63it/s]\n"
     ]
    },
    {
     "name": "stdout",
     "output_type": "stream",
     "text": [
      "Loss: 9560681663.0\n",
      "Average Loss: 1308248.7223590587\n",
      "-----------------------------------------------------------------\n",
      "Epoch: 9; Bad epochs: 7\n"
     ]
    },
    {
     "name": "stderr",
     "output_type": "stream",
     "text": [
      "100%|█████████████████████████████████████████████████████████| 7308/7308 [01:00<00:00, 120.49it/s]\n"
     ]
    },
    {
     "name": "stdout",
     "output_type": "stream",
     "text": [
      "Loss: 9608666259.75\n",
      "Average Loss: 1314814.759133826\n",
      "-----------------------------------------------------------------\n",
      "Epoch: 10; Bad epochs: 8\n"
     ]
    },
    {
     "name": "stderr",
     "output_type": "stream",
     "text": [
      "  0%|▏                                                           | 25/7308 [00:02<07:06, 17.09it/s]"
     ]
    },
    {
     "name": "stdout",
     "output_type": "stream",
     "text": [
      "X_batch: \n",
      "torch.Size([128, 288])\n",
      "tensor([[ 998.2991,  263.0444,  240.0929,  ...,  503.6289,  212.5402,\n",
      "          211.2402],\n",
      "        [2844.2385, 1534.7358,  395.9506,  ..., 1600.1145, 1345.4735,\n",
      "          819.5311],\n",
      "        [3145.1199, 1612.6012, 1001.9720,  ..., 1606.8438, 1353.5314,\n",
      "         1082.1066],\n",
      "        ...,\n",
      "        [3951.0002, 1600.4048, 1317.4968,  ..., 1839.0118, 1124.2045,\n",
      "          704.8265],\n",
      "        [4166.5850, 2296.9045, 1273.2030,  ..., 2014.5338,  928.8644,\n",
      "          944.2108],\n",
      "        [7481.9448, 1895.8447,  981.1535,  ..., 1844.4680,  994.5725,\n",
      "          468.3480]])\n",
      "X_pred: \n",
      "torch.Size([128, 288])\n",
      "tensor([[5.4260e+02, 4.5791e+02, 3.3443e+01,  ..., 1.3140e+02, 5.3563e+02,\n",
      "         7.8954e-01],\n",
      "        [1.7527e+03, 1.5741e+03, 1.4071e+03,  ..., 1.2717e+02, 1.3865e+03,\n",
      "         1.6815e+02],\n",
      "        [2.0400e+03, 4.2180e+02, 1.1674e+02,  ..., 1.9661e+03, 5.8246e+02,\n",
      "         8.1168e+01],\n",
      "        ...,\n",
      "        [2.4282e+03, 9.9745e+02, 1.6897e+03,  ..., 1.2574e+02, 3.7470e+02,\n",
      "         1.8295e+02],\n",
      "        [2.6424e+03, 2.5884e+03, 2.8322e+01,  ..., 5.3588e+02, 1.3964e+03,\n",
      "         4.3082e-01],\n",
      "        [2.4923e+03, 1.5015e+03, 2.4455e+02,  ..., 1.6529e+02, 3.7843e+02,\n",
      "         4.6405e+00]], grad_fn=<MulBackward0>)\n"
     ]
    },
    {
     "name": "stderr",
     "output_type": "stream",
     "text": [
      "100%|█████████████████████████████████████████████████████████| 7308/7308 [01:01<00:00, 118.04it/s]\n"
     ]
    },
    {
     "name": "stdout",
     "output_type": "stream",
     "text": [
      "Loss: 9599824740.875\n",
      "Average Loss: 1313604.9180179255\n",
      "-----------------------------------------------------------------\n",
      "Epoch: 11; Bad epochs: 9\n"
     ]
    },
    {
     "name": "stderr",
     "output_type": "stream",
     "text": [
      "100%|█████████████████████████████████████████████████████████| 7308/7308 [00:59<00:00, 122.23it/s]\n"
     ]
    },
    {
     "name": "stdout",
     "output_type": "stream",
     "text": [
      "Loss: 9551737791.75\n",
      "Average Loss: 1307024.8757183908\n",
      "-----------------------------------------------------------------\n",
      "Epoch: 12; Bad epochs: 10\n"
     ]
    },
    {
     "name": "stderr",
     "output_type": "stream",
     "text": [
      "100%|█████████████████████████████████████████████████████████| 7308/7308 [00:56<00:00, 128.55it/s]\n"
     ]
    },
    {
     "name": "stdout",
     "output_type": "stream",
     "text": [
      "Loss: 9544818588.3125\n",
      "Average Loss: 1306078.0772184592\n",
      "############### Saving good model ###############################\n",
      "-----------------------------------------------------------------\n",
      "Epoch: 13; Bad epochs: 0\n"
     ]
    },
    {
     "name": "stderr",
     "output_type": "stream",
     "text": [
      "100%|█████████████████████████████████████████████████████████| 7308/7308 [00:54<00:00, 133.42it/s]\n"
     ]
    },
    {
     "name": "stdout",
     "output_type": "stream",
     "text": [
      "Loss: 9541500780.875\n",
      "Average Loss: 1305624.0805795018\n",
      "############### Saving good model ###############################\n",
      "-----------------------------------------------------------------\n",
      "Epoch: 14; Bad epochs: 0\n"
     ]
    },
    {
     "name": "stderr",
     "output_type": "stream",
     "text": [
      "100%|█████████████████████████████████████████████████████████| 7308/7308 [00:56<00:00, 130.08it/s]\n"
     ]
    },
    {
     "name": "stdout",
     "output_type": "stream",
     "text": [
      "Loss: 9557987311.5625\n",
      "Average Loss: 1307880.0371596196\n",
      "-----------------------------------------------------------------\n",
      "Epoch: 15; Bad epochs: 1\n"
     ]
    },
    {
     "name": "stderr",
     "output_type": "stream",
     "text": [
      "100%|█████████████████████████████████████████████████████████| 7308/7308 [00:58<00:00, 124.22it/s]\n"
     ]
    },
    {
     "name": "stdout",
     "output_type": "stream",
     "text": [
      "Loss: 9540532963.875\n",
      "Average Loss: 1305491.6480398194\n",
      "############### Saving good model ###############################\n",
      "-----------------------------------------------------------------\n",
      "Epoch: 16; Bad epochs: 0\n"
     ]
    },
    {
     "name": "stderr",
     "output_type": "stream",
     "text": [
      "100%|█████████████████████████████████████████████████████████| 7308/7308 [00:57<00:00, 127.01it/s]\n"
     ]
    },
    {
     "name": "stdout",
     "output_type": "stream",
     "text": [
      "Loss: 9570927344.0\n",
      "Average Loss: 1309650.7038861522\n",
      "-----------------------------------------------------------------\n",
      "Epoch: 17; Bad epochs: 1\n"
     ]
    },
    {
     "name": "stderr",
     "output_type": "stream",
     "text": [
      "100%|█████████████████████████████████████████████████████████| 7308/7308 [00:56<00:00, 129.47it/s]\n"
     ]
    },
    {
     "name": "stdout",
     "output_type": "stream",
     "text": [
      "Loss: 9598584264.4375\n",
      "Average Loss: 1313435.1757577313\n",
      "-----------------------------------------------------------------\n",
      "Epoch: 18; Bad epochs: 2\n"
     ]
    },
    {
     "name": "stderr",
     "output_type": "stream",
     "text": [
      "100%|█████████████████████████████████████████████████████████| 7308/7308 [00:55<00:00, 131.18it/s]\n"
     ]
    },
    {
     "name": "stdout",
     "output_type": "stream",
     "text": [
      "Loss: 9556983352.625\n",
      "Average Loss: 1307742.659089354\n",
      "-----------------------------------------------------------------\n",
      "Epoch: 19; Bad epochs: 3\n"
     ]
    },
    {
     "name": "stderr",
     "output_type": "stream",
     "text": [
      "100%|█████████████████████████████████████████████████████████| 7308/7308 [00:54<00:00, 133.31it/s]\n"
     ]
    },
    {
     "name": "stdout",
     "output_type": "stream",
     "text": [
      "Loss: 9540368487.4375\n",
      "Average Loss: 1305469.1416854816\n",
      "############### Saving good model ###############################\n",
      "-----------------------------------------------------------------\n",
      "Epoch: 20; Bad epochs: 0\n"
     ]
    },
    {
     "name": "stderr",
     "output_type": "stream",
     "text": [
      "100%|█████████████████████████████████████████████████████████| 7308/7308 [00:56<00:00, 128.75it/s]\n"
     ]
    },
    {
     "name": "stdout",
     "output_type": "stream",
     "text": [
      "Loss: 9539321232.9375\n",
      "Average Loss: 1305325.8392087438\n",
      "############### Saving good model ###############################\n",
      "-----------------------------------------------------------------\n",
      "Epoch: 21; Bad epochs: 0\n"
     ]
    },
    {
     "name": "stderr",
     "output_type": "stream",
     "text": [
      "100%|█████████████████████████████████████████████████████████| 7308/7308 [00:57<00:00, 127.33it/s]\n"
     ]
    },
    {
     "name": "stdout",
     "output_type": "stream",
     "text": [
      "Loss: 9540367133.0\n",
      "Average Loss: 1305468.9563492064\n",
      "-----------------------------------------------------------------\n",
      "Epoch: 22; Bad epochs: 1\n"
     ]
    },
    {
     "name": "stderr",
     "output_type": "stream",
     "text": [
      "100%|█████████████████████████████████████████████████████████| 7308/7308 [00:58<00:00, 124.28it/s]\n"
     ]
    },
    {
     "name": "stdout",
     "output_type": "stream",
     "text": [
      "Loss: 9548787981.8125\n",
      "Average Loss: 1306621.2345118364\n",
      "-----------------------------------------------------------------\n",
      "Epoch: 23; Bad epochs: 2\n"
     ]
    },
    {
     "name": "stderr",
     "output_type": "stream",
     "text": [
      "100%|█████████████████████████████████████████████████████████| 7308/7308 [01:02<00:00, 117.11it/s]\n"
     ]
    },
    {
     "name": "stdout",
     "output_type": "stream",
     "text": [
      "Loss: 9546419955.875\n",
      "Average Loss: 1306297.2025006842\n",
      "-----------------------------------------------------------------\n",
      "Epoch: 24; Bad epochs: 3\n"
     ]
    },
    {
     "name": "stderr",
     "output_type": "stream",
     "text": [
      "100%|█████████████████████████████████████████████████████████| 7308/7308 [01:06<00:00, 110.38it/s]\n"
     ]
    },
    {
     "name": "stdout",
     "output_type": "stream",
     "text": [
      "Loss: 9541148999.9375\n",
      "Average Loss: 1305575.9441622195\n",
      "-----------------------------------------------------------------\n",
      "Epoch: 25; Bad epochs: 4\n"
     ]
    },
    {
     "name": "stderr",
     "output_type": "stream",
     "text": [
      "100%|██████████████████████████████████████████████████████████| 7308/7308 [01:53<00:00, 64.23it/s]\n"
     ]
    },
    {
     "name": "stdout",
     "output_type": "stream",
     "text": [
      "Loss: 9550861794.5625\n",
      "Average Loss: 1306905.007466133\n",
      "-----------------------------------------------------------------\n",
      "Epoch: 26; Bad epochs: 5\n"
     ]
    },
    {
     "name": "stderr",
     "output_type": "stream",
     "text": [
      "100%|█████████████████████████████████████████████████████████| 7308/7308 [01:09<00:00, 105.90it/s]\n"
     ]
    },
    {
     "name": "stdout",
     "output_type": "stream",
     "text": [
      "Loss: 9600276467.875\n",
      "Average Loss: 1313666.730688971\n",
      "-----------------------------------------------------------------\n",
      "Epoch: 27; Bad epochs: 6\n"
     ]
    },
    {
     "name": "stderr",
     "output_type": "stream",
     "text": [
      "100%|█████████████████████████████████████████████████████████| 7308/7308 [01:08<00:00, 107.12it/s]\n"
     ]
    },
    {
     "name": "stdout",
     "output_type": "stream",
     "text": [
      "Loss: 9537688530.25\n",
      "Average Loss: 1305102.4261425834\n",
      "############### Saving good model ###############################\n",
      "-----------------------------------------------------------------\n",
      "Epoch: 28; Bad epochs: 0\n"
     ]
    },
    {
     "name": "stderr",
     "output_type": "stream",
     "text": [
      "100%|█████████████████████████████████████████████████████████| 7308/7308 [01:06<00:00, 109.98it/s]\n"
     ]
    },
    {
     "name": "stdout",
     "output_type": "stream",
     "text": [
      "Loss: 9540233042.0\n",
      "Average Loss: 1305450.607827039\n",
      "-----------------------------------------------------------------\n",
      "Epoch: 29; Bad epochs: 1\n"
     ]
    },
    {
     "name": "stderr",
     "output_type": "stream",
     "text": [
      "100%|█████████████████████████████████████████████████████████| 7308/7308 [01:06<00:00, 110.52it/s]\n"
     ]
    },
    {
     "name": "stdout",
     "output_type": "stream",
     "text": [
      "Loss: 9543227539.625\n",
      "Average Loss: 1305860.3639333607\n",
      "-----------------------------------------------------------------\n",
      "Epoch: 30; Bad epochs: 2\n"
     ]
    },
    {
     "name": "stderr",
     "output_type": "stream",
     "text": [
      "100%|█████████████████████████████████████████████████████████| 7308/7308 [00:58<00:00, 124.21it/s]\n"
     ]
    },
    {
     "name": "stdout",
     "output_type": "stream",
     "text": [
      "Loss: 9538030382.1875\n",
      "Average Loss: 1305149.203911809\n",
      "-----------------------------------------------------------------\n",
      "Epoch: 31; Bad epochs: 3\n"
     ]
    },
    {
     "name": "stderr",
     "output_type": "stream",
     "text": [
      "100%|█████████████████████████████████████████████████████████| 7308/7308 [01:03<00:00, 114.33it/s]\n"
     ]
    },
    {
     "name": "stdout",
     "output_type": "stream",
     "text": [
      "Loss: 9535813346.4375\n",
      "Average Loss: 1304845.8328458539\n",
      "############### Saving good model ###############################\n",
      "-----------------------------------------------------------------\n",
      "Epoch: 32; Bad epochs: 0\n"
     ]
    },
    {
     "name": "stderr",
     "output_type": "stream",
     "text": [
      "100%|█████████████████████████████████████████████████████████| 7308/7308 [00:54<00:00, 134.84it/s]\n"
     ]
    },
    {
     "name": "stdout",
     "output_type": "stream",
     "text": [
      "Loss: 9536305913.4375\n",
      "Average Loss: 1304913.2339131774\n",
      "-----------------------------------------------------------------\n",
      "Epoch: 33; Bad epochs: 1\n"
     ]
    },
    {
     "name": "stderr",
     "output_type": "stream",
     "text": [
      "100%|█████████████████████████████████████████████████████████| 7308/7308 [00:54<00:00, 134.16it/s]\n"
     ]
    },
    {
     "name": "stdout",
     "output_type": "stream",
     "text": [
      "Loss: 9535272035.0\n",
      "Average Loss: 1304771.7617679255\n",
      "############### Saving good model ###############################\n",
      "-----------------------------------------------------------------\n",
      "Epoch: 34; Bad epochs: 0\n"
     ]
    },
    {
     "name": "stderr",
     "output_type": "stream",
     "text": [
      "100%|█████████████████████████████████████████████████████████| 7308/7308 [00:54<00:00, 134.11it/s]\n"
     ]
    },
    {
     "name": "stdout",
     "output_type": "stream",
     "text": [
      "Loss: 9536631299.375\n",
      "Average Loss: 1304957.758535167\n",
      "-----------------------------------------------------------------\n",
      "Epoch: 35; Bad epochs: 1\n"
     ]
    },
    {
     "name": "stderr",
     "output_type": "stream",
     "text": [
      "100%|█████████████████████████████████████████████████████████| 7308/7308 [00:53<00:00, 136.83it/s]\n"
     ]
    },
    {
     "name": "stdout",
     "output_type": "stream",
     "text": [
      "Loss: 9538597779.6875\n",
      "Average Loss: 1305226.8445111522\n",
      "-----------------------------------------------------------------\n",
      "Epoch: 36; Bad epochs: 2\n"
     ]
    },
    {
     "name": "stderr",
     "output_type": "stream",
     "text": [
      "100%|█████████████████████████████████████████████████████████| 7308/7308 [00:57<00:00, 127.47it/s]\n"
     ]
    },
    {
     "name": "stdout",
     "output_type": "stream",
     "text": [
      "Loss: 9556223708.875\n",
      "Average Loss: 1307638.7122160646\n",
      "-----------------------------------------------------------------\n",
      "Epoch: 37; Bad epochs: 3\n"
     ]
    },
    {
     "name": "stderr",
     "output_type": "stream",
     "text": [
      " 79%|████████████████████████████████████████████▉            | 5765/7308 [00:46<00:12, 124.13it/s]"
     ]
    }
   ],
   "source": [
    "loss_arr=[]\n",
    "avg_loss_arr=[]\n",
    "\n",
    "counter = 0\n",
    "\n",
    "# Best loss\n",
    "best = 1e16\n",
    "num_bad_epochs = 0\n",
    "patience = 20\n",
    "\n",
    "for epoch in range(1000):\n",
    "    print(\"-----------------------------------------------------------------\")\n",
    "    print(\"Epoch: {}; Bad epochs: {}\".format(epoch, num_bad_epochs))\n",
    "    net.train()\n",
    "    running_loss = 0.\n",
    "\n",
    "    for i, X_batch in enumerate(tqdm(trainloader), 0):\n",
    "        optimizer.zero_grad()\n",
    "        X_pred, mu_cart_pred, lambda_par_pred, lambda_iso_pred,  volume_0_pred, volume_1_pred, s0_pred = net(X_batch)\n",
    "        if i == 8 and counter == 10:\n",
    "            print(\"X_batch: \")\n",
    "            print(X_batch.shape)\n",
    "            print(X_batch)\n",
    "            print(\"X_pred: \")\n",
    "            print(X_pred.shape)\n",
    "            print(X_pred)\n",
    "        loss = criterion(X_pred.type(torch.FloatTensor), X_batch.type(torch.FloatTensor))\n",
    "        loss.backward()\n",
    "        optimizer.step()\n",
    "        running_loss += loss.item()\n",
    "        \n",
    "    loss_arr.append(running_loss)\n",
    "    avg_loss_arr.append(running_loss/num_batches)\n",
    "    print(\"Loss: {}\".format(running_loss))\n",
    "    print(\"Average Loss: {}\".format(running_loss/num_batches))\n",
    "    \n",
    "\n",
    "    if running_loss < best:\n",
    "        print(\"############### Saving good model ###############################\")\n",
    "        final_model = net.state_dict()\n",
    "        best = running_loss\n",
    "        num_bad_epochs = 0\n",
    "    else:\n",
    "        num_bad_epochs = num_bad_epochs + 1\n",
    "        if num_bad_epochs == patience:\n",
    "            print(\"Done, best loss: {}\".format(best))\n",
    "            break\n",
    "    counter += 1\n",
    "print(\"Done\")\n",
    "net.load_state_dict(final_model)"
   ]
  },
  {
   "cell_type": "code",
   "execution_count": 28,
   "id": "429d72a7-ac6f-422e-88ee-d45a9a427950",
   "metadata": {},
   "outputs": [
    {
     "data": {
      "image/png": "[encoded data removed]",
      "text/plain": [
       "<Figure size 640x480 with 1 Axes>"
      ]
     },
     "metadata": {},
     "output_type": "display_data"
    }
   ],
   "source": [
    "epoch_arr = np.arange(0, len(avg_loss_arr))\n",
    "loss_arr = np.array(avg_loss_arr)\n",
    "plt.plot(avg_loss_arr)\n",
    "plt.xlabel(\"Epochs\")\n",
    "plt.ylabel(\"Average Runing Loss per batch\")\n",
    "plt.show()"
   ]
  },
  {
   "cell_type": "code",
   "execution_count": 40,
   "id": "d51d8975-38cc-4773-a9f0-42ba14b48873",
   "metadata": {},
   "outputs": [
    {
     "data": {
      "image/png": "[encoded data removed]",
      "text/plain": [
       "<Figure size 640x480 with 1 Axes>"
      ]
     },
     "metadata": {},
     "output_type": "display_data"
    }
   ],
   "source": [
    "epoch_arr = np.arange(0, len(avg_loss_arr))\n",
    "loss_arr = np.array(avg_loss_arr)\n",
    "plt.plot(avg_loss_arr)\n",
    "plt.xlabel(\"Epochs\")\n",
    "plt.ylabel(\"Average Runing Loss per batch\")\n",
    "plt.show()"
   ]
  },
  {
   "cell_type": "code",
   "execution_count": 37,
   "id": "eda5216c-a5ed-47dd-9c88-451e7e163e17",
   "metadata": {},
   "outputs": [],
   "source": [
    "avg_loss_arr_small_lr = np.load(\"/Users/weiwenhua/UGY4/COMP0029/COMP0029-Project/deep-ball-stick/loss/avg_loss_for_333e_real_data.npy\")"
   ]
  },
  {
   "cell_type": "code",
   "execution_count": 33,
   "id": "a47317ad-4337-420a-8344-3617fcc907e8",
   "metadata": {
    "tags": []
   },
   "outputs": [
    {
     "data": {
      "image/png": "[encoded data removed]",
      "text/plain": [
       "<Figure size 640x480 with 1 Axes>"
      ]
     },
     "metadata": {},
     "output_type": "display_data"
    }
   ],
   "source": [
    "epoch_arr = np.arange(0, len(avg_loss_arr))\n",
    "loss_arr = np.array(avg_loss_arr)\n",
    "plt.plot(epoch_arr, avg_loss_arr)\n",
    "plt.xlabel(\"Epochs\")\n",
    "plt.ylabel(\"Average Runing Loss per batch\")\n",
    "plt.show()"
   ]
  },
  {
   "cell_type": "code",
   "execution_count": 37,
   "id": "627df9fd-7503-4b30-976b-1ba394e96f52",
   "metadata": {},
   "outputs": [],
   "source": [
    "np.save(\"loss_for_333e_real_data.npy\", loss_arr)\n",
    "np.save(\"avg_loss_for_333e_real_data.npy\", avg_loss_arr)"
   ]
  },
  {
   "cell_type": "code",
   "execution_count": 38,
   "id": "79b32b2d-3d80-4f2e-bc38-5784d3d7d9b3",
   "metadata": {},
   "outputs": [
    {
     "data": {
      "text/plain": [
       "334"
      ]
     },
     "execution_count": 38,
     "metadata": {},
     "output_type": "execute_result"
    }
   ],
   "source": [
    "len(loss_arr)"
   ]
  },
  {
   "cell_type": "code",
   "execution_count": 41,
   "id": "213e87b3-c5c5-4e12-90ea-3ed29c804d54",
   "metadata": {},
   "outputs": [],
   "source": [
    "torch.save(final_model, 'model_100206_61e.pt')"
   ]
  },
  {
   "cell_type": "code",
   "execution_count": 73,
   "id": "de3fe260-308f-46ba-ad3c-9719995659da",
   "metadata": {},
   "outputs": [
    {
     "data": {
      "text/plain": [
       "BallStickNet(\n",
       "  (fc_layers): ModuleList(\n",
       "    (0): Linear(in_features=288, out_features=288, bias=True)\n",
       "    (1): ELU(alpha=1.0)\n",
       "    (2): Linear(in_features=288, out_features=288, bias=True)\n",
       "    (3): ELU(alpha=1.0)\n",
       "    (4): Linear(in_features=288, out_features=288, bias=True)\n",
       "    (5): ELU(alpha=1.0)\n",
       "  )\n",
       "  (encoder): Sequential(\n",
       "    (0): Linear(in_features=288, out_features=288, bias=True)\n",
       "    (1): ELU(alpha=1.0)\n",
       "    (2): Linear(in_features=288, out_features=288, bias=True)\n",
       "    (3): ELU(alpha=1.0)\n",
       "    (4): Linear(in_features=288, out_features=288, bias=True)\n",
       "    (5): ELU(alpha=1.0)\n",
       "    (6): Linear(in_features=288, out_features=5, bias=True)\n",
       "  )\n",
       ")"
      ]
     },
     "execution_count": 73,
     "metadata": {},
     "output_type": "execute_result"
    }
   ],
   "source": [
    "net.eval()"
   ]
  },
  {
   "cell_type": "code",
   "execution_count": 74,
   "id": "d2b13a7c-54f0-4341-bfa5-b6fc89609239",
   "metadata": {
    "tags": []
   },
   "outputs": [],
   "source": [
    "X_pred_train, mu_cart_pred_train, lambda_par_pred_train, lambda_iso_pred_train,  volume_0_pred_train, volume_1_pred_train = net(torch.from_numpy(normalized_scan_100206.astype(np.float32)))"
   ]
  },
  {
   "cell_type": "code",
   "execution_count": 75,
   "id": "f6ee1150-b626-41a2-9276-d86fcbbd459e",
   "metadata": {},
   "outputs": [
    {
     "data": {
      "text/plain": [
       "torch.Size([935439, 288])"
      ]
     },
     "execution_count": 75,
     "metadata": {},
     "output_type": "execute_result"
    }
   ],
   "source": [
    "X_pred_train.shape"
   ]
  },
  {
   "cell_type": "code",
   "execution_count": 104,
   "id": "4fff9f32-d14e-4968-9d68-b18bb18db79f",
   "metadata": {},
   "outputs": [
    {
     "data": {
      "text/plain": [
       "[<matplotlib.lines.Line2D at 0x1c3023430>]"
      ]
     },
     "execution_count": 104,
     "metadata": {},
     "output_type": "execute_result"
    },
    {
     "data": {
      "image/png": "[encoded data removed]",
      "text/plain": [
       "<Figure size 640x480 with 1 Axes>"
      ]
     },
     "metadata": {},
     "output_type": "display_data"
    }
   ],
   "source": [
    "plt.plot(X_pred_train[1,:].detach().numpy())\n",
    "# plt.plot(X_pred_train[110,:].detach().numpy())\n",
    "# plt.plot(normalized_scan_100206[1,:])"
   ]
  },
  {
   "cell_type": "markdown",
   "id": "47a7b2e3-9ea0-4189-9b40-d8345b25fc25",
   "metadata": {},
   "source": [
    "**Reshape data and remove background voxels**"
   ]
  },
  {
   "cell_type": "code",
   "execution_count": 5,
   "id": "5167ef53-2321-4fa8-8454-3b372d7843f8",
   "metadata": {},
   "outputs": [],
   "source": [
    "scan_100206 = process_data.get_nifti_data(config.data_folder2 + '/100206/data.nii.gz')"
   ]
  },
  {
   "cell_type": "code",
   "execution_count": 6,
   "id": "0fc286be-6859-4cad-aa5c-3b16333dbdce",
   "metadata": {},
   "outputs": [],
   "source": [
    "mask_100206 = process_data.get_nifti_data(config.data_folder2 + '/100206/nodif_brain_mask.nii.gz')"
   ]
  },
  {
   "cell_type": "code",
   "execution_count": 7,
   "id": "a7671be3-cd9b-4693-8a4a-1fdf88c54751",
   "metadata": {},
   "outputs": [],
   "source": [
    "scan_dimension = scan_100206.shape\n",
    "x = scan_dimension[0]\n",
    "y = scan_dimension[1]\n",
    "z = scan_dimension[2]\n",
    "b = scan_dimension[3]"
   ]
  },
  {
   "cell_type": "code",
   "execution_count": 8,
   "id": "573295c4-cd4b-4a84-ba1a-1763a838c1fd",
   "metadata": {},
   "outputs": [
    {
     "name": "stdout",
     "output_type": "stream",
     "text": [
      "145 174 145 288\n"
     ]
    }
   ],
   "source": [
    "print(x, y, z, b)"
   ]
  },
  {
   "cell_type": "code",
   "execution_count": 9,
   "id": "69462319-5a62-41d7-93f0-791fa88320fd",
   "metadata": {},
   "outputs": [],
   "source": [
    "scan_100206_long = np.reshape(scan_100206, (x*y*z, b))"
   ]
  },
  {
   "cell_type": "code",
   "execution_count": 10,
   "id": "e55b572d-da6a-482a-93a0-e24d17a12a99",
   "metadata": {},
   "outputs": [],
   "source": [
    "mask_100206_long = np.reshape(mask_100206, (x*y*z, 1))"
   ]
  },
  {
   "cell_type": "code",
   "execution_count": 11,
   "id": "3b84ef69-c642-46cc-abc9-69ca5b356d11",
   "metadata": {},
   "outputs": [],
   "source": [
    "scan_100206_long_no_background = process_data.trim_background(scan_100206_long, mask_100206_long)"
   ]
  },
  {
   "cell_type": "code",
   "execution_count": 12,
   "id": "5e51dee5-d49f-43bc-ad0e-f4ebe8b12b95",
   "metadata": {},
   "outputs": [
    {
     "data": {
      "text/plain": [
       "(936256, 288)"
      ]
     },
     "execution_count": 12,
     "metadata": {},
     "output_type": "execute_result"
    }
   ],
   "source": [
    "scan_100206_long_no_background.shape"
   ]
  },
  {
   "cell_type": "code",
   "execution_count": 13,
   "id": "16e7ebb9-a0de-4f0e-8dba-71707d859726",
   "metadata": {},
   "outputs": [],
   "source": [
    "# Ignore all strange data\n",
    "\n",
    "def find_rows_beginning_with_zero(scan_long_no_bg):\n",
    "    return np.where(scan_long_no_bg[:, 0] == 0)[0]\n",
    "\n",
    "Sb_beginning_0 = find_rows_beginning_with_zero(scan_100206_long_no_background)"
   ]
  },
  {
   "cell_type": "code",
   "execution_count": 14,
   "id": "cac7de01-6810-4bf2-a6bd-c4e30153eb15",
   "metadata": {},
   "outputs": [
    {
     "data": {
      "text/plain": [
       "array([ 46080,  52289,  58710,  61649,  65169,  75865,  77984,  82681,\n",
       "        88184,  96165,  96248,  98616, 104386, 104471, 105834, 106935,\n",
       "       112589, 112845, 112930, 115186, 115316, 121280, 121706, 124612,\n",
       "       127409, 130165, 130591, 132693, 133084, 133597, 137541, 139400,\n",
       "       139753, 141694, 141918, 142846, 148444, 148806, 149505, 149838,\n",
       "       151134, 151227, 151272, 152002, 152206, 152349, 152407, 154601,\n",
       "       156409, 158104, 158288, 158471, 159177, 159511, 160888, 160932,\n",
       "       161452, 161721, 161983, 161984, 162113, 162132, 162210, 167928,\n",
       "       168205, 168297, 169004, 169341, 171395, 171798, 171931, 171948,\n",
       "       172006, 172027, 172164, 172422, 172512, 172608, 172704, 178028,\n",
       "       178213, 179261, 181980, 182142, 182491, 182588, 182685, 188111,\n",
       "       188564, 189253, 189586, 191392, 191682, 192585, 192681, 192778,\n",
       "       198338, 199046, 199391, 199725, 201834, 202277, 202792, 205301,\n",
       "       208912, 209605, 209942, 211902, 211903, 211904, 212326, 212401,\n",
       "       212557, 212638, 212724, 220226, 222749, 222985, 223070, 223332,\n",
       "       223424, 223517, 229542, 231390, 232879, 232945, 233016, 233752,\n",
       "       239966, 240315, 242898, 242904, 242905, 242929, 243527, 243586,\n",
       "       243987, 244080, 244174, 246697, 253501, 253502, 253507, 253617,\n",
       "       253866, 253992, 254003, 254128, 254204, 254360, 254443, 254608,\n",
       "       254701, 254795, 264133, 264163, 264239, 264309, 264663, 264674,\n",
       "       264728, 265377, 272690, 274200, 274876, 274877, 274989, 275061,\n",
       "       275063, 275138, 275420, 275433, 275487, 275559, 275636, 277203,\n",
       "       285169, 285638, 285731, 285841, 285924, 285970, 286236, 286291,\n",
       "       288020, 288331, 294950, 296526, 296527, 296550, 296584, 296675,\n",
       "       296789, 296919, 297239, 297552, 297635, 297721, 299180, 299285,\n",
       "       306487, 306860, 306960, 307560, 307655, 307770, 307902, 308101,\n",
       "       308227, 308301, 308321, 308546, 308631, 309369, 309468, 310079,\n",
       "       310184, 317761, 317970, 318533, 318534, 318537, 318538, 318539,\n",
       "       318566, 318655, 318688, 318803, 318804, 318945, 319115, 319122,\n",
       "       319134, 319275, 319278, 319354, 319496, 319580, 319665, 320398,\n",
       "       320401, 321109, 326060, 329455, 329456, 329457, 329462, 329463,\n",
       "       329466, 329467, 329468, 329494, 329583, 329616, 329619, 329733,\n",
       "       329775, 330052, 330192, 330266, 330286, 330512, 330597, 331330,\n",
       "       331333, 331734, 331837, 331942, 332258, 339407, 339691, 340399,\n",
       "       340434, 340435, 340444, 340445, 340446, 340447, 340471, 340560,\n",
       "       340593, 340711, 340753, 341031, 341171, 341245, 341265, 341325,\n",
       "       341408, 341492, 342295, 342298, 342597, 342699, 342802, 342907,\n",
       "       343653, 351330, 351355, 351385, 351386, 351387, 351388, 351389,\n",
       "       351412, 351414, 351439, 351496, 351528, 351637, 351679, 351990,\n",
       "       352057, 352130, 352204, 352224, 352284, 352367, 352451, 353257,\n",
       "       353554, 353759, 354393, 354502, 361190, 361251, 362290, 362331,\n",
       "       362332, 362335, 362466, 362498, 363055, 363208, 363291, 363374,\n",
       "       364178, 364475, 364680, 365318, 365427, 373335, 373568, 374098,\n",
       "       374259, 374342, 375440, 375645, 376393, 383185, 383426, 383764,\n",
       "       383818, 383871, 383922, 383972, 384021, 384338, 385246, 385328,\n",
       "       386421, 386521, 386622, 386726, 394092, 394398, 394690, 394745,\n",
       "       395485, 396199, 396280, 397467, 397670, 397772, 397982, 398309,\n",
       "       405139, 405203, 405562, 406791, 408799, 415962, 427949, 430006,\n",
       "       450769, 452585, 452686, 459603, 461683, 463086, 469833, 471939,\n",
       "       472381, 472975, 480030, 480031, 480035, 480066, 480071, 480072,\n",
       "       480073, 482619, 484989, 490301, 490302, 490307, 490324, 490346,\n",
       "       490353, 490354, 490416, 492243, 495449, 500971, 501020, 501668,\n",
       "       501801, 502595, 502656, 510975, 511710, 511714, 511744, 511795,\n",
       "       512603, 513211, 513423, 513576, 522581, 522586, 522612, 522618,\n",
       "       522619, 522706, 522826, 522918, 523360, 524033, 524121, 524211,\n",
       "       533525, 533526, 533530, 533553, 533619, 533933, 533935, 534970,\n",
       "       535061, 537013, 543376, 544444, 544500, 544646, 544684, 544778,\n",
       "       544878, 545246, 545307, 545319, 545536, 545943, 546034, 547260,\n",
       "       547261, 547993, 554356, 555435, 555485, 555634, 555677, 555822,\n",
       "       556236, 556244, 556318, 556379, 557041, 557133, 558379, 558594,\n",
       "       559130, 566460, 566652, 566693, 566698, 566838, 566888, 566889,\n",
       "       567335, 567396, 568059, 568151, 569395, 577452, 577453, 577529,\n",
       "       577644, 577829, 577929, 578243, 578252, 579052, 579144, 580397,\n",
       "       581139, 588398, 588579, 588712, 588861, 589175, 589184, 589400,\n",
       "       589726, 589897, 589988, 590363, 590458, 591349, 599302, 599381,\n",
       "       599418, 599624, 599886, 600015, 600079, 600080, 600089, 600164,\n",
       "       600305, 600382, 600802, 600893, 602255, 610164, 610235, 610731,\n",
       "       610922, 610923, 610932, 611144, 611148, 611225, 611645, 611828,\n",
       "       612788, 613096, 614047, 618330, 619682, 620911, 621054, 621057,\n",
       "       621158, 621197, 621239, 621726, 621735, 621868, 621944, 621947,\n",
       "       622105, 622272, 622533, 622535, 623888, 623993, 628391, 630546,\n",
       "       631673, 631674, 632027, 632081, 632261, 632326, 632336, 632546,\n",
       "       632704, 634486, 634591, 634695, 639027, 640634, 642137, 642274,\n",
       "       642619, 642852, 642917, 642918, 642927, 643375, 644653, 644956,\n",
       "       645165, 651061, 652744, 652795, 653365, 653368, 653430, 653439,\n",
       "       653723, 653800, 653883, 655162, 655565, 655669, 661629, 662054,\n",
       "       662850, 663216, 663226, 663258, 663259, 663785, 663859, 664139,\n",
       "       664381, 673327, 673407, 673647, 673687, 674285, 674719, 674974,\n",
       "       676008, 683976, 684675, 684677, 684744, 685357, 687777, 693726,\n",
       "       694084, 694488, 694763, 694813, 694969, 695040, 695041, 695042,\n",
       "       695112, 695474, 695723, 697267, 697369, 698167, 698266, 704136,\n",
       "       704493, 705110, 705799, 707483, 707484, 707586, 707688, 713677,\n",
       "       715355, 716800, 717785, 717990, 719290, 722138, 723189, 725605,\n",
       "       727040, 727136, 727525, 728026, 728128, 728129, 728231, 736325,\n",
       "       736474, 737677, 737776, 741105, 742670, 744463, 745848, 745891,\n",
       "       746029, 746445, 746455, 749222, 749520, 750802, 750887, 750972,\n",
       "       751057, 753825, 753906, 754507, 754737, 754789, 754841, 756410,\n",
       "       756411, 757558, 758146, 758444, 759144, 761092, 763666, 763747,\n",
       "       764561, 764613, 764664, 768164, 768264, 768364, 768863, 773429,\n",
       "       774292, 774343, 774441, 774490, 774625, 775611, 780276, 783937,\n",
       "       784271, 784673, 784720, 785295, 786841, 788388, 789462, 789541,\n",
       "       791428, 791514, 791600, 791686, 793723, 793792, 794489, 800621,\n",
       "       800705, 800789, 800871, 802483, 802527, 802862, 808730, 809080,\n",
       "       809255, 809342, 809428, 809597, 809681, 809765, 811377, 811425,\n",
       "       811642, 811683, 811803, 812468, 815044, 817980, 818065, 818150,\n",
       "       818319, 818403, 818488, 818569, 820062, 820106, 820321, 820437,\n",
       "       820472, 820506, 821701, 826486, 826823, 826907, 826992, 827073,\n",
       "       828573, 828785, 832773, 834971, 835140, 835224, 835307, 835388,\n",
       "       836843, 837042, 837080, 837264, 842826, 842911, 843246, 843328,\n",
       "       843411, 843492, 845111, 845451, 847789, 851141, 851223, 851304,\n",
       "       851384, 861287, 867610, 868308, 870594, 880343, 888889, 889049,\n",
       "       889050, 889130, 926321, 930422, 934433, 934543])"
      ]
     },
     "execution_count": 14,
     "metadata": {},
     "output_type": "execute_result"
    }
   ],
   "source": [
    "Sb_beginning_0"
   ]
  },
  {
   "cell_type": "code",
   "execution_count": 15,
   "id": "4f5de363-0624-4c68-992d-3d0f318c0c37",
   "metadata": {},
   "outputs": [],
   "source": [
    "scan_100206_long_no_bg = np.delete(scan_100206_long_no_background, Sb_beginning_0, 0)"
   ]
  },
  {
   "cell_type": "markdown",
   "id": "11f84071-e5b5-4ca0-af35-2ffbb83161de",
   "metadata": {},
   "source": [
    "**Normalize data**"
   ]
  },
  {
   "cell_type": "code",
   "execution_count": 16,
   "id": "bdbbde5c-5ae2-450c-a9d5-9dd7cfa2e892",
   "metadata": {},
   "outputs": [],
   "source": [
    "def get_S0(scan_long, bval_list):\n",
    "    bval_5_indices = np.where(bval_list == 0.005)[0]\n",
    "    scan_bval_5 = scan_long[:, bval_5_indices]\n",
    "    mean_bval_5 = np.mean(scan_bval_5, axis=1)\n",
    "    mean_bval_5 = mean_bval_5[:, np.newaxis]\n",
    "    return mean_bval_5"
   ]
  },
  {
   "cell_type": "code",
   "execution_count": 19,
   "id": "429d5265-1286-4818-874a-ce0129512e40",
   "metadata": {},
   "outputs": [],
   "source": [
    "S0_100206 = get_S0(scan_100206_long_no_bg, bvals)"
   ]
  },
  {
   "cell_type": "code",
   "execution_count": 20,
   "id": "b8264279-6eb9-4674-8bd6-abdf1350dc7e",
   "metadata": {},
   "outputs": [
    {
     "data": {
      "text/plain": [
       "array([[450.87282308],\n",
       "       [454.07630242],\n",
       "       [473.0456704 ],\n",
       "       ...,\n",
       "       [871.7351515 ],\n",
       "       [643.40559726],\n",
       "       [882.28022257]])"
      ]
     },
     "execution_count": 20,
     "metadata": {},
     "output_type": "execute_result"
    }
   ],
   "source": [
    "S0_100206"
   ]
  },
  {
   "cell_type": "code",
   "execution_count": null,
   "id": "d761e6f3-1f70-4cd1-a61e-f56ef9be2caf",
   "metadata": {},
   "outputs": [],
   "source": []
  },
  {
   "cell_type": "code",
   "execution_count": 21,
   "id": "0c6f5112-3fbd-46cd-b843-0072d7b305c8",
   "metadata": {},
   "outputs": [
    {
     "name": "stdout",
     "output_type": "stream",
     "text": [
      "[229768 536137 850262]\n"
     ]
    }
   ],
   "source": [
    "error_voxels = np.argwhere(np.logical_and(S0_100206 >= 0, S0_100206 < 1))[:,0]\n",
    "print(error_voxels)"
   ]
  },
  {
   "cell_type": "code",
   "execution_count": 22,
   "id": "4af0fe7a-573a-4647-ae1f-7ced3e3b29e7",
   "metadata": {},
   "outputs": [],
   "source": [
    "scan_long_no_bg_100206 = np.delete(scan_100206_long_no_bg, error_voxels, 0)\n",
    "S0_100206_full = np.delete(S0_100206, error_voxels, 0)"
   ]
  },
  {
   "cell_type": "code",
   "execution_count": 23,
   "id": "f8abedff-963e-4b5d-9171-d331a88d2315",
   "metadata": {},
   "outputs": [
    {
     "data": {
      "text/plain": [
       "(935439, 288)"
      ]
     },
     "execution_count": 23,
     "metadata": {},
     "output_type": "execute_result"
    }
   ],
   "source": [
    "scan_long_no_bg_100206.shape"
   ]
  },
  {
   "cell_type": "code",
   "execution_count": 24,
   "id": "a8c1f2bc-77d2-4243-ba71-d0325dcf066e",
   "metadata": {},
   "outputs": [],
   "source": [
    "normalized_scan_100206 = scan_long_no_bg_100206 / S0_100206_full"
   ]
  },
  {
   "cell_type": "code",
   "execution_count": 25,
   "id": "d1f8e2af-ef7a-4eab-8c76-3926efaf2bfd",
   "metadata": {},
   "outputs": [],
   "source": [
    "np.save('normalized_scan_100206.npy', normalized_scan_100206)"
   ]
  },
  {
   "cell_type": "code",
   "execution_count": null,
   "id": "fb4423aa-4ac1-4ff0-b8d7-7252eda5ca1f",
   "metadata": {},
   "outputs": [],
   "source": []
  },
  {
   "cell_type": "code",
   "execution_count": null,
   "id": "6199b546-ec3c-4ba6-96a7-e8d0c830a9d4",
   "metadata": {},
   "outputs": [],
   "source": [
    "X_pred_train, mu_cart_pred_train, lambda_par_pred_train, lambda_iso_pred_train,  volume_0_pred_train, volume_1_pred_train"
   ]
  },
  {
   "cell_type": "code",
   "execution_count": 100,
   "id": "691c29b4-1461-43cc-b1bd-15b630fb1cab",
   "metadata": {},
   "outputs": [
    {
     "data": {
      "text/plain": [
       "torch.Size([935439, 1])"
      ]
     },
     "execution_count": 100,
     "metadata": {},
     "output_type": "execute_result"
    }
   ],
   "source": [
    "lambda_par_pred_train.shape"
   ]
  },
  {
   "cell_type": "code",
   "execution_count": 85,
   "id": "474dfeb8-18ba-4ec6-9e19-c86ed9df5642",
   "metadata": {},
   "outputs": [],
   "source": [
    "lambda_par_arr = lambda_par_pred_train.detach().numpy()"
   ]
  },
  {
   "cell_type": "code",
   "execution_count": 87,
   "id": "3ab8289a-2235-4335-81d8-cb629ebd6df3",
   "metadata": {},
   "outputs": [],
   "source": [
    "lambda_par_arr = np.insert(lambda_par_arr, 229768, 0., axis=0)"
   ]
  },
  {
   "cell_type": "code",
   "execution_count": 91,
   "id": "0b1a6742-bc79-4b67-9aad-9012b183067e",
   "metadata": {},
   "outputs": [
    {
     "data": {
      "text/plain": [
       "0.0"
      ]
     },
     "execution_count": 91,
     "metadata": {},
     "output_type": "execute_result"
    }
   ],
   "source": [
    "lambda_par_arr[229768,0]"
   ]
  },
  {
   "cell_type": "code",
   "execution_count": 101,
   "id": "b03cd917-7fb2-4fa6-b21e-0cd2cd64f03a",
   "metadata": {},
   "outputs": [
    {
     "name": "stdout",
     "output_type": "stream",
     "text": [
      "0.20945032\n",
      "tensor(0.2095, grad_fn=<SelectBackward0>)\n"
     ]
    }
   ],
   "source": [
    "print(lambda_par_arr[850265,0])\n",
    "print(lambda_par_pred_train[850262,0])"
   ]
  },
  {
   "cell_type": "code",
   "execution_count": 95,
   "id": "640637ba-1ee5-4921-8b23-a23dceada4d4",
   "metadata": {},
   "outputs": [],
   "source": [
    "lambda_par_arr = np.insert(lambda_par_arr, 536137, 0., axis=0)"
   ]
  },
  {
   "cell_type": "code",
   "execution_count": 96,
   "id": "c9653a76-b9eb-443a-a770-b892b6ad5b2f",
   "metadata": {},
   "outputs": [
    {
     "data": {
      "text/plain": [
       "(935441, 1)"
      ]
     },
     "execution_count": 96,
     "metadata": {},
     "output_type": "execute_result"
    }
   ],
   "source": [
    "lambda_par_arr.shape"
   ]
  },
  {
   "cell_type": "code",
   "execution_count": 97,
   "id": "f684170e-c0a5-4e80-b3da-016342082a2f",
   "metadata": {},
   "outputs": [],
   "source": [
    "lambda_par_arr = np.insert(lambda_par_arr, 850262, 0., axis=0)"
   ]
  },
  {
   "cell_type": "code",
   "execution_count": 102,
   "id": "c2ecac85-730a-44e0-a14f-f72ce1168a07",
   "metadata": {},
   "outputs": [
    {
     "data": {
      "text/plain": [
       "(935442, 1)"
      ]
     },
     "execution_count": 102,
     "metadata": {},
     "output_type": "execute_result"
    }
   ],
   "source": [
    "lambda_par_arr.shape"
   ]
  },
  {
   "cell_type": "code",
   "execution_count": null,
   "id": "b26e4171-bd76-4df0-aba3-dddfeefcd0b9",
   "metadata": {},
   "outputs": [],
   "source": [
    "reshape(145,1,145)"
   ]
  },
  {
   "cell_type": "code",
   "execution_count": null,
   "id": "c34d256d-2c97-4e83-8f4c-916417cff9c8",
   "metadata": {},
   "outputs": [],
   "source": []
  },
  {
   "cell_type": "code",
   "execution_count": null,
   "id": "f417f962-40c1-41c2-81d1-37ca00fe6486",
   "metadata": {},
   "outputs": [],
   "source": []
  },
  {
   "cell_type": "code",
   "execution_count": null,
   "id": "ce831e17-9a58-462c-9a90-4b01347f02e1",
   "metadata": {},
   "outputs": [],
   "source": []
  },
  {
   "cell_type": "code",
   "execution_count": null,
   "id": "3c54fd8d-95c6-400c-a235-c0bcb551c9d4",
   "metadata": {},
   "outputs": [],
   "source": []
  },
  {
   "cell_type": "code",
   "execution_count": null,
   "id": "071623ea-e0f3-4abc-9d56-5c9226802ed7",
   "metadata": {},
   "outputs": [],
   "source": []
  },
  {
   "cell_type": "code",
   "execution_count": null,
   "id": "d561695a-5fc2-45bd-aa02-b684c159bb19",
   "metadata": {},
   "outputs": [],
   "source": []
  },
  {
   "cell_type": "code",
   "execution_count": null,
   "id": "3570c459-2cd4-41fd-9b80-6541b82c011b",
   "metadata": {},
   "outputs": [],
   "source": []
  },
  {
   "cell_type": "code",
   "execution_count": null,
   "id": "7914cdf2-5a33-4bf9-8790-7759733419a9",
   "metadata": {},
   "outputs": [],
   "source": []
  },
  {
   "cell_type": "code",
   "execution_count": null,
   "id": "381a6b63-2a2e-468c-b1b9-aa0c658fbe4b",
   "metadata": {},
   "outputs": [],
   "source": []
  },
  {
   "cell_type": "code",
   "execution_count": null,
   "id": "2dfae08c-4de2-4f7b-bd59-0c92811091e3",
   "metadata": {},
   "outputs": [],
   "source": []
  },
  {
   "cell_type": "code",
   "execution_count": null,
   "id": "267077d4-1ce8-4af2-b18f-b311d0eebe5d",
   "metadata": {},
   "outputs": [],
   "source": []
  },
  {
   "cell_type": "code",
   "execution_count": null,
   "id": "560ad2f7-a635-4308-bd93-446fe8359126",
   "metadata": {},
   "outputs": [],
   "source": []
  },
  {
   "cell_type": "code",
   "execution_count": null,
   "id": "1ebe1dce-a78e-46d8-98c5-01f304182cd3",
   "metadata": {},
   "outputs": [],
   "source": []
  },
  {
   "cell_type": "code",
   "execution_count": null,
   "id": "ebc61159-41ac-465d-8f37-9ace30ca2d16",
   "metadata": {},
   "outputs": [],
   "source": []
  },
  {
   "cell_type": "code",
   "execution_count": null,
   "id": "452eba0d-d274-4a67-a09d-eacc0dfd7d6b",
   "metadata": {},
   "outputs": [],
   "source": []
  },
  {
   "cell_type": "code",
   "execution_count": null,
   "id": "e2389e95-7e39-48d2-bdc4-db6b0a7873f9",
   "metadata": {},
   "outputs": [],
   "source": []
  },
  {
   "cell_type": "code",
   "execution_count": null,
   "id": "4b181917-0399-49fd-b3dc-30741b99eea3",
   "metadata": {},
   "outputs": [],
   "source": []
  },
  {
   "cell_type": "code",
   "execution_count": null,
   "id": "7555d56c-2e24-491b-a9c9-2132ecf04066",
   "metadata": {},
   "outputs": [],
   "source": []
  },
  {
   "cell_type": "code",
   "execution_count": null,
   "id": "c339c3a3-9e4c-4261-9387-320d4d781350",
   "metadata": {},
   "outputs": [],
   "source": []
  },
  {
   "cell_type": "code",
   "execution_count": null,
   "id": "19436347-7e1c-46a9-850e-5d8b2d81a0e0",
   "metadata": {},
   "outputs": [],
   "source": []
  },
  {
   "cell_type": "code",
   "execution_count": 69,
   "id": "55d6dbdb-0225-4dfd-93e6-4a64ed1f9b43",
   "metadata": {},
   "outputs": [
    {
     "name": "stdout",
     "output_type": "stream",
     "text": [
      "[  0  16  32  48  64  80  95 112 128 144 160 176 191 208 224 240 256 272]\n"
     ]
    }
   ],
   "source": [
    "bval_5_indices = np.where(bvals == 0.005)[0]\n",
    "print(bval_5_indices)"
   ]
  },
  {
   "cell_type": "code",
   "execution_count": 71,
   "id": "126d931a-f699-4fd1-85c9-d10bed6eb7ef",
   "metadata": {},
   "outputs": [
    {
     "name": "stdout",
     "output_type": "stream",
     "text": [
      "[[ 587.17718506  409.42816162  470.43640137 ...  340.37411499\n",
      "   605.80456543  388.1423645 ]\n",
      " [ 507.74441528  445.08627319  597.91534424 ...  475.06033325\n",
      "   395.30215454  638.90899658]\n",
      " [ 487.08456421  528.68145752  532.13592529 ...  471.65945435\n",
      "   254.88105774  486.02966309]\n",
      " ...\n",
      " [ 812.58972168  789.32568359  799.10009766 ...  825.18902588\n",
      "  1041.23181152  913.80828857]\n",
      " [ 611.19360352  689.40771484  432.87844849 ...  694.77679443\n",
      "   690.64923096  731.20794678]\n",
      " [ 881.83642578  683.88171387  497.27581787 ...  906.99334717\n",
      "  1008.73608398 1035.60583496]]\n"
     ]
    }
   ],
   "source": [
    "scan_bval_5 = scan_100206_long_no_bg[:, bval_5_indices]\n",
    "print(scan_bval_5)"
   ]
  },
  {
   "cell_type": "code",
   "execution_count": 73,
   "id": "ccbea822-b091-4b6e-8591-4d488f5cfd26",
   "metadata": {},
   "outputs": [
    {
     "name": "stdout",
     "output_type": "stream",
     "text": [
      "[450.87282308 454.07630242 473.0456704  ... 871.7351515  643.40559726\n",
      " 882.28022257]\n"
     ]
    }
   ],
   "source": [
    "mean_bval_5 = np.mean(scan_bval_5, axis=1)\n",
    "print(mean_bval_5)"
   ]
  },
  {
   "cell_type": "code",
   "execution_count": 94,
   "id": "6e88a31b-e478-444c-9641-5175bd5e1c55",
   "metadata": {},
   "outputs": [],
   "source": [
    "c = mean_bval_5.reshape(len(mean_bval_5),1)"
   ]
  },
  {
   "cell_type": "code",
   "execution_count": null,
   "id": "204e1652-2fdf-40b0-a8e4-14e5369b909a",
   "metadata": {},
   "outputs": [],
   "source": []
  },
  {
   "cell_type": "code",
   "execution_count": null,
   "id": "e2862839-c04b-4e23-b166-95d16d9a2a0f",
   "metadata": {},
   "outputs": [],
   "source": []
  },
  {
   "cell_type": "code",
   "execution_count": null,
   "id": "24dc03cb-3045-4db5-9ee3-eb9671e57a82",
   "metadata": {},
   "outputs": [],
   "source": []
  },
  {
   "cell_type": "code",
   "execution_count": null,
   "id": "2373d55d-648a-4551-a78d-a09a266c3a6e",
   "metadata": {},
   "outputs": [],
   "source": []
  },
  {
   "cell_type": "code",
   "execution_count": 12,
   "id": "92d234ef-fd2c-4dcf-abf0-5feff28c72cc",
   "metadata": {},
   "outputs": [
    {
     "data": {
      "image/png": "[encoded data removed]",
      "text/plain": [
       "<Figure size 640x480 with 1 Axes>"
      ]
     },
     "metadata": {},
     "output_type": "display_data"
    }
   ],
   "source": [
    "epoch_arr = np.arange(0, len(loss_arr))\n",
    "loss_arr = np.array(loss_arr)\n",
    "plt.plot(epoch_arr, loss_arr)\n",
    "plt.xlabel(\"Epochs\")\n",
    "plt.ylabel(\"Runing Loss\")\n",
    "plt.show()"
   ]
  },
  {
   "cell_type": "code",
   "execution_count": 19,
   "id": "ab666b34-e26f-44f6-91bc-825e151074d6",
   "metadata": {},
   "outputs": [
    {
     "data": {
      "image/png": "[encoded data removed]",
      "text/plain": [
       "<Figure size 640x480 with 1 Axes>"
      ]
     },
     "metadata": {},
     "output_type": "display_data"
    }
   ],
   "source": [
    "epoch_arr = np.arange(0, len(loss_arr))\n",
    "loss_arr = np.array(loss_arr)\n",
    "plt.plot(epoch_arr, loss_arr)\n",
    "plt.xlabel(\"Epochs\")\n",
    "plt.ylabel(\"Runing Loss\")\n",
    "plt.show()"
   ]
  },
  {
   "cell_type": "code",
   "execution_count": 13,
   "id": "be13d99a-5be9-411b-8038-bf6958a10cd3",
   "metadata": {},
   "outputs": [
    {
     "data": {
      "text/plain": [
       "BallStickNet(\n",
       "  (fc_layers): ModuleList(\n",
       "    (0): Linear(in_features=288, out_features=288, bias=True)\n",
       "    (1): ELU(alpha=1.0)\n",
       "    (2): Linear(in_features=288, out_features=288, bias=True)\n",
       "    (3): ELU(alpha=1.0)\n",
       "    (4): Linear(in_features=288, out_features=288, bias=True)\n",
       "    (5): ELU(alpha=1.0)\n",
       "  )\n",
       "  (encoder): Sequential(\n",
       "    (0): Linear(in_features=288, out_features=288, bias=True)\n",
       "    (1): ELU(alpha=1.0)\n",
       "    (2): Linear(in_features=288, out_features=288, bias=True)\n",
       "    (3): ELU(alpha=1.0)\n",
       "    (4): Linear(in_features=288, out_features=288, bias=True)\n",
       "    (5): ELU(alpha=1.0)\n",
       "    (6): Linear(in_features=288, out_features=5, bias=True)\n",
       "  )\n",
       ")"
      ]
     },
     "execution_count": 13,
     "metadata": {},
     "output_type": "execute_result"
    }
   ],
   "source": [
    "net.eval()"
   ]
  },
  {
   "cell_type": "code",
   "execution_count": 14,
   "id": "addeb61f-a290-46b5-8807-168fdf1e623e",
   "metadata": {},
   "outputs": [],
   "source": [
    "X_pred_train, mu_cart_pred_train, lambda_par_pred_train, lambda_iso_pred_train,  volume_0_pred_train, volume_1_pred_train = net(torch.from_numpy(normalized_scan_long_no_background_100206[0:128,:].astype(np.float32)))"
   ]
  },
  {
   "cell_type": "code",
   "execution_count": 17,
   "id": "2203edd4-8372-4c8e-9670-e460bf6a8eab",
   "metadata": {},
   "outputs": [
    {
     "data": {
      "text/plain": [
       "[<matplotlib.lines.Line2D at 0x1c5d83f40>]"
      ]
     },
     "execution_count": 17,
     "metadata": {},
     "output_type": "execute_result"
    },
    {
     "data": {
      "image/png": "[encoded data removed]",
      "text/plain": [
       "<Figure size 640x480 with 1 Axes>"
      ]
     },
     "metadata": {},
     "output_type": "display_data"
    }
   ],
   "source": [
    "plt.plot(X_pred_train[0,:].detach().numpy())\n",
    "plt.plot(normalized_scan_long_no_background_100206[0,:])"
   ]
  },
  {
   "cell_type": "code",
   "execution_count": null,
   "id": "6685aea8-cbca-425f-8013-79b85ef8b961",
   "metadata": {},
   "outputs": [],
   "source": []
  }
 ],
 "metadata": {
  "kernelspec": {
   "display_name": "Python 3 (ipykernel)",
   "language": "python",
   "name": "python3"
  },
  "language_info": {
   "codemirror_mode": {
    "name": "ipython",
    "version": 3
   },
   "file_extension": ".py",
   "mimetype": "text/x-python",
   "name": "python",
   "nbconvert_exporter": "python",
   "pygments_lexer": "ipython3",
   "version": "3.10.8"
  }
 },
 "nbformat": 4,
 "nbformat_minor": 5
}
