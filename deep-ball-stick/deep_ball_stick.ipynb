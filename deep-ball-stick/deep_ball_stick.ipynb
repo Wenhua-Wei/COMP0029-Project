{
 "cells": [
  {
   "cell_type": "code",
   "execution_count": 1,
   "id": "0a966c15-8408-406a-a78a-35196f3e3abb",
   "metadata": {},
   "outputs": [],
   "source": [
    "import nibabel as nib\n",
    "import numpy as np\n",
    "\n",
    "from dmipy.core.acquisition_scheme import acquisition_scheme_from_bvalues\n",
    "from dmipy.signal_models import cylinder_models, gaussian_models\n",
    "from dmipy.core.modeling_framework import MultiCompartmentModel\n",
    "\n",
    "import matplotlib.pyplot as plt\n",
    "\n",
    "import config\n",
    "import torch\n",
    "import torch.nn as nn\n",
    "import torch.optim as optim\n",
    "import torch.utils.data as utils\n",
    "from tqdm import tqdm\n",
    "\n",
    "import process_data"
   ]
  },
  {
   "cell_type": "code",
   "execution_count": 2,
   "id": "07a7c8f0-2333-48f4-9360-ed1f19189052",
   "metadata": {
    "jupyter": {
     "source_hidden": true
    },
    "tags": []
   },
   "outputs": [],
   "source": [
    "def remove_background(scan_long, mask_long):\n",
    "    is_bg = mask_long == 1\n",
    "    is_bg = is_bg.reshape(len(is_bg))\n",
    "    return scan_long[is_bg,:]"
   ]
  },
  {
   "cell_type": "code",
   "execution_count": 4,
   "id": "e289c8cc-4a55-476d-bfc7-b40a81fb5198",
   "metadata": {},
   "outputs": [],
   "source": [
    "def indices_beginning_with_zero(scan_long_no_bg):\n",
    "    return np.where(scan_long_no_bg[:, 0] == 0)[0]"
   ]
  },
  {
   "cell_type": "code",
   "execution_count": null,
   "id": "be2974c1-b508-4010-9d3e-9b062ae2679b",
   "metadata": {},
   "outputs": [],
   "source": []
  },
  {
   "cell_type": "code",
   "execution_count": 2,
   "id": "58942b20-1f2b-4ec0-b514-c571aeeee4fd",
   "metadata": {},
   "outputs": [],
   "source": [
    "def squash(param, p_min, p_max):\n",
    "    squashed_param_tensor =torch.clamp(param, min=p_min, max=p_max)\n",
    "    unsqueezed_param = squashed_param_tensor.unsqueeze(1)\n",
    "    return unsqueezed_param"
   ]
  },
  {
   "cell_type": "code",
   "execution_count": 3,
   "id": "23b72927-83a5-41ce-9203-af1b9ecf2f53",
   "metadata": {},
   "outputs": [],
   "source": [
    "def unitsphere2cart(theta, phi, X):\n",
    "    mu_cart = torch.zeros(3,X.size()[0])\n",
    "    sintheta = torch.sin(theta)\n",
    "    mu_cart[0,:] = torch.squeeze(sintheta * torch.cos(phi))\n",
    "    mu_cart[1,:] = torch.squeeze(sintheta * torch.sin(phi))\n",
    "    mu_cart[2,:] = torch.squeeze(torch.cos(theta))\n",
    "    return mu_cart"
   ]
  },
  {
   "cell_type": "code",
   "execution_count": 4,
   "id": "a7b280b7-00e0-4fc6-90a4-d0e1c6783b7c",
   "metadata": {},
   "outputs": [],
   "source": [
    "def get_acquisition_scheme():\n",
    "    bvals = np.loadtxt(\n",
    "        config.data_folder2 + '/100206/bvals'\n",
    "    ) * 1e-3\n",
    "    # s/m^2\n",
    "    gradient_directions = np.loadtxt(\n",
    "        config.data_folder2 + '/100206/bvecs'\n",
    "    ).T\n",
    "\n",
    "    delta = 0.0106\n",
    "    Delta = 0.0431\n",
    "    return acquisition_scheme_from_bvalues(bvals, gradient_directions, delta, Delta)"
   ]
  },
  {
   "cell_type": "code",
   "execution_count": 5,
   "id": "3fedcdfb-cc27-48da-bd2e-70afd722e5ca",
   "metadata": {},
   "outputs": [],
   "source": [
    "class BallStickNet(nn.Module):\n",
    "    \n",
    "    def __init__(self, gradient_directions, b_values):\n",
    "        super(BallStickNet, self).__init__()\n",
    "        self.gradient_directions = gradient_directions\n",
    "        self.b_values = b_values\n",
    "        self.fc_layers = nn.ModuleList()\n",
    "        for i in range(3): \n",
    "            self.fc_layers.extend([nn.Linear(len(b_values), len(b_values)), nn.ELU()])\n",
    "        self.encoder = nn.Sequential(*self.fc_layers, nn.Linear(len(b_values), 6))\n",
    "        # if args.dropout != 0:\n",
    "        #     self.dropout = nn.Dropout(args.dropout)\n",
    "            \n",
    "    def forward(self, X):\n",
    "        # if args.dropout != 0:\n",
    "        #     X = self.dropout(X)\n",
    "        params = torch.abs(self.encoder(X))\n",
    "        theta_uns = params[:, 0]\n",
    "        # theta = squash(theta_uns, 0, np.pi)\n",
    "        theta = theta_uns.unsqueeze(1)\n",
    "        phi_uns = params[:, 1]\n",
    "        # phi = squash(phi_uns, -np.pi, np.pi)\n",
    "        phi = phi_uns.unsqueeze(1)\n",
    "        mu_cart = unitsphere2cart(theta, phi, X)\n",
    "        mm_prod =  torch.einsum(\"ij,jk->ki\",self.gradient_directions, mu_cart)\n",
    "        lambda_par_uns = params[:, 2]\n",
    "        lambda_par = squash(lambda_par_uns, 0.1, 3.0)\n",
    "        lambda_iso_uns = params[:, 3]\n",
    "        lambda_iso = squash(lambda_iso_uns, 0.1, 3.0)\n",
    "        volume_0_uns = params[:, 4]\n",
    "        volume_0 = squash(volume_0_uns, 0.01, 0.99)\n",
    "        volume_1 = 1-volume_0\n",
    "        # s0 = params[:, 5].unsqueeze(1)\n",
    "        X = volume_0 * torch.exp(-self.b_values * lambda_par * mm_prod ** 2) + volume_1 * torch.exp(-self.b_values * lambda_iso)\n",
    "        return X, mu_cart, lambda_par, lambda_iso, volume_0, volume_1"
   ]
  },
  {
   "cell_type": "markdown",
   "id": "48472d21-c055-498d-8891-4f5f4e1fb4f6",
   "metadata": {},
   "source": [
    "## Trainig data"
   ]
  },
  {
   "cell_type": "code",
   "execution_count": 2,
   "id": "6ba7fdeb-58ec-4077-abc5-2a2f83410bd7",
   "metadata": {
    "tags": []
   },
   "outputs": [],
   "source": [
    "scan_100206 = process_data.get_nifti_data(config.data_folder2 + '/100206/data.nii.gz')"
   ]
  },
  {
   "cell_type": "code",
   "execution_count": 3,
   "id": "b8afd5f3-af63-4623-b1f3-b38efaf17cb6",
   "metadata": {},
   "outputs": [],
   "source": [
    "mask_100206 = process_data.get_nifti_data(config.data_folder2 + '/100206/nodif_brain_mask.nii.gz')"
   ]
  },
  {
   "cell_type": "code",
   "execution_count": 4,
   "id": "68c94f2e-69dd-447e-9956-2d5237b8f485",
   "metadata": {},
   "outputs": [],
   "source": [
    "scan_dimension = scan_100206.shape\n",
    "x = scan_dimension[0]\n",
    "y = scan_dimension[1]\n",
    "z = scan_dimension[2]\n",
    "b = scan_dimension[3]"
   ]
  },
  {
   "cell_type": "code",
   "execution_count": 5,
   "id": "0dedc5a8-2e87-440d-882c-f3cc699bf09c",
   "metadata": {},
   "outputs": [],
   "source": [
    "scan_100206_long = np.reshape(scan_100206, (x*y*z, b))\n",
    "\n",
    "mask_100206_long = np.reshape(mask_100206, (x*y*z, 1))"
   ]
  },
  {
   "cell_type": "code",
   "execution_count": 6,
   "id": "f07bc168-5b0c-4de5-81b6-44a2c2155047",
   "metadata": {
    "jupyter": {
     "source_hidden": true
    },
    "tags": []
   },
   "outputs": [],
   "source": [
    "scan_100206_long_no_background = process_data.remove_background(scan_100206_long, mask_100206_long)"
   ]
  },
  {
   "cell_type": "code",
   "execution_count": 37,
   "id": "d8e4def3-f83b-42bf-8ec5-2859311f23c6",
   "metadata": {
    "jupyter": {
     "source_hidden": true
    },
    "tags": []
   },
   "outputs": [],
   "source": [
    "# Error voxels\n",
    "indices_beginning_0 = np.where(scan_100206_long_no_background[:, 0] == 0)[0]"
   ]
  },
  {
   "cell_type": "code",
   "execution_count": 39,
   "id": "5a8c7fe2-de39-4c89-b6ff-8227c6823656",
   "metadata": {
    "collapsed": true,
    "jupyter": {
     "outputs_hidden": true,
     "source_hidden": true
    },
    "tags": []
   },
   "outputs": [
    {
     "data": {
      "text/plain": [
       "814"
      ]
     },
     "execution_count": 39,
     "metadata": {},
     "output_type": "execute_result"
    }
   ],
   "source": [
    "len(indices_beginning_0)"
   ]
  },
  {
   "cell_type": "code",
   "execution_count": 6,
   "id": "4f09d572-643e-4e42-ad72-678ec1d9a0f4",
   "metadata": {},
   "outputs": [],
   "source": [
    "# Error voxels\n",
    "indices_beginning_0_all = np.where(scan_100206_long[:, 0] == 0)[0]"
   ]
  },
  {
   "cell_type": "code",
   "execution_count": 7,
   "id": "5be6e76e-fe57-45be-9aab-3b349a15fc86",
   "metadata": {},
   "outputs": [
    {
     "data": {
      "text/plain": [
       "2234299"
      ]
     },
     "execution_count": 7,
     "metadata": {},
     "output_type": "execute_result"
    }
   ],
   "source": [
    "len(indices_beginning_0_all)"
   ]
  },
  {
   "cell_type": "code",
   "execution_count": 8,
   "id": "b7fe4027-9dc3-41a9-99fb-0cacccc03424",
   "metadata": {},
   "outputs": [],
   "source": [
    "mask_0 = np.where(mask_100206_long[:,0] == 0)[0]"
   ]
  },
  {
   "cell_type": "code",
   "execution_count": 9,
   "id": "2b300e64-5485-4d6e-a42e-5d1f8d8eb7c9",
   "metadata": {},
   "outputs": [
    {
     "data": {
      "text/plain": [
       "2722094"
      ]
     },
     "execution_count": 9,
     "metadata": {},
     "output_type": "execute_result"
    }
   ],
   "source": [
    "len(mask_0)"
   ]
  },
  {
   "cell_type": "code",
   "execution_count": 10,
   "id": "9bcc66a1-0f21-4623-b56d-77d5814bc33f",
   "metadata": {},
   "outputs": [],
   "source": [
    "mask_100206_long_pro = np.copy(mask_100206_long)"
   ]
  },
  {
   "cell_type": "code",
   "execution_count": 11,
   "id": "34c8a995-de9b-4dd5-830d-101c467b46fa",
   "metadata": {},
   "outputs": [],
   "source": [
    "mask_100206_long_pro[indices_beginning_0_all] = 0"
   ]
  },
  {
   "cell_type": "code",
   "execution_count": 12,
   "id": "d1d36dc5-1f95-4867-92de-6db8d867e4f0",
   "metadata": {},
   "outputs": [
    {
     "name": "stdout",
     "output_type": "stream",
     "text": [
      "2722908\n"
     ]
    }
   ],
   "source": [
    "mask_0_pro = np.where(mask_100206_long_pro[:,0] == 0)[0]\n",
    "print(len(mask_0_pro))"
   ]
  },
  {
   "cell_type": "code",
   "execution_count": null,
   "id": "4ce147d9-c78a-4f74-891a-bc49c3305e42",
   "metadata": {},
   "outputs": [],
   "source": [
    "scan_100206_long_no_background = process_data.remove_background(scan_100206_long, mask_100206_long_pro)"
   ]
  },
  {
   "cell_type": "code",
   "execution_count": null,
   "id": "7843c387-0ca5-4753-a948-9d6463c1d2d3",
   "metadata": {},
   "outputs": [],
   "source": []
  },
  {
   "cell_type": "code",
   "execution_count": null,
   "id": "9cada2e2-1ff3-4acc-8ccf-afa8da623cf7",
   "metadata": {},
   "outputs": [],
   "source": []
  },
  {
   "cell_type": "code",
   "execution_count": null,
   "id": "e8d57543-f50a-4464-9929-578d98434551",
   "metadata": {},
   "outputs": [],
   "source": []
  },
  {
   "cell_type": "code",
   "execution_count": null,
   "id": "40d2c3da-ca08-4a27-b097-fe8ca0fa579b",
   "metadata": {},
   "outputs": [],
   "source": []
  },
  {
   "cell_type": "code",
   "execution_count": null,
   "id": "0c1e2cc9-a0c0-4766-b294-403e12134462",
   "metadata": {},
   "outputs": [],
   "source": []
  },
  {
   "cell_type": "code",
   "execution_count": 35,
   "id": "ba6429e8-cf9c-4bb5-82b4-334beb71cdfc",
   "metadata": {},
   "outputs": [
    {
     "data": {
      "text/plain": [
       "[<matplotlib.lines.Line2D at 0x1c6295a50>]"
      ]
     },
     "execution_count": 35,
     "metadata": {},
     "output_type": "execute_result"
    },
    {
     "data": {
      "image/png": "[encoded data removed]",
      "text/plain": [
       "<Figure size 640x480 with 1 Axes>"
      ]
     },
     "metadata": {},
     "output_type": "display_data"
    }
   ],
   "source": [
    "plt.plot(bvals, scan_100206_long_no_background[201834,:], \"o\")"
   ]
  },
  {
   "cell_type": "code",
   "execution_count": null,
   "id": "4b5296aa-fca6-479a-8bf5-f05ee8ac8d7e",
   "metadata": {},
   "outputs": [],
   "source": []
  },
  {
   "cell_type": "code",
   "execution_count": null,
   "id": "cfc51375-3bdc-439e-834b-e2aa3c3a6870",
   "metadata": {},
   "outputs": [],
   "source": []
  },
  {
   "cell_type": "code",
   "execution_count": null,
   "id": "77c83d8b-ce8e-4d2f-aeff-20a10603d99d",
   "metadata": {},
   "outputs": [],
   "source": []
  },
  {
   "cell_type": "code",
   "execution_count": null,
   "id": "56d3ee85-2131-450e-946a-ff363cc6e229",
   "metadata": {},
   "outputs": [],
   "source": []
  },
  {
   "cell_type": "code",
   "execution_count": null,
   "id": "b78e6607-0d64-4b19-86ca-1605ff2a881f",
   "metadata": {},
   "outputs": [],
   "source": []
  },
  {
   "cell_type": "code",
   "execution_count": null,
   "id": "7fc02a7b-7a1b-4957-ad85-e0f63b8f44b4",
   "metadata": {},
   "outputs": [],
   "source": []
  },
  {
   "cell_type": "code",
   "execution_count": null,
   "id": "8205d43f-77cf-497d-885f-ecab73a0f91b",
   "metadata": {},
   "outputs": [],
   "source": []
  },
  {
   "cell_type": "code",
   "execution_count": null,
   "id": "6e96fd38-e30b-499f-9e95-ffc073923968",
   "metadata": {},
   "outputs": [],
   "source": []
  },
  {
   "cell_type": "code",
   "execution_count": 51,
   "id": "f30c92f3-d018-4649-b8b3-297239fdf28c",
   "metadata": {},
   "outputs": [],
   "source": [
    "normalized_scan_100206 = np.load('normalized_scan_100206.npy')"
   ]
  },
  {
   "cell_type": "code",
   "execution_count": 52,
   "id": "36b4cdc7-8e46-4798-9e32-f9a159a3e97d",
   "metadata": {},
   "outputs": [
    {
     "data": {
      "text/plain": [
       "array([[1.30231222, 0.79474696, 0.5139521 , ..., 0.6643841 , 0.56590588,\n",
       "        0.31567214],\n",
       "       [1.11819184, 0.4604651 , 0.57350542, ..., 0.44744371, 0.67474822,\n",
       "        0.35966567],\n",
       "       [1.02967767, 0.47128865, 0.34843168, ..., 0.36720369, 0.55323395,\n",
       "        0.29989738],\n",
       "       ...,\n",
       "       [0.93215207, 0.33621187, 0.17415006, ..., 0.26950286, 0.17028434,\n",
       "        0.28959991],\n",
       "       [0.94993517, 0.55332968, 0.43955593, ..., 0.30752529, 0.37428291,\n",
       "        0.17693152],\n",
       "       [0.99949699, 0.14943101, 0.15482027, ..., 0.2864064 , 0.37132859,\n",
       "        0.30503306]])"
      ]
     },
     "execution_count": 52,
     "metadata": {},
     "output_type": "execute_result"
    }
   ],
   "source": [
    "normalized_scan_100206"
   ]
  },
  {
   "cell_type": "code",
   "execution_count": 58,
   "id": "7b8f8d98-79eb-4fdd-a15b-e8ac2f0e9188",
   "metadata": {},
   "outputs": [
    {
     "data": {
      "text/plain": [
       "[<matplotlib.lines.Line2D at 0x1cdfae2f0>]"
      ]
     },
     "execution_count": 58,
     "metadata": {},
     "output_type": "execute_result"
    },
    {
     "data": {
      "image/png": "[encoded data removed]",
      "text/plain": [
       "<Figure size 640x480 with 1 Axes>"
      ]
     },
     "metadata": {},
     "output_type": "display_data"
    }
   ],
   "source": [
    "plt.plot(bvals, normalized_scan_100206[0,:], \"o\")"
   ]
  },
  {
   "cell_type": "code",
   "execution_count": 59,
   "id": "9554de9c-8636-4f47-baa4-e4b80f2b9638",
   "metadata": {},
   "outputs": [
    {
     "data": {
      "text/plain": [
       "array([0.005, 1.   , 1.995, 3.005, 0.995, 2.995, 2.005, 0.99 , 1.99 ,\n",
       "       3.   , 1.   , 1.985, 2.995, 1.005, 1.995, 2.995, 0.005, 0.995,\n",
       "       2.   , 3.01 , 3.005, 0.995, 2.005, 0.995, 1.99 , 2.985, 1.005,\n",
       "       2.   , 3.005, 0.995, 1.995, 2.99 , 0.005, 3.005, 0.995, 2.   ,\n",
       "       0.99 , 1.99 , 2.99 , 0.995, 2.985, 1.995, 3.005, 0.995, 2.005,\n",
       "       1.   , 1.99 , 2.995, 0.005, 1.005, 2.005, 2.995, 3.   , 1.005,\n",
       "       1.985, 1.005, 2.985, 2.005, 0.995, 1.99 , 3.005, 1.   , 2.99 ,\n",
       "       2.   , 0.005, 0.99 , 2.005, 2.995, 1.   , 2.005, 3.   , 0.995,\n",
       "       2.005, 3.005, 1.005, 2.   , 3.01 , 0.99 , 2.005, 1.995, 0.005,\n",
       "       1.   , 3.01 , 2.985, 1.005, 1.995, 3.   , 1.   , 2.005, 3.   ,\n",
       "       0.99 , 2.005, 2.99 , 3.   , 1.   , 0.005, 2.99 , 0.995, 1.995,\n",
       "       1.995, 1.005, 2.   , 2.995, 1.005, 2.01 , 2.995, 1.005, 2.   ,\n",
       "       3.01 , 1.   , 2.005, 2.99 , 0.005, 0.99 , 2.985, 2.005, 1.   ,\n",
       "       2.005, 2.985, 0.995, 2.005, 2.99 , 0.995, 2.005, 2.99 , 1.005,\n",
       "       2.   , 3.005, 0.005, 0.995, 2.995, 1.99 , 1.005, 0.995, 2.005,\n",
       "       2.99 , 2.   , 3.   , 1.   , 2.005, 2.985, 0.99 , 1.995, 2.985,\n",
       "       0.005, 0.99 , 2.   , 3.01 , 0.995, 1.99 , 2.995, 1.005, 2.   ,\n",
       "       3.005, 1.   , 1.99 , 2.995, 2.   , 0.995, 2.99 , 0.005, 0.995,\n",
       "       3.005, 1.99 , 3.005, 1.   , 2.   , 1.   , 1.99 , 2.99 , 2.99 ,\n",
       "       0.99 , 2.01 , 0.995, 2.005, 3.   , 0.005, 1.005, 2.98 , 2.005,\n",
       "       1.   , 1.985, 2.005, 1.   , 2.985, 2.995, 0.99 , 1.995, 3.005,\n",
       "       2.995, 0.995, 0.005, 1.995, 1.005, 3.   , 1.99 , 0.995, 2.01 ,\n",
       "       2.995, 0.995, 2.005, 2.99 , 0.995, 2.   , 2.985, 1.005, 2.99 ,\n",
       "       1.995, 0.005, 3.01 , 1.005, 1.99 , 1.   , 2.005, 2.99 , 0.995,\n",
       "       2.   , 2.995, 1.   , 2.005, 2.99 , 3.   , 1.005, 1.99 , 0.005,\n",
       "       0.995, 3.01 , 2.005, 0.995, 2.   , 3.   , 2.985, 0.995, 1.99 ,\n",
       "       2.995, 0.995, 2.   , 0.995, 2.005, 3.01 , 0.005, 2.995, 1.   ,\n",
       "       1.99 , 0.995, 1.99 , 3.   , 1.   , 2.   , 2.985, 0.99 , 1.99 ,\n",
       "       2.99 , 1.   , 3.005, 1.99 , 0.005, 1.005, 2.   , 2.99 , 1.   ,\n",
       "       1.99 , 3.   , 1.   , 2.   , 2.985, 0.995, 1.99 , 3.   , 1.005,\n",
       "       3.005, 2.005, 0.005, 0.995, 1.995, 3.005, 1.   , 0.995, 2.99 ,\n",
       "       2.985, 2.005, 1.99 , 1.   , 2.99 , 2.   , 1.005, 1.995, 3.   ])"
      ]
     },
     "execution_count": 59,
     "metadata": {},
     "output_type": "execute_result"
    }
   ],
   "source": [
    "bvals"
   ]
  },
  {
   "cell_type": "code",
   "execution_count": 22,
   "id": "c7d48a55-c113-4959-8811-b39a6e9de676",
   "metadata": {
    "tags": []
   },
   "outputs": [],
   "source": [
    "# normalized_scan_100206 = np.load('normalized_scan_100206.npy')\n",
    "\n",
    "data_100206 = scan_100206_long_no_bg * 1e-3"
   ]
  },
  {
   "cell_type": "code",
   "execution_count": 23,
   "id": "7261d61a-1cb1-4181-8b50-a06a12860f6c",
   "metadata": {},
   "outputs": [
    {
     "data": {
      "text/plain": [
       "array([[0.58717719, 0.3583298 , 0.23172704, ..., 0.29955273, 0.25515158,\n",
       "        0.14232799],\n",
       "       [0.50774442, 0.20908629, 0.26041522, ..., 0.20317358, 0.30638718,\n",
       "        0.16331566],\n",
       "       [0.48708456, 0.22294106, 0.1648241 , ..., 0.17370412, 0.26170493,\n",
       "        0.14186516],\n",
       "       ...,\n",
       "       [0.81258972, 0.29308771, 0.15181273, ..., 0.23493512, 0.14844284,\n",
       "        0.25245442],\n",
       "       [0.6111936 , 0.35601541, 0.28281274, ..., 0.19786349, 0.24081572,\n",
       "        0.11383873],\n",
       "       [0.88183643, 0.13184003, 0.13659486, ..., 0.2526907 , 0.32761588,\n",
       "        0.26912463]])"
      ]
     },
     "execution_count": 23,
     "metadata": {},
     "output_type": "execute_result"
    }
   ],
   "source": [
    "data_100206"
   ]
  },
  {
   "cell_type": "code",
   "execution_count": 14,
   "id": "88e1b11b-a78e-48d5-9a3a-ae978899b0e5",
   "metadata": {},
   "outputs": [],
   "source": [
    "bvals = np.loadtxt(config.data_folder2 + '/100206/bvals') * 1e-3"
   ]
  },
  {
   "cell_type": "code",
   "execution_count": 21,
   "id": "e707a55d-c71b-45a9-8541-da4d8d937e12",
   "metadata": {},
   "outputs": [],
   "source": [
    "n = np.loadtxt(config.data_folder2 + '/100206/bvecs').T\n",
    "b_values = torch.FloatTensor(bvals)\n",
    "gradient_directions = torch.FloatTensor(n)\n",
    "\n",
    "net = BallStickNet(gradient_directions, b_values)"
   ]
  },
  {
   "cell_type": "code",
   "execution_count": 24,
   "id": "008a9b51-5336-4d13-93b6-0a5804d23466",
   "metadata": {},
   "outputs": [],
   "source": [
    "criterion = nn.MSELoss()\n",
    "optimizer = optim.Adam(net.parameters(), lr = 0.0001)"
   ]
  },
  {
   "cell_type": "code",
   "execution_count": 25,
   "id": "f2a561e8-5d5b-44c1-9850-297b93d268a2",
   "metadata": {},
   "outputs": [],
   "source": [
    "batch_size = 128\n",
    "num_batches = len(data_100206) // batch_size\n",
    "trainloader = utils.DataLoader(torch.from_numpy(data_100206.astype(np.float32)),\n",
    "                               batch_size = batch_size, \n",
    "                               shuffle = True,\n",
    "                               num_workers = 2,\n",
    "                               drop_last = True)"
   ]
  },
  {
   "cell_type": "code",
   "execution_count": 26,
   "id": "1b0a411f-4ff9-4371-af96-f6eac35c0be6",
   "metadata": {
    "collapsed": true,
    "jupyter": {
     "outputs_hidden": true
    },
    "tags": []
   },
   "outputs": [
    {
     "name": "stdout",
     "output_type": "stream",
     "text": [
      "-----------------------------------------------------------------\n",
      "Epoch: 0; Bad epochs: 0\n"
     ]
    },
    {
     "name": "stderr",
     "output_type": "stream",
     "text": [
      "100%|█████████████████████████████████████████████████████████| 7308/7308 [00:51<00:00, 143.03it/s]\n"
     ]
    },
    {
     "name": "stdout",
     "output_type": "stream",
     "text": [
      "Loss: 486.4662619717419\n",
      "Average Loss: 0.06656626463762205\n",
      "############### Saving good model ###############################\n",
      "-----------------------------------------------------------------\n",
      "Epoch: 1; Bad epochs: 0\n"
     ]
    },
    {
     "name": "stderr",
     "output_type": "stream",
     "text": [
      "100%|█████████████████████████████████████████████████████████| 7308/7308 [00:43<00:00, 167.19it/s]\n"
     ]
    },
    {
     "name": "stdout",
     "output_type": "stream",
     "text": [
      "Loss: 332.4486370049417\n",
      "Average Loss: 0.045491055966740794\n",
      "############### Saving good model ###############################\n",
      "-----------------------------------------------------------------\n",
      "Epoch: 2; Bad epochs: 0\n"
     ]
    },
    {
     "name": "stderr",
     "output_type": "stream",
     "text": [
      "100%|█████████████████████████████████████████████████████████| 7308/7308 [00:43<00:00, 167.94it/s]\n"
     ]
    },
    {
     "name": "stdout",
     "output_type": "stream",
     "text": [
      "Loss: 296.83765311539173\n",
      "Average Loss: 0.040618179134563726\n",
      "############### Saving good model ###############################\n",
      "-----------------------------------------------------------------\n",
      "Epoch: 3; Bad epochs: 0\n"
     ]
    },
    {
     "name": "stderr",
     "output_type": "stream",
     "text": [
      "100%|█████████████████████████████████████████████████████████| 7308/7308 [00:44<00:00, 165.32it/s]\n"
     ]
    },
    {
     "name": "stdout",
     "output_type": "stream",
     "text": [
      "Loss: 284.92115348018706\n",
      "Average Loss: 0.03898756889438794\n",
      "############### Saving good model ###############################\n",
      "-----------------------------------------------------------------\n",
      "Epoch: 4; Bad epochs: 0\n"
     ]
    },
    {
     "name": "stderr",
     "output_type": "stream",
     "text": [
      "100%|█████████████████████████████████████████████████████████| 7308/7308 [00:43<00:00, 166.19it/s]\n"
     ]
    },
    {
     "name": "stdout",
     "output_type": "stream",
     "text": [
      "Loss: 279.55134999379516\n",
      "Average Loss: 0.038252784618745914\n",
      "############### Saving good model ###############################\n",
      "-----------------------------------------------------------------\n",
      "Epoch: 5; Bad epochs: 0\n"
     ]
    },
    {
     "name": "stderr",
     "output_type": "stream",
     "text": [
      "100%|█████████████████████████████████████████████████████████| 7308/7308 [00:43<00:00, 169.52it/s]\n"
     ]
    },
    {
     "name": "stdout",
     "output_type": "stream",
     "text": [
      "Loss: 275.4848427083343\n",
      "Average Loss: 0.03769633863004027\n",
      "############### Saving good model ###############################\n",
      "-----------------------------------------------------------------\n",
      "Epoch: 6; Bad epochs: 0\n"
     ]
    },
    {
     "name": "stderr",
     "output_type": "stream",
     "text": [
      "100%|█████████████████████████████████████████████████████████| 7308/7308 [00:43<00:00, 166.46it/s]\n"
     ]
    },
    {
     "name": "stdout",
     "output_type": "stream",
     "text": [
      "Loss: 273.1084277164191\n",
      "Average Loss: 0.03737115869135456\n",
      "############### Saving good model ###############################\n",
      "-----------------------------------------------------------------\n",
      "Epoch: 7; Bad epochs: 0\n"
     ]
    },
    {
     "name": "stderr",
     "output_type": "stream",
     "text": [
      "100%|█████████████████████████████████████████████████████████| 7308/7308 [00:43<00:00, 166.53it/s]\n"
     ]
    },
    {
     "name": "stdout",
     "output_type": "stream",
     "text": [
      "Loss: 271.18119434453547\n",
      "Average Loss: 0.03710744312322598\n",
      "############### Saving good model ###############################\n",
      "-----------------------------------------------------------------\n",
      "Epoch: 8; Bad epochs: 0\n"
     ]
    },
    {
     "name": "stderr",
     "output_type": "stream",
     "text": [
      "100%|█████████████████████████████████████████████████████████| 7308/7308 [00:55<00:00, 131.04it/s]\n"
     ]
    },
    {
     "name": "stdout",
     "output_type": "stream",
     "text": [
      "Loss: 270.0403154883534\n",
      "Average Loss: 0.03695132943190386\n",
      "############### Saving good model ###############################\n",
      "-----------------------------------------------------------------\n",
      "Epoch: 9; Bad epochs: 0\n"
     ]
    },
    {
     "name": "stderr",
     "output_type": "stream",
     "text": [
      "100%|█████████████████████████████████████████████████████████| 7308/7308 [00:58<00:00, 124.85it/s]\n"
     ]
    },
    {
     "name": "stdout",
     "output_type": "stream",
     "text": [
      "Loss: 269.0095241740346\n",
      "Average Loss: 0.036810279717300845\n",
      "############### Saving good model ###############################\n",
      "-----------------------------------------------------------------\n",
      "Epoch: 10; Bad epochs: 0\n"
     ]
    },
    {
     "name": "stderr",
     "output_type": "stream",
     "text": [
      "  0%|▏                                                           | 23/7308 [00:02<07:02, 17.23it/s]"
     ]
    },
    {
     "name": "stdout",
     "output_type": "stream",
     "text": [
      "X_batch: \n",
      "torch.Size([128, 288])\n",
      "tensor([[5.5601, 1.6396, 0.6627,  ..., 1.9702, 0.7679, 0.3467],\n",
      "        [3.7954, 0.8858, 0.2727,  ..., 0.9524, 0.8924, 0.3056],\n",
      "        [6.0419, 0.4309, 0.1807,  ..., 0.3244, 0.3642, 0.4594],\n",
      "        ...,\n",
      "        [4.1946, 1.8668, 1.7431,  ..., 2.1781, 0.9686, 0.7748],\n",
      "        [4.2520, 2.3791, 0.9442,  ..., 1.8524, 1.5653, 0.5845],\n",
      "        [3.8642, 2.4295, 1.2519,  ..., 1.7796, 1.2402, 0.4811]])\n",
      "X_pred: \n",
      "torch.Size([128, 288])\n",
      "tensor([[5.2856, 1.8549, 0.8145,  ..., 1.8467, 0.8980, 0.5586],\n",
      "        [2.5940, 0.9559, 0.3964,  ..., 0.9621, 0.5888, 0.2544],\n",
      "        [5.2565, 0.4789, 0.2006,  ..., 0.4750, 0.2329, 0.1872],\n",
      "        ...,\n",
      "        [3.9436, 1.9920, 1.2846,  ..., 2.0398, 1.0928, 0.9105],\n",
      "        [4.4375, 2.1461, 1.0165,  ..., 2.1046, 1.3361, 0.8222],\n",
      "        [3.9758, 2.1012, 1.1305,  ..., 2.0946, 1.1692, 0.7041]],\n",
      "       grad_fn=<MulBackward0>)\n",
      "s0_pred: \n",
      "torch.Size([128, 1])\n",
      "tensor([[ 5.3164],\n",
      "        [ 2.6094],\n",
      "        [ 5.3326],\n",
      "        [ 3.6444],\n",
      "        [ 4.1074],\n",
      "        [ 3.7405],\n",
      "        [ 5.5381],\n",
      "        [ 8.6428],\n",
      "        [14.7073],\n",
      "        [ 7.2281],\n",
      "        [ 9.2053],\n",
      "        [ 5.2669],\n",
      "        [10.4342],\n",
      "        [ 3.3662],\n",
      "        [ 3.4074],\n",
      "        [ 2.6283],\n",
      "        [ 4.0913],\n",
      "        [ 9.5553],\n",
      "        [ 9.0365],\n",
      "        [ 5.7345],\n",
      "        [ 4.8361],\n",
      "        [ 6.1065],\n",
      "        [ 2.5831],\n",
      "        [10.4045],\n",
      "        [ 0.6687],\n",
      "        [ 3.1487],\n",
      "        [ 4.5291],\n",
      "        [ 3.8318],\n",
      "        [ 4.0223],\n",
      "        [ 3.2773],\n",
      "        [ 4.6552],\n",
      "        [ 1.8885],\n",
      "        [ 3.7045],\n",
      "        [ 3.4591],\n",
      "        [ 2.6197],\n",
      "        [ 3.0861],\n",
      "        [ 4.4041],\n",
      "        [ 3.4280],\n",
      "        [ 6.0262],\n",
      "        [ 4.0181],\n",
      "        [ 3.8027],\n",
      "        [ 3.0339],\n",
      "        [ 4.0135],\n",
      "        [ 6.7102],\n",
      "        [ 3.8647],\n",
      "        [ 2.7898],\n",
      "        [ 2.9788],\n",
      "        [ 3.1214],\n",
      "        [ 3.8679],\n",
      "        [ 3.6576],\n",
      "        [ 0.4763],\n",
      "        [ 0.5465],\n",
      "        [ 3.3458],\n",
      "        [ 4.3672],\n",
      "        [ 3.4038],\n",
      "        [ 3.0783],\n",
      "        [ 3.4212],\n",
      "        [11.4898],\n",
      "        [ 4.4899],\n",
      "        [ 1.4854],\n",
      "        [ 2.5342],\n",
      "        [ 3.7949],\n",
      "        [ 2.1627],\n",
      "        [ 3.7977],\n",
      "        [ 0.2232],\n",
      "        [ 1.8074],\n",
      "        [ 2.4174],\n",
      "        [ 4.0173],\n",
      "        [ 4.8257],\n",
      "        [ 3.2362],\n",
      "        [ 3.5168],\n",
      "        [ 4.6284],\n",
      "        [ 4.6965],\n",
      "        [ 5.5454],\n",
      "        [ 2.0696],\n",
      "        [ 2.1055],\n",
      "        [ 0.9766],\n",
      "        [ 0.6452],\n",
      "        [ 5.0276],\n",
      "        [ 3.4164],\n",
      "        [ 4.4185],\n",
      "        [ 4.3734],\n",
      "        [ 1.5061],\n",
      "        [ 4.0667],\n",
      "        [ 0.8866],\n",
      "        [ 2.5650],\n",
      "        [ 0.5414],\n",
      "        [ 9.0268],\n",
      "        [ 3.7922],\n",
      "        [ 3.4776],\n",
      "        [ 4.3019],\n",
      "        [ 2.4583],\n",
      "        [ 2.9159],\n",
      "        [ 2.7892],\n",
      "        [20.1233],\n",
      "        [ 0.4519],\n",
      "        [ 5.9971],\n",
      "        [ 3.8555],\n",
      "        [ 0.7636],\n",
      "        [ 3.2491],\n",
      "        [ 4.4535],\n",
      "        [ 2.8758],\n",
      "        [ 4.0927],\n",
      "        [ 8.2698],\n",
      "        [ 3.7079],\n",
      "        [ 4.0429],\n",
      "        [ 9.2105],\n",
      "        [ 2.7999],\n",
      "        [ 0.2263],\n",
      "        [ 2.8109],\n",
      "        [ 4.5335],\n",
      "        [10.8194],\n",
      "        [ 3.2293],\n",
      "        [ 4.0040],\n",
      "        [ 2.1398],\n",
      "        [ 2.9260],\n",
      "        [ 3.3261],\n",
      "        [ 4.3079],\n",
      "        [ 3.8001],\n",
      "        [ 2.8354],\n",
      "        [ 6.9124],\n",
      "        [ 3.2589],\n",
      "        [ 3.2220],\n",
      "        [ 5.2154],\n",
      "        [ 4.4999],\n",
      "        [ 3.9577],\n",
      "        [ 4.4565],\n",
      "        [ 3.9892]], grad_fn=<UnsqueezeBackward0>)\n"
     ]
    },
    {
     "name": "stderr",
     "output_type": "stream",
     "text": [
      "100%|█████████████████████████████████████████████████████████| 7308/7308 [00:52<00:00, 138.73it/s]\n"
     ]
    },
    {
     "name": "stdout",
     "output_type": "stream",
     "text": [
      "Loss: 267.6215074043721\n",
      "Average Loss: 0.03662034857750029\n",
      "############### Saving good model ###############################\n",
      "-----------------------------------------------------------------\n",
      "Epoch: 11; Bad epochs: 0\n"
     ]
    },
    {
     "name": "stderr",
     "output_type": "stream",
     "text": [
      "100%|█████████████████████████████████████████████████████████| 7308/7308 [00:48<00:00, 151.38it/s]\n"
     ]
    },
    {
     "name": "stdout",
     "output_type": "stream",
     "text": [
      "Loss: 266.9014907926321\n",
      "Average Loss: 0.036521824136922836\n",
      "############### Saving good model ###############################\n",
      "-----------------------------------------------------------------\n",
      "Epoch: 12; Bad epochs: 0\n"
     ]
    },
    {
     "name": "stderr",
     "output_type": "stream",
     "text": [
      "100%|█████████████████████████████████████████████████████████| 7308/7308 [00:44<00:00, 162.64it/s]\n"
     ]
    },
    {
     "name": "stdout",
     "output_type": "stream",
     "text": [
      "Loss: 266.21671722456813\n",
      "Average Loss: 0.03642812222558404\n",
      "############### Saving good model ###############################\n",
      "-----------------------------------------------------------------\n",
      "Epoch: 13; Bad epochs: 0\n"
     ]
    },
    {
     "name": "stderr",
     "output_type": "stream",
     "text": [
      "100%|█████████████████████████████████████████████████████████| 7308/7308 [00:49<00:00, 147.95it/s]\n"
     ]
    },
    {
     "name": "stdout",
     "output_type": "stream",
     "text": [
      "Loss: 265.29275157675147\n",
      "Average Loss: 0.03630169014460201\n",
      "############### Saving good model ###############################\n",
      "-----------------------------------------------------------------\n",
      "Epoch: 14; Bad epochs: 0\n"
     ]
    },
    {
     "name": "stderr",
     "output_type": "stream",
     "text": [
      "100%|█████████████████████████████████████████████████████████| 7308/7308 [00:45<00:00, 159.21it/s]\n"
     ]
    },
    {
     "name": "stdout",
     "output_type": "stream",
     "text": [
      "Loss: 264.9665751028806\n",
      "Average Loss: 0.03625705734850583\n",
      "############### Saving good model ###############################\n",
      "-----------------------------------------------------------------\n",
      "Epoch: 15; Bad epochs: 0\n"
     ]
    },
    {
     "name": "stderr",
     "output_type": "stream",
     "text": [
      "100%|█████████████████████████████████████████████████████████| 7308/7308 [00:44<00:00, 164.71it/s]\n"
     ]
    },
    {
     "name": "stdout",
     "output_type": "stream",
     "text": [
      "Loss: 264.471361733973\n",
      "Average Loss: 0.03618929416173687\n",
      "############### Saving good model ###############################\n",
      "-----------------------------------------------------------------\n",
      "Epoch: 16; Bad epochs: 0\n"
     ]
    },
    {
     "name": "stderr",
     "output_type": "stream",
     "text": [
      "100%|█████████████████████████████████████████████████████████| 7308/7308 [00:43<00:00, 168.72it/s]\n"
     ]
    },
    {
     "name": "stdout",
     "output_type": "stream",
     "text": [
      "Loss: 264.18056609109044\n",
      "Average Loss: 0.036149502749191355\n",
      "############### Saving good model ###############################\n",
      "-----------------------------------------------------------------\n",
      "Epoch: 17; Bad epochs: 0\n"
     ]
    },
    {
     "name": "stderr",
     "output_type": "stream",
     "text": [
      "100%|█████████████████████████████████████████████████████████| 7308/7308 [00:43<00:00, 167.46it/s]\n"
     ]
    },
    {
     "name": "stdout",
     "output_type": "stream",
     "text": [
      "Loss: 263.6908291988075\n",
      "Average Loss: 0.03608248894346024\n",
      "############### Saving good model ###############################\n",
      "-----------------------------------------------------------------\n",
      "Epoch: 18; Bad epochs: 0\n"
     ]
    },
    {
     "name": "stderr",
     "output_type": "stream",
     "text": [
      "100%|█████████████████████████████████████████████████████████| 7308/7308 [01:10<00:00, 104.00it/s]\n"
     ]
    },
    {
     "name": "stdout",
     "output_type": "stream",
     "text": [
      "Loss: 263.880084361881\n",
      "Average Loss: 0.0361083859280078\n",
      "-----------------------------------------------------------------\n",
      "Epoch: 19; Bad epochs: 1\n"
     ]
    },
    {
     "name": "stderr",
     "output_type": "stream",
     "text": [
      "100%|█████████████████████████████████████████████████████████| 7308/7308 [00:44<00:00, 165.26it/s]\n"
     ]
    },
    {
     "name": "stdout",
     "output_type": "stream",
     "text": [
      "Loss: 263.12611251324415\n",
      "Average Loss: 0.0360052151769628\n",
      "############### Saving good model ###############################\n",
      "-----------------------------------------------------------------\n",
      "Epoch: 20; Bad epochs: 0\n"
     ]
    },
    {
     "name": "stderr",
     "output_type": "stream",
     "text": [
      "100%|█████████████████████████████████████████████████████████| 7308/7308 [00:46<00:00, 158.24it/s]\n"
     ]
    },
    {
     "name": "stdout",
     "output_type": "stream",
     "text": [
      "Loss: 262.6992085389793\n",
      "Average Loss: 0.035946799197999355\n",
      "############### Saving good model ###############################\n",
      "-----------------------------------------------------------------\n",
      "Epoch: 21; Bad epochs: 0\n"
     ]
    },
    {
     "name": "stderr",
     "output_type": "stream",
     "text": [
      "100%|█████████████████████████████████████████████████████████| 7308/7308 [00:48<00:00, 150.19it/s]\n"
     ]
    },
    {
     "name": "stdout",
     "output_type": "stream",
     "text": [
      "Loss: 262.40427236817777\n",
      "Average Loss: 0.035906441210752295\n",
      "############### Saving good model ###############################\n",
      "-----------------------------------------------------------------\n",
      "Epoch: 22; Bad epochs: 0\n"
     ]
    },
    {
     "name": "stderr",
     "output_type": "stream",
     "text": [
      "100%|█████████████████████████████████████████████████████████| 7308/7308 [00:44<00:00, 163.50it/s]\n"
     ]
    },
    {
     "name": "stdout",
     "output_type": "stream",
     "text": [
      "Loss: 262.40336168557405\n",
      "Average Loss: 0.0359063165962745\n",
      "############### Saving good model ###############################\n",
      "-----------------------------------------------------------------\n",
      "Epoch: 23; Bad epochs: 0\n"
     ]
    },
    {
     "name": "stderr",
     "output_type": "stream",
     "text": [
      "100%|█████████████████████████████████████████████████████████| 7308/7308 [00:43<00:00, 166.56it/s]\n"
     ]
    },
    {
     "name": "stdout",
     "output_type": "stream",
     "text": [
      "Loss: 262.3618167806417\n",
      "Average Loss: 0.03590063174338282\n",
      "############### Saving good model ###############################\n",
      "-----------------------------------------------------------------\n",
      "Epoch: 24; Bad epochs: 0\n"
     ]
    },
    {
     "name": "stderr",
     "output_type": "stream",
     "text": [
      "100%|█████████████████████████████████████████████████████████| 7308/7308 [00:44<00:00, 164.03it/s]\n"
     ]
    },
    {
     "name": "stdout",
     "output_type": "stream",
     "text": [
      "Loss: 261.86286027915776\n",
      "Average Loss: 0.03583235636003801\n",
      "############### Saving good model ###############################\n",
      "-----------------------------------------------------------------\n",
      "Epoch: 25; Bad epochs: 0\n"
     ]
    },
    {
     "name": "stderr",
     "output_type": "stream",
     "text": [
      "100%|█████████████████████████████████████████████████████████| 7308/7308 [00:45<00:00, 161.30it/s]\n"
     ]
    },
    {
     "name": "stdout",
     "output_type": "stream",
     "text": [
      "Loss: 262.11783353611827\n",
      "Average Loss: 0.03586724596827015\n",
      "-----------------------------------------------------------------\n",
      "Epoch: 26; Bad epochs: 1\n"
     ]
    },
    {
     "name": "stderr",
     "output_type": "stream",
     "text": [
      "100%|█████████████████████████████████████████████████████████| 7308/7308 [00:49<00:00, 147.50it/s]\n"
     ]
    },
    {
     "name": "stdout",
     "output_type": "stream",
     "text": [
      "Loss: 261.62173503264785\n",
      "Average Loss: 0.0357993616629239\n",
      "############### Saving good model ###############################\n",
      "-----------------------------------------------------------------\n",
      "Epoch: 27; Bad epochs: 0\n"
     ]
    },
    {
     "name": "stderr",
     "output_type": "stream",
     "text": [
      "100%|█████████████████████████████████████████████████████████| 7308/7308 [00:47<00:00, 152.78it/s]\n"
     ]
    },
    {
     "name": "stdout",
     "output_type": "stream",
     "text": [
      "Loss: 261.4009719192982\n",
      "Average Loss: 0.03576915324566204\n",
      "############### Saving good model ###############################\n",
      "-----------------------------------------------------------------\n",
      "Epoch: 28; Bad epochs: 0\n"
     ]
    },
    {
     "name": "stderr",
     "output_type": "stream",
     "text": [
      "100%|█████████████████████████████████████████████████████████| 7308/7308 [00:55<00:00, 131.29it/s]\n"
     ]
    },
    {
     "name": "stdout",
     "output_type": "stream",
     "text": [
      "Loss: 261.1942055746913\n",
      "Average Loss: 0.035740860095059016\n",
      "############### Saving good model ###############################\n",
      "-----------------------------------------------------------------\n",
      "Epoch: 29; Bad epochs: 0\n"
     ]
    },
    {
     "name": "stderr",
     "output_type": "stream",
     "text": [
      "100%|█████████████████████████████████████████████████████████| 7308/7308 [00:56<00:00, 129.55it/s]\n"
     ]
    },
    {
     "name": "stdout",
     "output_type": "stream",
     "text": [
      "Loss: 261.3045436721295\n",
      "Average Loss: 0.035755958356886906\n",
      "-----------------------------------------------------------------\n",
      "Epoch: 30; Bad epochs: 1\n"
     ]
    },
    {
     "name": "stderr",
     "output_type": "stream",
     "text": [
      "100%|█████████████████████████████████████████████████████████| 7308/7308 [00:50<00:00, 145.31it/s]\n"
     ]
    },
    {
     "name": "stdout",
     "output_type": "stream",
     "text": [
      "Loss: 261.37238284386694\n",
      "Average Loss: 0.03576524122110932\n",
      "-----------------------------------------------------------------\n",
      "Epoch: 31; Bad epochs: 2\n"
     ]
    },
    {
     "name": "stderr",
     "output_type": "stream",
     "text": [
      "100%|█████████████████████████████████████████████████████████| 7308/7308 [00:50<00:00, 143.99it/s]\n"
     ]
    },
    {
     "name": "stdout",
     "output_type": "stream",
     "text": [
      "Loss: 261.02894893474877\n",
      "Average Loss: 0.0357182469806717\n",
      "############### Saving good model ###############################\n",
      "-----------------------------------------------------------------\n",
      "Epoch: 32; Bad epochs: 0\n"
     ]
    },
    {
     "name": "stderr",
     "output_type": "stream",
     "text": [
      "100%|█████████████████████████████████████████████████████████| 7308/7308 [00:51<00:00, 143.23it/s]\n"
     ]
    },
    {
     "name": "stdout",
     "output_type": "stream",
     "text": [
      "Loss: 260.81038256175816\n",
      "Average Loss: 0.035688339157328705\n",
      "############### Saving good model ###############################\n",
      "-----------------------------------------------------------------\n",
      "Epoch: 33; Bad epochs: 0\n"
     ]
    },
    {
     "name": "stderr",
     "output_type": "stream",
     "text": [
      "100%|█████████████████████████████████████████████████████████| 7308/7308 [00:48<00:00, 149.43it/s]\n"
     ]
    },
    {
     "name": "stdout",
     "output_type": "stream",
     "text": [
      "Loss: 260.58095852844417\n",
      "Average Loss: 0.03565694561144556\n",
      "############### Saving good model ###############################\n",
      "-----------------------------------------------------------------\n",
      "Epoch: 34; Bad epochs: 0\n"
     ]
    },
    {
     "name": "stderr",
     "output_type": "stream",
     "text": [
      "100%|█████████████████████████████████████████████████████████| 7308/7308 [00:46<00:00, 157.88it/s]\n"
     ]
    },
    {
     "name": "stdout",
     "output_type": "stream",
     "text": [
      "Loss: 260.70552906766534\n",
      "Average Loss: 0.03567399138856942\n",
      "-----------------------------------------------------------------\n",
      "Epoch: 35; Bad epochs: 1\n"
     ]
    },
    {
     "name": "stderr",
     "output_type": "stream",
     "text": [
      "100%|█████████████████████████████████████████████████████████| 7308/7308 [00:48<00:00, 149.95it/s]\n"
     ]
    },
    {
     "name": "stdout",
     "output_type": "stream",
     "text": [
      "Loss: 260.40892365574837\n",
      "Average Loss: 0.03563340498847131\n",
      "############### Saving good model ###############################\n",
      "-----------------------------------------------------------------\n",
      "Epoch: 36; Bad epochs: 0\n"
     ]
    },
    {
     "name": "stderr",
     "output_type": "stream",
     "text": [
      "100%|█████████████████████████████████████████████████████████| 7308/7308 [00:55<00:00, 131.41it/s]\n"
     ]
    },
    {
     "name": "stdout",
     "output_type": "stream",
     "text": [
      "Loss: 260.47714827395976\n",
      "Average Loss: 0.03564274059577993\n",
      "-----------------------------------------------------------------\n",
      "Epoch: 37; Bad epochs: 1\n"
     ]
    },
    {
     "name": "stderr",
     "output_type": "stream",
     "text": [
      "100%|█████████████████████████████████████████████████████████| 7308/7308 [00:43<00:00, 166.89it/s]\n"
     ]
    },
    {
     "name": "stdout",
     "output_type": "stream",
     "text": [
      "Loss: 260.5472950991243\n",
      "Average Loss: 0.03565233923085992\n",
      "-----------------------------------------------------------------\n",
      "Epoch: 38; Bad epochs: 2\n"
     ]
    },
    {
     "name": "stderr",
     "output_type": "stream",
     "text": [
      "100%|█████████████████████████████████████████████████████████| 7308/7308 [00:44<00:00, 165.84it/s]\n"
     ]
    },
    {
     "name": "stdout",
     "output_type": "stream",
     "text": [
      "Loss: 260.23210064321756\n",
      "Average Loss: 0.03560920917394876\n",
      "############### Saving good model ###############################\n",
      "-----------------------------------------------------------------\n",
      "Epoch: 39; Bad epochs: 0\n"
     ]
    },
    {
     "name": "stderr",
     "output_type": "stream",
     "text": [
      "100%|█████████████████████████████████████████████████████████| 7308/7308 [00:44<00:00, 163.52it/s]\n"
     ]
    },
    {
     "name": "stdout",
     "output_type": "stream",
     "text": [
      "Loss: 260.04613123834133\n",
      "Average Loss: 0.03558376180053932\n",
      "############### Saving good model ###############################\n",
      "-----------------------------------------------------------------\n",
      "Epoch: 40; Bad epochs: 0\n"
     ]
    },
    {
     "name": "stderr",
     "output_type": "stream",
     "text": [
      "100%|█████████████████████████████████████████████████████████| 7308/7308 [00:44<00:00, 164.98it/s]\n"
     ]
    },
    {
     "name": "stdout",
     "output_type": "stream",
     "text": [
      "Loss: 259.91714423149824\n",
      "Average Loss: 0.03556611169013386\n",
      "############### Saving good model ###############################\n",
      "-----------------------------------------------------------------\n",
      "Epoch: 41; Bad epochs: 0\n"
     ]
    },
    {
     "name": "stderr",
     "output_type": "stream",
     "text": [
      "100%|█████████████████████████████████████████████████████████| 7308/7308 [00:44<00:00, 165.61it/s]\n"
     ]
    },
    {
     "name": "stdout",
     "output_type": "stream",
     "text": [
      "Loss: 260.07193402945995\n",
      "Average Loss: 0.03558729256013409\n",
      "-----------------------------------------------------------------\n",
      "Epoch: 42; Bad epochs: 1\n"
     ]
    },
    {
     "name": "stderr",
     "output_type": "stream",
     "text": [
      "100%|█████████████████████████████████████████████████████████| 7308/7308 [00:43<00:00, 166.31it/s]\n"
     ]
    },
    {
     "name": "stdout",
     "output_type": "stream",
     "text": [
      "Loss: 259.8200521208346\n",
      "Average Loss: 0.03555282596070534\n",
      "############### Saving good model ###############################\n",
      "-----------------------------------------------------------------\n",
      "Epoch: 43; Bad epochs: 0\n"
     ]
    },
    {
     "name": "stderr",
     "output_type": "stream",
     "text": [
      "100%|█████████████████████████████████████████████████████████| 7308/7308 [00:44<00:00, 164.38it/s]\n"
     ]
    },
    {
     "name": "stdout",
     "output_type": "stream",
     "text": [
      "Loss: 260.0039920769632\n",
      "Average Loss: 0.03557799563176836\n",
      "-----------------------------------------------------------------\n",
      "Epoch: 44; Bad epochs: 1\n"
     ]
    },
    {
     "name": "stderr",
     "output_type": "stream",
     "text": [
      "100%|█████████████████████████████████████████████████████████| 7308/7308 [00:48<00:00, 151.81it/s]\n"
     ]
    },
    {
     "name": "stdout",
     "output_type": "stream",
     "text": [
      "Loss: 259.89561111852527\n",
      "Average Loss: 0.03556316517768545\n",
      "-----------------------------------------------------------------\n",
      "Epoch: 45; Bad epochs: 2\n"
     ]
    },
    {
     "name": "stderr",
     "output_type": "stream",
     "text": [
      "100%|█████████████████████████████████████████████████████████| 7308/7308 [00:44<00:00, 164.33it/s]\n"
     ]
    },
    {
     "name": "stdout",
     "output_type": "stream",
     "text": [
      "Loss: 259.9302347134799\n",
      "Average Loss: 0.035567902943825926\n",
      "-----------------------------------------------------------------\n",
      "Epoch: 46; Bad epochs: 3\n"
     ]
    },
    {
     "name": "stderr",
     "output_type": "stream",
     "text": [
      "100%|█████████████████████████████████████████████████████████| 7308/7308 [00:44<00:00, 162.48it/s]\n"
     ]
    },
    {
     "name": "stdout",
     "output_type": "stream",
     "text": [
      "Loss: 259.6554760802537\n",
      "Average Loss: 0.03553030597704621\n",
      "############### Saving good model ###############################\n",
      "-----------------------------------------------------------------\n",
      "Epoch: 47; Bad epochs: 0\n"
     ]
    },
    {
     "name": "stderr",
     "output_type": "stream",
     "text": [
      "100%|█████████████████████████████████████████████████████████| 7308/7308 [00:44<00:00, 162.47it/s]\n"
     ]
    },
    {
     "name": "stdout",
     "output_type": "stream",
     "text": [
      "Loss: 259.70740369334817\n",
      "Average Loss: 0.03553741156176083\n",
      "-----------------------------------------------------------------\n",
      "Epoch: 48; Bad epochs: 1\n"
     ]
    },
    {
     "name": "stderr",
     "output_type": "stream",
     "text": [
      "100%|█████████████████████████████████████████████████████████| 7308/7308 [00:53<00:00, 135.52it/s]\n"
     ]
    },
    {
     "name": "stdout",
     "output_type": "stream",
     "text": [
      "Loss: 259.43734957277775\n",
      "Average Loss: 0.03550045834329198\n",
      "############### Saving good model ###############################\n",
      "-----------------------------------------------------------------\n",
      "Epoch: 49; Bad epochs: 0\n"
     ]
    },
    {
     "name": "stderr",
     "output_type": "stream",
     "text": [
      "100%|█████████████████████████████████████████████████████████| 7308/7308 [00:49<00:00, 146.48it/s]\n"
     ]
    },
    {
     "name": "stdout",
     "output_type": "stream",
     "text": [
      "Loss: 259.5551480650902\n",
      "Average Loss: 0.03551657745827726\n",
      "-----------------------------------------------------------------\n",
      "Epoch: 50; Bad epochs: 1\n"
     ]
    },
    {
     "name": "stderr",
     "output_type": "stream",
     "text": [
      "100%|█████████████████████████████████████████████████████████| 7308/7308 [00:45<00:00, 159.42it/s]\n"
     ]
    },
    {
     "name": "stdout",
     "output_type": "stream",
     "text": [
      "Loss: 259.470996465534\n",
      "Average Loss: 0.03550506246107471\n",
      "-----------------------------------------------------------------\n",
      "Epoch: 51; Bad epochs: 2\n"
     ]
    },
    {
     "name": "stderr",
     "output_type": "stream",
     "text": [
      "100%|█████████████████████████████████████████████████████████| 7308/7308 [00:46<00:00, 158.76it/s]\n"
     ]
    },
    {
     "name": "stdout",
     "output_type": "stream",
     "text": [
      "Loss: 259.372729934752\n",
      "Average Loss: 0.035491616028291186\n",
      "############### Saving good model ###############################\n",
      "-----------------------------------------------------------------\n",
      "Epoch: 52; Bad epochs: 0\n"
     ]
    },
    {
     "name": "stderr",
     "output_type": "stream",
     "text": [
      "100%|█████████████████████████████████████████████████████████| 7308/7308 [00:45<00:00, 162.32it/s]\n"
     ]
    },
    {
     "name": "stdout",
     "output_type": "stream",
     "text": [
      "Loss: 259.3443762771785\n",
      "Average Loss: 0.03548773621745738\n",
      "############### Saving good model ###############################\n",
      "-----------------------------------------------------------------\n",
      "Epoch: 53; Bad epochs: 0\n"
     ]
    },
    {
     "name": "stderr",
     "output_type": "stream",
     "text": [
      "100%|█████████████████████████████████████████████████████████| 7308/7308 [00:44<00:00, 164.17it/s]\n"
     ]
    },
    {
     "name": "stdout",
     "output_type": "stream",
     "text": [
      "Loss: 259.3334176391363\n",
      "Average Loss: 0.03548623667749539\n",
      "############### Saving good model ###############################\n",
      "-----------------------------------------------------------------\n",
      "Epoch: 54; Bad epochs: 0\n"
     ]
    },
    {
     "name": "stderr",
     "output_type": "stream",
     "text": [
      "100%|█████████████████████████████████████████████████████████| 7308/7308 [00:45<00:00, 159.88it/s]\n"
     ]
    },
    {
     "name": "stdout",
     "output_type": "stream",
     "text": [
      "Loss: 259.2034697253257\n",
      "Average Loss: 0.03546845508009383\n",
      "############### Saving good model ###############################\n",
      "-----------------------------------------------------------------\n",
      "Epoch: 55; Bad epochs: 0\n"
     ]
    },
    {
     "name": "stderr",
     "output_type": "stream",
     "text": [
      "100%|█████████████████████████████████████████████████████████| 7308/7308 [00:44<00:00, 164.67it/s]\n"
     ]
    },
    {
     "name": "stdout",
     "output_type": "stream",
     "text": [
      "Loss: 258.82433268614113\n",
      "Average Loss: 0.0354165753538781\n",
      "############### Saving good model ###############################\n",
      "-----------------------------------------------------------------\n",
      "Epoch: 56; Bad epochs: 0\n"
     ]
    },
    {
     "name": "stderr",
     "output_type": "stream",
     "text": [
      "100%|█████████████████████████████████████████████████████████| 7308/7308 [00:44<00:00, 164.54it/s]\n"
     ]
    },
    {
     "name": "stdout",
     "output_type": "stream",
     "text": [
      "Loss: 259.10039248876274\n",
      "Average Loss: 0.03545435036792046\n",
      "-----------------------------------------------------------------\n",
      "Epoch: 57; Bad epochs: 1\n"
     ]
    },
    {
     "name": "stderr",
     "output_type": "stream",
     "text": [
      "100%|█████████████████████████████████████████████████████████| 7308/7308 [00:44<00:00, 163.85it/s]\n"
     ]
    },
    {
     "name": "stdout",
     "output_type": "stream",
     "text": [
      "Loss: 259.1602228805423\n",
      "Average Loss: 0.03546253733997568\n",
      "-----------------------------------------------------------------\n",
      "Epoch: 58; Bad epochs: 2\n"
     ]
    },
    {
     "name": "stderr",
     "output_type": "stream",
     "text": [
      "100%|█████████████████████████████████████████████████████████| 7308/7308 [00:45<00:00, 162.36it/s]\n"
     ]
    },
    {
     "name": "stdout",
     "output_type": "stream",
     "text": [
      "Loss: 258.85086786188185\n",
      "Average Loss: 0.035420206330306764\n",
      "-----------------------------------------------------------------\n",
      "Epoch: 59; Bad epochs: 3\n"
     ]
    },
    {
     "name": "stderr",
     "output_type": "stream",
     "text": [
      "100%|█████████████████████████████████████████████████████████| 7308/7308 [00:45<00:00, 162.30it/s]\n"
     ]
    },
    {
     "name": "stdout",
     "output_type": "stream",
     "text": [
      "Loss: 259.06430801562965\n",
      "Average Loss: 0.0354494127005514\n",
      "-----------------------------------------------------------------\n",
      "Epoch: 60; Bad epochs: 4\n"
     ]
    },
    {
     "name": "stderr",
     "output_type": "stream",
     "text": [
      "100%|█████████████████████████████████████████████████████████| 7308/7308 [00:46<00:00, 158.02it/s]\n"
     ]
    },
    {
     "name": "stdout",
     "output_type": "stream",
     "text": [
      "Loss: 258.8637104574591\n",
      "Average Loss: 0.0354219636641296\n",
      "-----------------------------------------------------------------\n",
      "Epoch: 61; Bad epochs: 5\n"
     ]
    },
    {
     "name": "stderr",
     "output_type": "stream",
     "text": [
      "100%|█████████████████████████████████████████████████████████| 7308/7308 [00:45<00:00, 159.75it/s]\n"
     ]
    },
    {
     "name": "stdout",
     "output_type": "stream",
     "text": [
      "Loss: 259.21590703725815\n",
      "Average Loss: 0.03547015695638453\n",
      "-----------------------------------------------------------------\n",
      "Epoch: 62; Bad epochs: 6\n"
     ]
    },
    {
     "name": "stderr",
     "output_type": "stream",
     "text": [
      "100%|█████████████████████████████████████████████████████████| 7308/7308 [00:50<00:00, 145.72it/s]\n"
     ]
    },
    {
     "name": "stdout",
     "output_type": "stream",
     "text": [
      "Loss: 258.87919293902814\n",
      "Average Loss: 0.03542408223029942\n",
      "-----------------------------------------------------------------\n",
      "Epoch: 63; Bad epochs: 7\n"
     ]
    },
    {
     "name": "stderr",
     "output_type": "stream",
     "text": [
      "100%|█████████████████████████████████████████████████████████| 7308/7308 [00:55<00:00, 130.52it/s]\n"
     ]
    },
    {
     "name": "stdout",
     "output_type": "stream",
     "text": [
      "Loss: 258.79404480569065\n",
      "Average Loss: 0.03541243087105783\n",
      "############### Saving good model ###############################\n",
      "-----------------------------------------------------------------\n",
      "Epoch: 64; Bad epochs: 0\n"
     ]
    },
    {
     "name": "stderr",
     "output_type": "stream",
     "text": [
      "100%|█████████████████████████████████████████████████████████| 7308/7308 [00:54<00:00, 132.89it/s]\n"
     ]
    },
    {
     "name": "stdout",
     "output_type": "stream",
     "text": [
      "Loss: 258.4577263724059\n",
      "Average Loss: 0.03536641028631717\n",
      "############### Saving good model ###############################\n",
      "-----------------------------------------------------------------\n",
      "Epoch: 65; Bad epochs: 0\n"
     ]
    },
    {
     "name": "stderr",
     "output_type": "stream",
     "text": [
      "100%|█████████████████████████████████████████████████████████| 7308/7308 [00:49<00:00, 148.89it/s]\n"
     ]
    },
    {
     "name": "stdout",
     "output_type": "stream",
     "text": [
      "Loss: 258.406663287431\n",
      "Average Loss: 0.035359423000469486\n",
      "############### Saving good model ###############################\n",
      "-----------------------------------------------------------------\n",
      "Epoch: 66; Bad epochs: 0\n"
     ]
    },
    {
     "name": "stderr",
     "output_type": "stream",
     "text": [
      "100%|█████████████████████████████████████████████████████████| 7308/7308 [00:44<00:00, 164.02it/s]\n"
     ]
    },
    {
     "name": "stdout",
     "output_type": "stream",
     "text": [
      "Loss: 258.52832656539977\n",
      "Average Loss: 0.03537607095859329\n",
      "-----------------------------------------------------------------\n",
      "Epoch: 67; Bad epochs: 1\n"
     ]
    },
    {
     "name": "stderr",
     "output_type": "stream",
     "text": [
      "100%|█████████████████████████████████████████████████████████| 7308/7308 [00:42<00:00, 170.39it/s]\n"
     ]
    },
    {
     "name": "stdout",
     "output_type": "stream",
     "text": [
      "Loss: 258.4299834948033\n",
      "Average Loss: 0.035362614052381405\n",
      "-----------------------------------------------------------------\n",
      "Epoch: 68; Bad epochs: 2\n"
     ]
    },
    {
     "name": "stderr",
     "output_type": "stream",
     "text": [
      "100%|█████████████████████████████████████████████████████████| 7308/7308 [00:44<00:00, 165.81it/s]\n"
     ]
    },
    {
     "name": "stdout",
     "output_type": "stream",
     "text": [
      "Loss: 258.80929813347757\n",
      "Average Loss: 0.035414518080661955\n",
      "-----------------------------------------------------------------\n",
      "Epoch: 69; Bad epochs: 3\n"
     ]
    },
    {
     "name": "stderr",
     "output_type": "stream",
     "text": [
      "100%|█████████████████████████████████████████████████████████| 7308/7308 [00:49<00:00, 146.56it/s]\n"
     ]
    },
    {
     "name": "stdout",
     "output_type": "stream",
     "text": [
      "Loss: 258.64940575137734\n",
      "Average Loss: 0.03539263899170462\n",
      "-----------------------------------------------------------------\n",
      "Epoch: 70; Bad epochs: 4\n"
     ]
    },
    {
     "name": "stderr",
     "output_type": "stream",
     "text": [
      "100%|█████████████████████████████████████████████████████████| 7308/7308 [00:45<00:00, 159.70it/s]\n"
     ]
    },
    {
     "name": "stdout",
     "output_type": "stream",
     "text": [
      "Loss: 258.9683426655829\n",
      "Average Loss: 0.03543628115292596\n",
      "-----------------------------------------------------------------\n",
      "Epoch: 71; Bad epochs: 5\n"
     ]
    },
    {
     "name": "stderr",
     "output_type": "stream",
     "text": [
      "100%|█████████████████████████████████████████████████████████| 7308/7308 [00:44<00:00, 162.98it/s]\n"
     ]
    },
    {
     "name": "stdout",
     "output_type": "stream",
     "text": [
      "Loss: 258.3981129415333\n",
      "Average Loss: 0.0353582530023992\n",
      "############### Saving good model ###############################\n",
      "-----------------------------------------------------------------\n",
      "Epoch: 72; Bad epochs: 0\n"
     ]
    },
    {
     "name": "stderr",
     "output_type": "stream",
     "text": [
      "100%|█████████████████████████████████████████████████████████| 7308/7308 [00:44<00:00, 162.65it/s]\n"
     ]
    },
    {
     "name": "stdout",
     "output_type": "stream",
     "text": [
      "Loss: 258.382006034255\n",
      "Average Loss: 0.03535604899209839\n",
      "############### Saving good model ###############################\n",
      "-----------------------------------------------------------------\n",
      "Epoch: 73; Bad epochs: 0\n"
     ]
    },
    {
     "name": "stderr",
     "output_type": "stream",
     "text": [
      "100%|█████████████████████████████████████████████████████████| 7308/7308 [00:51<00:00, 142.48it/s]\n"
     ]
    },
    {
     "name": "stdout",
     "output_type": "stream",
     "text": [
      "Loss: 258.28613634593785\n",
      "Average Loss: 0.03534293053447425\n",
      "############### Saving good model ###############################\n",
      "-----------------------------------------------------------------\n",
      "Epoch: 74; Bad epochs: 0\n"
     ]
    },
    {
     "name": "stderr",
     "output_type": "stream",
     "text": [
      "100%|█████████████████████████████████████████████████████████| 7308/7308 [00:40<00:00, 179.26it/s]\n"
     ]
    },
    {
     "name": "stdout",
     "output_type": "stream",
     "text": [
      "Loss: 258.371011024341\n",
      "Average Loss: 0.03535454447514245\n",
      "-----------------------------------------------------------------\n",
      "Epoch: 75; Bad epochs: 1\n"
     ]
    },
    {
     "name": "stderr",
     "output_type": "stream",
     "text": [
      "100%|█████████████████████████████████████████████████████████| 7308/7308 [00:42<00:00, 170.00it/s]\n"
     ]
    },
    {
     "name": "stdout",
     "output_type": "stream",
     "text": [
      "Loss: 258.9697030354291\n",
      "Average Loss: 0.03543646730096184\n",
      "-----------------------------------------------------------------\n",
      "Epoch: 76; Bad epochs: 2\n"
     ]
    },
    {
     "name": "stderr",
     "output_type": "stream",
     "text": [
      "100%|█████████████████████████████████████████████████████████| 7308/7308 [00:42<00:00, 171.92it/s]\n"
     ]
    },
    {
     "name": "stdout",
     "output_type": "stream",
     "text": [
      "Loss: 258.3454047534615\n",
      "Average Loss: 0.03535104060665866\n",
      "-----------------------------------------------------------------\n",
      "Epoch: 77; Bad epochs: 3\n"
     ]
    },
    {
     "name": "stderr",
     "output_type": "stream",
     "text": [
      "100%|█████████████████████████████████████████████████████████| 7308/7308 [00:54<00:00, 133.23it/s]\n"
     ]
    },
    {
     "name": "stdout",
     "output_type": "stream",
     "text": [
      "Loss: 258.4373166486621\n",
      "Average Loss: 0.03536361749434347\n",
      "-----------------------------------------------------------------\n",
      "Epoch: 78; Bad epochs: 4\n"
     ]
    },
    {
     "name": "stderr",
     "output_type": "stream",
     "text": [
      "100%|█████████████████████████████████████████████████████████| 7308/7308 [00:44<00:00, 166.02it/s]\n"
     ]
    },
    {
     "name": "stdout",
     "output_type": "stream",
     "text": [
      "Loss: 258.47645348496735\n",
      "Average Loss: 0.035368972835928755\n",
      "-----------------------------------------------------------------\n",
      "Epoch: 79; Bad epochs: 5\n"
     ]
    },
    {
     "name": "stderr",
     "output_type": "stream",
     "text": [
      "100%|█████████████████████████████████████████████████████████| 7308/7308 [00:54<00:00, 134.19it/s]\n"
     ]
    },
    {
     "name": "stdout",
     "output_type": "stream",
     "text": [
      "Loss: 258.56141416728497\n",
      "Average Loss: 0.03538059854505815\n",
      "-----------------------------------------------------------------\n",
      "Epoch: 80; Bad epochs: 6\n"
     ]
    },
    {
     "name": "stderr",
     "output_type": "stream",
     "text": [
      "100%|█████████████████████████████████████████████████████████| 7308/7308 [00:58<00:00, 124.92it/s]\n"
     ]
    },
    {
     "name": "stdout",
     "output_type": "stream",
     "text": [
      "Loss: 258.857271367684\n",
      "Average Loss: 0.035421082562627805\n",
      "-----------------------------------------------------------------\n",
      "Epoch: 81; Bad epochs: 7\n"
     ]
    },
    {
     "name": "stderr",
     "output_type": "stream",
     "text": [
      "100%|█████████████████████████████████████████████████████████| 7308/7308 [00:54<00:00, 134.21it/s]\n"
     ]
    },
    {
     "name": "stdout",
     "output_type": "stream",
     "text": [
      "Loss: 258.852805159986\n",
      "Average Loss: 0.03542047142309606\n",
      "-----------------------------------------------------------------\n",
      "Epoch: 82; Bad epochs: 8\n"
     ]
    },
    {
     "name": "stderr",
     "output_type": "stream",
     "text": [
      "100%|█████████████████████████████████████████████████████████| 7308/7308 [01:04<00:00, 113.98it/s]\n"
     ]
    },
    {
     "name": "stdout",
     "output_type": "stream",
     "text": [
      "Loss: 258.701566811651\n",
      "Average Loss: 0.035399776520477697\n",
      "-----------------------------------------------------------------\n",
      "Epoch: 83; Bad epochs: 9\n"
     ]
    },
    {
     "name": "stderr",
     "output_type": "stream",
     "text": [
      "100%|█████████████████████████████████████████████████████████| 7308/7308 [00:59<00:00, 122.76it/s]\n"
     ]
    },
    {
     "name": "stdout",
     "output_type": "stream",
     "text": [
      "Loss: 258.31127460487187\n",
      "Average Loss: 0.0353463703619146\n",
      "-----------------------------------------------------------------\n",
      "Epoch: 84; Bad epochs: 10\n"
     ]
    },
    {
     "name": "stderr",
     "output_type": "stream",
     "text": [
      "100%|█████████████████████████████████████████████████████████| 7308/7308 [01:12<00:00, 100.56it/s]\n"
     ]
    },
    {
     "name": "stdout",
     "output_type": "stream",
     "text": [
      "Loss: 258.29294745996594\n",
      "Average Loss: 0.03534386254241461\n",
      "-----------------------------------------------------------------\n",
      "Epoch: 85; Bad epochs: 11\n"
     ]
    },
    {
     "name": "stderr",
     "output_type": "stream",
     "text": [
      "100%|█████████████████████████████████████████████████████████| 7308/7308 [01:05<00:00, 111.21it/s]\n"
     ]
    },
    {
     "name": "stdout",
     "output_type": "stream",
     "text": [
      "Loss: 258.40259492211044\n",
      "Average Loss: 0.03535886630023405\n",
      "-----------------------------------------------------------------\n",
      "Epoch: 86; Bad epochs: 12\n"
     ]
    },
    {
     "name": "stderr",
     "output_type": "stream",
     "text": [
      "100%|█████████████████████████████████████████████████████████| 7308/7308 [00:45<00:00, 161.31it/s]\n"
     ]
    },
    {
     "name": "stdout",
     "output_type": "stream",
     "text": [
      "Loss: 258.6034299097955\n",
      "Average Loss: 0.03538634782564252\n",
      "-----------------------------------------------------------------\n",
      "Epoch: 87; Bad epochs: 13\n"
     ]
    },
    {
     "name": "stderr",
     "output_type": "stream",
     "text": [
      "100%|█████████████████████████████████████████████████████████| 7308/7308 [00:44<00:00, 164.09it/s]\n"
     ]
    },
    {
     "name": "stdout",
     "output_type": "stream",
     "text": [
      "Loss: 258.3558370638639\n",
      "Average Loss: 0.03535246812587081\n",
      "-----------------------------------------------------------------\n",
      "Epoch: 88; Bad epochs: 14\n"
     ]
    },
    {
     "name": "stderr",
     "output_type": "stream",
     "text": [
      "100%|█████████████████████████████████████████████████████████| 7308/7308 [00:47<00:00, 152.90it/s]\n"
     ]
    },
    {
     "name": "stdout",
     "output_type": "stream",
     "text": [
      "Loss: 258.17558727040887\n",
      "Average Loss: 0.03532780340317582\n",
      "############### Saving good model ###############################\n",
      "-----------------------------------------------------------------\n",
      "Epoch: 89; Bad epochs: 0\n"
     ]
    },
    {
     "name": "stderr",
     "output_type": "stream",
     "text": [
      "100%|██████████████████████████████████████████████████████████| 7308/7308 [01:18<00:00, 92.66it/s]\n"
     ]
    },
    {
     "name": "stdout",
     "output_type": "stream",
     "text": [
      "Loss: 258.1429960653186\n",
      "Average Loss: 0.035323343741833414\n",
      "############### Saving good model ###############################\n",
      "-----------------------------------------------------------------\n",
      "Epoch: 90; Bad epochs: 0\n"
     ]
    },
    {
     "name": "stderr",
     "output_type": "stream",
     "text": [
      "100%|█████████████████████████████████████████████████████████| 7308/7308 [00:44<00:00, 164.77it/s]\n"
     ]
    },
    {
     "name": "stdout",
     "output_type": "stream",
     "text": [
      "Loss: 258.65582276694477\n",
      "Average Loss: 0.03539351707265254\n",
      "-----------------------------------------------------------------\n",
      "Epoch: 91; Bad epochs: 1\n"
     ]
    },
    {
     "name": "stderr",
     "output_type": "stream",
     "text": [
      "100%|█████████████████████████████████████████████████████████| 7308/7308 [00:41<00:00, 176.24it/s]\n"
     ]
    },
    {
     "name": "stdout",
     "output_type": "stream",
     "text": [
      "Loss: 258.39464759640396\n",
      "Average Loss: 0.03535777881724192\n",
      "-----------------------------------------------------------------\n",
      "Epoch: 92; Bad epochs: 2\n"
     ]
    },
    {
     "name": "stderr",
     "output_type": "stream",
     "text": [
      "100%|█████████████████████████████████████████████████████████| 7308/7308 [00:40<00:00, 179.05it/s]\n"
     ]
    },
    {
     "name": "stdout",
     "output_type": "stream",
     "text": [
      "Loss: 258.1536940447986\n",
      "Average Loss: 0.03532480761423079\n",
      "-----------------------------------------------------------------\n",
      "Epoch: 93; Bad epochs: 3\n"
     ]
    },
    {
     "name": "stderr",
     "output_type": "stream",
     "text": [
      "100%|█████████████████████████████████████████████████████████| 7308/7308 [00:40<00:00, 178.27it/s]\n"
     ]
    },
    {
     "name": "stdout",
     "output_type": "stream",
     "text": [
      "Loss: 258.0143650174141\n",
      "Average Loss: 0.035305742339547634\n",
      "############### Saving good model ###############################\n",
      "-----------------------------------------------------------------\n",
      "Epoch: 94; Bad epochs: 0\n"
     ]
    },
    {
     "name": "stderr",
     "output_type": "stream",
     "text": [
      "100%|█████████████████████████████████████████████████████████| 7308/7308 [00:40<00:00, 178.53it/s]\n"
     ]
    },
    {
     "name": "stdout",
     "output_type": "stream",
     "text": [
      "Loss: 258.24206367507577\n",
      "Average Loss: 0.03533689979133495\n",
      "-----------------------------------------------------------------\n",
      "Epoch: 95; Bad epochs: 1\n"
     ]
    },
    {
     "name": "stderr",
     "output_type": "stream",
     "text": [
      "100%|█████████████████████████████████████████████████████████| 7308/7308 [00:40<00:00, 179.06it/s]\n"
     ]
    },
    {
     "name": "stdout",
     "output_type": "stream",
     "text": [
      "Loss: 258.05801838077605\n",
      "Average Loss: 0.035311715706181725\n",
      "-----------------------------------------------------------------\n",
      "Epoch: 96; Bad epochs: 2\n"
     ]
    },
    {
     "name": "stderr",
     "output_type": "stream",
     "text": [
      "100%|█████████████████████████████████████████████████████████| 7308/7308 [00:43<00:00, 166.61it/s]\n"
     ]
    },
    {
     "name": "stdout",
     "output_type": "stream",
     "text": [
      "Loss: 258.3298184070736\n",
      "Average Loss: 0.03534890782800679\n",
      "-----------------------------------------------------------------\n",
      "Epoch: 97; Bad epochs: 3\n"
     ]
    },
    {
     "name": "stderr",
     "output_type": "stream",
     "text": [
      "100%|█████████████████████████████████████████████████████████| 7308/7308 [00:54<00:00, 133.25it/s]\n"
     ]
    },
    {
     "name": "stdout",
     "output_type": "stream",
     "text": [
      "Loss: 258.2246985230595\n",
      "Average Loss: 0.03533452360742467\n",
      "-----------------------------------------------------------------\n",
      "Epoch: 98; Bad epochs: 4\n"
     ]
    },
    {
     "name": "stderr",
     "output_type": "stream",
     "text": [
      "100%|█████████████████████████████████████████████████████████| 7308/7308 [00:55<00:00, 131.96it/s]\n"
     ]
    },
    {
     "name": "stdout",
     "output_type": "stream",
     "text": [
      "Loss: 257.969870261848\n",
      "Average Loss: 0.03529965383988067\n",
      "############### Saving good model ###############################\n",
      "-----------------------------------------------------------------\n",
      "Epoch: 99; Bad epochs: 0\n"
     ]
    },
    {
     "name": "stderr",
     "output_type": "stream",
     "text": [
      "100%|█████████████████████████████████████████████████████████| 7308/7308 [00:44<00:00, 162.82it/s]\n"
     ]
    },
    {
     "name": "stdout",
     "output_type": "stream",
     "text": [
      "Loss: 258.02448450773954\n",
      "Average Loss: 0.035307127053604205\n",
      "-----------------------------------------------------------------\n",
      "Epoch: 100; Bad epochs: 1\n"
     ]
    },
    {
     "name": "stderr",
     "output_type": "stream",
     "text": [
      "100%|█████████████████████████████████████████████████████████| 7308/7308 [00:44<00:00, 163.10it/s]\n"
     ]
    },
    {
     "name": "stdout",
     "output_type": "stream",
     "text": [
      "Loss: 258.1853820141405\n",
      "Average Loss: 0.035329143680095855\n",
      "-----------------------------------------------------------------\n",
      "Epoch: 101; Bad epochs: 2\n"
     ]
    },
    {
     "name": "stderr",
     "output_type": "stream",
     "text": [
      "100%|█████████████████████████████████████████████████████████| 7308/7308 [00:44<00:00, 162.61it/s]\n"
     ]
    },
    {
     "name": "stdout",
     "output_type": "stream",
     "text": [
      "Loss: 258.00572054088116\n",
      "Average Loss: 0.03530455946098538\n",
      "-----------------------------------------------------------------\n",
      "Epoch: 102; Bad epochs: 3\n"
     ]
    },
    {
     "name": "stderr",
     "output_type": "stream",
     "text": [
      "100%|█████████████████████████████████████████████████████████| 7308/7308 [00:45<00:00, 161.16it/s]\n"
     ]
    },
    {
     "name": "stdout",
     "output_type": "stream",
     "text": [
      "Loss: 258.19412544742227\n",
      "Average Loss: 0.0353303400995378\n",
      "-----------------------------------------------------------------\n",
      "Epoch: 103; Bad epochs: 4\n"
     ]
    },
    {
     "name": "stderr",
     "output_type": "stream",
     "text": [
      "100%|█████████████████████████████████████████████████████████| 7308/7308 [00:44<00:00, 163.09it/s]\n"
     ]
    },
    {
     "name": "stdout",
     "output_type": "stream",
     "text": [
      "Loss: 258.159207964316\n",
      "Average Loss: 0.03532556211881719\n",
      "-----------------------------------------------------------------\n",
      "Epoch: 104; Bad epochs: 5\n"
     ]
    },
    {
     "name": "stderr",
     "output_type": "stream",
     "text": [
      "100%|█████████████████████████████████████████████████████████| 7308/7308 [00:47<00:00, 154.09it/s]\n"
     ]
    },
    {
     "name": "stdout",
     "output_type": "stream",
     "text": [
      "Loss: 257.7694509383291\n",
      "Average Loss: 0.03527222919243693\n",
      "############### Saving good model ###############################\n",
      "-----------------------------------------------------------------\n",
      "Epoch: 105; Bad epochs: 0\n"
     ]
    },
    {
     "name": "stderr",
     "output_type": "stream",
     "text": [
      "100%|█████████████████████████████████████████████████████████| 7308/7308 [00:49<00:00, 148.94it/s]\n"
     ]
    },
    {
     "name": "stdout",
     "output_type": "stream",
     "text": [
      "Loss: 258.14634620025754\n",
      "Average Loss: 0.03532380216204947\n",
      "-----------------------------------------------------------------\n",
      "Epoch: 106; Bad epochs: 1\n"
     ]
    },
    {
     "name": "stderr",
     "output_type": "stream",
     "text": [
      " 13%|███████▍                                                  | 940/7308 [00:06<00:47, 134.46it/s]\n"
     ]
    },
    {
     "ename": "KeyboardInterrupt",
     "evalue": "",
     "output_type": "error",
     "traceback": [
      "\u001b[0;31m---------------------------------------------------------------------------\u001b[0m",
      "\u001b[0;31mKeyboardInterrupt\u001b[0m                         Traceback (most recent call last)",
      "Cell \u001b[0;32mIn [26], line 19\u001b[0m\n\u001b[1;32m     17\u001b[0m \u001b[38;5;28;01mfor\u001b[39;00m i, X_batch \u001b[38;5;129;01min\u001b[39;00m \u001b[38;5;28menumerate\u001b[39m(tqdm(trainloader), \u001b[38;5;241m0\u001b[39m):\n\u001b[1;32m     18\u001b[0m     optimizer\u001b[38;5;241m.\u001b[39mzero_grad()\n\u001b[0;32m---> 19\u001b[0m     X_pred, mu_cart_pred, lambda_par_pred, lambda_iso_pred,  volume_0_pred, volume_1_pred, s0_pred \u001b[38;5;241m=\u001b[39m \u001b[43mnet\u001b[49m\u001b[43m(\u001b[49m\u001b[43mX_batch\u001b[49m\u001b[43m)\u001b[49m\n\u001b[1;32m     20\u001b[0m     \u001b[38;5;28;01mif\u001b[39;00m i \u001b[38;5;241m==\u001b[39m \u001b[38;5;241m8\u001b[39m \u001b[38;5;129;01mand\u001b[39;00m counter \u001b[38;5;241m==\u001b[39m \u001b[38;5;241m10\u001b[39m:\n\u001b[1;32m     21\u001b[0m         \u001b[38;5;28mprint\u001b[39m(\u001b[38;5;124m\"\u001b[39m\u001b[38;5;124mX_batch: \u001b[39m\u001b[38;5;124m\"\u001b[39m)\n",
      "File \u001b[0;32m~/anaconda3/envs/deepNODDIEnv/lib/python3.10/site-packages/torch/nn/modules/module.py:1130\u001b[0m, in \u001b[0;36mModule._call_impl\u001b[0;34m(self, *input, **kwargs)\u001b[0m\n\u001b[1;32m   1126\u001b[0m \u001b[38;5;66;03m# If we don't have any hooks, we want to skip the rest of the logic in\u001b[39;00m\n\u001b[1;32m   1127\u001b[0m \u001b[38;5;66;03m# this function, and just call forward.\u001b[39;00m\n\u001b[1;32m   1128\u001b[0m \u001b[38;5;28;01mif\u001b[39;00m \u001b[38;5;129;01mnot\u001b[39;00m (\u001b[38;5;28mself\u001b[39m\u001b[38;5;241m.\u001b[39m_backward_hooks \u001b[38;5;129;01mor\u001b[39;00m \u001b[38;5;28mself\u001b[39m\u001b[38;5;241m.\u001b[39m_forward_hooks \u001b[38;5;129;01mor\u001b[39;00m \u001b[38;5;28mself\u001b[39m\u001b[38;5;241m.\u001b[39m_forward_pre_hooks \u001b[38;5;129;01mor\u001b[39;00m _global_backward_hooks\n\u001b[1;32m   1129\u001b[0m         \u001b[38;5;129;01mor\u001b[39;00m _global_forward_hooks \u001b[38;5;129;01mor\u001b[39;00m _global_forward_pre_hooks):\n\u001b[0;32m-> 1130\u001b[0m     \u001b[38;5;28;01mreturn\u001b[39;00m \u001b[43mforward_call\u001b[49m\u001b[43m(\u001b[49m\u001b[38;5;241;43m*\u001b[39;49m\u001b[38;5;28;43minput\u001b[39;49m\u001b[43m,\u001b[49m\u001b[43m \u001b[49m\u001b[38;5;241;43m*\u001b[39;49m\u001b[38;5;241;43m*\u001b[39;49m\u001b[43mkwargs\u001b[49m\u001b[43m)\u001b[49m\n\u001b[1;32m   1131\u001b[0m \u001b[38;5;66;03m# Do not call functions when jit is used\u001b[39;00m\n\u001b[1;32m   1132\u001b[0m full_backward_hooks, non_full_backward_hooks \u001b[38;5;241m=\u001b[39m [], []\n",
      "Cell \u001b[0;32mIn [5], line 17\u001b[0m, in \u001b[0;36mBallStickNet.forward\u001b[0;34m(self, X)\u001b[0m\n\u001b[1;32m     14\u001b[0m \u001b[38;5;28;01mdef\u001b[39;00m \u001b[38;5;21mforward\u001b[39m(\u001b[38;5;28mself\u001b[39m, X):\n\u001b[1;32m     15\u001b[0m     \u001b[38;5;66;03m# if args.dropout != 0:\u001b[39;00m\n\u001b[1;32m     16\u001b[0m     \u001b[38;5;66;03m#     X = self.dropout(X)\u001b[39;00m\n\u001b[0;32m---> 17\u001b[0m     params \u001b[38;5;241m=\u001b[39m torch\u001b[38;5;241m.\u001b[39mabs(\u001b[38;5;28;43mself\u001b[39;49m\u001b[38;5;241;43m.\u001b[39;49m\u001b[43mencoder\u001b[49m\u001b[43m(\u001b[49m\u001b[43mX\u001b[49m\u001b[43m)\u001b[49m)\n\u001b[1;32m     18\u001b[0m     theta_uns \u001b[38;5;241m=\u001b[39m params[:, \u001b[38;5;241m0\u001b[39m]\n\u001b[1;32m     19\u001b[0m     \u001b[38;5;66;03m# theta = squash(theta_uns, 0, np.pi)\u001b[39;00m\n",
      "File \u001b[0;32m~/anaconda3/envs/deepNODDIEnv/lib/python3.10/site-packages/torch/nn/modules/module.py:1130\u001b[0m, in \u001b[0;36mModule._call_impl\u001b[0;34m(self, *input, **kwargs)\u001b[0m\n\u001b[1;32m   1126\u001b[0m \u001b[38;5;66;03m# If we don't have any hooks, we want to skip the rest of the logic in\u001b[39;00m\n\u001b[1;32m   1127\u001b[0m \u001b[38;5;66;03m# this function, and just call forward.\u001b[39;00m\n\u001b[1;32m   1128\u001b[0m \u001b[38;5;28;01mif\u001b[39;00m \u001b[38;5;129;01mnot\u001b[39;00m (\u001b[38;5;28mself\u001b[39m\u001b[38;5;241m.\u001b[39m_backward_hooks \u001b[38;5;129;01mor\u001b[39;00m \u001b[38;5;28mself\u001b[39m\u001b[38;5;241m.\u001b[39m_forward_hooks \u001b[38;5;129;01mor\u001b[39;00m \u001b[38;5;28mself\u001b[39m\u001b[38;5;241m.\u001b[39m_forward_pre_hooks \u001b[38;5;129;01mor\u001b[39;00m _global_backward_hooks\n\u001b[1;32m   1129\u001b[0m         \u001b[38;5;129;01mor\u001b[39;00m _global_forward_hooks \u001b[38;5;129;01mor\u001b[39;00m _global_forward_pre_hooks):\n\u001b[0;32m-> 1130\u001b[0m     \u001b[38;5;28;01mreturn\u001b[39;00m \u001b[43mforward_call\u001b[49m\u001b[43m(\u001b[49m\u001b[38;5;241;43m*\u001b[39;49m\u001b[38;5;28;43minput\u001b[39;49m\u001b[43m,\u001b[49m\u001b[43m \u001b[49m\u001b[38;5;241;43m*\u001b[39;49m\u001b[38;5;241;43m*\u001b[39;49m\u001b[43mkwargs\u001b[49m\u001b[43m)\u001b[49m\n\u001b[1;32m   1131\u001b[0m \u001b[38;5;66;03m# Do not call functions when jit is used\u001b[39;00m\n\u001b[1;32m   1132\u001b[0m full_backward_hooks, non_full_backward_hooks \u001b[38;5;241m=\u001b[39m [], []\n",
      "File \u001b[0;32m~/anaconda3/envs/deepNODDIEnv/lib/python3.10/site-packages/torch/nn/modules/container.py:139\u001b[0m, in \u001b[0;36mSequential.forward\u001b[0;34m(self, input)\u001b[0m\n\u001b[1;32m    137\u001b[0m \u001b[38;5;28;01mdef\u001b[39;00m \u001b[38;5;21mforward\u001b[39m(\u001b[38;5;28mself\u001b[39m, \u001b[38;5;28minput\u001b[39m):\n\u001b[1;32m    138\u001b[0m     \u001b[38;5;28;01mfor\u001b[39;00m module \u001b[38;5;129;01min\u001b[39;00m \u001b[38;5;28mself\u001b[39m:\n\u001b[0;32m--> 139\u001b[0m         \u001b[38;5;28minput\u001b[39m \u001b[38;5;241m=\u001b[39m \u001b[43mmodule\u001b[49m\u001b[43m(\u001b[49m\u001b[38;5;28;43minput\u001b[39;49m\u001b[43m)\u001b[49m\n\u001b[1;32m    140\u001b[0m     \u001b[38;5;28;01mreturn\u001b[39;00m \u001b[38;5;28minput\u001b[39m\n",
      "File \u001b[0;32m~/anaconda3/envs/deepNODDIEnv/lib/python3.10/site-packages/torch/nn/modules/module.py:1130\u001b[0m, in \u001b[0;36mModule._call_impl\u001b[0;34m(self, *input, **kwargs)\u001b[0m\n\u001b[1;32m   1126\u001b[0m \u001b[38;5;66;03m# If we don't have any hooks, we want to skip the rest of the logic in\u001b[39;00m\n\u001b[1;32m   1127\u001b[0m \u001b[38;5;66;03m# this function, and just call forward.\u001b[39;00m\n\u001b[1;32m   1128\u001b[0m \u001b[38;5;28;01mif\u001b[39;00m \u001b[38;5;129;01mnot\u001b[39;00m (\u001b[38;5;28mself\u001b[39m\u001b[38;5;241m.\u001b[39m_backward_hooks \u001b[38;5;129;01mor\u001b[39;00m \u001b[38;5;28mself\u001b[39m\u001b[38;5;241m.\u001b[39m_forward_hooks \u001b[38;5;129;01mor\u001b[39;00m \u001b[38;5;28mself\u001b[39m\u001b[38;5;241m.\u001b[39m_forward_pre_hooks \u001b[38;5;129;01mor\u001b[39;00m _global_backward_hooks\n\u001b[1;32m   1129\u001b[0m         \u001b[38;5;129;01mor\u001b[39;00m _global_forward_hooks \u001b[38;5;129;01mor\u001b[39;00m _global_forward_pre_hooks):\n\u001b[0;32m-> 1130\u001b[0m     \u001b[38;5;28;01mreturn\u001b[39;00m \u001b[43mforward_call\u001b[49m\u001b[43m(\u001b[49m\u001b[38;5;241;43m*\u001b[39;49m\u001b[38;5;28;43minput\u001b[39;49m\u001b[43m,\u001b[49m\u001b[43m \u001b[49m\u001b[38;5;241;43m*\u001b[39;49m\u001b[38;5;241;43m*\u001b[39;49m\u001b[43mkwargs\u001b[49m\u001b[43m)\u001b[49m\n\u001b[1;32m   1131\u001b[0m \u001b[38;5;66;03m# Do not call functions when jit is used\u001b[39;00m\n\u001b[1;32m   1132\u001b[0m full_backward_hooks, non_full_backward_hooks \u001b[38;5;241m=\u001b[39m [], []\n",
      "File \u001b[0;32m~/anaconda3/envs/deepNODDIEnv/lib/python3.10/site-packages/torch/nn/modules/linear.py:114\u001b[0m, in \u001b[0;36mLinear.forward\u001b[0;34m(self, input)\u001b[0m\n\u001b[1;32m    113\u001b[0m \u001b[38;5;28;01mdef\u001b[39;00m \u001b[38;5;21mforward\u001b[39m(\u001b[38;5;28mself\u001b[39m, \u001b[38;5;28minput\u001b[39m: Tensor) \u001b[38;5;241m-\u001b[39m\u001b[38;5;241m>\u001b[39m Tensor:\n\u001b[0;32m--> 114\u001b[0m     \u001b[38;5;28;01mreturn\u001b[39;00m \u001b[43mF\u001b[49m\u001b[38;5;241;43m.\u001b[39;49m\u001b[43mlinear\u001b[49m\u001b[43m(\u001b[49m\u001b[38;5;28;43minput\u001b[39;49m\u001b[43m,\u001b[49m\u001b[43m \u001b[49m\u001b[38;5;28;43mself\u001b[39;49m\u001b[38;5;241;43m.\u001b[39;49m\u001b[43mweight\u001b[49m\u001b[43m,\u001b[49m\u001b[43m \u001b[49m\u001b[38;5;28;43mself\u001b[39;49m\u001b[38;5;241;43m.\u001b[39;49m\u001b[43mbias\u001b[49m\u001b[43m)\u001b[49m\n",
      "\u001b[0;31mKeyboardInterrupt\u001b[0m: "
     ]
    }
   ],
   "source": [
    "loss_arr=[]\n",
    "avg_loss_arr=[]\n",
    "\n",
    "counter = 0\n",
    "\n",
    "# Best loss\n",
    "best = 1e16\n",
    "num_bad_epochs = 0\n",
    "patience = 20\n",
    "\n",
    "for epoch in range(1000):\n",
    "    print(\"-----------------------------------------------------------------\")\n",
    "    print(\"Epoch: {}; Bad epochs: {}\".format(epoch, num_bad_epochs))\n",
    "    net.train()\n",
    "    running_loss = 0.\n",
    "\n",
    "    for i, X_batch in enumerate(tqdm(trainloader), 0):\n",
    "        optimizer.zero_grad()\n",
    "        X_pred, mu_cart_pred, lambda_par_pred, lambda_iso_pred,  volume_0_pred, volume_1_pred, s0_pred = net(X_batch)\n",
    "        if i == 8 and counter == 10:\n",
    "            print(\"X_batch: \")\n",
    "            print(X_batch.shape)\n",
    "            print(X_batch)\n",
    "            print(\"X_pred: \")\n",
    "            print(X_pred.shape)\n",
    "            print(X_pred)\n",
    "            print(\"s0_pred: \")\n",
    "            print(s0_pred.shape)\n",
    "            print(s0_pred)\n",
    "        loss = criterion(X_pred.type(torch.FloatTensor), X_batch.type(torch.FloatTensor))\n",
    "        loss.backward()\n",
    "        optimizer.step()\n",
    "        running_loss += loss.item()\n",
    "        \n",
    "    loss_arr.append(running_loss)\n",
    "    avg_loss_arr.append(running_loss/num_batches)\n",
    "    print(\"Loss: {}\".format(running_loss))\n",
    "    print(\"Average Loss: {}\".format(running_loss/num_batches))\n",
    "    \n",
    "\n",
    "    if running_loss < best:\n",
    "        print(\"############### Saving good model ###############################\")\n",
    "        final_model = net.state_dict()\n",
    "        best = running_loss\n",
    "        num_bad_epochs = 0\n",
    "    else:\n",
    "        num_bad_epochs = num_bad_epochs + 1\n",
    "        if num_bad_epochs == patience:\n",
    "            print(\"Done, best loss: {}\".format(best))\n",
    "            break\n",
    "    counter += 1\n",
    "print(\"Done\")\n",
    "net.load_state_dict(final_model)"
   ]
  },
  {
   "cell_type": "code",
   "execution_count": 28,
   "id": "7af57849-31d5-454f-863a-36148a591d89",
   "metadata": {},
   "outputs": [
    {
     "data": {
      "image/png": "[encoded data removed]",
      "text/plain": [
       "<Figure size 640x480 with 1 Axes>"
      ]
     },
     "metadata": {},
     "output_type": "display_data"
    }
   ],
   "source": [
    "epoch_arr = np.arange(0, len(avg_loss_arr))\n",
    "loss_arr = np.array(avg_loss_arr)\n",
    "plt.plot(avg_loss_arr)\n",
    "plt.xlabel(\"Epochs\")\n",
    "plt.ylabel(\"Average Runing Loss per batch\")\n",
    "plt.show()"
   ]
  },
  {
   "cell_type": "code",
   "execution_count": 28,
   "id": "429d72a7-ac6f-422e-88ee-d45a9a427950",
   "metadata": {
    "collapsed": true,
    "jupyter": {
     "outputs_hidden": true
    },
    "tags": []
   },
   "outputs": [
    {
     "data": {
      "image/png": "[encoded data removed]",
      "text/plain": [
       "<Figure size 640x480 with 1 Axes>"
      ]
     },
     "metadata": {},
     "output_type": "display_data"
    }
   ],
   "source": [
    "epoch_arr = np.arange(0, len(avg_loss_arr))\n",
    "loss_arr = np.array(avg_loss_arr)\n",
    "plt.plot(avg_loss_arr)\n",
    "plt.xlabel(\"Epochs\")\n",
    "plt.ylabel(\"Average Runing Loss per batch\")\n",
    "plt.show()"
   ]
  },
  {
   "cell_type": "code",
   "execution_count": 40,
   "id": "d51d8975-38cc-4773-a9f0-42ba14b48873",
   "metadata": {
    "collapsed": true,
    "jupyter": {
     "outputs_hidden": true
    },
    "tags": []
   },
   "outputs": [
    {
     "data": {
      "image/png": "[encoded data removed]",
      "text/plain": [
       "<Figure size 640x480 with 1 Axes>"
      ]
     },
     "metadata": {},
     "output_type": "display_data"
    }
   ],
   "source": [
    "epoch_arr = np.arange(0, len(avg_loss_arr))\n",
    "loss_arr = np.array(avg_loss_arr)\n",
    "plt.plot(avg_loss_arr)\n",
    "plt.xlabel(\"Epochs\")\n",
    "plt.ylabel(\"Average Runing Loss per batch\")\n",
    "plt.show()"
   ]
  },
  {
   "cell_type": "code",
   "execution_count": 37,
   "id": "eda5216c-a5ed-47dd-9c88-451e7e163e17",
   "metadata": {
    "tags": []
   },
   "outputs": [],
   "source": [
    "avg_loss_arr_small_lr = np.load(\"/Users/weiwenhua/UGY4/COMP0029/COMP0029-Project/deep-ball-stick/loss/avg_loss_for_333e_real_data.npy\")"
   ]
  },
  {
   "cell_type": "code",
   "execution_count": 33,
   "id": "a47317ad-4337-420a-8344-3617fcc907e8",
   "metadata": {
    "collapsed": true,
    "jupyter": {
     "outputs_hidden": true
    },
    "tags": []
   },
   "outputs": [
    {
     "data": {
      "image/png": "[encoded data removed]",
      "text/plain": [
       "<Figure size 640x480 with 1 Axes>"
      ]
     },
     "metadata": {},
     "output_type": "display_data"
    }
   ],
   "source": [
    "epoch_arr = np.arange(0, len(avg_loss_arr))\n",
    "loss_arr = np.array(avg_loss_arr)\n",
    "plt.plot(epoch_arr, avg_loss_arr)\n",
    "plt.xlabel(\"Epochs\")\n",
    "plt.ylabel(\"Average Runing Loss per batch\")\n",
    "plt.show()"
   ]
  },
  {
   "cell_type": "code",
   "execution_count": 37,
   "id": "627df9fd-7503-4b30-976b-1ba394e96f52",
   "metadata": {
    "tags": []
   },
   "outputs": [],
   "source": [
    "np.save(\"loss_for_333e_real_data.npy\", loss_arr)\n",
    "np.save(\"avg_loss_for_333e_real_data.npy\", avg_loss_arr)"
   ]
  },
  {
   "cell_type": "code",
   "execution_count": 38,
   "id": "79b32b2d-3d80-4f2e-bc38-5784d3d7d9b3",
   "metadata": {
    "collapsed": true,
    "jupyter": {
     "outputs_hidden": true
    },
    "tags": []
   },
   "outputs": [
    {
     "data": {
      "text/plain": [
       "334"
      ]
     },
     "execution_count": 38,
     "metadata": {},
     "output_type": "execute_result"
    }
   ],
   "source": [
    "len(loss_arr)"
   ]
  },
  {
   "cell_type": "code",
   "execution_count": 29,
   "id": "2d789cd8-8582-495a-92ae-816058873398",
   "metadata": {},
   "outputs": [
    {
     "data": {
      "text/plain": [
       "<All keys matched successfully>"
      ]
     },
     "execution_count": 29,
     "metadata": {},
     "output_type": "execute_result"
    }
   ],
   "source": [
    "net.load_state_dict(final_model)"
   ]
  },
  {
   "cell_type": "code",
   "execution_count": 31,
   "id": "177fd75d-7427-4436-9c14-a76ec7f817ae",
   "metadata": {},
   "outputs": [
    {
     "data": {
      "text/plain": [
       "BallStickNet(\n",
       "  (fc_layers): ModuleList(\n",
       "    (0): Linear(in_features=288, out_features=288, bias=True)\n",
       "    (1): ELU(alpha=1.0)\n",
       "    (2): Linear(in_features=288, out_features=288, bias=True)\n",
       "    (3): ELU(alpha=1.0)\n",
       "    (4): Linear(in_features=288, out_features=288, bias=True)\n",
       "    (5): ELU(alpha=1.0)\n",
       "  )\n",
       "  (encoder): Sequential(\n",
       "    (0): Linear(in_features=288, out_features=288, bias=True)\n",
       "    (1): ELU(alpha=1.0)\n",
       "    (2): Linear(in_features=288, out_features=288, bias=True)\n",
       "    (3): ELU(alpha=1.0)\n",
       "    (4): Linear(in_features=288, out_features=288, bias=True)\n",
       "    (5): ELU(alpha=1.0)\n",
       "    (6): Linear(in_features=288, out_features=6, bias=True)\n",
       "  )\n",
       ")"
      ]
     },
     "execution_count": 31,
     "metadata": {},
     "output_type": "execute_result"
    }
   ],
   "source": [
    "net.eval()"
   ]
  },
  {
   "cell_type": "code",
   "execution_count": 30,
   "id": "213e87b3-c5c5-4e12-90ea-3ed29c804d54",
   "metadata": {
    "tags": []
   },
   "outputs": [],
   "source": [
    "torch.save(final_model, 'model_100206.pt')"
   ]
  },
  {
   "cell_type": "code",
   "execution_count": 36,
   "id": "1496aa5c-5027-4b91-9db1-949988df9ccc",
   "metadata": {},
   "outputs": [
    {
     "data": {
      "text/plain": [
       "array([[0.58717719, 0.3583298 , 0.23172704, ..., 0.29955273, 0.25515158,\n",
       "        0.14232799],\n",
       "       [0.50774442, 0.20908629, 0.26041522, ..., 0.20317358, 0.30638718,\n",
       "        0.16331566],\n",
       "       [0.48708456, 0.22294106, 0.1648241 , ..., 0.17370412, 0.26170493,\n",
       "        0.14186516],\n",
       "       ...,\n",
       "       [0.91291248, 0.2155508 , 0.20319542, ..., 0.43916608, 0.19600398,\n",
       "        0.25809616],\n",
       "       [0.49877771, 0.35835001, 0.19056049, ..., 0.49013104, 0.15956306,\n",
       "        0.27814551],\n",
       "       [0.9379176 , 0.36414883, 0.30591693, ..., 0.2795788 , 0.24676875,\n",
       "        0.36824832]])"
      ]
     },
     "execution_count": 36,
     "metadata": {},
     "output_type": "execute_result"
    }
   ],
   "source": [
    "data_100206[0:128, :]"
   ]
  },
  {
   "cell_type": "code",
   "execution_count": 37,
   "id": "d2b13a7c-54f0-4341-bfa5-b6fc89609239",
   "metadata": {
    "tags": []
   },
   "outputs": [],
   "source": [
    "X_pred_train, mu_cart_pred_train, lambda_par_pred_train, lambda_iso_pred_train,  volume_0_pred_train, volume_1_pred_train, s0_pred_train = net(torch.from_numpy(data_100206[0:128, :].astype(np.float32)))"
   ]
  },
  {
   "cell_type": "code",
   "execution_count": 46,
   "id": "f6ee1150-b626-41a2-9276-d86fcbbd459e",
   "metadata": {},
   "outputs": [
    {
     "data": {
      "text/plain": [
       "tensor([[0.4589, 0.2381, 0.2205,  ..., 0.2328, 0.2229, 0.2259],\n",
       "        [0.4592, 0.2418, 0.2022,  ..., 0.2406, 0.2259, 0.2089],\n",
       "        [0.4803, 0.2320, 0.2163,  ..., 0.2272, 0.2150, 0.2204],\n",
       "        ...,\n",
       "        [0.8469, 0.2936, 0.2403,  ..., 0.2870, 0.2537, 0.2481],\n",
       "        [0.6915, 0.2732, 0.2435,  ..., 0.2590, 0.2457, 0.2428],\n",
       "        [1.0267, 0.3439, 0.2582,  ..., 0.3355, 0.2724, 0.2616]],\n",
       "       grad_fn=<MulBackward0>)"
      ]
     },
     "execution_count": 46,
     "metadata": {},
     "output_type": "execute_result"
    }
   ],
   "source": [
    "X_pred_train"
   ]
  },
  {
   "cell_type": "code",
   "execution_count": 60,
   "id": "4f004bff-1d48-45d8-b28c-b36c01c35e98",
   "metadata": {},
   "outputs": [],
   "source": [
    "net_test = BallStickNet(gradient_directions, b_values)\n"
   ]
  },
  {
   "cell_type": "code",
   "execution_count": 61,
   "id": "042f499a-c229-4b26-aec5-fcd10a525dae",
   "metadata": {},
   "outputs": [
    {
     "data": {
      "text/plain": [
       "<All keys matched successfully>"
      ]
     },
     "execution_count": 61,
     "metadata": {},
     "output_type": "execute_result"
    }
   ],
   "source": [
    "net_test.load_state_dict(torch.load('model_100206_61e.pt'))"
   ]
  },
  {
   "cell_type": "code",
   "execution_count": 62,
   "id": "200aef76-6479-4c00-8817-1a0425464c85",
   "metadata": {},
   "outputs": [
    {
     "data": {
      "text/plain": [
       "BallStickNet(\n",
       "  (fc_layers): ModuleList(\n",
       "    (0): Linear(in_features=288, out_features=288, bias=True)\n",
       "    (1): ELU(alpha=1.0)\n",
       "    (2): Linear(in_features=288, out_features=288, bias=True)\n",
       "    (3): ELU(alpha=1.0)\n",
       "    (4): Linear(in_features=288, out_features=288, bias=True)\n",
       "    (5): ELU(alpha=1.0)\n",
       "  )\n",
       "  (encoder): Sequential(\n",
       "    (0): Linear(in_features=288, out_features=288, bias=True)\n",
       "    (1): ELU(alpha=1.0)\n",
       "    (2): Linear(in_features=288, out_features=288, bias=True)\n",
       "    (3): ELU(alpha=1.0)\n",
       "    (4): Linear(in_features=288, out_features=288, bias=True)\n",
       "    (5): ELU(alpha=1.0)\n",
       "    (6): Linear(in_features=288, out_features=6, bias=True)\n",
       "  )\n",
       ")"
      ]
     },
     "execution_count": 62,
     "metadata": {},
     "output_type": "execute_result"
    }
   ],
   "source": [
    "net_test.eval()"
   ]
  },
  {
   "cell_type": "code",
   "execution_count": 95,
   "id": "647da789-708a-496e-91f0-c6134288a578",
   "metadata": {},
   "outputs": [],
   "source": [
    "X_pred_test, mu_cart_pred_test, lambda_par_pred_test, lambda_iso_pred_test,  volume_0_pred_test, volume_1_pred_test, s0_pred_test = net_test(torch.from_numpy(normalized_scan_100206.astype(np.float32)))\n",
    "\n"
   ]
  },
  {
   "cell_type": "code",
   "execution_count": 97,
   "id": "82afed11-32ba-4f15-855a-2028a8b08778",
   "metadata": {},
   "outputs": [
    {
     "data": {
      "text/plain": [
       "torch.Size([935439, 1])"
      ]
     },
     "execution_count": 97,
     "metadata": {},
     "output_type": "execute_result"
    }
   ],
   "source": [
    "lambda_par_pred_test.shape"
   ]
  },
  {
   "cell_type": "code",
   "execution_count": 99,
   "id": "24f6f632-6ce3-4b13-aced-fc82a04a9a86",
   "metadata": {},
   "outputs": [
    {
     "data": {
      "text/plain": [
       "(3658350, 1)"
      ]
     },
     "execution_count": 99,
     "metadata": {},
     "output_type": "execute_result"
    }
   ],
   "source": [
    "mask_100206_long.shape"
   ]
  },
  {
   "cell_type": "code",
   "execution_count": 100,
   "id": "e6e1754f-2a57-4aa8-99f4-cc4976033df4",
   "metadata": {},
   "outputs": [
    {
     "data": {
      "text/plain": [
       "936256.0"
      ]
     },
     "execution_count": 100,
     "metadata": {},
     "output_type": "execute_result"
    }
   ],
   "source": [
    "np.sum(mask_100206_long)"
   ]
  },
  {
   "cell_type": "code",
   "execution_count": null,
   "id": "46e86018-1531-49bd-9449-03a06f24806c",
   "metadata": {},
   "outputs": [],
   "source": []
  },
  {
   "cell_type": "code",
   "execution_count": 71,
   "id": "4fff9f32-d14e-4968-9d68-b18bb18db79f",
   "metadata": {},
   "outputs": [
    {
     "data": {
      "text/plain": [
       "[<matplotlib.lines.Line2D at 0x1cef16f50>]"
      ]
     },
     "execution_count": 71,
     "metadata": {},
     "output_type": "execute_result"
    },
    {
     "data": {
      "image/png": "[encoded data removed]",
      "text/plain": [
       "<Figure size 640x480 with 1 Axes>"
      ]
     },
     "metadata": {},
     "output_type": "display_data"
    }
   ],
   "source": [
    "plt.plot(bvals, X_pred_test[1,:].detach().numpy(),  \"o\")\n",
    "# plt.plot(X_pred_train[110,:].detach().numpy())\n",
    "plt.plot(bvals,normalized_scan_100206[1,:], \".\")"
   ]
  },
  {
   "cell_type": "code",
   "execution_count": 76,
   "id": "3308a0dd-bf5e-4ed3-a94f-80689778bc18",
   "metadata": {},
   "outputs": [
    {
     "data": {
      "text/plain": [
       "tensor(0.1000, grad_fn=<MinBackward1>)"
      ]
     },
     "execution_count": 76,
     "metadata": {},
     "output_type": "execute_result"
    }
   ],
   "source": [
    "torch.min(lambda_par_pred_test)"
   ]
  },
  {
   "cell_type": "code",
   "execution_count": 77,
   "id": "c413c0f0-861a-40f8-8dd7-75a1530d9735",
   "metadata": {},
   "outputs": [
    {
     "data": {
      "text/plain": [
       "tensor(0.1108, grad_fn=<MaxBackward1>)"
      ]
     },
     "execution_count": 77,
     "metadata": {},
     "output_type": "execute_result"
    }
   ],
   "source": [
    "torch.max(lambda_par_pred_test)"
   ]
  },
  {
   "cell_type": "code",
   "execution_count": 110,
   "id": "3119fd69-8490-426d-8acd-ccc6505b061f",
   "metadata": {},
   "outputs": [
    {
     "data": {
      "text/plain": [
       "array([0.005, 1.   , 1.995, 3.005, 0.995, 2.995, 2.005, 0.99 , 1.99 ,\n",
       "       3.   , 1.   , 1.985, 2.995, 1.005, 1.995, 2.995, 0.005, 0.995,\n",
       "       2.   , 3.01 , 3.005, 0.995, 2.005, 0.995, 1.99 , 2.985, 1.005,\n",
       "       2.   , 3.005, 0.995, 1.995, 2.99 , 0.005, 3.005, 0.995, 2.   ,\n",
       "       0.99 , 1.99 , 2.99 , 0.995, 2.985, 1.995, 3.005, 0.995, 2.005,\n",
       "       1.   , 1.99 , 2.995, 0.005, 1.005, 2.005, 2.995, 3.   , 1.005,\n",
       "       1.985, 1.005, 2.985, 2.005, 0.995, 1.99 , 3.005, 1.   , 2.99 ,\n",
       "       2.   , 0.005, 0.99 , 2.005, 2.995, 1.   , 2.005, 3.   , 0.995,\n",
       "       2.005, 3.005, 1.005, 2.   , 3.01 , 0.99 , 2.005, 1.995, 0.005,\n",
       "       1.   , 3.01 , 2.985, 1.005, 1.995, 3.   , 1.   , 2.005, 3.   ,\n",
       "       0.99 , 2.005, 2.99 , 3.   , 1.   , 0.005, 2.99 , 0.995, 1.995,\n",
       "       1.995, 1.005, 2.   , 2.995, 1.005, 2.01 , 2.995, 1.005, 2.   ,\n",
       "       3.01 , 1.   , 2.005, 2.99 , 0.005, 0.99 , 2.985, 2.005, 1.   ,\n",
       "       2.005, 2.985, 0.995, 2.005, 2.99 , 0.995, 2.005, 2.99 , 1.005,\n",
       "       2.   , 3.005, 0.005, 0.995, 2.995, 1.99 , 1.005, 0.995, 2.005,\n",
       "       2.99 , 2.   , 3.   , 1.   , 2.005, 2.985, 0.99 , 1.995, 2.985,\n",
       "       0.005, 0.99 , 2.   , 3.01 , 0.995, 1.99 , 2.995, 1.005, 2.   ,\n",
       "       3.005, 1.   , 1.99 , 2.995, 2.   , 0.995, 2.99 , 0.005, 0.995,\n",
       "       3.005, 1.99 , 3.005, 1.   , 2.   , 1.   , 1.99 , 2.99 , 2.99 ,\n",
       "       0.99 , 2.01 , 0.995, 2.005, 3.   , 0.005, 1.005, 2.98 , 2.005,\n",
       "       1.   , 1.985, 2.005, 1.   , 2.985, 2.995, 0.99 , 1.995, 3.005,\n",
       "       2.995, 0.995, 0.005, 1.995, 1.005, 3.   , 1.99 , 0.995, 2.01 ,\n",
       "       2.995, 0.995, 2.005, 2.99 , 0.995, 2.   , 2.985, 1.005, 2.99 ,\n",
       "       1.995, 0.005, 3.01 , 1.005, 1.99 , 1.   , 2.005, 2.99 , 0.995,\n",
       "       2.   , 2.995, 1.   , 2.005, 2.99 , 3.   , 1.005, 1.99 , 0.005,\n",
       "       0.995, 3.01 , 2.005, 0.995, 2.   , 3.   , 2.985, 0.995, 1.99 ,\n",
       "       2.995, 0.995, 2.   , 0.995, 2.005, 3.01 , 0.005, 2.995, 1.   ,\n",
       "       1.99 , 0.995, 1.99 , 3.   , 1.   , 2.   , 2.985, 0.99 , 1.99 ,\n",
       "       2.99 , 1.   , 3.005, 1.99 , 0.005, 1.005, 2.   , 2.99 , 1.   ,\n",
       "       1.99 , 3.   , 1.   , 2.   , 2.985, 0.995, 1.99 , 3.   , 1.005,\n",
       "       3.005, 2.005, 0.005, 0.995, 1.995, 3.005, 1.   , 0.995, 2.99 ,\n",
       "       2.985, 2.005, 1.99 , 1.   , 2.99 , 2.   , 1.005, 1.995, 3.   ])"
      ]
     },
     "execution_count": 110,
     "metadata": {},
     "output_type": "execute_result"
    }
   ],
   "source": [
    "bvals"
   ]
  },
  {
   "cell_type": "markdown",
   "id": "47a7b2e3-9ea0-4189-9b40-d8345b25fc25",
   "metadata": {},
   "source": [
    "**Reshape data and remove background voxels**"
   ]
  },
  {
   "cell_type": "code",
   "execution_count": 9,
   "id": "5167ef53-2321-4fa8-8454-3b372d7843f8",
   "metadata": {},
   "outputs": [],
   "source": [
    "scan_100206 = process_data.get_nifti_data(config.data_folder2 + '/100206/data.nii.gz')"
   ]
  },
  {
   "cell_type": "code",
   "execution_count": 10,
   "id": "0fc286be-6859-4cad-aa5c-3b16333dbdce",
   "metadata": {},
   "outputs": [],
   "source": [
    "mask_100206 = process_data.get_nifti_data(config.data_folder2 + '/100206/nodif_brain_mask.nii.gz')"
   ]
  },
  {
   "cell_type": "code",
   "execution_count": 11,
   "id": "a7671be3-cd9b-4693-8a4a-1fdf88c54751",
   "metadata": {},
   "outputs": [],
   "source": [
    "scan_dimension = scan_100206.shape\n",
    "x = scan_dimension[0]\n",
    "y = scan_dimension[1]\n",
    "z = scan_dimension[2]\n",
    "b = scan_dimension[3]"
   ]
  },
  {
   "cell_type": "code",
   "execution_count": 12,
   "id": "573295c4-cd4b-4a84-ba1a-1763a838c1fd",
   "metadata": {},
   "outputs": [
    {
     "name": "stdout",
     "output_type": "stream",
     "text": [
      "145 174 145 288\n"
     ]
    }
   ],
   "source": [
    "print(x, y, z, b)"
   ]
  },
  {
   "cell_type": "code",
   "execution_count": 13,
   "id": "69462319-5a62-41d7-93f0-791fa88320fd",
   "metadata": {},
   "outputs": [],
   "source": [
    "scan_100206_long = np.reshape(scan_100206, (x*y*z, b))"
   ]
  },
  {
   "cell_type": "code",
   "execution_count": 14,
   "id": "e55b572d-da6a-482a-93a0-e24d17a12a99",
   "metadata": {},
   "outputs": [],
   "source": [
    "mask_100206_long = np.reshape(mask_100206, (x*y*z, 1))"
   ]
  },
  {
   "cell_type": "code",
   "execution_count": 15,
   "id": "3b84ef69-c642-46cc-abc9-69ca5b356d11",
   "metadata": {},
   "outputs": [],
   "source": [
    "scan_100206_long_no_background = process_data.trim_background(scan_100206_long, mask_100206_long)"
   ]
  },
  {
   "cell_type": "code",
   "execution_count": 16,
   "id": "5e51dee5-d49f-43bc-ad0e-f4ebe8b12b95",
   "metadata": {},
   "outputs": [
    {
     "data": {
      "text/plain": [
       "(936256, 288)"
      ]
     },
     "execution_count": 16,
     "metadata": {},
     "output_type": "execute_result"
    }
   ],
   "source": [
    "scan_100206_long_no_background.shape"
   ]
  },
  {
   "cell_type": "code",
   "execution_count": 17,
   "id": "16e7ebb9-a0de-4f0e-8dba-71707d859726",
   "metadata": {},
   "outputs": [],
   "source": [
    "# Ignore all strange data\n",
    "\n",
    "def find_rows_beginning_with_zero(scan_long_no_bg):\n",
    "    return np.where(scan_long_no_bg[:, 0] == 0)[0]\n",
    "\n",
    "Sb_beginning_0 = find_rows_beginning_with_zero(scan_100206_long_no_background)"
   ]
  },
  {
   "cell_type": "code",
   "execution_count": 108,
   "id": "cac7de01-6810-4bf2-a6bd-c4e30153eb15",
   "metadata": {
    "collapsed": true,
    "jupyter": {
     "outputs_hidden": true
    },
    "tags": []
   },
   "outputs": [
    {
     "data": {
      "text/plain": [
       "array([ 46080,  52289,  58710,  61649,  65169,  75865,  77984,  82681,\n",
       "        88184,  96165,  96248,  98616, 104386, 104471, 105834, 106935,\n",
       "       112589, 112845, 112930, 115186, 115316, 121280, 121706, 124612,\n",
       "       127409, 130165, 130591, 132693, 133084, 133597, 137541, 139400,\n",
       "       139753, 141694, 141918, 142846, 148444, 148806, 149505, 149838,\n",
       "       151134, 151227, 151272, 152002, 152206, 152349, 152407, 154601,\n",
       "       156409, 158104, 158288, 158471, 159177, 159511, 160888, 160932,\n",
       "       161452, 161721, 161983, 161984, 162113, 162132, 162210, 167928,\n",
       "       168205, 168297, 169004, 169341, 171395, 171798, 171931, 171948,\n",
       "       172006, 172027, 172164, 172422, 172512, 172608, 172704, 178028,\n",
       "       178213, 179261, 181980, 182142, 182491, 182588, 182685, 188111,\n",
       "       188564, 189253, 189586, 191392, 191682, 192585, 192681, 192778,\n",
       "       198338, 199046, 199391, 199725, 201834, 202277, 202792, 205301,\n",
       "       208912, 209605, 209942, 211902, 211903, 211904, 212326, 212401,\n",
       "       212557, 212638, 212724, 220226, 222749, 222985, 223070, 223332,\n",
       "       223424, 223517, 229542, 231390, 232879, 232945, 233016, 233752,\n",
       "       239966, 240315, 242898, 242904, 242905, 242929, 243527, 243586,\n",
       "       243987, 244080, 244174, 246697, 253501, 253502, 253507, 253617,\n",
       "       253866, 253992, 254003, 254128, 254204, 254360, 254443, 254608,\n",
       "       254701, 254795, 264133, 264163, 264239, 264309, 264663, 264674,\n",
       "       264728, 265377, 272690, 274200, 274876, 274877, 274989, 275061,\n",
       "       275063, 275138, 275420, 275433, 275487, 275559, 275636, 277203,\n",
       "       285169, 285638, 285731, 285841, 285924, 285970, 286236, 286291,\n",
       "       288020, 288331, 294950, 296526, 296527, 296550, 296584, 296675,\n",
       "       296789, 296919, 297239, 297552, 297635, 297721, 299180, 299285,\n",
       "       306487, 306860, 306960, 307560, 307655, 307770, 307902, 308101,\n",
       "       308227, 308301, 308321, 308546, 308631, 309369, 309468, 310079,\n",
       "       310184, 317761, 317970, 318533, 318534, 318537, 318538, 318539,\n",
       "       318566, 318655, 318688, 318803, 318804, 318945, 319115, 319122,\n",
       "       319134, 319275, 319278, 319354, 319496, 319580, 319665, 320398,\n",
       "       320401, 321109, 326060, 329455, 329456, 329457, 329462, 329463,\n",
       "       329466, 329467, 329468, 329494, 329583, 329616, 329619, 329733,\n",
       "       329775, 330052, 330192, 330266, 330286, 330512, 330597, 331330,\n",
       "       331333, 331734, 331837, 331942, 332258, 339407, 339691, 340399,\n",
       "       340434, 340435, 340444, 340445, 340446, 340447, 340471, 340560,\n",
       "       340593, 340711, 340753, 341031, 341171, 341245, 341265, 341325,\n",
       "       341408, 341492, 342295, 342298, 342597, 342699, 342802, 342907,\n",
       "       343653, 351330, 351355, 351385, 351386, 351387, 351388, 351389,\n",
       "       351412, 351414, 351439, 351496, 351528, 351637, 351679, 351990,\n",
       "       352057, 352130, 352204, 352224, 352284, 352367, 352451, 353257,\n",
       "       353554, 353759, 354393, 354502, 361190, 361251, 362290, 362331,\n",
       "       362332, 362335, 362466, 362498, 363055, 363208, 363291, 363374,\n",
       "       364178, 364475, 364680, 365318, 365427, 373335, 373568, 374098,\n",
       "       374259, 374342, 375440, 375645, 376393, 383185, 383426, 383764,\n",
       "       383818, 383871, 383922, 383972, 384021, 384338, 385246, 385328,\n",
       "       386421, 386521, 386622, 386726, 394092, 394398, 394690, 394745,\n",
       "       395485, 396199, 396280, 397467, 397670, 397772, 397982, 398309,\n",
       "       405139, 405203, 405562, 406791, 408799, 415962, 427949, 430006,\n",
       "       450769, 452585, 452686, 459603, 461683, 463086, 469833, 471939,\n",
       "       472381, 472975, 480030, 480031, 480035, 480066, 480071, 480072,\n",
       "       480073, 482619, 484989, 490301, 490302, 490307, 490324, 490346,\n",
       "       490353, 490354, 490416, 492243, 495449, 500971, 501020, 501668,\n",
       "       501801, 502595, 502656, 510975, 511710, 511714, 511744, 511795,\n",
       "       512603, 513211, 513423, 513576, 522581, 522586, 522612, 522618,\n",
       "       522619, 522706, 522826, 522918, 523360, 524033, 524121, 524211,\n",
       "       533525, 533526, 533530, 533553, 533619, 533933, 533935, 534970,\n",
       "       535061, 537013, 543376, 544444, 544500, 544646, 544684, 544778,\n",
       "       544878, 545246, 545307, 545319, 545536, 545943, 546034, 547260,\n",
       "       547261, 547993, 554356, 555435, 555485, 555634, 555677, 555822,\n",
       "       556236, 556244, 556318, 556379, 557041, 557133, 558379, 558594,\n",
       "       559130, 566460, 566652, 566693, 566698, 566838, 566888, 566889,\n",
       "       567335, 567396, 568059, 568151, 569395, 577452, 577453, 577529,\n",
       "       577644, 577829, 577929, 578243, 578252, 579052, 579144, 580397,\n",
       "       581139, 588398, 588579, 588712, 588861, 589175, 589184, 589400,\n",
       "       589726, 589897, 589988, 590363, 590458, 591349, 599302, 599381,\n",
       "       599418, 599624, 599886, 600015, 600079, 600080, 600089, 600164,\n",
       "       600305, 600382, 600802, 600893, 602255, 610164, 610235, 610731,\n",
       "       610922, 610923, 610932, 611144, 611148, 611225, 611645, 611828,\n",
       "       612788, 613096, 614047, 618330, 619682, 620911, 621054, 621057,\n",
       "       621158, 621197, 621239, 621726, 621735, 621868, 621944, 621947,\n",
       "       622105, 622272, 622533, 622535, 623888, 623993, 628391, 630546,\n",
       "       631673, 631674, 632027, 632081, 632261, 632326, 632336, 632546,\n",
       "       632704, 634486, 634591, 634695, 639027, 640634, 642137, 642274,\n",
       "       642619, 642852, 642917, 642918, 642927, 643375, 644653, 644956,\n",
       "       645165, 651061, 652744, 652795, 653365, 653368, 653430, 653439,\n",
       "       653723, 653800, 653883, 655162, 655565, 655669, 661629, 662054,\n",
       "       662850, 663216, 663226, 663258, 663259, 663785, 663859, 664139,\n",
       "       664381, 673327, 673407, 673647, 673687, 674285, 674719, 674974,\n",
       "       676008, 683976, 684675, 684677, 684744, 685357, 687777, 693726,\n",
       "       694084, 694488, 694763, 694813, 694969, 695040, 695041, 695042,\n",
       "       695112, 695474, 695723, 697267, 697369, 698167, 698266, 704136,\n",
       "       704493, 705110, 705799, 707483, 707484, 707586, 707688, 713677,\n",
       "       715355, 716800, 717785, 717990, 719290, 722138, 723189, 725605,\n",
       "       727040, 727136, 727525, 728026, 728128, 728129, 728231, 736325,\n",
       "       736474, 737677, 737776, 741105, 742670, 744463, 745848, 745891,\n",
       "       746029, 746445, 746455, 749222, 749520, 750802, 750887, 750972,\n",
       "       751057, 753825, 753906, 754507, 754737, 754789, 754841, 756410,\n",
       "       756411, 757558, 758146, 758444, 759144, 761092, 763666, 763747,\n",
       "       764561, 764613, 764664, 768164, 768264, 768364, 768863, 773429,\n",
       "       774292, 774343, 774441, 774490, 774625, 775611, 780276, 783937,\n",
       "       784271, 784673, 784720, 785295, 786841, 788388, 789462, 789541,\n",
       "       791428, 791514, 791600, 791686, 793723, 793792, 794489, 800621,\n",
       "       800705, 800789, 800871, 802483, 802527, 802862, 808730, 809080,\n",
       "       809255, 809342, 809428, 809597, 809681, 809765, 811377, 811425,\n",
       "       811642, 811683, 811803, 812468, 815044, 817980, 818065, 818150,\n",
       "       818319, 818403, 818488, 818569, 820062, 820106, 820321, 820437,\n",
       "       820472, 820506, 821701, 826486, 826823, 826907, 826992, 827073,\n",
       "       828573, 828785, 832773, 834971, 835140, 835224, 835307, 835388,\n",
       "       836843, 837042, 837080, 837264, 842826, 842911, 843246, 843328,\n",
       "       843411, 843492, 845111, 845451, 847789, 851141, 851223, 851304,\n",
       "       851384, 861287, 867610, 868308, 870594, 880343, 888889, 889049,\n",
       "       889050, 889130, 926321, 930422, 934433, 934543])"
      ]
     },
     "execution_count": 108,
     "metadata": {},
     "output_type": "execute_result"
    }
   ],
   "source": [
    "Sb_beginning_0"
   ]
  },
  {
   "cell_type": "code",
   "execution_count": 109,
   "id": "1f6bb0d0-9708-493f-8fd2-ba23fe771027",
   "metadata": {
    "collapsed": true,
    "jupyter": {
     "outputs_hidden": true
    },
    "tags": []
   },
   "outputs": [
    {
     "data": {
      "text/plain": [
       "array([0.        , 0.        , 0.        , 0.        , 0.        ,\n",
       "       0.21056949, 0.        , 0.        , 0.        , 1.28377998,\n",
       "       0.        , 0.        , 0.        , 0.28678006, 0.        ,\n",
       "       0.        , 9.0942049 , 0.        , 0.        , 0.        ,\n",
       "       0.49706459, 0.        , 0.        , 0.        , 0.        ,\n",
       "       0.        , 0.        , 0.13226748, 0.        , 0.        ,\n",
       "       0.        , 0.        , 0.        , 0.        , 0.        ,\n",
       "       1.68775618, 0.        , 0.        , 0.        , 0.        ,\n",
       "       0.        , 0.        , 0.        , 0.        , 0.        ,\n",
       "       0.        , 0.        , 0.        , 0.        , 0.        ,\n",
       "       0.        , 0.        , 0.        , 0.        , 0.        ,\n",
       "       0.        , 0.        , 0.        , 0.        , 0.        ,\n",
       "       0.        , 0.        , 0.        , 0.        , 0.        ,\n",
       "       0.        , 0.        , 0.        , 0.        , 0.        ,\n",
       "       0.        , 0.        , 0.        , 0.91024458, 0.        ,\n",
       "       0.        , 0.        , 0.        , 0.        , 0.        ,\n",
       "       0.        , 0.        , 0.        , 0.        , 0.        ,\n",
       "       0.        , 0.        , 0.        , 0.        , 0.        ,\n",
       "       2.13859248, 0.        , 0.        , 0.        , 0.        ,\n",
       "       0.        , 0.        , 0.        , 0.        , 0.        ,\n",
       "       0.        , 0.        , 0.        , 0.        , 0.        ,\n",
       "       2.74611855, 0.        , 0.        , 0.        , 0.        ,\n",
       "       0.        , 0.        , 0.        , 0.        , 0.        ,\n",
       "       0.        , 0.        , 0.        , 0.        , 0.        ,\n",
       "       0.        , 0.        , 3.24548578, 0.        , 0.        ,\n",
       "       0.        , 0.        , 0.        , 0.        , 0.        ,\n",
       "       0.        , 0.        , 0.        , 0.        , 0.        ,\n",
       "       0.        , 0.        , 0.        , 0.        , 0.        ,\n",
       "       0.        , 3.83515263, 0.        , 0.        , 0.        ,\n",
       "       0.        , 0.        , 0.        , 0.        , 0.        ,\n",
       "       0.        , 0.        , 0.        , 0.        , 0.        ,\n",
       "       0.        , 0.        , 0.        , 0.        , 0.        ,\n",
       "       0.        , 0.        , 0.        , 0.        , 0.        ,\n",
       "       0.        , 0.        , 0.        , 0.        , 0.        ,\n",
       "       0.        , 0.        , 0.        , 0.        , 0.        ,\n",
       "       0.        , 5.49531269, 0.        , 0.        , 0.        ,\n",
       "       0.        , 0.        , 0.        , 0.        , 0.        ,\n",
       "       0.        , 0.        , 0.        , 0.        , 0.        ,\n",
       "       0.        , 0.        , 0.        , 0.        , 0.        ,\n",
       "       0.        , 0.        , 0.        , 0.        , 0.        ,\n",
       "       0.        , 0.        , 0.        , 0.        , 0.        ,\n",
       "       0.        , 0.        , 0.        , 0.        , 0.        ,\n",
       "       0.        , 0.        , 0.        , 0.        , 0.        ,\n",
       "       0.        , 0.        , 0.        , 0.        , 0.        ,\n",
       "       0.        , 0.        , 0.        , 0.        , 0.        ,\n",
       "       0.        , 0.        , 0.        , 0.        , 0.91775882,\n",
       "       0.        , 0.        , 0.        , 0.        , 0.        ,\n",
       "       0.        , 0.        , 0.        , 0.        , 0.        ,\n",
       "       0.        , 0.15487549, 0.        , 0.        , 0.        ,\n",
       "       4.09156656, 0.        , 0.        , 0.        , 0.        ,\n",
       "       0.        , 0.        , 0.        , 0.        , 0.        ,\n",
       "       0.        , 0.        , 0.        , 0.        , 0.        ,\n",
       "       0.        , 0.        , 0.        , 0.        , 0.        ,\n",
       "       0.        , 0.        , 0.        , 0.        , 0.        ,\n",
       "       0.        , 0.        , 0.        , 0.        , 0.        ,\n",
       "       0.        , 0.        , 0.        , 0.        , 0.        ,\n",
       "       0.        , 0.        , 0.        , 0.        , 0.        ,\n",
       "       0.        , 0.        , 0.        ])"
      ]
     },
     "execution_count": 109,
     "metadata": {},
     "output_type": "execute_result"
    }
   ],
   "source": [
    "scan_100206_long_no_background[96165,:]"
   ]
  },
  {
   "cell_type": "code",
   "execution_count": 102,
   "id": "172ad837-9cf7-46de-9641-d706c1fbfa80",
   "metadata": {},
   "outputs": [],
   "source": [
    "mask_100206_long_pro = mask_100206_long"
   ]
  },
  {
   "cell_type": "code",
   "execution_count": 103,
   "id": "83e4706c-33ee-4a38-829f-ad80d8ef6705",
   "metadata": {},
   "outputs": [],
   "source": [
    "mask_100206_long_pro[Sb_beginning_0, :] = 0"
   ]
  },
  {
   "cell_type": "code",
   "execution_count": 105,
   "id": "b2b04146-eea7-48ff-a9e9-be38548a6e4d",
   "metadata": {},
   "outputs": [
    {
     "data": {
      "text/plain": [
       "936174.0"
      ]
     },
     "execution_count": 105,
     "metadata": {},
     "output_type": "execute_result"
    }
   ],
   "source": [
    "np.sum(mask_100206_long_pro)"
   ]
  },
  {
   "cell_type": "code",
   "execution_count": 19,
   "id": "4f5de363-0624-4c68-992d-3d0f318c0c37",
   "metadata": {},
   "outputs": [],
   "source": [
    "scan_100206_long_no_bg = np.delete(scan_100206_long_no_background, Sb_beginning_0, 0)"
   ]
  },
  {
   "cell_type": "code",
   "execution_count": 93,
   "id": "6987ab14-b560-4443-a030-3029c046cc37",
   "metadata": {},
   "outputs": [
    {
     "data": {
      "text/plain": [
       "torch.Size([128, 1])"
      ]
     },
     "execution_count": 93,
     "metadata": {},
     "output_type": "execute_result"
    }
   ],
   "source": [
    "lambda_par_pred_test.shape"
   ]
  },
  {
   "cell_type": "code",
   "execution_count": 94,
   "id": "117e992c-d770-40a4-8c56-364aa341d2e4",
   "metadata": {},
   "outputs": [
    {
     "data": {
      "text/plain": [
       "(935439, 288)"
      ]
     },
     "execution_count": 94,
     "metadata": {},
     "output_type": "execute_result"
    }
   ],
   "source": [
    "normalized_scan_100206.shape"
   ]
  },
  {
   "cell_type": "markdown",
   "id": "11f84071-e5b5-4ca0-af35-2ffbb83161de",
   "metadata": {},
   "source": [
    "**Normalize data**"
   ]
  },
  {
   "cell_type": "code",
   "execution_count": 79,
   "id": "bdbbde5c-5ae2-450c-a9d5-9dd7cfa2e892",
   "metadata": {},
   "outputs": [],
   "source": [
    "def get_S0(scan_long, bval_list):\n",
    "    bval_5_indices = np.where(bval_list == 0.005)[0]\n",
    "    scan_bval_5 = scan_long[:, bval_5_indices]\n",
    "    mean_bval_5 = np.mean(scan_bval_5, axis=1)\n",
    "    mean_bval_5 = mean_bval_5[:, np.newaxis]\n",
    "    return mean_bval_5"
   ]
  },
  {
   "cell_type": "code",
   "execution_count": 80,
   "id": "429d5265-1286-4818-874a-ce0129512e40",
   "metadata": {},
   "outputs": [],
   "source": [
    "S0_100206 = get_S0(scan_100206_long_no_bg, bvals)"
   ]
  },
  {
   "cell_type": "code",
   "execution_count": null,
   "id": "b8264279-6eb9-4674-8bd6-abdf1350dc7e",
   "metadata": {},
   "outputs": [
    {
     "data": {
      "text/plain": [
       "array([[450.87282308],\n",
       "       [454.07630242],\n",
       "       [473.0456704 ],\n",
       "       ...,\n",
       "       [871.7351515 ],\n",
       "       [643.40559726],\n",
       "       [882.28022257]])"
      ]
     },
     "execution_count": 81,
     "metadata": {},
     "output_type": "execute_result"
    }
   ],
   "source": [
    "S0_100206"
   ]
  },
  {
   "cell_type": "code",
   "execution_count": 89,
   "id": "d761e6f3-1f70-4cd1-a61e-f56ef9be2caf",
   "metadata": {},
   "outputs": [
    {
     "name": "stdout",
     "output_type": "stream",
     "text": [
      "[229768 536137 850262]\n"
     ]
    }
   ],
   "source": [
    "error_voxels = np.argwhere(np.logical_and(S0_100206 >= 0, S0_100206 < 1))[:,0]\n",
    "print(error_voxels)"
   ]
  },
  {
   "cell_type": "code",
   "execution_count": 88,
   "id": "20f45e7a-4fb4-482c-b423-9f32a8f89615",
   "metadata": {},
   "outputs": [
    {
     "data": {
      "text/plain": [
       "array([[450.87282308],\n",
       "       [454.07630242],\n",
       "       [473.0456704 ],\n",
       "       ...,\n",
       "       [871.7351515 ],\n",
       "       [643.40559726],\n",
       "       [882.28022257]])"
      ]
     },
     "execution_count": 88,
     "metadata": {},
     "output_type": "execute_result"
    }
   ],
   "source": [
    "S0_100206"
   ]
  },
  {
   "cell_type": "code",
   "execution_count": null,
   "id": "58b675bc-3761-4e05-bb27-1a6cd1bd8c0c",
   "metadata": {},
   "outputs": [],
   "source": [
    "scan_long_no_bg_100206 = np.delete(scan_100206_long_no_bg, error_voxels, 0)\n",
    "S0_100206_full = np.delete(S0_100206, error_voxels, 0)"
   ]
  },
  {
   "cell_type": "code",
   "execution_count": null,
   "id": "72c3ad18-31f4-4670-8cfb-06b08a359488",
   "metadata": {},
   "outputs": [],
   "source": [
    "normalized_scan_100206 = scan_long_no_bg_100206 / S0_100206_full"
   ]
  },
  {
   "cell_type": "code",
   "execution_count": null,
   "id": "170c40b3-b165-4475-9375-5d18b12bcee6",
   "metadata": {},
   "outputs": [],
   "source": []
  },
  {
   "cell_type": "code",
   "execution_count": null,
   "id": "fe32741b-8800-49d1-9225-74440a5cc35e",
   "metadata": {},
   "outputs": [],
   "source": []
  },
  {
   "cell_type": "code",
   "execution_count": null,
   "id": "f4ae4405-3e38-4ad7-ac6c-df99ba598831",
   "metadata": {},
   "outputs": [],
   "source": []
  },
  {
   "cell_type": "code",
   "execution_count": null,
   "id": "f48d7f92-3aa7-4578-aad7-be3da7befb5d",
   "metadata": {},
   "outputs": [],
   "source": []
  },
  {
   "cell_type": "code",
   "execution_count": null,
   "id": "70b8f03d-f1d1-40db-b738-55313c7cc11a",
   "metadata": {},
   "outputs": [],
   "source": []
  },
  {
   "cell_type": "code",
   "execution_count": null,
   "id": "fcf1fd2c-ae83-4a19-afb9-f300b801fbaf",
   "metadata": {},
   "outputs": [],
   "source": []
  },
  {
   "cell_type": "code",
   "execution_count": null,
   "id": "40626070-085c-491b-aac4-36400d4dac24",
   "metadata": {},
   "outputs": [],
   "source": []
  },
  {
   "cell_type": "code",
   "execution_count": null,
   "id": "cf3ed0a7-890f-4e77-bf7d-4f34660ba05f",
   "metadata": {},
   "outputs": [],
   "source": []
  },
  {
   "cell_type": "code",
   "execution_count": null,
   "id": "926a5f2b-6a0b-4046-b196-58b20cbff506",
   "metadata": {},
   "outputs": [],
   "source": []
  },
  {
   "cell_type": "code",
   "execution_count": null,
   "id": "1ba0ca0a-5e0f-4dae-b8f8-59113f713dce",
   "metadata": {},
   "outputs": [],
   "source": []
  },
  {
   "cell_type": "code",
   "execution_count": 21,
   "id": "0c6f5112-3fbd-46cd-b843-0072d7b305c8",
   "metadata": {},
   "outputs": [
    {
     "name": "stdout",
     "output_type": "stream",
     "text": [
      "[229768 536137 850262]\n"
     ]
    }
   ],
   "source": [
    "error_voxels = np.argwhere(np.logical_and(S0_100206 >= 0, S0_100206 < 1))[:,0]\n",
    "print(error_voxels)"
   ]
  },
  {
   "cell_type": "code",
   "execution_count": 22,
   "id": "4af0fe7a-573a-4647-ae1f-7ced3e3b29e7",
   "metadata": {},
   "outputs": [],
   "source": [
    "scan_long_no_bg_100206 = np.delete(scan_100206_long_no_bg, error_voxels, 0)\n",
    "S0_100206_full = np.delete(S0_100206, error_voxels, 0)"
   ]
  },
  {
   "cell_type": "code",
   "execution_count": 23,
   "id": "f8abedff-963e-4b5d-9171-d331a88d2315",
   "metadata": {},
   "outputs": [
    {
     "data": {
      "text/plain": [
       "(935439, 288)"
      ]
     },
     "execution_count": 23,
     "metadata": {},
     "output_type": "execute_result"
    }
   ],
   "source": [
    "scan_long_no_bg_100206.shape"
   ]
  },
  {
   "cell_type": "code",
   "execution_count": 24,
   "id": "a8c1f2bc-77d2-4243-ba71-d0325dcf066e",
   "metadata": {},
   "outputs": [],
   "source": [
    "normalized_scan_100206 = scan_long_no_bg_100206 / S0_100206_full"
   ]
  },
  {
   "cell_type": "code",
   "execution_count": 25,
   "id": "d1f8e2af-ef7a-4eab-8c76-3926efaf2bfd",
   "metadata": {},
   "outputs": [],
   "source": [
    "np.save('normalized_scan_100206.npy', normalized_scan_100206)"
   ]
  },
  {
   "cell_type": "code",
   "execution_count": null,
   "id": "fb4423aa-4ac1-4ff0-b8d7-7252eda5ca1f",
   "metadata": {},
   "outputs": [],
   "source": []
  },
  {
   "cell_type": "code",
   "execution_count": null,
   "id": "6199b546-ec3c-4ba6-96a7-e8d0c830a9d4",
   "metadata": {},
   "outputs": [],
   "source": [
    "X_pred_train, mu_cart_pred_train, lambda_par_pred_train, lambda_iso_pred_train,  volume_0_pred_train, volume_1_pred_train"
   ]
  },
  {
   "cell_type": "code",
   "execution_count": 100,
   "id": "691c29b4-1461-43cc-b1bd-15b630fb1cab",
   "metadata": {},
   "outputs": [
    {
     "data": {
      "text/plain": [
       "torch.Size([935439, 1])"
      ]
     },
     "execution_count": 100,
     "metadata": {},
     "output_type": "execute_result"
    }
   ],
   "source": [
    "lambda_par_pred_train.shape"
   ]
  },
  {
   "cell_type": "code",
   "execution_count": 85,
   "id": "474dfeb8-18ba-4ec6-9e19-c86ed9df5642",
   "metadata": {},
   "outputs": [],
   "source": [
    "lambda_par_arr = lambda_par_pred_train.detach().numpy()"
   ]
  },
  {
   "cell_type": "code",
   "execution_count": 87,
   "id": "3ab8289a-2235-4335-81d8-cb629ebd6df3",
   "metadata": {},
   "outputs": [],
   "source": [
    "lambda_par_arr = np.insert(lambda_par_arr, 229768, 0., axis=0)"
   ]
  },
  {
   "cell_type": "code",
   "execution_count": 91,
   "id": "0b1a6742-bc79-4b67-9aad-9012b183067e",
   "metadata": {},
   "outputs": [
    {
     "data": {
      "text/plain": [
       "0.0"
      ]
     },
     "execution_count": 91,
     "metadata": {},
     "output_type": "execute_result"
    }
   ],
   "source": [
    "lambda_par_arr[229768,0]"
   ]
  },
  {
   "cell_type": "code",
   "execution_count": 101,
   "id": "b03cd917-7fb2-4fa6-b21e-0cd2cd64f03a",
   "metadata": {},
   "outputs": [
    {
     "name": "stdout",
     "output_type": "stream",
     "text": [
      "0.20945032\n",
      "tensor(0.2095, grad_fn=<SelectBackward0>)\n"
     ]
    }
   ],
   "source": [
    "print(lambda_par_arr[850265,0])\n",
    "print(lambda_par_pred_train[850262,0])"
   ]
  },
  {
   "cell_type": "code",
   "execution_count": 95,
   "id": "640637ba-1ee5-4921-8b23-a23dceada4d4",
   "metadata": {},
   "outputs": [],
   "source": [
    "lambda_par_arr = np.insert(lambda_par_arr, 536137, 0., axis=0)"
   ]
  },
  {
   "cell_type": "code",
   "execution_count": 96,
   "id": "c9653a76-b9eb-443a-a770-b892b6ad5b2f",
   "metadata": {},
   "outputs": [
    {
     "data": {
      "text/plain": [
       "(935441, 1)"
      ]
     },
     "execution_count": 96,
     "metadata": {},
     "output_type": "execute_result"
    }
   ],
   "source": [
    "lambda_par_arr.shape"
   ]
  },
  {
   "cell_type": "code",
   "execution_count": 97,
   "id": "f684170e-c0a5-4e80-b3da-016342082a2f",
   "metadata": {},
   "outputs": [],
   "source": [
    "lambda_par_arr = np.insert(lambda_par_arr, 850262, 0., axis=0)"
   ]
  },
  {
   "cell_type": "code",
   "execution_count": 102,
   "id": "c2ecac85-730a-44e0-a14f-f72ce1168a07",
   "metadata": {},
   "outputs": [
    {
     "data": {
      "text/plain": [
       "(935442, 1)"
      ]
     },
     "execution_count": 102,
     "metadata": {},
     "output_type": "execute_result"
    }
   ],
   "source": [
    "lambda_par_arr.shape"
   ]
  },
  {
   "cell_type": "code",
   "execution_count": null,
   "id": "b26e4171-bd76-4df0-aba3-dddfeefcd0b9",
   "metadata": {},
   "outputs": [],
   "source": [
    "reshape(145,1,145)"
   ]
  },
  {
   "cell_type": "code",
   "execution_count": null,
   "id": "c34d256d-2c97-4e83-8f4c-916417cff9c8",
   "metadata": {},
   "outputs": [],
   "source": []
  },
  {
   "cell_type": "code",
   "execution_count": null,
   "id": "f417f962-40c1-41c2-81d1-37ca00fe6486",
   "metadata": {},
   "outputs": [],
   "source": []
  },
  {
   "cell_type": "code",
   "execution_count": null,
   "id": "ce831e17-9a58-462c-9a90-4b01347f02e1",
   "metadata": {},
   "outputs": [],
   "source": []
  },
  {
   "cell_type": "code",
   "execution_count": null,
   "id": "3c54fd8d-95c6-400c-a235-c0bcb551c9d4",
   "metadata": {},
   "outputs": [],
   "source": []
  },
  {
   "cell_type": "code",
   "execution_count": null,
   "id": "071623ea-e0f3-4abc-9d56-5c9226802ed7",
   "metadata": {},
   "outputs": [],
   "source": []
  },
  {
   "cell_type": "code",
   "execution_count": null,
   "id": "d561695a-5fc2-45bd-aa02-b684c159bb19",
   "metadata": {},
   "outputs": [],
   "source": []
  },
  {
   "cell_type": "code",
   "execution_count": null,
   "id": "3570c459-2cd4-41fd-9b80-6541b82c011b",
   "metadata": {},
   "outputs": [],
   "source": []
  },
  {
   "cell_type": "code",
   "execution_count": null,
   "id": "7914cdf2-5a33-4bf9-8790-7759733419a9",
   "metadata": {},
   "outputs": [],
   "source": []
  },
  {
   "cell_type": "code",
   "execution_count": null,
   "id": "381a6b63-2a2e-468c-b1b9-aa0c658fbe4b",
   "metadata": {},
   "outputs": [],
   "source": []
  },
  {
   "cell_type": "code",
   "execution_count": null,
   "id": "2dfae08c-4de2-4f7b-bd59-0c92811091e3",
   "metadata": {},
   "outputs": [],
   "source": []
  },
  {
   "cell_type": "code",
   "execution_count": null,
   "id": "267077d4-1ce8-4af2-b18f-b311d0eebe5d",
   "metadata": {},
   "outputs": [],
   "source": []
  },
  {
   "cell_type": "code",
   "execution_count": null,
   "id": "560ad2f7-a635-4308-bd93-446fe8359126",
   "metadata": {},
   "outputs": [],
   "source": []
  },
  {
   "cell_type": "code",
   "execution_count": null,
   "id": "1ebe1dce-a78e-46d8-98c5-01f304182cd3",
   "metadata": {},
   "outputs": [],
   "source": []
  },
  {
   "cell_type": "code",
   "execution_count": null,
   "id": "ebc61159-41ac-465d-8f37-9ace30ca2d16",
   "metadata": {},
   "outputs": [],
   "source": []
  },
  {
   "cell_type": "code",
   "execution_count": null,
   "id": "452eba0d-d274-4a67-a09d-eacc0dfd7d6b",
   "metadata": {},
   "outputs": [],
   "source": []
  },
  {
   "cell_type": "code",
   "execution_count": null,
   "id": "e2389e95-7e39-48d2-bdc4-db6b0a7873f9",
   "metadata": {},
   "outputs": [],
   "source": []
  },
  {
   "cell_type": "code",
   "execution_count": null,
   "id": "4b181917-0399-49fd-b3dc-30741b99eea3",
   "metadata": {},
   "outputs": [],
   "source": []
  },
  {
   "cell_type": "code",
   "execution_count": null,
   "id": "7555d56c-2e24-491b-a9c9-2132ecf04066",
   "metadata": {},
   "outputs": [],
   "source": []
  },
  {
   "cell_type": "code",
   "execution_count": null,
   "id": "c339c3a3-9e4c-4261-9387-320d4d781350",
   "metadata": {},
   "outputs": [],
   "source": []
  },
  {
   "cell_type": "code",
   "execution_count": null,
   "id": "19436347-7e1c-46a9-850e-5d8b2d81a0e0",
   "metadata": {},
   "outputs": [],
   "source": []
  },
  {
   "cell_type": "code",
   "execution_count": 69,
   "id": "55d6dbdb-0225-4dfd-93e6-4a64ed1f9b43",
   "metadata": {},
   "outputs": [
    {
     "name": "stdout",
     "output_type": "stream",
     "text": [
      "[  0  16  32  48  64  80  95 112 128 144 160 176 191 208 224 240 256 272]\n"
     ]
    }
   ],
   "source": [
    "bval_5_indices = np.where(bvals == 0.005)[0]\n",
    "print(bval_5_indices)"
   ]
  },
  {
   "cell_type": "code",
   "execution_count": 71,
   "id": "126d931a-f699-4fd1-85c9-d10bed6eb7ef",
   "metadata": {},
   "outputs": [
    {
     "name": "stdout",
     "output_type": "stream",
     "text": [
      "[[ 587.17718506  409.42816162  470.43640137 ...  340.37411499\n",
      "   605.80456543  388.1423645 ]\n",
      " [ 507.74441528  445.08627319  597.91534424 ...  475.06033325\n",
      "   395.30215454  638.90899658]\n",
      " [ 487.08456421  528.68145752  532.13592529 ...  471.65945435\n",
      "   254.88105774  486.02966309]\n",
      " ...\n",
      " [ 812.58972168  789.32568359  799.10009766 ...  825.18902588\n",
      "  1041.23181152  913.80828857]\n",
      " [ 611.19360352  689.40771484  432.87844849 ...  694.77679443\n",
      "   690.64923096  731.20794678]\n",
      " [ 881.83642578  683.88171387  497.27581787 ...  906.99334717\n",
      "  1008.73608398 1035.60583496]]\n"
     ]
    }
   ],
   "source": [
    "scan_bval_5 = scan_100206_long_no_bg[:, bval_5_indices]\n",
    "print(scan_bval_5)"
   ]
  },
  {
   "cell_type": "code",
   "execution_count": 73,
   "id": "ccbea822-b091-4b6e-8591-4d488f5cfd26",
   "metadata": {},
   "outputs": [
    {
     "name": "stdout",
     "output_type": "stream",
     "text": [
      "[450.87282308 454.07630242 473.0456704  ... 871.7351515  643.40559726\n",
      " 882.28022257]\n"
     ]
    }
   ],
   "source": [
    "mean_bval_5 = np.mean(scan_bval_5, axis=1)\n",
    "print(mean_bval_5)"
   ]
  },
  {
   "cell_type": "code",
   "execution_count": 94,
   "id": "6e88a31b-e478-444c-9641-5175bd5e1c55",
   "metadata": {},
   "outputs": [],
   "source": [
    "c = mean_bval_5.reshape(len(mean_bval_5),1)"
   ]
  },
  {
   "cell_type": "code",
   "execution_count": null,
   "id": "204e1652-2fdf-40b0-a8e4-14e5369b909a",
   "metadata": {},
   "outputs": [],
   "source": []
  },
  {
   "cell_type": "code",
   "execution_count": null,
   "id": "e2862839-c04b-4e23-b166-95d16d9a2a0f",
   "metadata": {},
   "outputs": [],
   "source": []
  },
  {
   "cell_type": "code",
   "execution_count": null,
   "id": "24dc03cb-3045-4db5-9ee3-eb9671e57a82",
   "metadata": {},
   "outputs": [],
   "source": []
  },
  {
   "cell_type": "code",
   "execution_count": null,
   "id": "2373d55d-648a-4551-a78d-a09a266c3a6e",
   "metadata": {},
   "outputs": [],
   "source": []
  },
  {
   "cell_type": "code",
   "execution_count": 12,
   "id": "92d234ef-fd2c-4dcf-abf0-5feff28c72cc",
   "metadata": {},
   "outputs": [
    {
     "data": {
      "image/png": "[encoded data removed]",
      "text/plain": [
       "<Figure size 640x480 with 1 Axes>"
      ]
     },
     "metadata": {},
     "output_type": "display_data"
    }
   ],
   "source": [
    "epoch_arr = np.arange(0, len(loss_arr))\n",
    "loss_arr = np.array(loss_arr)\n",
    "plt.plot(epoch_arr, loss_arr)\n",
    "plt.xlabel(\"Epochs\")\n",
    "plt.ylabel(\"Runing Loss\")\n",
    "plt.show()"
   ]
  },
  {
   "cell_type": "code",
   "execution_count": 19,
   "id": "ab666b34-e26f-44f6-91bc-825e151074d6",
   "metadata": {},
   "outputs": [
    {
     "data": {
      "image/png": "[encoded data removed]",
      "text/plain": [
       "<Figure size 640x480 with 1 Axes>"
      ]
     },
     "metadata": {},
     "output_type": "display_data"
    }
   ],
   "source": [
    "epoch_arr = np.arange(0, len(loss_arr))\n",
    "loss_arr = np.array(loss_arr)\n",
    "plt.plot(epoch_arr, loss_arr)\n",
    "plt.xlabel(\"Epochs\")\n",
    "plt.ylabel(\"Runing Loss\")\n",
    "plt.show()"
   ]
  },
  {
   "cell_type": "code",
   "execution_count": 13,
   "id": "be13d99a-5be9-411b-8038-bf6958a10cd3",
   "metadata": {},
   "outputs": [
    {
     "data": {
      "text/plain": [
       "BallStickNet(\n",
       "  (fc_layers): ModuleList(\n",
       "    (0): Linear(in_features=288, out_features=288, bias=True)\n",
       "    (1): ELU(alpha=1.0)\n",
       "    (2): Linear(in_features=288, out_features=288, bias=True)\n",
       "    (3): ELU(alpha=1.0)\n",
       "    (4): Linear(in_features=288, out_features=288, bias=True)\n",
       "    (5): ELU(alpha=1.0)\n",
       "  )\n",
       "  (encoder): Sequential(\n",
       "    (0): Linear(in_features=288, out_features=288, bias=True)\n",
       "    (1): ELU(alpha=1.0)\n",
       "    (2): Linear(in_features=288, out_features=288, bias=True)\n",
       "    (3): ELU(alpha=1.0)\n",
       "    (4): Linear(in_features=288, out_features=288, bias=True)\n",
       "    (5): ELU(alpha=1.0)\n",
       "    (6): Linear(in_features=288, out_features=5, bias=True)\n",
       "  )\n",
       ")"
      ]
     },
     "execution_count": 13,
     "metadata": {},
     "output_type": "execute_result"
    }
   ],
   "source": [
    "net.eval()"
   ]
  },
  {
   "cell_type": "code",
   "execution_count": 14,
   "id": "addeb61f-a290-46b5-8807-168fdf1e623e",
   "metadata": {},
   "outputs": [],
   "source": [
    "X_pred_train, mu_cart_pred_train, lambda_par_pred_train, lambda_iso_pred_train,  volume_0_pred_train, volume_1_pred_train = net(torch.from_numpy(normalized_scan_long_no_background_100206[0:128,:].astype(np.float32)))"
   ]
  },
  {
   "cell_type": "code",
   "execution_count": 17,
   "id": "2203edd4-8372-4c8e-9670-e460bf6a8eab",
   "metadata": {},
   "outputs": [
    {
     "data": {
      "text/plain": [
       "[<matplotlib.lines.Line2D at 0x1c5d83f40>]"
      ]
     },
     "execution_count": 17,
     "metadata": {},
     "output_type": "execute_result"
    },
    {
     "data": {
      "image/png": "[encoded data removed]",
      "text/plain": [
       "<Figure size 640x480 with 1 Axes>"
      ]
     },
     "metadata": {},
     "output_type": "display_data"
    }
   ],
   "source": [
    "plt.plot(X_pred_train[0,:].detach().numpy())\n",
    "plt.plot(normalized_scan_long_no_background_100206[0,:])"
   ]
  },
  {
   "cell_type": "code",
   "execution_count": null,
   "id": "6685aea8-cbca-425f-8013-79b85ef8b961",
   "metadata": {},
   "outputs": [],
   "source": []
  }
 ],
 "metadata": {
  "kernelspec": {
   "display_name": "Python 3 (ipykernel)",
   "language": "python",
   "name": "python3"
  },
  "language_info": {
   "codemirror_mode": {
    "name": "ipython",
    "version": 3
   },
   "file_extension": ".py",
   "mimetype": "text/x-python",
   "name": "python",
   "nbconvert_exporter": "python",
   "pygments_lexer": "ipython3",
   "version": "3.10.8"
  }
 },
 "nbformat": 4,
 "nbformat_minor": 5
}
