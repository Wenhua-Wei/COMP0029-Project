{
 "cells": [
  {
   "cell_type": "code",
   "execution_count": 1,
   "id": "0a966c15-8408-406a-a78a-35196f3e3abb",
   "metadata": {},
   "outputs": [],
   "source": [
    "import nibabel as nib\n",
    "import numpy as np\n",
    "\n",
    "from dmipy.core.acquisition_scheme import acquisition_scheme_from_bvalues\n",
    "from dmipy.signal_models import cylinder_models, gaussian_models\n",
    "from dmipy.core.modeling_framework import MultiCompartmentModel\n",
    "\n",
    "import matplotlib.pyplot as plt\n",
    "\n",
    "import config\n",
    "import torch\n",
    "import torch.nn as nn\n",
    "import torch.optim as optim\n",
    "import torch.utils.data as utils\n",
    "from tqdm import tqdm\n",
    "\n",
    "import process_data"
   ]
  },
  {
   "cell_type": "markdown",
   "id": "48472d21-c055-498d-8891-4f5f4e1fb4f6",
   "metadata": {},
   "source": [
    "## Trainig data"
   ]
  },
  {
   "cell_type": "code",
   "execution_count": 2,
   "id": "6ba7fdeb-58ec-4077-abc5-2a2f83410bd7",
   "metadata": {
    "tags": []
   },
   "outputs": [],
   "source": [
    "scan_100206 = process_data.get_nifti_data(config.data_folder2 + '/100206/data.nii.gz')"
   ]
  },
  {
   "cell_type": "code",
   "execution_count": 3,
   "id": "b8afd5f3-af63-4623-b1f3-b38efaf17cb6",
   "metadata": {},
   "outputs": [],
   "source": [
    "mask_100206 = process_data.get_nifti_data(config.data_folder2 + '/100206/nodif_brain_mask.nii.gz')"
   ]
  },
  {
   "cell_type": "code",
   "execution_count": 4,
   "id": "68c94f2e-69dd-447e-9956-2d5237b8f485",
   "metadata": {},
   "outputs": [],
   "source": [
    "scan_dimension = scan_100206.shape\n",
    "x = scan_dimension[0]\n",
    "y = scan_dimension[1]\n",
    "z = scan_dimension[2]\n",
    "b = scan_dimension[3]"
   ]
  },
  {
   "cell_type": "code",
   "execution_count": 5,
   "id": "0dedc5a8-2e87-440d-882c-f3cc699bf09c",
   "metadata": {},
   "outputs": [],
   "source": [
    "scan_100206_long = np.reshape(scan_100206, (x*y*z, b))\n",
    "\n",
    "mask_100206_long = np.reshape(mask_100206, (x*y*z, 1))"
   ]
  },
  {
   "cell_type": "code",
   "execution_count": 6,
   "id": "4f09d572-643e-4e42-ad72-678ec1d9a0f4",
   "metadata": {},
   "outputs": [],
   "source": [
    "# Error voxels\n",
    "indices_beginning_0_all = np.where(scan_100206_long[:, 0] == 0)[0]"
   ]
  },
  {
   "cell_type": "code",
   "execution_count": 7,
   "id": "9bcc66a1-0f21-4623-b56d-77d5814bc33f",
   "metadata": {},
   "outputs": [],
   "source": [
    "mask_100206_long_pro = np.copy(mask_100206_long)"
   ]
  },
  {
   "cell_type": "code",
   "execution_count": 8,
   "id": "34c8a995-de9b-4dd5-830d-101c467b46fa",
   "metadata": {},
   "outputs": [],
   "source": [
    "mask_100206_long_pro[indices_beginning_0_all] = 0"
   ]
  },
  {
   "cell_type": "code",
   "execution_count": 9,
   "id": "4ce147d9-c78a-4f74-891a-bc49c3305e42",
   "metadata": {},
   "outputs": [],
   "source": [
    "scan_100206_long_no_background = process_data.remove_background(scan_100206_long, mask_100206_long_pro)"
   ]
  },
  {
   "cell_type": "code",
   "execution_count": null,
   "id": "c96065f2-0a07-4e92-9b85-7650b56d9ad9",
   "metadata": {},
   "outputs": [],
   "source": []
  },
  {
   "cell_type": "code",
   "execution_count": 10,
   "id": "88e1b11b-a78e-48d5-9a3a-ae978899b0e5",
   "metadata": {},
   "outputs": [],
   "source": [
    "bvals_all = np.loadtxt(config.data_folder2 + '/100206/bvals') * 1e-3"
   ]
  },
  {
   "cell_type": "code",
   "execution_count": 11,
   "id": "ab3e6078-4113-4305-a216-edc3dfbfcfe3",
   "metadata": {},
   "outputs": [],
   "source": [
    "big_b_indices = np.where(bvals_all != 0.005)[0]"
   ]
  },
  {
   "cell_type": "code",
   "execution_count": 12,
   "id": "772d806a-e662-4461-b544-e139c3e6c0f1",
   "metadata": {},
   "outputs": [
    {
     "name": "stdout",
     "output_type": "stream",
     "text": [
      "(270,)\n"
     ]
    }
   ],
   "source": [
    "bvals = bvals_all[big_b_indices]\n",
    "print(bvals.shape)"
   ]
  },
  {
   "cell_type": "code",
   "execution_count": 13,
   "id": "25047100-8cf3-4ec9-994d-fc7ed70b805e",
   "metadata": {},
   "outputs": [],
   "source": [
    "scan_100206_long_no_bg = scan_100206_long_no_background[:, big_b_indices]"
   ]
  },
  {
   "cell_type": "code",
   "execution_count": 19,
   "id": "ba6429e8-cf9c-4bb5-82b4-334beb71cdfc",
   "metadata": {},
   "outputs": [
    {
     "data": {
      "text/plain": [
       "[<matplotlib.lines.Line2D at 0x1c298b6d0>]"
      ]
     },
     "execution_count": 19,
     "metadata": {},
     "output_type": "execute_result"
    },
    {
     "data": {
      "image/png": "[encoded data removed]",
      "text/plain": [
       "<Figure size 640x480 with 1 Axes>"
      ]
     },
     "metadata": {},
     "output_type": "display_data"
    }
   ],
   "source": [
    "plt.plot(bvals, scan_100206_long_no_bg[1565,:], \"o\")"
   ]
  },
  {
   "cell_type": "code",
   "execution_count": 41,
   "id": "a116e856-5cb7-46b3-b770-ab9e2b75615d",
   "metadata": {},
   "outputs": [],
   "source": [
    "np.save('scan_100206_no_b5.npy', scan_100206_long_no_bg)"
   ]
  },
  {
   "cell_type": "markdown",
   "id": "5501eff9-b2e1-4749-9646-0d4867f43bf2",
   "metadata": {},
   "source": [
    "## Neural Network"
   ]
  },
  {
   "cell_type": "code",
   "execution_count": 20,
   "id": "bce67dcf-1bd2-4a45-92ec-3975b9695042",
   "metadata": {},
   "outputs": [],
   "source": [
    "def squash(param, p_min, p_max):\n",
    "    squashed_param_tensor =torch.clamp(param, min=p_min, max=p_max)\n",
    "    unsqueezed_param = squashed_param_tensor.unsqueeze(1)\n",
    "    return unsqueezed_param"
   ]
  },
  {
   "cell_type": "code",
   "execution_count": 21,
   "id": "0d94a270-f06a-43af-b52c-853c8f9c8875",
   "metadata": {},
   "outputs": [],
   "source": [
    "def unitsphere2cart(theta, phi, X):\n",
    "    mu_cart = torch.zeros(3,X.size()[0])\n",
    "    sintheta = torch.sin(theta)\n",
    "    mu_cart[0,:] = torch.squeeze(sintheta * torch.cos(phi))\n",
    "    mu_cart[1,:] = torch.squeeze(sintheta * torch.sin(phi))\n",
    "    mu_cart[2,:] = torch.squeeze(torch.cos(theta))\n",
    "    return mu_cart"
   ]
  },
  {
   "cell_type": "code",
   "execution_count": 33,
   "id": "2ec1c8b8-cca5-4634-8ca5-a7af2b148edf",
   "metadata": {},
   "outputs": [],
   "source": [
    "class BallStickNet(nn.Module):\n",
    "    \n",
    "    def __init__(self, gradient_directions, b_values):\n",
    "        super(BallStickNet, self).__init__()\n",
    "        self.gradient_directions = gradient_directions\n",
    "        self.b_values = b_values\n",
    "        self.fc_layers = nn.ModuleList()\n",
    "        for i in range(3): \n",
    "            self.fc_layers.extend([nn.Linear(len(b_values), len(b_values)), nn.ELU()])\n",
    "        self.encoder = nn.Sequential(*self.fc_layers, nn.Linear(len(b_values), 6))\n",
    "        # if args.dropout != 0:\n",
    "        #     self.dropout = nn.Dropout(args.dropout)\n",
    "            \n",
    "    def forward(self, X):\n",
    "        # if args.dropout != 0:\n",
    "        #     X = self.dropout(X)\n",
    "        params = torch.abs(self.encoder(X))\n",
    "        theta_uns = params[:, 0]\n",
    "        theta = theta_uns.unsqueeze(1)\n",
    "        phi_uns = params[:, 1]\n",
    "        phi = phi_uns.unsqueeze(1)\n",
    "        mu_cart = unitsphere2cart(theta, phi, X)\n",
    "        mm_prod =  torch.einsum(\"ij,jk->ki\",self.gradient_directions, mu_cart)\n",
    "        lambda_par_uns = params[:, 2]\n",
    "        lambda_par = squash(lambda_par_uns, 0.1, 3.0)\n",
    "        lambda_iso_uns = params[:, 3]\n",
    "        lambda_iso = squash(lambda_iso_uns, 0.1, 3.0)\n",
    "        volume_0_uns = params[:, 4]\n",
    "        volume_0 = squash(volume_0_uns, 0.01, 0.99)\n",
    "        volume_1 = 1-volume_0\n",
    "        s0 = params[:, 5].unsqueeze(1)\n",
    "        X = s0*(volume_0 * torch.exp(-self.b_values * lambda_par * mm_prod ** 2) + volume_1 * torch.exp(-self.b_values * lambda_iso))\n",
    "        return X, mu_cart, lambda_par, lambda_iso, volume_0, volume_1, s0"
   ]
  },
  {
   "cell_type": "code",
   "execution_count": 34,
   "id": "e707a55d-c71b-45a9-8541-da4d8d937e12",
   "metadata": {},
   "outputs": [
    {
     "name": "stdout",
     "output_type": "stream",
     "text": [
      "(270, 3)\n",
      "torch.Size([270])\n"
     ]
    }
   ],
   "source": [
    "n_all = np.loadtxt(config.data_folder2 + '/100206/bvecs')\n",
    "n = n_all[:,big_b_indices].T\n",
    "print(n.shape)\n",
    "\n",
    "b_values = torch.FloatTensor(bvals)\n",
    "print(b_values.shape)\n",
    "gradient_directions = torch.FloatTensor(n)\n",
    "\n",
    "net = BallStickNet(gradient_directions, b_values)"
   ]
  },
  {
   "cell_type": "code",
   "execution_count": 35,
   "id": "008a9b51-5336-4d13-93b6-0a5804d23466",
   "metadata": {},
   "outputs": [],
   "source": [
    "criterion = nn.MSELoss()\n",
    "optimizer = optim.Adam(net.parameters(), lr = 0.0001)"
   ]
  },
  {
   "cell_type": "code",
   "execution_count": 36,
   "id": "f2a561e8-5d5b-44c1-9850-297b93d268a2",
   "metadata": {},
   "outputs": [],
   "source": [
    "batch_size = 128\n",
    "num_batches = len(scan_100206_long_no_bg) // batch_size\n",
    "trainloader = utils.DataLoader(torch.from_numpy(scan_100206_long_no_bg.astype(np.float32)),\n",
    "                               batch_size = batch_size, \n",
    "                               shuffle = True,\n",
    "                               num_workers = 2,\n",
    "                               drop_last = True)"
   ]
  },
  {
   "cell_type": "code",
   "execution_count": null,
   "id": "1b0a411f-4ff9-4371-af96-f6eac35c0be6",
   "metadata": {
    "collapsed": true,
    "jupyter": {
     "outputs_hidden": true
    },
    "tags": []
   },
   "outputs": [
    {
     "name": "stdout",
     "output_type": "stream",
     "text": [
      "-----------------------------------------------------------------\n",
      "Epoch: 0; Bad epochs: 0\n"
     ]
    },
    {
     "name": "stderr",
     "output_type": "stream",
     "text": [
      "100%|█████████████████████████████████████████████████████████| 7308/7308 [00:45<00:00, 162.32it/s]\n"
     ]
    },
    {
     "name": "stdout",
     "output_type": "stream",
     "text": [
      "Loss: 5075172112.25\n",
      "Average Loss: 694467.9956554461\n",
      "############### Saving good model ###############################\n",
      "-----------------------------------------------------------------\n",
      "Epoch: 1; Bad epochs: 0\n"
     ]
    },
    {
     "name": "stderr",
     "output_type": "stream",
     "text": [
      "100%|█████████████████████████████████████████████████████████| 7308/7308 [00:49<00:00, 146.46it/s]\n"
     ]
    },
    {
     "name": "stdout",
     "output_type": "stream",
     "text": [
      "Loss: 5095713264.5\n",
      "Average Loss: 697278.7718253968\n",
      "-----------------------------------------------------------------\n",
      "Epoch: 2; Bad epochs: 1\n"
     ]
    },
    {
     "name": "stderr",
     "output_type": "stream",
     "text": [
      "100%|█████████████████████████████████████████████████████████| 7308/7308 [00:46<00:00, 157.50it/s]\n"
     ]
    },
    {
     "name": "stdout",
     "output_type": "stream",
     "text": [
      "Loss: 5068059032.5625\n",
      "Average Loss: 693494.6678383278\n",
      "############### Saving good model ###############################\n",
      "-----------------------------------------------------------------\n",
      "Epoch: 3; Bad epochs: 0\n"
     ]
    },
    {
     "name": "stderr",
     "output_type": "stream",
     "text": [
      "100%|█████████████████████████████████████████████████████████| 7308/7308 [00:51<00:00, 141.16it/s]\n"
     ]
    },
    {
     "name": "stdout",
     "output_type": "stream",
     "text": [
      "Loss: 5068976420.0\n",
      "Average Loss: 693620.1997810618\n",
      "-----------------------------------------------------------------\n",
      "Epoch: 4; Bad epochs: 1\n"
     ]
    },
    {
     "name": "stderr",
     "output_type": "stream",
     "text": [
      "100%|█████████████████████████████████████████████████████████| 7308/7308 [00:49<00:00, 149.08it/s]\n"
     ]
    },
    {
     "name": "stdout",
     "output_type": "stream",
     "text": [
      "Loss: 5064757128.8125\n",
      "Average Loss: 693042.8474018199\n",
      "############### Saving good model ###############################\n",
      "-----------------------------------------------------------------\n",
      "Epoch: 5; Bad epochs: 0\n"
     ]
    },
    {
     "name": "stderr",
     "output_type": "stream",
     "text": [
      "100%|█████████████████████████████████████████████████████████| 7308/7308 [00:51<00:00, 142.45it/s]\n"
     ]
    },
    {
     "name": "stdout",
     "output_type": "stream",
     "text": [
      "Loss: 5071590624.5625\n",
      "Average Loss: 693977.9179751643\n",
      "-----------------------------------------------------------------\n",
      "Epoch: 6; Bad epochs: 1\n"
     ]
    },
    {
     "name": "stderr",
     "output_type": "stream",
     "text": [
      "100%|█████████████████████████████████████████████████████████| 7308/7308 [00:57<00:00, 127.32it/s]\n"
     ]
    },
    {
     "name": "stdout",
     "output_type": "stream",
     "text": [
      "Loss: 5085208667.4375\n",
      "Average Loss: 695841.361170977\n",
      "-----------------------------------------------------------------\n",
      "Epoch: 7; Bad epochs: 2\n"
     ]
    },
    {
     "name": "stderr",
     "output_type": "stream",
     "text": [
      "100%|█████████████████████████████████████████████████████████| 7308/7308 [00:57<00:00, 126.00it/s]\n"
     ]
    },
    {
     "name": "stdout",
     "output_type": "stream",
     "text": [
      "Loss: 5143885262.375\n",
      "Average Loss: 703870.4518849206\n",
      "-----------------------------------------------------------------\n",
      "Epoch: 8; Bad epochs: 3\n"
     ]
    },
    {
     "name": "stderr",
     "output_type": "stream",
     "text": [
      "100%|█████████████████████████████████████████████████████████| 7308/7308 [01:00<00:00, 121.44it/s]\n"
     ]
    },
    {
     "name": "stdout",
     "output_type": "stream",
     "text": [
      "Loss: 4568631752.46875\n",
      "Average Loss: 625154.8648698344\n",
      "############### Saving good model ###############################\n",
      "-----------------------------------------------------------------\n",
      "Epoch: 9; Bad epochs: 0\n"
     ]
    },
    {
     "name": "stderr",
     "output_type": "stream",
     "text": [
      "100%|█████████████████████████████████████████████████████████| 7308/7308 [01:03<00:00, 115.47it/s]\n"
     ]
    },
    {
     "name": "stdout",
     "output_type": "stream",
     "text": [
      "Loss: 2638973086.40625\n",
      "Average Loss: 361107.42835334566\n",
      "############### Saving good model ###############################\n",
      "-----------------------------------------------------------------\n",
      "Epoch: 10; Bad epochs: 0\n"
     ]
    },
    {
     "name": "stderr",
     "output_type": "stream",
     "text": [
      "  2%|▉                                                         | 121/7308 [00:03<01:08, 104.45it/s]"
     ]
    },
    {
     "name": "stdout",
     "output_type": "stream",
     "text": [
      "X_batch: \n",
      "torch.Size([128, 270])\n",
      "tensor([[2115.3005,  757.2137,  700.0132,  ..., 2172.7114, 1114.4070,\n",
      "          650.8449],\n",
      "        [1956.1687, 1155.9437,  394.3768,  ..., 1815.7401, 1631.2898,\n",
      "          971.2665],\n",
      "        [ 881.3658,  337.0159,  409.0845,  ...,  858.7752,  468.1859,\n",
      "          338.6093],\n",
      "        ...,\n",
      "        [2683.3438, 1795.0408,  715.4279,  ..., 2618.0872, 1072.4104,\n",
      "          896.2180],\n",
      "        [1321.9349, 1131.0836,  741.0302,  ..., 1700.2349,  465.9778,\n",
      "          990.7380],\n",
      "        [2108.7556, 1097.3899,  443.8245,  ...,  807.0163, 1115.6411,\n",
      "          541.9219]])\n",
      "X_pred: \n",
      "torch.Size([128, 270])\n",
      "tensor([[1428.2400, 1314.3591,  803.1038,  ..., 1227.3922, 1433.4159,\n",
      "         1022.8168],\n",
      "        [1575.9589, 1437.1046, 1384.4594,  ..., 1516.4391, 1584.3718,\n",
      "         1269.0536],\n",
      "        [ 631.8799,  562.1760,  571.1750,  ...,  590.5508,  611.6880,\n",
      "          485.9250],\n",
      "        ...,\n",
      "        [1938.5613, 1981.7584, 1647.2203,  ..., 1959.3418, 1903.3505,\n",
      "         1897.5109],\n",
      "        [1130.8203,  943.5573, 1118.4166,  ..., 1114.7284, 1129.8804,\n",
      "          859.6428],\n",
      "        [1397.0646, 1280.7532, 1183.7285,  ..., 1374.1270, 1390.7031,\n",
      "         1340.6658]], grad_fn=<MulBackward0>)\n",
      "s0_pred:\n",
      "torch.Size([128, 1])\n",
      "tensor([[1448.5432],\n",
      "        [1600.6681],\n",
      "        [ 640.7781],\n",
      "        [1523.7000],\n",
      "        [1159.5776],\n",
      "        [1298.2083],\n",
      "        [1886.6851],\n",
      "        [ 469.0688],\n",
      "        [1050.1887],\n",
      "        [1350.0941],\n",
      "        [1420.2593],\n",
      "        [1583.8502],\n",
      "        [1269.6887],\n",
      "        [1958.5223],\n",
      "        [1680.6733],\n",
      "        [1674.2083],\n",
      "        [ 479.0017],\n",
      "        [1455.1733],\n",
      "        [1751.9075],\n",
      "        [ 615.8327],\n",
      "        [ 285.9701],\n",
      "        [1270.6309],\n",
      "        [ 362.3502],\n",
      "        [1002.8373],\n",
      "        [ 854.7742],\n",
      "        [1687.4146],\n",
      "        [1053.4106],\n",
      "        [1385.8513],\n",
      "        [1343.6179],\n",
      "        [ 353.1332],\n",
      "        [1849.4155],\n",
      "        [ 306.8063],\n",
      "        [ 531.4529],\n",
      "        [1486.3920],\n",
      "        [1291.5010],\n",
      "        [ 866.4805],\n",
      "        [1190.8105],\n",
      "        [ 675.8855],\n",
      "        [1597.7212],\n",
      "        [1373.7642],\n",
      "        [1117.2238],\n",
      "        [1202.7776],\n",
      "        [1080.4998],\n",
      "        [1025.7939],\n",
      "        [ 256.5139],\n",
      "        [1350.9592],\n",
      "        [2222.9077],\n",
      "        [1466.7073],\n",
      "        [1300.1737],\n",
      "        [1056.8760],\n",
      "        [1434.4939],\n",
      "        [1745.4116],\n",
      "        [ 320.3382],\n",
      "        [1464.3125],\n",
      "        [1322.0085],\n",
      "        [ 351.2578],\n",
      "        [1603.4827],\n",
      "        [1780.8818],\n",
      "        [ 811.3087],\n",
      "        [1403.3745],\n",
      "        [ 232.2487],\n",
      "        [1063.0867],\n",
      "        [1559.9978],\n",
      "        [1632.3811],\n",
      "        [1437.9104],\n",
      "        [1084.0610],\n",
      "        [1358.1428],\n",
      "        [ 329.2795],\n",
      "        [ 651.8609],\n",
      "        [1034.0110],\n",
      "        [ 847.9846],\n",
      "        [1362.8082],\n",
      "        [1150.4684],\n",
      "        [1569.4675],\n",
      "        [1372.6719],\n",
      "        [1720.5732],\n",
      "        [1761.2168],\n",
      "        [1127.3052],\n",
      "        [ 699.1678],\n",
      "        [1397.5746],\n",
      "        [ 957.6487],\n",
      "        [1456.6243],\n",
      "        [1369.9015],\n",
      "        [ 702.6187],\n",
      "        [1568.7515],\n",
      "        [ 340.5025],\n",
      "        [ 630.9291],\n",
      "        [1812.0304],\n",
      "        [2629.9312],\n",
      "        [ 871.9872],\n",
      "        [1273.8375],\n",
      "        [1148.1707],\n",
      "        [1270.9508],\n",
      "        [1809.8333],\n",
      "        [1498.1479],\n",
      "        [1155.7642],\n",
      "        [1217.9071],\n",
      "        [1285.9204],\n",
      "        [1664.3246],\n",
      "        [2400.1538],\n",
      "        [ 605.2565],\n",
      "        [1155.7849],\n",
      "        [1415.0972],\n",
      "        [1201.1304],\n",
      "        [1310.8173],\n",
      "        [ 282.8741],\n",
      "        [1297.8730],\n",
      "        [1847.2859],\n",
      "        [1829.2664],\n",
      "        [1375.0051],\n",
      "        [1847.6538],\n",
      "        [1590.6084],\n",
      "        [1456.7434],\n",
      "        [1429.2601],\n",
      "        [1040.9380],\n",
      "        [1426.7888],\n",
      "        [1584.5210],\n",
      "        [1250.7715],\n",
      "        [1288.8379],\n",
      "        [ 772.9768],\n",
      "        [ 891.4097],\n",
      "        [ 408.1537],\n",
      "        [ 566.0249],\n",
      "        [1674.0015],\n",
      "        [1229.9958],\n",
      "        [2019.1133],\n",
      "        [1145.4125],\n",
      "        [1411.8323]], grad_fn=<UnsqueezeBackward0>)\n"
     ]
    },
    {
     "name": "stderr",
     "output_type": "stream",
     "text": [
      "100%|█████████████████████████████████████████████████████████| 7308/7308 [01:08<00:00, 107.09it/s]\n"
     ]
    },
    {
     "name": "stdout",
     "output_type": "stream",
     "text": [
      "Loss: 1792050792.5625\n",
      "Average Loss: 245217.67823788998\n",
      "############### Saving good model ###############################\n",
      "-----------------------------------------------------------------\n",
      "Epoch: 11; Bad epochs: 0\n"
     ]
    },
    {
     "name": "stderr",
     "output_type": "stream",
     "text": [
      "100%|█████████████████████████████████████████████████████████| 7308/7308 [01:10<00:00, 103.45it/s]\n"
     ]
    },
    {
     "name": "stdout",
     "output_type": "stream",
     "text": [
      "Loss: 1792326534.84375\n",
      "Average Loss: 245255.4098034688\n",
      "-----------------------------------------------------------------\n",
      "Epoch: 12; Bad epochs: 1\n"
     ]
    },
    {
     "name": "stderr",
     "output_type": "stream",
     "text": [
      "100%|█████████████████████████████████████████████████████████| 7308/7308 [01:07<00:00, 108.53it/s]\n"
     ]
    },
    {
     "name": "stdout",
     "output_type": "stream",
     "text": [
      "Loss: 1671322441.953125\n",
      "Average Loss: 228697.65215560002\n",
      "############### Saving good model ###############################\n",
      "-----------------------------------------------------------------\n",
      "Epoch: 13; Bad epochs: 0\n"
     ]
    },
    {
     "name": "stderr",
     "output_type": "stream",
     "text": [
      "100%|█████████████████████████████████████████████████████████| 7308/7308 [01:08<00:00, 106.52it/s]\n"
     ]
    },
    {
     "name": "stdout",
     "output_type": "stream",
     "text": [
      "Loss: 1583575738.8125\n",
      "Average Loss: 216690.7141232211\n",
      "############### Saving good model ###############################\n",
      "-----------------------------------------------------------------\n",
      "Epoch: 14; Bad epochs: 0\n"
     ]
    },
    {
     "name": "stderr",
     "output_type": "stream",
     "text": [
      "100%|█████████████████████████████████████████████████████████| 7308/7308 [01:10<00:00, 104.02it/s]\n"
     ]
    },
    {
     "name": "stdout",
     "output_type": "stream",
     "text": [
      "Loss: 1362141712.796875\n",
      "Average Loss: 186390.49162518815\n",
      "############### Saving good model ###############################\n",
      "-----------------------------------------------------------------\n",
      "Epoch: 15; Bad epochs: 0\n"
     ]
    },
    {
     "name": "stderr",
     "output_type": "stream",
     "text": [
      "100%|█████████████████████████████████████████████████████████| 7308/7308 [01:08<00:00, 106.80it/s]\n"
     ]
    },
    {
     "name": "stdout",
     "output_type": "stream",
     "text": [
      "Loss: 1315364026.4375\n",
      "Average Loss: 179989.60405548714\n",
      "############### Saving good model ###############################\n",
      "-----------------------------------------------------------------\n",
      "Epoch: 16; Bad epochs: 0\n"
     ]
    },
    {
     "name": "stderr",
     "output_type": "stream",
     "text": [
      "100%|█████████████████████████████████████████████████████████| 7308/7308 [01:10<00:00, 104.14it/s]\n"
     ]
    },
    {
     "name": "stdout",
     "output_type": "stream",
     "text": [
      "Loss: 1298701015.25\n",
      "Average Loss: 177709.49852900932\n",
      "############### Saving good model ###############################\n",
      "-----------------------------------------------------------------\n",
      "Epoch: 17; Bad epochs: 0\n"
     ]
    },
    {
     "name": "stderr",
     "output_type": "stream",
     "text": [
      "100%|█████████████████████████████████████████████████████████| 7308/7308 [01:08<00:00, 106.03it/s]\n"
     ]
    },
    {
     "name": "stdout",
     "output_type": "stream",
     "text": [
      "Loss: 1288787976.5234375\n",
      "Average Loss: 176353.0345543839\n",
      "############### Saving good model ###############################\n",
      "-----------------------------------------------------------------\n",
      "Epoch: 18; Bad epochs: 0\n"
     ]
    },
    {
     "name": "stderr",
     "output_type": "stream",
     "text": [
      "100%|█████████████████████████████████████████████████████████| 7308/7308 [01:07<00:00, 108.69it/s]\n"
     ]
    },
    {
     "name": "stdout",
     "output_type": "stream",
     "text": [
      "Loss: 1274631721.359375\n",
      "Average Loss: 174415.94435678367\n",
      "############### Saving good model ###############################\n",
      "-----------------------------------------------------------------\n",
      "Epoch: 19; Bad epochs: 0\n"
     ]
    },
    {
     "name": "stderr",
     "output_type": "stream",
     "text": [
      "100%|█████████████████████████████████████████████████████████| 7308/7308 [01:08<00:00, 107.42it/s]\n"
     ]
    },
    {
     "name": "stdout",
     "output_type": "stream",
     "text": [
      "Loss: 1266252847.375\n",
      "Average Loss: 173269.40987616312\n",
      "############### Saving good model ###############################\n",
      "-----------------------------------------------------------------\n",
      "Epoch: 20; Bad epochs: 0\n"
     ]
    },
    {
     "name": "stderr",
     "output_type": "stream",
     "text": [
      "100%|█████████████████████████████████████████████████████████| 7308/7308 [01:07<00:00, 107.91it/s]\n"
     ]
    },
    {
     "name": "stdout",
     "output_type": "stream",
     "text": [
      "Loss: 1260360705.734375\n",
      "Average Loss: 172463.15075730364\n",
      "############### Saving good model ###############################\n",
      "-----------------------------------------------------------------\n",
      "Epoch: 21; Bad epochs: 0\n"
     ]
    },
    {
     "name": "stderr",
     "output_type": "stream",
     "text": [
      "100%|█████████████████████████████████████████████████████████| 7308/7308 [01:06<00:00, 109.72it/s]\n"
     ]
    },
    {
     "name": "stdout",
     "output_type": "stream",
     "text": [
      "Loss: 1255079061.828125\n",
      "Average Loss: 171740.42991627325\n",
      "############### Saving good model ###############################\n",
      "-----------------------------------------------------------------\n",
      "Epoch: 22; Bad epochs: 0\n"
     ]
    },
    {
     "name": "stderr",
     "output_type": "stream",
     "text": [
      "100%|█████████████████████████████████████████████████████████| 7308/7308 [01:09<00:00, 105.24it/s]\n"
     ]
    },
    {
     "name": "stdout",
     "output_type": "stream",
     "text": [
      "Loss: 1250979395.609375\n",
      "Average Loss: 171179.44658037424\n",
      "############### Saving good model ###############################\n",
      "-----------------------------------------------------------------\n",
      "Epoch: 23; Bad epochs: 0\n"
     ]
    },
    {
     "name": "stderr",
     "output_type": "stream",
     "text": [
      "100%|█████████████████████████████████████████████████████████| 7308/7308 [01:09<00:00, 105.34it/s]\n"
     ]
    },
    {
     "name": "stdout",
     "output_type": "stream",
     "text": [
      "Loss: 1246795593.3828125\n",
      "Average Loss: 170606.9503807899\n",
      "############### Saving good model ###############################\n",
      "-----------------------------------------------------------------\n",
      "Epoch: 24; Bad epochs: 0\n"
     ]
    },
    {
     "name": "stderr",
     "output_type": "stream",
     "text": [
      "100%|█████████████████████████████████████████████████████████| 7308/7308 [01:06<00:00, 110.42it/s]\n"
     ]
    },
    {
     "name": "stdout",
     "output_type": "stream",
     "text": [
      "Loss: 1245116346.4140625\n",
      "Average Loss: 170377.16836536158\n",
      "############### Saving good model ###############################\n",
      "-----------------------------------------------------------------\n",
      "Epoch: 25; Bad epochs: 0\n"
     ]
    },
    {
     "name": "stderr",
     "output_type": "stream",
     "text": [
      "100%|█████████████████████████████████████████████████████████| 7308/7308 [01:06<00:00, 109.63it/s]\n"
     ]
    },
    {
     "name": "stdout",
     "output_type": "stream",
     "text": [
      "Loss: 1243478535.375\n",
      "Average Loss: 170153.0562910509\n",
      "############### Saving good model ###############################\n",
      "-----------------------------------------------------------------\n",
      "Epoch: 26; Bad epochs: 0\n"
     ]
    },
    {
     "name": "stderr",
     "output_type": "stream",
     "text": [
      "100%|█████████████████████████████████████████████████████████| 7308/7308 [01:06<00:00, 110.53it/s]\n"
     ]
    },
    {
     "name": "stdout",
     "output_type": "stream",
     "text": [
      "Loss: 1240960115.4609375\n",
      "Average Loss: 169808.44491802648\n",
      "############### Saving good model ###############################\n",
      "-----------------------------------------------------------------\n",
      "Epoch: 27; Bad epochs: 0\n"
     ]
    },
    {
     "name": "stderr",
     "output_type": "stream",
     "text": [
      "100%|█████████████████████████████████████████████████████████| 7308/7308 [01:06<00:00, 110.47it/s]\n"
     ]
    },
    {
     "name": "stdout",
     "output_type": "stream",
     "text": [
      "Loss: 1237353526.1328125\n",
      "Average Loss: 169314.93242101977\n",
      "############### Saving good model ###############################\n",
      "-----------------------------------------------------------------\n",
      "Epoch: 28; Bad epochs: 0\n"
     ]
    },
    {
     "name": "stderr",
     "output_type": "stream",
     "text": [
      "100%|█████████████████████████████████████████████████████████| 7308/7308 [01:05<00:00, 112.39it/s]\n"
     ]
    },
    {
     "name": "stdout",
     "output_type": "stream",
     "text": [
      "Loss: 1239278995.265625\n",
      "Average Loss: 169578.40657712438\n",
      "-----------------------------------------------------------------\n",
      "Epoch: 29; Bad epochs: 1\n"
     ]
    },
    {
     "name": "stderr",
     "output_type": "stream",
     "text": [
      "100%|█████████████████████████████████████████████████████████| 7308/7308 [01:04<00:00, 113.02it/s]\n"
     ]
    },
    {
     "name": "stdout",
     "output_type": "stream",
     "text": [
      "Loss: 1238100244.234375\n",
      "Average Loss: 169417.11059583674\n",
      "-----------------------------------------------------------------\n",
      "Epoch: 30; Bad epochs: 2\n"
     ]
    },
    {
     "name": "stderr",
     "output_type": "stream",
     "text": [
      "100%|█████████████████████████████████████████████████████████| 7308/7308 [01:04<00:00, 112.78it/s]\n"
     ]
    },
    {
     "name": "stdout",
     "output_type": "stream",
     "text": [
      "Loss: 1233964085.734375\n",
      "Average Loss: 168851.13378959702\n",
      "############### Saving good model ###############################\n",
      "-----------------------------------------------------------------\n",
      "Epoch: 31; Bad epochs: 0\n"
     ]
    },
    {
     "name": "stderr",
     "output_type": "stream",
     "text": [
      "100%|█████████████████████████████████████████████████████████| 7308/7308 [01:07<00:00, 108.84it/s]\n"
     ]
    },
    {
     "name": "stdout",
     "output_type": "stream",
     "text": [
      "Loss: 1233667753.0\n",
      "Average Loss: 168810.58470169676\n",
      "############### Saving good model ###############################\n",
      "-----------------------------------------------------------------\n",
      "Epoch: 32; Bad epochs: 0\n"
     ]
    },
    {
     "name": "stderr",
     "output_type": "stream",
     "text": [
      "100%|█████████████████████████████████████████████████████████| 7308/7308 [01:05<00:00, 110.86it/s]\n"
     ]
    },
    {
     "name": "stdout",
     "output_type": "stream",
     "text": [
      "Loss: 1231416330.3828125\n",
      "Average Loss: 168502.5082625633\n",
      "############### Saving good model ###############################\n",
      "-----------------------------------------------------------------\n",
      "Epoch: 33; Bad epochs: 0\n"
     ]
    },
    {
     "name": "stderr",
     "output_type": "stream",
     "text": [
      "100%|█████████████████████████████████████████████████████████| 7308/7308 [01:03<00:00, 115.19it/s]\n"
     ]
    },
    {
     "name": "stdout",
     "output_type": "stream",
     "text": [
      "Loss: 1230768894.21875\n",
      "Average Loss: 168413.91546507252\n",
      "############### Saving good model ###############################\n",
      "-----------------------------------------------------------------\n",
      "Epoch: 34; Bad epochs: 0\n"
     ]
    },
    {
     "name": "stderr",
     "output_type": "stream",
     "text": [
      "100%|█████████████████████████████████████████████████████████| 7308/7308 [01:02<00:00, 117.22it/s]\n"
     ]
    },
    {
     "name": "stdout",
     "output_type": "stream",
     "text": [
      "Loss: 1231352706.296875\n",
      "Average Loss: 168493.80217527025\n",
      "-----------------------------------------------------------------\n",
      "Epoch: 35; Bad epochs: 1\n"
     ]
    },
    {
     "name": "stderr",
     "output_type": "stream",
     "text": [
      "100%|█████████████████████████████████████████████████████████| 7308/7308 [01:02<00:00, 117.80it/s]\n"
     ]
    },
    {
     "name": "stdout",
     "output_type": "stream",
     "text": [
      "Loss: 1232222881.9375\n",
      "Average Loss: 168612.8738283388\n",
      "-----------------------------------------------------------------\n",
      "Epoch: 36; Bad epochs: 2\n"
     ]
    },
    {
     "name": "stderr",
     "output_type": "stream",
     "text": [
      "100%|█████████████████████████████████████████████████████████| 7308/7308 [01:01<00:00, 118.80it/s]\n"
     ]
    },
    {
     "name": "stdout",
     "output_type": "stream",
     "text": [
      "Loss: 1230310531.859375\n",
      "Average Loss: 168351.19483571086\n",
      "############### Saving good model ###############################\n",
      "-----------------------------------------------------------------\n",
      "Epoch: 37; Bad epochs: 0\n"
     ]
    },
    {
     "name": "stderr",
     "output_type": "stream",
     "text": [
      "100%|█████████████████████████████████████████████████████████| 7308/7308 [01:01<00:00, 118.72it/s]\n"
     ]
    },
    {
     "name": "stdout",
     "output_type": "stream",
     "text": [
      "Loss: 1230720893.09375\n",
      "Average Loss: 168407.34716663245\n",
      "-----------------------------------------------------------------\n",
      "Epoch: 38; Bad epochs: 1\n"
     ]
    },
    {
     "name": "stderr",
     "output_type": "stream",
     "text": [
      "100%|█████████████████████████████████████████████████████████| 7308/7308 [01:00<00:00, 120.81it/s]\n"
     ]
    },
    {
     "name": "stdout",
     "output_type": "stream",
     "text": [
      "Loss: 1229542520.140625\n",
      "Average Loss: 168246.10292017309\n",
      "############### Saving good model ###############################\n",
      "-----------------------------------------------------------------\n",
      "Epoch: 39; Bad epochs: 0\n"
     ]
    },
    {
     "name": "stderr",
     "output_type": "stream",
     "text": [
      "100%|█████████████████████████████████████████████████████████| 7308/7308 [00:59<00:00, 122.94it/s]\n"
     ]
    },
    {
     "name": "stdout",
     "output_type": "stream",
     "text": [
      "Loss: 1229361926.125\n",
      "Average Loss: 168221.39109537494\n",
      "############### Saving good model ###############################\n",
      "-----------------------------------------------------------------\n",
      "Epoch: 40; Bad epochs: 0\n"
     ]
    },
    {
     "name": "stderr",
     "output_type": "stream",
     "text": [
      "100%|█████████████████████████████████████████████████████████| 7308/7308 [00:59<00:00, 122.97it/s]\n"
     ]
    },
    {
     "name": "stdout",
     "output_type": "stream",
     "text": [
      "Loss: 1229582296.046875\n",
      "Average Loss: 168251.545709753\n",
      "-----------------------------------------------------------------\n",
      "Epoch: 41; Bad epochs: 1\n"
     ]
    },
    {
     "name": "stderr",
     "output_type": "stream",
     "text": [
      "100%|█████████████████████████████████████████████████████████| 7308/7308 [01:00<00:00, 120.72it/s]\n"
     ]
    },
    {
     "name": "stdout",
     "output_type": "stream",
     "text": [
      "Loss: 1229616733.0078125\n",
      "Average Loss: 168256.25793757697\n",
      "-----------------------------------------------------------------\n",
      "Epoch: 42; Bad epochs: 2\n"
     ]
    },
    {
     "name": "stderr",
     "output_type": "stream",
     "text": [
      "100%|█████████████████████████████████████████████████████████| 7308/7308 [01:02<00:00, 117.65it/s]\n"
     ]
    },
    {
     "name": "stdout",
     "output_type": "stream",
     "text": [
      "Loss: 1228732751.15625\n",
      "Average Loss: 168135.29709308292\n",
      "############### Saving good model ###############################\n",
      "-----------------------------------------------------------------\n",
      "Epoch: 43; Bad epochs: 0\n"
     ]
    },
    {
     "name": "stderr",
     "output_type": "stream",
     "text": [
      "100%|█████████████████████████████████████████████████████████| 7308/7308 [01:02<00:00, 117.19it/s]\n"
     ]
    },
    {
     "name": "stdout",
     "output_type": "stream",
     "text": [
      "Loss: 1229830263.1171875\n",
      "Average Loss: 168285.47661702073\n",
      "-----------------------------------------------------------------\n",
      "Epoch: 44; Bad epochs: 1\n"
     ]
    },
    {
     "name": "stderr",
     "output_type": "stream",
     "text": [
      "100%|█████████████████████████████████████████████████████████| 7308/7308 [00:59<00:00, 122.19it/s]\n"
     ]
    },
    {
     "name": "stdout",
     "output_type": "stream",
     "text": [
      "Loss: 1228768574.8828125\n",
      "Average Loss: 168140.1990808446\n",
      "-----------------------------------------------------------------\n",
      "Epoch: 45; Bad epochs: 2\n"
     ]
    },
    {
     "name": "stderr",
     "output_type": "stream",
     "text": [
      "100%|█████████████████████████████████████████████████████████| 7308/7308 [00:59<00:00, 123.18it/s]\n"
     ]
    },
    {
     "name": "stdout",
     "output_type": "stream",
     "text": [
      "Loss: 1229260599.953125\n",
      "Average Loss: 168207.5259924911\n",
      "-----------------------------------------------------------------\n",
      "Epoch: 46; Bad epochs: 3\n"
     ]
    },
    {
     "name": "stderr",
     "output_type": "stream",
     "text": [
      "100%|█████████████████████████████████████████████████████████| 7308/7308 [00:57<00:00, 126.95it/s]\n"
     ]
    },
    {
     "name": "stdout",
     "output_type": "stream",
     "text": [
      "Loss: 1226036234.1328125\n",
      "Average Loss: 167766.31556278223\n",
      "############### Saving good model ###############################\n",
      "-----------------------------------------------------------------\n",
      "Epoch: 47; Bad epochs: 0\n"
     ]
    },
    {
     "name": "stderr",
     "output_type": "stream",
     "text": [
      "100%|█████████████████████████████████████████████████████████| 7308/7308 [00:59<00:00, 122.73it/s]\n"
     ]
    },
    {
     "name": "stdout",
     "output_type": "stream",
     "text": [
      "Loss: 1226636974.796875\n",
      "Average Loss: 167848.5187187842\n",
      "-----------------------------------------------------------------\n",
      "Epoch: 48; Bad epochs: 1\n"
     ]
    },
    {
     "name": "stderr",
     "output_type": "stream",
     "text": [
      "100%|█████████████████████████████████████████████████████████| 7308/7308 [00:57<00:00, 126.84it/s]\n"
     ]
    },
    {
     "name": "stdout",
     "output_type": "stream",
     "text": [
      "Loss: 1227887208.578125\n",
      "Average Loss: 168019.59613822182\n",
      "-----------------------------------------------------------------\n",
      "Epoch: 49; Bad epochs: 2\n"
     ]
    },
    {
     "name": "stderr",
     "output_type": "stream",
     "text": [
      "100%|█████████████████████████████████████████████████████████| 7308/7308 [00:58<00:00, 124.61it/s]\n"
     ]
    },
    {
     "name": "stdout",
     "output_type": "stream",
     "text": [
      "Loss: 1227901529.2734375\n",
      "Average Loss: 168021.55572980808\n",
      "-----------------------------------------------------------------\n",
      "Epoch: 50; Bad epochs: 3\n"
     ]
    },
    {
     "name": "stderr",
     "output_type": "stream",
     "text": [
      "100%|█████████████████████████████████████████████████████████| 7308/7308 [00:57<00:00, 128.07it/s]\n"
     ]
    },
    {
     "name": "stdout",
     "output_type": "stream",
     "text": [
      "Loss: 1228676370.7421875\n",
      "Average Loss: 168127.58220336447\n",
      "-----------------------------------------------------------------\n",
      "Epoch: 51; Bad epochs: 4\n"
     ]
    },
    {
     "name": "stderr",
     "output_type": "stream",
     "text": [
      "100%|█████████████████████████████████████████████████████████| 7308/7308 [00:56<00:00, 128.54it/s]\n"
     ]
    },
    {
     "name": "stdout",
     "output_type": "stream",
     "text": [
      "Loss: 1226689838.078125\n",
      "Average Loss: 167855.7523369082\n",
      "-----------------------------------------------------------------\n",
      "Epoch: 52; Bad epochs: 5\n"
     ]
    },
    {
     "name": "stderr",
     "output_type": "stream",
     "text": [
      "100%|█████████████████████████████████████████████████████████| 7308/7308 [00:59<00:00, 122.99it/s]\n"
     ]
    },
    {
     "name": "stdout",
     "output_type": "stream",
     "text": [
      "Loss: 1229964401.90625\n",
      "Average Loss: 168303.8316784688\n",
      "-----------------------------------------------------------------\n",
      "Epoch: 53; Bad epochs: 6\n"
     ]
    },
    {
     "name": "stderr",
     "output_type": "stream",
     "text": [
      "100%|█████████████████████████████████████████████████████████| 7308/7308 [00:57<00:00, 127.25it/s]\n"
     ]
    },
    {
     "name": "stdout",
     "output_type": "stream",
     "text": [
      "Loss: 1227837723.0859375\n",
      "Average Loss: 168012.82472440306\n",
      "-----------------------------------------------------------------\n",
      "Epoch: 54; Bad epochs: 7\n"
     ]
    },
    {
     "name": "stderr",
     "output_type": "stream",
     "text": [
      "100%|█████████████████████████████████████████████████████████| 7308/7308 [00:57<00:00, 127.58it/s]\n"
     ]
    },
    {
     "name": "stdout",
     "output_type": "stream",
     "text": [
      "Loss: 1226950645.6171875\n",
      "Average Loss: 167891.44028697148\n",
      "-----------------------------------------------------------------\n",
      "Epoch: 55; Bad epochs: 8\n"
     ]
    },
    {
     "name": "stderr",
     "output_type": "stream",
     "text": [
      "100%|█████████████████████████████████████████████████████████| 7308/7308 [00:58<00:00, 124.32it/s]\n"
     ]
    },
    {
     "name": "stdout",
     "output_type": "stream",
     "text": [
      "Loss: 1224674453.8125\n",
      "Average Loss: 167579.97452278325\n",
      "############### Saving good model ###############################\n",
      "-----------------------------------------------------------------\n",
      "Epoch: 56; Bad epochs: 0\n"
     ]
    },
    {
     "name": "stderr",
     "output_type": "stream",
     "text": [
      "100%|█████████████████████████████████████████████████████████| 7308/7308 [00:55<00:00, 131.79it/s]\n"
     ]
    },
    {
     "name": "stdout",
     "output_type": "stream",
     "text": [
      "Loss: 1226727223.6796875\n",
      "Average Loss: 167860.86804593424\n",
      "-----------------------------------------------------------------\n",
      "Epoch: 57; Bad epochs: 1\n"
     ]
    },
    {
     "name": "stderr",
     "output_type": "stream",
     "text": [
      "100%|█████████████████████████████████████████████████████████| 7308/7308 [00:56<00:00, 128.83it/s]\n"
     ]
    },
    {
     "name": "stdout",
     "output_type": "stream",
     "text": [
      "Loss: 1224858583.6875\n",
      "Average Loss: 167605.17018165023\n",
      "-----------------------------------------------------------------\n",
      "Epoch: 58; Bad epochs: 2\n"
     ]
    },
    {
     "name": "stderr",
     "output_type": "stream",
     "text": [
      "100%|█████████████████████████████████████████████████████████| 7308/7308 [00:56<00:00, 130.23it/s]\n"
     ]
    },
    {
     "name": "stdout",
     "output_type": "stream",
     "text": [
      "Loss: 1230520570.109375\n",
      "Average Loss: 168379.9357018849\n",
      "-----------------------------------------------------------------\n",
      "Epoch: 59; Bad epochs: 3\n"
     ]
    },
    {
     "name": "stderr",
     "output_type": "stream",
     "text": [
      "100%|█████████████████████████████████████████████████████████| 7308/7308 [00:57<00:00, 126.73it/s]\n"
     ]
    },
    {
     "name": "stdout",
     "output_type": "stream",
     "text": [
      "Loss: 1235071860.9765625\n",
      "Average Loss: 169002.71770341578\n",
      "-----------------------------------------------------------------\n",
      "Epoch: 60; Bad epochs: 4\n"
     ]
    },
    {
     "name": "stderr",
     "output_type": "stream",
     "text": [
      "100%|█████████████████████████████████████████████████████████| 7308/7308 [00:54<00:00, 132.97it/s]\n"
     ]
    },
    {
     "name": "stdout",
     "output_type": "stream",
     "text": [
      "Loss: 1235005828.9921875\n",
      "Average Loss: 168993.68212810447\n",
      "-----------------------------------------------------------------\n",
      "Epoch: 61; Bad epochs: 5\n"
     ]
    },
    {
     "name": "stderr",
     "output_type": "stream",
     "text": [
      "100%|█████████████████████████████████████████████████████████| 7308/7308 [00:54<00:00, 133.58it/s]\n"
     ]
    },
    {
     "name": "stdout",
     "output_type": "stream",
     "text": [
      "Loss: 1233997186.1796875\n",
      "Average Loss: 168855.66313350952\n",
      "-----------------------------------------------------------------\n",
      "Epoch: 62; Bad epochs: 6\n"
     ]
    },
    {
     "name": "stderr",
     "output_type": "stream",
     "text": [
      " 53%|█████████████████████████████▉                           | 3838/7308 [00:30<00:25, 134.94it/s]"
     ]
    }
   ],
   "source": [
    "loss_arr=[]\n",
    "avg_loss_arr=[]\n",
    "\n",
    "counter = 0\n",
    "\n",
    "# Best loss\n",
    "best = 1e16\n",
    "num_bad_epochs = 0\n",
    "patience = 100\n",
    "\n",
    "for epoch in range(1000):\n",
    "    print(\"-----------------------------------------------------------------\")\n",
    "    print(\"Epoch: {}; Bad epochs: {}\".format(epoch, num_bad_epochs))\n",
    "    net.train()\n",
    "    running_loss = 0.\n",
    "\n",
    "    for i, X_batch in enumerate(tqdm(trainloader), 0):\n",
    "        optimizer.zero_grad()\n",
    "        X_pred, mu_cart_pred, lambda_par_pred, lambda_iso_pred,  volume_0_pred, volume_1_pred, s0_pred = net(X_batch)\n",
    "        if i == 100 and counter == 10:\n",
    "            print(\"X_batch: \")\n",
    "            print(X_batch.shape)\n",
    "            print(X_batch)\n",
    "            print(\"X_pred: \")\n",
    "            print(X_pred.shape)\n",
    "            print(X_pred)\n",
    "            print(\"s0_pred:\")\n",
    "            print(s0_pred.shape)\n",
    "            print(s0_pred)\n",
    "        loss = criterion(X_pred.type(torch.FloatTensor), X_batch.type(torch.FloatTensor))\n",
    "        loss.backward()\n",
    "        optimizer.step()\n",
    "        running_loss += loss.item()\n",
    "        \n",
    "    loss_arr.append(running_loss)\n",
    "    avg_loss_arr.append(running_loss/num_batches)\n",
    "    print(\"Loss: {}\".format(running_loss))\n",
    "    print(\"Average Loss: {}\".format(running_loss/num_batches))\n",
    "    \n",
    "\n",
    "    if running_loss < best:\n",
    "        print(\"############### Saving good model ###############################\")\n",
    "        final_model = net.state_dict()\n",
    "        best = running_loss\n",
    "        num_bad_epochs = 0\n",
    "    else:\n",
    "        num_bad_epochs = num_bad_epochs + 1\n",
    "        if num_bad_epochs == patience:\n",
    "            print(\"Done, best loss: {}\".format(best))\n",
    "            break\n",
    "    counter += 1\n",
    "print(\"Done\")\n",
    "net.load_state_dict(final_model)"
   ]
  },
  {
   "cell_type": "code",
   "execution_count": 41,
   "id": "cf0dc485-b58f-452f-bb03-44114971d66b",
   "metadata": {},
   "outputs": [
    {
     "data": {
      "text/plain": [
       "<All keys matched successfully>"
      ]
     },
     "execution_count": 41,
     "metadata": {},
     "output_type": "execute_result"
    }
   ],
   "source": [
    "net.load_state_dict(final_model)"
   ]
  },
  {
   "cell_type": "code",
   "execution_count": 40,
   "id": "7af57849-31d5-454f-863a-36148a591d89",
   "metadata": {},
   "outputs": [
    {
     "data": {
      "image/png": "[encoded data removed]",
      "text/plain": [
       "<Figure size 640x480 with 1 Axes>"
      ]
     },
     "metadata": {},
     "output_type": "display_data"
    }
   ],
   "source": [
    "epoch_arr = np.arange(0, len(avg_loss_arr))\n",
    "loss_arr = np.array(avg_loss_arr)\n",
    "plt.plot(avg_loss_arr)\n",
    "plt.xlabel(\"Epochs\")\n",
    "plt.ylabel(\"Average Runing Loss per batch\")\n",
    "plt.show()"
   ]
  },
  {
   "cell_type": "code",
   "execution_count": 43,
   "id": "37137f58-255a-4654-9629-46de5d91505a",
   "metadata": {},
   "outputs": [
    {
     "data": {
      "text/plain": [
       "240"
      ]
     },
     "execution_count": 43,
     "metadata": {},
     "output_type": "execute_result"
    }
   ],
   "source": [
    "len(avg_loss_arr)"
   ]
  },
  {
   "cell_type": "code",
   "execution_count": 42,
   "id": "177fd75d-7427-4436-9c14-a76ec7f817ae",
   "metadata": {},
   "outputs": [
    {
     "data": {
      "text/plain": [
       "BallStickNet(\n",
       "  (fc_layers): ModuleList(\n",
       "    (0): Linear(in_features=270, out_features=270, bias=True)\n",
       "    (1): ELU(alpha=1.0)\n",
       "    (2): Linear(in_features=270, out_features=270, bias=True)\n",
       "    (3): ELU(alpha=1.0)\n",
       "    (4): Linear(in_features=270, out_features=270, bias=True)\n",
       "    (5): ELU(alpha=1.0)\n",
       "  )\n",
       "  (encoder): Sequential(\n",
       "    (0): Linear(in_features=270, out_features=270, bias=True)\n",
       "    (1): ELU(alpha=1.0)\n",
       "    (2): Linear(in_features=270, out_features=270, bias=True)\n",
       "    (3): ELU(alpha=1.0)\n",
       "    (4): Linear(in_features=270, out_features=270, bias=True)\n",
       "    (5): ELU(alpha=1.0)\n",
       "    (6): Linear(in_features=270, out_features=6, bias=True)\n",
       "  )\n",
       ")"
      ]
     },
     "execution_count": 42,
     "metadata": {},
     "output_type": "execute_result"
    }
   ],
   "source": [
    "net.eval()"
   ]
  },
  {
   "cell_type": "code",
   "execution_count": 44,
   "id": "213e87b3-c5c5-4e12-90ea-3ed29c804d54",
   "metadata": {
    "tags": []
   },
   "outputs": [],
   "source": [
    "torch.save(final_model, 'model_100206_240e.pt')"
   ]
  },
  {
   "cell_type": "code",
   "execution_count": 45,
   "id": "d2b13a7c-54f0-4341-bfa5-b6fc89609239",
   "metadata": {
    "tags": []
   },
   "outputs": [],
   "source": [
    "X_pred_train, mu_cart_pred_train, lambda_par_pred_train, lambda_iso_pred_train,  volume_0_pred_train, volume_1_pred_train, s0_pred_train = net(torch.from_numpy(scan_100206_long_no_bg.astype(np.float32)))"
   ]
  },
  {
   "cell_type": "code",
   "execution_count": 46,
   "id": "f6ee1150-b626-41a2-9276-d86fcbbd459e",
   "metadata": {},
   "outputs": [
    {
     "data": {
      "text/plain": [
       "torch.Size([935442, 270])"
      ]
     },
     "execution_count": 46,
     "metadata": {},
     "output_type": "execute_result"
    }
   ],
   "source": [
    "X_pred_train.shape"
   ]
  },
  {
   "cell_type": "code",
   "execution_count": 60,
   "id": "4f004bff-1d48-45d8-b28c-b36c01c35e98",
   "metadata": {
    "tags": []
   },
   "outputs": [],
   "source": [
    "# Load model\n",
    "\n",
    "# net_test = BallStickNet(gradient_directions, b_values)\n",
    "# net_test.load_state_dict(torch.load('model_100206_61e.pt'))\n",
    "# net_test.eval()\n",
    "# X_pred_test, mu_cart_pred_test, lambda_par_pred_test, lambda_iso_pred_test,  volume_0_pred_test, volume_1_pred_test, s0_pred_test = net_test(torch.from_numpy(normalized_scan_100206.astype(np.float32)))"
   ]
  },
  {
   "cell_type": "code",
   "execution_count": 50,
   "id": "4fff9f32-d14e-4968-9d68-b18bb18db79f",
   "metadata": {},
   "outputs": [
    {
     "data": {
      "text/plain": [
       "[<matplotlib.lines.Line2D at 0x1c43eaf50>]"
      ]
     },
     "execution_count": 50,
     "metadata": {},
     "output_type": "execute_result"
    },
    {
     "data": {
      "image/png": "[encoded data removed]",
      "text/plain": [
       "<Figure size 640x480 with 1 Axes>"
      ]
     },
     "metadata": {},
     "output_type": "display_data"
    }
   ],
   "source": [
    "plt.plot(bvals*1e03, X_pred_train[178,:].detach().numpy(),  \"o\")\n",
    "# plt.plot(X_pred_train[110,:].detach().numpy())\n",
    "plt.plot(bvals*1e03,scan_100206_long_no_bg[178,:], \".\")"
   ]
  },
  {
   "cell_type": "code",
   "execution_count": 51,
   "id": "fe715819-85b1-4b36-b323-2b5a0d9b5762",
   "metadata": {
    "tags": []
   },
   "outputs": [
    {
     "data": {
      "text/plain": [
       "[<matplotlib.lines.Line2D at 0x1c4b8e800>]"
      ]
     },
     "execution_count": 51,
     "metadata": {},
     "output_type": "execute_result"
    },
    {
     "data": {
      "image/png": "[encoded data removed]",
      "text/plain": [
       "<Figure size 640x480 with 1 Axes>"
      ]
     },
     "metadata": {},
     "output_type": "display_data"
    }
   ],
   "source": [
    "plt.plot(lambda_par_pred_train.detach().numpy(), 'o')"
   ]
  },
  {
   "cell_type": "code",
   "execution_count": 21,
   "id": "3308a0dd-bf5e-4ed3-a94f-80689778bc18",
   "metadata": {},
   "outputs": [
    {
     "data": {
      "text/plain": [
       "tensor(0.1000, grad_fn=<MinBackward1>)"
      ]
     },
     "execution_count": 21,
     "metadata": {},
     "output_type": "execute_result"
    }
   ],
   "source": [
    "torch.min(lambda_par_pred_train)"
   ]
  },
  {
   "cell_type": "code",
   "execution_count": 22,
   "id": "c413c0f0-861a-40f8-8dd7-75a1530d9735",
   "metadata": {},
   "outputs": [
    {
     "data": {
      "text/plain": [
       "tensor(3., grad_fn=<MaxBackward1>)"
      ]
     },
     "execution_count": 22,
     "metadata": {},
     "output_type": "execute_result"
    }
   ],
   "source": [
    "torch.max(lambda_par_pred_train)"
   ]
  },
  {
   "cell_type": "code",
   "execution_count": null,
   "id": "3c46d397-7eee-4d8a-83b9-40e0b582f3c7",
   "metadata": {},
   "outputs": [],
   "source": []
  },
  {
   "cell_type": "code",
   "execution_count": null,
   "id": "67a85b22-ebf6-4694-8d55-ad488d522060",
   "metadata": {},
   "outputs": [],
   "source": []
  },
  {
   "cell_type": "code",
   "execution_count": null,
   "id": "bd7af24e-1326-4a43-afc8-e2908351f888",
   "metadata": {},
   "outputs": [],
   "source": []
  },
  {
   "cell_type": "code",
   "execution_count": null,
   "id": "22a1af14-ec36-4ba3-9608-260202fb41c9",
   "metadata": {},
   "outputs": [],
   "source": []
  },
  {
   "cell_type": "code",
   "execution_count": null,
   "id": "6d71afe4-a5d8-4db1-a5a5-e124aaebe191",
   "metadata": {},
   "outputs": [],
   "source": []
  },
  {
   "cell_type": "markdown",
   "id": "bd636a4f-1cc7-45c7-a1f3-33dab89c5be9",
   "metadata": {},
   "source": [
    "## Parameter maps"
   ]
  },
  {
   "cell_type": "code",
   "execution_count": 105,
   "id": "fe32741b-8800-49d1-9225-74440a5cc35e",
   "metadata": {},
   "outputs": [
    {
     "name": "stdout",
     "output_type": "stream",
     "text": [
      "torch.Size([935442, 288])\n",
      "(935442, 288)\n"
     ]
    }
   ],
   "source": [
    "print(X_pred_train.shape)\n",
    "print(normalized_scan_100206.shape)"
   ]
  },
  {
   "cell_type": "code",
   "execution_count": 108,
   "id": "f4ae4405-3e38-4ad7-ac6c-df99ba598831",
   "metadata": {},
   "outputs": [
    {
     "data": {
      "text/plain": [
       "torch.Size([935442, 1])"
      ]
     },
     "execution_count": 108,
     "metadata": {},
     "output_type": "execute_result"
    }
   ],
   "source": [
    "lambda_par_pred_train.shape"
   ]
  },
  {
   "cell_type": "code",
   "execution_count": 127,
   "id": "f48d7f92-3aa7-4578-aad7-be3da7befb5d",
   "metadata": {},
   "outputs": [
    {
     "data": {
      "text/plain": [
       "(3658350, 1)"
      ]
     },
     "execution_count": 127,
     "metadata": {},
     "output_type": "execute_result"
    }
   ],
   "source": [
    "mask_100206_long_pro.shape"
   ]
  },
  {
   "cell_type": "code",
   "execution_count": 111,
   "id": "70b8f03d-f1d1-40db-b738-55313c7cc11a",
   "metadata": {},
   "outputs": [
    {
     "data": {
      "text/plain": [
       "(3658350, 288)"
      ]
     },
     "execution_count": 111,
     "metadata": {},
     "output_type": "execute_result"
    }
   ],
   "source": [
    "scan_100206_long.shape"
   ]
  },
  {
   "cell_type": "code",
   "execution_count": 115,
   "id": "fcf1fd2c-ae83-4a19-afb9-f300b801fbaf",
   "metadata": {},
   "outputs": [],
   "source": [
    "bg_indices = np.where(mask_100206_long_pro == 0)[0]"
   ]
  },
  {
   "cell_type": "code",
   "execution_count": 121,
   "id": "cf3ed0a7-890f-4e77-bf7d-4f34660ba05f",
   "metadata": {},
   "outputs": [],
   "source": [
    "lambda_par_pred_train_cp = np.copy(lambda_par_pred_train.detach().numpy())"
   ]
  },
  {
   "cell_type": "code",
   "execution_count": null,
   "id": "d561695a-5fc2-45bd-aa02-b684c159bb19",
   "metadata": {},
   "outputs": [],
   "source": []
  },
  {
   "cell_type": "code",
   "execution_count": null,
   "id": "3570c459-2cd4-41fd-9b80-6541b82c011b",
   "metadata": {},
   "outputs": [],
   "source": [
    "def replace_ones(mask_100206, params):\n",
    "    mask_100206_cp = np.copy(mask_100206)\n",
    "    bg_indices = np.where(mask_100206_cp == 1)[0]\n",
    "    for i, index in enumerate(bg_indices):\n",
    "        mask_100206_cp[index] = params[i]\n",
    "    return mask_100206_cp"
   ]
  },
  {
   "cell_type": "code",
   "execution_count": null,
   "id": "7914cdf2-5a33-4bf9-8790-7759733419a9",
   "metadata": {},
   "outputs": [],
   "source": []
  },
  {
   "cell_type": "code",
   "execution_count": null,
   "id": "381a6b63-2a2e-468c-b1b9-aa0c658fbe4b",
   "metadata": {},
   "outputs": [],
   "source": []
  },
  {
   "cell_type": "code",
   "execution_count": null,
   "id": "2dfae08c-4de2-4f7b-bd59-0c92811091e3",
   "metadata": {},
   "outputs": [],
   "source": []
  },
  {
   "cell_type": "code",
   "execution_count": null,
   "id": "267077d4-1ce8-4af2-b18f-b311d0eebe5d",
   "metadata": {},
   "outputs": [],
   "source": []
  },
  {
   "cell_type": "code",
   "execution_count": null,
   "id": "560ad2f7-a635-4308-bd93-446fe8359126",
   "metadata": {},
   "outputs": [],
   "source": []
  },
  {
   "cell_type": "code",
   "execution_count": null,
   "id": "1ebe1dce-a78e-46d8-98c5-01f304182cd3",
   "metadata": {},
   "outputs": [],
   "source": []
  },
  {
   "cell_type": "code",
   "execution_count": null,
   "id": "ebc61159-41ac-465d-8f37-9ace30ca2d16",
   "metadata": {},
   "outputs": [],
   "source": []
  },
  {
   "cell_type": "code",
   "execution_count": null,
   "id": "452eba0d-d274-4a67-a09d-eacc0dfd7d6b",
   "metadata": {},
   "outputs": [],
   "source": []
  },
  {
   "cell_type": "code",
   "execution_count": null,
   "id": "e2389e95-7e39-48d2-bdc4-db6b0a7873f9",
   "metadata": {},
   "outputs": [],
   "source": []
  },
  {
   "cell_type": "code",
   "execution_count": null,
   "id": "4b181917-0399-49fd-b3dc-30741b99eea3",
   "metadata": {},
   "outputs": [],
   "source": []
  },
  {
   "cell_type": "code",
   "execution_count": null,
   "id": "7555d56c-2e24-491b-a9c9-2132ecf04066",
   "metadata": {},
   "outputs": [],
   "source": []
  },
  {
   "cell_type": "code",
   "execution_count": null,
   "id": "c339c3a3-9e4c-4261-9387-320d4d781350",
   "metadata": {},
   "outputs": [],
   "source": []
  },
  {
   "cell_type": "code",
   "execution_count": null,
   "id": "19436347-7e1c-46a9-850e-5d8b2d81a0e0",
   "metadata": {},
   "outputs": [],
   "source": []
  },
  {
   "cell_type": "code",
   "execution_count": null,
   "id": "6685aea8-cbca-425f-8013-79b85ef8b961",
   "metadata": {},
   "outputs": [],
   "source": []
  }
 ],
 "metadata": {
  "kernelspec": {
   "display_name": "Python 3 (ipykernel)",
   "language": "python",
   "name": "python3"
  },
  "language_info": {
   "codemirror_mode": {
    "name": "ipython",
    "version": 3
   },
   "file_extension": ".py",
   "mimetype": "text/x-python",
   "name": "python",
   "nbconvert_exporter": "python",
   "pygments_lexer": "ipython3",
   "version": "3.10.8"
  }
 },
 "nbformat": 4,
 "nbformat_minor": 5
}
