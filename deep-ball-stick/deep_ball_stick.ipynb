{
 "cells": [
  {
   "cell_type": "code",
   "execution_count": 1,
   "id": "0a966c15-8408-406a-a78a-35196f3e3abb",
   "metadata": {},
   "outputs": [],
   "source": [
    "import nibabel as nib\n",
    "import numpy as np\n",
    "\n",
    "from dmipy.core.acquisition_scheme import acquisition_scheme_from_bvalues\n",
    "from dmipy.signal_models import cylinder_models, gaussian_models\n",
    "from dmipy.core.modeling_framework import MultiCompartmentModel\n",
    "\n",
    "import matplotlib.pyplot as plt\n",
    "\n",
    "import config\n",
    "import torch\n",
    "import torch.nn as nn\n",
    "import torch.optim as optim\n",
    "import torch.utils.data as utils\n",
    "from tqdm import tqdm\n",
    "\n",
    "import process_data"
   ]
  },
  {
   "cell_type": "markdown",
   "id": "48472d21-c055-498d-8891-4f5f4e1fb4f6",
   "metadata": {},
   "source": [
    "## Trainig data"
   ]
  },
  {
   "cell_type": "code",
   "execution_count": 3,
   "id": "41d52e69-c4e4-428d-8f0f-c7a9834b53ec",
   "metadata": {},
   "outputs": [],
   "source": [
    "normalized_scan_100206 = np.load('normalised_data/normalized_scan_100206.npy')"
   ]
  },
  {
   "cell_type": "code",
   "execution_count": 4,
   "id": "dd3ca739-5e20-4876-961c-7a8f0b2923d9",
   "metadata": {},
   "outputs": [
    {
     "data": {
      "text/plain": [
       "(935442, 288)"
      ]
     },
     "execution_count": 4,
     "metadata": {},
     "output_type": "execute_result"
    }
   ],
   "source": [
    "normalized_scan_100206.shape"
   ]
  },
  {
   "cell_type": "code",
   "execution_count": null,
   "id": "7b7669fa-2e02-4247-9375-38908887a52f",
   "metadata": {},
   "outputs": [],
   "source": []
  },
  {
   "cell_type": "code",
   "execution_count": 2,
   "id": "6ba7fdeb-58ec-4077-abc5-2a2f83410bd7",
   "metadata": {
    "tags": []
   },
   "outputs": [],
   "source": [
    "scan_100206 = process_data.get_nifti_data(config.data_folder2 + '/100206/data.nii.gz')"
   ]
  },
  {
   "cell_type": "code",
   "execution_count": 3,
   "id": "b8afd5f3-af63-4623-b1f3-b38efaf17cb6",
   "metadata": {},
   "outputs": [],
   "source": [
    "mask_100206 = process_data.get_nifti_data(config.data_folder2 + '/100206/nodif_brain_mask.nii.gz')"
   ]
  },
  {
   "cell_type": "code",
   "execution_count": 4,
   "id": "68c94f2e-69dd-447e-9956-2d5237b8f485",
   "metadata": {},
   "outputs": [],
   "source": [
    "scan_dimension = scan_100206.shape\n",
    "x = scan_dimension[0]\n",
    "y = scan_dimension[1]\n",
    "z = scan_dimension[2]\n",
    "b = scan_dimension[3]"
   ]
  },
  {
   "cell_type": "code",
   "execution_count": 5,
   "id": "0dedc5a8-2e87-440d-882c-f3cc699bf09c",
   "metadata": {},
   "outputs": [],
   "source": [
    "scan_100206_long = np.reshape(scan_100206, (x*y*z, b))\n",
    "\n",
    "mask_100206_long = np.reshape(mask_100206, (x*y*z, 1))"
   ]
  },
  {
   "cell_type": "code",
   "execution_count": 6,
   "id": "4f09d572-643e-4e42-ad72-678ec1d9a0f4",
   "metadata": {},
   "outputs": [],
   "source": [
    "# Error voxels\n",
    "indices_beginning_0_all = np.where(scan_100206_long[:, 0] == 0)[0]"
   ]
  },
  {
   "cell_type": "code",
   "execution_count": 7,
   "id": "5be6e76e-fe57-45be-9aab-3b349a15fc86",
   "metadata": {},
   "outputs": [
    {
     "data": {
      "text/plain": [
       "2234299"
      ]
     },
     "execution_count": 7,
     "metadata": {},
     "output_type": "execute_result"
    }
   ],
   "source": [
    "len(indices_beginning_0_all)"
   ]
  },
  {
   "cell_type": "code",
   "execution_count": 8,
   "id": "b7fe4027-9dc3-41a9-99fb-0cacccc03424",
   "metadata": {},
   "outputs": [],
   "source": [
    "mask_0 = np.where(mask_100206_long[:,0] == 0)[0]"
   ]
  },
  {
   "cell_type": "code",
   "execution_count": 9,
   "id": "2b300e64-5485-4d6e-a42e-5d1f8d8eb7c9",
   "metadata": {},
   "outputs": [
    {
     "data": {
      "text/plain": [
       "2722094"
      ]
     },
     "execution_count": 9,
     "metadata": {},
     "output_type": "execute_result"
    }
   ],
   "source": [
    "len(mask_0)"
   ]
  },
  {
   "cell_type": "code",
   "execution_count": 10,
   "id": "9bcc66a1-0f21-4623-b56d-77d5814bc33f",
   "metadata": {},
   "outputs": [],
   "source": [
    "mask_100206_long_pro = np.copy(mask_100206_long)"
   ]
  },
  {
   "cell_type": "code",
   "execution_count": 11,
   "id": "34c8a995-de9b-4dd5-830d-101c467b46fa",
   "metadata": {},
   "outputs": [],
   "source": [
    "mask_100206_long_pro[indices_beginning_0_all] = 0"
   ]
  },
  {
   "cell_type": "code",
   "execution_count": 12,
   "id": "d1d36dc5-1f95-4867-92de-6db8d867e4f0",
   "metadata": {},
   "outputs": [
    {
     "name": "stdout",
     "output_type": "stream",
     "text": [
      "2722908\n"
     ]
    }
   ],
   "source": [
    "mask_0_pro = np.where(mask_100206_long_pro[:,0] == 0)[0]\n",
    "print(len(mask_0_pro))"
   ]
  },
  {
   "cell_type": "code",
   "execution_count": 13,
   "id": "4ce147d9-c78a-4f74-891a-bc49c3305e42",
   "metadata": {},
   "outputs": [],
   "source": [
    "scan_100206_long_no_background = process_data.remove_background(scan_100206_long, mask_100206_long_pro)"
   ]
  },
  {
   "cell_type": "code",
   "execution_count": 14,
   "id": "88e1b11b-a78e-48d5-9a3a-ae978899b0e5",
   "metadata": {},
   "outputs": [],
   "source": [
    "bvals_all = np.loadtxt(config.data_folder2 + '/100206/bvals') * 1e-3"
   ]
  },
  {
   "cell_type": "code",
   "execution_count": 17,
   "id": "ab3e6078-4113-4305-a216-edc3dfbfcfe3",
   "metadata": {},
   "outputs": [],
   "source": [
    "big_b_indices = np.where(bvals_all != 0.005)[0]"
   ]
  },
  {
   "cell_type": "code",
   "execution_count": 18,
   "id": "772d806a-e662-4461-b544-e139c3e6c0f1",
   "metadata": {},
   "outputs": [
    {
     "name": "stdout",
     "output_type": "stream",
     "text": [
      "(270,)\n"
     ]
    }
   ],
   "source": [
    "bvals = bvals_all[big_b_indices]\n",
    "print(bvals.shape)"
   ]
  },
  {
   "cell_type": "code",
   "execution_count": 19,
   "id": "e6aa2b23-5e8a-4792-b502-f9efecbb1c50",
   "metadata": {},
   "outputs": [
    {
     "data": {
      "text/plain": [
       "array([1.   , 1.995, 3.005, 0.995, 2.995, 2.005, 0.99 , 1.99 , 3.   ,\n",
       "       1.   , 1.985, 2.995, 1.005, 1.995, 2.995, 0.995, 2.   , 3.01 ,\n",
       "       3.005, 0.995, 2.005, 0.995, 1.99 , 2.985, 1.005, 2.   , 3.005,\n",
       "       0.995, 1.995, 2.99 , 3.005, 0.995, 2.   , 0.99 , 1.99 , 2.99 ,\n",
       "       0.995, 2.985, 1.995, 3.005, 0.995, 2.005, 1.   , 1.99 , 2.995,\n",
       "       1.005, 2.005, 2.995, 3.   , 1.005, 1.985, 1.005, 2.985, 2.005,\n",
       "       0.995, 1.99 , 3.005, 1.   , 2.99 , 2.   , 0.99 , 2.005, 2.995,\n",
       "       1.   , 2.005, 3.   , 0.995, 2.005, 3.005, 1.005, 2.   , 3.01 ,\n",
       "       0.99 , 2.005, 1.995, 1.   , 3.01 , 2.985, 1.005, 1.995, 3.   ,\n",
       "       1.   , 2.005, 3.   , 0.99 , 2.005, 2.99 , 3.   , 1.   , 2.99 ,\n",
       "       0.995, 1.995, 1.995, 1.005, 2.   , 2.995, 1.005, 2.01 , 2.995,\n",
       "       1.005, 2.   , 3.01 , 1.   , 2.005, 2.99 , 0.99 , 2.985, 2.005,\n",
       "       1.   , 2.005, 2.985, 0.995, 2.005, 2.99 , 0.995, 2.005, 2.99 ,\n",
       "       1.005, 2.   , 3.005, 0.995, 2.995, 1.99 , 1.005, 0.995, 2.005,\n",
       "       2.99 , 2.   , 3.   , 1.   , 2.005, 2.985, 0.99 , 1.995, 2.985,\n",
       "       0.99 , 2.   , 3.01 , 0.995, 1.99 , 2.995, 1.005, 2.   , 3.005,\n",
       "       1.   , 1.99 , 2.995, 2.   , 0.995, 2.99 , 0.995, 3.005, 1.99 ,\n",
       "       3.005, 1.   , 2.   , 1.   , 1.99 , 2.99 , 2.99 , 0.99 , 2.01 ,\n",
       "       0.995, 2.005, 3.   , 1.005, 2.98 , 2.005, 1.   , 1.985, 2.005,\n",
       "       1.   , 2.985, 2.995, 0.99 , 1.995, 3.005, 2.995, 0.995, 1.995,\n",
       "       1.005, 3.   , 1.99 , 0.995, 2.01 , 2.995, 0.995, 2.005, 2.99 ,\n",
       "       0.995, 2.   , 2.985, 1.005, 2.99 , 1.995, 3.01 , 1.005, 1.99 ,\n",
       "       1.   , 2.005, 2.99 , 0.995, 2.   , 2.995, 1.   , 2.005, 2.99 ,\n",
       "       3.   , 1.005, 1.99 , 0.995, 3.01 , 2.005, 0.995, 2.   , 3.   ,\n",
       "       2.985, 0.995, 1.99 , 2.995, 0.995, 2.   , 0.995, 2.005, 3.01 ,\n",
       "       2.995, 1.   , 1.99 , 0.995, 1.99 , 3.   , 1.   , 2.   , 2.985,\n",
       "       0.99 , 1.99 , 2.99 , 1.   , 3.005, 1.99 , 1.005, 2.   , 2.99 ,\n",
       "       1.   , 1.99 , 3.   , 1.   , 2.   , 2.985, 0.995, 1.99 , 3.   ,\n",
       "       1.005, 3.005, 2.005, 0.995, 1.995, 3.005, 1.   , 0.995, 2.99 ,\n",
       "       2.985, 2.005, 1.99 , 1.   , 2.99 , 2.   , 1.005, 1.995, 3.   ])"
      ]
     },
     "execution_count": 19,
     "metadata": {},
     "output_type": "execute_result"
    }
   ],
   "source": [
    "bvals"
   ]
  },
  {
   "cell_type": "code",
   "execution_count": 36,
   "id": "ba6429e8-cf9c-4bb5-82b4-334beb71cdfc",
   "metadata": {},
   "outputs": [
    {
     "data": {
      "text/plain": [
       "[<matplotlib.lines.Line2D at 0x1c9dee740>]"
      ]
     },
     "execution_count": 36,
     "metadata": {},
     "output_type": "execute_result"
    },
    {
     "data": {
      "image/png": "[encoded data removed]",
      "text/plain": [
       "<Figure size 640x480 with 1 Axes>"
      ]
     },
     "metadata": {},
     "output_type": "display_data"
    }
   ],
   "source": [
    "plt.plot(bvals, scan_100206_long_no_background[1400,:], \"o\")"
   ]
  },
  {
   "cell_type": "code",
   "execution_count": 20,
   "id": "a6a3ba31-8e5a-4326-9995-e3a33b6d8e3e",
   "metadata": {},
   "outputs": [
    {
     "data": {
      "text/plain": [
       "(935442, 288)"
      ]
     },
     "execution_count": 20,
     "metadata": {},
     "output_type": "execute_result"
    }
   ],
   "source": [
    "scan_100206_long_no_background.shape"
   ]
  },
  {
   "cell_type": "code",
   "execution_count": 21,
   "id": "719daa63-3354-4329-8431-6742fe443c57",
   "metadata": {},
   "outputs": [],
   "source": [
    "scan_100206_long_no_bg = np.copy(scan_100206_long_no_background)"
   ]
  },
  {
   "cell_type": "code",
   "execution_count": 22,
   "id": "afad7dbb-4e56-4add-8adb-070e43dd2f75",
   "metadata": {},
   "outputs": [],
   "source": [
    "scan_100206_long_no_bg = scan_100206_long_no_bg[:, big_b_indices]"
   ]
  },
  {
   "cell_type": "code",
   "execution_count": 23,
   "id": "052b5238-5977-42ac-b124-5273c51ab8f0",
   "metadata": {},
   "outputs": [
    {
     "data": {
      "text/plain": [
       "(935442, 270)"
      ]
     },
     "execution_count": 23,
     "metadata": {},
     "output_type": "execute_result"
    }
   ],
   "source": [
    "scan_100206_long_no_bg.shape"
   ]
  },
  {
   "cell_type": "code",
   "execution_count": null,
   "id": "a116e856-5cb7-46b3-b770-ab9e2b75615d",
   "metadata": {},
   "outputs": [],
   "source": []
  },
  {
   "cell_type": "code",
   "execution_count": 28,
   "id": "4b5296aa-fca6-479a-8bf5-f05ee8ac8d7e",
   "metadata": {},
   "outputs": [],
   "source": [
    "S0_100206 = process_data.get_S0(scan_100206_long_no_background, bvals)"
   ]
  },
  {
   "cell_type": "code",
   "execution_count": 29,
   "id": "cfc51375-3bdc-439e-834b-e2aa3c3a6870",
   "metadata": {},
   "outputs": [
    {
     "data": {
      "text/plain": [
       "(935442, 1)"
      ]
     },
     "execution_count": 29,
     "metadata": {},
     "output_type": "execute_result"
    }
   ],
   "source": [
    "S0_100206.shape"
   ]
  },
  {
   "cell_type": "code",
   "execution_count": 30,
   "id": "77c83d8b-ce8e-4d2f-aeff-20a10603d99d",
   "metadata": {},
   "outputs": [],
   "source": [
    "normalized_scan_100206 = scan_100206_long_no_background / S0_100206"
   ]
  },
  {
   "cell_type": "code",
   "execution_count": 71,
   "id": "56d3ee85-2131-450e-946a-ff363cc6e229",
   "metadata": {},
   "outputs": [
    {
     "data": {
      "text/plain": [
       "935442"
      ]
     },
     "execution_count": 71,
     "metadata": {},
     "output_type": "execute_result"
    }
   ],
   "source": [
    "len(normalized_scan_100206)"
   ]
  },
  {
   "cell_type": "code",
   "execution_count": 44,
   "id": "7fc02a7b-7a1b-4957-ad85-e0f63b8f44b4",
   "metadata": {},
   "outputs": [],
   "source": [
    "np.save('normalized_scan_100206.npy', normalized_scan_100206)"
   ]
  },
  {
   "cell_type": "code",
   "execution_count": 53,
   "id": "7b8f8d98-79eb-4fdd-a15b-e8ac2f0e9188",
   "metadata": {},
   "outputs": [
    {
     "data": {
      "text/plain": [
       "[<matplotlib.lines.Line2D at 0x1c2675d50>]"
      ]
     },
     "execution_count": 53,
     "metadata": {},
     "output_type": "execute_result"
    },
    {
     "data": {
      "image/png": "[encoded data removed]",
      "text/plain": [
       "<Figure size 640x480 with 1 Axes>"
      ]
     },
     "metadata": {},
     "output_type": "display_data"
    }
   ],
   "source": [
    "plt.plot(bvals, normalized_scan_100206[1400,:], \"o\")"
   ]
  },
  {
   "cell_type": "markdown",
   "id": "5501eff9-b2e1-4749-9646-0d4867f43bf2",
   "metadata": {},
   "source": [
    "## Neural Network"
   ]
  },
  {
   "cell_type": "code",
   "execution_count": 24,
   "id": "bce67dcf-1bd2-4a45-92ec-3975b9695042",
   "metadata": {},
   "outputs": [],
   "source": [
    "def squash(param, p_min, p_max):\n",
    "    squashed_param_tensor =torch.clamp(param, min=p_min, max=p_max)\n",
    "    unsqueezed_param = squashed_param_tensor.unsqueeze(1)\n",
    "    return unsqueezed_param"
   ]
  },
  {
   "cell_type": "code",
   "execution_count": 25,
   "id": "0d94a270-f06a-43af-b52c-853c8f9c8875",
   "metadata": {},
   "outputs": [],
   "source": [
    "def unitsphere2cart(theta, phi, X):\n",
    "    mu_cart = torch.zeros(3,X.size()[0])\n",
    "    sintheta = torch.sin(theta)\n",
    "    mu_cart[0,:] = torch.squeeze(sintheta * torch.cos(phi))\n",
    "    mu_cart[1,:] = torch.squeeze(sintheta * torch.sin(phi))\n",
    "    mu_cart[2,:] = torch.squeeze(torch.cos(theta))\n",
    "    return mu_cart"
   ]
  },
  {
   "cell_type": "code",
   "execution_count": 86,
   "id": "cedfe85d-89b3-41de-8f7f-621517b04965",
   "metadata": {},
   "outputs": [
    {
     "name": "stdout",
     "output_type": "stream",
     "text": [
      "(288,)\n"
     ]
    }
   ],
   "source": [
    "bvals_all = np.loadtxt(\n",
    "        config.data_folder2 + '/100206/bvals'\n",
    "    ) * 1e-3\n",
    "print(bvals_all.shape)"
   ]
  },
  {
   "cell_type": "code",
   "execution_count": 87,
   "id": "bbb609af-1439-4fc2-b944-220342824839",
   "metadata": {},
   "outputs": [
    {
     "data": {
      "text/plain": [
       "(270,)"
      ]
     },
     "execution_count": 87,
     "metadata": {},
     "output_type": "execute_result"
    }
   ],
   "source": [
    "bvals_all[big_b_indices].shape"
   ]
  },
  {
   "cell_type": "code",
   "execution_count": 107,
   "id": "4b0ea570-357b-4486-a307-9337e7a3844b",
   "metadata": {
    "jupyter": {
     "source_hidden": true
    },
    "tags": []
   },
   "outputs": [],
   "source": [
    "# def get_acquisition_scheme(bvals):\n",
    "# #     bvals_all = np.loadtxt(\n",
    "# #         config.data_folder2 + '/100206/bvals'\n",
    "# #     ) * 1e-3\n",
    "# #     # s/m^2\n",
    "    \n",
    "# #     bvals = bvals_all[big_b_indices]\n",
    "#     gradient_directions = np.loadtxt(\n",
    "#         config.data_folder2 + '/100206/bvecs'\n",
    "#     ).T\n",
    "\n",
    "#     delta = 0.0106\n",
    "#     Delta = 0.0431\n",
    "#     return acquisition_scheme_from_bvalues(bvals, gradient_directions, delta, Delta)"
   ]
  },
  {
   "cell_type": "code",
   "execution_count": 26,
   "id": "2ec1c8b8-cca5-4634-8ca5-a7af2b148edf",
   "metadata": {},
   "outputs": [],
   "source": [
    "class BallStickNet(nn.Module):\n",
    "    \n",
    "    def __init__(self, gradient_directions, b_values):\n",
    "        super(BallStickNet, self).__init__()\n",
    "        self.gradient_directions = gradient_directions\n",
    "        self.b_values = b_values\n",
    "        self.fc_layers = nn.ModuleList()\n",
    "        for i in range(3): \n",
    "            self.fc_layers.extend([nn.Linear(len(b_values), len(b_values)), nn.ELU()])\n",
    "        self.encoder = nn.Sequential(*self.fc_layers, nn.Linear(len(b_values), 6))\n",
    "        # if args.dropout != 0:\n",
    "        #     self.dropout = nn.Dropout(args.dropout)\n",
    "            \n",
    "    def forward(self, X):\n",
    "        # if args.dropout != 0:\n",
    "        #     X = self.dropout(X)\n",
    "        params = torch.abs(self.encoder(X))\n",
    "        theta_uns = params[:, 0]\n",
    "        theta = theta_uns.unsqueeze(1)\n",
    "        phi_uns = params[:, 1]\n",
    "        phi = phi_uns.unsqueeze(1)\n",
    "        mu_cart = unitsphere2cart(theta, phi, X)\n",
    "        mm_prod =  torch.einsum(\"ij,jk->ki\",self.gradient_directions, mu_cart)\n",
    "        lambda_par_uns = params[:, 2]\n",
    "        lambda_par = squash(lambda_par_uns, 0.1, 3.0)\n",
    "        lambda_iso_uns = params[:, 3]\n",
    "        lambda_iso = squash(lambda_iso_uns, 0.1, 3.0)\n",
    "        volume_0_uns = params[:, 4]\n",
    "        volume_0 = squash(volume_0_uns, 0.01, 0.99)\n",
    "        volume_1 = 1-volume_0\n",
    "        s0 = params[:, 5].unsqueeze(1)\n",
    "        X = s0*(volume_0 * torch.exp(-self.b_values * lambda_par * mm_prod ** 2) + volume_1 * torch.exp(-self.b_values * lambda_iso))\n",
    "        return X, mu_cart, lambda_par, lambda_iso, volume_0, volume_1, s0"
   ]
  },
  {
   "cell_type": "code",
   "execution_count": 94,
   "id": "511c4444-3b65-4555-ba61-13dd580a8fd2",
   "metadata": {},
   "outputs": [
    {
     "name": "stdout",
     "output_type": "stream",
     "text": [
      "(3, 288)\n",
      "(270, 3)\n"
     ]
    }
   ],
   "source": [
    "n = np.loadtxt(config.data_folder2 + '/100206/bvecs')\n",
    "print(n.shape)\n",
    "print(n[:,big_b_indices].T.shape)"
   ]
  },
  {
   "cell_type": "code",
   "execution_count": 27,
   "id": "e707a55d-c71b-45a9-8541-da4d8d937e12",
   "metadata": {},
   "outputs": [
    {
     "name": "stdout",
     "output_type": "stream",
     "text": [
      "(270, 3)\n",
      "torch.Size([270])\n"
     ]
    }
   ],
   "source": [
    "n_all = np.loadtxt(config.data_folder2 + '/100206/bvecs')\n",
    "n = n_all[:,big_b_indices].T\n",
    "print(n.shape)\n",
    "\n",
    "b_values = torch.FloatTensor(bvals)\n",
    "print(b_values.shape)\n",
    "gradient_directions = torch.FloatTensor(n)\n",
    "\n",
    "net = BallStickNet(gradient_directions, b_values)"
   ]
  },
  {
   "cell_type": "code",
   "execution_count": 28,
   "id": "008a9b51-5336-4d13-93b6-0a5804d23466",
   "metadata": {},
   "outputs": [],
   "source": [
    "criterion = nn.MSELoss()\n",
    "optimizer = optim.Adam(net.parameters(), lr = 0.001)"
   ]
  },
  {
   "cell_type": "code",
   "execution_count": 29,
   "id": "f2a561e8-5d5b-44c1-9850-297b93d268a2",
   "metadata": {},
   "outputs": [],
   "source": [
    "batch_size = 128\n",
    "num_batches = len(scan_100206_long_no_bg) // batch_size\n",
    "trainloader = utils.DataLoader(torch.from_numpy(scan_100206_long_no_bg.astype(np.float32)),\n",
    "                               batch_size = batch_size, \n",
    "                               shuffle = True,\n",
    "                               num_workers = 2,\n",
    "                               drop_last = True)"
   ]
  },
  {
   "cell_type": "code",
   "execution_count": null,
   "id": "1b0a411f-4ff9-4371-af96-f6eac35c0be6",
   "metadata": {
    "tags": []
   },
   "outputs": [
    {
     "name": "stdout",
     "output_type": "stream",
     "text": [
      "-----------------------------------------------------------------\n",
      "Epoch: 0; Bad epochs: 0\n"
     ]
    },
    {
     "name": "stderr",
     "output_type": "stream",
     "text": [
      "  2%|█▍                                                         | 182/7308 [00:09<01:17, 92.50it/s]"
     ]
    }
   ],
   "source": [
    "loss_arr=[]\n",
    "avg_loss_arr=[]\n",
    "\n",
    "counter = 0\n",
    "\n",
    "# Best loss\n",
    "best = 1e16\n",
    "num_bad_epochs = 0\n",
    "patience = 10\n",
    "\n",
    "for epoch in range(1000):\n",
    "    print(\"-----------------------------------------------------------------\")\n",
    "    print(\"Epoch: {}; Bad epochs: {}\".format(epoch, num_bad_epochs))\n",
    "    net.train()\n",
    "    running_loss = 0.\n",
    "\n",
    "    for i, X_batch in enumerate(tqdm(trainloader), 0):\n",
    "        optimizer.zero_grad()\n",
    "        X_pred, mu_cart_pred, lambda_par_pred, lambda_iso_pred,  volume_0_pred, volume_1_pred, s0_pred = net(X_batch)\n",
    "        if i == 100 and counter == 10:\n",
    "            print(\"X_batch: \")\n",
    "            print(X_batch.shape)\n",
    "            print(X_batch)\n",
    "            print(\"X_pred: \")\n",
    "            print(X_pred.shape)\n",
    "            print(X_pred)\n",
    "            print(\"s0_pred:\")\n",
    "            print(s0_pred.shape)\n",
    "            print(s0_pred)\n",
    "        loss = criterion(X_pred.type(torch.FloatTensor), X_batch.type(torch.FloatTensor))\n",
    "        loss.backward()\n",
    "        optimizer.step()\n",
    "        running_loss += loss.item()\n",
    "        \n",
    "    loss_arr.append(running_loss)\n",
    "    avg_loss_arr.append(running_loss/num_batches)\n",
    "    print(\"Loss: {}\".format(running_loss))\n",
    "    print(\"Average Loss: {}\".format(running_loss/num_batches))\n",
    "    \n",
    "\n",
    "    if running_loss < best:\n",
    "        print(\"############### Saving good model ###############################\")\n",
    "        final_model = net.state_dict()\n",
    "        best = running_loss\n",
    "        num_bad_epochs = 0\n",
    "    else:\n",
    "        num_bad_epochs = num_bad_epochs + 1\n",
    "        if num_bad_epochs == patience:\n",
    "            print(\"Done, best loss: {}\".format(best))\n",
    "            break\n",
    "    counter += 1\n",
    "print(\"Done\")\n",
    "net.load_state_dict(final_model)"
   ]
  },
  {
   "cell_type": "code",
   "execution_count": 31,
   "id": "cf0dc485-b58f-452f-bb03-44114971d66b",
   "metadata": {},
   "outputs": [
    {
     "data": {
      "text/plain": [
       "<All keys matched successfully>"
      ]
     },
     "execution_count": 31,
     "metadata": {},
     "output_type": "execute_result"
    }
   ],
   "source": [
    "net.load_state_dict(final_model)"
   ]
  },
  {
   "cell_type": "code",
   "execution_count": 32,
   "id": "7af57849-31d5-454f-863a-36148a591d89",
   "metadata": {},
   "outputs": [
    {
     "data": {
      "image/png": "[encoded data removed]",
      "text/plain": [
       "<Figure size 640x480 with 1 Axes>"
      ]
     },
     "metadata": {},
     "output_type": "display_data"
    }
   ],
   "source": [
    "epoch_arr = np.arange(0, len(avg_loss_arr))\n",
    "loss_arr = np.array(avg_loss_arr)\n",
    "plt.plot(avg_loss_arr)\n",
    "plt.xlabel(\"Epochs\")\n",
    "plt.ylabel(\"Average Runing Loss per batch\")\n",
    "plt.show()"
   ]
  },
  {
   "cell_type": "code",
   "execution_count": 34,
   "id": "177fd75d-7427-4436-9c14-a76ec7f817ae",
   "metadata": {},
   "outputs": [
    {
     "data": {
      "text/plain": [
       "BallStickNet(\n",
       "  (fc_layers): ModuleList(\n",
       "    (0): Linear(in_features=270, out_features=270, bias=True)\n",
       "    (1): ELU(alpha=1.0)\n",
       "    (2): Linear(in_features=270, out_features=270, bias=True)\n",
       "    (3): ELU(alpha=1.0)\n",
       "    (4): Linear(in_features=270, out_features=270, bias=True)\n",
       "    (5): ELU(alpha=1.0)\n",
       "  )\n",
       "  (encoder): Sequential(\n",
       "    (0): Linear(in_features=270, out_features=270, bias=True)\n",
       "    (1): ELU(alpha=1.0)\n",
       "    (2): Linear(in_features=270, out_features=270, bias=True)\n",
       "    (3): ELU(alpha=1.0)\n",
       "    (4): Linear(in_features=270, out_features=270, bias=True)\n",
       "    (5): ELU(alpha=1.0)\n",
       "    (6): Linear(in_features=270, out_features=6, bias=True)\n",
       "  )\n",
       ")"
      ]
     },
     "execution_count": 34,
     "metadata": {},
     "output_type": "execute_result"
    }
   ],
   "source": [
    "net.eval()"
   ]
  },
  {
   "cell_type": "code",
   "execution_count": 16,
   "id": "213e87b3-c5c5-4e12-90ea-3ed29c804d54",
   "metadata": {
    "tags": []
   },
   "outputs": [],
   "source": [
    "torch.save(final_model, 'model_100206_not_converge.pt')"
   ]
  },
  {
   "cell_type": "code",
   "execution_count": 35,
   "id": "d2b13a7c-54f0-4341-bfa5-b6fc89609239",
   "metadata": {
    "tags": []
   },
   "outputs": [],
   "source": [
    "X_pred_train, mu_cart_pred_train, lambda_par_pred_train, lambda_iso_pred_train,  volume_0_pred_train, volume_1_pred_train, s0_pred_train = net(torch.from_numpy(scan_100206_long_no_bg.astype(np.float32)))"
   ]
  },
  {
   "cell_type": "code",
   "execution_count": 36,
   "id": "f6ee1150-b626-41a2-9276-d86fcbbd459e",
   "metadata": {},
   "outputs": [
    {
     "data": {
      "text/plain": [
       "torch.Size([935442, 270])"
      ]
     },
     "execution_count": 36,
     "metadata": {},
     "output_type": "execute_result"
    }
   ],
   "source": [
    "X_pred_train.shape"
   ]
  },
  {
   "cell_type": "code",
   "execution_count": 60,
   "id": "4f004bff-1d48-45d8-b28c-b36c01c35e98",
   "metadata": {
    "tags": []
   },
   "outputs": [],
   "source": [
    "# Load model\n",
    "\n",
    "# net_test = BallStickNet(gradient_directions, b_values)\n",
    "# net_test.load_state_dict(torch.load('model_100206_61e.pt'))\n",
    "# net_test.eval()\n",
    "# X_pred_test, mu_cart_pred_test, lambda_par_pred_test, lambda_iso_pred_test,  volume_0_pred_test, volume_1_pred_test, s0_pred_test = net_test(torch.from_numpy(normalized_scan_100206.astype(np.float32)))"
   ]
  },
  {
   "cell_type": "code",
   "execution_count": 39,
   "id": "4fff9f32-d14e-4968-9d68-b18bb18db79f",
   "metadata": {},
   "outputs": [
    {
     "data": {
      "text/plain": [
       "[<matplotlib.lines.Line2D at 0x1cab35f90>]"
      ]
     },
     "execution_count": 39,
     "metadata": {},
     "output_type": "execute_result"
    },
    {
     "data": {
      "image/png": "[encoded data removed]",
      "text/plain": [
       "<Figure size 640x480 with 1 Axes>"
      ]
     },
     "metadata": {},
     "output_type": "display_data"
    }
   ],
   "source": [
    "plt.plot(bvals*1e03, X_pred_train[200,:].detach().numpy(),  \"o\")\n",
    "# plt.plot(X_pred_train[110,:].detach().numpy())\n",
    "plt.plot(bvals*1e03,scan_100206_long_no_bg[200,:], \".\")"
   ]
  },
  {
   "cell_type": "code",
   "execution_count": 70,
   "id": "65b45b4a-8147-4d65-b27b-fa2fd2e69b60",
   "metadata": {},
   "outputs": [],
   "source": [
    "b5_indices = np.where(bvals==0.005)"
   ]
  },
  {
   "cell_type": "code",
   "execution_count": 72,
   "id": "03866922-46e0-4943-82e8-633df75b4a0e",
   "metadata": {},
   "outputs": [
    {
     "data": {
      "text/plain": [
       "array([[363.97882, 363.975  , 363.9713 , 363.97144, 363.9675 , 363.9634 ,\n",
       "        363.95895, 363.9608 , 363.95813, 363.96402, 363.9654 , 363.9675 ,\n",
       "        363.95645, 363.95972, 363.96298, 363.96228, 363.96536, 363.96878]],\n",
       "      dtype=float32)"
      ]
     },
     "execution_count": 72,
     "metadata": {},
     "output_type": "execute_result"
    }
   ],
   "source": [
    "X_pred_train.detach().numpy()[2,b5_indices]"
   ]
  },
  {
   "cell_type": "code",
   "execution_count": 65,
   "id": "16bc346e-5499-4d56-9873-c940f0e6815a",
   "metadata": {},
   "outputs": [
    {
     "data": {
      "text/plain": [
       "tensor(363.9788, grad_fn=<SelectBackward0>)"
      ]
     },
     "execution_count": 65,
     "metadata": {},
     "output_type": "execute_result"
    }
   ],
   "source": [
    "X_pred_train[2,0]"
   ]
  },
  {
   "cell_type": "code",
   "execution_count": 61,
   "id": "fe715819-85b1-4b36-b323-2b5a0d9b5762",
   "metadata": {
    "tags": []
   },
   "outputs": [
    {
     "data": {
      "text/plain": [
       "[<matplotlib.lines.Line2D at 0x1c9543700>]"
      ]
     },
     "execution_count": 61,
     "metadata": {},
     "output_type": "execute_result"
    },
    {
     "data": {
      "image/png": "[encoded data removed]",
      "text/plain": [
       "<Figure size 640x480 with 1 Axes>"
      ]
     },
     "metadata": {},
     "output_type": "display_data"
    }
   ],
   "source": [
    "plt.plot(lambda_par_pred_train.detach().numpy(), 'o')"
   ]
  },
  {
   "cell_type": "code",
   "execution_count": 21,
   "id": "3308a0dd-bf5e-4ed3-a94f-80689778bc18",
   "metadata": {},
   "outputs": [
    {
     "data": {
      "text/plain": [
       "tensor(0.1000, grad_fn=<MinBackward1>)"
      ]
     },
     "execution_count": 21,
     "metadata": {},
     "output_type": "execute_result"
    }
   ],
   "source": [
    "torch.min(lambda_par_pred_train)"
   ]
  },
  {
   "cell_type": "code",
   "execution_count": 22,
   "id": "c413c0f0-861a-40f8-8dd7-75a1530d9735",
   "metadata": {},
   "outputs": [
    {
     "data": {
      "text/plain": [
       "tensor(3., grad_fn=<MaxBackward1>)"
      ]
     },
     "execution_count": 22,
     "metadata": {},
     "output_type": "execute_result"
    }
   ],
   "source": [
    "torch.max(lambda_par_pred_train)"
   ]
  },
  {
   "cell_type": "code",
   "execution_count": null,
   "id": "3c46d397-7eee-4d8a-83b9-40e0b582f3c7",
   "metadata": {},
   "outputs": [],
   "source": []
  },
  {
   "cell_type": "code",
   "execution_count": null,
   "id": "67a85b22-ebf6-4694-8d55-ad488d522060",
   "metadata": {},
   "outputs": [],
   "source": []
  },
  {
   "cell_type": "code",
   "execution_count": null,
   "id": "bd7af24e-1326-4a43-afc8-e2908351f888",
   "metadata": {},
   "outputs": [],
   "source": []
  },
  {
   "cell_type": "code",
   "execution_count": null,
   "id": "22a1af14-ec36-4ba3-9608-260202fb41c9",
   "metadata": {},
   "outputs": [],
   "source": []
  },
  {
   "cell_type": "code",
   "execution_count": null,
   "id": "6d71afe4-a5d8-4db1-a5a5-e124aaebe191",
   "metadata": {},
   "outputs": [],
   "source": []
  },
  {
   "cell_type": "markdown",
   "id": "bd636a4f-1cc7-45c7-a1f3-33dab89c5be9",
   "metadata": {},
   "source": [
    "## Parameter maps"
   ]
  },
  {
   "cell_type": "code",
   "execution_count": 105,
   "id": "fe32741b-8800-49d1-9225-74440a5cc35e",
   "metadata": {},
   "outputs": [
    {
     "name": "stdout",
     "output_type": "stream",
     "text": [
      "torch.Size([935442, 288])\n",
      "(935442, 288)\n"
     ]
    }
   ],
   "source": [
    "print(X_pred_train.shape)\n",
    "print(normalized_scan_100206.shape)"
   ]
  },
  {
   "cell_type": "code",
   "execution_count": 108,
   "id": "f4ae4405-3e38-4ad7-ac6c-df99ba598831",
   "metadata": {},
   "outputs": [
    {
     "data": {
      "text/plain": [
       "torch.Size([935442, 1])"
      ]
     },
     "execution_count": 108,
     "metadata": {},
     "output_type": "execute_result"
    }
   ],
   "source": [
    "lambda_par_pred_train.shape"
   ]
  },
  {
   "cell_type": "code",
   "execution_count": 127,
   "id": "f48d7f92-3aa7-4578-aad7-be3da7befb5d",
   "metadata": {},
   "outputs": [
    {
     "data": {
      "text/plain": [
       "(3658350, 1)"
      ]
     },
     "execution_count": 127,
     "metadata": {},
     "output_type": "execute_result"
    }
   ],
   "source": [
    "mask_100206_long_pro.shape"
   ]
  },
  {
   "cell_type": "code",
   "execution_count": 111,
   "id": "70b8f03d-f1d1-40db-b738-55313c7cc11a",
   "metadata": {},
   "outputs": [
    {
     "data": {
      "text/plain": [
       "(3658350, 288)"
      ]
     },
     "execution_count": 111,
     "metadata": {},
     "output_type": "execute_result"
    }
   ],
   "source": [
    "scan_100206_long.shape"
   ]
  },
  {
   "cell_type": "code",
   "execution_count": 115,
   "id": "fcf1fd2c-ae83-4a19-afb9-f300b801fbaf",
   "metadata": {},
   "outputs": [],
   "source": [
    "bg_indices = np.where(mask_100206_long_pro == 0)[0]"
   ]
  },
  {
   "cell_type": "code",
   "execution_count": 121,
   "id": "cf3ed0a7-890f-4e77-bf7d-4f34660ba05f",
   "metadata": {},
   "outputs": [],
   "source": [
    "lambda_par_pred_train_cp = np.copy(lambda_par_pred_train.detach().numpy())"
   ]
  },
  {
   "cell_type": "code",
   "execution_count": null,
   "id": "d561695a-5fc2-45bd-aa02-b684c159bb19",
   "metadata": {},
   "outputs": [],
   "source": []
  },
  {
   "cell_type": "code",
   "execution_count": null,
   "id": "3570c459-2cd4-41fd-9b80-6541b82c011b",
   "metadata": {},
   "outputs": [],
   "source": [
    "def replace_ones(mask_100206, params):\n",
    "    mask_100206_cp = np.copy(mask_100206)\n",
    "    bg_indices = np.where(mask_100206_cp == 1)[0]\n",
    "    for i, index in enumerate(bg_indices):\n",
    "        mask_100206_cp[index] = params[i]\n",
    "    return mask_100206_cp"
   ]
  },
  {
   "cell_type": "code",
   "execution_count": null,
   "id": "7914cdf2-5a33-4bf9-8790-7759733419a9",
   "metadata": {},
   "outputs": [],
   "source": []
  },
  {
   "cell_type": "code",
   "execution_count": null,
   "id": "381a6b63-2a2e-468c-b1b9-aa0c658fbe4b",
   "metadata": {},
   "outputs": [],
   "source": []
  },
  {
   "cell_type": "code",
   "execution_count": null,
   "id": "2dfae08c-4de2-4f7b-bd59-0c92811091e3",
   "metadata": {},
   "outputs": [],
   "source": []
  },
  {
   "cell_type": "code",
   "execution_count": null,
   "id": "267077d4-1ce8-4af2-b18f-b311d0eebe5d",
   "metadata": {},
   "outputs": [],
   "source": []
  },
  {
   "cell_type": "code",
   "execution_count": null,
   "id": "560ad2f7-a635-4308-bd93-446fe8359126",
   "metadata": {},
   "outputs": [],
   "source": []
  },
  {
   "cell_type": "code",
   "execution_count": null,
   "id": "1ebe1dce-a78e-46d8-98c5-01f304182cd3",
   "metadata": {},
   "outputs": [],
   "source": []
  },
  {
   "cell_type": "code",
   "execution_count": null,
   "id": "ebc61159-41ac-465d-8f37-9ace30ca2d16",
   "metadata": {},
   "outputs": [],
   "source": []
  },
  {
   "cell_type": "code",
   "execution_count": null,
   "id": "452eba0d-d274-4a67-a09d-eacc0dfd7d6b",
   "metadata": {},
   "outputs": [],
   "source": []
  },
  {
   "cell_type": "code",
   "execution_count": null,
   "id": "e2389e95-7e39-48d2-bdc4-db6b0a7873f9",
   "metadata": {},
   "outputs": [],
   "source": []
  },
  {
   "cell_type": "code",
   "execution_count": null,
   "id": "4b181917-0399-49fd-b3dc-30741b99eea3",
   "metadata": {},
   "outputs": [],
   "source": []
  },
  {
   "cell_type": "code",
   "execution_count": null,
   "id": "7555d56c-2e24-491b-a9c9-2132ecf04066",
   "metadata": {},
   "outputs": [],
   "source": []
  },
  {
   "cell_type": "code",
   "execution_count": null,
   "id": "c339c3a3-9e4c-4261-9387-320d4d781350",
   "metadata": {},
   "outputs": [],
   "source": []
  },
  {
   "cell_type": "code",
   "execution_count": null,
   "id": "19436347-7e1c-46a9-850e-5d8b2d81a0e0",
   "metadata": {},
   "outputs": [],
   "source": []
  },
  {
   "cell_type": "code",
   "execution_count": null,
   "id": "6685aea8-cbca-425f-8013-79b85ef8b961",
   "metadata": {},
   "outputs": [],
   "source": []
  }
 ],
 "metadata": {
  "kernelspec": {
   "display_name": "Python 3 (ipykernel)",
   "language": "python",
   "name": "python3"
  },
  "language_info": {
   "codemirror_mode": {
    "name": "ipython",
    "version": 3
   },
   "file_extension": ".py",
   "mimetype": "text/x-python",
   "name": "python",
   "nbconvert_exporter": "python",
   "pygments_lexer": "ipython3",
   "version": "3.10.8"
  }
 },
 "nbformat": 4,
 "nbformat_minor": 5
}
