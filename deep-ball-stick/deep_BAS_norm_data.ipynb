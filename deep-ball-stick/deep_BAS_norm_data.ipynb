{
 "cells": [
  {
   "cell_type": "code",
   "execution_count": 1,
   "id": "9a1f15d8-777c-4b6d-ab68-044962923b7b",
   "metadata": {},
   "outputs": [],
   "source": [
    "import nibabel as nib\n",
    "import numpy as np\n",
    "\n",
    "from dmipy.core.acquisition_scheme import acquisition_scheme_from_bvalues\n",
    "from dmipy.signal_models import cylinder_models, gaussian_models\n",
    "from dmipy.core.modeling_framework import MultiCompartmentModel\n",
    "\n",
    "import matplotlib.pyplot as plt\n",
    "\n",
    "import config\n",
    "import torch\n",
    "import torch.nn as nn\n",
    "import torch.optim as optim\n",
    "import torch.utils.data as utils\n",
    "from tqdm import tqdm\n",
    "\n",
    "import process_data"
   ]
  },
  {
   "cell_type": "markdown",
   "id": "fc763dc9-883f-4b88-a96b-9ec958c23902",
   "metadata": {},
   "source": [
    "## Training data"
   ]
  },
  {
   "cell_type": "code",
   "execution_count": 49,
   "id": "870e59c4-5854-4fa2-97f5-11257bca6240",
   "metadata": {},
   "outputs": [],
   "source": [
    "scan_100206 = process_data.get_nifti_data(config.data_folder2 + '/100206/data.nii.gz')\n",
    "mask_100206 = process_data.get_nifti_data(config.data_folder2 + '/100206/nodif_brain_mask.nii.gz')"
   ]
  },
  {
   "cell_type": "code",
   "execution_count": 50,
   "id": "99a1617b-b5ca-4c89-9850-c3912d186b3c",
   "metadata": {},
   "outputs": [],
   "source": [
    "scan_dimension = scan_100206.shape\n",
    "x = scan_dimension[0]\n",
    "y = scan_dimension[1]\n",
    "z = scan_dimension[2]\n",
    "b = scan_dimension[3]"
   ]
  },
  {
   "cell_type": "code",
   "execution_count": 51,
   "id": "21ae59ca-3223-419f-bf41-b1abc6c0034b",
   "metadata": {},
   "outputs": [],
   "source": [
    "scan_100206_long = np.reshape(scan_100206, (x*y*z, b))\n",
    "\n",
    "mask_100206_long = np.reshape(mask_100206, (x*y*z, 1))"
   ]
  },
  {
   "cell_type": "code",
   "execution_count": 52,
   "id": "10bcb4fa-bb6c-4b01-b195-1243ddbfb12f",
   "metadata": {},
   "outputs": [],
   "source": [
    "# Error voxels\n",
    "indices_beginning_0_all = np.where(scan_100206_long[:, 0] == 0)[0]"
   ]
  },
  {
   "cell_type": "code",
   "execution_count": 53,
   "id": "5b1f2036-e310-4a39-95dd-70d6bfd804bb",
   "metadata": {},
   "outputs": [],
   "source": [
    "mask_100206_long_pro = np.copy(mask_100206_long)\n",
    "mask_100206_long_pro[indices_beginning_0_all] = 0"
   ]
  },
  {
   "cell_type": "code",
   "execution_count": 54,
   "id": "1308b945-e722-4862-bc12-eb3218b8960a",
   "metadata": {},
   "outputs": [],
   "source": [
    "scan_100206_long_no_background = process_data.remove_background(scan_100206_long, mask_100206_long_pro)"
   ]
  },
  {
   "cell_type": "code",
   "execution_count": 55,
   "id": "1a491704-5e00-495d-affb-633dbb397aa4",
   "metadata": {},
   "outputs": [],
   "source": [
    "bvals_all_100206 = np.loadtxt(config.data_folder2 + '/100206/bvals') * 1e-3"
   ]
  },
  {
   "cell_type": "code",
   "execution_count": 57,
   "id": "61e07907-ed0b-456c-a491-1b1a9ebbe98f",
   "metadata": {},
   "outputs": [],
   "source": [
    "S0_100206 = process_data.get_S0(scan_100206_long_no_background, bvals_all_100206)"
   ]
  },
  {
   "cell_type": "code",
   "execution_count": 58,
   "id": "08df623c-c0f8-4050-9132-57491ef28648",
   "metadata": {},
   "outputs": [],
   "source": [
    "normalized_scan_100206 = scan_100206_long_no_background / S0_100206"
   ]
  },
  {
   "cell_type": "code",
   "execution_count": 16,
   "id": "475e960a-8940-4127-8086-03dfd5954782",
   "metadata": {},
   "outputs": [
    {
     "data": {
      "text/plain": [
       "609"
      ]
     },
     "execution_count": 16,
     "metadata": {},
     "output_type": "execute_result"
    }
   ],
   "source": [
    "len(np.where(S0_100206 < 100)[0])"
   ]
  },
  {
   "cell_type": "code",
   "execution_count": 59,
   "id": "57a1f72b-2602-4dc4-9fc9-c8f03fd635c1",
   "metadata": {},
   "outputs": [],
   "source": [
    "big_b_indices_100206 = np.where(bvals_all_100206 != 0.005)[0]"
   ]
  },
  {
   "cell_type": "code",
   "execution_count": 60,
   "id": "881758ab-2790-4ca8-b895-d4304127b96b",
   "metadata": {},
   "outputs": [],
   "source": [
    "bvals_100206 = bvals_all_100206[big_b_indices_100206]"
   ]
  },
  {
   "cell_type": "code",
   "execution_count": 61,
   "id": "a2b2ded3-ad47-4e5c-8066-842c8bc6c430",
   "metadata": {},
   "outputs": [],
   "source": [
    "normalized_scan_100206_no_b5 = normalized_scan_100206[:, big_b_indices_100206]"
   ]
  },
  {
   "cell_type": "code",
   "execution_count": 62,
   "id": "1c42fe8f-aff3-4f2f-a459-9ce6dedb36ac",
   "metadata": {},
   "outputs": [
    {
     "data": {
      "text/plain": [
       "(935442, 270)"
      ]
     },
     "execution_count": 62,
     "metadata": {},
     "output_type": "execute_result"
    }
   ],
   "source": [
    "normalized_scan_100206_no_b5.shape"
   ]
  },
  {
   "cell_type": "code",
   "execution_count": 21,
   "id": "cfa044a0-4d00-4be2-9041-5b155ff5f8e4",
   "metadata": {},
   "outputs": [
    {
     "data": {
      "text/plain": [
       "[<matplotlib.lines.Line2D at 0x1c3351900>]"
      ]
     },
     "execution_count": 21,
     "metadata": {},
     "output_type": "execute_result"
    },
    {
     "data": {
      "image/png": "[encoded data removed]",
      "text/plain": [
       "<Figure size 640x480 with 1 Axes>"
      ]
     },
     "metadata": {},
     "output_type": "display_data"
    }
   ],
   "source": [
    "plt.plot(bvals, normalized_scan_100206_no_b5[1565,:], \"o\")"
   ]
  },
  {
   "cell_type": "code",
   "execution_count": 46,
   "id": "329b6dcb-25a0-446d-9375-257659f72ca0",
   "metadata": {},
   "outputs": [],
   "source": [
    "np.save(\"normalized_scan_100206_no_b5.npy\",normalized_scan_100206_no_b5)"
   ]
  },
  {
   "cell_type": "code",
   "execution_count": 2,
   "id": "e9ffd63b-823b-415b-9512-fe77c1345677",
   "metadata": {},
   "outputs": [],
   "source": [
    "normalized_scan_100206_no_b5 = np.load(\"/Users/weiwenhua/UGY4/COMP0029/COMP0029-Project/deep-ball-stick/normalised_data/normalized_scan_100206_no_b5.npy\")"
   ]
  },
  {
   "cell_type": "markdown",
   "id": "089845d3-1f18-45d0-ae70-c03a2cc569bb",
   "metadata": {},
   "source": [
    "## Neural Network"
   ]
  },
  {
   "cell_type": "code",
   "execution_count": 24,
   "id": "491e2902-3bef-4960-bc90-31895a64a68b",
   "metadata": {},
   "outputs": [],
   "source": [
    "def squash(param, p_min, p_max):\n",
    "    squashed_param_tensor =torch.clamp(param, min=p_min, max=p_max)\n",
    "    unsqueezed_param = squashed_param_tensor.unsqueeze(1)\n",
    "    return unsqueezed_param"
   ]
  },
  {
   "cell_type": "code",
   "execution_count": 25,
   "id": "66091626-7c08-4428-9aaf-745854d3b614",
   "metadata": {},
   "outputs": [],
   "source": [
    "def unitsphere2cart(theta, phi, X):\n",
    "    mu_cart = torch.zeros(3,X.size()[0])\n",
    "    sintheta = torch.sin(theta)\n",
    "    mu_cart[0,:] = torch.squeeze(sintheta * torch.cos(phi))\n",
    "    mu_cart[1,:] = torch.squeeze(sintheta * torch.sin(phi))\n",
    "    mu_cart[2,:] = torch.squeeze(torch.cos(theta))\n",
    "    return mu_cart"
   ]
  },
  {
   "cell_type": "code",
   "execution_count": 26,
   "id": "cee5c180-02c9-47e3-b679-02d885372be2",
   "metadata": {},
   "outputs": [],
   "source": [
    "class BallStickNet(nn.Module):\n",
    "    \n",
    "    def __init__(self, gradient_directions, b_values):\n",
    "        super(BallStickNet, self).__init__()\n",
    "        self.gradient_directions = gradient_directions\n",
    "        self.b_values = b_values\n",
    "        self.fc_layers = nn.ModuleList()\n",
    "        for i in range(3): \n",
    "            self.fc_layers.extend([nn.Linear(len(b_values), len(b_values)), nn.ELU()])\n",
    "        self.encoder = nn.Sequential(*self.fc_layers, nn.Linear(len(b_values), 5))\n",
    "        # if args.dropout != 0:\n",
    "        #     self.dropout = nn.Dropout(args.dropout)\n",
    "            \n",
    "    def forward(self, X):\n",
    "        # if args.dropout != 0:\n",
    "        #     X = self.dropout(X)\n",
    "        params = torch.abs(self.encoder(X))\n",
    "        theta_uns = params[:, 0]\n",
    "        theta = theta_uns.unsqueeze(1)\n",
    "        phi_uns = params[:, 1]\n",
    "        phi = phi_uns.unsqueeze(1)\n",
    "        mu_cart = unitsphere2cart(theta, phi, X)\n",
    "        mm_prod =  torch.einsum(\"ij,jk->ki\",self.gradient_directions, mu_cart)\n",
    "        lambda_par_uns = params[:, 2]\n",
    "        lambda_par = squash(lambda_par_uns, 0.1, 3.0)\n",
    "        lambda_iso_uns = params[:, 3]\n",
    "        lambda_iso = squash(lambda_iso_uns, 0.1, 3.0)\n",
    "        volume_0_uns = params[:, 4]\n",
    "        volume_0 = squash(volume_0_uns, 0.01, 0.99)\n",
    "        volume_1 = 1-volume_0\n",
    "        S0 =params[:, 5]\n",
    "        X = S0 * (volume_0 * torch.exp(-self.b_values * lambda_par * mm_prod ** 2) + volume_1 * torch.exp(-self.b_values * lambda_iso))\n",
    "        return X, mu_cart, lambda_par, lambda_iso, volume_0, volume_1"
   ]
  },
  {
   "cell_type": "code",
   "execution_count": 41,
   "id": "06949f47-38cb-4f95-abfe-83ced0d51b86",
   "metadata": {},
   "outputs": [
    {
     "name": "stdout",
     "output_type": "stream",
     "text": [
      "(270, 3)\n"
     ]
    }
   ],
   "source": [
    "n_all_100206 = np.loadtxt(config.data_folder2 + '/100206/bvecs')\n",
    "n_100206 = n_all_100206[:,big_b_indices_100206].T\n",
    "print(n_100206.shape)\n",
    "\n",
    "b_values_100206 = torch.FloatTensor(bvals_100206)\n",
    "gradient_directions_100206 = torch.FloatTensor(n_100206)\n",
    "\n",
    "net = BallStickNet(gradient_directions_100206, b_values_100206)\n",
    "\n",
    "criterion = nn.MSELoss()\n",
    "optimizer = optim.Adam(net.parameters(), lr = 0.00001)"
   ]
  },
  {
   "cell_type": "code",
   "execution_count": 42,
   "id": "af644d8f-63a8-4ac9-9c59-1144a22b814b",
   "metadata": {},
   "outputs": [],
   "source": [
    "batch_size = 128\n",
    "num_batches = len(normalized_scan_100206_no_b5) // batch_size\n",
    "trainloader = utils.DataLoader(torch.from_numpy(normalized_scan_100206_no_b5.astype(np.float32)),\n",
    "                            batch_size = batch_size, \n",
    "                            shuffle = True,\n",
    "                            num_workers = 2,\n",
    "                            drop_last = True)"
   ]
  },
  {
   "cell_type": "code",
   "execution_count": 43,
   "id": "1b7a2f2d-9e66-456f-806a-f7893904a226",
   "metadata": {
    "collapsed": true,
    "jupyter": {
     "outputs_hidden": true
    },
    "tags": []
   },
   "outputs": [
    {
     "name": "stdout",
     "output_type": "stream",
     "text": [
      "-----------------------------------------------------------------\n",
      "Epoch: 0; Bad epochs: 0\n"
     ]
    },
    {
     "name": "stderr",
     "output_type": "stream",
     "text": [
      "100%|██████████████████████████████████████████████████████████| 7308/7308 [01:38<00:00, 74.40it/s]\n"
     ]
    },
    {
     "name": "stdout",
     "output_type": "stream",
     "text": [
      "Loss: 1478.4545322875492\n",
      "Average Loss: 0.20230631257355627\n",
      "############### Saving good model ###############################\n",
      "-----------------------------------------------------------------\n",
      "Epoch: 1; Bad epochs: 0\n"
     ]
    },
    {
     "name": "stderr",
     "output_type": "stream",
     "text": [
      "100%|██████████████████████████████████████████████████████████| 7308/7308 [01:48<00:00, 67.36it/s]\n"
     ]
    },
    {
     "name": "stdout",
     "output_type": "stream",
     "text": [
      "Loss: 427.47736691311\n",
      "Average Loss: 0.058494439916955396\n",
      "############### Saving good model ###############################\n",
      "-----------------------------------------------------------------\n",
      "Epoch: 2; Bad epochs: 0\n"
     ]
    },
    {
     "name": "stderr",
     "output_type": "stream",
     "text": [
      "100%|██████████████████████████████████████████████████████████| 7308/7308 [01:55<00:00, 63.32it/s]\n"
     ]
    },
    {
     "name": "stdout",
     "output_type": "stream",
     "text": [
      "Loss: 424.3274536007084\n",
      "Average Loss: 0.058063417296210784\n",
      "############### Saving good model ###############################\n",
      "-----------------------------------------------------------------\n",
      "Epoch: 3; Bad epochs: 0\n"
     ]
    },
    {
     "name": "stderr",
     "output_type": "stream",
     "text": [
      "100%|██████████████████████████████████████████████████████████| 7308/7308 [02:06<00:00, 57.71it/s]\n"
     ]
    },
    {
     "name": "stdout",
     "output_type": "stream",
     "text": [
      "Loss: 422.27268549986184\n",
      "Average Loss: 0.057782250342071954\n",
      "############### Saving good model ###############################\n",
      "-----------------------------------------------------------------\n",
      "Epoch: 4; Bad epochs: 0\n"
     ]
    },
    {
     "name": "stderr",
     "output_type": "stream",
     "text": [
      "100%|██████████████████████████████████████████████████████████| 7308/7308 [02:02<00:00, 59.55it/s]\n"
     ]
    },
    {
     "name": "stdout",
     "output_type": "stream",
     "text": [
      "Loss: 422.39098119409755\n",
      "Average Loss: 0.057798437492350516\n",
      "-----------------------------------------------------------------\n",
      "Epoch: 5; Bad epochs: 1\n"
     ]
    },
    {
     "name": "stderr",
     "output_type": "stream",
     "text": [
      "100%|██████████████████████████████████████████████████████████| 7308/7308 [01:52<00:00, 64.79it/s]\n"
     ]
    },
    {
     "name": "stdout",
     "output_type": "stream",
     "text": [
      "Loss: 421.2576895994134\n",
      "Average Loss: 0.05764336201415071\n",
      "############### Saving good model ###############################\n",
      "-----------------------------------------------------------------\n",
      "Epoch: 6; Bad epochs: 0\n"
     ]
    },
    {
     "name": "stderr",
     "output_type": "stream",
     "text": [
      "100%|██████████████████████████████████████████████████████████| 7308/7308 [01:17<00:00, 94.76it/s]\n"
     ]
    },
    {
     "name": "stdout",
     "output_type": "stream",
     "text": [
      "Loss: 421.109392802231\n",
      "Average Loss: 0.057623069622636976\n",
      "############### Saving good model ###############################\n",
      "-----------------------------------------------------------------\n",
      "Epoch: 7; Bad epochs: 0\n"
     ]
    },
    {
     "name": "stderr",
     "output_type": "stream",
     "text": [
      "100%|██████████████████████████████████████████████████████████| 7308/7308 [01:13<00:00, 99.83it/s]\n"
     ]
    },
    {
     "name": "stdout",
     "output_type": "stream",
     "text": [
      "Loss: 420.4216143595986\n",
      "Average Loss: 0.05752895653524885\n",
      "############### Saving good model ###############################\n",
      "-----------------------------------------------------------------\n",
      "Epoch: 8; Bad epochs: 0\n"
     ]
    },
    {
     "name": "stderr",
     "output_type": "stream",
     "text": [
      "100%|█████████████████████████████████████████████████████████| 7308/7308 [01:10<00:00, 103.51it/s]\n"
     ]
    },
    {
     "name": "stdout",
     "output_type": "stream",
     "text": [
      "Loss: 420.153600981459\n",
      "Average Loss: 0.05749228256451273\n",
      "############### Saving good model ###############################\n",
      "-----------------------------------------------------------------\n",
      "Epoch: 9; Bad epochs: 0\n"
     ]
    },
    {
     "name": "stderr",
     "output_type": "stream",
     "text": [
      "100%|█████████████████████████████████████████████████████████| 7308/7308 [01:07<00:00, 107.70it/s]\n"
     ]
    },
    {
     "name": "stdout",
     "output_type": "stream",
     "text": [
      "Loss: 419.7648778408766\n",
      "Average Loss: 0.05743909111123106\n",
      "############### Saving good model ###############################\n",
      "-----------------------------------------------------------------\n",
      "Epoch: 10; Bad epochs: 0\n"
     ]
    },
    {
     "name": "stderr",
     "output_type": "stream",
     "text": [
      "  2%|▉                                                         | 116/7308 [00:04<01:11, 101.06it/s]"
     ]
    },
    {
     "name": "stdout",
     "output_type": "stream",
     "text": [
      "X_batch: \n",
      "torch.Size([128, 270])\n",
      "tensor([[0.4030, 0.3139, 0.2764,  ..., 0.5451, 0.4096, 0.3128],\n",
      "        [0.2946, 0.0903, 0.1469,  ..., 0.2539, 0.1585, 0.1603],\n",
      "        [0.4869, 0.3587, 0.0681,  ..., 0.4843, 0.2886, 0.2884],\n",
      "        ...,\n",
      "        [0.3778, 0.1346, 0.2162,  ..., 0.2939, 0.2727, 0.2480],\n",
      "        [0.5772, 0.1821, 0.2527,  ..., 0.5821, 0.2548, 0.1834],\n",
      "        [0.4033, 0.2069, 0.1400,  ..., 0.4021, 0.2098, 0.1304]])\n",
      "X_pred: \n",
      "torch.Size([128, 270])\n",
      "tensor([[0.5007, 0.3318, 0.2298,  ..., 0.4871, 0.3381, 0.2558],\n",
      "        [0.2791, 0.1376, 0.0961,  ..., 0.2686, 0.1416, 0.0990],\n",
      "        [0.4907, 0.2846, 0.1824,  ..., 0.4758, 0.2905, 0.1879],\n",
      "        ...,\n",
      "        [0.4290, 0.2467, 0.1701,  ..., 0.4128, 0.2525, 0.1728],\n",
      "        [0.4731, 0.2634, 0.1689,  ..., 0.4599, 0.2675, 0.1680],\n",
      "        [0.4105, 0.2016, 0.1220,  ..., 0.4021, 0.2015, 0.1186]],\n",
      "       grad_fn=<AddBackward0>)\n"
     ]
    },
    {
     "name": "stderr",
     "output_type": "stream",
     "text": [
      "100%|█████████████████████████████████████████████████████████| 7308/7308 [01:05<00:00, 111.26it/s]\n"
     ]
    },
    {
     "name": "stdout",
     "output_type": "stream",
     "text": [
      "Loss: 419.74905825033784\n",
      "Average Loss: 0.05743692641630239\n",
      "############### Saving good model ###############################\n",
      "-----------------------------------------------------------------\n",
      "Epoch: 11; Bad epochs: 0\n"
     ]
    },
    {
     "name": "stderr",
     "output_type": "stream",
     "text": [
      "100%|██████████████████████████████████████████████████████████| 7308/7308 [02:03<00:00, 59.05it/s]\n"
     ]
    },
    {
     "name": "stdout",
     "output_type": "stream",
     "text": [
      "Loss: 419.5813190820627\n",
      "Average Loss: 0.05741397360181482\n",
      "############### Saving good model ###############################\n",
      "-----------------------------------------------------------------\n",
      "Epoch: 12; Bad epochs: 0\n"
     ]
    },
    {
     "name": "stderr",
     "output_type": "stream",
     "text": [
      "100%|██████████████████████████████████████████████████████████| 7308/7308 [01:32<00:00, 79.35it/s]\n"
     ]
    },
    {
     "name": "stdout",
     "output_type": "stream",
     "text": [
      "Loss: 419.39017852861434\n",
      "Average Loss: 0.057387818627341866\n",
      "############### Saving good model ###############################\n",
      "-----------------------------------------------------------------\n",
      "Epoch: 13; Bad epochs: 0\n"
     ]
    },
    {
     "name": "stderr",
     "output_type": "stream",
     "text": [
      "100%|██████████████████████████████████████████████████████████| 7308/7308 [01:37<00:00, 74.60it/s]\n"
     ]
    },
    {
     "name": "stdout",
     "output_type": "stream",
     "text": [
      "Loss: 419.25262116640806\n",
      "Average Loss: 0.05736899578084401\n",
      "############### Saving good model ###############################\n",
      "-----------------------------------------------------------------\n",
      "Epoch: 14; Bad epochs: 0\n"
     ]
    },
    {
     "name": "stderr",
     "output_type": "stream",
     "text": [
      "100%|██████████████████████████████████████████████████████████| 7308/7308 [02:09<00:00, 56.51it/s]\n"
     ]
    },
    {
     "name": "stdout",
     "output_type": "stream",
     "text": [
      "Loss: 418.1849705004133\n",
      "Average Loss: 0.05722290236732531\n",
      "############### Saving good model ###############################\n",
      "-----------------------------------------------------------------\n",
      "Epoch: 15; Bad epochs: 0\n"
     ]
    },
    {
     "name": "stderr",
     "output_type": "stream",
     "text": [
      "100%|██████████████████████████████████████████████████████████| 7308/7308 [01:20<00:00, 90.32it/s]\n"
     ]
    },
    {
     "name": "stdout",
     "output_type": "stream",
     "text": [
      "Loss: 418.2162220112514\n",
      "Average Loss: 0.05722717870980451\n",
      "-----------------------------------------------------------------\n",
      "Epoch: 16; Bad epochs: 1\n"
     ]
    },
    {
     "name": "stderr",
     "output_type": "stream",
     "text": [
      "100%|██████████████████████████████████████████████████████████| 7308/7308 [01:35<00:00, 76.16it/s]\n"
     ]
    },
    {
     "name": "stdout",
     "output_type": "stream",
     "text": [
      "Loss: 418.27596349688247\n",
      "Average Loss: 0.05723535351626744\n",
      "-----------------------------------------------------------------\n",
      "Epoch: 17; Bad epochs: 2\n"
     ]
    },
    {
     "name": "stderr",
     "output_type": "stream",
     "text": [
      "100%|██████████████████████████████████████████████████████████| 7308/7308 [01:36<00:00, 75.69it/s]\n"
     ]
    },
    {
     "name": "stdout",
     "output_type": "stream",
     "text": [
      "Loss: 417.8259167233482\n",
      "Average Loss: 0.05717377076126823\n",
      "############### Saving good model ###############################\n",
      "-----------------------------------------------------------------\n",
      "Epoch: 18; Bad epochs: 0\n"
     ]
    },
    {
     "name": "stderr",
     "output_type": "stream",
     "text": [
      "100%|██████████████████████████████████████████████████████████| 7308/7308 [01:53<00:00, 64.47it/s]\n"
     ]
    },
    {
     "name": "stdout",
     "output_type": "stream",
     "text": [
      "Loss: 417.1382525311783\n",
      "Average Loss: 0.05707967330749566\n",
      "############### Saving good model ###############################\n",
      "-----------------------------------------------------------------\n",
      "Epoch: 19; Bad epochs: 0\n"
     ]
    },
    {
     "name": "stderr",
     "output_type": "stream",
     "text": [
      "100%|██████████████████████████████████████████████████████████| 7308/7308 [01:56<00:00, 62.47it/s]\n"
     ]
    },
    {
     "name": "stdout",
     "output_type": "stream",
     "text": [
      "Loss: 417.5920491050929\n",
      "Average Loss: 0.05714176917146865\n",
      "-----------------------------------------------------------------\n",
      "Epoch: 20; Bad epochs: 1\n"
     ]
    },
    {
     "name": "stderr",
     "output_type": "stream",
     "text": [
      "100%|█████████████████████████████████████████████████████████| 7308/7308 [01:05<00:00, 112.25it/s]\n"
     ]
    },
    {
     "name": "stdout",
     "output_type": "stream",
     "text": [
      "Loss: 417.314946468221\n",
      "Average Loss: 0.05710385145980036\n",
      "-----------------------------------------------------------------\n",
      "Epoch: 21; Bad epochs: 2\n"
     ]
    },
    {
     "name": "stderr",
     "output_type": "stream",
     "text": [
      "100%|█████████████████████████████████████████████████████████| 7308/7308 [00:47<00:00, 155.08it/s]\n"
     ]
    },
    {
     "name": "stdout",
     "output_type": "stream",
     "text": [
      "Loss: 416.83270876668394\n",
      "Average Loss: 0.05703786381591187\n",
      "############### Saving good model ###############################\n",
      "-----------------------------------------------------------------\n",
      "Epoch: 22; Bad epochs: 0\n"
     ]
    },
    {
     "name": "stderr",
     "output_type": "stream",
     "text": [
      "100%|█████████████████████████████████████████████████████████| 7308/7308 [00:42<00:00, 170.82it/s]\n"
     ]
    },
    {
     "name": "stdout",
     "output_type": "stream",
     "text": [
      "Loss: 417.1310349400155\n",
      "Average Loss: 0.05707868567871039\n",
      "-----------------------------------------------------------------\n",
      "Epoch: 23; Bad epochs: 1\n"
     ]
    },
    {
     "name": "stderr",
     "output_type": "stream",
     "text": [
      "100%|█████████████████████████████████████████████████████████| 7308/7308 [00:52<00:00, 139.29it/s]\n"
     ]
    },
    {
     "name": "stdout",
     "output_type": "stream",
     "text": [
      "Loss: 417.04212317359634\n",
      "Average Loss: 0.057066519317678754\n",
      "-----------------------------------------------------------------\n",
      "Epoch: 24; Bad epochs: 2\n"
     ]
    },
    {
     "name": "stderr",
     "output_type": "stream",
     "text": [
      "100%|█████████████████████████████████████████████████████████| 7308/7308 [00:45<00:00, 160.74it/s]\n"
     ]
    },
    {
     "name": "stdout",
     "output_type": "stream",
     "text": [
      "Loss: 416.5766711276956\n",
      "Average Loss: 0.0570028285615347\n",
      "############### Saving good model ###############################\n",
      "-----------------------------------------------------------------\n",
      "Epoch: 25; Bad epochs: 0\n"
     ]
    },
    {
     "name": "stderr",
     "output_type": "stream",
     "text": [
      "100%|█████████████████████████████████████████████████████████| 7308/7308 [00:47<00:00, 153.13it/s]\n"
     ]
    },
    {
     "name": "stdout",
     "output_type": "stream",
     "text": [
      "Loss: 416.5561063904315\n",
      "Average Loss: 0.057000014558077655\n",
      "############### Saving good model ###############################\n",
      "-----------------------------------------------------------------\n",
      "Epoch: 26; Bad epochs: 0\n"
     ]
    },
    {
     "name": "stderr",
     "output_type": "stream",
     "text": [
      "100%|█████████████████████████████████████████████████████████| 7308/7308 [00:45<00:00, 160.95it/s]\n"
     ]
    },
    {
     "name": "stdout",
     "output_type": "stream",
     "text": [
      "Loss: 416.3205171725713\n",
      "Average Loss: 0.05696777739088277\n",
      "############### Saving good model ###############################\n",
      "-----------------------------------------------------------------\n",
      "Epoch: 27; Bad epochs: 0\n"
     ]
    },
    {
     "name": "stderr",
     "output_type": "stream",
     "text": [
      "100%|█████████████████████████████████████████████████████████| 7308/7308 [00:45<00:00, 161.64it/s]\n"
     ]
    },
    {
     "name": "stdout",
     "output_type": "stream",
     "text": [
      "Loss: 416.9680324634537\n",
      "Average Loss: 0.05705638101579826\n",
      "-----------------------------------------------------------------\n",
      "Epoch: 28; Bad epochs: 1\n"
     ]
    },
    {
     "name": "stderr",
     "output_type": "stream",
     "text": [
      "100%|█████████████████████████████████████████████████████████| 7308/7308 [00:45<00:00, 160.83it/s]\n"
     ]
    },
    {
     "name": "stdout",
     "output_type": "stream",
     "text": [
      "Loss: 416.3820704042446\n",
      "Average Loss: 0.05697620011004989\n",
      "-----------------------------------------------------------------\n",
      "Epoch: 29; Bad epochs: 2\n"
     ]
    },
    {
     "name": "stderr",
     "output_type": "stream",
     "text": [
      "100%|█████████████████████████████████████████████████████████| 7308/7308 [00:45<00:00, 162.25it/s]\n"
     ]
    },
    {
     "name": "stdout",
     "output_type": "stream",
     "text": [
      "Loss: 416.4393284772523\n",
      "Average Loss: 0.056984035095409453\n",
      "-----------------------------------------------------------------\n",
      "Epoch: 30; Bad epochs: 3\n"
     ]
    },
    {
     "name": "stderr",
     "output_type": "stream",
     "text": [
      "100%|█████████████████████████████████████████████████████████| 7308/7308 [00:42<00:00, 170.83it/s]\n"
     ]
    },
    {
     "name": "stdout",
     "output_type": "stream",
     "text": [
      "Loss: 416.3072980600409\n",
      "Average Loss: 0.05696596853585672\n",
      "############### Saving good model ###############################\n",
      "-----------------------------------------------------------------\n",
      "Epoch: 31; Bad epochs: 0\n"
     ]
    },
    {
     "name": "stderr",
     "output_type": "stream",
     "text": [
      "100%|█████████████████████████████████████████████████████████| 7308/7308 [00:44<00:00, 164.25it/s]\n"
     ]
    },
    {
     "name": "stdout",
     "output_type": "stream",
     "text": [
      "Loss: 416.2425011321902\n",
      "Average Loss: 0.056957101961164505\n",
      "############### Saving good model ###############################\n",
      "-----------------------------------------------------------------\n",
      "Epoch: 32; Bad epochs: 0\n"
     ]
    },
    {
     "name": "stderr",
     "output_type": "stream",
     "text": [
      "100%|█████████████████████████████████████████████████████████| 7308/7308 [00:44<00:00, 164.64it/s]\n"
     ]
    },
    {
     "name": "stdout",
     "output_type": "stream",
     "text": [
      "Loss: 416.12437380850315\n",
      "Average Loss: 0.05694093785009622\n",
      "############### Saving good model ###############################\n",
      "-----------------------------------------------------------------\n",
      "Epoch: 33; Bad epochs: 0\n"
     ]
    },
    {
     "name": "stderr",
     "output_type": "stream",
     "text": [
      "100%|█████████████████████████████████████████████████████████| 7308/7308 [00:45<00:00, 162.00it/s]\n"
     ]
    },
    {
     "name": "stdout",
     "output_type": "stream",
     "text": [
      "Loss: 415.90284575498663\n",
      "Average Loss: 0.05691062476121875\n",
      "############### Saving good model ###############################\n",
      "-----------------------------------------------------------------\n",
      "Epoch: 34; Bad epochs: 0\n"
     ]
    },
    {
     "name": "stderr",
     "output_type": "stream",
     "text": [
      "100%|█████████████████████████████████████████████████████████| 7308/7308 [01:06<00:00, 109.27it/s]\n"
     ]
    },
    {
     "name": "stdout",
     "output_type": "stream",
     "text": [
      "Loss: 416.0885690995492\n",
      "Average Loss: 0.05693603846463454\n",
      "-----------------------------------------------------------------\n",
      "Epoch: 35; Bad epochs: 1\n"
     ]
    },
    {
     "name": "stderr",
     "output_type": "stream",
     "text": [
      "100%|█████████████████████████████████████████████████████████| 7308/7308 [01:05<00:00, 111.69it/s]\n"
     ]
    },
    {
     "name": "stdout",
     "output_type": "stream",
     "text": [
      "Loss: 415.541770366719\n",
      "Average Loss: 0.05686121652527627\n",
      "############### Saving good model ###############################\n",
      "-----------------------------------------------------------------\n",
      "Epoch: 36; Bad epochs: 0\n"
     ]
    },
    {
     "name": "stderr",
     "output_type": "stream",
     "text": [
      "100%|█████████████████████████████████████████████████████████| 7308/7308 [01:05<00:00, 110.97it/s]\n"
     ]
    },
    {
     "name": "stdout",
     "output_type": "stream",
     "text": [
      "Loss: 414.7646816682536\n",
      "Average Loss: 0.05675488254902211\n",
      "############### Saving good model ###############################\n",
      "-----------------------------------------------------------------\n",
      "Epoch: 37; Bad epochs: 0\n"
     ]
    },
    {
     "name": "stderr",
     "output_type": "stream",
     "text": [
      "100%|█████████████████████████████████████████████████████████| 7308/7308 [01:12<00:00, 101.44it/s]\n"
     ]
    },
    {
     "name": "stdout",
     "output_type": "stream",
     "text": [
      "Loss: 413.432866479503\n",
      "Average Loss: 0.05657264182806555\n",
      "############### Saving good model ###############################\n",
      "-----------------------------------------------------------------\n",
      "Epoch: 38; Bad epochs: 0\n"
     ]
    },
    {
     "name": "stderr",
     "output_type": "stream",
     "text": [
      "100%|██████████████████████████████████████████████████████████| 7308/7308 [01:38<00:00, 74.17it/s]\n"
     ]
    },
    {
     "name": "stdout",
     "output_type": "stream",
     "text": [
      "Loss: 411.6216190021951\n",
      "Average Loss: 0.0563247973456753\n",
      "############### Saving good model ###############################\n",
      "-----------------------------------------------------------------\n",
      "Epoch: 39; Bad epochs: 0\n"
     ]
    },
    {
     "name": "stderr",
     "output_type": "stream",
     "text": [
      "100%|██████████████████████████████████████████████████████████| 7308/7308 [01:39<00:00, 73.81it/s]\n"
     ]
    },
    {
     "name": "stdout",
     "output_type": "stream",
     "text": [
      "Loss: 411.557785615325\n",
      "Average Loss: 0.05631606261840791\n",
      "############### Saving good model ###############################\n",
      "-----------------------------------------------------------------\n",
      "Epoch: 40; Bad epochs: 0\n"
     ]
    },
    {
     "name": "stderr",
     "output_type": "stream",
     "text": [
      "100%|██████████████████████████████████████████████████████████| 7308/7308 [01:25<00:00, 85.43it/s]\n"
     ]
    },
    {
     "name": "stdout",
     "output_type": "stream",
     "text": [
      "Loss: 411.60975312558\n",
      "Average Loss: 0.05632317366250411\n",
      "-----------------------------------------------------------------\n",
      "Epoch: 41; Bad epochs: 1\n"
     ]
    },
    {
     "name": "stderr",
     "output_type": "stream",
     "text": [
      "100%|█████████████████████████████████████████████████████████| 7308/7308 [00:44<00:00, 162.80it/s]\n"
     ]
    },
    {
     "name": "stdout",
     "output_type": "stream",
     "text": [
      "Loss: 411.44472800404765\n",
      "Average Loss: 0.05630059222824954\n",
      "############### Saving good model ###############################\n",
      "-----------------------------------------------------------------\n",
      "Epoch: 42; Bad epochs: 0\n"
     ]
    },
    {
     "name": "stderr",
     "output_type": "stream",
     "text": [
      "100%|█████████████████████████████████████████████████████████| 7308/7308 [00:43<00:00, 169.91it/s]\n"
     ]
    },
    {
     "name": "stdout",
     "output_type": "stream",
     "text": [
      "Loss: 410.99108993960544\n",
      "Average Loss: 0.0562385180541332\n",
      "############### Saving good model ###############################\n",
      "-----------------------------------------------------------------\n",
      "Epoch: 43; Bad epochs: 0\n"
     ]
    },
    {
     "name": "stderr",
     "output_type": "stream",
     "text": [
      "100%|█████████████████████████████████████████████████████████| 7308/7308 [00:45<00:00, 162.22it/s]\n"
     ]
    },
    {
     "name": "stdout",
     "output_type": "stream",
     "text": [
      "Loss: 410.26014061807655\n",
      "Average Loss: 0.05613849762152115\n",
      "############### Saving good model ###############################\n",
      "-----------------------------------------------------------------\n",
      "Epoch: 44; Bad epochs: 0\n"
     ]
    },
    {
     "name": "stderr",
     "output_type": "stream",
     "text": [
      "100%|█████████████████████████████████████████████████████████| 7308/7308 [00:44<00:00, 165.53it/s]\n"
     ]
    },
    {
     "name": "stdout",
     "output_type": "stream",
     "text": [
      "Loss: 410.28762088739313\n",
      "Average Loss: 0.056142257921099226\n",
      "-----------------------------------------------------------------\n",
      "Epoch: 45; Bad epochs: 1\n"
     ]
    },
    {
     "name": "stderr",
     "output_type": "stream",
     "text": [
      "100%|█████████████████████████████████████████████████████████| 7308/7308 [00:42<00:00, 170.04it/s]\n"
     ]
    },
    {
     "name": "stdout",
     "output_type": "stream",
     "text": [
      "Loss: 409.6838169437833\n",
      "Average Loss: 0.05605963559712415\n",
      "############### Saving good model ###############################\n",
      "-----------------------------------------------------------------\n",
      "Epoch: 46; Bad epochs: 0\n"
     ]
    },
    {
     "name": "stderr",
     "output_type": "stream",
     "text": [
      "100%|█████████████████████████████████████████████████████████| 7308/7308 [00:43<00:00, 169.90it/s]\n"
     ]
    },
    {
     "name": "stdout",
     "output_type": "stream",
     "text": [
      "Loss: 409.3015610773582\n",
      "Average Loss: 0.05600732910199209\n",
      "############### Saving good model ###############################\n",
      "-----------------------------------------------------------------\n",
      "Epoch: 47; Bad epochs: 0\n"
     ]
    },
    {
     "name": "stderr",
     "output_type": "stream",
     "text": [
      "100%|█████████████████████████████████████████████████████████| 7308/7308 [00:43<00:00, 167.24it/s]\n"
     ]
    },
    {
     "name": "stdout",
     "output_type": "stream",
     "text": [
      "Loss: 409.6087374573108\n",
      "Average Loss: 0.05604936199470591\n",
      "-----------------------------------------------------------------\n",
      "Epoch: 48; Bad epochs: 1\n"
     ]
    },
    {
     "name": "stderr",
     "output_type": "stream",
     "text": [
      "100%|█████████████████████████████████████████████████████████| 7308/7308 [00:43<00:00, 168.32it/s]\n"
     ]
    },
    {
     "name": "stdout",
     "output_type": "stream",
     "text": [
      "Loss: 408.64334538555704\n",
      "Average Loss: 0.0559172612733384\n",
      "############### Saving good model ###############################\n",
      "-----------------------------------------------------------------\n",
      "Epoch: 49; Bad epochs: 0\n"
     ]
    },
    {
     "name": "stderr",
     "output_type": "stream",
     "text": [
      "100%|█████████████████████████████████████████████████████████| 7308/7308 [00:44<00:00, 166.00it/s]\n"
     ]
    },
    {
     "name": "stdout",
     "output_type": "stream",
     "text": [
      "Loss: 408.5801564573776\n",
      "Average Loss: 0.05590861473144192\n",
      "############### Saving good model ###############################\n",
      "-----------------------------------------------------------------\n",
      "Epoch: 50; Bad epochs: 0\n"
     ]
    },
    {
     "name": "stderr",
     "output_type": "stream",
     "text": [
      "100%|█████████████████████████████████████████████████████████| 7308/7308 [00:45<00:00, 162.19it/s]\n"
     ]
    },
    {
     "name": "stdout",
     "output_type": "stream",
     "text": [
      "Loss: 408.29335017409176\n",
      "Average Loss: 0.055869369208277474\n",
      "############### Saving good model ###############################\n",
      "-----------------------------------------------------------------\n",
      "Epoch: 51; Bad epochs: 0\n"
     ]
    },
    {
     "name": "stderr",
     "output_type": "stream",
     "text": [
      "100%|█████████████████████████████████████████████████████████| 7308/7308 [00:46<00:00, 158.79it/s]\n"
     ]
    },
    {
     "name": "stdout",
     "output_type": "stream",
     "text": [
      "Loss: 408.12866394012235\n",
      "Average Loss: 0.05584683414615796\n",
      "############### Saving good model ###############################\n",
      "-----------------------------------------------------------------\n",
      "Epoch: 52; Bad epochs: 0\n"
     ]
    },
    {
     "name": "stderr",
     "output_type": "stream",
     "text": [
      "100%|█████████████████████████████████████████████████████████| 7308/7308 [00:44<00:00, 163.44it/s]\n"
     ]
    },
    {
     "name": "stdout",
     "output_type": "stream",
     "text": [
      "Loss: 408.0314730829559\n",
      "Average Loss: 0.05583353490461904\n",
      "############### Saving good model ###############################\n",
      "-----------------------------------------------------------------\n",
      "Epoch: 53; Bad epochs: 0\n"
     ]
    },
    {
     "name": "stderr",
     "output_type": "stream",
     "text": [
      "100%|█████████████████████████████████████████████████████████| 7308/7308 [00:44<00:00, 165.80it/s]\n"
     ]
    },
    {
     "name": "stdout",
     "output_type": "stream",
     "text": [
      "Loss: 407.4816331237089\n",
      "Average Loss: 0.05575829681495743\n",
      "############### Saving good model ###############################\n",
      "-----------------------------------------------------------------\n",
      "Epoch: 54; Bad epochs: 0\n"
     ]
    },
    {
     "name": "stderr",
     "output_type": "stream",
     "text": [
      "100%|█████████████████████████████████████████████████████████| 7308/7308 [00:43<00:00, 169.63it/s]\n"
     ]
    },
    {
     "name": "stdout",
     "output_type": "stream",
     "text": [
      "Loss: 407.28749139024876\n",
      "Average Loss: 0.055731731169984776\n",
      "############### Saving good model ###############################\n",
      "-----------------------------------------------------------------\n",
      "Epoch: 55; Bad epochs: 0\n"
     ]
    },
    {
     "name": "stderr",
     "output_type": "stream",
     "text": [
      "100%|█████████████████████████████████████████████████████████| 7308/7308 [00:44<00:00, 164.63it/s]\n"
     ]
    },
    {
     "name": "stdout",
     "output_type": "stream",
     "text": [
      "Loss: 407.35710764769465\n",
      "Average Loss: 0.055741257204118044\n",
      "-----------------------------------------------------------------\n",
      "Epoch: 56; Bad epochs: 1\n"
     ]
    },
    {
     "name": "stderr",
     "output_type": "stream",
     "text": [
      "100%|█████████████████████████████████████████████████████████| 7308/7308 [00:44<00:00, 163.17it/s]\n"
     ]
    },
    {
     "name": "stdout",
     "output_type": "stream",
     "text": [
      "Loss: 407.02772586932406\n",
      "Average Loss: 0.05569618580587357\n",
      "############### Saving good model ###############################\n",
      "-----------------------------------------------------------------\n",
      "Epoch: 57; Bad epochs: 0\n"
     ]
    },
    {
     "name": "stderr",
     "output_type": "stream",
     "text": [
      "100%|█████████████████████████████████████████████████████████| 7308/7308 [00:43<00:00, 166.84it/s]\n"
     ]
    },
    {
     "name": "stdout",
     "output_type": "stream",
     "text": [
      "Loss: 407.1319781956263\n",
      "Average Loss: 0.055710451313030415\n",
      "-----------------------------------------------------------------\n",
      "Epoch: 58; Bad epochs: 1\n"
     ]
    },
    {
     "name": "stderr",
     "output_type": "stream",
     "text": [
      "100%|█████████████████████████████████████████████████████████| 7308/7308 [00:42<00:00, 171.68it/s]\n"
     ]
    },
    {
     "name": "stdout",
     "output_type": "stream",
     "text": [
      "Loss: 406.68361046235077\n",
      "Average Loss: 0.05564909831176119\n",
      "############### Saving good model ###############################\n",
      "-----------------------------------------------------------------\n",
      "Epoch: 59; Bad epochs: 0\n"
     ]
    },
    {
     "name": "stderr",
     "output_type": "stream",
     "text": [
      "100%|█████████████████████████████████████████████████████████| 7308/7308 [00:42<00:00, 172.19it/s]\n"
     ]
    },
    {
     "name": "stdout",
     "output_type": "stream",
     "text": [
      "Loss: 406.5504503173288\n",
      "Average Loss: 0.05563087716438544\n",
      "############### Saving good model ###############################\n",
      "-----------------------------------------------------------------\n",
      "Epoch: 60; Bad epochs: 0\n"
     ]
    },
    {
     "name": "stderr",
     "output_type": "stream",
     "text": [
      "100%|█████████████████████████████████████████████████████████| 7308/7308 [00:42<00:00, 171.91it/s]\n"
     ]
    },
    {
     "name": "stdout",
     "output_type": "stream",
     "text": [
      "Loss: 406.6118911628146\n",
      "Average Loss: 0.05563928450503757\n",
      "-----------------------------------------------------------------\n",
      "Epoch: 61; Bad epochs: 1\n"
     ]
    },
    {
     "name": "stderr",
     "output_type": "stream",
     "text": [
      "100%|█████████████████████████████████████████████████████████| 7308/7308 [00:46<00:00, 157.76it/s]\n"
     ]
    },
    {
     "name": "stdout",
     "output_type": "stream",
     "text": [
      "Loss: 406.2453605621122\n",
      "Average Loss: 0.05558912979777123\n",
      "############### Saving good model ###############################\n",
      "-----------------------------------------------------------------\n",
      "Epoch: 62; Bad epochs: 0\n"
     ]
    },
    {
     "name": "stderr",
     "output_type": "stream",
     "text": [
      "100%|█████████████████████████████████████████████████████████| 7308/7308 [00:43<00:00, 167.67it/s]\n"
     ]
    },
    {
     "name": "stdout",
     "output_type": "stream",
     "text": [
      "Loss: 406.51789843221195\n",
      "Average Loss: 0.05562642288344444\n",
      "-----------------------------------------------------------------\n",
      "Epoch: 63; Bad epochs: 1\n"
     ]
    },
    {
     "name": "stderr",
     "output_type": "stream",
     "text": [
      "100%|█████████████████████████████████████████████████████████| 7308/7308 [00:42<00:00, 170.08it/s]\n"
     ]
    },
    {
     "name": "stdout",
     "output_type": "stream",
     "text": [
      "Loss: 406.1299320019316\n",
      "Average Loss: 0.05557333497563377\n",
      "############### Saving good model ###############################\n",
      "-----------------------------------------------------------------\n",
      "Epoch: 64; Bad epochs: 0\n"
     ]
    },
    {
     "name": "stderr",
     "output_type": "stream",
     "text": [
      "100%|█████████████████████████████████████████████████████████| 7308/7308 [00:43<00:00, 168.27it/s]\n"
     ]
    },
    {
     "name": "stdout",
     "output_type": "stream",
     "text": [
      "Loss: 406.0802016837988\n",
      "Average Loss: 0.05556653006072781\n",
      "############### Saving good model ###############################\n",
      "-----------------------------------------------------------------\n",
      "Epoch: 65; Bad epochs: 0\n"
     ]
    },
    {
     "name": "stderr",
     "output_type": "stream",
     "text": [
      "100%|█████████████████████████████████████████████████████████| 7308/7308 [00:43<00:00, 167.44it/s]\n"
     ]
    },
    {
     "name": "stdout",
     "output_type": "stream",
     "text": [
      "Loss: 405.8621807731688\n",
      "Average Loss: 0.05553669687645988\n",
      "############### Saving good model ###############################\n",
      "-----------------------------------------------------------------\n",
      "Epoch: 66; Bad epochs: 0\n"
     ]
    },
    {
     "name": "stderr",
     "output_type": "stream",
     "text": [
      "100%|█████████████████████████████████████████████████████████| 7308/7308 [00:42<00:00, 173.31it/s]\n"
     ]
    },
    {
     "name": "stdout",
     "output_type": "stream",
     "text": [
      "Loss: 406.01045940979384\n",
      "Average Loss: 0.05555698678294935\n",
      "-----------------------------------------------------------------\n",
      "Epoch: 67; Bad epochs: 1\n"
     ]
    },
    {
     "name": "stderr",
     "output_type": "stream",
     "text": [
      "100%|█████████████████████████████████████████████████████████| 7308/7308 [00:42<00:00, 171.62it/s]\n"
     ]
    },
    {
     "name": "stdout",
     "output_type": "stream",
     "text": [
      "Loss: 405.7771832605358\n",
      "Average Loss: 0.05552506612760479\n",
      "############### Saving good model ###############################\n",
      "-----------------------------------------------------------------\n",
      "Epoch: 68; Bad epochs: 0\n"
     ]
    },
    {
     "name": "stderr",
     "output_type": "stream",
     "text": [
      "100%|█████████████████████████████████████████████████████████| 7308/7308 [00:42<00:00, 173.76it/s]\n"
     ]
    },
    {
     "name": "stdout",
     "output_type": "stream",
     "text": [
      "Loss: 406.0681384957861\n",
      "Average Loss: 0.05556487937818639\n",
      "-----------------------------------------------------------------\n",
      "Epoch: 69; Bad epochs: 1\n"
     ]
    },
    {
     "name": "stderr",
     "output_type": "stream",
     "text": [
      "100%|█████████████████████████████████████████████████████████| 7308/7308 [00:45<00:00, 160.47it/s]\n"
     ]
    },
    {
     "name": "stdout",
     "output_type": "stream",
     "text": [
      "Loss: 405.3077189240139\n",
      "Average Loss: 0.05546082634428214\n",
      "############### Saving good model ###############################\n",
      "-----------------------------------------------------------------\n",
      "Epoch: 70; Bad epochs: 0\n"
     ]
    },
    {
     "name": "stderr",
     "output_type": "stream",
     "text": [
      "100%|█████████████████████████████████████████████████████████| 7308/7308 [00:43<00:00, 167.51it/s]\n"
     ]
    },
    {
     "name": "stdout",
     "output_type": "stream",
     "text": [
      "Loss: 405.6826576446183\n",
      "Average Loss: 0.05551213158793354\n",
      "-----------------------------------------------------------------\n",
      "Epoch: 71; Bad epochs: 1\n"
     ]
    },
    {
     "name": "stderr",
     "output_type": "stream",
     "text": [
      "100%|█████████████████████████████████████████████████████████| 7308/7308 [00:43<00:00, 168.74it/s]\n"
     ]
    },
    {
     "name": "stdout",
     "output_type": "stream",
     "text": [
      "Loss: 405.65283221472055\n",
      "Average Loss: 0.05550805038515607\n",
      "-----------------------------------------------------------------\n",
      "Epoch: 72; Bad epochs: 2\n"
     ]
    },
    {
     "name": "stderr",
     "output_type": "stream",
     "text": [
      "100%|█████████████████████████████████████████████████████████| 7308/7308 [00:42<00:00, 170.81it/s]\n"
     ]
    },
    {
     "name": "stdout",
     "output_type": "stream",
     "text": [
      "Loss: 405.2917866753414\n",
      "Average Loss: 0.05545864623362636\n",
      "############### Saving good model ###############################\n",
      "-----------------------------------------------------------------\n",
      "Epoch: 73; Bad epochs: 0\n"
     ]
    },
    {
     "name": "stderr",
     "output_type": "stream",
     "text": [
      "100%|█████████████████████████████████████████████████████████| 7308/7308 [00:42<00:00, 170.65it/s]\n"
     ]
    },
    {
     "name": "stdout",
     "output_type": "stream",
     "text": [
      "Loss: 406.10603932780214\n",
      "Average Loss: 0.055570065589463896\n",
      "-----------------------------------------------------------------\n",
      "Epoch: 74; Bad epochs: 1\n"
     ]
    },
    {
     "name": "stderr",
     "output_type": "stream",
     "text": [
      "100%|█████████████████████████████████████████████████████████| 7308/7308 [00:42<00:00, 172.77it/s]\n"
     ]
    },
    {
     "name": "stdout",
     "output_type": "stream",
     "text": [
      "Loss: 405.3871028525755\n",
      "Average Loss: 0.055471688950817666\n",
      "-----------------------------------------------------------------\n",
      "Epoch: 75; Bad epochs: 2\n"
     ]
    },
    {
     "name": "stderr",
     "output_type": "stream",
     "text": [
      "100%|█████████████████████████████████████████████████████████| 7308/7308 [00:43<00:00, 167.39it/s]\n"
     ]
    },
    {
     "name": "stdout",
     "output_type": "stream",
     "text": [
      "Loss: 405.456209232565\n",
      "Average Loss: 0.05548114521518405\n",
      "-----------------------------------------------------------------\n",
      "Epoch: 76; Bad epochs: 3\n"
     ]
    },
    {
     "name": "stderr",
     "output_type": "stream",
     "text": [
      "100%|█████████████████████████████████████████████████████████| 7308/7308 [00:42<00:00, 172.25it/s]\n"
     ]
    },
    {
     "name": "stdout",
     "output_type": "stream",
     "text": [
      "Loss: 405.1252612960525\n",
      "Average Loss: 0.055435859509585725\n",
      "############### Saving good model ###############################\n",
      "-----------------------------------------------------------------\n",
      "Epoch: 77; Bad epochs: 0\n"
     ]
    },
    {
     "name": "stderr",
     "output_type": "stream",
     "text": [
      "100%|█████████████████████████████████████████████████████████| 7308/7308 [00:42<00:00, 171.68it/s]\n"
     ]
    },
    {
     "name": "stdout",
     "output_type": "stream",
     "text": [
      "Loss: 405.51361044007353\n",
      "Average Loss: 0.05548899978654537\n",
      "-----------------------------------------------------------------\n",
      "Epoch: 78; Bad epochs: 1\n"
     ]
    },
    {
     "name": "stderr",
     "output_type": "stream",
     "text": [
      "100%|█████████████████████████████████████████████████████████| 7308/7308 [00:48<00:00, 150.53it/s]\n"
     ]
    },
    {
     "name": "stdout",
     "output_type": "stream",
     "text": [
      "Loss: 405.20919035817496\n",
      "Average Loss: 0.055447344055579495\n",
      "-----------------------------------------------------------------\n",
      "Epoch: 79; Bad epochs: 2\n"
     ]
    },
    {
     "name": "stderr",
     "output_type": "stream",
     "text": [
      "100%|█████████████████████████████████████████████████████████| 7308/7308 [00:49<00:00, 148.80it/s]\n"
     ]
    },
    {
     "name": "stdout",
     "output_type": "stream",
     "text": [
      "Loss: 404.93131809611805\n",
      "Average Loss: 0.05540932103121484\n",
      "############### Saving good model ###############################\n",
      "-----------------------------------------------------------------\n",
      "Epoch: 80; Bad epochs: 0\n"
     ]
    },
    {
     "name": "stderr",
     "output_type": "stream",
     "text": [
      "100%|█████████████████████████████████████████████████████████| 7308/7308 [00:42<00:00, 170.68it/s]\n"
     ]
    },
    {
     "name": "stdout",
     "output_type": "stream",
     "text": [
      "Loss: 404.85575964068994\n",
      "Average Loss: 0.05539898188843595\n",
      "############### Saving good model ###############################\n",
      "-----------------------------------------------------------------\n",
      "Epoch: 81; Bad epochs: 0\n"
     ]
    },
    {
     "name": "stderr",
     "output_type": "stream",
     "text": [
      "100%|█████████████████████████████████████████████████████████| 7308/7308 [00:43<00:00, 167.92it/s]\n"
     ]
    },
    {
     "name": "stdout",
     "output_type": "stream",
     "text": [
      "Loss: 405.1489841004368\n",
      "Average Loss: 0.05543910565140076\n",
      "-----------------------------------------------------------------\n",
      "Epoch: 82; Bad epochs: 1\n"
     ]
    },
    {
     "name": "stderr",
     "output_type": "stream",
     "text": [
      "100%|█████████████████████████████████████████████████████████| 7308/7308 [00:42<00:00, 170.82it/s]\n"
     ]
    },
    {
     "name": "stdout",
     "output_type": "stream",
     "text": [
      "Loss: 404.91906067403033\n",
      "Average Loss: 0.05540764377039276\n",
      "-----------------------------------------------------------------\n",
      "Epoch: 83; Bad epochs: 2\n"
     ]
    },
    {
     "name": "stderr",
     "output_type": "stream",
     "text": [
      "100%|█████████████████████████████████████████████████████████| 7308/7308 [00:44<00:00, 165.87it/s]\n"
     ]
    },
    {
     "name": "stdout",
     "output_type": "stream",
     "text": [
      "Loss: 405.0801769190002\n",
      "Average Loss: 0.05542969032827042\n",
      "-----------------------------------------------------------------\n",
      "Epoch: 84; Bad epochs: 3\n"
     ]
    },
    {
     "name": "stderr",
     "output_type": "stream",
     "text": [
      "100%|█████████████████████████████████████████████████████████| 7308/7308 [00:44<00:00, 164.01it/s]\n"
     ]
    },
    {
     "name": "stdout",
     "output_type": "stream",
     "text": [
      "Loss: 404.88362788106315\n",
      "Average Loss: 0.055402795276554895\n",
      "-----------------------------------------------------------------\n",
      "Epoch: 85; Bad epochs: 4\n"
     ]
    },
    {
     "name": "stderr",
     "output_type": "stream",
     "text": [
      "100%|█████████████████████████████████████████████████████████| 7308/7308 [00:43<00:00, 167.60it/s]\n"
     ]
    },
    {
     "name": "stdout",
     "output_type": "stream",
     "text": [
      "Loss: 404.65572054008953\n",
      "Average Loss: 0.05537160926930618\n",
      "############### Saving good model ###############################\n",
      "-----------------------------------------------------------------\n",
      "Epoch: 86; Bad epochs: 0\n"
     ]
    },
    {
     "name": "stderr",
     "output_type": "stream",
     "text": [
      "100%|█████████████████████████████████████████████████████████| 7308/7308 [00:42<00:00, 170.03it/s]\n"
     ]
    },
    {
     "name": "stdout",
     "output_type": "stream",
     "text": [
      "Loss: 404.9393869882915\n",
      "Average Loss: 0.05541042514891783\n",
      "-----------------------------------------------------------------\n",
      "Epoch: 87; Bad epochs: 1\n"
     ]
    },
    {
     "name": "stderr",
     "output_type": "stream",
     "text": [
      "100%|█████████████████████████████████████████████████████████| 7308/7308 [00:43<00:00, 166.28it/s]\n"
     ]
    },
    {
     "name": "stdout",
     "output_type": "stream",
     "text": [
      "Loss: 404.81450990680605\n",
      "Average Loss: 0.055393337425671325\n",
      "-----------------------------------------------------------------\n",
      "Epoch: 88; Bad epochs: 2\n"
     ]
    },
    {
     "name": "stderr",
     "output_type": "stream",
     "text": [
      "100%|█████████████████████████████████████████████████████████| 7308/7308 [00:46<00:00, 158.62it/s]\n"
     ]
    },
    {
     "name": "stdout",
     "output_type": "stream",
     "text": [
      "Loss: 404.6315563523676\n",
      "Average Loss: 0.05536830273020903\n",
      "############### Saving good model ###############################\n",
      "-----------------------------------------------------------------\n",
      "Epoch: 89; Bad epochs: 0\n"
     ]
    },
    {
     "name": "stderr",
     "output_type": "stream",
     "text": [
      "100%|█████████████████████████████████████████████████████████| 7308/7308 [00:45<00:00, 159.40it/s]\n"
     ]
    },
    {
     "name": "stdout",
     "output_type": "stream",
     "text": [
      "Loss: 404.7079767314717\n",
      "Average Loss: 0.05537875981547232\n",
      "-----------------------------------------------------------------\n",
      "Epoch: 90; Bad epochs: 1\n"
     ]
    },
    {
     "name": "stderr",
     "output_type": "stream",
     "text": [
      "100%|█████████████████████████████████████████████████████████| 7308/7308 [00:45<00:00, 160.22it/s]\n"
     ]
    },
    {
     "name": "stdout",
     "output_type": "stream",
     "text": [
      "Loss: 404.39817314525135\n",
      "Average Loss: 0.05533636742545859\n",
      "############### Saving good model ###############################\n",
      "-----------------------------------------------------------------\n",
      "Epoch: 91; Bad epochs: 0\n"
     ]
    },
    {
     "name": "stderr",
     "output_type": "stream",
     "text": [
      "100%|█████████████████████████████████████████████████████████| 7308/7308 [00:45<00:00, 161.64it/s]\n"
     ]
    },
    {
     "name": "stdout",
     "output_type": "stream",
     "text": [
      "Loss: 404.94300240068696\n",
      "Average Loss: 0.05541091986873111\n",
      "-----------------------------------------------------------------\n",
      "Epoch: 92; Bad epochs: 1\n"
     ]
    },
    {
     "name": "stderr",
     "output_type": "stream",
     "text": [
      "100%|█████████████████████████████████████████████████████████| 7308/7308 [00:44<00:00, 162.94it/s]\n"
     ]
    },
    {
     "name": "stdout",
     "output_type": "stream",
     "text": [
      "Loss: 404.45765309454873\n",
      "Average Loss: 0.05534450644424586\n",
      "-----------------------------------------------------------------\n",
      "Epoch: 93; Bad epochs: 2\n"
     ]
    },
    {
     "name": "stderr",
     "output_type": "stream",
     "text": [
      "100%|█████████████████████████████████████████████████████████| 7308/7308 [00:45<00:00, 159.31it/s]\n"
     ]
    },
    {
     "name": "stdout",
     "output_type": "stream",
     "text": [
      "Loss: 404.8506591957994\n",
      "Average Loss: 0.05539828396220572\n",
      "-----------------------------------------------------------------\n",
      "Epoch: 94; Bad epochs: 3\n"
     ]
    },
    {
     "name": "stderr",
     "output_type": "stream",
     "text": [
      "100%|█████████████████████████████████████████████████████████| 7308/7308 [00:43<00:00, 169.55it/s]\n"
     ]
    },
    {
     "name": "stdout",
     "output_type": "stream",
     "text": [
      "Loss: 404.45592604391277\n",
      "Average Loss: 0.05534427012095139\n",
      "-----------------------------------------------------------------\n",
      "Epoch: 95; Bad epochs: 4\n"
     ]
    },
    {
     "name": "stderr",
     "output_type": "stream",
     "text": [
      "100%|█████████████████████████████████████████████████████████| 7308/7308 [00:43<00:00, 168.01it/s]\n"
     ]
    },
    {
     "name": "stdout",
     "output_type": "stream",
     "text": [
      "Loss: 404.28583971690387\n",
      "Average Loss: 0.055320996129844535\n",
      "############### Saving good model ###############################\n",
      "-----------------------------------------------------------------\n",
      "Epoch: 96; Bad epochs: 0\n"
     ]
    },
    {
     "name": "stderr",
     "output_type": "stream",
     "text": [
      "100%|█████████████████████████████████████████████████████████| 7308/7308 [00:43<00:00, 169.67it/s]\n"
     ]
    },
    {
     "name": "stdout",
     "output_type": "stream",
     "text": [
      "Loss: 404.48538310360163\n",
      "Average Loss: 0.05534830091729634\n",
      "-----------------------------------------------------------------\n",
      "Epoch: 97; Bad epochs: 1\n"
     ]
    },
    {
     "name": "stderr",
     "output_type": "stream",
     "text": [
      "100%|█████████████████████████████████████████████████████████| 7308/7308 [00:43<00:00, 166.82it/s]\n"
     ]
    },
    {
     "name": "stdout",
     "output_type": "stream",
     "text": [
      "Loss: 404.68387713842094\n",
      "Average Loss: 0.055375462115273805\n",
      "-----------------------------------------------------------------\n",
      "Epoch: 98; Bad epochs: 2\n"
     ]
    },
    {
     "name": "stderr",
     "output_type": "stream",
     "text": [
      "100%|█████████████████████████████████████████████████████████| 7308/7308 [00:43<00:00, 166.13it/s]\n"
     ]
    },
    {
     "name": "stdout",
     "output_type": "stream",
     "text": [
      "Loss: 404.35200635320507\n",
      "Average Loss: 0.055330050130433094\n",
      "-----------------------------------------------------------------\n",
      "Epoch: 99; Bad epochs: 3\n"
     ]
    },
    {
     "name": "stderr",
     "output_type": "stream",
     "text": [
      "100%|█████████████████████████████████████████████████████████| 7308/7308 [00:42<00:00, 172.85it/s]\n"
     ]
    },
    {
     "name": "stdout",
     "output_type": "stream",
     "text": [
      "Loss: 404.4935552456882\n",
      "Average Loss: 0.05534941916333993\n",
      "-----------------------------------------------------------------\n",
      "Epoch: 100; Bad epochs: 4\n"
     ]
    },
    {
     "name": "stderr",
     "output_type": "stream",
     "text": [
      "100%|█████████████████████████████████████████████████████████| 7308/7308 [00:44<00:00, 164.66it/s]\n"
     ]
    },
    {
     "name": "stdout",
     "output_type": "stream",
     "text": [
      "Loss: 404.2436867649667\n",
      "Average Loss: 0.055315228074023906\n",
      "############### Saving good model ###############################\n",
      "-----------------------------------------------------------------\n",
      "Epoch: 101; Bad epochs: 0\n"
     ]
    },
    {
     "name": "stderr",
     "output_type": "stream",
     "text": [
      "100%|█████████████████████████████████████████████████████████| 7308/7308 [00:42<00:00, 171.96it/s]\n"
     ]
    },
    {
     "name": "stdout",
     "output_type": "stream",
     "text": [
      "Loss: 404.0670869827736\n",
      "Average Loss: 0.05529106280552458\n",
      "############### Saving good model ###############################\n",
      "-----------------------------------------------------------------\n",
      "Epoch: 102; Bad epochs: 0\n"
     ]
    },
    {
     "name": "stderr",
     "output_type": "stream",
     "text": [
      "100%|█████████████████████████████████████████████████████████| 7308/7308 [00:43<00:00, 169.69it/s]\n"
     ]
    },
    {
     "name": "stdout",
     "output_type": "stream",
     "text": [
      "Loss: 404.36814857367426\n",
      "Average Loss: 0.05533225897286183\n",
      "-----------------------------------------------------------------\n",
      "Epoch: 103; Bad epochs: 1\n"
     ]
    },
    {
     "name": "stderr",
     "output_type": "stream",
     "text": [
      "100%|█████████████████████████████████████████████████████████| 7308/7308 [00:42<00:00, 172.11it/s]\n"
     ]
    },
    {
     "name": "stdout",
     "output_type": "stream",
     "text": [
      "Loss: 404.7095511944499\n",
      "Average Loss: 0.05537897525922959\n",
      "-----------------------------------------------------------------\n",
      "Epoch: 104; Bad epochs: 2\n"
     ]
    },
    {
     "name": "stderr",
     "output_type": "stream",
     "text": [
      "100%|█████████████████████████████████████████████████████████| 7308/7308 [00:42<00:00, 171.80it/s]\n"
     ]
    },
    {
     "name": "stdout",
     "output_type": "stream",
     "text": [
      "Loss: 404.16974483500235\n",
      "Average Loss: 0.05530511013067903\n",
      "-----------------------------------------------------------------\n",
      "Epoch: 105; Bad epochs: 3\n"
     ]
    },
    {
     "name": "stderr",
     "output_type": "stream",
     "text": [
      "100%|█████████████████████████████████████████████████████████| 7308/7308 [00:44<00:00, 163.54it/s]\n"
     ]
    },
    {
     "name": "stdout",
     "output_type": "stream",
     "text": [
      "Loss: 404.17159836390056\n",
      "Average Loss: 0.055305363760796464\n",
      "-----------------------------------------------------------------\n",
      "Epoch: 106; Bad epochs: 4\n"
     ]
    },
    {
     "name": "stderr",
     "output_type": "stream",
     "text": [
      "100%|█████████████████████████████████████████████████████████| 7308/7308 [00:42<00:00, 170.38it/s]\n"
     ]
    },
    {
     "name": "stdout",
     "output_type": "stream",
     "text": [
      "Loss: 404.39828796172515\n",
      "Average Loss: 0.05533638313652506\n",
      "-----------------------------------------------------------------\n",
      "Epoch: 107; Bad epochs: 5\n"
     ]
    },
    {
     "name": "stderr",
     "output_type": "stream",
     "text": [
      "100%|█████████████████████████████████████████████████████████| 7308/7308 [00:43<00:00, 166.71it/s]\n"
     ]
    },
    {
     "name": "stdout",
     "output_type": "stream",
     "text": [
      "Loss: 404.1152264100965\n",
      "Average Loss: 0.05529765002874884\n",
      "-----------------------------------------------------------------\n",
      "Epoch: 108; Bad epochs: 6\n"
     ]
    },
    {
     "name": "stderr",
     "output_type": "stream",
     "text": [
      "100%|█████████████████████████████████████████████████████████| 7308/7308 [00:43<00:00, 168.59it/s]\n"
     ]
    },
    {
     "name": "stdout",
     "output_type": "stream",
     "text": [
      "Loss: 404.13570249965414\n",
      "Average Loss: 0.055300451901977854\n",
      "-----------------------------------------------------------------\n",
      "Epoch: 109; Bad epochs: 7\n"
     ]
    },
    {
     "name": "stderr",
     "output_type": "stream",
     "text": [
      "100%|█████████████████████████████████████████████████████████| 7308/7308 [00:42<00:00, 172.53it/s]\n"
     ]
    },
    {
     "name": "stdout",
     "output_type": "stream",
     "text": [
      "Loss: 404.1556133921258\n",
      "Average Loss: 0.055303176435704135\n",
      "-----------------------------------------------------------------\n",
      "Epoch: 110; Bad epochs: 8\n"
     ]
    },
    {
     "name": "stderr",
     "output_type": "stream",
     "text": [
      "100%|█████████████████████████████████████████████████████████| 7308/7308 [00:42<00:00, 173.76it/s]\n"
     ]
    },
    {
     "name": "stdout",
     "output_type": "stream",
     "text": [
      "Loss: 404.25351587613113\n",
      "Average Loss: 0.05531657305365779\n",
      "-----------------------------------------------------------------\n",
      "Epoch: 111; Bad epochs: 9\n"
     ]
    },
    {
     "name": "stderr",
     "output_type": "stream",
     "text": [
      "100%|█████████████████████████████████████████████████████████| 7308/7308 [00:42<00:00, 173.09it/s]\n"
     ]
    },
    {
     "name": "stdout",
     "output_type": "stream",
     "text": [
      "Loss: 404.00742669962347\n",
      "Average Loss: 0.05528289911051224\n",
      "############### Saving good model ###############################\n",
      "-----------------------------------------------------------------\n",
      "Epoch: 112; Bad epochs: 0\n"
     ]
    },
    {
     "name": "stderr",
     "output_type": "stream",
     "text": [
      "100%|█████████████████████████████████████████████████████████| 7308/7308 [00:43<00:00, 167.52it/s]\n"
     ]
    },
    {
     "name": "stdout",
     "output_type": "stream",
     "text": [
      "Loss: 403.73725168872625\n",
      "Average Loss: 0.05524592934985307\n",
      "############### Saving good model ###############################\n",
      "-----------------------------------------------------------------\n",
      "Epoch: 113; Bad epochs: 0\n"
     ]
    },
    {
     "name": "stderr",
     "output_type": "stream",
     "text": [
      "100%|█████████████████████████████████████████████████████████| 7308/7308 [00:42<00:00, 172.04it/s]\n"
     ]
    },
    {
     "name": "stdout",
     "output_type": "stream",
     "text": [
      "Loss: 403.6896458445117\n",
      "Average Loss: 0.055239415140190436\n",
      "############### Saving good model ###############################\n",
      "-----------------------------------------------------------------\n",
      "Epoch: 114; Bad epochs: 0\n"
     ]
    },
    {
     "name": "stderr",
     "output_type": "stream",
     "text": [
      "100%|█████████████████████████████████████████████████████████| 7308/7308 [00:42<00:00, 171.97it/s]\n"
     ]
    },
    {
     "name": "stdout",
     "output_type": "stream",
     "text": [
      "Loss: 404.05518602160737\n",
      "Average Loss: 0.055289434321511684\n",
      "-----------------------------------------------------------------\n",
      "Epoch: 115; Bad epochs: 1\n"
     ]
    },
    {
     "name": "stderr",
     "output_type": "stream",
     "text": [
      "100%|█████████████████████████████████████████████████████████| 7308/7308 [00:42<00:00, 170.87it/s]\n"
     ]
    },
    {
     "name": "stdout",
     "output_type": "stream",
     "text": [
      "Loss: 403.7254670399707\n",
      "Average Loss: 0.055244316781605185\n",
      "-----------------------------------------------------------------\n",
      "Epoch: 116; Bad epochs: 2\n"
     ]
    },
    {
     "name": "stderr",
     "output_type": "stream",
     "text": [
      "100%|█████████████████████████████████████████████████████████| 7308/7308 [00:43<00:00, 168.88it/s]\n"
     ]
    },
    {
     "name": "stdout",
     "output_type": "stream",
     "text": [
      "Loss: 403.7891366733238\n",
      "Average Loss: 0.05525302910144004\n",
      "-----------------------------------------------------------------\n",
      "Epoch: 117; Bad epochs: 3\n"
     ]
    },
    {
     "name": "stderr",
     "output_type": "stream",
     "text": [
      "100%|█████████████████████████████████████████████████████████| 7308/7308 [00:44<00:00, 163.61it/s]\n"
     ]
    },
    {
     "name": "stdout",
     "output_type": "stream",
     "text": [
      "Loss: 404.0319861189928\n",
      "Average Loss: 0.05528625973166294\n",
      "-----------------------------------------------------------------\n",
      "Epoch: 118; Bad epochs: 4\n"
     ]
    },
    {
     "name": "stderr",
     "output_type": "stream",
     "text": [
      "100%|█████████████████████████████████████████████████████████| 7308/7308 [00:43<00:00, 168.29it/s]\n"
     ]
    },
    {
     "name": "stdout",
     "output_type": "stream",
     "text": [
      "Loss: 404.16643994417973\n",
      "Average Loss: 0.05530465790150243\n",
      "-----------------------------------------------------------------\n",
      "Epoch: 119; Bad epochs: 5\n"
     ]
    },
    {
     "name": "stderr",
     "output_type": "stream",
     "text": [
      "100%|█████████████████████████████████████████████████████████| 7308/7308 [00:42<00:00, 170.64it/s]\n"
     ]
    },
    {
     "name": "stdout",
     "output_type": "stream",
     "text": [
      "Loss: 403.72058305400424\n",
      "Average Loss: 0.055243648474822694\n",
      "-----------------------------------------------------------------\n",
      "Epoch: 120; Bad epochs: 6\n"
     ]
    },
    {
     "name": "stderr",
     "output_type": "stream",
     "text": [
      "100%|█████████████████████████████████████████████████████████| 7308/7308 [00:42<00:00, 171.18it/s]\n"
     ]
    },
    {
     "name": "stdout",
     "output_type": "stream",
     "text": [
      "Loss: 403.78329444420524\n",
      "Average Loss: 0.0552522296721682\n",
      "-----------------------------------------------------------------\n",
      "Epoch: 121; Bad epochs: 7\n"
     ]
    },
    {
     "name": "stderr",
     "output_type": "stream",
     "text": [
      "100%|█████████████████████████████████████████████████████████| 7308/7308 [00:42<00:00, 169.96it/s]\n"
     ]
    },
    {
     "name": "stdout",
     "output_type": "stream",
     "text": [
      "Loss: 403.97964415862225\n",
      "Average Loss: 0.055279097449182024\n",
      "-----------------------------------------------------------------\n",
      "Epoch: 122; Bad epochs: 8\n"
     ]
    },
    {
     "name": "stderr",
     "output_type": "stream",
     "text": [
      "100%|█████████████████████████████████████████████████████████| 7308/7308 [00:42<00:00, 173.14it/s]\n"
     ]
    },
    {
     "name": "stdout",
     "output_type": "stream",
     "text": [
      "Loss: 403.9398869960569\n",
      "Average Loss: 0.05527365722441939\n",
      "-----------------------------------------------------------------\n",
      "Epoch: 123; Bad epochs: 9\n"
     ]
    },
    {
     "name": "stderr",
     "output_type": "stream",
     "text": [
      "100%|█████████████████████████████████████████████████████████| 7308/7308 [00:42<00:00, 171.06it/s]\n"
     ]
    },
    {
     "name": "stdout",
     "output_type": "stream",
     "text": [
      "Loss: 403.6854149326682\n",
      "Average Loss: 0.05523883619768311\n",
      "############### Saving good model ###############################\n",
      "-----------------------------------------------------------------\n",
      "Epoch: 124; Bad epochs: 0\n"
     ]
    },
    {
     "name": "stderr",
     "output_type": "stream",
     "text": [
      "100%|█████████████████████████████████████████████████████████| 7308/7308 [00:43<00:00, 169.21it/s]\n"
     ]
    },
    {
     "name": "stdout",
     "output_type": "stream",
     "text": [
      "Loss: 403.58172701019794\n",
      "Average Loss: 0.055224647921483024\n",
      "############### Saving good model ###############################\n",
      "-----------------------------------------------------------------\n",
      "Epoch: 125; Bad epochs: 0\n"
     ]
    },
    {
     "name": "stderr",
     "output_type": "stream",
     "text": [
      "100%|█████████████████████████████████████████████████████████| 7308/7308 [00:43<00:00, 168.05it/s]\n"
     ]
    },
    {
     "name": "stdout",
     "output_type": "stream",
     "text": [
      "Loss: 404.0738514312543\n",
      "Average Loss: 0.055291988427922045\n",
      "-----------------------------------------------------------------\n",
      "Epoch: 126; Bad epochs: 1\n"
     ]
    },
    {
     "name": "stderr",
     "output_type": "stream",
     "text": [
      "100%|█████████████████████████████████████████████████████████| 7308/7308 [00:43<00:00, 167.25it/s]\n"
     ]
    },
    {
     "name": "stdout",
     "output_type": "stream",
     "text": [
      "Loss: 403.55291475658305\n",
      "Average Loss: 0.05522070535804366\n",
      "############### Saving good model ###############################\n",
      "-----------------------------------------------------------------\n",
      "Epoch: 127; Bad epochs: 0\n"
     ]
    },
    {
     "name": "stderr",
     "output_type": "stream",
     "text": [
      "100%|█████████████████████████████████████████████████████████| 7308/7308 [00:43<00:00, 169.40it/s]\n"
     ]
    },
    {
     "name": "stdout",
     "output_type": "stream",
     "text": [
      "Loss: 403.57611739914864\n",
      "Average Loss: 0.055223880322817276\n",
      "-----------------------------------------------------------------\n",
      "Epoch: 128; Bad epochs: 1\n"
     ]
    },
    {
     "name": "stderr",
     "output_type": "stream",
     "text": [
      "100%|█████████████████████████████████████████████████████████| 7308/7308 [00:43<00:00, 169.19it/s]\n"
     ]
    },
    {
     "name": "stdout",
     "output_type": "stream",
     "text": [
      "Loss: 403.67893931712024\n",
      "Average Loss: 0.05523795009812811\n",
      "-----------------------------------------------------------------\n",
      "Epoch: 129; Bad epochs: 2\n"
     ]
    },
    {
     "name": "stderr",
     "output_type": "stream",
     "text": [
      "100%|█████████████████████████████████████████████████████████| 7308/7308 [00:44<00:00, 164.83it/s]\n"
     ]
    },
    {
     "name": "stdout",
     "output_type": "stream",
     "text": [
      "Loss: 403.6824736802373\n",
      "Average Loss: 0.055238433727454475\n",
      "-----------------------------------------------------------------\n",
      "Epoch: 130; Bad epochs: 3\n"
     ]
    },
    {
     "name": "stderr",
     "output_type": "stream",
     "text": [
      "100%|█████████████████████████████████████████████████████████| 7308/7308 [00:44<00:00, 164.82it/s]\n"
     ]
    },
    {
     "name": "stdout",
     "output_type": "stream",
     "text": [
      "Loss: 403.8445581726264\n",
      "Average Loss: 0.0552606127767688\n",
      "-----------------------------------------------------------------\n",
      "Epoch: 131; Bad epochs: 4\n"
     ]
    },
    {
     "name": "stderr",
     "output_type": "stream",
     "text": [
      "100%|█████████████████████████████████████████████████████████| 7308/7308 [00:44<00:00, 164.32it/s]\n"
     ]
    },
    {
     "name": "stdout",
     "output_type": "stream",
     "text": [
      "Loss: 403.8312196643092\n",
      "Average Loss: 0.05525878758405982\n",
      "-----------------------------------------------------------------\n",
      "Epoch: 132; Bad epochs: 5\n"
     ]
    },
    {
     "name": "stderr",
     "output_type": "stream",
     "text": [
      "100%|█████████████████████████████████████████████████████████| 7308/7308 [00:47<00:00, 154.94it/s]\n"
     ]
    },
    {
     "name": "stdout",
     "output_type": "stream",
     "text": [
      "Loss: 403.5412462865934\n",
      "Average Loss: 0.05521910868727331\n",
      "############### Saving good model ###############################\n",
      "-----------------------------------------------------------------\n",
      "Epoch: 133; Bad epochs: 0\n"
     ]
    },
    {
     "name": "stderr",
     "output_type": "stream",
     "text": [
      "100%|█████████████████████████████████████████████████████████| 7308/7308 [00:44<00:00, 164.09it/s]\n"
     ]
    },
    {
     "name": "stdout",
     "output_type": "stream",
     "text": [
      "Loss: 403.383313234197\n",
      "Average Loss: 0.05519749770582882\n",
      "############### Saving good model ###############################\n",
      "-----------------------------------------------------------------\n",
      "Epoch: 134; Bad epochs: 0\n"
     ]
    },
    {
     "name": "stderr",
     "output_type": "stream",
     "text": [
      "100%|█████████████████████████████████████████████████████████| 7308/7308 [00:43<00:00, 167.53it/s]\n"
     ]
    },
    {
     "name": "stdout",
     "output_type": "stream",
     "text": [
      "Loss: 403.5365168333519\n",
      "Average Loss: 0.0552184615261839\n",
      "-----------------------------------------------------------------\n",
      "Epoch: 135; Bad epochs: 1\n"
     ]
    },
    {
     "name": "stderr",
     "output_type": "stream",
     "text": [
      "100%|█████████████████████████████████████████████████████████| 7308/7308 [00:43<00:00, 169.84it/s]\n"
     ]
    },
    {
     "name": "stdout",
     "output_type": "stream",
     "text": [
      "Loss: 403.4595179054886\n",
      "Average Loss: 0.05520792527442373\n",
      "-----------------------------------------------------------------\n",
      "Epoch: 136; Bad epochs: 2\n"
     ]
    },
    {
     "name": "stderr",
     "output_type": "stream",
     "text": [
      "100%|█████████████████████████████████████████████████████████| 7308/7308 [00:42<00:00, 170.44it/s]\n"
     ]
    },
    {
     "name": "stdout",
     "output_type": "stream",
     "text": [
      "Loss: 403.2926514400169\n",
      "Average Loss: 0.05518509187739695\n",
      "############### Saving good model ###############################\n",
      "-----------------------------------------------------------------\n",
      "Epoch: 137; Bad epochs: 0\n"
     ]
    },
    {
     "name": "stderr",
     "output_type": "stream",
     "text": [
      "100%|█████████████████████████████████████████████████████████| 7308/7308 [00:42<00:00, 171.54it/s]\n"
     ]
    },
    {
     "name": "stdout",
     "output_type": "stream",
     "text": [
      "Loss: 403.4806714025326\n",
      "Average Loss: 0.055210819841616396\n",
      "-----------------------------------------------------------------\n",
      "Epoch: 138; Bad epochs: 1\n"
     ]
    },
    {
     "name": "stderr",
     "output_type": "stream",
     "text": [
      "100%|█████████████████████████████████████████████████████████| 7308/7308 [00:43<00:00, 169.10it/s]\n"
     ]
    },
    {
     "name": "stdout",
     "output_type": "stream",
     "text": [
      "Loss: 403.48308364581317\n",
      "Average Loss: 0.0552111499241671\n",
      "-----------------------------------------------------------------\n",
      "Epoch: 139; Bad epochs: 2\n"
     ]
    },
    {
     "name": "stderr",
     "output_type": "stream",
     "text": [
      "100%|█████████████████████████████████████████████████████████| 7308/7308 [00:42<00:00, 173.84it/s]\n"
     ]
    },
    {
     "name": "stdout",
     "output_type": "stream",
     "text": [
      "Loss: 403.28649154049344\n",
      "Average Loss: 0.055184248979268394\n",
      "############### Saving good model ###############################\n",
      "-----------------------------------------------------------------\n",
      "Epoch: 140; Bad epochs: 0\n"
     ]
    },
    {
     "name": "stderr",
     "output_type": "stream",
     "text": [
      "100%|█████████████████████████████████████████████████████████| 7308/7308 [00:43<00:00, 166.12it/s]\n"
     ]
    },
    {
     "name": "stdout",
     "output_type": "stream",
     "text": [
      "Loss: 403.4370017738547\n",
      "Average Loss: 0.05520484424929594\n",
      "-----------------------------------------------------------------\n",
      "Epoch: 141; Bad epochs: 1\n"
     ]
    },
    {
     "name": "stderr",
     "output_type": "stream",
     "text": [
      "100%|█████████████████████████████████████████████████████████| 7308/7308 [00:43<00:00, 169.39it/s]\n"
     ]
    },
    {
     "name": "stdout",
     "output_type": "stream",
     "text": [
      "Loss: 403.5075498879887\n",
      "Average Loss: 0.055214497795291285\n",
      "-----------------------------------------------------------------\n",
      "Epoch: 142; Bad epochs: 2\n"
     ]
    },
    {
     "name": "stderr",
     "output_type": "stream",
     "text": [
      "100%|█████████████████████████████████████████████████████████| 7308/7308 [00:41<00:00, 177.47it/s]\n"
     ]
    },
    {
     "name": "stdout",
     "output_type": "stream",
     "text": [
      "Loss: 403.21245521097444\n",
      "Average Loss: 0.05517411811863361\n",
      "############### Saving good model ###############################\n",
      "-----------------------------------------------------------------\n",
      "Epoch: 143; Bad epochs: 0\n"
     ]
    },
    {
     "name": "stderr",
     "output_type": "stream",
     "text": [
      "100%|█████████████████████████████████████████████████████████| 7308/7308 [00:41<00:00, 175.73it/s]\n"
     ]
    },
    {
     "name": "stdout",
     "output_type": "stream",
     "text": [
      "Loss: 403.3351829345338\n",
      "Average Loss: 0.05519091173160014\n",
      "-----------------------------------------------------------------\n",
      "Epoch: 144; Bad epochs: 1\n"
     ]
    },
    {
     "name": "stderr",
     "output_type": "stream",
     "text": [
      "100%|█████████████████████████████████████████████████████████| 7308/7308 [00:41<00:00, 175.82it/s]\n"
     ]
    },
    {
     "name": "stdout",
     "output_type": "stream",
     "text": [
      "Loss: 403.2138667423278\n",
      "Average Loss: 0.05517431126742307\n",
      "-----------------------------------------------------------------\n",
      "Epoch: 145; Bad epochs: 2\n"
     ]
    },
    {
     "name": "stderr",
     "output_type": "stream",
     "text": [
      "100%|█████████████████████████████████████████████████████████| 7308/7308 [00:42<00:00, 170.21it/s]\n"
     ]
    },
    {
     "name": "stdout",
     "output_type": "stream",
     "text": [
      "Loss: 403.4654331372585\n",
      "Average Loss: 0.05520873469311145\n",
      "-----------------------------------------------------------------\n",
      "Epoch: 146; Bad epochs: 3\n"
     ]
    },
    {
     "name": "stderr",
     "output_type": "stream",
     "text": [
      "100%|█████████████████████████████████████████████████████████| 7308/7308 [00:42<00:00, 170.09it/s]\n"
     ]
    },
    {
     "name": "stdout",
     "output_type": "stream",
     "text": [
      "Loss: 403.2083954256959\n",
      "Average Loss: 0.05517356259245976\n",
      "############### Saving good model ###############################\n",
      "-----------------------------------------------------------------\n",
      "Epoch: 147; Bad epochs: 0\n"
     ]
    },
    {
     "name": "stderr",
     "output_type": "stream",
     "text": [
      "100%|█████████████████████████████████████████████████████████| 7308/7308 [00:46<00:00, 157.83it/s]\n"
     ]
    },
    {
     "name": "stdout",
     "output_type": "stream",
     "text": [
      "Loss: 403.23458549845964\n",
      "Average Loss: 0.055177146346258844\n",
      "-----------------------------------------------------------------\n",
      "Epoch: 148; Bad epochs: 1\n"
     ]
    },
    {
     "name": "stderr",
     "output_type": "stream",
     "text": [
      "100%|█████████████████████████████████████████████████████████| 7308/7308 [00:43<00:00, 166.20it/s]\n"
     ]
    },
    {
     "name": "stdout",
     "output_type": "stream",
     "text": [
      "Loss: 403.3016611561179\n",
      "Average Loss: 0.05518632473400628\n",
      "-----------------------------------------------------------------\n",
      "Epoch: 149; Bad epochs: 2\n"
     ]
    },
    {
     "name": "stderr",
     "output_type": "stream",
     "text": [
      "100%|█████████████████████████████████████████████████████████| 7308/7308 [00:42<00:00, 172.14it/s]\n"
     ]
    },
    {
     "name": "stdout",
     "output_type": "stream",
     "text": [
      "Loss: 403.13593102712184\n",
      "Average Loss: 0.05516364682910808\n",
      "############### Saving good model ###############################\n",
      "-----------------------------------------------------------------\n",
      "Epoch: 150; Bad epochs: 0\n"
     ]
    },
    {
     "name": "stderr",
     "output_type": "stream",
     "text": [
      "100%|█████████████████████████████████████████████████████████| 7308/7308 [00:42<00:00, 171.00it/s]\n"
     ]
    },
    {
     "name": "stdout",
     "output_type": "stream",
     "text": [
      "Loss: 402.9091228717007\n",
      "Average Loss: 0.05513261123039145\n",
      "############### Saving good model ###############################\n",
      "-----------------------------------------------------------------\n",
      "Epoch: 151; Bad epochs: 0\n"
     ]
    },
    {
     "name": "stderr",
     "output_type": "stream",
     "text": [
      "100%|█████████████████████████████████████████████████████████| 7308/7308 [00:42<00:00, 171.69it/s]\n"
     ]
    },
    {
     "name": "stdout",
     "output_type": "stream",
     "text": [
      "Loss: 403.1606910023838\n",
      "Average Loss: 0.05516703489359385\n",
      "-----------------------------------------------------------------\n",
      "Epoch: 152; Bad epochs: 1\n"
     ]
    },
    {
     "name": "stderr",
     "output_type": "stream",
     "text": [
      "100%|█████████████████████████████████████████████████████████| 7308/7308 [00:43<00:00, 168.47it/s]\n"
     ]
    },
    {
     "name": "stdout",
     "output_type": "stream",
     "text": [
      "Loss: 403.2007143103983\n",
      "Average Loss: 0.05517251153672664\n",
      "-----------------------------------------------------------------\n",
      "Epoch: 153; Bad epochs: 2\n"
     ]
    },
    {
     "name": "stderr",
     "output_type": "stream",
     "text": [
      "100%|█████████████████████████████████████████████████████████| 7308/7308 [00:46<00:00, 158.27it/s]\n"
     ]
    },
    {
     "name": "stdout",
     "output_type": "stream",
     "text": [
      "Loss: 403.1901042535901\n",
      "Average Loss: 0.05517105969534621\n",
      "-----------------------------------------------------------------\n",
      "Epoch: 154; Bad epochs: 3\n"
     ]
    },
    {
     "name": "stderr",
     "output_type": "stream",
     "text": [
      "100%|█████████████████████████████████████████████████████████| 7308/7308 [00:45<00:00, 159.03it/s]\n"
     ]
    },
    {
     "name": "stdout",
     "output_type": "stream",
     "text": [
      "Loss: 403.02985577774234\n",
      "Average Loss: 0.055149131879822434\n",
      "-----------------------------------------------------------------\n",
      "Epoch: 155; Bad epochs: 4\n"
     ]
    },
    {
     "name": "stderr",
     "output_type": "stream",
     "text": [
      "100%|█████████████████████████████████████████████████████████| 7308/7308 [00:44<00:00, 163.58it/s]\n"
     ]
    },
    {
     "name": "stdout",
     "output_type": "stream",
     "text": [
      "Loss: 403.2736243598629\n",
      "Average Loss: 0.055182488281316756\n",
      "-----------------------------------------------------------------\n",
      "Epoch: 156; Bad epochs: 5\n"
     ]
    },
    {
     "name": "stderr",
     "output_type": "stream",
     "text": [
      "100%|█████████████████████████████████████████████████████████| 7308/7308 [00:43<00:00, 168.66it/s]\n"
     ]
    },
    {
     "name": "stdout",
     "output_type": "stream",
     "text": [
      "Loss: 403.1569828512147\n",
      "Average Loss: 0.055166527483745856\n",
      "-----------------------------------------------------------------\n",
      "Epoch: 157; Bad epochs: 6\n"
     ]
    },
    {
     "name": "stderr",
     "output_type": "stream",
     "text": [
      "100%|█████████████████████████████████████████████████████████| 7308/7308 [00:43<00:00, 169.14it/s]\n"
     ]
    },
    {
     "name": "stdout",
     "output_type": "stream",
     "text": [
      "Loss: 403.14071961375885\n",
      "Average Loss: 0.05516430208179514\n",
      "-----------------------------------------------------------------\n",
      "Epoch: 158; Bad epochs: 7\n"
     ]
    },
    {
     "name": "stderr",
     "output_type": "stream",
     "text": [
      "100%|█████████████████████████████████████████████████████████| 7308/7308 [00:43<00:00, 167.48it/s]\n"
     ]
    },
    {
     "name": "stdout",
     "output_type": "stream",
     "text": [
      "Loss: 402.8653658241965\n",
      "Average Loss: 0.055126623675998424\n",
      "############### Saving good model ###############################\n",
      "-----------------------------------------------------------------\n",
      "Epoch: 159; Bad epochs: 0\n"
     ]
    },
    {
     "name": "stderr",
     "output_type": "stream",
     "text": [
      "100%|█████████████████████████████████████████████████████████| 7308/7308 [00:43<00:00, 166.92it/s]\n"
     ]
    },
    {
     "name": "stdout",
     "output_type": "stream",
     "text": [
      "Loss: 402.80992092820816\n",
      "Average Loss: 0.05511903679915273\n",
      "############### Saving good model ###############################\n",
      "-----------------------------------------------------------------\n",
      "Epoch: 160; Bad epochs: 0\n"
     ]
    },
    {
     "name": "stderr",
     "output_type": "stream",
     "text": [
      "100%|█████████████████████████████████████████████████████████| 7308/7308 [00:43<00:00, 169.86it/s]\n"
     ]
    },
    {
     "name": "stdout",
     "output_type": "stream",
     "text": [
      "Loss: 402.97729476494715\n",
      "Average Loss: 0.05514193962300864\n",
      "-----------------------------------------------------------------\n",
      "Epoch: 161; Bad epochs: 1\n"
     ]
    },
    {
     "name": "stderr",
     "output_type": "stream",
     "text": [
      "100%|█████████████████████████████████████████████████████████| 7308/7308 [00:42<00:00, 171.58it/s]\n"
     ]
    },
    {
     "name": "stdout",
     "output_type": "stream",
     "text": [
      "Loss: 402.9578119406942\n",
      "Average Loss: 0.05513927366457228\n",
      "-----------------------------------------------------------------\n",
      "Epoch: 162; Bad epochs: 2\n"
     ]
    },
    {
     "name": "stderr",
     "output_type": "stream",
     "text": [
      "100%|█████████████████████████████████████████████████████████| 7308/7308 [00:42<00:00, 172.00it/s]\n"
     ]
    },
    {
     "name": "stdout",
     "output_type": "stream",
     "text": [
      "Loss: 403.0675388730597\n",
      "Average Loss: 0.05515428829680619\n",
      "-----------------------------------------------------------------\n",
      "Epoch: 163; Bad epochs: 3\n"
     ]
    },
    {
     "name": "stderr",
     "output_type": "stream",
     "text": [
      "100%|█████████████████████████████████████████████████████████| 7308/7308 [00:42<00:00, 172.46it/s]\n"
     ]
    },
    {
     "name": "stdout",
     "output_type": "stream",
     "text": [
      "Loss: 402.9105742513202\n",
      "Average Loss: 0.05513280983187195\n",
      "-----------------------------------------------------------------\n",
      "Epoch: 164; Bad epochs: 4\n"
     ]
    },
    {
     "name": "stderr",
     "output_type": "stream",
     "text": [
      "100%|█████████████████████████████████████████████████████████| 7308/7308 [00:43<00:00, 167.57it/s]\n"
     ]
    },
    {
     "name": "stdout",
     "output_type": "stream",
     "text": [
      "Loss: 402.85677146934904\n",
      "Average Loss: 0.05512544765590436\n",
      "-----------------------------------------------------------------\n",
      "Epoch: 165; Bad epochs: 5\n"
     ]
    },
    {
     "name": "stderr",
     "output_type": "stream",
     "text": [
      "100%|█████████████████████████████████████████████████████████| 7308/7308 [00:41<00:00, 175.05it/s]\n"
     ]
    },
    {
     "name": "stdout",
     "output_type": "stream",
     "text": [
      "Loss: 402.95015144953504\n",
      "Average Loss: 0.05513822543097086\n",
      "-----------------------------------------------------------------\n",
      "Epoch: 166; Bad epochs: 6\n"
     ]
    },
    {
     "name": "stderr",
     "output_type": "stream",
     "text": [
      "100%|█████████████████████████████████████████████████████████| 7308/7308 [00:41<00:00, 177.58it/s]\n"
     ]
    },
    {
     "name": "stdout",
     "output_type": "stream",
     "text": [
      "Loss: 402.9657389600761\n",
      "Average Loss: 0.0551403583689212\n",
      "-----------------------------------------------------------------\n",
      "Epoch: 167; Bad epochs: 7\n"
     ]
    },
    {
     "name": "stderr",
     "output_type": "stream",
     "text": [
      "100%|█████████████████████████████████████████████████████████| 7308/7308 [00:42<00:00, 169.98it/s]\n"
     ]
    },
    {
     "name": "stdout",
     "output_type": "stream",
     "text": [
      "Loss: 402.8772779549472\n",
      "Average Loss: 0.05512825368841642\n",
      "-----------------------------------------------------------------\n",
      "Epoch: 168; Bad epochs: 8\n"
     ]
    },
    {
     "name": "stderr",
     "output_type": "stream",
     "text": [
      "100%|█████████████████████████████████████████████████████████| 7308/7308 [00:45<00:00, 162.28it/s]\n"
     ]
    },
    {
     "name": "stdout",
     "output_type": "stream",
     "text": [
      "Loss: 403.040307901334\n",
      "Average Loss: 0.05515056211019896\n",
      "-----------------------------------------------------------------\n",
      "Epoch: 169; Bad epochs: 9\n"
     ]
    },
    {
     "name": "stderr",
     "output_type": "stream",
     "text": [
      "100%|█████████████████████████████████████████████████████████| 7308/7308 [00:43<00:00, 169.05it/s]\n"
     ]
    },
    {
     "name": "stdout",
     "output_type": "stream",
     "text": [
      "Loss: 402.6664401241578\n",
      "Average Loss: 0.05509940341053063\n",
      "############### Saving good model ###############################\n",
      "-----------------------------------------------------------------\n",
      "Epoch: 170; Bad epochs: 0\n"
     ]
    },
    {
     "name": "stderr",
     "output_type": "stream",
     "text": [
      "100%|█████████████████████████████████████████████████████████| 7308/7308 [00:42<00:00, 171.64it/s]\n"
     ]
    },
    {
     "name": "stdout",
     "output_type": "stream",
     "text": [
      "Loss: 402.8717453384306\n",
      "Average Loss: 0.055127496625401014\n",
      "-----------------------------------------------------------------\n",
      "Epoch: 171; Bad epochs: 1\n"
     ]
    },
    {
     "name": "stderr",
     "output_type": "stream",
     "text": [
      "100%|█████████████████████████████████████████████████████████| 7308/7308 [00:42<00:00, 172.87it/s]\n"
     ]
    },
    {
     "name": "stdout",
     "output_type": "stream",
     "text": [
      "Loss: 402.91142871580087\n",
      "Average Loss: 0.055132926753667336\n",
      "-----------------------------------------------------------------\n",
      "Epoch: 172; Bad epochs: 2\n"
     ]
    },
    {
     "name": "stderr",
     "output_type": "stream",
     "text": [
      "100%|█████████████████████████████████████████████████████████| 7308/7308 [00:42<00:00, 171.10it/s]\n"
     ]
    },
    {
     "name": "stdout",
     "output_type": "stream",
     "text": [
      "Loss: 402.86386364139616\n",
      "Average Loss: 0.05512641812279641\n",
      "-----------------------------------------------------------------\n",
      "Epoch: 173; Bad epochs: 3\n"
     ]
    },
    {
     "name": "stderr",
     "output_type": "stream",
     "text": [
      "100%|█████████████████████████████████████████████████████████| 7308/7308 [00:45<00:00, 160.87it/s]\n"
     ]
    },
    {
     "name": "stdout",
     "output_type": "stream",
     "text": [
      "Loss: 402.8045102765318\n",
      "Average Loss: 0.055118296425360126\n",
      "-----------------------------------------------------------------\n",
      "Epoch: 174; Bad epochs: 4\n"
     ]
    },
    {
     "name": "stderr",
     "output_type": "stream",
     "text": [
      "100%|█████████████████████████████████████████████████████████| 7308/7308 [00:51<00:00, 142.69it/s]\n"
     ]
    },
    {
     "name": "stdout",
     "output_type": "stream",
     "text": [
      "Loss: 402.9220959248487\n",
      "Average Loss: 0.055134386415551274\n",
      "-----------------------------------------------------------------\n",
      "Epoch: 175; Bad epochs: 5\n"
     ]
    },
    {
     "name": "stderr",
     "output_type": "stream",
     "text": [
      "100%|█████████████████████████████████████████████████████████| 7308/7308 [00:42<00:00, 170.61it/s]\n"
     ]
    },
    {
     "name": "stdout",
     "output_type": "stream",
     "text": [
      "Loss: 403.03119515720755\n",
      "Average Loss: 0.05514931515561132\n",
      "-----------------------------------------------------------------\n",
      "Epoch: 176; Bad epochs: 6\n"
     ]
    },
    {
     "name": "stderr",
     "output_type": "stream",
     "text": [
      "100%|█████████████████████████████████████████████████████████| 7308/7308 [00:43<00:00, 169.20it/s]\n"
     ]
    },
    {
     "name": "stdout",
     "output_type": "stream",
     "text": [
      "Loss: 402.84072631876916\n",
      "Average Loss: 0.05512325209616436\n",
      "-----------------------------------------------------------------\n",
      "Epoch: 177; Bad epochs: 7\n"
     ]
    },
    {
     "name": "stderr",
     "output_type": "stream",
     "text": [
      "100%|█████████████████████████████████████████████████████████| 7308/7308 [00:43<00:00, 169.75it/s]\n"
     ]
    },
    {
     "name": "stdout",
     "output_type": "stream",
     "text": [
      "Loss: 402.93214354431257\n",
      "Average Loss: 0.055135761295061925\n",
      "-----------------------------------------------------------------\n",
      "Epoch: 178; Bad epochs: 8\n"
     ]
    },
    {
     "name": "stderr",
     "output_type": "stream",
     "text": [
      "100%|█████████████████████████████████████████████████████████| 7308/7308 [00:41<00:00, 174.24it/s]\n"
     ]
    },
    {
     "name": "stdout",
     "output_type": "stream",
     "text": [
      "Loss: 402.6328729914967\n",
      "Average Loss: 0.05509481020682768\n",
      "############### Saving good model ###############################\n",
      "-----------------------------------------------------------------\n",
      "Epoch: 179; Bad epochs: 0\n"
     ]
    },
    {
     "name": "stderr",
     "output_type": "stream",
     "text": [
      "100%|█████████████████████████████████████████████████████████| 7308/7308 [00:42<00:00, 173.99it/s]\n"
     ]
    },
    {
     "name": "stdout",
     "output_type": "stream",
     "text": [
      "Loss: 402.7648887448013\n",
      "Average Loss: 0.05511287475982503\n",
      "-----------------------------------------------------------------\n",
      "Epoch: 180; Bad epochs: 1\n"
     ]
    },
    {
     "name": "stderr",
     "output_type": "stream",
     "text": [
      "100%|█████████████████████████████████████████████████████████| 7308/7308 [00:42<00:00, 172.90it/s]\n"
     ]
    },
    {
     "name": "stdout",
     "output_type": "stream",
     "text": [
      "Loss: 402.5810923175886\n",
      "Average Loss: 0.05508772472873408\n",
      "############### Saving good model ###############################\n",
      "-----------------------------------------------------------------\n",
      "Epoch: 181; Bad epochs: 0\n"
     ]
    },
    {
     "name": "stderr",
     "output_type": "stream",
     "text": [
      "100%|█████████████████████████████████████████████████████████| 7308/7308 [00:42<00:00, 172.51it/s]\n"
     ]
    },
    {
     "name": "stdout",
     "output_type": "stream",
     "text": [
      "Loss: 402.815026398981\n",
      "Average Loss: 0.05511973541310632\n",
      "-----------------------------------------------------------------\n",
      "Epoch: 182; Bad epochs: 1\n"
     ]
    },
    {
     "name": "stderr",
     "output_type": "stream",
     "text": [
      "100%|█████████████████████████████████████████████████████████| 7308/7308 [00:42<00:00, 171.06it/s]\n"
     ]
    },
    {
     "name": "stdout",
     "output_type": "stream",
     "text": [
      "Loss: 402.50292881624773\n",
      "Average Loss: 0.055077029120997226\n",
      "############### Saving good model ###############################\n",
      "-----------------------------------------------------------------\n",
      "Epoch: 183; Bad epochs: 0\n"
     ]
    },
    {
     "name": "stderr",
     "output_type": "stream",
     "text": [
      "100%|█████████████████████████████████████████████████████████| 7308/7308 [00:42<00:00, 171.36it/s]\n"
     ]
    },
    {
     "name": "stdout",
     "output_type": "stream",
     "text": [
      "Loss: 402.6105696938466\n",
      "Average Loss: 0.05509175830512406\n",
      "-----------------------------------------------------------------\n",
      "Epoch: 184; Bad epochs: 1\n"
     ]
    },
    {
     "name": "stderr",
     "output_type": "stream",
     "text": [
      "100%|█████████████████████████████████████████████████████████| 7308/7308 [00:41<00:00, 174.36it/s]\n"
     ]
    },
    {
     "name": "stdout",
     "output_type": "stream",
     "text": [
      "Loss: 402.8742164291907\n",
      "Average Loss: 0.05512783476042566\n",
      "-----------------------------------------------------------------\n",
      "Epoch: 185; Bad epochs: 2\n"
     ]
    },
    {
     "name": "stderr",
     "output_type": "stream",
     "text": [
      "100%|█████████████████████████████████████████████████████████| 7308/7308 [00:42<00:00, 172.40it/s]\n"
     ]
    },
    {
     "name": "stdout",
     "output_type": "stream",
     "text": [
      "Loss: 402.89764448837377\n",
      "Average Loss: 0.05513104057038502\n",
      "-----------------------------------------------------------------\n",
      "Epoch: 186; Bad epochs: 3\n"
     ]
    },
    {
     "name": "stderr",
     "output_type": "stream",
     "text": [
      "100%|█████████████████████████████████████████████████████████| 7308/7308 [00:42<00:00, 171.39it/s]\n"
     ]
    },
    {
     "name": "stdout",
     "output_type": "stream",
     "text": [
      "Loss: 402.64901747507975\n",
      "Average Loss: 0.055097019358932645\n",
      "-----------------------------------------------------------------\n",
      "Epoch: 187; Bad epochs: 4\n"
     ]
    },
    {
     "name": "stderr",
     "output_type": "stream",
     "text": [
      "100%|█████████████████████████████████████████████████████████| 7308/7308 [00:41<00:00, 174.21it/s]\n"
     ]
    },
    {
     "name": "stdout",
     "output_type": "stream",
     "text": [
      "Loss: 402.60342926578596\n",
      "Average Loss: 0.05509078123505555\n",
      "-----------------------------------------------------------------\n",
      "Epoch: 188; Bad epochs: 5\n"
     ]
    },
    {
     "name": "stderr",
     "output_type": "stream",
     "text": [
      "100%|█████████████████████████████████████████████████████████| 7308/7308 [00:42<00:00, 172.82it/s]\n"
     ]
    },
    {
     "name": "stdout",
     "output_type": "stream",
     "text": [
      "Loss: 402.7669491302222\n",
      "Average Loss: 0.0551131566954327\n",
      "-----------------------------------------------------------------\n",
      "Epoch: 189; Bad epochs: 6\n"
     ]
    },
    {
     "name": "stderr",
     "output_type": "stream",
     "text": [
      "100%|█████████████████████████████████████████████████████████| 7308/7308 [00:42<00:00, 171.16it/s]\n"
     ]
    },
    {
     "name": "stdout",
     "output_type": "stream",
     "text": [
      "Loss: 402.52388943056576\n",
      "Average Loss: 0.0550798972948229\n",
      "-----------------------------------------------------------------\n",
      "Epoch: 190; Bad epochs: 7\n"
     ]
    },
    {
     "name": "stderr",
     "output_type": "stream",
     "text": [
      "100%|█████████████████████████████████████████████████████████| 7308/7308 [00:42<00:00, 172.89it/s]\n"
     ]
    },
    {
     "name": "stdout",
     "output_type": "stream",
     "text": [
      "Loss: 402.8096780204214\n",
      "Average Loss: 0.05511900356053933\n",
      "-----------------------------------------------------------------\n",
      "Epoch: 191; Bad epochs: 8\n"
     ]
    },
    {
     "name": "stderr",
     "output_type": "stream",
     "text": [
      "100%|█████████████████████████████████████████████████████████| 7308/7308 [00:42<00:00, 173.37it/s]\n"
     ]
    },
    {
     "name": "stdout",
     "output_type": "stream",
     "text": [
      "Loss: 402.61158586107194\n",
      "Average Loss: 0.055091897353731795\n",
      "-----------------------------------------------------------------\n",
      "Epoch: 192; Bad epochs: 9\n"
     ]
    },
    {
     "name": "stderr",
     "output_type": "stream",
     "text": [
      "100%|█████████████████████████████████████████████████████████| 7308/7308 [00:42<00:00, 173.34it/s]"
     ]
    },
    {
     "name": "stdout",
     "output_type": "stream",
     "text": [
      "Loss: 402.63889914611354\n",
      "Average Loss: 0.05509563480379222\n",
      "Done, best loss: 402.50292881624773\n",
      "Done\n"
     ]
    },
    {
     "name": "stderr",
     "output_type": "stream",
     "text": [
      "\n"
     ]
    },
    {
     "data": {
      "text/plain": [
       "<All keys matched successfully>"
      ]
     },
     "execution_count": 43,
     "metadata": {},
     "output_type": "execute_result"
    }
   ],
   "source": [
    "loss_list=[]\n",
    "avg_loss_list=[]\n",
    "\n",
    "counter = 0\n",
    "\n",
    "# Best loss\n",
    "best = 1e16\n",
    "num_bad_epochs = 0\n",
    "patience = 10\n",
    "\n",
    "for epoch in range(1000):\n",
    "    print(\"-----------------------------------------------------------------\")\n",
    "    print(\"Epoch: {}; Bad epochs: {}\".format(epoch, num_bad_epochs))\n",
    "    net.train()\n",
    "    running_loss = 0.\n",
    "\n",
    "    for i, X_batch in enumerate(tqdm(trainloader), 0):\n",
    "        optimizer.zero_grad()\n",
    "        X_pred, mu_cart_pred, lambda_par_pred, lambda_iso_pred, volume_0_pred, volume_1_pred = net(X_batch)\n",
    "        if i == 100 and counter == 10:\n",
    "            print(\"X_batch: \")\n",
    "            print(X_batch.shape)\n",
    "            print(X_batch)\n",
    "            print(\"X_pred: \")\n",
    "            print(X_pred.shape)\n",
    "            print(X_pred)\n",
    "        loss = criterion(X_pred.type(torch.FloatTensor), X_batch.type(torch.FloatTensor))\n",
    "        loss.backward()\n",
    "        optimizer.step()\n",
    "        running_loss += loss.item()\n",
    "        \n",
    "    loss_list.append(running_loss)\n",
    "    avg_loss_list.append(running_loss/num_batches)\n",
    "    print(\"Loss: {}\".format(running_loss))\n",
    "    print(\"Average Loss: {}\".format(running_loss/num_batches))\n",
    "    \n",
    "\n",
    "    if running_loss < best:\n",
    "        print(\"############### Saving good model ###############################\")\n",
    "        final_model = net.state_dict()\n",
    "        best = running_loss\n",
    "        num_bad_epochs = 0\n",
    "    else:\n",
    "        num_bad_epochs = num_bad_epochs + 1\n",
    "        if num_bad_epochs == patience:\n",
    "            print(\"Done, best loss: {}\".format(best))\n",
    "            break\n",
    "    counter += 1\n",
    "\n",
    "print(\"Done\") \n",
    "net.load_state_dict(final_model)"
   ]
  },
  {
   "cell_type": "code",
   "execution_count": 44,
   "id": "e776f827-069f-4643-b60d-f9449dc500e4",
   "metadata": {},
   "outputs": [
    {
     "data": {
      "image/png": "[encoded data removed]",
      "text/plain": [
       "<Figure size 640x480 with 1 Axes>"
      ]
     },
     "metadata": {},
     "output_type": "display_data"
    }
   ],
   "source": [
    "epoch_arr = np.arange(0, len(avg_loss_list))\n",
    "loss_arr = np.array(avg_loss_list)\n",
    "plt.plot(avg_loss_list)\n",
    "plt.xlabel(\"Epochs\")\n",
    "plt.ylabel(\"Average Runing Loss per batch\")\n",
    "plt.show()"
   ]
  },
  {
   "cell_type": "code",
   "execution_count": 45,
   "id": "0920749b-c100-49e6-9b3c-ca25b31147d2",
   "metadata": {},
   "outputs": [],
   "source": [
    "torch.save(final_model, 'model_100206_norm_01_Feb_182e.pt')"
   ]
  },
  {
   "cell_type": "markdown",
   "id": "9d45b446-7f39-41fe-9006-dee73abbf3ee",
   "metadata": {},
   "source": [
    "## Load saved NN"
   ]
  },
  {
   "cell_type": "code",
   "execution_count": 63,
   "id": "c6ba864b-c5e6-4f6c-8dbd-10e66333d63f",
   "metadata": {},
   "outputs": [
    {
     "name": "stdout",
     "output_type": "stream",
     "text": [
      "(270, 3)\n"
     ]
    }
   ],
   "source": [
    "n_all_100206 = np.loadtxt(config.data_folder2 + '/100206/bvecs')\n",
    "n_100206 = n_all_100206[:,big_b_indices_100206].T\n",
    "print(n_100206.shape)\n",
    "\n",
    "b_values_100206 = torch.FloatTensor(bvals_100206)\n",
    "gradient_directions_100206 = torch.FloatTensor(n_100206)"
   ]
  },
  {
   "cell_type": "code",
   "execution_count": 64,
   "id": "32713abf-7eee-4f59-9247-b9166e0c1b43",
   "metadata": {},
   "outputs": [
    {
     "data": {
      "text/plain": [
       "BallStickNet(\n",
       "  (fc_layers): ModuleList(\n",
       "    (0): Linear(in_features=270, out_features=270, bias=True)\n",
       "    (1): ELU(alpha=1.0)\n",
       "    (2): Linear(in_features=270, out_features=270, bias=True)\n",
       "    (3): ELU(alpha=1.0)\n",
       "    (4): Linear(in_features=270, out_features=270, bias=True)\n",
       "    (5): ELU(alpha=1.0)\n",
       "  )\n",
       "  (encoder): Sequential(\n",
       "    (0): Linear(in_features=270, out_features=270, bias=True)\n",
       "    (1): ELU(alpha=1.0)\n",
       "    (2): Linear(in_features=270, out_features=270, bias=True)\n",
       "    (3): ELU(alpha=1.0)\n",
       "    (4): Linear(in_features=270, out_features=270, bias=True)\n",
       "    (5): ELU(alpha=1.0)\n",
       "    (6): Linear(in_features=270, out_features=5, bias=True)\n",
       "  )\n",
       ")"
      ]
     },
     "execution_count": 64,
     "metadata": {},
     "output_type": "execute_result"
    }
   ],
   "source": [
    "net_100206 = BallStickNet(gradient_directions_100206, b_values_100206)\n",
    "net_100206.load_state_dict(torch.load(\"/Users/weiwenhua/UGY4/COMP0029/COMP0029-Project/deep-ball-stick/model_100206_norm_01_Feb_182e.pt\"))\n",
    "net_100206.eval()"
   ]
  },
  {
   "cell_type": "markdown",
   "id": "1b14589e-286f-48f2-937d-ce3c122bfc9d",
   "metadata": {},
   "source": [
    "## Inference"
   ]
  },
  {
   "cell_type": "code",
   "execution_count": 65,
   "id": "1a236e99-554e-4067-9c6d-61294e03d7ac",
   "metadata": {},
   "outputs": [],
   "source": [
    "X_100206_pred, mu_cart_100206_pred, lambda_par_100206_pred, lambda_iso_100206_pred,  volume_0_100206_pred, volume_1_100206_pred = net_100206(torch.from_numpy(normalized_scan_100206_no_b5.astype(np.float32)))"
   ]
  },
  {
   "cell_type": "code",
   "execution_count": 86,
   "id": "7bfcd835-da90-461b-bfba-ba0ccac04a2d",
   "metadata": {},
   "outputs": [
    {
     "data": {
      "text/plain": [
       "(tensor([   423,    473,   1083,  ..., 933797, 934730, 934749]),\n",
       " tensor([0, 0, 0,  ..., 0, 0, 0]))"
      ]
     },
     "execution_count": 86,
     "metadata": {},
     "output_type": "execute_result"
    }
   ],
   "source": [
    "torch.where(volume_0_100206_pred >= 0.9)\n"
   ]
  },
  {
   "cell_type": "code",
   "execution_count": 90,
   "id": "989660e2-47ab-4dd3-8524-982fdd9bf0e3",
   "metadata": {},
   "outputs": [
    {
     "data": {
      "text/plain": [
       "tensor([0.3480], grad_fn=<SelectBackward0>)"
      ]
     },
     "execution_count": 90,
     "metadata": {},
     "output_type": "execute_result"
    }
   ],
   "source": [
    "volume_0_100206_pred[93379]"
   ]
  },
  {
   "cell_type": "code",
   "execution_count": 89,
   "id": "d015b3cc-e35d-4712-85da-1e3184ae3b85",
   "metadata": {},
   "outputs": [
    {
     "data": {
      "text/plain": [
       "[<matplotlib.lines.Line2D at 0x1d7c332b0>]"
      ]
     },
     "execution_count": 89,
     "metadata": {},
     "output_type": "execute_result"
    },
    {
     "data": {
      "image/png": "[encoded data removed]",
      "text/plain": [
       "<Figure size 640x480 with 1 Axes>"
      ]
     },
     "metadata": {},
     "output_type": "display_data"
    }
   ],
   "source": [
    "plt.plot(bvals_100206*1e03, X_100206_pred[93379,:].detach().numpy(),  \"o\", markersize = 1)\n",
    "plt.plot(bvals_100206*1e03,normalized_scan_100206_no_b5[93379,:], \".\", markersize = 1)"
   ]
  },
  {
   "cell_type": "code",
   "execution_count": 84,
   "id": "054b2b59-7041-4f2b-acb5-d583172b423e",
   "metadata": {},
   "outputs": [
    {
     "data": {
      "text/plain": [
       "[<matplotlib.lines.Line2D at 0x1d7cab400>]"
      ]
     },
     "execution_count": 84,
     "metadata": {},
     "output_type": "execute_result"
    },
    {
     "data": {
      "image/png": "[encoded data removed]",
      "text/plain": [
       "<Figure size 640x480 with 1 Axes>"
      ]
     },
     "metadata": {},
     "output_type": "display_data"
    }
   ],
   "source": [
    "plt.plot(lambda_par_100206_pred.detach().numpy(), 'o', markersize  = 1)"
   ]
  },
  {
   "cell_type": "code",
   "execution_count": 71,
   "id": "f565d16b-a641-4953-b6d9-db19f7e1d7b8",
   "metadata": {},
   "outputs": [
    {
     "data": {
      "text/plain": [
       "[<matplotlib.lines.Line2D at 0x1cc42b2e0>]"
      ]
     },
     "execution_count": 71,
     "metadata": {},
     "output_type": "execute_result"
    },
    {
     "data": {
      "image/png": "[encoded data removed]",
      "text/plain": [
       "<Figure size 640x480 with 1 Axes>"
      ]
     },
     "metadata": {},
     "output_type": "display_data"
    }
   ],
   "source": [
    "plt.plot(lambda_iso_100206_pred.detach().numpy(), 'o')"
   ]
  },
  {
   "cell_type": "code",
   "execution_count": 72,
   "id": "7740353c-75b5-44ce-b346-9921606cf018",
   "metadata": {},
   "outputs": [
    {
     "data": {
      "text/plain": [
       "[<matplotlib.lines.Line2D at 0x1cd6b96f0>]"
      ]
     },
     "execution_count": 72,
     "metadata": {},
     "output_type": "execute_result"
    },
    {
     "data": {
      "image/png": "[encoded data removed]",
      "text/plain": [
       "<Figure size 640x480 with 1 Axes>"
      ]
     },
     "metadata": {},
     "output_type": "display_data"
    }
   ],
   "source": [
    "plt.plot(volume_0_100206_pred.detach().numpy(), 'o')"
   ]
  },
  {
   "cell_type": "markdown",
   "id": "e04b2aa6-3dd2-4ef6-81d7-edfdb0cbc9bf",
   "metadata": {},
   "source": [
    "## Restore predictions to 3D"
   ]
  },
  {
   "cell_type": "code",
   "execution_count": 43,
   "id": "e11bf7d7-4826-42f8-8ec3-55d0cb53ecd5",
   "metadata": {},
   "outputs": [],
   "source": [
    "def add_bg(mask_long, params):\n",
    "    resume_params = np.copy(mask_long)\n",
    "    no_bg_indices = np.where(mask_long == 1)[0]\n",
    "    for i, index in enumerate(no_bg_indices):\n",
    "        resume_params[index] = params[i]\n",
    "    return resume_params\n",
    "\n",
    "def back_to_3D(mask_long, parames_1d, shape):\n",
    "    params_with_bg = add_bg(mask_long, parames_1d.detach().numpy())\n",
    "    params_3d = np.reshape(params_with_bg, shape)\n",
    "    return params_3d"
   ]
  },
  {
   "cell_type": "code",
   "execution_count": 73,
   "id": "d9e96ab7-6f9f-49e4-b6c9-c284b648f3da",
   "metadata": {},
   "outputs": [],
   "source": [
    "lambda_par_100206_pred_3d = back_to_3D(mask_100206_long_pro, lambda_par_100206_pred, (145, 174, 145))\n",
    "lambda_iso_100206_pred_3d = back_to_3D(mask_100206_long_pro, lambda_iso_100206_pred, (145, 174, 145))\n",
    "volume_0_100206_pred_3d = back_to_3D(mask_100206_long_pro, volume_0_100206_pred, (145, 174, 145))\n",
    "volume_1_100206_pred_3d = back_to_3D(mask_100206_long_pro, volume_1_100206_pred, (145, 174, 145))"
   ]
  },
  {
   "cell_type": "markdown",
   "id": "8df8fde0-b9e2-46fc-b44f-79c56415920d",
   "metadata": {},
   "source": [
    "## Dmipy fitting method"
   ]
  },
  {
   "cell_type": "code",
   "execution_count": 37,
   "id": "702a5679-ac32-463c-84ea-43f71a0f23c9",
   "metadata": {},
   "outputs": [],
   "source": [
    "def get_acquisition_scheme(bvals, gradient_directions):\n",
    "    delta = 0.0106\n",
    "    Delta = 0.0431\n",
    "    return acquisition_scheme_from_bvalues(bvals, gradient_directions, delta, Delta)"
   ]
  },
  {
   "cell_type": "code",
   "execution_count": 38,
   "id": "0b920afc-a3a8-4b25-908a-a491d6d3f545",
   "metadata": {},
   "outputs": [],
   "source": [
    "def get_fitted_parameters(scan_slice, mask_slice, bvals, gradient_directions):\n",
    "    scheme = get_acquisition_scheme(bvals, gradient_directions)\n",
    "    \n",
    "    ball = gaussian_models.G1Ball()\n",
    "    stick = cylinder_models.C1Stick()\n",
    "    BAS_mod = MultiCompartmentModel(models=[stick, ball])\n",
    "    \n",
    "    BAS_fit = BAS_mod.fit(scheme, scan_slice, mask_slice)\n",
    "    \n",
    "    return BAS_fit.fitted_parameters"
   ]
  },
  {
   "cell_type": "code",
   "execution_count": 75,
   "id": "f549873f-ca92-4548-8c97-5f06a083647c",
   "metadata": {
    "tags": []
   },
   "outputs": [
    {
     "name": "stdout",
     "output_type": "stream",
     "text": [
      "We highly recommend installing numba for faster function execution and model fitting.\n",
      "We highly recommend installing pathos to take advantage of multicore processing.\n",
      "Setup brute2fine optimizer in 0.2612478733062744 seconds\n",
      "Fitting of 8433 voxels complete in 206.50290298461914 seconds.\n",
      "Average of 0.024487478119840998 seconds per voxel.\n"
     ]
    }
   ],
   "source": [
    "fitted_parameters_100206_slice = get_fitted_parameters(scan_100206[:, 100, :, :], mask_100206[:,100,:], bvals_all_100206*1e9, n_all_100206.T)"
   ]
  },
  {
   "cell_type": "code",
   "execution_count": 76,
   "id": "463c448e-78a6-4fcd-bb25-1ec8ce816fb8",
   "metadata": {},
   "outputs": [
    {
     "data": {
      "text/plain": [
       "dict_keys(['C1Stick_1_mu', 'C1Stick_1_lambda_par', 'G1Ball_1_lambda_iso', 'partial_volume_0', 'partial_volume_1'])"
      ]
     },
     "execution_count": 76,
     "metadata": {},
     "output_type": "execute_result"
    }
   ],
   "source": [
    "fitted_parameters_100206_slice.keys()"
   ]
  },
  {
   "cell_type": "markdown",
   "id": "a011c8dc-e95c-400b-9744-625f64ff8df8",
   "metadata": {},
   "source": [
    "## Parameter maps"
   ]
  },
  {
   "cell_type": "code",
   "execution_count": 78,
   "id": "8bf66dcf-a810-459c-91f2-eaf67075a75e",
   "metadata": {},
   "outputs": [
    {
     "data": {
      "image/png": "[encoded data removed]",
      "text/plain": [
       "<Figure size 1000x1000 with 16 Axes>"
      ]
     },
     "metadata": {},
     "output_type": "display_data"
    }
   ],
   "source": [
    "fig_100206, axs_100206 = plt.subplots(4, 2, figsize=[10, 10])\n",
    "axs_100206 = axs_100206.ravel()\n",
    "\n",
    "print_parameter_maps(fig_100206, axs_100206,\n",
    "                     lambda_par_100206_pred_3d[:,100,:],\n",
    "                     lambda_iso_100206_pred_3d[:,100,:],\n",
    "                     volume_0_100206_pred_3d[:,100,:],\n",
    "                     volume_1_100206_pred_3d[:,100,:],\n",
    "                     fitted_parameters_100206_slice)\n",
    "\n",
    "# speed of diffusivity\n",
    "# image show pair"
   ]
  },
  {
   "cell_type": "markdown",
   "id": "2f44476f-27bf-4845-95c7-bc1b8b2f14c4",
   "metadata": {},
   "source": [
    "## Testing data"
   ]
  },
  {
   "cell_type": "code",
   "execution_count": 2,
   "id": "5b51ee1d-3b7c-4e55-8864-0eb6fb10835c",
   "metadata": {},
   "outputs": [],
   "source": [
    "scan_100307 = process_data.get_nifti_data(config.data_folder2 + '/100307/data.nii.gz')\n",
    "mask_100307 = process_data.get_nifti_data(config.data_folder2 + '/100307/nodif_brain_mask.nii.gz')"
   ]
  },
  {
   "cell_type": "code",
   "execution_count": 4,
   "id": "ffa3c39d-c7d9-4417-afbf-8b3565cd84c6",
   "metadata": {},
   "outputs": [],
   "source": [
    "scan_100307_dimension = scan_100307.shape\n",
    "x = scan_100307_dimension[0]\n",
    "y = scan_100307_dimension[1]\n",
    "z = scan_100307_dimension[2]\n",
    "b = scan_100307_dimension[3]"
   ]
  },
  {
   "cell_type": "code",
   "execution_count": 9,
   "id": "5f579e71-883d-45de-be9c-b7b5ed7e68e6",
   "metadata": {},
   "outputs": [],
   "source": [
    "scan_100307_long = np.reshape(scan_100307, (x*y*z, b))"
   ]
  },
  {
   "cell_type": "code",
   "execution_count": 10,
   "id": "604a30f0-31ec-4bc9-a8a1-50fc91206aaf",
   "metadata": {},
   "outputs": [],
   "source": [
    "mask_100307_long = np.reshape(mask_100307, (x*y*z, 1))"
   ]
  },
  {
   "cell_type": "code",
   "execution_count": null,
   "id": "7b9cdd4e-2c21-4041-91c5-cc8f75173828",
   "metadata": {},
   "outputs": [],
   "source": []
  },
  {
   "cell_type": "code",
   "execution_count": 11,
   "id": "646fda46-c4fb-4f9e-9019-3d5101fb043b",
   "metadata": {},
   "outputs": [],
   "source": [
    "# Error voxels\n",
    "indices_beginning_0_all_100307 = np.where(scan_100307_long[:, 0] == 0)[0]"
   ]
  },
  {
   "cell_type": "code",
   "execution_count": 12,
   "id": "84a1e921-1277-4b27-955e-4e903baa2c4e",
   "metadata": {},
   "outputs": [],
   "source": [
    "mask_100307_long_pro = np.copy(mask_100307_long)\n",
    "mask_100307_long_pro[indices_beginning_0_all_100307] = 0"
   ]
  },
  {
   "cell_type": "code",
   "execution_count": 13,
   "id": "dd9948d0-e492-4dcd-89ff-177e8491ebd6",
   "metadata": {},
   "outputs": [],
   "source": [
    "scan_100307_long_no_background = process_data.remove_background(scan_100307_long, mask_100307_long_pro)"
   ]
  },
  {
   "cell_type": "code",
   "execution_count": 14,
   "id": "94ac6326-152a-4f4d-9443-8cc479d54d1b",
   "metadata": {},
   "outputs": [],
   "source": [
    "bvals_all_100307 = np.loadtxt(config.data_folder2 + '/100307/bvals') * 1e-3"
   ]
  },
  {
   "cell_type": "code",
   "execution_count": 15,
   "id": "f22d2d96-1cc7-44e7-83a8-1d75f35c0a55",
   "metadata": {},
   "outputs": [],
   "source": [
    "S0_100307 = process_data.get_S0(scan_100307_long_no_background, bvals_all_100307)"
   ]
  },
  {
   "cell_type": "code",
   "execution_count": 16,
   "id": "550517f3-dded-4666-8bf9-1f5e1fd20eb8",
   "metadata": {},
   "outputs": [],
   "source": [
    "normalized_scan_100307 = scan_100307_long_no_background / S0_100307"
   ]
  },
  {
   "cell_type": "code",
   "execution_count": 17,
   "id": "04074873-0a7c-4371-add4-9b0c5c5dc7fe",
   "metadata": {},
   "outputs": [],
   "source": [
    "big_b_indices_100307 = np.where(bvals_all_100307 != 0.005)[0]"
   ]
  },
  {
   "cell_type": "code",
   "execution_count": 18,
   "id": "cb32a1ef-1e80-4836-bdbf-ca7e090ed65b",
   "metadata": {},
   "outputs": [],
   "source": [
    "bvals_100307 = bvals_all_100307[big_b_indices_100307]"
   ]
  },
  {
   "cell_type": "code",
   "execution_count": 19,
   "id": "af563936-965e-46d2-8f52-f711bbdf91dc",
   "metadata": {},
   "outputs": [],
   "source": [
    "normalized_scan_100307_no_b5 = normalized_scan_100307[:, big_b_indices_100307]"
   ]
  },
  {
   "cell_type": "code",
   "execution_count": 20,
   "id": "2ce425fc-4412-47d0-9860-db51601ada3c",
   "metadata": {},
   "outputs": [
    {
     "data": {
      "text/plain": [
       "(740145, 270)"
      ]
     },
     "execution_count": 20,
     "metadata": {},
     "output_type": "execute_result"
    }
   ],
   "source": [
    "normalized_scan_100307_no_b5.shape"
   ]
  },
  {
   "cell_type": "code",
   "execution_count": 22,
   "id": "36ad22d3-56a0-4e1d-a963-f33035d1fefa",
   "metadata": {},
   "outputs": [
    {
     "name": "stdout",
     "output_type": "stream",
     "text": [
      "(270, 3)\n"
     ]
    }
   ],
   "source": [
    "n_all_100307 = np.loadtxt(config.data_folder2 + '/100307/bvecs')\n",
    "n_100307 = n_all_100307[:,big_b_indices_100307].T\n",
    "print(n_100307.shape)\n",
    "\n",
    "b_values_100307 = torch.FloatTensor(bvals_100307)\n",
    "gradient_directions_100307 = torch.FloatTensor(n_100307)"
   ]
  },
  {
   "cell_type": "code",
   "execution_count": 29,
   "id": "8796947a-7405-4df8-bd68-0d86ab363675",
   "metadata": {},
   "outputs": [
    {
     "data": {
      "text/plain": [
       "BallStickNet(\n",
       "  (fc_layers): ModuleList(\n",
       "    (0): Linear(in_features=270, out_features=270, bias=True)\n",
       "    (1): ELU(alpha=1.0)\n",
       "    (2): Linear(in_features=270, out_features=270, bias=True)\n",
       "    (3): ELU(alpha=1.0)\n",
       "    (4): Linear(in_features=270, out_features=270, bias=True)\n",
       "    (5): ELU(alpha=1.0)\n",
       "  )\n",
       "  (encoder): Sequential(\n",
       "    (0): Linear(in_features=270, out_features=270, bias=True)\n",
       "    (1): ELU(alpha=1.0)\n",
       "    (2): Linear(in_features=270, out_features=270, bias=True)\n",
       "    (3): ELU(alpha=1.0)\n",
       "    (4): Linear(in_features=270, out_features=270, bias=True)\n",
       "    (5): ELU(alpha=1.0)\n",
       "    (6): Linear(in_features=270, out_features=5, bias=True)\n",
       "  )\n",
       ")"
      ]
     },
     "execution_count": 29,
     "metadata": {},
     "output_type": "execute_result"
    }
   ],
   "source": [
    "net_100307 = BallStickNet(gradient_directions_100307, b_values_100307)\n",
    "net_100307.load_state_dict(torch.load(\"/Users/weiwenhua/UGY4/COMP0029/COMP0029-Project/deep-ball-stick/model_100206_norm_01_Feb_182e.pt\"))\n",
    "net_100307.eval()"
   ]
  },
  {
   "cell_type": "code",
   "execution_count": 30,
   "id": "c1169c8a-27a8-401a-b971-a0f90fa133c4",
   "metadata": {},
   "outputs": [],
   "source": [
    "X_100307_pred, mu_cart__100307_pred_train, lambda_par_100307_pred_train, lambda_iso_100307_pred_train,  volume_0__100307_pred_train, volume_1__100307_pred_train = net_100307(torch.from_numpy(normalized_scan_100307_no_b5.astype(np.float32)))"
   ]
  },
  {
   "cell_type": "code",
   "execution_count": 34,
   "id": "8fb08557-f1a7-4b46-9d21-68e2e9c33413",
   "metadata": {},
   "outputs": [
    {
     "data": {
      "text/plain": [
       "[<matplotlib.lines.Line2D at 0x1cc5188b0>]"
      ]
     },
     "execution_count": 34,
     "metadata": {},
     "output_type": "execute_result"
    },
    {
     "data": {
      "image/png": "[encoded data removed]",
      "text/plain": [
       "<Figure size 640x480 with 1 Axes>"
      ]
     },
     "metadata": {},
     "output_type": "display_data"
    }
   ],
   "source": [
    "plt.plot(bvals_100307*1e03, X_100307_pred[1010,:].detach().numpy(),  \"o\")\n",
    "plt.plot(bvals_100307*1e03,normalized_scan_100307_no_b5[1010,:], \".\")"
   ]
  },
  {
   "cell_type": "code",
   "execution_count": 40,
   "id": "4822afcc-8f31-48d5-a069-6038f65acd19",
   "metadata": {},
   "outputs": [
    {
     "name": "stdout",
     "output_type": "stream",
     "text": [
      "We highly recommend installing numba for faster function execution and model fitting.\n",
      "We highly recommend installing pathos to take advantage of multicore processing.\n",
      "Setup brute2fine optimizer in 0.28487610816955566 seconds\n",
      "Fitting of 7465 voxels complete in 225.24117493629456 seconds.\n",
      "Average of 0.03017296382267844 seconds per voxel.\n"
     ]
    }
   ],
   "source": [
    "fitted_params_100307 = get_fitted_parameters(scan_100307[:, 100, :, :], mask_100307[:, 100, :], bvals_all_100307*1e9, n_all_100307.T)"
   ]
  },
  {
   "cell_type": "code",
   "execution_count": 91,
   "id": "50e43c09-a0a2-4563-bb07-3c422d3e1e4f",
   "metadata": {},
   "outputs": [],
   "source": [
    "import matplotlib"
   ]
  },
  {
   "cell_type": "code",
   "execution_count": 92,
   "id": "d0462ceb-c59b-48e9-a89c-b09df8c16fd4",
   "metadata": {},
   "outputs": [],
   "source": [
    "def show_mi(fig, axs, idx, data_slice, title):\n",
    "    cf = axs[idx].imshow(data_slice.squeeze().T, origin='lower', interpolation='nearest', cmap=matplotlib.colormaps[\"hot\"])\n",
    "    axs[idx].set_title(title)\n",
    "    axs[idx].set_axis_off()\n",
    "    fig.colorbar(cf, ax=axs[idx], shrink=0.8)"
   ]
  },
  {
   "cell_type": "code",
   "execution_count": 93,
   "id": "d2a81475-bad3-44ad-ab6f-a983ccdfd3e0",
   "metadata": {},
   "outputs": [],
   "source": [
    "def print_parameter_maps(fig, axs, lambda_par_nn_pred_slice,lambda_iso_nn_pred_slice,volume_0_nn_pred_slice,volume_1_nn_pred_slice,fitted_parameters):\n",
    "    show_mi(fig, axs, 0, lambda_par_nn_pred_slice, \"C1Stick lambda_par\")\n",
    "    \n",
    "    show_mi(fig, axs, 1, fitted_parameters.get(\"C1Stick_1_lambda_par\"),\"C1Stick lambda_par\")\n",
    "    \n",
    "    show_mi(fig, axs, 2, lambda_iso_nn_pred_slice,\"G1Ball lambda_iso\")\n",
    "    \n",
    "    show_mi(fig, axs, 3, fitted_parameters.get(\"G1Ball_1_lambda_iso\"),\"G1Ball lambda_iso\")\n",
    "    \n",
    "    show_mi(fig, axs, 4, volume_0_nn_pred_slice,\"partial_volume_0\")\n",
    "    \n",
    "    show_mi(fig, axs, 5, fitted_parameters.get(\"partial_volume_0\"),\"partial_volume_0\")\n",
    "    \n",
    "    show_mi(fig, axs, 6, volume_1_nn_pred_slice,\"partial_volume_1\")\n",
    "    \n",
    "    show_mi(fig, axs, 7, fitted_parameters.get(\"partial_volume_1\"),\"partial_volume_1\")"
   ]
  },
  {
   "cell_type": "code",
   "execution_count": 94,
   "id": "621453a1-4de9-474d-ba83-1c181c80311c",
   "metadata": {},
   "outputs": [],
   "source": [
    "lambda_par_pred_3d_100307 = back_to_3D(mask_100307_long_pro, lambda_par_100307_pred_train, (145, 174, 145))\n",
    "lambda_iso_pred_3d_100307 = back_to_3D(mask_100307_long_pro, lambda_iso_100307_pred_train, (145, 174, 145))\n",
    "volume_0_pred_3d_100307 = back_to_3D(mask_100307_long_pro, volume_0__100307_pred_train, (145, 174, 145))\n",
    "volume_1_pred_3d_100307 = back_to_3D(mask_100307_long_pro, volume_0__100307_pred_train, (145, 174, 145))"
   ]
  },
  {
   "cell_type": "code",
   "execution_count": 95,
   "id": "3f260e46-e477-4064-b7f1-483c803b436d",
   "metadata": {},
   "outputs": [
    {
     "data": {
      "image/png": "[encoded data removed]",
      "text/plain": [
       "<Figure size 1000x1000 with 16 Axes>"
      ]
     },
     "metadata": {},
     "output_type": "display_data"
    }
   ],
   "source": [
    "fig_test, axs_test = plt.subplots(4, 2, figsize=[10, 10])\n",
    "axs_test = axs_test.ravel()\n",
    "\n",
    "print_parameter_maps(fig_test, axs_test,\n",
    "                     lambda_par_pred_3d_100307[:,100,:],\n",
    "                     lambda_iso_pred_3d_100307[:,100,:],\n",
    "                     volume_0_pred_3d_100307[:,100,:],\n",
    "                     volume_1_pred_3d_100307[:,100,:],\n",
    "                     fitted_params_100307)"
   ]
  },
  {
   "cell_type": "code",
   "execution_count": null,
   "id": "0f8e19d6-3efb-4b56-a05a-3a24ac45d9a7",
   "metadata": {},
   "outputs": [],
   "source": []
  }
 ],
 "metadata": {
  "kernelspec": {
   "display_name": "Python 3 (ipykernel)",
   "language": "python",
   "name": "python3"
  },
  "language_info": {
   "codemirror_mode": {
    "name": "ipython",
    "version": 3
   },
   "file_extension": ".py",
   "mimetype": "text/x-python",
   "name": "python",
   "nbconvert_exporter": "python",
   "pygments_lexer": "ipython3",
   "version": "3.10.8"
  }
 },
 "nbformat": 4,
 "nbformat_minor": 5
}
