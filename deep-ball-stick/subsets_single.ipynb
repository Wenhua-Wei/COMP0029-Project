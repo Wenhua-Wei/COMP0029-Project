{
 "cells": [
  {
   "cell_type": "code",
   "execution_count": 1,
   "id": "f2fef47c-6cc3-43e2-ac87-2a6a3c47d596",
   "metadata": {},
   "outputs": [],
   "source": [
    "import nibabel as nib\n",
    "import numpy as np\n",
    "\n",
    "from dmipy.core.acquisition_scheme import acquisition_scheme_from_bvalues\n",
    "from dmipy.signal_models import cylinder_models, gaussian_models\n",
    "from dmipy.core.modeling_framework import MultiCompartmentModel\n",
    "\n",
    "import matplotlib.pyplot as plt\n",
    "\n",
    "import config\n",
    "import torch\n",
    "import torch.nn as nn\n",
    "import torch.optim as optim\n",
    "import torch.utils.data as utils\n",
    "from tqdm import tqdm\n",
    "\n",
    "import process_data"
   ]
  },
  {
   "cell_type": "code",
   "execution_count": 2,
   "id": "fdbca3e3-b3b7-4125-8685-19e7ed420bc1",
   "metadata": {},
   "outputs": [],
   "source": [
    "normalized_scan_100206 = np.load(\"normalized_scan_100206_full.npy\")"
   ]
  },
  {
   "cell_type": "code",
   "execution_count": 6,
   "id": "251149e7-9b29-4cc0-9537-7b501c3a33bb",
   "metadata": {},
   "outputs": [],
   "source": [
    "single_normalized_scan_100206 = normalized_scan_100206[:,0:16]"
   ]
  },
  {
   "cell_type": "code",
   "execution_count": 4,
   "id": "02e68988-b5fe-4cd9-8c66-89e247a3ea13",
   "metadata": {},
   "outputs": [],
   "source": [
    "bvals_all_100206 = np.loadtxt(config.data_folder2 + '/100206/bvals') * 1e-3"
   ]
  },
  {
   "cell_type": "code",
   "execution_count": 11,
   "id": "227217f0-3bea-4549-be5c-1ac5576ffd0c",
   "metadata": {},
   "outputs": [],
   "source": [
    "single_bvals_100206 = bvals_all_100206[0:16]"
   ]
  },
  {
   "cell_type": "code",
   "execution_count": 12,
   "id": "8089bc3c-9c87-41dc-97e0-b49035bb006b",
   "metadata": {},
   "outputs": [],
   "source": [
    "single_big_b_indices_100206 = np.where(single_bvals_100206 != 0.005)[0]"
   ]
  },
  {
   "cell_type": "code",
   "execution_count": 13,
   "id": "05b37015-5886-427e-8f79-e8a73a61b47b",
   "metadata": {},
   "outputs": [],
   "source": [
    "single_normalized_scan_100206_no_b5 = single_normalized_scan_100206[:, single_big_b_indices_100206]"
   ]
  },
  {
   "cell_type": "code",
   "execution_count": 14,
   "id": "2717dada-adf4-46f0-a35c-218e7dcf053f",
   "metadata": {},
   "outputs": [
    {
     "data": {
      "text/plain": [
       "(935442, 15)"
      ]
     },
     "execution_count": 14,
     "metadata": {},
     "output_type": "execute_result"
    }
   ],
   "source": [
    "single_normalized_scan_100206_no_b5.shape"
   ]
  },
  {
   "cell_type": "code",
   "execution_count": 15,
   "id": "a69c9d2e-3da7-41c5-9068-29d3de2a0c88",
   "metadata": {},
   "outputs": [],
   "source": [
    "single_bvals_100206_no_5 = single_bvals_100206[single_big_b_indices_100206]"
   ]
  },
  {
   "cell_type": "code",
   "execution_count": 16,
   "id": "aad73740-9757-4c3e-9e61-c807869f8078",
   "metadata": {},
   "outputs": [
    {
     "data": {
      "text/plain": [
       "[<matplotlib.lines.Line2D at 0x193c29180>]"
      ]
     },
     "execution_count": 16,
     "metadata": {},
     "output_type": "execute_result"
    },
    {
     "data": {
      "image/png": "[encoded data removed]",
      "text/plain": [
       "<Figure size 640x480 with 1 Axes>"
      ]
     },
     "metadata": {},
     "output_type": "display_data"
    }
   ],
   "source": [
    "plt.plot(single_bvals_100206_no_5, single_normalized_scan_100206_no_b5[42,:], \"o\", markersize = 1)"
   ]
  },
  {
   "cell_type": "code",
   "execution_count": null,
   "id": "7cec6955-d432-4caf-9530-037a51ae950f",
   "metadata": {},
   "outputs": [],
   "source": []
  },
  {
   "cell_type": "code",
   "execution_count": 15,
   "id": "63589c87-adc3-4397-ab0f-327e04ff9158",
   "metadata": {},
   "outputs": [],
   "source": [
    "def squash(param, p_min, p_max):\n",
    "    squashed_param_tensor =torch.clamp(param, min=p_min, max=p_max)\n",
    "    unsqueezed_param = squashed_param_tensor.unsqueeze(1)\n",
    "    return unsqueezed_param\n",
    "\n",
    "def unitsphere2cart(theta, phi, X):\n",
    "    mu_cart = torch.zeros(3,X.size()[0])\n",
    "    sintheta = torch.sin(theta)\n",
    "    mu_cart[0,:] = torch.squeeze(sintheta * torch.cos(phi))\n",
    "    mu_cart[1,:] = torch.squeeze(sintheta * torch.sin(phi))\n",
    "    mu_cart[2,:] = torch.squeeze(torch.cos(theta))\n",
    "    return mu_cart"
   ]
  },
  {
   "cell_type": "code",
   "execution_count": 16,
   "id": "68cfcee4-31e5-4bf8-8f54-745081e8c426",
   "metadata": {},
   "outputs": [],
   "source": [
    "class BallStickNet(nn.Module):\n",
    "    \n",
    "    def __init__(self, gradient_directions, b_values):\n",
    "        super(BallStickNet, self).__init__()\n",
    "        self.gradient_directions = gradient_directions\n",
    "        self.b_values = b_values\n",
    "        self.fc_layers = nn.ModuleList()\n",
    "        for i in range(3): \n",
    "            self.fc_layers.extend([nn.Linear(len(b_values), len(b_values)), nn.ELU()])\n",
    "        self.encoder = nn.Sequential(*self.fc_layers, nn.Linear(len(b_values), 5))\n",
    "        # if args.dropout != 0:\n",
    "        #     self.dropout = nn.Dropout(args.dropout)\n",
    "            \n",
    "    def forward(self, X):\n",
    "        # if args.dropout != 0:\n",
    "        #     X = self.dropout(X)\n",
    "        params = torch.abs(self.encoder(X))\n",
    "        theta_uns = params[:, 0]\n",
    "        theta = theta_uns.unsqueeze(1)\n",
    "        phi_uns = params[:, 1]\n",
    "        phi = phi_uns.unsqueeze(1)\n",
    "        mu_cart = unitsphere2cart(theta, phi, X)\n",
    "        mm_prod =  torch.einsum(\"ij,jk->ki\",self.gradient_directions, mu_cart)\n",
    "        lambda_par_uns = params[:, 2]\n",
    "        lambda_par = squash(lambda_par_uns, 0.1, 3.0)\n",
    "        lambda_iso_uns = params[:, 3]\n",
    "        lambda_iso = squash(lambda_iso_uns, 0.1, 3.0)\n",
    "        volume_0_uns = params[:, 4]\n",
    "        volume_0 = squash(volume_0_uns, 0.01, 0.99)\n",
    "        volume_1 = 1-volume_0\n",
    "        X = volume_0 * torch.exp(-self.b_values * lambda_par * mm_prod ** 2) + volume_1 * torch.exp(-self.b_values * lambda_iso)\n",
    "        return X, theta, phi, mu_cart, lambda_par, lambda_iso, volume_0, volume_1"
   ]
  },
  {
   "cell_type": "code",
   "execution_count": 20,
   "id": "8d65ae93-e26f-4817-bf50-26fe377d4ba0",
   "metadata": {},
   "outputs": [
    {
     "name": "stdout",
     "output_type": "stream",
     "text": [
      "(15, 3)\n"
     ]
    }
   ],
   "source": [
    "n_all_100206 = np.loadtxt(config.data_folder2 + '/100206/bvecs')\n",
    "single_n_100206 = n_all_100206[:, 0:80]\n",
    "single_n_100206_no_5 = single_n_100206[:,single_big_b_indices_100206].T\n",
    "print(single_n_100206_no_5.shape)\n",
    "\n",
    "single_b_values_100206 = torch.FloatTensor(single_bvals_100206_no_5)\n",
    "single_gradient_directions_100206 = torch.FloatTensor(single_n_100206_no_5)\n",
    "\n",
    "net = BallStickNet(single_gradient_directions_100206, single_b_values_100206)\n",
    "\n",
    "criterion = nn.MSELoss()\n",
    "optimizer = optim.Adam(net.parameters(), lr = 0.00001)"
   ]
  },
  {
   "cell_type": "code",
   "execution_count": 21,
   "id": "55840e4f-d8ad-4c2b-a586-aabdf0a54cc1",
   "metadata": {},
   "outputs": [],
   "source": [
    "batch_size = 128\n",
    "num_batches = len(single_normalized_scan_100206_no_b5) // batch_size\n",
    "trainloader = utils.DataLoader(torch.from_numpy(single_normalized_scan_100206_no_b5.astype(np.float32)),\n",
    "                            batch_size = batch_size, \n",
    "                            shuffle = True,\n",
    "                            num_workers = 2,\n",
    "                            drop_last = True)"
   ]
  },
  {
   "cell_type": "code",
   "execution_count": 22,
   "id": "092f3ea5-7b1d-4a9d-9727-27e5bed62ef5",
   "metadata": {
    "collapsed": true,
    "jupyter": {
     "outputs_hidden": true
    },
    "tags": []
   },
   "outputs": [
    {
     "name": "stdout",
     "output_type": "stream",
     "text": [
      "-----------------------------------------------------------------\n",
      "Epoch: 0; Bad epochs: 0\n"
     ]
    },
    {
     "name": "stderr",
     "output_type": "stream",
     "text": [
      "100%|█████████████████████████████████████████████████████████| 7308/7308 [00:26<00:00, 270.89it/s]\n"
     ]
    },
    {
     "name": "stdout",
     "output_type": "stream",
     "text": [
      "Loss: 767.6157261505723\n",
      "Average Loss: 0.10503772935831586\n",
      "############### Saving good model ###############################\n",
      "-----------------------------------------------------------------\n",
      "Epoch: 1; Bad epochs: 0\n"
     ]
    },
    {
     "name": "stderr",
     "output_type": "stream",
     "text": [
      "100%|█████████████████████████████████████████████████████████| 7308/7308 [00:19<00:00, 366.60it/s]\n"
     ]
    },
    {
     "name": "stdout",
     "output_type": "stream",
     "text": [
      "Loss: 547.2580349850468\n",
      "Average Loss: 0.0748847885858028\n",
      "############### Saving good model ###############################\n",
      "-----------------------------------------------------------------\n",
      "Epoch: 2; Bad epochs: 0\n"
     ]
    },
    {
     "name": "stderr",
     "output_type": "stream",
     "text": [
      "100%|█████████████████████████████████████████████████████████| 7308/7308 [00:19<00:00, 369.72it/s]\n"
     ]
    },
    {
     "name": "stdout",
     "output_type": "stream",
     "text": [
      "Loss: 497.1339495573193\n",
      "Average Loss: 0.06802599200291726\n",
      "############### Saving good model ###############################\n",
      "-----------------------------------------------------------------\n",
      "Epoch: 3; Bad epochs: 0\n"
     ]
    },
    {
     "name": "stderr",
     "output_type": "stream",
     "text": [
      "100%|█████████████████████████████████████████████████████████| 7308/7308 [00:19<00:00, 375.16it/s]\n"
     ]
    },
    {
     "name": "stdout",
     "output_type": "stream",
     "text": [
      "Loss: 490.2672358690761\n",
      "Average Loss: 0.06708637600835743\n",
      "############### Saving good model ###############################\n",
      "-----------------------------------------------------------------\n",
      "Epoch: 4; Bad epochs: 0\n"
     ]
    },
    {
     "name": "stderr",
     "output_type": "stream",
     "text": [
      "100%|█████████████████████████████████████████████████████████| 7308/7308 [00:14<00:00, 488.57it/s]\n"
     ]
    },
    {
     "name": "stdout",
     "output_type": "stream",
     "text": [
      "Loss: 488.0878690960817\n",
      "Average Loss: 0.06678815942748792\n",
      "############### Saving good model ###############################\n",
      "-----------------------------------------------------------------\n",
      "Epoch: 5; Bad epochs: 0\n"
     ]
    },
    {
     "name": "stderr",
     "output_type": "stream",
     "text": [
      "100%|█████████████████████████████████████████████████████████| 7308/7308 [00:15<00:00, 483.07it/s]\n"
     ]
    },
    {
     "name": "stdout",
     "output_type": "stream",
     "text": [
      "Loss: 486.60670693870634\n",
      "Average Loss: 0.06658548261339714\n",
      "############### Saving good model ###############################\n",
      "-----------------------------------------------------------------\n",
      "Epoch: 6; Bad epochs: 0\n"
     ]
    },
    {
     "name": "stderr",
     "output_type": "stream",
     "text": [
      "100%|█████████████████████████████████████████████████████████| 7308/7308 [00:15<00:00, 478.88it/s]\n"
     ]
    },
    {
     "name": "stdout",
     "output_type": "stream",
     "text": [
      "Loss: 485.33138793567196\n",
      "Average Loss: 0.06641097262392884\n",
      "############### Saving good model ###############################\n",
      "-----------------------------------------------------------------\n",
      "Epoch: 7; Bad epochs: 0\n"
     ]
    },
    {
     "name": "stderr",
     "output_type": "stream",
     "text": [
      "100%|█████████████████████████████████████████████████████████| 7308/7308 [00:15<00:00, 476.86it/s]\n"
     ]
    },
    {
     "name": "stdout",
     "output_type": "stream",
     "text": [
      "Loss: 484.1633482812904\n",
      "Average Loss: 0.06625114234828823\n",
      "############### Saving good model ###############################\n",
      "-----------------------------------------------------------------\n",
      "Epoch: 8; Bad epochs: 0\n"
     ]
    },
    {
     "name": "stderr",
     "output_type": "stream",
     "text": [
      "100%|█████████████████████████████████████████████████████████| 7308/7308 [00:15<00:00, 475.95it/s]\n"
     ]
    },
    {
     "name": "stdout",
     "output_type": "stream",
     "text": [
      "Loss: 483.08206230029464\n",
      "Average Loss: 0.06610318312811914\n",
      "############### Saving good model ###############################\n",
      "-----------------------------------------------------------------\n",
      "Epoch: 9; Bad epochs: 0\n"
     ]
    },
    {
     "name": "stderr",
     "output_type": "stream",
     "text": [
      "100%|█████████████████████████████████████████████████████████| 7308/7308 [00:15<00:00, 481.70it/s]\n"
     ]
    },
    {
     "name": "stdout",
     "output_type": "stream",
     "text": [
      "Loss: 482.0728445192799\n",
      "Average Loss: 0.06596508545693486\n",
      "############### Saving good model ###############################\n",
      "-----------------------------------------------------------------\n",
      "Epoch: 10; Bad epochs: 0\n"
     ]
    },
    {
     "name": "stderr",
     "output_type": "stream",
     "text": [
      "  3%|█▌                                                        | 201/7308 [00:01<00:32, 220.56it/s]"
     ]
    },
    {
     "name": "stdout",
     "output_type": "stream",
     "text": [
      "X_batch: \n",
      "torch.Size([128, 15])\n",
      "tensor([[0.3656, 0.2361, 0.3439,  ..., 0.5445, 0.2161, 0.2790],\n",
      "        [0.4662, 0.2314, 0.1727,  ..., 0.4101, 0.2899, 0.1244],\n",
      "        [0.4325, 0.2615, 0.1196,  ..., 0.4723, 0.2169, 0.2013],\n",
      "        ...,\n",
      "        [0.3270, 0.2292, 0.1428,  ..., 0.3629, 0.1734, 0.1362],\n",
      "        [0.4706, 0.5659, 0.3814,  ..., 0.5927, 0.2909, 0.4363],\n",
      "        [0.4454, 0.4088, 0.2183,  ..., 0.4243, 0.3378, 0.2057]])\n",
      "X_pred: \n",
      "torch.Size([128, 15])\n",
      "tensor([[0.4788, 0.3137, 0.2446,  ..., 0.4710, 0.3221, 0.2889],\n",
      "        [0.4398, 0.2561, 0.1825,  ..., 0.4332, 0.2622, 0.2148],\n",
      "        [0.4372, 0.2325, 0.1482,  ..., 0.4319, 0.2367, 0.1714],\n",
      "        ...,\n",
      "        [0.3653, 0.1785, 0.1176,  ..., 0.3613, 0.1822, 0.1352],\n",
      "        [0.6175, 0.4492, 0.3369,  ..., 0.6026, 0.4600, 0.4090],\n",
      "        [0.4823, 0.3059, 0.2270,  ..., 0.4741, 0.3134, 0.2699]],\n",
      "       grad_fn=<AddBackward0>)\n"
     ]
    },
    {
     "name": "stderr",
     "output_type": "stream",
     "text": [
      "100%|█████████████████████████████████████████████████████████| 7308/7308 [00:15<00:00, 462.44it/s]\n"
     ]
    },
    {
     "name": "stdout",
     "output_type": "stream",
     "text": [
      "Loss: 481.33576670335606\n",
      "Average Loss: 0.0658642264235572\n",
      "############### Saving good model ###############################\n",
      "-----------------------------------------------------------------\n",
      "Epoch: 11; Bad epochs: 0\n"
     ]
    },
    {
     "name": "stderr",
     "output_type": "stream",
     "text": [
      "100%|█████████████████████████████████████████████████████████| 7308/7308 [00:15<00:00, 468.58it/s]\n"
     ]
    },
    {
     "name": "stdout",
     "output_type": "stream",
     "text": [
      "Loss: 480.6036658324301\n",
      "Average Loss: 0.06576404841713603\n",
      "############### Saving good model ###############################\n",
      "-----------------------------------------------------------------\n",
      "Epoch: 12; Bad epochs: 0\n"
     ]
    },
    {
     "name": "stderr",
     "output_type": "stream",
     "text": [
      "100%|█████████████████████████████████████████████████████████| 7308/7308 [00:15<00:00, 476.91it/s]\n"
     ]
    },
    {
     "name": "stdout",
     "output_type": "stream",
     "text": [
      "Loss: 480.1414667009376\n",
      "Average Loss: 0.06570080277790608\n",
      "############### Saving good model ###############################\n",
      "-----------------------------------------------------------------\n",
      "Epoch: 13; Bad epochs: 0\n"
     ]
    },
    {
     "name": "stderr",
     "output_type": "stream",
     "text": [
      "100%|█████████████████████████████████████████████████████████| 7308/7308 [00:15<00:00, 481.04it/s]\n"
     ]
    },
    {
     "name": "stdout",
     "output_type": "stream",
     "text": [
      "Loss: 479.72311639320105\n",
      "Average Loss: 0.06564355725139588\n",
      "############### Saving good model ###############################\n",
      "-----------------------------------------------------------------\n",
      "Epoch: 14; Bad epochs: 0\n"
     ]
    },
    {
     "name": "stderr",
     "output_type": "stream",
     "text": [
      "100%|█████████████████████████████████████████████████████████| 7308/7308 [00:15<00:00, 481.64it/s]\n"
     ]
    },
    {
     "name": "stdout",
     "output_type": "stream",
     "text": [
      "Loss: 479.2986975479871\n",
      "Average Loss: 0.06558548132840546\n",
      "############### Saving good model ###############################\n",
      "-----------------------------------------------------------------\n",
      "Epoch: 15; Bad epochs: 0\n"
     ]
    },
    {
     "name": "stderr",
     "output_type": "stream",
     "text": [
      "100%|█████████████████████████████████████████████████████████| 7308/7308 [00:15<00:00, 480.78it/s]\n"
     ]
    },
    {
     "name": "stdout",
     "output_type": "stream",
     "text": [
      "Loss: 478.9508120745886\n",
      "Average Loss: 0.06553787795218782\n",
      "############### Saving good model ###############################\n",
      "-----------------------------------------------------------------\n",
      "Epoch: 16; Bad epochs: 0\n"
     ]
    },
    {
     "name": "stderr",
     "output_type": "stream",
     "text": [
      "100%|█████████████████████████████████████████████████████████| 7308/7308 [00:15<00:00, 483.12it/s]\n"
     ]
    },
    {
     "name": "stdout",
     "output_type": "stream",
     "text": [
      "Loss: 478.60875305952504\n",
      "Average Loss: 0.06549107184722565\n",
      "############### Saving good model ###############################\n",
      "-----------------------------------------------------------------\n",
      "Epoch: 17; Bad epochs: 0\n"
     ]
    },
    {
     "name": "stderr",
     "output_type": "stream",
     "text": [
      "100%|█████████████████████████████████████████████████████████| 7308/7308 [00:15<00:00, 484.79it/s]\n"
     ]
    },
    {
     "name": "stdout",
     "output_type": "stream",
     "text": [
      "Loss: 478.3353054760955\n",
      "Average Loss: 0.06545365427970656\n",
      "############### Saving good model ###############################\n",
      "-----------------------------------------------------------------\n",
      "Epoch: 18; Bad epochs: 0\n"
     ]
    },
    {
     "name": "stderr",
     "output_type": "stream",
     "text": [
      "100%|█████████████████████████████████████████████████████████| 7308/7308 [00:15<00:00, 483.79it/s]\n"
     ]
    },
    {
     "name": "stdout",
     "output_type": "stream",
     "text": [
      "Loss: 478.044067094801\n",
      "Average Loss: 0.06541380228445552\n",
      "############### Saving good model ###############################\n",
      "-----------------------------------------------------------------\n",
      "Epoch: 19; Bad epochs: 0\n"
     ]
    },
    {
     "name": "stderr",
     "output_type": "stream",
     "text": [
      "100%|█████████████████████████████████████████████████████████| 7308/7308 [00:15<00:00, 479.20it/s]\n"
     ]
    },
    {
     "name": "stdout",
     "output_type": "stream",
     "text": [
      "Loss: 477.8346797830891\n",
      "Average Loss: 0.0653851504902968\n",
      "############### Saving good model ###############################\n",
      "-----------------------------------------------------------------\n",
      "Epoch: 20; Bad epochs: 0\n"
     ]
    },
    {
     "name": "stderr",
     "output_type": "stream",
     "text": [
      "100%|█████████████████████████████████████████████████████████| 7308/7308 [00:15<00:00, 466.47it/s]\n"
     ]
    },
    {
     "name": "stdout",
     "output_type": "stream",
     "text": [
      "Loss: 477.63740035751835\n",
      "Average Loss: 0.06535815549500798\n",
      "############### Saving good model ###############################\n",
      "-----------------------------------------------------------------\n",
      "Epoch: 21; Bad epochs: 0\n"
     ]
    },
    {
     "name": "stderr",
     "output_type": "stream",
     "text": [
      "100%|█████████████████████████████████████████████████████████| 7308/7308 [00:15<00:00, 485.51it/s]\n"
     ]
    },
    {
     "name": "stdout",
     "output_type": "stream",
     "text": [
      "Loss: 477.45685739978217\n",
      "Average Loss: 0.06533345065678464\n",
      "############### Saving good model ###############################\n",
      "-----------------------------------------------------------------\n",
      "Epoch: 22; Bad epochs: 0\n"
     ]
    },
    {
     "name": "stderr",
     "output_type": "stream",
     "text": [
      "100%|█████████████████████████████████████████████████████████| 7308/7308 [00:15<00:00, 477.85it/s]\n"
     ]
    },
    {
     "name": "stdout",
     "output_type": "stream",
     "text": [
      "Loss: 477.2967215317767\n",
      "Average Loss: 0.06531153825010629\n",
      "############### Saving good model ###############################\n",
      "-----------------------------------------------------------------\n",
      "Epoch: 23; Bad epochs: 0\n"
     ]
    },
    {
     "name": "stderr",
     "output_type": "stream",
     "text": [
      "100%|█████████████████████████████████████████████████████████| 7308/7308 [00:15<00:00, 479.42it/s]\n"
     ]
    },
    {
     "name": "stdout",
     "output_type": "stream",
     "text": [
      "Loss: 477.13239898276515\n",
      "Average Loss: 0.06528905295330667\n",
      "############### Saving good model ###############################\n",
      "-----------------------------------------------------------------\n",
      "Epoch: 24; Bad epochs: 0\n"
     ]
    },
    {
     "name": "stderr",
     "output_type": "stream",
     "text": [
      "100%|█████████████████████████████████████████████████████████| 7308/7308 [00:14<00:00, 507.38it/s]\n"
     ]
    },
    {
     "name": "stdout",
     "output_type": "stream",
     "text": [
      "Loss: 476.9839189387858\n",
      "Average Loss: 0.06526873548697124\n",
      "############### Saving good model ###############################\n",
      "-----------------------------------------------------------------\n",
      "Epoch: 25; Bad epochs: 0\n"
     ]
    },
    {
     "name": "stderr",
     "output_type": "stream",
     "text": [
      "100%|█████████████████████████████████████████████████████████| 7308/7308 [00:14<00:00, 507.83it/s]\n"
     ]
    },
    {
     "name": "stdout",
     "output_type": "stream",
     "text": [
      "Loss: 476.8412831136957\n",
      "Average Loss: 0.06524921772218058\n",
      "############### Saving good model ###############################\n",
      "-----------------------------------------------------------------\n",
      "Epoch: 26; Bad epochs: 0\n"
     ]
    },
    {
     "name": "stderr",
     "output_type": "stream",
     "text": [
      "100%|█████████████████████████████████████████████████████████| 7308/7308 [00:14<00:00, 507.53it/s]\n"
     ]
    },
    {
     "name": "stdout",
     "output_type": "stream",
     "text": [
      "Loss: 476.7033499018289\n",
      "Average Loss: 0.0652303434457894\n",
      "############### Saving good model ###############################\n",
      "-----------------------------------------------------------------\n",
      "Epoch: 27; Bad epochs: 0\n"
     ]
    },
    {
     "name": "stderr",
     "output_type": "stream",
     "text": [
      "100%|█████████████████████████████████████████████████████████| 7308/7308 [00:14<00:00, 507.96it/s]\n"
     ]
    },
    {
     "name": "stdout",
     "output_type": "stream",
     "text": [
      "Loss: 476.57525906991214\n",
      "Average Loss: 0.0652128159646842\n",
      "############### Saving good model ###############################\n",
      "-----------------------------------------------------------------\n",
      "Epoch: 28; Bad epochs: 0\n"
     ]
    },
    {
     "name": "stderr",
     "output_type": "stream",
     "text": [
      "100%|█████████████████████████████████████████████████████████| 7308/7308 [00:14<00:00, 506.00it/s]\n"
     ]
    },
    {
     "name": "stdout",
     "output_type": "stream",
     "text": [
      "Loss: 476.4610352704767\n",
      "Average Loss: 0.06519718599760217\n",
      "############### Saving good model ###############################\n",
      "-----------------------------------------------------------------\n",
      "Epoch: 29; Bad epochs: 0\n"
     ]
    },
    {
     "name": "stderr",
     "output_type": "stream",
     "text": [
      "100%|█████████████████████████████████████████████████████████| 7308/7308 [00:14<00:00, 506.13it/s]\n"
     ]
    },
    {
     "name": "stdout",
     "output_type": "stream",
     "text": [
      "Loss: 476.3395403770264\n",
      "Average Loss: 0.06518056108060022\n",
      "############### Saving good model ###############################\n",
      "-----------------------------------------------------------------\n",
      "Epoch: 30; Bad epochs: 0\n"
     ]
    },
    {
     "name": "stderr",
     "output_type": "stream",
     "text": [
      "100%|█████████████████████████████████████████████████████████| 7308/7308 [00:14<00:00, 509.11it/s]\n"
     ]
    },
    {
     "name": "stdout",
     "output_type": "stream",
     "text": [
      "Loss: 476.2421799057629\n",
      "Average Loss: 0.06516723862968841\n",
      "############### Saving good model ###############################\n",
      "-----------------------------------------------------------------\n",
      "Epoch: 31; Bad epochs: 0\n"
     ]
    },
    {
     "name": "stderr",
     "output_type": "stream",
     "text": [
      "100%|█████████████████████████████████████████████████████████| 7308/7308 [00:14<00:00, 503.98it/s]\n"
     ]
    },
    {
     "name": "stdout",
     "output_type": "stream",
     "text": [
      "Loss: 476.1378804373089\n",
      "Average Loss: 0.06515296667177188\n",
      "############### Saving good model ###############################\n",
      "-----------------------------------------------------------------\n",
      "Epoch: 32; Bad epochs: 0\n"
     ]
    },
    {
     "name": "stderr",
     "output_type": "stream",
     "text": [
      "100%|█████████████████████████████████████████████████████████| 7308/7308 [00:14<00:00, 505.57it/s]\n"
     ]
    },
    {
     "name": "stdout",
     "output_type": "stream",
     "text": [
      "Loss: 476.0229819698725\n",
      "Average Loss: 0.06513724438558736\n",
      "############### Saving good model ###############################\n",
      "-----------------------------------------------------------------\n",
      "Epoch: 33; Bad epochs: 0\n"
     ]
    },
    {
     "name": "stderr",
     "output_type": "stream",
     "text": [
      "100%|█████████████████████████████████████████████████████████| 7308/7308 [00:14<00:00, 505.67it/s]\n"
     ]
    },
    {
     "name": "stdout",
     "output_type": "stream",
     "text": [
      "Loss: 475.9117197599262\n",
      "Average Loss: 0.06512201967158268\n",
      "############### Saving good model ###############################\n",
      "-----------------------------------------------------------------\n",
      "Epoch: 34; Bad epochs: 0\n"
     ]
    },
    {
     "name": "stderr",
     "output_type": "stream",
     "text": [
      "100%|█████████████████████████████████████████████████████████| 7308/7308 [00:14<00:00, 507.72it/s]\n"
     ]
    },
    {
     "name": "stdout",
     "output_type": "stream",
     "text": [
      "Loss: 475.79287057439797\n",
      "Average Loss: 0.06510575678357935\n",
      "############### Saving good model ###############################\n",
      "-----------------------------------------------------------------\n",
      "Epoch: 35; Bad epochs: 0\n"
     ]
    },
    {
     "name": "stderr",
     "output_type": "stream",
     "text": [
      "100%|█████████████████████████████████████████████████████████| 7308/7308 [00:14<00:00, 507.78it/s]\n"
     ]
    },
    {
     "name": "stdout",
     "output_type": "stream",
     "text": [
      "Loss: 475.6529206468258\n",
      "Average Loss: 0.0650866065471847\n",
      "############### Saving good model ###############################\n",
      "-----------------------------------------------------------------\n",
      "Epoch: 36; Bad epochs: 0\n"
     ]
    },
    {
     "name": "stderr",
     "output_type": "stream",
     "text": [
      "100%|█████████████████████████████████████████████████████████| 7308/7308 [00:14<00:00, 506.99it/s]\n"
     ]
    },
    {
     "name": "stdout",
     "output_type": "stream",
     "text": [
      "Loss: 475.4978744597174\n",
      "Average Loss: 0.06506539059383107\n",
      "############### Saving good model ###############################\n",
      "-----------------------------------------------------------------\n",
      "Epoch: 37; Bad epochs: 0\n"
     ]
    },
    {
     "name": "stderr",
     "output_type": "stream",
     "text": [
      "100%|█████████████████████████████████████████████████████████| 7308/7308 [00:14<00:00, 508.79it/s]\n"
     ]
    },
    {
     "name": "stdout",
     "output_type": "stream",
     "text": [
      "Loss: 475.34183788415976\n",
      "Average Loss: 0.06504403911934316\n",
      "############### Saving good model ###############################\n",
      "-----------------------------------------------------------------\n",
      "Epoch: 38; Bad epochs: 0\n"
     ]
    },
    {
     "name": "stderr",
     "output_type": "stream",
     "text": [
      "100%|█████████████████████████████████████████████████████████| 7308/7308 [00:15<00:00, 486.29it/s]\n"
     ]
    },
    {
     "name": "stdout",
     "output_type": "stream",
     "text": [
      "Loss: 475.20164698245935\n",
      "Average Loss: 0.06502485590892985\n",
      "############### Saving good model ###############################\n",
      "-----------------------------------------------------------------\n",
      "Epoch: 39; Bad epochs: 0\n"
     ]
    },
    {
     "name": "stderr",
     "output_type": "stream",
     "text": [
      "100%|█████████████████████████████████████████████████████████| 7308/7308 [00:16<00:00, 456.49it/s]\n"
     ]
    },
    {
     "name": "stdout",
     "output_type": "stream",
     "text": [
      "Loss: 475.0659172295127\n",
      "Average Loss: 0.06500628314580087\n",
      "############### Saving good model ###############################\n",
      "-----------------------------------------------------------------\n",
      "Epoch: 40; Bad epochs: 0\n"
     ]
    },
    {
     "name": "stderr",
     "output_type": "stream",
     "text": [
      "100%|█████████████████████████████████████████████████████████| 7308/7308 [00:16<00:00, 454.87it/s]\n"
     ]
    },
    {
     "name": "stdout",
     "output_type": "stream",
     "text": [
      "Loss: 474.9218758752104\n",
      "Average Loss: 0.0649865730535318\n",
      "############### Saving good model ###############################\n",
      "-----------------------------------------------------------------\n",
      "Epoch: 41; Bad epochs: 0\n"
     ]
    },
    {
     "name": "stderr",
     "output_type": "stream",
     "text": [
      "100%|█████████████████████████████████████████████████████████| 7308/7308 [00:15<00:00, 458.47it/s]\n"
     ]
    },
    {
     "name": "stdout",
     "output_type": "stream",
     "text": [
      "Loss: 474.82178616081364\n",
      "Average Loss: 0.06497287714296848\n",
      "############### Saving good model ###############################\n",
      "-----------------------------------------------------------------\n",
      "Epoch: 42; Bad epochs: 0\n"
     ]
    },
    {
     "name": "stderr",
     "output_type": "stream",
     "text": [
      "100%|█████████████████████████████████████████████████████████| 7308/7308 [00:16<00:00, 453.64it/s]\n"
     ]
    },
    {
     "name": "stdout",
     "output_type": "stream",
     "text": [
      "Loss: 474.67520371614955\n",
      "Average Loss: 0.06495281933718522\n",
      "############### Saving good model ###############################\n",
      "-----------------------------------------------------------------\n",
      "Epoch: 43; Bad epochs: 0\n"
     ]
    },
    {
     "name": "stderr",
     "output_type": "stream",
     "text": [
      "100%|█████████████████████████████████████████████████████████| 7308/7308 [00:15<00:00, 464.24it/s]\n"
     ]
    },
    {
     "name": "stdout",
     "output_type": "stream",
     "text": [
      "Loss: 474.54113061307\n",
      "Average Loss: 0.06493447326396688\n",
      "############### Saving good model ###############################\n",
      "-----------------------------------------------------------------\n",
      "Epoch: 44; Bad epochs: 0\n"
     ]
    },
    {
     "name": "stderr",
     "output_type": "stream",
     "text": [
      "100%|█████████████████████████████████████████████████████████| 7308/7308 [00:14<00:00, 497.36it/s]\n"
     ]
    },
    {
     "name": "stdout",
     "output_type": "stream",
     "text": [
      "Loss: 474.40755139593966\n",
      "Average Loss: 0.06491619477229607\n",
      "############### Saving good model ###############################\n",
      "-----------------------------------------------------------------\n",
      "Epoch: 45; Bad epochs: 0\n"
     ]
    },
    {
     "name": "stderr",
     "output_type": "stream",
     "text": [
      "100%|█████████████████████████████████████████████████████████| 7308/7308 [00:14<00:00, 501.16it/s]\n"
     ]
    },
    {
     "name": "stdout",
     "output_type": "stream",
     "text": [
      "Loss: 474.26220453949645\n",
      "Average Loss: 0.0648963060398873\n",
      "############### Saving good model ###############################\n",
      "-----------------------------------------------------------------\n",
      "Epoch: 46; Bad epochs: 0\n"
     ]
    },
    {
     "name": "stderr",
     "output_type": "stream",
     "text": [
      "100%|█████████████████████████████████████████████████████████| 7308/7308 [00:14<00:00, 498.67it/s]\n"
     ]
    },
    {
     "name": "stdout",
     "output_type": "stream",
     "text": [
      "Loss: 474.10509735392407\n",
      "Average Loss: 0.06487480806703942\n",
      "############### Saving good model ###############################\n",
      "-----------------------------------------------------------------\n",
      "Epoch: 47; Bad epochs: 0\n"
     ]
    },
    {
     "name": "stderr",
     "output_type": "stream",
     "text": [
      "100%|█████████████████████████████████████████████████████████| 7308/7308 [00:14<00:00, 502.53it/s]\n"
     ]
    },
    {
     "name": "stdout",
     "output_type": "stream",
     "text": [
      "Loss: 473.96123976889066\n",
      "Average Loss: 0.0648551231210852\n",
      "############### Saving good model ###############################\n",
      "-----------------------------------------------------------------\n",
      "Epoch: 48; Bad epochs: 0\n"
     ]
    },
    {
     "name": "stderr",
     "output_type": "stream",
     "text": [
      "100%|█████████████████████████████████████████████████████████| 7308/7308 [00:14<00:00, 501.01it/s]\n"
     ]
    },
    {
     "name": "stdout",
     "output_type": "stream",
     "text": [
      "Loss: 473.80419251532294\n",
      "Average Loss: 0.0648336333491137\n",
      "############### Saving good model ###############################\n",
      "-----------------------------------------------------------------\n",
      "Epoch: 49; Bad epochs: 0\n"
     ]
    },
    {
     "name": "stderr",
     "output_type": "stream",
     "text": [
      "100%|█████████████████████████████████████████████████████████| 7308/7308 [00:14<00:00, 501.17it/s]\n"
     ]
    },
    {
     "name": "stdout",
     "output_type": "stream",
     "text": [
      "Loss: 473.659364876803\n",
      "Average Loss: 0.06481381566458716\n",
      "############### Saving good model ###############################\n",
      "-----------------------------------------------------------------\n",
      "Epoch: 50; Bad epochs: 0\n"
     ]
    },
    {
     "name": "stderr",
     "output_type": "stream",
     "text": [
      "100%|█████████████████████████████████████████████████████████| 7308/7308 [00:14<00:00, 497.70it/s]\n"
     ]
    },
    {
     "name": "stdout",
     "output_type": "stream",
     "text": [
      "Loss: 473.5591671296861\n",
      "Average Loss: 0.06480010497122142\n",
      "############### Saving good model ###############################\n",
      "-----------------------------------------------------------------\n",
      "Epoch: 51; Bad epochs: 0\n"
     ]
    },
    {
     "name": "stderr",
     "output_type": "stream",
     "text": [
      "100%|█████████████████████████████████████████████████████████| 7308/7308 [00:14<00:00, 498.03it/s]\n"
     ]
    },
    {
     "name": "stdout",
     "output_type": "stream",
     "text": [
      "Loss: 473.45325380261056\n",
      "Average Loss: 0.06478561217879181\n",
      "############### Saving good model ###############################\n",
      "-----------------------------------------------------------------\n",
      "Epoch: 52; Bad epochs: 0\n"
     ]
    },
    {
     "name": "stderr",
     "output_type": "stream",
     "text": [
      "100%|█████████████████████████████████████████████████████████| 7308/7308 [00:14<00:00, 496.48it/s]\n"
     ]
    },
    {
     "name": "stdout",
     "output_type": "stream",
     "text": [
      "Loss: 473.37519933702424\n",
      "Average Loss: 0.06477493149110895\n",
      "############### Saving good model ###############################\n",
      "-----------------------------------------------------------------\n",
      "Epoch: 53; Bad epochs: 0\n"
     ]
    },
    {
     "name": "stderr",
     "output_type": "stream",
     "text": [
      "100%|█████████████████████████████████████████████████████████| 7308/7308 [00:14<00:00, 500.00it/s]\n"
     ]
    },
    {
     "name": "stdout",
     "output_type": "stream",
     "text": [
      "Loss: 473.26172225386836\n",
      "Average Loss: 0.06475940370195243\n",
      "############### Saving good model ###############################\n",
      "-----------------------------------------------------------------\n",
      "Epoch: 54; Bad epochs: 0\n"
     ]
    },
    {
     "name": "stderr",
     "output_type": "stream",
     "text": [
      "100%|█████████████████████████████████████████████████████████| 7308/7308 [00:14<00:00, 496.14it/s]\n"
     ]
    },
    {
     "name": "stdout",
     "output_type": "stream",
     "text": [
      "Loss: 473.2001287098974\n",
      "Average Loss: 0.06475097546659789\n",
      "############### Saving good model ###############################\n",
      "-----------------------------------------------------------------\n",
      "Epoch: 55; Bad epochs: 0\n"
     ]
    },
    {
     "name": "stderr",
     "output_type": "stream",
     "text": [
      "100%|█████████████████████████████████████████████████████████| 7308/7308 [00:14<00:00, 501.06it/s]\n"
     ]
    },
    {
     "name": "stdout",
     "output_type": "stream",
     "text": [
      "Loss: 473.11603010399267\n",
      "Average Loss: 0.06473946772085286\n",
      "############### Saving good model ###############################\n",
      "-----------------------------------------------------------------\n",
      "Epoch: 56; Bad epochs: 0\n"
     ]
    },
    {
     "name": "stderr",
     "output_type": "stream",
     "text": [
      "100%|█████████████████████████████████████████████████████████| 7308/7308 [00:14<00:00, 501.05it/s]\n"
     ]
    },
    {
     "name": "stdout",
     "output_type": "stream",
     "text": [
      "Loss: 473.0324572431855\n",
      "Average Loss: 0.06472803191614471\n",
      "############### Saving good model ###############################\n",
      "-----------------------------------------------------------------\n",
      "Epoch: 57; Bad epochs: 0\n"
     ]
    },
    {
     "name": "stderr",
     "output_type": "stream",
     "text": [
      "100%|█████████████████████████████████████████████████████████| 7308/7308 [00:14<00:00, 503.06it/s]\n"
     ]
    },
    {
     "name": "stdout",
     "output_type": "stream",
     "text": [
      "Loss: 472.9505311443936\n",
      "Average Loss: 0.06471682144832973\n",
      "############### Saving good model ###############################\n",
      "-----------------------------------------------------------------\n",
      "Epoch: 58; Bad epochs: 0\n"
     ]
    },
    {
     "name": "stderr",
     "output_type": "stream",
     "text": [
      "100%|█████████████████████████████████████████████████████████| 7308/7308 [00:14<00:00, 500.42it/s]\n"
     ]
    },
    {
     "name": "stdout",
     "output_type": "stream",
     "text": [
      "Loss: 472.8825332901906\n",
      "Average Loss: 0.06470751687057891\n",
      "############### Saving good model ###############################\n",
      "-----------------------------------------------------------------\n",
      "Epoch: 59; Bad epochs: 0\n"
     ]
    },
    {
     "name": "stderr",
     "output_type": "stream",
     "text": [
      "100%|█████████████████████████████████████████████████████████| 7308/7308 [00:14<00:00, 501.70it/s]\n"
     ]
    },
    {
     "name": "stdout",
     "output_type": "stream",
     "text": [
      "Loss: 472.7815458911937\n",
      "Average Loss: 0.06469369812413707\n",
      "############### Saving good model ###############################\n",
      "-----------------------------------------------------------------\n",
      "Epoch: 60; Bad epochs: 0\n"
     ]
    },
    {
     "name": "stderr",
     "output_type": "stream",
     "text": [
      "100%|█████████████████████████████████████████████████████████| 7308/7308 [00:14<00:00, 501.69it/s]\n"
     ]
    },
    {
     "name": "stdout",
     "output_type": "stream",
     "text": [
      "Loss: 472.7077706679702\n",
      "Average Loss: 0.06468360299233308\n",
      "############### Saving good model ###############################\n",
      "-----------------------------------------------------------------\n",
      "Epoch: 61; Bad epochs: 0\n"
     ]
    },
    {
     "name": "stderr",
     "output_type": "stream",
     "text": [
      "100%|█████████████████████████████████████████████████████████| 7308/7308 [00:14<00:00, 500.49it/s]\n"
     ]
    },
    {
     "name": "stdout",
     "output_type": "stream",
     "text": [
      "Loss: 472.62617061519995\n",
      "Average Loss: 0.06467243713946359\n",
      "############### Saving good model ###############################\n",
      "-----------------------------------------------------------------\n",
      "Epoch: 62; Bad epochs: 0\n"
     ]
    },
    {
     "name": "stderr",
     "output_type": "stream",
     "text": [
      "100%|█████████████████████████████████████████████████████████| 7308/7308 [00:14<00:00, 499.13it/s]\n"
     ]
    },
    {
     "name": "stdout",
     "output_type": "stream",
     "text": [
      "Loss: 472.53116078372113\n",
      "Average Loss: 0.06465943634150535\n",
      "############### Saving good model ###############################\n",
      "-----------------------------------------------------------------\n",
      "Epoch: 63; Bad epochs: 0\n"
     ]
    },
    {
     "name": "stderr",
     "output_type": "stream",
     "text": [
      "100%|█████████████████████████████████████████████████████████| 7308/7308 [00:14<00:00, 493.41it/s]\n"
     ]
    },
    {
     "name": "stdout",
     "output_type": "stream",
     "text": [
      "Loss: 472.44614336057566\n",
      "Average Loss: 0.06464780286816854\n",
      "############### Saving good model ###############################\n",
      "-----------------------------------------------------------------\n",
      "Epoch: 64; Bad epochs: 0\n"
     ]
    },
    {
     "name": "stderr",
     "output_type": "stream",
     "text": [
      "100%|█████████████████████████████████████████████████████████| 7308/7308 [00:14<00:00, 500.10it/s]\n"
     ]
    },
    {
     "name": "stdout",
     "output_type": "stream",
     "text": [
      "Loss: 472.367684654193\n",
      "Average Loss: 0.06463706686565313\n",
      "############### Saving good model ###############################\n",
      "-----------------------------------------------------------------\n",
      "Epoch: 65; Bad epochs: 0\n"
     ]
    },
    {
     "name": "stderr",
     "output_type": "stream",
     "text": [
      "100%|█████████████████████████████████████████████████████████| 7308/7308 [00:14<00:00, 495.17it/s]\n"
     ]
    },
    {
     "name": "stdout",
     "output_type": "stream",
     "text": [
      "Loss: 472.2619236286264\n",
      "Average Loss: 0.06462259491360514\n",
      "############### Saving good model ###############################\n",
      "-----------------------------------------------------------------\n",
      "Epoch: 66; Bad epochs: 0\n"
     ]
    },
    {
     "name": "stderr",
     "output_type": "stream",
     "text": [
      "100%|█████████████████████████████████████████████████████████| 7308/7308 [00:14<00:00, 497.31it/s]\n"
     ]
    },
    {
     "name": "stdout",
     "output_type": "stream",
     "text": [
      "Loss: 472.1804856476374\n",
      "Average Loss: 0.06461145123804563\n",
      "############### Saving good model ###############################\n",
      "-----------------------------------------------------------------\n",
      "Epoch: 67; Bad epochs: 0\n"
     ]
    },
    {
     "name": "stderr",
     "output_type": "stream",
     "text": [
      "100%|█████████████████████████████████████████████████████████| 7308/7308 [00:14<00:00, 497.02it/s]\n"
     ]
    },
    {
     "name": "stdout",
     "output_type": "stream",
     "text": [
      "Loss: 472.0658130564261\n",
      "Average Loss: 0.06459575985993789\n",
      "############### Saving good model ###############################\n",
      "-----------------------------------------------------------------\n",
      "Epoch: 68; Bad epochs: 0\n"
     ]
    },
    {
     "name": "stderr",
     "output_type": "stream",
     "text": [
      "100%|█████████████████████████████████████████████████████████| 7308/7308 [00:14<00:00, 500.15it/s]\n"
     ]
    },
    {
     "name": "stdout",
     "output_type": "stream",
     "text": [
      "Loss: 471.9624543925747\n",
      "Average Loss: 0.06458161663828335\n",
      "############### Saving good model ###############################\n",
      "-----------------------------------------------------------------\n",
      "Epoch: 69; Bad epochs: 0\n"
     ]
    },
    {
     "name": "stderr",
     "output_type": "stream",
     "text": [
      "100%|█████████████████████████████████████████████████████████| 7308/7308 [00:14<00:00, 495.45it/s]\n"
     ]
    },
    {
     "name": "stdout",
     "output_type": "stream",
     "text": [
      "Loss: 471.85886173928156\n",
      "Average Loss: 0.06456744139836912\n",
      "############### Saving good model ###############################\n",
      "-----------------------------------------------------------------\n",
      "Epoch: 70; Bad epochs: 0\n"
     ]
    },
    {
     "name": "stderr",
     "output_type": "stream",
     "text": [
      "100%|█████████████████████████████████████████████████████████| 7308/7308 [00:14<00:00, 501.43it/s]\n"
     ]
    },
    {
     "name": "stdout",
     "output_type": "stream",
     "text": [
      "Loss: 471.76652671862394\n",
      "Average Loss: 0.06455480661174383\n",
      "############### Saving good model ###############################\n",
      "-----------------------------------------------------------------\n",
      "Epoch: 71; Bad epochs: 0\n"
     ]
    },
    {
     "name": "stderr",
     "output_type": "stream",
     "text": [
      "100%|█████████████████████████████████████████████████████████| 7308/7308 [00:14<00:00, 495.09it/s]\n"
     ]
    },
    {
     "name": "stdout",
     "output_type": "stream",
     "text": [
      "Loss: 471.6364092095755\n",
      "Average Loss: 0.06453700180755001\n",
      "############### Saving good model ###############################\n",
      "-----------------------------------------------------------------\n",
      "Epoch: 72; Bad epochs: 0\n"
     ]
    },
    {
     "name": "stderr",
     "output_type": "stream",
     "text": [
      "100%|█████████████████████████████████████████████████████████| 7308/7308 [00:14<00:00, 502.04it/s]\n"
     ]
    },
    {
     "name": "stdout",
     "output_type": "stream",
     "text": [
      "Loss: 471.53807804058306\n",
      "Average Loss: 0.0645235465299101\n",
      "############### Saving good model ###############################\n",
      "-----------------------------------------------------------------\n",
      "Epoch: 73; Bad epochs: 0\n"
     ]
    },
    {
     "name": "stderr",
     "output_type": "stream",
     "text": [
      "100%|█████████████████████████████████████████████████████████| 7308/7308 [00:14<00:00, 500.37it/s]\n"
     ]
    },
    {
     "name": "stdout",
     "output_type": "stream",
     "text": [
      "Loss: 471.4487977833487\n",
      "Average Loss: 0.06451132974594262\n",
      "############### Saving good model ###############################\n",
      "-----------------------------------------------------------------\n",
      "Epoch: 74; Bad epochs: 0\n"
     ]
    },
    {
     "name": "stderr",
     "output_type": "stream",
     "text": [
      "100%|█████████████████████████████████████████████████████████| 7308/7308 [00:14<00:00, 497.92it/s]\n"
     ]
    },
    {
     "name": "stdout",
     "output_type": "stream",
     "text": [
      "Loss: 471.34991059661843\n",
      "Average Loss: 0.06449779838486842\n",
      "############### Saving good model ###############################\n",
      "-----------------------------------------------------------------\n",
      "Epoch: 75; Bad epochs: 0\n"
     ]
    },
    {
     "name": "stderr",
     "output_type": "stream",
     "text": [
      "100%|█████████████████████████████████████████████████████████| 7308/7308 [00:14<00:00, 502.02it/s]\n"
     ]
    },
    {
     "name": "stdout",
     "output_type": "stream",
     "text": [
      "Loss: 471.27002007490955\n",
      "Average Loss: 0.06448686645797887\n",
      "############### Saving good model ###############################\n",
      "-----------------------------------------------------------------\n",
      "Epoch: 76; Bad epochs: 0\n"
     ]
    },
    {
     "name": "stderr",
     "output_type": "stream",
     "text": [
      "100%|█████████████████████████████████████████████████████████| 7308/7308 [00:14<00:00, 499.85it/s]\n"
     ]
    },
    {
     "name": "stdout",
     "output_type": "stream",
     "text": [
      "Loss: 471.17821337631904\n",
      "Average Loss: 0.06447430396501355\n",
      "############### Saving good model ###############################\n",
      "-----------------------------------------------------------------\n",
      "Epoch: 77; Bad epochs: 0\n"
     ]
    },
    {
     "name": "stderr",
     "output_type": "stream",
     "text": [
      "100%|█████████████████████████████████████████████████████████| 7308/7308 [00:14<00:00, 494.26it/s]\n"
     ]
    },
    {
     "name": "stdout",
     "output_type": "stream",
     "text": [
      "Loss: 471.1631904405076\n",
      "Average Loss: 0.06447224828140498\n",
      "############### Saving good model ###############################\n",
      "-----------------------------------------------------------------\n",
      "Epoch: 78; Bad epochs: 0\n"
     ]
    },
    {
     "name": "stderr",
     "output_type": "stream",
     "text": [
      "100%|█████████████████████████████████████████████████████████| 7308/7308 [00:14<00:00, 502.76it/s]\n"
     ]
    },
    {
     "name": "stdout",
     "output_type": "stream",
     "text": [
      "Loss: 471.05684471759014\n",
      "Average Loss: 0.06445769632150933\n",
      "############### Saving good model ###############################\n",
      "-----------------------------------------------------------------\n",
      "Epoch: 79; Bad epochs: 0\n"
     ]
    },
    {
     "name": "stderr",
     "output_type": "stream",
     "text": [
      "100%|█████████████████████████████████████████████████████████| 7308/7308 [00:14<00:00, 495.40it/s]\n"
     ]
    },
    {
     "name": "stdout",
     "output_type": "stream",
     "text": [
      "Loss: 470.98959856363945\n",
      "Average Loss: 0.06444849460367261\n",
      "############### Saving good model ###############################\n",
      "-----------------------------------------------------------------\n",
      "Epoch: 80; Bad epochs: 0\n"
     ]
    },
    {
     "name": "stderr",
     "output_type": "stream",
     "text": [
      "100%|█████████████████████████████████████████████████████████| 7308/7308 [00:14<00:00, 501.65it/s]\n"
     ]
    },
    {
     "name": "stdout",
     "output_type": "stream",
     "text": [
      "Loss: 470.9248403196689\n",
      "Average Loss: 0.06443963332234112\n",
      "############### Saving good model ###############################\n",
      "-----------------------------------------------------------------\n",
      "Epoch: 81; Bad epochs: 0\n"
     ]
    },
    {
     "name": "stderr",
     "output_type": "stream",
     "text": [
      "100%|█████████████████████████████████████████████████████████| 7308/7308 [00:14<00:00, 498.92it/s]\n"
     ]
    },
    {
     "name": "stdout",
     "output_type": "stream",
     "text": [
      "Loss: 470.9276646291837\n",
      "Average Loss: 0.0644400197905287\n",
      "-----------------------------------------------------------------\n",
      "Epoch: 82; Bad epochs: 1\n"
     ]
    },
    {
     "name": "stderr",
     "output_type": "stream",
     "text": [
      "100%|█████████████████████████████████████████████████████████| 7308/7308 [00:14<00:00, 490.59it/s]\n"
     ]
    },
    {
     "name": "stdout",
     "output_type": "stream",
     "text": [
      "Loss: 470.834145341767\n",
      "Average Loss: 0.06442722295317009\n",
      "############### Saving good model ###############################\n",
      "-----------------------------------------------------------------\n",
      "Epoch: 83; Bad epochs: 0\n"
     ]
    },
    {
     "name": "stderr",
     "output_type": "stream",
     "text": [
      "100%|█████████████████████████████████████████████████████████| 7308/7308 [00:14<00:00, 490.21it/s]\n"
     ]
    },
    {
     "name": "stdout",
     "output_type": "stream",
     "text": [
      "Loss: 470.78885731031187\n",
      "Average Loss: 0.0644210259045309\n",
      "############### Saving good model ###############################\n",
      "-----------------------------------------------------------------\n",
      "Epoch: 84; Bad epochs: 0\n"
     ]
    },
    {
     "name": "stderr",
     "output_type": "stream",
     "text": [
      "100%|█████████████████████████████████████████████████████████| 7308/7308 [00:15<00:00, 477.19it/s]\n"
     ]
    },
    {
     "name": "stdout",
     "output_type": "stream",
     "text": [
      "Loss: 470.7513029659167\n",
      "Average Loss: 0.06441588710535258\n",
      "############### Saving good model ###############################\n",
      "-----------------------------------------------------------------\n",
      "Epoch: 85; Bad epochs: 0\n"
     ]
    },
    {
     "name": "stderr",
     "output_type": "stream",
     "text": [
      "100%|█████████████████████████████████████████████████████████| 7308/7308 [00:14<00:00, 490.66it/s]\n"
     ]
    },
    {
     "name": "stdout",
     "output_type": "stream",
     "text": [
      "Loss: 470.6995338194538\n",
      "Average Loss: 0.06440880320463242\n",
      "############### Saving good model ###############################\n",
      "-----------------------------------------------------------------\n",
      "Epoch: 86; Bad epochs: 0\n"
     ]
    },
    {
     "name": "stderr",
     "output_type": "stream",
     "text": [
      "100%|█████████████████████████████████████████████████████████| 7308/7308 [00:14<00:00, 493.20it/s]\n"
     ]
    },
    {
     "name": "stdout",
     "output_type": "stream",
     "text": [
      "Loss: 470.66205208026804\n",
      "Average Loss: 0.0644036743404855\n",
      "############### Saving good model ###############################\n",
      "-----------------------------------------------------------------\n",
      "Epoch: 87; Bad epochs: 0\n"
     ]
    },
    {
     "name": "stderr",
     "output_type": "stream",
     "text": [
      "100%|█████████████████████████████████████████████████████████| 7308/7308 [00:14<00:00, 501.03it/s]\n"
     ]
    },
    {
     "name": "stdout",
     "output_type": "stream",
     "text": [
      "Loss: 470.6047879026737\n",
      "Average Loss: 0.06439583851979662\n",
      "############### Saving good model ###############################\n",
      "-----------------------------------------------------------------\n",
      "Epoch: 88; Bad epochs: 0\n"
     ]
    },
    {
     "name": "stderr",
     "output_type": "stream",
     "text": [
      "100%|█████████████████████████████████████████████████████████| 7308/7308 [00:14<00:00, 501.01it/s]\n"
     ]
    },
    {
     "name": "stdout",
     "output_type": "stream",
     "text": [
      "Loss: 470.596965654986\n",
      "Average Loss: 0.06439476815202326\n",
      "############### Saving good model ###############################\n",
      "-----------------------------------------------------------------\n",
      "Epoch: 89; Bad epochs: 0\n"
     ]
    },
    {
     "name": "stderr",
     "output_type": "stream",
     "text": [
      "100%|█████████████████████████████████████████████████████████| 7308/7308 [00:14<00:00, 500.64it/s]\n"
     ]
    },
    {
     "name": "stdout",
     "output_type": "stream",
     "text": [
      "Loss: 470.5384904053062\n",
      "Average Loss: 0.06438676661265821\n",
      "############### Saving good model ###############################\n",
      "-----------------------------------------------------------------\n",
      "Epoch: 90; Bad epochs: 0\n"
     ]
    },
    {
     "name": "stderr",
     "output_type": "stream",
     "text": [
      "100%|█████████████████████████████████████████████████████████| 7308/7308 [00:14<00:00, 502.73it/s]\n"
     ]
    },
    {
     "name": "stdout",
     "output_type": "stream",
     "text": [
      "Loss: 470.49345653364435\n",
      "Average Loss: 0.06438060434231586\n",
      "############### Saving good model ###############################\n",
      "-----------------------------------------------------------------\n",
      "Epoch: 91; Bad epochs: 0\n"
     ]
    },
    {
     "name": "stderr",
     "output_type": "stream",
     "text": [
      "100%|█████████████████████████████████████████████████████████| 7308/7308 [00:14<00:00, 499.90it/s]\n"
     ]
    },
    {
     "name": "stdout",
     "output_type": "stream",
     "text": [
      "Loss: 470.45239468989894\n",
      "Average Loss: 0.06437498558975081\n",
      "############### Saving good model ###############################\n",
      "-----------------------------------------------------------------\n",
      "Epoch: 92; Bad epochs: 0\n"
     ]
    },
    {
     "name": "stderr",
     "output_type": "stream",
     "text": [
      "100%|█████████████████████████████████████████████████████████| 7308/7308 [00:14<00:00, 502.02it/s]\n"
     ]
    },
    {
     "name": "stdout",
     "output_type": "stream",
     "text": [
      "Loss: 470.4046157405246\n",
      "Average Loss: 0.06436844769301103\n",
      "############### Saving good model ###############################\n",
      "-----------------------------------------------------------------\n",
      "Epoch: 93; Bad epochs: 0\n"
     ]
    },
    {
     "name": "stderr",
     "output_type": "stream",
     "text": [
      "100%|█████████████████████████████████████████████████████████| 7308/7308 [00:14<00:00, 499.83it/s]\n"
     ]
    },
    {
     "name": "stdout",
     "output_type": "stream",
     "text": [
      "Loss: 470.3784385488834\n",
      "Average Loss: 0.06436486570181765\n",
      "############### Saving good model ###############################\n",
      "-----------------------------------------------------------------\n",
      "Epoch: 94; Bad epochs: 0\n"
     ]
    },
    {
     "name": "stderr",
     "output_type": "stream",
     "text": [
      "100%|█████████████████████████████████████████████████████████| 7308/7308 [00:14<00:00, 499.72it/s]\n"
     ]
    },
    {
     "name": "stdout",
     "output_type": "stream",
     "text": [
      "Loss: 470.3405808398966\n",
      "Average Loss: 0.0643596853913378\n",
      "############### Saving good model ###############################\n",
      "-----------------------------------------------------------------\n",
      "Epoch: 95; Bad epochs: 0\n"
     ]
    },
    {
     "name": "stderr",
     "output_type": "stream",
     "text": [
      "100%|█████████████████████████████████████████████████████████| 7308/7308 [00:14<00:00, 500.01it/s]\n"
     ]
    },
    {
     "name": "stdout",
     "output_type": "stream",
     "text": [
      "Loss: 470.2971933528315\n",
      "Average Loss: 0.06435374840624405\n",
      "############### Saving good model ###############################\n",
      "-----------------------------------------------------------------\n",
      "Epoch: 96; Bad epochs: 0\n"
     ]
    },
    {
     "name": "stderr",
     "output_type": "stream",
     "text": [
      "100%|█████████████████████████████████████████████████████████| 7308/7308 [00:14<00:00, 499.89it/s]\n"
     ]
    },
    {
     "name": "stdout",
     "output_type": "stream",
     "text": [
      "Loss: 470.2457137927413\n",
      "Average Loss: 0.06434670413146433\n",
      "############### Saving good model ###############################\n",
      "-----------------------------------------------------------------\n",
      "Epoch: 97; Bad epochs: 0\n"
     ]
    },
    {
     "name": "stderr",
     "output_type": "stream",
     "text": [
      "100%|█████████████████████████████████████████████████████████| 7308/7308 [00:14<00:00, 500.91it/s]\n"
     ]
    },
    {
     "name": "stdout",
     "output_type": "stream",
     "text": [
      "Loss: 470.21745968214236\n",
      "Average Loss: 0.06434283794227455\n",
      "############### Saving good model ###############################\n",
      "-----------------------------------------------------------------\n",
      "Epoch: 98; Bad epochs: 0\n"
     ]
    },
    {
     "name": "stderr",
     "output_type": "stream",
     "text": [
      "100%|█████████████████████████████████████████████████████████| 7308/7308 [00:14<00:00, 500.92it/s]\n"
     ]
    },
    {
     "name": "stdout",
     "output_type": "stream",
     "text": [
      "Loss: 470.17565487883985\n",
      "Average Loss: 0.06433711752584015\n",
      "############### Saving good model ###############################\n",
      "-----------------------------------------------------------------\n",
      "Epoch: 99; Bad epochs: 0\n"
     ]
    },
    {
     "name": "stderr",
     "output_type": "stream",
     "text": [
      "100%|█████████████████████████████████████████████████████████| 7308/7308 [00:14<00:00, 498.19it/s]\n"
     ]
    },
    {
     "name": "stdout",
     "output_type": "stream",
     "text": [
      "Loss: 470.1400574569125\n",
      "Average Loss: 0.0643322465047773\n",
      "############### Saving good model ###############################\n",
      "-----------------------------------------------------------------\n",
      "Epoch: 100; Bad epochs: 0\n"
     ]
    },
    {
     "name": "stderr",
     "output_type": "stream",
     "text": [
      "100%|█████████████████████████████████████████████████████████| 7308/7308 [00:14<00:00, 500.90it/s]\n"
     ]
    },
    {
     "name": "stdout",
     "output_type": "stream",
     "text": [
      "Loss: 470.096554703312\n",
      "Average Loss: 0.06432629374703229\n",
      "############### Saving good model ###############################\n",
      "-----------------------------------------------------------------\n",
      "Epoch: 101; Bad epochs: 0\n"
     ]
    },
    {
     "name": "stderr",
     "output_type": "stream",
     "text": [
      "100%|█████████████████████████████████████████████████████████| 7308/7308 [00:14<00:00, 496.78it/s]\n"
     ]
    },
    {
     "name": "stdout",
     "output_type": "stream",
     "text": [
      "Loss: 470.05670028715394\n",
      "Average Loss: 0.06432084021444362\n",
      "############### Saving good model ###############################\n",
      "-----------------------------------------------------------------\n",
      "Epoch: 102; Bad epochs: 0\n"
     ]
    },
    {
     "name": "stderr",
     "output_type": "stream",
     "text": [
      "100%|█████████████████████████████████████████████████████████| 7308/7308 [00:14<00:00, 499.38it/s]\n"
     ]
    },
    {
     "name": "stdout",
     "output_type": "stream",
     "text": [
      "Loss: 470.01707041892223\n",
      "Average Loss: 0.06431541740817218\n",
      "############### Saving good model ###############################\n",
      "-----------------------------------------------------------------\n",
      "Epoch: 103; Bad epochs: 0\n"
     ]
    },
    {
     "name": "stderr",
     "output_type": "stream",
     "text": [
      "100%|█████████████████████████████████████████████████████████| 7308/7308 [00:14<00:00, 499.42it/s]\n"
     ]
    },
    {
     "name": "stdout",
     "output_type": "stream",
     "text": [
      "Loss: 469.9808739675209\n",
      "Average Loss: 0.06431046441810631\n",
      "############### Saving good model ###############################\n",
      "-----------------------------------------------------------------\n",
      "Epoch: 104; Bad epochs: 0\n"
     ]
    },
    {
     "name": "stderr",
     "output_type": "stream",
     "text": [
      "100%|█████████████████████████████████████████████████████████| 7308/7308 [00:14<00:00, 495.85it/s]\n"
     ]
    },
    {
     "name": "stdout",
     "output_type": "stream",
     "text": [
      "Loss: 469.9307290802244\n",
      "Average Loss: 0.06430360277507176\n",
      "############### Saving good model ###############################\n",
      "-----------------------------------------------------------------\n",
      "Epoch: 105; Bad epochs: 0\n"
     ]
    },
    {
     "name": "stderr",
     "output_type": "stream",
     "text": [
      "100%|█████████████████████████████████████████████████████████| 7308/7308 [00:14<00:00, 494.71it/s]\n"
     ]
    },
    {
     "name": "stdout",
     "output_type": "stream",
     "text": [
      "Loss: 469.9070670919027\n",
      "Average Loss: 0.06430036495510437\n",
      "############### Saving good model ###############################\n",
      "-----------------------------------------------------------------\n",
      "Epoch: 106; Bad epochs: 0\n"
     ]
    },
    {
     "name": "stderr",
     "output_type": "stream",
     "text": [
      "100%|█████████████████████████████████████████████████████████| 7308/7308 [00:14<00:00, 496.47it/s]\n"
     ]
    },
    {
     "name": "stdout",
     "output_type": "stream",
     "text": [
      "Loss: 469.8794158913661\n",
      "Average Loss: 0.06429658126592311\n",
      "############### Saving good model ###############################\n",
      "-----------------------------------------------------------------\n",
      "Epoch: 107; Bad epochs: 0\n"
     ]
    },
    {
     "name": "stderr",
     "output_type": "stream",
     "text": [
      "100%|█████████████████████████████████████████████████████████| 7308/7308 [00:14<00:00, 497.18it/s]\n"
     ]
    },
    {
     "name": "stdout",
     "output_type": "stream",
     "text": [
      "Loss: 469.8165393723175\n",
      "Average Loss: 0.06428797747294984\n",
      "############### Saving good model ###############################\n",
      "-----------------------------------------------------------------\n",
      "Epoch: 108; Bad epochs: 0\n"
     ]
    },
    {
     "name": "stderr",
     "output_type": "stream",
     "text": [
      "100%|█████████████████████████████████████████████████████████| 7308/7308 [00:14<00:00, 497.55it/s]\n"
     ]
    },
    {
     "name": "stdout",
     "output_type": "stream",
     "text": [
      "Loss: 469.79549765517004\n",
      "Average Loss: 0.06428509820130952\n",
      "############### Saving good model ###############################\n",
      "-----------------------------------------------------------------\n",
      "Epoch: 109; Bad epochs: 0\n"
     ]
    },
    {
     "name": "stderr",
     "output_type": "stream",
     "text": [
      "100%|█████████████████████████████████████████████████████████| 7308/7308 [00:14<00:00, 500.70it/s]\n"
     ]
    },
    {
     "name": "stdout",
     "output_type": "stream",
     "text": [
      "Loss: 469.7693156392779\n",
      "Average Loss: 0.06428151554998329\n",
      "############### Saving good model ###############################\n",
      "-----------------------------------------------------------------\n",
      "Epoch: 110; Bad epochs: 0\n"
     ]
    },
    {
     "name": "stderr",
     "output_type": "stream",
     "text": [
      "100%|█████████████████████████████████████████████████████████| 7308/7308 [00:14<00:00, 497.90it/s]\n"
     ]
    },
    {
     "name": "stdout",
     "output_type": "stream",
     "text": [
      "Loss: 469.710818907246\n",
      "Average Loss: 0.06427351107105173\n",
      "############### Saving good model ###############################\n",
      "-----------------------------------------------------------------\n",
      "Epoch: 111; Bad epochs: 0\n"
     ]
    },
    {
     "name": "stderr",
     "output_type": "stream",
     "text": [
      "100%|█████████████████████████████████████████████████████████| 7308/7308 [00:14<00:00, 498.53it/s]\n"
     ]
    },
    {
     "name": "stdout",
     "output_type": "stream",
     "text": [
      "Loss: 469.6969382725656\n",
      "Average Loss: 0.06427161169575336\n",
      "############### Saving good model ###############################\n",
      "-----------------------------------------------------------------\n",
      "Epoch: 112; Bad epochs: 0\n"
     ]
    },
    {
     "name": "stderr",
     "output_type": "stream",
     "text": [
      "100%|█████████████████████████████████████████████████████████| 7308/7308 [00:14<00:00, 487.63it/s]\n"
     ]
    },
    {
     "name": "stdout",
     "output_type": "stream",
     "text": [
      "Loss: 469.6431373809464\n",
      "Average Loss: 0.06426424977845463\n",
      "############### Saving good model ###############################\n",
      "-----------------------------------------------------------------\n",
      "Epoch: 113; Bad epochs: 0\n"
     ]
    },
    {
     "name": "stderr",
     "output_type": "stream",
     "text": [
      "100%|█████████████████████████████████████████████████████████| 7308/7308 [00:14<00:00, 495.53it/s]\n"
     ]
    },
    {
     "name": "stdout",
     "output_type": "stream",
     "text": [
      "Loss: 469.6272959958296\n",
      "Average Loss: 0.06426208210123559\n",
      "############### Saving good model ###############################\n",
      "-----------------------------------------------------------------\n",
      "Epoch: 114; Bad epochs: 0\n"
     ]
    },
    {
     "name": "stderr",
     "output_type": "stream",
     "text": [
      "100%|█████████████████████████████████████████████████████████| 7308/7308 [00:14<00:00, 496.09it/s]\n"
     ]
    },
    {
     "name": "stdout",
     "output_type": "stream",
     "text": [
      "Loss: 469.58532409672625\n",
      "Average Loss: 0.06425633882002275\n",
      "############### Saving good model ###############################\n",
      "-----------------------------------------------------------------\n",
      "Epoch: 115; Bad epochs: 0\n"
     ]
    },
    {
     "name": "stderr",
     "output_type": "stream",
     "text": [
      "100%|█████████████████████████████████████████████████████████| 7308/7308 [00:14<00:00, 497.93it/s]\n"
     ]
    },
    {
     "name": "stdout",
     "output_type": "stream",
     "text": [
      "Loss: 469.548974591773\n",
      "Average Loss: 0.06425136488666845\n",
      "############### Saving good model ###############################\n",
      "-----------------------------------------------------------------\n",
      "Epoch: 116; Bad epochs: 0\n"
     ]
    },
    {
     "name": "stderr",
     "output_type": "stream",
     "text": [
      "100%|█████████████████████████████████████████████████████████| 7308/7308 [00:14<00:00, 496.16it/s]\n"
     ]
    },
    {
     "name": "stdout",
     "output_type": "stream",
     "text": [
      "Loss: 469.5213953675702\n",
      "Average Loss: 0.06424759104646555\n",
      "############### Saving good model ###############################\n",
      "-----------------------------------------------------------------\n",
      "Epoch: 117; Bad epochs: 0\n"
     ]
    },
    {
     "name": "stderr",
     "output_type": "stream",
     "text": [
      "100%|█████████████████████████████████████████████████████████| 7308/7308 [00:14<00:00, 499.54it/s]\n"
     ]
    },
    {
     "name": "stdout",
     "output_type": "stream",
     "text": [
      "Loss: 469.4794604331255\n",
      "Average Loss: 0.06424185282336145\n",
      "############### Saving good model ###############################\n",
      "-----------------------------------------------------------------\n",
      "Epoch: 118; Bad epochs: 0\n"
     ]
    },
    {
     "name": "stderr",
     "output_type": "stream",
     "text": [
      "100%|█████████████████████████████████████████████████████████| 7308/7308 [00:14<00:00, 497.45it/s]\n"
     ]
    },
    {
     "name": "stdout",
     "output_type": "stream",
     "text": [
      "Loss: 469.44619572907686\n",
      "Average Loss: 0.06423730100288408\n",
      "############### Saving good model ###############################\n",
      "-----------------------------------------------------------------\n",
      "Epoch: 119; Bad epochs: 0\n"
     ]
    },
    {
     "name": "stderr",
     "output_type": "stream",
     "text": [
      "100%|█████████████████████████████████████████████████████████| 7308/7308 [00:14<00:00, 496.24it/s]\n"
     ]
    },
    {
     "name": "stdout",
     "output_type": "stream",
     "text": [
      "Loss: 469.4095486646984\n",
      "Average Loss: 0.06423228635258599\n",
      "############### Saving good model ###############################\n",
      "-----------------------------------------------------------------\n",
      "Epoch: 120; Bad epochs: 0\n"
     ]
    },
    {
     "name": "stderr",
     "output_type": "stream",
     "text": [
      "100%|█████████████████████████████████████████████████████████| 7308/7308 [00:14<00:00, 497.92it/s]\n"
     ]
    },
    {
     "name": "stdout",
     "output_type": "stream",
     "text": [
      "Loss: 469.399113423191\n",
      "Average Loss: 0.06423085843229215\n",
      "############### Saving good model ###############################\n",
      "-----------------------------------------------------------------\n",
      "Epoch: 121; Bad epochs: 0\n"
     ]
    },
    {
     "name": "stderr",
     "output_type": "stream",
     "text": [
      "100%|█████████████████████████████████████████████████████████| 7308/7308 [00:14<00:00, 500.15it/s]\n"
     ]
    },
    {
     "name": "stdout",
     "output_type": "stream",
     "text": [
      "Loss: 469.3550445009023\n",
      "Average Loss: 0.06422482820209391\n",
      "############### Saving good model ###############################\n",
      "-----------------------------------------------------------------\n",
      "Epoch: 122; Bad epochs: 0\n"
     ]
    },
    {
     "name": "stderr",
     "output_type": "stream",
     "text": [
      "100%|█████████████████████████████████████████████████████████| 7308/7308 [00:15<00:00, 481.77it/s]\n"
     ]
    },
    {
     "name": "stdout",
     "output_type": "stream",
     "text": [
      "Loss: 469.3200686716009\n",
      "Average Loss: 0.06422004223749328\n",
      "############### Saving good model ###############################\n",
      "-----------------------------------------------------------------\n",
      "Epoch: 123; Bad epochs: 0\n"
     ]
    },
    {
     "name": "stderr",
     "output_type": "stream",
     "text": [
      "100%|█████████████████████████████████████████████████████████| 7308/7308 [00:15<00:00, 485.27it/s]\n"
     ]
    },
    {
     "name": "stdout",
     "output_type": "stream",
     "text": [
      "Loss: 469.2736990619451\n",
      "Average Loss: 0.06421369718964766\n",
      "############### Saving good model ###############################\n",
      "-----------------------------------------------------------------\n",
      "Epoch: 124; Bad epochs: 0\n"
     ]
    },
    {
     "name": "stderr",
     "output_type": "stream",
     "text": [
      "100%|█████████████████████████████████████████████████████████| 7308/7308 [00:14<00:00, 496.07it/s]\n"
     ]
    },
    {
     "name": "stdout",
     "output_type": "stream",
     "text": [
      "Loss: 469.2404076086823\n",
      "Average Loss: 0.06420914170890563\n",
      "############### Saving good model ###############################\n",
      "-----------------------------------------------------------------\n",
      "Epoch: 125; Bad epochs: 0\n"
     ]
    },
    {
     "name": "stderr",
     "output_type": "stream",
     "text": [
      "100%|█████████████████████████████████████████████████████████| 7308/7308 [00:14<00:00, 498.49it/s]\n"
     ]
    },
    {
     "name": "stdout",
     "output_type": "stream",
     "text": [
      "Loss: 469.21134099154733\n",
      "Average Loss: 0.06420516433929219\n",
      "############### Saving good model ###############################\n",
      "-----------------------------------------------------------------\n",
      "Epoch: 126; Bad epochs: 0\n"
     ]
    },
    {
     "name": "stderr",
     "output_type": "stream",
     "text": [
      "100%|█████████████████████████████████████████████████████████| 7308/7308 [00:15<00:00, 485.59it/s]\n"
     ]
    },
    {
     "name": "stdout",
     "output_type": "stream",
     "text": [
      "Loss: 469.1813200991601\n",
      "Average Loss: 0.06420105639014231\n",
      "############### Saving good model ###############################\n",
      "-----------------------------------------------------------------\n",
      "Epoch: 127; Bad epochs: 0\n"
     ]
    },
    {
     "name": "stderr",
     "output_type": "stream",
     "text": [
      "100%|█████████████████████████████████████████████████████████| 7308/7308 [00:15<00:00, 483.17it/s]\n"
     ]
    },
    {
     "name": "stdout",
     "output_type": "stream",
     "text": [
      "Loss: 469.1419696882367\n",
      "Average Loss: 0.06419567182378719\n",
      "############### Saving good model ###############################\n",
      "-----------------------------------------------------------------\n",
      "Epoch: 128; Bad epochs: 0\n"
     ]
    },
    {
     "name": "stderr",
     "output_type": "stream",
     "text": [
      "100%|█████████████████████████████████████████████████████████| 7308/7308 [00:15<00:00, 480.47it/s]\n"
     ]
    },
    {
     "name": "stdout",
     "output_type": "stream",
     "text": [
      "Loss: 469.10958115104586\n",
      "Average Loss: 0.06419123989477912\n",
      "############### Saving good model ###############################\n",
      "-----------------------------------------------------------------\n",
      "Epoch: 129; Bad epochs: 0\n"
     ]
    },
    {
     "name": "stderr",
     "output_type": "stream",
     "text": [
      "100%|█████████████████████████████████████████████████████████| 7308/7308 [00:14<00:00, 488.04it/s]\n"
     ]
    },
    {
     "name": "stdout",
     "output_type": "stream",
     "text": [
      "Loss: 469.07378616416827\n",
      "Average Loss: 0.06418634183965083\n",
      "############### Saving good model ###############################\n",
      "-----------------------------------------------------------------\n",
      "Epoch: 130; Bad epochs: 0\n"
     ]
    },
    {
     "name": "stderr",
     "output_type": "stream",
     "text": [
      "100%|█████████████████████████████████████████████████████████| 7308/7308 [00:14<00:00, 496.92it/s]\n"
     ]
    },
    {
     "name": "stdout",
     "output_type": "stream",
     "text": [
      "Loss: 469.04910601326264\n",
      "Average Loss: 0.06418296469803812\n",
      "############### Saving good model ###############################\n",
      "-----------------------------------------------------------------\n",
      "Epoch: 131; Bad epochs: 0\n"
     ]
    },
    {
     "name": "stderr",
     "output_type": "stream",
     "text": [
      "100%|█████████████████████████████████████████████████████████| 7308/7308 [00:20<00:00, 352.26it/s]\n"
     ]
    },
    {
     "name": "stdout",
     "output_type": "stream",
     "text": [
      "Loss: 469.00508298608474\n",
      "Average Loss: 0.06417694074795906\n",
      "############### Saving good model ###############################\n",
      "-----------------------------------------------------------------\n",
      "Epoch: 132; Bad epochs: 0\n"
     ]
    },
    {
     "name": "stderr",
     "output_type": "stream",
     "text": [
      "100%|█████████████████████████████████████████████████████████| 7308/7308 [00:16<00:00, 437.28it/s]\n"
     ]
    },
    {
     "name": "stdout",
     "output_type": "stream",
     "text": [
      "Loss: 468.9600711299572\n",
      "Average Loss: 0.06417078149014192\n",
      "############### Saving good model ###############################\n",
      "-----------------------------------------------------------------\n",
      "Epoch: 133; Bad epochs: 0\n"
     ]
    },
    {
     "name": "stderr",
     "output_type": "stream",
     "text": [
      "100%|█████████████████████████████████████████████████████████| 7308/7308 [00:16<00:00, 455.29it/s]\n"
     ]
    },
    {
     "name": "stdout",
     "output_type": "stream",
     "text": [
      "Loss: 468.9389140603598\n",
      "Average Loss: 0.06416788643409412\n",
      "############### Saving good model ###############################\n",
      "-----------------------------------------------------------------\n",
      "Epoch: 134; Bad epochs: 0\n"
     ]
    },
    {
     "name": "stderr",
     "output_type": "stream",
     "text": [
      "100%|█████████████████████████████████████████████████████████| 7308/7308 [00:15<00:00, 467.39it/s]\n"
     ]
    },
    {
     "name": "stdout",
     "output_type": "stream",
     "text": [
      "Loss: 468.90145095135085\n",
      "Average Loss: 0.06416276011923247\n",
      "############### Saving good model ###############################\n",
      "-----------------------------------------------------------------\n",
      "Epoch: 135; Bad epochs: 0\n"
     ]
    },
    {
     "name": "stderr",
     "output_type": "stream",
     "text": [
      "100%|█████████████████████████████████████████████████████████| 7308/7308 [00:15<00:00, 473.63it/s]\n"
     ]
    },
    {
     "name": "stdout",
     "output_type": "stream",
     "text": [
      "Loss: 468.86591837578453\n",
      "Average Loss: 0.06415789797150856\n",
      "############### Saving good model ###############################\n",
      "-----------------------------------------------------------------\n",
      "Epoch: 136; Bad epochs: 0\n"
     ]
    },
    {
     "name": "stderr",
     "output_type": "stream",
     "text": [
      "100%|█████████████████████████████████████████████████████████| 7308/7308 [00:15<00:00, 466.16it/s]\n"
     ]
    },
    {
     "name": "stdout",
     "output_type": "stream",
     "text": [
      "Loss: 468.84850405110046\n",
      "Average Loss: 0.06415551505899021\n",
      "############### Saving good model ###############################\n",
      "-----------------------------------------------------------------\n",
      "Epoch: 137; Bad epochs: 0\n"
     ]
    },
    {
     "name": "stderr",
     "output_type": "stream",
     "text": [
      "100%|█████████████████████████████████████████████████████████| 7308/7308 [00:15<00:00, 467.02it/s]\n"
     ]
    },
    {
     "name": "stdout",
     "output_type": "stream",
     "text": [
      "Loss: 468.80593363102525\n",
      "Average Loss: 0.06414968987835594\n",
      "############### Saving good model ###############################\n",
      "-----------------------------------------------------------------\n",
      "Epoch: 138; Bad epochs: 0\n"
     ]
    },
    {
     "name": "stderr",
     "output_type": "stream",
     "text": [
      "100%|█████████████████████████████████████████████████████████| 7308/7308 [00:15<00:00, 467.78it/s]\n"
     ]
    },
    {
     "name": "stdout",
     "output_type": "stream",
     "text": [
      "Loss: 468.7665798268281\n",
      "Average Loss: 0.06414430484767762\n",
      "############### Saving good model ###############################\n",
      "-----------------------------------------------------------------\n",
      "Epoch: 139; Bad epochs: 0\n"
     ]
    },
    {
     "name": "stderr",
     "output_type": "stream",
     "text": [
      "100%|█████████████████████████████████████████████████████████| 7308/7308 [00:15<00:00, 468.31it/s]\n"
     ]
    },
    {
     "name": "stdout",
     "output_type": "stream",
     "text": [
      "Loss: 468.744744698517\n",
      "Average Loss: 0.0641413170085546\n",
      "############### Saving good model ###############################\n",
      "-----------------------------------------------------------------\n",
      "Epoch: 140; Bad epochs: 0\n"
     ]
    },
    {
     "name": "stderr",
     "output_type": "stream",
     "text": [
      "100%|█████████████████████████████████████████████████████████| 7308/7308 [00:15<00:00, 470.88it/s]\n"
     ]
    },
    {
     "name": "stdout",
     "output_type": "stream",
     "text": [
      "Loss: 468.6846236397978\n",
      "Average Loss: 0.06413309026269812\n",
      "############### Saving good model ###############################\n",
      "-----------------------------------------------------------------\n",
      "Epoch: 141; Bad epochs: 0\n"
     ]
    },
    {
     "name": "stderr",
     "output_type": "stream",
     "text": [
      "100%|█████████████████████████████████████████████████████████| 7308/7308 [00:15<00:00, 466.47it/s]\n"
     ]
    },
    {
     "name": "stdout",
     "output_type": "stream",
     "text": [
      "Loss: 468.70553285465576\n",
      "Average Loss: 0.0641359514032096\n",
      "-----------------------------------------------------------------\n",
      "Epoch: 142; Bad epochs: 1\n"
     ]
    },
    {
     "name": "stderr",
     "output_type": "stream",
     "text": [
      "100%|█████████████████████████████████████████████████████████| 7308/7308 [00:15<00:00, 468.09it/s]\n"
     ]
    },
    {
     "name": "stdout",
     "output_type": "stream",
     "text": [
      "Loss: 468.66564700519666\n",
      "Average Loss: 0.06413049356940294\n",
      "############### Saving good model ###############################\n",
      "-----------------------------------------------------------------\n",
      "Epoch: 143; Bad epochs: 0\n"
     ]
    },
    {
     "name": "stderr",
     "output_type": "stream",
     "text": [
      "100%|█████████████████████████████████████████████████████████| 7308/7308 [00:15<00:00, 465.49it/s]\n"
     ]
    },
    {
     "name": "stdout",
     "output_type": "stream",
     "text": [
      "Loss: 468.49306836281903\n",
      "Average Loss: 0.0641068785389736\n",
      "############### Saving good model ###############################\n",
      "-----------------------------------------------------------------\n",
      "Epoch: 144; Bad epochs: 0\n"
     ]
    },
    {
     "name": "stderr",
     "output_type": "stream",
     "text": [
      "100%|█████████████████████████████████████████████████████████| 7308/7308 [00:15<00:00, 461.80it/s]\n"
     ]
    },
    {
     "name": "stdout",
     "output_type": "stream",
     "text": [
      "Loss: 468.5988847934641\n",
      "Average Loss: 0.06412135807244992\n",
      "-----------------------------------------------------------------\n",
      "Epoch: 145; Bad epochs: 1\n"
     ]
    },
    {
     "name": "stderr",
     "output_type": "stream",
     "text": [
      "100%|█████████████████████████████████████████████████████████| 7308/7308 [00:15<00:00, 462.73it/s]\n"
     ]
    },
    {
     "name": "stdout",
     "output_type": "stream",
     "text": [
      "Loss: 468.5587073569186\n",
      "Average Loss: 0.06411586033893249\n",
      "-----------------------------------------------------------------\n",
      "Epoch: 146; Bad epochs: 2\n"
     ]
    },
    {
     "name": "stderr",
     "output_type": "stream",
     "text": [
      "100%|█████████████████████████████████████████████████████████| 7308/7308 [00:15<00:00, 460.37it/s]\n"
     ]
    },
    {
     "name": "stdout",
     "output_type": "stream",
     "text": [
      "Loss: 468.5239417066332\n",
      "Average Loss: 0.06411110313445993\n",
      "-----------------------------------------------------------------\n",
      "Epoch: 147; Bad epochs: 3\n"
     ]
    },
    {
     "name": "stderr",
     "output_type": "stream",
     "text": [
      "100%|█████████████████████████████████████████████████████████| 7308/7308 [00:15<00:00, 462.14it/s]\n"
     ]
    },
    {
     "name": "stdout",
     "output_type": "stream",
     "text": [
      "Loss: 468.5166845351923\n",
      "Average Loss: 0.06411011008965412\n",
      "-----------------------------------------------------------------\n",
      "Epoch: 148; Bad epochs: 4\n"
     ]
    },
    {
     "name": "stderr",
     "output_type": "stream",
     "text": [
      "100%|█████████████████████████████████████████████████████████| 7308/7308 [00:15<00:00, 464.29it/s]\n"
     ]
    },
    {
     "name": "stdout",
     "output_type": "stream",
     "text": [
      "Loss: 468.49164037243463\n",
      "Average Loss: 0.0641066831379905\n",
      "############### Saving good model ###############################\n",
      "-----------------------------------------------------------------\n",
      "Epoch: 149; Bad epochs: 0\n"
     ]
    },
    {
     "name": "stderr",
     "output_type": "stream",
     "text": [
      "100%|█████████████████████████████████████████████████████████| 7308/7308 [00:15<00:00, 459.98it/s]\n"
     ]
    },
    {
     "name": "stdout",
     "output_type": "stream",
     "text": [
      "Loss: 468.436909311451\n",
      "Average Loss: 0.06409919393971689\n",
      "############### Saving good model ###############################\n",
      "-----------------------------------------------------------------\n",
      "Epoch: 150; Bad epochs: 0\n"
     ]
    },
    {
     "name": "stderr",
     "output_type": "stream",
     "text": [
      "100%|█████████████████████████████████████████████████████████| 7308/7308 [00:15<00:00, 458.32it/s]\n"
     ]
    },
    {
     "name": "stdout",
     "output_type": "stream",
     "text": [
      "Loss: 468.4242682289332\n",
      "Average Loss: 0.06409746418020433\n",
      "############### Saving good model ###############################\n",
      "-----------------------------------------------------------------\n",
      "Epoch: 151; Bad epochs: 0\n"
     ]
    },
    {
     "name": "stderr",
     "output_type": "stream",
     "text": [
      "100%|█████████████████████████████████████████████████████████| 7308/7308 [00:15<00:00, 463.68it/s]\n"
     ]
    },
    {
     "name": "stdout",
     "output_type": "stream",
     "text": [
      "Loss: 468.3718755070586\n",
      "Average Loss: 0.06409029495170479\n",
      "############### Saving good model ###############################\n",
      "-----------------------------------------------------------------\n",
      "Epoch: 152; Bad epochs: 0\n"
     ]
    },
    {
     "name": "stderr",
     "output_type": "stream",
     "text": [
      "100%|█████████████████████████████████████████████████████████| 7308/7308 [00:15<00:00, 462.33it/s]\n"
     ]
    },
    {
     "name": "stdout",
     "output_type": "stream",
     "text": [
      "Loss: 468.37727098632604\n",
      "Average Loss: 0.06409103324936043\n",
      "-----------------------------------------------------------------\n",
      "Epoch: 153; Bad epochs: 1\n"
     ]
    },
    {
     "name": "stderr",
     "output_type": "stream",
     "text": [
      "100%|█████████████████████████████████████████████████████████| 7308/7308 [00:15<00:00, 463.82it/s]\n"
     ]
    },
    {
     "name": "stdout",
     "output_type": "stream",
     "text": [
      "Loss: 468.2991833528504\n",
      "Average Loss: 0.06408034802310487\n",
      "############### Saving good model ###############################\n",
      "-----------------------------------------------------------------\n",
      "Epoch: 154; Bad epochs: 0\n"
     ]
    },
    {
     "name": "stderr",
     "output_type": "stream",
     "text": [
      "100%|█████████████████████████████████████████████████████████| 7308/7308 [00:15<00:00, 462.61it/s]\n"
     ]
    },
    {
     "name": "stdout",
     "output_type": "stream",
     "text": [
      "Loss: 468.31291115819477\n",
      "Average Loss: 0.06408222648579567\n",
      "-----------------------------------------------------------------\n",
      "Epoch: 155; Bad epochs: 1\n"
     ]
    },
    {
     "name": "stderr",
     "output_type": "stream",
     "text": [
      "100%|█████████████████████████████████████████████████████████| 7308/7308 [00:15<00:00, 462.19it/s]\n"
     ]
    },
    {
     "name": "stdout",
     "output_type": "stream",
     "text": [
      "Loss: 468.24762924574316\n",
      "Average Loss: 0.0640732935475839\n",
      "############### Saving good model ###############################\n",
      "-----------------------------------------------------------------\n",
      "Epoch: 156; Bad epochs: 0\n"
     ]
    },
    {
     "name": "stderr",
     "output_type": "stream",
     "text": [
      "100%|█████████████████████████████████████████████████████████| 7308/7308 [00:16<00:00, 456.08it/s]\n"
     ]
    },
    {
     "name": "stdout",
     "output_type": "stream",
     "text": [
      "Loss: 468.2469669270795\n",
      "Average Loss: 0.06407320291831958\n",
      "############### Saving good model ###############################\n",
      "-----------------------------------------------------------------\n",
      "Epoch: 157; Bad epochs: 0\n"
     ]
    },
    {
     "name": "stderr",
     "output_type": "stream",
     "text": [
      "100%|█████████████████████████████████████████████████████████| 7308/7308 [00:16<00:00, 455.19it/s]\n"
     ]
    },
    {
     "name": "stdout",
     "output_type": "stream",
     "text": [
      "Loss: 468.2018590073567\n",
      "Average Loss: 0.06406703051551131\n",
      "############### Saving good model ###############################\n",
      "-----------------------------------------------------------------\n",
      "Epoch: 158; Bad epochs: 0\n"
     ]
    },
    {
     "name": "stderr",
     "output_type": "stream",
     "text": [
      "100%|█████████████████████████████████████████████████████████| 7308/7308 [00:15<00:00, 457.21it/s]\n"
     ]
    },
    {
     "name": "stdout",
     "output_type": "stream",
     "text": [
      "Loss: 468.1635405640118\n",
      "Average Loss: 0.06406178715982647\n",
      "############### Saving good model ###############################\n",
      "-----------------------------------------------------------------\n",
      "Epoch: 159; Bad epochs: 0\n"
     ]
    },
    {
     "name": "stderr",
     "output_type": "stream",
     "text": [
      "100%|█████████████████████████████████████████████████████████| 7308/7308 [00:15<00:00, 462.25it/s]\n"
     ]
    },
    {
     "name": "stdout",
     "output_type": "stream",
     "text": [
      "Loss: 468.1378724621609\n",
      "Average Loss: 0.06405827483061863\n",
      "############### Saving good model ###############################\n",
      "-----------------------------------------------------------------\n",
      "Epoch: 160; Bad epochs: 0\n"
     ]
    },
    {
     "name": "stderr",
     "output_type": "stream",
     "text": [
      "100%|█████████████████████████████████████████████████████████| 7308/7308 [00:15<00:00, 465.43it/s]\n"
     ]
    },
    {
     "name": "stdout",
     "output_type": "stream",
     "text": [
      "Loss: 468.11368976929225\n",
      "Average Loss: 0.06405496575934486\n",
      "############### Saving good model ###############################\n",
      "-----------------------------------------------------------------\n",
      "Epoch: 161; Bad epochs: 0\n"
     ]
    },
    {
     "name": "stderr",
     "output_type": "stream",
     "text": [
      "100%|█████████████████████████████████████████████████████████| 7308/7308 [00:16<00:00, 451.69it/s]\n"
     ]
    },
    {
     "name": "stdout",
     "output_type": "stream",
     "text": [
      "Loss: 468.0757180196233\n",
      "Average Loss: 0.06404976984395502\n",
      "############### Saving good model ###############################\n",
      "-----------------------------------------------------------------\n",
      "Epoch: 162; Bad epochs: 0\n"
     ]
    },
    {
     "name": "stderr",
     "output_type": "stream",
     "text": [
      "100%|█████████████████████████████████████████████████████████| 7308/7308 [00:42<00:00, 172.20it/s]\n"
     ]
    },
    {
     "name": "stdout",
     "output_type": "stream",
     "text": [
      "Loss: 468.03078037756495\n",
      "Average Loss: 0.06404362074131978\n",
      "############### Saving good model ###############################\n",
      "-----------------------------------------------------------------\n",
      "Epoch: 163; Bad epochs: 0\n"
     ]
    },
    {
     "name": "stderr",
     "output_type": "stream",
     "text": [
      "100%|█████████████████████████████████████████████████████████| 7308/7308 [00:23<00:00, 316.33it/s]\n"
     ]
    },
    {
     "name": "stdout",
     "output_type": "stream",
     "text": [
      "Loss: 468.0022856404539\n",
      "Average Loss: 0.06403972162567788\n",
      "############### Saving good model ###############################\n",
      "-----------------------------------------------------------------\n",
      "Epoch: 164; Bad epochs: 0\n"
     ]
    },
    {
     "name": "stderr",
     "output_type": "stream",
     "text": [
      "100%|█████████████████████████████████████████████████████████| 7308/7308 [00:19<00:00, 381.37it/s]\n"
     ]
    },
    {
     "name": "stdout",
     "output_type": "stream",
     "text": [
      "Loss: 467.99939212948084\n",
      "Average Loss: 0.06403932568821577\n",
      "############### Saving good model ###############################\n",
      "-----------------------------------------------------------------\n",
      "Epoch: 165; Bad epochs: 0\n"
     ]
    },
    {
     "name": "stderr",
     "output_type": "stream",
     "text": [
      "100%|█████████████████████████████████████████████████████████| 7308/7308 [00:18<00:00, 389.74it/s]\n"
     ]
    },
    {
     "name": "stdout",
     "output_type": "stream",
     "text": [
      "Loss: 467.93019512528554\n",
      "Average Loss: 0.06402985702316441\n",
      "############### Saving good model ###############################\n",
      "-----------------------------------------------------------------\n",
      "Epoch: 166; Bad epochs: 0\n"
     ]
    },
    {
     "name": "stderr",
     "output_type": "stream",
     "text": [
      "100%|█████████████████████████████████████████████████████████| 7308/7308 [00:18<00:00, 402.50it/s]\n"
     ]
    },
    {
     "name": "stdout",
     "output_type": "stream",
     "text": [
      "Loss: 467.90707134315744\n",
      "Average Loss: 0.06402669284936473\n",
      "############### Saving good model ###############################\n",
      "-----------------------------------------------------------------\n",
      "Epoch: 167; Bad epochs: 0\n"
     ]
    },
    {
     "name": "stderr",
     "output_type": "stream",
     "text": [
      "100%|█████████████████████████████████████████████████████████| 7308/7308 [00:18<00:00, 402.04it/s]\n"
     ]
    },
    {
     "name": "stdout",
     "output_type": "stream",
     "text": [
      "Loss: 467.877177557908\n",
      "Average Loss: 0.06402260229309086\n",
      "############### Saving good model ###############################\n",
      "-----------------------------------------------------------------\n",
      "Epoch: 168; Bad epochs: 0\n"
     ]
    },
    {
     "name": "stderr",
     "output_type": "stream",
     "text": [
      "100%|█████████████████████████████████████████████████████████| 7308/7308 [00:18<00:00, 402.36it/s]\n"
     ]
    },
    {
     "name": "stdout",
     "output_type": "stream",
     "text": [
      "Loss: 467.84796421485953\n",
      "Average Loss: 0.0640186048460399\n",
      "############### Saving good model ###############################\n",
      "-----------------------------------------------------------------\n",
      "Epoch: 169; Bad epochs: 0\n"
     ]
    },
    {
     "name": "stderr",
     "output_type": "stream",
     "text": [
      "100%|█████████████████████████████████████████████████████████| 7308/7308 [00:18<00:00, 405.24it/s]\n"
     ]
    },
    {
     "name": "stdout",
     "output_type": "stream",
     "text": [
      "Loss: 467.7964272443205\n",
      "Average Loss: 0.06401155271542426\n",
      "############### Saving good model ###############################\n",
      "-----------------------------------------------------------------\n",
      "Epoch: 170; Bad epochs: 0\n"
     ]
    },
    {
     "name": "stderr",
     "output_type": "stream",
     "text": [
      "100%|█████████████████████████████████████████████████████████| 7308/7308 [00:17<00:00, 408.16it/s]\n"
     ]
    },
    {
     "name": "stdout",
     "output_type": "stream",
     "text": [
      "Loss: 467.78703412087634\n",
      "Average Loss: 0.06401026739475593\n",
      "############### Saving good model ###############################\n",
      "-----------------------------------------------------------------\n",
      "Epoch: 171; Bad epochs: 0\n"
     ]
    },
    {
     "name": "stderr",
     "output_type": "stream",
     "text": [
      "100%|█████████████████████████████████████████████████████████| 7308/7308 [00:17<00:00, 406.45it/s]\n"
     ]
    },
    {
     "name": "stdout",
     "output_type": "stream",
     "text": [
      "Loss: 467.7497528619133\n",
      "Average Loss: 0.06400516596358967\n",
      "############### Saving good model ###############################\n",
      "-----------------------------------------------------------------\n",
      "Epoch: 172; Bad epochs: 0\n"
     ]
    },
    {
     "name": "stderr",
     "output_type": "stream",
     "text": [
      "100%|█████████████████████████████████████████████████████████| 7308/7308 [00:17<00:00, 407.97it/s]\n"
     ]
    },
    {
     "name": "stdout",
     "output_type": "stream",
     "text": [
      "Loss: 467.7010110390838\n",
      "Average Loss: 0.0639984963107668\n",
      "############### Saving good model ###############################\n",
      "-----------------------------------------------------------------\n",
      "Epoch: 173; Bad epochs: 0\n"
     ]
    },
    {
     "name": "stderr",
     "output_type": "stream",
     "text": [
      "100%|█████████████████████████████████████████████████████████| 7308/7308 [00:17<00:00, 406.98it/s]\n"
     ]
    },
    {
     "name": "stdout",
     "output_type": "stream",
     "text": [
      "Loss: 467.6657019772101\n",
      "Average Loss: 0.06399366474783937\n",
      "############### Saving good model ###############################\n",
      "-----------------------------------------------------------------\n",
      "Epoch: 174; Bad epochs: 0\n"
     ]
    },
    {
     "name": "stderr",
     "output_type": "stream",
     "text": [
      "100%|█████████████████████████████████████████████████████████| 7308/7308 [00:17<00:00, 406.39it/s]\n"
     ]
    },
    {
     "name": "stdout",
     "output_type": "stream",
     "text": [
      "Loss: 467.61469437438063\n",
      "Average Loss: 0.0639866850539656\n",
      "############### Saving good model ###############################\n",
      "-----------------------------------------------------------------\n",
      "Epoch: 175; Bad epochs: 0\n"
     ]
    },
    {
     "name": "stderr",
     "output_type": "stream",
     "text": [
      "100%|█████████████████████████████████████████████████████████| 7308/7308 [00:17<00:00, 406.42it/s]\n"
     ]
    },
    {
     "name": "stdout",
     "output_type": "stream",
     "text": [
      "Loss: 467.6104509513825\n",
      "Average Loss: 0.06398610439947763\n",
      "############### Saving good model ###############################\n",
      "-----------------------------------------------------------------\n",
      "Epoch: 176; Bad epochs: 0\n"
     ]
    },
    {
     "name": "stderr",
     "output_type": "stream",
     "text": [
      "100%|█████████████████████████████████████████████████████████| 7308/7308 [00:17<00:00, 409.56it/s]\n"
     ]
    },
    {
     "name": "stdout",
     "output_type": "stream",
     "text": [
      "Loss: 467.54067355929874\n",
      "Average Loss: 0.06397655631626967\n",
      "############### Saving good model ###############################\n",
      "-----------------------------------------------------------------\n",
      "Epoch: 177; Bad epochs: 0\n"
     ]
    },
    {
     "name": "stderr",
     "output_type": "stream",
     "text": [
      "100%|█████████████████████████████████████████████████████████| 7308/7308 [00:17<00:00, 406.28it/s]\n"
     ]
    },
    {
     "name": "stdout",
     "output_type": "stream",
     "text": [
      "Loss: 467.5224847176578\n",
      "Average Loss: 0.06397406742168278\n",
      "############### Saving good model ###############################\n",
      "-----------------------------------------------------------------\n",
      "Epoch: 178; Bad epochs: 0\n"
     ]
    },
    {
     "name": "stderr",
     "output_type": "stream",
     "text": [
      "100%|█████████████████████████████████████████████████████████| 7308/7308 [00:17<00:00, 408.61it/s]\n"
     ]
    },
    {
     "name": "stdout",
     "output_type": "stream",
     "text": [
      "Loss: 467.4949585259892\n",
      "Average Loss: 0.06397030083825797\n",
      "############### Saving good model ###############################\n",
      "-----------------------------------------------------------------\n",
      "Epoch: 179; Bad epochs: 0\n"
     ]
    },
    {
     "name": "stderr",
     "output_type": "stream",
     "text": [
      "100%|█████████████████████████████████████████████████████████| 7308/7308 [00:17<00:00, 407.82it/s]\n"
     ]
    },
    {
     "name": "stdout",
     "output_type": "stream",
     "text": [
      "Loss: 467.4419297198765\n",
      "Average Loss: 0.06396304457031698\n",
      "############### Saving good model ###############################\n",
      "-----------------------------------------------------------------\n",
      "Epoch: 180; Bad epochs: 0\n"
     ]
    },
    {
     "name": "stderr",
     "output_type": "stream",
     "text": [
      "100%|█████████████████████████████████████████████████████████| 7308/7308 [00:17<00:00, 409.42it/s]\n"
     ]
    },
    {
     "name": "stdout",
     "output_type": "stream",
     "text": [
      "Loss: 467.4194322542753\n",
      "Average Loss: 0.06395996609938086\n",
      "############### Saving good model ###############################\n",
      "-----------------------------------------------------------------\n",
      "Epoch: 181; Bad epochs: 0\n"
     ]
    },
    {
     "name": "stderr",
     "output_type": "stream",
     "text": [
      "100%|█████████████████████████████████████████████████████████| 7308/7308 [00:17<00:00, 407.45it/s]\n"
     ]
    },
    {
     "name": "stdout",
     "output_type": "stream",
     "text": [
      "Loss: 467.37142696534283\n",
      "Average Loss: 0.0639533972311635\n",
      "############### Saving good model ###############################\n",
      "-----------------------------------------------------------------\n",
      "Epoch: 182; Bad epochs: 0\n"
     ]
    },
    {
     "name": "stderr",
     "output_type": "stream",
     "text": [
      "100%|█████████████████████████████████████████████████████████| 7308/7308 [00:17<00:00, 406.31it/s]\n"
     ]
    },
    {
     "name": "stdout",
     "output_type": "stream",
     "text": [
      "Loss: 467.319370953599\n",
      "Average Loss: 0.06394627407684715\n",
      "############### Saving good model ###############################\n",
      "-----------------------------------------------------------------\n",
      "Epoch: 183; Bad epochs: 0\n"
     ]
    },
    {
     "name": "stderr",
     "output_type": "stream",
     "text": [
      "100%|█████████████████████████████████████████████████████████| 7308/7308 [00:18<00:00, 405.76it/s]\n"
     ]
    },
    {
     "name": "stdout",
     "output_type": "stream",
     "text": [
      "Loss: 467.30653591337614\n",
      "Average Loss: 0.06394451777687139\n",
      "############### Saving good model ###############################\n",
      "-----------------------------------------------------------------\n",
      "Epoch: 184; Bad epochs: 0\n"
     ]
    },
    {
     "name": "stderr",
     "output_type": "stream",
     "text": [
      "100%|█████████████████████████████████████████████████████████| 7308/7308 [00:18<00:00, 402.60it/s]\n"
     ]
    },
    {
     "name": "stdout",
     "output_type": "stream",
     "text": [
      "Loss: 467.2487387987785\n",
      "Average Loss: 0.06393660903103154\n",
      "############### Saving good model ###############################\n",
      "-----------------------------------------------------------------\n",
      "Epoch: 185; Bad epochs: 0\n"
     ]
    },
    {
     "name": "stderr",
     "output_type": "stream",
     "text": [
      "100%|█████████████████████████████████████████████████████████| 7308/7308 [00:18<00:00, 404.36it/s]\n"
     ]
    },
    {
     "name": "stdout",
     "output_type": "stream",
     "text": [
      "Loss: 467.2207848846447\n",
      "Average Loss: 0.06393278391962845\n",
      "############### Saving good model ###############################\n",
      "-----------------------------------------------------------------\n",
      "Epoch: 186; Bad epochs: 0\n"
     ]
    },
    {
     "name": "stderr",
     "output_type": "stream",
     "text": [
      "100%|█████████████████████████████████████████████████████████| 7308/7308 [00:18<00:00, 405.00it/s]\n"
     ]
    },
    {
     "name": "stdout",
     "output_type": "stream",
     "text": [
      "Loss: 467.1788963628933\n",
      "Average Loss: 0.06392705204746761\n",
      "############### Saving good model ###############################\n",
      "-----------------------------------------------------------------\n",
      "Epoch: 187; Bad epochs: 0\n"
     ]
    },
    {
     "name": "stderr",
     "output_type": "stream",
     "text": [
      "100%|█████████████████████████████████████████████████████████| 7308/7308 [00:17<00:00, 407.33it/s]\n"
     ]
    },
    {
     "name": "stdout",
     "output_type": "stream",
     "text": [
      "Loss: 467.1232864782214\n",
      "Average Loss: 0.0639194425941737\n",
      "############### Saving good model ###############################\n",
      "-----------------------------------------------------------------\n",
      "Epoch: 188; Bad epochs: 0\n"
     ]
    },
    {
     "name": "stderr",
     "output_type": "stream",
     "text": [
      "100%|█████████████████████████████████████████████████████████| 7308/7308 [00:18<00:00, 400.08it/s]\n"
     ]
    },
    {
     "name": "stdout",
     "output_type": "stream",
     "text": [
      "Loss: 467.0987078153994\n",
      "Average Loss: 0.0639160793398193\n",
      "############### Saving good model ###############################\n",
      "-----------------------------------------------------------------\n",
      "Epoch: 189; Bad epochs: 0\n"
     ]
    },
    {
     "name": "stderr",
     "output_type": "stream",
     "text": [
      "100%|█████████████████████████████████████████████████████████| 7308/7308 [00:18<00:00, 387.73it/s]\n"
     ]
    },
    {
     "name": "stdout",
     "output_type": "stream",
     "text": [
      "Loss: 467.08129772823304\n",
      "Average Loss: 0.06391369700714737\n",
      "############### Saving good model ###############################\n",
      "-----------------------------------------------------------------\n",
      "Epoch: 190; Bad epochs: 0\n"
     ]
    },
    {
     "name": "stderr",
     "output_type": "stream",
     "text": [
      "100%|█████████████████████████████████████████████████████████| 7308/7308 [00:18<00:00, 385.46it/s]\n"
     ]
    },
    {
     "name": "stdout",
     "output_type": "stream",
     "text": [
      "Loss: 467.00287970830686\n",
      "Average Loss: 0.06390296657201791\n",
      "############### Saving good model ###############################\n",
      "-----------------------------------------------------------------\n",
      "Epoch: 191; Bad epochs: 0\n"
     ]
    },
    {
     "name": "stderr",
     "output_type": "stream",
     "text": [
      "100%|█████████████████████████████████████████████████████████| 7308/7308 [00:18<00:00, 386.22it/s]\n"
     ]
    },
    {
     "name": "stdout",
     "output_type": "stream",
     "text": [
      "Loss: 466.97302808729\n",
      "Average Loss: 0.06389888178534346\n",
      "############### Saving good model ###############################\n",
      "-----------------------------------------------------------------\n",
      "Epoch: 192; Bad epochs: 0\n"
     ]
    },
    {
     "name": "stderr",
     "output_type": "stream",
     "text": [
      "100%|█████████████████████████████████████████████████████████| 7308/7308 [00:18<00:00, 385.88it/s]\n"
     ]
    },
    {
     "name": "stdout",
     "output_type": "stream",
     "text": [
      "Loss: 466.910199749982\n",
      "Average Loss: 0.06389028458538341\n",
      "############### Saving good model ###############################\n",
      "-----------------------------------------------------------------\n",
      "Epoch: 193; Bad epochs: 0\n"
     ]
    },
    {
     "name": "stderr",
     "output_type": "stream",
     "text": [
      "100%|█████████████████████████████████████████████████████████| 7308/7308 [00:18<00:00, 393.35it/s]\n"
     ]
    },
    {
     "name": "stdout",
     "output_type": "stream",
     "text": [
      "Loss: 466.90623317216523\n",
      "Average Loss: 0.06388974181337784\n",
      "############### Saving good model ###############################\n",
      "-----------------------------------------------------------------\n",
      "Epoch: 194; Bad epochs: 0\n"
     ]
    },
    {
     "name": "stderr",
     "output_type": "stream",
     "text": [
      "100%|█████████████████████████████████████████████████████████| 7308/7308 [00:18<00:00, 395.50it/s]\n"
     ]
    },
    {
     "name": "stdout",
     "output_type": "stream",
     "text": [
      "Loss: 466.8421864716802\n",
      "Average Loss: 0.06388097789705531\n",
      "############### Saving good model ###############################\n",
      "-----------------------------------------------------------------\n",
      "Epoch: 195; Bad epochs: 0\n"
     ]
    },
    {
     "name": "stderr",
     "output_type": "stream",
     "text": [
      "100%|█████████████████████████████████████████████████████████| 7308/7308 [00:18<00:00, 392.13it/s]\n"
     ]
    },
    {
     "name": "stdout",
     "output_type": "stream",
     "text": [
      "Loss: 466.79468997218646\n",
      "Average Loss: 0.06387447864972448\n",
      "############### Saving good model ###############################\n",
      "-----------------------------------------------------------------\n",
      "Epoch: 196; Bad epochs: 0\n"
     ]
    },
    {
     "name": "stderr",
     "output_type": "stream",
     "text": [
      "100%|█████████████████████████████████████████████████████████| 7308/7308 [00:19<00:00, 372.07it/s]\n"
     ]
    },
    {
     "name": "stdout",
     "output_type": "stream",
     "text": [
      "Loss: 466.7610335366335\n",
      "Average Loss: 0.06386987322614032\n",
      "############### Saving good model ###############################\n",
      "-----------------------------------------------------------------\n",
      "Epoch: 197; Bad epochs: 0\n"
     ]
    },
    {
     "name": "stderr",
     "output_type": "stream",
     "text": [
      "100%|█████████████████████████████████████████████████████████| 7308/7308 [00:15<00:00, 467.43it/s]\n"
     ]
    },
    {
     "name": "stdout",
     "output_type": "stream",
     "text": [
      "Loss: 466.71202842355706\n",
      "Average Loss: 0.06386316754564272\n",
      "############### Saving good model ###############################\n",
      "-----------------------------------------------------------------\n",
      "Epoch: 198; Bad epochs: 0\n"
     ]
    },
    {
     "name": "stderr",
     "output_type": "stream",
     "text": [
      "100%|█████████████████████████████████████████████████████████| 7308/7308 [00:15<00:00, 468.69it/s]\n"
     ]
    },
    {
     "name": "stdout",
     "output_type": "stream",
     "text": [
      "Loss: 466.6522822023835\n",
      "Average Loss: 0.06385499209118549\n",
      "############### Saving good model ###############################\n",
      "-----------------------------------------------------------------\n",
      "Epoch: 199; Bad epochs: 0\n"
     ]
    },
    {
     "name": "stderr",
     "output_type": "stream",
     "text": [
      "100%|█████████████████████████████████████████████████████████| 7308/7308 [00:15<00:00, 475.59it/s]\n"
     ]
    },
    {
     "name": "stdout",
     "output_type": "stream",
     "text": [
      "Loss: 466.6350447810255\n",
      "Average Loss: 0.06385263338547147\n",
      "############### Saving good model ###############################\n",
      "-----------------------------------------------------------------\n",
      "Epoch: 200; Bad epochs: 0\n"
     ]
    },
    {
     "name": "stderr",
     "output_type": "stream",
     "text": [
      "100%|█████████████████████████████████████████████████████████| 7308/7308 [00:15<00:00, 476.96it/s]\n"
     ]
    },
    {
     "name": "stdout",
     "output_type": "stream",
     "text": [
      "Loss: 466.5793195879087\n",
      "Average Loss: 0.06384500815379156\n",
      "############### Saving good model ###############################\n",
      "-----------------------------------------------------------------\n",
      "Epoch: 201; Bad epochs: 0\n"
     ]
    },
    {
     "name": "stderr",
     "output_type": "stream",
     "text": [
      "100%|█████████████████████████████████████████████████████████| 7308/7308 [00:15<00:00, 468.11it/s]\n"
     ]
    },
    {
     "name": "stdout",
     "output_type": "stream",
     "text": [
      "Loss: 466.535878815921\n",
      "Average Loss: 0.06383906387738383\n",
      "############### Saving good model ###############################\n",
      "-----------------------------------------------------------------\n",
      "Epoch: 202; Bad epochs: 0\n"
     ]
    },
    {
     "name": "stderr",
     "output_type": "stream",
     "text": [
      "100%|█████████████████████████████████████████████████████████| 7308/7308 [00:15<00:00, 477.45it/s]\n"
     ]
    },
    {
     "name": "stdout",
     "output_type": "stream",
     "text": [
      "Loss: 466.5114924549125\n",
      "Average Loss: 0.06383572693690648\n",
      "############### Saving good model ###############################\n",
      "-----------------------------------------------------------------\n",
      "Epoch: 203; Bad epochs: 0\n"
     ]
    },
    {
     "name": "stderr",
     "output_type": "stream",
     "text": [
      "100%|█████████████████████████████████████████████████████████| 7308/7308 [00:15<00:00, 483.94it/s]\n"
     ]
    },
    {
     "name": "stdout",
     "output_type": "stream",
     "text": [
      "Loss: 466.46538830408826\n",
      "Average Loss: 0.06382941821347678\n",
      "############### Saving good model ###############################\n",
      "-----------------------------------------------------------------\n",
      "Epoch: 204; Bad epochs: 0\n"
     ]
    },
    {
     "name": "stderr",
     "output_type": "stream",
     "text": [
      "100%|█████████████████████████████████████████████████████████| 7308/7308 [00:15<00:00, 478.10it/s]\n"
     ]
    },
    {
     "name": "stdout",
     "output_type": "stream",
     "text": [
      "Loss: 466.2792378300801\n",
      "Average Loss: 0.06380394606322935\n",
      "############### Saving good model ###############################\n",
      "-----------------------------------------------------------------\n",
      "Epoch: 205; Bad epochs: 0\n"
     ]
    },
    {
     "name": "stderr",
     "output_type": "stream",
     "text": [
      "100%|█████████████████████████████████████████████████████████| 7308/7308 [00:15<00:00, 483.38it/s]\n"
     ]
    },
    {
     "name": "stdout",
     "output_type": "stream",
     "text": [
      "Loss: 466.389889275888\n",
      "Average Loss: 0.06381908720250246\n",
      "-----------------------------------------------------------------\n",
      "Epoch: 206; Bad epochs: 1\n"
     ]
    },
    {
     "name": "stderr",
     "output_type": "stream",
     "text": [
      "100%|█████████████████████████████████████████████████████████| 7308/7308 [00:15<00:00, 480.84it/s]\n"
     ]
    },
    {
     "name": "stdout",
     "output_type": "stream",
     "text": [
      "Loss: 466.344610348111\n",
      "Average Loss: 0.06381289139957731\n",
      "-----------------------------------------------------------------\n",
      "Epoch: 207; Bad epochs: 2\n"
     ]
    },
    {
     "name": "stderr",
     "output_type": "stream",
     "text": [
      "100%|█████████████████████████████████████████████████████████| 7308/7308 [00:15<00:00, 484.39it/s]\n"
     ]
    },
    {
     "name": "stdout",
     "output_type": "stream",
     "text": [
      "Loss: 466.29682876123115\n",
      "Average Loss: 0.06380635314193092\n",
      "-----------------------------------------------------------------\n",
      "Epoch: 208; Bad epochs: 3\n"
     ]
    },
    {
     "name": "stderr",
     "output_type": "stream",
     "text": [
      "100%|█████████████████████████████████████████████████████████| 7308/7308 [00:15<00:00, 480.11it/s]\n"
     ]
    },
    {
     "name": "stdout",
     "output_type": "stream",
     "text": [
      "Loss: 466.2480958190281\n",
      "Average Loss: 0.0637996847043005\n",
      "############### Saving good model ###############################\n",
      "-----------------------------------------------------------------\n",
      "Epoch: 209; Bad epochs: 0\n"
     ]
    },
    {
     "name": "stderr",
     "output_type": "stream",
     "text": [
      "100%|█████████████████████████████████████████████████████████| 7308/7308 [00:15<00:00, 484.17it/s]\n"
     ]
    },
    {
     "name": "stdout",
     "output_type": "stream",
     "text": [
      "Loss: 466.2343508582562\n",
      "Average Loss: 0.06379780389412373\n",
      "############### Saving good model ###############################\n",
      "-----------------------------------------------------------------\n",
      "Epoch: 210; Bad epochs: 0\n"
     ]
    },
    {
     "name": "stderr",
     "output_type": "stream",
     "text": [
      "100%|█████████████████████████████████████████████████████████| 7308/7308 [00:15<00:00, 479.54it/s]\n"
     ]
    },
    {
     "name": "stdout",
     "output_type": "stream",
     "text": [
      "Loss: 466.17087787739\n",
      "Average Loss: 0.06378911848349617\n",
      "############### Saving good model ###############################\n",
      "-----------------------------------------------------------------\n",
      "Epoch: 211; Bad epochs: 0\n"
     ]
    },
    {
     "name": "stderr",
     "output_type": "stream",
     "text": [
      "100%|█████████████████████████████████████████████████████████| 7308/7308 [00:15<00:00, 479.79it/s]\n"
     ]
    },
    {
     "name": "stdout",
     "output_type": "stream",
     "text": [
      "Loss: 466.13450486632064\n",
      "Average Loss: 0.06378414133365089\n",
      "############### Saving good model ###############################\n",
      "-----------------------------------------------------------------\n",
      "Epoch: 212; Bad epochs: 0\n"
     ]
    },
    {
     "name": "stderr",
     "output_type": "stream",
     "text": [
      "100%|█████████████████████████████████████████████████████████| 7308/7308 [00:15<00:00, 478.49it/s]\n"
     ]
    },
    {
     "name": "stdout",
     "output_type": "stream",
     "text": [
      "Loss: 466.10506285750307\n",
      "Average Loss: 0.06378011259681213\n",
      "############### Saving good model ###############################\n",
      "-----------------------------------------------------------------\n",
      "Epoch: 213; Bad epochs: 0\n"
     ]
    },
    {
     "name": "stderr",
     "output_type": "stream",
     "text": [
      "100%|█████████████████████████████████████████████████████████| 7308/7308 [00:15<00:00, 482.70it/s]\n"
     ]
    },
    {
     "name": "stdout",
     "output_type": "stream",
     "text": [
      "Loss: 466.0680888979696\n",
      "Average Loss: 0.06377505321537624\n",
      "############### Saving good model ###############################\n",
      "-----------------------------------------------------------------\n",
      "Epoch: 214; Bad epochs: 0\n"
     ]
    },
    {
     "name": "stderr",
     "output_type": "stream",
     "text": [
      "100%|█████████████████████████████████████████████████████████| 7308/7308 [00:15<00:00, 477.62it/s]\n"
     ]
    },
    {
     "name": "stdout",
     "output_type": "stream",
     "text": [
      "Loss: 466.02524626161903\n",
      "Average Loss: 0.06376919078566215\n",
      "############### Saving good model ###############################\n",
      "-----------------------------------------------------------------\n",
      "Epoch: 215; Bad epochs: 0\n"
     ]
    },
    {
     "name": "stderr",
     "output_type": "stream",
     "text": [
      "100%|█████████████████████████████████████████████████████████| 7308/7308 [00:15<00:00, 479.74it/s]\n"
     ]
    },
    {
     "name": "stdout",
     "output_type": "stream",
     "text": [
      "Loss: 466.0130907765124\n",
      "Average Loss: 0.06376752747352386\n",
      "############### Saving good model ###############################\n",
      "-----------------------------------------------------------------\n",
      "Epoch: 216; Bad epochs: 0\n"
     ]
    },
    {
     "name": "stderr",
     "output_type": "stream",
     "text": [
      "100%|█████████████████████████████████████████████████████████| 7308/7308 [00:15<00:00, 482.36it/s]\n"
     ]
    },
    {
     "name": "stdout",
     "output_type": "stream",
     "text": [
      "Loss: 465.9793325222563\n",
      "Average Loss: 0.06376290811744065\n",
      "############### Saving good model ###############################\n",
      "-----------------------------------------------------------------\n",
      "Epoch: 217; Bad epochs: 0\n"
     ]
    },
    {
     "name": "stderr",
     "output_type": "stream",
     "text": [
      "100%|█████████████████████████████████████████████████████████| 7308/7308 [00:15<00:00, 484.45it/s]\n"
     ]
    },
    {
     "name": "stdout",
     "output_type": "stream",
     "text": [
      "Loss: 465.9195840517059\n",
      "Average Loss: 0.0637547323551869\n",
      "############### Saving good model ###############################\n",
      "-----------------------------------------------------------------\n",
      "Epoch: 218; Bad epochs: 0\n"
     ]
    },
    {
     "name": "stderr",
     "output_type": "stream",
     "text": [
      "100%|█████████████████████████████████████████████████████████| 7308/7308 [00:15<00:00, 482.17it/s]\n"
     ]
    },
    {
     "name": "stdout",
     "output_type": "stream",
     "text": [
      "Loss: 465.89121886738576\n",
      "Average Loss: 0.06375085096707522\n",
      "############### Saving good model ###############################\n",
      "-----------------------------------------------------------------\n",
      "Epoch: 219; Bad epochs: 0\n"
     ]
    },
    {
     "name": "stderr",
     "output_type": "stream",
     "text": [
      "100%|█████████████████████████████████████████████████████████| 7308/7308 [00:15<00:00, 479.08it/s]\n"
     ]
    },
    {
     "name": "stdout",
     "output_type": "stream",
     "text": [
      "Loss: 465.8620210306253\n",
      "Average Loss: 0.06374685564184802\n",
      "############### Saving good model ###############################\n",
      "-----------------------------------------------------------------\n",
      "Epoch: 220; Bad epochs: 0\n"
     ]
    },
    {
     "name": "stderr",
     "output_type": "stream",
     "text": [
      "100%|█████████████████████████████████████████████████████████| 7308/7308 [00:15<00:00, 465.08it/s]\n"
     ]
    },
    {
     "name": "stdout",
     "output_type": "stream",
     "text": [
      "Loss: 465.8480938079301\n",
      "Average Loss: 0.06374494989161605\n",
      "############### Saving good model ###############################\n",
      "-----------------------------------------------------------------\n",
      "Epoch: 221; Bad epochs: 0\n"
     ]
    },
    {
     "name": "stderr",
     "output_type": "stream",
     "text": [
      "100%|█████████████████████████████████████████████████████████| 7308/7308 [00:15<00:00, 459.05it/s]\n"
     ]
    },
    {
     "name": "stdout",
     "output_type": "stream",
     "text": [
      "Loss: 465.81138127855957\n",
      "Average Loss: 0.0637399262833278\n",
      "############### Saving good model ###############################\n",
      "-----------------------------------------------------------------\n",
      "Epoch: 222; Bad epochs: 0\n"
     ]
    },
    {
     "name": "stderr",
     "output_type": "stream",
     "text": [
      "100%|█████████████████████████████████████████████████████████| 7308/7308 [00:15<00:00, 474.68it/s]\n"
     ]
    },
    {
     "name": "stdout",
     "output_type": "stream",
     "text": [
      "Loss: 465.8012117871549\n",
      "Average Loss: 0.06373853472730637\n",
      "############### Saving good model ###############################\n",
      "-----------------------------------------------------------------\n",
      "Epoch: 223; Bad epochs: 0\n"
     ]
    },
    {
     "name": "stderr",
     "output_type": "stream",
     "text": [
      "100%|█████████████████████████████████████████████████████████| 7308/7308 [00:15<00:00, 482.95it/s]\n"
     ]
    },
    {
     "name": "stdout",
     "output_type": "stream",
     "text": [
      "Loss: 465.77800193754956\n",
      "Average Loss: 0.06373535877634778\n",
      "############### Saving good model ###############################\n",
      "-----------------------------------------------------------------\n",
      "Epoch: 224; Bad epochs: 0\n"
     ]
    },
    {
     "name": "stderr",
     "output_type": "stream",
     "text": [
      "100%|█████████████████████████████████████████████████████████| 7308/7308 [00:15<00:00, 480.96it/s]\n"
     ]
    },
    {
     "name": "stdout",
     "output_type": "stream",
     "text": [
      "Loss: 465.7373105704319\n",
      "Average Loss: 0.0637297907184499\n",
      "############### Saving good model ###############################\n",
      "-----------------------------------------------------------------\n",
      "Epoch: 225; Bad epochs: 0\n"
     ]
    },
    {
     "name": "stderr",
     "output_type": "stream",
     "text": [
      "100%|█████████████████████████████████████████████████████████| 7308/7308 [00:15<00:00, 484.32it/s]\n"
     ]
    },
    {
     "name": "stdout",
     "output_type": "stream",
     "text": [
      "Loss: 465.7094738497399\n",
      "Average Loss: 0.0637259816433689\n",
      "############### Saving good model ###############################\n",
      "-----------------------------------------------------------------\n",
      "Epoch: 226; Bad epochs: 0\n"
     ]
    },
    {
     "name": "stderr",
     "output_type": "stream",
     "text": [
      "100%|█████████████████████████████████████████████████████████| 7308/7308 [00:15<00:00, 482.79it/s]\n"
     ]
    },
    {
     "name": "stdout",
     "output_type": "stream",
     "text": [
      "Loss: 465.6769766462967\n",
      "Average Loss: 0.06372153484486819\n",
      "############### Saving good model ###############################\n",
      "-----------------------------------------------------------------\n",
      "Epoch: 227; Bad epochs: 0\n"
     ]
    },
    {
     "name": "stderr",
     "output_type": "stream",
     "text": [
      "100%|█████████████████████████████████████████████████████████| 7308/7308 [00:15<00:00, 480.58it/s]\n"
     ]
    },
    {
     "name": "stdout",
     "output_type": "stream",
     "text": [
      "Loss: 465.651127174031\n",
      "Average Loss: 0.06371799769759592\n",
      "############### Saving good model ###############################\n",
      "-----------------------------------------------------------------\n",
      "Epoch: 228; Bad epochs: 0\n"
     ]
    },
    {
     "name": "stderr",
     "output_type": "stream",
     "text": [
      "100%|█████████████████████████████████████████████████████████| 7308/7308 [00:15<00:00, 481.73it/s]\n"
     ]
    },
    {
     "name": "stdout",
     "output_type": "stream",
     "text": [
      "Loss: 465.6298881242983\n",
      "Average Loss: 0.06371509142368614\n",
      "############### Saving good model ###############################\n",
      "-----------------------------------------------------------------\n",
      "Epoch: 229; Bad epochs: 0\n"
     ]
    },
    {
     "name": "stderr",
     "output_type": "stream",
     "text": [
      "100%|█████████████████████████████████████████████████████████| 7308/7308 [00:15<00:00, 482.44it/s]\n"
     ]
    },
    {
     "name": "stdout",
     "output_type": "stream",
     "text": [
      "Loss: 465.60546596325\n",
      "Average Loss: 0.06371174958446224\n",
      "############### Saving good model ###############################\n",
      "-----------------------------------------------------------------\n",
      "Epoch: 230; Bad epochs: 0\n"
     ]
    },
    {
     "name": "stderr",
     "output_type": "stream",
     "text": [
      "100%|█████████████████████████████████████████████████████████| 7308/7308 [00:15<00:00, 479.10it/s]\n"
     ]
    },
    {
     "name": "stdout",
     "output_type": "stream",
     "text": [
      "Loss: 465.60359831457026\n",
      "Average Loss: 0.06371149402224552\n",
      "############### Saving good model ###############################\n",
      "-----------------------------------------------------------------\n",
      "Epoch: 231; Bad epochs: 0\n"
     ]
    },
    {
     "name": "stderr",
     "output_type": "stream",
     "text": [
      "100%|█████████████████████████████████████████████████████████| 7308/7308 [00:15<00:00, 461.76it/s]\n"
     ]
    },
    {
     "name": "stdout",
     "output_type": "stream",
     "text": [
      "Loss: 465.5819864622317\n",
      "Average Loss: 0.06370853673539022\n",
      "############### Saving good model ###############################\n",
      "-----------------------------------------------------------------\n",
      "Epoch: 232; Bad epochs: 0\n"
     ]
    },
    {
     "name": "stderr",
     "output_type": "stream",
     "text": [
      "100%|█████████████████████████████████████████████████████████| 7308/7308 [00:15<00:00, 469.80it/s]\n"
     ]
    },
    {
     "name": "stdout",
     "output_type": "stream",
     "text": [
      "Loss: 465.55900895386003\n",
      "Average Loss: 0.06370539257715654\n",
      "############### Saving good model ###############################\n",
      "-----------------------------------------------------------------\n",
      "Epoch: 233; Bad epochs: 0\n"
     ]
    },
    {
     "name": "stderr",
     "output_type": "stream",
     "text": [
      "100%|█████████████████████████████████████████████████████████| 7308/7308 [00:15<00:00, 471.97it/s]\n"
     ]
    },
    {
     "name": "stdout",
     "output_type": "stream",
     "text": [
      "Loss: 465.5143267957028\n",
      "Average Loss: 0.06369927843400422\n",
      "############### Saving good model ###############################\n",
      "-----------------------------------------------------------------\n",
      "Epoch: 234; Bad epochs: 0\n"
     ]
    },
    {
     "name": "stderr",
     "output_type": "stream",
     "text": [
      "100%|█████████████████████████████████████████████████████████| 7308/7308 [00:15<00:00, 470.77it/s]\n"
     ]
    },
    {
     "name": "stdout",
     "output_type": "stream",
     "text": [
      "Loss: 465.5378958794754\n",
      "Average Loss: 0.06370250354125279\n",
      "-----------------------------------------------------------------\n",
      "Epoch: 235; Bad epochs: 1\n"
     ]
    },
    {
     "name": "stderr",
     "output_type": "stream",
     "text": [
      "100%|█████████████████████████████████████████████████████████| 7308/7308 [00:15<00:00, 480.63it/s]\n"
     ]
    },
    {
     "name": "stdout",
     "output_type": "stream",
     "text": [
      "Loss: 465.5041663523298\n",
      "Average Loss: 0.06369788811608235\n",
      "############### Saving good model ###############################\n",
      "-----------------------------------------------------------------\n",
      "Epoch: 236; Bad epochs: 0\n"
     ]
    },
    {
     "name": "stderr",
     "output_type": "stream",
     "text": [
      "100%|█████████████████████████████████████████████████████████| 7308/7308 [00:15<00:00, 481.87it/s]\n"
     ]
    },
    {
     "name": "stdout",
     "output_type": "stream",
     "text": [
      "Loss: 465.4588851733133\n",
      "Average Loss: 0.06369169200510581\n",
      "############### Saving good model ###############################\n",
      "-----------------------------------------------------------------\n",
      "Epoch: 237; Bad epochs: 0\n"
     ]
    },
    {
     "name": "stderr",
     "output_type": "stream",
     "text": [
      "100%|█████████████████████████████████████████████████████████| 7308/7308 [00:15<00:00, 476.75it/s]\n"
     ]
    },
    {
     "name": "stdout",
     "output_type": "stream",
     "text": [
      "Loss: 465.43424536357634\n",
      "Average Loss: 0.06368832038363113\n",
      "############### Saving good model ###############################\n",
      "-----------------------------------------------------------------\n",
      "Epoch: 238; Bad epochs: 0\n"
     ]
    },
    {
     "name": "stderr",
     "output_type": "stream",
     "text": [
      "100%|█████████████████████████████████████████████████████████| 7308/7308 [00:15<00:00, 483.35it/s]\n"
     ]
    },
    {
     "name": "stdout",
     "output_type": "stream",
     "text": [
      "Loss: 465.4095792816952\n",
      "Average Loss: 0.0636849451671723\n",
      "############### Saving good model ###############################\n",
      "-----------------------------------------------------------------\n",
      "Epoch: 239; Bad epochs: 0\n"
     ]
    },
    {
     "name": "stderr",
     "output_type": "stream",
     "text": [
      "100%|█████████████████████████████████████████████████████████| 7308/7308 [00:15<00:00, 480.08it/s]\n"
     ]
    },
    {
     "name": "stdout",
     "output_type": "stream",
     "text": [
      "Loss: 465.40081941732205\n",
      "Average Loss: 0.06368374649935989\n",
      "############### Saving good model ###############################\n",
      "-----------------------------------------------------------------\n",
      "Epoch: 240; Bad epochs: 0\n"
     ]
    },
    {
     "name": "stderr",
     "output_type": "stream",
     "text": [
      "100%|█████████████████████████████████████████████████████████| 7308/7308 [00:15<00:00, 483.19it/s]\n"
     ]
    },
    {
     "name": "stdout",
     "output_type": "stream",
     "text": [
      "Loss: 465.42974226293154\n",
      "Average Loss: 0.06368770419580344\n",
      "-----------------------------------------------------------------\n",
      "Epoch: 241; Bad epochs: 1\n"
     ]
    },
    {
     "name": "stderr",
     "output_type": "stream",
     "text": [
      "100%|█████████████████████████████████████████████████████████| 7308/7308 [00:15<00:00, 477.35it/s]\n"
     ]
    },
    {
     "name": "stdout",
     "output_type": "stream",
     "text": [
      "Loss: 465.38726232922636\n",
      "Average Loss: 0.0636818913969932\n",
      "############### Saving good model ###############################\n",
      "-----------------------------------------------------------------\n",
      "Epoch: 242; Bad epochs: 0\n"
     ]
    },
    {
     "name": "stderr",
     "output_type": "stream",
     "text": [
      "100%|█████████████████████████████████████████████████████████| 7308/7308 [00:15<00:00, 482.07it/s]\n"
     ]
    },
    {
     "name": "stdout",
     "output_type": "stream",
     "text": [
      "Loss: 465.3414922221564\n",
      "Average Loss: 0.06367562838288948\n",
      "############### Saving good model ###############################\n",
      "-----------------------------------------------------------------\n",
      "Epoch: 243; Bad epochs: 0\n"
     ]
    },
    {
     "name": "stderr",
     "output_type": "stream",
     "text": [
      "100%|█████████████████████████████████████████████████████████| 7308/7308 [00:15<00:00, 480.81it/s]\n"
     ]
    },
    {
     "name": "stdout",
     "output_type": "stream",
     "text": [
      "Loss: 465.3414934689645\n",
      "Average Loss: 0.06367562855349815\n",
      "-----------------------------------------------------------------\n",
      "Epoch: 244; Bad epochs: 1\n"
     ]
    },
    {
     "name": "stderr",
     "output_type": "stream",
     "text": [
      "100%|█████████████████████████████████████████████████████████| 7308/7308 [00:15<00:00, 480.61it/s]\n"
     ]
    },
    {
     "name": "stdout",
     "output_type": "stream",
     "text": [
      "Loss: 465.32644307566807\n",
      "Average Loss: 0.06367356911270773\n",
      "############### Saving good model ###############################\n",
      "-----------------------------------------------------------------\n",
      "Epoch: 245; Bad epochs: 0\n"
     ]
    },
    {
     "name": "stderr",
     "output_type": "stream",
     "text": [
      "100%|█████████████████████████████████████████████████████████| 7308/7308 [00:15<00:00, 479.28it/s]\n"
     ]
    },
    {
     "name": "stdout",
     "output_type": "stream",
     "text": [
      "Loss: 465.3112187848892\n",
      "Average Loss: 0.06367148587642162\n",
      "############### Saving good model ###############################\n",
      "-----------------------------------------------------------------\n",
      "Epoch: 246; Bad epochs: 0\n"
     ]
    },
    {
     "name": "stderr",
     "output_type": "stream",
     "text": [
      "100%|█████████████████████████████████████████████████████████| 7308/7308 [00:15<00:00, 482.93it/s]\n"
     ]
    },
    {
     "name": "stdout",
     "output_type": "stream",
     "text": [
      "Loss: 465.27760013658553\n",
      "Average Loss: 0.0636668856235065\n",
      "############### Saving good model ###############################\n",
      "-----------------------------------------------------------------\n",
      "Epoch: 247; Bad epochs: 0\n"
     ]
    },
    {
     "name": "stderr",
     "output_type": "stream",
     "text": [
      "100%|█████████████████████████████████████████████████████████| 7308/7308 [00:15<00:00, 479.86it/s]\n"
     ]
    },
    {
     "name": "stdout",
     "output_type": "stream",
     "text": [
      "Loss: 465.25227176002227\n",
      "Average Loss: 0.06366341978106489\n",
      "############### Saving good model ###############################\n",
      "-----------------------------------------------------------------\n",
      "Epoch: 248; Bad epochs: 0\n"
     ]
    },
    {
     "name": "stderr",
     "output_type": "stream",
     "text": [
      "100%|█████████████████████████████████████████████████████████| 7308/7308 [00:15<00:00, 481.44it/s]\n"
     ]
    },
    {
     "name": "stdout",
     "output_type": "stream",
     "text": [
      "Loss: 465.27358253346756\n",
      "Average Loss: 0.06366633586938528\n",
      "-----------------------------------------------------------------\n",
      "Epoch: 249; Bad epochs: 1\n"
     ]
    },
    {
     "name": "stderr",
     "output_type": "stream",
     "text": [
      "100%|█████████████████████████████████████████████████████████| 7308/7308 [00:15<00:00, 480.14it/s]\n"
     ]
    },
    {
     "name": "stdout",
     "output_type": "stream",
     "text": [
      "Loss: 465.23726519709453\n",
      "Average Loss: 0.06366136633786187\n",
      "############### Saving good model ###############################\n",
      "-----------------------------------------------------------------\n",
      "Epoch: 250; Bad epochs: 0\n"
     ]
    },
    {
     "name": "stderr",
     "output_type": "stream",
     "text": [
      "100%|█████████████████████████████████████████████████████████| 7308/7308 [00:27<00:00, 261.80it/s]\n"
     ]
    },
    {
     "name": "stdout",
     "output_type": "stream",
     "text": [
      "Loss: 465.20948943542317\n",
      "Average Loss: 0.06365756560419036\n",
      "############### Saving good model ###############################\n",
      "-----------------------------------------------------------------\n",
      "Epoch: 251; Bad epochs: 0\n"
     ]
    },
    {
     "name": "stderr",
     "output_type": "stream",
     "text": [
      "100%|█████████████████████████████████████████████████████████| 7308/7308 [00:31<00:00, 231.53it/s]\n"
     ]
    },
    {
     "name": "stdout",
     "output_type": "stream",
     "text": [
      "Loss: 465.1894655965734\n",
      "Average Loss: 0.06365482561529466\n",
      "############### Saving good model ###############################\n",
      "-----------------------------------------------------------------\n",
      "Epoch: 252; Bad epochs: 0\n"
     ]
    },
    {
     "name": "stderr",
     "output_type": "stream",
     "text": [
      "100%|█████████████████████████████████████████████████████████| 7308/7308 [00:19<00:00, 368.05it/s]\n"
     ]
    },
    {
     "name": "stdout",
     "output_type": "stream",
     "text": [
      "Loss: 465.17062727175653\n",
      "Average Loss: 0.06365224784780467\n",
      "############### Saving good model ###############################\n",
      "-----------------------------------------------------------------\n",
      "Epoch: 253; Bad epochs: 0\n"
     ]
    },
    {
     "name": "stderr",
     "output_type": "stream",
     "text": [
      "100%|█████████████████████████████████████████████████████████| 7308/7308 [00:15<00:00, 459.24it/s]\n"
     ]
    },
    {
     "name": "stdout",
     "output_type": "stream",
     "text": [
      "Loss: 465.16787073388696\n",
      "Average Loss: 0.06365187065324124\n",
      "############### Saving good model ###############################\n",
      "-----------------------------------------------------------------\n",
      "Epoch: 254; Bad epochs: 0\n"
     ]
    },
    {
     "name": "stderr",
     "output_type": "stream",
     "text": [
      "100%|█████████████████████████████████████████████████████████| 7308/7308 [00:16<00:00, 454.72it/s]\n"
     ]
    },
    {
     "name": "stdout",
     "output_type": "stream",
     "text": [
      "Loss: 465.15212075505406\n",
      "Average Loss: 0.06364971548372388\n",
      "############### Saving good model ###############################\n",
      "-----------------------------------------------------------------\n",
      "Epoch: 255; Bad epochs: 0\n"
     ]
    },
    {
     "name": "stderr",
     "output_type": "stream",
     "text": [
      "100%|█████████████████████████████████████████████████████████| 7308/7308 [00:16<00:00, 454.90it/s]\n"
     ]
    },
    {
     "name": "stdout",
     "output_type": "stream",
     "text": [
      "Loss: 465.14069490879774\n",
      "Average Loss: 0.0636481520126981\n",
      "############### Saving good model ###############################\n",
      "-----------------------------------------------------------------\n",
      "Epoch: 256; Bad epochs: 0\n"
     ]
    },
    {
     "name": "stderr",
     "output_type": "stream",
     "text": [
      "100%|█████████████████████████████████████████████████████████| 7308/7308 [00:16<00:00, 451.90it/s]\n"
     ]
    },
    {
     "name": "stdout",
     "output_type": "stream",
     "text": [
      "Loss: 465.1250550355762\n",
      "Average Loss: 0.06364601190963003\n",
      "############### Saving good model ###############################\n",
      "-----------------------------------------------------------------\n",
      "Epoch: 257; Bad epochs: 0\n"
     ]
    },
    {
     "name": "stderr",
     "output_type": "stream",
     "text": [
      "100%|█████████████████████████████████████████████████████████| 7308/7308 [00:16<00:00, 456.33it/s]\n"
     ]
    },
    {
     "name": "stdout",
     "output_type": "stream",
     "text": [
      "Loss: 465.1029635812156\n",
      "Average Loss: 0.06364298899578757\n",
      "############### Saving good model ###############################\n",
      "-----------------------------------------------------------------\n",
      "Epoch: 258; Bad epochs: 0\n"
     ]
    },
    {
     "name": "stderr",
     "output_type": "stream",
     "text": [
      "100%|█████████████████████████████████████████████████████████| 7308/7308 [00:15<00:00, 457.55it/s]\n"
     ]
    },
    {
     "name": "stdout",
     "output_type": "stream",
     "text": [
      "Loss: 465.0970178588759\n",
      "Average Loss: 0.06364217540488176\n",
      "############### Saving good model ###############################\n",
      "-----------------------------------------------------------------\n",
      "Epoch: 259; Bad epochs: 0\n"
     ]
    },
    {
     "name": "stderr",
     "output_type": "stream",
     "text": [
      "100%|█████████████████████████████████████████████████████████| 7308/7308 [00:15<00:00, 460.17it/s]\n"
     ]
    },
    {
     "name": "stdout",
     "output_type": "stream",
     "text": [
      "Loss: 465.0872074600775\n",
      "Average Loss: 0.06364083298577962\n",
      "############### Saving good model ###############################\n",
      "-----------------------------------------------------------------\n",
      "Epoch: 260; Bad epochs: 0\n"
     ]
    },
    {
     "name": "stderr",
     "output_type": "stream",
     "text": [
      "100%|█████████████████████████████████████████████████████████| 7308/7308 [00:16<00:00, 455.93it/s]\n"
     ]
    },
    {
     "name": "stdout",
     "output_type": "stream",
     "text": [
      "Loss: 465.0750400638208\n",
      "Average Loss: 0.0636391680437631\n",
      "############### Saving good model ###############################\n",
      "-----------------------------------------------------------------\n",
      "Epoch: 261; Bad epochs: 0\n"
     ]
    },
    {
     "name": "stderr",
     "output_type": "stream",
     "text": [
      "100%|█████████████████████████████████████████████████████████| 7308/7308 [00:15<00:00, 457.33it/s]\n"
     ]
    },
    {
     "name": "stdout",
     "output_type": "stream",
     "text": [
      "Loss: 465.066643046448\n",
      "Average Loss: 0.06363801902660755\n",
      "############### Saving good model ###############################\n",
      "-----------------------------------------------------------------\n",
      "Epoch: 262; Bad epochs: 0\n"
     ]
    },
    {
     "name": "stderr",
     "output_type": "stream",
     "text": [
      "100%|█████████████████████████████████████████████████████████| 7308/7308 [00:15<00:00, 458.20it/s]\n"
     ]
    },
    {
     "name": "stdout",
     "output_type": "stream",
     "text": [
      "Loss: 465.04285000334494\n",
      "Average Loss: 0.06363476327358306\n",
      "############### Saving good model ###############################\n",
      "-----------------------------------------------------------------\n",
      "Epoch: 263; Bad epochs: 0\n"
     ]
    },
    {
     "name": "stderr",
     "output_type": "stream",
     "text": [
      "100%|█████████████████████████████████████████████████████████| 7308/7308 [00:15<00:00, 459.67it/s]\n"
     ]
    },
    {
     "name": "stdout",
     "output_type": "stream",
     "text": [
      "Loss: 465.0431564729661\n",
      "Average Loss: 0.06363480520976547\n",
      "-----------------------------------------------------------------\n",
      "Epoch: 264; Bad epochs: 1\n"
     ]
    },
    {
     "name": "stderr",
     "output_type": "stream",
     "text": [
      "100%|█████████████████████████████████████████████████████████| 7308/7308 [00:15<00:00, 458.18it/s]\n"
     ]
    },
    {
     "name": "stdout",
     "output_type": "stream",
     "text": [
      "Loss: 465.01994245359674\n",
      "Average Loss: 0.06363162868823163\n",
      "############### Saving good model ###############################\n",
      "-----------------------------------------------------------------\n",
      "Epoch: 265; Bad epochs: 0\n"
     ]
    },
    {
     "name": "stderr",
     "output_type": "stream",
     "text": [
      "100%|█████████████████████████████████████████████████████████| 7308/7308 [00:15<00:00, 460.96it/s]\n"
     ]
    },
    {
     "name": "stdout",
     "output_type": "stream",
     "text": [
      "Loss: 465.0012434357777\n",
      "Average Loss: 0.06362906998300188\n",
      "############### Saving good model ###############################\n",
      "-----------------------------------------------------------------\n",
      "Epoch: 266; Bad epochs: 0\n"
     ]
    },
    {
     "name": "stderr",
     "output_type": "stream",
     "text": [
      "100%|█████████████████████████████████████████████████████████| 7308/7308 [00:15<00:00, 460.10it/s]\n"
     ]
    },
    {
     "name": "stdout",
     "output_type": "stream",
     "text": [
      "Loss: 465.00163851329125\n",
      "Average Loss: 0.06362912404396433\n",
      "-----------------------------------------------------------------\n",
      "Epoch: 267; Bad epochs: 1\n"
     ]
    },
    {
     "name": "stderr",
     "output_type": "stream",
     "text": [
      "100%|█████████████████████████████████████████████████████████| 7308/7308 [00:15<00:00, 458.49it/s]\n"
     ]
    },
    {
     "name": "stdout",
     "output_type": "stream",
     "text": [
      "Loss: 464.9660085993819\n",
      "Average Loss: 0.06362424857681745\n",
      "############### Saving good model ###############################\n",
      "-----------------------------------------------------------------\n",
      "Epoch: 268; Bad epochs: 0\n"
     ]
    },
    {
     "name": "stderr",
     "output_type": "stream",
     "text": [
      "100%|█████████████████████████████████████████████████████████| 7308/7308 [00:16<00:00, 455.63it/s]\n"
     ]
    },
    {
     "name": "stdout",
     "output_type": "stream",
     "text": [
      "Loss: 464.95138347148895\n",
      "Average Loss: 0.06362224732778995\n",
      "############### Saving good model ###############################\n",
      "-----------------------------------------------------------------\n",
      "Epoch: 269; Bad epochs: 0\n"
     ]
    },
    {
     "name": "stderr",
     "output_type": "stream",
     "text": [
      "100%|█████████████████████████████████████████████████████████| 7308/7308 [00:15<00:00, 458.02it/s]\n"
     ]
    },
    {
     "name": "stdout",
     "output_type": "stream",
     "text": [
      "Loss: 464.9328983495943\n",
      "Average Loss: 0.06361971789129643\n",
      "############### Saving good model ###############################\n",
      "-----------------------------------------------------------------\n",
      "Epoch: 270; Bad epochs: 0\n"
     ]
    },
    {
     "name": "stderr",
     "output_type": "stream",
     "text": [
      "100%|█████████████████████████████████████████████████████████| 7308/7308 [00:16<00:00, 455.54it/s]\n"
     ]
    },
    {
     "name": "stdout",
     "output_type": "stream",
     "text": [
      "Loss: 464.9596199495718\n",
      "Average Loss: 0.06362337437733605\n",
      "-----------------------------------------------------------------\n",
      "Epoch: 271; Bad epochs: 1\n"
     ]
    },
    {
     "name": "stderr",
     "output_type": "stream",
     "text": [
      "100%|█████████████████████████████████████████████████████████| 7308/7308 [00:15<00:00, 460.94it/s]\n"
     ]
    },
    {
     "name": "stdout",
     "output_type": "stream",
     "text": [
      "Loss: 464.91981951519847\n",
      "Average Loss: 0.06361792823141742\n",
      "############### Saving good model ###############################\n",
      "-----------------------------------------------------------------\n",
      "Epoch: 272; Bad epochs: 0\n"
     ]
    },
    {
     "name": "stderr",
     "output_type": "stream",
     "text": [
      "100%|█████████████████████████████████████████████████████████| 7308/7308 [00:15<00:00, 459.48it/s]\n"
     ]
    },
    {
     "name": "stdout",
     "output_type": "stream",
     "text": [
      "Loss: 464.90582921612076\n",
      "Average Loss: 0.0636160138500439\n",
      "############### Saving good model ###############################\n",
      "-----------------------------------------------------------------\n",
      "Epoch: 273; Bad epochs: 0\n"
     ]
    },
    {
     "name": "stderr",
     "output_type": "stream",
     "text": [
      "100%|█████████████████████████████████████████████████████████| 7308/7308 [00:15<00:00, 460.21it/s]\n"
     ]
    },
    {
     "name": "stdout",
     "output_type": "stream",
     "text": [
      "Loss: 464.9029361153953\n",
      "Average Loss: 0.06361561796871856\n",
      "############### Saving good model ###############################\n",
      "-----------------------------------------------------------------\n",
      "Epoch: 274; Bad epochs: 0\n"
     ]
    },
    {
     "name": "stderr",
     "output_type": "stream",
     "text": [
      "100%|█████████████████████████████████████████████████████████| 7308/7308 [00:15<00:00, 461.89it/s]\n"
     ]
    },
    {
     "name": "stdout",
     "output_type": "stream",
     "text": [
      "Loss: 464.8836184546817\n",
      "Average Loss: 0.06361297461065704\n",
      "############### Saving good model ###############################\n",
      "-----------------------------------------------------------------\n",
      "Epoch: 275; Bad epochs: 0\n"
     ]
    },
    {
     "name": "stderr",
     "output_type": "stream",
     "text": [
      "100%|█████████████████████████████████████████████████████████| 7308/7308 [00:15<00:00, 459.07it/s]\n"
     ]
    },
    {
     "name": "stdout",
     "output_type": "stream",
     "text": [
      "Loss: 464.87378507084213\n",
      "Average Loss: 0.06361162904636591\n",
      "############### Saving good model ###############################\n",
      "-----------------------------------------------------------------\n",
      "Epoch: 276; Bad epochs: 0\n"
     ]
    },
    {
     "name": "stderr",
     "output_type": "stream",
     "text": [
      "100%|█████████████████████████████████████████████████████████| 7308/7308 [00:15<00:00, 459.15it/s]\n"
     ]
    },
    {
     "name": "stdout",
     "output_type": "stream",
     "text": [
      "Loss: 464.86797597236\n",
      "Average Loss: 0.06361083415056924\n",
      "############### Saving good model ###############################\n",
      "-----------------------------------------------------------------\n",
      "Epoch: 277; Bad epochs: 0\n"
     ]
    },
    {
     "name": "stderr",
     "output_type": "stream",
     "text": [
      "100%|█████████████████████████████████████████████████████████| 7308/7308 [00:16<00:00, 453.33it/s]\n"
     ]
    },
    {
     "name": "stdout",
     "output_type": "stream",
     "text": [
      "Loss: 464.841167263221\n",
      "Average Loss: 0.06360716574483045\n",
      "############### Saving good model ###############################\n",
      "-----------------------------------------------------------------\n",
      "Epoch: 278; Bad epochs: 0\n"
     ]
    },
    {
     "name": "stderr",
     "output_type": "stream",
     "text": [
      "100%|█████████████████████████████████████████████████████████| 7308/7308 [00:15<00:00, 461.82it/s]\n"
     ]
    },
    {
     "name": "stdout",
     "output_type": "stream",
     "text": [
      "Loss: 464.8420901601203\n",
      "Average Loss: 0.0636072920306678\n",
      "-----------------------------------------------------------------\n",
      "Epoch: 279; Bad epochs: 1\n"
     ]
    },
    {
     "name": "stderr",
     "output_type": "stream",
     "text": [
      "100%|█████████████████████████████████████████████████████████| 7308/7308 [00:15<00:00, 460.43it/s]\n"
     ]
    },
    {
     "name": "stdout",
     "output_type": "stream",
     "text": [
      "Loss: 464.81404694519006\n",
      "Average Loss: 0.06360345469967023\n",
      "############### Saving good model ###############################\n",
      "-----------------------------------------------------------------\n",
      "Epoch: 280; Bad epochs: 0\n"
     ]
    },
    {
     "name": "stderr",
     "output_type": "stream",
     "text": [
      "100%|█████████████████████████████████████████████████████████| 7308/7308 [00:15<00:00, 456.93it/s]\n"
     ]
    },
    {
     "name": "stdout",
     "output_type": "stream",
     "text": [
      "Loss: 464.8051219317131\n",
      "Average Loss: 0.06360223343345828\n",
      "############### Saving good model ###############################\n",
      "-----------------------------------------------------------------\n",
      "Epoch: 281; Bad epochs: 0\n"
     ]
    },
    {
     "name": "stderr",
     "output_type": "stream",
     "text": [
      "100%|█████████████████████████████████████████████████████████| 7308/7308 [00:15<00:00, 458.47it/s]\n"
     ]
    },
    {
     "name": "stdout",
     "output_type": "stream",
     "text": [
      "Loss: 464.79953631642275\n",
      "Average Loss: 0.06360146911828445\n",
      "############### Saving good model ###############################\n",
      "-----------------------------------------------------------------\n",
      "Epoch: 282; Bad epochs: 0\n"
     ]
    },
    {
     "name": "stderr",
     "output_type": "stream",
     "text": [
      "100%|█████████████████████████████████████████████████████████| 7308/7308 [00:16<00:00, 436.08it/s]\n"
     ]
    },
    {
     "name": "stdout",
     "output_type": "stream",
     "text": [
      "Loss: 464.77874993509613\n",
      "Average Loss: 0.06359862478586428\n",
      "############### Saving good model ###############################\n",
      "-----------------------------------------------------------------\n",
      "Epoch: 283; Bad epochs: 0\n"
     ]
    },
    {
     "name": "stderr",
     "output_type": "stream",
     "text": [
      "100%|█████████████████████████████████████████████████████████| 7308/7308 [00:15<00:00, 457.47it/s]\n"
     ]
    },
    {
     "name": "stdout",
     "output_type": "stream",
     "text": [
      "Loss: 464.7539322988596\n",
      "Average Loss: 0.06359522883126158\n",
      "############### Saving good model ###############################\n",
      "-----------------------------------------------------------------\n",
      "Epoch: 284; Bad epochs: 0\n"
     ]
    },
    {
     "name": "stderr",
     "output_type": "stream",
     "text": [
      "100%|█████████████████████████████████████████████████████████| 7308/7308 [00:16<00:00, 451.02it/s]\n"
     ]
    },
    {
     "name": "stdout",
     "output_type": "stream",
     "text": [
      "Loss: 464.77300335885957\n",
      "Average Loss: 0.06359783844538308\n",
      "-----------------------------------------------------------------\n",
      "Epoch: 285; Bad epochs: 1\n"
     ]
    },
    {
     "name": "stderr",
     "output_type": "stream",
     "text": [
      "100%|█████████████████████████████████████████████████████████| 7308/7308 [00:16<00:00, 438.54it/s]\n"
     ]
    },
    {
     "name": "stdout",
     "output_type": "stream",
     "text": [
      "Loss: 464.757517013466\n",
      "Average Loss: 0.06359571935050164\n",
      "-----------------------------------------------------------------\n",
      "Epoch: 286; Bad epochs: 2\n"
     ]
    },
    {
     "name": "stderr",
     "output_type": "stream",
     "text": [
      "100%|█████████████████████████████████████████████████████████| 7308/7308 [00:16<00:00, 442.97it/s]\n"
     ]
    },
    {
     "name": "stdout",
     "output_type": "stream",
     "text": [
      "Loss: 464.73035768815316\n",
      "Average Loss: 0.06359200296772759\n",
      "############### Saving good model ###############################\n",
      "-----------------------------------------------------------------\n",
      "Epoch: 287; Bad epochs: 0\n"
     ]
    },
    {
     "name": "stderr",
     "output_type": "stream",
     "text": [
      "100%|█████████████████████████████████████████████████████████| 7308/7308 [00:17<00:00, 418.74it/s]\n"
     ]
    },
    {
     "name": "stdout",
     "output_type": "stream",
     "text": [
      "Loss: 464.71064865845256\n",
      "Average Loss: 0.06358930605616482\n",
      "############### Saving good model ###############################\n",
      "-----------------------------------------------------------------\n",
      "Epoch: 288; Bad epochs: 0\n"
     ]
    },
    {
     "name": "stderr",
     "output_type": "stream",
     "text": [
      "100%|█████████████████████████████████████████████████████████| 7308/7308 [00:15<00:00, 461.37it/s]\n"
     ]
    },
    {
     "name": "stdout",
     "output_type": "stream",
     "text": [
      "Loss: 464.7122962663416\n",
      "Average Loss: 0.06358953150880427\n",
      "-----------------------------------------------------------------\n",
      "Epoch: 289; Bad epochs: 1\n"
     ]
    },
    {
     "name": "stderr",
     "output_type": "stream",
     "text": [
      "100%|█████████████████████████████████████████████████████████| 7308/7308 [00:15<00:00, 473.06it/s]\n"
     ]
    },
    {
     "name": "stdout",
     "output_type": "stream",
     "text": [
      "Loss: 464.68546716030687\n",
      "Average Loss: 0.06358586031202886\n",
      "############### Saving good model ###############################\n",
      "-----------------------------------------------------------------\n",
      "Epoch: 290; Bad epochs: 0\n"
     ]
    },
    {
     "name": "stderr",
     "output_type": "stream",
     "text": [
      "100%|█████████████████████████████████████████████████████████| 7308/7308 [00:15<00:00, 463.45it/s]\n"
     ]
    },
    {
     "name": "stdout",
     "output_type": "stream",
     "text": [
      "Loss: 464.6671353196725\n",
      "Average Loss: 0.06358335184998255\n",
      "############### Saving good model ###############################\n",
      "-----------------------------------------------------------------\n",
      "Epoch: 291; Bad epochs: 0\n"
     ]
    },
    {
     "name": "stderr",
     "output_type": "stream",
     "text": [
      "100%|█████████████████████████████████████████████████████████| 7308/7308 [00:15<00:00, 473.26it/s]\n"
     ]
    },
    {
     "name": "stdout",
     "output_type": "stream",
     "text": [
      "Loss: 464.6609531645663\n",
      "Average Loss: 0.06358250590648143\n",
      "############### Saving good model ###############################\n",
      "-----------------------------------------------------------------\n",
      "Epoch: 292; Bad epochs: 0\n"
     ]
    },
    {
     "name": "stderr",
     "output_type": "stream",
     "text": [
      "100%|█████████████████████████████████████████████████████████| 7308/7308 [00:15<00:00, 475.52it/s]\n"
     ]
    },
    {
     "name": "stdout",
     "output_type": "stream",
     "text": [
      "Loss: 464.6421997474972\n",
      "Average Loss: 0.0635799397574572\n",
      "############### Saving good model ###############################\n",
      "-----------------------------------------------------------------\n",
      "Epoch: 293; Bad epochs: 0\n"
     ]
    },
    {
     "name": "stderr",
     "output_type": "stream",
     "text": [
      "100%|█████████████████████████████████████████████████████████| 7308/7308 [00:15<00:00, 475.30it/s]\n"
     ]
    },
    {
     "name": "stdout",
     "output_type": "stream",
     "text": [
      "Loss: 464.6265191130806\n",
      "Average Loss: 0.06357779407677622\n",
      "############### Saving good model ###############################\n",
      "-----------------------------------------------------------------\n",
      "Epoch: 294; Bad epochs: 0\n"
     ]
    },
    {
     "name": "stderr",
     "output_type": "stream",
     "text": [
      "100%|█████████████████████████████████████████████████████████| 7308/7308 [00:15<00:00, 473.82it/s]\n"
     ]
    },
    {
     "name": "stdout",
     "output_type": "stream",
     "text": [
      "Loss: 464.67208181717433\n",
      "Average Loss: 0.06358402871061498\n",
      "-----------------------------------------------------------------\n",
      "Epoch: 295; Bad epochs: 1\n"
     ]
    },
    {
     "name": "stderr",
     "output_type": "stream",
     "text": [
      "100%|█████████████████████████████████████████████████████████| 7308/7308 [00:15<00:00, 468.10it/s]\n"
     ]
    },
    {
     "name": "stdout",
     "output_type": "stream",
     "text": [
      "Loss: 464.6068243305199\n",
      "Average Loss: 0.06357509911473999\n",
      "############### Saving good model ###############################\n",
      "-----------------------------------------------------------------\n",
      "Epoch: 296; Bad epochs: 0\n"
     ]
    },
    {
     "name": "stderr",
     "output_type": "stream",
     "text": [
      "100%|█████████████████████████████████████████████████████████| 7308/7308 [00:15<00:00, 470.04it/s]\n"
     ]
    },
    {
     "name": "stdout",
     "output_type": "stream",
     "text": [
      "Loss: 464.6107149363961\n",
      "Average Loss: 0.06357563149102301\n",
      "-----------------------------------------------------------------\n",
      "Epoch: 297; Bad epochs: 1\n"
     ]
    },
    {
     "name": "stderr",
     "output_type": "stream",
     "text": [
      "100%|█████████████████████████████████████████████████████████| 7308/7308 [00:15<00:00, 475.93it/s]\n"
     ]
    },
    {
     "name": "stdout",
     "output_type": "stream",
     "text": [
      "Loss: 464.57673749746755\n",
      "Average Loss: 0.06357098214251061\n",
      "############### Saving good model ###############################\n",
      "-----------------------------------------------------------------\n",
      "Epoch: 298; Bad epochs: 0\n"
     ]
    },
    {
     "name": "stderr",
     "output_type": "stream",
     "text": [
      "100%|█████████████████████████████████████████████████████████| 7308/7308 [00:15<00:00, 458.18it/s]\n"
     ]
    },
    {
     "name": "stdout",
     "output_type": "stream",
     "text": [
      "Loss: 464.6151651130058\n",
      "Average Loss: 0.06357624043691924\n",
      "-----------------------------------------------------------------\n",
      "Epoch: 299; Bad epochs: 1\n"
     ]
    },
    {
     "name": "stderr",
     "output_type": "stream",
     "text": [
      "100%|█████████████████████████████████████████████████████████| 7308/7308 [00:15<00:00, 466.43it/s]\n"
     ]
    },
    {
     "name": "stdout",
     "output_type": "stream",
     "text": [
      "Loss: 464.5498222594615\n",
      "Average Loss: 0.06356729915975116\n",
      "############### Saving good model ###############################\n",
      "-----------------------------------------------------------------\n",
      "Epoch: 300; Bad epochs: 0\n"
     ]
    },
    {
     "name": "stderr",
     "output_type": "stream",
     "text": [
      "100%|█████████████████████████████████████████████████████████| 7308/7308 [00:15<00:00, 477.17it/s]\n"
     ]
    },
    {
     "name": "stdout",
     "output_type": "stream",
     "text": [
      "Loss: 464.56645063706674\n",
      "Average Loss: 0.06356957452614487\n",
      "-----------------------------------------------------------------\n",
      "Epoch: 301; Bad epochs: 1\n"
     ]
    },
    {
     "name": "stderr",
     "output_type": "stream",
     "text": [
      "100%|█████████████████████████████████████████████████████████| 7308/7308 [00:15<00:00, 476.04it/s]\n"
     ]
    },
    {
     "name": "stdout",
     "output_type": "stream",
     "text": [
      "Loss: 464.52636738936417\n",
      "Average Loss: 0.06356408968108432\n",
      "############### Saving good model ###############################\n",
      "-----------------------------------------------------------------\n",
      "Epoch: 302; Bad epochs: 0\n"
     ]
    },
    {
     "name": "stderr",
     "output_type": "stream",
     "text": [
      "100%|█████████████████████████████████████████████████████████| 7308/7308 [00:15<00:00, 465.02it/s]\n"
     ]
    },
    {
     "name": "stdout",
     "output_type": "stream",
     "text": [
      "Loss: 464.5307512998115\n",
      "Average Loss: 0.06356468955936119\n",
      "-----------------------------------------------------------------\n",
      "Epoch: 303; Bad epochs: 1\n"
     ]
    },
    {
     "name": "stderr",
     "output_type": "stream",
     "text": [
      "100%|█████████████████████████████████████████████████████████| 7308/7308 [00:15<00:00, 477.83it/s]\n"
     ]
    },
    {
     "name": "stdout",
     "output_type": "stream",
     "text": [
      "Loss: 464.52830737945624\n",
      "Average Loss: 0.0635643551422354\n",
      "-----------------------------------------------------------------\n",
      "Epoch: 304; Bad epochs: 2\n"
     ]
    },
    {
     "name": "stderr",
     "output_type": "stream",
     "text": [
      "100%|█████████████████████████████████████████████████████████| 7308/7308 [00:15<00:00, 476.70it/s]\n"
     ]
    },
    {
     "name": "stdout",
     "output_type": "stream",
     "text": [
      "Loss: 464.4872053540312\n",
      "Average Loss: 0.0635587308913562\n",
      "############### Saving good model ###############################\n",
      "-----------------------------------------------------------------\n",
      "Epoch: 305; Bad epochs: 0\n"
     ]
    },
    {
     "name": "stderr",
     "output_type": "stream",
     "text": [
      "100%|█████████████████████████████████████████████████████████| 7308/7308 [00:15<00:00, 475.42it/s]\n"
     ]
    },
    {
     "name": "stdout",
     "output_type": "stream",
     "text": [
      "Loss: 464.5007742892485\n",
      "Average Loss: 0.0635605876148397\n",
      "-----------------------------------------------------------------\n",
      "Epoch: 306; Bad epochs: 1\n"
     ]
    },
    {
     "name": "stderr",
     "output_type": "stream",
     "text": [
      "100%|█████████████████████████████████████████████████████████| 7308/7308 [00:15<00:00, 471.25it/s]\n"
     ]
    },
    {
     "name": "stdout",
     "output_type": "stream",
     "text": [
      "Loss: 464.47435259097256\n",
      "Average Loss: 0.0635569721662524\n",
      "############### Saving good model ###############################\n",
      "-----------------------------------------------------------------\n",
      "Epoch: 307; Bad epochs: 0\n"
     ]
    },
    {
     "name": "stderr",
     "output_type": "stream",
     "text": [
      "100%|█████████████████████████████████████████████████████████| 7308/7308 [00:15<00:00, 461.77it/s]\n"
     ]
    },
    {
     "name": "stdout",
     "output_type": "stream",
     "text": [
      "Loss: 464.4512231738772\n",
      "Average Loss: 0.0635538072213844\n",
      "############### Saving good model ###############################\n",
      "-----------------------------------------------------------------\n",
      "Epoch: 308; Bad epochs: 0\n"
     ]
    },
    {
     "name": "stderr",
     "output_type": "stream",
     "text": [
      "100%|█████████████████████████████████████████████████████████| 7308/7308 [00:15<00:00, 474.91it/s]\n"
     ]
    },
    {
     "name": "stdout",
     "output_type": "stream",
     "text": [
      "Loss: 464.44257888314314\n",
      "Average Loss: 0.06355262436824619\n",
      "############### Saving good model ###############################\n",
      "-----------------------------------------------------------------\n",
      "Epoch: 309; Bad epochs: 0\n"
     ]
    },
    {
     "name": "stderr",
     "output_type": "stream",
     "text": [
      "100%|█████████████████████████████████████████████████████████| 7308/7308 [00:15<00:00, 470.97it/s]\n"
     ]
    },
    {
     "name": "stdout",
     "output_type": "stream",
     "text": [
      "Loss: 464.42611919902265\n",
      "Average Loss: 0.06355037208525215\n",
      "############### Saving good model ###############################\n",
      "-----------------------------------------------------------------\n",
      "Epoch: 310; Bad epochs: 0\n"
     ]
    },
    {
     "name": "stderr",
     "output_type": "stream",
     "text": [
      "100%|█████████████████████████████████████████████████████████| 7308/7308 [00:15<00:00, 468.82it/s]\n"
     ]
    },
    {
     "name": "stdout",
     "output_type": "stream",
     "text": [
      "Loss: 464.4102318864316\n",
      "Average Loss: 0.06354819812348543\n",
      "############### Saving good model ###############################\n",
      "-----------------------------------------------------------------\n",
      "Epoch: 311; Bad epochs: 0\n"
     ]
    },
    {
     "name": "stderr",
     "output_type": "stream",
     "text": [
      "100%|█████████████████████████████████████████████████████████| 7308/7308 [00:15<00:00, 462.03it/s]\n"
     ]
    },
    {
     "name": "stdout",
     "output_type": "stream",
     "text": [
      "Loss: 464.44231408974156\n",
      "Average Loss: 0.06355258813488528\n",
      "-----------------------------------------------------------------\n",
      "Epoch: 312; Bad epochs: 1\n"
     ]
    },
    {
     "name": "stderr",
     "output_type": "stream",
     "text": [
      "100%|█████████████████████████████████████████████████████████| 7308/7308 [00:15<00:00, 467.61it/s]\n"
     ]
    },
    {
     "name": "stdout",
     "output_type": "stream",
     "text": [
      "Loss: 464.38839576533064\n",
      "Average Loss: 0.06354521014851268\n",
      "############### Saving good model ###############################\n",
      "-----------------------------------------------------------------\n",
      "Epoch: 313; Bad epochs: 0\n"
     ]
    },
    {
     "name": "stderr",
     "output_type": "stream",
     "text": [
      "100%|█████████████████████████████████████████████████████████| 7308/7308 [00:15<00:00, 461.04it/s]\n"
     ]
    },
    {
     "name": "stdout",
     "output_type": "stream",
     "text": [
      "Loss: 464.42673942423426\n",
      "Average Loss: 0.06355045695460239\n",
      "-----------------------------------------------------------------\n",
      "Epoch: 314; Bad epochs: 1\n"
     ]
    },
    {
     "name": "stderr",
     "output_type": "stream",
     "text": [
      "100%|█████████████████████████████████████████████████████████| 7308/7308 [00:15<00:00, 473.54it/s]\n"
     ]
    },
    {
     "name": "stdout",
     "output_type": "stream",
     "text": [
      "Loss: 464.3690006856341\n",
      "Average Loss: 0.0635425561967206\n",
      "############### Saving good model ###############################\n",
      "-----------------------------------------------------------------\n",
      "Epoch: 315; Bad epochs: 0\n"
     ]
    },
    {
     "name": "stderr",
     "output_type": "stream",
     "text": [
      "100%|█████████████████████████████████████████████████████████| 7308/7308 [00:15<00:00, 473.15it/s]\n"
     ]
    },
    {
     "name": "stdout",
     "output_type": "stream",
     "text": [
      "Loss: 464.35493236547336\n",
      "Average Loss: 0.06354063113922734\n",
      "############### Saving good model ###############################\n",
      "-----------------------------------------------------------------\n",
      "Epoch: 316; Bad epochs: 0\n"
     ]
    },
    {
     "name": "stderr",
     "output_type": "stream",
     "text": [
      "100%|█████████████████████████████████████████████████████████| 7308/7308 [00:15<00:00, 476.34it/s]\n"
     ]
    },
    {
     "name": "stdout",
     "output_type": "stream",
     "text": [
      "Loss: 464.34183986019343\n",
      "Average Loss: 0.06353883960867453\n",
      "############### Saving good model ###############################\n",
      "-----------------------------------------------------------------\n",
      "Epoch: 317; Bad epochs: 0\n"
     ]
    },
    {
     "name": "stderr",
     "output_type": "stream",
     "text": [
      "100%|█████████████████████████████████████████████████████████| 7308/7308 [00:15<00:00, 474.45it/s]\n"
     ]
    },
    {
     "name": "stdout",
     "output_type": "stream",
     "text": [
      "Loss: 464.35838173376396\n",
      "Average Loss: 0.0635411031381724\n",
      "-----------------------------------------------------------------\n",
      "Epoch: 318; Bad epochs: 1\n"
     ]
    },
    {
     "name": "stderr",
     "output_type": "stream",
     "text": [
      "100%|█████████████████████████████████████████████████████████| 7308/7308 [00:15<00:00, 475.02it/s]\n"
     ]
    },
    {
     "name": "stdout",
     "output_type": "stream",
     "text": [
      "Loss: 464.3319684059825\n",
      "Average Loss: 0.06353748883497297\n",
      "############### Saving good model ###############################\n",
      "-----------------------------------------------------------------\n",
      "Epoch: 319; Bad epochs: 0\n"
     ]
    },
    {
     "name": "stderr",
     "output_type": "stream",
     "text": [
      "100%|█████████████████████████████████████████████████████████| 7308/7308 [00:15<00:00, 459.72it/s]\n"
     ]
    },
    {
     "name": "stdout",
     "output_type": "stream",
     "text": [
      "Loss: 464.3078375023324\n",
      "Average Loss: 0.06353418685034652\n",
      "############### Saving good model ###############################\n",
      "-----------------------------------------------------------------\n",
      "Epoch: 320; Bad epochs: 0\n"
     ]
    },
    {
     "name": "stderr",
     "output_type": "stream",
     "text": [
      "100%|█████████████████████████████████████████████████████████| 7308/7308 [00:15<00:00, 467.85it/s]\n"
     ]
    },
    {
     "name": "stdout",
     "output_type": "stream",
     "text": [
      "Loss: 464.32516624592245\n",
      "Average Loss: 0.06353655805226087\n",
      "-----------------------------------------------------------------\n",
      "Epoch: 321; Bad epochs: 1\n"
     ]
    },
    {
     "name": "stderr",
     "output_type": "stream",
     "text": [
      "100%|█████████████████████████████████████████████████████████| 7308/7308 [00:15<00:00, 471.20it/s]\n"
     ]
    },
    {
     "name": "stdout",
     "output_type": "stream",
     "text": [
      "Loss: 464.3011607131921\n",
      "Average Loss: 0.06353327322293269\n",
      "############### Saving good model ###############################\n",
      "-----------------------------------------------------------------\n",
      "Epoch: 322; Bad epochs: 0\n"
     ]
    },
    {
     "name": "stderr",
     "output_type": "stream",
     "text": [
      "100%|█████████████████████████████████████████████████████████| 7308/7308 [00:15<00:00, 474.57it/s]\n"
     ]
    },
    {
     "name": "stdout",
     "output_type": "stream",
     "text": [
      "Loss: 464.28010398731567\n",
      "Average Loss: 0.06353039189755277\n",
      "############### Saving good model ###############################\n",
      "-----------------------------------------------------------------\n",
      "Epoch: 323; Bad epochs: 0\n"
     ]
    },
    {
     "name": "stderr",
     "output_type": "stream",
     "text": [
      "100%|█████████████████████████████████████████████████████████| 7308/7308 [00:15<00:00, 460.69it/s]\n"
     ]
    },
    {
     "name": "stdout",
     "output_type": "stream",
     "text": [
      "Loss: 464.25983093492687\n",
      "Average Loss: 0.06352761780718759\n",
      "############### Saving good model ###############################\n",
      "-----------------------------------------------------------------\n",
      "Epoch: 324; Bad epochs: 0\n"
     ]
    },
    {
     "name": "stderr",
     "output_type": "stream",
     "text": [
      "100%|█████████████████████████████████████████████████████████| 7308/7308 [00:15<00:00, 472.43it/s]\n"
     ]
    },
    {
     "name": "stdout",
     "output_type": "stream",
     "text": [
      "Loss: 464.26555234077387\n",
      "Average Loss: 0.0635284007034447\n",
      "-----------------------------------------------------------------\n",
      "Epoch: 325; Bad epochs: 1\n"
     ]
    },
    {
     "name": "stderr",
     "output_type": "stream",
     "text": [
      "100%|█████████████████████████████████████████████████████████| 7308/7308 [00:15<00:00, 469.50it/s]\n"
     ]
    },
    {
     "name": "stdout",
     "output_type": "stream",
     "text": [
      "Loss: 464.23934281547554\n",
      "Average Loss: 0.0635248142878319\n",
      "############### Saving good model ###############################\n",
      "-----------------------------------------------------------------\n",
      "Epoch: 326; Bad epochs: 0\n"
     ]
    },
    {
     "name": "stderr",
     "output_type": "stream",
     "text": [
      "100%|█████████████████████████████████████████████████████████| 7308/7308 [00:15<00:00, 473.12it/s]\n"
     ]
    },
    {
     "name": "stdout",
     "output_type": "stream",
     "text": [
      "Loss: 464.23923960723914\n",
      "Average Loss: 0.06352480016519418\n",
      "############### Saving good model ###############################\n",
      "-----------------------------------------------------------------\n",
      "Epoch: 327; Bad epochs: 0\n"
     ]
    },
    {
     "name": "stderr",
     "output_type": "stream",
     "text": [
      "100%|█████████████████████████████████████████████████████████| 7308/7308 [00:15<00:00, 468.49it/s]\n"
     ]
    },
    {
     "name": "stdout",
     "output_type": "stream",
     "text": [
      "Loss: 464.21872299630195\n",
      "Average Loss: 0.06352199274716776\n",
      "############### Saving good model ###############################\n",
      "-----------------------------------------------------------------\n",
      "Epoch: 328; Bad epochs: 0\n"
     ]
    },
    {
     "name": "stderr",
     "output_type": "stream",
     "text": [
      "100%|█████████████████████████████████████████████████████████| 7308/7308 [00:15<00:00, 472.61it/s]\n"
     ]
    },
    {
     "name": "stdout",
     "output_type": "stream",
     "text": [
      "Loss: 464.20094665978104\n",
      "Average Loss: 0.06351956029827327\n",
      "############### Saving good model ###############################\n",
      "-----------------------------------------------------------------\n",
      "Epoch: 329; Bad epochs: 0\n"
     ]
    },
    {
     "name": "stderr",
     "output_type": "stream",
     "text": [
      "100%|█████████████████████████████████████████████████████████| 7308/7308 [00:15<00:00, 474.37it/s]\n"
     ]
    },
    {
     "name": "stdout",
     "output_type": "stream",
     "text": [
      "Loss: 464.2016828658525\n",
      "Average Loss: 0.06351966103802031\n",
      "-----------------------------------------------------------------\n",
      "Epoch: 330; Bad epochs: 1\n"
     ]
    },
    {
     "name": "stderr",
     "output_type": "stream",
     "text": [
      "100%|█████████████████████████████████████████████████████████| 7308/7308 [00:15<00:00, 474.80it/s]\n"
     ]
    },
    {
     "name": "stdout",
     "output_type": "stream",
     "text": [
      "Loss: 464.18264777446166\n",
      "Average Loss: 0.06351705634571178\n",
      "############### Saving good model ###############################\n",
      "-----------------------------------------------------------------\n",
      "Epoch: 331; Bad epochs: 0\n"
     ]
    },
    {
     "name": "stderr",
     "output_type": "stream",
     "text": [
      "100%|█████████████████████████████████████████████████████████| 7308/7308 [00:15<00:00, 473.97it/s]\n"
     ]
    },
    {
     "name": "stdout",
     "output_type": "stream",
     "text": [
      "Loss: 464.1715547842905\n",
      "Average Loss: 0.06351553842149568\n",
      "############### Saving good model ###############################\n",
      "-----------------------------------------------------------------\n",
      "Epoch: 332; Bad epochs: 0\n"
     ]
    },
    {
     "name": "stderr",
     "output_type": "stream",
     "text": [
      "100%|█████████████████████████████████████████████████████████| 7308/7308 [00:15<00:00, 458.40it/s]\n"
     ]
    },
    {
     "name": "stdout",
     "output_type": "stream",
     "text": [
      "Loss: 464.15540385851637\n",
      "Average Loss: 0.06351332838786486\n",
      "############### Saving good model ###############################\n",
      "-----------------------------------------------------------------\n",
      "Epoch: 333; Bad epochs: 0\n"
     ]
    },
    {
     "name": "stderr",
     "output_type": "stream",
     "text": [
      "100%|█████████████████████████████████████████████████████████| 7308/7308 [00:15<00:00, 469.74it/s]\n"
     ]
    },
    {
     "name": "stdout",
     "output_type": "stream",
     "text": [
      "Loss: 464.152795487782\n",
      "Average Loss: 0.06351297146795046\n",
      "############### Saving good model ###############################\n",
      "-----------------------------------------------------------------\n",
      "Epoch: 334; Bad epochs: 0\n"
     ]
    },
    {
     "name": "stderr",
     "output_type": "stream",
     "text": [
      "100%|█████████████████████████████████████████████████████████| 7308/7308 [00:16<00:00, 453.73it/s]\n"
     ]
    },
    {
     "name": "stdout",
     "output_type": "stream",
     "text": [
      "Loss: 464.1650248898659\n",
      "Average Loss: 0.06351464489461767\n",
      "-----------------------------------------------------------------\n",
      "Epoch: 335; Bad epochs: 1\n"
     ]
    },
    {
     "name": "stderr",
     "output_type": "stream",
     "text": [
      "100%|█████████████████████████████████████████████████████████| 7308/7308 [00:15<00:00, 470.69it/s]\n"
     ]
    },
    {
     "name": "stdout",
     "output_type": "stream",
     "text": [
      "Loss: 464.12726383679546\n",
      "Average Loss: 0.06350947781018\n",
      "############### Saving good model ###############################\n",
      "-----------------------------------------------------------------\n",
      "Epoch: 336; Bad epochs: 0\n"
     ]
    },
    {
     "name": "stderr",
     "output_type": "stream",
     "text": [
      "100%|█████████████████████████████████████████████████████████| 7308/7308 [00:15<00:00, 472.86it/s]\n"
     ]
    },
    {
     "name": "stdout",
     "output_type": "stream",
     "text": [
      "Loss: 464.1099509326741\n",
      "Average Loss: 0.06350710877568064\n",
      "############### Saving good model ###############################\n",
      "-----------------------------------------------------------------\n",
      "Epoch: 337; Bad epochs: 0\n"
     ]
    },
    {
     "name": "stderr",
     "output_type": "stream",
     "text": [
      "100%|█████████████████████████████████████████████████████████| 7308/7308 [00:15<00:00, 473.33it/s]\n"
     ]
    },
    {
     "name": "stdout",
     "output_type": "stream",
     "text": [
      "Loss: 464.10316101647913\n",
      "Average Loss: 0.06350617966837427\n",
      "############### Saving good model ###############################\n",
      "-----------------------------------------------------------------\n",
      "Epoch: 338; Bad epochs: 0\n"
     ]
    },
    {
     "name": "stderr",
     "output_type": "stream",
     "text": [
      "100%|█████████████████████████████████████████████████████████| 7308/7308 [00:15<00:00, 471.42it/s]\n"
     ]
    },
    {
     "name": "stdout",
     "output_type": "stream",
     "text": [
      "Loss: 464.1021670391783\n",
      "Average Loss: 0.06350604365615467\n",
      "############### Saving good model ###############################\n",
      "-----------------------------------------------------------------\n",
      "Epoch: 339; Bad epochs: 0\n"
     ]
    },
    {
     "name": "stderr",
     "output_type": "stream",
     "text": [
      "100%|█████████████████████████████████████████████████████████| 7308/7308 [00:15<00:00, 471.79it/s]\n"
     ]
    },
    {
     "name": "stdout",
     "output_type": "stream",
     "text": [
      "Loss: 464.07522147358395\n",
      "Average Loss: 0.06350235652347892\n",
      "############### Saving good model ###############################\n",
      "-----------------------------------------------------------------\n",
      "Epoch: 340; Bad epochs: 0\n"
     ]
    },
    {
     "name": "stderr",
     "output_type": "stream",
     "text": [
      "100%|█████████████████████████████████████████████████████████| 7308/7308 [00:15<00:00, 472.78it/s]\n"
     ]
    },
    {
     "name": "stdout",
     "output_type": "stream",
     "text": [
      "Loss: 464.0722008035518\n",
      "Average Loss: 0.0635019431860361\n",
      "############### Saving good model ###############################\n",
      "-----------------------------------------------------------------\n",
      "Epoch: 341; Bad epochs: 0\n"
     ]
    },
    {
     "name": "stderr",
     "output_type": "stream",
     "text": [
      "100%|█████████████████████████████████████████████████████████| 7308/7308 [00:16<00:00, 448.92it/s]\n"
     ]
    },
    {
     "name": "stdout",
     "output_type": "stream",
     "text": [
      "Loss: 464.05781433545053\n",
      "Average Loss: 0.0634999745943419\n",
      "############### Saving good model ###############################\n",
      "-----------------------------------------------------------------\n",
      "Epoch: 342; Bad epochs: 0\n"
     ]
    },
    {
     "name": "stderr",
     "output_type": "stream",
     "text": [
      "100%|█████████████████████████████████████████████████████████| 7308/7308 [00:20<00:00, 364.77it/s]\n"
     ]
    },
    {
     "name": "stdout",
     "output_type": "stream",
     "text": [
      "Loss: 464.04663235205226\n",
      "Average Loss: 0.06349844449261799\n",
      "############### Saving good model ###############################\n",
      "-----------------------------------------------------------------\n",
      "Epoch: 343; Bad epochs: 0\n"
     ]
    },
    {
     "name": "stderr",
     "output_type": "stream",
     "text": [
      "100%|█████████████████████████████████████████████████████████| 7308/7308 [00:17<00:00, 426.07it/s]\n"
     ]
    },
    {
     "name": "stdout",
     "output_type": "stream",
     "text": [
      "Loss: 464.0336122121662\n",
      "Average Loss: 0.06349666286428109\n",
      "############### Saving good model ###############################\n",
      "-----------------------------------------------------------------\n",
      "Epoch: 344; Bad epochs: 0\n"
     ]
    },
    {
     "name": "stderr",
     "output_type": "stream",
     "text": [
      "100%|█████████████████████████████████████████████████████████| 7308/7308 [00:16<00:00, 431.02it/s]\n"
     ]
    },
    {
     "name": "stdout",
     "output_type": "stream",
     "text": [
      "Loss: 464.03803651523776\n",
      "Average Loss: 0.06349726826973696\n",
      "-----------------------------------------------------------------\n",
      "Epoch: 345; Bad epochs: 1\n"
     ]
    },
    {
     "name": "stderr",
     "output_type": "stream",
     "text": [
      "100%|█████████████████████████████████████████████████████████| 7308/7308 [00:16<00:00, 437.03it/s]\n"
     ]
    },
    {
     "name": "stdout",
     "output_type": "stream",
     "text": [
      "Loss: 464.01381144556217\n",
      "Average Loss: 0.06349395339977588\n",
      "############### Saving good model ###############################\n",
      "-----------------------------------------------------------------\n",
      "Epoch: 346; Bad epochs: 0\n"
     ]
    },
    {
     "name": "stderr",
     "output_type": "stream",
     "text": [
      "100%|█████████████████████████████████████████████████████████| 7308/7308 [00:16<00:00, 438.19it/s]\n"
     ]
    },
    {
     "name": "stdout",
     "output_type": "stream",
     "text": [
      "Loss: 463.99686136026867\n",
      "Average Loss: 0.06349163401207836\n",
      "############### Saving good model ###############################\n",
      "-----------------------------------------------------------------\n",
      "Epoch: 347; Bad epochs: 0\n"
     ]
    },
    {
     "name": "stderr",
     "output_type": "stream",
     "text": [
      "100%|█████████████████████████████████████████████████████████| 7308/7308 [00:16<00:00, 442.51it/s]\n"
     ]
    },
    {
     "name": "stdout",
     "output_type": "stream",
     "text": [
      "Loss: 463.993119238643\n",
      "Average Loss: 0.0634911219538373\n",
      "############### Saving good model ###############################\n",
      "-----------------------------------------------------------------\n",
      "Epoch: 348; Bad epochs: 0\n"
     ]
    },
    {
     "name": "stderr",
     "output_type": "stream",
     "text": [
      "100%|█████████████████████████████████████████████████████████| 7308/7308 [00:16<00:00, 443.99it/s]\n"
     ]
    },
    {
     "name": "stdout",
     "output_type": "stream",
     "text": [
      "Loss: 463.972383541055\n",
      "Average Loss: 0.06348828455679462\n",
      "############### Saving good model ###############################\n",
      "-----------------------------------------------------------------\n",
      "Epoch: 349; Bad epochs: 0\n"
     ]
    },
    {
     "name": "stderr",
     "output_type": "stream",
     "text": [
      "100%|█████████████████████████████████████████████████████████| 7308/7308 [00:16<00:00, 442.62it/s]\n"
     ]
    },
    {
     "name": "stdout",
     "output_type": "stream",
     "text": [
      "Loss: 463.97165067261085\n",
      "Average Loss: 0.06348818427375627\n",
      "############### Saving good model ###############################\n",
      "-----------------------------------------------------------------\n",
      "Epoch: 350; Bad epochs: 0\n"
     ]
    },
    {
     "name": "stderr",
     "output_type": "stream",
     "text": [
      "100%|█████████████████████████████████████████████████████████| 7308/7308 [00:16<00:00, 447.47it/s]\n"
     ]
    },
    {
     "name": "stdout",
     "output_type": "stream",
     "text": [
      "Loss: 463.9565755666699\n",
      "Average Loss: 0.06348612145137793\n",
      "############### Saving good model ###############################\n",
      "-----------------------------------------------------------------\n",
      "Epoch: 351; Bad epochs: 0\n"
     ]
    },
    {
     "name": "stderr",
     "output_type": "stream",
     "text": [
      "100%|█████████████████████████████████████████████████████████| 7308/7308 [00:16<00:00, 449.83it/s]\n"
     ]
    },
    {
     "name": "stdout",
     "output_type": "stream",
     "text": [
      "Loss: 463.95595680875704\n",
      "Average Loss: 0.06348603678280748\n",
      "############### Saving good model ###############################\n",
      "-----------------------------------------------------------------\n",
      "Epoch: 352; Bad epochs: 0\n"
     ]
    },
    {
     "name": "stderr",
     "output_type": "stream",
     "text": [
      "100%|█████████████████████████████████████████████████████████| 7308/7308 [00:16<00:00, 444.79it/s]\n"
     ]
    },
    {
     "name": "stdout",
     "output_type": "stream",
     "text": [
      "Loss: 463.93260090169497\n",
      "Average Loss: 0.06348284084588053\n",
      "############### Saving good model ###############################\n",
      "-----------------------------------------------------------------\n",
      "Epoch: 353; Bad epochs: 0\n"
     ]
    },
    {
     "name": "stderr",
     "output_type": "stream",
     "text": [
      "100%|█████████████████████████████████████████████████████████| 7308/7308 [00:16<00:00, 453.68it/s]\n"
     ]
    },
    {
     "name": "stdout",
     "output_type": "stream",
     "text": [
      "Loss: 463.91813446884044\n",
      "Average Loss: 0.06348086131210187\n",
      "############### Saving good model ###############################\n",
      "-----------------------------------------------------------------\n",
      "Epoch: 354; Bad epochs: 0\n"
     ]
    },
    {
     "name": "stderr",
     "output_type": "stream",
     "text": [
      "100%|█████████████████████████████████████████████████████████| 7308/7308 [00:16<00:00, 452.86it/s]\n"
     ]
    },
    {
     "name": "stdout",
     "output_type": "stream",
     "text": [
      "Loss: 463.9275769365486\n",
      "Average Loss: 0.06348215338485887\n",
      "-----------------------------------------------------------------\n",
      "Epoch: 355; Bad epochs: 1\n"
     ]
    },
    {
     "name": "stderr",
     "output_type": "stream",
     "text": [
      "100%|█████████████████████████████████████████████████████████| 7308/7308 [00:16<00:00, 450.79it/s]\n"
     ]
    },
    {
     "name": "stdout",
     "output_type": "stream",
     "text": [
      "Loss: 463.8963481017854\n",
      "Average Loss: 0.06347788014529084\n",
      "############### Saving good model ###############################\n",
      "-----------------------------------------------------------------\n",
      "Epoch: 356; Bad epochs: 0\n"
     ]
    },
    {
     "name": "stderr",
     "output_type": "stream",
     "text": [
      "100%|█████████████████████████████████████████████████████████| 7308/7308 [00:16<00:00, 451.89it/s]\n"
     ]
    },
    {
     "name": "stdout",
     "output_type": "stream",
     "text": [
      "Loss: 463.9121862926986\n",
      "Average Loss: 0.06348004738542674\n",
      "-----------------------------------------------------------------\n",
      "Epoch: 357; Bad epochs: 1\n"
     ]
    },
    {
     "name": "stderr",
     "output_type": "stream",
     "text": [
      "100%|█████████████████████████████████████████████████████████| 7308/7308 [00:16<00:00, 451.45it/s]\n"
     ]
    },
    {
     "name": "stdout",
     "output_type": "stream",
     "text": [
      "Loss: 463.8756696600467\n",
      "Average Loss: 0.06347505058292921\n",
      "############### Saving good model ###############################\n",
      "-----------------------------------------------------------------\n",
      "Epoch: 358; Bad epochs: 0\n"
     ]
    },
    {
     "name": "stderr",
     "output_type": "stream",
     "text": [
      "100%|█████████████████████████████████████████████████████████| 7308/7308 [00:16<00:00, 452.44it/s]\n"
     ]
    },
    {
     "name": "stdout",
     "output_type": "stream",
     "text": [
      "Loss: 463.8745065552648\n",
      "Average Loss: 0.06347489142792348\n",
      "############### Saving good model ###############################\n",
      "-----------------------------------------------------------------\n",
      "Epoch: 359; Bad epochs: 0\n"
     ]
    },
    {
     "name": "stderr",
     "output_type": "stream",
     "text": [
      "100%|█████████████████████████████████████████████████████████| 7308/7308 [00:16<00:00, 455.52it/s]\n"
     ]
    },
    {
     "name": "stdout",
     "output_type": "stream",
     "text": [
      "Loss: 463.8554344752338\n",
      "Average Loss: 0.06347228167422465\n",
      "############### Saving good model ###############################\n",
      "-----------------------------------------------------------------\n",
      "Epoch: 360; Bad epochs: 0\n"
     ]
    },
    {
     "name": "stderr",
     "output_type": "stream",
     "text": [
      "100%|█████████████████████████████████████████████████████████| 7308/7308 [00:16<00:00, 453.39it/s]\n"
     ]
    },
    {
     "name": "stdout",
     "output_type": "stream",
     "text": [
      "Loss: 463.84653548314236\n",
      "Average Loss: 0.06347106396868396\n",
      "############### Saving good model ###############################\n",
      "-----------------------------------------------------------------\n",
      "Epoch: 361; Bad epochs: 0\n"
     ]
    },
    {
     "name": "stderr",
     "output_type": "stream",
     "text": [
      "100%|█████████████████████████████████████████████████████████| 7308/7308 [00:16<00:00, 455.53it/s]\n"
     ]
    },
    {
     "name": "stdout",
     "output_type": "stream",
     "text": [
      "Loss: 463.8294974330347\n",
      "Average Loss: 0.06346873254420289\n",
      "############### Saving good model ###############################\n",
      "-----------------------------------------------------------------\n",
      "Epoch: 362; Bad epochs: 0\n"
     ]
    },
    {
     "name": "stderr",
     "output_type": "stream",
     "text": [
      "100%|█████████████████████████████████████████████████████████| 7308/7308 [00:16<00:00, 440.70it/s]\n"
     ]
    },
    {
     "name": "stdout",
     "output_type": "stream",
     "text": [
      "Loss: 463.83301090286113\n",
      "Average Loss: 0.06346921331456776\n",
      "-----------------------------------------------------------------\n",
      "Epoch: 363; Bad epochs: 1\n"
     ]
    },
    {
     "name": "stderr",
     "output_type": "stream",
     "text": [
      "100%|█████████████████████████████████████████████████████████| 7308/7308 [00:16<00:00, 435.99it/s]\n"
     ]
    },
    {
     "name": "stdout",
     "output_type": "stream",
     "text": [
      "Loss: 463.81815562117845\n",
      "Average Loss: 0.06346718057213717\n",
      "############### Saving good model ###############################\n",
      "-----------------------------------------------------------------\n",
      "Epoch: 364; Bad epochs: 0\n"
     ]
    },
    {
     "name": "stderr",
     "output_type": "stream",
     "text": [
      "100%|█████████████████████████████████████████████████████████| 7308/7308 [00:16<00:00, 448.40it/s]\n"
     ]
    },
    {
     "name": "stdout",
     "output_type": "stream",
     "text": [
      "Loss: 463.7992935932707\n",
      "Average Loss: 0.06346459956120289\n",
      "############### Saving good model ###############################\n",
      "-----------------------------------------------------------------\n",
      "Epoch: 365; Bad epochs: 0\n"
     ]
    },
    {
     "name": "stderr",
     "output_type": "stream",
     "text": [
      "100%|█████████████████████████████████████████████████████████| 7308/7308 [00:17<00:00, 425.58it/s]\n"
     ]
    },
    {
     "name": "stdout",
     "output_type": "stream",
     "text": [
      "Loss: 463.79189994814806\n",
      "Average Loss: 0.06346358784183745\n",
      "############### Saving good model ###############################\n",
      "-----------------------------------------------------------------\n",
      "Epoch: 366; Bad epochs: 0\n"
     ]
    },
    {
     "name": "stderr",
     "output_type": "stream",
     "text": [
      "100%|█████████████████████████████████████████████████████████| 7308/7308 [00:16<00:00, 437.51it/s]\n"
     ]
    },
    {
     "name": "stdout",
     "output_type": "stream",
     "text": [
      "Loss: 463.794862001203\n",
      "Average Loss: 0.06346399315834743\n",
      "-----------------------------------------------------------------\n",
      "Epoch: 367; Bad epochs: 1\n"
     ]
    },
    {
     "name": "stderr",
     "output_type": "stream",
     "text": [
      "100%|█████████████████████████████████████████████████████████| 7308/7308 [00:16<00:00, 436.33it/s]\n"
     ]
    },
    {
     "name": "stdout",
     "output_type": "stream",
     "text": [
      "Loss: 463.7670942922123\n",
      "Average Loss: 0.0634601935265753\n",
      "############### Saving good model ###############################\n",
      "-----------------------------------------------------------------\n",
      "Epoch: 368; Bad epochs: 0\n"
     ]
    },
    {
     "name": "stderr",
     "output_type": "stream",
     "text": [
      "100%|█████████████████████████████████████████████████████████| 7308/7308 [00:16<00:00, 440.60it/s]\n"
     ]
    },
    {
     "name": "stdout",
     "output_type": "stream",
     "text": [
      "Loss: 463.76163077750243\n",
      "Average Loss: 0.06345944591919847\n",
      "############### Saving good model ###############################\n",
      "-----------------------------------------------------------------\n",
      "Epoch: 369; Bad epochs: 0\n"
     ]
    },
    {
     "name": "stderr",
     "output_type": "stream",
     "text": [
      "100%|█████████████████████████████████████████████████████████| 7308/7308 [00:16<00:00, 444.55it/s]\n"
     ]
    },
    {
     "name": "stdout",
     "output_type": "stream",
     "text": [
      "Loss: 463.7481907363981\n",
      "Average Loss: 0.06345760683311413\n",
      "############### Saving good model ###############################\n",
      "-----------------------------------------------------------------\n",
      "Epoch: 370; Bad epochs: 0\n"
     ]
    },
    {
     "name": "stderr",
     "output_type": "stream",
     "text": [
      "100%|█████████████████████████████████████████████████████████| 7308/7308 [00:16<00:00, 444.76it/s]\n"
     ]
    },
    {
     "name": "stdout",
     "output_type": "stream",
     "text": [
      "Loss: 463.76723868376575\n",
      "Average Loss: 0.06346021328458754\n",
      "-----------------------------------------------------------------\n",
      "Epoch: 371; Bad epochs: 1\n"
     ]
    },
    {
     "name": "stderr",
     "output_type": "stream",
     "text": [
      "100%|█████████████████████████████████████████████████████████| 7308/7308 [00:16<00:00, 443.33it/s]\n"
     ]
    },
    {
     "name": "stdout",
     "output_type": "stream",
     "text": [
      "Loss: 463.7223517401144\n",
      "Average Loss: 0.06345407111933694\n",
      "############### Saving good model ###############################\n",
      "-----------------------------------------------------------------\n",
      "Epoch: 372; Bad epochs: 0\n"
     ]
    },
    {
     "name": "stderr",
     "output_type": "stream",
     "text": [
      "100%|█████████████████████████████████████████████████████████| 7308/7308 [00:16<00:00, 448.62it/s]\n"
     ]
    },
    {
     "name": "stdout",
     "output_type": "stream",
     "text": [
      "Loss: 463.7180359181948\n",
      "Average Loss: 0.06345348055804527\n",
      "############### Saving good model ###############################\n",
      "-----------------------------------------------------------------\n",
      "Epoch: 373; Bad epochs: 0\n"
     ]
    },
    {
     "name": "stderr",
     "output_type": "stream",
     "text": [
      "100%|█████████████████████████████████████████████████████████| 7308/7308 [00:16<00:00, 449.58it/s]\n"
     ]
    },
    {
     "name": "stdout",
     "output_type": "stream",
     "text": [
      "Loss: 463.72177774086595\n",
      "Average Loss: 0.06345399257537848\n",
      "-----------------------------------------------------------------\n",
      "Epoch: 374; Bad epochs: 1\n"
     ]
    },
    {
     "name": "stderr",
     "output_type": "stream",
     "text": [
      "100%|█████████████████████████████████████████████████████████| 7308/7308 [00:16<00:00, 453.60it/s]\n"
     ]
    },
    {
     "name": "stdout",
     "output_type": "stream",
     "text": [
      "Loss: 463.7177613284439\n",
      "Average Loss: 0.06345344298418773\n",
      "############### Saving good model ###############################\n",
      "-----------------------------------------------------------------\n",
      "Epoch: 375; Bad epochs: 0\n"
     ]
    },
    {
     "name": "stderr",
     "output_type": "stream",
     "text": [
      "100%|█████████████████████████████████████████████████████████| 7308/7308 [00:16<00:00, 452.11it/s]\n"
     ]
    },
    {
     "name": "stdout",
     "output_type": "stream",
     "text": [
      "Loss: 463.68537125899456\n",
      "Average Loss: 0.06344901084551102\n",
      "############### Saving good model ###############################\n",
      "-----------------------------------------------------------------\n",
      "Epoch: 376; Bad epochs: 0\n"
     ]
    },
    {
     "name": "stderr",
     "output_type": "stream",
     "text": [
      "100%|█████████████████████████████████████████████████████████| 7308/7308 [00:16<00:00, 450.20it/s]\n"
     ]
    },
    {
     "name": "stdout",
     "output_type": "stream",
     "text": [
      "Loss: 463.6843123440631\n",
      "Average Loss: 0.06344886594746348\n",
      "############### Saving good model ###############################\n",
      "-----------------------------------------------------------------\n",
      "Epoch: 377; Bad epochs: 0\n"
     ]
    },
    {
     "name": "stderr",
     "output_type": "stream",
     "text": [
      "100%|█████████████████████████████████████████████████████████| 7308/7308 [00:16<00:00, 449.03it/s]\n"
     ]
    },
    {
     "name": "stdout",
     "output_type": "stream",
     "text": [
      "Loss: 463.6628100387752\n",
      "Average Loss: 0.06344592365062605\n",
      "############### Saving good model ###############################\n",
      "-----------------------------------------------------------------\n",
      "Epoch: 378; Bad epochs: 0\n"
     ]
    },
    {
     "name": "stderr",
     "output_type": "stream",
     "text": [
      "100%|█████████████████████████████████████████████████████████| 7308/7308 [00:16<00:00, 454.03it/s]\n"
     ]
    },
    {
     "name": "stdout",
     "output_type": "stream",
     "text": [
      "Loss: 463.50792937376536\n",
      "Average Loss: 0.06342473034671119\n",
      "############### Saving good model ###############################\n",
      "-----------------------------------------------------------------\n",
      "Epoch: 379; Bad epochs: 0\n"
     ]
    },
    {
     "name": "stderr",
     "output_type": "stream",
     "text": [
      "100%|█████████████████████████████████████████████████████████| 7308/7308 [00:17<00:00, 421.52it/s]\n"
     ]
    },
    {
     "name": "stdout",
     "output_type": "stream",
     "text": [
      "Loss: 463.6382437625434\n",
      "Average Loss: 0.06344256209120737\n",
      "-----------------------------------------------------------------\n",
      "Epoch: 380; Bad epochs: 1\n"
     ]
    },
    {
     "name": "stderr",
     "output_type": "stream",
     "text": [
      "100%|█████████████████████████████████████████████████████████| 7308/7308 [00:16<00:00, 435.57it/s]\n"
     ]
    },
    {
     "name": "stdout",
     "output_type": "stream",
     "text": [
      "Loss: 463.65492927934974\n",
      "Average Loss: 0.06344484527632044\n",
      "-----------------------------------------------------------------\n",
      "Epoch: 381; Bad epochs: 2\n"
     ]
    },
    {
     "name": "stderr",
     "output_type": "stream",
     "text": [
      "100%|█████████████████████████████████████████████████████████| 7308/7308 [00:16<00:00, 436.61it/s]\n"
     ]
    },
    {
     "name": "stdout",
     "output_type": "stream",
     "text": [
      "Loss: 463.6182713864837\n",
      "Average Loss: 0.06343982914429169\n",
      "-----------------------------------------------------------------\n",
      "Epoch: 382; Bad epochs: 3\n"
     ]
    },
    {
     "name": "stderr",
     "output_type": "stream",
     "text": [
      "100%|█████████████████████████████████████████████████████████| 7308/7308 [00:17<00:00, 421.25it/s]\n"
     ]
    },
    {
     "name": "stdout",
     "output_type": "stream",
     "text": [
      "Loss: 463.6207021123264\n",
      "Average Loss: 0.06344016175592862\n",
      "-----------------------------------------------------------------\n",
      "Epoch: 383; Bad epochs: 4\n"
     ]
    },
    {
     "name": "stderr",
     "output_type": "stream",
     "text": [
      "100%|█████████████████████████████████████████████████████████| 7308/7308 [00:16<00:00, 439.34it/s]\n"
     ]
    },
    {
     "name": "stdout",
     "output_type": "stream",
     "text": [
      "Loss: 463.60593752213754\n",
      "Average Loss: 0.06343814142339047\n",
      "-----------------------------------------------------------------\n",
      "Epoch: 384; Bad epochs: 5\n"
     ]
    },
    {
     "name": "stderr",
     "output_type": "stream",
     "text": [
      "100%|█████████████████████████████████████████████████████████| 7308/7308 [00:16<00:00, 440.75it/s]\n"
     ]
    },
    {
     "name": "stdout",
     "output_type": "stream",
     "text": [
      "Loss: 463.5813191495836\n",
      "Average Loss: 0.06343477273530153\n",
      "-----------------------------------------------------------------\n",
      "Epoch: 385; Bad epochs: 6\n"
     ]
    },
    {
     "name": "stderr",
     "output_type": "stream",
     "text": [
      "100%|█████████████████████████████████████████████████████████| 7308/7308 [00:16<00:00, 442.33it/s]\n"
     ]
    },
    {
     "name": "stdout",
     "output_type": "stream",
     "text": [
      "Loss: 463.58567685377784\n",
      "Average Loss: 0.06343536902761054\n",
      "-----------------------------------------------------------------\n",
      "Epoch: 386; Bad epochs: 7\n"
     ]
    },
    {
     "name": "stderr",
     "output_type": "stream",
     "text": [
      "100%|█████████████████████████████████████████████████████████| 7308/7308 [00:16<00:00, 445.91it/s]\n"
     ]
    },
    {
     "name": "stdout",
     "output_type": "stream",
     "text": [
      "Loss: 463.5636151994113\n",
      "Average Loss: 0.06343235019149032\n",
      "-----------------------------------------------------------------\n",
      "Epoch: 387; Bad epochs: 8\n"
     ]
    },
    {
     "name": "stderr",
     "output_type": "stream",
     "text": [
      "100%|█████████████████████████████████████████████████████████| 7308/7308 [00:16<00:00, 442.14it/s]\n"
     ]
    },
    {
     "name": "stdout",
     "output_type": "stream",
     "text": [
      "Loss: 463.5612419627141\n",
      "Average Loss: 0.06343202544645787\n",
      "-----------------------------------------------------------------\n",
      "Epoch: 388; Bad epochs: 9\n"
     ]
    },
    {
     "name": "stderr",
     "output_type": "stream",
     "text": [
      "100%|█████████████████████████████████████████████████████████| 7308/7308 [00:16<00:00, 447.96it/s]"
     ]
    },
    {
     "name": "stdout",
     "output_type": "stream",
     "text": [
      "Loss: 463.5545266326517\n",
      "Average Loss: 0.06343110654524517\n",
      "Done, best loss: 463.50792937376536\n",
      "Done\n"
     ]
    },
    {
     "name": "stderr",
     "output_type": "stream",
     "text": [
      "\n"
     ]
    },
    {
     "data": {
      "text/plain": [
       "<All keys matched successfully>"
      ]
     },
     "execution_count": 22,
     "metadata": {},
     "output_type": "execute_result"
    }
   ],
   "source": [
    "loss_list=[]\n",
    "avg_loss_list=[]\n",
    "\n",
    "counter = 0\n",
    "\n",
    "# Best loss\n",
    "best = 1e16\n",
    "num_bad_epochs = 0\n",
    "patience = 10\n",
    "\n",
    "for epoch in range(1000):\n",
    "    print(\"-----------------------------------------------------------------\")\n",
    "    print(\"Epoch: {}; Bad epochs: {}\".format(epoch, num_bad_epochs))\n",
    "    net.train()\n",
    "    running_loss = 0.\n",
    "\n",
    "    for i, X_batch in enumerate(tqdm(trainloader), 0):\n",
    "        optimizer.zero_grad()\n",
    "        X_pred, theta, phi, mu_cart_pred, lambda_par_pred, lambda_iso_pred, volume_0_pred, volume_1_pred = net(X_batch)\n",
    "        if i == 100 and counter == 10:\n",
    "            print(\"X_batch: \")\n",
    "            print(X_batch.shape)\n",
    "            print(X_batch)\n",
    "            print(\"X_pred: \")\n",
    "            print(X_pred.shape)\n",
    "            print(X_pred)\n",
    "        loss = criterion(X_pred.type(torch.FloatTensor), X_batch.type(torch.FloatTensor))\n",
    "        loss.backward()\n",
    "        optimizer.step()\n",
    "        running_loss += loss.item()\n",
    "        \n",
    "    loss_list.append(running_loss)\n",
    "    avg_loss_list.append(running_loss/num_batches)\n",
    "    print(\"Loss: {}\".format(running_loss))\n",
    "    print(\"Average Loss: {}\".format(running_loss/num_batches))\n",
    "    \n",
    "\n",
    "    if running_loss < best:\n",
    "        print(\"############### Saving good model ###############################\")\n",
    "        final_model = net.state_dict()\n",
    "        best = running_loss\n",
    "        num_bad_epochs = 0\n",
    "    else:\n",
    "        num_bad_epochs = num_bad_epochs + 1\n",
    "        if num_bad_epochs == patience:\n",
    "            print(\"Done, best loss: {}\".format(best))\n",
    "            break\n",
    "    counter += 1\n",
    "\n",
    "print(\"Done\") \n",
    "net.load_state_dict(final_model)"
   ]
  },
  {
   "cell_type": "code",
   "execution_count": 23,
   "id": "f0c833ed-47df-4732-b753-c91eebfa45a8",
   "metadata": {},
   "outputs": [
    {
     "data": {
      "image/png": "[encoded data removed]",
      "text/plain": [
       "<Figure size 640x480 with 1 Axes>"
      ]
     },
     "metadata": {},
     "output_type": "display_data"
    }
   ],
   "source": [
    "epoch_arr = np.arange(0, len(avg_loss_list))\n",
    "loss_arr = np.array(avg_loss_list)\n",
    "plt.plot(avg_loss_list)\n",
    "plt.xlabel(\"Epochs\")\n",
    "plt.ylabel(\"Average Runing Loss per batch\")\n",
    "plt.show()"
   ]
  },
  {
   "cell_type": "code",
   "execution_count": 24,
   "id": "56c8c0c9-d474-4a64-9c78-594db184b732",
   "metadata": {},
   "outputs": [],
   "source": [
    "torch.save(final_model, 'model_100206_single_01.pt')"
   ]
  },
  {
   "cell_type": "code",
   "execution_count": null,
   "id": "7aff217d-8016-415c-87a0-80dbfb3fd9f7",
   "metadata": {},
   "outputs": [],
   "source": []
  },
  {
   "cell_type": "code",
   "execution_count": 2,
   "id": "e4d1556a-bb41-4e9f-b1f8-7e091279ab29",
   "metadata": {},
   "outputs": [],
   "source": [
    "scan_100307 = process_data.get_nifti_data(config.data_folder2 + '/100307/data.nii.gz')\n",
    "mask_100307 = process_data.get_nifti_data(config.data_folder2 + '/100307/nodif_brain_mask.nii.gz')\n",
    "\n",
    "scan_100307_dimension = scan_100307.shape\n",
    "x = scan_100307_dimension[0]\n",
    "y = scan_100307_dimension[1]\n",
    "z = scan_100307_dimension[2]\n",
    "b = scan_100307_dimension[3]"
   ]
  },
  {
   "cell_type": "code",
   "execution_count": 3,
   "id": "99bcf38b-c2d6-4d31-9e33-da0de2c47a4c",
   "metadata": {},
   "outputs": [],
   "source": [
    "scan_100307_long = np.reshape(scan_100307, (x*y*z, b))\n",
    "mask_100307_long = np.reshape(mask_100307, (x*y*z, 1))"
   ]
  },
  {
   "cell_type": "code",
   "execution_count": 4,
   "id": "1065056c-c1dd-495b-b46f-590d93132d73",
   "metadata": {},
   "outputs": [],
   "source": [
    "indices_beginning_0_all_100307 = np.where(scan_100307_long[:, 0] == 0)[0]\n",
    "\n",
    "mask_100307_long_pro = np.copy(mask_100307_long)\n",
    "mask_100307_long_pro[indices_beginning_0_all_100307] = 0"
   ]
  },
  {
   "cell_type": "code",
   "execution_count": 5,
   "id": "9f459ac4-69c0-42e2-aca2-57298c9fedc9",
   "metadata": {},
   "outputs": [],
   "source": [
    "scan_100307_long_no_background = process_data.remove_background(scan_100307_long, mask_100307_long_pro)"
   ]
  },
  {
   "cell_type": "code",
   "execution_count": 6,
   "id": "2e610a4f-f5bd-4998-b567-047272b34a7a",
   "metadata": {},
   "outputs": [],
   "source": [
    "bvals_all_100307 = np.loadtxt(config.data_folder2 + '/100307/bvals') * 1e-3"
   ]
  },
  {
   "cell_type": "code",
   "execution_count": 7,
   "id": "7c5595ff-42d1-4adb-81fb-d5c604e90586",
   "metadata": {},
   "outputs": [],
   "source": [
    "S0_100307 = process_data.get_S0(scan_100307_long_no_background, bvals_all_100307)"
   ]
  },
  {
   "cell_type": "code",
   "execution_count": 8,
   "id": "31127abd-7d12-4679-9241-aa31eaf92a73",
   "metadata": {},
   "outputs": [],
   "source": [
    "normalized_scan_100307 = scan_100307_long_no_background / S0_100307"
   ]
  },
  {
   "cell_type": "code",
   "execution_count": 9,
   "id": "164c2919-8782-4b4a-9163-103ab27eacaf",
   "metadata": {},
   "outputs": [],
   "source": [
    "np.save(\"normalized_scan_100307_full.npy\", normalized_scan_100307)"
   ]
  },
  {
   "cell_type": "code",
   "execution_count": 10,
   "id": "6db3f263-12e3-45d4-a6ec-212741f6218e",
   "metadata": {},
   "outputs": [],
   "source": [
    "single_normalized_scan_100307 = normalized_scan_100307[:,0:16]"
   ]
  },
  {
   "cell_type": "code",
   "execution_count": 11,
   "id": "9dfda9cd-c0f0-4534-a919-b63caae7df24",
   "metadata": {},
   "outputs": [],
   "source": [
    "single_bvals_100307 = bvals_all_100307[0:16]"
   ]
  },
  {
   "cell_type": "code",
   "execution_count": 12,
   "id": "3197f40b-062a-4771-b8f0-5541d03a5206",
   "metadata": {},
   "outputs": [],
   "source": [
    "single_big_b_indices_100307 = np.where(single_bvals_100307 != 0.005)[0]"
   ]
  },
  {
   "cell_type": "code",
   "execution_count": 13,
   "id": "f6f0fd4a-188c-426c-a2b6-0fedbfc1215a",
   "metadata": {},
   "outputs": [],
   "source": [
    "single_normalized_scan_100307_no_b5 = single_normalized_scan_100307[:, single_big_b_indices_100307]\n",
    "single_bvals_100307_no_5 = single_bvals_100307[single_big_b_indices_100307]"
   ]
  },
  {
   "cell_type": "code",
   "execution_count": 19,
   "id": "0de1ae1b-5099-4288-9f20-8a9c22f474ee",
   "metadata": {},
   "outputs": [
    {
     "name": "stdout",
     "output_type": "stream",
     "text": [
      "(15, 3)\n"
     ]
    }
   ],
   "source": [
    "n_all_100307 = np.loadtxt(config.data_folder2 + '/100307/bvecs')\n",
    "single_n_100307 = n_all_100307[:, 0:16]\n",
    "single_n_100307_no_5 = single_n_100307[:,single_big_b_indices_100307].T\n",
    "print(single_n_100307_no_5.shape)\n",
    "\n",
    "single_b_values_100307 = torch.FloatTensor(single_bvals_100307_no_5)\n",
    "single_gradient_directions_100307 = torch.FloatTensor(single_n_100307_no_5)"
   ]
  },
  {
   "cell_type": "code",
   "execution_count": 20,
   "id": "2ee267ca-1f4c-4b88-aaf2-53127f4b2323",
   "metadata": {},
   "outputs": [
    {
     "data": {
      "text/plain": [
       "BallStickNet(\n",
       "  (fc_layers): ModuleList(\n",
       "    (0): Linear(in_features=15, out_features=15, bias=True)\n",
       "    (1): ELU(alpha=1.0)\n",
       "    (2): Linear(in_features=15, out_features=15, bias=True)\n",
       "    (3): ELU(alpha=1.0)\n",
       "    (4): Linear(in_features=15, out_features=15, bias=True)\n",
       "    (5): ELU(alpha=1.0)\n",
       "  )\n",
       "  (encoder): Sequential(\n",
       "    (0): Linear(in_features=15, out_features=15, bias=True)\n",
       "    (1): ELU(alpha=1.0)\n",
       "    (2): Linear(in_features=15, out_features=15, bias=True)\n",
       "    (3): ELU(alpha=1.0)\n",
       "    (4): Linear(in_features=15, out_features=15, bias=True)\n",
       "    (5): ELU(alpha=1.0)\n",
       "    (6): Linear(in_features=15, out_features=5, bias=True)\n",
       "  )\n",
       ")"
      ]
     },
     "execution_count": 20,
     "metadata": {},
     "output_type": "execute_result"
    }
   ],
   "source": [
    "net_100307_single = BallStickNet(single_gradient_directions_100307, single_b_values_100307)\n",
    "net_100307_single.load_state_dict(torch.load(\"/Users/weiwenhua/UGY4/COMP0029/COMP0029-Project/deep-ball-stick/model_100206_single_01.pt\"))\n",
    "net_100307_single.eval()"
   ]
  },
  {
   "cell_type": "code",
   "execution_count": 25,
   "id": "b2ec2513-adf6-467c-917c-df592c7797af",
   "metadata": {},
   "outputs": [],
   "source": [
    "X_100307_single_pred, theta_100307_single_pred, phi_100307_single_pred, mu_cart_100307_single_pred, lambda_par_100307_single_pred, lambda_iso_100307_single_pred,  volume_0_100307_single_pred, volume_1_100307_single_pred = net_100307_single(torch.from_numpy(single_normalized_scan_100307_no_b5.astype(np.float32)))"
   ]
  },
  {
   "cell_type": "code",
   "execution_count": 26,
   "id": "568d479f-acce-4eeb-8353-e1ca621abfbf",
   "metadata": {},
   "outputs": [
    {
     "data": {
      "text/plain": [
       "[<matplotlib.lines.Line2D at 0x192398310>]"
      ]
     },
     "execution_count": 26,
     "metadata": {},
     "output_type": "execute_result"
    },
    {
     "data": {
      "image/png": "[encoded data removed]",
      "text/plain": [
       "<Figure size 640x480 with 1 Axes>"
      ]
     },
     "metadata": {},
     "output_type": "display_data"
    }
   ],
   "source": [
    "plt.plot(single_bvals_100307_no_5*1e03, X_100307_single_pred[1234,:].detach().numpy(),  \"o\", markersize = 1)\n",
    "plt.plot(single_bvals_100307_no_5*1e03,single_normalized_scan_100307_no_b5[1234,:], \".\", markersize = 1)"
   ]
  },
  {
   "cell_type": "code",
   "execution_count": null,
   "id": "4fd25f3f-c9d4-4683-be1f-da1dda80ba24",
   "metadata": {},
   "outputs": [],
   "source": []
  },
  {
   "cell_type": "code",
   "execution_count": 23,
   "id": "d306fca7-bd1f-4b9b-91d1-251dc1d3687c",
   "metadata": {},
   "outputs": [],
   "source": [
    "def add_bg(mask_long, params):\n",
    "    resume_params = np.copy(mask_long)\n",
    "    no_bg_indices = np.where(mask_long == 1)[0]\n",
    "    for i, index in enumerate(no_bg_indices):\n",
    "        resume_params[index] = params[i]\n",
    "    return resume_params\n",
    "\n",
    "def back_to_3D(mask_long, parames_1d, shape):\n",
    "    params_with_bg = add_bg(mask_long, parames_1d.detach().numpy())\n",
    "    params_3d = np.reshape(params_with_bg, shape)\n",
    "    return params_3d"
   ]
  },
  {
   "cell_type": "code",
   "execution_count": 27,
   "id": "5d9bb066-2c0b-4b4e-bbc4-f3e3ae1e727e",
   "metadata": {},
   "outputs": [],
   "source": [
    "lambda_par_100307_pred_3d = back_to_3D(mask_100307_long_pro, lambda_par_100307_single_pred, (145, 174, 145))\n",
    "lambda_iso_100307_pred_3d = back_to_3D(mask_100307_long_pro, lambda_iso_100307_single_pred, (145, 174, 145))\n",
    "volume_0_100307_pred_3d = back_to_3D(mask_100307_long_pro, volume_0_100307_single_pred, (145, 174, 145))\n",
    "volume_1_100307_pred_3d = back_to_3D(mask_100307_long_pro, volume_1_100307_single_pred, (145, 174, 145))"
   ]
  },
  {
   "cell_type": "code",
   "execution_count": 28,
   "id": "469b7112-e652-4023-932f-cba3b68b0468",
   "metadata": {},
   "outputs": [],
   "source": [
    "import matplotlib"
   ]
  },
  {
   "cell_type": "code",
   "execution_count": 29,
   "id": "94563dc1-49c8-40f6-ba4b-ae7e8c2dfcd1",
   "metadata": {},
   "outputs": [
    {
     "data": {
      "text/plain": [
       "<matplotlib.colorbar.Colorbar at 0x1c8460370>"
      ]
     },
     "execution_count": 29,
     "metadata": {},
     "output_type": "execute_result"
    },
    {
     "data": {
      "image/png": "[encoded data removed]",
      "text/plain": [
       "<Figure size 640x480 with 2 Axes>"
      ]
     },
     "metadata": {},
     "output_type": "display_data"
    }
   ],
   "source": [
    "im = plt.imshow(lambda_par_100307_pred_3d[:,:,70].squeeze().T, origin='lower', interpolation='nearest', cmap=matplotlib.colormaps[\"hot\"], vmin = 0, vmax = 3)\n",
    "plt.colorbar(im)"
   ]
  },
  {
   "cell_type": "code",
   "execution_count": 30,
   "id": "aa2131f1-fe78-4cdf-89fc-689c3195079a",
   "metadata": {},
   "outputs": [
    {
     "data": {
      "text/plain": [
       "<matplotlib.colorbar.Colorbar at 0x1c8533df0>"
      ]
     },
     "execution_count": 30,
     "metadata": {},
     "output_type": "execute_result"
    },
    {
     "data": {
      "image/png": "[encoded data removed]",
      "text/plain": [
       "<Figure size 640x480 with 2 Axes>"
      ]
     },
     "metadata": {},
     "output_type": "display_data"
    }
   ],
   "source": [
    "im = plt.imshow(lambda_iso_100307_pred_3d[:,:,70].squeeze().T, origin='lower', interpolation='nearest', cmap=matplotlib.colormaps[\"hot\"])\n",
    "plt.colorbar(im)"
   ]
  },
  {
   "cell_type": "code",
   "execution_count": 31,
   "id": "2999c1ad-f24c-4dbd-a578-24f3443862ee",
   "metadata": {},
   "outputs": [
    {
     "data": {
      "text/plain": [
       "<matplotlib.colorbar.Colorbar at 0x1c861b910>"
      ]
     },
     "execution_count": 31,
     "metadata": {},
     "output_type": "execute_result"
    },
    {
     "data": {
      "image/png": "[encoded data removed]",
      "text/plain": [
       "<Figure size 640x480 with 2 Axes>"
      ]
     },
     "metadata": {},
     "output_type": "display_data"
    }
   ],
   "source": [
    "im = plt.imshow(volume_0_100307_pred_3d[:,:,70].squeeze().T, origin='lower', interpolation='nearest', cmap=matplotlib.colormaps[\"hot\"])\n",
    "plt.colorbar(im)"
   ]
  },
  {
   "cell_type": "code",
   "execution_count": 32,
   "id": "ac9af339-733a-441c-b155-3fcf25723872",
   "metadata": {},
   "outputs": [
    {
     "data": {
      "text/plain": [
       "<matplotlib.colorbar.Colorbar at 0x1c8706710>"
      ]
     },
     "execution_count": 32,
     "metadata": {},
     "output_type": "execute_result"
    },
    {
     "data": {
      "image/png": "[encoded data removed]",
      "text/plain": [
       "<Figure size 640x480 with 2 Axes>"
      ]
     },
     "metadata": {},
     "output_type": "display_data"
    }
   ],
   "source": [
    "im = plt.imshow(volume_1_100307_pred_3d[:,:,70].squeeze().T, origin='lower', interpolation='nearest', cmap=matplotlib.colormaps[\"hot\"])\n",
    "plt.colorbar(im)"
   ]
  },
  {
   "cell_type": "code",
   "execution_count": null,
   "id": "90a72181-7444-43ed-bfe3-0d2544f371ff",
   "metadata": {},
   "outputs": [],
   "source": []
  }
 ],
 "metadata": {
  "kernelspec": {
   "display_name": "Python 3 (ipykernel)",
   "language": "python",
   "name": "python3"
  },
  "language_info": {
   "codemirror_mode": {
    "name": "ipython",
    "version": 3
   },
   "file_extension": ".py",
   "mimetype": "text/x-python",
   "name": "python",
   "nbconvert_exporter": "python",
   "pygments_lexer": "ipython3",
   "version": "3.10.8"
  }
 },
 "nbformat": 4,
 "nbformat_minor": 5
}
