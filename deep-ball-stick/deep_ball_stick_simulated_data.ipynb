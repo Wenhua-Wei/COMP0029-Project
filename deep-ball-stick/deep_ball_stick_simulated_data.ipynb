{
 "cells": [
  {
   "cell_type": "code",
   "execution_count": 2,
   "id": "3637e359-3a57-4f86-8c04-1c74fe2154d0",
   "metadata": {},
   "outputs": [],
   "source": [
    "import nibabel as nib\n",
    "import numpy as np\n",
    "\n",
    "from dmipy.core.acquisition_scheme import acquisition_scheme_from_bvalues\n",
    "from dmipy.signal_models import cylinder_models, gaussian_models\n",
    "from dmipy.core.modeling_framework import MultiCompartmentModel\n",
    "\n",
    "import matplotlib.pyplot as plt\n",
    "\n",
    "import config\n",
    "import torch\n",
    "import torch.nn as nn\n",
    "import torch.optim as optim\n",
    "import torch.utils.data as utils\n",
    "from tqdm import tqdm"
   ]
  },
  {
   "cell_type": "code",
   "execution_count": 3,
   "id": "53b1ccc3-171b-42b2-972d-73e73a41342d",
   "metadata": {},
   "outputs": [],
   "source": [
    "def squash(param, p_min, p_max):\n",
    "    squashed_param_tensor =torch.clamp(param, min=p_min, max=p_max)\n",
    "    unsqueezed_param = squashed_param_tensor.unsqueeze(1)\n",
    "    return unsqueezed_param"
   ]
  },
  {
   "cell_type": "code",
   "execution_count": 90,
   "id": "79f44219-bb91-4433-bbfd-9235dce45cb1",
   "metadata": {},
   "outputs": [],
   "source": [
    "def unitsphere2cart(theta, phi):\n",
    "    mu_cart = torch.zeros(3,128)\n",
    "    sintheta = torch.sin(theta)\n",
    "    mu_cart[0,:] = torch.squeeze(sintheta * torch.cos(phi))\n",
    "    mu_cart[1,:] = torch.squeeze(sintheta * torch.sin(phi))\n",
    "    mu_cart[2,:] = torch.squeeze(torch.cos(theta))\n",
    "    return mu_cart"
   ]
  },
  {
   "cell_type": "code",
   "execution_count": 5,
   "id": "cf9b3564-fecb-40bf-bab4-183e03be607c",
   "metadata": {},
   "outputs": [],
   "source": [
    "def get_acquisition_scheme():\n",
    "    bvals = np.loadtxt(\n",
    "        config.data_folder2 + '/100206/bvals'\n",
    "    ) * 1e-3\n",
    "    # s/m^2\n",
    "    gradient_directions = np.loadtxt(\n",
    "        config.data_folder2 + '/100206/bvecs'\n",
    "    ).T\n",
    "\n",
    "    delta = 0.0106\n",
    "    Delta = 0.0431\n",
    "    return acquisition_scheme_from_bvalues(bvals, gradient_directions, delta, Delta)"
   ]
  },
  {
   "cell_type": "code",
   "execution_count": 6,
   "id": "2387fe50-766d-4513-8243-2e1f59525811",
   "metadata": {},
   "outputs": [],
   "source": [
    "class BallStickNet(nn.Module):\n",
    "    \n",
    "    def __init__(self, gradient_directions, b_values):\n",
    "        super(BallStickNet, self).__init__()\n",
    "        self.gradient_directions = gradient_directions\n",
    "        self.b_values = b_values\n",
    "        self.fc_layers = nn.ModuleList()\n",
    "        for i in range(3): \n",
    "            self.fc_layers.extend([nn.Linear(len(b_values), len(b_values)), nn.ELU()])\n",
    "        self.encoder = nn.Sequential(*self.fc_layers, nn.Linear(len(b_values), 5))\n",
    "        # if args.dropout != 0:\n",
    "        #     self.dropout = nn.Dropout(args.dropout)\n",
    "            \n",
    "    def forward(self, X):\n",
    "        # if args.dropout != 0:\n",
    "        #     X = self.dropout(X)\n",
    "        params = torch.abs(self.encoder(X))\n",
    "        theta_uns = params[:, 0]\n",
    "        theta = squash(theta_uns, 0, np.pi)\n",
    "        phi_uns = params[:, 1]\n",
    "        phi = squash(phi_uns, -np.pi, np.pi)\n",
    "        mu_cart = unitsphere2cart(theta, phi)\n",
    "        mm_prod =  torch.einsum(\"ij,jk->ki\",self.gradient_directions, mu_cart)\n",
    "        lambda_par_uns = params[:, 2]\n",
    "        lambda_par = squash(lambda_par_uns, 0.1, 3.0)\n",
    "        lambda_iso_uns = params[:, 3]\n",
    "        lambda_iso = squash(lambda_iso_uns, 0.1, 3.0)\n",
    "        volume_0_uns = params[:, 4]\n",
    "        volume_0 = squash(volume_0_uns, 0.01, 0.99)\n",
    "        volume_1 = 1-volume_0\n",
    "        X = volume_0 * torch.exp(-self.b_values * lambda_par * mm_prod ** 2) + volume_1 * torch.exp(-self.b_values * lambda_iso)\n",
    "        return X, mu_cart, lambda_par, lambda_iso, volume_0, volume_1"
   ]
  },
  {
   "cell_type": "markdown",
   "id": "e0c0c89f-8709-4c9e-8908-db33260575e4",
   "metadata": {},
   "source": [
    "**Construct ball-stick model**"
   ]
  },
  {
   "cell_type": "code",
   "execution_count": 7,
   "id": "701f8c94-d506-4075-9352-bc756d5e2038",
   "metadata": {},
   "outputs": [
    {
     "name": "stdout",
     "output_type": "stream",
     "text": [
      "We highly recommend installing numba for faster function execution and model fitting.\n",
      "We highly recommend installing pathos to take advantage of multicore processing.\n"
     ]
    }
   ],
   "source": [
    "ball = gaussian_models.G1Ball()\n",
    "stick = cylinder_models.C1Stick()\n",
    "BAS_mod = MultiCompartmentModel(models=[stick, ball])"
   ]
  },
  {
   "cell_type": "markdown",
   "id": "aa187e3d-0f4e-4a8d-b597-a561ade9b305",
   "metadata": {},
   "source": [
    "**Get scheme**"
   ]
  },
  {
   "cell_type": "code",
   "execution_count": 8,
   "id": "5a5b6992-1890-4bd2-bda3-ddef291dcad3",
   "metadata": {},
   "outputs": [],
   "source": [
    "hcp_scheme = get_acquisition_scheme()"
   ]
  },
  {
   "cell_type": "markdown",
   "id": "e8f3cf1d-9907-454c-8314-e27e70c19ac5",
   "metadata": {},
   "source": [
    "**Simulated data**"
   ]
  },
  {
   "cell_type": "code",
   "execution_count": 9,
   "id": "664571f7-6594-4239-8576-f218cec4aa3d",
   "metadata": {},
   "outputs": [],
   "source": [
    "num_samples = 10000\n",
    "simulated_x_train = np.zeros((num_samples, 288))\n",
    "simulated_BAS_param_vec = np.zeros((num_samples, 6))\n",
    "\n",
    "for i in range(len(simulated_x_train)):\n",
    "    C1Stick_1_mu = (np.random.uniform(0, np.pi),np.random.uniform(-np.pi, np.pi))\n",
    "    C1Stick_1_lambda_par = np.random.uniform(0.1, 3.0)\n",
    "    G1Ball_1_lambda_iso = np.random.uniform(0.1, 3.0)\n",
    "    partial_volume_0 = np.random.uniform(0.01, 0.99)\n",
    "    partial_volume_1 = 1 - partial_volume_0\n",
    "    simulated_param_vec = BAS_mod.parameters_to_parameter_vector(C1Stick_1_lambda_par=C1Stick_1_lambda_par, C1Stick_1_mu=C1Stick_1_mu, G1Ball_1_lambda_iso=G1Ball_1_lambda_iso, partial_volume_0=partial_volume_0, partial_volume_1=partial_volume_1)\n",
    "    simulated_BAS_param_vec[i, :] = simulated_param_vec\n",
    "    E_simulated = BAS_mod.simulate_signal(hcp_scheme, simulated_param_vec)\n",
    "    simulated_x_train[i, :] = E_simulated"
   ]
  },
  {
   "cell_type": "code",
   "execution_count": 11,
   "id": "b664c993-bacc-4a6d-aa31-3033f237c615",
   "metadata": {},
   "outputs": [
    {
     "name": "stdout",
     "output_type": "stream",
     "text": [
      "(10000, 288)\n",
      "(10000, 6)\n"
     ]
    }
   ],
   "source": [
    "print(simulated_x_train.shape)\n",
    "print(simulated_BAS_param_vec.shape)"
   ]
  },
  {
   "cell_type": "markdown",
   "id": "6f161b01-808e-4f34-a4bc-96fbf8591292",
   "metadata": {},
   "source": [
    "**NN object**"
   ]
  },
  {
   "cell_type": "code",
   "execution_count": 12,
   "id": "862900b9-f8a2-4c53-b81b-20412a2681e2",
   "metadata": {},
   "outputs": [],
   "source": [
    "bvals = np.loadtxt(config.data_folder2 + '/100206/bvals') * 1e-3\n",
    "n = np.loadtxt(config.data_folder2 + '/100206/bvecs').T\n",
    "b_values = torch.FloatTensor(bvals)\n",
    "gradient_directions = torch.FloatTensor(n)\n",
    "\n",
    "net = BallStickNet(gradient_directions, b_values)"
   ]
  },
  {
   "cell_type": "markdown",
   "id": "d4a1fac8-2381-437f-bc54-3e0b6e071d4e",
   "metadata": {},
   "source": [
    "**Loss function and optimizer**"
   ]
  },
  {
   "cell_type": "code",
   "execution_count": 13,
   "id": "ed75ee47-df8d-4c5d-9353-22d4a544c3fa",
   "metadata": {},
   "outputs": [],
   "source": [
    "criterion = nn.MSELoss()\n",
    "optimizer = optim.Adam(net.parameters(), lr = 0.0001)"
   ]
  },
  {
   "cell_type": "markdown",
   "id": "c71dbfcb-2bce-476b-a688-a0729c97b524",
   "metadata": {},
   "source": [
    "**Training data loader**"
   ]
  },
  {
   "cell_type": "code",
   "execution_count": 14,
   "id": "e56ef7b4-dd95-4964-8df6-a69495998b89",
   "metadata": {},
   "outputs": [],
   "source": [
    "batch_size = 128\n",
    "num_batches = len(simulated_x_train) // batch_size\n",
    "trainloader = utils.DataLoader(torch.from_numpy(simulated_x_train.astype(np.float32)),\n",
    "                               batch_size = batch_size, \n",
    "                               shuffle = True,\n",
    "                               num_workers = 2,\n",
    "                               drop_last = True)"
   ]
  },
  {
   "cell_type": "code",
   "execution_count": 15,
   "id": "d16f1ef2-effb-4bb0-ae28-7a040274cda8",
   "metadata": {},
   "outputs": [
    {
     "name": "stdout",
     "output_type": "stream",
     "text": [
      "78\n",
      "78\n"
     ]
    }
   ],
   "source": [
    "print(num_batches)\n",
    "print(len(trainloader))"
   ]
  },
  {
   "cell_type": "markdown",
   "id": "d41828a7-0060-43d5-8ea5-ad82516603ba",
   "metadata": {},
   "source": [
    "**Train**"
   ]
  },
  {
   "cell_type": "code",
   "execution_count": 17,
   "id": "005ccc47-f3a6-4a3f-9771-b92f1b30edeb",
   "metadata": {
    "collapsed": true,
    "jupyter": {
     "outputs_hidden": true
    },
    "tags": []
   },
   "outputs": [
    {
     "name": "stdout",
     "output_type": "stream",
     "text": [
      "-----------------------------------------------------------------\n",
      "Epoch: 0; Bad epochs: 0\n"
     ]
    },
    {
     "name": "stderr",
     "output_type": "stream",
     "text": [
      "100%|██████████████████████████████████████████████████████████████| 78/78 [00:02<00:00, 31.37it/s]\n"
     ]
    },
    {
     "name": "stdout",
     "output_type": "stream",
     "text": [
      "Loss: 8.389103502035141\n",
      "Average Loss: 0.10755260900045052\n",
      "############### Saving good model ###############################\n",
      "-----------------------------------------------------------------\n",
      "Epoch: 1; Bad epochs: 0\n"
     ]
    },
    {
     "name": "stderr",
     "output_type": "stream",
     "text": [
      "100%|██████████████████████████████████████████████████████████████| 78/78 [00:01<00:00, 42.19it/s]\n"
     ]
    },
    {
     "name": "stdout",
     "output_type": "stream",
     "text": [
      "Loss: 8.308790735900402\n",
      "Average Loss: 0.10652295815256926\n",
      "############### Saving good model ###############################\n",
      "-----------------------------------------------------------------\n",
      "Epoch: 2; Bad epochs: 0\n"
     ]
    },
    {
     "name": "stderr",
     "output_type": "stream",
     "text": [
      "100%|██████████████████████████████████████████████████████████████| 78/78 [00:01<00:00, 40.95it/s]\n"
     ]
    },
    {
     "name": "stdout",
     "output_type": "stream",
     "text": [
      "Loss: 8.271563678979874\n",
      "Average Loss: 0.10604568819204967\n",
      "############### Saving good model ###############################\n",
      "-----------------------------------------------------------------\n",
      "Epoch: 3; Bad epochs: 0\n"
     ]
    },
    {
     "name": "stderr",
     "output_type": "stream",
     "text": [
      "100%|██████████████████████████████████████████████████████████████| 78/78 [00:01<00:00, 39.47it/s]\n"
     ]
    },
    {
     "name": "stdout",
     "output_type": "stream",
     "text": [
      "Loss: 8.219923004508018\n",
      "Average Loss: 0.10538362826292332\n",
      "############### Saving good model ###############################\n",
      "-----------------------------------------------------------------\n",
      "Epoch: 4; Bad epochs: 0\n"
     ]
    },
    {
     "name": "stderr",
     "output_type": "stream",
     "text": [
      "100%|██████████████████████████████████████████████████████████████| 78/78 [00:01<00:00, 42.10it/s]\n"
     ]
    },
    {
     "name": "stdout",
     "output_type": "stream",
     "text": [
      "Loss: 8.171096973121166\n",
      "Average Loss: 0.10475765350155342\n",
      "############### Saving good model ###############################\n",
      "-----------------------------------------------------------------\n",
      "Epoch: 5; Bad epochs: 0\n"
     ]
    },
    {
     "name": "stderr",
     "output_type": "stream",
     "text": [
      "100%|██████████████████████████████████████████████████████████████| 78/78 [00:01<00:00, 42.19it/s]\n"
     ]
    },
    {
     "name": "stdout",
     "output_type": "stream",
     "text": [
      "Loss: 8.123440846800804\n",
      "Average Loss: 0.10414667752308723\n",
      "############### Saving good model ###############################\n",
      "-----------------------------------------------------------------\n",
      "Epoch: 6; Bad epochs: 0\n"
     ]
    },
    {
     "name": "stderr",
     "output_type": "stream",
     "text": [
      "100%|██████████████████████████████████████████████████████████████| 78/78 [00:02<00:00, 37.27it/s]\n"
     ]
    },
    {
     "name": "stdout",
     "output_type": "stream",
     "text": [
      "Loss: 8.072400018572807\n",
      "Average Loss: 0.10349230793042061\n",
      "############### Saving good model ###############################\n",
      "-----------------------------------------------------------------\n",
      "Epoch: 7; Bad epochs: 0\n"
     ]
    },
    {
     "name": "stderr",
     "output_type": "stream",
     "text": [
      "100%|██████████████████████████████████████████████████████████████| 78/78 [00:02<00:00, 37.90it/s]\n"
     ]
    },
    {
     "name": "stdout",
     "output_type": "stream",
     "text": [
      "Loss: 8.039921417832375\n",
      "Average Loss: 0.10307591561323558\n",
      "############### Saving good model ###############################\n",
      "-----------------------------------------------------------------\n",
      "Epoch: 8; Bad epochs: 0\n"
     ]
    },
    {
     "name": "stderr",
     "output_type": "stream",
     "text": [
      "100%|██████████████████████████████████████████████████████████████| 78/78 [00:02<00:00, 37.99it/s]\n"
     ]
    },
    {
     "name": "stdout",
     "output_type": "stream",
     "text": [
      "Loss: 8.018177755177021\n",
      "Average Loss: 0.1027971507073977\n",
      "############### Saving good model ###############################\n",
      "-----------------------------------------------------------------\n",
      "Epoch: 9; Bad epochs: 0\n"
     ]
    },
    {
     "name": "stderr",
     "output_type": "stream",
     "text": [
      "100%|██████████████████████████████████████████████████████████████| 78/78 [00:02<00:00, 33.24it/s]\n"
     ]
    },
    {
     "name": "stdout",
     "output_type": "stream",
     "text": [
      "Loss: 7.981645084917545\n",
      "Average Loss: 0.10232878313996853\n",
      "############### Saving good model ###############################\n",
      "-----------------------------------------------------------------\n",
      "Epoch: 10; Bad epochs: 0\n"
     ]
    },
    {
     "name": "stderr",
     "output_type": "stream",
     "text": [
      " 59%|████████████████████████████████████▌                         | 46/78 [00:01<00:00, 41.61it/s]"
     ]
    },
    {
     "name": "stdout",
     "output_type": "stream",
     "text": [
      "X_batch: \n",
      "torch.Size([128, 288])\n",
      "tensor([[0.9958, 0.7908, 0.2663,  ..., 0.2301, 0.7975, 0.0215],\n",
      "        [0.9932, 0.5189, 0.1522,  ..., 0.2508, 0.4412, 0.0256],\n",
      "        [0.9972, 0.7451, 0.5434,  ..., 0.6094, 0.5625, 0.4483],\n",
      "        ...,\n",
      "        [0.9865, 0.1416, 0.0065,  ..., 0.1367, 0.0840, 0.0023],\n",
      "        [0.9954, 0.4500, 0.2127,  ..., 0.4283, 0.2803, 0.1095],\n",
      "        [0.9994, 0.8289, 0.3366,  ..., 0.9410, 0.9134, 0.2292]])\n",
      "X_pred: \n",
      "torch.Size([128, 288])\n",
      "tensor([[9.9639e-01, 8.8644e-01, 2.5716e-01,  ..., 1.7760e-01, 9.6500e-01,\n",
      "         1.1431e-02],\n",
      "        [9.9698e-01, 9.8140e-01, 7.3071e-02,  ..., 1.4746e-01, 9.0681e-01,\n",
      "         1.7370e-03],\n",
      "        [9.9981e-01, 6.2741e-01, 4.8466e-02,  ..., 4.4407e-01, 8.5094e-01,\n",
      "         4.5993e-03],\n",
      "        ...,\n",
      "        [9.9985e-01, 6.8746e-01, 2.3436e-02,  ..., 4.5410e-01, 9.4051e-01,\n",
      "         9.3900e-04],\n",
      "        [9.9987e-01, 7.1065e-01, 2.3058e-02,  ..., 4.4343e-01, 9.5720e-01,\n",
      "         1.2920e-03],\n",
      "        [9.9929e-01, 5.2815e-01, 2.0835e-02,  ..., 8.0667e-01, 8.4324e-01,\n",
      "         8.8234e-03]], grad_fn=<AddBackward0>)\n"
     ]
    },
    {
     "name": "stderr",
     "output_type": "stream",
     "text": [
      "100%|██████████████████████████████████████████████████████████████| 78/78 [00:02<00:00, 37.30it/s]\n"
     ]
    },
    {
     "name": "stdout",
     "output_type": "stream",
     "text": [
      "Loss: 7.941014721989632\n",
      "Average Loss: 0.10180788105114913\n",
      "############### Saving good model ###############################\n",
      "-----------------------------------------------------------------\n",
      "Epoch: 11; Bad epochs: 0\n"
     ]
    },
    {
     "name": "stderr",
     "output_type": "stream",
     "text": [
      "100%|██████████████████████████████████████████████████████████████| 78/78 [00:01<00:00, 40.02it/s]\n"
     ]
    },
    {
     "name": "stdout",
     "output_type": "stream",
     "text": [
      "Loss: 7.8957862332463264\n",
      "Average Loss: 0.10122802863136315\n",
      "############### Saving good model ###############################\n",
      "-----------------------------------------------------------------\n",
      "Epoch: 12; Bad epochs: 0\n"
     ]
    },
    {
     "name": "stderr",
     "output_type": "stream",
     "text": [
      "100%|██████████████████████████████████████████████████████████████| 78/78 [00:02<00:00, 38.49it/s]\n"
     ]
    },
    {
     "name": "stdout",
     "output_type": "stream",
     "text": [
      "Loss: 7.869951270520687\n",
      "Average Loss: 0.10089681116052163\n",
      "############### Saving good model ###############################\n",
      "-----------------------------------------------------------------\n",
      "Epoch: 13; Bad epochs: 0\n"
     ]
    },
    {
     "name": "stderr",
     "output_type": "stream",
     "text": [
      "100%|██████████████████████████████████████████████████████████████| 78/78 [00:02<00:00, 38.45it/s]\n"
     ]
    },
    {
     "name": "stdout",
     "output_type": "stream",
     "text": [
      "Loss: 7.845442421734333\n",
      "Average Loss: 0.10058259515044017\n",
      "############### Saving good model ###############################\n",
      "-----------------------------------------------------------------\n",
      "Epoch: 14; Bad epochs: 0\n"
     ]
    },
    {
     "name": "stderr",
     "output_type": "stream",
     "text": [
      "100%|██████████████████████████████████████████████████████████████| 78/78 [00:02<00:00, 38.88it/s]\n"
     ]
    },
    {
     "name": "stdout",
     "output_type": "stream",
     "text": [
      "Loss: 7.8124135956168175\n",
      "Average Loss: 0.10015914866175407\n",
      "############### Saving good model ###############################\n",
      "-----------------------------------------------------------------\n",
      "Epoch: 15; Bad epochs: 0\n"
     ]
    },
    {
     "name": "stderr",
     "output_type": "stream",
     "text": [
      "100%|██████████████████████████████████████████████████████████████| 78/78 [00:01<00:00, 39.28it/s]\n"
     ]
    },
    {
     "name": "stdout",
     "output_type": "stream",
     "text": [
      "Loss: 7.798204742372036\n",
      "Average Loss: 0.09997698387656456\n",
      "############### Saving good model ###############################\n",
      "-----------------------------------------------------------------\n",
      "Epoch: 16; Bad epochs: 0\n"
     ]
    },
    {
     "name": "stderr",
     "output_type": "stream",
     "text": [
      "100%|██████████████████████████████████████████████████████████████| 78/78 [00:02<00:00, 38.74it/s]\n"
     ]
    },
    {
     "name": "stdout",
     "output_type": "stream",
     "text": [
      "Loss: 7.750452868640423\n",
      "Average Loss: 0.09936478036718491\n",
      "############### Saving good model ###############################\n",
      "-----------------------------------------------------------------\n",
      "Epoch: 17; Bad epochs: 0\n"
     ]
    },
    {
     "name": "stderr",
     "output_type": "stream",
     "text": [
      "100%|██████████████████████████████████████████████████████████████| 78/78 [00:01<00:00, 39.75it/s]\n"
     ]
    },
    {
     "name": "stdout",
     "output_type": "stream",
     "text": [
      "Loss: 7.721780560910702\n",
      "Average Loss: 0.09899718667834233\n",
      "############### Saving good model ###############################\n",
      "-----------------------------------------------------------------\n",
      "Epoch: 18; Bad epochs: 0\n"
     ]
    },
    {
     "name": "stderr",
     "output_type": "stream",
     "text": [
      "100%|██████████████████████████████████████████████████████████████| 78/78 [00:01<00:00, 39.11it/s]\n"
     ]
    },
    {
     "name": "stdout",
     "output_type": "stream",
     "text": [
      "Loss: 7.689962908625603\n",
      "Average Loss: 0.0985892680593026\n",
      "############### Saving good model ###############################\n",
      "-----------------------------------------------------------------\n",
      "Epoch: 19; Bad epochs: 0\n"
     ]
    },
    {
     "name": "stderr",
     "output_type": "stream",
     "text": [
      "100%|██████████████████████████████████████████████████████████████| 78/78 [00:01<00:00, 39.70it/s]\n"
     ]
    },
    {
     "name": "stdout",
     "output_type": "stream",
     "text": [
      "Loss: 7.668904982507229\n",
      "Average Loss: 0.09831929464752857\n",
      "############### Saving good model ###############################\n",
      "-----------------------------------------------------------------\n",
      "Epoch: 20; Bad epochs: 0\n"
     ]
    },
    {
     "name": "stderr",
     "output_type": "stream",
     "text": [
      "100%|██████████████████████████████████████████████████████████████| 78/78 [00:01<00:00, 39.82it/s]\n"
     ]
    },
    {
     "name": "stdout",
     "output_type": "stream",
     "text": [
      "Loss: 7.639229714870453\n",
      "Average Loss: 0.09793884249833915\n",
      "############### Saving good model ###############################\n",
      "-----------------------------------------------------------------\n",
      "Epoch: 21; Bad epochs: 0\n"
     ]
    },
    {
     "name": "stderr",
     "output_type": "stream",
     "text": [
      "100%|██████████████████████████████████████████████████████████████| 78/78 [00:01<00:00, 40.55it/s]\n"
     ]
    },
    {
     "name": "stdout",
     "output_type": "stream",
     "text": [
      "Loss: 7.61528941988945\n",
      "Average Loss: 0.09763191563960834\n",
      "############### Saving good model ###############################\n",
      "-----------------------------------------------------------------\n",
      "Epoch: 22; Bad epochs: 0\n"
     ]
    },
    {
     "name": "stderr",
     "output_type": "stream",
     "text": [
      "100%|██████████████████████████████████████████████████████████████| 78/78 [00:01<00:00, 40.11it/s]\n"
     ]
    },
    {
     "name": "stdout",
     "output_type": "stream",
     "text": [
      "Loss: 7.583724640309811\n",
      "Average Loss: 0.09722723897833091\n",
      "############### Saving good model ###############################\n",
      "-----------------------------------------------------------------\n",
      "Epoch: 23; Bad epochs: 0\n"
     ]
    },
    {
     "name": "stderr",
     "output_type": "stream",
     "text": [
      "100%|██████████████████████████████████████████████████████████████| 78/78 [00:01<00:00, 39.64it/s]\n"
     ]
    },
    {
     "name": "stdout",
     "output_type": "stream",
     "text": [
      "Loss: 2.786332007497549\n",
      "Average Loss: 0.03572220522432755\n",
      "############### Saving good model ###############################\n",
      "-----------------------------------------------------------------\n",
      "Epoch: 24; Bad epochs: 0\n"
     ]
    },
    {
     "name": "stderr",
     "output_type": "stream",
     "text": [
      "100%|██████████████████████████████████████████████████████████████| 78/78 [00:01<00:00, 40.95it/s]\n"
     ]
    },
    {
     "name": "stdout",
     "output_type": "stream",
     "text": [
      "Loss: 1.172494426369667\n",
      "Average Loss: 0.015031979825252142\n",
      "############### Saving good model ###############################\n",
      "-----------------------------------------------------------------\n",
      "Epoch: 25; Bad epochs: 0\n"
     ]
    },
    {
     "name": "stderr",
     "output_type": "stream",
     "text": [
      "100%|██████████████████████████████████████████████████████████████| 78/78 [00:01<00:00, 40.35it/s]\n"
     ]
    },
    {
     "name": "stdout",
     "output_type": "stream",
     "text": [
      "Loss: 1.1017852639779449\n",
      "Average Loss: 0.014125452102281345\n",
      "############### Saving good model ###############################\n",
      "-----------------------------------------------------------------\n",
      "Epoch: 26; Bad epochs: 0\n"
     ]
    },
    {
     "name": "stderr",
     "output_type": "stream",
     "text": [
      "100%|██████████████████████████████████████████████████████████████| 78/78 [00:01<00:00, 40.37it/s]\n"
     ]
    },
    {
     "name": "stdout",
     "output_type": "stream",
     "text": [
      "Loss: 1.0591740626841784\n",
      "Average Loss: 0.013579154649797158\n",
      "############### Saving good model ###############################\n",
      "-----------------------------------------------------------------\n",
      "Epoch: 27; Bad epochs: 0\n"
     ]
    },
    {
     "name": "stderr",
     "output_type": "stream",
     "text": [
      "100%|██████████████████████████████████████████████████████████████| 78/78 [00:01<00:00, 40.72it/s]\n"
     ]
    },
    {
     "name": "stdout",
     "output_type": "stream",
     "text": [
      "Loss: 1.0365749122574925\n",
      "Average Loss: 0.013289421952019135\n",
      "############### Saving good model ###############################\n",
      "-----------------------------------------------------------------\n",
      "Epoch: 28; Bad epochs: 0\n"
     ]
    },
    {
     "name": "stderr",
     "output_type": "stream",
     "text": [
      "100%|██████████████████████████████████████████████████████████████| 78/78 [00:01<00:00, 40.21it/s]\n"
     ]
    },
    {
     "name": "stdout",
     "output_type": "stream",
     "text": [
      "Loss: 1.0137383677065372\n",
      "Average Loss: 0.0129966457398274\n",
      "############### Saving good model ###############################\n",
      "-----------------------------------------------------------------\n",
      "Epoch: 29; Bad epochs: 0\n"
     ]
    },
    {
     "name": "stderr",
     "output_type": "stream",
     "text": [
      "100%|██████████████████████████████████████████████████████████████| 78/78 [00:01<00:00, 40.25it/s]\n"
     ]
    },
    {
     "name": "stdout",
     "output_type": "stream",
     "text": [
      "Loss: 0.9854916529729962\n",
      "Average Loss: 0.01263450837144867\n",
      "############### Saving good model ###############################\n",
      "-----------------------------------------------------------------\n",
      "Epoch: 30; Bad epochs: 0\n"
     ]
    },
    {
     "name": "stderr",
     "output_type": "stream",
     "text": [
      "100%|██████████████████████████████████████████████████████████████| 78/78 [00:01<00:00, 40.14it/s]\n"
     ]
    },
    {
     "name": "stdout",
     "output_type": "stream",
     "text": [
      "Loss: 0.9726053439080715\n",
      "Average Loss: 0.012469299280872712\n",
      "############### Saving good model ###############################\n",
      "-----------------------------------------------------------------\n",
      "Epoch: 31; Bad epochs: 0\n"
     ]
    },
    {
     "name": "stderr",
     "output_type": "stream",
     "text": [
      "100%|██████████████████████████████████████████████████████████████| 78/78 [00:01<00:00, 40.99it/s]\n"
     ]
    },
    {
     "name": "stdout",
     "output_type": "stream",
     "text": [
      "Loss: 0.9557577213272452\n",
      "Average Loss: 0.012253304119580068\n",
      "############### Saving good model ###############################\n",
      "-----------------------------------------------------------------\n",
      "Epoch: 32; Bad epochs: 0\n"
     ]
    },
    {
     "name": "stderr",
     "output_type": "stream",
     "text": [
      "100%|██████████████████████████████████████████████████████████████| 78/78 [00:01<00:00, 40.53it/s]\n"
     ]
    },
    {
     "name": "stdout",
     "output_type": "stream",
     "text": [
      "Loss: 0.9388602850958705\n",
      "Average Loss: 0.01203667032174193\n",
      "############### Saving good model ###############################\n",
      "-----------------------------------------------------------------\n",
      "Epoch: 33; Bad epochs: 0\n"
     ]
    },
    {
     "name": "stderr",
     "output_type": "stream",
     "text": [
      "100%|██████████████████████████████████████████████████████████████| 78/78 [00:01<00:00, 41.05it/s]\n"
     ]
    },
    {
     "name": "stdout",
     "output_type": "stream",
     "text": [
      "Loss: 0.9288305668160319\n",
      "Average Loss: 0.011908084189949127\n",
      "############### Saving good model ###############################\n",
      "-----------------------------------------------------------------\n",
      "Epoch: 34; Bad epochs: 0\n"
     ]
    },
    {
     "name": "stderr",
     "output_type": "stream",
     "text": [
      "100%|██████████████████████████████████████████████████████████████| 78/78 [00:01<00:00, 40.11it/s]\n"
     ]
    },
    {
     "name": "stdout",
     "output_type": "stream",
     "text": [
      "Loss: 0.9197288574650884\n",
      "Average Loss: 0.011791395608526774\n",
      "############### Saving good model ###############################\n",
      "-----------------------------------------------------------------\n",
      "Epoch: 35; Bad epochs: 0\n"
     ]
    },
    {
     "name": "stderr",
     "output_type": "stream",
     "text": [
      "100%|██████████████████████████████████████████████████████████████| 78/78 [00:01<00:00, 39.72it/s]\n"
     ]
    },
    {
     "name": "stdout",
     "output_type": "stream",
     "text": [
      "Loss: 0.9139464255422354\n",
      "Average Loss: 0.011717261865926094\n",
      "############### Saving good model ###############################\n",
      "-----------------------------------------------------------------\n",
      "Epoch: 36; Bad epochs: 0\n"
     ]
    },
    {
     "name": "stderr",
     "output_type": "stream",
     "text": [
      "100%|██████████████████████████████████████████████████████████████| 78/78 [00:01<00:00, 40.74it/s]\n"
     ]
    },
    {
     "name": "stdout",
     "output_type": "stream",
     "text": [
      "Loss: 0.903734396211803\n",
      "Average Loss: 0.011586338412971834\n",
      "############### Saving good model ###############################\n",
      "-----------------------------------------------------------------\n",
      "Epoch: 37; Bad epochs: 0\n"
     ]
    },
    {
     "name": "stderr",
     "output_type": "stream",
     "text": [
      "100%|██████████████████████████████████████████████████████████████| 78/78 [00:01<00:00, 39.48it/s]\n"
     ]
    },
    {
     "name": "stdout",
     "output_type": "stream",
     "text": [
      "Loss: 0.8918923567980528\n",
      "Average Loss: 0.01143451739484683\n",
      "############### Saving good model ###############################\n",
      "-----------------------------------------------------------------\n",
      "Epoch: 38; Bad epochs: 0\n"
     ]
    },
    {
     "name": "stderr",
     "output_type": "stream",
     "text": [
      "100%|██████████████████████████████████████████████████████████████| 78/78 [00:01<00:00, 40.69it/s]\n"
     ]
    },
    {
     "name": "stdout",
     "output_type": "stream",
     "text": [
      "Loss: 0.8675373625010252\n",
      "Average Loss: 0.011122273878218273\n",
      "############### Saving good model ###############################\n",
      "-----------------------------------------------------------------\n",
      "Epoch: 39; Bad epochs: 0\n"
     ]
    },
    {
     "name": "stderr",
     "output_type": "stream",
     "text": [
      "100%|██████████████████████████████████████████████████████████████| 78/78 [00:01<00:00, 40.28it/s]\n"
     ]
    },
    {
     "name": "stdout",
     "output_type": "stream",
     "text": [
      "Loss: 0.8443340118974447\n",
      "Average Loss: 0.010824795024326215\n",
      "############### Saving good model ###############################\n",
      "-----------------------------------------------------------------\n",
      "Epoch: 40; Bad epochs: 0\n"
     ]
    },
    {
     "name": "stderr",
     "output_type": "stream",
     "text": [
      "100%|██████████████████████████████████████████████████████████████| 78/78 [00:01<00:00, 39.86it/s]\n"
     ]
    },
    {
     "name": "stdout",
     "output_type": "stream",
     "text": [
      "Loss: 0.8202040158212185\n",
      "Average Loss: 0.010515436100272032\n",
      "############### Saving good model ###############################\n",
      "-----------------------------------------------------------------\n",
      "Epoch: 41; Bad epochs: 0\n"
     ]
    },
    {
     "name": "stderr",
     "output_type": "stream",
     "text": [
      "100%|██████████████████████████████████████████████████████████████| 78/78 [00:01<00:00, 40.40it/s]\n"
     ]
    },
    {
     "name": "stdout",
     "output_type": "stream",
     "text": [
      "Loss: 0.7954115113243461\n",
      "Average Loss: 0.010197583478517257\n",
      "############### Saving good model ###############################\n",
      "-----------------------------------------------------------------\n",
      "Epoch: 42; Bad epochs: 0\n"
     ]
    },
    {
     "name": "stderr",
     "output_type": "stream",
     "text": [
      "100%|██████████████████████████████████████████████████████████████| 78/78 [00:01<00:00, 40.22it/s]\n"
     ]
    },
    {
     "name": "stdout",
     "output_type": "stream",
     "text": [
      "Loss: 0.7809557737782598\n",
      "Average Loss: 0.010012253509977689\n",
      "############### Saving good model ###############################\n",
      "-----------------------------------------------------------------\n",
      "Epoch: 43; Bad epochs: 0\n"
     ]
    },
    {
     "name": "stderr",
     "output_type": "stream",
     "text": [
      "100%|██████████████████████████████████████████████████████████████| 78/78 [00:01<00:00, 39.01it/s]\n"
     ]
    },
    {
     "name": "stdout",
     "output_type": "stream",
     "text": [
      "Loss: 0.7645220160484314\n",
      "Average Loss: 0.009801564308313223\n",
      "############### Saving good model ###############################\n",
      "-----------------------------------------------------------------\n",
      "Epoch: 44; Bad epochs: 0\n"
     ]
    },
    {
     "name": "stderr",
     "output_type": "stream",
     "text": [
      "100%|██████████████████████████████████████████████████████████████| 78/78 [00:02<00:00, 38.30it/s]\n"
     ]
    },
    {
     "name": "stdout",
     "output_type": "stream",
     "text": [
      "Loss: 0.7506570853292942\n",
      "Average Loss: 0.009623808786273003\n",
      "############### Saving good model ###############################\n",
      "-----------------------------------------------------------------\n",
      "Epoch: 45; Bad epochs: 0\n"
     ]
    },
    {
     "name": "stderr",
     "output_type": "stream",
     "text": [
      "100%|██████████████████████████████████████████████████████████████| 78/78 [00:02<00:00, 38.32it/s]\n"
     ]
    },
    {
     "name": "stdout",
     "output_type": "stream",
     "text": [
      "Loss: 0.7395920203998685\n",
      "Average Loss: 0.009481948979485493\n",
      "############### Saving good model ###############################\n",
      "-----------------------------------------------------------------\n",
      "Epoch: 46; Bad epochs: 0\n"
     ]
    },
    {
     "name": "stderr",
     "output_type": "stream",
     "text": [
      "100%|██████████████████████████████████████████████████████████████| 78/78 [00:02<00:00, 38.50it/s]\n"
     ]
    },
    {
     "name": "stdout",
     "output_type": "stream",
     "text": [
      "Loss: 0.7273633670993149\n",
      "Average Loss: 0.00932517137306814\n",
      "############### Saving good model ###############################\n",
      "-----------------------------------------------------------------\n",
      "Epoch: 47; Bad epochs: 0\n"
     ]
    },
    {
     "name": "stderr",
     "output_type": "stream",
     "text": [
      "100%|██████████████████████████████████████████████████████████████| 78/78 [00:02<00:00, 36.78it/s]\n"
     ]
    },
    {
     "name": "stdout",
     "output_type": "stream",
     "text": [
      "Loss: 0.7188435555435717\n",
      "Average Loss: 0.009215943019789381\n",
      "############### Saving good model ###############################\n",
      "-----------------------------------------------------------------\n",
      "Epoch: 48; Bad epochs: 0\n"
     ]
    },
    {
     "name": "stderr",
     "output_type": "stream",
     "text": [
      "100%|██████████████████████████████████████████████████████████████| 78/78 [00:02<00:00, 38.19it/s]\n"
     ]
    },
    {
     "name": "stdout",
     "output_type": "stream",
     "text": [
      "Loss: 0.711789729539305\n",
      "Average Loss: 0.009125509353068013\n",
      "############### Saving good model ###############################\n",
      "-----------------------------------------------------------------\n",
      "Epoch: 49; Bad epochs: 0\n"
     ]
    },
    {
     "name": "stderr",
     "output_type": "stream",
     "text": [
      "100%|██████████████████████████████████████████████████████████████| 78/78 [00:02<00:00, 38.47it/s]\n"
     ]
    },
    {
     "name": "stdout",
     "output_type": "stream",
     "text": [
      "Loss: 0.7019827235490084\n",
      "Average Loss: 0.008999778507038569\n",
      "############### Saving good model ###############################\n",
      "-----------------------------------------------------------------\n",
      "Epoch: 50; Bad epochs: 0\n"
     ]
    },
    {
     "name": "stderr",
     "output_type": "stream",
     "text": [
      "100%|██████████████████████████████████████████████████████████████| 78/78 [00:02<00:00, 38.21it/s]\n"
     ]
    },
    {
     "name": "stdout",
     "output_type": "stream",
     "text": [
      "Loss: 0.6936908392235637\n",
      "Average Loss: 0.008893472297737995\n",
      "############### Saving good model ###############################\n",
      "-----------------------------------------------------------------\n",
      "Epoch: 51; Bad epochs: 0\n"
     ]
    },
    {
     "name": "stderr",
     "output_type": "stream",
     "text": [
      "100%|██████████████████████████████████████████████████████████████| 78/78 [00:02<00:00, 38.35it/s]\n"
     ]
    },
    {
     "name": "stdout",
     "output_type": "stream",
     "text": [
      "Loss: 0.6847790163010359\n",
      "Average Loss: 0.008779218157705588\n",
      "############### Saving good model ###############################\n",
      "-----------------------------------------------------------------\n",
      "Epoch: 52; Bad epochs: 0\n"
     ]
    },
    {
     "name": "stderr",
     "output_type": "stream",
     "text": [
      "100%|██████████████████████████████████████████████████████████████| 78/78 [00:02<00:00, 38.75it/s]\n"
     ]
    },
    {
     "name": "stdout",
     "output_type": "stream",
     "text": [
      "Loss: 0.6748348330147564\n",
      "Average Loss: 0.008651728628394313\n",
      "############### Saving good model ###############################\n",
      "-----------------------------------------------------------------\n",
      "Epoch: 53; Bad epochs: 0\n"
     ]
    },
    {
     "name": "stderr",
     "output_type": "stream",
     "text": [
      "100%|██████████████████████████████████████████████████████████████| 78/78 [00:02<00:00, 38.51it/s]\n"
     ]
    },
    {
     "name": "stdout",
     "output_type": "stream",
     "text": [
      "Loss: 0.6710604405961931\n",
      "Average Loss: 0.008603338982002476\n",
      "############### Saving good model ###############################\n",
      "-----------------------------------------------------------------\n",
      "Epoch: 54; Bad epochs: 0\n"
     ]
    },
    {
     "name": "stderr",
     "output_type": "stream",
     "text": [
      "100%|██████████████████████████████████████████████████████████████| 78/78 [00:02<00:00, 38.85it/s]\n"
     ]
    },
    {
     "name": "stdout",
     "output_type": "stream",
     "text": [
      "Loss: 0.6606749836355448\n",
      "Average Loss: 0.008470192097891599\n",
      "############### Saving good model ###############################\n",
      "-----------------------------------------------------------------\n",
      "Epoch: 55; Bad epochs: 0\n"
     ]
    },
    {
     "name": "stderr",
     "output_type": "stream",
     "text": [
      "100%|██████████████████████████████████████████████████████████████| 78/78 [00:02<00:00, 38.78it/s]\n"
     ]
    },
    {
     "name": "stdout",
     "output_type": "stream",
     "text": [
      "Loss: 0.6498296302743256\n",
      "Average Loss: 0.008331149106081098\n",
      "############### Saving good model ###############################\n",
      "-----------------------------------------------------------------\n",
      "Epoch: 56; Bad epochs: 0\n"
     ]
    },
    {
     "name": "stderr",
     "output_type": "stream",
     "text": [
      "100%|██████████████████████████████████████████████████████████████| 78/78 [00:01<00:00, 39.04it/s]\n"
     ]
    },
    {
     "name": "stdout",
     "output_type": "stream",
     "text": [
      "Loss: 0.6528403032571077\n",
      "Average Loss: 0.008369747477655228\n",
      "-----------------------------------------------------------------\n",
      "Epoch: 57; Bad epochs: 1\n"
     ]
    },
    {
     "name": "stderr",
     "output_type": "stream",
     "text": [
      "100%|██████████████████████████████████████████████████████████████| 78/78 [00:02<00:00, 37.46it/s]\n"
     ]
    },
    {
     "name": "stdout",
     "output_type": "stream",
     "text": [
      "Loss: 0.6410766136832535\n",
      "Average Loss: 0.008218930944657097\n",
      "############### Saving good model ###############################\n",
      "-----------------------------------------------------------------\n",
      "Epoch: 58; Bad epochs: 0\n"
     ]
    },
    {
     "name": "stderr",
     "output_type": "stream",
     "text": [
      "100%|██████████████████████████████████████████████████████████████| 78/78 [00:02<00:00, 38.81it/s]\n"
     ]
    },
    {
     "name": "stdout",
     "output_type": "stream",
     "text": [
      "Loss: 0.6306325504556298\n",
      "Average Loss: 0.0080850326981491\n",
      "############### Saving good model ###############################\n",
      "-----------------------------------------------------------------\n",
      "Epoch: 59; Bad epochs: 0\n"
     ]
    },
    {
     "name": "stderr",
     "output_type": "stream",
     "text": [
      "100%|██████████████████████████████████████████████████████████████| 78/78 [00:02<00:00, 36.85it/s]\n"
     ]
    },
    {
     "name": "stdout",
     "output_type": "stream",
     "text": [
      "Loss: 0.6203550659120083\n",
      "Average Loss: 0.007953270075794978\n",
      "############### Saving good model ###############################\n",
      "-----------------------------------------------------------------\n",
      "Epoch: 60; Bad epochs: 0\n"
     ]
    },
    {
     "name": "stderr",
     "output_type": "stream",
     "text": [
      "100%|██████████████████████████████████████████████████████████████| 78/78 [00:02<00:00, 38.12it/s]\n"
     ]
    },
    {
     "name": "stdout",
     "output_type": "stream",
     "text": [
      "Loss: 0.6167903244495392\n",
      "Average Loss: 0.00790756826217358\n",
      "############### Saving good model ###############################\n",
      "-----------------------------------------------------------------\n",
      "Epoch: 61; Bad epochs: 0\n"
     ]
    },
    {
     "name": "stderr",
     "output_type": "stream",
     "text": [
      "100%|██████████████████████████████████████████████████████████████| 78/78 [00:01<00:00, 39.14it/s]\n"
     ]
    },
    {
     "name": "stdout",
     "output_type": "stream",
     "text": [
      "Loss: 0.6093713836744428\n",
      "Average Loss: 0.00781245363685183\n",
      "############### Saving good model ###############################\n",
      "-----------------------------------------------------------------\n",
      "Epoch: 62; Bad epochs: 0\n"
     ]
    },
    {
     "name": "stderr",
     "output_type": "stream",
     "text": [
      "100%|██████████████████████████████████████████████████████████████| 78/78 [00:01<00:00, 39.28it/s]\n"
     ]
    },
    {
     "name": "stdout",
     "output_type": "stream",
     "text": [
      "Loss: 0.6029095849953592\n",
      "Average Loss: 0.0077296100640430665\n",
      "############### Saving good model ###############################\n",
      "-----------------------------------------------------------------\n",
      "Epoch: 63; Bad epochs: 0\n"
     ]
    },
    {
     "name": "stderr",
     "output_type": "stream",
     "text": [
      "100%|██████████████████████████████████████████████████████████████| 78/78 [00:01<00:00, 39.32it/s]\n"
     ]
    },
    {
     "name": "stdout",
     "output_type": "stream",
     "text": [
      "Loss: 0.593226763419807\n",
      "Average Loss: 0.007605471325894961\n",
      "############### Saving good model ###############################\n",
      "-----------------------------------------------------------------\n",
      "Epoch: 64; Bad epochs: 0\n"
     ]
    },
    {
     "name": "stderr",
     "output_type": "stream",
     "text": [
      "100%|██████████████████████████████████████████████████████████████| 78/78 [00:02<00:00, 38.71it/s]\n"
     ]
    },
    {
     "name": "stdout",
     "output_type": "stream",
     "text": [
      "Loss: 0.5857206750661135\n",
      "Average Loss: 0.007509239423924532\n",
      "############### Saving good model ###############################\n",
      "-----------------------------------------------------------------\n",
      "Epoch: 65; Bad epochs: 0\n"
     ]
    },
    {
     "name": "stderr",
     "output_type": "stream",
     "text": [
      "100%|██████████████████████████████████████████████████████████████| 78/78 [00:02<00:00, 38.79it/s]\n"
     ]
    },
    {
     "name": "stdout",
     "output_type": "stream",
     "text": [
      "Loss: 0.5803166530095041\n",
      "Average Loss: 0.007439957089865437\n",
      "############### Saving good model ###############################\n",
      "-----------------------------------------------------------------\n",
      "Epoch: 66; Bad epochs: 0\n"
     ]
    },
    {
     "name": "stderr",
     "output_type": "stream",
     "text": [
      "100%|██████████████████████████████████████████████████████████████| 78/78 [00:02<00:00, 38.91it/s]\n"
     ]
    },
    {
     "name": "stdout",
     "output_type": "stream",
     "text": [
      "Loss: 0.5727239497937262\n",
      "Average Loss: 0.007342614740945208\n",
      "############### Saving good model ###############################\n",
      "-----------------------------------------------------------------\n",
      "Epoch: 67; Bad epochs: 0\n"
     ]
    },
    {
     "name": "stderr",
     "output_type": "stream",
     "text": [
      "100%|██████████████████████████████████████████████████████████████| 78/78 [00:01<00:00, 39.21it/s]\n"
     ]
    },
    {
     "name": "stdout",
     "output_type": "stream",
     "text": [
      "Loss: 0.5672460999339819\n",
      "Average Loss: 0.007272385896589511\n",
      "############### Saving good model ###############################\n",
      "-----------------------------------------------------------------\n",
      "Epoch: 68; Bad epochs: 0\n"
     ]
    },
    {
     "name": "stderr",
     "output_type": "stream",
     "text": [
      "100%|██████████████████████████████████████████████████████████████| 78/78 [00:01<00:00, 39.34it/s]\n"
     ]
    },
    {
     "name": "stdout",
     "output_type": "stream",
     "text": [
      "Loss: 0.5579163110814989\n",
      "Average Loss: 0.007152773218993575\n",
      "############### Saving good model ###############################\n",
      "-----------------------------------------------------------------\n",
      "Epoch: 69; Bad epochs: 0\n"
     ]
    },
    {
     "name": "stderr",
     "output_type": "stream",
     "text": [
      "100%|██████████████████████████████████████████████████████████████| 78/78 [00:01<00:00, 39.09it/s]\n"
     ]
    },
    {
     "name": "stdout",
     "output_type": "stream",
     "text": [
      "Loss: 0.5553484288975596\n",
      "Average Loss: 0.007119851652532816\n",
      "############### Saving good model ###############################\n",
      "-----------------------------------------------------------------\n",
      "Epoch: 70; Bad epochs: 0\n"
     ]
    },
    {
     "name": "stderr",
     "output_type": "stream",
     "text": [
      "100%|██████████████████████████████████████████████████████████████| 78/78 [00:01<00:00, 39.16it/s]\n"
     ]
    },
    {
     "name": "stdout",
     "output_type": "stream",
     "text": [
      "Loss: 0.5463835028931499\n",
      "Average Loss: 0.007004916703758331\n",
      "############### Saving good model ###############################\n",
      "-----------------------------------------------------------------\n",
      "Epoch: 71; Bad epochs: 0\n"
     ]
    },
    {
     "name": "stderr",
     "output_type": "stream",
     "text": [
      "100%|██████████████████████████████████████████████████████████████| 78/78 [00:01<00:00, 39.31it/s]\n"
     ]
    },
    {
     "name": "stdout",
     "output_type": "stream",
     "text": [
      "Loss: 0.5421416074968874\n",
      "Average Loss: 0.006950533429447275\n",
      "############### Saving good model ###############################\n",
      "-----------------------------------------------------------------\n",
      "Epoch: 72; Bad epochs: 0\n"
     ]
    },
    {
     "name": "stderr",
     "output_type": "stream",
     "text": [
      "100%|██████████████████████████████████████████████████████████████| 78/78 [00:01<00:00, 39.07it/s]\n"
     ]
    },
    {
     "name": "stdout",
     "output_type": "stream",
     "text": [
      "Loss: 0.5318312966264784\n",
      "Average Loss: 0.006818349956749723\n",
      "############### Saving good model ###############################\n",
      "-----------------------------------------------------------------\n",
      "Epoch: 73; Bad epochs: 0\n"
     ]
    },
    {
     "name": "stderr",
     "output_type": "stream",
     "text": [
      "100%|██████████████████████████████████████████████████████████████| 78/78 [00:01<00:00, 39.48it/s]\n"
     ]
    },
    {
     "name": "stdout",
     "output_type": "stream",
     "text": [
      "Loss: 0.5238697729073465\n",
      "Average Loss: 0.006716279139837775\n",
      "############### Saving good model ###############################\n",
      "-----------------------------------------------------------------\n",
      "Epoch: 74; Bad epochs: 0\n"
     ]
    },
    {
     "name": "stderr",
     "output_type": "stream",
     "text": [
      "100%|██████████████████████████████████████████████████████████████| 78/78 [00:02<00:00, 38.59it/s]\n"
     ]
    },
    {
     "name": "stdout",
     "output_type": "stream",
     "text": [
      "Loss: 0.5236220955848694\n",
      "Average Loss: 0.006713103789549608\n",
      "############### Saving good model ###############################\n",
      "-----------------------------------------------------------------\n",
      "Epoch: 75; Bad epochs: 0\n"
     ]
    },
    {
     "name": "stderr",
     "output_type": "stream",
     "text": [
      "100%|██████████████████████████████████████████████████████████████| 78/78 [00:01<00:00, 39.13it/s]\n"
     ]
    },
    {
     "name": "stdout",
     "output_type": "stream",
     "text": [
      "Loss: 0.5151829393580556\n",
      "Average Loss: 0.00660490947894943\n",
      "############### Saving good model ###############################\n",
      "-----------------------------------------------------------------\n",
      "Epoch: 76; Bad epochs: 0\n"
     ]
    },
    {
     "name": "stderr",
     "output_type": "stream",
     "text": [
      "100%|██████████████████████████████████████████████████████████████| 78/78 [00:01<00:00, 39.36it/s]\n"
     ]
    },
    {
     "name": "stdout",
     "output_type": "stream",
     "text": [
      "Loss: 0.5088867843151093\n",
      "Average Loss: 0.0065241895425014\n",
      "############### Saving good model ###############################\n",
      "-----------------------------------------------------------------\n",
      "Epoch: 77; Bad epochs: 0\n"
     ]
    },
    {
     "name": "stderr",
     "output_type": "stream",
     "text": [
      "100%|██████████████████████████████████████████████████████████████| 78/78 [00:01<00:00, 39.38it/s]\n"
     ]
    },
    {
     "name": "stdout",
     "output_type": "stream",
     "text": [
      "Loss: 0.5029440461657941\n",
      "Average Loss: 0.006448000591869156\n",
      "############### Saving good model ###############################\n",
      "-----------------------------------------------------------------\n",
      "Epoch: 78; Bad epochs: 0\n"
     ]
    },
    {
     "name": "stderr",
     "output_type": "stream",
     "text": [
      "100%|██████████████████████████████████████████████████████████████| 78/78 [00:01<00:00, 39.19it/s]\n"
     ]
    },
    {
     "name": "stdout",
     "output_type": "stream",
     "text": [
      "Loss: 0.4985892870463431\n",
      "Average Loss: 0.006392170346747988\n",
      "############### Saving good model ###############################\n",
      "-----------------------------------------------------------------\n",
      "Epoch: 79; Bad epochs: 0\n"
     ]
    },
    {
     "name": "stderr",
     "output_type": "stream",
     "text": [
      "100%|██████████████████████████████████████████████████████████████| 78/78 [00:02<00:00, 38.98it/s]\n"
     ]
    },
    {
     "name": "stdout",
     "output_type": "stream",
     "text": [
      "Loss: 0.4941425919532776\n",
      "Average Loss: 0.006335161435298431\n",
      "############### Saving good model ###############################\n",
      "-----------------------------------------------------------------\n",
      "Epoch: 80; Bad epochs: 0\n"
     ]
    },
    {
     "name": "stderr",
     "output_type": "stream",
     "text": [
      "100%|██████████████████████████████████████████████████████████████| 78/78 [00:01<00:00, 39.08it/s]\n"
     ]
    },
    {
     "name": "stdout",
     "output_type": "stream",
     "text": [
      "Loss: 0.484470066614449\n",
      "Average Loss: 0.006211154700185244\n",
      "############### Saving good model ###############################\n",
      "-----------------------------------------------------------------\n",
      "Epoch: 81; Bad epochs: 0\n"
     ]
    },
    {
     "name": "stderr",
     "output_type": "stream",
     "text": [
      "100%|██████████████████████████████████████████████████████████████| 78/78 [00:01<00:00, 39.44it/s]\n"
     ]
    },
    {
     "name": "stdout",
     "output_type": "stream",
     "text": [
      "Loss: 0.4852137337438762\n",
      "Average Loss: 0.0062206888941522594\n",
      "-----------------------------------------------------------------\n",
      "Epoch: 82; Bad epochs: 1\n"
     ]
    },
    {
     "name": "stderr",
     "output_type": "stream",
     "text": [
      "100%|██████████████████████████████████████████████████████████████| 78/78 [00:02<00:00, 38.99it/s]\n"
     ]
    },
    {
     "name": "stdout",
     "output_type": "stream",
     "text": [
      "Loss: 0.47773672081530094\n",
      "Average Loss: 0.00612482975404232\n",
      "############### Saving good model ###############################\n",
      "-----------------------------------------------------------------\n",
      "Epoch: 83; Bad epochs: 0\n"
     ]
    },
    {
     "name": "stderr",
     "output_type": "stream",
     "text": [
      "100%|██████████████████████████████████████████████████████████████| 78/78 [00:01<00:00, 39.09it/s]\n"
     ]
    },
    {
     "name": "stdout",
     "output_type": "stream",
     "text": [
      "Loss: 0.46666932315565646\n",
      "Average Loss: 0.005982940040457134\n",
      "############### Saving good model ###############################\n",
      "-----------------------------------------------------------------\n",
      "Epoch: 84; Bad epochs: 0\n"
     ]
    },
    {
     "name": "stderr",
     "output_type": "stream",
     "text": [
      "100%|██████████████████████████████████████████████████████████████| 78/78 [00:02<00:00, 38.31it/s]\n"
     ]
    },
    {
     "name": "stdout",
     "output_type": "stream",
     "text": [
      "Loss: 0.47039327025413513\n",
      "Average Loss: 0.006030682951976092\n",
      "-----------------------------------------------------------------\n",
      "Epoch: 85; Bad epochs: 1\n"
     ]
    },
    {
     "name": "stderr",
     "output_type": "stream",
     "text": [
      "100%|██████████████████████████████████████████████████████████████| 78/78 [00:02<00:00, 39.00it/s]\n"
     ]
    },
    {
     "name": "stdout",
     "output_type": "stream",
     "text": [
      "Loss: 0.4649267215281725\n",
      "Average Loss: 0.0059605989939509295\n",
      "############### Saving good model ###############################\n",
      "-----------------------------------------------------------------\n",
      "Epoch: 86; Bad epochs: 0\n"
     ]
    },
    {
     "name": "stderr",
     "output_type": "stream",
     "text": [
      "100%|██████████████████████████████████████████████████████████████| 78/78 [00:01<00:00, 39.27it/s]\n"
     ]
    },
    {
     "name": "stdout",
     "output_type": "stream",
     "text": [
      "Loss: 0.45823304541409016\n",
      "Average Loss: 0.005874782633513977\n",
      "############### Saving good model ###############################\n",
      "-----------------------------------------------------------------\n",
      "Epoch: 87; Bad epochs: 0\n"
     ]
    },
    {
     "name": "stderr",
     "output_type": "stream",
     "text": [
      "100%|██████████████████████████████████████████████████████████████| 78/78 [00:01<00:00, 39.13it/s]\n"
     ]
    },
    {
     "name": "stdout",
     "output_type": "stream",
     "text": [
      "Loss: 0.45259683090262115\n",
      "Average Loss: 0.005802523473110528\n",
      "############### Saving good model ###############################\n",
      "-----------------------------------------------------------------\n",
      "Epoch: 88; Bad epochs: 0\n"
     ]
    },
    {
     "name": "stderr",
     "output_type": "stream",
     "text": [
      "100%|██████████████████████████████████████████████████████████████| 78/78 [00:01<00:00, 39.18it/s]\n"
     ]
    },
    {
     "name": "stdout",
     "output_type": "stream",
     "text": [
      "Loss: 0.44636743096634746\n",
      "Average Loss: 0.005722659371363429\n",
      "############### Saving good model ###############################\n",
      "-----------------------------------------------------------------\n",
      "Epoch: 89; Bad epochs: 0\n"
     ]
    },
    {
     "name": "stderr",
     "output_type": "stream",
     "text": [
      "100%|██████████████████████████████████████████████████████████████| 78/78 [00:02<00:00, 37.88it/s]\n"
     ]
    },
    {
     "name": "stdout",
     "output_type": "stream",
     "text": [
      "Loss: 0.441142339957878\n",
      "Average Loss: 0.0056556710251009995\n",
      "############### Saving good model ###############################\n",
      "-----------------------------------------------------------------\n",
      "Epoch: 90; Bad epochs: 0\n"
     ]
    },
    {
     "name": "stderr",
     "output_type": "stream",
     "text": [
      "100%|██████████████████████████████████████████████████████████████| 78/78 [00:02<00:00, 38.15it/s]\n"
     ]
    },
    {
     "name": "stdout",
     "output_type": "stream",
     "text": [
      "Loss: 0.43791516846977174\n",
      "Average Loss: 0.00561429703166374\n",
      "############### Saving good model ###############################\n",
      "-----------------------------------------------------------------\n",
      "Epoch: 91; Bad epochs: 0\n"
     ]
    },
    {
     "name": "stderr",
     "output_type": "stream",
     "text": [
      "100%|██████████████████████████████████████████████████████████████| 78/78 [00:01<00:00, 39.35it/s]\n"
     ]
    },
    {
     "name": "stdout",
     "output_type": "stream",
     "text": [
      "Loss: 0.43772989977151155\n",
      "Average Loss: 0.005611921791942456\n",
      "############### Saving good model ###############################\n",
      "-----------------------------------------------------------------\n",
      "Epoch: 92; Bad epochs: 0\n"
     ]
    },
    {
     "name": "stderr",
     "output_type": "stream",
     "text": [
      "100%|██████████████████████████████████████████████████████████████| 78/78 [00:01<00:00, 39.30it/s]\n"
     ]
    },
    {
     "name": "stdout",
     "output_type": "stream",
     "text": [
      "Loss: 0.4326667785644531\n",
      "Average Loss: 0.0055470099815955526\n",
      "############### Saving good model ###############################\n",
      "-----------------------------------------------------------------\n",
      "Epoch: 93; Bad epochs: 0\n"
     ]
    },
    {
     "name": "stderr",
     "output_type": "stream",
     "text": [
      "100%|██████████████████████████████████████████████████████████████| 78/78 [00:01<00:00, 39.10it/s]\n"
     ]
    },
    {
     "name": "stdout",
     "output_type": "stream",
     "text": [
      "Loss: 0.42592447879724205\n",
      "Average Loss: 0.005460570240990283\n",
      "############### Saving good model ###############################\n",
      "-----------------------------------------------------------------\n",
      "Epoch: 94; Bad epochs: 0\n"
     ]
    },
    {
     "name": "stderr",
     "output_type": "stream",
     "text": [
      "100%|██████████████████████████████████████████████████████████████| 78/78 [00:02<00:00, 38.90it/s]\n"
     ]
    },
    {
     "name": "stdout",
     "output_type": "stream",
     "text": [
      "Loss: 0.4239446057472378\n",
      "Average Loss: 0.005435187253169715\n",
      "############### Saving good model ###############################\n",
      "-----------------------------------------------------------------\n",
      "Epoch: 95; Bad epochs: 0\n"
     ]
    },
    {
     "name": "stderr",
     "output_type": "stream",
     "text": [
      "100%|██████████████████████████████████████████████████████████████| 78/78 [00:01<00:00, 39.32it/s]\n"
     ]
    },
    {
     "name": "stdout",
     "output_type": "stream",
     "text": [
      "Loss: 0.4183201885316521\n",
      "Average Loss: 0.005363079340149386\n",
      "############### Saving good model ###############################\n",
      "-----------------------------------------------------------------\n",
      "Epoch: 96; Bad epochs: 0\n"
     ]
    },
    {
     "name": "stderr",
     "output_type": "stream",
     "text": [
      "100%|██████████████████████████████████████████████████████████████| 78/78 [00:01<00:00, 39.40it/s]\n"
     ]
    },
    {
     "name": "stdout",
     "output_type": "stream",
     "text": [
      "Loss: 0.4170772812794894\n",
      "Average Loss: 0.0053471446317883255\n",
      "############### Saving good model ###############################\n",
      "-----------------------------------------------------------------\n",
      "Epoch: 97; Bad epochs: 0\n"
     ]
    },
    {
     "name": "stderr",
     "output_type": "stream",
     "text": [
      "100%|██████████████████████████████████████████████████████████████| 78/78 [00:01<00:00, 39.20it/s]\n"
     ]
    },
    {
     "name": "stdout",
     "output_type": "stream",
     "text": [
      "Loss: 0.40898808697238564\n",
      "Average Loss: 0.005243437012466483\n",
      "############### Saving good model ###############################\n",
      "-----------------------------------------------------------------\n",
      "Epoch: 98; Bad epochs: 0\n"
     ]
    },
    {
     "name": "stderr",
     "output_type": "stream",
     "text": [
      "100%|██████████████████████████████████████████████████████████████| 78/78 [00:02<00:00, 36.36it/s]\n"
     ]
    },
    {
     "name": "stdout",
     "output_type": "stream",
     "text": [
      "Loss: 0.4055851974990219\n",
      "Average Loss: 0.005199810224346435\n",
      "############### Saving good model ###############################\n",
      "-----------------------------------------------------------------\n",
      "Epoch: 99; Bad epochs: 0\n"
     ]
    },
    {
     "name": "stderr",
     "output_type": "stream",
     "text": [
      "100%|██████████████████████████████████████████████████████████████| 78/78 [00:02<00:00, 38.45it/s]\n"
     ]
    },
    {
     "name": "stdout",
     "output_type": "stream",
     "text": [
      "Loss: 0.40372261009179056\n",
      "Average Loss: 0.0051759308986126995\n",
      "############### Saving good model ###############################\n",
      "-----------------------------------------------------------------\n",
      "Epoch: 100; Bad epochs: 0\n"
     ]
    },
    {
     "name": "stderr",
     "output_type": "stream",
     "text": [
      "100%|██████████████████████████████████████████████████████████████| 78/78 [00:02<00:00, 35.43it/s]\n"
     ]
    },
    {
     "name": "stdout",
     "output_type": "stream",
     "text": [
      "Loss: 0.39856209186837077\n",
      "Average Loss: 0.005109770408568856\n",
      "############### Saving good model ###############################\n",
      "-----------------------------------------------------------------\n",
      "Epoch: 101; Bad epochs: 0\n"
     ]
    },
    {
     "name": "stderr",
     "output_type": "stream",
     "text": [
      "100%|██████████████████████████████████████████████████████████████| 78/78 [00:02<00:00, 33.70it/s]\n"
     ]
    },
    {
     "name": "stdout",
     "output_type": "stream",
     "text": [
      "Loss: 0.396859263535589\n",
      "Average Loss: 0.005087939276097295\n",
      "############### Saving good model ###############################\n",
      "-----------------------------------------------------------------\n",
      "Epoch: 102; Bad epochs: 0\n"
     ]
    },
    {
     "name": "stderr",
     "output_type": "stream",
     "text": [
      "100%|██████████████████████████████████████████████████████████████| 78/78 [00:02<00:00, 33.53it/s]\n"
     ]
    },
    {
     "name": "stdout",
     "output_type": "stream",
     "text": [
      "Loss: 0.39469227474182844\n",
      "Average Loss: 0.00506015736848498\n",
      "############### Saving good model ###############################\n",
      "-----------------------------------------------------------------\n",
      "Epoch: 103; Bad epochs: 0\n"
     ]
    },
    {
     "name": "stderr",
     "output_type": "stream",
     "text": [
      "100%|██████████████████████████████████████████████████████████████| 78/78 [00:02<00:00, 38.25it/s]\n"
     ]
    },
    {
     "name": "stdout",
     "output_type": "stream",
     "text": [
      "Loss: 0.38550516590476036\n",
      "Average Loss: 0.004942373921855902\n",
      "############### Saving good model ###############################\n",
      "-----------------------------------------------------------------\n",
      "Epoch: 104; Bad epochs: 0\n"
     ]
    },
    {
     "name": "stderr",
     "output_type": "stream",
     "text": [
      "100%|██████████████████████████████████████████████████████████████| 78/78 [00:02<00:00, 37.90it/s]\n"
     ]
    },
    {
     "name": "stdout",
     "output_type": "stream",
     "text": [
      "Loss: 0.3854733023326844\n",
      "Average Loss: 0.0049419654145215946\n",
      "############### Saving good model ###############################\n",
      "-----------------------------------------------------------------\n",
      "Epoch: 105; Bad epochs: 0\n"
     ]
    },
    {
     "name": "stderr",
     "output_type": "stream",
     "text": [
      "100%|██████████████████████████████████████████████████████████████| 78/78 [00:02<00:00, 38.11it/s]\n"
     ]
    },
    {
     "name": "stdout",
     "output_type": "stream",
     "text": [
      "Loss: 0.3811835946980864\n",
      "Average Loss: 0.0048869691627959795\n",
      "############### Saving good model ###############################\n",
      "-----------------------------------------------------------------\n",
      "Epoch: 106; Bad epochs: 0\n"
     ]
    },
    {
     "name": "stderr",
     "output_type": "stream",
     "text": [
      "100%|██████████████████████████████████████████████████████████████| 78/78 [00:02<00:00, 38.44it/s]\n"
     ]
    },
    {
     "name": "stdout",
     "output_type": "stream",
     "text": [
      "Loss: 0.3816883987747133\n",
      "Average Loss: 0.004893441009932222\n",
      "-----------------------------------------------------------------\n",
      "Epoch: 107; Bad epochs: 1\n"
     ]
    },
    {
     "name": "stderr",
     "output_type": "stream",
     "text": [
      "100%|██████████████████████████████████████████████████████████████| 78/78 [00:02<00:00, 38.60it/s]\n"
     ]
    },
    {
     "name": "stdout",
     "output_type": "stream",
     "text": [
      "Loss: 0.37469102372415364\n",
      "Average Loss: 0.004803731073386585\n",
      "############### Saving good model ###############################\n",
      "-----------------------------------------------------------------\n",
      "Epoch: 108; Bad epochs: 0\n"
     ]
    },
    {
     "name": "stderr",
     "output_type": "stream",
     "text": [
      "100%|██████████████████████████████████████████████████████████████| 78/78 [00:02<00:00, 38.67it/s]\n"
     ]
    },
    {
     "name": "stdout",
     "output_type": "stream",
     "text": [
      "Loss: 0.3778654143679887\n",
      "Average Loss: 0.0048444283893331885\n",
      "-----------------------------------------------------------------\n",
      "Epoch: 109; Bad epochs: 1\n"
     ]
    },
    {
     "name": "stderr",
     "output_type": "stream",
     "text": [
      "100%|██████████████████████████████████████████████████████████████| 78/78 [00:02<00:00, 38.75it/s]\n"
     ]
    },
    {
     "name": "stdout",
     "output_type": "stream",
     "text": [
      "Loss: 0.37100505270063877\n",
      "Average Loss: 0.0047564750346235736\n",
      "############### Saving good model ###############################\n",
      "-----------------------------------------------------------------\n",
      "Epoch: 110; Bad epochs: 0\n"
     ]
    },
    {
     "name": "stderr",
     "output_type": "stream",
     "text": [
      "100%|██████████████████████████████████████████████████████████████| 78/78 [00:02<00:00, 38.82it/s]\n"
     ]
    },
    {
     "name": "stdout",
     "output_type": "stream",
     "text": [
      "Loss: 0.3704338769894093\n",
      "Average Loss: 0.0047491522690949915\n",
      "############### Saving good model ###############################\n",
      "-----------------------------------------------------------------\n",
      "Epoch: 111; Bad epochs: 0\n"
     ]
    },
    {
     "name": "stderr",
     "output_type": "stream",
     "text": [
      "100%|██████████████████████████████████████████████████████████████| 78/78 [00:02<00:00, 38.83it/s]\n"
     ]
    },
    {
     "name": "stdout",
     "output_type": "stream",
     "text": [
      "Loss: 0.3674453014973551\n",
      "Average Loss: 0.0047108371986840395\n",
      "############### Saving good model ###############################\n",
      "-----------------------------------------------------------------\n",
      "Epoch: 112; Bad epochs: 0\n"
     ]
    },
    {
     "name": "stderr",
     "output_type": "stream",
     "text": [
      "100%|██████████████████████████████████████████████████████████████| 78/78 [00:02<00:00, 38.83it/s]\n"
     ]
    },
    {
     "name": "stdout",
     "output_type": "stream",
     "text": [
      "Loss: 0.3639329746365547\n",
      "Average Loss: 0.004665807367135317\n",
      "############### Saving good model ###############################\n",
      "-----------------------------------------------------------------\n",
      "Epoch: 113; Bad epochs: 0\n"
     ]
    },
    {
     "name": "stderr",
     "output_type": "stream",
     "text": [
      "100%|██████████████████████████████████████████████████████████████| 78/78 [00:02<00:00, 38.67it/s]\n"
     ]
    },
    {
     "name": "stdout",
     "output_type": "stream",
     "text": [
      "Loss: 0.3594564185477793\n",
      "Average Loss: 0.004608415622407427\n",
      "############### Saving good model ###############################\n",
      "-----------------------------------------------------------------\n",
      "Epoch: 114; Bad epochs: 0\n"
     ]
    },
    {
     "name": "stderr",
     "output_type": "stream",
     "text": [
      "100%|██████████████████████████████████████████████████████████████| 78/78 [00:02<00:00, 38.95it/s]\n"
     ]
    },
    {
     "name": "stdout",
     "output_type": "stream",
     "text": [
      "Loss: 0.35355157288722694\n",
      "Average Loss: 0.004532712472913166\n",
      "############### Saving good model ###############################\n",
      "-----------------------------------------------------------------\n",
      "Epoch: 115; Bad epochs: 0\n"
     ]
    },
    {
     "name": "stderr",
     "output_type": "stream",
     "text": [
      "100%|██████████████████████████████████████████████████████████████| 78/78 [00:02<00:00, 38.88it/s]\n"
     ]
    },
    {
     "name": "stdout",
     "output_type": "stream",
     "text": [
      "Loss: 0.35385917755775154\n",
      "Average Loss: 0.004536656122535276\n",
      "-----------------------------------------------------------------\n",
      "Epoch: 116; Bad epochs: 1\n"
     ]
    },
    {
     "name": "stderr",
     "output_type": "stream",
     "text": [
      "100%|██████████████████████████████████████████████████████████████| 78/78 [00:02<00:00, 38.91it/s]\n"
     ]
    },
    {
     "name": "stdout",
     "output_type": "stream",
     "text": [
      "Loss: 0.350830647861585\n",
      "Average Loss: 0.00449782881873827\n",
      "############### Saving good model ###############################\n",
      "-----------------------------------------------------------------\n",
      "Epoch: 117; Bad epochs: 0\n"
     ]
    },
    {
     "name": "stderr",
     "output_type": "stream",
     "text": [
      "100%|██████████████████████████████████████████████████████████████| 78/78 [00:02<00:00, 38.60it/s]\n"
     ]
    },
    {
     "name": "stdout",
     "output_type": "stream",
     "text": [
      "Loss: 0.3493379659485072\n",
      "Average Loss: 0.004478691871134708\n",
      "############### Saving good model ###############################\n",
      "-----------------------------------------------------------------\n",
      "Epoch: 118; Bad epochs: 0\n"
     ]
    },
    {
     "name": "stderr",
     "output_type": "stream",
     "text": [
      "100%|██████████████████████████████████████████████████████████████| 78/78 [00:02<00:00, 37.91it/s]\n"
     ]
    },
    {
     "name": "stdout",
     "output_type": "stream",
     "text": [
      "Loss: 0.3526181902270764\n",
      "Average Loss: 0.004520746028552262\n",
      "-----------------------------------------------------------------\n",
      "Epoch: 119; Bad epochs: 1\n"
     ]
    },
    {
     "name": "stderr",
     "output_type": "stream",
     "text": [
      "100%|██████████████████████████████████████████████████████████████| 78/78 [00:02<00:00, 38.70it/s]\n"
     ]
    },
    {
     "name": "stdout",
     "output_type": "stream",
     "text": [
      "Loss: 0.3460095631889999\n",
      "Average Loss: 0.004436020040884614\n",
      "############### Saving good model ###############################\n",
      "-----------------------------------------------------------------\n",
      "Epoch: 120; Bad epochs: 0\n"
     ]
    },
    {
     "name": "stderr",
     "output_type": "stream",
     "text": [
      "100%|██████████████████████████████████████████████████████████████| 78/78 [00:02<00:00, 38.89it/s]\n"
     ]
    },
    {
     "name": "stdout",
     "output_type": "stream",
     "text": [
      "Loss: 0.3466804053168744\n",
      "Average Loss: 0.004444620580985569\n",
      "-----------------------------------------------------------------\n",
      "Epoch: 121; Bad epochs: 1\n"
     ]
    },
    {
     "name": "stderr",
     "output_type": "stream",
     "text": [
      "100%|██████████████████████████████████████████████████████████████| 78/78 [00:02<00:00, 38.52it/s]\n"
     ]
    },
    {
     "name": "stdout",
     "output_type": "stream",
     "text": [
      "Loss: 0.33976463275030255\n",
      "Average Loss: 0.004355956830132084\n",
      "############### Saving good model ###############################\n",
      "-----------------------------------------------------------------\n",
      "Epoch: 122; Bad epochs: 0\n"
     ]
    },
    {
     "name": "stderr",
     "output_type": "stream",
     "text": [
      "100%|██████████████████████████████████████████████████████████████| 78/78 [00:02<00:00, 38.82it/s]\n"
     ]
    },
    {
     "name": "stdout",
     "output_type": "stream",
     "text": [
      "Loss: 0.341746979393065\n",
      "Average Loss: 0.00438137153068032\n",
      "-----------------------------------------------------------------\n",
      "Epoch: 123; Bad epochs: 1\n"
     ]
    },
    {
     "name": "stderr",
     "output_type": "stream",
     "text": [
      "100%|██████████████████████████████████████████████████████████████| 78/78 [00:02<00:00, 38.77it/s]\n"
     ]
    },
    {
     "name": "stdout",
     "output_type": "stream",
     "text": [
      "Loss: 0.34092044993303716\n",
      "Average Loss: 0.004370774999141502\n",
      "-----------------------------------------------------------------\n",
      "Epoch: 124; Bad epochs: 2\n"
     ]
    },
    {
     "name": "stderr",
     "output_type": "stream",
     "text": [
      "100%|██████████████████████████████████████████████████████████████| 78/78 [00:02<00:00, 38.37it/s]\n"
     ]
    },
    {
     "name": "stdout",
     "output_type": "stream",
     "text": [
      "Loss: 0.33825225895270705\n",
      "Average Loss: 0.004336567422470603\n",
      "############### Saving good model ###############################\n",
      "-----------------------------------------------------------------\n",
      "Epoch: 125; Bad epochs: 0\n"
     ]
    },
    {
     "name": "stderr",
     "output_type": "stream",
     "text": [
      "100%|██████████████████████████████████████████████████████████████| 78/78 [00:02<00:00, 38.90it/s]\n"
     ]
    },
    {
     "name": "stdout",
     "output_type": "stream",
     "text": [
      "Loss: 0.3354981418233365\n",
      "Average Loss: 0.004301258228504314\n",
      "############### Saving good model ###############################\n",
      "-----------------------------------------------------------------\n",
      "Epoch: 126; Bad epochs: 0\n"
     ]
    },
    {
     "name": "stderr",
     "output_type": "stream",
     "text": [
      "100%|██████████████████████████████████████████████████████████████| 78/78 [00:02<00:00, 38.56it/s]\n"
     ]
    },
    {
     "name": "stdout",
     "output_type": "stream",
     "text": [
      "Loss: 0.3350253324024379\n",
      "Average Loss: 0.004295196569262025\n",
      "############### Saving good model ###############################\n",
      "-----------------------------------------------------------------\n",
      "Epoch: 127; Bad epochs: 0\n"
     ]
    },
    {
     "name": "stderr",
     "output_type": "stream",
     "text": [
      "100%|██████████████████████████████████████████████████████████████| 78/78 [00:02<00:00, 38.63it/s]\n"
     ]
    },
    {
     "name": "stdout",
     "output_type": "stream",
     "text": [
      "Loss: 0.33093909989111125\n",
      "Average Loss: 0.004242808972962965\n",
      "############### Saving good model ###############################\n",
      "-----------------------------------------------------------------\n",
      "Epoch: 128; Bad epochs: 0\n"
     ]
    },
    {
     "name": "stderr",
     "output_type": "stream",
     "text": [
      "100%|██████████████████████████████████████████████████████████████| 78/78 [00:02<00:00, 38.64it/s]\n"
     ]
    },
    {
     "name": "stdout",
     "output_type": "stream",
     "text": [
      "Loss: 0.3322503827512264\n",
      "Average Loss: 0.0042596202916823905\n",
      "-----------------------------------------------------------------\n",
      "Epoch: 129; Bad epochs: 1\n"
     ]
    },
    {
     "name": "stderr",
     "output_type": "stream",
     "text": [
      "100%|██████████████████████████████████████████████████████████████| 78/78 [00:02<00:00, 38.48it/s]\n"
     ]
    },
    {
     "name": "stdout",
     "output_type": "stream",
     "text": [
      "Loss: 0.32880997005850077\n",
      "Average Loss: 0.004215512436647446\n",
      "############### Saving good model ###############################\n",
      "-----------------------------------------------------------------\n",
      "Epoch: 130; Bad epochs: 0\n"
     ]
    },
    {
     "name": "stderr",
     "output_type": "stream",
     "text": [
      "100%|██████████████████████████████████████████████████████████████| 78/78 [00:02<00:00, 38.67it/s]\n"
     ]
    },
    {
     "name": "stdout",
     "output_type": "stream",
     "text": [
      "Loss: 0.3276512483134866\n",
      "Average Loss: 0.004200657029660084\n",
      "############### Saving good model ###############################\n",
      "-----------------------------------------------------------------\n",
      "Epoch: 131; Bad epochs: 0\n"
     ]
    },
    {
     "name": "stderr",
     "output_type": "stream",
     "text": [
      "100%|██████████████████████████████████████████████████████████████| 78/78 [00:02<00:00, 38.34it/s]\n"
     ]
    },
    {
     "name": "stdout",
     "output_type": "stream",
     "text": [
      "Loss: 0.3277464851271361\n",
      "Average Loss: 0.0042018780144504626\n",
      "-----------------------------------------------------------------\n",
      "Epoch: 132; Bad epochs: 1\n"
     ]
    },
    {
     "name": "stderr",
     "output_type": "stream",
     "text": [
      "100%|██████████████████████████████████████████████████████████████| 78/78 [00:02<00:00, 38.34it/s]\n"
     ]
    },
    {
     "name": "stdout",
     "output_type": "stream",
     "text": [
      "Loss: 0.3202566185500473\n",
      "Average Loss: 0.004105854083974965\n",
      "############### Saving good model ###############################\n",
      "-----------------------------------------------------------------\n",
      "Epoch: 133; Bad epochs: 0\n"
     ]
    },
    {
     "name": "stderr",
     "output_type": "stream",
     "text": [
      "100%|██████████████████████████████████████████████████████████████| 78/78 [00:02<00:00, 38.76it/s]\n"
     ]
    },
    {
     "name": "stdout",
     "output_type": "stream",
     "text": [
      "Loss: 0.3166694692336023\n",
      "Average Loss: 0.0040598649901743885\n",
      "############### Saving good model ###############################\n",
      "-----------------------------------------------------------------\n",
      "Epoch: 134; Bad epochs: 0\n"
     ]
    },
    {
     "name": "stderr",
     "output_type": "stream",
     "text": [
      "100%|██████████████████████████████████████████████████████████████| 78/78 [00:02<00:00, 38.61it/s]\n"
     ]
    },
    {
     "name": "stdout",
     "output_type": "stream",
     "text": [
      "Loss: 0.32215437828563154\n",
      "Average Loss: 0.004130184336995276\n",
      "-----------------------------------------------------------------\n",
      "Epoch: 135; Bad epochs: 1\n"
     ]
    },
    {
     "name": "stderr",
     "output_type": "stream",
     "text": [
      "100%|██████████████████████████████████████████████████████████████| 78/78 [00:02<00:00, 38.63it/s]\n"
     ]
    },
    {
     "name": "stdout",
     "output_type": "stream",
     "text": [
      "Loss: 0.3201592480763793\n",
      "Average Loss: 0.004104605744568965\n",
      "-----------------------------------------------------------------\n",
      "Epoch: 136; Bad epochs: 2\n"
     ]
    },
    {
     "name": "stderr",
     "output_type": "stream",
     "text": [
      "100%|██████████████████████████████████████████████████████████████| 78/78 [00:02<00:00, 38.31it/s]\n"
     ]
    },
    {
     "name": "stdout",
     "output_type": "stream",
     "text": [
      "Loss: 0.3155376766808331\n",
      "Average Loss: 0.00404535482924145\n",
      "############### Saving good model ###############################\n",
      "-----------------------------------------------------------------\n",
      "Epoch: 137; Bad epochs: 0\n"
     ]
    },
    {
     "name": "stderr",
     "output_type": "stream",
     "text": [
      "100%|██████████████████████████████████████████████████████████████| 78/78 [00:02<00:00, 38.88it/s]\n"
     ]
    },
    {
     "name": "stdout",
     "output_type": "stream",
     "text": [
      "Loss: 0.31300999177619815\n",
      "Average Loss: 0.004012948612515361\n",
      "############### Saving good model ###############################\n",
      "-----------------------------------------------------------------\n",
      "Epoch: 138; Bad epochs: 0\n"
     ]
    },
    {
     "name": "stderr",
     "output_type": "stream",
     "text": [
      "100%|██████████████████████████████████████████████████████████████| 78/78 [00:02<00:00, 38.67it/s]\n"
     ]
    },
    {
     "name": "stdout",
     "output_type": "stream",
     "text": [
      "Loss: 0.3074422983918339\n",
      "Average Loss: 0.003941567928100435\n",
      "############### Saving good model ###############################\n",
      "-----------------------------------------------------------------\n",
      "Epoch: 139; Bad epochs: 0\n"
     ]
    },
    {
     "name": "stderr",
     "output_type": "stream",
     "text": [
      "100%|██████████████████████████████████████████████████████████████| 78/78 [00:02<00:00, 38.13it/s]\n"
     ]
    },
    {
     "name": "stdout",
     "output_type": "stream",
     "text": [
      "Loss: 0.30722181615419686\n",
      "Average Loss: 0.003938741232746114\n",
      "############### Saving good model ###############################\n",
      "-----------------------------------------------------------------\n",
      "Epoch: 140; Bad epochs: 0\n"
     ]
    },
    {
     "name": "stderr",
     "output_type": "stream",
     "text": [
      "100%|██████████████████████████████████████████████████████████████| 78/78 [00:02<00:00, 38.59it/s]\n"
     ]
    },
    {
     "name": "stdout",
     "output_type": "stream",
     "text": [
      "Loss: 0.30416949023492634\n",
      "Average Loss: 0.0038996088491657223\n",
      "############### Saving good model ###############################\n",
      "-----------------------------------------------------------------\n",
      "Epoch: 141; Bad epochs: 0\n"
     ]
    },
    {
     "name": "stderr",
     "output_type": "stream",
     "text": [
      "100%|██████████████████████████████████████████████████████████████| 78/78 [00:02<00:00, 38.31it/s]\n"
     ]
    },
    {
     "name": "stdout",
     "output_type": "stream",
     "text": [
      "Loss: 0.30160429142415524\n",
      "Average Loss: 0.0038667216849250672\n",
      "############### Saving good model ###############################\n",
      "-----------------------------------------------------------------\n",
      "Epoch: 142; Bad epochs: 0\n"
     ]
    },
    {
     "name": "stderr",
     "output_type": "stream",
     "text": [
      "100%|██████████████████████████████████████████████████████████████| 78/78 [00:02<00:00, 38.74it/s]\n"
     ]
    },
    {
     "name": "stdout",
     "output_type": "stream",
     "text": [
      "Loss: 0.30195717443712056\n",
      "Average Loss: 0.0038712458261169302\n",
      "-----------------------------------------------------------------\n",
      "Epoch: 143; Bad epochs: 1\n"
     ]
    },
    {
     "name": "stderr",
     "output_type": "stream",
     "text": [
      "100%|██████████████████████████████████████████████████████████████| 78/78 [00:02<00:00, 38.65it/s]\n"
     ]
    },
    {
     "name": "stdout",
     "output_type": "stream",
     "text": [
      "Loss: 0.3020571304950863\n",
      "Average Loss: 0.003872527314039568\n",
      "-----------------------------------------------------------------\n",
      "Epoch: 144; Bad epochs: 2\n"
     ]
    },
    {
     "name": "stderr",
     "output_type": "stream",
     "text": [
      "100%|██████████████████████████████████████████████████████████████| 78/78 [00:02<00:00, 38.74it/s]\n"
     ]
    },
    {
     "name": "stdout",
     "output_type": "stream",
     "text": [
      "Loss: 0.3023285542149097\n",
      "Average Loss: 0.0038760071053193547\n",
      "-----------------------------------------------------------------\n",
      "Epoch: 145; Bad epochs: 3\n"
     ]
    },
    {
     "name": "stderr",
     "output_type": "stream",
     "text": [
      "100%|██████████████████████████████████████████████████████████████| 78/78 [00:02<00:00, 38.12it/s]\n"
     ]
    },
    {
     "name": "stdout",
     "output_type": "stream",
     "text": [
      "Loss: 0.30574580654501915\n",
      "Average Loss: 0.0039198180326284505\n",
      "-----------------------------------------------------------------\n",
      "Epoch: 146; Bad epochs: 4\n"
     ]
    },
    {
     "name": "stderr",
     "output_type": "stream",
     "text": [
      "100%|██████████████████████████████████████████████████████████████| 78/78 [00:02<00:00, 38.52it/s]\n"
     ]
    },
    {
     "name": "stdout",
     "output_type": "stream",
     "text": [
      "Loss: 0.30080213234759867\n",
      "Average Loss: 0.003856437594199983\n",
      "############### Saving good model ###############################\n",
      "-----------------------------------------------------------------\n",
      "Epoch: 147; Bad epochs: 0\n"
     ]
    },
    {
     "name": "stderr",
     "output_type": "stream",
     "text": [
      "100%|██████████████████████████████████████████████████████████████| 78/78 [00:02<00:00, 38.70it/s]\n"
     ]
    },
    {
     "name": "stdout",
     "output_type": "stream",
     "text": [
      "Loss: 0.29843413131311536\n",
      "Average Loss: 0.003826078606578402\n",
      "############### Saving good model ###############################\n",
      "-----------------------------------------------------------------\n",
      "Epoch: 148; Bad epochs: 0\n"
     ]
    },
    {
     "name": "stderr",
     "output_type": "stream",
     "text": [
      "100%|██████████████████████████████████████████████████████████████| 78/78 [00:02<00:00, 38.06it/s]\n"
     ]
    },
    {
     "name": "stdout",
     "output_type": "stream",
     "text": [
      "Loss: 0.2976395192090422\n",
      "Average Loss: 0.0038158912719107973\n",
      "############### Saving good model ###############################\n",
      "-----------------------------------------------------------------\n",
      "Epoch: 149; Bad epochs: 0\n"
     ]
    },
    {
     "name": "stderr",
     "output_type": "stream",
     "text": [
      "100%|██████████████████████████████████████████████████████████████| 78/78 [00:02<00:00, 38.14it/s]\n"
     ]
    },
    {
     "name": "stdout",
     "output_type": "stream",
     "text": [
      "Loss: 0.29656197130680084\n",
      "Average Loss: 0.0038020765552153955\n",
      "############### Saving good model ###############################\n",
      "-----------------------------------------------------------------\n",
      "Epoch: 150; Bad epochs: 0\n"
     ]
    },
    {
     "name": "stderr",
     "output_type": "stream",
     "text": [
      "100%|██████████████████████████████████████████████████████████████| 78/78 [00:02<00:00, 38.36it/s]\n"
     ]
    },
    {
     "name": "stdout",
     "output_type": "stream",
     "text": [
      "Loss: 0.2944456471595913\n",
      "Average Loss: 0.0037749441943537346\n",
      "############### Saving good model ###############################\n",
      "-----------------------------------------------------------------\n",
      "Epoch: 151; Bad epochs: 0\n"
     ]
    },
    {
     "name": "stderr",
     "output_type": "stream",
     "text": [
      "100%|██████████████████████████████████████████████████████████████| 78/78 [00:02<00:00, 38.86it/s]\n"
     ]
    },
    {
     "name": "stdout",
     "output_type": "stream",
     "text": [
      "Loss: 0.29368132003583014\n",
      "Average Loss: 0.003765145128664489\n",
      "############### Saving good model ###############################\n",
      "-----------------------------------------------------------------\n",
      "Epoch: 152; Bad epochs: 0\n"
     ]
    },
    {
     "name": "stderr",
     "output_type": "stream",
     "text": [
      "100%|██████████████████████████████████████████████████████████████| 78/78 [00:02<00:00, 38.84it/s]\n"
     ]
    },
    {
     "name": "stdout",
     "output_type": "stream",
     "text": [
      "Loss: 0.28733553597703576\n",
      "Average Loss: 0.0036837889227825096\n",
      "############### Saving good model ###############################\n",
      "-----------------------------------------------------------------\n",
      "Epoch: 153; Bad epochs: 0\n"
     ]
    },
    {
     "name": "stderr",
     "output_type": "stream",
     "text": [
      "100%|██████████████████████████████████████████████████████████████| 78/78 [00:02<00:00, 38.66it/s]\n"
     ]
    },
    {
     "name": "stdout",
     "output_type": "stream",
     "text": [
      "Loss: 0.2860453163739294\n",
      "Average Loss: 0.0036672476458196076\n",
      "############### Saving good model ###############################\n",
      "-----------------------------------------------------------------\n",
      "Epoch: 154; Bad epochs: 0\n"
     ]
    },
    {
     "name": "stderr",
     "output_type": "stream",
     "text": [
      "100%|██████████████████████████████████████████████████████████████| 78/78 [00:02<00:00, 38.23it/s]\n"
     ]
    },
    {
     "name": "stdout",
     "output_type": "stream",
     "text": [
      "Loss: 0.28706546360626817\n",
      "Average Loss: 0.0036803264564906177\n",
      "-----------------------------------------------------------------\n",
      "Epoch: 155; Bad epochs: 1\n"
     ]
    },
    {
     "name": "stderr",
     "output_type": "stream",
     "text": [
      "100%|██████████████████████████████████████████████████████████████| 78/78 [00:01<00:00, 39.13it/s]\n"
     ]
    },
    {
     "name": "stdout",
     "output_type": "stream",
     "text": [
      "Loss: 0.2831597903277725\n",
      "Average Loss: 0.0036302537221509293\n",
      "############### Saving good model ###############################\n",
      "-----------------------------------------------------------------\n",
      "Epoch: 156; Bad epochs: 0\n"
     ]
    },
    {
     "name": "stderr",
     "output_type": "stream",
     "text": [
      "100%|██████████████████████████████████████████████████████████████| 78/78 [00:01<00:00, 39.74it/s]\n"
     ]
    },
    {
     "name": "stdout",
     "output_type": "stream",
     "text": [
      "Loss: 0.2822668273001909\n",
      "Average Loss: 0.003618805478207576\n",
      "############### Saving good model ###############################\n",
      "-----------------------------------------------------------------\n",
      "Epoch: 157; Bad epochs: 0\n"
     ]
    },
    {
     "name": "stderr",
     "output_type": "stream",
     "text": [
      "100%|██████████████████████████████████████████████████████████████| 78/78 [00:01<00:00, 39.01it/s]\n"
     ]
    },
    {
     "name": "stdout",
     "output_type": "stream",
     "text": [
      "Loss: 0.27648848516400903\n",
      "Average Loss: 0.0035447241687693466\n",
      "############### Saving good model ###############################\n",
      "-----------------------------------------------------------------\n",
      "Epoch: 158; Bad epochs: 0\n"
     ]
    },
    {
     "name": "stderr",
     "output_type": "stream",
     "text": [
      "100%|██████████████████████████████████████████████████████████████| 78/78 [00:01<00:00, 39.26it/s]\n"
     ]
    },
    {
     "name": "stdout",
     "output_type": "stream",
     "text": [
      "Loss: 0.2780973636545241\n",
      "Average Loss: 0.003565350816083642\n",
      "-----------------------------------------------------------------\n",
      "Epoch: 159; Bad epochs: 1\n"
     ]
    },
    {
     "name": "stderr",
     "output_type": "stream",
     "text": [
      "100%|██████████████████████████████████████████████████████████████| 78/78 [00:01<00:00, 39.18it/s]\n"
     ]
    },
    {
     "name": "stdout",
     "output_type": "stream",
     "text": [
      "Loss: 0.27642230060882866\n",
      "Average Loss: 0.0035438756488311365\n",
      "############### Saving good model ###############################\n",
      "-----------------------------------------------------------------\n",
      "Epoch: 160; Bad epochs: 0\n"
     ]
    },
    {
     "name": "stderr",
     "output_type": "stream",
     "text": [
      "100%|██████████████████████████████████████████████████████████████| 78/78 [00:02<00:00, 38.97it/s]\n"
     ]
    },
    {
     "name": "stdout",
     "output_type": "stream",
     "text": [
      "Loss: 0.2792981171514839\n",
      "Average Loss: 0.003580745091685691\n",
      "-----------------------------------------------------------------\n",
      "Epoch: 161; Bad epochs: 1\n"
     ]
    },
    {
     "name": "stderr",
     "output_type": "stream",
     "text": [
      "100%|██████████████████████████████████████████████████████████████| 78/78 [00:01<00:00, 39.19it/s]\n"
     ]
    },
    {
     "name": "stdout",
     "output_type": "stream",
     "text": [
      "Loss: 0.27211648714728653\n",
      "Average Loss: 0.003488672912144699\n",
      "############### Saving good model ###############################\n",
      "-----------------------------------------------------------------\n",
      "Epoch: 162; Bad epochs: 0\n"
     ]
    },
    {
     "name": "stderr",
     "output_type": "stream",
     "text": [
      "100%|██████████████████████████████████████████████████████████████| 78/78 [00:02<00:00, 38.47it/s]\n"
     ]
    },
    {
     "name": "stdout",
     "output_type": "stream",
     "text": [
      "Loss: 0.2716255516279489\n",
      "Average Loss: 0.0034823788670249856\n",
      "############### Saving good model ###############################\n",
      "-----------------------------------------------------------------\n",
      "Epoch: 163; Bad epochs: 0\n"
     ]
    },
    {
     "name": "stderr",
     "output_type": "stream",
     "text": [
      "100%|██████████████████████████████████████████████████████████████| 78/78 [00:01<00:00, 39.00it/s]\n"
     ]
    },
    {
     "name": "stdout",
     "output_type": "stream",
     "text": [
      "Loss: 0.27279746101703495\n",
      "Average Loss: 0.003497403346372243\n",
      "-----------------------------------------------------------------\n",
      "Epoch: 164; Bad epochs: 1\n"
     ]
    },
    {
     "name": "stderr",
     "output_type": "stream",
     "text": [
      "100%|██████████████████████████████████████████████████████████████| 78/78 [00:02<00:00, 38.38it/s]\n"
     ]
    },
    {
     "name": "stdout",
     "output_type": "stream",
     "text": [
      "Loss: 0.2705192400608212\n",
      "Average Loss: 0.003468195385395143\n",
      "############### Saving good model ###############################\n",
      "-----------------------------------------------------------------\n",
      "Epoch: 165; Bad epochs: 0\n"
     ]
    },
    {
     "name": "stderr",
     "output_type": "stream",
     "text": [
      "100%|██████████████████████████████████████████████████████████████| 78/78 [00:02<00:00, 38.31it/s]\n"
     ]
    },
    {
     "name": "stdout",
     "output_type": "stream",
     "text": [
      "Loss: 0.2686534665990621\n",
      "Average Loss: 0.0034442752128084884\n",
      "############### Saving good model ###############################\n",
      "-----------------------------------------------------------------\n",
      "Epoch: 166; Bad epochs: 0\n"
     ]
    },
    {
     "name": "stderr",
     "output_type": "stream",
     "text": [
      "100%|██████████████████████████████████████████████████████████████| 78/78 [00:02<00:00, 38.62it/s]\n"
     ]
    },
    {
     "name": "stdout",
     "output_type": "stream",
     "text": [
      "Loss: 0.2765401132637635\n",
      "Average Loss: 0.0035453860674841474\n",
      "-----------------------------------------------------------------\n",
      "Epoch: 167; Bad epochs: 1\n"
     ]
    },
    {
     "name": "stderr",
     "output_type": "stream",
     "text": [
      "100%|██████████████████████████████████████████████████████████████| 78/78 [00:02<00:00, 38.32it/s]\n"
     ]
    },
    {
     "name": "stdout",
     "output_type": "stream",
     "text": [
      "Loss: 0.2750266878865659\n",
      "Average Loss: 0.0035259831780328965\n",
      "-----------------------------------------------------------------\n",
      "Epoch: 168; Bad epochs: 2\n"
     ]
    },
    {
     "name": "stderr",
     "output_type": "stream",
     "text": [
      "100%|██████████████████████████████████████████████████████████████| 78/78 [00:02<00:00, 38.45it/s]\n"
     ]
    },
    {
     "name": "stdout",
     "output_type": "stream",
     "text": [
      "Loss: 0.266186019172892\n",
      "Average Loss: 0.003412641271447333\n",
      "############### Saving good model ###############################\n",
      "-----------------------------------------------------------------\n",
      "Epoch: 169; Bad epochs: 0\n"
     ]
    },
    {
     "name": "stderr",
     "output_type": "stream",
     "text": [
      "100%|██████████████████████████████████████████████████████████████| 78/78 [00:02<00:00, 38.13it/s]\n"
     ]
    },
    {
     "name": "stdout",
     "output_type": "stream",
     "text": [
      "Loss: 0.2650760868564248\n",
      "Average Loss: 0.003398411369954164\n",
      "############### Saving good model ###############################\n",
      "-----------------------------------------------------------------\n",
      "Epoch: 170; Bad epochs: 0\n"
     ]
    },
    {
     "name": "stderr",
     "output_type": "stream",
     "text": [
      "100%|██████████████████████████████████████████████████████████████| 78/78 [00:02<00:00, 38.61it/s]\n"
     ]
    },
    {
     "name": "stdout",
     "output_type": "stream",
     "text": [
      "Loss: 0.2662692063022405\n",
      "Average Loss: 0.0034137077731056474\n",
      "-----------------------------------------------------------------\n",
      "Epoch: 171; Bad epochs: 1\n"
     ]
    },
    {
     "name": "stderr",
     "output_type": "stream",
     "text": [
      "100%|██████████████████████████████████████████████████████████████| 78/78 [00:02<00:00, 38.54it/s]\n"
     ]
    },
    {
     "name": "stdout",
     "output_type": "stream",
     "text": [
      "Loss: 0.2699354919604957\n",
      "Average Loss: 0.0034607114353909707\n",
      "-----------------------------------------------------------------\n",
      "Epoch: 172; Bad epochs: 2\n"
     ]
    },
    {
     "name": "stderr",
     "output_type": "stream",
     "text": [
      "100%|██████████████████████████████████████████████████████████████| 78/78 [00:02<00:00, 38.44it/s]\n"
     ]
    },
    {
     "name": "stdout",
     "output_type": "stream",
     "text": [
      "Loss: 0.25973291718401015\n",
      "Average Loss: 0.003329909194666797\n",
      "############### Saving good model ###############################\n",
      "-----------------------------------------------------------------\n",
      "Epoch: 173; Bad epochs: 0\n"
     ]
    },
    {
     "name": "stderr",
     "output_type": "stream",
     "text": [
      "100%|██████████████████████████████████████████████████████████████| 78/78 [00:02<00:00, 38.32it/s]\n"
     ]
    },
    {
     "name": "stdout",
     "output_type": "stream",
     "text": [
      "Loss: 0.25991138454992324\n",
      "Average Loss: 0.0033321972378195287\n",
      "-----------------------------------------------------------------\n",
      "Epoch: 174; Bad epochs: 1\n"
     ]
    },
    {
     "name": "stderr",
     "output_type": "stream",
     "text": [
      "100%|██████████████████████████████████████████████████████████████| 78/78 [00:02<00:00, 37.57it/s]\n"
     ]
    },
    {
     "name": "stdout",
     "output_type": "stream",
     "text": [
      "Loss: 0.26058375695720315\n",
      "Average Loss: 0.00334081739688722\n",
      "-----------------------------------------------------------------\n",
      "Epoch: 175; Bad epochs: 2\n"
     ]
    },
    {
     "name": "stderr",
     "output_type": "stream",
     "text": [
      "100%|██████████████████████████████████████████████████████████████| 78/78 [00:02<00:00, 38.18it/s]\n"
     ]
    },
    {
     "name": "stdout",
     "output_type": "stream",
     "text": [
      "Loss: 0.2600193237885833\n",
      "Average Loss: 0.003333581074212606\n",
      "-----------------------------------------------------------------\n",
      "Epoch: 176; Bad epochs: 3\n"
     ]
    },
    {
     "name": "stderr",
     "output_type": "stream",
     "text": [
      "100%|██████████████████████████████████████████████████████████████| 78/78 [00:02<00:00, 37.92it/s]\n"
     ]
    },
    {
     "name": "stdout",
     "output_type": "stream",
     "text": [
      "Loss: 0.25882085179910064\n",
      "Average Loss: 0.0033182160487064184\n",
      "############### Saving good model ###############################\n",
      "-----------------------------------------------------------------\n",
      "Epoch: 177; Bad epochs: 0\n"
     ]
    },
    {
     "name": "stderr",
     "output_type": "stream",
     "text": [
      "100%|██████████████████████████████████████████████████████████████| 78/78 [00:02<00:00, 37.95it/s]\n"
     ]
    },
    {
     "name": "stdout",
     "output_type": "stream",
     "text": [
      "Loss: 0.2535495071206242\n",
      "Average Loss: 0.003250634706674669\n",
      "############### Saving good model ###############################\n",
      "-----------------------------------------------------------------\n",
      "Epoch: 178; Bad epochs: 0\n"
     ]
    },
    {
     "name": "stderr",
     "output_type": "stream",
     "text": [
      "100%|██████████████████████████████████████████████████████████████| 78/78 [00:02<00:00, 36.00it/s]\n"
     ]
    },
    {
     "name": "stdout",
     "output_type": "stream",
     "text": [
      "Loss: 0.2547988402657211\n",
      "Average Loss: 0.0032666517982784756\n",
      "-----------------------------------------------------------------\n",
      "Epoch: 179; Bad epochs: 1\n"
     ]
    },
    {
     "name": "stderr",
     "output_type": "stream",
     "text": [
      "100%|██████████████████████████████████████████████████████████████| 78/78 [00:02<00:00, 37.61it/s]\n"
     ]
    },
    {
     "name": "stdout",
     "output_type": "stream",
     "text": [
      "Loss: 0.25480165239423513\n",
      "Average Loss: 0.003266687851208143\n",
      "-----------------------------------------------------------------\n",
      "Epoch: 180; Bad epochs: 2\n"
     ]
    },
    {
     "name": "stderr",
     "output_type": "stream",
     "text": [
      "100%|██████████████████████████████████████████████████████████████| 78/78 [00:02<00:00, 37.31it/s]\n"
     ]
    },
    {
     "name": "stdout",
     "output_type": "stream",
     "text": [
      "Loss: 0.253765040775761\n",
      "Average Loss: 0.003253397958663603\n",
      "-----------------------------------------------------------------\n",
      "Epoch: 181; Bad epochs: 3\n"
     ]
    },
    {
     "name": "stderr",
     "output_type": "stream",
     "text": [
      "100%|██████████████████████████████████████████████████████████████| 78/78 [00:02<00:00, 38.40it/s]\n"
     ]
    },
    {
     "name": "stdout",
     "output_type": "stream",
     "text": [
      "Loss: 0.24933044449426234\n",
      "Average Loss: 0.0031965441601828504\n",
      "############### Saving good model ###############################\n",
      "-----------------------------------------------------------------\n",
      "Epoch: 182; Bad epochs: 0\n"
     ]
    },
    {
     "name": "stderr",
     "output_type": "stream",
     "text": [
      "100%|██████████████████████████████████████████████████████████████| 78/78 [00:02<00:00, 38.51it/s]\n"
     ]
    },
    {
     "name": "stdout",
     "output_type": "stream",
     "text": [
      "Loss: 0.25134229147806764\n",
      "Average Loss: 0.0032223370702316365\n",
      "-----------------------------------------------------------------\n",
      "Epoch: 183; Bad epochs: 1\n"
     ]
    },
    {
     "name": "stderr",
     "output_type": "stream",
     "text": [
      "100%|██████████████████████████████████████████████████████████████| 78/78 [00:02<00:00, 38.42it/s]\n"
     ]
    },
    {
     "name": "stdout",
     "output_type": "stream",
     "text": [
      "Loss: 0.2500775814987719\n",
      "Average Loss: 0.003206122839727845\n",
      "-----------------------------------------------------------------\n",
      "Epoch: 184; Bad epochs: 2\n"
     ]
    },
    {
     "name": "stderr",
     "output_type": "stream",
     "text": [
      "100%|██████████████████████████████████████████████████████████████| 78/78 [00:02<00:00, 38.62it/s]\n"
     ]
    },
    {
     "name": "stdout",
     "output_type": "stream",
     "text": [
      "Loss: 0.2469240624923259\n",
      "Average Loss: 0.003165693108875973\n",
      "############### Saving good model ###############################\n",
      "-----------------------------------------------------------------\n",
      "Epoch: 185; Bad epochs: 0\n"
     ]
    },
    {
     "name": "stderr",
     "output_type": "stream",
     "text": [
      "100%|██████████████████████████████████████████████████████████████| 78/78 [00:02<00:00, 38.35it/s]\n"
     ]
    },
    {
     "name": "stdout",
     "output_type": "stream",
     "text": [
      "Loss: 0.24997199815697968\n",
      "Average Loss: 0.003204769207140765\n",
      "-----------------------------------------------------------------\n",
      "Epoch: 186; Bad epochs: 1\n"
     ]
    },
    {
     "name": "stderr",
     "output_type": "stream",
     "text": [
      "100%|██████████████████████████████████████████████████████████████| 78/78 [00:02<00:00, 38.66it/s]\n"
     ]
    },
    {
     "name": "stdout",
     "output_type": "stream",
     "text": [
      "Loss: 0.24603769381064922\n",
      "Average Loss: 0.0031543294078288362\n",
      "############### Saving good model ###############################\n",
      "-----------------------------------------------------------------\n",
      "Epoch: 187; Bad epochs: 0\n"
     ]
    },
    {
     "name": "stderr",
     "output_type": "stream",
     "text": [
      "100%|██████████████████████████████████████████████████████████████| 78/78 [00:02<00:00, 38.72it/s]\n"
     ]
    },
    {
     "name": "stdout",
     "output_type": "stream",
     "text": [
      "Loss: 0.2428436283953488\n",
      "Average Loss: 0.0031133798512224206\n",
      "############### Saving good model ###############################\n",
      "-----------------------------------------------------------------\n",
      "Epoch: 188; Bad epochs: 0\n"
     ]
    },
    {
     "name": "stderr",
     "output_type": "stream",
     "text": [
      "100%|██████████████████████████████████████████████████████████████| 78/78 [00:02<00:00, 37.91it/s]\n"
     ]
    },
    {
     "name": "stdout",
     "output_type": "stream",
     "text": [
      "Loss: 0.2455092336749658\n",
      "Average Loss: 0.003147554277884177\n",
      "-----------------------------------------------------------------\n",
      "Epoch: 189; Bad epochs: 1\n"
     ]
    },
    {
     "name": "stderr",
     "output_type": "stream",
     "text": [
      "100%|██████████████████████████████████████████████████████████████| 78/78 [00:02<00:00, 37.86it/s]\n"
     ]
    },
    {
     "name": "stdout",
     "output_type": "stream",
     "text": [
      "Loss: 0.23977057717274874\n",
      "Average Loss: 0.003073981758624984\n",
      "############### Saving good model ###############################\n",
      "-----------------------------------------------------------------\n",
      "Epoch: 190; Bad epochs: 0\n"
     ]
    },
    {
     "name": "stderr",
     "output_type": "stream",
     "text": [
      "100%|██████████████████████████████████████████████████████████████| 78/78 [00:02<00:00, 38.03it/s]\n"
     ]
    },
    {
     "name": "stdout",
     "output_type": "stream",
     "text": [
      "Loss: 0.23891321336850524\n",
      "Average Loss: 0.0030629899149808362\n",
      "############### Saving good model ###############################\n",
      "-----------------------------------------------------------------\n",
      "Epoch: 191; Bad epochs: 0\n"
     ]
    },
    {
     "name": "stderr",
     "output_type": "stream",
     "text": [
      "100%|██████████████████████████████████████████████████████████████| 78/78 [00:02<00:00, 37.56it/s]\n"
     ]
    },
    {
     "name": "stdout",
     "output_type": "stream",
     "text": [
      "Loss: 0.24681925284676254\n",
      "Average Loss: 0.0031643493954713144\n",
      "-----------------------------------------------------------------\n",
      "Epoch: 192; Bad epochs: 1\n"
     ]
    },
    {
     "name": "stderr",
     "output_type": "stream",
     "text": [
      "100%|██████████████████████████████████████████████████████████████| 78/78 [00:02<00:00, 37.32it/s]\n"
     ]
    },
    {
     "name": "stdout",
     "output_type": "stream",
     "text": [
      "Loss: 0.2379245125921443\n",
      "Average Loss: 0.00305031426400185\n",
      "############### Saving good model ###############################\n",
      "-----------------------------------------------------------------\n",
      "Epoch: 193; Bad epochs: 0\n"
     ]
    },
    {
     "name": "stderr",
     "output_type": "stream",
     "text": [
      "100%|██████████████████████████████████████████████████████████████| 78/78 [00:02<00:00, 37.32it/s]\n"
     ]
    },
    {
     "name": "stdout",
     "output_type": "stream",
     "text": [
      "Loss: 0.23793319519609213\n",
      "Average Loss: 0.0030504255794370785\n",
      "-----------------------------------------------------------------\n",
      "Epoch: 194; Bad epochs: 1\n"
     ]
    },
    {
     "name": "stderr",
     "output_type": "stream",
     "text": [
      "100%|██████████████████████████████████████████████████████████████| 78/78 [00:02<00:00, 37.52it/s]\n"
     ]
    },
    {
     "name": "stdout",
     "output_type": "stream",
     "text": [
      "Loss: 0.24209115956909955\n",
      "Average Loss: 0.0031037328149884557\n",
      "-----------------------------------------------------------------\n",
      "Epoch: 195; Bad epochs: 2\n"
     ]
    },
    {
     "name": "stderr",
     "output_type": "stream",
     "text": [
      "100%|██████████████████████████████████████████████████████████████| 78/78 [00:02<00:00, 36.74it/s]\n"
     ]
    },
    {
     "name": "stdout",
     "output_type": "stream",
     "text": [
      "Loss: 0.23395252274349332\n",
      "Average Loss: 0.0029993913172242734\n",
      "############### Saving good model ###############################\n",
      "-----------------------------------------------------------------\n",
      "Epoch: 196; Bad epochs: 0\n"
     ]
    },
    {
     "name": "stderr",
     "output_type": "stream",
     "text": [
      "100%|██████████████████████████████████████████████████████████████| 78/78 [00:02<00:00, 36.73it/s]\n"
     ]
    },
    {
     "name": "stdout",
     "output_type": "stream",
     "text": [
      "Loss: 0.23776170832570642\n",
      "Average Loss: 0.003048227029816749\n",
      "-----------------------------------------------------------------\n",
      "Epoch: 197; Bad epochs: 1\n"
     ]
    },
    {
     "name": "stderr",
     "output_type": "stream",
     "text": [
      "100%|██████████████████████████████████████████████████████████████| 78/78 [00:02<00:00, 35.71it/s]\n"
     ]
    },
    {
     "name": "stdout",
     "output_type": "stream",
     "text": [
      "Loss: 0.235294577665627\n",
      "Average Loss: 0.0030165971495593204\n",
      "-----------------------------------------------------------------\n",
      "Epoch: 198; Bad epochs: 2\n"
     ]
    },
    {
     "name": "stderr",
     "output_type": "stream",
     "text": [
      "100%|██████████████████████████████████████████████████████████████| 78/78 [00:02<00:00, 35.83it/s]\n"
     ]
    },
    {
     "name": "stdout",
     "output_type": "stream",
     "text": [
      "Loss: 0.2379718255251646\n",
      "Average Loss: 0.0030509208400662127\n",
      "-----------------------------------------------------------------\n",
      "Epoch: 199; Bad epochs: 3\n"
     ]
    },
    {
     "name": "stderr",
     "output_type": "stream",
     "text": [
      "100%|██████████████████████████████████████████████████████████████| 78/78 [00:02<00:00, 35.80it/s]\n"
     ]
    },
    {
     "name": "stdout",
     "output_type": "stream",
     "text": [
      "Loss: 0.23859361559152603\n",
      "Average Loss: 0.003058892507583667\n",
      "-----------------------------------------------------------------\n",
      "Epoch: 200; Bad epochs: 4\n"
     ]
    },
    {
     "name": "stderr",
     "output_type": "stream",
     "text": [
      "100%|██████████████████████████████████████████████████████████████| 78/78 [00:02<00:00, 31.30it/s]\n"
     ]
    },
    {
     "name": "stdout",
     "output_type": "stream",
     "text": [
      "Loss: 0.22940862423274666\n",
      "Average Loss: 0.0029411362081121365\n",
      "############### Saving good model ###############################\n",
      "-----------------------------------------------------------------\n",
      "Epoch: 201; Bad epochs: 0\n"
     ]
    },
    {
     "name": "stderr",
     "output_type": "stream",
     "text": [
      "100%|██████████████████████████████████████████████████████████████| 78/78 [00:02<00:00, 32.65it/s]\n"
     ]
    },
    {
     "name": "stdout",
     "output_type": "stream",
     "text": [
      "Loss: 0.2351764990016818\n",
      "Average Loss: 0.003015083320534382\n",
      "-----------------------------------------------------------------\n",
      "Epoch: 202; Bad epochs: 1\n"
     ]
    },
    {
     "name": "stderr",
     "output_type": "stream",
     "text": [
      "100%|██████████████████████████████████████████████████████████████| 78/78 [00:02<00:00, 33.25it/s]\n"
     ]
    },
    {
     "name": "stdout",
     "output_type": "stream",
     "text": [
      "Loss: 0.23682866664603353\n",
      "Average Loss: 0.0030362649570004297\n",
      "-----------------------------------------------------------------\n",
      "Epoch: 203; Bad epochs: 2\n"
     ]
    },
    {
     "name": "stderr",
     "output_type": "stream",
     "text": [
      "100%|██████████████████████████████████████████████████████████████| 78/78 [00:02<00:00, 34.26it/s]\n"
     ]
    },
    {
     "name": "stdout",
     "output_type": "stream",
     "text": [
      "Loss: 0.22832578688394278\n",
      "Average Loss: 0.0029272536779992664\n",
      "############### Saving good model ###############################\n",
      "-----------------------------------------------------------------\n",
      "Epoch: 204; Bad epochs: 0\n"
     ]
    },
    {
     "name": "stderr",
     "output_type": "stream",
     "text": [
      "100%|██████████████████████████████████████████████████████████████| 78/78 [00:02<00:00, 33.22it/s]\n"
     ]
    },
    {
     "name": "stdout",
     "output_type": "stream",
     "text": [
      "Loss: 0.22834984655492008\n",
      "Average Loss: 0.002927562135319488\n",
      "-----------------------------------------------------------------\n",
      "Epoch: 205; Bad epochs: 1\n"
     ]
    },
    {
     "name": "stderr",
     "output_type": "stream",
     "text": [
      "100%|██████████████████████████████████████████████████████████████| 78/78 [00:02<00:00, 33.34it/s]\n"
     ]
    },
    {
     "name": "stdout",
     "output_type": "stream",
     "text": [
      "Loss: 0.22808460460510105\n",
      "Average Loss: 0.0029241615975012956\n",
      "############### Saving good model ###############################\n",
      "-----------------------------------------------------------------\n",
      "Epoch: 206; Bad epochs: 0\n"
     ]
    },
    {
     "name": "stderr",
     "output_type": "stream",
     "text": [
      "100%|██████████████████████████████████████████████████████████████| 78/78 [00:02<00:00, 33.18it/s]\n"
     ]
    },
    {
     "name": "stdout",
     "output_type": "stream",
     "text": [
      "Loss: 0.22617063741199672\n",
      "Average Loss: 0.0028996235565640605\n",
      "############### Saving good model ###############################\n",
      "-----------------------------------------------------------------\n",
      "Epoch: 207; Bad epochs: 0\n"
     ]
    },
    {
     "name": "stderr",
     "output_type": "stream",
     "text": [
      "100%|██████████████████████████████████████████████████████████████| 78/78 [00:02<00:00, 33.67it/s]\n"
     ]
    },
    {
     "name": "stdout",
     "output_type": "stream",
     "text": [
      "Loss: 0.23224763455800712\n",
      "Average Loss: 0.0029775337763847066\n",
      "-----------------------------------------------------------------\n",
      "Epoch: 208; Bad epochs: 1\n"
     ]
    },
    {
     "name": "stderr",
     "output_type": "stream",
     "text": [
      "100%|██████████████████████████████████████████████████████████████| 78/78 [00:02<00:00, 33.17it/s]\n"
     ]
    },
    {
     "name": "stdout",
     "output_type": "stream",
     "text": [
      "Loss: 0.2247956688515842\n",
      "Average Loss: 0.0028819957545074895\n",
      "############### Saving good model ###############################\n",
      "-----------------------------------------------------------------\n",
      "Epoch: 209; Bad epochs: 0\n"
     ]
    },
    {
     "name": "stderr",
     "output_type": "stream",
     "text": [
      "100%|██████████████████████████████████████████████████████████████| 78/78 [00:02<00:00, 33.30it/s]\n"
     ]
    },
    {
     "name": "stdout",
     "output_type": "stream",
     "text": [
      "Loss: 0.227863508509472\n",
      "Average Loss: 0.002921327032172718\n",
      "-----------------------------------------------------------------\n",
      "Epoch: 210; Bad epochs: 1\n"
     ]
    },
    {
     "name": "stderr",
     "output_type": "stream",
     "text": [
      "100%|██████████████████████████████████████████████████████████████| 78/78 [00:02<00:00, 33.42it/s]\n"
     ]
    },
    {
     "name": "stdout",
     "output_type": "stream",
     "text": [
      "Loss: 0.22766892926301807\n",
      "Average Loss: 0.0029188324264489496\n",
      "-----------------------------------------------------------------\n",
      "Epoch: 211; Bad epochs: 2\n"
     ]
    },
    {
     "name": "stderr",
     "output_type": "stream",
     "text": [
      "100%|██████████████████████████████████████████████████████████████| 78/78 [00:02<00:00, 29.57it/s]\n"
     ]
    },
    {
     "name": "stdout",
     "output_type": "stream",
     "text": [
      "Loss: 0.22984780673868954\n",
      "Average Loss: 0.0029467667530601225\n",
      "-----------------------------------------------------------------\n",
      "Epoch: 212; Bad epochs: 3\n"
     ]
    },
    {
     "name": "stderr",
     "output_type": "stream",
     "text": [
      "100%|██████████████████████████████████████████████████████████████| 78/78 [00:02<00:00, 28.19it/s]\n"
     ]
    },
    {
     "name": "stdout",
     "output_type": "stream",
     "text": [
      "Loss: 0.22758934856392443\n",
      "Average Loss: 0.0029178121610759543\n",
      "-----------------------------------------------------------------\n",
      "Epoch: 213; Bad epochs: 4\n"
     ]
    },
    {
     "name": "stderr",
     "output_type": "stream",
     "text": [
      "100%|██████████████████████████████████████████████████████████████| 78/78 [00:02<00:00, 27.14it/s]\n"
     ]
    },
    {
     "name": "stdout",
     "output_type": "stream",
     "text": [
      "Loss: 0.22457259462680668\n",
      "Average Loss: 0.0028791358285488035\n",
      "############### Saving good model ###############################\n",
      "-----------------------------------------------------------------\n",
      "Epoch: 214; Bad epochs: 0\n"
     ]
    },
    {
     "name": "stderr",
     "output_type": "stream",
     "text": [
      "100%|██████████████████████████████████████████████████████████████| 78/78 [00:02<00:00, 28.63it/s]\n"
     ]
    },
    {
     "name": "stdout",
     "output_type": "stream",
     "text": [
      "Loss: 0.22055924008600414\n",
      "Average Loss: 0.0028276825652051815\n",
      "############### Saving good model ###############################\n",
      "-----------------------------------------------------------------\n",
      "Epoch: 215; Bad epochs: 0\n"
     ]
    },
    {
     "name": "stderr",
     "output_type": "stream",
     "text": [
      "100%|██████████████████████████████████████████████████████████████| 78/78 [00:02<00:00, 30.25it/s]\n"
     ]
    },
    {
     "name": "stdout",
     "output_type": "stream",
     "text": [
      "Loss: 0.2231524217640981\n",
      "Average Loss: 0.002860928484155104\n",
      "-----------------------------------------------------------------\n",
      "Epoch: 216; Bad epochs: 1\n"
     ]
    },
    {
     "name": "stderr",
     "output_type": "stream",
     "text": [
      "100%|██████████████████████████████████████████████████████████████| 78/78 [00:02<00:00, 31.47it/s]\n"
     ]
    },
    {
     "name": "stdout",
     "output_type": "stream",
     "text": [
      "Loss: 0.22073004208505154\n",
      "Average Loss: 0.0028298723344237376\n",
      "-----------------------------------------------------------------\n",
      "Epoch: 217; Bad epochs: 2\n"
     ]
    },
    {
     "name": "stderr",
     "output_type": "stream",
     "text": [
      "100%|██████████████████████████████████████████████████████████████| 78/78 [00:02<00:00, 28.44it/s]\n"
     ]
    },
    {
     "name": "stdout",
     "output_type": "stream",
     "text": [
      "Loss: 0.2166974354768172\n",
      "Average Loss: 0.0027781722497027847\n",
      "############### Saving good model ###############################\n",
      "-----------------------------------------------------------------\n",
      "Epoch: 218; Bad epochs: 0\n"
     ]
    },
    {
     "name": "stderr",
     "output_type": "stream",
     "text": [
      "100%|██████████████████████████████████████████████████████████████| 78/78 [00:02<00:00, 28.13it/s]\n"
     ]
    },
    {
     "name": "stdout",
     "output_type": "stream",
     "text": [
      "Loss: 0.2173514987807721\n",
      "Average Loss: 0.0027865576766765653\n",
      "-----------------------------------------------------------------\n",
      "Epoch: 219; Bad epochs: 1\n"
     ]
    },
    {
     "name": "stderr",
     "output_type": "stream",
     "text": [
      "100%|██████████████████████████████████████████████████████████████| 78/78 [00:02<00:00, 27.94it/s]\n"
     ]
    },
    {
     "name": "stdout",
     "output_type": "stream",
     "text": [
      "Loss: 0.21628510451409966\n",
      "Average Loss: 0.00277288595530897\n",
      "############### Saving good model ###############################\n",
      "-----------------------------------------------------------------\n",
      "Epoch: 220; Bad epochs: 0\n"
     ]
    },
    {
     "name": "stderr",
     "output_type": "stream",
     "text": [
      "100%|██████████████████████████████████████████████████████████████| 78/78 [00:02<00:00, 30.78it/s]\n"
     ]
    },
    {
     "name": "stdout",
     "output_type": "stream",
     "text": [
      "Loss: 0.2132147279335186\n",
      "Average Loss: 0.002733522152993828\n",
      "############### Saving good model ###############################\n",
      "-----------------------------------------------------------------\n",
      "Epoch: 221; Bad epochs: 0\n"
     ]
    },
    {
     "name": "stderr",
     "output_type": "stream",
     "text": [
      "100%|██████████████████████████████████████████████████████████████| 78/78 [00:02<00:00, 30.87it/s]\n"
     ]
    },
    {
     "name": "stdout",
     "output_type": "stream",
     "text": [
      "Loss: 0.21449447225313634\n",
      "Average Loss: 0.002749929131450466\n",
      "-----------------------------------------------------------------\n",
      "Epoch: 222; Bad epochs: 1\n"
     ]
    },
    {
     "name": "stderr",
     "output_type": "stream",
     "text": [
      "100%|██████████████████████████████████████████████████████████████| 78/78 [00:02<00:00, 30.79it/s]\n"
     ]
    },
    {
     "name": "stdout",
     "output_type": "stream",
     "text": [
      "Loss: 0.21782633976545185\n",
      "Average Loss: 0.002792645381608357\n",
      "-----------------------------------------------------------------\n",
      "Epoch: 223; Bad epochs: 2\n"
     ]
    },
    {
     "name": "stderr",
     "output_type": "stream",
     "text": [
      "100%|██████████████████████████████████████████████████████████████| 78/78 [00:02<00:00, 30.43it/s]\n"
     ]
    },
    {
     "name": "stdout",
     "output_type": "stream",
     "text": [
      "Loss: 0.2109171401243657\n",
      "Average Loss: 0.002704065899030329\n",
      "############### Saving good model ###############################\n",
      "-----------------------------------------------------------------\n",
      "Epoch: 224; Bad epochs: 0\n"
     ]
    },
    {
     "name": "stderr",
     "output_type": "stream",
     "text": [
      "100%|██████████████████████████████████████████████████████████████| 78/78 [00:02<00:00, 29.20it/s]\n"
     ]
    },
    {
     "name": "stdout",
     "output_type": "stream",
     "text": [
      "Loss: 0.21349144191481173\n",
      "Average Loss: 0.002737069768138612\n",
      "-----------------------------------------------------------------\n",
      "Epoch: 225; Bad epochs: 1\n"
     ]
    },
    {
     "name": "stderr",
     "output_type": "stream",
     "text": [
      "100%|██████████████████████████████████████████████████████████████| 78/78 [00:02<00:00, 29.34it/s]\n"
     ]
    },
    {
     "name": "stdout",
     "output_type": "stream",
     "text": [
      "Loss: 0.21596947242505848\n",
      "Average Loss: 0.0027688393900648523\n",
      "-----------------------------------------------------------------\n",
      "Epoch: 226; Bad epochs: 2\n"
     ]
    },
    {
     "name": "stderr",
     "output_type": "stream",
     "text": [
      "100%|██████████████████████████████████████████████████████████████| 78/78 [00:02<00:00, 32.08it/s]\n"
     ]
    },
    {
     "name": "stdout",
     "output_type": "stream",
     "text": [
      "Loss: 0.20907589828129858\n",
      "Average Loss: 0.0026804602343756226\n",
      "############### Saving good model ###############################\n",
      "-----------------------------------------------------------------\n",
      "Epoch: 227; Bad epochs: 0\n"
     ]
    },
    {
     "name": "stderr",
     "output_type": "stream",
     "text": [
      "100%|██████████████████████████████████████████████████████████████| 78/78 [00:02<00:00, 32.31it/s]\n"
     ]
    },
    {
     "name": "stdout",
     "output_type": "stream",
     "text": [
      "Loss: 0.21295408462174237\n",
      "Average Loss: 0.0027301805720736203\n",
      "-----------------------------------------------------------------\n",
      "Epoch: 228; Bad epochs: 1\n"
     ]
    },
    {
     "name": "stderr",
     "output_type": "stream",
     "text": [
      "100%|██████████████████████████████████████████████████████████████| 78/78 [00:02<00:00, 32.16it/s]\n"
     ]
    },
    {
     "name": "stdout",
     "output_type": "stream",
     "text": [
      "Loss: 0.21214139240328223\n",
      "Average Loss: 0.0027197614410677208\n",
      "-----------------------------------------------------------------\n",
      "Epoch: 229; Bad epochs: 2\n"
     ]
    },
    {
     "name": "stderr",
     "output_type": "stream",
     "text": [
      "100%|██████████████████████████████████████████████████████████████| 78/78 [00:02<00:00, 32.37it/s]\n"
     ]
    },
    {
     "name": "stdout",
     "output_type": "stream",
     "text": [
      "Loss: 0.21295192756224424\n",
      "Average Loss: 0.00273015291746467\n",
      "-----------------------------------------------------------------\n",
      "Epoch: 230; Bad epochs: 3\n"
     ]
    },
    {
     "name": "stderr",
     "output_type": "stream",
     "text": [
      "100%|██████████████████████████████████████████████████████████████| 78/78 [00:02<00:00, 30.88it/s]\n"
     ]
    },
    {
     "name": "stdout",
     "output_type": "stream",
     "text": [
      "Loss: 0.2075481133069843\n",
      "Average Loss: 0.0026608732475254396\n",
      "############### Saving good model ###############################\n",
      "-----------------------------------------------------------------\n",
      "Epoch: 231; Bad epochs: 0\n"
     ]
    },
    {
     "name": "stderr",
     "output_type": "stream",
     "text": [
      "100%|██████████████████████████████████████████████████████████████| 78/78 [00:02<00:00, 29.72it/s]\n"
     ]
    },
    {
     "name": "stdout",
     "output_type": "stream",
     "text": [
      "Loss: 0.21065323473885655\n",
      "Average Loss: 0.002700682496652007\n",
      "-----------------------------------------------------------------\n",
      "Epoch: 232; Bad epochs: 1\n"
     ]
    },
    {
     "name": "stderr",
     "output_type": "stream",
     "text": [
      "100%|██████████████████████████████████████████████████████████████| 78/78 [00:02<00:00, 28.36it/s]\n"
     ]
    },
    {
     "name": "stdout",
     "output_type": "stream",
     "text": [
      "Loss: 0.20825547084677964\n",
      "Average Loss: 0.0026699419339330723\n",
      "-----------------------------------------------------------------\n",
      "Epoch: 233; Bad epochs: 2\n"
     ]
    },
    {
     "name": "stderr",
     "output_type": "stream",
     "text": [
      "100%|██████████████████████████████████████████████████████████████| 78/78 [00:02<00:00, 32.64it/s]\n"
     ]
    },
    {
     "name": "stdout",
     "output_type": "stream",
     "text": [
      "Loss: 0.2109251080546528\n",
      "Average Loss: 0.0027041680519827283\n",
      "-----------------------------------------------------------------\n",
      "Epoch: 234; Bad epochs: 3\n"
     ]
    },
    {
     "name": "stderr",
     "output_type": "stream",
     "text": [
      "100%|██████████████████████████████████████████████████████████████| 78/78 [00:02<00:00, 31.71it/s]\n"
     ]
    },
    {
     "name": "stdout",
     "output_type": "stream",
     "text": [
      "Loss: 0.20876890292856842\n",
      "Average Loss: 0.002676524396520108\n",
      "-----------------------------------------------------------------\n",
      "Epoch: 235; Bad epochs: 4\n"
     ]
    },
    {
     "name": "stderr",
     "output_type": "stream",
     "text": [
      "100%|██████████████████████████████████████████████████████████████| 78/78 [00:02<00:00, 31.36it/s]\n"
     ]
    },
    {
     "name": "stdout",
     "output_type": "stream",
     "text": [
      "Loss: 0.20439747639466077\n",
      "Average Loss: 0.002620480466598215\n",
      "############### Saving good model ###############################\n",
      "-----------------------------------------------------------------\n",
      "Epoch: 236; Bad epochs: 0\n"
     ]
    },
    {
     "name": "stderr",
     "output_type": "stream",
     "text": [
      "100%|██████████████████████████████████████████████████████████████| 78/78 [00:02<00:00, 31.16it/s]\n"
     ]
    },
    {
     "name": "stdout",
     "output_type": "stream",
     "text": [
      "Loss: 0.21463576250243932\n",
      "Average Loss: 0.0027517405449030683\n",
      "-----------------------------------------------------------------\n",
      "Epoch: 237; Bad epochs: 1\n"
     ]
    },
    {
     "name": "stderr",
     "output_type": "stream",
     "text": [
      "100%|██████████████████████████████████████████████████████████████| 78/78 [00:02<00:00, 32.26it/s]\n"
     ]
    },
    {
     "name": "stdout",
     "output_type": "stream",
     "text": [
      "Loss: 0.20635947701521218\n",
      "Average Loss: 0.0026456343207078483\n",
      "-----------------------------------------------------------------\n",
      "Epoch: 238; Bad epochs: 2\n"
     ]
    },
    {
     "name": "stderr",
     "output_type": "stream",
     "text": [
      "100%|██████████████████████████████████████████████████████████████| 78/78 [00:02<00:00, 26.62it/s]\n"
     ]
    },
    {
     "name": "stdout",
     "output_type": "stream",
     "text": [
      "Loss: 0.2051460910588503\n",
      "Average Loss: 0.0026300780904980805\n",
      "-----------------------------------------------------------------\n",
      "Epoch: 239; Bad epochs: 3\n"
     ]
    },
    {
     "name": "stderr",
     "output_type": "stream",
     "text": [
      "100%|██████████████████████████████████████████████████████████████| 78/78 [00:02<00:00, 26.93it/s]\n"
     ]
    },
    {
     "name": "stdout",
     "output_type": "stream",
     "text": [
      "Loss: 0.20204927388112992\n",
      "Average Loss: 0.0025903753061683322\n",
      "############### Saving good model ###############################\n",
      "-----------------------------------------------------------------\n",
      "Epoch: 240; Bad epochs: 0\n"
     ]
    },
    {
     "name": "stderr",
     "output_type": "stream",
     "text": [
      "100%|██████████████████████████████████████████████████████████████| 78/78 [00:02<00:00, 28.58it/s]\n"
     ]
    },
    {
     "name": "stdout",
     "output_type": "stream",
     "text": [
      "Loss: 0.20204310456756502\n",
      "Average Loss: 0.00259029621240468\n",
      "############### Saving good model ###############################\n",
      "-----------------------------------------------------------------\n",
      "Epoch: 241; Bad epochs: 0\n"
     ]
    },
    {
     "name": "stderr",
     "output_type": "stream",
     "text": [
      "100%|██████████████████████████████████████████████████████████████| 78/78 [00:02<00:00, 30.07it/s]\n"
     ]
    },
    {
     "name": "stdout",
     "output_type": "stream",
     "text": [
      "Loss: 0.2043738455977291\n",
      "Average Loss: 0.0026201775076631936\n",
      "-----------------------------------------------------------------\n",
      "Epoch: 242; Bad epochs: 1\n"
     ]
    },
    {
     "name": "stderr",
     "output_type": "stream",
     "text": [
      "100%|██████████████████████████████████████████████████████████████| 78/78 [00:02<00:00, 30.68it/s]\n"
     ]
    },
    {
     "name": "stdout",
     "output_type": "stream",
     "text": [
      "Loss: 0.20301803422626108\n",
      "Average Loss: 0.002602795310593091\n",
      "-----------------------------------------------------------------\n",
      "Epoch: 243; Bad epochs: 2\n"
     ]
    },
    {
     "name": "stderr",
     "output_type": "stream",
     "text": [
      "100%|██████████████████████████████████████████████████████████████| 78/78 [00:02<00:00, 31.02it/s]\n"
     ]
    },
    {
     "name": "stdout",
     "output_type": "stream",
     "text": [
      "Loss: 0.1980319715803489\n",
      "Average Loss: 0.0025388714305172935\n",
      "############### Saving good model ###############################\n",
      "-----------------------------------------------------------------\n",
      "Epoch: 244; Bad epochs: 0\n"
     ]
    },
    {
     "name": "stderr",
     "output_type": "stream",
     "text": [
      "100%|██████████████████████████████████████████████████████████████| 78/78 [00:02<00:00, 31.94it/s]\n"
     ]
    },
    {
     "name": "stdout",
     "output_type": "stream",
     "text": [
      "Loss: 0.19971473247278482\n",
      "Average Loss: 0.002560445288112626\n",
      "-----------------------------------------------------------------\n",
      "Epoch: 245; Bad epochs: 1\n"
     ]
    },
    {
     "name": "stderr",
     "output_type": "stream",
     "text": [
      "100%|██████████████████████████████████████████████████████████████| 78/78 [00:02<00:00, 29.51it/s]\n"
     ]
    },
    {
     "name": "stdout",
     "output_type": "stream",
     "text": [
      "Loss: 0.2033799443161115\n",
      "Average Loss: 0.002607435183539891\n",
      "-----------------------------------------------------------------\n",
      "Epoch: 246; Bad epochs: 2\n"
     ]
    },
    {
     "name": "stderr",
     "output_type": "stream",
     "text": [
      "100%|██████████████████████████████████████████████████████████████| 78/78 [00:02<00:00, 31.57it/s]\n"
     ]
    },
    {
     "name": "stdout",
     "output_type": "stream",
     "text": [
      "Loss: 0.19868416129611433\n",
      "Average Loss: 0.0025472328371296707\n",
      "-----------------------------------------------------------------\n",
      "Epoch: 247; Bad epochs: 3\n"
     ]
    },
    {
     "name": "stderr",
     "output_type": "stream",
     "text": [
      "100%|██████████████████████████████████████████████████████████████| 78/78 [00:02<00:00, 29.40it/s]\n"
     ]
    },
    {
     "name": "stdout",
     "output_type": "stream",
     "text": [
      "Loss: 0.19769083429127932\n",
      "Average Loss: 0.002534497875529222\n",
      "############### Saving good model ###############################\n",
      "-----------------------------------------------------------------\n",
      "Epoch: 248; Bad epochs: 0\n"
     ]
    },
    {
     "name": "stderr",
     "output_type": "stream",
     "text": [
      "100%|██████████████████████████████████████████████████████████████| 78/78 [00:02<00:00, 29.30it/s]\n"
     ]
    },
    {
     "name": "stdout",
     "output_type": "stream",
     "text": [
      "Loss: 0.19775393034797162\n",
      "Average Loss: 0.0025353067993329694\n",
      "-----------------------------------------------------------------\n",
      "Epoch: 249; Bad epochs: 1\n"
     ]
    },
    {
     "name": "stderr",
     "output_type": "stream",
     "text": [
      "100%|██████████████████████████████████████████████████████████████| 78/78 [00:02<00:00, 28.86it/s]\n"
     ]
    },
    {
     "name": "stdout",
     "output_type": "stream",
     "text": [
      "Loss: 0.193954840535298\n",
      "Average Loss: 0.0024866005196833075\n",
      "############### Saving good model ###############################\n",
      "-----------------------------------------------------------------\n",
      "Epoch: 250; Bad epochs: 0\n"
     ]
    },
    {
     "name": "stderr",
     "output_type": "stream",
     "text": [
      "100%|██████████████████████████████████████████████████████████████| 78/78 [00:02<00:00, 30.54it/s]\n"
     ]
    },
    {
     "name": "stdout",
     "output_type": "stream",
     "text": [
      "Loss: 0.19751634960994124\n",
      "Average Loss: 0.002532260892435144\n",
      "-----------------------------------------------------------------\n",
      "Epoch: 251; Bad epochs: 1\n"
     ]
    },
    {
     "name": "stderr",
     "output_type": "stream",
     "text": [
      "100%|██████████████████████████████████████████████████████████████| 78/78 [00:02<00:00, 30.42it/s]\n"
     ]
    },
    {
     "name": "stdout",
     "output_type": "stream",
     "text": [
      "Loss: 0.200130308046937\n",
      "Average Loss: 0.002565773180088936\n",
      "-----------------------------------------------------------------\n",
      "Epoch: 252; Bad epochs: 2\n"
     ]
    },
    {
     "name": "stderr",
     "output_type": "stream",
     "text": [
      "100%|██████████████████████████████████████████████████████████████| 78/78 [00:02<00:00, 29.50it/s]\n"
     ]
    },
    {
     "name": "stdout",
     "output_type": "stream",
     "text": [
      "Loss: 0.19963932770770043\n",
      "Average Loss: 0.002559478560355134\n",
      "-----------------------------------------------------------------\n",
      "Epoch: 253; Bad epochs: 3\n"
     ]
    },
    {
     "name": "stderr",
     "output_type": "stream",
     "text": [
      "100%|██████████████████████████████████████████████████████████████| 78/78 [00:02<00:00, 27.56it/s]\n"
     ]
    },
    {
     "name": "stdout",
     "output_type": "stream",
     "text": [
      "Loss: 0.19910723029170185\n",
      "Average Loss: 0.0025526567986115622\n",
      "-----------------------------------------------------------------\n",
      "Epoch: 254; Bad epochs: 4\n"
     ]
    },
    {
     "name": "stderr",
     "output_type": "stream",
     "text": [
      "100%|██████████████████████████████████████████████████████████████| 78/78 [00:02<00:00, 28.86it/s]\n"
     ]
    },
    {
     "name": "stdout",
     "output_type": "stream",
     "text": [
      "Loss: 0.19492163707036525\n",
      "Average Loss: 0.0024989953470559646\n",
      "-----------------------------------------------------------------\n",
      "Epoch: 255; Bad epochs: 5\n"
     ]
    },
    {
     "name": "stderr",
     "output_type": "stream",
     "text": [
      "100%|██████████████████████████████████████████████████████████████| 78/78 [00:02<00:00, 30.90it/s]\n"
     ]
    },
    {
     "name": "stdout",
     "output_type": "stream",
     "text": [
      "Loss: 0.19361880281940103\n",
      "Average Loss: 0.0024822923438384747\n",
      "############### Saving good model ###############################\n",
      "-----------------------------------------------------------------\n",
      "Epoch: 256; Bad epochs: 0\n"
     ]
    },
    {
     "name": "stderr",
     "output_type": "stream",
     "text": [
      "100%|██████████████████████████████████████████████████████████████| 78/78 [00:02<00:00, 32.22it/s]\n"
     ]
    },
    {
     "name": "stdout",
     "output_type": "stream",
     "text": [
      "Loss: 0.19802492600865662\n",
      "Average Loss: 0.002538781102675085\n",
      "-----------------------------------------------------------------\n",
      "Epoch: 257; Bad epochs: 1\n"
     ]
    },
    {
     "name": "stderr",
     "output_type": "stream",
     "text": [
      "100%|██████████████████████████████████████████████████████████████| 78/78 [00:02<00:00, 32.55it/s]\n"
     ]
    },
    {
     "name": "stdout",
     "output_type": "stream",
     "text": [
      "Loss: 0.19546221278142184\n",
      "Average Loss: 0.0025059258048900235\n",
      "-----------------------------------------------------------------\n",
      "Epoch: 258; Bad epochs: 2\n"
     ]
    },
    {
     "name": "stderr",
     "output_type": "stream",
     "text": [
      "100%|██████████████████████████████████████████████████████████████| 78/78 [00:02<00:00, 30.30it/s]\n"
     ]
    },
    {
     "name": "stdout",
     "output_type": "stream",
     "text": [
      "Loss: 0.1957159845624119\n",
      "Average Loss: 0.0025091792892616913\n",
      "-----------------------------------------------------------------\n",
      "Epoch: 259; Bad epochs: 3\n"
     ]
    },
    {
     "name": "stderr",
     "output_type": "stream",
     "text": [
      "100%|██████████████████████████████████████████████████████████████| 78/78 [00:02<00:00, 31.98it/s]\n"
     ]
    },
    {
     "name": "stdout",
     "output_type": "stream",
     "text": [
      "Loss: 0.19270652334671468\n",
      "Average Loss: 0.0024705964531630087\n",
      "############### Saving good model ###############################\n",
      "-----------------------------------------------------------------\n",
      "Epoch: 260; Bad epochs: 0\n"
     ]
    },
    {
     "name": "stderr",
     "output_type": "stream",
     "text": [
      "100%|██████████████████████████████████████████████████████████████| 78/78 [00:02<00:00, 33.41it/s]\n"
     ]
    },
    {
     "name": "stdout",
     "output_type": "stream",
     "text": [
      "Loss: 0.19561349833384156\n",
      "Average Loss: 0.002507865363254379\n",
      "-----------------------------------------------------------------\n",
      "Epoch: 261; Bad epochs: 1\n"
     ]
    },
    {
     "name": "stderr",
     "output_type": "stream",
     "text": [
      "100%|██████████████████████████████████████████████████████████████| 78/78 [00:02<00:00, 33.27it/s]\n"
     ]
    },
    {
     "name": "stdout",
     "output_type": "stream",
     "text": [
      "Loss: 0.1951791241299361\n",
      "Average Loss: 0.002502296463204309\n",
      "-----------------------------------------------------------------\n",
      "Epoch: 262; Bad epochs: 2\n"
     ]
    },
    {
     "name": "stderr",
     "output_type": "stream",
     "text": [
      "100%|██████████████████████████████████████████████████████████████| 78/78 [00:02<00:00, 29.91it/s]\n"
     ]
    },
    {
     "name": "stdout",
     "output_type": "stream",
     "text": [
      "Loss: 0.19568477279972285\n",
      "Average Loss: 0.002508779138457985\n",
      "-----------------------------------------------------------------\n",
      "Epoch: 263; Bad epochs: 3\n"
     ]
    },
    {
     "name": "stderr",
     "output_type": "stream",
     "text": [
      "100%|██████████████████████████████████████████████████████████████| 78/78 [00:02<00:00, 34.57it/s]\n"
     ]
    },
    {
     "name": "stdout",
     "output_type": "stream",
     "text": [
      "Loss: 0.1927837283583358\n",
      "Average Loss: 0.002471586261004305\n",
      "-----------------------------------------------------------------\n",
      "Epoch: 264; Bad epochs: 4\n"
     ]
    },
    {
     "name": "stderr",
     "output_type": "stream",
     "text": [
      "100%|██████████████████████████████████████████████████████████████| 78/78 [00:02<00:00, 34.57it/s]\n"
     ]
    },
    {
     "name": "stdout",
     "output_type": "stream",
     "text": [
      "Loss: 0.18964724941179156\n",
      "Average Loss: 0.002431374992458866\n",
      "############### Saving good model ###############################\n",
      "-----------------------------------------------------------------\n",
      "Epoch: 265; Bad epochs: 0\n"
     ]
    },
    {
     "name": "stderr",
     "output_type": "stream",
     "text": [
      "100%|██████████████████████████████████████████████████████████████| 78/78 [00:02<00:00, 35.04it/s]\n"
     ]
    },
    {
     "name": "stdout",
     "output_type": "stream",
     "text": [
      "Loss: 0.1885329515207559\n",
      "Average Loss: 0.0024170891220609727\n",
      "############### Saving good model ###############################\n",
      "-----------------------------------------------------------------\n",
      "Epoch: 266; Bad epochs: 0\n"
     ]
    },
    {
     "name": "stderr",
     "output_type": "stream",
     "text": [
      "100%|██████████████████████████████████████████████████████████████| 78/78 [00:02<00:00, 35.84it/s]\n"
     ]
    },
    {
     "name": "stdout",
     "output_type": "stream",
     "text": [
      "Loss: 0.18494517158251256\n",
      "Average Loss: 0.0023710919433655455\n",
      "############### Saving good model ###############################\n",
      "-----------------------------------------------------------------\n",
      "Epoch: 267; Bad epochs: 0\n"
     ]
    },
    {
     "name": "stderr",
     "output_type": "stream",
     "text": [
      "100%|██████████████████████████████████████████████████████████████| 78/78 [00:02<00:00, 35.93it/s]\n"
     ]
    },
    {
     "name": "stdout",
     "output_type": "stream",
     "text": [
      "Loss: 0.1896469376515597\n",
      "Average Loss: 0.0024313709955328167\n",
      "-----------------------------------------------------------------\n",
      "Epoch: 268; Bad epochs: 1\n"
     ]
    },
    {
     "name": "stderr",
     "output_type": "stream",
     "text": [
      "100%|██████████████████████████████████████████████████████████████| 78/78 [00:02<00:00, 36.20it/s]\n"
     ]
    },
    {
     "name": "stdout",
     "output_type": "stream",
     "text": [
      "Loss: 0.18641014106106013\n",
      "Average Loss: 0.0023898736033469248\n",
      "-----------------------------------------------------------------\n",
      "Epoch: 269; Bad epochs: 2\n"
     ]
    },
    {
     "name": "stderr",
     "output_type": "stream",
     "text": [
      "100%|██████████████████████████████████████████████████████████████| 78/78 [00:02<00:00, 36.86it/s]\n"
     ]
    },
    {
     "name": "stdout",
     "output_type": "stream",
     "text": [
      "Loss: 0.19199818512424827\n",
      "Average Loss: 0.0024615151939006187\n",
      "-----------------------------------------------------------------\n",
      "Epoch: 270; Bad epochs: 3\n"
     ]
    },
    {
     "name": "stderr",
     "output_type": "stream",
     "text": [
      "100%|██████████████████████████████████████████████████████████████| 78/78 [00:02<00:00, 36.82it/s]\n"
     ]
    },
    {
     "name": "stdout",
     "output_type": "stream",
     "text": [
      "Loss: 0.1895282710902393\n",
      "Average Loss: 0.002429849629362042\n",
      "-----------------------------------------------------------------\n",
      "Epoch: 271; Bad epochs: 4\n"
     ]
    },
    {
     "name": "stderr",
     "output_type": "stream",
     "text": [
      "100%|██████████████████████████████████████████████████████████████| 78/78 [00:02<00:00, 37.26it/s]\n"
     ]
    },
    {
     "name": "stdout",
     "output_type": "stream",
     "text": [
      "Loss: 0.19150643807370216\n",
      "Average Loss: 0.002455210744534643\n",
      "-----------------------------------------------------------------\n",
      "Epoch: 272; Bad epochs: 5\n"
     ]
    },
    {
     "name": "stderr",
     "output_type": "stream",
     "text": [
      "100%|██████████████████████████████████████████████████████████████| 78/78 [00:02<00:00, 37.55it/s]\n"
     ]
    },
    {
     "name": "stdout",
     "output_type": "stream",
     "text": [
      "Loss: 0.19056633429136127\n",
      "Average Loss: 0.002443158131940529\n",
      "-----------------------------------------------------------------\n",
      "Epoch: 273; Bad epochs: 6\n"
     ]
    },
    {
     "name": "stderr",
     "output_type": "stream",
     "text": [
      "100%|██████████████████████████████████████████████████████████████| 78/78 [00:02<00:00, 37.65it/s]\n"
     ]
    },
    {
     "name": "stdout",
     "output_type": "stream",
     "text": [
      "Loss: 0.18748451280407608\n",
      "Average Loss: 0.0024036476000522575\n",
      "-----------------------------------------------------------------\n",
      "Epoch: 274; Bad epochs: 7\n"
     ]
    },
    {
     "name": "stderr",
     "output_type": "stream",
     "text": [
      "100%|██████████████████████████████████████████████████████████████| 78/78 [00:02<00:00, 37.74it/s]\n"
     ]
    },
    {
     "name": "stdout",
     "output_type": "stream",
     "text": [
      "Loss: 0.18720624269917607\n",
      "Average Loss: 0.0024000800346048214\n",
      "-----------------------------------------------------------------\n",
      "Epoch: 275; Bad epochs: 8\n"
     ]
    },
    {
     "name": "stderr",
     "output_type": "stream",
     "text": [
      "100%|██████████████████████████████████████████████████████████████| 78/78 [00:02<00:00, 36.57it/s]\n"
     ]
    },
    {
     "name": "stdout",
     "output_type": "stream",
     "text": [
      "Loss: 0.1859896150417626\n",
      "Average Loss: 0.0023844822441251613\n",
      "-----------------------------------------------------------------\n",
      "Epoch: 276; Bad epochs: 9\n"
     ]
    },
    {
     "name": "stderr",
     "output_type": "stream",
     "text": [
      "100%|██████████████████████████████████████████████████████████████| 78/78 [00:02<00:00, 37.60it/s]"
     ]
    },
    {
     "name": "stdout",
     "output_type": "stream",
     "text": [
      "Loss: 0.18628512881696224\n",
      "Average Loss: 0.002388270882268747\n",
      "Done, best loss: 0.18494517158251256\n",
      "Done\n"
     ]
    },
    {
     "name": "stderr",
     "output_type": "stream",
     "text": [
      "\n"
     ]
    },
    {
     "data": {
      "text/plain": [
       "<All keys matched successfully>"
      ]
     },
     "execution_count": 17,
     "metadata": {},
     "output_type": "execute_result"
    }
   ],
   "source": [
    "loss_arr=[]\n",
    "avg_loss_arr=[]\n",
    "\n",
    "counter = 0\n",
    "\n",
    "# Best loss\n",
    "best = 1e16\n",
    "num_bad_epochs = 0\n",
    "patience = 10\n",
    "\n",
    "for epoch in range(1000):\n",
    "    print(\"-----------------------------------------------------------------\")\n",
    "    print(\"Epoch: {}; Bad epochs: {}\".format(epoch, num_bad_epochs))\n",
    "    net.train()\n",
    "    running_loss = 0.\n",
    "\n",
    "    for i, X_batch in enumerate(tqdm(trainloader), 0):\n",
    "        optimizer.zero_grad()\n",
    "        X_pred, mu_cart_pred, lambda_par_pred, lambda_iso_pred,  volume_0_pred, volume_1_pred = net(X_batch)\n",
    "        if i == 8 and counter == 10:\n",
    "            print(\"X_batch: \")\n",
    "            print(X_batch.shape)\n",
    "            print(X_batch)\n",
    "            print(\"X_pred: \")\n",
    "            print(X_pred.shape)\n",
    "            print(X_pred)\n",
    "        loss = criterion(X_pred.type(torch.FloatTensor), X_batch.type(torch.FloatTensor))\n",
    "        loss.backward()\n",
    "        optimizer.step()\n",
    "        running_loss += loss.item()\n",
    "        \n",
    "    loss_arr.append(running_loss)\n",
    "    avg_loss_arr.append(running_loss/len(trainloader))\n",
    "    print(\"Loss: {}\".format(running_loss))\n",
    "    print(\"Average Loss: {}\".format(running_loss/num_batches))\n",
    "    \n",
    "\n",
    "    if running_loss < best:\n",
    "        print(\"############### Saving good model ###############################\")\n",
    "        final_model = net.state_dict()\n",
    "        best = running_loss\n",
    "        num_bad_epochs = 0\n",
    "    else:\n",
    "        num_bad_epochs = num_bad_epochs + 1\n",
    "        if num_bad_epochs == patience:\n",
    "            print(\"Done, best loss: {}\".format(best))\n",
    "            break\n",
    "    counter += 1\n",
    "print(\"Done\")\n",
    "net.load_state_dict(final_model)\n"
   ]
  },
  {
   "cell_type": "code",
   "execution_count": 18,
   "id": "846d1150-e618-47ef-9335-797873eea635",
   "metadata": {},
   "outputs": [
    {
     "data": {
      "image/png": "[encoded data removed]",
      "text/plain": [
       "<Figure size 640x480 with 1 Axes>"
      ]
     },
     "metadata": {},
     "output_type": "display_data"
    }
   ],
   "source": [
    "epoch_arr = np.arange(0, len(loss_arr))\n",
    "loss_arr = np.array(loss_arr)\n",
    "plt.plot(epoch_arr, loss_arr)\n",
    "plt.xlabel(\"Epochs\")\n",
    "plt.ylabel(\"Runing Loss\")\n",
    "plt.show()"
   ]
  },
  {
   "cell_type": "code",
   "execution_count": 132,
   "id": "c3ae4119-7081-451f-9a9f-0794b45d2b8d",
   "metadata": {},
   "outputs": [],
   "source": [
    "np.save(\"loss_for_simulated_data.npy\", loss_arr)\n",
    "np.save(\"avg_loss_for_simulated_data.npy\", avg_loss_arr)"
   ]
  },
  {
   "cell_type": "code",
   "execution_count": 19,
   "id": "5723e1e6-4c1a-4141-a090-14552b5115e5",
   "metadata": {},
   "outputs": [
    {
     "data": {
      "image/png": "[encoded data removed]",
      "text/plain": [
       "<Figure size 640x480 with 1 Axes>"
      ]
     },
     "metadata": {},
     "output_type": "display_data"
    }
   ],
   "source": [
    "epoch_arr = np.arange(0, len(avg_loss_arr))\n",
    "loss_arr = np.array(avg_loss_arr)\n",
    "plt.plot(epoch_arr, avg_loss_arr)\n",
    "plt.xlabel(\"Epochs\")\n",
    "plt.ylabel(\"AVG Runing Loss\")\n",
    "plt.show()"
   ]
  },
  {
   "cell_type": "code",
   "execution_count": 20,
   "id": "18fb6edf-a50a-4d0b-bae3-8c0d92860bdd",
   "metadata": {},
   "outputs": [],
   "source": [
    "torch.save(final_model, 'model_simulated_data.pt')"
   ]
  },
  {
   "cell_type": "code",
   "execution_count": 24,
   "id": "c40480a4-9ff4-4d62-9766-352ab5c80ac4",
   "metadata": {},
   "outputs": [
    {
     "data": {
      "text/plain": [
       "BallStickNet(\n",
       "  (fc_layers): ModuleList(\n",
       "    (0): Linear(in_features=288, out_features=288, bias=True)\n",
       "    (1): ELU(alpha=1.0)\n",
       "    (2): Linear(in_features=288, out_features=288, bias=True)\n",
       "    (3): ELU(alpha=1.0)\n",
       "    (4): Linear(in_features=288, out_features=288, bias=True)\n",
       "    (5): ELU(alpha=1.0)\n",
       "  )\n",
       "  (encoder): Sequential(\n",
       "    (0): Linear(in_features=288, out_features=288, bias=True)\n",
       "    (1): ELU(alpha=1.0)\n",
       "    (2): Linear(in_features=288, out_features=288, bias=True)\n",
       "    (3): ELU(alpha=1.0)\n",
       "    (4): Linear(in_features=288, out_features=288, bias=True)\n",
       "    (5): ELU(alpha=1.0)\n",
       "    (6): Linear(in_features=288, out_features=5, bias=True)\n",
       "  )\n",
       ")"
      ]
     },
     "execution_count": 24,
     "metadata": {},
     "output_type": "execute_result"
    }
   ],
   "source": [
    "net.eval()"
   ]
  },
  {
   "cell_type": "markdown",
   "id": "be52c316-20ec-4745-81a6-a76c3b8aca65",
   "metadata": {},
   "source": []
  },
  {
   "cell_type": "code",
   "execution_count": 37,
   "id": "0fdcd4fc-145f-48a6-8262-61dd62169093",
   "metadata": {},
   "outputs": [],
   "source": [
    "X_pred_train, mu_cart_pred_train, lambda_par_pred_train, lambda_iso_pred_train,  volume_0_pred_train, volume_1_pred_train = net(torch.from_numpy(simulated_x_train[128:256,:].astype(np.float32)))"
   ]
  },
  {
   "cell_type": "code",
   "execution_count": 135,
   "id": "73a895cd-59d6-48b9-8667-adac6ae2db8e",
   "metadata": {},
   "outputs": [
    {
     "name": "stderr",
     "output_type": "stream",
     "text": [
      "No artists with labels found to put in legend.  Note that artists whose label start with an underscore are ignored when legend() is called with no argument.\n"
     ]
    },
    {
     "data": {
      "text/plain": [
       "<matplotlib.legend.Legend at 0x1d354e8f0>"
      ]
     },
     "execution_count": 135,
     "metadata": {},
     "output_type": "execute_result"
    },
    {
     "data": {
      "image/png": "[encoded data removed]",
      "text/plain": [
       "<Figure size 640x480 with 1 Axes>"
      ]
     },
     "metadata": {},
     "output_type": "display_data"
    }
   ],
   "source": [
    "plt.plot(bvals, X_pred_train[2,:].detach().numpy(), 'o')\n",
    "plt.plot(bvals, simulated_x_train[130,:], '.')\n",
    "plt.xlabel(\"0-288 volumes\")\n",
    "plt.ylabel(\"Signal values\")\n",
    "plt.legend()"
   ]
  },
  {
   "cell_type": "code",
   "execution_count": 137,
   "id": "4119c68e-5198-4ddf-8eae-e6981bd9bbd2",
   "metadata": {},
   "outputs": [
    {
     "data": {
      "text/plain": [
       "<matplotlib.legend.Legend at 0x1d487a8c0>"
      ]
     },
     "execution_count": 137,
     "metadata": {},
     "output_type": "execute_result"
    },
    {
     "data": {
      "image/png": "[encoded data removed]",
      "text/plain": [
       "<Figure size 640x480 with 1 Axes>"
      ]
     },
     "metadata": {},
     "output_type": "display_data"
    }
   ],
   "source": [
    "plt.plot(lambda_iso_pred_train.detach().numpy(), label='Predicted lambda_iso of that voxel')\n",
    "plt.plot(simulated_BAS_param_vec[128:256, 3], label='Ground truth lambda_iso of that voxel')\n",
    "plt.legend()"
   ]
  },
  {
   "cell_type": "code",
   "execution_count": 119,
   "id": "7965a87c-eff5-4513-86a6-ee67c02be5b7",
   "metadata": {},
   "outputs": [
    {
     "data": {
      "text/plain": [
       "<matplotlib.legend.Legend at 0x1d3331270>"
      ]
     },
     "execution_count": 119,
     "metadata": {},
     "output_type": "execute_result"
    },
    {
     "data": {
      "image/png": "[encoded data removed]",
      "text/plain": [
       "<Figure size 640x480 with 1 Axes>"
      ]
     },
     "metadata": {},
     "output_type": "display_data"
    }
   ],
   "source": [
    "plt.plot(volume_0_pred_train.detach().numpy(), label='Predicted C1Stick_1_volume_0 of that voxel')\n",
    "plt.plot(simulated_BAS_param_vec[128:256, 4], label='Ground truth C1Stick_1_volume_0 of that voxel')\n",
    "plt.legend()"
   ]
  },
  {
   "cell_type": "markdown",
   "id": "38d0d569-19e7-4d3a-a7bd-93c14349db12",
   "metadata": {},
   "source": []
  },
  {
   "cell_type": "code",
   "execution_count": 122,
   "id": "0bc5afc5-0491-47a4-9941-2d499790e215",
   "metadata": {},
   "outputs": [],
   "source": [
    "mu_test = (np.random.uniform(0, np.pi),np.random.uniform(-np.pi, np.pi))\n",
    "lambda_par_test = np.random.uniform(0.1, 3.0)\n",
    "lambda_iso_test = np.random.uniform(0.1, 3.0)\n",
    "volume_0_test = np.random.uniform(0.01, 0.99)\n",
    "volume_1_test = 1 - volume_0_test\n",
    "BAS_mod_param_vec_test = BAS_mod.parameters_to_parameter_vector(\n",
    "    C1Stick_1_lambda_par=lambda_par_test, C1Stick_1_mu=mu_test, G1Ball_1_lambda_iso=lambda_iso_test, partial_volume_0=volume_0_test, partial_volume_1=volume_1_test)"
   ]
  },
  {
   "cell_type": "code",
   "execution_count": 123,
   "id": "fa1b980d-02f3-4823-b3e8-1a4dc13dc795",
   "metadata": {},
   "outputs": [],
   "source": [
    "E_test_ground_truth = BAS_mod.simulate_signal(hcp_scheme, BAS_mod_param_vec_test)"
   ]
  },
  {
   "cell_type": "code",
   "execution_count": 126,
   "id": "e2bf605c-ab26-4a32-9691-c6ce68ef7cc6",
   "metadata": {},
   "outputs": [],
   "source": [
    "b_test = np.tile(E_test_ground_truth, (128, 1))"
   ]
  },
  {
   "cell_type": "code",
   "execution_count": 127,
   "id": "85bc2c13-cfdd-46f6-804d-4d90c2333a5b",
   "metadata": {},
   "outputs": [
    {
     "data": {
      "text/plain": [
       "(128, 288)"
      ]
     },
     "execution_count": 127,
     "metadata": {},
     "output_type": "execute_result"
    }
   ],
   "source": [
    "b_test.shape"
   ]
  },
  {
   "cell_type": "code",
   "execution_count": 128,
   "id": "10ca04bb-0d56-4060-b93f-6137b5e72926",
   "metadata": {},
   "outputs": [],
   "source": [
    "X_pred_test, mu_cart_pred_test, lambda_par_pred_test, lambda_iso_pred_test,  volume_0_pred_test, volume_1_pred_test = net(torch.from_numpy(b_test.astype(np.float32)))"
   ]
  },
  {
   "cell_type": "code",
   "execution_count": 129,
   "id": "34250d17-de7f-470c-a3b8-f3d6f7e944f9",
   "metadata": {},
   "outputs": [
    {
     "data": {
      "text/plain": [
       "<matplotlib.legend.Legend at 0x1d3333910>"
      ]
     },
     "execution_count": 129,
     "metadata": {},
     "output_type": "execute_result"
    },
    {
     "data": {
      "image/png": "[encoded data removed]",
      "text/plain": [
       "<Figure size 640x480 with 1 Axes>"
      ]
     },
     "metadata": {},
     "output_type": "display_data"
    }
   ],
   "source": [
    "plt.plot(X_pred_test[0,:].detach().numpy(), label='Predicted signal values of a voxel of test data')\n",
    "plt.plot(b_test[0,:], label='Ground truth signal values of that voxel')\n",
    "plt.xlabel(\"0-288 volumes\")\n",
    "plt.ylabel(\"Signal values\")\n",
    "plt.legend()"
   ]
  },
  {
   "cell_type": "code",
   "execution_count": null,
   "id": "f6e61c61-e8a8-45e9-a69f-ab58e7cd221a",
   "metadata": {},
   "outputs": [],
   "source": []
  },
  {
   "cell_type": "code",
   "execution_count": null,
   "id": "53f5600e-1c43-44b2-833c-63496050f098",
   "metadata": {},
   "outputs": [],
   "source": []
  },
  {
   "cell_type": "code",
   "execution_count": null,
   "id": "df78bbb0-4038-41a1-979a-1304105cac8c",
   "metadata": {},
   "outputs": [],
   "source": []
  },
  {
   "cell_type": "code",
   "execution_count": null,
   "id": "48b563d1-430a-416a-8dff-772b0a30305c",
   "metadata": {},
   "outputs": [],
   "source": []
  },
  {
   "cell_type": "code",
   "execution_count": null,
   "id": "0c15312c-60b2-4745-bef0-42ebec457b71",
   "metadata": {},
   "outputs": [],
   "source": []
  },
  {
   "cell_type": "code",
   "execution_count": null,
   "id": "71eaa1cd-ad53-4073-bf19-09655bb3991b",
   "metadata": {},
   "outputs": [],
   "source": []
  },
  {
   "cell_type": "code",
   "execution_count": 87,
   "id": "bcc940b9-0825-45d6-9fae-eb8abb9c899f",
   "metadata": {},
   "outputs": [],
   "source": [
    "normalized_scan_long_no_background_100206 = np.load('/Users/weiwenhua/UGY4/COMP0029/COMP0029-Project/deep-ivim/normalized_scan_long_1.npy')"
   ]
  },
  {
   "cell_type": "code",
   "execution_count": 89,
   "id": "f9610ffe-d890-4beb-81a2-ed34f32f96be",
   "metadata": {},
   "outputs": [
    {
     "data": {
      "text/plain": [
       "(935439, 288)"
      ]
     },
     "execution_count": 89,
     "metadata": {},
     "output_type": "execute_result"
    }
   ],
   "source": [
    "normalized_scan_long_no_background_100206.shape"
   ]
  },
  {
   "cell_type": "code",
   "execution_count": 104,
   "id": "da434102-0baf-45c9-a9cd-1bf6f2a3b367",
   "metadata": {},
   "outputs": [],
   "source": [
    "X_pred_test, mu_cart_pred_test, lambda_par_pred_test, lambda_iso_pred_test,  volume_0_pred_test, volume_1_pred_test = net(torch.from_numpy(normalized_scan_long_no_background_100206[0:128,:].astype(np.float32)))"
   ]
  },
  {
   "cell_type": "code",
   "execution_count": 107,
   "id": "0b6ceafe-642b-4fd8-ba8f-bcbfc4ca7ea6",
   "metadata": {},
   "outputs": [
    {
     "data": {
      "text/plain": [
       "[<matplotlib.lines.Line2D at 0x1d2a6fcd0>]"
      ]
     },
     "execution_count": 107,
     "metadata": {},
     "output_type": "execute_result"
    },
    {
     "data": {
      "image/png": "[encoded data removed]",
      "text/plain": [
       "<Figure size 640x480 with 1 Axes>"
      ]
     },
     "metadata": {},
     "output_type": "display_data"
    }
   ],
   "source": [
    "plt.plot(X_pred_test[100,:].detach().numpy())\n",
    "plt.plot(normalized_scan_long_no_background_100206[100,:])"
   ]
  },
  {
   "cell_type": "code",
   "execution_count": null,
   "id": "6f131e5d-9401-4ed7-97be-b4378be9c92c",
   "metadata": {},
   "outputs": [],
   "source": []
  },
  {
   "cell_type": "code",
   "execution_count": null,
   "id": "e5cc10ec-0c05-422c-850a-370f69fd7ecb",
   "metadata": {},
   "outputs": [],
   "source": []
  },
  {
   "cell_type": "code",
   "execution_count": null,
   "id": "954bf2ac-469e-441a-a4c8-8fcaec2e4c61",
   "metadata": {},
   "outputs": [],
   "source": []
  },
  {
   "cell_type": "code",
   "execution_count": null,
   "id": "c29f264c-c170-4311-a161-11c9f9147495",
   "metadata": {},
   "outputs": [],
   "source": []
  },
  {
   "cell_type": "code",
   "execution_count": null,
   "id": "9afb3c8f-3f45-4bf3-a266-24c73cc2d0d1",
   "metadata": {},
   "outputs": [],
   "source": []
  },
  {
   "cell_type": "code",
   "execution_count": null,
   "id": "f4949033-0e6e-49b1-a34e-803c83b10c23",
   "metadata": {},
   "outputs": [],
   "source": []
  },
  {
   "cell_type": "code",
   "execution_count": null,
   "id": "c38c3e1c-6d65-4763-b7ef-a56cdf301fc0",
   "metadata": {},
   "outputs": [],
   "source": []
  },
  {
   "cell_type": "code",
   "execution_count": null,
   "id": "d74c5466-c168-4208-8e83-6c6366c1e783",
   "metadata": {},
   "outputs": [],
   "source": []
  },
  {
   "cell_type": "code",
   "execution_count": null,
   "id": "2254b104-aeac-4a5d-9a8e-0243151ca8d4",
   "metadata": {},
   "outputs": [],
   "source": []
  },
  {
   "cell_type": "code",
   "execution_count": null,
   "id": "9f85c2b4-d30d-484d-9c1a-4869a78b722a",
   "metadata": {},
   "outputs": [],
   "source": []
  },
  {
   "cell_type": "code",
   "execution_count": null,
   "id": "41288910-dcaf-4328-a625-b00606f21eae",
   "metadata": {},
   "outputs": [],
   "source": []
  },
  {
   "cell_type": "code",
   "execution_count": null,
   "id": "f75079d6-7075-4118-8320-2f63831deb6a",
   "metadata": {},
   "outputs": [],
   "source": []
  },
  {
   "cell_type": "code",
   "execution_count": null,
   "id": "2e969319-b22a-46d2-b0a4-9092cda4d34b",
   "metadata": {},
   "outputs": [],
   "source": []
  },
  {
   "cell_type": "code",
   "execution_count": null,
   "id": "698432d4-c370-493d-84f3-3ea57dae98aa",
   "metadata": {},
   "outputs": [],
   "source": []
  },
  {
   "cell_type": "code",
   "execution_count": null,
   "id": "c466953c-942a-4551-9f38-b9e99f299385",
   "metadata": {},
   "outputs": [],
   "source": []
  },
  {
   "cell_type": "code",
   "execution_count": null,
   "id": "26022f98-bbfd-4384-b565-fc452b4d5fdc",
   "metadata": {},
   "outputs": [],
   "source": []
  },
  {
   "cell_type": "code",
   "execution_count": null,
   "id": "07ee78ca-3aac-4349-ad1e-8c2ce863e636",
   "metadata": {},
   "outputs": [],
   "source": []
  },
  {
   "cell_type": "markdown",
   "id": "5a1607b7-cb2d-4b19-86c9-9a0acf9e9d36",
   "metadata": {},
   "source": [
    "## Simulated Diffusion-Weighted MR Image"
   ]
  },
  {
   "cell_type": "code",
   "execution_count": null,
   "id": "d71d0c48-7241-4693-934b-caa93a747ea9",
   "metadata": {},
   "outputs": [],
   "source": [
    "# define parameter values in the three regions\n",
    "S0_region0, S0_region1, S0_region2 = 4000, 2000, 1000\n",
    "mu_region0, mu_region1, mu_region2 = (3.1,2.9), (2.3, 0.2), (0.2, -2.9)\n",
    "lambda_par_region0, lambda_par_region1, lambda_par_region2 = \n",
    "\n",
    "C1Stick_1_mu = (np.random.uniform(0, np.pi),np.random.uniform(-np.pi, np.pi))\n",
    "    C1Stick_1_lambda_par = np.random.uniform(0.1, 3.0)\n",
    "    G1Ball_1_lambda_iso = np.random.uniform(0.1, 3.0)\n",
    "    partial_volume_0 = np.random.uniform(0.01, 0.99)\n",
    "    partial_volume_1 = 1 - partial_volume_0\n",
    "    simulated_param_vec = BAS_mod.parameters_to_parameter_vector(C1Stick_1_lambda_par=C1Stick_1_lambda_par, C1Stick_1_mu=C1Stick_1_mu, G1Ball_1_lambda_iso=G1Ball_1_lambda_iso, partial_volume_0=partial_volume_0, partial_volume_1=partial_volume_1)\n",
    "    simulated_BAS_param_vec[i, :] = simulated_param_vec\n",
    "    E_simulated = BAS_mod.simulate_signal(hcp_scheme, simulated_param_vec)\n",
    "# image size\n",
    "sx, sy, sb = 100, 100, 288\n",
    "# create image\n",
    "dwi_image = np.zeros((sx, sy, sb))\n",
    "Dp_truth = np.zeros((sx, sy))\n",
    "Dt_truth = np.zeros((sx, sy))\n",
    "Fp_truth = np.zeros((sx, sy))\n",
    "\n",
    "# fill image with simulated values\n",
    "for i in range(sx):\n",
    "    for j in range(sy):\n",
    "        if (40 < i < 60) and (40 < j < 60):\n",
    "            # region 0\n",
    "            \n",
    "            dwi_image[i, j, :] = S0_region0*ivim(b_values, Dp_region0, Dt_region0, Fp_region0)\n",
    "            Dp_truth[i, j], Dt_truth[i, j], Fp_truth[i, j] = Dp_region0, Dt_region0, Fp_region0\n",
    "        elif (20 < i < 80) and (20 < j < 80):\n",
    "            # region 1\n",
    "            dwi_image[i, j, :] = S0_region1*ivim(b_values, Dp_region1, Dt_region1, Fp_region1)\n",
    "            Dp_truth[i, j], Dt_truth[i, j], Fp_truth[i, j] = Dp_region1, Dt_region1, Fp_region1\n",
    "        else:\n",
    "            # region 2\n",
    "            dwi_image[i, j, :] = S0_region2*ivim(b_values, Dp_region2, Dt_region2, Fp_region2)\n",
    "            Dp_truth[i, j], Dt_truth[i, j], Fp_truth[i, j] = Dp_region2, Dt_region2, Fp_region2\n",
    "# add some noise\n",
    "dwi_image_real = dwi_image + np.random.normal(scale=15, size=(sx, sy, sb))\n",
    "dwi_image_imag = np.random.normal(scale=15, size=(sx, sy, sb))\n",
    "dwi_image = np.sqrt(dwi_image_real**2 + dwi_image_imag**2)\n",
    "# plot simulated diffusion weighted image\n",
    "fig, ax = plt.subplots(2, 4, figsize=(20,20))\n",
    "b_id = 0\n",
    "for i in range(2):\n",
    "    for j in range(4):\n",
    "        ax[i, j].imshow(dwi_image[:, :, b_id], cmap='gray', clim=(0, 1600))\n",
    "        ax[i, j].set_title('b = ' + str(b_values[b_id]))\n",
    "        ax[i, j].set_xticks([])\n",
    "        ax[i, j].set_yticks([])\n",
    "        b_id += 1\n",
    "plt.subplots_adjust(hspace=-0.6)\n",
    "plt.show()"
   ]
  },
  {
   "cell_type": "code",
   "execution_count": 45,
   "id": "8540992d-434e-4e5f-9dbd-35ccc4ed3e1b",
   "metadata": {},
   "outputs": [],
   "source": [
    "c = np.where(bvals==0.005)"
   ]
  },
  {
   "cell_type": "code",
   "execution_count": 47,
   "id": "b891e9d6-8fb2-4de2-8c54-ae709ecbb7af",
   "metadata": {},
   "outputs": [
    {
     "data": {
      "text/plain": [
       "(array([  0,  16,  32,  48,  64,  80,  95, 112, 128, 144, 160, 176, 191,\n",
       "        208, 224, 240, 256, 272]),)"
      ]
     },
     "execution_count": 47,
     "metadata": {},
     "output_type": "execute_result"
    }
   ],
   "source": [
    "c"
   ]
  },
  {
   "cell_type": "code",
   "execution_count": 51,
   "id": "aaf0fbdd-45a9-4be5-9db7-b0157530c911",
   "metadata": {},
   "outputs": [
    {
     "data": {
      "text/plain": [
       "array([[0.99760964, 0.99760771, 0.99760584, 0.99760581, 0.99760406,\n",
       "        0.99760294, 0.99760425, 0.99760446, 0.99760264, 0.99760534,\n",
       "        0.99760561, 0.99760697, 0.99760307, 0.99760474, 0.99760636,\n",
       "        0.99760622, 0.99760784, 0.99760953]])"
      ]
     },
     "execution_count": 51,
     "metadata": {},
     "output_type": "execute_result"
    }
   ],
   "source": [
    "simulated_x_train[100,c]"
   ]
  },
  {
   "cell_type": "code",
   "execution_count": 52,
   "id": "78f1ffac-9135-46a1-ae5f-7953c65aa795",
   "metadata": {},
   "outputs": [],
   "source": [
    "data_path = '/Users/weiwenhua/anaconda3/envs/deepNODDIEnv/lib/python3.10/site-packages/dmipy/data/hcp/100206/data.nii.gz'\n",
    "data_100206 = nib.load(data_path).get_fdata()"
   ]
  },
  {
   "cell_type": "code",
   "execution_count": 101,
   "id": "90c6f1de-6ac7-41ce-9be6-62be5de1f4f5",
   "metadata": {},
   "outputs": [
    {
     "data": {
      "text/plain": [
       "array([1483.65722656,  404.93704224,  176.07182312,  178.24575806,\n",
       "        302.21743774,  213.61386108,  361.13623047,  420.78726196,\n",
       "        167.27963257,  184.37744141,  327.19561768,  300.33242798,\n",
       "        215.56773376,  411.12402344,  184.34495544,  268.20150757,\n",
       "       1479.14562988,  245.63964844,  247.88529968,  253.31460571,\n",
       "        158.426651  ,  354.99893188,  332.04412842,  222.99026489,\n",
       "        286.00024414,  169.31016541,  490.48910522,  243.00050354,\n",
       "        254.56735229,  452.62866211,  278.65991211,  222.55412292,\n",
       "       1307.54992676,  193.83006287,  504.06555176,  222.71235657,\n",
       "        460.07839966,  291.07366943,  188.32446289,  433.62261963,\n",
       "        236.77966309,  230.14982605,  259.65679932,  389.30563354,\n",
       "        280.2315979 ,  455.19326782,  215.29463196,  221.58459473,\n",
       "       1526.84997559,  257.45303345,  236.02700806,  237.00163269,\n",
       "        216.15141296,  588.52478027,  249.67903137,  528.78570557,\n",
       "        297.81491089,  394.37982178,  467.36309814,  278.05926514,\n",
       "        270.93548584,  318.927948  ,  293.6008606 ,  281.47915649,\n",
       "       1346.81835938,  449.55123901,  273.75808716,  272.70700073,\n",
       "        345.60025024,  218.20828247,  201.89506531,  547.03594971,\n",
       "        219.38702393,  197.17977905,  302.36355591,  316.20397949,\n",
       "        219.29284668,  282.20031738,  485.39273071,  204.17951965,\n",
       "       1336.20922852,  289.27310181,  292.43496704,  188.27009583,\n",
       "        341.12808228,  323.79455566,  258.87890625,  248.87414551,\n",
       "        182.26353455,  283.22085571,  495.61358643,  287.94866943,\n",
       "        160.31303406,  209.18981934,  318.66674805, 1516.4609375 ,\n",
       "        172.56031799,  687.08178711,  171.3056488 ,  225.77038574,\n",
       "        568.38897705,  193.37600708,  230.23313904,  471.91064453,\n",
       "        311.42224121,  220.41018677,  422.58175659,  315.09802246,\n",
       "        292.10269165,  295.17041016,  317.96002197,  201.66871643,\n",
       "       1516.55566406,  448.59967041,  240.04870605,  201.68179321,\n",
       "        423.99923706,  277.10870361,  248.15403748,  519.11132812,\n",
       "        167.7721405 ,  164.76278687,  400.6026001 ,  314.16311646,\n",
       "        162.09155273,  481.17764282,  375.0758667 ,  258.79284668,\n",
       "       1593.06970215,  364.22860718,  353.70874023,  262.53982544,\n",
       "        427.98648071,  313.20233154,  283.80499268,  207.03208923,\n",
       "        329.55847168,  240.71902466,  503.97058105,  310.99069214,\n",
       "        239.96517944,  431.63278198,  324.88085938,  175.03196716,\n",
       "       1437.02246094,  530.33557129,  218.77548218,  359.1361084 ,\n",
       "        381.58120728,  228.65490723,  246.07148743,  528.24090576,\n",
       "        230.2285614 ,   93.98324585,  389.44714355,  239.5377655 ,\n",
       "        317.3927002 ,  484.05633545,  251.79232788,  220.05859375,\n",
       "       1524.94506836,  469.13613892,  268.25738525,  377.86987305,\n",
       "        184.31808472,  400.34725952,  203.45155334,  499.63391113,\n",
       "        212.20690918,  152.6645813 ,  268.68255615,  575.70739746,\n",
       "        291.48083496,  518.32110596,  253.21388245,  307.32458496,\n",
       "       1355.19299316,  530.5546875 ,  286.76538086,  259.13995361,\n",
       "        136.57978821,  315.65393066,  222.57531738,  351.15924072,\n",
       "        152.62051392,  279.75234985,  449.40405273,  196.19282532,\n",
       "        291.03103638,  285.75802612,  270.29284668, 1381.73376465,\n",
       "        243.57052612,  317.11859131,  230.89985657,  287.77618408,\n",
       "        353.09585571,  412.73574829,  299.15170288,  546.0982666 ,\n",
       "        226.47251892,  235.01237488,  460.1736145 ,  363.3475647 ,\n",
       "        223.14315796,  506.46490479,  179.08976746,  200.01699829,\n",
       "       1535.42993164,  199.58836365,  539.6685791 ,  377.33282471,\n",
       "        396.84701538,  260.23733521,  215.36924744,  452.62243652,\n",
       "        230.97927856,  245.64686584,  442.08422852,  348.38885498,\n",
       "        159.50875854,  274.41577148,  490.51831055,  287.7364502 ,\n",
       "       1464.01586914,  392.70736694,  125.04470062,  135.44647217,\n",
       "        291.7517395 ,  177.19128418,  101.24986267,   67.07604218,\n",
       "        444.6723938 ,  281.30862427,  122.20020294,  408.97006226,\n",
       "        304.10610962,  294.53717041,  198.91970825,  264.45477295,\n",
       "       1314.06567383,  256.25979614,  350.95144653,  257.0222168 ,\n",
       "        390.42791748,  261.0630188 ,  132.60202026,  747.25439453,\n",
       "        290.89306641,  285.62988281,  475.22317505,  246.11886597,\n",
       "        202.91487122,  367.89239502,  320.83728027,  196.16433716,\n",
       "       1375.1932373 ,  614.25683594,  237.41188049,  247.81216431,\n",
       "        425.31610107,  291.66168213,  338.71847534,  290.9730835 ,\n",
       "        337.06176758,  223.30551147,  510.05386353,  242.48872375,\n",
       "        195.7308197 ,  246.76542664,  246.87937927,  248.03077698,\n",
       "       1349.96569824,  384.84320068,  284.93536377,  278.98535156,\n",
       "        534.50524902,  554.39611816,  270.60275269,  281.38421631,\n",
       "        328.49633789,  372.41726685,  462.84222412,  192.19177246,\n",
       "        188.86039734,  415.89465332,  334.29611206,  157.70014954])"
      ]
     },
     "execution_count": 101,
     "metadata": {},
     "output_type": "execute_result"
    }
   ],
   "source": [
    "data_100206[120, 100, 100, :]"
   ]
  },
  {
   "cell_type": "code",
   "execution_count": null,
   "id": "5f8b296a-f570-49c8-9cbe-5d97a6eabf2e",
   "metadata": {},
   "outputs": [],
   "source": []
  }
 ],
 "metadata": {
  "kernelspec": {
   "display_name": "Python 3 (ipykernel)",
   "language": "python",
   "name": "python3"
  },
  "language_info": {
   "codemirror_mode": {
    "name": "ipython",
    "version": 3
   },
   "file_extension": ".py",
   "mimetype": "text/x-python",
   "name": "python",
   "nbconvert_exporter": "python",
   "pygments_lexer": "ipython3",
   "version": "3.10.8"
  }
 },
 "nbformat": 4,
 "nbformat_minor": 5
}
