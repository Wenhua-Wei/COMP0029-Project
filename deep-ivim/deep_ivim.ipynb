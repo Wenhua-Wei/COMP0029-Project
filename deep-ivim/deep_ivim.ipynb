{
 "cells": [
  {
   "cell_type": "code",
   "execution_count": 1,
   "metadata": {},
   "outputs": [],
   "source": [
    "# import libraries\n",
    "import numpy as np\n",
    "import matplotlib.pyplot as plt\n",
    "import torch\n",
    "import torch.nn as nn\n",
    "import torch.optim as optim\n",
    "import torch.utils.data as utils\n",
    "from tqdm import tqdm\n",
    "import config\n",
    "import process_data"
   ]
  },
  {
   "cell_type": "code",
   "execution_count": 2,
   "metadata": {},
   "outputs": [],
   "source": [
    "# define ivim function\n",
    "def ivim(b, Dp, Dt, Fp):\n",
    "    return Fp*np.exp(-b*Dp) + (1-Fp)*np.exp(-b*Dt)\n",
    "\n",
    "# apply mask: only keep vox with mask = 1"
   ]
  },
  {
   "cell_type": "markdown",
   "metadata": {},
   "source": [
    "**Single subject Data 100206**"
   ]
  },
  {
   "cell_type": "code",
   "execution_count": 3,
   "metadata": {},
   "outputs": [],
   "source": [
    "scan = process_data.get_nifti_data(config.data_folder2 + '/100206/data.nii.gz')"
   ]
  },
  {
   "cell_type": "code",
   "execution_count": 4,
   "metadata": {},
   "outputs": [],
   "source": [
    "mask = process_data.get_nifti_data(config.data_folder2 + '/100206/nodif_brain_mask.nii.gz')"
   ]
  },
  {
   "cell_type": "code",
   "execution_count": 5,
   "metadata": {},
   "outputs": [],
   "source": [
    "scan_dimension = scan.shape\n",
    "x = scan_dimension[0]\n",
    "y = scan_dimension[1]\n",
    "z = scan_dimension[2]\n",
    "b = scan_dimension[3]"
   ]
  },
  {
   "cell_type": "code",
   "execution_count": 6,
   "metadata": {},
   "outputs": [
    {
     "name": "stdout",
     "output_type": "stream",
     "text": [
      "145 174 145 288\n",
      "The shape of scan: \n",
      "(145, 174, 145, 288)\n",
      "The shape of mask: \n",
      "(145, 174, 145)\n",
      "<class 'numpy.ndarray'> <class 'numpy.ndarray'>\n"
     ]
    }
   ],
   "source": [
    "print(x, y, z, b)\n",
    "\n",
    "print('The shape of scan: ')\n",
    "print(scan.shape)\n",
    "print('The shape of mask: ')\n",
    "print(mask.shape)\n",
    "\n",
    "print(type(scan), type(mask))"
   ]
  },
  {
   "cell_type": "code",
   "execution_count": 7,
   "metadata": {},
   "outputs": [],
   "source": [
    "scan_long = np.reshape(scan, (x*y*z, b))"
   ]
  },
  {
   "cell_type": "code",
   "execution_count": 8,
   "metadata": {},
   "outputs": [],
   "source": [
    "mask_long = np.reshape(mask, (x*y*z, 1))"
   ]
  },
  {
   "cell_type": "code",
   "execution_count": 9,
   "metadata": {},
   "outputs": [],
   "source": [
    "scan_long_no_background = process_data.trim_background(scan_long, mask_long)"
   ]
  },
  {
   "cell_type": "code",
   "execution_count": 10,
   "metadata": {},
   "outputs": [
    {
     "data": {
      "text/plain": [
       "(936256, 288)"
      ]
     },
     "execution_count": 10,
     "metadata": {},
     "output_type": "execute_result"
    }
   ],
   "source": [
    "scan_long_no_background.shape"
   ]
  },
  {
   "cell_type": "code",
   "execution_count": 11,
   "metadata": {},
   "outputs": [],
   "source": [
    "scan_long_no_bg_cp = scan_long_no_background"
   ]
  },
  {
   "cell_type": "code",
   "execution_count": 15,
   "metadata": {},
   "outputs": [],
   "source": [
    "# Ignore all strange data\n",
    "\n",
    "def find_rows_beginning_with_zero(scan_long_no_bg):\n",
    "    return np.where(scan_long_no_bg[:, 0] == 0)[0]\n",
    "\n",
    "Sb_beginning_0 = find_rows_beginning_with_zero(scan_long_no_background)\n",
    "scan_long_no_bg = np.delete(scan_long_no_background, Sb_beginning_0, 0)\n",
    "\n",
    "print(scan_long_no_bg.shape)\n",
    "print(scan_long_no_background.shape)"
   ]
  },
  {
   "cell_type": "code",
   "execution_count": 12,
   "metadata": {},
   "outputs": [],
   "source": [
    "bval_list = np.loadtxt(config.data_folder2 + '/100206/bvals')"
   ]
  },
  {
   "cell_type": "code",
   "execution_count": 16,
   "metadata": {},
   "outputs": [],
   "source": [
    "S0 = process_data.get_S0(scan_long_no_background, bval_list)"
   ]
  },
  {
   "cell_type": "code",
   "execution_count": 17,
   "metadata": {},
   "outputs": [
    {
     "name": "stdout",
     "output_type": "stream",
     "text": [
      "(936256, 1)\n"
     ]
    }
   ],
   "source": [
    "print(S0.shape)"
   ]
  },
  {
   "cell_type": "code",
   "execution_count": 18,
   "metadata": {},
   "outputs": [],
   "source": [
    "error_voxels = np.argwhere(np.logical_and(S0 >= 0, S0 < 1))[:,0]"
   ]
  },
  {
   "cell_type": "code",
   "execution_count": 20,
   "metadata": {},
   "outputs": [
    {
     "data": {
      "text/plain": [
       "171"
      ]
     },
     "execution_count": 20,
     "metadata": {},
     "output_type": "execute_result"
    }
   ],
   "source": [
    "len(error_voxels)"
   ]
  },
  {
   "cell_type": "code",
   "execution_count": 21,
   "metadata": {},
   "outputs": [],
   "source": [
    "scan_long_no_bg = np.delete(scan_long_no_background, error_voxels, 0)\n",
    "S0_ = np.delete(S0, error_voxels, 0)"
   ]
  },
  {
   "cell_type": "code",
   "execution_count": 22,
   "metadata": {},
   "outputs": [
    {
     "name": "stdout",
     "output_type": "stream",
     "text": [
      "(936085, 288)\n",
      "(936085, 1)\n"
     ]
    }
   ],
   "source": [
    "print(scan_long_no_bg.shape)\n",
    "print(S0_.shape)"
   ]
  },
  {
   "cell_type": "code",
   "execution_count": 23,
   "metadata": {},
   "outputs": [],
   "source": [
    "np.save('S0_2.npy',S0_)\n",
    "# S0 = np.load('S0_1.npy')"
   ]
  },
  {
   "cell_type": "code",
   "execution_count": 24,
   "metadata": {},
   "outputs": [],
   "source": [
    "normalized_scan_long_no_background = process_data.normalize_scan(scan_long_no_bg, S0_)"
   ]
  },
  {
   "cell_type": "code",
   "execution_count": 28,
   "metadata": {},
   "outputs": [],
   "source": [
    "np.save('normalized_scan_long_2.npy', normalized_scan_long_no_background)\n",
    "# normalized_scan_long_no_background = np.load('normalized_scan_long5.npy')"
   ]
  },
  {
   "cell_type": "code",
   "execution_count": 27,
   "metadata": {},
   "outputs": [
    {
     "data": {
      "text/plain": [
       "array([[1.30231222, 0.79474696, 0.5139521 , ..., 0.6643841 , 0.56590588,\n",
       "        0.31567214],\n",
       "       [1.11819184, 0.4604651 , 0.57350542, ..., 0.44744371, 0.67474822,\n",
       "        0.35966567],\n",
       "       [1.02967767, 0.47128865, 0.34843168, ..., 0.36720369, 0.55323395,\n",
       "        0.29989738],\n",
       "       ...,\n",
       "       [0.93215207, 0.33621187, 0.17415006, ..., 0.26950286, 0.17028434,\n",
       "        0.28959991],\n",
       "       [0.94993517, 0.55332968, 0.43955593, ..., 0.30752529, 0.37428291,\n",
       "        0.17693152],\n",
       "       [0.99949699, 0.14943101, 0.15482027, ..., 0.2864064 , 0.37132859,\n",
       "        0.30503306]])"
      ]
     },
     "execution_count": 27,
     "metadata": {},
     "output_type": "execute_result"
    }
   ],
   "source": [
    "np.argwhere(normalized_scan_long_no_background>10)"
   ]
  },
  {
   "cell_type": "markdown",
   "metadata": {},
   "source": [
    "## Neural Network Training"
   ]
  },
  {
   "cell_type": "markdown",
   "metadata": {},
   "source": [
    "Let's create the neural network class and instantiate it."
   ]
  },
  {
   "cell_type": "code",
   "execution_count": 29,
   "metadata": {},
   "outputs": [],
   "source": [
    "class Net(nn.Module):\n",
    "    def __init__(self, b_values_no0):\n",
    "        super(Net, self).__init__()\n",
    "\n",
    "        self.b_values_no0 = b_values_no0\n",
    "        self.fc_layers = nn.ModuleList()\n",
    "        for i in range(3): # 3 fully connected hidden layers\n",
    "            self.fc_layers.extend([nn.Linear(len(b_values_no0), len(b_values_no0)), nn.ELU()])\n",
    "        self.encoder = nn.Sequential(*self.fc_layers, nn.Linear(len(b_values_no0), 3))\n",
    "\n",
    "    def forward(self, X):\n",
    "        # print('x')\n",
    "        # print(X.shape)\n",
    "        params = torch.abs(self.encoder(X)) # Dp, Dt, Fp\n",
    "        # print(params.shape)\n",
    "        # print(params)\n",
    "        Dp = params[:, 0].unsqueeze(1)\n",
    "        Dt = params[:, 1].unsqueeze(1)\n",
    "        Fp = params[:, 2].unsqueeze(1)\n",
    "\n",
    "        X = Fp*torch.exp(-self.b_values_no0*Dp) + (1-Fp)*torch.exp(-self.b_values_no0*Dt)\n",
    "\n",
    "        return X, Dp, Dt, Fp"
   ]
  },
  {
   "cell_type": "code",
   "execution_count": 30,
   "metadata": {},
   "outputs": [
    {
     "name": "stdout",
     "output_type": "stream",
     "text": [
      "Net(\n",
      "  (fc_layers): ModuleList(\n",
      "    (0): Linear(in_features=288, out_features=288, bias=True)\n",
      "    (1): ELU(alpha=1.0)\n",
      "    (2): Linear(in_features=288, out_features=288, bias=True)\n",
      "    (3): ELU(alpha=1.0)\n",
      "    (4): Linear(in_features=288, out_features=288, bias=True)\n",
      "    (5): ELU(alpha=1.0)\n",
      "  )\n",
      "  (encoder): Sequential(\n",
      "    (0): Linear(in_features=288, out_features=288, bias=True)\n",
      "    (1): ELU(alpha=1.0)\n",
      "    (2): Linear(in_features=288, out_features=288, bias=True)\n",
      "    (3): ELU(alpha=1.0)\n",
      "    (4): Linear(in_features=288, out_features=288, bias=True)\n",
      "    (5): ELU(alpha=1.0)\n",
      "    (6): Linear(in_features=288, out_features=3, bias=True)\n",
      "  )\n",
      ")\n"
     ]
    }
   ],
   "source": [
    "net = Net(bval_list)\n",
    "print(net)"
   ]
  },
  {
   "cell_type": "code",
   "execution_count": 31,
   "metadata": {},
   "outputs": [],
   "source": [
    "# Network\n",
    "b_values = torch.FloatTensor(bval_list)\n",
    "net = Net(b_values)\n",
    "\n",
    "# Loss function and optimizer\n",
    "criterion = nn.MSELoss()\n",
    "optimizer = optim.Adam(net.parameters(), lr = 0.00001)  "
   ]
  },
  {
   "cell_type": "code",
   "execution_count": 32,
   "metadata": {},
   "outputs": [
    {
     "name": "stdout",
     "output_type": "stream",
     "text": [
      "torch.Size([288])\n",
      "<built-in method type of Tensor object at 0x17a067e70>\n"
     ]
    }
   ],
   "source": [
    "print(b_values.shape)\n",
    "print(b_values.type)"
   ]
  },
  {
   "cell_type": "markdown",
   "metadata": {},
   "source": [
    "Create batch queues."
   ]
  },
  {
   "cell_type": "code",
   "execution_count": 33,
   "metadata": {},
   "outputs": [],
   "source": [
    "batch_size = 128\n",
    "num_batches = len(normalized_scan_long_no_background) // batch_size\n",
    "# X_train = X_train[:,1:] # exlude the b=0 value as signals are normalized\n",
    "trainloader = utils.DataLoader(torch.from_numpy(normalized_scan_long_no_background.astype(np.float32)),\n",
    "                                batch_size = batch_size, \n",
    "                                shuffle = True,\n",
    "                                num_workers = 2,\n",
    "                                drop_last = True)"
   ]
  },
  {
   "cell_type": "markdown",
   "metadata": {},
   "source": [
    "Train, this might take a few minutes."
   ]
  },
  {
   "cell_type": "code",
   "execution_count": 34,
   "metadata": {},
   "outputs": [
    {
     "name": "stdout",
     "output_type": "stream",
     "text": [
      "-----------------------------------------------------------------\n",
      "Epoch: 0; Bad epochs: 0\n"
     ]
    },
    {
     "name": "stderr",
     "output_type": "stream",
     "text": [
      "100%|██████████████████████████████████████| 7313/7313 [00:30<00:00, 241.10it/s]\n"
     ]
    },
    {
     "name": "stdout",
     "output_type": "stream",
     "text": [
      "Loss: 5253.041341878474\n",
      "Average Loss: 0.7183155123586044\n",
      "############### Saving good model ###############################\n",
      "-----------------------------------------------------------------\n",
      "Epoch: 1; Bad epochs: 0\n"
     ]
    },
    {
     "name": "stderr",
     "output_type": "stream",
     "text": [
      "100%|██████████████████████████████████████| 7313/7313 [00:30<00:00, 240.12it/s]\n"
     ]
    },
    {
     "name": "stdout",
     "output_type": "stream",
     "text": [
      "Loss: 5238.899069957435\n",
      "Average Loss: 0.7163816586841837\n",
      "############### Saving good model ###############################\n",
      "-----------------------------------------------------------------\n",
      "Epoch: 2; Bad epochs: 0\n"
     ]
    },
    {
     "name": "stderr",
     "output_type": "stream",
     "text": [
      "100%|██████████████████████████████████████| 7313/7313 [00:33<00:00, 218.51it/s]\n"
     ]
    },
    {
     "name": "stdout",
     "output_type": "stream",
     "text": [
      "Loss: 5236.991417609155\n",
      "Average Loss: 0.7161208009858\n",
      "############### Saving good model ###############################\n",
      "-----------------------------------------------------------------\n",
      "Epoch: 3; Bad epochs: 0\n"
     ]
    },
    {
     "name": "stderr",
     "output_type": "stream",
     "text": [
      "100%|██████████████████████████████████████| 7313/7313 [00:31<00:00, 229.57it/s]\n"
     ]
    },
    {
     "name": "stdout",
     "output_type": "stream",
     "text": [
      "Loss: 5204.100434135646\n",
      "Average Loss: 0.7116231962444477\n",
      "############### Saving good model ###############################\n",
      "-----------------------------------------------------------------\n",
      "Epoch: 4; Bad epochs: 0\n"
     ]
    },
    {
     "name": "stderr",
     "output_type": "stream",
     "text": [
      "100%|██████████████████████████████████████| 7313/7313 [00:32<00:00, 225.33it/s]\n"
     ]
    },
    {
     "name": "stdout",
     "output_type": "stream",
     "text": [
      "Loss: 5168.3888914734125\n",
      "Average Loss: 0.7067399003792442\n",
      "############### Saving good model ###############################\n",
      "-----------------------------------------------------------------\n",
      "Epoch: 5; Bad epochs: 0\n"
     ]
    },
    {
     "name": "stderr",
     "output_type": "stream",
     "text": [
      "100%|██████████████████████████████████████| 7313/7313 [00:30<00:00, 236.30it/s]\n"
     ]
    },
    {
     "name": "stdout",
     "output_type": "stream",
     "text": [
      "Loss: 4799.517758504488\n",
      "Average Loss: 0.656299433680362\n",
      "############### Saving good model ###############################\n",
      "-----------------------------------------------------------------\n",
      "Epoch: 6; Bad epochs: 0\n"
     ]
    },
    {
     "name": "stderr",
     "output_type": "stream",
     "text": [
      "100%|██████████████████████████████████████| 7313/7313 [00:31<00:00, 233.46it/s]\n"
     ]
    },
    {
     "name": "stdout",
     "output_type": "stream",
     "text": [
      "Loss: 4728.531504360959\n",
      "Average Loss: 0.6465925754630054\n",
      "############### Saving good model ###############################\n",
      "-----------------------------------------------------------------\n",
      "Epoch: 7; Bad epochs: 0\n"
     ]
    },
    {
     "name": "stderr",
     "output_type": "stream",
     "text": [
      "100%|██████████████████████████████████████| 7313/7313 [00:32<00:00, 227.62it/s]\n"
     ]
    },
    {
     "name": "stdout",
     "output_type": "stream",
     "text": [
      "Loss: 4702.129258958623\n",
      "Average Loss: 0.6429822588484374\n",
      "############### Saving good model ###############################\n",
      "-----------------------------------------------------------------\n",
      "Epoch: 8; Bad epochs: 0\n"
     ]
    },
    {
     "name": "stderr",
     "output_type": "stream",
     "text": [
      "100%|██████████████████████████████████████| 7313/7313 [00:32<00:00, 224.97it/s]\n"
     ]
    },
    {
     "name": "stdout",
     "output_type": "stream",
     "text": [
      "Loss: 4714.911388373002\n",
      "Average Loss: 0.6447301228460279\n",
      "-----------------------------------------------------------------\n",
      "Epoch: 9; Bad epochs: 1\n"
     ]
    },
    {
     "name": "stderr",
     "output_type": "stream",
     "text": [
      "100%|██████████████████████████████████████| 7313/7313 [00:32<00:00, 225.14it/s]\n"
     ]
    },
    {
     "name": "stdout",
     "output_type": "stream",
     "text": [
      "Loss: 4740.364932001568\n",
      "Average Loss: 0.6482107113361915\n",
      "-----------------------------------------------------------------\n",
      "Epoch: 10; Bad epochs: 2\n"
     ]
    },
    {
     "name": "stderr",
     "output_type": "stream",
     "text": [
      "  1%|▎                                        | 49/7313 [00:01<02:43, 44.36it/s]"
     ]
    },
    {
     "name": "stdout",
     "output_type": "stream",
     "text": [
      "tensor([[0.9479, 0.2842, 0.1572,  ..., 0.2834, 0.1572, 0.0864],\n",
      "        [0.8740, 0.1272, 0.0698,  ..., 0.1268, 0.0698, 0.0381],\n",
      "        [0.9090, 0.1738, 0.0964,  ..., 0.1733, 0.0964, 0.0532],\n",
      "        ...,\n",
      "        [0.9611, 0.3892, 0.3164,  ..., 0.3888, 0.3164, 0.2566],\n",
      "        [0.9669, 0.3839, 0.2866,  ..., 0.3833, 0.2866, 0.2134],\n",
      "        [0.8587, 0.1247, 0.0731,  ..., 0.1244, 0.0731, 0.0426]],\n",
      "       grad_fn=<AddBackward0>)\n"
     ]
    },
    {
     "name": "stderr",
     "output_type": "stream",
     "text": [
      "100%|██████████████████████████████████████| 7313/7313 [00:31<00:00, 228.55it/s]\n"
     ]
    },
    {
     "name": "stdout",
     "output_type": "stream",
     "text": [
      "Loss: 4824.813109111972\n",
      "Average Loss: 0.6597583904159677\n",
      "-----------------------------------------------------------------\n",
      "Epoch: 11; Bad epochs: 3\n"
     ]
    },
    {
     "name": "stderr",
     "output_type": "stream",
     "text": [
      "100%|██████████████████████████████████████| 7313/7313 [00:32<00:00, 223.68it/s]\n"
     ]
    },
    {
     "name": "stdout",
     "output_type": "stream",
     "text": [
      "Loss: 4727.165332417935\n",
      "Average Loss: 0.6464057613042439\n",
      "-----------------------------------------------------------------\n",
      "Epoch: 12; Bad epochs: 4\n"
     ]
    },
    {
     "name": "stderr",
     "output_type": "stream",
     "text": [
      "100%|██████████████████████████████████████| 7313/7313 [00:30<00:00, 236.83it/s]\n"
     ]
    },
    {
     "name": "stdout",
     "output_type": "stream",
     "text": [
      "Loss: 4731.519736630842\n",
      "Average Loss: 0.6470011946712487\n",
      "-----------------------------------------------------------------\n",
      "Epoch: 13; Bad epochs: 5\n"
     ]
    },
    {
     "name": "stderr",
     "output_type": "stream",
     "text": [
      "100%|██████████████████████████████████████| 7313/7313 [00:31<00:00, 235.15it/s]\n"
     ]
    },
    {
     "name": "stdout",
     "output_type": "stream",
     "text": [
      "Loss: 4689.763749407604\n",
      "Average Loss: 0.6412913646120066\n",
      "############### Saving good model ###############################\n",
      "-----------------------------------------------------------------\n",
      "Epoch: 14; Bad epochs: 0\n"
     ]
    },
    {
     "name": "stderr",
     "output_type": "stream",
     "text": [
      "100%|██████████████████████████████████████| 7313/7313 [00:31<00:00, 232.69it/s]\n"
     ]
    },
    {
     "name": "stdout",
     "output_type": "stream",
     "text": [
      "Loss: 4790.792955943383\n",
      "Average Loss: 0.6551063798637199\n",
      "-----------------------------------------------------------------\n",
      "Epoch: 15; Bad epochs: 1\n"
     ]
    },
    {
     "name": "stderr",
     "output_type": "stream",
     "text": [
      "100%|██████████████████████████████████████| 7313/7313 [00:30<00:00, 238.49it/s]\n"
     ]
    },
    {
     "name": "stdout",
     "output_type": "stream",
     "text": [
      "Loss: 4795.256230792031\n",
      "Average Loss: 0.6557167005048585\n",
      "-----------------------------------------------------------------\n",
      "Epoch: 16; Bad epochs: 2\n"
     ]
    },
    {
     "name": "stderr",
     "output_type": "stream",
     "text": [
      "100%|██████████████████████████████████████| 7313/7313 [00:32<00:00, 226.83it/s]\n"
     ]
    },
    {
     "name": "stdout",
     "output_type": "stream",
     "text": [
      "Loss: 4643.706803595647\n",
      "Average Loss: 0.6349934094893542\n",
      "############### Saving good model ###############################\n",
      "-----------------------------------------------------------------\n",
      "Epoch: 17; Bad epochs: 0\n"
     ]
    },
    {
     "name": "stderr",
     "output_type": "stream",
     "text": [
      "100%|██████████████████████████████████████| 7313/7313 [00:30<00:00, 236.03it/s]\n"
     ]
    },
    {
     "name": "stdout",
     "output_type": "stream",
     "text": [
      "Loss: 4686.863580497913\n",
      "Average Loss: 0.6408947874330525\n",
      "-----------------------------------------------------------------\n",
      "Epoch: 18; Bad epochs: 1\n"
     ]
    },
    {
     "name": "stderr",
     "output_type": "stream",
     "text": [
      "100%|██████████████████████████████████████| 7313/7313 [00:31<00:00, 230.50it/s]\n"
     ]
    },
    {
     "name": "stdout",
     "output_type": "stream",
     "text": [
      "Loss: 4670.393269279972\n",
      "Average Loss: 0.6386425911773516\n",
      "-----------------------------------------------------------------\n",
      "Epoch: 19; Bad epochs: 2\n"
     ]
    },
    {
     "name": "stderr",
     "output_type": "stream",
     "text": [
      "100%|██████████████████████████████████████| 7313/7313 [00:31<00:00, 234.80it/s]\n"
     ]
    },
    {
     "name": "stdout",
     "output_type": "stream",
     "text": [
      "Loss: 4652.071494979784\n",
      "Average Loss: 0.6361372207000935\n",
      "-----------------------------------------------------------------\n",
      "Epoch: 20; Bad epochs: 3\n"
     ]
    },
    {
     "name": "stderr",
     "output_type": "stream",
     "text": [
      "100%|██████████████████████████████████████| 7313/7313 [00:32<00:00, 228.34it/s]\n"
     ]
    },
    {
     "name": "stdout",
     "output_type": "stream",
     "text": [
      "Loss: 4648.059904991649\n",
      "Average Loss: 0.6355886647055448\n",
      "-----------------------------------------------------------------\n",
      "Epoch: 21; Bad epochs: 4\n"
     ]
    },
    {
     "name": "stderr",
     "output_type": "stream",
     "text": [
      "100%|██████████████████████████████████████| 7313/7313 [00:31<00:00, 233.96it/s]\n"
     ]
    },
    {
     "name": "stdout",
     "output_type": "stream",
     "text": [
      "Loss: 4681.827103107236\n",
      "Average Loss: 0.6402060854789056\n",
      "-----------------------------------------------------------------\n",
      "Epoch: 22; Bad epochs: 5\n"
     ]
    },
    {
     "name": "stderr",
     "output_type": "stream",
     "text": [
      "100%|██████████████████████████████████████| 7313/7313 [00:32<00:00, 225.98it/s]\n"
     ]
    },
    {
     "name": "stdout",
     "output_type": "stream",
     "text": [
      "Loss: 4669.556878236122\n",
      "Average Loss: 0.6385282207351459\n",
      "-----------------------------------------------------------------\n",
      "Epoch: 23; Bad epochs: 6\n"
     ]
    },
    {
     "name": "stderr",
     "output_type": "stream",
     "text": [
      "100%|██████████████████████████████████████| 7313/7313 [00:31<00:00, 234.33it/s]\n"
     ]
    },
    {
     "name": "stdout",
     "output_type": "stream",
     "text": [
      "Loss: 4709.730294568464\n",
      "Average Loss: 0.64402164564043\n",
      "-----------------------------------------------------------------\n",
      "Epoch: 24; Bad epochs: 7\n"
     ]
    },
    {
     "name": "stderr",
     "output_type": "stream",
     "text": [
      "100%|██████████████████████████████████████| 7313/7313 [00:33<00:00, 219.51it/s]\n"
     ]
    },
    {
     "name": "stdout",
     "output_type": "stream",
     "text": [
      "Loss: 4673.065928380005\n",
      "Average Loss: 0.6390080580309045\n",
      "-----------------------------------------------------------------\n",
      "Epoch: 25; Bad epochs: 8\n"
     ]
    },
    {
     "name": "stderr",
     "output_type": "stream",
     "text": [
      "100%|██████████████████████████████████████| 7313/7313 [00:30<00:00, 237.83it/s]\n"
     ]
    },
    {
     "name": "stdout",
     "output_type": "stream",
     "text": [
      "Loss: 4666.147475050762\n",
      "Average Loss: 0.6380620094421937\n",
      "-----------------------------------------------------------------\n",
      "Epoch: 26; Bad epochs: 9\n"
     ]
    },
    {
     "name": "stderr",
     "output_type": "stream",
     "text": [
      "100%|██████████████████████████████████████| 7313/7313 [00:31<00:00, 229.05it/s]"
     ]
    },
    {
     "name": "stdout",
     "output_type": "stream",
     "text": [
      "Loss: 4648.359378235415\n",
      "Average Loss: 0.6356296155114747\n",
      "Done, best loss: 4643.706803595647\n",
      "Done\n"
     ]
    },
    {
     "name": "stderr",
     "output_type": "stream",
     "text": [
      "\n"
     ]
    },
    {
     "data": {
      "text/plain": [
       "<All keys matched successfully>"
      ]
     },
     "execution_count": 34,
     "metadata": {},
     "output_type": "execute_result"
    }
   ],
   "source": [
    "# Best loss\n",
    "best = 1e16\n",
    "num_bad_epochs = 0\n",
    "patience = 10\n",
    "\n",
    "# Train\n",
    "counter = 0\n",
    "for epoch in range(1000): \n",
    "    print(\"-----------------------------------------------------------------\")\n",
    "    print(\"Epoch: {}; Bad epochs: {}\".format(epoch, num_bad_epochs))\n",
    "    net.train()\n",
    "    running_loss = 0.\n",
    "\n",
    "    for i, X_batch in enumerate(tqdm(trainloader), 0):\n",
    "        # print('Running_loss: ', running_loss)\n",
    "        # print('X_batch: ')\n",
    "        # print(X_batch.shape)\n",
    "        # print(X_batch)\n",
    "        # zero the parameter gradients\n",
    "        optimizer.zero_grad()\n",
    "\n",
    "        # forward + backward + optimize\n",
    "        X_pred, Dp_pred, Dt_pred, Fp_pred = net(X_batch)\n",
    "        # print('X_pred: ')\n",
    "        # print(X_pred.shape)\n",
    "        # print(X_pred)\n",
    "        if i == 8 and counter == 10:\n",
    "            print(X_pred)\n",
    "        loss = criterion(X_pred, X_batch)\n",
    "        loss.backward()\n",
    "        optimizer.step()\n",
    "        # print('loss: ', loss.item())\n",
    "        running_loss += loss.item()\n",
    "\n",
    "    print(\"Loss: {}\".format(running_loss))\n",
    "    print(\"Average Loss: {}\".format(running_loss/len(trainloader)))\n",
    "    # early stopping\n",
    "    if running_loss < best:\n",
    "        print(\"############### Saving good model ###############################\")\n",
    "        final_model = net.state_dict()\n",
    "        best = running_loss\n",
    "        num_bad_epochs = 0\n",
    "    else:\n",
    "        num_bad_epochs = num_bad_epochs + 1\n",
    "        if num_bad_epochs == patience:\n",
    "            print(\"Done, best loss: {}\".format(best))\n",
    "            break\n",
    "    counter += 1\n",
    "print(\"Done\")\n",
    "# Restore best model\n",
    "net.load_state_dict(final_model)\n",
    "#        DP            Dt           Fp"
   ]
  },
  {
   "cell_type": "code",
   "execution_count": 45,
   "metadata": {},
   "outputs": [],
   "source": [
    "torch.save(final_model, 'model_2.pt')"
   ]
  },
  {
   "cell_type": "code",
   "execution_count": 46,
   "metadata": {},
   "outputs": [
    {
     "data": {
      "text/plain": [
       "OrderedDict([('fc_layers.0.weight',\n",
       "              tensor([[-0.0211, -0.0430, -0.0463,  ..., -0.0360, -0.0153,  0.0364],\n",
       "                      [ 0.0374, -0.0472,  0.0257,  ...,  0.0362, -0.0492,  0.0018],\n",
       "                      [-0.0017,  0.0089, -0.0486,  ...,  0.0171, -0.0071,  0.0274],\n",
       "                      ...,\n",
       "                      [ 0.0114, -0.0317,  0.0020,  ...,  0.0125,  0.0474, -0.0023],\n",
       "                      [ 0.0246,  0.0263, -0.0003,  ...,  0.0101, -0.0536,  0.0259],\n",
       "                      [ 0.0271,  0.0147,  0.0543,  ...,  0.0326,  0.0068,  0.0013]])),\n",
       "             ('fc_layers.0.bias',\n",
       "              tensor([ 2.7761e-02, -5.1808e-03, -4.9702e-02, -5.2280e-02,  4.2638e-03,\n",
       "                       3.7854e-02,  5.4534e-02,  3.4156e-02, -4.2637e-02,  4.5337e-02,\n",
       "                       3.9969e-02, -5.0196e-03, -8.3737e-03, -3.2910e-02,  1.0964e-02,\n",
       "                       3.6791e-02, -7.5982e-03,  3.7207e-02,  6.5149e-03, -1.9769e-02,\n",
       "                       2.5412e-02, -1.9887e-02, -1.9992e-02,  4.4024e-02,  4.3354e-02,\n",
       "                      -1.0945e-02,  5.4873e-03,  8.8788e-03, -3.5086e-02, -2.5016e-03,\n",
       "                      -4.2078e-02,  1.2687e-03,  3.6383e-02,  2.0770e-02,  6.7925e-03,\n",
       "                      -2.6225e-02,  2.7491e-02, -2.6841e-02, -2.8950e-02, -1.0079e-02,\n",
       "                       2.0370e-02,  6.1243e-03,  1.0524e-02, -4.8684e-02, -4.7492e-02,\n",
       "                       1.0282e-02,  6.9284e-03,  2.9256e-02, -1.4138e-02,  3.0602e-02,\n",
       "                       8.4577e-05,  2.0789e-02,  4.5693e-02,  4.9343e-02,  1.2299e-02,\n",
       "                      -7.7088e-03,  2.3725e-02,  5.3036e-02,  5.1020e-03,  2.5105e-02,\n",
       "                      -3.0859e-02, -4.5642e-02, -5.1226e-03,  2.4762e-02, -2.6754e-03,\n",
       "                       3.8903e-02,  3.8627e-02,  2.9325e-02,  1.7158e-02, -3.3690e-02,\n",
       "                      -2.5507e-02,  1.3578e-02,  3.4373e-02,  1.6962e-02, -1.9504e-03,\n",
       "                      -5.7863e-02,  2.8761e-02,  6.6909e-03, -3.4943e-02, -4.7301e-02,\n",
       "                       2.2640e-03,  3.5947e-02,  1.0452e-02,  4.4059e-02,  1.4258e-02,\n",
       "                       5.1669e-03,  3.3887e-02, -4.9667e-02,  3.3610e-02, -8.3848e-03,\n",
       "                      -3.3785e-02, -5.2722e-02, -4.9618e-02, -5.4826e-02, -5.7143e-02,\n",
       "                       4.8008e-03,  5.4767e-03, -9.8170e-03, -8.7218e-03, -4.6039e-02,\n",
       "                      -6.5634e-02, -2.8816e-02, -8.8356e-03, -4.1174e-02,  2.3454e-02,\n",
       "                      -2.6611e-02,  1.6765e-02,  1.2569e-02,  5.5545e-02,  1.8288e-02,\n",
       "                      -4.4832e-02,  4.5400e-02, -2.6676e-02,  5.4235e-02, -2.6272e-02,\n",
       "                      -3.3351e-02, -5.2233e-02,  5.1748e-02, -1.2785e-02,  4.3227e-02,\n",
       "                       4.9504e-04,  1.5053e-02,  3.7873e-02, -3.7334e-02,  2.5092e-02,\n",
       "                       2.5015e-02,  5.2518e-02, -6.4789e-03,  4.7854e-03,  5.8407e-02,\n",
       "                       2.8567e-03, -5.5918e-02,  7.7485e-03, -2.2563e-02, -2.7193e-02,\n",
       "                      -5.3744e-02,  5.3495e-02,  2.5890e-02,  4.6634e-02,  1.2981e-03,\n",
       "                       2.5031e-02,  4.4056e-03,  4.1809e-02, -5.9807e-02,  2.3098e-02,\n",
       "                      -3.2205e-02,  3.7925e-02,  4.4592e-02,  8.7099e-03, -5.0977e-02,\n",
       "                       5.1270e-02, -1.5449e-02, -1.7249e-02, -5.3516e-04, -1.4698e-02,\n",
       "                       1.2906e-02,  4.4737e-02, -3.7465e-02,  2.7538e-02,  4.5573e-02,\n",
       "                       4.3691e-02, -5.0467e-02,  5.6644e-02,  3.7610e-02,  4.3656e-02,\n",
       "                       5.7070e-05,  1.8606e-02,  3.9122e-02,  3.3929e-02, -2.1806e-02,\n",
       "                       3.6553e-02, -3.7758e-02, -4.7195e-04, -9.6782e-03,  4.3033e-02,\n",
       "                       5.2583e-02, -6.1470e-02, -2.6182e-03,  2.2980e-02,  1.8536e-02,\n",
       "                       4.4682e-02, -3.3581e-02, -4.0821e-02,  5.5333e-03, -4.4990e-02,\n",
       "                       4.0859e-02,  3.6168e-02, -3.0113e-02, -2.5622e-03,  1.7842e-02,\n",
       "                       2.0177e-02,  1.9635e-03,  1.4059e-02,  8.5433e-03, -3.5234e-02,\n",
       "                      -1.0207e-02, -2.9530e-02,  4.9583e-02,  4.1195e-02, -3.0358e-03,\n",
       "                       2.5386e-02, -2.9119e-02,  2.4542e-02, -4.8179e-02, -1.5951e-02,\n",
       "                       1.8327e-02,  1.2064e-02,  8.9521e-03, -5.1088e-02, -3.5527e-02,\n",
       "                       5.4253e-02, -6.0971e-02,  2.0434e-02, -4.0133e-02, -4.0810e-02,\n",
       "                      -4.7746e-02,  3.5945e-02,  5.0983e-02, -1.1548e-02, -1.5185e-02,\n",
       "                       3.9197e-02, -4.2200e-02, -5.9067e-02,  3.5815e-02, -4.7478e-02,\n",
       "                      -2.0049e-02, -1.6220e-02,  1.2371e-02,  5.2588e-02,  7.6020e-03,\n",
       "                      -4.0052e-02,  1.8942e-02, -4.9280e-02, -3.9957e-02,  1.1155e-02,\n",
       "                       3.9936e-02,  3.9300e-02,  2.0560e-02,  2.3676e-02, -3.9830e-02,\n",
       "                       5.3297e-02,  1.3111e-02, -7.0786e-03,  3.3654e-02, -2.5209e-02,\n",
       "                       1.0317e-02,  3.0194e-02, -4.9266e-02, -2.8029e-02,  3.1692e-02,\n",
       "                      -2.9334e-02,  5.8589e-02, -3.0864e-02, -1.0693e-02, -1.9849e-02,\n",
       "                      -1.5018e-02,  4.7975e-02, -1.3279e-02, -5.1198e-02, -5.1867e-02,\n",
       "                       2.7130e-02, -2.1868e-02, -4.6592e-02, -3.1619e-02, -1.7639e-02,\n",
       "                      -1.9342e-02, -2.0878e-02, -4.4605e-02,  1.5569e-02,  1.0176e-02,\n",
       "                      -1.9116e-02, -2.5057e-02,  1.7562e-03,  1.7169e-03, -3.9487e-03,\n",
       "                      -3.4209e-02,  5.2094e-02, -1.4592e-02,  5.2374e-02, -5.7347e-02,\n",
       "                       2.1494e-02,  2.5622e-02, -6.0344e-02,  1.4335e-03,  4.9007e-02,\n",
       "                       6.3016e-03,  3.8526e-02,  3.0247e-02])),\n",
       "             ('fc_layers.2.weight',\n",
       "              tensor([[ 0.0113, -0.0005, -0.0406,  ..., -0.0240, -0.0438, -0.0327],\n",
       "                      [ 0.0612,  0.0348, -0.0208,  ...,  0.0346, -0.0419, -0.0063],\n",
       "                      [-0.0466, -0.0303,  0.0393,  ...,  0.0312, -0.0299, -0.0275],\n",
       "                      ...,\n",
       "                      [-0.0579,  0.0493, -0.0438,  ..., -0.0240, -0.0368,  0.0457],\n",
       "                      [-0.0031, -0.0004,  0.0082,  ...,  0.0425, -0.0372,  0.0431],\n",
       "                      [-0.0128, -0.0365,  0.0524,  ...,  0.0172,  0.0211, -0.0190]])),\n",
       "             ('fc_layers.2.bias',\n",
       "              tensor([-0.0220,  0.0404,  0.0046,  0.0150, -0.0196,  0.0109, -0.0158, -0.0039,\n",
       "                       0.0211, -0.0265,  0.0070, -0.0458,  0.0270,  0.0104,  0.0098,  0.0216,\n",
       "                       0.0084,  0.0033,  0.0492,  0.0402, -0.0236, -0.0232,  0.0504, -0.0333,\n",
       "                      -0.0069, -0.0222,  0.0388,  0.0357,  0.0158, -0.0318,  0.0049,  0.0192,\n",
       "                      -0.0071, -0.0047,  0.0031, -0.0151, -0.0394, -0.0108, -0.0437,  0.0507,\n",
       "                      -0.0208, -0.0119,  0.0127, -0.0222,  0.0278,  0.0518,  0.0271, -0.0313,\n",
       "                      -0.0229,  0.0466, -0.0053, -0.0090, -0.0086, -0.0138, -0.0497,  0.0302,\n",
       "                       0.0509, -0.0155, -0.0397, -0.0193, -0.0429,  0.0309,  0.0457, -0.0265,\n",
       "                      -0.0270,  0.0480, -0.0187, -0.0074,  0.0246, -0.0152, -0.0546,  0.0228,\n",
       "                      -0.0432, -0.0513, -0.0120,  0.0480, -0.0368,  0.0378, -0.0054, -0.0426,\n",
       "                       0.0173, -0.0506, -0.0467, -0.0273, -0.0147,  0.0475,  0.0443,  0.0208,\n",
       "                       0.0265, -0.0178,  0.0134, -0.0101, -0.0033,  0.0519,  0.0369,  0.0021,\n",
       "                      -0.0283, -0.0534, -0.0417, -0.0448,  0.0163,  0.0470, -0.0096, -0.0337,\n",
       "                       0.0447,  0.0022,  0.0425,  0.0191, -0.0230,  0.0338, -0.0588,  0.0156,\n",
       "                      -0.0178, -0.0048, -0.0203, -0.0132, -0.0155, -0.0006,  0.0576,  0.0023,\n",
       "                      -0.0136, -0.0367,  0.0013, -0.0584,  0.0254, -0.0587,  0.0381,  0.0180,\n",
       "                      -0.0396, -0.0312, -0.0542,  0.0173,  0.0098, -0.0408,  0.0524, -0.0318,\n",
       "                       0.0193,  0.0296,  0.0400,  0.0483, -0.0037,  0.0494, -0.0175, -0.0564,\n",
       "                       0.0398,  0.0151,  0.0080,  0.0109, -0.0476, -0.0163, -0.0396,  0.0086,\n",
       "                       0.0358, -0.0316,  0.0255, -0.0194,  0.0394,  0.0080, -0.0543, -0.0178,\n",
       "                       0.0205, -0.0150, -0.0152,  0.0045,  0.0341, -0.0266,  0.0291,  0.0313,\n",
       "                       0.0401,  0.0338, -0.0131,  0.0243, -0.0056, -0.0393, -0.0353, -0.0504,\n",
       "                      -0.0335,  0.0455,  0.0386, -0.0348,  0.0259, -0.0586,  0.0111, -0.0383,\n",
       "                      -0.0328, -0.0300, -0.0566, -0.0467,  0.0403, -0.0036,  0.0098, -0.0443,\n",
       "                       0.0210,  0.0461, -0.0177, -0.0510, -0.0040, -0.0419, -0.0375,  0.0102,\n",
       "                       0.0130, -0.0208,  0.0364,  0.0502, -0.0397,  0.0198,  0.0432, -0.0547,\n",
       "                      -0.0165,  0.0397,  0.0038,  0.0376, -0.0089, -0.0076,  0.0376,  0.0375,\n",
       "                      -0.0370, -0.0057,  0.0359,  0.0259,  0.0106, -0.0028, -0.0490,  0.0322,\n",
       "                      -0.0179, -0.0004, -0.0342,  0.0043, -0.0023,  0.0340, -0.0311,  0.0486,\n",
       "                      -0.0572, -0.0083, -0.0518,  0.0407, -0.0203, -0.0095,  0.0423,  0.0504,\n",
       "                      -0.0292, -0.0053,  0.0439,  0.0518,  0.0255, -0.0273,  0.0413,  0.0526,\n",
       "                      -0.0381, -0.0049, -0.0136,  0.0180, -0.0468,  0.0070, -0.0481,  0.0073,\n",
       "                       0.0549,  0.0249, -0.0339, -0.0335,  0.0319,  0.0044,  0.0349,  0.0039,\n",
       "                       0.0288,  0.0058, -0.0461, -0.0564,  0.0178,  0.0161, -0.0270,  0.0418,\n",
       "                      -0.0206, -0.0065, -0.0325, -0.0340,  0.0410, -0.0350,  0.0381,  0.0606,\n",
       "                       0.0438,  0.0267, -0.0270,  0.0516,  0.0044, -0.0310,  0.0539, -0.0531])),\n",
       "             ('fc_layers.4.weight',\n",
       "              tensor([[ 0.0194, -0.0080, -0.0003,  ..., -0.0515,  0.0060, -0.0098],\n",
       "                      [ 0.0048, -0.0044, -0.0265,  ...,  0.0375,  0.0419, -0.0485],\n",
       "                      [-0.0204, -0.0443, -0.0179,  ..., -0.0496,  0.0236, -0.0440],\n",
       "                      ...,\n",
       "                      [ 0.0535, -0.0107, -0.0476,  ..., -0.0240,  0.0371,  0.0333],\n",
       "                      [ 0.0053, -0.0534, -0.0059,  ...,  0.0520,  0.0282, -0.0071],\n",
       "                      [ 0.0296,  0.0128, -0.0540,  ..., -0.0603,  0.0427,  0.0439]])),\n",
       "             ('fc_layers.4.bias',\n",
       "              tensor([-0.0145, -0.0347,  0.0249,  0.0207, -0.0136,  0.0477,  0.0023, -0.0030,\n",
       "                       0.0376,  0.0424,  0.0018, -0.0309, -0.0369,  0.0490,  0.0182, -0.0127,\n",
       "                       0.0516, -0.0151, -0.0003,  0.0421,  0.0239, -0.0179, -0.0269,  0.0419,\n",
       "                      -0.0563,  0.0453,  0.0114, -0.0472, -0.0061, -0.0333, -0.0308,  0.0259,\n",
       "                       0.0031, -0.0318, -0.0447,  0.0017, -0.0166, -0.0418,  0.0465,  0.0294,\n",
       "                      -0.0433, -0.0357, -0.0253, -0.0307, -0.0416, -0.0169, -0.0237, -0.0008,\n",
       "                       0.0498, -0.0035, -0.0424, -0.0301, -0.0092, -0.0474, -0.0299,  0.0071,\n",
       "                       0.0498,  0.0546, -0.0330,  0.0426,  0.0100, -0.0115, -0.0561,  0.0380,\n",
       "                       0.0298, -0.0135,  0.0471, -0.0597, -0.0268,  0.0259,  0.0055,  0.0018,\n",
       "                      -0.0442,  0.0315, -0.0365, -0.0370,  0.0368,  0.0030,  0.0484,  0.0398,\n",
       "                      -0.0304,  0.0129,  0.0481, -0.0270,  0.0461, -0.0069, -0.0178,  0.0128,\n",
       "                       0.0222,  0.0529,  0.0476, -0.0055, -0.0211, -0.0569,  0.0256, -0.0338,\n",
       "                       0.0576, -0.0265,  0.0123, -0.0106, -0.0334,  0.0278,  0.0034, -0.0560,\n",
       "                      -0.0224,  0.0416, -0.0368,  0.0029, -0.0016, -0.0172,  0.0116,  0.0042,\n",
       "                       0.0169,  0.0587, -0.0139,  0.0299, -0.0396,  0.0101,  0.0027, -0.0345,\n",
       "                      -0.0031,  0.0320,  0.0541, -0.0202,  0.0529, -0.0367, -0.0200,  0.0606,\n",
       "                      -0.0244,  0.0393,  0.0573,  0.0456, -0.0441, -0.0340, -0.0246,  0.0250,\n",
       "                       0.0022, -0.0402, -0.0349,  0.0324, -0.0054, -0.0016,  0.0306,  0.0389,\n",
       "                      -0.0169, -0.0213, -0.0301, -0.0118,  0.0400, -0.0070, -0.0342, -0.0488,\n",
       "                      -0.0385,  0.0580, -0.0126,  0.0198, -0.0474, -0.0541, -0.0383, -0.0499,\n",
       "                       0.0075,  0.0010, -0.0178, -0.0485,  0.0348,  0.0114, -0.0408, -0.0448,\n",
       "                       0.0217, -0.0265,  0.0475, -0.0335,  0.0083,  0.0320, -0.0425,  0.0106,\n",
       "                      -0.0319,  0.0017, -0.0167, -0.0182, -0.0554, -0.0518,  0.0077,  0.0281,\n",
       "                      -0.0500,  0.0112,  0.0360,  0.0074,  0.0233, -0.0256,  0.0001,  0.0329,\n",
       "                       0.0506, -0.0498, -0.0058,  0.0067,  0.0564, -0.0470,  0.0360, -0.0040,\n",
       "                       0.0037,  0.0329, -0.0224,  0.0169,  0.0106, -0.0028,  0.0560,  0.0261,\n",
       "                      -0.0245, -0.0336,  0.0027,  0.0145, -0.0315,  0.0134,  0.0106,  0.0457,\n",
       "                      -0.0232,  0.0190,  0.0336, -0.0377, -0.0152,  0.0068, -0.0275,  0.0379,\n",
       "                       0.0257, -0.0392, -0.0155,  0.0480,  0.0307,  0.0159,  0.0277, -0.0094,\n",
       "                       0.0074,  0.0477,  0.0299, -0.0480,  0.0137,  0.0141, -0.0130,  0.0267,\n",
       "                       0.0567, -0.0372, -0.0299, -0.0553, -0.0553, -0.0041,  0.0270, -0.0380,\n",
       "                      -0.0541, -0.0168, -0.0336,  0.0223, -0.0246,  0.0551, -0.0072,  0.0596,\n",
       "                       0.0416, -0.0227, -0.0459, -0.0046, -0.0118,  0.0041, -0.0433,  0.0570,\n",
       "                       0.0595,  0.0175,  0.0414, -0.0583, -0.0021,  0.0558, -0.0225,  0.0069,\n",
       "                      -0.0603,  0.0160, -0.0093, -0.0389, -0.0268,  0.0283, -0.0299, -0.0328,\n",
       "                      -0.0060,  0.0291,  0.0080, -0.0168, -0.0043,  0.0485,  0.0253, -0.0055])),\n",
       "             ('encoder.0.weight',\n",
       "              tensor([[-0.0211, -0.0430, -0.0463,  ..., -0.0360, -0.0153,  0.0364],\n",
       "                      [ 0.0374, -0.0472,  0.0257,  ...,  0.0362, -0.0492,  0.0018],\n",
       "                      [-0.0017,  0.0089, -0.0486,  ...,  0.0171, -0.0071,  0.0274],\n",
       "                      ...,\n",
       "                      [ 0.0114, -0.0317,  0.0020,  ...,  0.0125,  0.0474, -0.0023],\n",
       "                      [ 0.0246,  0.0263, -0.0003,  ...,  0.0101, -0.0536,  0.0259],\n",
       "                      [ 0.0271,  0.0147,  0.0543,  ...,  0.0326,  0.0068,  0.0013]])),\n",
       "             ('encoder.0.bias',\n",
       "              tensor([ 2.7761e-02, -5.1808e-03, -4.9702e-02, -5.2280e-02,  4.2638e-03,\n",
       "                       3.7854e-02,  5.4534e-02,  3.4156e-02, -4.2637e-02,  4.5337e-02,\n",
       "                       3.9969e-02, -5.0196e-03, -8.3737e-03, -3.2910e-02,  1.0964e-02,\n",
       "                       3.6791e-02, -7.5982e-03,  3.7207e-02,  6.5149e-03, -1.9769e-02,\n",
       "                       2.5412e-02, -1.9887e-02, -1.9992e-02,  4.4024e-02,  4.3354e-02,\n",
       "                      -1.0945e-02,  5.4873e-03,  8.8788e-03, -3.5086e-02, -2.5016e-03,\n",
       "                      -4.2078e-02,  1.2687e-03,  3.6383e-02,  2.0770e-02,  6.7925e-03,\n",
       "                      -2.6225e-02,  2.7491e-02, -2.6841e-02, -2.8950e-02, -1.0079e-02,\n",
       "                       2.0370e-02,  6.1243e-03,  1.0524e-02, -4.8684e-02, -4.7492e-02,\n",
       "                       1.0282e-02,  6.9284e-03,  2.9256e-02, -1.4138e-02,  3.0602e-02,\n",
       "                       8.4577e-05,  2.0789e-02,  4.5693e-02,  4.9343e-02,  1.2299e-02,\n",
       "                      -7.7088e-03,  2.3725e-02,  5.3036e-02,  5.1020e-03,  2.5105e-02,\n",
       "                      -3.0859e-02, -4.5642e-02, -5.1226e-03,  2.4762e-02, -2.6754e-03,\n",
       "                       3.8903e-02,  3.8627e-02,  2.9325e-02,  1.7158e-02, -3.3690e-02,\n",
       "                      -2.5507e-02,  1.3578e-02,  3.4373e-02,  1.6962e-02, -1.9504e-03,\n",
       "                      -5.7863e-02,  2.8761e-02,  6.6909e-03, -3.4943e-02, -4.7301e-02,\n",
       "                       2.2640e-03,  3.5947e-02,  1.0452e-02,  4.4059e-02,  1.4258e-02,\n",
       "                       5.1669e-03,  3.3887e-02, -4.9667e-02,  3.3610e-02, -8.3848e-03,\n",
       "                      -3.3785e-02, -5.2722e-02, -4.9618e-02, -5.4826e-02, -5.7143e-02,\n",
       "                       4.8008e-03,  5.4767e-03, -9.8170e-03, -8.7218e-03, -4.6039e-02,\n",
       "                      -6.5634e-02, -2.8816e-02, -8.8356e-03, -4.1174e-02,  2.3454e-02,\n",
       "                      -2.6611e-02,  1.6765e-02,  1.2569e-02,  5.5545e-02,  1.8288e-02,\n",
       "                      -4.4832e-02,  4.5400e-02, -2.6676e-02,  5.4235e-02, -2.6272e-02,\n",
       "                      -3.3351e-02, -5.2233e-02,  5.1748e-02, -1.2785e-02,  4.3227e-02,\n",
       "                       4.9504e-04,  1.5053e-02,  3.7873e-02, -3.7334e-02,  2.5092e-02,\n",
       "                       2.5015e-02,  5.2518e-02, -6.4789e-03,  4.7854e-03,  5.8407e-02,\n",
       "                       2.8567e-03, -5.5918e-02,  7.7485e-03, -2.2563e-02, -2.7193e-02,\n",
       "                      -5.3744e-02,  5.3495e-02,  2.5890e-02,  4.6634e-02,  1.2981e-03,\n",
       "                       2.5031e-02,  4.4056e-03,  4.1809e-02, -5.9807e-02,  2.3098e-02,\n",
       "                      -3.2205e-02,  3.7925e-02,  4.4592e-02,  8.7099e-03, -5.0977e-02,\n",
       "                       5.1270e-02, -1.5449e-02, -1.7249e-02, -5.3516e-04, -1.4698e-02,\n",
       "                       1.2906e-02,  4.4737e-02, -3.7465e-02,  2.7538e-02,  4.5573e-02,\n",
       "                       4.3691e-02, -5.0467e-02,  5.6644e-02,  3.7610e-02,  4.3656e-02,\n",
       "                       5.7070e-05,  1.8606e-02,  3.9122e-02,  3.3929e-02, -2.1806e-02,\n",
       "                       3.6553e-02, -3.7758e-02, -4.7195e-04, -9.6782e-03,  4.3033e-02,\n",
       "                       5.2583e-02, -6.1470e-02, -2.6182e-03,  2.2980e-02,  1.8536e-02,\n",
       "                       4.4682e-02, -3.3581e-02, -4.0821e-02,  5.5333e-03, -4.4990e-02,\n",
       "                       4.0859e-02,  3.6168e-02, -3.0113e-02, -2.5622e-03,  1.7842e-02,\n",
       "                       2.0177e-02,  1.9635e-03,  1.4059e-02,  8.5433e-03, -3.5234e-02,\n",
       "                      -1.0207e-02, -2.9530e-02,  4.9583e-02,  4.1195e-02, -3.0358e-03,\n",
       "                       2.5386e-02, -2.9119e-02,  2.4542e-02, -4.8179e-02, -1.5951e-02,\n",
       "                       1.8327e-02,  1.2064e-02,  8.9521e-03, -5.1088e-02, -3.5527e-02,\n",
       "                       5.4253e-02, -6.0971e-02,  2.0434e-02, -4.0133e-02, -4.0810e-02,\n",
       "                      -4.7746e-02,  3.5945e-02,  5.0983e-02, -1.1548e-02, -1.5185e-02,\n",
       "                       3.9197e-02, -4.2200e-02, -5.9067e-02,  3.5815e-02, -4.7478e-02,\n",
       "                      -2.0049e-02, -1.6220e-02,  1.2371e-02,  5.2588e-02,  7.6020e-03,\n",
       "                      -4.0052e-02,  1.8942e-02, -4.9280e-02, -3.9957e-02,  1.1155e-02,\n",
       "                       3.9936e-02,  3.9300e-02,  2.0560e-02,  2.3676e-02, -3.9830e-02,\n",
       "                       5.3297e-02,  1.3111e-02, -7.0786e-03,  3.3654e-02, -2.5209e-02,\n",
       "                       1.0317e-02,  3.0194e-02, -4.9266e-02, -2.8029e-02,  3.1692e-02,\n",
       "                      -2.9334e-02,  5.8589e-02, -3.0864e-02, -1.0693e-02, -1.9849e-02,\n",
       "                      -1.5018e-02,  4.7975e-02, -1.3279e-02, -5.1198e-02, -5.1867e-02,\n",
       "                       2.7130e-02, -2.1868e-02, -4.6592e-02, -3.1619e-02, -1.7639e-02,\n",
       "                      -1.9342e-02, -2.0878e-02, -4.4605e-02,  1.5569e-02,  1.0176e-02,\n",
       "                      -1.9116e-02, -2.5057e-02,  1.7562e-03,  1.7169e-03, -3.9487e-03,\n",
       "                      -3.4209e-02,  5.2094e-02, -1.4592e-02,  5.2374e-02, -5.7347e-02,\n",
       "                       2.1494e-02,  2.5622e-02, -6.0344e-02,  1.4335e-03,  4.9007e-02,\n",
       "                       6.3016e-03,  3.8526e-02,  3.0247e-02])),\n",
       "             ('encoder.2.weight',\n",
       "              tensor([[ 0.0113, -0.0005, -0.0406,  ..., -0.0240, -0.0438, -0.0327],\n",
       "                      [ 0.0612,  0.0348, -0.0208,  ...,  0.0346, -0.0419, -0.0063],\n",
       "                      [-0.0466, -0.0303,  0.0393,  ...,  0.0312, -0.0299, -0.0275],\n",
       "                      ...,\n",
       "                      [-0.0579,  0.0493, -0.0438,  ..., -0.0240, -0.0368,  0.0457],\n",
       "                      [-0.0031, -0.0004,  0.0082,  ...,  0.0425, -0.0372,  0.0431],\n",
       "                      [-0.0128, -0.0365,  0.0524,  ...,  0.0172,  0.0211, -0.0190]])),\n",
       "             ('encoder.2.bias',\n",
       "              tensor([-0.0220,  0.0404,  0.0046,  0.0150, -0.0196,  0.0109, -0.0158, -0.0039,\n",
       "                       0.0211, -0.0265,  0.0070, -0.0458,  0.0270,  0.0104,  0.0098,  0.0216,\n",
       "                       0.0084,  0.0033,  0.0492,  0.0402, -0.0236, -0.0232,  0.0504, -0.0333,\n",
       "                      -0.0069, -0.0222,  0.0388,  0.0357,  0.0158, -0.0318,  0.0049,  0.0192,\n",
       "                      -0.0071, -0.0047,  0.0031, -0.0151, -0.0394, -0.0108, -0.0437,  0.0507,\n",
       "                      -0.0208, -0.0119,  0.0127, -0.0222,  0.0278,  0.0518,  0.0271, -0.0313,\n",
       "                      -0.0229,  0.0466, -0.0053, -0.0090, -0.0086, -0.0138, -0.0497,  0.0302,\n",
       "                       0.0509, -0.0155, -0.0397, -0.0193, -0.0429,  0.0309,  0.0457, -0.0265,\n",
       "                      -0.0270,  0.0480, -0.0187, -0.0074,  0.0246, -0.0152, -0.0546,  0.0228,\n",
       "                      -0.0432, -0.0513, -0.0120,  0.0480, -0.0368,  0.0378, -0.0054, -0.0426,\n",
       "                       0.0173, -0.0506, -0.0467, -0.0273, -0.0147,  0.0475,  0.0443,  0.0208,\n",
       "                       0.0265, -0.0178,  0.0134, -0.0101, -0.0033,  0.0519,  0.0369,  0.0021,\n",
       "                      -0.0283, -0.0534, -0.0417, -0.0448,  0.0163,  0.0470, -0.0096, -0.0337,\n",
       "                       0.0447,  0.0022,  0.0425,  0.0191, -0.0230,  0.0338, -0.0588,  0.0156,\n",
       "                      -0.0178, -0.0048, -0.0203, -0.0132, -0.0155, -0.0006,  0.0576,  0.0023,\n",
       "                      -0.0136, -0.0367,  0.0013, -0.0584,  0.0254, -0.0587,  0.0381,  0.0180,\n",
       "                      -0.0396, -0.0312, -0.0542,  0.0173,  0.0098, -0.0408,  0.0524, -0.0318,\n",
       "                       0.0193,  0.0296,  0.0400,  0.0483, -0.0037,  0.0494, -0.0175, -0.0564,\n",
       "                       0.0398,  0.0151,  0.0080,  0.0109, -0.0476, -0.0163, -0.0396,  0.0086,\n",
       "                       0.0358, -0.0316,  0.0255, -0.0194,  0.0394,  0.0080, -0.0543, -0.0178,\n",
       "                       0.0205, -0.0150, -0.0152,  0.0045,  0.0341, -0.0266,  0.0291,  0.0313,\n",
       "                       0.0401,  0.0338, -0.0131,  0.0243, -0.0056, -0.0393, -0.0353, -0.0504,\n",
       "                      -0.0335,  0.0455,  0.0386, -0.0348,  0.0259, -0.0586,  0.0111, -0.0383,\n",
       "                      -0.0328, -0.0300, -0.0566, -0.0467,  0.0403, -0.0036,  0.0098, -0.0443,\n",
       "                       0.0210,  0.0461, -0.0177, -0.0510, -0.0040, -0.0419, -0.0375,  0.0102,\n",
       "                       0.0130, -0.0208,  0.0364,  0.0502, -0.0397,  0.0198,  0.0432, -0.0547,\n",
       "                      -0.0165,  0.0397,  0.0038,  0.0376, -0.0089, -0.0076,  0.0376,  0.0375,\n",
       "                      -0.0370, -0.0057,  0.0359,  0.0259,  0.0106, -0.0028, -0.0490,  0.0322,\n",
       "                      -0.0179, -0.0004, -0.0342,  0.0043, -0.0023,  0.0340, -0.0311,  0.0486,\n",
       "                      -0.0572, -0.0083, -0.0518,  0.0407, -0.0203, -0.0095,  0.0423,  0.0504,\n",
       "                      -0.0292, -0.0053,  0.0439,  0.0518,  0.0255, -0.0273,  0.0413,  0.0526,\n",
       "                      -0.0381, -0.0049, -0.0136,  0.0180, -0.0468,  0.0070, -0.0481,  0.0073,\n",
       "                       0.0549,  0.0249, -0.0339, -0.0335,  0.0319,  0.0044,  0.0349,  0.0039,\n",
       "                       0.0288,  0.0058, -0.0461, -0.0564,  0.0178,  0.0161, -0.0270,  0.0418,\n",
       "                      -0.0206, -0.0065, -0.0325, -0.0340,  0.0410, -0.0350,  0.0381,  0.0606,\n",
       "                       0.0438,  0.0267, -0.0270,  0.0516,  0.0044, -0.0310,  0.0539, -0.0531])),\n",
       "             ('encoder.4.weight',\n",
       "              tensor([[ 0.0194, -0.0080, -0.0003,  ..., -0.0515,  0.0060, -0.0098],\n",
       "                      [ 0.0048, -0.0044, -0.0265,  ...,  0.0375,  0.0419, -0.0485],\n",
       "                      [-0.0204, -0.0443, -0.0179,  ..., -0.0496,  0.0236, -0.0440],\n",
       "                      ...,\n",
       "                      [ 0.0535, -0.0107, -0.0476,  ..., -0.0240,  0.0371,  0.0333],\n",
       "                      [ 0.0053, -0.0534, -0.0059,  ...,  0.0520,  0.0282, -0.0071],\n",
       "                      [ 0.0296,  0.0128, -0.0540,  ..., -0.0603,  0.0427,  0.0439]])),\n",
       "             ('encoder.4.bias',\n",
       "              tensor([-0.0145, -0.0347,  0.0249,  0.0207, -0.0136,  0.0477,  0.0023, -0.0030,\n",
       "                       0.0376,  0.0424,  0.0018, -0.0309, -0.0369,  0.0490,  0.0182, -0.0127,\n",
       "                       0.0516, -0.0151, -0.0003,  0.0421,  0.0239, -0.0179, -0.0269,  0.0419,\n",
       "                      -0.0563,  0.0453,  0.0114, -0.0472, -0.0061, -0.0333, -0.0308,  0.0259,\n",
       "                       0.0031, -0.0318, -0.0447,  0.0017, -0.0166, -0.0418,  0.0465,  0.0294,\n",
       "                      -0.0433, -0.0357, -0.0253, -0.0307, -0.0416, -0.0169, -0.0237, -0.0008,\n",
       "                       0.0498, -0.0035, -0.0424, -0.0301, -0.0092, -0.0474, -0.0299,  0.0071,\n",
       "                       0.0498,  0.0546, -0.0330,  0.0426,  0.0100, -0.0115, -0.0561,  0.0380,\n",
       "                       0.0298, -0.0135,  0.0471, -0.0597, -0.0268,  0.0259,  0.0055,  0.0018,\n",
       "                      -0.0442,  0.0315, -0.0365, -0.0370,  0.0368,  0.0030,  0.0484,  0.0398,\n",
       "                      -0.0304,  0.0129,  0.0481, -0.0270,  0.0461, -0.0069, -0.0178,  0.0128,\n",
       "                       0.0222,  0.0529,  0.0476, -0.0055, -0.0211, -0.0569,  0.0256, -0.0338,\n",
       "                       0.0576, -0.0265,  0.0123, -0.0106, -0.0334,  0.0278,  0.0034, -0.0560,\n",
       "                      -0.0224,  0.0416, -0.0368,  0.0029, -0.0016, -0.0172,  0.0116,  0.0042,\n",
       "                       0.0169,  0.0587, -0.0139,  0.0299, -0.0396,  0.0101,  0.0027, -0.0345,\n",
       "                      -0.0031,  0.0320,  0.0541, -0.0202,  0.0529, -0.0367, -0.0200,  0.0606,\n",
       "                      -0.0244,  0.0393,  0.0573,  0.0456, -0.0441, -0.0340, -0.0246,  0.0250,\n",
       "                       0.0022, -0.0402, -0.0349,  0.0324, -0.0054, -0.0016,  0.0306,  0.0389,\n",
       "                      -0.0169, -0.0213, -0.0301, -0.0118,  0.0400, -0.0070, -0.0342, -0.0488,\n",
       "                      -0.0385,  0.0580, -0.0126,  0.0198, -0.0474, -0.0541, -0.0383, -0.0499,\n",
       "                       0.0075,  0.0010, -0.0178, -0.0485,  0.0348,  0.0114, -0.0408, -0.0448,\n",
       "                       0.0217, -0.0265,  0.0475, -0.0335,  0.0083,  0.0320, -0.0425,  0.0106,\n",
       "                      -0.0319,  0.0017, -0.0167, -0.0182, -0.0554, -0.0518,  0.0077,  0.0281,\n",
       "                      -0.0500,  0.0112,  0.0360,  0.0074,  0.0233, -0.0256,  0.0001,  0.0329,\n",
       "                       0.0506, -0.0498, -0.0058,  0.0067,  0.0564, -0.0470,  0.0360, -0.0040,\n",
       "                       0.0037,  0.0329, -0.0224,  0.0169,  0.0106, -0.0028,  0.0560,  0.0261,\n",
       "                      -0.0245, -0.0336,  0.0027,  0.0145, -0.0315,  0.0134,  0.0106,  0.0457,\n",
       "                      -0.0232,  0.0190,  0.0336, -0.0377, -0.0152,  0.0068, -0.0275,  0.0379,\n",
       "                       0.0257, -0.0392, -0.0155,  0.0480,  0.0307,  0.0159,  0.0277, -0.0094,\n",
       "                       0.0074,  0.0477,  0.0299, -0.0480,  0.0137,  0.0141, -0.0130,  0.0267,\n",
       "                       0.0567, -0.0372, -0.0299, -0.0553, -0.0553, -0.0041,  0.0270, -0.0380,\n",
       "                      -0.0541, -0.0168, -0.0336,  0.0223, -0.0246,  0.0551, -0.0072,  0.0596,\n",
       "                       0.0416, -0.0227, -0.0459, -0.0046, -0.0118,  0.0041, -0.0433,  0.0570,\n",
       "                       0.0595,  0.0175,  0.0414, -0.0583, -0.0021,  0.0558, -0.0225,  0.0069,\n",
       "                      -0.0603,  0.0160, -0.0093, -0.0389, -0.0268,  0.0283, -0.0299, -0.0328,\n",
       "                      -0.0060,  0.0291,  0.0080, -0.0168, -0.0043,  0.0485,  0.0253, -0.0055])),\n",
       "             ('encoder.6.weight',\n",
       "              tensor([[-2.1190e-02, -1.9380e-02,  1.6563e-04,  4.6644e-02, -2.4227e-02,\n",
       "                       -4.8116e-02,  4.1115e-02, -2.8028e-02,  6.6129e-03,  2.7817e-02,\n",
       "                       -1.3629e-02,  2.4634e-02,  8.0918e-03,  4.2643e-02,  5.9943e-03,\n",
       "                       -1.2630e-02,  2.4573e-02,  8.4485e-03,  3.6134e-02,  1.1829e-02,\n",
       "                        7.4227e-03,  2.1835e-02,  2.6538e-02,  3.9522e-02, -1.7604e-02,\n",
       "                       -1.7985e-02,  9.0162e-04,  4.3538e-02,  5.3224e-02,  1.0894e-02,\n",
       "                        9.2394e-03,  1.4297e-02,  2.7584e-02, -8.2560e-03,  1.1149e-02,\n",
       "                        3.5479e-02, -3.9844e-02,  1.1929e-03,  4.7050e-02, -2.8342e-02,\n",
       "                       -3.3535e-02,  2.6742e-02,  2.3412e-02,  1.3559e-02,  2.1513e-02,\n",
       "                       -3.6051e-02,  3.8777e-04, -4.2807e-03, -1.0203e-02,  9.1511e-03,\n",
       "                       -3.2742e-04,  2.5650e-02,  2.7091e-02, -4.8134e-02, -4.3334e-02,\n",
       "                       -1.4554e-02, -3.2338e-02, -3.7029e-02, -2.2141e-02,  1.4688e-02,\n",
       "                       -4.1827e-02,  2.9340e-03,  5.2227e-02,  1.9305e-02, -5.0593e-02,\n",
       "                       -2.0802e-02, -5.5920e-02,  2.2626e-02,  6.8992e-03, -3.5315e-02,\n",
       "                        1.5390e-02,  5.0568e-02,  3.9180e-02, -2.9704e-02, -4.1168e-02,\n",
       "                        3.8785e-02, -3.7877e-02,  2.7564e-02, -5.2625e-02,  4.8312e-02,\n",
       "                       -2.2197e-02,  4.3892e-02, -2.2832e-03,  3.8550e-02, -6.9148e-03,\n",
       "                       -2.6035e-02, -2.5180e-02,  2.3850e-02,  5.0818e-02,  4.4177e-02,\n",
       "                        4.6527e-02, -3.4495e-02, -4.2801e-02,  4.1609e-02, -5.5424e-02,\n",
       "                        4.7649e-02, -4.4764e-02, -2.2445e-02,  3.4930e-02,  1.7881e-02,\n",
       "                       -3.2347e-02,  8.8996e-03,  1.6259e-02, -1.4758e-02,  2.6280e-03,\n",
       "                       -3.4087e-02,  5.0065e-02,  3.0177e-02,  3.3955e-02,  3.9395e-02,\n",
       "                        3.4581e-02, -3.4229e-02,  3.6795e-02, -3.6298e-02,  1.8992e-02,\n",
       "                        4.0979e-02,  9.2630e-03, -1.9571e-02, -3.0468e-02,  1.7417e-02,\n",
       "                       -2.3214e-02, -6.5453e-03, -8.5462e-03,  3.4274e-02,  4.3456e-02,\n",
       "                        4.3723e-02,  1.4340e-02, -3.0740e-02,  2.3173e-03, -1.0460e-02,\n",
       "                        3.8700e-02,  2.3176e-02,  5.5960e-02,  3.4035e-03,  7.3896e-03,\n",
       "                       -7.1923e-03,  2.4663e-02, -3.8330e-02,  6.7612e-03, -1.1615e-02,\n",
       "                        4.4081e-02,  7.6171e-03, -1.8107e-02, -5.5858e-04, -1.5644e-04,\n",
       "                        1.1454e-03,  5.3445e-02, -5.9622e-03,  1.4401e-02, -1.9214e-02,\n",
       "                       -2.8785e-02,  3.4117e-02, -2.1042e-04, -4.5902e-02, -1.9875e-02,\n",
       "                       -3.1724e-02, -3.8402e-03,  1.3425e-02,  1.0795e-02, -4.5265e-02,\n",
       "                        5.4536e-02,  1.6994e-02,  4.9959e-02,  8.6922e-03, -2.6236e-02,\n",
       "                        2.6472e-02,  3.8173e-02, -1.7034e-02, -5.5454e-02, -1.7673e-02,\n",
       "                       -1.7489e-02, -8.9196e-03,  3.6309e-02,  1.9204e-02,  2.6483e-02,\n",
       "                       -3.1379e-02, -2.7583e-02,  3.9450e-03,  3.4589e-02, -2.9901e-02,\n",
       "                       -4.6979e-02, -4.7718e-02,  6.7475e-05, -3.6497e-02, -1.7810e-02,\n",
       "                       -4.3915e-02,  1.4998e-02,  1.0230e-02, -5.1315e-02,  9.5512e-03,\n",
       "                        2.0352e-02,  3.4936e-02, -7.7520e-03, -4.7759e-02, -1.8979e-02,\n",
       "                        5.4097e-02, -3.4678e-02, -4.7011e-02, -2.2224e-02, -1.2414e-02,\n",
       "                        1.7790e-02, -2.6112e-02, -4.5976e-03,  8.9333e-03,  2.0195e-02,\n",
       "                        2.7627e-03, -3.2710e-02,  2.3483e-02, -4.7716e-02, -3.8927e-02,\n",
       "                        2.8813e-02,  4.9876e-02, -4.7728e-03, -7.4348e-03, -1.8042e-03,\n",
       "                        1.1957e-03, -4.5823e-02,  2.0243e-02, -3.2828e-03, -4.3187e-02,\n",
       "                        3.6782e-02,  1.2814e-02,  1.9079e-02,  5.2674e-02,  2.2452e-02,\n",
       "                       -2.5147e-03,  3.4916e-02,  1.2085e-02,  7.9745e-03,  6.8265e-03,\n",
       "                       -4.1853e-02,  1.4852e-02,  3.3867e-02,  4.4960e-02,  4.7318e-02,\n",
       "                        1.4811e-02, -3.8296e-02, -7.9396e-04,  2.6194e-03,  3.2404e-02,\n",
       "                       -3.9792e-02,  4.3148e-02, -4.6470e-02, -2.8498e-02, -4.8303e-02,\n",
       "                       -4.1316e-02, -4.5251e-02, -3.1602e-02,  2.2952e-02, -4.1508e-02,\n",
       "                        3.1501e-02,  5.5755e-03, -4.2849e-02, -4.7240e-02,  2.0241e-02,\n",
       "                       -1.6484e-02,  3.0573e-02,  5.5457e-02, -4.2740e-02, -4.8139e-02,\n",
       "                        4.2503e-02, -1.7208e-04, -1.3715e-02, -4.2958e-02, -5.7038e-02,\n",
       "                       -4.9933e-03,  3.6096e-02,  2.2745e-02, -4.1550e-02, -1.2878e-02,\n",
       "                        3.3989e-02,  1.2613e-02,  1.7401e-02, -5.1628e-02, -1.9713e-02,\n",
       "                        1.8694e-03,  4.4871e-02,  1.2871e-04,  3.0610e-03,  2.9929e-03,\n",
       "                        2.2092e-02, -4.7391e-02,  4.2514e-04, -1.0032e-02,  1.9977e-02,\n",
       "                        1.0528e-02, -2.7096e-02,  1.0154e-02],\n",
       "                      [ 4.0661e-02, -3.7752e-02,  8.7624e-03, -1.5073e-02,  4.6901e-02,\n",
       "                       -4.4949e-02, -3.8524e-02, -2.6199e-02, -1.0655e-02, -3.9480e-02,\n",
       "                        3.0811e-02, -1.5649e-02, -9.6690e-03,  2.8982e-02,  3.0365e-02,\n",
       "                       -3.4639e-02,  1.9957e-02, -5.3358e-02, -6.0635e-03, -4.5680e-02,\n",
       "                        1.5928e-02, -1.0596e-02, -1.1359e-02, -4.8739e-02, -1.2424e-03,\n",
       "                       -4.8875e-02,  1.8755e-02, -3.5398e-02,  5.0455e-02, -2.7579e-02,\n",
       "                       -1.5932e-02, -2.0293e-02,  1.7630e-02,  2.5709e-02, -2.5681e-02,\n",
       "                        3.5321e-02, -2.0257e-02, -4.4366e-02,  3.0849e-02,  1.2140e-02,\n",
       "                        3.7842e-02,  1.3087e-02,  1.8251e-02, -5.2915e-03, -2.6832e-03,\n",
       "                        4.2162e-02,  4.9174e-02,  5.3468e-02,  4.1234e-02,  4.2012e-02,\n",
       "                        6.2509e-03, -1.9986e-02, -2.8424e-03, -4.4510e-02,  1.1924e-02,\n",
       "                        2.5735e-02, -9.9483e-03, -4.4144e-04, -2.4225e-02, -2.8687e-02,\n",
       "                        1.3567e-04, -1.0251e-02,  4.7458e-02, -2.9327e-03,  4.2772e-02,\n",
       "                        5.6297e-02, -2.6699e-02,  4.3230e-02,  4.5553e-02,  2.1881e-02,\n",
       "                        3.7145e-02,  3.4788e-02,  1.2124e-02,  7.4952e-03,  2.3352e-02,\n",
       "                        9.1060e-03,  4.0279e-02,  4.1580e-02, -9.0008e-05,  1.7764e-02,\n",
       "                        4.3855e-02, -7.9774e-03,  2.9500e-02, -1.3910e-02,  7.7678e-03,\n",
       "                        2.5902e-02, -2.0330e-03,  3.0182e-02,  3.9111e-02, -1.5568e-02,\n",
       "                        2.6667e-02,  3.8555e-02, -2.8075e-03,  3.8315e-03,  2.8370e-02,\n",
       "                        4.7910e-02,  9.7128e-03,  3.7986e-02,  2.2141e-02,  1.5694e-02,\n",
       "                       -2.1115e-03,  3.4878e-02,  4.3989e-02,  5.4652e-04,  3.5504e-02,\n",
       "                       -4.7700e-02,  3.1309e-02,  2.5149e-02,  5.1219e-02, -1.1371e-02,\n",
       "                        2.9231e-02,  5.1252e-02,  4.4736e-02, -3.5072e-02,  2.0848e-02,\n",
       "                        5.4050e-02,  5.6899e-02, -7.1309e-03, -3.7443e-02,  8.4142e-03,\n",
       "                       -3.2504e-02, -4.0714e-02,  4.9369e-02, -2.2921e-02, -2.3662e-02,\n",
       "                        4.1758e-03, -3.2008e-02, -6.2614e-03, -1.1718e-02,  4.0461e-02,\n",
       "                       -4.0221e-02, -2.0139e-02, -4.3709e-02, -4.8752e-03,  5.4462e-02,\n",
       "                        4.5447e-02, -1.6475e-02,  4.5752e-02, -5.0224e-02,  3.3617e-02,\n",
       "                        2.6977e-02,  3.0162e-02, -5.6418e-02, -1.4848e-02, -1.4947e-02,\n",
       "                       -4.1655e-02,  8.1165e-03, -9.9062e-03,  3.3059e-02,  5.7150e-02,\n",
       "                       -4.2042e-02,  5.1228e-03,  2.1506e-02,  4.6499e-03,  1.6812e-02,\n",
       "                        5.2720e-02,  5.8385e-02,  1.3178e-02,  3.5291e-02,  4.7882e-03,\n",
       "                       -3.9973e-02, -2.3053e-04, -4.1793e-02, -3.6069e-02, -3.8420e-02,\n",
       "                        4.5761e-02,  2.4480e-03, -1.8927e-02, -1.8518e-02, -1.3510e-02,\n",
       "                       -4.1144e-02,  5.0977e-02, -2.9010e-03,  2.8640e-02, -1.4027e-02,\n",
       "                       -3.2903e-02,  1.5935e-02,  4.7801e-02,  3.6347e-02,  3.1228e-02,\n",
       "                        3.2962e-02,  2.8954e-03, -6.7607e-04,  3.9709e-02, -3.0644e-02,\n",
       "                        4.6350e-02, -3.3018e-02, -3.9030e-02,  4.8412e-02, -1.2431e-02,\n",
       "                       -1.3019e-02,  2.0174e-02,  3.7145e-02, -1.0428e-02,  5.3509e-02,\n",
       "                        3.5412e-03, -4.1956e-02,  5.4753e-02, -3.8215e-02, -1.3070e-02,\n",
       "                        4.4266e-02, -4.0247e-02, -2.2331e-02,  3.4392e-02, -2.1232e-02,\n",
       "                       -1.6412e-02, -1.6107e-02,  5.4667e-03, -4.8511e-02,  1.6577e-02,\n",
       "                       -3.9569e-02,  4.1626e-02,  5.5294e-03, -2.0674e-02,  2.7195e-02,\n",
       "                        5.1045e-02,  2.9636e-02, -1.9432e-02, -3.1032e-02, -5.3211e-02,\n",
       "                        5.3973e-02, -3.0424e-02, -2.2431e-03, -1.0931e-02,  4.4228e-02,\n",
       "                        4.5561e-02, -5.1027e-02, -1.5769e-02, -5.3829e-02,  7.8418e-03,\n",
       "                       -1.8665e-02, -4.4929e-03,  2.9694e-02,  2.3529e-02,  1.8330e-02,\n",
       "                        3.7739e-02,  1.1975e-02, -2.4912e-02, -2.9057e-02,  1.9495e-02,\n",
       "                       -8.8218e-04,  3.0757e-02, -1.9903e-02,  7.9582e-03,  4.0679e-02,\n",
       "                       -5.4012e-02,  5.1288e-02,  4.2018e-02,  2.7112e-02, -3.8899e-02,\n",
       "                        4.8480e-02, -5.3905e-02,  4.9640e-02, -2.1695e-02, -8.1662e-03,\n",
       "                       -2.7740e-02,  6.0528e-03, -1.6390e-02, -3.0211e-02, -3.1361e-03,\n",
       "                        2.4928e-02, -9.7295e-03,  2.1859e-02, -6.1106e-03,  3.4003e-02,\n",
       "                       -4.2579e-02, -6.3812e-03, -1.2090e-02, -9.1886e-03,  2.3502e-02,\n",
       "                        2.4541e-02,  1.6262e-02, -2.5744e-02,  4.8355e-02,  5.5735e-02,\n",
       "                        5.2060e-02, -4.1549e-02,  1.9201e-02,  4.0074e-02, -2.2275e-02,\n",
       "                       -1.8380e-02, -2.3488e-02,  2.2195e-02, -4.6554e-03, -1.5988e-02,\n",
       "                       -9.2099e-03,  2.1822e-02, -4.6397e-02],\n",
       "                      [-1.7137e-02, -4.1947e-02,  2.2770e-01, -2.1656e-01, -1.0724e-01,\n",
       "                        1.4025e-01, -1.0474e-01, -2.8980e-02, -4.3695e-03, -1.5687e-01,\n",
       "                        1.7753e-01, -1.1263e-01, -1.9105e-01, -3.7243e-02, -2.1356e-01,\n",
       "                        4.5567e-02,  1.0585e-02, -7.2469e-03, -2.5624e-01,  7.5795e-02,\n",
       "                        1.7767e-01, -1.7701e-01,  1.3091e-01,  4.9700e-02, -9.5927e-02,\n",
       "                       -1.7961e-02,  7.1897e-02, -1.4742e-01,  1.3248e-01,  3.9674e-02,\n",
       "                       -1.2336e-01, -1.9418e-02, -2.7380e-01, -8.9727e-02, -5.3115e-02,\n",
       "                       -1.2148e-01, -1.6806e-01, -5.1499e-02,  1.6472e-01, -1.5183e-01,\n",
       "                       -9.2061e-02, -1.2319e-01, -1.4684e-01,  1.0135e-01,  1.0845e-01,\n",
       "                       -8.3260e-02,  5.6266e-02,  2.4824e-01, -1.0361e-01, -1.4422e-01,\n",
       "                       -1.6486e-01,  6.9223e-02,  8.7881e-02, -3.2687e-02, -5.2172e-02,\n",
       "                        1.2248e-01,  3.3772e-02, -1.2745e-01, -6.2617e-02, -2.1560e-01,\n",
       "                       -6.7877e-02,  2.4910e-02, -1.2359e-01,  4.9683e-02,  1.0220e-01,\n",
       "                       -7.1071e-02,  1.5760e-01, -5.8606e-02,  2.4107e-02, -1.8930e-01,\n",
       "                       -5.2709e-02, -1.6760e-01, -1.3663e-02,  1.0902e-01, -8.4268e-02,\n",
       "                       -3.7139e-02,  3.7789e-02,  1.2361e-01, -2.0980e-01,  1.3374e-02,\n",
       "                       -9.2793e-02,  9.7789e-03,  2.5542e-01,  5.7321e-03,  1.2595e-01,\n",
       "                        2.1730e-02, -2.0165e-01, -1.0823e-01, -2.1529e-01,  9.1265e-02,\n",
       "                       -3.8745e-02,  1.2937e-01,  1.9357e-02,  9.5455e-03,  9.9620e-02,\n",
       "                       -2.8484e-02, -1.9310e-01, -1.1150e-01, -7.8571e-02,  1.9588e-01,\n",
       "                       -3.1521e-02,  6.5813e-02, -6.6746e-02, -6.5597e-02,  9.4086e-02,\n",
       "                        1.3998e-02, -3.5040e-02,  7.5947e-02, -2.0506e-01, -3.3487e-02,\n",
       "                        1.1648e-01,  1.6109e-01,  1.0931e-01,  8.6086e-02, -4.9004e-02,\n",
       "                        5.2685e-02,  1.2053e-01, -1.4621e-01, -1.2936e-01, -4.9249e-02,\n",
       "                        1.1921e-01,  1.5558e-01,  1.6067e-01,  2.5238e-02,  5.8823e-02,\n",
       "                       -1.0268e-01, -6.7279e-02, -8.4959e-02, -1.7784e-01,  1.6106e-02,\n",
       "                        1.4129e-01,  1.5196e-01, -1.3415e-01, -7.0029e-02, -1.2529e-01,\n",
       "                        7.0317e-02,  1.6948e-01,  2.9739e-02, -1.1623e-01, -7.0644e-02,\n",
       "                       -1.3190e-01,  2.9182e-01,  6.3788e-02,  3.2168e-01, -4.2735e-01,\n",
       "                       -5.9680e-02, -1.8005e-01,  1.0641e-01,  7.6208e-02, -3.6010e-02,\n",
       "                        8.5439e-03, -5.0602e-02,  1.0467e-03,  2.1189e-02,  4.0988e-02,\n",
       "                       -9.3661e-06,  2.3773e-02, -8.9052e-02, -2.6846e-02,  1.5354e-01,\n",
       "                        1.2763e-01,  2.3535e-01,  1.8835e-02, -1.1293e-01, -1.1548e-02,\n",
       "                       -8.5508e-02, -6.4614e-02, -1.1064e-02,  1.1958e-01,  2.0028e-01,\n",
       "                       -4.1829e-02, -1.3262e-02, -7.6111e-03,  8.6346e-02, -9.8126e-02,\n",
       "                        1.0661e-02, -2.8322e-02, -7.5877e-02,  7.6533e-02, -1.8915e-01,\n",
       "                       -1.3874e-01, -1.9970e-01, -2.7745e-01,  5.7992e-02, -2.3778e-02,\n",
       "                        1.7214e-02,  1.4206e-01, -6.5977e-03,  5.7827e-02, -1.3636e-01,\n",
       "                        6.3239e-02,  3.0236e-02,  2.1197e-01,  2.0403e-01,  6.6623e-02,\n",
       "                        1.3196e-01, -1.8094e-01, -1.2415e-01,  1.1084e-01,  6.2538e-02,\n",
       "                        1.1005e-02,  9.8179e-02,  6.1230e-02, -3.5072e-02,  1.6118e-01,\n",
       "                        4.3824e-02,  1.5200e-01,  4.3892e-02, -1.9450e-01, -9.8659e-02,\n",
       "                       -8.2501e-02,  9.4678e-02, -1.9979e-01, -2.7148e-03,  1.7855e-01,\n",
       "                       -1.3348e-01, -1.7602e-01,  1.4446e-02, -1.7446e-01,  5.6115e-02,\n",
       "                       -5.6262e-02,  1.2458e-01, -2.3174e-02,  1.0418e-01, -1.3826e-01,\n",
       "                       -6.0851e-02, -9.2656e-02,  1.1308e-02,  4.8224e-02, -1.4087e-01,\n",
       "                       -9.4422e-02,  2.8184e-02, -5.3737e-02, -4.9474e-02, -8.2476e-02,\n",
       "                       -1.3789e-01, -1.1416e-02, -4.2751e-02,  3.3491e-01,  1.8641e-01,\n",
       "                        4.1185e-02, -1.5135e-01,  5.2436e-02, -1.8907e-01, -1.3083e-01,\n",
       "                       -3.2720e-02,  1.5808e-01,  1.1249e-01, -8.5692e-02, -2.3381e-01,\n",
       "                       -3.3524e-02,  6.6528e-02,  4.5376e-02,  1.8769e-02, -5.3730e-02,\n",
       "                        7.7860e-02, -1.1102e-02, -6.2915e-03,  3.5407e-02,  3.0892e-02,\n",
       "                       -4.9675e-02, -1.4527e-01,  9.2847e-02,  1.0293e-01,  3.3350e-02,\n",
       "                        9.4319e-02,  1.0605e-01, -2.5429e-02,  2.3654e-01,  8.5123e-02,\n",
       "                        1.5256e-01, -1.1534e-01, -1.1239e-01, -2.1869e-01, -1.3331e-01,\n",
       "                       -7.2734e-02,  1.2465e-01, -3.4441e-01, -1.2801e-01, -2.0221e-02,\n",
       "                        9.6226e-02, -1.4693e-01,  1.2733e-01, -1.2125e-01,  4.9344e-02,\n",
       "                       -6.1553e-02, -3.9579e-02, -9.3613e-02]])),\n",
       "             ('encoder.6.bias', tensor([0.0181, 0.0439, 0.1189]))])"
      ]
     },
     "execution_count": 46,
     "metadata": {},
     "output_type": "execute_result"
    }
   ],
   "source": [
    "final_model"
   ]
  },
  {
   "cell_type": "code",
   "execution_count": 47,
   "metadata": {},
   "outputs": [
    {
     "data": {
      "text/plain": [
       "<All keys matched successfully>"
      ]
     },
     "execution_count": 47,
     "metadata": {},
     "output_type": "execute_result"
    }
   ],
   "source": [
    "saved_net = Net(b_values)\n",
    "saved_net.load_state_dict(torch.load('model_no_ab_data.pt'))\n"
   ]
  },
  {
   "cell_type": "code",
   "execution_count": 48,
   "metadata": {},
   "outputs": [
    {
     "data": {
      "text/plain": [
       "OrderedDict([('fc_layers.0.weight',\n",
       "              tensor([[ 0.0117,  0.0207,  0.0543,  ..., -0.0335,  0.0088, -0.0321],\n",
       "                      [ 0.0244, -0.0562, -0.0040,  ...,  0.0471,  0.0127,  0.0427],\n",
       "                      [ 0.0329,  0.0519, -0.0591,  ...,  0.0200, -0.0289,  0.0238],\n",
       "                      ...,\n",
       "                      [-0.0573, -0.0590,  0.0212,  ...,  0.0119,  0.0355,  0.0561],\n",
       "                      [ 0.0500, -0.0543, -0.0243,  ...,  0.0094, -0.0255,  0.0393],\n",
       "                      [ 0.0232, -0.0342,  0.0489,  ...,  0.0153,  0.0567,  0.0268]])),\n",
       "             ('fc_layers.0.bias',\n",
       "              tensor([-1.4963e-02, -1.2238e-02,  3.8046e-02, -3.8336e-02,  4.8857e-02,\n",
       "                      -4.1924e-02,  4.2281e-02, -9.6422e-04,  5.6709e-02,  2.8266e-03,\n",
       "                       3.3036e-02, -5.4136e-02,  7.1177e-03,  5.1911e-02,  9.7281e-03,\n",
       "                       3.2660e-02,  4.3473e-02, -5.0467e-02, -6.4269e-02, -9.4004e-04,\n",
       "                       2.3431e-02,  6.1972e-02,  1.1576e-02, -3.0719e-02, -2.4780e-02,\n",
       "                       3.6668e-02, -2.4849e-02, -4.9929e-02, -5.1103e-02,  3.4137e-02,\n",
       "                       3.5567e-02,  5.5865e-02,  3.5407e-02,  4.6977e-02, -4.3341e-02,\n",
       "                      -3.4913e-02,  5.2000e-02, -5.1925e-02, -2.6916e-02,  1.4897e-02,\n",
       "                       5.2618e-02, -3.1253e-02, -4.6240e-02, -5.4643e-02, -2.8803e-04,\n",
       "                       2.2221e-02,  3.8112e-02,  6.0062e-03, -6.1049e-02,  2.7141e-02,\n",
       "                       4.0508e-02,  4.9442e-02, -3.5954e-02,  2.5201e-02,  3.0115e-02,\n",
       "                       5.5986e-02, -2.1865e-02,  1.1895e-02, -5.1725e-02,  3.4037e-02,\n",
       "                       5.1528e-03,  4.5462e-02, -5.4647e-02, -2.7446e-02, -2.2390e-02,\n",
       "                      -2.1707e-03, -6.7027e-03, -2.6578e-04,  5.5299e-02,  4.1222e-02,\n",
       "                       5.6040e-02,  9.8417e-03, -8.6828e-03, -3.7102e-03, -3.3377e-02,\n",
       "                       1.1735e-02, -1.3046e-02, -5.6473e-02, -4.8578e-02,  7.9263e-04,\n",
       "                       2.8417e-02, -4.8061e-02, -4.5625e-02,  3.2865e-02, -5.0159e-02,\n",
       "                      -2.3508e-02, -2.3340e-02,  4.0732e-02, -3.8690e-02, -5.6006e-02,\n",
       "                      -3.0099e-02,  2.1805e-02,  2.3044e-02, -2.5100e-03,  5.1580e-02,\n",
       "                      -1.8940e-02, -4.6910e-03,  3.2914e-02, -2.2266e-02,  5.6741e-03,\n",
       "                       1.2040e-03, -3.4328e-02, -3.1714e-02, -3.3402e-02, -4.6287e-02,\n",
       "                      -2.7817e-02,  5.3968e-02,  9.7501e-03, -1.9903e-02,  2.3400e-02,\n",
       "                       3.3501e-02,  2.5999e-04,  3.9998e-02,  3.8060e-02,  2.4829e-02,\n",
       "                       4.2667e-02,  3.4180e-02,  3.8962e-02,  5.8318e-02, -2.1725e-02,\n",
       "                       3.2725e-02, -2.8804e-02,  3.0365e-03, -4.4222e-03,  9.4139e-03,\n",
       "                      -1.0892e-02, -4.2696e-02, -2.6549e-02,  1.3942e-02,  3.4506e-02,\n",
       "                      -3.1504e-02,  4.9428e-02, -3.6312e-02, -4.6909e-02,  4.6460e-02,\n",
       "                      -3.5143e-02, -2.7391e-02, -2.7923e-02, -9.3291e-03,  2.4044e-02,\n",
       "                      -5.5866e-02, -2.8826e-02, -3.7082e-02, -2.4588e-02, -3.5899e-02,\n",
       "                       1.9532e-02, -3.4686e-02, -2.5045e-02,  5.2689e-03, -1.7518e-02,\n",
       "                       5.0203e-02,  2.9198e-02, -1.8506e-02,  9.8562e-03, -1.9434e-02,\n",
       "                       5.1581e-02,  2.4262e-02,  4.1994e-02,  4.2562e-02,  3.5068e-02,\n",
       "                       2.4955e-02, -3.1991e-02, -9.2155e-03, -2.1395e-02, -6.1630e-02,\n",
       "                      -3.5564e-02,  2.6113e-02,  2.8831e-02, -2.4245e-02,  8.2964e-03,\n",
       "                      -2.4921e-02,  2.3103e-02, -4.9968e-02, -3.5055e-02, -3.2791e-02,\n",
       "                      -3.5622e-02,  2.2932e-02, -1.9033e-02,  5.6905e-02,  4.0803e-02,\n",
       "                      -2.8558e-02, -5.9802e-02, -3.2247e-02,  5.5283e-02,  1.5161e-03,\n",
       "                       2.1995e-02, -8.5656e-03, -1.5854e-02, -4.6710e-02,  1.3367e-03,\n",
       "                       3.7166e-02,  3.2409e-02,  2.9147e-02,  4.2853e-02,  3.8021e-02,\n",
       "                      -1.2766e-02, -5.4640e-02,  1.7457e-02, -5.3077e-02,  4.5150e-02,\n",
       "                      -3.4310e-02,  2.6845e-02,  1.8383e-02, -3.2225e-02,  5.6887e-04,\n",
       "                      -2.9539e-02,  5.8577e-02,  6.0985e-02,  3.0881e-03, -5.2381e-02,\n",
       "                      -1.5802e-02,  5.2104e-02,  1.6228e-02, -4.6767e-02, -3.8658e-02,\n",
       "                       2.6787e-02, -4.7270e-02, -5.3399e-03,  1.7325e-02, -2.4001e-02,\n",
       "                       1.4343e-04, -3.5576e-02, -2.8551e-02,  1.0328e-02,  6.0222e-02,\n",
       "                       2.8213e-02,  5.7579e-02, -1.7446e-02, -1.2919e-02,  5.6723e-02,\n",
       "                       4.9139e-02, -8.5710e-03,  4.0821e-02,  2.4232e-02,  5.0097e-02,\n",
       "                       6.7852e-03,  5.3102e-02,  5.5905e-02, -8.9610e-03, -5.5749e-02,\n",
       "                      -5.3354e-02, -6.8264e-03,  2.0517e-02,  2.9765e-03,  1.4910e-02,\n",
       "                       2.8211e-02, -1.9705e-02,  3.0624e-02, -1.8233e-02,  2.6565e-02,\n",
       "                      -4.8554e-02, -2.6074e-02,  1.6042e-02, -3.5082e-02, -5.1419e-02,\n",
       "                      -1.9110e-03,  9.1810e-03,  2.0813e-02, -3.8313e-02,  1.2186e-02,\n",
       "                       2.6242e-02,  2.0118e-02,  4.0625e-02,  5.6573e-05,  5.3510e-02,\n",
       "                      -1.6842e-02,  2.5173e-02, -1.4443e-02,  1.4846e-02,  5.0979e-02,\n",
       "                       4.5275e-02,  1.3443e-02, -4.1504e-02, -1.2727e-02,  5.0602e-02,\n",
       "                       1.7903e-02,  3.7485e-02, -6.0070e-02, -1.5952e-02, -2.1909e-02,\n",
       "                       5.5752e-02,  5.7760e-03,  2.5581e-02,  5.4917e-03, -9.5069e-03,\n",
       "                       3.9769e-02, -9.9098e-03, -5.2560e-02])),\n",
       "             ('fc_layers.2.weight',\n",
       "              tensor([[ 0.0332,  0.0355,  0.0207,  ...,  0.0364, -0.0487,  0.0510],\n",
       "                      [ 0.0440, -0.0054, -0.0180,  ...,  0.0293,  0.0268,  0.0317],\n",
       "                      [-0.0267,  0.0254,  0.0325,  ..., -0.0334,  0.0113,  0.0273],\n",
       "                      ...,\n",
       "                      [ 0.0305, -0.0556, -0.0373,  ..., -0.0552,  0.0133, -0.0065],\n",
       "                      [ 0.0417,  0.0071,  0.0604,  ..., -0.0410,  0.0422, -0.0230],\n",
       "                      [-0.0153, -0.0396,  0.0460,  ..., -0.0444,  0.0062,  0.0241]])),\n",
       "             ('fc_layers.2.bias',\n",
       "              tensor([-4.9619e-02,  2.5387e-02, -9.1741e-03, -3.9239e-02,  2.5737e-02,\n",
       "                       4.3085e-02, -2.2505e-02, -5.0615e-03, -2.0258e-02, -6.4650e-03,\n",
       "                       5.5829e-02,  3.0765e-02, -5.2417e-02, -3.5690e-03, -1.6238e-02,\n",
       "                       1.0123e-02,  3.5848e-03,  5.8437e-03, -9.5639e-03, -1.0335e-02,\n",
       "                      -5.6284e-02,  4.1500e-02,  2.9315e-02, -2.6121e-02, -4.4627e-02,\n",
       "                       4.2881e-03,  3.3835e-04, -1.2732e-02, -2.1081e-02,  5.3895e-02,\n",
       "                      -6.7854e-03,  3.4755e-02, -4.3627e-02, -5.0794e-02,  3.3686e-02,\n",
       "                       4.2859e-02,  4.6860e-02, -2.4660e-02, -2.6173e-02, -3.7393e-02,\n",
       "                      -2.9516e-02, -1.0384e-02, -4.8957e-02,  2.9610e-02, -5.0543e-02,\n",
       "                       3.7509e-02, -1.6093e-02, -3.8423e-02,  5.3002e-02, -2.1119e-02,\n",
       "                      -2.5097e-02,  2.6305e-02,  1.1223e-02,  6.9972e-03,  4.4722e-02,\n",
       "                       2.5031e-02, -2.3205e-02,  3.1161e-02, -4.6417e-02, -2.7196e-02,\n",
       "                      -5.2998e-02, -4.8298e-02, -5.5100e-02, -3.2523e-02,  7.4769e-03,\n",
       "                       1.7095e-02, -2.6369e-03,  1.3483e-02, -3.0796e-02, -1.4989e-02,\n",
       "                      -5.0863e-02, -6.0576e-02, -4.7676e-02, -3.9602e-02,  3.9583e-02,\n",
       "                      -2.3235e-02,  1.3585e-02,  2.2324e-02, -2.8230e-02,  5.8110e-02,\n",
       "                      -1.7623e-02,  2.9912e-02, -1.4278e-02, -5.0621e-02, -4.6400e-02,\n",
       "                      -3.5571e-02,  8.6305e-03, -4.8337e-02, -6.3462e-04, -3.1520e-03,\n",
       "                       3.4892e-02,  6.0651e-02, -4.2244e-02,  3.8794e-02,  4.8570e-02,\n",
       "                       6.2929e-03, -2.0032e-02, -2.5391e-03,  4.9005e-02,  3.9344e-02,\n",
       "                      -2.1694e-02, -4.3689e-02, -1.0090e-02,  4.7069e-02, -4.1101e-02,\n",
       "                      -5.0783e-02, -4.6588e-02, -4.4039e-02, -2.8092e-02, -4.9775e-02,\n",
       "                      -3.0258e-02,  3.5782e-02, -1.3509e-02, -1.7770e-02,  3.5724e-02,\n",
       "                      -6.4827e-03,  3.7047e-02,  3.7438e-02,  4.3529e-02, -1.8170e-02,\n",
       "                       4.1138e-02, -3.5916e-02, -5.6142e-02, -1.0886e-02,  5.0897e-02,\n",
       "                       1.6546e-03,  4.4907e-03,  5.5014e-02, -2.9435e-02, -4.0771e-02,\n",
       "                      -3.7489e-02, -7.8095e-03, -5.3585e-02,  5.4835e-02, -1.8946e-02,\n",
       "                      -2.2365e-02, -2.5674e-02,  2.6557e-02, -1.9456e-02, -3.5765e-02,\n",
       "                      -2.3591e-02, -9.8719e-03,  1.6814e-02,  3.3220e-02,  2.3696e-02,\n",
       "                      -1.5830e-02, -3.0309e-02,  9.2419e-05,  5.7944e-02, -2.1831e-02,\n",
       "                      -3.2347e-02,  4.2167e-03, -3.1410e-02,  4.5154e-02,  4.7933e-02,\n",
       "                       1.7578e-02, -5.5630e-03, -2.4467e-02, -1.0832e-02, -5.0132e-03,\n",
       "                      -7.3959e-03,  3.5679e-02,  3.8275e-02, -1.3960e-02,  4.3606e-02,\n",
       "                       3.8330e-02, -2.3571e-02,  5.2339e-02,  2.1876e-03, -5.7969e-02,\n",
       "                      -1.5604e-02, -2.5903e-02,  4.4122e-02, -3.7785e-02, -4.8430e-02,\n",
       "                       1.1889e-02,  2.9726e-02,  1.8523e-02, -2.5528e-02,  4.6185e-03,\n",
       "                       5.5060e-02,  5.2172e-02, -4.1475e-02,  3.0415e-02, -1.1293e-02,\n",
       "                       3.6393e-02, -1.1254e-02,  1.9758e-02, -5.2725e-02, -5.5655e-02,\n",
       "                      -3.1312e-02,  4.5112e-02,  2.1622e-02, -4.7178e-02,  3.6908e-02,\n",
       "                       7.1724e-03, -4.2003e-02,  4.7220e-03, -1.9267e-02, -2.2378e-02,\n",
       "                      -1.1078e-02,  5.1751e-03, -4.9876e-02,  5.0199e-02, -3.8365e-02,\n",
       "                      -1.5119e-02,  9.3213e-03,  5.2107e-02,  6.5124e-03,  2.3193e-02,\n",
       "                       3.1443e-03, -4.8421e-03, -1.7076e-02, -3.5766e-03, -4.1893e-03,\n",
       "                      -8.3203e-03,  4.5238e-02,  4.5846e-02, -3.0723e-02, -1.7679e-02,\n",
       "                       2.5187e-02, -3.8000e-02,  1.4177e-02,  3.7432e-02, -3.1211e-02,\n",
       "                      -1.5699e-02, -1.9739e-02,  1.0886e-02,  5.1799e-02, -5.2530e-02,\n",
       "                      -2.8036e-02, -2.6746e-02,  2.0357e-02,  2.5385e-02, -1.0781e-02,\n",
       "                      -5.3596e-02,  4.8560e-03, -2.8777e-02,  6.3856e-03, -3.6893e-02,\n",
       "                       5.1614e-02, -3.4645e-02, -5.3715e-02,  2.6988e-02, -5.5720e-02,\n",
       "                      -2.3931e-02,  2.4488e-02, -4.2795e-02, -5.5642e-02, -1.9371e-02,\n",
       "                      -1.3745e-02, -9.3932e-03, -4.0002e-03, -4.1531e-02, -5.7953e-02,\n",
       "                       1.1795e-02,  4.6118e-02,  3.2367e-02, -2.8951e-02, -2.9404e-02,\n",
       "                      -3.2256e-02,  1.6852e-02,  3.7680e-02, -7.3630e-03,  2.7616e-02,\n",
       "                      -2.3786e-02, -1.4472e-02, -2.2840e-02,  5.2042e-02,  1.9375e-02,\n",
       "                       2.2992e-02,  5.0168e-02,  5.3992e-02, -4.8137e-02,  3.2222e-02,\n",
       "                       2.5157e-02, -3.1200e-02, -2.6415e-02,  7.1934e-03, -4.9680e-02,\n",
       "                      -1.5872e-02, -4.4201e-02,  5.3395e-02, -3.5046e-03,  3.7519e-02,\n",
       "                      -5.9111e-03, -4.6867e-02,  8.2803e-03])),\n",
       "             ('fc_layers.4.weight',\n",
       "              tensor([[-0.0547, -0.0529,  0.0235,  ...,  0.0438,  0.0192, -0.0282],\n",
       "                      [ 0.0063,  0.0114,  0.0176,  ..., -0.0580,  0.0260, -0.0126],\n",
       "                      [ 0.0062,  0.0302,  0.0247,  ..., -0.0082, -0.0208,  0.0296],\n",
       "                      ...,\n",
       "                      [-0.0332,  0.0117,  0.0537,  ..., -0.0406,  0.0011, -0.0092],\n",
       "                      [-0.0584, -0.0053, -0.0553,  ..., -0.0104,  0.0314,  0.0253],\n",
       "                      [-0.0381, -0.0317,  0.0577,  ..., -0.0572,  0.0171, -0.0493]])),\n",
       "             ('fc_layers.4.bias',\n",
       "              tensor([ 0.0287,  0.0326, -0.0376, -0.0047, -0.0005,  0.0549,  0.0002,  0.0031,\n",
       "                       0.0554,  0.0216, -0.0066,  0.0145,  0.0508,  0.0520, -0.0128, -0.0144,\n",
       "                       0.0429,  0.0527, -0.0089,  0.0250,  0.0560, -0.0165, -0.0077,  0.0223,\n",
       "                       0.0022, -0.0581, -0.0281, -0.0208, -0.0182,  0.0288,  0.0025,  0.0046,\n",
       "                      -0.0404, -0.0390, -0.0391, -0.0385,  0.0271, -0.0295, -0.0546,  0.0430,\n",
       "                       0.0543, -0.0478,  0.0035,  0.0516, -0.0457, -0.0459, -0.0342, -0.0297,\n",
       "                       0.0528,  0.0597, -0.0132,  0.0273, -0.0533, -0.0049,  0.0044,  0.0397,\n",
       "                       0.0321, -0.0117, -0.0269, -0.0304,  0.0426,  0.0238,  0.0338,  0.0131,\n",
       "                       0.0484,  0.0026, -0.0232, -0.0178,  0.0537, -0.0279, -0.0239,  0.0359,\n",
       "                       0.0567,  0.0344,  0.0436,  0.0233,  0.0188, -0.0061, -0.0530, -0.0205,\n",
       "                      -0.0429, -0.0334, -0.0541,  0.0336,  0.0056, -0.0234,  0.0326, -0.0381,\n",
       "                       0.0059, -0.0562, -0.0096,  0.0513,  0.0185, -0.0031, -0.0429,  0.0039,\n",
       "                      -0.0407, -0.0403, -0.0336,  0.0577, -0.0458, -0.0333, -0.0403, -0.0077,\n",
       "                       0.0220, -0.0160, -0.0165,  0.0114,  0.0209,  0.0576, -0.0100, -0.0025,\n",
       "                       0.0196,  0.0260, -0.0467,  0.0556,  0.0243, -0.0139, -0.0407, -0.0273,\n",
       "                      -0.0166,  0.0171,  0.0386,  0.0448, -0.0403, -0.0303,  0.0029, -0.0226,\n",
       "                      -0.0541, -0.0205,  0.0428, -0.0212, -0.0020, -0.0551,  0.0268, -0.0147,\n",
       "                       0.0448, -0.0091,  0.0223,  0.0099,  0.0171, -0.0165, -0.0352, -0.0256,\n",
       "                      -0.0460, -0.0092,  0.0501,  0.0455, -0.0308, -0.0578,  0.0189, -0.0401,\n",
       "                      -0.0311,  0.0479, -0.0158,  0.0544,  0.0379,  0.0358, -0.0456,  0.0360,\n",
       "                       0.0496,  0.0308,  0.0154,  0.0392,  0.0114, -0.0552, -0.0258, -0.0279,\n",
       "                       0.0534, -0.0461, -0.0242, -0.0236, -0.0328, -0.0549, -0.0033, -0.0429,\n",
       "                      -0.0455,  0.0550,  0.0282,  0.0269, -0.0405,  0.0460, -0.0211,  0.0110,\n",
       "                       0.0049,  0.0335,  0.0179,  0.0079, -0.0340, -0.0299,  0.0207,  0.0486,\n",
       "                       0.0175,  0.0045,  0.0012,  0.0460, -0.0199, -0.0259, -0.0553,  0.0133,\n",
       "                      -0.0474,  0.0183, -0.0387, -0.0093, -0.0567,  0.0071,  0.0014,  0.0370,\n",
       "                       0.0069,  0.0031, -0.0152, -0.0308, -0.0248, -0.0560, -0.0267,  0.0087,\n",
       "                       0.0324,  0.0486,  0.0503,  0.0337, -0.0205,  0.0067,  0.0504,  0.0443,\n",
       "                       0.0382, -0.0532, -0.0227, -0.0592,  0.0587,  0.0132,  0.0384, -0.0382,\n",
       "                      -0.0219,  0.0490,  0.0121,  0.0540, -0.0527,  0.0366, -0.0110,  0.0428,\n",
       "                      -0.0590, -0.0586,  0.0081, -0.0518,  0.0381, -0.0041,  0.0429, -0.0153,\n",
       "                      -0.0410,  0.0482, -0.0456, -0.0082,  0.0203,  0.0058, -0.0116,  0.0397,\n",
       "                      -0.0505, -0.0504, -0.0389, -0.0273,  0.0029,  0.0576, -0.0041,  0.0331,\n",
       "                       0.0302,  0.0272, -0.0172,  0.0259, -0.0358,  0.0468,  0.0258, -0.0422,\n",
       "                       0.0323,  0.0544, -0.0284,  0.0266,  0.0091, -0.0551, -0.0222,  0.0177,\n",
       "                       0.0124, -0.0257, -0.0114, -0.0355, -0.0523, -0.0380,  0.0285, -0.0201])),\n",
       "             ('encoder.0.weight',\n",
       "              tensor([[ 0.0117,  0.0207,  0.0543,  ..., -0.0335,  0.0088, -0.0321],\n",
       "                      [ 0.0244, -0.0562, -0.0040,  ...,  0.0471,  0.0127,  0.0427],\n",
       "                      [ 0.0329,  0.0519, -0.0591,  ...,  0.0200, -0.0289,  0.0238],\n",
       "                      ...,\n",
       "                      [-0.0573, -0.0590,  0.0212,  ...,  0.0119,  0.0355,  0.0561],\n",
       "                      [ 0.0500, -0.0543, -0.0243,  ...,  0.0094, -0.0255,  0.0393],\n",
       "                      [ 0.0232, -0.0342,  0.0489,  ...,  0.0153,  0.0567,  0.0268]])),\n",
       "             ('encoder.0.bias',\n",
       "              tensor([-1.4963e-02, -1.2238e-02,  3.8046e-02, -3.8336e-02,  4.8857e-02,\n",
       "                      -4.1924e-02,  4.2281e-02, -9.6422e-04,  5.6709e-02,  2.8266e-03,\n",
       "                       3.3036e-02, -5.4136e-02,  7.1177e-03,  5.1911e-02,  9.7281e-03,\n",
       "                       3.2660e-02,  4.3473e-02, -5.0467e-02, -6.4269e-02, -9.4004e-04,\n",
       "                       2.3431e-02,  6.1972e-02,  1.1576e-02, -3.0719e-02, -2.4780e-02,\n",
       "                       3.6668e-02, -2.4849e-02, -4.9929e-02, -5.1103e-02,  3.4137e-02,\n",
       "                       3.5567e-02,  5.5865e-02,  3.5407e-02,  4.6977e-02, -4.3341e-02,\n",
       "                      -3.4913e-02,  5.2000e-02, -5.1925e-02, -2.6916e-02,  1.4897e-02,\n",
       "                       5.2618e-02, -3.1253e-02, -4.6240e-02, -5.4643e-02, -2.8803e-04,\n",
       "                       2.2221e-02,  3.8112e-02,  6.0062e-03, -6.1049e-02,  2.7141e-02,\n",
       "                       4.0508e-02,  4.9442e-02, -3.5954e-02,  2.5201e-02,  3.0115e-02,\n",
       "                       5.5986e-02, -2.1865e-02,  1.1895e-02, -5.1725e-02,  3.4037e-02,\n",
       "                       5.1528e-03,  4.5462e-02, -5.4647e-02, -2.7446e-02, -2.2390e-02,\n",
       "                      -2.1707e-03, -6.7027e-03, -2.6578e-04,  5.5299e-02,  4.1222e-02,\n",
       "                       5.6040e-02,  9.8417e-03, -8.6828e-03, -3.7102e-03, -3.3377e-02,\n",
       "                       1.1735e-02, -1.3046e-02, -5.6473e-02, -4.8578e-02,  7.9263e-04,\n",
       "                       2.8417e-02, -4.8061e-02, -4.5625e-02,  3.2865e-02, -5.0159e-02,\n",
       "                      -2.3508e-02, -2.3340e-02,  4.0732e-02, -3.8690e-02, -5.6006e-02,\n",
       "                      -3.0099e-02,  2.1805e-02,  2.3044e-02, -2.5100e-03,  5.1580e-02,\n",
       "                      -1.8940e-02, -4.6910e-03,  3.2914e-02, -2.2266e-02,  5.6741e-03,\n",
       "                       1.2040e-03, -3.4328e-02, -3.1714e-02, -3.3402e-02, -4.6287e-02,\n",
       "                      -2.7817e-02,  5.3968e-02,  9.7501e-03, -1.9903e-02,  2.3400e-02,\n",
       "                       3.3501e-02,  2.5999e-04,  3.9998e-02,  3.8060e-02,  2.4829e-02,\n",
       "                       4.2667e-02,  3.4180e-02,  3.8962e-02,  5.8318e-02, -2.1725e-02,\n",
       "                       3.2725e-02, -2.8804e-02,  3.0365e-03, -4.4222e-03,  9.4139e-03,\n",
       "                      -1.0892e-02, -4.2696e-02, -2.6549e-02,  1.3942e-02,  3.4506e-02,\n",
       "                      -3.1504e-02,  4.9428e-02, -3.6312e-02, -4.6909e-02,  4.6460e-02,\n",
       "                      -3.5143e-02, -2.7391e-02, -2.7923e-02, -9.3291e-03,  2.4044e-02,\n",
       "                      -5.5866e-02, -2.8826e-02, -3.7082e-02, -2.4588e-02, -3.5899e-02,\n",
       "                       1.9532e-02, -3.4686e-02, -2.5045e-02,  5.2689e-03, -1.7518e-02,\n",
       "                       5.0203e-02,  2.9198e-02, -1.8506e-02,  9.8562e-03, -1.9434e-02,\n",
       "                       5.1581e-02,  2.4262e-02,  4.1994e-02,  4.2562e-02,  3.5068e-02,\n",
       "                       2.4955e-02, -3.1991e-02, -9.2155e-03, -2.1395e-02, -6.1630e-02,\n",
       "                      -3.5564e-02,  2.6113e-02,  2.8831e-02, -2.4245e-02,  8.2964e-03,\n",
       "                      -2.4921e-02,  2.3103e-02, -4.9968e-02, -3.5055e-02, -3.2791e-02,\n",
       "                      -3.5622e-02,  2.2932e-02, -1.9033e-02,  5.6905e-02,  4.0803e-02,\n",
       "                      -2.8558e-02, -5.9802e-02, -3.2247e-02,  5.5283e-02,  1.5161e-03,\n",
       "                       2.1995e-02, -8.5656e-03, -1.5854e-02, -4.6710e-02,  1.3367e-03,\n",
       "                       3.7166e-02,  3.2409e-02,  2.9147e-02,  4.2853e-02,  3.8021e-02,\n",
       "                      -1.2766e-02, -5.4640e-02,  1.7457e-02, -5.3077e-02,  4.5150e-02,\n",
       "                      -3.4310e-02,  2.6845e-02,  1.8383e-02, -3.2225e-02,  5.6887e-04,\n",
       "                      -2.9539e-02,  5.8577e-02,  6.0985e-02,  3.0881e-03, -5.2381e-02,\n",
       "                      -1.5802e-02,  5.2104e-02,  1.6228e-02, -4.6767e-02, -3.8658e-02,\n",
       "                       2.6787e-02, -4.7270e-02, -5.3399e-03,  1.7325e-02, -2.4001e-02,\n",
       "                       1.4343e-04, -3.5576e-02, -2.8551e-02,  1.0328e-02,  6.0222e-02,\n",
       "                       2.8213e-02,  5.7579e-02, -1.7446e-02, -1.2919e-02,  5.6723e-02,\n",
       "                       4.9139e-02, -8.5710e-03,  4.0821e-02,  2.4232e-02,  5.0097e-02,\n",
       "                       6.7852e-03,  5.3102e-02,  5.5905e-02, -8.9610e-03, -5.5749e-02,\n",
       "                      -5.3354e-02, -6.8264e-03,  2.0517e-02,  2.9765e-03,  1.4910e-02,\n",
       "                       2.8211e-02, -1.9705e-02,  3.0624e-02, -1.8233e-02,  2.6565e-02,\n",
       "                      -4.8554e-02, -2.6074e-02,  1.6042e-02, -3.5082e-02, -5.1419e-02,\n",
       "                      -1.9110e-03,  9.1810e-03,  2.0813e-02, -3.8313e-02,  1.2186e-02,\n",
       "                       2.6242e-02,  2.0118e-02,  4.0625e-02,  5.6573e-05,  5.3510e-02,\n",
       "                      -1.6842e-02,  2.5173e-02, -1.4443e-02,  1.4846e-02,  5.0979e-02,\n",
       "                       4.5275e-02,  1.3443e-02, -4.1504e-02, -1.2727e-02,  5.0602e-02,\n",
       "                       1.7903e-02,  3.7485e-02, -6.0070e-02, -1.5952e-02, -2.1909e-02,\n",
       "                       5.5752e-02,  5.7760e-03,  2.5581e-02,  5.4917e-03, -9.5069e-03,\n",
       "                       3.9769e-02, -9.9098e-03, -5.2560e-02])),\n",
       "             ('encoder.2.weight',\n",
       "              tensor([[ 0.0332,  0.0355,  0.0207,  ...,  0.0364, -0.0487,  0.0510],\n",
       "                      [ 0.0440, -0.0054, -0.0180,  ...,  0.0293,  0.0268,  0.0317],\n",
       "                      [-0.0267,  0.0254,  0.0325,  ..., -0.0334,  0.0113,  0.0273],\n",
       "                      ...,\n",
       "                      [ 0.0305, -0.0556, -0.0373,  ..., -0.0552,  0.0133, -0.0065],\n",
       "                      [ 0.0417,  0.0071,  0.0604,  ..., -0.0410,  0.0422, -0.0230],\n",
       "                      [-0.0153, -0.0396,  0.0460,  ..., -0.0444,  0.0062,  0.0241]])),\n",
       "             ('encoder.2.bias',\n",
       "              tensor([-4.9619e-02,  2.5387e-02, -9.1741e-03, -3.9239e-02,  2.5737e-02,\n",
       "                       4.3085e-02, -2.2505e-02, -5.0615e-03, -2.0258e-02, -6.4650e-03,\n",
       "                       5.5829e-02,  3.0765e-02, -5.2417e-02, -3.5690e-03, -1.6238e-02,\n",
       "                       1.0123e-02,  3.5848e-03,  5.8437e-03, -9.5639e-03, -1.0335e-02,\n",
       "                      -5.6284e-02,  4.1500e-02,  2.9315e-02, -2.6121e-02, -4.4627e-02,\n",
       "                       4.2881e-03,  3.3835e-04, -1.2732e-02, -2.1081e-02,  5.3895e-02,\n",
       "                      -6.7854e-03,  3.4755e-02, -4.3627e-02, -5.0794e-02,  3.3686e-02,\n",
       "                       4.2859e-02,  4.6860e-02, -2.4660e-02, -2.6173e-02, -3.7393e-02,\n",
       "                      -2.9516e-02, -1.0384e-02, -4.8957e-02,  2.9610e-02, -5.0543e-02,\n",
       "                       3.7509e-02, -1.6093e-02, -3.8423e-02,  5.3002e-02, -2.1119e-02,\n",
       "                      -2.5097e-02,  2.6305e-02,  1.1223e-02,  6.9972e-03,  4.4722e-02,\n",
       "                       2.5031e-02, -2.3205e-02,  3.1161e-02, -4.6417e-02, -2.7196e-02,\n",
       "                      -5.2998e-02, -4.8298e-02, -5.5100e-02, -3.2523e-02,  7.4769e-03,\n",
       "                       1.7095e-02, -2.6369e-03,  1.3483e-02, -3.0796e-02, -1.4989e-02,\n",
       "                      -5.0863e-02, -6.0576e-02, -4.7676e-02, -3.9602e-02,  3.9583e-02,\n",
       "                      -2.3235e-02,  1.3585e-02,  2.2324e-02, -2.8230e-02,  5.8110e-02,\n",
       "                      -1.7623e-02,  2.9912e-02, -1.4278e-02, -5.0621e-02, -4.6400e-02,\n",
       "                      -3.5571e-02,  8.6305e-03, -4.8337e-02, -6.3462e-04, -3.1520e-03,\n",
       "                       3.4892e-02,  6.0651e-02, -4.2244e-02,  3.8794e-02,  4.8570e-02,\n",
       "                       6.2929e-03, -2.0032e-02, -2.5391e-03,  4.9005e-02,  3.9344e-02,\n",
       "                      -2.1694e-02, -4.3689e-02, -1.0090e-02,  4.7069e-02, -4.1101e-02,\n",
       "                      -5.0783e-02, -4.6588e-02, -4.4039e-02, -2.8092e-02, -4.9775e-02,\n",
       "                      -3.0258e-02,  3.5782e-02, -1.3509e-02, -1.7770e-02,  3.5724e-02,\n",
       "                      -6.4827e-03,  3.7047e-02,  3.7438e-02,  4.3529e-02, -1.8170e-02,\n",
       "                       4.1138e-02, -3.5916e-02, -5.6142e-02, -1.0886e-02,  5.0897e-02,\n",
       "                       1.6546e-03,  4.4907e-03,  5.5014e-02, -2.9435e-02, -4.0771e-02,\n",
       "                      -3.7489e-02, -7.8095e-03, -5.3585e-02,  5.4835e-02, -1.8946e-02,\n",
       "                      -2.2365e-02, -2.5674e-02,  2.6557e-02, -1.9456e-02, -3.5765e-02,\n",
       "                      -2.3591e-02, -9.8719e-03,  1.6814e-02,  3.3220e-02,  2.3696e-02,\n",
       "                      -1.5830e-02, -3.0309e-02,  9.2419e-05,  5.7944e-02, -2.1831e-02,\n",
       "                      -3.2347e-02,  4.2167e-03, -3.1410e-02,  4.5154e-02,  4.7933e-02,\n",
       "                       1.7578e-02, -5.5630e-03, -2.4467e-02, -1.0832e-02, -5.0132e-03,\n",
       "                      -7.3959e-03,  3.5679e-02,  3.8275e-02, -1.3960e-02,  4.3606e-02,\n",
       "                       3.8330e-02, -2.3571e-02,  5.2339e-02,  2.1876e-03, -5.7969e-02,\n",
       "                      -1.5604e-02, -2.5903e-02,  4.4122e-02, -3.7785e-02, -4.8430e-02,\n",
       "                       1.1889e-02,  2.9726e-02,  1.8523e-02, -2.5528e-02,  4.6185e-03,\n",
       "                       5.5060e-02,  5.2172e-02, -4.1475e-02,  3.0415e-02, -1.1293e-02,\n",
       "                       3.6393e-02, -1.1254e-02,  1.9758e-02, -5.2725e-02, -5.5655e-02,\n",
       "                      -3.1312e-02,  4.5112e-02,  2.1622e-02, -4.7178e-02,  3.6908e-02,\n",
       "                       7.1724e-03, -4.2003e-02,  4.7220e-03, -1.9267e-02, -2.2378e-02,\n",
       "                      -1.1078e-02,  5.1751e-03, -4.9876e-02,  5.0199e-02, -3.8365e-02,\n",
       "                      -1.5119e-02,  9.3213e-03,  5.2107e-02,  6.5124e-03,  2.3193e-02,\n",
       "                       3.1443e-03, -4.8421e-03, -1.7076e-02, -3.5766e-03, -4.1893e-03,\n",
       "                      -8.3203e-03,  4.5238e-02,  4.5846e-02, -3.0723e-02, -1.7679e-02,\n",
       "                       2.5187e-02, -3.8000e-02,  1.4177e-02,  3.7432e-02, -3.1211e-02,\n",
       "                      -1.5699e-02, -1.9739e-02,  1.0886e-02,  5.1799e-02, -5.2530e-02,\n",
       "                      -2.8036e-02, -2.6746e-02,  2.0357e-02,  2.5385e-02, -1.0781e-02,\n",
       "                      -5.3596e-02,  4.8560e-03, -2.8777e-02,  6.3856e-03, -3.6893e-02,\n",
       "                       5.1614e-02, -3.4645e-02, -5.3715e-02,  2.6988e-02, -5.5720e-02,\n",
       "                      -2.3931e-02,  2.4488e-02, -4.2795e-02, -5.5642e-02, -1.9371e-02,\n",
       "                      -1.3745e-02, -9.3932e-03, -4.0002e-03, -4.1531e-02, -5.7953e-02,\n",
       "                       1.1795e-02,  4.6118e-02,  3.2367e-02, -2.8951e-02, -2.9404e-02,\n",
       "                      -3.2256e-02,  1.6852e-02,  3.7680e-02, -7.3630e-03,  2.7616e-02,\n",
       "                      -2.3786e-02, -1.4472e-02, -2.2840e-02,  5.2042e-02,  1.9375e-02,\n",
       "                       2.2992e-02,  5.0168e-02,  5.3992e-02, -4.8137e-02,  3.2222e-02,\n",
       "                       2.5157e-02, -3.1200e-02, -2.6415e-02,  7.1934e-03, -4.9680e-02,\n",
       "                      -1.5872e-02, -4.4201e-02,  5.3395e-02, -3.5046e-03,  3.7519e-02,\n",
       "                      -5.9111e-03, -4.6867e-02,  8.2803e-03])),\n",
       "             ('encoder.4.weight',\n",
       "              tensor([[-0.0547, -0.0529,  0.0235,  ...,  0.0438,  0.0192, -0.0282],\n",
       "                      [ 0.0063,  0.0114,  0.0176,  ..., -0.0580,  0.0260, -0.0126],\n",
       "                      [ 0.0062,  0.0302,  0.0247,  ..., -0.0082, -0.0208,  0.0296],\n",
       "                      ...,\n",
       "                      [-0.0332,  0.0117,  0.0537,  ..., -0.0406,  0.0011, -0.0092],\n",
       "                      [-0.0584, -0.0053, -0.0553,  ..., -0.0104,  0.0314,  0.0253],\n",
       "                      [-0.0381, -0.0317,  0.0577,  ..., -0.0572,  0.0171, -0.0493]])),\n",
       "             ('encoder.4.bias',\n",
       "              tensor([ 0.0287,  0.0326, -0.0376, -0.0047, -0.0005,  0.0549,  0.0002,  0.0031,\n",
       "                       0.0554,  0.0216, -0.0066,  0.0145,  0.0508,  0.0520, -0.0128, -0.0144,\n",
       "                       0.0429,  0.0527, -0.0089,  0.0250,  0.0560, -0.0165, -0.0077,  0.0223,\n",
       "                       0.0022, -0.0581, -0.0281, -0.0208, -0.0182,  0.0288,  0.0025,  0.0046,\n",
       "                      -0.0404, -0.0390, -0.0391, -0.0385,  0.0271, -0.0295, -0.0546,  0.0430,\n",
       "                       0.0543, -0.0478,  0.0035,  0.0516, -0.0457, -0.0459, -0.0342, -0.0297,\n",
       "                       0.0528,  0.0597, -0.0132,  0.0273, -0.0533, -0.0049,  0.0044,  0.0397,\n",
       "                       0.0321, -0.0117, -0.0269, -0.0304,  0.0426,  0.0238,  0.0338,  0.0131,\n",
       "                       0.0484,  0.0026, -0.0232, -0.0178,  0.0537, -0.0279, -0.0239,  0.0359,\n",
       "                       0.0567,  0.0344,  0.0436,  0.0233,  0.0188, -0.0061, -0.0530, -0.0205,\n",
       "                      -0.0429, -0.0334, -0.0541,  0.0336,  0.0056, -0.0234,  0.0326, -0.0381,\n",
       "                       0.0059, -0.0562, -0.0096,  0.0513,  0.0185, -0.0031, -0.0429,  0.0039,\n",
       "                      -0.0407, -0.0403, -0.0336,  0.0577, -0.0458, -0.0333, -0.0403, -0.0077,\n",
       "                       0.0220, -0.0160, -0.0165,  0.0114,  0.0209,  0.0576, -0.0100, -0.0025,\n",
       "                       0.0196,  0.0260, -0.0467,  0.0556,  0.0243, -0.0139, -0.0407, -0.0273,\n",
       "                      -0.0166,  0.0171,  0.0386,  0.0448, -0.0403, -0.0303,  0.0029, -0.0226,\n",
       "                      -0.0541, -0.0205,  0.0428, -0.0212, -0.0020, -0.0551,  0.0268, -0.0147,\n",
       "                       0.0448, -0.0091,  0.0223,  0.0099,  0.0171, -0.0165, -0.0352, -0.0256,\n",
       "                      -0.0460, -0.0092,  0.0501,  0.0455, -0.0308, -0.0578,  0.0189, -0.0401,\n",
       "                      -0.0311,  0.0479, -0.0158,  0.0544,  0.0379,  0.0358, -0.0456,  0.0360,\n",
       "                       0.0496,  0.0308,  0.0154,  0.0392,  0.0114, -0.0552, -0.0258, -0.0279,\n",
       "                       0.0534, -0.0461, -0.0242, -0.0236, -0.0328, -0.0549, -0.0033, -0.0429,\n",
       "                      -0.0455,  0.0550,  0.0282,  0.0269, -0.0405,  0.0460, -0.0211,  0.0110,\n",
       "                       0.0049,  0.0335,  0.0179,  0.0079, -0.0340, -0.0299,  0.0207,  0.0486,\n",
       "                       0.0175,  0.0045,  0.0012,  0.0460, -0.0199, -0.0259, -0.0553,  0.0133,\n",
       "                      -0.0474,  0.0183, -0.0387, -0.0093, -0.0567,  0.0071,  0.0014,  0.0370,\n",
       "                       0.0069,  0.0031, -0.0152, -0.0308, -0.0248, -0.0560, -0.0267,  0.0087,\n",
       "                       0.0324,  0.0486,  0.0503,  0.0337, -0.0205,  0.0067,  0.0504,  0.0443,\n",
       "                       0.0382, -0.0532, -0.0227, -0.0592,  0.0587,  0.0132,  0.0384, -0.0382,\n",
       "                      -0.0219,  0.0490,  0.0121,  0.0540, -0.0527,  0.0366, -0.0110,  0.0428,\n",
       "                      -0.0590, -0.0586,  0.0081, -0.0518,  0.0381, -0.0041,  0.0429, -0.0153,\n",
       "                      -0.0410,  0.0482, -0.0456, -0.0082,  0.0203,  0.0058, -0.0116,  0.0397,\n",
       "                      -0.0505, -0.0504, -0.0389, -0.0273,  0.0029,  0.0576, -0.0041,  0.0331,\n",
       "                       0.0302,  0.0272, -0.0172,  0.0259, -0.0358,  0.0468,  0.0258, -0.0422,\n",
       "                       0.0323,  0.0544, -0.0284,  0.0266,  0.0091, -0.0551, -0.0222,  0.0177,\n",
       "                       0.0124, -0.0257, -0.0114, -0.0355, -0.0523, -0.0380,  0.0285, -0.0201])),\n",
       "             ('encoder.6.weight',\n",
       "              tensor([[-3.7189e-02,  4.6944e-02, -1.1005e-02,  5.6234e-03, -3.1352e-02,\n",
       "                        1.5752e-02, -2.7273e-02,  1.8857e-02, -4.8238e-02,  1.0641e-02,\n",
       "                        1.9936e-02,  4.9186e-02, -3.1065e-02,  1.9986e-02, -4.2032e-02,\n",
       "                       -3.4851e-02, -8.0820e-03, -1.8734e-02, -3.3723e-02,  3.3152e-03,\n",
       "                        1.6182e-02,  1.2880e-02, -8.2105e-03, -3.4589e-02, -1.0900e-02,\n",
       "                       -3.5357e-02,  3.8882e-02,  2.8986e-02,  2.0596e-02, -2.9159e-02,\n",
       "                        1.7009e-02, -2.7818e-02, -1.2529e-03,  2.5569e-02, -4.1977e-02,\n",
       "                        2.3822e-02,  1.3315e-02, -1.4551e-02,  4.9753e-02, -4.8628e-02,\n",
       "                        2.6607e-02, -8.5602e-03,  3.0671e-02, -3.7756e-02,  2.0938e-02,\n",
       "                        4.8490e-04,  3.7101e-02, -1.5131e-02, -2.2289e-02,  2.1215e-02,\n",
       "                       -1.7751e-02, -1.1818e-02, -7.8875e-03, -9.7479e-03,  4.7934e-02,\n",
       "                        2.7192e-02,  5.0218e-03, -5.2762e-03, -3.4302e-02,  3.4463e-02,\n",
       "                        5.2114e-02, -5.3763e-02,  1.9941e-03,  3.3173e-03, -2.7667e-02,\n",
       "                        9.8178e-03,  2.7534e-02,  3.2512e-02, -3.6974e-03,  1.7692e-03,\n",
       "                        2.7337e-02, -1.3201e-02, -2.3601e-02,  9.5120e-03, -4.0531e-02,\n",
       "                        4.8671e-02, -3.1845e-02,  4.4698e-02, -3.8886e-02,  3.0553e-02,\n",
       "                       -3.6094e-02,  1.1355e-02, -2.9929e-02,  1.1309e-02, -3.4704e-04,\n",
       "                        3.5055e-02, -1.9901e-02,  2.3359e-02, -4.9308e-02, -1.7204e-03,\n",
       "                       -2.3678e-02,  3.2606e-02, -8.2002e-03, -1.5391e-02, -1.2907e-02,\n",
       "                       -1.4844e-02,  3.6813e-02, -4.7229e-02, -9.7165e-03,  5.6029e-02,\n",
       "                       -2.4898e-02,  3.2186e-02,  1.9443e-02,  1.7481e-02,  1.2196e-03,\n",
       "                       -4.7344e-02,  4.3222e-02,  4.7215e-02, -2.7403e-02,  1.6948e-03,\n",
       "                        4.3835e-03,  4.1049e-02, -3.2021e-02,  3.3171e-04, -3.0153e-02,\n",
       "                        1.0151e-02,  4.3123e-02,  4.9251e-02, -6.7357e-04, -3.0204e-02,\n",
       "                        2.7656e-02, -6.1098e-03, -4.9112e-02,  1.6370e-02,  1.9254e-02,\n",
       "                       -2.4919e-02, -2.5744e-02,  3.7166e-02,  2.5047e-03, -5.2788e-02,\n",
       "                       -4.4230e-03, -2.7973e-02,  1.8952e-02,  4.1691e-02,  4.4663e-02,\n",
       "                        3.9975e-03, -5.3802e-02, -1.1962e-02, -4.4521e-02,  2.0408e-02,\n",
       "                       -8.0125e-03, -5.8902e-02, -4.5402e-02,  3.2429e-02, -3.9019e-03,\n",
       "                        2.0325e-02, -2.6500e-02,  1.0125e-02, -2.2942e-03,  3.3321e-02,\n",
       "                        1.9792e-02,  4.0252e-02, -3.4877e-02,  1.1168e-02, -5.1367e-02,\n",
       "                       -2.3342e-02,  2.9820e-02,  1.3874e-02, -6.0435e-02,  4.2842e-03,\n",
       "                       -1.7680e-02, -1.4468e-02,  1.4050e-02,  1.8944e-02,  6.4275e-03,\n",
       "                       -1.6993e-02, -1.3590e-02, -5.8201e-02,  1.7770e-02,  4.0640e-02,\n",
       "                       -1.3046e-02,  6.8588e-03,  5.6701e-03,  1.7572e-02,  3.1051e-02,\n",
       "                        3.1562e-02,  4.8044e-02,  4.5333e-02,  4.9698e-03, -2.4903e-02,\n",
       "                       -1.1032e-03,  5.1411e-02, -2.4554e-02, -2.0079e-02,  3.1565e-02,\n",
       "                        4.8694e-02,  4.2489e-02,  3.7515e-02,  3.8997e-02, -1.1935e-03,\n",
       "                       -1.0208e-03, -9.5210e-03,  4.3495e-02,  1.4961e-02,  6.9518e-03,\n",
       "                       -2.5174e-02,  4.1699e-02,  9.6476e-04,  4.8732e-02,  1.4309e-02,\n",
       "                       -2.0529e-03,  3.7390e-02, -2.7907e-02, -5.0545e-03,  2.7457e-02,\n",
       "                        3.0533e-02, -7.9869e-03, -1.2628e-02,  2.9691e-02,  3.4783e-02,\n",
       "                        2.8980e-02, -2.1860e-02, -1.9735e-02, -3.1474e-02,  3.2299e-02,\n",
       "                        2.3592e-03,  5.4773e-02,  4.6396e-02, -2.6415e-02, -1.2859e-02,\n",
       "                        2.3726e-02, -4.8864e-02, -3.9726e-02,  9.8365e-03, -2.4572e-02,\n",
       "                       -1.2527e-02,  4.3354e-02, -5.9471e-02,  4.7703e-02, -4.4122e-02,\n",
       "                       -3.0185e-02,  2.1309e-02, -3.2712e-02,  5.7674e-02,  4.8627e-02,\n",
       "                        3.6183e-03,  4.1796e-03,  2.0138e-02,  4.4014e-02,  4.5170e-02,\n",
       "                       -3.3867e-02, -3.4626e-02,  1.3540e-04,  1.1570e-02, -2.7818e-02,\n",
       "                       -1.3863e-02, -3.2658e-02, -3.8479e-02, -4.1833e-02,  2.7757e-02,\n",
       "                       -2.0030e-02,  2.6088e-02,  4.1234e-02, -2.2386e-02, -3.8927e-03,\n",
       "                       -2.6646e-03,  7.1491e-03,  3.7647e-02, -5.1644e-03,  2.7926e-02,\n",
       "                        4.6196e-02, -5.1873e-03, -4.9269e-03, -1.2369e-02,  1.5474e-02,\n",
       "                       -1.5156e-02, -2.8795e-02, -3.1281e-02,  4.6285e-02, -2.5075e-02,\n",
       "                       -4.4492e-02,  2.1560e-03,  2.1615e-02,  3.1723e-02, -2.7985e-02,\n",
       "                       -5.0962e-02, -2.1262e-02,  1.8036e-02,  2.6617e-03, -6.2577e-03,\n",
       "                        3.4255e-02,  4.6385e-02,  4.7824e-02,  6.0334e-03, -2.2731e-03,\n",
       "                       -4.3557e-02,  3.5122e-02, -1.9629e-02],\n",
       "                      [ 2.4524e-02, -1.5457e-02, -5.4498e-03, -2.7105e-02,  4.1479e-02,\n",
       "                        1.0199e-02,  2.8348e-02, -5.2694e-02, -6.9805e-03, -1.4659e-02,\n",
       "                        2.7790e-02,  5.4349e-02,  3.4416e-02,  1.1351e-02, -7.2205e-03,\n",
       "                       -2.2169e-02, -5.3640e-02,  1.5940e-02, -4.5996e-02, -3.5268e-02,\n",
       "                        4.6656e-02, -3.7651e-02,  2.0127e-02,  2.9789e-02,  1.2160e-03,\n",
       "                        4.1376e-02, -2.1869e-03, -3.2955e-02,  2.2809e-02,  1.8461e-02,\n",
       "                       -1.0095e-03, -3.8174e-02,  1.1996e-02,  4.2864e-02,  1.7319e-02,\n",
       "                        2.1266e-02,  2.6542e-02,  3.4955e-02, -1.1179e-02, -6.2831e-02,\n",
       "                        2.4339e-02, -3.8402e-02,  5.1076e-02,  4.7825e-02, -1.8676e-02,\n",
       "                       -2.2787e-03, -1.5764e-02,  1.5488e-02,  6.7168e-03, -2.2455e-02,\n",
       "                       -8.3680e-04,  2.3910e-03,  4.3880e-02,  1.4785e-02, -3.2680e-02,\n",
       "                       -7.1845e-03,  1.8536e-02, -2.1255e-02,  2.8603e-02,  4.0638e-02,\n",
       "                        4.4652e-02,  2.2561e-02, -4.8560e-02,  1.0301e-02, -1.3091e-02,\n",
       "                       -3.3941e-02,  4.0184e-02, -3.5601e-02, -7.5839e-03, -1.4914e-02,\n",
       "                        2.0593e-02,  5.5223e-03,  4.2525e-02, -5.3158e-02, -3.9173e-02,\n",
       "                        2.8256e-02,  4.9291e-02,  1.8504e-02,  2.4247e-02, -3.5187e-02,\n",
       "                        2.2457e-02,  1.7804e-02, -4.4444e-02, -2.2438e-02,  1.6986e-02,\n",
       "                        4.5257e-02, -3.1874e-02, -3.6715e-02,  4.7282e-03, -4.9370e-02,\n",
       "                       -5.2543e-02, -3.9508e-02, -4.7221e-02,  2.9946e-02,  5.6496e-02,\n",
       "                       -1.0090e-02, -2.4939e-02,  1.3931e-02, -4.8259e-02, -2.3203e-02,\n",
       "                        4.6058e-02, -2.0105e-02, -4.1134e-02, -4.0464e-02,  3.1366e-02,\n",
       "                       -8.5756e-03, -1.8348e-02,  5.4871e-03, -5.3194e-02, -4.5772e-02,\n",
       "                        4.8068e-02, -1.4440e-02,  3.8035e-02, -1.4024e-03,  1.5925e-03,\n",
       "                        2.5962e-02,  4.1937e-02,  3.5378e-02, -2.2323e-02,  5.8367e-02,\n",
       "                        8.5448e-03,  4.1227e-02,  1.9108e-02, -1.1155e-02,  3.2558e-02,\n",
       "                       -1.4501e-02, -3.8504e-02, -5.2507e-02,  3.8753e-02,  5.1665e-02,\n",
       "                       -1.2204e-02, -3.8693e-02,  3.9523e-02, -2.9023e-02,  6.0365e-03,\n",
       "                        3.9295e-03,  2.3920e-02, -4.1696e-02,  9.4126e-03,  4.0202e-02,\n",
       "                        1.1874e-02,  2.8395e-02, -3.0026e-02,  1.1456e-02,  7.2315e-03,\n",
       "                       -1.0474e-02, -2.9764e-02, -1.7531e-02, -2.3884e-02, -4.4922e-02,\n",
       "                        5.5033e-02, -5.4515e-02,  2.7634e-03,  3.0181e-02, -5.0116e-02,\n",
       "                        5.3289e-02,  1.5003e-02, -4.6580e-02,  3.4903e-02,  2.9389e-02,\n",
       "                        2.8289e-03,  2.2146e-02,  3.7592e-02, -1.8105e-02, -3.7349e-04,\n",
       "                        6.7842e-03, -4.6102e-03, -6.5966e-03,  4.5210e-02, -3.4738e-02,\n",
       "                        2.0052e-02, -1.6722e-02, -2.8229e-02, -3.6204e-02, -2.3626e-02,\n",
       "                       -3.4781e-02,  2.0791e-02, -2.8241e-02, -2.6832e-02, -3.9932e-02,\n",
       "                        2.2730e-02,  5.3444e-02, -2.2558e-03, -9.1220e-03, -4.9401e-02,\n",
       "                       -9.7474e-03, -1.4752e-02, -8.0751e-03, -3.1152e-02,  1.3049e-02,\n",
       "                        3.4665e-02, -2.9655e-02,  2.9687e-02, -3.8397e-02,  3.7447e-02,\n",
       "                       -2.1698e-02,  3.7453e-02, -4.4959e-02,  2.6242e-02,  3.8984e-02,\n",
       "                        8.7348e-03, -7.1084e-03,  3.2954e-02,  3.0517e-02, -4.3022e-02,\n",
       "                       -3.0015e-02, -6.5336e-03,  5.5255e-03,  4.4792e-02, -1.1830e-02,\n",
       "                       -4.1948e-02,  4.1008e-02,  1.2798e-02, -3.0944e-02,  1.3662e-02,\n",
       "                        2.8063e-02, -4.7250e-02, -3.7386e-02, -4.6655e-02,  2.3167e-03,\n",
       "                        4.8495e-03,  3.8139e-02, -8.7955e-03, -3.7660e-02,  4.9160e-02,\n",
       "                        3.8054e-02, -3.4999e-02,  9.8893e-03, -5.0803e-02, -3.5743e-02,\n",
       "                       -1.0240e-02,  1.2459e-02, -2.2705e-03, -2.4273e-02,  1.3928e-02,\n",
       "                       -1.6947e-02,  5.6511e-02,  5.7018e-03, -5.1252e-02, -1.6326e-02,\n",
       "                        3.9394e-03, -4.1833e-02,  2.8672e-02,  5.3263e-02,  6.3691e-03,\n",
       "                       -4.7806e-02,  2.3549e-03, -4.4363e-02,  1.8741e-03,  4.5937e-02,\n",
       "                       -5.1915e-02,  1.1476e-02,  2.0346e-02,  3.5962e-02, -2.1206e-02,\n",
       "                        2.9497e-02,  8.1713e-03, -2.7235e-03, -4.4443e-02, -4.6256e-02,\n",
       "                        2.8478e-02,  8.9732e-04,  1.4585e-02, -4.5555e-02, -1.0359e-02,\n",
       "                        1.8232e-02,  3.9091e-02,  2.2930e-02, -2.0846e-02,  1.8016e-02,\n",
       "                        2.0364e-02, -5.0958e-02, -3.3451e-02,  1.0339e-02,  1.2806e-02,\n",
       "                        2.1275e-03, -3.8761e-02, -5.2858e-02,  2.1297e-02, -2.5411e-02,\n",
       "                        4.3587e-02,  1.2416e-02, -3.8184e-02,  4.2697e-03, -4.7961e-02,\n",
       "                       -1.6019e-02,  2.4504e-02,  2.6307e-02],\n",
       "                      [-2.0316e-02, -9.6285e-02,  1.0261e-01, -3.2173e-02, -1.7686e-01,\n",
       "                       -1.5992e-01, -2.9611e-02, -3.4832e-02, -1.2540e-01, -1.2841e-01,\n",
       "                        9.5565e-02, -1.9607e-01, -1.5943e-02,  1.0827e-02, -1.1575e-01,\n",
       "                       -2.1187e-01, -9.9451e-02,  8.9709e-03,  2.1632e-01, -1.1959e-01,\n",
       "                        5.5401e-03,  1.3255e-01,  1.4899e-01, -1.0324e-01, -1.2707e-01,\n",
       "                        1.6401e-01,  4.0400e-02,  1.7027e-01,  8.7221e-02, -4.2746e-02,\n",
       "                       -3.4619e-02,  1.5836e-01,  1.5195e-01, -6.2426e-02,  2.3868e-02,\n",
       "                        4.8139e-02, -1.5516e-02,  1.9014e-02, -5.9390e-02, -7.2411e-02,\n",
       "                       -4.6415e-02, -1.2471e-02, -3.6774e-02, -8.8947e-02,  8.6621e-02,\n",
       "                        2.0609e-01,  1.0903e-01, -2.7300e-01, -7.5479e-02, -1.1882e-01,\n",
       "                        1.0893e-01, -1.2431e-01, -4.8692e-02,  1.4312e-01, -9.7062e-03,\n",
       "                       -1.9590e-02, -5.0692e-02,  9.6729e-02,  5.5382e-02, -1.4410e-02,\n",
       "                        6.9692e-03,  1.5914e-01, -8.5108e-02, -1.0536e-01,  1.1186e-01,\n",
       "                       -4.4848e-03,  1.3492e-01,  7.4263e-02, -1.6191e-02, -1.2457e-01,\n",
       "                       -1.4077e-01,  1.9934e-01,  1.4336e-01, -8.8172e-02, -5.9421e-02,\n",
       "                        1.4087e-02, -1.2429e-01,  9.1162e-02,  4.3484e-03,  2.7347e-02,\n",
       "                       -6.0741e-03, -1.0349e-01,  1.1943e-01, -1.3403e-02,  6.4685e-02,\n",
       "                       -7.1615e-02, -2.0271e-01,  8.4550e-02,  8.4077e-02,  1.1619e-01,\n",
       "                        1.5616e-02,  8.8747e-02,  4.7760e-02, -3.4653e-02, -2.4256e-02,\n",
       "                       -1.2555e-01,  2.3466e-02,  4.2541e-02,  1.5293e-01, -1.2094e-01,\n",
       "                       -9.5002e-02, -2.6417e-01,  7.9958e-03, -1.4776e-01, -8.2340e-02,\n",
       "                       -1.5181e-01,  2.4004e-01,  1.2566e-01,  6.1879e-03,  5.7213e-03,\n",
       "                        1.3415e-01, -2.0323e-01, -1.4789e-01, -8.8935e-02,  1.0747e-01,\n",
       "                        3.5156e-02,  8.2897e-02, -2.4635e-03,  1.5613e-01,  1.2667e-01,\n",
       "                        5.6318e-02, -1.0521e-02, -2.7875e-02,  2.1177e-01,  1.8642e-02,\n",
       "                       -5.6822e-02, -1.0392e-01,  9.8004e-02,  1.6419e-01,  8.9988e-02,\n",
       "                       -7.5408e-02, -6.7830e-02, -9.6637e-02,  7.3080e-02,  8.8043e-02,\n",
       "                        4.1664e-03,  1.0966e-01, -6.3779e-02, -6.7659e-02,  1.2731e-01,\n",
       "                        7.6758e-02, -9.2739e-02, -8.8561e-02,  7.1109e-02, -1.5328e-01,\n",
       "                       -1.6555e-01, -1.9514e-01, -1.1173e-01,  1.5975e-01,  3.8866e-03,\n",
       "                       -3.2425e-01,  8.3607e-02, -3.8278e-01,  1.1044e-01,  5.1202e-02,\n",
       "                       -4.5579e-03, -4.2416e-02, -8.7258e-02,  2.4013e-02, -1.3147e-01,\n",
       "                        1.0023e-02, -7.1970e-02,  2.1046e-02,  2.7334e-02,  1.9261e-01,\n",
       "                       -7.1600e-02,  3.7654e-02,  1.1379e-01, -7.0130e-02,  8.1091e-02,\n",
       "                        4.0974e-04, -1.1021e-01,  1.2283e-01, -1.0224e-01,  6.9592e-02,\n",
       "                        9.6882e-02, -2.7158e-01, -1.0069e-01,  4.9476e-02, -6.2004e-02,\n",
       "                        1.3684e-01, -6.4233e-02,  1.2084e-01, -3.4394e-02,  3.0733e-03,\n",
       "                        5.5881e-03,  7.3628e-02, -2.5830e-02,  1.8052e-01,  8.7811e-02,\n",
       "                        8.9351e-02, -2.5951e-02, -5.2897e-02,  1.1058e-01,  7.4192e-02,\n",
       "                        4.0209e-02, -1.2314e-01,  6.1524e-02,  5.2661e-02, -2.9071e-02,\n",
       "                        2.2744e-02,  1.2790e-01,  1.6432e-01, -3.9449e-02,  3.4921e-02,\n",
       "                        9.0005e-02,  1.5093e-01, -3.0077e-02,  4.4673e-02, -1.8741e-01,\n",
       "                        1.4483e-01,  1.9072e-01,  1.3350e-01,  1.2943e-01,  1.1829e-01,\n",
       "                        1.1188e-02, -3.4911e-01, -1.1533e-01,  3.4876e-03, -2.2543e-03,\n",
       "                        1.0023e-01, -7.1314e-02,  4.0205e-02, -1.0973e-02, -1.1606e-01,\n",
       "                       -1.7078e-01, -1.9991e-02,  1.3753e-01, -1.3379e-01,  1.8698e-01,\n",
       "                       -1.1614e-01,  2.3884e-01, -2.5046e-02, -8.3294e-02, -8.5924e-02,\n",
       "                        1.9760e-02,  4.6128e-02,  1.0569e-01,  1.8895e-01, -2.5521e-02,\n",
       "                       -4.0719e-02,  1.4758e-01,  2.2748e-01, -3.1367e-02, -9.2670e-02,\n",
       "                       -1.6017e-01, -1.4009e-01,  2.1194e-01, -1.2688e-01, -5.6524e-02,\n",
       "                        2.0550e-03,  1.9143e-02, -2.2314e-02, -2.5194e-02, -2.5568e-01,\n",
       "                        8.5990e-02,  9.5191e-02,  1.0074e-01, -1.5791e-01, -8.4804e-02,\n",
       "                       -1.1906e-01, -6.0864e-02, -2.7643e-02,  7.1937e-02,  1.0341e-01,\n",
       "                       -1.8380e-02,  1.1447e-01, -1.2755e-01, -6.7522e-02,  7.1290e-02,\n",
       "                       -1.9673e-01,  5.5607e-02, -9.1368e-04,  1.8154e-03, -1.2072e-01,\n",
       "                        2.6261e-01,  2.7127e-01,  1.3865e-01, -1.0059e-01, -3.7850e-02,\n",
       "                        1.7913e-02,  1.1717e-01,  7.4216e-02,  2.4562e-02,  8.5021e-02,\n",
       "                        9.2605e-03,  8.8275e-02,  8.7940e-02]])),\n",
       "             ('encoder.6.bias', tensor([-0.0152, -0.0187, -0.0592]))])"
      ]
     },
     "execution_count": 48,
     "metadata": {},
     "output_type": "execute_result"
    }
   ],
   "source": [
    "saved_net.state_dict()"
   ]
  },
  {
   "cell_type": "code",
   "execution_count": 35,
   "metadata": {},
   "outputs": [],
   "source": [
    "X, Dp, Dt, Fp = net(torch.from_numpy(normalized_scan_long_no_background.astype(np.float32)))"
   ]
  },
  {
   "cell_type": "code",
   "execution_count": 36,
   "metadata": {},
   "outputs": [
    {
     "data": {
      "text/plain": [
       "tensor([0.9508, 0.7536, 0.7255, 0.6981, 0.7537, 0.6984, 0.7253, 0.7539, 0.7257,\n",
       "        0.6983, 0.7536, 0.7258, 0.6984, 0.7534, 0.7255, 0.6984, 0.9508, 0.7537,\n",
       "        0.7254, 0.6980, 0.6981, 0.7537, 0.7253, 0.7537, 0.7257, 0.6987, 0.7534,\n",
       "        0.7254, 0.6981, 0.7537, 0.7255, 0.6985, 0.9508, 0.6981, 0.7537, 0.7254,\n",
       "        0.7539, 0.7257, 0.6985, 0.7537, 0.6987, 0.7255, 0.6981, 0.7537, 0.7253,\n",
       "        0.7536, 0.7257, 0.6984, 0.9508, 0.7534, 0.7253, 0.6984, 0.6983, 0.7534,\n",
       "        0.7258, 0.7534, 0.6987, 0.7253, 0.7537, 0.7257, 0.6981, 0.7536, 0.6985,\n",
       "        0.7254, 0.9508, 0.7539, 0.7253, 0.6984, 0.7536, 0.7253, 0.6983, 0.7537,\n",
       "        0.7253, 0.6981, 0.7534, 0.7254, 0.6980, 0.7539, 0.7253, 0.7255, 0.9508,\n",
       "        0.7536, 0.6980, 0.6987, 0.7534, 0.7255, 0.6983, 0.7536, 0.7253, 0.6983,\n",
       "        0.7539, 0.7253, 0.6985, 0.6983, 0.7536, 0.9508, 0.6985, 0.7537, 0.7255,\n",
       "        0.7255, 0.7534, 0.7254, 0.6984, 0.7534, 0.7251, 0.6984, 0.7534, 0.7254,\n",
       "        0.6980, 0.7536, 0.7253, 0.6985, 0.9508, 0.7539, 0.6987, 0.7253, 0.7536,\n",
       "        0.7253, 0.6987, 0.7537, 0.7253, 0.6985, 0.7537, 0.7253, 0.6985, 0.7534,\n",
       "        0.7254, 0.6981, 0.9508, 0.7537, 0.6984, 0.7257, 0.7534, 0.7537, 0.7253,\n",
       "        0.6985, 0.7254, 0.6983, 0.7536, 0.7253, 0.6987, 0.7539, 0.7255, 0.6987,\n",
       "        0.9508, 0.7539, 0.7254, 0.6980, 0.7537, 0.7257, 0.6984, 0.7534, 0.7254,\n",
       "        0.6981, 0.7536, 0.7257, 0.6984, 0.7254, 0.7537, 0.6985, 0.9508, 0.7537,\n",
       "        0.6981, 0.7257, 0.6981, 0.7536, 0.7254, 0.7536, 0.7257, 0.6985, 0.6985,\n",
       "        0.7539, 0.7251, 0.7537, 0.7253, 0.6983, 0.9508, 0.7534, 0.6988, 0.7253,\n",
       "        0.7536, 0.7258, 0.7253, 0.7536, 0.6987, 0.6984, 0.7539, 0.7255, 0.6981,\n",
       "        0.6984, 0.7537, 0.9508, 0.7255, 0.7534, 0.6983, 0.7257, 0.7537, 0.7251,\n",
       "        0.6984, 0.7537, 0.7253, 0.6985, 0.7537, 0.7254, 0.6987, 0.7534, 0.6985,\n",
       "        0.7255, 0.9508, 0.6980, 0.7534, 0.7257, 0.7536, 0.7253, 0.6985, 0.7537,\n",
       "        0.7254, 0.6984, 0.7536, 0.7253, 0.6985, 0.6983, 0.7534, 0.7257, 0.9508,\n",
       "        0.7537, 0.6980, 0.7253, 0.7537, 0.7254, 0.6983, 0.6987, 0.7537, 0.7257,\n",
       "        0.6984, 0.7537, 0.7254, 0.7537, 0.7253, 0.6980, 0.9508, 0.6984, 0.7536,\n",
       "        0.7257, 0.7537, 0.7257, 0.6983, 0.7536, 0.7254, 0.6987, 0.7539, 0.7257,\n",
       "        0.6985, 0.7536, 0.6981, 0.7257, 0.9508, 0.7534, 0.7254, 0.6985, 0.7536,\n",
       "        0.7257, 0.6983, 0.7536, 0.7254, 0.6987, 0.7537, 0.7257, 0.6983, 0.7534,\n",
       "        0.6981, 0.7253, 0.9508, 0.7537, 0.7255, 0.6981, 0.7536, 0.7537, 0.6985,\n",
       "        0.6987, 0.7253, 0.7257, 0.7536, 0.6985, 0.7254, 0.7534, 0.7255, 0.6983],\n",
       "       grad_fn=<SelectBackward0>)"
      ]
     },
     "execution_count": 36,
     "metadata": {},
     "output_type": "execute_result"
    }
   ],
   "source": [
    "X[1]"
   ]
  },
  {
   "cell_type": "code",
   "execution_count": 37,
   "metadata": {},
   "outputs": [
    {
     "data": {
      "text/plain": [
       "array([1.30231222, 0.79474696, 0.5139521 , 0.43208811, 0.76424263,\n",
       "       0.67185225, 0.62095224, 0.89252192, 0.50431463, 0.26155427,\n",
       "       0.38166048, 0.655396  , 0.50740975, 0.36179775, 0.41590528,\n",
       "       0.57002732, 0.90807904, 0.78176067, 0.50532199, 0.54320682,\n",
       "       0.60095894, 0.57121344, 0.34920728, 0.6822784 , 0.56516249,\n",
       "       0.52304688, 0.75032289, 0.5815895 , 0.58644621, 0.60180785,\n",
       "       0.45803777, 0.61936955, 1.04339046, 0.64839691, 0.39603862,\n",
       "       0.18933549, 0.35371684, 0.56276892, 0.34228518, 0.51946218,\n",
       "       0.31336673, 0.30355206, 0.52984674, 0.43238887, 0.44295371,\n",
       "       0.47000164, 0.60064617, 0.64380376, 0.85126785, 0.67112883,\n",
       "       0.53182613, 0.44692895, 0.37113365, 0.61863096, 0.66124599,\n",
       "       0.29644392, 0.42934769, 0.63595413, 0.60450377, 0.51659329,\n",
       "       0.59525075, 0.65555411, 0.44123023, 0.33400325, 1.40246789,\n",
       "       0.30419233, 0.48434566, 0.7158809 , 0.51087295, 0.42206365,\n",
       "       0.36245095, 0.48321149, 0.36169222, 0.43522382, 0.74840753,\n",
       "       0.33835594, 0.41664359, 0.57214622, 0.42682035, 0.38715093,\n",
       "       0.92935397, 0.32338423, 0.46169784, 0.57441321, 0.57586493,\n",
       "       0.39684614, 0.2664371 , 0.4829441 , 0.55245395, 0.24152975,\n",
       "       0.44321586, 0.40303913, 0.42401989, 0.43042437, 0.56663123,\n",
       "       0.89011286, 0.41433233, 0.82045948, 0.40137058, 0.35524907,\n",
       "       0.71094432, 0.21895526, 0.26006099, 0.50620461, 0.39292735,\n",
       "       0.46957502, 0.43918318, 0.51245842, 0.49459522, 0.49179243,\n",
       "       0.47901343, 0.4193898 , 1.07421974, 0.36078016, 0.43406717,\n",
       "       0.36185816, 0.35143519, 0.64824116, 0.4588233 , 0.41880364,\n",
       "       0.54642594, 0.37898206, 0.34226302, 0.72692738, 0.35535638,\n",
       "       0.46505941, 0.47308343, 0.35127193, 0.71815899, 0.46666778,\n",
       "       0.30114705, 0.3383045 , 0.42137132, 0.23494708, 0.410309  ,\n",
       "       0.46764283, 0.28373643, 0.55171472, 0.50188712, 0.73329253,\n",
       "       0.31371914, 0.47932258, 0.35016896, 0.42588267, 0.92982093,\n",
       "       0.3994982 , 0.3954176 , 0.3606698 , 0.43422749, 0.54629754,\n",
       "       0.82607515, 0.48836696, 0.56202604, 0.43106285, 0.58299188,\n",
       "       0.61498698, 0.49826895, 0.39367507, 0.54351722, 0.43882919,\n",
       "       1.40841826, 0.30396528, 0.55343505, 0.51867889, 0.55429767,\n",
       "       0.34247003, 0.47531093, 0.52628451, 0.34787615, 0.38714575,\n",
       "       0.44531272, 0.53275319, 0.59242021, 0.5632238 , 0.51578831,\n",
       "       0.31534099, 1.03550908, 0.42470169, 0.52164619, 0.49350778,\n",
       "       0.60633439, 0.42661401, 0.36976833, 0.79408783, 0.37910261,\n",
       "       0.47928715, 0.41471225, 0.4916841 , 0.57630231, 0.61411404,\n",
       "       0.49989473, 0.9052288 , 0.42038592, 0.63962966, 0.31333661,\n",
       "       0.35014842, 0.26427585, 0.60202323, 0.5028316 , 0.4260356 ,\n",
       "       0.52918829, 0.45230508, 0.50890202, 0.37317897, 0.56760651,\n",
       "       0.48176515, 0.45514716, 0.51156815, 0.71010353, 0.57752465,\n",
       "       0.5426322 , 0.37398165, 0.45421621, 0.32741372, 0.42363239,\n",
       "       0.71093565, 0.46294241, 0.49605191, 0.85694552, 0.39018114,\n",
       "       0.3823308 , 0.53436481, 0.55359919, 0.48739307, 0.93213862,\n",
       "       0.57812623, 0.48256868, 0.61759673, 0.60904432, 0.66268783,\n",
       "       0.49462937, 0.38383874, 0.76909366, 0.34988384, 0.41928925,\n",
       "       0.53799107, 0.42791381, 0.29640375, 0.32245663, 0.30659943,\n",
       "       0.75492267, 0.42303514, 0.59396039, 0.44161804, 0.58756248,\n",
       "       0.32611446, 0.53855425, 0.49483906, 0.57618833, 0.26682318,\n",
       "       0.52722538, 0.50644625, 0.320559  , 0.50282101, 0.49451988,\n",
       "       0.53201058, 1.34362626, 0.50892127, 0.47542396, 0.55582141,\n",
       "       0.50141931, 0.52203406, 0.7835345 , 0.62826993, 0.32131024,\n",
       "       0.51967126, 0.67046923, 0.41770053, 0.46585664, 0.71712712,\n",
       "       0.78809969, 0.48623754, 0.86086884, 0.29247999, 0.43203715,\n",
       "       0.42752211, 0.46521823, 0.49502245, 0.54037374, 0.28320028,\n",
       "       0.44666782, 0.38100968, 0.64169759, 0.37446987, 0.49947027,\n",
       "       0.6643841 , 0.56590588, 0.31567214])"
      ]
     },
     "execution_count": 37,
     "metadata": {},
     "output_type": "execute_result"
    }
   ],
   "source": [
    "normalized_scan_long_no_background[0]"
   ]
  },
  {
   "cell_type": "code",
   "execution_count": 74,
   "metadata": {},
   "outputs": [
    {
     "name": "stdout",
     "output_type": "stream",
     "text": [
      "[   5.  990.  995. 1000. 1005. 1985. 1990. 1995. 2000. 2005. 2010. 2980.\n",
      " 2985. 2990. 2995. 3000. 3005. 3010.]\n"
     ]
    }
   ],
   "source": [
    "print(np.unique(bval_list))"
   ]
  },
  {
   "cell_type": "markdown",
   "metadata": {},
   "source": [
    "## Simulated Diffusion-Weighted MR Image"
   ]
  },
  {
   "cell_type": "markdown",
   "metadata": {},
   "source": [
    "Create a simulated diffusion-weighted image. The image contains three regions with different Dp, Dt, and Fp values. "
   ]
  },
  {
   "cell_type": "code",
   "execution_count": 38,
   "metadata": {},
   "outputs": [],
   "source": [
    "b_arr1 = np.arange(281)\n",
    "b_values_simulation = np.append(np.array([5,990,995,1000,5,990,995,1000]), b_arr1)"
   ]
  },
  {
   "cell_type": "code",
   "execution_count": 39,
   "metadata": {
    "scrolled": true
   },
   "outputs": [
    {
     "data": {
      "image/png": "[encoded data removed]",
      "text/plain": [
       "<Figure size 2000x2000 with 8 Axes>"
      ]
     },
     "metadata": {},
     "output_type": "display_data"
    }
   ],
   "source": [
    "# define parameter values in the three regions\n",
    "S0_region0, S0_region1, S0_region2 = 1500, 1400, 1600\n",
    "Dp_region0, Dp_region1, Dp_region2 = 0.02, 0.04, 0.06\n",
    "Dt_region0, Dt_region1, Dt_region2 = 0.0015, 0.0010, 0.0005\n",
    "Fp_region0, Fp_region1, Fp_region2 = 0.1, 0.2, 0.3\n",
    "# image size\n",
    "sx, sy, sb = 100, 100, len(b_values_simulation)\n",
    "# create image\n",
    "dwi_image = np.zeros((sx, sy, sb))\n",
    "Dp_truth = np.zeros((sx, sy))\n",
    "Dt_truth = np.zeros((sx, sy))\n",
    "Fp_truth = np.zeros((sx, sy))\n",
    "# fill image with simulated values\n",
    "for i in range(sx):\n",
    "    for j in range(sy):\n",
    "        if (40 < i < 60) and (40 < j < 60):\n",
    "            # region 0\n",
    "            dwi_image[i, j, :] = S0_region0*ivim(b_values_simulation, Dp_region0, Dt_region0, Fp_region0)\n",
    "            Dp_truth[i, j], Dt_truth[i, j], Fp_truth[i, j] = Dp_region0, Dt_region0, Fp_region0\n",
    "        elif (20 < i < 80) and (20 < j < 80):\n",
    "            # region 1\n",
    "            dwi_image[i, j, :] = S0_region1*ivim(b_values_simulation, Dp_region1, Dt_region1, Fp_region1)\n",
    "            Dp_truth[i, j], Dt_truth[i, j], Fp_truth[i, j] = Dp_region1, Dt_region1, Fp_region1\n",
    "        else:\n",
    "            # region 2\n",
    "            dwi_image[i, j, :] = S0_region2*ivim(b_values_simulation, Dp_region2, Dt_region2, Fp_region2)\n",
    "            Dp_truth[i, j], Dt_truth[i, j], Fp_truth[i, j] = Dp_region2, Dt_region2, Fp_region2\n",
    "# add some noise\n",
    "dwi_image_real = dwi_image + np.random.normal(scale=15, size=(sx, sy, sb))\n",
    "dwi_image_imag = np.random.normal(scale=15, size=(sx, sy, sb))\n",
    "dwi_image = np.sqrt(dwi_image_real**2 + dwi_image_imag**2)\n",
    "# plot simulated diffusion weighted image\n",
    "fig, ax = plt.subplots(2, 4, figsize=(20,20))\n",
    "b_id = 0\n",
    "for i in range(2):\n",
    "    for j in range(4):\n",
    "        ax[i, j].imshow(dwi_image[:, :, b_id], cmap='gray', clim=(0, 1600))\n",
    "        ax[i, j].set_title('b = ' + str(b_values_simulation[b_id]))\n",
    "        ax[i, j].set_xticks([])\n",
    "        ax[i, j].set_yticks([])\n",
    "        b_id += 1\n",
    "plt.subplots_adjust(hspace=-0.6)\n",
    "plt.show()\n"
   ]
  },
  {
   "cell_type": "markdown",
   "metadata": {},
   "source": [
    "## Inference"
   ]
  },
  {
   "cell_type": "markdown",
   "metadata": {},
   "source": [
    "Estimate IVIM parameter values for the simulated image."
   ]
  },
  {
   "cell_type": "code",
   "execution_count": 40,
   "metadata": {},
   "outputs": [],
   "source": [
    "# normalize signal\n",
    "dwi_image_long = np.reshape(dwi_image, (sx*sy, sb))\n",
    "S0 = np.expand_dims(dwi_image_long[:,0], axis=-1)\n",
    "dwi_image_long = dwi_image_long[:,1:]/S0\n",
    "\n",
    "net.eval()\n",
    "with torch.no_grad():\n",
    "    _, Dp, Dt, Fp = net(torch.from_numpy(dwi_image_long.astype(np.float32)))\n",
    "    \n",
    "Dp = Dp.numpy()\n",
    "Dt = Dt.numpy()\n",
    "Fp = Fp.numpy()\n",
    "\n",
    "# make sure Dp is the larger value between Dp and Dt\n",
    "if np.mean(Dp) < np.mean(Dt):\n",
    "    Dp, Dt = Dt, Dp\n",
    "    Fp = 1 - Fp"
   ]
  },
  {
   "cell_type": "markdown",
   "metadata": {},
   "source": [
    "Plot parameter estimates and corresponding ground truths."
   ]
  },
  {
   "cell_type": "code",
   "execution_count": 41,
   "metadata": {},
   "outputs": [
    {
     "data": {
      "image/png": "[encoded data removed]",
      "text/plain": [
       "<Figure size 2000x2000 with 12 Axes>"
      ]
     },
     "metadata": {},
     "output_type": "display_data"
    }
   ],
   "source": [
    "fig, ax = plt.subplots(2, 3, figsize=(20,20))\n",
    "\n",
    "Dp_plot = ax[0,0].imshow(np.reshape(Dp, (sx, sy)), cmap='gray', clim=(0.01, 0.07))\n",
    "ax[0,0].set_title('Dp, estimated')\n",
    "ax[0,0].set_xticks([])\n",
    "ax[0,0].set_yticks([])\n",
    "fig.colorbar(Dp_plot, ax=ax[0,0], fraction=0.046, pad=0.04)\n",
    "\n",
    "Dp_t_plot = ax[1,0].imshow(Dp_truth, cmap='gray', clim=(0.01, 0.07))\n",
    "ax[1,0].set_title('Dp, ground truth')\n",
    "ax[1,0].set_xticks([])\n",
    "ax[1,0].set_yticks([])\n",
    "fig.colorbar(Dp_t_plot, ax=ax[1,0], fraction=0.046, pad=0.04)\n",
    "\n",
    "Dt_plot = ax[0,1].imshow(np.reshape(Dt, (sx, sy)), cmap='gray', clim=(0, 0.002))\n",
    "ax[0,1].set_title('Dt, estimated')\n",
    "ax[0,1].set_xticks([])\n",
    "ax[0,1].set_yticks([])\n",
    "fig.colorbar(Dt_plot, ax=ax[0,1],fraction=0.046, pad=0.04)\n",
    "\n",
    "Dt_t_plot = ax[1,1].imshow(Dt_truth, cmap='gray', clim=(0, 0.002))\n",
    "ax[1,1].set_title('Dt, ground truth')\n",
    "ax[1,1].set_xticks([])\n",
    "ax[1,1].set_yticks([])\n",
    "fig.colorbar(Dt_t_plot, ax=ax[1,1], fraction=0.046, pad=0.04)\n",
    "\n",
    "Fp_plot = ax[0,2].imshow(np.reshape(Fp, (sx, sy)), cmap='gray', clim=(0, 0.4))\n",
    "ax[0,2].set_title('Fp, estimated')\n",
    "ax[0,2].set_xticks([])\n",
    "ax[0,2].set_yticks([])\n",
    "fig.colorbar(Fp_plot, ax=ax[0,2],fraction=0.046, pad=0.04)\n",
    "\n",
    "Fp_t_plot = ax[1,2].imshow(Fp_truth, cmap='gray', clim=(0, 0.4))\n",
    "ax[1,2].set_title('Fp, ground truth')\n",
    "ax[1,2].set_xticks([])\n",
    "ax[1,2].set_yticks([])\n",
    "fig.colorbar(Fp_t_plot, ax=ax[1,2], fraction=0.046, pad=0.04)\n",
    "\n",
    "plt.subplots_adjust(hspace=-0.5)\n",
    "plt.show()"
   ]
  },
  {
   "cell_type": "code",
   "execution_count": null,
   "metadata": {},
   "outputs": [],
   "source": []
  }
 ],
 "metadata": {
  "kernelspec": {
   "display_name": "Python 3 (ipykernel)",
   "language": "python",
   "name": "python3"
  },
  "language_info": {
   "codemirror_mode": {
    "name": "ipython",
    "version": 3
   },
   "file_extension": ".py",
   "mimetype": "text/x-python",
   "name": "python",
   "nbconvert_exporter": "python",
   "pygments_lexer": "ipython3",
   "version": "3.10.8"
  },
  "vscode": {
   "interpreter": {
    "hash": "171b6e75bd3060c45aefc9bb7844b11cc58253b93fbd982eb8ff009073488591"
   }
  }
 },
 "nbformat": 4,
 "nbformat_minor": 4
}
